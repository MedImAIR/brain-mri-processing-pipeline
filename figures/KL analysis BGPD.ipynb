{
 "cells": [
  {
   "cell_type": "code",
   "execution_count": 7,
   "metadata": {},
   "outputs": [],
   "source": [
    "import matplotlib.pyplot as plt\n",
    "import nibabel\n",
    "import numpy as np\n",
    "import pandas as pd\n",
    "from pathlib import Path\n",
    "from skimage.transform import rescale\n",
    "from tqdm import tqdm\n",
    "import os"
   ]
  },
  {
   "cell_type": "code",
   "execution_count": 31,
   "metadata": {},
   "outputs": [],
   "source": [
    "import scipy\n",
    "def compute_kl(img, brain, mask, _bin_heuristics = 'sturges'):\n",
    "    size, _bins = np.histogram(img[brain.astype(bool)], bins = _bin_heuristics)\n",
    "    bins = [(_bins[i]+_bins[i+1])/2 for i in range(len(_bins)-1)]\n",
    "\n",
    "    size_healthy, bin_edges = np.histogram(img[brain.astype(bool)^mask.astype(bool)].reshape(-1), bins=_bins)\n",
    "    size_tumor, _ = np.histogram(img[mask.astype(bool)].reshape(-1), bins = _bins)\n",
    "\n",
    "    size_healthy = np.round(size_healthy/size_healthy.sum(), 5)\n",
    "    size_tumor = np.round(size_tumor/size_tumor.sum(), 5)\n",
    "    \n",
    "    size_healthy = np.where(size_healthy>10e-6, size_healthy, 10e-6)\n",
    "    size_tumor = np.where(size_tumor>10e-6, size_tumor, 10e-6)\n",
    "\n",
    "    kl_dist = 0\n",
    "    for h,t in zip(size_healthy, size_tumor):\n",
    "        kl_dist += h * np.log2(h/t)\n",
    "\n",
    "#     kl_dist = scipy.spatial.distance.jensenshannon(size_healthy, size_tumor)\n",
    "        \n",
    "            \n",
    "    return kl_dist, size_healthy, size_tumor, _bins"
   ]
  },
  {
   "cell_type": "code",
   "execution_count": 32,
   "metadata": {},
   "outputs": [],
   "source": [
    "def compute_emd(img, brain, mask):\n",
    "    size, _bins = np.histogram(img[brain.astype(bool)], bins = 100)\n",
    "    bins = [(_bins[i]+_bins[i+1])/2 for i in range(len(_bins)-1)]\n",
    "\n",
    "    size_healthy, _ = np.histogram(img[brain.astype(bool)^mask.astype(bool)].reshape(-1), bins=_bins)\n",
    "    size_tumor, _ = np.histogram(img[mask.astype(bool)].reshape(-1), bins=_bins -1 )\n",
    "\n",
    "#     size_healthy = np.round(size_healthy/size_healthy.sum(), 5)\n",
    "#     size_tumor = np.round(size_tumor/size_tumor.sum(), 5)\n",
    "    \n",
    "#     size_healthy = np.where(size_healthy>10e-6, size_healthy, 10e-6)\n",
    "#     size_tumor = np.where(size_tumor>10e-6, size_tumor, 10e-6)\n",
    "\n",
    "    emd = scipy.stats.wasserstein_distance(size_healthy, size_tumor)\n",
    "            \n",
    "    return emd, size_healthy, size_tumor, _bins"
   ]
  },
  {
   "cell_type": "code",
   "execution_count": 33,
   "metadata": {},
   "outputs": [],
   "source": [
    "dataset = 'bgpd'\n",
    "main_img = 'FLAIR.nii.gz'\n",
    "label_name = 'mask_GTV_FLAIR.nii.gz'\n",
    "mask_name = 'FLAIR_mask.nii.gz'"
   ]
  },
  {
   "cell_type": "code",
   "execution_count": 34,
   "metadata": {},
   "outputs": [
    {
     "data": {
      "text/plain": [
       "['T2.nii.gz', 'T1_mask.nii.gz', 'T1.nii.gz', 'T1_SEG.nii.gz']"
      ]
     },
     "execution_count": 34,
     "metadata": {},
     "output_type": "execute_result"
    }
   ],
   "source": [
    "os.listdir('/anvar/public_datasets/preproc_study/schw/5_ss_shared/VS-SEG-239')"
   ]
  },
  {
   "cell_type": "code",
   "execution_count": 35,
   "metadata": {},
   "outputs": [
    {
     "name": "stderr",
     "output_type": "stream",
     "text": [
      "180it [03:02,  1.01s/it]\n"
     ]
    }
   ],
   "source": [
    "root = Path('/anvar/public_datasets/preproc_study/{}/4a_resamp/'.format(dataset)) \n",
    "\n",
    "all_kl = []\n",
    "\n",
    "for patient in tqdm(root.glob('*')):\n",
    "    if patient.is_dir():\n",
    "        img = nibabel.load(patient / main_img).get_fdata()\n",
    "        mask = nibabel.load(patient / label_name).get_fdata()\n",
    "        brain = nibabel.load('/anvar/public_datasets/preproc_study/{}/5_ss_shared/'.format(dataset) +\n",
    "                             str(patient).split('/')[-1] +'/' + mask_name).get_fdata()\n",
    "        \n",
    "        kl, _, _, _ = compute_kl(img, brain, mask)\n",
    "        all_kl.append(kl)"
   ]
  },
  {
   "cell_type": "code",
   "execution_count": 36,
   "metadata": {},
   "outputs": [
    {
     "name": "stderr",
     "output_type": "stream",
     "text": [
      "181it [02:27,  1.23it/s]\n"
     ]
    }
   ],
   "source": [
    "root2 = Path('/anvar/public_datasets/preproc_study/{}/4d_susan'.format(dataset))\n",
    "\n",
    "all_kl_susan = []\n",
    "\n",
    "for patient in tqdm(root2.glob('*')):\n",
    "    if patient.is_dir():\n",
    "        try:\n",
    "            img = nibabel.load(patient / main_img).get_fdata()\n",
    "            mask = nibabel.load(patient / label_name).get_fdata()\n",
    "            brain = nibabel.load('/anvar/public_datasets/preproc_study/{}/5_ss_shared/'.format(dataset) +\n",
    "                                 str(patient).split('/')[-1] +'/' + mask_name).get_fdata()\n",
    "\n",
    "\n",
    "            kl, _, _, _ = compute_kl(img, brain, mask)\n",
    "            all_kl_susan.append(kl)\n",
    "        except:\n",
    "            pass"
   ]
  },
  {
   "cell_type": "code",
   "execution_count": 37,
   "metadata": {},
   "outputs": [
    {
     "name": "stderr",
     "output_type": "stream",
     "text": [
      "180it [04:05,  1.36s/it]\n"
     ]
    }
   ],
   "source": [
    "root2 = Path('/anvar/public_datasets/preproc_study/{}/6_hist/6_hist_fold_0/'.format(dataset))\n",
    "\n",
    "all_kl_hist = []\n",
    "\n",
    "for patient in tqdm(root2.glob('*')):\n",
    "    if patient.is_dir():\n",
    "        try:\n",
    "            img = nibabel.load(patient / main_img).get_fdata()\n",
    "            mask = nibabel.load(patient / label_name).get_fdata()\n",
    "            brain = nibabel.load('/anvar/public_datasets/preproc_study/{}/5_ss_shared/'.format(dataset) +\n",
    "                                 str(patient).split('/')[-1] +'/' + mask_name).get_fdata()\n",
    "\n",
    "            kl, _, _, _ = compute_kl(img, brain, mask)\n",
    "            all_kl_hist.append(kl)\n",
    "        except:\n",
    "            pass"
   ]
  },
  {
   "cell_type": "code",
   "execution_count": 38,
   "metadata": {},
   "outputs": [
    {
     "name": "stderr",
     "output_type": "stream",
     "text": [
      "181it [03:12,  1.07s/it]\n"
     ]
    }
   ],
   "source": [
    "root2 = Path('/anvar/public_datasets/preproc_study/{}/4b_n4/'.format(dataset))\n",
    "\n",
    "all_kl_n4 = []\n",
    "\n",
    "for patient in tqdm(root2.glob('*')):\n",
    "    if patient.is_dir():\n",
    "        try:\n",
    "            img = nibabel.load(patient / main_img).get_fdata()\n",
    "            mask = nibabel.load(patient / label_name).get_fdata()\n",
    "            brain = nibabel.load('/anvar/public_datasets/preproc_study/{}/5_ss_shared/'.format(dataset) +\n",
    "                                 str(patient).split('/')[-1] +'/' + mask_name).get_fdata()\n",
    "\n",
    "            kl, _, _, _ = compute_kl(img, brain, mask)\n",
    "            all_kl_n4.append(kl)\n",
    "        except:\n",
    "            pass"
   ]
  },
  {
   "cell_type": "code",
   "execution_count": 39,
   "metadata": {},
   "outputs": [
    {
     "name": "stderr",
     "output_type": "stream",
     "text": [
      "181it [02:54,  1.04it/s]\n"
     ]
    }
   ],
   "source": [
    "root2 = Path('/anvar/public_datasets/preproc_study/{}/5_ss_shared/'.format(dataset))\n",
    "\n",
    "all_kl_ss = []\n",
    "\n",
    "for patient in tqdm(root2.glob('*')):\n",
    "    if patient.is_dir():\n",
    "        try:\n",
    "            img = nibabel.load(patient / main_img).get_fdata()\n",
    "            mask = nibabel.load(patient / label_name).get_fdata()\n",
    "            brain = nibabel.load('/anvar/public_datasets/preproc_study/{}/5_ss_shared/'.format(dataset) +\n",
    "                                 str(patient).split('/')[-1] +'/' + mask_name).get_fdata()\n",
    "\n",
    "            kl, _, _, _ = compute_kl(img, brain, mask)\n",
    "            all_kl_ss.append(kl)\n",
    "        except:\n",
    "            pass"
   ]
  },
  {
   "cell_type": "code",
   "execution_count": 40,
   "metadata": {},
   "outputs": [],
   "source": [
    "from researchpy import ttest\n",
    "\n",
    "def ttest_pair(df_1, df_2, name_1 = 'one', name_2 = 'two', correction = None):\n",
    "    return ttest(pd.Series(df_1), pd.Series(df_2), \n",
    "#                  group1_name = name_1,\n",
    "#                  group2_name= name_2, \n",
    "                 equal_variances=False, paired=True, correction = 8).iloc[4].values[1]"
   ]
  },
  {
   "cell_type": "code",
   "execution_count": 41,
   "metadata": {},
   "outputs": [],
   "source": [
    "pivot = pd.DataFrame(columns = ['Mean(STD)', 'P-value'])\n",
    "pivot.at[0,'Mean(STD)'] =  str(np.round(np.mean(all_kl),3)) + ' (' + str(np.round(np.std(all_kl),3)) +')'\n",
    "pivot.at[1,'Mean(STD)'] =  str(np.round(np.mean(all_kl_n4),3)) + ' (' + str(np.round(np.std(all_kl_n4),3)) +')'\n",
    "pivot.at[1,'P-value'] =  str(np.round(ttest_pair(all_kl, all_kl_n4),3)) \n",
    "pivot.at[2,'Mean(STD)'] =  str(np.round(np.mean(all_kl_susan),3)) + ' (' + str(np.round(np.std(all_kl_susan),3)) +')'\n",
    "pivot.at[2,'P-value'] =  str(np.round(ttest_pair(all_kl, all_kl_susan),3)) \n",
    "pivot.at[3,'Mean(STD)'] =  str(np.round(np.mean(all_kl_hist),3)) + ' (' + str(np.round(np.std(all_kl_hist),3)) +')'\n",
    "pivot.at[3,'P-value'] =  str(np.round(ttest_pair(all_kl, all_kl_hist),3)) \n",
    "pivot.at[4,'Mean(STD)'] =  str(np.round(np.mean(all_kl_ss),3)) + ' (' + str(np.round(np.std(all_kl_ss),3)) +')'\n",
    "pivot.at[4,'P-value'] =  str(np.round(ttest_pair(all_kl, all_kl_ss),3)) "
   ]
  },
  {
   "cell_type": "code",
   "execution_count": 42,
   "metadata": {},
   "outputs": [
    {
     "data": {
      "text/html": [
       "<div>\n",
       "<style scoped>\n",
       "    .dataframe tbody tr th:only-of-type {\n",
       "        vertical-align: middle;\n",
       "    }\n",
       "\n",
       "    .dataframe tbody tr th {\n",
       "        vertical-align: top;\n",
       "    }\n",
       "\n",
       "    .dataframe thead th {\n",
       "        text-align: right;\n",
       "    }\n",
       "</style>\n",
       "<table border=\"1\" class=\"dataframe\">\n",
       "  <thead>\n",
       "    <tr style=\"text-align: right;\">\n",
       "      <th></th>\n",
       "      <th>Mean(STD)</th>\n",
       "      <th>P-value</th>\n",
       "    </tr>\n",
       "  </thead>\n",
       "  <tbody>\n",
       "    <tr>\n",
       "      <th>0</th>\n",
       "      <td>1.64 (1.015)</td>\n",
       "      <td>NaN</td>\n",
       "    </tr>\n",
       "    <tr>\n",
       "      <th>1</th>\n",
       "      <td>1.702 (1.045)</td>\n",
       "      <td>0.0</td>\n",
       "    </tr>\n",
       "    <tr>\n",
       "      <th>2</th>\n",
       "      <td>1.702 (1.045)</td>\n",
       "      <td>0.0</td>\n",
       "    </tr>\n",
       "    <tr>\n",
       "      <th>3</th>\n",
       "      <td>1.65 (1.029)</td>\n",
       "      <td>0.001</td>\n",
       "    </tr>\n",
       "    <tr>\n",
       "      <th>4</th>\n",
       "      <td>1.643 (1.014)</td>\n",
       "      <td>0.0</td>\n",
       "    </tr>\n",
       "  </tbody>\n",
       "</table>\n",
       "</div>"
      ],
      "text/plain": [
       "       Mean(STD) P-value\n",
       "0   1.64 (1.015)     NaN\n",
       "1  1.702 (1.045)     0.0\n",
       "2  1.702 (1.045)     0.0\n",
       "3   1.65 (1.029)   0.001\n",
       "4  1.643 (1.014)     0.0"
      ]
     },
     "execution_count": 42,
     "metadata": {},
     "output_type": "execute_result"
    }
   ],
   "source": [
    "pivot"
   ]
  },
  {
   "cell_type": "code",
   "execution_count": 265,
   "metadata": {},
   "outputs": [
    {
     "ename": "SyntaxError",
     "evalue": "invalid syntax (3956564256.py, line 1)",
     "output_type": "error",
     "traceback": [
      "\u001b[0;36m  File \u001b[0;32m\"/tmp/ipykernel_541916/3956564256.py\"\u001b[0;36m, line \u001b[0;32m1\u001b[0m\n\u001b[0;31m    kl/emd/KS test\u001b[0m\n\u001b[0m              ^\u001b[0m\n\u001b[0;31mSyntaxError\u001b[0m\u001b[0;31m:\u001b[0m invalid syntax\n"
     ]
    }
   ],
   "source": [
    "kl/emd/KS test"
   ]
  },
  {
   "cell_type": "code",
   "execution_count": 182,
   "metadata": {},
   "outputs": [
    {
     "data": {
      "text/plain": [
       "[13570.210000000001,\n",
       " 13209.220000000001,\n",
       " 13187.890000000005,\n",
       " 14531.640000000001,\n",
       " 13168.18,\n",
       " 14109.49,\n",
       " 11549.510000000006,\n",
       " 14619.429999999998,\n",
       " 14776.499999999998,\n",
       " 15403.82,\n",
       " 15739.830000000002,\n",
       " 15223.89,\n",
       " 13538.099999999999,\n",
       " 13746.699999999999,\n",
       " 15460.8,\n",
       " 11525.560000000001,\n",
       " 16231.199999999999,\n",
       " 14974.020000000002,\n",
       " 13617.250000000002,\n",
       " 14471.310000000003,\n",
       " 14468.23,\n",
       " 13586.669999999998,\n",
       " 14090.940000000002,\n",
       " 14435.500000000004,\n",
       " 14834.03,\n",
       " 13015.83,\n",
       " 14710.0,\n",
       " 13108.100000000002,\n",
       " 15334.560000000003,\n",
       " 15908.599999999997,\n",
       " 13222.829999999998,\n",
       " 13405.380000000003,\n",
       " 15075.230000000003,\n",
       " 15038.449999999997,\n",
       " 16893.159999999996,\n",
       " 14780.880000000001,\n",
       " 14911.709999999997,\n",
       " 14892.369999999999,\n",
       " 14239.639999999998,\n",
       " 13701.269999999997,\n",
       " 15278.859999999999,\n",
       " 14905.3,\n",
       " 12999.409999999998,\n",
       " 15848.04,\n",
       " 14020.740000000003,\n",
       " 11967.37,\n",
       " 13562.099999999999,\n",
       " 14714.670000000004,\n",
       " 12697.37,\n",
       " 12346.05,\n",
       " 12925.609999999997,\n",
       " 14891.299999999997,\n",
       " 15728.060000000003,\n",
       " 16083.080000000004,\n",
       " 13791.769999999999,\n",
       " 13817.85,\n",
       " 14212.199999999999,\n",
       " 11667.040000000003,\n",
       " 13729.66,\n",
       " 13668.79,\n",
       " 14593.070000000002,\n",
       " 12798.23,\n",
       " 12845.82,\n",
       " 14540.030000000004,\n",
       " 15130.280000000002,\n",
       " 13680.449999999997,\n",
       " 16366.28,\n",
       " 16953.030000000002,\n",
       " 11875.92,\n",
       " 16124.650000000003,\n",
       " 12847.999999999998,\n",
       " 12235.380000000001,\n",
       " 12862.989999999998,\n",
       " 14183.750000000002,\n",
       " 14031.49,\n",
       " 14461.149999999998,\n",
       " 12900.930000000002,\n",
       " 12397.349999999999,\n",
       " 15358.32,\n",
       " 13624.15,\n",
       " 16883.639999999996,\n",
       " 14778.430000000002,\n",
       " 15434.13,\n",
       " 12137.210000000001,\n",
       " 14791.649999999998,\n",
       " 13713.310000000001,\n",
       " 13800.259999999998,\n",
       " 14126.080000000002,\n",
       " 15142.390000000001,\n",
       " 15165.12,\n",
       " 12624.920000000002,\n",
       " 13987.55,\n",
       " 12634.34,\n",
       " 14482.349999999999,\n",
       " 14715.400000000001,\n",
       " 12237.23,\n",
       " 13985.0,\n",
       " 12236.619999999995,\n",
       " 18007.420000000006,\n",
       " 12071.93,\n",
       " 16306.009999999998,\n",
       " 12276.560000000001,\n",
       " 14139.589999999998,\n",
       " 13321.4,\n",
       " 13589.320000000002,\n",
       " 13362.02,\n",
       " 14176.499999999996,\n",
       " 12996.320000000003,\n",
       " 12416.9,\n",
       " 13573.310000000001,\n",
       " 15259.85,\n",
       " 12908.329999999998,\n",
       " 13951.159999999996,\n",
       " 14200.41,\n",
       " 14506.98,\n",
       " 12258.650000000001,\n",
       " 14615.720000000001,\n",
       " 13508.509999999998,\n",
       " 10844.829999999998,\n",
       " 12170.009999999998,\n",
       " 14155.64,\n",
       " 14550.090000000002,\n",
       " 12011.499999999996,\n",
       " 12999.599999999997,\n",
       " 12791.330000000002,\n",
       " 16004.310000000001,\n",
       " 14938.72,\n",
       " 12210.149999999996,\n",
       " 12002.79,\n",
       " 14633.700000000003,\n",
       " 15973.489999999998,\n",
       " 12411.749999999998,\n",
       " 13819.799999999997,\n",
       " 11535.899999999998,\n",
       " 11382.43,\n",
       " 14974.63,\n",
       " 12192.139999999998,\n",
       " 10822.429999999998,\n",
       " 13235.62,\n",
       " 13788.489999999996,\n",
       " 11929.27,\n",
       " 14148.51,\n",
       " 14220.560000000003,\n",
       " 13450.829999999998,\n",
       " 15144.420000000002,\n",
       " 13414.61,\n",
       " 14749.519999999999,\n",
       " 12458.66,\n",
       " 15162.81,\n",
       " 13011.800000000001,\n",
       " 12417.530000000004,\n",
       " 11597.779999999997,\n",
       " 13553.61,\n",
       " 12263.929999999998,\n",
       " 12566.56,\n",
       " 13294.85,\n",
       " 13583.530000000002,\n",
       " 14934.560000000001,\n",
       " 14962.219999999998,\n",
       " 13180.689999999999,\n",
       " 15448.75,\n",
       " 15839.550000000001,\n",
       " 14946.560000000001,\n",
       " 13318.66,\n",
       " 12033.050000000001,\n",
       " 15099.699999999999,\n",
       " 13556.310000000005,\n",
       " 12152.12,\n",
       " 13280.02,\n",
       " 12461.3,\n",
       " 14962.679999999998,\n",
       " 14447.9,\n",
       " 15953.589999999995,\n",
       " 15583.410000000002,\n",
       " 15861.32,\n",
       " 11826.66,\n",
       " 12357.38,\n",
       " 15713.899999999998,\n",
       " 15312.560000000001,\n",
       " 14495.07,\n",
       " 14825.929999999998,\n",
       " 13697.759999999998,\n",
       " 10843.65,\n",
       " 13485.839999999997,\n",
       " 13210.689999999999,\n",
       " 14908.420000000002,\n",
       " 14476.15,\n",
       " 14719.57,\n",
       " 13485.33,\n",
       " 15278.800000000001,\n",
       " 14174.400000000001,\n",
       " 13976.759999999995,\n",
       " 13288.160000000002,\n",
       " 15574.119999999997,\n",
       " 15412.770000000004,\n",
       " 12917.069999999998,\n",
       " 17526.36,\n",
       " 12572.12,\n",
       " 19434.559999999994,\n",
       " 15642.85,\n",
       " 14435.659999999996,\n",
       " 15848.780000000002,\n",
       " 15746.939999999999,\n",
       " 13409.43,\n",
       " 11592.24,\n",
       " 15042.400000000001,\n",
       " 12376.0,\n",
       " 13901.519999999999,\n",
       " 12828.3,\n",
       " 12921.449999999997,\n",
       " 11350.43,\n",
       " 14569.95,\n",
       " 12322.539999999999,\n",
       " 11906.609999999999,\n",
       " 15782.920000000002,\n",
       " 13969.5,\n",
       " 13967.589999999998,\n",
       " 13924.32,\n",
       " 14213.9,\n",
       " 15018.579999999998,\n",
       " 15823.369999999999,\n",
       " 14447.21,\n",
       " 12999.789999999995,\n",
       " 11062.140000000001,\n",
       " 13744.19,\n",
       " 12540.239999999998,\n",
       " 14155.33,\n",
       " 13046.700000000003,\n",
       " 14572.169999999996,\n",
       " 12926.44,\n",
       " 12965.939999999999,\n",
       " 13522.939999999997,\n",
       " 17335.38,\n",
       " 13143.429999999997,\n",
       " 13357.630000000006,\n",
       " 14225.390000000001,\n",
       " 15313.22,\n",
       " 12994.909999999996,\n",
       " 12461.310000000001,\n",
       " 15527.849999999997,\n",
       " 15386.669999999998,\n",
       " 12286.259999999998]"
      ]
     },
     "execution_count": 182,
     "metadata": {},
     "output_type": "execute_result"
    }
   ],
   "source": [
    "all_kl"
   ]
  },
  {
   "cell_type": "code",
   "execution_count": null,
   "metadata": {},
   "outputs": [],
   "source": [
    "np.histogram(orig_tumor, bins = 100, normed =True)"
   ]
  }
 ],
 "metadata": {
  "kernelspec": {
   "display_name": "Python 3 (ipykernel)",
   "language": "python",
   "name": "python3"
  },
  "language_info": {
   "codemirror_mode": {
    "name": "ipython",
    "version": 3
   },
   "file_extension": ".py",
   "mimetype": "text/x-python",
   "name": "python",
   "nbconvert_exporter": "python",
   "pygments_lexer": "ipython3",
   "version": "3.9.1"
  }
 },
 "nbformat": 4,
 "nbformat_minor": 4
}
