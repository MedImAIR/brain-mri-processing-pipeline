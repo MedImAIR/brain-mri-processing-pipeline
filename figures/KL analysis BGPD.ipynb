{
 "cells": [
  {
   "cell_type": "code",
   "execution_count": 1,
   "metadata": {},
   "outputs": [],
   "source": [
    "import matplotlib.pyplot as plt\n",
    "import nibabel\n",
    "import numpy as np\n",
    "import pandas as pd\n",
    "from pathlib import Path\n",
    "from skimage.transform import rescale\n",
    "from tqdm import tqdm\n",
    "import os"
   ]
  },
  {
   "cell_type": "code",
   "execution_count": 16,
   "metadata": {},
   "outputs": [],
   "source": [
    "import scipy\n",
    "def compute_kl(img, brain, mask, _bin_heuristics = 'sturges'):\n",
    "    size, _bins = np.histogram(img[brain.astype(bool)], bins = _bin_heuristics)\n",
    "    bins = [(_bins[i]+_bins[i+1])/2 for i in range(len(_bins)-1)]\n",
    "\n",
    "    size_healthy, bin_edges = np.histogram(img[brain.astype(bool)^mask.astype(bool)].reshape(-1), bins=_bins)\n",
    "    size_tumor, _ = np.histogram(img[mask.astype(bool)].reshape(-1), bins = _bins)\n",
    "\n",
    "    size_healthy = np.round(size_healthy/size_healthy.sum(), 5)\n",
    "    size_tumor = np.round(size_tumor/size_tumor.sum(), 5)\n",
    "    \n",
    "    size_healthy = np.where(size_healthy>10e-6, size_healthy, 10e-6)\n",
    "    size_tumor = np.where(size_tumor>10e-6, size_tumor, 10e-6)\n",
    "\n",
    "#     kl_dist = 0\n",
    "#     for h,t in zip(size_healthy, size_tumor):\n",
    "#         kl_dist += h * np.log2(h/t)\n",
    "\n",
    "    kl_dist = scipy.spatial.distance.jensenshannon(size_healthy, size_tumor)\n",
    "        \n",
    "            \n",
    "    return kl_dist, size_healthy, size_tumor, _bins"
   ]
  },
  {
   "cell_type": "code",
   "execution_count": 17,
   "metadata": {},
   "outputs": [],
   "source": [
    "def compute_emd(img, brain, mask):\n",
    "    size, _bins = np.histogram(img[brain.astype(bool)], bins = 100)\n",
    "    bins = [(_bins[i]+_bins[i+1])/2 for i in range(len(_bins)-1)]\n",
    "\n",
    "    size_healthy, _ = np.histogram(img[brain.astype(bool)^mask.astype(bool)].reshape(-1), bins=_bins)\n",
    "    size_tumor, _ = np.histogram(img[mask.astype(bool)].reshape(-1), bins=_bins -1 )\n",
    "\n",
    "#     size_healthy = np.round(size_healthy/size_healthy.sum(), 5)\n",
    "#     size_tumor = np.round(size_tumor/size_tumor.sum(), 5)\n",
    "    \n",
    "#     size_healthy = np.where(size_healthy>10e-6, size_healthy, 10e-6)\n",
    "#     size_tumor = np.where(size_tumor>10e-6, size_tumor, 10e-6)\n",
    "\n",
    "    emd = scipy.stats.wasserstein_distance(size_healthy, size_tumor)\n",
    "            \n",
    "    return emd, size_healthy, size_tumor, _bins"
   ]
  },
  {
   "cell_type": "code",
   "execution_count": 18,
   "metadata": {},
   "outputs": [],
   "source": [
    "dataset = 'bgpd'\n",
    "main_img = 'FLAIR.nii.gz'\n",
    "label_name = 'mask_GTV_FLAIR.nii.gz'\n",
    "mask_name = 'FLAIR_mask.nii.gz'"
   ]
  },
  {
   "cell_type": "code",
   "execution_count": 19,
   "metadata": {},
   "outputs": [
    {
     "data": {
      "text/plain": [
       "['T2.nii.gz', 'T1_mask.nii.gz', 'T1.nii.gz', 'T1_SEG.nii.gz']"
      ]
     },
     "execution_count": 19,
     "metadata": {},
     "output_type": "execute_result"
    }
   ],
   "source": [
    "os.listdir('/anvar/public_datasets/preproc_study/schw/5_ss_shared/VS-SEG-239')"
   ]
  },
  {
   "cell_type": "code",
   "execution_count": 20,
   "metadata": {},
   "outputs": [
    {
     "name": "stderr",
     "output_type": "stream",
     "text": [
      "180it [02:35,  1.16it/s]\n"
     ]
    }
   ],
   "source": [
    "root = Path('/anvar/public_datasets/preproc_study/{}/4a_resamp/'.format(dataset)) \n",
    "\n",
    "all_kl = []\n",
    "\n",
    "for patient in tqdm(root.glob('*')):\n",
    "    if patient.is_dir():\n",
    "        img = nibabel.load(patient / main_img).get_fdata()\n",
    "        mask = nibabel.load(patient / label_name).get_fdata()\n",
    "        brain = nibabel.load('/anvar/public_datasets/preproc_study/{}/5_ss_shared/'.format(dataset) +\n",
    "                             str(patient).split('/')[-1] +'/' + mask_name).get_fdata()\n",
    "        \n",
    "        kl, _, _, _ = compute_kl(img, brain, mask)\n",
    "        all_kl.append(kl)"
   ]
  },
  {
   "cell_type": "code",
   "execution_count": 21,
   "metadata": {},
   "outputs": [
    {
     "name": "stderr",
     "output_type": "stream",
     "text": [
      "181it [02:12,  1.36it/s]\n"
     ]
    }
   ],
   "source": [
    "root2 = Path('/anvar/public_datasets/preproc_study/{}/4d_susan'.format(dataset))\n",
    "\n",
    "all_kl_susan = []\n",
    "\n",
    "for patient in tqdm(root2.glob('*')):\n",
    "    if patient.is_dir():\n",
    "        try:\n",
    "            img = nibabel.load(patient / main_img).get_fdata()\n",
    "            mask = nibabel.load(patient / label_name).get_fdata()\n",
    "            brain = nibabel.load('/anvar/public_datasets/preproc_study/{}/5_ss_shared/'.format(dataset) +\n",
    "                                 str(patient).split('/')[-1] +'/' + mask_name).get_fdata()\n",
    "\n",
    "\n",
    "            kl, _, _, _ = compute_kl(img, brain, mask)\n",
    "            all_kl_susan.append(kl)\n",
    "        except:\n",
    "            pass"
   ]
  },
  {
   "cell_type": "code",
   "execution_count": 22,
   "metadata": {},
   "outputs": [
    {
     "name": "stderr",
     "output_type": "stream",
     "text": [
      "180it [03:12,  1.07s/it]\n"
     ]
    }
   ],
   "source": [
    "root2 = Path('/anvar/public_datasets/preproc_study/{}/6_hist/6_hist_fold_0/'.format(dataset))\n",
    "\n",
    "all_kl_hist = []\n",
    "\n",
    "for patient in tqdm(root2.glob('*')):\n",
    "    if patient.is_dir():\n",
    "        try:\n",
    "            img = nibabel.load(patient / main_img).get_fdata()\n",
    "            mask = nibabel.load(patient / label_name).get_fdata()\n",
    "            brain = nibabel.load('/anvar/public_datasets/preproc_study/{}/5_ss_shared/'.format(dataset) +\n",
    "                                 str(patient).split('/')[-1] +'/' + mask_name).get_fdata()\n",
    "\n",
    "            kl, _, _, _ = compute_kl(img, brain, mask)\n",
    "            all_kl_hist.append(kl)\n",
    "        except:\n",
    "            pass"
   ]
  },
  {
   "cell_type": "code",
   "execution_count": 23,
   "metadata": {},
   "outputs": [
    {
     "name": "stderr",
     "output_type": "stream",
     "text": [
      "180it [02:32,  1.18it/s]\n"
     ]
    }
   ],
   "source": [
    "root2 = Path('/anvar/public_datasets/preproc_study/{}/4b_n4/'.format(dataset))\n",
    "\n",
    "all_kl_n4 = []\n",
    "\n",
    "for patient in tqdm(root2.glob('*')):\n",
    "    if patient.is_dir():\n",
    "        try:\n",
    "            img = nibabel.load(patient / main_img).get_fdata()\n",
    "            mask = nibabel.load(patient / label_name).get_fdata()\n",
    "            brain = nibabel.load('/anvar/public_datasets/preproc_study/{}/5_ss_shared/'.format(dataset) +\n",
    "                                 str(patient).split('/')[-1] +'/' + mask_name).get_fdata()\n",
    "\n",
    "            kl, _, _, _ = compute_kl(img, brain, mask)\n",
    "            all_kl_n4.append(kl)\n",
    "        except:\n",
    "            pass"
   ]
  },
  {
   "cell_type": "code",
   "execution_count": 24,
   "metadata": {},
   "outputs": [
    {
     "name": "stderr",
     "output_type": "stream",
     "text": [
      "181it [02:11,  1.37it/s]\n"
     ]
    }
   ],
   "source": [
    "root2 = Path('/anvar/public_datasets/preproc_study/{}/5_ss_shared/'.format(dataset))\n",
    "\n",
    "all_kl_ss = []\n",
    "\n",
    "for patient in tqdm(root2.glob('*')):\n",
    "    if patient.is_dir():\n",
    "        try:\n",
    "            img = nibabel.load(patient / main_img).get_fdata()\n",
    "            mask = nibabel.load(patient / label_name).get_fdata()\n",
    "            brain = nibabel.load('/anvar/public_datasets/preproc_study/{}/5_ss_shared/'.format(dataset) +\n",
    "                                 str(patient).split('/')[-1] +'/' + mask_name).get_fdata()\n",
    "\n",
    "            kl, _, _, _ = compute_kl(img, brain, mask)\n",
    "            all_kl_ss.append(kl)\n",
    "        except:\n",
    "            pass"
   ]
  },
  {
   "cell_type": "code",
   "execution_count": 25,
   "metadata": {},
   "outputs": [],
   "source": [
    "from researchpy import ttest\n",
    "\n",
    "def ttest_pair(df_1, df_2, name_1 = 'one', name_2 = 'two', correction = None):\n",
    "    return ttest(pd.Series(df_1), pd.Series(df_2), \n",
    "#                  group1_name = name_1,\n",
    "#                  group2_name= name_2, \n",
    "                 equal_variances=False, paired=True,)[1].iloc[4].values[1]"
   ]
  },
  {
   "cell_type": "code",
   "execution_count": 26,
   "metadata": {},
   "outputs": [
    {
     "name": "stderr",
     "output_type": "stream",
     "text": [
      "/home/kate/miniconda3/lib/python3.9/site-packages/researchpy/ttest.py:38: FutureWarning: The series.append method is deprecated and will be removed from pandas in a future version. Use pandas.concat instead.\n",
      "  groups = group1.append(group2, ignore_index= True)\n",
      "/home/kate/miniconda3/lib/python3.9/site-packages/researchpy/ttest.py:38: FutureWarning: The series.append method is deprecated and will be removed from pandas in a future version. Use pandas.concat instead.\n",
      "  groups = group1.append(group2, ignore_index= True)\n",
      "/home/kate/miniconda3/lib/python3.9/site-packages/researchpy/ttest.py:38: FutureWarning: The series.append method is deprecated and will be removed from pandas in a future version. Use pandas.concat instead.\n",
      "  groups = group1.append(group2, ignore_index= True)\n",
      "/home/kate/miniconda3/lib/python3.9/site-packages/researchpy/ttest.py:38: FutureWarning: The series.append method is deprecated and will be removed from pandas in a future version. Use pandas.concat instead.\n",
      "  groups = group1.append(group2, ignore_index= True)\n"
     ]
    }
   ],
   "source": [
    "pivot = pd.DataFrame(columns = ['Mean(STD)', 'P-value'])\n",
    "pivot.at[0,'Mean(STD)'] =  str(np.round(np.mean(all_kl),3)) + ' (' + str(np.round(np.std(all_kl),3)) +')'\n",
    "pivot.at[1,'Mean(STD)'] =  str(np.round(np.mean(all_kl_n4),3)) + ' (' + str(np.round(np.std(all_kl_n4),3)) +')'\n",
    "pivot.at[1,'P-value'] =  str(np.round(ttest_pair(all_kl, all_kl_n4),3)) \n",
    "pivot.at[2,'Mean(STD)'] =  str(np.round(np.mean(all_kl_susan),3)) + ' (' + str(np.round(np.std(all_kl_susan),3)) +')'\n",
    "pivot.at[2,'P-value'] =  str(np.round(ttest_pair(all_kl, all_kl_susan),3)) \n",
    "pivot.at[3,'Mean(STD)'] =  str(np.round(np.mean(all_kl_hist),3)) + ' (' + str(np.round(np.std(all_kl_hist),3)) +')'\n",
    "pivot.at[3,'P-value'] =  str(np.round(ttest_pair(all_kl, all_kl_hist),3)) \n",
    "pivot.at[4,'Mean(STD)'] =  str(np.round(np.mean(all_kl_ss),3)) + ' (' + str(np.round(np.std(all_kl_ss),3)) +')'\n",
    "pivot.at[4,'P-value'] =  str(np.round(ttest_pair(all_kl, all_kl_ss),3)) "
   ]
  },
  {
   "cell_type": "code",
   "execution_count": 27,
   "metadata": {},
   "outputs": [
    {
     "data": {
      "text/html": [
       "<div>\n",
       "<style scoped>\n",
       "    .dataframe tbody tr th:only-of-type {\n",
       "        vertical-align: middle;\n",
       "    }\n",
       "\n",
       "    .dataframe tbody tr th {\n",
       "        vertical-align: top;\n",
       "    }\n",
       "\n",
       "    .dataframe thead th {\n",
       "        text-align: right;\n",
       "    }\n",
       "</style>\n",
       "<table border=\"1\" class=\"dataframe\">\n",
       "  <thead>\n",
       "    <tr style=\"text-align: right;\">\n",
       "      <th></th>\n",
       "      <th>Mean(STD)</th>\n",
       "      <th>P-value</th>\n",
       "    </tr>\n",
       "  </thead>\n",
       "  <tbody>\n",
       "    <tr>\n",
       "      <th>0</th>\n",
       "      <td>0.477 (0.129)</td>\n",
       "      <td>NaN</td>\n",
       "    </tr>\n",
       "    <tr>\n",
       "      <th>1</th>\n",
       "      <td>0.415 (0.12)</td>\n",
       "      <td>0.0</td>\n",
       "    </tr>\n",
       "    <tr>\n",
       "      <th>2</th>\n",
       "      <td>0.484 (0.129)</td>\n",
       "      <td>0.0</td>\n",
       "    </tr>\n",
       "    <tr>\n",
       "      <th>3</th>\n",
       "      <td>0.478 (0.13)</td>\n",
       "      <td>0.0</td>\n",
       "    </tr>\n",
       "    <tr>\n",
       "      <th>4</th>\n",
       "      <td>0.478 (0.129)</td>\n",
       "      <td>0.0</td>\n",
       "    </tr>\n",
       "  </tbody>\n",
       "</table>\n",
       "</div>"
      ],
      "text/plain": [
       "       Mean(STD) P-value\n",
       "0  0.477 (0.129)     NaN\n",
       "1   0.415 (0.12)     0.0\n",
       "2  0.484 (0.129)     0.0\n",
       "3   0.478 (0.13)     0.0\n",
       "4  0.478 (0.129)     0.0"
      ]
     },
     "execution_count": 27,
     "metadata": {},
     "output_type": "execute_result"
    }
   ],
   "source": [
    "# js distance\n",
    "pivot"
   ]
  },
  {
   "cell_type": "code",
   "execution_count": 15,
   "metadata": {},
   "outputs": [
    {
     "data": {
      "text/html": [
       "<div>\n",
       "<style scoped>\n",
       "    .dataframe tbody tr th:only-of-type {\n",
       "        vertical-align: middle;\n",
       "    }\n",
       "\n",
       "    .dataframe tbody tr th {\n",
       "        vertical-align: top;\n",
       "    }\n",
       "\n",
       "    .dataframe thead th {\n",
       "        text-align: right;\n",
       "    }\n",
       "</style>\n",
       "<table border=\"1\" class=\"dataframe\">\n",
       "  <thead>\n",
       "    <tr style=\"text-align: right;\">\n",
       "      <th></th>\n",
       "      <th>Mean(STD)</th>\n",
       "      <th>P-value</th>\n",
       "    </tr>\n",
       "  </thead>\n",
       "  <tbody>\n",
       "    <tr>\n",
       "      <th>0</th>\n",
       "      <td>1.64 (1.015)</td>\n",
       "      <td>NaN</td>\n",
       "    </tr>\n",
       "    <tr>\n",
       "      <th>1</th>\n",
       "      <td>1.145 (0.723)</td>\n",
       "      <td>0.0</td>\n",
       "    </tr>\n",
       "    <tr>\n",
       "      <th>2</th>\n",
       "      <td>1.702 (1.045)</td>\n",
       "      <td>0.0</td>\n",
       "    </tr>\n",
       "    <tr>\n",
       "      <th>3</th>\n",
       "      <td>1.65 (1.029)</td>\n",
       "      <td>0.001</td>\n",
       "    </tr>\n",
       "    <tr>\n",
       "      <th>4</th>\n",
       "      <td>1.643 (1.014)</td>\n",
       "      <td>0.0</td>\n",
       "    </tr>\n",
       "  </tbody>\n",
       "</table>\n",
       "</div>"
      ],
      "text/plain": [
       "       Mean(STD) P-value\n",
       "0   1.64 (1.015)     NaN\n",
       "1  1.145 (0.723)     0.0\n",
       "2  1.702 (1.045)     0.0\n",
       "3   1.65 (1.029)   0.001\n",
       "4  1.643 (1.014)     0.0"
      ]
     },
     "execution_count": 15,
     "metadata": {},
     "output_type": "execute_result"
    }
   ],
   "source": [
    "#kl divergence\n",
    "pivot"
   ]
  },
  {
   "cell_type": "code",
   "execution_count": 30,
   "metadata": {},
   "outputs": [
    {
     "name": "stderr",
     "output_type": "stream",
     "text": [
      "180it [01:04,  2.78it/s]\n"
     ]
    }
   ],
   "source": [
    "root2 = Path('/anvar/public_datasets/preproc_study/{}/orig'.format(dataset))\n",
    "\n",
    "shapes = []\n",
    "for patient in tqdm(root2.glob('*')):\n",
    "    if patient.is_dir():\n",
    "        img = nibabel.load(patient / main_img).get_fdata()\n",
    "        shapes.append(np.shape(img))"
   ]
  },
  {
   "cell_type": "code",
   "execution_count": 31,
   "metadata": {},
   "outputs": [
    {
     "data": {
      "text/plain": [
       "(512, 512, 240)    20\n",
       "(512, 512, 27)     15\n",
       "(512, 512, 24)     15\n",
       "(512, 512, 25)      8\n",
       "(512, 512, 272)     6\n",
       "                   ..\n",
       "(768, 768, 25)      1\n",
       "(768, 768, 38)      1\n",
       "(250, 384, 27)      1\n",
       "(280, 320, 27)      1\n",
       "(288, 320, 30)      1\n",
       "Length: 73, dtype: int64"
      ]
     },
     "execution_count": 31,
     "metadata": {},
     "output_type": "execute_result"
    }
   ],
   "source": [
    "pd.Series(shapes).value_counts()"
   ]
  },
  {
   "cell_type": "code",
   "execution_count": null,
   "metadata": {},
   "outputs": [],
   "source": []
  }
 ],
 "metadata": {
  "kernelspec": {
   "display_name": "Python 3 (ipykernel)",
   "language": "python",
   "name": "python3"
  },
  "language_info": {
   "codemirror_mode": {
    "name": "ipython",
    "version": 3
   },
   "file_extension": ".py",
   "mimetype": "text/x-python",
   "name": "python",
   "nbconvert_exporter": "python",
   "pygments_lexer": "ipython3",
   "version": "3.9.1"
  }
 },
 "nbformat": 4,
 "nbformat_minor": 4
}
