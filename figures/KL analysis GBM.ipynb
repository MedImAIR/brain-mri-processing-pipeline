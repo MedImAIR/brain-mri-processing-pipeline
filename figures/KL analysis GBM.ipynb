{
 "cells": [
  {
   "cell_type": "code",
   "execution_count": 110,
   "metadata": {},
   "outputs": [],
   "source": [
    "import matplotlib.pyplot as plt\n",
    "import nibabel\n",
    "import numpy as np\n",
    "import pandas as pd\n",
    "from pathlib import Path\n",
    "from skimage.transform import rescale\n",
    "from tqdm import tqdm\n",
    "import os\n",
    "import researchpy"
   ]
  },
  {
   "cell_type": "code",
   "execution_count": 161,
   "metadata": {},
   "outputs": [],
   "source": [
    "import scipy\n",
    "def compute_kl(img, brain, mask, _bin_heuristics = 'sturges'):\n",
    "    size, _bins = np.histogram(img[brain.astype(bool)], bins = _bin_heuristics)\n",
    "    bins = [(_bins[i]+_bins[i+1])/2 for i in range(len(_bins)-1)]\n",
    "    # WT\n",
    "    #size_healthy, bin_edges = np.histogram(img[brain.astype(bool)^mask.astype(bool)].reshape(-1), bins=_bins)\n",
    "    # TC\n",
    "    size_healthy, bin_edges = np.histogram(img[brain.astype(bool)^(mask == 2)].reshape(-1), bins=_bins)\n",
    "    # ET\n",
    "    size_tumor, _ = np.histogram(img[mask.astype(bool)].reshape(-1), bins = _bins)\n",
    "\n",
    "    size_healthy = np.round(size_healthy/size_healthy.sum(), 5)\n",
    "    size_tumor = np.round(size_tumor/size_tumor.sum(), 5)\n",
    "    \n",
    "    size_healthy = np.where(size_healthy>10e-6, size_healthy, 10e-6)\n",
    "    size_tumor = np.where(size_tumor>10e-6, size_tumor, 10e-6)\n",
    "\n",
    "    kl_dist = 0\n",
    "    for h,t in zip(size_healthy, size_tumor):\n",
    "        kl_dist += h * np.log2(h/t)\n",
    "\n",
    "#     kl_dist = scipy.spatial.distance.jensenshannon(size_healthy, size_tumor)\n",
    "        \n",
    "            \n",
    "    return kl_dist, size_healthy, size_tumor, _bins"
   ]
  },
  {
   "cell_type": "code",
   "execution_count": 138,
   "metadata": {},
   "outputs": [],
   "source": [
    "def compute_emd(img, brain, mask):\n",
    "    size, _bins = np.histogram(img[brain.astype(bool)], bins = 100)\n",
    "    bins = [(_bins[i]+_bins[i+1])/2 for i in range(len(_bins)-1)]\n",
    "\n",
    "    size_healthy, _ = np.histogram(img[brain.astype(bool)^mask.astype(bool)].reshape(-1), bins=_bins)\n",
    "    size_tumor, _ = np.histogram(img[mask.astype(bool)].reshape(-1), bins=_bins -1 )\n",
    "\n",
    "#     size_healthy = np.round(size_healthy/size_healthy.sum(), 5)\n",
    "#     size_tumor = np.round(size_tumor/size_tumor.sum(), 5)\n",
    "    \n",
    "#     size_healthy = np.where(size_healthy>10e-6, size_healthy, 10e-6)\n",
    "#     size_tumor = np.where(size_tumor>10e-6, size_tumor, 10e-6)\n",
    "\n",
    "    emd = scipy.stats.wasserstein_distance(size_healthy, size_tumor)\n",
    "            \n",
    "    return emd, size_healthy, size_tumor, _bins"
   ]
  },
  {
   "cell_type": "code",
   "execution_count": 162,
   "metadata": {},
   "outputs": [],
   "source": [
    "dataset = 'gbm'\n",
    "main_img = 'FLAIR.nii.gz'\n",
    "label_name = 'CT1_SEG.nii.gz'\n",
    "mask_name = 'CT1_mask.nii.gz'"
   ]
  },
  {
   "cell_type": "code",
   "execution_count": 173,
   "metadata": {},
   "outputs": [
    {
     "data": {
      "text/plain": [
       "['TCGA-02-0086',\n",
       " 'TCGA-02-0102',\n",
       " 'TCGA-02-0059',\n",
       " 'TCGA-02-0069',\n",
       " 'TCGA-19-2624',\n",
       " 'TCGA-06-0182',\n",
       " 'TCGA-08-0360',\n",
       " 'TCGA-02-0006',\n",
       " 'TCGA-19-2631',\n",
       " 'TCGA-12-1094',\n",
       " 'TCGA-06-2570',\n",
       " 'TCGA-06-0119',\n",
       " 'TCGA-06-0145',\n",
       " 'TCGA-08-0509',\n",
       " 'TCGA-06-5408',\n",
       " 'TCGA-02-0116',\n",
       " 'TCGA-06-0188',\n",
       " 'TCGA-76-6661',\n",
       " 'TCGA-02-0047',\n",
       " 'TCGA-12-3650',\n",
       " 'TCGA-02-0064',\n",
       " 'TCGA-14-1825',\n",
       " 'TCGA-06-0162',\n",
       " 'TCGA-02-0033',\n",
       " 'TCGA-08-0359',\n",
       " 'TCGA-02-0054',\n",
       " 'TCGA-06-0184',\n",
       " 'TCGA-12-1601',\n",
       " 'TCGA-06-5413',\n",
       " 'TCGA-76-6191',\n",
       " 'TCGA-02-0075',\n",
       " 'TCGA-06-0177',\n",
       " 'TCGA-06-0154',\n",
       " 'TCGA-06-0179',\n",
       " 'TCGA-19-5951',\n",
       " 'TCGA-12-1598',\n",
       " 'TCGA-12-0616',\n",
       " 'TCGA-02-0070',\n",
       " 'TCGA-06-1084',\n",
       " 'TCGA-12-0829',\n",
       " 'TCGA-76-4932',\n",
       " 'TCGA-02-0068',\n",
       " 'TCGA-76-6282',\n",
       " 'TCGA-08-0385',\n",
       " 'TCGA-12-1098',\n",
       " 'TCGA-08-0512',\n",
       " 'TCGA-08-0389',\n",
       " 'TCGA-14-1794',\n",
       " 'TCGA-19-1789',\n",
       " 'TCGA-02-0009',\n",
       " 'TCGA-06-0122',\n",
       " 'TCGA-08-0355',\n",
       " 'TCGA-06-6389',\n",
       " 'TCGA-06-0190',\n",
       " 'TCGA-06-0192',\n",
       " 'TCGA-02-0027',\n",
       " 'TCGA-06-0137',\n",
       " 'TCGA-12-0776',\n",
       " 'TCGA-76-6657',\n",
       " 'TCGA-06-0176',\n",
       " 'TCGA-08-0356',\n",
       " 'TCGA-76-6662',\n",
       " 'TCGA-08-0522',\n",
       " 'TCGA-06-1802',\n",
       " 'TCGA-19-5960',\n",
       " 'TCGA-08-0390',\n",
       " 'TCGA-14-1456',\n",
       " 'TCGA-06-0158',\n",
       " 'TCGA-06-0139',\n",
       " 'TCGA-06-0238',\n",
       " 'TCGA-76-4935',\n",
       " 'TCGA-14-3477',\n",
       " 'TCGA-02-0106',\n",
       " 'TCGA-06-0644',\n",
       " 'TCGA-19-0963',\n",
       " 'TCGA-06-0187',\n",
       " 'TCGA-76-6664',\n",
       " 'TCGA-76-6663',\n",
       " 'TCGA-76-6285',\n",
       " 'TCGA-76-4934',\n",
       " 'TCGA-02-0087',\n",
       " 'TCGA-08-0392',\n",
       " 'TCGA-02-0085',\n",
       " 'TCGA-06-0185',\n",
       " 'TCGA-06-0130',\n",
       " 'TCGA-06-0240',\n",
       " 'TCGA-02-0034',\n",
       " 'TCGA-06-0149',\n",
       " 'TCGA-02-0011',\n",
       " 'TCGA-06-0138',\n",
       " 'TCGA-76-6280',\n",
       " 'TCGA-19-5954',\n",
       " 'TCGA-76-6193',\n",
       " 'TCGA-06-0164',\n",
       " 'TCGA-06-5417',\n",
       " 'TCGA-19-5958',\n",
       " 'TCGA-76-6656',\n",
       " 'TCGA-06-0646',\n",
       " 'TCGA-02-0046',\n",
       " 'logging.txt',\n",
       " 'TCGA-06-0142',\n",
       " 'TCGA-02-0037',\n",
       " 'TCGA-08-0520']"
      ]
     },
     "execution_count": 173,
     "metadata": {},
     "output_type": "execute_result"
    }
   ],
   "source": [
    "os.listdir('/anvar/public_datasets/preproc_study/gbm/orig_ss_indiv')"
   ]
  },
  {
   "cell_type": "code",
   "execution_count": 163,
   "metadata": {},
   "outputs": [
    {
     "name": "stderr",
     "output_type": "stream",
     "text": [
      "102it [01:15,  1.35it/s]\n"
     ]
    }
   ],
   "source": [
    "root = Path('/anvar/public_datasets/preproc_study/{}/4a_resamp/'.format(dataset)) \n",
    "\n",
    "all_kl = []\n",
    "\n",
    "for patient in tqdm(root.glob('*')):\n",
    "    if patient.is_dir():\n",
    "        img = nibabel.load(patient / main_img).get_fdata()\n",
    "        mask = nibabel.load(patient / label_name).get_fdata()\n",
    "        brain = nibabel.load('/anvar/public_datasets/preproc_study/{}/5_ss_shared/'.format(dataset) +\n",
    "                             str(patient).split('/')[-1] +'/' + mask_name).get_fdata()\n",
    "        \n",
    "        kl, _, _, _ = compute_kl(img, brain, mask)\n",
    "        all_kl.append(kl)"
   ]
  },
  {
   "cell_type": "code",
   "execution_count": 164,
   "metadata": {},
   "outputs": [
    {
     "name": "stderr",
     "output_type": "stream",
     "text": [
      "103it [01:06,  1.54it/s]\n"
     ]
    }
   ],
   "source": [
    "root2 = Path('/anvar/public_datasets/preproc_study/{}/4d_susan'.format(dataset))\n",
    "\n",
    "all_kl_susan = []\n",
    "\n",
    "for patient in tqdm(root2.glob('*')):\n",
    "    if patient.is_dir():\n",
    "        try:\n",
    "            img = nibabel.load(patient / main_img).get_fdata()\n",
    "            mask = nibabel.load(patient / label_name).get_fdata()\n",
    "            brain = nibabel.load('/anvar/public_datasets/preproc_study/{}/5_ss_shared/'.format(dataset) +\n",
    "                                 str(patient).split('/')[-1] +'/' + mask_name).get_fdata()\n",
    "\n",
    "\n",
    "            kl, _, _, _ = compute_kl(img, brain, mask)\n",
    "            all_kl_susan.append(kl)\n",
    "        except:\n",
    "            pass"
   ]
  },
  {
   "cell_type": "code",
   "execution_count": 165,
   "metadata": {},
   "outputs": [
    {
     "name": "stderr",
     "output_type": "stream",
     "text": [
      "102it [01:14,  1.36it/s]\n"
     ]
    }
   ],
   "source": [
    "root2 = Path('/anvar/public_datasets/preproc_study/{}/6_hist/6_hist_fold_0/'.format(dataset))\n",
    "\n",
    "all_kl_hist = []\n",
    "\n",
    "for patient in tqdm(root2.glob('*')):\n",
    "    if patient.is_dir():\n",
    "        try:\n",
    "            img = nibabel.load(patient / main_img).get_fdata()\n",
    "            mask = nibabel.load(patient / label_name).get_fdata()\n",
    "            brain = nibabel.load('/anvar/public_datasets/preproc_study/{}/5_ss_shared/'.format(dataset) +\n",
    "                                 str(patient).split('/')[-1] +'/' + mask_name).get_fdata()\n",
    "\n",
    "            kl, _, _, _ = compute_kl(img, brain, mask)\n",
    "            all_kl_hist.append(kl)\n",
    "        except:\n",
    "            pass"
   ]
  },
  {
   "cell_type": "code",
   "execution_count": 166,
   "metadata": {},
   "outputs": [
    {
     "name": "stderr",
     "output_type": "stream",
     "text": [
      "103it [01:15,  1.36it/s]\n"
     ]
    }
   ],
   "source": [
    "root2 = Path('/anvar/public_datasets/preproc_study/{}/4b_n4/'.format(dataset))\n",
    "\n",
    "all_kl_n4 = []\n",
    "\n",
    "for patient in tqdm(root2.glob('*')):\n",
    "    if patient.is_dir():\n",
    "        try:\n",
    "            img = nibabel.load(patient / main_img).get_fdata()\n",
    "            mask = nibabel.load(patient / label_name).get_fdata()\n",
    "            brain = nibabel.load('/anvar/public_datasets/preproc_study/{}/5_ss_shared/'.format(dataset) +\n",
    "                                 str(patient).split('/')[-1] +'/' + mask_name).get_fdata()\n",
    "\n",
    "            kl, _, _, _ = compute_kl(img, brain, mask)\n",
    "            all_kl_n4.append(kl)\n",
    "        except:\n",
    "            pass"
   ]
  },
  {
   "cell_type": "code",
   "execution_count": 167,
   "metadata": {},
   "outputs": [
    {
     "name": "stderr",
     "output_type": "stream",
     "text": [
      "103it [01:05,  1.57it/s]\n"
     ]
    }
   ],
   "source": [
    "root2 = Path('/anvar/public_datasets/preproc_study/{}/5_ss_shared/'.format(dataset))\n",
    "\n",
    "all_kl_ss = []\n",
    "\n",
    "for patient in tqdm(root2.glob('*')):\n",
    "    if patient.is_dir():\n",
    "        try:\n",
    "            img = nibabel.load(patient / main_img).get_fdata()\n",
    "            mask = nibabel.load(patient / label_name).get_fdata()\n",
    "            brain = nibabel.load('/anvar/public_datasets/preproc_study/{}/5_ss_shared/'.format(dataset) +\n",
    "                                 str(patient).split('/')[-1] +'/' + mask_name).get_fdata()\n",
    "\n",
    "            kl, _, _, _ = compute_kl(img, brain, mask)\n",
    "            all_kl_ss.append(kl)\n",
    "        except:\n",
    "            pass"
   ]
  },
  {
   "cell_type": "code",
   "execution_count": 168,
   "metadata": {},
   "outputs": [],
   "source": [
    "from researchpy import ttest\n",
    "\n",
    "def ttest_pair(df_1, df_2, name_1 = 'one', name_2 = 'two', correction = None):\n",
    "    return ttest(pd.Series(df_1), pd.Series(df_2), \n",
    "#                  group1_name = name_1,\n",
    "#                  group2_name= name_2, \n",
    "                 equal_variances=False, paired=True,)[1].iloc[4].values[1]"
   ]
  },
  {
   "cell_type": "code",
   "execution_count": 169,
   "metadata": {},
   "outputs": [
    {
     "name": "stderr",
     "output_type": "stream",
     "text": [
      "/home/kate/miniconda3/lib/python3.9/site-packages/researchpy/ttest.py:38: FutureWarning: The series.append method is deprecated and will be removed from pandas in a future version. Use pandas.concat instead.\n",
      "  groups = group1.append(group2, ignore_index= True)\n"
     ]
    },
    {
     "data": {
      "text/plain": [
       "(   Variable      N      Mean        SD        SE  95% Conf.  Interval\n",
       " 0       NaN  102.0  4.926165  2.389519  0.236598   4.456819  5.395511\n",
       " 1       NaN  102.0  3.238569  2.070506  0.205011   2.831883  3.645255\n",
       " 2  combined  204.0  4.082367  2.385221  0.166999   3.753092  4.411642,\n",
       "             Independent t-test   results\n",
       " 0  Difference (None - None) =     1.6876\n",
       " 1        Degrees of freedom =   202.0000\n",
       " 2                         t =     5.3906\n",
       " 3     Two side test p value =     0.0000\n",
       " 4    Difference < 0 p value =     1.0000\n",
       " 5    Difference > 0 p value =     0.0000\n",
       " 6                 Cohen's d =     0.7548\n",
       " 7                 Hedge's g =     0.7520\n",
       " 8            Glass's delta1 =     0.7062\n",
       " 9          Point-Biserial r =     0.3546)"
      ]
     },
     "execution_count": 169,
     "metadata": {},
     "output_type": "execute_result"
    }
   ],
   "source": [
    "ttest(pd.Series(all_kl), pd.Series(all_kl_n4))"
   ]
  },
  {
   "cell_type": "code",
   "execution_count": 170,
   "metadata": {},
   "outputs": [
    {
     "name": "stderr",
     "output_type": "stream",
     "text": [
      "/home/kate/miniconda3/lib/python3.9/site-packages/researchpy/ttest.py:38: FutureWarning: The series.append method is deprecated and will be removed from pandas in a future version. Use pandas.concat instead.\n",
      "  groups = group1.append(group2, ignore_index= True)\n",
      "/home/kate/miniconda3/lib/python3.9/site-packages/researchpy/ttest.py:38: FutureWarning: The series.append method is deprecated and will be removed from pandas in a future version. Use pandas.concat instead.\n",
      "  groups = group1.append(group2, ignore_index= True)\n",
      "/home/kate/miniconda3/lib/python3.9/site-packages/researchpy/ttest.py:38: FutureWarning: The series.append method is deprecated and will be removed from pandas in a future version. Use pandas.concat instead.\n",
      "  groups = group1.append(group2, ignore_index= True)\n",
      "/home/kate/miniconda3/lib/python3.9/site-packages/researchpy/ttest.py:38: FutureWarning: The series.append method is deprecated and will be removed from pandas in a future version. Use pandas.concat instead.\n",
      "  groups = group1.append(group2, ignore_index= True)\n"
     ]
    }
   ],
   "source": [
    "pivot = pd.DataFrame(columns = ['Mean(STD)', 'P-value'])\n",
    "pivot.at[0,'Mean(STD)'] =  str(np.round(np.mean(all_kl),3)) + ' (' + str(np.round(np.std(all_kl),3)) +')'\n",
    "pivot.at[1,'Mean(STD)'] =  str(np.round(np.mean(all_kl_n4),3)) + ' (' + str(np.round(np.std(all_kl_n4),3)) +')'\n",
    "pivot.at[1,'P-value'] =  str(np.round(ttest_pair(all_kl, all_kl_n4),3)) \n",
    "pivot.at[2,'Mean(STD)'] =  str(np.round(np.mean(all_kl_susan),3)) + ' (' + str(np.round(np.std(all_kl_susan),3)) +')'\n",
    "pivot.at[2,'P-value'] =  str(np.round(ttest_pair(all_kl, all_kl_susan),3)) \n",
    "pivot.at[3,'Mean(STD)'] =  str(np.round(np.mean(all_kl_hist),3)) + ' (' + str(np.round(np.std(all_kl_hist),3)) +')'\n",
    "pivot.at[3,'P-value'] =  str(np.round(ttest_pair(all_kl, all_kl_hist),3)) \n",
    "pivot.at[4,'Mean(STD)'] =  str(np.round(np.mean(all_kl_ss),3)) + ' (' + str(np.round(np.std(all_kl_ss),3)) +')'\n",
    "pivot.at[4,'P-value'] =  str(np.round(ttest_pair(all_kl, all_kl_ss),3)) "
   ]
  },
  {
   "cell_type": "code",
   "execution_count": 136,
   "metadata": {},
   "outputs": [
    {
     "data": {
      "text/html": [
       "<div>\n",
       "<style scoped>\n",
       "    .dataframe tbody tr th:only-of-type {\n",
       "        vertical-align: middle;\n",
       "    }\n",
       "\n",
       "    .dataframe tbody tr th {\n",
       "        vertical-align: top;\n",
       "    }\n",
       "\n",
       "    .dataframe thead th {\n",
       "        text-align: right;\n",
       "    }\n",
       "</style>\n",
       "<table border=\"1\" class=\"dataframe\">\n",
       "  <thead>\n",
       "    <tr style=\"text-align: right;\">\n",
       "      <th></th>\n",
       "      <th>Mean(STD)</th>\n",
       "      <th>P-value</th>\n",
       "    </tr>\n",
       "  </thead>\n",
       "  <tbody>\n",
       "    <tr>\n",
       "      <th>0</th>\n",
       "      <td>0.784 (0.434)</td>\n",
       "      <td>NaN</td>\n",
       "    </tr>\n",
       "    <tr>\n",
       "      <th>1</th>\n",
       "      <td>0.634 (0.294)</td>\n",
       "      <td>0.0</td>\n",
       "    </tr>\n",
       "    <tr>\n",
       "      <th>2</th>\n",
       "      <td>0.826 (0.452)</td>\n",
       "      <td>0.0</td>\n",
       "    </tr>\n",
       "    <tr>\n",
       "      <th>3</th>\n",
       "      <td>0.728 (0.453)</td>\n",
       "      <td>0.0</td>\n",
       "    </tr>\n",
       "    <tr>\n",
       "      <th>4</th>\n",
       "      <td>0.784 (0.434)</td>\n",
       "      <td>0.171</td>\n",
       "    </tr>\n",
       "  </tbody>\n",
       "</table>\n",
       "</div>"
      ],
      "text/plain": [
       "       Mean(STD) P-value\n",
       "0  0.784 (0.434)     NaN\n",
       "1  0.634 (0.294)     0.0\n",
       "2  0.826 (0.452)     0.0\n",
       "3  0.728 (0.453)     0.0\n",
       "4  0.784 (0.434)   0.171"
      ]
     },
     "execution_count": 136,
     "metadata": {},
     "output_type": "execute_result"
    }
   ],
   "source": [
    "# kl ct1 tc\n",
    "pivot"
   ]
  },
  {
   "cell_type": "code",
   "execution_count": 171,
   "metadata": {},
   "outputs": [
    {
     "data": {
      "text/html": [
       "<div>\n",
       "<style scoped>\n",
       "    .dataframe tbody tr th:only-of-type {\n",
       "        vertical-align: middle;\n",
       "    }\n",
       "\n",
       "    .dataframe tbody tr th {\n",
       "        vertical-align: top;\n",
       "    }\n",
       "\n",
       "    .dataframe thead th {\n",
       "        text-align: right;\n",
       "    }\n",
       "</style>\n",
       "<table border=\"1\" class=\"dataframe\">\n",
       "  <thead>\n",
       "    <tr style=\"text-align: right;\">\n",
       "      <th></th>\n",
       "      <th>Mean(STD)</th>\n",
       "      <th>P-value</th>\n",
       "    </tr>\n",
       "  </thead>\n",
       "  <tbody>\n",
       "    <tr>\n",
       "      <th>0</th>\n",
       "      <td>4.926 (2.378)</td>\n",
       "      <td>NaN</td>\n",
       "    </tr>\n",
       "    <tr>\n",
       "      <th>1</th>\n",
       "      <td>3.239 (2.06)</td>\n",
       "      <td>0.0</td>\n",
       "    </tr>\n",
       "    <tr>\n",
       "      <th>2</th>\n",
       "      <td>5.196 (2.547)</td>\n",
       "      <td>0.0</td>\n",
       "    </tr>\n",
       "    <tr>\n",
       "      <th>3</th>\n",
       "      <td>4.875 (2.495)</td>\n",
       "      <td>0.002</td>\n",
       "    </tr>\n",
       "    <tr>\n",
       "      <th>4</th>\n",
       "      <td>4.937 (2.384)</td>\n",
       "      <td>0.386</td>\n",
       "    </tr>\n",
       "  </tbody>\n",
       "</table>\n",
       "</div>"
      ],
      "text/plain": [
       "       Mean(STD) P-value\n",
       "0  4.926 (2.378)     NaN\n",
       "1   3.239 (2.06)     0.0\n",
       "2  5.196 (2.547)     0.0\n",
       "3  4.875 (2.495)   0.002\n",
       "4  4.937 (2.384)   0.386"
      ]
     },
     "execution_count": 171,
     "metadata": {},
     "output_type": "execute_result"
    }
   ],
   "source": [
    "# kl flair et\n",
    "pivot"
   ]
  },
  {
   "cell_type": "code",
   "execution_count": 160,
   "metadata": {},
   "outputs": [
    {
     "data": {
      "text/html": [
       "<div>\n",
       "<style scoped>\n",
       "    .dataframe tbody tr th:only-of-type {\n",
       "        vertical-align: middle;\n",
       "    }\n",
       "\n",
       "    .dataframe tbody tr th {\n",
       "        vertical-align: top;\n",
       "    }\n",
       "\n",
       "    .dataframe thead th {\n",
       "        text-align: right;\n",
       "    }\n",
       "</style>\n",
       "<table border=\"1\" class=\"dataframe\">\n",
       "  <thead>\n",
       "    <tr style=\"text-align: right;\">\n",
       "      <th></th>\n",
       "      <th>Mean(STD)</th>\n",
       "      <th>P-value</th>\n",
       "    </tr>\n",
       "  </thead>\n",
       "  <tbody>\n",
       "    <tr>\n",
       "      <th>0</th>\n",
       "      <td>5.137 (2.455)</td>\n",
       "      <td>NaN</td>\n",
       "    </tr>\n",
       "    <tr>\n",
       "      <th>1</th>\n",
       "      <td>3.378 (2.128)</td>\n",
       "      <td>0.0</td>\n",
       "    </tr>\n",
       "    <tr>\n",
       "      <th>2</th>\n",
       "      <td>5.415 (2.626)</td>\n",
       "      <td>0.0</td>\n",
       "    </tr>\n",
       "    <tr>\n",
       "      <th>3</th>\n",
       "      <td>5.081 (2.575)</td>\n",
       "      <td>0.002</td>\n",
       "    </tr>\n",
       "    <tr>\n",
       "      <th>4</th>\n",
       "      <td>5.149 (2.461)</td>\n",
       "      <td>0.376</td>\n",
       "    </tr>\n",
       "  </tbody>\n",
       "</table>\n",
       "</div>"
      ],
      "text/plain": [
       "       Mean(STD) P-value\n",
       "0  5.137 (2.455)     NaN\n",
       "1  3.378 (2.128)     0.0\n",
       "2  5.415 (2.626)     0.0\n",
       "3  5.081 (2.575)   0.002\n",
       "4  5.149 (2.461)   0.376"
      ]
     },
     "execution_count": 160,
     "metadata": {},
     "output_type": "execute_result"
    }
   ],
   "source": [
    "#kl flair wt\n",
    "pivot"
   ]
  },
  {
   "cell_type": "code",
   "execution_count": 149,
   "metadata": {},
   "outputs": [
    {
     "data": {
      "text/html": [
       "<div>\n",
       "<style scoped>\n",
       "    .dataframe tbody tr th:only-of-type {\n",
       "        vertical-align: middle;\n",
       "    }\n",
       "\n",
       "    .dataframe tbody tr th {\n",
       "        vertical-align: top;\n",
       "    }\n",
       "\n",
       "    .dataframe thead th {\n",
       "        text-align: right;\n",
       "    }\n",
       "</style>\n",
       "<table border=\"1\" class=\"dataframe\">\n",
       "  <thead>\n",
       "    <tr style=\"text-align: right;\">\n",
       "      <th></th>\n",
       "      <th>Mean(STD)</th>\n",
       "      <th>P-value</th>\n",
       "    </tr>\n",
       "  </thead>\n",
       "  <tbody>\n",
       "    <tr>\n",
       "      <th>0</th>\n",
       "      <td>0.826 (0.449)</td>\n",
       "      <td>NaN</td>\n",
       "    </tr>\n",
       "    <tr>\n",
       "      <th>1</th>\n",
       "      <td>0.663 (0.301)</td>\n",
       "      <td>0.0</td>\n",
       "    </tr>\n",
       "    <tr>\n",
       "      <th>2</th>\n",
       "      <td>0.87 (0.468)</td>\n",
       "      <td>0.0</td>\n",
       "    </tr>\n",
       "    <tr>\n",
       "      <th>3</th>\n",
       "      <td>0.766 (0.47)</td>\n",
       "      <td>0.0</td>\n",
       "    </tr>\n",
       "    <tr>\n",
       "      <th>4</th>\n",
       "      <td>0.826 (0.449)</td>\n",
       "      <td>0.09</td>\n",
       "    </tr>\n",
       "  </tbody>\n",
       "</table>\n",
       "</div>"
      ],
      "text/plain": [
       "       Mean(STD) P-value\n",
       "0  0.826 (0.449)     NaN\n",
       "1  0.663 (0.301)     0.0\n",
       "2   0.87 (0.468)     0.0\n",
       "3   0.766 (0.47)     0.0\n",
       "4  0.826 (0.449)    0.09"
      ]
     },
     "execution_count": 149,
     "metadata": {},
     "output_type": "execute_result"
    }
   ],
   "source": [
    "#kl ct1 wt\n",
    "pivot"
   ]
  },
  {
   "cell_type": "code",
   "execution_count": 82,
   "metadata": {},
   "outputs": [
    {
     "data": {
      "text/html": [
       "<div>\n",
       "<style scoped>\n",
       "    .dataframe tbody tr th:only-of-type {\n",
       "        vertical-align: middle;\n",
       "    }\n",
       "\n",
       "    .dataframe tbody tr th {\n",
       "        vertical-align: top;\n",
       "    }\n",
       "\n",
       "    .dataframe thead th {\n",
       "        text-align: right;\n",
       "    }\n",
       "</style>\n",
       "<table border=\"1\" class=\"dataframe\">\n",
       "  <thead>\n",
       "    <tr style=\"text-align: right;\">\n",
       "      <th></th>\n",
       "      <th>Mean(STD)</th>\n",
       "      <th>P-value</th>\n",
       "    </tr>\n",
       "  </thead>\n",
       "  <tbody>\n",
       "    <tr>\n",
       "      <th>0</th>\n",
       "      <td>0.31 (0.08)</td>\n",
       "      <td>NaN</td>\n",
       "    </tr>\n",
       "    <tr>\n",
       "      <th>1</th>\n",
       "      <td>0.29 (0.07)</td>\n",
       "      <td>0.0</td>\n",
       "    </tr>\n",
       "    <tr>\n",
       "      <th>2</th>\n",
       "      <td>0.32 (0.08)</td>\n",
       "      <td>0.0</td>\n",
       "    </tr>\n",
       "    <tr>\n",
       "      <th>3</th>\n",
       "      <td>0.31 (0.08)</td>\n",
       "      <td>0.019</td>\n",
       "    </tr>\n",
       "    <tr>\n",
       "      <th>4</th>\n",
       "      <td>0.31 (0.08)</td>\n",
       "      <td>0.059</td>\n",
       "    </tr>\n",
       "  </tbody>\n",
       "</table>\n",
       "</div>"
      ],
      "text/plain": [
       "     Mean(STD) P-value\n",
       "0  0.31 (0.08)     NaN\n",
       "1  0.29 (0.07)     0.0\n",
       "2  0.32 (0.08)     0.0\n",
       "3  0.31 (0.08)   0.019\n",
       "4  0.31 (0.08)   0.059"
      ]
     },
     "execution_count": 82,
     "metadata": {},
     "output_type": "execute_result"
    }
   ],
   "source": [
    "#js distance\n",
    "pivot"
   ]
  },
  {
   "cell_type": "markdown",
   "metadata": {},
   "source": [
    "## Plotting the PSF for each subject"
   ]
  },
  {
   "cell_type": "code",
   "execution_count": 19,
   "metadata": {},
   "outputs": [],
   "source": [
    "def compute_cdf(img, brain, mask, _bin_heuristics = 'sturges'):\n",
    "    size_brain, _bins = np.histogram(img[brain.astype(bool)], bins = _bin_heuristics, density=True)\n",
    "    size_brain = size_brain/size_brain.sum()\n",
    "\n",
    "    size_healthy, _ = np.histogram(img[brain.astype(bool)^mask.astype(bool)].reshape(-1), bins=_bins, density=True)\n",
    "    size_tumor, _ = np.histogram(img[mask.astype(bool)].reshape(-1), bins = _bins, density=True)\n",
    "\n",
    "    size_healthy = size_healthy/size_healthy.sum()\n",
    "    size_tumor = size_tumor/size_tumor.sum()\n",
    "    \n",
    "    cdf_brain = np.cumsum(size_brain)\n",
    "    cdf_healthy = np.cumsum(size_healthy)\n",
    "    cdf_tumor = np.cumsum(size_tumor)\n",
    "        \n",
    "            \n",
    "    return cdf_brain, cdf_healthy, cdf_tumor, _bins"
   ]
  },
  {
   "cell_type": "code",
   "execution_count": 20,
   "metadata": {},
   "outputs": [
    {
     "data": {
      "text/plain": [
       "(array([2.04471735e-05, 3.95312021e-04, 3.88620219e-03, 2.45043884e-02,\n",
       "        7.54172308e-02, 1.95422312e-01, 6.41831199e-01, 9.70952621e-01,\n",
       "        9.88460359e-01, 9.94054210e-01, 9.96719778e-01, 9.98179582e-01,\n",
       "        9.98975163e-01, 9.99440491e-01, 9.99706304e-01, 9.99853772e-01,\n",
       "        9.99940517e-01, 9.99975835e-01, 9.99988227e-01, 9.99994423e-01,\n",
       "        9.99998761e-01, 1.00000000e+00]),\n",
       " array([2.08288231e-05, 4.02690579e-04, 3.95873873e-03, 2.49605041e-02,\n",
       "        7.67908212e-02, 1.95820602e-01, 6.36896177e-01, 9.70505755e-01,\n",
       "        9.88265167e-01, 9.93943862e-01, 9.96658552e-01, 9.98145604e-01,\n",
       "        9.98956034e-01, 9.99430048e-01, 9.99700822e-01, 9.99851042e-01,\n",
       "        9.99939407e-01, 9.99975384e-01, 9.99988008e-01, 9.99994319e-01,\n",
       "        9.99998738e-01, 1.00000000e+00]),\n",
       " array([0.00000000e+00, 0.00000000e+00, 0.00000000e+00, 6.76315434e-05,\n",
       "        1.82605167e-03, 1.74083593e-01, 9.06228865e-01, 9.94893818e-01,\n",
       "        9.98917895e-01, 9.99966184e-01, 1.00000000e+00, 1.00000000e+00,\n",
       "        1.00000000e+00, 1.00000000e+00, 1.00000000e+00, 1.00000000e+00,\n",
       "        1.00000000e+00, 1.00000000e+00, 1.00000000e+00, 1.00000000e+00,\n",
       "        1.00000000e+00, 1.00000000e+00]),\n",
       " array([   3.92000008,   55.19490996,  106.46981985,  157.74472974,\n",
       "         209.01963962,  260.29454951,  311.56945939,  362.84436928,\n",
       "         414.11927917,  465.39418905,  516.66909894,  567.94400883,\n",
       "         619.21891871,  670.4938286 ,  721.76873849,  773.04364837,\n",
       "         824.31855826,  875.59346815,  926.86837803,  978.14328792,\n",
       "        1029.41819781, 1080.69310769, 1131.96801758]))"
      ]
     },
     "execution_count": 20,
     "metadata": {},
     "output_type": "execute_result"
    }
   ],
   "source": [
    "img = nibabel.load(patient / main_img).get_fdata()\n",
    "mask = nibabel.load(patient / label_name).get_fdata()\n",
    "brain = nibabel.load('/anvar/public_datasets/preproc_study/{}/5_ss_shared/'.format(dataset) +\n",
    "                             str(patient).split('/')[-1] +'/' + mask_name).get_fdata()\n",
    "compute_cdf(img, brain, mask, _bin_heuristics = 'sturges')"
   ]
  },
  {
   "cell_type": "code",
   "execution_count": null,
   "metadata": {},
   "outputs": [],
   "source": [
    "def plot_qc(image, mask, patient_id ='test'):\n",
    "    fig, axs = plt.subplots(3,1,figsize=(12,12))\n",
    "    idx = np.argsort(mask.sum(axis=(0,1)))[-15::5]\n",
    "    for i in range(3):\n",
    "        axs[i, 0].imshow(image[..., idx[i]], cmap='gray')\n",
    "        axs[i, 1].imshow(mask[..., idx[i]]*200, cmap = 'afmhot')\n",
    "        axs[i, 2].imshow(image[..., idx[i]], cmap='gray')\n",
    "    axs[0,0].set_title(patient_id)\n",
    "    plt.tight_layout()\n",
    "    plt.savefig(f'{patient_id}.png', dpi=300, transparent=True)\n",
    "    plt.plot()"
   ]
  },
  {
   "cell_type": "code",
   "execution_count": 35,
   "metadata": {},
   "outputs": [
    {
     "name": "stderr",
     "output_type": "stream",
     "text": [
      "180it [04:14,  1.41s/it]\n"
     ]
    },
    {
     "data": {
      "image/png": "[encoded data removed]",
      "text/plain": [
       "<Figure size 432x288 with 1 Axes>"
      ]
     },
     "metadata": {
      "needs_background": "light"
     },
     "output_type": "display_data"
    }
   ],
   "source": [
    "dataset = 'bgpd'\n",
    "main_img = 'FLAIR.nii.gz'\n",
    "label_name = 'mask_GTV_FLAIR.nii.gz'\n",
    "mask_name = 'FLAIR_mask.nii.gz'\n",
    "root = Path('/anvar/public_datasets/preproc_study/{}/6_hist/6_hist_fold_0/'.format(dataset)) \n",
    "\n",
    "for patient in tqdm(root.glob('*')):\n",
    "    if patient.is_dir():\n",
    "        img = nibabel.load(patient / main_img).get_fdata()\n",
    "        mask = nibabel.load(patient / label_name).get_fdata()\n",
    "        brain = nibabel.load('/anvar/public_datasets/preproc_study/{}/5_ss_shared/'.format(dataset) +\n",
    "                             str(patient).split('/')[-1] +'/' + mask_name).get_fdata()\n",
    "        \n",
    "        cdf_brain, cdf_healthy, cdf_tumor, _bins = compute_cdf(img, brain, mask, _bin_heuristics = 100)\n",
    "        plt.plot(cdf_brain, 'r')\n",
    "plt.show()"
   ]
  },
  {
   "cell_type": "code",
   "execution_count": 38,
   "metadata": {},
   "outputs": [
    {
     "name": "stderr",
     "output_type": "stream",
     "text": [
      "180it [02:56,  1.02it/s]\n"
     ]
    },
    {
     "data": {
      "image/png": "[encoded data removed]",
      "text/plain": [
       "<Figure size 432x288 with 1 Axes>"
      ]
     },
     "metadata": {
      "needs_background": "light"
     },
     "output_type": "display_data"
    }
   ],
   "source": [
    "dataset = 'bgpd'\n",
    "main_img = 'FLAIR.nii.gz'\n",
    "label_name = 'mask_GTV_FLAIR.nii.gz'\n",
    "mask_name = 'FLAIR_mask.nii.gz'\n",
    "root = Path('/anvar/public_datasets/preproc_study/{}/6_hist/6_hist_fold_0/'.format(dataset)) \n",
    "\n",
    "for patient in tqdm(root.glob('*')):\n",
    "    if patient.is_dir():\n",
    "        img = nibabel.load(patient / main_img).get_fdata()\n",
    "        mask = nibabel.load(patient / label_name).get_fdata()\n",
    "        brain = nibabel.load('/anvar/public_datasets/preproc_study/{}/5_ss_shared/'.format(dataset) +\n",
    "                             str(patient).split('/')[-1] +'/' + mask_name).get_fdata()\n",
    "        \n",
    "        cdf_brain, cdf_healthy, cdf_tumor, _bins = compute_cdf(img, brain, mask, _bin_heuristics = 100)\n",
    "        plt.plot(cdf_healthy, 'r')\n",
    "plt.show()"
   ]
  },
  {
   "cell_type": "code",
   "execution_count": 39,
   "metadata": {},
   "outputs": [
    {
     "name": "stderr",
     "output_type": "stream",
     "text": [
      "180it [02:51,  1.05it/s]\n"
     ]
    },
    {
     "data": {
      "image/png": "[encoded data removed]",
      "text/plain": [
       "<Figure size 432x288 with 1 Axes>"
      ]
     },
     "metadata": {
      "needs_background": "light"
     },
     "output_type": "display_data"
    }
   ],
   "source": [
    "dataset = 'bgpd'\n",
    "main_img = 'FLAIR.nii.gz'\n",
    "label_name = 'mask_GTV_FLAIR.nii.gz'\n",
    "mask_name = 'FLAIR_mask.nii.gz'\n",
    "root = Path('/anvar/public_datasets/preproc_study/{}/6_hist/6_hist_fold_0/'.format(dataset)) \n",
    "\n",
    "for patient in tqdm(root.glob('*')):\n",
    "    if patient.is_dir():\n",
    "        img = nibabel.load(patient / main_img).get_fdata()\n",
    "        mask = nibabel.load(patient / label_name).get_fdata()\n",
    "        brain = nibabel.load('/anvar/public_datasets/preproc_study/{}/5_ss_shared/'.format(dataset) +\n",
    "                             str(patient).split('/')[-1] +'/' + mask_name).get_fdata()\n",
    "        \n",
    "        cdf_brain, cdf_healthy, cdf_tumor, _bins = compute_cdf(img, brain, mask, _bin_heuristics = 100)\n",
    "        plt.plot(cdf_tumor, 'r')\n",
    "plt.show()"
   ]
  },
  {
   "cell_type": "code",
   "execution_count": null,
   "metadata": {},
   "outputs": [],
   "source": []
  }
 ],
 "metadata": {
  "kernelspec": {
   "display_name": "Python 3 (ipykernel)",
   "language": "python",
   "name": "python3"
  },
  "language_info": {
   "codemirror_mode": {
    "name": "ipython",
    "version": 3
   },
   "file_extension": ".py",
   "mimetype": "text/x-python",
   "name": "python",
   "nbconvert_exporter": "python",
   "pygments_lexer": "ipython3",
   "version": "3.9.1"
  }
 },
 "nbformat": 4,
 "nbformat_minor": 4
}
