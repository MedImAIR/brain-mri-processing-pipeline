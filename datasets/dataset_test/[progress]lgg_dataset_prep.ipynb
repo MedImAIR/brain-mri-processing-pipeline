{
 "cells": [
  {
   "cell_type": "code",
   "execution_count": 284,
   "metadata": {},
   "outputs": [],
   "source": [
    "import nibabel\n",
    "\n",
    "import os\n",
    "import numpy as np\n",
    "import pandas as pd\n",
    "import matplotlib.pyplot as plt\n",
    "import glob\n",
    "\n",
    "from pydicom import dcmread\n",
    "from pathlib import Path\n",
    "from subprocess import check_call\n",
    "from tqdm import tqdm\n",
    "from shutil import rmtree\n",
    "\n",
    "\n",
    "from mri_brain.contours import mask_to_dicom\n",
    "from dicom_csv import join_tree\n",
    "from dicom_csv.spatial import order_series\n",
    "import ants\n",
    "\n",
    "import dicom_csv\n",
    "from dicom_csv import join_tree, order_series, stack_images\n",
    "from pathlib import Path"
   ]
  },
  {
   "cell_type": "code",
   "execution_count": null,
   "metadata": {},
   "outputs": [],
   "source": [
    "import nibabel\n",
    "import slicer\n",
    "import matplotlib.pyplot as plt\n",
    "from pydicom import dcmread"
   ]
  },
  {
   "cell_type": "markdown",
   "metadata": {},
   "source": [
    "### LGG dataset creation\n",
    "\n",
    "1. Populate folders with lgg_path.csv - doesn't work because of wrong labels (COR are not in the segmentation)\n",
    "1.1 Populate only 38 folders and manually check that they are ok\n",
    "2. Check if there are propeply transferred with saving nii.gz\n",
    "3. Transfer RT struct\n",
    "4. Compose rtstruct files into nifty\n",
    "5. Visually check the data"
   ]
  },
  {
   "cell_type": "markdown",
   "metadata": {},
   "source": [
    "### Pipeline creating the dataset\n",
    "\n",
    "\n",
    "1. Cheching nii files\n",
    "2. Checking the packages dicom\n",
    "3. Adding rt structure\n",
    "4. Composing rt structure from dicom to nii"
   ]
  },
  {
   "cell_type": "code",
   "execution_count": 2587,
   "metadata": {},
   "outputs": [],
   "source": [
    "root = Path('/anvar/public_datasets/tcia/manifest-25ZdsnMy5264093150469993200/TCGA-LGG/')\n",
    "# df = join_tree(root, verbose=1)\n",
    "# df.to_csv(root.parent / 'meta.csv', index=False)\n",
    "# df = pd.read_csv(root.parent / 'meta.csv')"
   ]
  },
  {
   "cell_type": "code",
   "execution_count": null,
   "metadata": {},
   "outputs": [],
   "source": [
    "basedir = '/anvar/public_datasets/tcia/'\n",
    "savedir = '/anvar/public_datasets/preproc_study/lgg/dicom/'\n",
    "str(root / subject['PathToFolder'].values[0]).replace(basedir, '')"
   ]
  },
  {
   "cell_type": "markdown",
   "metadata": {},
   "source": [
    "### Saving RTSTRUCT to each folder"
   ]
  },
  {
   "cell_type": "code",
   "execution_count": 253,
   "metadata": {
    "collapsed": true
   },
   "outputs": [
    {
     "name": "stdout",
     "output_type": "stream",
     "text": [
      "TCGA-CS-6188\n",
      "TCGA-DU-7015\n",
      "TCGA-CS-5393\n",
      "TCGA-DU-8167\n",
      "TCGA-DU-7306\n",
      "TCGA-CS-4942\n",
      "TCGA-CS-6186\n",
      "TCGA-DU-8164\n",
      "TCGA-DU-7300\n",
      "TCGA-DU-7301\n",
      "TCGA-DU-6404\n",
      "TCGA-DU-8162\n",
      "TCGA-DU-7299\n",
      "TCGA-CS-6668\n",
      "TCGA-DU-8168\n",
      "TCGA-DU-5854\n",
      "TCGA-CS-6666\n",
      "TCGA-CS-5397\n",
      "TCGA-CS-4944\n",
      "TCGA-DU-6542\n",
      "TCGA-DU-8166\n",
      "TCGA-DU-5872\n",
      "TCGA-CS-6665\n",
      "TCGA-DU-7019\n",
      "TCGA-DU-7008\n",
      "TCGA-CS-6669\n",
      "TCGA-DU-7298\n",
      "TCGA-DU-7018\n",
      "TCGA-DU-5855\n",
      "TCGA-DU-5851\n",
      "TCGA-DU-7010\n",
      "TCGA-DU-5874\n",
      "TCGA-DU-7309\n",
      "TCGA-DU-7302\n",
      "TCGA-CS-5396\n",
      "TCGA-DU-7294\n",
      "TCGA-DU-7304\n",
      "TCGA-DU-7014\n"
     ]
    }
   ],
   "source": [
    "count = 0\n",
    "for i in os.listdir(root):\n",
    "    try:\n",
    "        shutil.copytree(glob.glob('/anvar/public_datasets/tcia/manifest-1588284345182/TCGA-LGG/' + i +'/*/')[0], \n",
    "                        '/anvar/public_datasets/lgg/dicom/' + i + '/RTSTRUCT/') \n",
    "        count+=1\n",
    "        print (i)\n",
    "    except:\n",
    "        pass"
   ]
  },
  {
   "cell_type": "code",
   "execution_count": 285,
   "metadata": {},
   "outputs": [
    {
     "data": {
      "text/plain": [
       "38"
      ]
     },
     "execution_count": 285,
     "metadata": {},
     "output_type": "execute_result"
    }
   ],
   "source": [
    "len(os.listdir('/anvar/public_datasets/preproc_study/lgg/dicom/'))"
   ]
  },
  {
   "cell_type": "code",
   "execution_count": 267,
   "metadata": {
    "collapsed": true
   },
   "outputs": [
    {
     "name": "stdout",
     "output_type": "stream",
     "text": [
      "TCGA-CS-6188\n",
      "9\n",
      "TCGA-DU-7015\n",
      "8\n",
      "TCGA-CS-5393\n",
      "8\n",
      "TCGA-DU-8167\n",
      "8\n",
      "TCGA-DU-7306\n",
      "8\n",
      "TCGA-CS-4942\n",
      "8\n",
      "TCGA-CS-6186\n",
      "8\n",
      "TCGA-DU-8164\n",
      "8\n",
      "TCGA-DU-7300\n",
      "8\n",
      "TCGA-DU-5852\n",
      "TCGA-DU-6400\n",
      "TCGA-DU-7301\n",
      "8\n",
      "TCGA-DU-7013\n",
      "TCGA-DU-6404\n",
      "8\n",
      "TCGA-DU-8162\n",
      "8\n",
      "TCGA-DU-7299\n",
      "8\n",
      "TCGA-CS-6668\n",
      "8\n",
      "TCGA-DU-8168\n",
      "8\n",
      "TCGA-DU-5854\n",
      "8\n",
      "TCGA-CS-6666\n",
      "8\n",
      "TCGA-CS-5397\n",
      "8\n",
      "TCGA-DU-6397\n",
      "TCGA-CS-4944\n",
      "8\n",
      "TCGA-DU-6399\n",
      "TCGA-DU-6408\n",
      "TCGA-DU-6542\n",
      "8\n",
      "TCGA-DU-8166\n",
      "8\n",
      "TCGA-DU-5872\n",
      "8\n",
      "TCGA-DU-8165\n",
      "TCGA-DU-5853\n",
      "TCGA-CS-6665\n",
      "8\n",
      "TCGA-DU-7019\n",
      "8\n",
      "TCGA-DU-7008\n",
      "8\n",
      "TCGA-DU-8163\n",
      "TCGA-CS-4938\n",
      "TCGA-CS-4941\n",
      "TCGA-CS-6669\n",
      "8\n",
      "TCGA-DU-7298\n",
      "8\n",
      "TCGA-DU-6405\n",
      "TCGA-CS-5390\n",
      "TCGA-CS-6290\n",
      "TCGA-DU-7018\n",
      "8\n",
      "TCGA-DU-6410\n",
      "TCGA-DU-5855\n",
      "8\n",
      "TCGA-DU-5851\n",
      "8\n",
      "TCGA-DU-7010\n",
      "8\n",
      "TCGA-DU-5874\n",
      "8\n",
      "TCGA-DU-7309\n",
      "8\n",
      "TCGA-CS-5394\n",
      "TCGA-DU-5871\n",
      "TCGA-DU-7302\n",
      "8\n",
      "TCGA-DU-5849\n",
      "TCGA-CS-5396\n",
      "8\n",
      "TCGA-DU-7294\n",
      "8\n",
      "TCGA-DU-8158\n",
      "TCGA-DU-7304\n",
      "8\n",
      "TCGA-CS-6667\n",
      "TCGA-CS-4943\n",
      "TCGA-DU-7014\n",
      "8\n",
      "TCGA-DU-6395\n"
     ]
    }
   ],
   "source": [
    "# delete folders w/o RTSTRUCT\n",
    "for i in os.listdir('/anvar/public_datasets/preproc_study/lgg/dicom/'):\n",
    "    print(i)\n",
    "    try:\n",
    "        print(len(os.listdir('/anvar/public_datasets/preproc_study/lgg/dicom/' + i + '/RTSTRUCT/')))\n",
    "    except:\n",
    "        shutil.rmtree('/anvar/public_datasets/preproc_study/lgg/dicom/' +i )"
   ]
  },
  {
   "cell_type": "markdown",
   "metadata": {},
   "source": [
    "### Define list of subjects to process"
   ]
  },
  {
   "cell_type": "code",
   "execution_count": null,
   "metadata": {},
   "outputs": [],
   "source": [
    "paths = pd.read_csv('../lgg_paths.csv')"
   ]
  },
  {
   "cell_type": "code",
   "execution_count": 296,
   "metadata": {},
   "outputs": [],
   "source": [
    "list_sub = os.listdir('/anvar/public_datasets/preproc_study/lgg/dicom/')"
   ]
  },
  {
   "cell_type": "code",
   "execution_count": 2259,
   "metadata": {},
   "outputs": [],
   "source": [
    "def load_series(sub, root=None):\n",
    "    \"\"\"Loads DICOMs in specific order coincided with SegmentationStorage ordering.\"\"\"\n",
    "    if isinstance(root, Path):\n",
    "        return order_series([dcmread(root / file.PathToFolder / file.FileName) for _, file in sub.iterrows()])[::-1]\n",
    "\n",
    "def get_segmentation_storage_mask(segmentation_storage, subject):\n",
    "    \"\"\"Returns (width, height, 3) mask, with values 1,2,3 corresponding to different BraTS classes.\"\"\"\n",
    "    chanel_len = len(subject)\n",
    "    mask = segmentation_storage.pixel_array\n",
    "    mask = np.transpose(mask, (2,1,0))\n",
    "    n_channels = np.shape(mask)[2] // chanel_len\n",
    "    \n",
    "    if n_channels == 3:\n",
    "        mask = np.array(np.split(mask, 3, axis=2))\n",
    "        mask = np.array([1,2,3]).reshape((3, 1, 1, 1)) * mask\n",
    "    elif n_channels == 2:\n",
    "        mask = np.array(np.split(mask, 2, axis=2))\n",
    "        mask = np.array([1,2]).reshape((2, 1, 1, 1)) * mask\n",
    "    \n",
    "    print('We have n_channels:', n_channels)\n",
    "#     return np.flip(mask.sum(axis=0),axis=2) \n",
    "    #flips seems to estimated only visually. So I was returning to, if these were not aligned\n",
    "    return mask.sum(axis=0)\n",
    "\n",
    "def get_reference_uid(segmentation_storage):\n",
    "    \"\"\"Returns reference SeriesInstanceUID of given SegmentationStorage\"\"\"\n",
    "    return str(segmentation_storage.ReferencedSeriesSequence[0][('0020', '000e')].value)"
   ]
  },
  {
   "cell_type": "markdown",
   "metadata": {},
   "source": [
    "# Starting search:"
   ]
  },
  {
   "cell_type": "code",
   "execution_count": 1120,
   "metadata": {},
   "outputs": [],
   "source": [
    "# choosing subject\n",
    "sub = list_sub[0]"
   ]
  },
  {
   "cell_type": "code",
   "execution_count": 1121,
   "metadata": {
    "scrolled": true
   },
   "outputs": [
    {
     "name": "stdout",
     "output_type": "stream",
     "text": [
      "T2.nii.gz\n",
      "/anvar/public_datasets/preproc_study/lgg/orig/TCGA-CS-5393/T2.nii.gz\n",
      "(512, 512, 20)\n"
     ]
    },
    {
     "data": {
      "image/png": "[encoded data removed]",
      "text/plain": [
       "<Figure size 633.6x540 with 12 Axes>"
      ]
     },
     "metadata": {
      "needs_background": "light"
     },
     "output_type": "display_data"
    },
    {
     "name": "stdout",
     "output_type": "stream",
     "text": [
      "FLAIR.nii.gz\n",
      "/anvar/public_datasets/preproc_study/lgg/orig/TCGA-CS-5393/FLAIR.nii.gz\n",
      "(256, 256, 20)\n"
     ]
    },
    {
     "data": {
      "image/png": "[encoded data removed]",
      "text/plain": [
       "<Figure size 633.6x540 with 12 Axes>"
      ]
     },
     "metadata": {
      "needs_background": "light"
     },
     "output_type": "display_data"
    },
    {
     "name": "stdout",
     "output_type": "stream",
     "text": [
      "T1.nii.gz\n",
      "/anvar/public_datasets/preproc_study/lgg/orig/TCGA-CS-5393/T1.nii.gz\n",
      "(256, 256, 18)\n"
     ]
    },
    {
     "data": {
      "image/png": "[encoded data removed]",
      "text/plain": [
       "<Figure size 432x540 with 12 Axes>"
      ]
     },
     "metadata": {
      "needs_background": "light"
     },
     "output_type": "display_data"
    }
   ],
   "source": [
    "# checking T2 if saved correctly\n",
    "for i in os.listdir('/anvar/public_datasets/preproc_study/lgg/orig/'+ sub):\n",
    "    if i != 'CT1.nii.gz':\n",
    "        print(i)\n",
    "        img = ants.image_read('/anvar/public_datasets/preproc_study/lgg/orig/'+ sub +'/'+ i)\n",
    "        print('/anvar/public_datasets/preproc_study/lgg/orig/'+ sub +'/'+ i)\n",
    "        print(img.shape)\n",
    "        ants.plot(img)"
   ]
  },
  {
   "cell_type": "markdown",
   "metadata": {},
   "source": [
    "## If wrong naming - delete excessive files:"
   ]
  },
  {
   "cell_type": "code",
   "execution_count": 1092,
   "metadata": {},
   "outputs": [],
   "source": [
    "!sudo cp /anvar/public_datasets/preproc_study/lgg/orig/TCGA-DU-7014/T2_e1.nii.gz /anvar/public_datasets/preproc_study/lgg/orig/TCGA-DU-7014/T2.nii.gz"
   ]
  },
  {
   "cell_type": "code",
   "execution_count": 1093,
   "metadata": {},
   "outputs": [],
   "source": [
    "# deleting files\n",
    "!sudo rm /anvar/public_datasets/preproc_study/lgg/orig/TCGA-DU-7014/T2_e1.nii.gz"
   ]
  },
  {
   "cell_type": "markdown",
   "metadata": {},
   "source": [
    "## SAVING CT1 retstruct"
   ]
  },
  {
   "cell_type": "code",
   "execution_count": 2570,
   "metadata": {},
   "outputs": [
    {
     "data": {
      "text/plain": [
       "['300.000000-BRAINSTRYKERT1AXIAL Glioma Segmentation Corrected-32318',\n",
       " '300.000000-BRAINSTRYKERFLAIR Glioma Segmentation Corrected-29897',\n",
       " '300.000000-BRAINNONCONTRASTFL2DA Glioma Segmentation Corrected-52878']"
      ]
     },
     "execution_count": 2570,
     "metadata": {},
     "output_type": "execute_result"
    }
   ],
   "source": [
    "# choosing subject\n",
    "sub = list_sub[18]\n",
    "\n",
    "\n",
    "# checking what rt structure you want\n",
    "rt_basedir = '/anvar/public_datasets/preproc_study/lgg/dicom/' + sub + '/RTSTRUCT'\n",
    "list_rt_struct = os.listdir(rt_basedir)\n",
    "list_rt_struct_corrected = [s for s in list_rt_struct if 'Corrected' in s]\n",
    "list_rt_struct_corrected "
   ]
  },
  {
   "cell_type": "markdown",
   "metadata": {},
   "source": [
    "## Attention:"
   ]
  },
  {
   "cell_type": "code",
   "execution_count": 2571,
   "metadata": {},
   "outputs": [
    {
     "name": "stdout",
     "output_type": "stream",
     "text": [
      "/anvar/public_datasets/preproc_study/lgg/dicom/TCGA-CS-4944/RTSTRUCT/300.000000-BRAINSTRYKERT1AXIAL Glioma Segmentation Corrected-32318\n"
     ]
    }
   ],
   "source": [
    "# поменять по порядку в корректер, нумерация яс 0\n",
    "rtstruct_subfolder = rt_basedir + '/'+ list_rt_struct_corrected[0]\n",
    "print(rtstruct_subfolder)\n",
    "df_rt = dicom_csv.join_tree(rtstruct_subfolder)"
   ]
  },
  {
   "cell_type": "code",
   "execution_count": 2572,
   "metadata": {},
   "outputs": [
    {
     "name": "stdout",
     "output_type": "stream",
     "text": [
      "TCGA-CS-4944/02-08-2001-JHN BRAIN-IP-65472/3.000000-BRAINSTRYKERT1AXIAL-13550 20\n",
      "We have n_channels: 2\n"
     ]
    }
   ],
   "source": [
    "rtstruct_dicom_folder = rtstruct_subfolder + '/1-1.dcm'\n",
    "save_folder = Path(rtstruct_subfolder.replace(rtstruct_subfolder.split('/')[-1],'') + 'CT1/')\n",
    "try:\n",
    "    shutil.rmtree(save_folder)\n",
    "except:\n",
    "    pass\n",
    "Path.mkdir(save_folder, exist_ok=True)\n",
    "segmentation_storage = dcmread(rtstruct_dicom_folder)\n",
    "\n",
    "reference_uid = get_reference_uid(segmentation_storage)\n",
    "subject = df.query('SeriesInstanceUID==@reference_uid')\n",
    "path_to_ct1 = df.query('SeriesInstanceUID==@reference_uid')['PathToFolder'].iloc[0]\n",
    "\n",
    "image_series = load_series(subject, root)\n",
    "print(path_to_ct1, len(subject)) \n",
    "\n",
    "mask = get_segmentation_storage_mask(segmentation_storage, subject)\n",
    "mask_to_dicom(image_series, mask, folder=save_folder)  "
   ]
  },
  {
   "cell_type": "markdown",
   "metadata": {},
   "source": [
    "нужно теперь проверить, что СТ1 мы нужный сохранили, и его можно собрать в другую папку допустим:"
   ]
  },
  {
   "cell_type": "markdown",
   "metadata": {},
   "source": [
    "### checking saved CT1"
   ]
  },
  {
   "cell_type": "code",
   "execution_count": 2588,
   "metadata": {},
   "outputs": [
    {
     "data": {
      "text/plain": [
       "True"
      ]
     },
     "execution_count": 2588,
     "metadata": {},
     "output_type": "execute_result"
    }
   ],
   "source": [
    "ct1_folder_file = os.listdir(str((Path(rtstruct_subfolder.replace('RTSTRUCT/'+rtstruct_subfolder.split('/')[-1],'') + 'CT1/'))))\n",
    "ct1_folder = (rtstruct_subfolder.replace('RTSTRUCT/'+rtstruct_subfolder.split('/')[-1],'') + 'CT1/')\n",
    "\n",
    "if (os.listdir(ct1_folder)) != os.listdir(str(root / path_to_ct1)):\n",
    "    print('hi')\n",
    "    shutil.rmtree(ct1_folder)\n",
    "    Path.mkdir(Path(ct1_folder), exist_ok=True)\n",
    "    for i in (os.listdir(str(root / path_to_ct1))):\n",
    "        shutil.copy(str(root / path_to_ct1) + '/' + i, ct1_folder)\n",
    "#check if transfereed correcntly        \n",
    "(os.listdir(ct1_folder)) == os.listdir(str(root / path_to_ct1))"
   ]
  },
  {
   "cell_type": "code",
   "execution_count": 2597,
   "metadata": {},
   "outputs": [
    {
     "ename": "FileNotFoundError",
     "evalue": "[Errno 2] No such file or directory: '/anvar/public_datasets/preproc_study/lgg/orig/TCGA-CS-4944/CT1.nii.gz'",
     "output_type": "error",
     "traceback": [
      "\u001b[0;31m---------------------------------------------------------------------------\u001b[0m",
      "\u001b[0;31mFileNotFoundError\u001b[0m                         Traceback (most recent call last)",
      "\u001b[0;32m/tmp/ipykernel_3037834/1241734699.py\u001b[0m in \u001b[0;36m<module>\u001b[0;34m\u001b[0m\n\u001b[1;32m      1\u001b[0m \u001b[0mos\u001b[0m\u001b[0;34m.\u001b[0m\u001b[0mremove\u001b[0m\u001b[0;34m(\u001b[0m\u001b[0;34m'/anvar/public_datasets/preproc_study/lgg/orig/'\u001b[0m \u001b[0;34m+\u001b[0m\u001b[0msub\u001b[0m\u001b[0;34m+\u001b[0m \u001b[0;34m'/CT1_SEG.nii.gz'\u001b[0m\u001b[0;34m)\u001b[0m\u001b[0;34m\u001b[0m\u001b[0;34m\u001b[0m\u001b[0m\n\u001b[0;32m----> 2\u001b[0;31m \u001b[0mos\u001b[0m\u001b[0;34m.\u001b[0m\u001b[0mremove\u001b[0m\u001b[0;34m(\u001b[0m\u001b[0;34m'/anvar/public_datasets/preproc_study/lgg/orig/'\u001b[0m \u001b[0;34m+\u001b[0m\u001b[0msub\u001b[0m\u001b[0;34m+\u001b[0m \u001b[0;34m'/CT1.nii.gz'\u001b[0m\u001b[0;34m)\u001b[0m\u001b[0;34m\u001b[0m\u001b[0;34m\u001b[0m\u001b[0m\n\u001b[0m",
      "\u001b[0;31mFileNotFoundError\u001b[0m: [Errno 2] No such file or directory: '/anvar/public_datasets/preproc_study/lgg/orig/TCGA-CS-4944/CT1.nii.gz'"
     ]
    }
   ],
   "source": [
    "os.remove('/anvar/public_datasets/preproc_study/lgg/dicom/' +sub+ '/CT1_SEG.nii.gz')\n",
    "os.remove('/anvar/public_datasets/preproc_study/lgg/orig/' +sub+ '/CT1/')"
   ]
  },
  {
   "cell_type": "code",
   "execution_count": 2540,
   "metadata": {},
   "outputs": [
    {
     "name": "stdout",
     "output_type": "stream",
     "text": [
      "Chris Rorden's dcm2niiX version v1.0.20211006  GCC9.3.0 x86-64 (64-bit Linux)\r\n",
      "Found 20 DICOM file(s)\r\n",
      "Warning: Siemens MoCo? Bogus slice timing (range -1..-1, TR=540 seconds)\r\n",
      "Convert 20 DICOM as /anvar/public_datasets/preproc_study/lgg/orig/TCGA-CS-4944/CT1_SEG (256x256x20x1)\r\n",
      "Compress: \"/usr/bin/pigz\" -b 960 -n -f -6 \"/anvar/public_datasets/preproc_study/lgg/orig/TCGA-CS-4944/CT1_SEG.nii\"\r\n",
      "Conversion required 0.027862 seconds (0.017277 for core code).\r\n"
     ]
    }
   ],
   "source": [
    "!dcm2niix -b n -f CT1_SEG -z y -o /anvar/public_datasets/preproc_study/lgg/orig/TCGA${sub}/ /anvar/public_datasets/preproc_study/lgg/dicom/TCGA${sub}/RTSTRUCT/CT1/"
   ]
  },
  {
   "cell_type": "code",
   "execution_count": 2566,
   "metadata": {},
   "outputs": [
    {
     "name": "stdout",
     "output_type": "stream",
     "text": [
      "Chris Rorden's dcm2niiX version v1.0.20211006  GCC9.3.0 x86-64 (64-bit Linux)\n",
      "Found 20 DICOM file(s)\n",
      "Warning: Siemens MoCo? Bogus slice timing (range -1..-1, TR=440 seconds)\n",
      "Convert 20 DICOM as /anvar/public_datasets/preproc_study/lgg/orig/TCGA-CS-4944/CT1 (256x256x20x1)\n",
      "Compress: \"/usr/bin/pigz\" -b 960 -n -f -6 \"/anvar/public_datasets/preproc_study/lgg/orig/TCGA-CS-4944/CT1.nii\"\n",
      "Conversion required 0.096355 seconds (0.016656 for core code).\n"
     ]
    }
   ],
   "source": [
    "!dcm2niix -b n -f CT1 -z y -o /anvar/public_datasets/preproc_study/lgg/orig/TCGA${sub}/ /anvar/public_datasets/preproc_study/lgg/dicom/TCGA${sub}/CT1/"
   ]
  },
  {
   "cell_type": "markdown",
   "metadata": {},
   "source": [
    "# DONE"
   ]
  },
  {
   "cell_type": "code",
   "execution_count": 2615,
   "metadata": {},
   "outputs": [
    {
     "data": {
      "text/plain": [
       "'TCGA-CS-6668'"
      ]
     },
     "execution_count": 2615,
     "metadata": {},
     "output_type": "execute_result"
    }
   ],
   "source": [
    "list_sub[13]"
   ]
  },
  {
   "cell_type": "code",
   "execution_count": 2617,
   "metadata": {},
   "outputs": [
    {
     "data": {
      "application/vnd.jupyter.widget-view+json": {
       "model_id": "ee4f336dcb4240fa9a85bd2159150c5c",
       "version_major": 2,
       "version_minor": 0
      },
      "text/plain": [
       "interactive(children=(IntSlider(value=0, continuous_update=False, description='idx', max=169), Output()), _dom…"
      ]
     },
     "metadata": {},
     "output_type": "display_data"
    }
   ],
   "source": [
    "sub = list_sub[13]         \n",
    "ct1 = ants.image_read('/anvar/public_datasets/preproc_study/lgg/orig/' + sub + '/CT1.nii.gz')\n",
    "ct1_seg = ants.image_read('/anvar/public_datasets/preproc_study/lgg/orig/' + sub + '/CT1_SEG.nii.gz')\n",
    "# flair = ants.image_read('/anvar/public_datasets/preproc_study/lgg/1_reg/' + sub + '/FLAIR.nii.gz')\n",
    "# flair = ants.reorient_image2(flair, ct1.get_orientation())\n",
    "slice3d(ct1.numpy(), np.flip(ct1_seg.numpy(),axis =2))"
   ]
  },
  {
   "cell_type": "code",
   "execution_count": 2544,
   "metadata": {},
   "outputs": [
    {
     "data": {
      "application/vnd.jupyter.widget-view+json": {
       "model_id": "97eb1a41080c458a973ef71c69e13c1a",
       "version_major": 2,
       "version_minor": 0
      },
      "text/plain": [
       "interactive(children=(IntSlider(value=0, continuous_update=False, description='idx', max=239), Output()), _dom…"
      ]
     },
     "metadata": {},
     "output_type": "display_data"
    }
   ],
   "source": [
    "ct1_nii = ants.image_read(\n",
    "    glob.glob('/anvar/public_datasets/tcia/Pre-operative_TCGA_LGG_NIfTI_and_Segmentations/' + sub + '/*_t1Gd.nii.gz')[0])\n",
    "ct1_nii = ants.reorient_image2(ct1_nii, ct1.get_orientation())\n",
    "\n",
    "flair_nii = ants.image_read(\n",
    "    glob.glob('/anvar/public_datasets/tcia/Pre-operative_TCGA_LGG_NIfTI_and_Segmentations/' + sub + '/*_flair.nii.gz')[0])\n",
    "flair_nii = ants.reorient_image2(flair_nii, ct1.get_orientation())\n",
    "\n",
    "ct1_seg_nii = ants.image_read(\n",
    "    glob.glob('/anvar/public_datasets/tcia/Pre-operative_TCGA_LGG_NIfTI_and_Segmentations/' + sub + '/*_GlistrBoost_ManuallyCorrected.nii.gz')[0])\n",
    "ct1_seg_nii = ants.reorient_image2(ct1_seg_nii, ct1.get_orientation())\n",
    "\n",
    "slice3d(ct1_nii.numpy(), flair_nii.numpy(), ct1_seg_nii.numpy())"
   ]
  },
  {
   "cell_type": "code",
   "execution_count": 2618,
   "metadata": {},
   "outputs": [],
   "source": [
    "# saving with flip\n",
    "os.remove('/anvar/public_datasets/preproc_study/lgg/orig/' +sub+ '/CT1_SEG.nii.gz')\n",
    "flipped_ct1_seg = ct1_seg.new_image_like(np.flip(ct1_seg.numpy(), axis= 2))\n",
    "ants.image_write(flipped_ct1_seg, '/anvar/public_datasets/preproc_study/lgg/orig/' + sub + '/CT1_SEG.nii.gz', ri=False)"
   ]
  },
  {
   "cell_type": "code",
   "execution_count": 2619,
   "metadata": {},
   "outputs": [],
   "source": [
    "shutil.rmtree('/anvar/public_datasets/preproc_study/lgg/1_reg/' + sub)"
   ]
  },
  {
   "cell_type": "code",
   "execution_count": 2620,
   "metadata": {},
   "outputs": [
    {
     "data": {
      "text/plain": [
       "'TCGA-CS-6668'"
      ]
     },
     "execution_count": 2620,
     "metadata": {},
     "output_type": "execute_result"
    }
   ],
   "source": [
    "sub"
   ]
  },
  {
   "cell_type": "markdown",
   "metadata": {},
   "source": [
    "### checking if naming is unclear"
   ]
  },
  {
   "cell_type": "code",
   "execution_count": 1882,
   "metadata": {},
   "outputs": [
    {
     "name": "stdout",
     "output_type": "stream",
     "text": [
      "(40, 256, 256)\n",
      "[0 1]\n",
      "(256, 256, 40)\n",
      "(2, 256, 256, 20)\n",
      "[0 1]\n"
     ]
    },
    {
     "data": {
      "application/vnd.jupyter.widget-view+json": {
       "model_id": "b4ab252a308c49b4947c14b8c109bc41",
       "version_major": 2,
       "version_minor": 0
      },
      "text/plain": [
       "interactive(children=(IntSlider(value=0, continuous_update=False, description='idx', max=19), Output()), _dom_…"
      ]
     },
     "metadata": {},
     "output_type": "display_data"
    }
   ],
   "source": [
    "images2d = [dcmread(root / row[1].PathToFolder / row[1].FileName) for row in df.query('SeriesInstanceUID==@reference_uid').iterrows()] \n",
    "image3d = stack_images(order_series(images2d))\n",
    "\n",
    "mask = segmentation_storage.pixel_array\n",
    "print(np.shape(mask))\n",
    "mask = np.transpose(mask,(2,1,0))\n",
    "print(np.unique(mask))\n",
    "print(np.shape(mask))\n",
    "\n",
    "\n",
    "mask = np.array(np.split(mask, 2, axis=2))\n",
    "print(np.shape(mask))\n",
    "print(np.unique(mask))\n",
    "mask = np.array([1,2]).reshape((2, 1, 1, 1)) * mask\n",
    "slice3d(image3d+ np.flip(mask.sum(axis=0),axis=2)*200)\n",
    "\n",
    "# mask = np.array(np.split(mask, 3, axis=2))\n",
    "# print(np.shape(mask))\n",
    "# print(np.unique(mask))\n",
    "# mask = np.array([1,2,3]).reshape((3, 1, 1, 1)) * mask\n",
    "# # slice3d(image3d, mask.sum(axis=0))\n",
    "# slice3d(image3d, np.flip(mask.sum(axis=0),axis=2))"
   ]
  },
  {
   "cell_type": "code",
   "execution_count": 1865,
   "metadata": {},
   "outputs": [
    {
     "ename": "FileNotFoundError",
     "evalue": "[Errno 2] No such file or directory: '/anvar/public_datasets/preproc_study/lgg/orig1/'",
     "output_type": "error",
     "traceback": [
      "\u001b[0;31m---------------------------------------------------------------------------\u001b[0m",
      "\u001b[0;31mFileNotFoundError\u001b[0m                         Traceback (most recent call last)",
      "\u001b[0;32m/tmp/ipykernel_3037834/731144566.py\u001b[0m in \u001b[0;36m<module>\u001b[0;34m\u001b[0m\n\u001b[1;32m      1\u001b[0m \u001b[0;31m### Delete old CT1:\u001b[0m\u001b[0;34m\u001b[0m\u001b[0;34m\u001b[0m\u001b[0;34m\u001b[0m\u001b[0m\n\u001b[0;32m----> 2\u001b[0;31m \u001b[0;32mfor\u001b[0m \u001b[0msub\u001b[0m \u001b[0;32min\u001b[0m \u001b[0mos\u001b[0m\u001b[0;34m.\u001b[0m\u001b[0mlistdir\u001b[0m\u001b[0;34m(\u001b[0m\u001b[0;34m'/anvar/public_datasets/preproc_study/lgg/orig1/'\u001b[0m\u001b[0;34m)\u001b[0m\u001b[0;34m:\u001b[0m\u001b[0;34m\u001b[0m\u001b[0;34m\u001b[0m\u001b[0m\n\u001b[0m\u001b[1;32m      3\u001b[0m     \u001b[0mshutil\u001b[0m\u001b[0;34m.\u001b[0m\u001b[0mcopyfile\u001b[0m\u001b[0;34m(\u001b[0m\u001b[0;34m'/anvar/public_datasets/preproc_study/lgg/orig/'\u001b[0m \u001b[0;34m+\u001b[0m \u001b[0msub\u001b[0m \u001b[0;34m+\u001b[0m \u001b[0;34m'/T2.nii.gz'\u001b[0m\u001b[0;34m,\u001b[0m \u001b[0;34m'/anvar/public_datasets/preproc_study/lgg/orig1/'\u001b[0m \u001b[0;34m+\u001b[0m \u001b[0msub\u001b[0m \u001b[0;34m+\u001b[0m \u001b[0;34m'/T2.nii.gz'\u001b[0m\u001b[0;34m)\u001b[0m\u001b[0;34m\u001b[0m\u001b[0;34m\u001b[0m\u001b[0m\n\u001b[1;32m      4\u001b[0m     \u001b[0mshutil\u001b[0m\u001b[0;34m.\u001b[0m\u001b[0mcopyfile\u001b[0m\u001b[0;34m(\u001b[0m\u001b[0;34m'/anvar/public_datasets/preproc_study/lgg/orig/'\u001b[0m \u001b[0;34m+\u001b[0m \u001b[0msub\u001b[0m \u001b[0;34m+\u001b[0m \u001b[0;34m'/FLAIR.nii.gz'\u001b[0m\u001b[0;34m,\u001b[0m \u001b[0;34m'/anvar/public_datasets/preproc_study/lgg/orig1/'\u001b[0m \u001b[0;34m+\u001b[0m \u001b[0msub\u001b[0m \u001b[0;34m+\u001b[0m \u001b[0;34m'/FLAIR.nii.gz'\u001b[0m\u001b[0;34m)\u001b[0m\u001b[0;34m\u001b[0m\u001b[0;34m\u001b[0m\u001b[0m\n\u001b[1;32m      5\u001b[0m     \u001b[0mshutil\u001b[0m\u001b[0;34m.\u001b[0m\u001b[0mcopyfile\u001b[0m\u001b[0;34m(\u001b[0m\u001b[0;34m'/anvar/public_datasets/preproc_study/lgg/orig/'\u001b[0m \u001b[0;34m+\u001b[0m \u001b[0msub\u001b[0m \u001b[0;34m+\u001b[0m \u001b[0;34m'/T1.nii.gz'\u001b[0m\u001b[0;34m,\u001b[0m \u001b[0;34m'/anvar/public_datasets/preproc_study/lgg/orig1/'\u001b[0m \u001b[0;34m+\u001b[0m \u001b[0msub\u001b[0m \u001b[0;34m+\u001b[0m \u001b[0;34m'/T1.nii.gz'\u001b[0m\u001b[0;34m)\u001b[0m\u001b[0;34m\u001b[0m\u001b[0;34m\u001b[0m\u001b[0m\n",
      "\u001b[0;31mFileNotFoundError\u001b[0m: [Errno 2] No such file or directory: '/anvar/public_datasets/preproc_study/lgg/orig1/'"
     ]
    }
   ],
   "source": [
    "### Delete old CT1:\n",
    "for sub in os.listdir('/anvar/public_datasets/preproc_study/lgg/orig1/'):\n",
    "    shutil.copyfile('/anvar/public_datasets/preproc_study/lgg/orig/' + sub + '/T2.nii.gz', '/anvar/public_datasets/preproc_study/lgg/orig1/' + sub + '/T2.nii.gz')\n",
    "    shutil.copyfile('/anvar/public_datasets/preproc_study/lgg/orig/' + sub + '/FLAIR.nii.gz', '/anvar/public_datasets/preproc_study/lgg/orig1/' + sub + '/FLAIR.nii.gz')\n",
    "    shutil.copyfile('/anvar/public_datasets/preproc_study/lgg/orig/' + sub + '/T1.nii.gz', '/anvar/public_datasets/preproc_study/lgg/orig1/' + sub + '/T1.nii.gz')"
   ]
  },
  {
   "cell_type": "code",
   "execution_count": 1883,
   "metadata": {},
   "outputs": [],
   "source": [
    "#os.remove('/anvar/public_datasets/preproc_study/lgg/orig/TCGA-CS-4944' + list_sub[37] + '/CT1.nii.gz')"
   ]
  },
  {
   "cell_type": "code",
   "execution_count": 1884,
   "metadata": {},
   "outputs": [
    {
     "name": "stdout",
     "output_type": "stream",
     "text": [
      "Chris Rorden's dcm2niiX version v1.0.20211006  GCC9.3.0 x86-64 (64-bit Linux)\n",
      "Found 20 DICOM file(s)\n",
      "Warning: Siemens MoCo? Bogus slice timing (range -1..-1, TR=440 seconds)\n",
      "Convert 20 DICOM as /anvar/public_datasets/preproc_study/lgg/orig/TCGA-CS-4944/CT1g (256x256x20x1)\n",
      "Compress: \"/usr/bin/pigz\" -b 960 -n -f -6 \"/anvar/public_datasets/preproc_study/lgg/orig/TCGA-CS-4944/CT1g.nii\"\n",
      "Conversion required 0.089499 seconds (0.015087 for core code).\n"
     ]
    }
   ],
   "source": [
    "!dcm2niix -b n -f CT1 -z y -o /anvar/public_datasets/preproc_study/lgg/orig/TCGA-CS-4944/ /anvar/public_datasets/preproc_study/lgg/dicom/TCGA-CS-4944/CT1/"
   ]
  },
  {
   "cell_type": "code",
   "execution_count": 1885,
   "metadata": {},
   "outputs": [
    {
     "name": "stdout",
     "output_type": "stream",
     "text": [
      "Chris Rorden's dcm2niiX version v1.0.20211006  GCC9.3.0 x86-64 (64-bit Linux)\r\n",
      "Found 20 DICOM file(s)\r\n",
      "Warning: Siemens MoCo? Bogus slice timing (range -1..-1, TR=540 seconds)\r\n",
      "Convert 20 DICOM as /anvar/public_datasets/preproc_study/lgg/orig/TCGA-CS-4944/CT1_SEGg (256x256x20x1)\r\n",
      "Compress: \"/usr/bin/pigz\" -b 960 -n -f -6 \"/anvar/public_datasets/preproc_study/lgg/orig/TCGA-CS-4944/CT1_SEGg.nii\"\r\n",
      "Conversion required 0.026363 seconds (0.015370 for core code).\r\n"
     ]
    }
   ],
   "source": [
    "!dcm2niix -b n -f CT1_SEG -z y -o /anvar/public_datasets/preproc_study/lgg/orig/TCGA-CS-4944/ /anvar/public_datasets/preproc_study/lgg/dicom/TCGA-CS-4944/RTSTRUCT/CT1/"
   ]
  },
  {
   "cell_type": "code",
   "execution_count": 1886,
   "metadata": {},
   "outputs": [
    {
     "data": {
      "image/png": "[encoded data removed]",
      "text/plain": [
       "<Figure size 432x540 with 12 Axes>"
      ]
     },
     "metadata": {
      "needs_background": "light"
     },
     "output_type": "display_data"
    }
   ],
   "source": [
    "import ants\n",
    "\n",
    "ants.plot(ants.image_read('/anvar/public_datasets/preproc_study/lgg/orig/TCGA-CS-4944/CT1.nii.gz'),\n",
    "         ants.image_read('/anvar/public_datasets/preproc_study/lgg/orig/TCGA-CS-4944/CT1_SEG.nii.gz'))"
   ]
  },
  {
   "cell_type": "code",
   "execution_count": 1887,
   "metadata": {},
   "outputs": [],
   "source": [
    "ct1_orig = ants.image_read('/anvar/public_datasets/preproc_study/lgg/orig/TCGA-CS-4944/CT1.nii.gz')\n",
    "seg_orig = ants.image_read('/anvar/public_datasets/preproc_study/lgg/orig/TCGA-CS-4944/CT1_SEG.nii.gz')\n",
    "\n",
    "ct1_1_reg = ants.image_read('/anvar/public_datasets/preproc_study/lgg/1_reg/TCGA-CS-4944/CT1.nii.gz')\n",
    "seg_1_reg = ants.image_read('/anvar/public_datasets/preproc_study/lgg/1_reg/TCGA-CS-4944/CT1_SEG.nii.gz')\n",
    "\n",
    "ct1_4a_resamp =  ants.resample_image(ct1_1_reg, (1, 1, 1), False)\n",
    "seg_4a =  ants.resample_image(seg_1_reg, (1, 1, 1), False)"
   ]
  },
  {
   "cell_type": "code",
   "execution_count": 1888,
   "metadata": {},
   "outputs": [
    {
     "data": {
      "application/vnd.jupyter.widget-view+json": {
       "model_id": "e25ea12b789f456aadbb55e7f72860f3",
       "version_major": 2,
       "version_minor": 0
      },
      "text/plain": [
       "interactive(children=(IntSlider(value=0, continuous_update=False, description='idx', max=19), Output()), _dom_…"
      ]
     },
     "metadata": {},
     "output_type": "display_data"
    }
   ],
   "source": [
    "slice3d(ct1_orig.numpy(), seg_orig.numpy())"
   ]
  },
  {
   "cell_type": "code",
   "execution_count": 1761,
   "metadata": {},
   "outputs": [
    {
     "data": {
      "text/plain": [
       "ANTsImage (RPI)\n",
       "\t Pixel Type : float (float32)\n",
       "\t Components : 1\n",
       "\t Dimensions : (256, 256, 20)\n",
       "\t Spacing    : (0.8594, 0.8594, 7.5)\n",
       "\t Origin     : (-106.184, 121.1758, -79.2837)\n",
       "\t Direction  : [ 1.  0.  0.  0. -1.  0.  0.  0.  1.]"
      ]
     },
     "execution_count": 1761,
     "metadata": {},
     "output_type": "execute_result"
    }
   ],
   "source": [
    "seg_orig"
   ]
  },
  {
   "cell_type": "code",
   "execution_count": 1764,
   "metadata": {
    "scrolled": true
   },
   "outputs": [
    {
     "data": {
      "text/plain": [
       "ANTsImage (RPI)\n",
       "\t Pixel Type : float (float32)\n",
       "\t Components : 1\n",
       "\t Dimensions : (135, 240, 240)\n",
       "\t Spacing    : (1.0, 1.0, 1.0)\n",
       "\t Origin     : (-61.6099, 128.2798, -129.9235)\n",
       "\t Direction  : [ 1.  0.  0.  0. -1.  0.  0.  0.  1.]"
      ]
     },
     "execution_count": 1764,
     "metadata": {},
     "output_type": "execute_result"
    }
   ],
   "source": [
    "ct1_4a_resamp "
   ]
  },
  {
   "cell_type": "code",
   "execution_count": 1765,
   "metadata": {},
   "outputs": [
    {
     "data": {
      "text/plain": [
       "ANTsImage (RPI)\n",
       "\t Pixel Type : float (float32)\n",
       "\t Components : 1\n",
       "\t Dimensions : (220, 220, 150)\n",
       "\t Spacing    : (1.0, 1.0, 1.0)\n",
       "\t Origin     : (-106.184, 121.1758, -79.2837)\n",
       "\t Direction  : [ 1.  0.  0.  0. -1.  0.  0.  0.  1.]"
      ]
     },
     "execution_count": 1765,
     "metadata": {},
     "output_type": "execute_result"
    }
   ],
   "source": [
    "seg_4a"
   ]
  },
  {
   "cell_type": "code",
   "execution_count": 1757,
   "metadata": {},
   "outputs": [
    {
     "data": {
      "text/plain": [
       "ANTsImage (RPI)\n",
       "\t Pixel Type : float (float32)\n",
       "\t Components : 1\n",
       "\t Dimensions : (20, 256, 256)\n",
       "\t Spacing    : (6.75, 0.9375, 0.9375)\n",
       "\t Origin     : (-61.6099, 128.2798, -129.9235)\n",
       "\t Direction  : [ 1.  0.  0.  0. -1.  0.  0.  0.  1.]"
      ]
     },
     "execution_count": 1757,
     "metadata": {},
     "output_type": "execute_result"
    }
   ],
   "source": [
    "ct1_1_reg"
   ]
  },
  {
   "cell_type": "code",
   "execution_count": 1753,
   "metadata": {},
   "outputs": [
    {
     "data": {
      "text/plain": [
       "ANTsImage (RPI)\n",
       "\t Pixel Type : float (float32)\n",
       "\t Components : 1\n",
       "\t Dimensions : (256, 256, 20)\n",
       "\t Spacing    : (0.8594, 0.8594, 7.5)\n",
       "\t Origin     : (-106.184, 121.1758, -79.2837)\n",
       "\t Direction  : [ 1.  0.  0.  0. -1.  0.  0.  0.  1.]"
      ]
     },
     "execution_count": 1753,
     "metadata": {},
     "output_type": "execute_result"
    }
   ],
   "source": [
    "seg_1_reg"
   ]
  },
  {
   "cell_type": "code",
   "execution_count": 1758,
   "metadata": {},
   "outputs": [
    {
     "ename": "ValueError",
     "evalue": "Arrays of equal size along axis -1 are required: (256,), (20,)",
     "output_type": "error",
     "traceback": [
      "\u001b[0;31m---------------------------------------------------------------------------\u001b[0m",
      "\u001b[0;31mValueError\u001b[0m                                Traceback (most recent call last)",
      "\u001b[0;32m/tmp/ipykernel_3037834/2207709180.py\u001b[0m in \u001b[0;36m<module>\u001b[0;34m\u001b[0m\n\u001b[0;32m----> 1\u001b[0;31m \u001b[0mslice3d\u001b[0m\u001b[0;34m(\u001b[0m\u001b[0mct1_1_reg\u001b[0m\u001b[0;34m.\u001b[0m\u001b[0mnumpy\u001b[0m\u001b[0;34m(\u001b[0m\u001b[0;34m)\u001b[0m\u001b[0;34m,\u001b[0m\u001b[0mseg_1_reg\u001b[0m\u001b[0;34m.\u001b[0m\u001b[0mnumpy\u001b[0m\u001b[0;34m(\u001b[0m\u001b[0;34m)\u001b[0m\u001b[0;34m)\u001b[0m\u001b[0;34m\u001b[0m\u001b[0;34m\u001b[0m\u001b[0m\n\u001b[0m",
      "\u001b[0;32m~/miniconda3/lib/python3.9/site-packages/dpipe/im/visualize.py\u001b[0m in \u001b[0;36mslice3d\u001b[0;34m(axis, scale, max_columns, colorbar, show_axes, cmap, vlim, titles, *data)\u001b[0m\n\u001b[1;32m     82\u001b[0m         \u001b[0mMust\u001b[0m \u001b[0mbe\u001b[0m \u001b[0mbroadcastable\u001b[0m \u001b[0mto\u001b[0m \u001b[0;34m(\u001b[0m\u001b[0mlen\u001b[0m\u001b[0;34m(\u001b[0m\u001b[0mdata\u001b[0m\u001b[0;34m)\u001b[0m\u001b[0;34m,\u001b[0m \u001b[0;36m2\u001b[0m\u001b[0;34m)\u001b[0m\u001b[0;34m.\u001b[0m \u001b[0mSee\u001b[0m\u001b[0;31m \u001b[0m\u001b[0;31m`\u001b[0m\u001b[0mmatplotlib\u001b[0m\u001b[0;34m.\u001b[0m\u001b[0mpyplot\u001b[0m\u001b[0;34m.\u001b[0m\u001b[0mimshow\u001b[0m\u001b[0;31m`\u001b[0m \u001b[0;34m(\u001b[0m\u001b[0mvmin\u001b[0m \u001b[0;32mand\u001b[0m \u001b[0mvmax\u001b[0m\u001b[0;34m)\u001b[0m \u001b[0;32mfor\u001b[0m \u001b[0mdetails\u001b[0m\u001b[0;34m.\u001b[0m\u001b[0;34m\u001b[0m\u001b[0;34m\u001b[0m\u001b[0m\n\u001b[1;32m     83\u001b[0m     \"\"\"\n\u001b[0;32m---> 84\u001b[0;31m     \u001b[0m_slice_base\u001b[0m\u001b[0;34m(\u001b[0m\u001b[0mdata\u001b[0m\u001b[0;34m,\u001b[0m \u001b[0maxis\u001b[0m\u001b[0;34m,\u001b[0m \u001b[0mscale\u001b[0m\u001b[0;34m,\u001b[0m \u001b[0mmax_columns\u001b[0m\u001b[0;34m,\u001b[0m \u001b[0mcolorbar\u001b[0m\u001b[0;34m,\u001b[0m \u001b[0mshow_axes\u001b[0m\u001b[0;34m,\u001b[0m \u001b[0mcmap\u001b[0m\u001b[0;34m,\u001b[0m \u001b[0mvlim\u001b[0m\u001b[0;34m,\u001b[0m \u001b[0mtitles\u001b[0m\u001b[0;34m=\u001b[0m\u001b[0mtitles\u001b[0m\u001b[0;34m)\u001b[0m\u001b[0;34m\u001b[0m\u001b[0;34m\u001b[0m\u001b[0m\n\u001b[0m\u001b[1;32m     85\u001b[0m \u001b[0;34m\u001b[0m\u001b[0m\n\u001b[1;32m     86\u001b[0m \u001b[0;34m\u001b[0m\u001b[0m\n",
      "\u001b[0;32m~/miniconda3/lib/python3.9/site-packages/dpipe/im/visualize.py\u001b[0m in \u001b[0;36m_slice_base\u001b[0;34m(data, axis, scale, max_columns, colorbar, show_axes, cmap, vlim, callback, sliders, titles)\u001b[0m\n\u001b[1;32m     23\u001b[0m                 callback: Callable = None, sliders: dict = None, titles: list = None):\n\u001b[1;32m     24\u001b[0m     \u001b[0;32mfrom\u001b[0m \u001b[0mipywidgets\u001b[0m \u001b[0;32mimport\u001b[0m \u001b[0minteract\u001b[0m\u001b[0;34m,\u001b[0m \u001b[0mIntSlider\u001b[0m\u001b[0;34m\u001b[0m\u001b[0;34m\u001b[0m\u001b[0m\n\u001b[0;32m---> 25\u001b[0;31m     \u001b[0mcheck_shape_along_axis\u001b[0m\u001b[0;34m(\u001b[0m\u001b[0;34m*\u001b[0m\u001b[0mdata\u001b[0m\u001b[0;34m,\u001b[0m \u001b[0maxis\u001b[0m\u001b[0;34m=\u001b[0m\u001b[0maxis\u001b[0m\u001b[0;34m)\u001b[0m\u001b[0;34m\u001b[0m\u001b[0;34m\u001b[0m\u001b[0m\n\u001b[0m\u001b[1;32m     26\u001b[0m     \u001b[0mvlim\u001b[0m \u001b[0;34m=\u001b[0m \u001b[0mnp\u001b[0m\u001b[0;34m.\u001b[0m\u001b[0mbroadcast_to\u001b[0m\u001b[0;34m(\u001b[0m\u001b[0mvlim\u001b[0m\u001b[0;34m,\u001b[0m \u001b[0;34m[\u001b[0m\u001b[0mlen\u001b[0m\u001b[0;34m(\u001b[0m\u001b[0mdata\u001b[0m\u001b[0;34m)\u001b[0m\u001b[0;34m,\u001b[0m \u001b[0;36m2\u001b[0m\u001b[0;34m]\u001b[0m\u001b[0;34m)\u001b[0m\u001b[0;34m.\u001b[0m\u001b[0mtolist\u001b[0m\u001b[0;34m(\u001b[0m\u001b[0;34m)\u001b[0m\u001b[0;34m\u001b[0m\u001b[0;34m\u001b[0m\u001b[0m\n\u001b[1;32m     27\u001b[0m     \u001b[0mrows\u001b[0m\u001b[0;34m,\u001b[0m \u001b[0mcolumns\u001b[0m \u001b[0;34m=\u001b[0m \u001b[0m_get_rows_cols\u001b[0m\u001b[0;34m(\u001b[0m\u001b[0mmax_columns\u001b[0m\u001b[0;34m,\u001b[0m \u001b[0mdata\u001b[0m\u001b[0;34m)\u001b[0m\u001b[0;34m\u001b[0m\u001b[0;34m\u001b[0m\u001b[0m\n",
      "\u001b[0;32m~/miniconda3/lib/python3.9/site-packages/dpipe/checks.py\u001b[0m in \u001b[0;36mcheck_shape_along_axis\u001b[0;34m(axis, *arrays)\u001b[0m\n\u001b[1;32m     16\u001b[0m \u001b[0;34m\u001b[0m\u001b[0m\n\u001b[1;32m     17\u001b[0m     \u001b[0;32mif\u001b[0m \u001b[0many\u001b[0m\u001b[0;34m(\u001b[0m\u001b[0mx\u001b[0m \u001b[0;34m!=\u001b[0m \u001b[0msizes\u001b[0m\u001b[0;34m[\u001b[0m\u001b[0;36m0\u001b[0m\u001b[0;34m]\u001b[0m \u001b[0;32mfor\u001b[0m \u001b[0mx\u001b[0m \u001b[0;32min\u001b[0m \u001b[0msizes\u001b[0m\u001b[0;34m)\u001b[0m\u001b[0;34m:\u001b[0m\u001b[0;34m\u001b[0m\u001b[0;34m\u001b[0m\u001b[0m\n\u001b[0;32m---> 18\u001b[0;31m         \u001b[0;32mraise\u001b[0m \u001b[0mValueError\u001b[0m\u001b[0;34m(\u001b[0m\u001b[0;34mf'Arrays of equal size along axis {axis} are required: {join(sizes)}'\u001b[0m\u001b[0;34m)\u001b[0m\u001b[0;34m\u001b[0m\u001b[0;34m\u001b[0m\u001b[0m\n\u001b[0m\u001b[1;32m     19\u001b[0m \u001b[0;34m\u001b[0m\u001b[0m\n\u001b[1;32m     20\u001b[0m \u001b[0;34m\u001b[0m\u001b[0m\n",
      "\u001b[0;31mValueError\u001b[0m: Arrays of equal size along axis -1 are required: (256,), (20,)"
     ]
    }
   ],
   "source": [
    "slice3d(ct1_1_reg.numpy(),seg_1_reg.numpy())"
   ]
  },
  {
   "cell_type": "code",
   "execution_count": null,
   "metadata": {},
   "outputs": [],
   "source": []
  },
  {
   "cell_type": "code",
   "execution_count": null,
   "metadata": {},
   "outputs": [],
   "source": []
  },
  {
   "cell_type": "code",
   "execution_count": 1723,
   "metadata": {
    "scrolled": true
   },
   "outputs": [
    {
     "name": "stdout",
     "output_type": "stream",
     "text": [
      "TCGA-CS-6188 ['T2.nii.gz', 'FLAIR.nii.gz', 'T1.nii.gz', 'CT1_SEG.nii.gz', 'CT1.nii.gz']\n",
      "TCGA-DU-7015 ['T2.nii.gz', 'FLAIR.nii.gz', 'T1.nii.gz', 'CT1_SEG.nii.gz', 'CT1.nii.gz']\n",
      "TCGA-CS-5393 ['T2.nii.gz', 'FLAIR.nii.gz', 'T1.nii.gz', 'CT1_SEG.nii.gz', 'CT1.nii.gz']\n",
      "TCGA-DU-8167 ['T2.nii.gz', 'FLAIR.nii.gz', 'T1.nii.gz', 'CT1_SEG.nii.gz', 'CT1.nii.gz']\n",
      "TCGA-DU-7306 ['T2.nii.gz', 'FLAIR.nii.gz', 'T1.nii.gz', 'CT1_SEG.nii.gz', 'CT1.nii.gz']\n",
      "TCGA-CS-4942 ['T2.nii.gz', 'FLAIR.nii.gz', 'T1.nii.gz', 'CT1_SEG.nii.gz', 'CT1.nii.gz']\n",
      "TCGA-CS-6186 ['T2.nii.gz', 'FLAIR.nii.gz', 'T1.nii.gz', 'CT1_SEG.nii.gz', 'CT1.nii.gz']\n",
      "TCGA-DU-8164 ['T2.nii.gz', 'FLAIR.nii.gz', 'T1.nii.gz', 'CT1_SEG.nii.gz', 'CT1.nii.gz']\n",
      "TCGA-DU-7300 ['T2.nii.gz', 'FLAIR.nii.gz', 'T1.nii.gz', 'CT1_SEG.nii.gz', 'CT1.nii.gz']\n",
      "TCGA-DU-7301 ['T2.nii.gz', 'FLAIR.nii.gz', 'T1.nii.gz', 'CT1_SEG.nii.gz', 'CT1.nii.gz']\n",
      "TCGA-DU-6404 ['T2.nii.gz', 'FLAIR.nii.gz', 'T1.nii.gz', 'CT1_SEG.nii.gz', 'CT1.nii.gz']\n",
      "TCGA-DU-8162 ['T2.nii.gz', 'FLAIR.nii.gz', 'T1.nii.gz', 'CT1_SEG.nii.gz', 'CT1.nii.gz']\n",
      "TCGA-DU-7299 ['T2.nii.gz', 'FLAIR.nii.gz', 'T1.nii.gz', 'CT1_SEG.nii.gz', 'CT1.nii.gz']\n",
      "TCGA-CS-6668 ['T2.nii.gz', 'FLAIR.nii.gz', 'T1.nii.gz', 'CT1_SEG.nii.gz', 'CT1.nii.gz']\n",
      "TCGA-DU-8168 ['T2.nii.gz', 'FLAIR.nii.gz', 'T1.nii.gz', 'CT1_SEG.nii.gz', 'CT1.nii.gz']\n",
      "TCGA-DU-5854 ['T2.nii.gz', 'FLAIR.nii.gz', 'T1.nii.gz', 'CT1_SEG.nii.gz', 'CT1.nii.gz']\n",
      "TCGA-CS-6666 ['T2.nii.gz', 'FLAIR.nii.gz', 'T1.nii.gz', 'CT1_SEG.nii.gz', 'CT1.nii.gz']\n",
      "TCGA-CS-5397 ['T2.nii.gz', 'FLAIR.nii.gz', 'T1.nii.gz', 'CT1_SEG.nii.gz', 'CT1.nii.gz']\n",
      "TCGA-CS-4944 ['T2.nii.gz', 'FLAIR.nii.gz', 'T1.nii.gz', 'CT1_SEG.nii.gz', 'CT1.nii.gz']\n",
      "TCGA-DU-6542 ['T2.nii.gz', 'FLAIR.nii.gz', 'T1.nii.gz', 'CT1_SEG.nii.gz', 'CT1.nii.gz']\n",
      "TCGA-DU-8166 ['T2.nii.gz', 'FLAIR.nii.gz', 'T1.nii.gz', 'CT1_SEG.nii.gz', 'CT1.nii.gz']\n",
      "TCGA-DU-5872 ['T2.nii.gz', 'FLAIR.nii.gz', 'T1.nii.gz', 'CT1_SEG.nii.gz', 'CT1.nii.gz']\n",
      "TCGA-CS-6665 ['T2.nii.gz', 'FLAIR.nii.gz', 'T1.nii.gz', 'CT1_SEG.nii.gz', 'CT1.nii.gz']\n",
      "TCGA-DU-7019 ['T2.nii.gz', 'FLAIR.nii.gz', 'T1.nii.gz', 'CT1_SEG.nii.gz', 'CT1.nii.gz']\n",
      "TCGA-DU-7008 ['T2.nii.gz', 'FLAIR.nii.gz', 'T1.nii.gz', 'CT1_SEG.nii.gz', 'CT1.nii.gz']\n",
      "TCGA-CS-6669 ['T2.nii.gz', 'FLAIR.nii.gz', 'T1.nii.gz', 'CT1_SEG.nii.gz', 'CT1.nii.gz']\n",
      "TCGA-DU-7298 ['T2.nii.gz', 'FLAIR.nii.gz', 'T1.nii.gz', 'CT1_SEG.nii.gz', 'CT1.nii.gz']\n",
      "TCGA-DU-7018 ['T2.nii.gz', 'FLAIR.nii.gz', 'T1.nii.gz', 'CT1_SEG.nii.gz', 'CT1.nii.gz']\n",
      "TCGA-DU-5855 ['T2.nii.gz', 'FLAIR.nii.gz', 'T1.nii.gz', 'CT1_SEG.nii.gz', 'CT1.nii.gz']\n",
      "TCGA-DU-5851 ['T2.nii.gz', 'FLAIR.nii.gz', 'T1.nii.gz', 'CT1_SEG.nii.gz', 'CT1.nii.gz']\n",
      "TCGA-DU-7010 ['T2.nii.gz', 'FLAIR.nii.gz', 'T1.nii.gz', 'CT1_SEG.nii.gz', 'CT1.nii.gz']\n",
      "TCGA-DU-5874 ['T2.nii.gz', 'FLAIR.nii.gz', 'T1.nii.gz', 'CT1_SEG.nii.gz', 'CT1.nii.gz']\n",
      "TCGA-DU-7309 ['T2.nii.gz', 'FLAIR.nii.gz', 'T1.nii.gz', 'CT1_SEG.nii.gz', 'CT1.nii.gz']\n",
      "TCGA-DU-7302 ['T2.nii.gz', 'FLAIR.nii.gz', 'T1.nii.gz', 'CT1_SEG.nii.gz', 'CT1.nii.gz']\n",
      "TCGA-CS-5396 ['T2.nii.gz', 'FLAIR.nii.gz', 'T1.nii.gz', 'CT1_SEG.nii.gz', 'CT1.nii.gz']\n",
      "TCGA-DU-7294 ['T2.nii.gz', 'FLAIR.nii.gz', 'T1.nii.gz', 'CT1_SEG.nii.gz', 'CT1.nii.gz']\n",
      "TCGA-DU-7304 ['T2.nii.gz', 'FLAIR.nii.gz', 'T1.nii.gz', 'CT1_SEG.nii.gz', 'CT1.nii.gz']\n",
      "TCGA-DU-7014 ['T2.nii.gz', 'FLAIR.nii.gz', 'T1.nii.gz', 'CT1_SEG.nii.gz', 'CT1.nii.gz']\n"
     ]
    }
   ],
   "source": [
    "for sub in os.listdir('/anvar/public_datasets/preproc_study/lgg/orig1/'):\n",
    "    print(sub, os.listdir('/anvar/public_datasets/preproc_study/lgg/orig1/'+sub))"
   ]
  },
  {
   "cell_type": "markdown",
   "metadata": {},
   "source": [
    "## Save *.nii into orig"
   ]
  },
  {
   "cell_type": "code",
   "execution_count": 301,
   "metadata": {},
   "outputs": [],
   "source": [
    "# contrast image\n",
    "print(paths['T1C'][paths['ID'] == sub].values[0].split('/')[-1])"
   ]
  },
  {
   "cell_type": "code",
   "execution_count": 417,
   "metadata": {},
   "outputs": [],
   "source": [
    "# all images\n",
    "glob.glob('/anvar/public_datasets/tcia/manifest-25ZdsnMy5264093150469993200/TCGA-LGG/'+ sub+ '/*/*/')"
   ]
  },
  {
   "cell_type": "code",
   "execution_count": 419,
   "metadata": {},
   "outputs": [
    {
     "data": {
      "text/plain": [
       "PosixPath('/anvar/public_datasets/tcia/manifest-25ZdsnMy5264093150469993200/TCGA-LGG/TCGA-CS-4942/02-22-1997-MRI BRAIN WITHO-04689/301.000000-T1 AX  SE-14936')"
      ]
     },
     "execution_count": 419,
     "metadata": {},
     "output_type": "execute_result"
    }
   ],
   "source": [
    "root / subject['PathToFolder'].values[0]"
   ]
  },
  {
   "cell_type": "code",
   "execution_count": null,
   "metadata": {},
   "outputs": [],
   "source": [
    "### Checking "
   ]
  },
  {
   "cell_type": "code",
   "execution_count": null,
   "metadata": {},
   "outputs": [],
   "source": []
  },
  {
   "cell_type": "markdown",
   "metadata": {},
   "source": [
    "### Lets plot CT1 with RT"
   ]
  },
  {
   "cell_type": "code",
   "execution_count": 423,
   "metadata": {},
   "outputs": [
    {
     "data": {
      "application/vnd.jupyter.widget-view+json": {
       "model_id": "f21446a3711a454b8a03ae95f6ea3320",
       "version_major": 2,
       "version_minor": 0
      },
      "text/plain": [
       "interactive(children=(IntSlider(value=0, continuous_update=False, description='idx', max=18), Output()), _dom_…"
      ]
     },
     "metadata": {},
     "output_type": "display_data"
    }
   ],
   "source": [
    "ct1_img = ants.image_read('/anvar/public_datasets/preproc_study/lgg/orig/'+ sub +'/CT1.nii.gz')\n",
    "slice3d(ct1_img.numpy())"
   ]
  },
  {
   "cell_type": "code",
   "execution_count": 422,
   "metadata": {},
   "outputs": [
    {
     "data": {
      "application/vnd.jupyter.widget-view+json": {
       "model_id": "aacca393114d49208992696eca8bf9b6",
       "version_major": 2,
       "version_minor": 0
      },
      "text/plain": [
       "interactive(children=(IntSlider(value=0, continuous_update=False, description='idx', max=19), Output()), _dom_…"
      ]
     },
     "metadata": {},
     "output_type": "display_data"
    }
   ],
   "source": [
    "images2d = [dcmread(root / row[1].PathToFolder / row[1].FileName) for row in df.query('SeriesInstanceUID==@reference_uid').iterrows()] \n",
    "image3d = stack_images(order_series(images2d))\n",
    "slice3d(image3d)"
   ]
  },
  {
   "cell_type": "markdown",
   "metadata": {},
   "source": [
    "# DONE"
   ]
  },
  {
   "cell_type": "markdown",
   "metadata": {},
   "source": [
    "### Checking pachages:"
   ]
  },
  {
   "cell_type": "code",
   "execution_count": 391,
   "metadata": {},
   "outputs": [
    {
     "data": {
      "text/plain": [
       "['/anvar/public_datasets/preproc_study/lgg/dicom/TCGA-CS-6188/RTSTRUCT/CT1',\n",
       " '/anvar/public_datasets/preproc_study/lgg/dicom/TCGA-DU-7015/RTSTRUCT/CT1',\n",
       " '/anvar/public_datasets/preproc_study/lgg/dicom/TCGA-CS-5393/RTSTRUCT/CT1',\n",
       " '/anvar/public_datasets/preproc_study/lgg/dicom/TCGA-DU-8167/RTSTRUCT/CT1',\n",
       " '/anvar/public_datasets/preproc_study/lgg/dicom/TCGA-DU-7306/RTSTRUCT/CT1']"
      ]
     },
     "execution_count": 391,
     "metadata": {},
     "output_type": "execute_result"
    }
   ],
   "source": [
    "glob.glob('/anvar/public_datasets/preproc_study/lgg/dicom/*/RTSTRUCT/CT1')"
   ]
  },
  {
   "cell_type": "code",
   "execution_count": 222,
   "metadata": {},
   "outputs": [
    {
     "name": "stdout",
     "output_type": "stream",
     "text": [
      "\u001b[0m\u001b[01;31mCT1.nii.gz\u001b[0m  \u001b[01;31mFLAIR.nii.gz\u001b[0m  \u001b[01;31mT1.nii.gz\u001b[0m  \u001b[01;31mT2.nii.gz\u001b[0m\r\n"
     ]
    }
   ],
   "source": [
    "ls /anvar/public_datasets/preproc_study/lgg/orig/TCGA-CS-6188/"
   ]
  },
  {
   "cell_type": "code",
   "execution_count": 346,
   "metadata": {
    "collapsed": true
   },
   "outputs": [
    {
     "data": {
      "text/plain": [
       "['TCGA-CS-6188',\n",
       " 'TCGA-DU-6401',\n",
       " 'TCGA-DU-7015',\n",
       " 'TCGA-CS-5393',\n",
       " 'TCGA-DU-8167',\n",
       " 'TCGA-DU-7306',\n",
       " 'TCGA-CS-4942',\n",
       " 'TCGA-CS-6186',\n",
       " 'TCGA-DU-8164',\n",
       " 'TCGA-DU-A5TP',\n",
       " 'TCGA-DU-6402',\n",
       " 'TCGA-CS-5395',\n",
       " 'TCGA-DU-7300',\n",
       " 'TCGA-CS-6670',\n",
       " 'TCGA-DU-6407',\n",
       " 'TCGA-DU-5852',\n",
       " 'TCGA-DU-6400',\n",
       " 'TCGA-DU-7301',\n",
       " 'TCGA-DU-7013',\n",
       " 'TCGA-DU-6404',\n",
       " 'TCGA-DU-8162',\n",
       " 'TCGA-DU-7299',\n",
       " 'TCGA-CS-6668',\n",
       " 'TCGA-DU-8168',\n",
       " 'TCGA-DU-5854',\n",
       " 'TCGA-CS-6666',\n",
       " 'TCGA-CS-5397',\n",
       " 'TCGA-DU-6397',\n",
       " 'TCGA-CS-4944',\n",
       " 'TCGA-DU-6399',\n",
       " 'TCGA-DU-6408',\n",
       " 'TCGA-DU-6542',\n",
       " 'TCGA-DU-8166',\n",
       " 'TCGA-DU-5872',\n",
       " 'TCGA-DU-8165',\n",
       " 'TCGA-DU-5853',\n",
       " 'TCGA-CS-6665',\n",
       " 'TCGA-DU-7019',\n",
       " 'TCGA-DU-7008',\n",
       " 'TCGA-DU-8163',\n",
       " 'TCGA-CS-4938',\n",
       " 'TCGA-CS-4941',\n",
       " 'TCGA-CS-6669',\n",
       " 'TCGA-DU-7298',\n",
       " 'TCGA-DU-6405',\n",
       " 'TCGA-CS-5390',\n",
       " 'TCGA-CS-6290',\n",
       " 'TCGA-DU-7018',\n",
       " 'TCGA-DU-6410',\n",
       " 'TCGA-DU-5855',\n",
       " 'TCGA-DU-5851',\n",
       " 'TCGA-DU-7010',\n",
       " 'TCGA-DU-5874',\n",
       " 'TCGA-DU-7309',\n",
       " 'TCGA-CS-5394',\n",
       " 'TCGA-DU-5871',\n",
       " 'TCGA-DU-7302',\n",
       " 'TCGA-DU-5849',\n",
       " 'TCGA-CS-5396',\n",
       " 'TCGA-DU-7294',\n",
       " 'TCGA-DU-8158',\n",
       " 'TCGA-DU-7304',\n",
       " 'TCGA-CS-6667',\n",
       " 'TCGA-CS-4943',\n",
       " 'TCGA-DU-7014',\n",
       " 'TCGA-DU-6395']"
      ]
     },
     "execution_count": 346,
     "metadata": {},
     "output_type": "execute_result"
    }
   ],
   "source": [
    "os.listdir('/anvar/public_datasets/preproc_study/lgg/orig/')"
   ]
  },
  {
   "cell_type": "code",
   "execution_count": 224,
   "metadata": {
    "scrolled": false
   },
   "outputs": [
    {
     "name": "stdout",
     "output_type": "stream",
     "text": [
      "Chris Rorden's dcm2niiX version v1.0.20211006  GCC9.3.0 x86-64 (64-bit Linux)\r\n",
      "Error: Unable to write to output folder: /anvar/public_datasets/preproc_study/lgg/orig/TCGA-CS-6188\r\n"
     ]
    }
   ],
   "source": [
    "!dicom2niix -b n -f CT1_SEG -z y -o /anvar/public_datasets/preproc_study/lgg/orig/TCGA-CS-6188/ /anvar/public_datasets/preproc_study/lgg/dicom/TCGA-CS-6188/RTSTRUCT/CT1"
   ]
  },
  {
   "cell_type": "code",
   "execution_count": 56,
   "metadata": {},
   "outputs": [
    {
     "name": "stdout",
     "output_type": "stream",
     "text": [
      "TCGA-CS-6188\n",
      "------\n",
      "Chosen folders T1 401.000000-T1W  SE-32641\n",
      "Chosen folders T2 701.000000-T2WTSE-87223\n",
      "Chosen folders CT1 1301.000000-T1 SAG SE-56552\n",
      "Chosen folders FLAIR 501.000000-T2 AX FLAIR-27780\n",
      "------\n",
      "401.000000-T1W  SE-32641 , 16\n",
      "801.000000-PDWTSE-07186 , 24\n",
      "1201.000000-T1 COR SE-51898 , 20\n",
      "303.000000-eBo-77466 , 28\n",
      "701.000000-T2WTSE-87223 , 24\n",
      "1101.000000-T1 AX SE-51279 , 24\n",
      "601.000000-FFE FOR BLEED-26809 , 30\n",
      "901.000000-T1 AX  SE-53708 , 24\n",
      "302.000000-dADC MAP-81598 , 28\n",
      "501.000000-T2 AX FLAIR-27780 , 28\n",
      "1001.000000-T1W3Dstryker-91068 , 200\n",
      "1002.000000-COR MPR-65881 , 200\n",
      "1301.000000-T1 SAG SE-56552 , 16\n",
      "304.000000-eB1000i-99314 , 28\n",
      "1003.000000-SAG MRP-30691 , 180\n",
      "------\n",
      "T1 SAG SE 300.000000-T1W  SE Glioma Segmentation-80190 , 1\n",
      "T1 SAG SE 300.000000-T2 AX FLAIR Glioma Segmentation Corrected-08132 , 1\n",
      "T1 SAG SE 300.000000-COR MPR Glioma Segmentation Corrected-80713 , 1\n",
      "T1 SAG SE 300.000000-T2WTSE Glioma Segmentation Corrected-41846 , 1\n",
      "T1 SAG SE 300.000000-T2WTSE Glioma Segmentation-94428 , 1\n",
      "T1 SAG SE 300.000000-T1W  SE Glioma Segmentation Corrected-37040 , 1\n",
      "T1 SAG SE 300.000000-T2 AX FLAIR Glioma Segmentation-73187 , 1\n",
      "T1 SAG SE 300.000000-COR MPR Glioma Segmentation-15176 , 1\n",
      "TCGA-DU-6401\n",
      "------\n",
      "Chosen folders T1 1.000000-SAG T1-63271\n",
      "Chosen folders T2 2.000000-AXIAL FSE-38916\n",
      "Chosen folders CT1 7.000000-AXIAL T1 GD-61724\n",
      "Chosen folders FLAIR 3.000000-AXIAL FLAIR-13270\n",
      "------\n",
      "4.000000-AXIAL DIFFUSION-78717 , 52\n",
      "6.000000-AXIAL PERFUSION-77020 , 325\n",
      "2.000000-AXIAL FSE-38916 , 112\n",
      "5.000000-AXIAL T1-66401 , 56\n",
      "7.000000-AXIAL T1 GD-61724 , 56\n",
      "3.000000-AXIAL FLAIR-13270 , 56\n",
      "1.000000-SAG T1-63271 , 18\n",
      "2.000000-AXIAL  FSE-05328 , 102\n",
      "7.000000-AXIAL T1 POST GD-09301 , 58\n",
      "3.000000-AXIAL FLAIR-15579 , 51\n",
      "5.000000-AXIAL T1 PRE GD-43565 , 58\n",
      "1.000000-SAG LOCAL-75301 , 18\n",
      "4.000000-AXIAL DIFFUSION-53756 , 23\n",
      "6.000000-AXIAL PERFUSION-62183 , 325\n",
      "------\n",
      "TCGA-DU-7015\n",
      "------\n",
      "Chosen folders T1 3.000000-SAG T1 FLAIR-85518\n",
      "Chosen folders T2 5.000000-AX T2 FR-FSE RF2 150-98258\n",
      "Chosen folders CT1 10.000000-AX T1 POST GD FLAIR-19430\n",
      "Chosen folders FLAIR 8.000000-AXIAL FLAIR-42112\n",
      "------\n",
      "1.000000-3 PLANE LOC-47544 , 9\n",
      "6.000000-DTI ASSET-60836 , 546\n",
      "5.000000-AX T2 FR-FSE RF2 150-98258 , 42\n",
      "3.000000-SAG T1 FLAIR-85518 , 18\n",
      "600.000000-DTI ASSET-07696 , 21\n",
      "2.000000-ASSET cal-62707 , 30\n",
      "601.000000-DTI ASSET-84919 , 21\n",
      "8.000000-AXIAL FLAIR-42112 , 72\n",
      "9.000000-AXIAL PERFUSION-82605 , 475\n",
      "602.000000-DTI ASSET-87691 , 21\n",
      "4.000000-AXIAL DIFFUSION-75697 , 84\n",
      "10.000000-AX T1 POST GD FLAIR-19430 , 85\n",
      "7.000000-AX T1 pre gd-93841 , 51\n",
      "------\n",
      "AX T1 POST GD FLAIR 300.000000-AX T1 POST GD FLAIR Glioma Segmentation Corrected-94531 , 1\n",
      "! hi  !\n",
      "AX T1 POST GD FLAIR 300.000000-AX T1 POST GD FLAIR Glioma Segmentation-67010 , 1\n",
      "AX T1 POST GD FLAIR 300.000000-AX T2 FR-FSE RF2 150 Glioma Segmentation Corrected-21243 , 1\n",
      "AX T1 POST GD FLAIR 300.000000-AXIAL FLAIR Glioma Segmentation-55803 , 1\n",
      "AX T1 POST GD FLAIR 300.000000-AX T1 pre gd Glioma Segmentation-62927 , 1\n",
      "AX T1 POST GD FLAIR 300.000000-AXIAL FLAIR Glioma Segmentation Corrected-46969 , 1\n",
      "AX T1 POST GD FLAIR 300.000000-AX T1 pre gd Glioma Segmentation Corrected-13460 , 1\n",
      "AX T1 POST GD FLAIR 300.000000-AX T2 FR-FSE RF2 150 Glioma Segmentation-60730 , 1\n",
      "TCGA-CS-5393\n",
      "------\n",
      "Chosen folders T1 2.000000-BRAINCONTRASTT1SAGITTAL-51069\n",
      "Chosen folders T2 \n",
      "Chosen folders CT1 11.000000-BRAINSTRYKERT1SAGGAD-00657\n",
      "Chosen folders FLAIR 4.000000-BRAINCONTRASTFLAIR-92756\n",
      "------\n",
      "11.000000-BRAINSTRYKERT1SAGGAD-00657 , 18\n",
      "7.000000-BRAINCONTRASTNEWDIFF-70205 , 80\n",
      "10.000000-BRAINSTRYKERT1CORONAL-16086 , 22\n",
      "8.000000-BRAINSTRYKERAX-RAGE-STRY-28826 , 120\n",
      "5.000000-BRAINCONTRASTDOUBLEECHO-62620 , 40\n",
      "9.000000-BRAINCONTRASTT1AXIALC-39496 , 20\n",
      "1.000000-BRAINCONTRASTSCOUT-85032 , 3\n",
      "3.000000-BRAINCONTRASTT1AXIAL-52664 , 20\n",
      "2.000000-BRAINCONTRASTT1SAGITTAL-51069 , 18\n",
      "6.000000-BRAINCONTRASThemosiderin-07229 , 20\n",
      "4.000000-BRAINCONTRASTFLAIR-92756 , 20\n",
      "------\n",
      "BRAINSTRYKERT1SAGGAD 300.000000-BRAINCONTRASThemosiderin Glioma Segmentation-80564 , 1\n",
      "BRAINSTRYKERT1SAGGAD 300.000000-BRAINSTRYKERAX-RAGE-STRY Glioma Segmentation Correcte-42767 , 1\n",
      "BRAINSTRYKERT1SAGGAD 300.000000-BRAINCONTRASTFLAIR Glioma Segmentation-75067 , 1\n",
      "BRAINSTRYKERT1SAGGAD 300.000000-BRAINCONTRASTT1AXIAL Glioma Segmentation Corrected-96635 , 1\n",
      "BRAINSTRYKERT1SAGGAD 300.000000-BRAINCONTRASThemosiderin Glioma Segmentation Correcte-62634 , 1\n",
      "BRAINSTRYKERT1SAGGAD 300.000000-BRAINCONTRASTFLAIR Glioma Segmentation Corrected-67802 , 1\n",
      "BRAINSTRYKERT1SAGGAD 300.000000-BRAINCONTRASTT1AXIAL Glioma Segmentation-82270 , 1\n",
      "BRAINSTRYKERT1SAGGAD 300.000000-BRAINSTRYKERAX-RAGE-STRY Glioma Segmentation-71591 , 1\n",
      "TCGA-DU-8167\n",
      "------\n",
      "Chosen folders T1 3.000000-SAG T1 FLAIR-32472\n",
      "Chosen folders T2 7.000000-AX T2 FR-FSE RF2 150-02988\n",
      "Chosen folders CT1 11.000000-COR  T1 POST GD FLAIR-50801\n",
      "Chosen folders FLAIR 6.000000-AXIAL FLAIR-25902\n",
      "------\n",
      "1.000000-3 PLANE LOC-44485 , 9\n",
      "4.000000-DTI 2.6mm WH-00936 , 1820\n",
      "401.000000-DTI 2.6mm WH-56261 , 70\n",
      "2.000000-ASSET cal-29345 , 35\n",
      "6.000000-AXIAL FLAIR-25902 , 73\n",
      "9.000000-AXIAL PERFUSION-04494 , 1045\n",
      "3.000000-SAG T1 FLAIR-32472 , 25\n",
      "10.000000-AX T1 POST GD FLAIR-74207 , 73\n",
      "400.000000-DTI 2.6mm WH-39403 , 70\n",
      "7.000000-AX T2 FR-FSE RF2 150-02988 , 36\n",
      "8.000000-AX T1 pre gd-36450 , 37\n",
      "11.000000-COR  T1 POST GD FLAIR-50801 , 51\n",
      "402.000000-DTI 2.6mm WH-66929 , 70\n",
      "5.000000-AXIAL DIFFUSION-32196 , 180\n",
      "------\n",
      "COR  T1 POST GD FLAIR 300.000000-AX T2 FR-FSE RF2 150 Glioma Segmentation Corrected-55675 , 1\n",
      "COR  T1 POST GD FLAIR 300.000000-AXIAL FLAIR Glioma Segmentation-23786 , 1\n",
      "COR  T1 POST GD FLAIR 300.000000-AXIAL FLAIR Glioma Segmentation Corrected-01896 , 1\n",
      "COR  T1 POST GD FLAIR 300.000000-AX T1 pre gd Glioma Segmentation Corrected-72029 , 1\n",
      "COR  T1 POST GD FLAIR 300.000000-AX T2 FR-FSE RF2 150 Glioma Segmentation-56111 , 1\n",
      "COR  T1 POST GD FLAIR 300.000000-AX T1 POST GD FLAIR Glioma Segmentation Corrected-63249 , 1\n",
      "COR  T1 POST GD FLAIR 300.000000-AX T1 POST GD FLAIR Glioma Segmentation-90579 , 1\n",
      "COR  T1 POST GD FLAIR 300.000000-AX T1 pre gd Glioma Segmentation-67870 , 1\n",
      "TCGA-DU-7306\n",
      "------\n",
      "Chosen folders T1 4.000000-SAG T1 FLAIR-70041\n",
      "Chosen folders T2 7.000000-AX T2 FR-FSE RF2 150-41748\n",
      "Chosen folders CT1 12.000000-COR  T1 POST GD FLAIR-61815\n",
      "Chosen folders FLAIR 6.000000-AXIAL FLAIR-72811\n",
      "------\n",
      "12.000000-COR  T1 POST GD FLAIR-61815 , 35\n",
      "11.000000-AX T1 POST GD FLAIR-17891 , 84\n",
      "802.000000-DTI ASSET-38005 , 35\n",
      "5.000000-AXIAL DIFFUSION-19530 , 84\n",
      "1.000000-3 PLANE LOC-09999 , 15\n",
      "801.000000-DTI ASSET-06206 , 35\n",
      "7.000000-AX T2 FR-FSE RF2 150-41748 , 42\n",
      "2.000000-3 PLANE LOC-65439 , 15\n",
      "6.000000-AXIAL FLAIR-72811 , 84\n",
      "10.000000-AXIAL PERFUSION-23734 , 1615\n",
      "9.000000-AX T1 pre gd-28619 , 42\n",
      "800.000000-DTI ASSET-30557 , 35\n",
      "4.000000-SAG T1 FLAIR-70041 , 19\n",
      "3.000000-ASSET cal-05437 , 43\n",
      "8.000000-DTI ASSET-10129 , 910\n",
      "------\n",
      "COR  T1 POST GD FLAIR 300.000000-AX T1 pre gd Glioma Segmentation Corrected-09353 , 1\n",
      "COR  T1 POST GD FLAIR 300.000000-AX T1 pre gd Glioma Segmentation-00072 , 1\n",
      "COR  T1 POST GD FLAIR 300.000000-AX T1 POST GD FLAIR Glioma Segmentation Corrected-54125 , 1\n",
      "COR  T1 POST GD FLAIR 300.000000-AX T1 POST GD FLAIR Glioma Segmentation-56305 , 1\n",
      "COR  T1 POST GD FLAIR 300.000000-AXIAL FLAIR Glioma Segmentation-52812 , 1\n",
      "COR  T1 POST GD FLAIR 300.000000-AXIAL FLAIR Glioma Segmentation Corrected-76584 , 1\n",
      "COR  T1 POST GD FLAIR 300.000000-AX T2 FR-FSE RF2 150 Glioma Segmentation-03902 , 1\n",
      "COR  T1 POST GD FLAIR 300.000000-AX T2 FR-FSE RF2 150 Glioma Segmentation Corrected-11032 , 1\n",
      "TCGA-CS-4942\n",
      "------\n",
      "Chosen folders T1 201.000000-T1W  SE-78870\n",
      "Chosen folders T2 401.000000-DUAL AX SE-07653\n",
      "Chosen folders CT1 1001.000000-T1 COR SE-39365\n",
      "Chosen folders FLAIR 501.000000-T2 AX FLAIR-17917\n",
      "------\n",
      "201.000000-T1W  SE-78870 , 16\n",
      "301.000000-T1 AX  SE-14936 , 20\n",
      "801.000000-TI AX SE-57676 , 20\n",
      "101.000000-Survey-30648 , 9\n",
      "901.000000-T1 SAG SE-81910 , 16\n",
      "1001.000000-T1 COR SE-39365 , 19\n",
      "401.000000-DUAL AX SE-07653 , 48\n",
      "601.000000-EsDWDIFF-28796 , 120\n",
      "701.000000-Survey-33136 , 9\n",
      "501.000000-T2 AX FLAIR-17917 , 24\n",
      "------\n",
      "T1 COR SE 300.000000-TI AX SE Glioma Segmentation Corrected-44675 , 1\n",
      "T1 COR SE 300.000000-T1 AX  SE Glioma Segmentation Corrected-19504 , 1\n",
      "T1 COR SE 300.000000-T1 AX  SE Glioma Segmentation-10781 , 1\n",
      "T1 COR SE 300.000000-T2 AX FLAIR Glioma Segmentation Corrected-48993 , 1\n",
      "T1 COR SE 300.000000-DUAL AX SE Glioma Segmentation-59172 , 1\n",
      "T1 COR SE 300.000000-DUAL AX SE Glioma Segmentation Corrected-70727 , 1\n",
      "T1 COR SE 300.000000-TI AX SE Glioma Segmentation-51466 , 1\n",
      "T1 COR SE 300.000000-T2 AX FLAIR Glioma Segmentation-95929 , 1\n",
      "TCGA-CS-6186\n",
      "------\n",
      "Chosen folders T1 301.000000-T1 SAG SE-41348\n",
      "Chosen folders T2 501.000000-T2-WHOLE BRAIN-32557\n",
      "Chosen folders CT1 1301.000000-T1 SAG POST-08017\n",
      "Chosen folders FLAIR 401.000000-T2 AX FLAIR-72445\n",
      "------\n",
      "1101.000000-STRYKER-27064 , 118\n",
      "203.000000-eB 0-99844 , 34\n",
      "204.000000-eB1000I-81870 , 34\n",
      "202.000000-Reg - DIFFUSION SENSE-00561 , 68\n",
      "1201.000000-T1 COR POST-35170 , 25\n",
      "205.000000-dadc-52244 , 34\n",
      "605.000000-MRA-59702 , 20\n",
      "604.000000-LT   MRA-27206 , 20\n",
      "701.000000-AX PD-23493 , 23\n",
      "601.000000-3D MC  MRA-29688 , 138\n",
      "1301.000000-T1 SAG POST-08017 , 15\n",
      "801.000000-T2WFFE bleed-67839 , 33\n",
      "201.000000-DIFFUSION-10198 , 68\n",
      "1001.000000-T1 SE POST-94212 , 25\n",
      "901.000000-T1 SE PRE-16483 , 25\n",
      "301.000000-T1 SAG SE-41348 , 15\n",
      "401.000000-T2 AX FLAIR-72445 , 30\n",
      "101.000000-SurveyMST-18717 , 5\n",
      "602.000000-3D MC  MRA-83030 , 3\n",
      "603.000000-RT   MRA-44425 , 20\n",
      "501.000000-T2-WHOLE BRAIN-32557 , 24\n",
      "2.000000-CAP5-70289 , 145\n",
      "3.000000-THINS-07904 , 662\n",
      "4.000000-HR-55967 , 10\n",
      "1.000000-Surview-14524 , 1\n",
      "------\n",
      "T1 SAG POST 300.000000-STRYKER Glioma Segmentation-41290 , 1\n",
      "T1 SAG POST 300.000000-T2 AX FLAIR Glioma Segmentation-87268 , 1\n",
      "T1 SAG POST 300.000000-STRYKER Glioma Segmentation Corrected-31145 , 1\n",
      "T1 SAG POST 300.000000-T1 SE PRE Glioma Segmentation Corrected-42769 , 1\n",
      "T1 SAG POST 300.000000-T2-WHOLE BRAIN Glioma Segmentation-68869 , 1\n",
      "T1 SAG POST 300.000000-T2-WHOLE BRAIN Glioma Segmentation Corrected-83177 , 1\n",
      "T1 SAG POST 300.000000-T1 SE PRE Glioma Segmentation-45631 , 1\n",
      "T1 SAG POST 300.000000-T2 AX FLAIR Glioma Segmentation Corrected-82026 , 1\n",
      "TCGA-DU-8164\n",
      "------\n",
      "Chosen folders T1 3.000000-SAG T1 FLAIR-50361\n",
      "Chosen folders T2 7.000000-AX T2 FR-FSE RF2 150-94767\n",
      "Chosen folders CT1 11.000000-COR  T1 POST GD FLAIR-90691\n",
      "Chosen folders FLAIR 4.000000-AXIAL FLAIR-03012\n",
      "------\n",
      "8.000000-AX T1 pre gd-39637 , 37\n"
     ]
    },
    {
     "name": "stdout",
     "output_type": "stream",
     "text": [
      "501.000000-DTI 2.6mm WH-21034 , 70\n",
      "6.000000-AXIAL DIFFUSION-45058 , 185\n",
      "10.000000-AX T1 POST GD FLAIR-02819 , 72\n",
      "5.000000-DTI 2.6mm WH-89883 , 1820\n",
      "7.000000-AX T2 FR-FSE RF2 150-94767 , 37\n",
      "9.000000-AXIAL PERFUSION-65144 , 1045\n",
      "502.000000-DTI 2.6mm WH-17893 , 70\n",
      "1.000000-3 PLANE LOC-57309 , 9\n",
      "500.000000-DTI 2.6mm WH-85224 , 70\n",
      "3.000000-SAG T1 FLAIR-50361 , 21\n",
      "4.000000-AXIAL FLAIR-03012 , 72\n",
      "11.000000-COR  T1 POST GD FLAIR-90691 , 40\n",
      "2.000000-ASSET cal-34016 , 35\n",
      "------\n",
      "COR  T1 POST GD FLAIR 300.000000-AXIAL FLAIR Glioma Segmentation Corrected-78372 , 1\n",
      "COR  T1 POST GD FLAIR 300.000000-AX T1 POST GD FLAIR Glioma Segmentation-28506 , 1\n",
      "COR  T1 POST GD FLAIR 300.000000-AXIAL FLAIR Glioma Segmentation-46699 , 1\n",
      "COR  T1 POST GD FLAIR 300.000000-AX T1 pre gd Glioma Segmentation-36852 , 1\n",
      "COR  T1 POST GD FLAIR 300.000000-AX T1 pre gd Glioma Segmentation Corrected-80275 , 1\n",
      "COR  T1 POST GD FLAIR 300.000000-AX T1 POST GD FLAIR Glioma Segmentation Corrected-58812 , 1\n",
      "COR  T1 POST GD FLAIR 300.000000-AX T2 FR-FSE RF2 150 Glioma Segmentation-32334 , 1\n",
      "COR  T1 POST GD FLAIR 300.000000-AX T2 FR-FSE RF2 150 Glioma Segmentation Corrected-91918 , 1\n",
      "TCGA-DU-A5TP\n",
      "------\n",
      "Chosen folders T1 3.000000-SAG T1 FLAIR-87621\n",
      "Chosen folders T2 5.000000-AX T2 FR-FSE RF2 150-15488\n",
      "Chosen folders CT1 11.000000-COR T1 POST GD FLAIR-70203\n",
      "Chosen folders FLAIR 6.000000-AXIAL FLAIR-07910\n",
      "------\n",
      "4.000000-AXIAL DIFFUSION-49771 , 190\n",
      "11.000000-COR T1 POST GD FLAIR-70203 , 38\n",
      "10.000000-AX T1 POST GD FLAIR-90264 , 72\n",
      "1.000000-3 PLANE LOC-82298 , 9\n",
      "3.000000-SAG T1 FLAIR-87621 , 19\n",
      "5.000000-AX T2 FR-FSE RF2 150-15488 , 38\n",
      "8.000000-DTI 2.6mm WH-90495 , 340\n",
      "6.000000-AXIAL FLAIR-07910 , 72\n",
      "2.000000-ASSET cal-40016 , 45\n",
      "7.000000-AX T1 pre gd-49092 , 38\n",
      "------\n",
      "TCGA-DU-6402\n",
      "------\n",
      "Chosen folders T1 2.000000-sag t1-96780\n",
      "Chosen folders T2 4.000000-axial perf.-20953\n",
      "Chosen folders CT1 5.000000-axial t1 post gd-77471\n",
      "Chosen folders FLAIR 1.000000-axial diff.-30337\n",
      "------\n",
      "5.000000-axial t1 post gd-77471 , 59\n",
      "3.000000-axial t1 pre gd-02379 , 59\n",
      "4.000000-axial perf.-20953 , 325\n",
      "2.000000-sag t1-96780 , 18\n",
      "1.000000-axial diff.-30337 , 64\n",
      "------\n",
      "TCGA-CS-5395\n",
      "------\n",
      "Chosen folders T1 2.000000-BRAINCONTRASTT1SAGITTAL-86837\n",
      "Chosen folders T2 11.000000-BRAINPITUITARYPDT2AXIA-27074\n",
      "Chosen folders CT1 16.000000-BRAINSTRYKERT1SAGGAD-07226\n",
      "Chosen folders FLAIR 3.000000-BRAINCONTRASTFLAIR-39749\n",
      "------\n",
      "4.000000-BRAINCONTRASTT1CORONAL-99357 , 20\n",
      "7.000000-BRAINCONTRASTsvsse135-93999 , 1\n",
      "15.000000-BRAINSTRYKERT1CORONAL-84824 , 20\n",
      "12.000000-BRAINSTRYKERNEWDIFF-90312 , 80\n",
      "14.000000-BRAINSTRYKERt1AX-67858 , 20\n",
      "9.000000-BRAINCONTRASTsvsse135-80084 , 1\n",
      "2.000000-BRAINCONTRASTT1SAGITTAL-86837 , 18\n",
      "3.000000-BRAINCONTRASTFLAIR-39749 , 20\n",
      "8.000000-BRAINCONTRASTsvsse135-54971 , 1\n",
      "13.000000-BRAINSTRYKERAX-RAGE-STRY-53561 , 120\n",
      "10.000000-BRAINSTRYKERT1AXIAL-44139 , 20\n",
      "1.000000-BRAINCONTRASTSCOUT-27900 , 3\n",
      "16.000000-BRAINSTRYKERT1SAGGAD-07226 , 18\n",
      "6.000000-BRAINCONTRASTsvsse135-98133 , 3\n",
      "11.000000-BRAINPITUITARYPDT2AXIA-27074 , 40\n",
      "------\n",
      "TCGA-DU-7300\n",
      "------\n",
      "Chosen folders T1 3.000000-SAG T1 FLAIR-25278\n",
      "Chosen folders T2 2.000000-AX T2 FR-FSE RF2 150-00350\n",
      "Chosen folders CT1 11.000000-COR  T1 POST GD FLAIR-59999\n",
      "Chosen folders FLAIR 5.000000-AXIAL FLAIR-16329\n",
      "------\n",
      "2.000000-AX T2 FR-FSE RF2 150-00350 , 27\n",
      "5.000000-PROBE 3D CSI-16980 , 16\n",
      "1.000000-3 PLANE LOC-22967 , 9\n",
      "702.000000-DTI ASSET-12742 , 24\n",
      "8.000000-AX T1 pre gd-75477 , 36\n",
      "5.000000-AXIAL FLAIR-16329 , 71\n",
      "2.000000-ASSET cal-48680 , 40\n",
      "4.000000-AXIAL DIFFUSION-30753 , 144\n",
      "11.000000-COR  T1 POST GD FLAIR-59999 , 42\n",
      "1.000000-3 PLANE LOC-41755 , 15\n",
      "6.000000-AX T2 FR-FSE RF2 150-18382 , 36\n",
      "700.000000-DTI ASSET-92407 , 24\n",
      "701.000000-DTI ASSET-28393 , 24\n",
      "9.000000-AXIAL PERFUSION-64218 , 950\n",
      "7.000000-DTI ASSET-26847 , 624\n",
      "3.000000-SAG T1 FLAIR-25278 , 19\n",
      "10.000000-AX T1 POST GD FLAIR-17011 , 71\n",
      "------\n",
      "COR  T1 POST GD FLAIR 300.000000-AX T1 pre gd Glioma Segmentation Corrected-48556 , 1\n",
      "COR  T1 POST GD FLAIR 300.000000-AXIAL FLAIR Glioma Segmentation-05165 , 1\n",
      "COR  T1 POST GD FLAIR 300.000000-AX T2 FR-FSE RF2 150 Glioma Segmentation Corrected-47992 , 1\n",
      "COR  T1 POST GD FLAIR 300.000000-AX T2 FR-FSE RF2 150 Glioma Segmentation-07890 , 1\n",
      "COR  T1 POST GD FLAIR 300.000000-AXIAL FLAIR Glioma Segmentation Corrected-38072 , 1\n",
      "COR  T1 POST GD FLAIR 300.000000-AX T1 POST GD FLAIR Glioma Segmentation-21984 , 1\n",
      "COR  T1 POST GD FLAIR 300.000000-AX T1 pre gd Glioma Segmentation-59760 , 1\n",
      "COR  T1 POST GD FLAIR 300.000000-AX T1 POST GD FLAIR Glioma Segmentation Corrected-60542 , 1\n",
      "TCGA-CS-6670\n",
      "------\n",
      "Chosen folders T1 401.000000-T1W  SE-43337\n",
      "Chosen folders T2 801.000000-T2WTSE-17776\n",
      "Chosen folders CT1 1301.000000-T1 SAG SE-76217\n",
      "Chosen folders FLAIR 501.000000-T2 AX FLAIR-38160\n",
      "------\n",
      "705.000000-LT  COM CAR-64520 , 20\n",
      "1002.000000-COR MPR-62097 , 200\n",
      "401.000000-T1W  SE-43337 , 16\n",
      "301.000000-DIFFUSION-05690 , 160\n",
      "1101.000000-T1 AX SE-74290 , 28\n",
      "601.000000-FFE FOR BLEED-95374 , 32\n",
      "1201.000000-T1 COR SE-19197 , 24\n",
      "703.000000-MRA BRAIN-26538 , 20\n",
      "1003.000000-SAG MRP-27555 , 180\n",
      "901.000000-T1 AX  SE-47601 , 28\n",
      "702.000000-3D MOTSA-99233 , 3\n",
      "101.000000-Survey-23673 , 9\n",
      "304.000000-eB1000i-89626 , 32\n",
      "302.000000-dADC MAP-61589 , 32\n",
      "704.000000-RT COM CAR-97040 , 20\n",
      "801.000000-T2WTSE-17776 , 28\n",
      "1301.000000-T1 SAG SE-76217 , 16\n",
      "501.000000-T2 AX FLAIR-38160 , 28\n",
      "706.000000-VERTEBRALS-11520 , 20\n",
      "1001.000000-T1W3Dstryker-25783 , 200\n",
      "701.000000-3D MOTSA-27849 , 140\n",
      "303.000000-eBo-07904 , 32\n",
      "------\n",
      "TCGA-DU-6407\n",
      "------\n",
      "Chosen folders T1 1.000000-AXIAL T1 POST GD-77810\n",
      "Chosen folders T2 7.000000-AX T2 FR-FSE RF2 150-87328\n",
      "Chosen folders CT1 11.000000-COR  T1 POST GD FLAIR-60414\n",
      "Chosen folders FLAIR 6.000000-AXIAL FLAIR-57418\n",
      "------\n",
      "401.000000-DTI 2.6mm WH  COVERED CUT AIR-89089 , 65\n",
      "2.000000-ASSET cal-94403 , 45\n",
      "9.000000-AXIAL PERFUSION-59313 , 1615\n",
      "6.000000-AXIAL FLAIR-57418 , 68\n",
      "11.000000-COR  T1 POST GD FLAIR-60414 , 45\n",
      "400.000000-DTI 2.6mm WH  COVERED CUT AIR-05559 , 65\n",
      "1.000000-3 PLANE LOC-72347 , 15\n",
      "5.000000-AXIAL DIFFUSION-06795 , 68\n",
      "7.000000-AX T2 FR-FSE RF2 150-87328 , 34\n",
      "402.000000-DTI 2.6mm WH  COVERED CUT AIR-13165 , 65\n",
      "10.000000-AX T1 POST GD FLAIR-38224 , 68\n",
      "4.000000-DTI 2.6mm WH  COVERED CUT AIR-44066 , 1690\n",
      "3.000000-SAG T1 FLAIR-08401 , 23\n",
      "8.000000-AX T1 pre gd-53451 , 34\n",
      "1.000000-3 PLANE LOC-62164 , 15\n",
      "3.000000-SAG T1 FLAIR-80825 , 18\n",
      "2.000000-ASSET cal-72123 , 40\n",
      "9.000000-AXIAL PERFUSION-82953 , 1615\n",
      "10.000000-AX T1 POST GD FLAIR-91295 , 72\n",
      "11.000000-COR  T1 POST GD FLAIR-83173 , 39\n",
      "7.000000-DTI ASSET-27118 , 910\n",
      "6.000000-AX T2 FR-FSE RF2 150-57817 , 36\n",
      "701.000000-DTI ASSET-02051 , 35\n",
      "700.000000-DTI ASSET-80660 , 35\n",
      "4.000000-AXIAL DIFFUSION-84154 , 72\n",
      "5.000000-AXIAL FLAIR-43201 , 72\n",
      "8.000000-AX T1 pre gd-59554 , 36\n",
      "702.000000-DTI ASSET-04630 , 35\n",
      "1.000000-AXIAL T1 POST GD-77810 , 58\n",
      "2.000000-AXIAL T1 POST GD FOR SPECT.-78009 , 4\n",
      "6.000000-AXIAL GR ECHOCHANGE AUTOLOCK-91494 , 8\n",
      "5.000000-AXIAL T1 LOC FOR SPECT 1-4 SL-88937 , 4\n",
      "1.000000-SAG LOCAL-81816 , 18\n",
      "7.000000-AXIAL T1 PRE-GADSAME LOCS-85380 , 58\n",
      "3.000000-AXIAL FLAIR-79535 , 58\n",
      "4.000000-AXIAL DIFFUSION-19938 , 255\n",
      "2.000000-AXIAL  FSE-76597 , 116\n",
      "8.000000-NEW AXIAL PERFUSION20S DELAY-80406 , 100\n",
      "------\n",
      "TCGA-DU-5852\n",
      "------\n",
      "Chosen folders T1 3.000000-SAG T1 FLAIR-51210\n",
      "Chosen folders T2 5.000000-AX T2 FR-FSE RF2 150-08573\n",
      "Chosen folders CT1 12.000000-COR  T1 POST GD FLAIR-51539\n",
      "Chosen folders FLAIR 7.000000-AXIAL FLAIR-87535\n",
      "------\n",
      "9.000000-3D DCE T1 MAP-09968 , 96\n",
      "12.000000-COR  T1 POST GD FLAIR-51539 , 39\n",
      "400.000000-DTI 2.6mm WH-45305 , 67\n",
      "3.000000-SAG T1 FLAIR-51210 , 21\n",
      "401.000000-DTI 2.6mm WH-83732 , 67\n",
      "2.000000-ASSET cal-58095 , 40\n",
      "8.000000-AX T1 pre gd-61202 , 36\n",
      "402.000000-DTI 2.6mm WH-50329 , 67\n",
      "10.000000-3D DCE DYNAMIC PERF-64266 , 1120\n",
      "6.000000-AXIAL DIFFUSION-66596 , 180\n",
      "4.000000-DTI 2.6mm WH-01377 , 1742\n",
      "7.000000-AXIAL FLAIR-87535 , 70\n",
      "1.000000-3 PLANE LOC-02726 , 9\n",
      "5.000000-AX T2 FR-FSE RF2 150-08573 , 36\n",
      "11.000000-AX T1 POST GD FLAIR-41253 , 70\n",
      "------\n",
      "TCGA-DU-6400\n",
      "------\n",
      "Chosen folders T1 4.000000-spectro t1 localizer-06703\n",
      "Chosen folders T2 2.000000-AXIAL FSE-41093\n",
      "Chosen folders CT1 9.000000-axial t1gd-53598\n",
      "Chosen folders FLAIR 3.000000-AXIAL FLAIR-24180\n",
      "------\n",
      "2.000000-AXIAL FSE-41093 , 114\n",
      "9.000000-axial t1gd-53598 , 57\n",
      "3.000000-AXIAL FLAIR-24180 , 57\n",
      "4.000000-spectro t1 localizer-06703 , 4\n",
      "8.000000-axial perfusion-06438 , 325\n",
      "5.000000-axial mpgr-48494 , 8\n",
      "1.000000-SAG LOCAL-74534 , 18\n",
      "6.000000-axial diffusion-67522 , 36\n",
      "7.000000-axial t1 pre gd-06393 , 57\n",
      "------\n",
      "TCGA-DU-7301\n",
      "------\n",
      "Chosen folders T1 2.000000-AX T1 POST GD FLAIR-86746\n",
      "Chosen folders T2 5.000000-AX T2 FR-FSE RF2 150-68026\n",
      "Chosen folders CT1 11.000000-COR  T1 POST GD FLAIR-09795\n",
      "Chosen folders FLAIR 6.000000-AXIAL FLAIR-66613\n",
      "------\n",
      "702.000000-DTI ASSET-89416 , 24\n",
      "701.000000-DTI ASSET-86571 , 24\n",
      "3.000000-SAG T1 FLAIR-70866 , 19\n",
      "7.000000-DTI ASSET-15834 , 624\n",
      "6.000000-AXIAL FLAIR-66613 , 69\n",
      "2.000000-ASSET cal-71729 , 48\n",
      "4.000000-AXIAL DIFFUSION-14977 , 70\n",
      "11.000000-COR  T1 POST GD FLAIR-09795 , 38\n",
      "5.000000-AX T2 FR-FSE RF2 150-68026 , 35\n",
      "10.000000-AX T1 POST GD FLAIR-56964 , 69\n",
      "8.000000-AX T1 pre gd-40072 , 35\n",
      "700.000000-DTI ASSET-93395 , 24\n",
      "1.000000-3 PLANE LOC-50712 , 15\n",
      "9.000000-AXIAL PERFUSION-34460 , 1330\n",
      "4.000000-PROBE 3D CSI-44075 , 22\n",
      "1.000000-3 PLANE LOC-62587 , 15\n",
      "2.000000-AX T1 POST GD FLAIR-86746 , 24\n",
      "------\n",
      "COR  T1 POST GD FLAIR 300.000000-AX T1 POST GD FLAIR Glioma Segmentation Corrected-57257 , 1\n",
      "COR  T1 POST GD FLAIR 300.000000-AXIAL FLAIR Glioma Segmentation Corrected-27964 , 1\n",
      "COR  T1 POST GD FLAIR 300.000000-AX T1 POST GD FLAIR Glioma Segmentation-40971 , 1\n",
      "COR  T1 POST GD FLAIR 300.000000-AX T1 pre gd Glioma Segmentation-97056 , 1\n",
      "COR  T1 POST GD FLAIR 300.000000-AX T2 FR-FSE RF2 150 Glioma Segmentation Corrected-69136 , 1\n",
      "COR  T1 POST GD FLAIR 300.000000-AXIAL FLAIR Glioma Segmentation-02682 , 1\n",
      "COR  T1 POST GD FLAIR 300.000000-AX T1 pre gd Glioma Segmentation Corrected-83990 , 1\n",
      "COR  T1 POST GD FLAIR 300.000000-AX T2 FR-FSE RF2 150 Glioma Segmentation-96240 , 1\n",
      "TCGA-DU-7013\n",
      "------\n",
      "Chosen folders T1 5.000000-AXIAL T1 POST GAD.-93301\n",
      "Chosen folders T2 2.000000-AXIAL VARIABLE ECHO PDT2-68812\n",
      "Chosen folders CT1 6.000000-CORONAL T1 POST-09887\n",
      "Chosen folders FLAIR 4.000000-AXIAL flair-16327\n",
      "------\n",
      "1.000000-SAGITTAL LOCALIZER-35405 , 18\n",
      "6.000000-CORONAL T1 POST-09887 , 30\n",
      "5.000000-AXIAL T1 POST GAD.-93301 , 30\n",
      "2.000000-AXIAL VARIABLE ECHO PDT2-68812 , 42\n",
      "3.000000-AXIAL DIFFUSION 1000-49091 , 120\n",
      "4.000000-AXIAL flair-16327 , 49\n",
      "------\n",
      "TCGA-DU-6404\n",
      "------\n",
      "Chosen folders T1 7.000000-AXIAL T1 PRE GD-41025\n",
      "Chosen folders T2 2.000000-AXIAL  FSE-45500\n",
      "Chosen folders CT1 10.000000-AXIAL T1 POST GD-43862\n",
      "Chosen folders FLAIR 3.000000-AXIAL FLAIR-99356\n",
      "------\n",
      "8.000000-NEW AXIAL PERFUSION20S DELAY-79025 , 476\n",
      "3.000000-AXIAL FLAIR-99356 , 53\n",
      "5.000000-SPEC-53856 , 3\n",
      "9.000000-AXIAL T1 SI LOCALIZER-84863 , 3\n",
      "2.000000-AXIAL  FSE-45500 , 110\n",
      "6.000000-AXIAL GRE-02146 , 6\n",
      "4.000000-AXIAL DIFFUSION-60064 , 110\n",
      "7.000000-AXIAL T1 PRE GD-41025 , 55\n",
      "10.000000-AXIAL T1 POST GD-43862 , 55\n",
      "------\n",
      "AXIAL T1 POST GD 300.000000-AXIAL T1 POST GD Glioma Segmentation-48381 , 1\n",
      "AXIAL T1 POST GD 300.000000-AXIAL T1 PRE GD Glioma Segmentation-57469 , 1\n",
      "AXIAL T1 POST GD 300.000000-AXIAL  FSE Glioma Segmentation-02626 , 1\n",
      "AXIAL T1 POST GD 300.000000-AXIAL T1 PRE GD Glioma Segmentation Corrected-79709 , 1\n",
      "AXIAL T1 POST GD 300.000000-AXIAL  FSE Glioma Segmentation Corrected-78713 , 1\n",
      "AXIAL T1 POST GD 300.000000-AXIAL FLAIR Glioma Segmentation Corrected-98277 , 1\n",
      "AXIAL T1 POST GD 300.000000-AXIAL T1 POST GD Glioma Segmentation Corrected-99195 , 1\n",
      "! hi  !\n",
      "AXIAL T1 POST GD 300.000000-AXIAL FLAIR Glioma Segmentation-71023 , 1\n",
      "TCGA-DU-8162\n",
      "------\n",
      "Chosen folders T1 3.000000-SAG T1 FLAIR-38564\n",
      "Chosen folders T2 7.000000-AX T2 FR-FSE RF2 150-82140\n",
      "Chosen folders CT1 12.000000-COR  T1 POST GD FLAIR-13408\n",
      "Chosen folders FLAIR 4.000000-AXIAL FLAIR-34659\n",
      "------\n",
      "501.000000-DTI 2.6mm WH-92008 , 70\n",
      "8.000000-AX T1 pre gd-63463 , 37\n",
      "5.000000-DTI 2.6mm WH-31802 , 1820\n",
      "11.000000-AX T1 POST GD FLAIR-78295 , 72\n",
      "12.000000-COR  T1 POST GD FLAIR-13408 , 34\n",
      "1.000000-3 PLANE LOC-66150 , 9\n",
      "6.000000-AXIAL DIFFUSION-40225 , 185\n",
      "4.000000-AXIAL FLAIR-34659 , 72\n",
      "2.000000-ASSET cal-96811 , 39\n",
      "10.000000-3D DCE DYNAMIC PERF-68800 , 1120\n",
      "3.000000-SAG T1 FLAIR-38564 , 19\n",
      "7.000000-AX T2 FR-FSE RF2 150-82140 , 37\n",
      "502.000000-DTI 2.6mm WH-27097 , 70\n",
      "500.000000-DTI 2.6mm WH-84303 , 70\n",
      "9.000000-3D DCE T1 MAP-57687 , 96\n",
      "------\n",
      "COR  T1 POST GD FLAIR 300.000000-AX T1 POST GD FLAIR Glioma Segmentation Corrected-48003 , 1\n",
      "COR  T1 POST GD FLAIR 300.000000-AX T1 POST GD FLAIR Glioma Segmentation-74185 , 1\n",
      "COR  T1 POST GD FLAIR 300.000000-AX T1 pre gd Glioma Segmentation-99575 , 1\n",
      "COR  T1 POST GD FLAIR 300.000000-AXIAL FLAIR Glioma Segmentation Corrected-52620 , 1\n",
      "COR  T1 POST GD FLAIR 300.000000-AX T2 FR-FSE RF2 150 Glioma Segmentation Corrected-34100 , 1\n",
      "COR  T1 POST GD FLAIR 300.000000-AX T1 pre gd Glioma Segmentation Corrected-80895 , 1\n",
      "COR  T1 POST GD FLAIR 300.000000-AX T2 FR-FSE RF2 150 Glioma Segmentation-76823 , 1\n",
      "COR  T1 POST GD FLAIR 300.000000-AXIAL FLAIR Glioma Segmentation-83732 , 1\n",
      "TCGA-DU-7299\n",
      "------\n",
      "Chosen folders T1 3.000000-SAG T1 FLAIR-02642\n",
      "Chosen folders T2 6.000000-AX T2 FR-FSE RF2 150-11418\n",
      "Chosen folders CT1 11.000000-COR  T1 POST GD FLAIR-28103\n",
      "Chosen folders FLAIR 5.000000-AXIAL FLAIR-03289\n",
      "------\n"
     ]
    },
    {
     "name": "stdout",
     "output_type": "stream",
     "text": [
      "700.000000-DTI ASSET-28396 , 28\n",
      "4.000000-AXIAL DIFFUSION-48283 , 72\n",
      "3.000000-SAG T1 FLAIR-02642 , 18\n",
      "2.000000-ASSET cal-69637 , 40\n",
      "9.000000-AXIAL PERFUSION-04700 , 855\n",
      "8.000000-AX T1 pre gd-86144 , 36\n",
      "1.000000-3 PLANE LOC-15093 , 15\n",
      "10.000000-AX T1 POST GD FLAIR-49564 , 72\n",
      "702.000000-DTI ASSET-13763 , 28\n",
      "11.000000-COR  T1 POST GD FLAIR-28103 , 46\n",
      "6.000000-AX T2 FR-FSE RF2 150-11418 , 36\n",
      "701.000000-DTI ASSET-39610 , 28\n",
      "7.000000-DTI ASSET-72031 , 728\n",
      "5.000000-AXIAL FLAIR-03289 , 72\n",
      "------\n",
      "COR  T1 POST GD FLAIR 300.000000-AX T1 pre gd Glioma Segmentation Corrected-28600 , 1\n",
      "COR  T1 POST GD FLAIR 300.000000-AX T1 POST GD FLAIR Glioma Segmentation Corrected-50521 , 1\n",
      "COR  T1 POST GD FLAIR 300.000000-AXIAL FLAIR Glioma Segmentation Corrected-23588 , 1\n",
      "COR  T1 POST GD FLAIR 300.000000-AXIAL FLAIR Glioma Segmentation-87330 , 1\n",
      "COR  T1 POST GD FLAIR 300.000000-AX T2 FR-FSE RF2 150 Glioma Segmentation Corrected-44684 , 1\n",
      "COR  T1 POST GD FLAIR 300.000000-AX T2 FR-FSE RF2 150 Glioma Segmentation-10786 , 1\n",
      "COR  T1 POST GD FLAIR 300.000000-AX T1 POST GD FLAIR Glioma Segmentation-85236 , 1\n",
      "COR  T1 POST GD FLAIR 300.000000-AX T1 pre gd Glioma Segmentation-30978 , 1\n",
      "TCGA-CS-6668\n",
      "------\n",
      "Chosen folders T1 701.000000-T1W3DSTRYKER-87183\n",
      "Chosen folders T2 601.000000-AXIAL  T2-11084\n",
      "Chosen folders CT1 1101.000000-T1W3DSTRYKER-11217\n",
      "Chosen folders FLAIR 501.000000-T2 AX FLAIR-51345\n",
      "------\n",
      "402.000000-eBo-81131 , 34\n",
      "401.000000-DIFFUSION-70638 , 68\n",
      "601.000000-AXIAL  T2-11084 , 33\n",
      "403.000000-eB1000i-96030 , 34\n",
      "702.000000-COR MPR ISO1MM-12886 , 200\n",
      "501.000000-T2 AX FLAIR-51345 , 28\n",
      "404.000000-dADC MAP-93558 , 34\n",
      "801.000000-Survey-67622 , 9\n",
      "701.000000-T1W3DSTRYKER-87183 , 170\n",
      "1103.000000-SAG MPR ISO1MM-31209 , 170\n",
      "1102.000000-COR MPR ISO1MM-13804 , 200\n",
      "101.000000-Survey-64735 , 9\n",
      "703.000000-SAG MPR ISO1MM-45991 , 170\n",
      "1101.000000-T1W3DSTRYKER-11217 , 170\n",
      "------\n",
      "T1W3DSTRYKER 300.000000-T2 AX FLAIR Glioma Segmentation-07170 , 1\n",
      "T1W3DSTRYKER 300.000000-T1W3DSTRYKER Glioma Segmentation-97596 , 1\n",
      "T1W3DSTRYKER 300.000000-T2 AX FLAIR Glioma Segmentation Corrected-79393 , 1\n",
      "T1W3DSTRYKER 300.000000-T1W3DSTRYKER Glioma Segmentation Corrected-61902 , 1\n",
      "! hi  !\n",
      "T1W3DSTRYKER 300.000000-AXIAL  T2 Glioma Segmentation Corrected-00147 , 1\n",
      "T1W3DSTRYKER 300.000000-AXIAL  T2 Glioma Segmentation-42379 , 1\n",
      "T1W3DSTRYKER 300.000000-T1W3DSTRYKER Glioma Segmentation Corrected-02952 , 1\n",
      "! hi  !\n",
      "T1W3DSTRYKER 300.000000-T1W3DSTRYKER Glioma Segmentation-03364 , 1\n",
      "TCGA-DU-8168\n",
      "------\n",
      "Chosen folders T1 3.000000-SAG T1 FLAIR-67751\n",
      "Chosen folders T2 4.000000-AX T2 FR-FSE RF2 150-98020\n",
      "Chosen folders CT1 13.000000-COR  T1 POST GD FLAIR-94304\n",
      "Chosen folders FLAIR 7.000000-AXIAL FLAIR-40636\n",
      "------\n",
      "3.000000-SAG T1 FLAIR-67751 , 19\n",
      "5.000000-DTI 2.6mm WH-36205 , 1794\n",
      "12.000000-AX T1 POST GD FLAIR-79320 , 71\n",
      "501.000000-DTI 2.6mm WH-71695 , 69\n",
      "902.000000-rt cst-18486 , 71\n",
      "13.000000-COR  T1 POST GD FLAIR-94304 , 40\n",
      "8.000000-AX T1 pre gd-14297 , 36\n",
      "10.000000-3D DCE T1 MAP-58677 , 96\n",
      "500.000000-DTI 2.6mm WH-14346 , 69\n",
      "6.000000-AXIAL DIFFUSION-10947 , 180\n",
      "502.000000-DTI 2.6mm WH-22321 , 69\n",
      "2.000000-ASSET cal-51671 , 35\n",
      "1.000000-3 PLANE LOC-23363 , 9\n",
      "7.000000-AXIAL FLAIR-40636 , 71\n",
      "11.000000-3D DCE DYNAMIC PERF-17910 , 1120\n",
      "4.000000-AX T2 FR-FSE RF2 150-98020 , 36\n",
      "------\n",
      "COR  T1 POST GD FLAIR 300.000000-AXIAL FLAIR Glioma Segmentation Corrected-70622 , 1\n",
      "COR  T1 POST GD FLAIR 300.000000-AX T2 FR-FSE RF2 150 Glioma Segmentation-56595 , 1\n",
      "COR  T1 POST GD FLAIR 300.000000-AXIAL FLAIR Glioma Segmentation-89940 , 1\n",
      "COR  T1 POST GD FLAIR 300.000000-AX T1 pre gd Glioma Segmentation Corrected-12902 , 1\n",
      "COR  T1 POST GD FLAIR 300.000000-AX T1 POST GD FLAIR Glioma Segmentation Corrected-92887 , 1\n",
      "COR  T1 POST GD FLAIR 300.000000-AX T1 pre gd Glioma Segmentation-36985 , 1\n",
      "COR  T1 POST GD FLAIR 300.000000-AX T1 POST GD FLAIR Glioma Segmentation-56242 , 1\n",
      "COR  T1 POST GD FLAIR 300.000000-AX T2 FR-FSE RF2 150 Glioma Segmentation Corrected-05817 , 1\n",
      "TCGA-DU-5854\n",
      "------\n",
      "Chosen folders T1 2.000000-SAG T1-14044\n",
      "Chosen folders T2 3.000000-AXIAL FSE-01732\n",
      "Chosen folders CT1 9.000000-COR T1 POST GD-89954\n",
      "Chosen folders FLAIR 5.000000-Ax FLAIR 2.5mm for surgery-96147\n",
      "------\n",
      "2.000000-SAG T1-14044 , 18\n",
      "8.000000-Ax T1 2.5mm for surgery-85529 , 71\n",
      "4.000000-AXIAL DTI-25941 , 910\n",
      "400.000000-Average DC-59127 , 35\n",
      "6.000000-AXIAL T1-04722 , 36\n",
      "401.000000-Fractional Ansio.-44559 , 35\n",
      "402.000000-T2-weighted trace-77115 , 35\n",
      "1.000000-3 PLANE LOC-88520 , 9\n",
      "5.000000-Ax FLAIR 2.5mm for surgery-96147 , 71\n",
      "9.000000-COR T1 POST GD-89954 , 43\n",
      "7.000000-AXIAL PERFUSION-51116 , 1140\n",
      "3.000000-AXIAL FSE-01732 , 72\n",
      "------\n",
      "COR T1 POST GD 300.000000-AXIAL FSE Glioma Segmentation Corrected-89966 , 1\n",
      "COR T1 POST GD 300.000000-AXIAL T1 Glioma Segmentation Corrected-14702 , 1\n",
      "COR T1 POST GD 300.000000-Ax FLAIR 2.5mm for surgery Glioma Segmentation Correc-05769 , 1\n",
      "COR T1 POST GD 300.000000-COR T1 POST GD Glioma Segmentation-97477 , 1\n",
      "COR T1 POST GD 300.000000-AXIAL FSE Glioma Segmentation-62868 , 1\n",
      "COR T1 POST GD 300.000000-AXIAL T1 Glioma Segmentation-48897 , 1\n",
      "COR T1 POST GD 300.000000-Ax FLAIR 2.5mm for surgery Glioma Segmentation-75393 , 1\n",
      "COR T1 POST GD 300.000000-COR T1 POST GD Glioma Segmentation Corrected-34645 , 1\n",
      "! hi  !\n",
      "TCGA-CS-6666\n",
      "------\n",
      "Chosen folders T1 401.000000-SAG T1-02443\n",
      "Chosen folders T2 601.000000-T2WFFE-90138\n",
      "Chosen folders CT1 1301.000000-T1 SAG SE-08339\n",
      "Chosen folders FLAIR 701.000000-T2 AX FLAIR-08756\n",
      "------\n",
      "401.000000-SAG T1-02443 , 24\n",
      "601.000000-T2WFFE-90138 , 30\n",
      "101.000000-Survey-94672 , 9\n",
      "1003.000000-SAG MPR ISO1MM-83617 , 170\n",
      "502.000000-eBo-00599 , 30\n",
      "1001.000000-T1W3DSTRYKER-84137 , 200\n",
      "503.000000-eB1000i-73091 , 30\n",
      "1101.000000-T1 AX SE FS POST-08997 , 26\n",
      "1201.000000-T1 COR SE-17084 , 29\n",
      "504.000000-dADC MAP-93398 , 30\n",
      "701.000000-T2 AX FLAIR-08756 , 28\n",
      "901.000000-T1 AX  SE-78879 , 26\n",
      "1002.000000-COR MPR ISO1MM-45390 , 200\n",
      "1301.000000-T1 SAG SE-08339 , 24\n",
      "501.000000-DIFFUSION-08793 , 60\n",
      "801.000000-AXIAL  T2-43433 , 26\n",
      "------\n",
      "T1 SAG SE 300.000000-T2 AX FLAIR Glioma Segmentation-29215 , 1\n",
      "T1 SAG SE 300.000000-T1 AX  SE Glioma Segmentation Corrected-46437 , 1\n",
      "T1 SAG SE 300.000000-T1 AX  SE Glioma Segmentation-63628 , 1\n",
      "T1 SAG SE 300.000000-AXIAL  T2 Glioma Segmentation-85730 , 1\n",
      "T1 SAG SE 300.000000-T2 AX FLAIR Glioma Segmentation Corrected-59124 , 1\n",
      "T1 SAG SE 300.000000-T1W3DSTRYKER Glioma Segmentation-05362 , 1\n",
      "T1 SAG SE 300.000000-AXIAL  T2 Glioma Segmentation Corrected-37412 , 1\n",
      "T1 SAG SE 300.000000-T1W3DSTRYKER Glioma Segmentation Corrected-82481 , 1\n",
      "TCGA-CS-5397\n",
      "------\n",
      "Chosen folders T1 401.000000-T1W  SE-10200\n",
      "Chosen folders T2 601.000000-T2WTSE-28693\n",
      "Chosen folders CT1 1401.000000-T1 SAG SE-48723\n",
      "Chosen folders FLAIR 501.000000-T2 AX FLAIR-79834\n",
      "------\n",
      "401.000000-T1W  SE-10200 , 16\n",
      "701.000000-PDWTSE-30616 , 28\n",
      "901.000000-T1 AX  SE-99680 , 22\n",
      "304.000000-eB1000i-16661 , 32\n",
      "302.000000-dADC MAP-35971 , 32\n",
      "501.000000-T2 AX FLAIR-79834 , 28\n",
      "101.000000-Survey-45940 , 9\n",
      "801.000000-FFE FOR BLEED-05304 , 32\n",
      "301.000000-DIFFUSION-92122 , 160\n",
      "1401.000000-T1 SAG SE-48723 , 16\n",
      "1101.000000-T1W3Dstryker-36949 , 120\n",
      "601.000000-T2WTSE-28693 , 28\n",
      "1201.000000-T1 AX SE-06376 , 22\n",
      "303.000000-eBo-93100 , 32\n",
      "1301.000000-T1 COR SE-72456 , 22\n",
      "------\n",
      "T1 SAG SE 300.000000-T2WTSE Glioma Segmentation-85064 , 1\n",
      "T1 SAG SE 300.000000-T2 AX FLAIR Glioma Segmentation Corrected-43205 , 1\n",
      "T1 SAG SE 300.000000-T1 AX  SE Glioma Segmentation Corrected-15731 , 1\n",
      "T1 SAG SE 300.000000-T2 AX FLAIR Glioma Segmentation-81977 , 1\n",
      "T1 SAG SE 300.000000-T1W3Dstryker Glioma Segmentation-20336 , 1\n",
      "T1 SAG SE 300.000000-T1 AX  SE Glioma Segmentation-30710 , 1\n",
      "T1 SAG SE 300.000000-T1W3Dstryker Glioma Segmentation Corrected-10646 , 1\n",
      "T1 SAG SE 300.000000-T2WTSE Glioma Segmentation Corrected-22263 , 1\n",
      "TCGA-DU-6397\n",
      "------\n",
      "Chosen folders T1 5.000000-AXIAL T1 SI LOCALIZER-76544\n",
      "Chosen folders T2 10.000000-AXIAL  FSE-32609\n",
      "Chosen folders CT1 9.000000-AXIAL T1 POST GD-37336\n",
      "Chosen folders FLAIR 3.000000-AXIAL FLAIR-43459\n",
      "------\n",
      "8.000000-NEW AXIAL PERFUSION20S DELAY-50341 , 475\n",
      "4.000000-AXIAL DIFFUSION-47335 , 110\n",
      "3.000000-AXIAL FLAIR-43459 , 60\n",
      "9.000000-AXIAL T1 POST GD-37336 , 60\n",
      "1.000000-SAG LOCAL-78046 , 18\n",
      "5.000000-AXIAL T1 SI LOCALIZER-76544 , 4\n",
      "6.000000-AXIAL GRE-92091 , 8\n",
      "10.000000-AXIAL  FSE-32609 , 120\n",
      "7.000000-AXIAL T1 PRE GD-97757 , 60\n",
      "2.000000-AXIAL  FSE-54695 , 120\n",
      "5.000000-AXIAL T1 SI LOCALIZER-07648 , 4\n",
      "1.000000-SAG LOCAL-22718 , 18\n",
      "3.000000-AXIAL FLAIR-72018 , 60\n",
      "2.000000-AXIAL  FSE-82681 , 120\n",
      "9.000000-AXIAL T1 POST GD-26078 , 60\n",
      "7.000000-AXIAL T1 PRE GD-15477 , 60\n",
      "8.000000-NEW AXIAL PERFUSION20S DELAY-54422 , 475\n",
      "10.000000-AXIAL  FSE-39591 , 120\n",
      "4.000000-AXIAL DIFFUSION-89066 , 110\n",
      "6.000000-AXIAL GRE-29917 , 8\n",
      "------\n",
      "TCGA-CS-4944\n",
      "------\n",
      "Chosen folders T1 2.000000-BRAINSTRYKERT1SAG-38790\n",
      "Chosen folders T2 4.000000-BRAINSTRYKERT2AXDOUBLE-38207\n",
      "Chosen folders CT1 12.000000-BRAINSTRYKERT1SAGGAD-34730\n",
      "Chosen folders FLAIR 5.000000-BRAINSTRYKERFLAIR-35819\n",
      "------\n",
      "12.000000-BRAINSTRYKERT1SAGGAD-34730 , 20\n",
      "10.000000-BRAINSTRYKERT1CORONAL-63124 , 23\n",
      "2.000000-BRAINSTRYKERT1SAG-38790 , 20\n",
      "6.000000-BRAINNONCONTRASTFL2DA-86701 , 20\n",
      "4.000000-BRAINSTRYKERT2AXDOUBLE-38207 , 40\n",
      "11.000000-BRAINSTRYKERT1SAGGAD-54599 , 20\n",
      "1.000000-BRAINSTRYKERscout-79948 , 3\n",
      "3.000000-BRAINSTRYKERT1AXIAL-13550 , 20\n",
      "9.000000-BRAINSTRYKERt1AX-06444 , 20\n",
      "5.000000-BRAINSTRYKERFLAIR-35819 , 20\n",
      "8.000000-BRAINSTRYKERAX-RAGE-STRY-07311 , 120\n",
      "------\n",
      "BRAINSTRYKERT1SAGGAD 300.000000-BRAINSTRYKERFLAIR Glioma Segmentation-90617 , 1\n",
      "BRAINSTRYKERT1SAGGAD 300.000000-BRAINSTRYKERT1AXIAL Glioma Segmentation-54920 , 1\n",
      "BRAINSTRYKERT1SAGGAD 300.000000-BRAINSTRYKERAX-RAGE-STRY Glioma Segmentation Correcte-25804 , 1\n",
      "BRAINSTRYKERT1SAGGAD 300.000000-BRAINSTRYKERT1AXIAL Glioma Segmentation Corrected-32318 , 1\n",
      "BRAINSTRYKERT1SAGGAD 300.000000-BRAINSTRYKERAX-RAGE-STRY Glioma Segmentation-12575 , 1\n",
      "BRAINSTRYKERT1SAGGAD 300.000000-BRAINSTRYKERFLAIR Glioma Segmentation Corrected-29897 , 1\n",
      "BRAINSTRYKERT1SAGGAD 300.000000-BRAINNONCONTRASTFL2DA Glioma Segmentation Corrected-52878 , 1\n",
      "BRAINSTRYKERT1SAGGAD 300.000000-BRAINNONCONTRASTFL2DA Glioma Segmentation-28066 , 1\n",
      "TCGA-DU-6399\n",
      "------\n",
      "Chosen folders T1 7.000000-AXIAL T1 PREPOST GD-20886\n",
      "Chosen folders T2 2.000000-AXIAL FSE-42839\n",
      "Chosen folders CT1 9.000000-AXIAL T1 PREPOST GD-25953\n",
      "Chosen folders FLAIR 3.000000-AXIAL FLAIR-41632\n",
      "------\n",
      "2.000000-AXIAL FSE-42839 , 106\n",
      "9.000000-AXIAL T1 PREPOST GD-25953 , 53\n",
      "8.000000-ax per-66971 , 325\n",
      "4.000000-AX DIFF-44476 , 42\n",
      "5.000000-axial si local-97986 , 4\n",
      "6.000000-axial gre-31081 , 8\n",
      "3.000000-AXIAL FLAIR-41632 , 53\n",
      "1.000000-SAG LOC-99526 , 18\n",
      "7.000000-AXIAL T1 PREPOST GD-20886 , 53\n",
      "------\n",
      "TCGA-DU-6408\n",
      "------\n",
      "Chosen folders T1 5.000000-AXIAL T1 PRE SPECTROSCOPY-91925\n",
      "Chosen folders T2 2.000000-AXIAL  FSE-97029\n",
      "Chosen folders CT1 9.000000-AXIAL T1 POST GD THRU TUMOR-74670\n",
      "Chosen folders FLAIR 3.000000-AXIAL FLAIR-22793\n",
      "------\n",
      "9.000000-AXIAL T1 POST GD THRU TUMOR-74670 , 4\n",
      "3.000000-AXIAL FLAIR-22793 , 56\n",
      "7.000000-AXIAL T1 PRE-GAD.-34954 , 56\n",
      "4.000000-AXIAL DIFFUSION-88627 , 279\n",
      "1.000000-SAG LOCAL-15147 , 18\n",
      "2.000000-AXIAL  FSE-97029 , 111\n",
      "6.000000-AX GRE POST SPECMODIFY CVS-62552 , 8\n",
      "5.000000-AXIAL T1 PRE SPECTROSCOPY-91925 , 4\n",
      "8.000000-AXIAL T1 POST GD-72787 , 56\n",
      "------\n",
      "TCGA-DU-6542\n",
      "------\n",
      "Chosen folders T1 3.000000-SAG T1 FLAIR-66609\n",
      "Chosen folders T2 7.000000-AX T2 FR-FSE RF2 150-10201\n",
      "Chosen folders CT1 12.000000-COR  T1 POST GD FLAIR-01253\n",
      "Chosen folders FLAIR 4.000000-AXIAL FLAIR-35548\n",
      "------\n",
      "9.000000-3D DCE T1 MAP-91203 , 96\n",
      "2.000000-ASSET cal-07308 , 38\n",
      "8.000000-AX T1 pre gd-17760 , 37\n",
      "7.000000-AX T2 FR-FSE RF2 150-10201 , 37\n",
      "12.000000-COR  T1 POST GD FLAIR-01253 , 44\n",
      "502.000000-DTI 2.6mm WH-26661 , 70\n",
      "10.000000-3D DCE DYNAMIC PERF-31397 , 1120\n",
      "6.000000-AXIAL DIFFUSION-99891 , 185\n",
      "3.000000-SAG T1 FLAIR-66609 , 22\n",
      "500.000000-DTI 2.6mm WH-13767 , 70\n",
      "4.000000-AXIAL FLAIR-35548 , 72\n",
      "1.000000-3 PLANE LOC-98985 , 9\n",
      "11.000000-AX T1 POST GD FLAIR-99692 , 72\n",
      "5.000000-DTI 2.6mm WH-03483 , 1820\n",
      "501.000000-DTI 2.6mm WH-97002 , 70\n",
      "------\n",
      "COR  T1 POST GD FLAIR 300.000000-AX T1 POST GD FLAIR Glioma Segmentation Corrected-90626 , 1\n",
      "COR  T1 POST GD FLAIR 300.000000-AXIAL FLAIR Glioma Segmentation Corrected-64094 , 1\n",
      "COR  T1 POST GD FLAIR 300.000000-AX T2 FR-FSE RF2 150 Glioma Segmentation-02882 , 1\n",
      "COR  T1 POST GD FLAIR 300.000000-AXIAL FLAIR Glioma Segmentation-94652 , 1\n",
      "COR  T1 POST GD FLAIR 300.000000-AX T1 POST GD FLAIR Glioma Segmentation-90161 , 1\n",
      "COR  T1 POST GD FLAIR 300.000000-AX T1 pre gd Glioma Segmentation Corrected-42950 , 1\n",
      "COR  T1 POST GD FLAIR 300.000000-AX T2 FR-FSE RF2 150 Glioma Segmentation Corrected-63155 , 1\n",
      "COR  T1 POST GD FLAIR 300.000000-AX T1 pre gd Glioma Segmentation-16586 , 1\n",
      "TCGA-DU-8166\n",
      "------\n",
      "Chosen folders T1 3.000000-SAG T1 FLAIR-69643\n",
      "Chosen folders T2 8.000000-AX T2 FR-FSE RF2 150-13948\n",
      "Chosen folders CT1 13.000000-COR  T1 POST GD FLAIR-71878\n",
      "Chosen folders FLAIR 7.000000-AXIAL FLAIR-20431\n",
      "------\n",
      "11.000000-3D DCE DYNAMIC PERF-00450 , 1120\n",
      "401.000000-DTI 2.6mm WH-24627 , 69\n",
      "402.000000-DTI 2.6mm WH-72439 , 69\n",
      "8.000000-AX T2 FR-FSE RF2 150-13948 , 36\n",
      "10.000000-3D DCE T1 MAP-41046 , 96\n",
      "1.000000-3 PLANE LOC-83388 , 9\n",
      "13.000000-COR  T1 POST GD FLAIR-71878 , 40\n",
      "12.000000-AX T1 POST GD FLAIR-47718 , 72\n",
      "2.000000-ASSET cal-08759 , 35\n",
      "9.000000-AX T1 pre gd-32082 , 36\n",
      "6.000000-AXIAL DIFFUSION-83372 , 180\n"
     ]
    },
    {
     "name": "stdout",
     "output_type": "stream",
     "text": [
      "4.000000-DTI 2.6mm WH-31825 , 1794\n",
      "7.000000-AXIAL FLAIR-20431 , 72\n",
      "5.000000-SAG T1 FLAIR-78070 , 20\n",
      "400.000000-DTI 2.6mm WH-23321 , 69\n",
      "3.000000-SAG T1 FLAIR-69643 , 20\n",
      "------\n",
      "COR  T1 POST GD FLAIR 300.000000-AX T1 pre gd Glioma Segmentation Corrected-20567 , 1\n",
      "COR  T1 POST GD FLAIR 300.000000-AX T2 FR-FSE RF2 150 Glioma Segmentation-04249 , 1\n",
      "COR  T1 POST GD FLAIR 300.000000-AX T1 POST GD FLAIR Glioma Segmentation-12341 , 1\n",
      "COR  T1 POST GD FLAIR 300.000000-AX T1 pre gd Glioma Segmentation-09635 , 1\n",
      "COR  T1 POST GD FLAIR 300.000000-AXIAL FLAIR Glioma Segmentation Corrected-69150 , 1\n",
      "COR  T1 POST GD FLAIR 300.000000-AX T1 POST GD FLAIR Glioma Segmentation Corrected-42912 , 1\n",
      "COR  T1 POST GD FLAIR 300.000000-AXIAL FLAIR Glioma Segmentation-57864 , 1\n",
      "COR  T1 POST GD FLAIR 300.000000-AX T2 FR-FSE RF2 150 Glioma Segmentation Corrected-26441 , 1\n",
      "TCGA-DU-5872\n",
      "------\n",
      "Chosen folders T1 2.000000-SAG T1-50574\n",
      "Chosen folders T2 602.000000-T2-weighted trace-53911\n",
      "Chosen folders CT1 14.000000-COR T1 POST GD-35911\n",
      "Chosen folders FLAIR 5.000000-Ax FLAIR 2.5mm for surgery-31127\n",
      "------\n",
      "13.000000-Ax T1 2.5mm for surgery-85579 , 71\n",
      "6.000000-AXIAL DTI-48711 , 754\n",
      "600.000000-Average DC-53735 , 29\n",
      "602.000000-T2-weighted trace-53911 , 29\n",
      "8.000000-AXIAL FSE-96257 , 72\n",
      "1.000000-3 PLANE LOC-23330 , 9\n",
      "601.000000-Fractional Ansio.-06617 , 29\n",
      "5.000000-Ax FLAIR 2.5mm for surgery-31127 , 71\n",
      "12.000000-AXIAL PERFUSION-14909 , 1235\n",
      "10.000000-3 PLANE LOC-96829 , 27\n",
      "11.000000-AXIAL T1-55226 , 71\n",
      "14.000000-COR T1 POST GD-35911 , 46\n",
      "7.000000-AXIAL FSE-09929 , 72\n",
      "2.000000-SAG T1-50574 , 24\n",
      "501.000000-Fractional Ansio.-46385 , 32\n",
      "6.000000-AXIAL T1-96644 , 32\n",
      "3.000000-AXIAL FSE-81693 , 64\n",
      "1.000000-3 PLANE LOC-42073 , 9\n",
      "8.000000-AXIAL T1 GD-92429 , 32\n",
      "4.000000-AXIAL FLAIR-26719 , 32\n",
      "5.000000-AXIAL DTI-93315 , 832\n",
      "502.000000-T2-weighted trace-85205 , 32\n",
      "9.000000-COR T1 GD-97774 , 38\n",
      "500.000000-Average DC-62164 , 32\n",
      "2.000000-SAG T1-87966 , 18\n",
      "7.000000-AXIAL PERFUSION-64124 , 1235\n",
      "------\n",
      "COR T1 POST GD 300.000000-Ax T1 2.5mm for surgery Glioma Segmentation Corrected-93239 , 1\n",
      "COR T1 POST GD 300.000000-Ax FLAIR 2.5mm for surgery Glioma Segmentation-83576 , 1\n",
      "COR T1 POST GD 300.000000-AXIAL T1 Glioma Segmentation Corrected-26449 , 1\n",
      "COR T1 POST GD 300.000000-AXIAL FSE Glioma Segmentation-02224 , 1\n",
      "COR T1 POST GD 300.000000-AXIAL T1 Glioma Segmentation-80517 , 1\n",
      "COR T1 POST GD 300.000000-Ax FLAIR 2.5mm for surgery Glioma Segmentation Correc-93238 , 1\n",
      "COR T1 POST GD 300.000000-Ax T1 2.5mm for surgery Glioma Segmentation-96223 , 1\n",
      "COR T1 POST GD 300.000000-AXIAL FSE Glioma Segmentation Corrected-93592 , 1\n",
      "TCGA-DU-8165\n",
      "------\n",
      "Chosen folders T1 3.000000-SAG T1 FLAIR-63313\n",
      "Chosen folders T2 8.000000-AX T2 FR-FSE RF2 150-35709\n",
      "Chosen folders CT1 13.000000-COR  T1 POST GD FLAIR-37513\n",
      "Chosen folders FLAIR 6.000000-AXIAL FLAIR-16811\n",
      "------\n",
      "11.000000-3D DCE DYNAMIC PERF-89791 , 1120\n",
      "4.000000-DTI 2.6mm WH-62997 , 1820\n",
      "10.000000-3D DCE T1 MAP-20527 , 96\n",
      "2.000000-ASSET cal-56363 , 35\n",
      "402.000000-DTI 2.6mm WH-05094 , 70\n",
      "1.000000-3 PLANE LOC-70299 , 9\n",
      "9.000000-AX T1 pre gd-69017 , 36\n",
      "7.000000-AXIAL FLAIR-60788 , 72\n",
      "8.000000-AX T2 FR-FSE RF2 150-35709 , 36\n",
      "6.000000-AXIAL FLAIR-16811 , 18\n",
      "401.000000-DTI 2.6mm WH-10565 , 70\n",
      "12.000000-AX T1 POST GD FLAIR-96133 , 72\n",
      "400.000000-DTI 2.6mm WH-36637 , 70\n",
      "3.000000-SAG T1 FLAIR-63313 , 26\n",
      "5.000000-AXIAL DIFFUSION-52487 , 180\n",
      "13.000000-COR  T1 POST GD FLAIR-37513 , 43\n",
      "------\n",
      "TCGA-DU-5853\n",
      "------\n",
      "Chosen folders T1 3.000000-SAG T1 FLAIR-94337\n",
      "Chosen folders T2 7.000000-AX T2 FR-FSE RF2 150-55295\n",
      "Chosen folders CT1 12.000000-COR  T1 POST GD FLAIR-32689\n",
      "Chosen folders FLAIR 6.000000-AXIAL FLAIR-84159\n",
      "------\n",
      "401.000000-DTI 2.6mm WH-97906 , 70\n",
      "3.000000-SAG T1 FLAIR-94337 , 19\n",
      "400.000000-DTI 2.6mm WH-19253 , 70\n",
      "6.000000-AXIAL FLAIR-84159 , 72\n",
      "4.000000-DTI 2.6mm WH-81596 , 1820\n",
      "5.000000-AXIAL DIFFUSION-35619 , 190\n",
      "9.000000-3D DCE T1 MAP-73753 , 96\n",
      "12.000000-COR  T1 POST GD FLAIR-32689 , 44\n",
      "11.000000-AX T1 POST GD FLAIR-81300 , 72\n",
      "402.000000-DTI 2.6mm WH-69647 , 70\n",
      "7.000000-AX T2 FR-FSE RF2 150-55295 , 36\n",
      "10.000000-3D DCE DYNAMIC PERF-61302 , 1120\n",
      "8.000000-AX T1 pre gd-14019 , 36\n",
      "------\n",
      "TCGA-CS-6665\n",
      "------\n",
      "Chosen folders T1 401.000000-T1W  SE-66214\n",
      "Chosen folders T2 701.000000-T2WTSE-16485\n",
      "Chosen folders CT1 1301.000000-T1 SAG SE-18213\n",
      "Chosen folders FLAIR 501.000000-T2 AX FLAIR-26615\n",
      "------\n",
      "1201.000000-T1 COR SE-90930 , 22\n",
      "801.000000-PDWTSE-18378 , 24\n",
      "1001.000000-T1W3Dstryker-49008 , 200\n",
      "302.000000-dADC MAP-44456 , 30\n",
      "301.000000-DIFFUSION-36497 , 150\n",
      "601.000000-FFE FOR BLEED-92400 , 30\n",
      "1101.000000-T1 AX SE-32214 , 24\n",
      "401.000000-T1W  SE-66214 , 16\n",
      "304.000000-eB1000i-20523 , 30\n",
      "1301.000000-T1 SAG SE-18213 , 16\n",
      "901.000000-T1 AX  SE-68083 , 24\n",
      "101.000000-Survey-25544 , 9\n",
      "701.000000-T2WTSE-16485 , 24\n",
      "501.000000-T2 AX FLAIR-26615 , 24\n",
      "1003.000000-SAG MRP-26747 , 180\n",
      "1002.000000-COR MPR-90692 , 200\n",
      "303.000000-eBo-43475 , 30\n",
      "------\n",
      "T1 SAG SE 300.000000-T2WTSE Glioma Segmentation Corrected-99244 , 1\n",
      "T1 SAG SE 300.000000-T1 AX  SE Glioma Segmentation Corrected-37705 , 1\n",
      "T1 SAG SE 300.000000-T2 AX FLAIR Glioma Segmentation Corrected-85060 , 1\n",
      "T1 SAG SE 300.000000-T1 AX SE Glioma Segmentation Corrected-3.944 , 1\n",
      "T1 SAG SE 300.000000-T2 AX FLAIR Glioma Segmentation-48944 , 1\n",
      "T1 SAG SE 300.000000-T2WTSE Glioma Segmentation-93479 , 1\n",
      "T1 SAG SE 300.000000-T1 AX  SE Glioma Segmentation-18161 , 1\n",
      "T1 SAG SE 300.000000-T1 AX SE Glioma Segmentation-00650 , 1\n",
      "TCGA-DU-7019\n",
      "------\n",
      "Chosen folders T1 3.000000-SAG T1 FLAIR-41565\n",
      "Chosen folders T2 5.000000-AX T2 FR-FSE RF2 150-56476\n",
      "Chosen folders CT1 12.000000-COR  T1 POST GD FLAIR-11229\n",
      "Chosen folders FLAIR 6.000000-AXIAL FLAIR-36919\n",
      "------\n",
      "11.000000-AX T1 POST GD FLAIR-34098 , 76\n",
      "8.000000-AX T1 pre gd-46981 , 38\n",
      "10.000000-3D DCE DYNAMIC PERF-58380 , 1120\n",
      "9.000000-3D DCE T1 MAPPING X 5-16194 , 96\n",
      "7.000000-DTI 2.6mm WH-58503 , 1846\n",
      "702.000000-DTI 2.6mm WH-19610 , 71\n",
      "700.000000-DTI 2.6mm WH-17852 , 71\n",
      "2.000000-ASSET cal-08217 , 40\n",
      "3.000000-SAG T1 FLAIR-41565 , 21\n",
      "5.000000-AX T2 FR-FSE RF2 150-56476 , 38\n",
      "12.000000-COR  T1 POST GD FLAIR-11229 , 44\n",
      "4.000000-AXIAL DIFFUSION-73794 , 76\n",
      "701.000000-DTI 2.6mm WH-37159 , 71\n",
      "1.000000-3 PLANE LOC-70172 , 15\n",
      "6.000000-AXIAL FLAIR-36919 , 76\n",
      "------\n",
      "COR  T1 POST GD FLAIR 300.000000-AX T1 pre gd Glioma Segmentation-44351 , 1\n",
      "COR  T1 POST GD FLAIR 300.000000-AX T2 FR-FSE RF2 150 Glioma Segmentation Corrected-83452 , 1\n",
      "COR  T1 POST GD FLAIR 300.000000-AX T1 pre gd Glioma Segmentation Corrected-39983 , 1\n",
      "COR  T1 POST GD FLAIR 300.000000-AX T1 POST GD FLAIR Glioma Segmentation Corrected-02719 , 1\n",
      "COR  T1 POST GD FLAIR 300.000000-AXIAL FLAIR Glioma Segmentation-35927 , 1\n",
      "COR  T1 POST GD FLAIR 300.000000-AX T1 POST GD FLAIR Glioma Segmentation-92884 , 1\n",
      "COR  T1 POST GD FLAIR 300.000000-AX T2 FR-FSE RF2 150 Glioma Segmentation-69613 , 1\n",
      "COR  T1 POST GD FLAIR 300.000000-AXIAL FLAIR Glioma Segmentation Corrected-38412 , 1\n",
      "TCGA-DU-7008\n",
      "------\n",
      "Chosen folders T1 5.000000-AXIAL T1 SI LOCALIZER-79342\n",
      "Chosen folders T2 2.000000-AXIAL FSE-54021\n",
      "Chosen folders CT1 9.000000-AXIAL T1 POST GD-98176\n",
      "Chosen folders FLAIR 3.000000-AXIAL FLAIR-20193\n",
      "------\n",
      "4.000000-AXIAL DIFFUSION-18143 , 46\n",
      "3.000000-AXIAL FLAIR-20193 , 52\n",
      "1.000000-SAG LOCAL-34309 , 18\n",
      "6.000000-AXIAL MPGRE-85467 , 8\n",
      "8.000000-AXIAL PERFUSION-65237 , 324\n",
      "7.000000-AXIAL T1 PRE GD-37750 , 52\n",
      "9.000000-AXIAL T1 POST GD-98176 , 52\n",
      "2.000000-AXIAL FSE-54021 , 104\n",
      "5.000000-AXIAL T1 SI LOCALIZER-79342 , 4\n",
      "------\n",
      "AXIAL T1 POST GD 300.000000-AXIAL FLAIR Glioma Segmentation-34701 , 1\n",
      "AXIAL T1 POST GD 300.000000-AXIAL FSE Glioma Segmentation-03835 , 1\n",
      "AXIAL T1 POST GD 300.000000-AXIAL T1 PRE GD Glioma Segmentation-42854 , 1\n",
      "AXIAL T1 POST GD 300.000000-AXIAL T1 POST GD Glioma Segmentation Corrected-87109 , 1\n",
      "! hi  !\n",
      "AXIAL T1 POST GD 300.000000-AXIAL FLAIR Glioma Segmentation Corrected-31172 , 1\n",
      "AXIAL T1 POST GD 300.000000-AXIAL T1 POST GD Glioma Segmentation-31625 , 1\n",
      "AXIAL T1 POST GD 300.000000-AXIAL FSE Glioma Segmentation Corrected-80701 , 1\n",
      "AXIAL T1 POST GD 300.000000-AXIAL T1 PRE GD Glioma Segmentation Corrected-04302 , 1\n",
      "TCGA-DU-8163\n",
      "------\n",
      "Chosen folders T1 3.000000-SAG T1 FLAIR-53490\n",
      "Chosen folders T2 4.000000-AX T2 FR-FSE RF2 150-98081\n",
      "Chosen folders CT1 13.000000-COR  T1 POST GD FLAIR-85227\n",
      "Chosen folders FLAIR 8.000000-AXIAL FLAIR-03695\n",
      "------\n",
      "601.000000-DTI 2.6mm WH-10084 , 70\n",
      "13.000000-COR  T1 POST GD FLAIR-85227 , 44\n",
      "8.000000-AXIAL FLAIR-03695 , 73\n",
      "602.000000-DTI 2.6mm WH-39405 , 70\n",
      "12.000000-AX T1 POST GD FLAIR-07772 , 73\n",
      "2.000000-ASSET cal-38312 , 38\n",
      "10.000000-3D DCE T1 MAP-70935 , 96\n",
      "3.000000-SAG T1 FLAIR-53490 , 22\n",
      "7.000000-AXIAL DIFFUSION-74925 , 185\n",
      "9.000000-AX T1 pre gd-63205 , 37\n",
      "11.000000-3D DCE DYNAMIC PERF-65938 , 1120\n",
      "1.000000-3 PLANE LOC-69347 , 9\n",
      "4.000000-AX T2 FR-FSE RF2 150-98081 , 37\n",
      "600.000000-DTI 2.6mm WH-87851 , 70\n",
      "5.000000-AX T2 FR-FSE RF2 150-58001 , 37\n",
      "6.000000-DTI 2.6mm WH-60904 , 1820\n",
      "------\n",
      "TCGA-CS-4938\n",
      "------\n",
      "Chosen folders T1 4.000000-FASTBRAINT1SAGITTAL-76204\n",
      "Chosen folders T2 3.000000-BRAINSTRYKERT2AXDOUBLE-07651\n",
      "Chosen folders CT1 9.000000-BRAINSTRYKERT1SAGGAD-89944\n",
      "Chosen folders FLAIR 2.000000-FASTBRAINEPIDIFF-74032\n",
      "------\n",
      "7.000000-BRAINSTRYKERt1AX-31508 , 20\n",
      "1.000000-FASTBRAINSCOUT-98372 , 3\n",
      "8.000000-BRAINSTRYKERT1CORONAL-66498 , 22\n",
      "3.000000-BRAINSTRYKERT2AXDOUBLE-07651 , 40\n",
      "2.000000-FASTBRAINEPIDIFF-74032 , 80\n",
      "6.000000-BRAINSTRYKERAX-RAGE-STRY-96761 , 114\n",
      "9.000000-BRAINSTRYKERT1SAGGAD-89944 , 16\n",
      "4.000000-FASTBRAINT1SAGITTAL-76204 , 16\n",
      "5.000000-FASTBRAINT1AXIAL-77777 , 17\n",
      "------\n",
      "TCGA-CS-4941\n",
      "------\n",
      "Chosen folders T1 1.000000-SAG T1 LOC-87157\n",
      "Chosen folders T2 3.000000-AXIAL T2-97278\n",
      "Chosen folders CT1 8.000000-SAG T1 POST GAD-94033\n",
      "Chosen folders FLAIR 5.000000-AXIAL FLAIR-33857\n",
      "------\n",
      "9.000000-AX 3D FOR STRYKER PROTOCOL-26656 , 124\n",
      "5.000000-AXIAL FLAIR-33857 , 28\n",
      "1.000000-SAG T1 LOC-87157 , 15\n",
      "8.000000-SAG T1 POST GAD-94033 , 15\n",
      "6.000000-AXIAL T1 POST GAD FATSAT-04322 , 25\n",
      "4.000000-AXIAL DIFFUSION-68294 , 56\n",
      "2.000000-AXIAL T1-09309 , 23\n",
      "3.000000-AXIAL T2-97278 , 50\n",
      "7.000000-COR T1 POST GAD-89163 , 24\n",
      "------\n",
      "TCGA-CS-6669\n",
      "------\n",
      "Chosen folders T1 401.000000-T1W  SE-32144\n",
      "Chosen folders T2 701.000000-T2WTSE-00831\n",
      "Chosen folders CT1 1101.000000-T1 SAG SE-52125\n",
      "Chosen folders FLAIR 501.000000-T2 AX FLAIR-40193\n",
      "------\n",
      "601.000000-FFE FOR BLEED-76102 , 32\n",
      "901.000000-T1 AX SE-98053 , 22\n",
      "303.000000-eBo-29641 , 32\n",
      "401.000000-T1W  SE-32144 , 16\n",
      "302.000000-dADC MAP-67395 , 32\n",
      "801.000000-T1 AX  SE-67850 , 22\n",
      "304.000000-eB1000i-11058 , 32\n",
      "1101.000000-T1 SAG SE-52125 , 16\n",
      "301.000000-DIFFUSION-92165 , 160\n",
      "1001.000000-T1 COR SE-84486 , 20\n",
      "101.000000-Survey-50946 , 9\n",
      "501.000000-T2 AX FLAIR-40193 , 28\n",
      "701.000000-T2WTSE-00831 , 26\n",
      "------\n",
      "T1 SAG SE 300.000000-T2WTSE Glioma Segmentation Corrected-29690 , 1\n",
      "T1 SAG SE 300.000000-T2 AX FLAIR Glioma Segmentation-52867 , 1\n",
      "T1 SAG SE 300.000000-T2WTSE Glioma Segmentation-98000 , 1\n",
      "T1 SAG SE 300.000000-T1 AX SE Glioma Segmentation Corrected-11028 , 1\n",
      "T1 SAG SE 300.000000-T1 AX  SE Glioma Segmentation Corrected-54981 , 1\n",
      "T1 SAG SE 300.000000-T2 AX FLAIR Glioma Segmentation Corrected-52159 , 1\n",
      "T1 SAG SE 300.000000-T1 AX  SE Glioma Segmentation-88161 , 1\n",
      "T1 SAG SE 300.000000-T1 AX SE Glioma Segmentation-88256 , 1\n",
      "TCGA-DU-7298\n",
      "------\n",
      "Chosen folders T1 2.000000-SAG T1-20114\n",
      "Chosen folders T2 3.000000-AXIAL FSE-50605\n",
      "Chosen folders CT1 9.000000-COR T1 POST GD-63027\n",
      "Chosen folders FLAIR 4.000000-Ax FLAIR 2.5mm for surgery-16562\n",
      "------\n",
      "10.000000-Ax PROBE-3DCSI 144TE-78099 , 50\n",
      "3.000000-AXIAL FSE-50605 , 66\n",
      "6.000000-AXIAL T1-98859 , 32\n",
      "4.000000-Ax FLAIR 2.5mm for surgery-16562 , 65\n",
      "502.000000-AXIAL DTI-52192 , 28\n",
      "501.000000-AXIAL DTI-33664 , 28\n",
      "7.000000-AXIAL PERFUSION-61882 , 1235\n"
     ]
    },
    {
     "name": "stdout",
     "output_type": "stream",
     "text": [
      "5.000000-AXIAL DTI-25576 , 728\n",
      "500.000000-AXIAL DTI-27245 , 28\n",
      "8.000000-Ax T1 2.5mm for surgery-37553 , 65\n",
      "9.000000-COR T1 POST GD-63027 , 40\n",
      "2.000000-SAG T1-20114 , 24\n",
      "1.000000-3 PLANE LOC-33657 , 9\n",
      "------\n",
      "COR T1 POST GD 300.000000-Ax FLAIR 2.5mm for surgery Glioma Segmentation Correc-61520 , 1\n",
      "COR T1 POST GD 300.000000-AXIAL T1 Glioma Segmentation-64199 , 1\n",
      "COR T1 POST GD 300.000000-AXIAL T1 Glioma Segmentation Corrected-02983 , 1\n",
      "COR T1 POST GD 300.000000-Ax FLAIR 2.5mm for surgery Glioma Segmentation-12511 , 1\n",
      "COR T1 POST GD 300.000000-AXIAL FSE Glioma Segmentation-64747 , 1\n",
      "COR T1 POST GD 300.000000-Ax T1 2.5mm for surgery Glioma Segmentation Corrected-85039 , 1\n",
      "COR T1 POST GD 300.000000-AXIAL FSE Glioma Segmentation Corrected-46098 , 1\n",
      "COR T1 POST GD 300.000000-Ax T1 2.5mm for surgery Glioma Segmentation-29966 , 1\n",
      "TCGA-DU-6405\n",
      "------\n",
      "Chosen folders T1 5.000000-AXIAL T1 SI LOCALIZER-35706\n",
      "Chosen folders T2 2.000000-AXIAL  FSE-09681\n",
      "Chosen folders CT1 10.000000-AXIAL T1 POST GD-52534\n",
      "Chosen folders FLAIR 3.000000-AXIAL FLAIR-74943\n",
      "------\n",
      "9.000000-AXIAL T1 POST GD-12653 , 3\n",
      "8.000000-NEW AXIAL PERFUSION20S DELAY-50830 , 475\n",
      "1.000000-SAG LOCAL-15518 , 18\n",
      "6.000000-AXIAL GRE-47622 , 6\n",
      "10.000000-AXIAL T1 POST GD-52534 , 60\n",
      "7.000000-AXIAL T1 PRE GD-80128 , 60\n",
      "5.000000-AXIAL T1 SI LOCALIZER-35706 , 3\n",
      "4.000000-AXIAL DIFFUSION-16631 , 300\n",
      "3.000000-AXIAL FLAIR-74943 , 60\n",
      "2.000000-AXIAL  FSE-09681 , 120\n",
      "------\n",
      "TCGA-CS-5390\n",
      "------\n",
      "Chosen folders T1 2.000000-BRAINSTRYKERT1SAG-54948\n",
      "Chosen folders T2 4.000000-BRAINSTRYKERT2AXDOUBLE-87479\n",
      "Chosen folders CT1 9.000000-BRAINSTRYKERT1SAGGAD-92642\n",
      "Chosen folders FLAIR 5.000000-BRAINSTRYKERDIFFUSION-72204\n",
      "------\n",
      "1.000000-BRAINSTRYKERscout-42351 , 3\n",
      "9.000000-BRAINSTRYKERT1SAGGAD-92642 , 16\n",
      "7.000000-BRAINSTRYKERt1AX-07658 , 20\n",
      "2.000000-BRAINSTRYKERT1SAG-54948 , 16\n",
      "8.000000-BRAINSTRYKERT1CORONAL-67779 , 22\n",
      "4.000000-BRAINSTRYKERT2AXDOUBLE-87479 , 40\n",
      "5.000000-BRAINSTRYKERDIFFUSION-72204 , 80\n",
      "6.000000-BRAINSTRYKERAX-RAGE-STRY-23664 , 114\n",
      "3.000000-BRAINSTRYKERT1AXIAL-20364 , 20\n",
      "------\n",
      "TCGA-CS-6290\n",
      "------\n",
      "Chosen folders T1 5.000000-BRAINCONTRASTT1SAGITTAL-94308\n",
      "Chosen folders T2 12.000000-BRAINCONTRASTDOUBLEECHO-14310\n",
      "Chosen folders CT1 16.000000-BRAINCONTRASTT1SAGITTAL-59617\n",
      "Chosen folders FLAIR 11.000000-BRAINCONTRASTFLAIR-78370\n",
      "------\n",
      "14.000000-BRAINCONTRASTT1AXIALC-88990 , 20\n",
      "4.000000-BRAINMRAMRV2DTOFCORON-78565 , 64\n",
      "5.000000-BRAINCONTRASTT1SAGITTAL-94308 , 18\n",
      "15.000000-BRAINCONTRASTT1CORONAL-34457 , 20\n",
      "1.000000-BRAINCONTRASTSCOUT-47920 , 3\n",
      "8.000000-MIPSeries0003-50496 , 1\n",
      "12.000000-BRAINCONTRASTDOUBLEECHO-14310 , 40\n",
      "3.000000-BRAINMRAMRVMOTSA-3-SLAB-80850 , 104\n",
      "6.000000-MIPSeries0003-45786 , 20\n",
      "16.000000-BRAINCONTRASTT1SAGITTAL-59617 , 18\n",
      "9.000000-MIPSeries0004-59333 , 20\n",
      "10.000000-MIPSeries0004-45430 , 1\n",
      "13.000000-BRAINCONTRASThemosiderin-66837 , 20\n",
      "11.000000-BRAINCONTRASTFLAIR-78370 , 20\n",
      "7.000000-BRAINCONTRASTT1AXIAL-09319 , 20\n",
      "2.000000-BRAINCONTRASTNEWDIFF-00653 , 80\n",
      "------\n",
      "TCGA-DU-7018\n",
      "------\n",
      "Chosen folders T1 3.000000-SAG T1 FLAIR-61309\n",
      "Chosen folders T2 5.000000-AX T2 FR-FSE RF2 150-91572\n",
      "Chosen folders CT1 14.000000-COR  T1 POST GD FLAIR-46276\n",
      "Chosen folders FLAIR 8.000000-AXIAL FLAIR-28777\n",
      "------\n",
      "1101.000000-DTI ASSET-20961 , 24\n",
      "9.000000-AXIAL DIFFUSION-90314 , 72\n",
      "12.000000-AXIAL PERFUSION-99016 , 1615\n",
      "1100.000000-DTI ASSET-99068 , 24\n",
      "8.000000-AXIAL FLAIR-28777 , 72\n",
      "13.000000-AX T1 POST GD FLAIR-47091 , 72\n",
      "6.000000-SWI7311-80269 , 576\n",
      "3.000000-SAG T1 FLAIR-61309 , 18\n",
      "1102.000000-DTI ASSET-91358 , 24\n",
      "11.000000-DTI ASSET-81799 , 624\n",
      "5.000000-AX T2 FR-FSE RF2 150-91572 , 36\n",
      "10.000000-AX T1 pre gd-00693 , 36\n",
      "14.000000-COR  T1 POST GD FLAIR-46276 , 36\n",
      "------\n",
      "COR  T1 POST GD FLAIR 300.000000-AX T1 POST GD FLAIR Glioma Segmentation Corrected-95866 , 1\n",
      "COR  T1 POST GD FLAIR 300.000000-AXIAL FLAIR Glioma Segmentation Corrected-42407 , 1\n",
      "COR  T1 POST GD FLAIR 300.000000-AX T1 POST GD FLAIR Glioma Segmentation-23331 , 1\n",
      "COR  T1 POST GD FLAIR 300.000000-AX T1 pre gd Glioma Segmentation Corrected-85172 , 1\n",
      "COR  T1 POST GD FLAIR 300.000000-AX T2 FR-FSE RF2 150 Glioma Segmentation Corrected-97826 , 1\n",
      "COR  T1 POST GD FLAIR 300.000000-AX T2 FR-FSE RF2 150 Glioma Segmentation-38491 , 1\n",
      "COR  T1 POST GD FLAIR 300.000000-AXIAL FLAIR Glioma Segmentation-46148 , 1\n",
      "COR  T1 POST GD FLAIR 300.000000-AX T1 pre gd Glioma Segmentation-19488 , 1\n",
      "TCGA-DU-6410\n",
      "------\n",
      "Chosen folders T1 2.000000-SAG T1-26349\n",
      "Chosen folders T2 3.000000-AXIAL FSE-97370\n",
      "Chosen folders CT1 12.000000-COR T1 POST GD-41515\n",
      "Chosen folders FLAIR 4.000000-Ax FLAIR 2.5mm for surgery-15388\n",
      "------\n",
      "7.000000-AXIAL DTI-90187 , 702\n",
      "502.000000-T2-weighted trace-42667 , 27\n",
      "11.000000-Ax T1 2.5mm for surgery-41121 , 74\n",
      "2.000000-SAG T1-26349 , 18\n",
      "1.000000-3 PLANE LOC-05828 , 9\n",
      "701.000000-Fractional Ansio.-88040 , 27\n",
      "12.000000-COR T1 POST GD-41515 , 46\n",
      "4.000000-Ax FLAIR 2.5mm for surgery-15388 , 74\n",
      "6.000000-AXIAL DTI-78541 , 297\n",
      "10.000000-AXIAL PERFUSION-91701 , 1235\n",
      "501.000000-Fractional Ansio.-23387 , 27\n",
      "5.000000-AXIAL DTI-97682 , 702\n",
      "8.000000-AXIAL T1-57526 , 38\n",
      "700.000000-Average DC-20127 , 27\n",
      "500.000000-Average DC-19921 , 27\n",
      "3.000000-AXIAL FSE-97370 , 76\n",
      "9.000000-Ax FLAIR 2.5mm for surgery-35622 , 74\n",
      "702.000000-T2-weighted trace-16613 , 27\n",
      "------\n",
      "TCGA-DU-5855\n",
      "------\n",
      "Chosen folders T1 701.000000-RA ROUTINE T1 AX-17008\n",
      "Chosen folders T2 1301.000000-BrainLab onBL T2axC-13586\n",
      "Chosen folders CT1 1201.000000-BrainLab onBL 3DT1axC-15710\n",
      "Chosen folders FLAIR 501.000000-RA ROUTINE FLAIR AX-88659\n",
      "------\n",
      "301.000000-RA ROUTINE T2 Sag-35108 , 21\n",
      "901.000000-RA ROUTINE T2 Sag CLEAR-47828 , 21\n",
      "801.000000-RA ROUTINE T2 greAX-38420 , 25\n",
      "402.000000-RA ROUTINE DwI best-05192 , 26\n",
      "1301.000000-BrainLab onBL T2axC-13586 , 90\n",
      "101.000000-RA ROUTINE SENSE SCOUT-37041 , 5\n",
      "401.000000-RA ROUTINE DwI best-11963 , 52\n",
      "701.000000-RA ROUTINE T1 AX-17008 , 26\n",
      "1001.000000-RA ROUTINE T1 AX C-03354 , 26\n",
      "501.000000-RA ROUTINE FLAIR AX-88659 , 26\n",
      "1201.000000-BrainLab onBL 3DT1axC-15710 , 180\n",
      "1101.000000-RA ROUTINE T1CORSPIRC-75951 , 30\n",
      "601.000000-RA ROUTINE T2 AX-02830 , 26\n",
      "------\n",
      "BrainLab onBL 3DT1axC 300.000000-RA ROUTINE T2 AX Glioma Segmentation Corrected-71794 , 1\n",
      "BrainLab onBL 3DT1axC 300.000000-RA ROUTINE T1 AX Glioma Segmentation-94407 , 1\n",
      "BrainLab onBL 3DT1axC 300.000000-RA ROUTINE T2 AX Glioma Segmentation-46461 , 1\n",
      "BrainLab onBL 3DT1axC 300.000000-RA ROUTINE FLAIR AX Glioma Segmentation Corrected-68544 , 1\n",
      "BrainLab onBL 3DT1axC 300.000000-RA ROUTINE FLAIR AX Glioma Segmentation-69410 , 1\n",
      "BrainLab onBL 3DT1axC 300.000000-BrainLab onBL 3DT1axC Glioma Segmentation-48217 , 1\n",
      "BrainLab onBL 3DT1axC 300.000000-BrainLab onBL 3DT1axC Glioma Segmentation Corrected-00264 , 1\n",
      "! hi  !\n",
      "BrainLab onBL 3DT1axC 300.000000-RA ROUTINE T1 AX Glioma Segmentation Corrected-2.233 , 1\n",
      "TCGA-DU-5851\n",
      "------\n",
      "Chosen folders T1 2.000000-SAG T1-15029\n",
      "Chosen folders T2 3.000000-AXIAL FSE-27040\n",
      "Chosen folders CT1 9.000000-COR T1 POST GD-00032\n",
      "Chosen folders FLAIR 4.000000-Ax FLAIR 2.5mm for surgery-05877\n",
      "------\n",
      "4.000000-Ax FLAIR 2.5mm for surgery-05877 , 79\n",
      "502.000000-T2-weighted trace-06880 , 29\n",
      "7.000000-AXIAL PERFUSION-77846 , 1235\n",
      "9.000000-COR T1 POST GD-00032 , 48\n",
      "1.000000-3 PLANE LOC-87045 , 9\n",
      "2.000000-SAG T1-15029 , 24\n",
      "8.000000-Ax T1 2.5mm for surgery-67989 , 79\n",
      "6.000000-AXIAL T1-23762 , 40\n",
      "500.000000-Average DC-95354 , 29\n",
      "5.000000-AXIAL DTI-52455 , 754\n",
      "501.000000-Fractional Ansio.-95963 , 29\n",
      "3.000000-AXIAL FSE-27040 , 80\n",
      "------\n",
      "COR T1 POST GD 300.000000-Ax FLAIR 2.5mm for surgery Glioma Segmentation Correc-27878 , 1\n",
      "COR T1 POST GD 300.000000-AXIAL FSE Glioma Segmentation-42544 , 1\n",
      "COR T1 POST GD 300.000000-AXIAL FSE Glioma Segmentation Corrected-42962 , 1\n",
      "COR T1 POST GD 300.000000-Ax T1 2.5mm for surgery Glioma Segmentation Corrected-62745 , 1\n",
      "COR T1 POST GD 300.000000-Ax T1 2.5mm for surgery Glioma Segmentation-50049 , 1\n",
      "COR T1 POST GD 300.000000-COR T1 POST GD Glioma Segmentation-49923 , 1\n",
      "COR T1 POST GD 300.000000-Ax FLAIR 2.5mm for surgery Glioma Segmentation-17366 , 1\n",
      "COR T1 POST GD 300.000000-COR T1 POST GD Glioma Segmentation Corrected-16052 , 1\n",
      "! hi  !\n",
      "TCGA-DU-7010\n",
      "------\n",
      "Chosen folders T1 5.000000-AXIAL T1 PRE SPECTROSCOPY-35986\n",
      "Chosen folders T2 2.000000-AXIAL  FSE-67641\n",
      "Chosen folders CT1 11.000000-AXIAL T1 POSTSPECTROSCOPY-21433\n",
      "Chosen folders FLAIR 3.000000-AXIAL FLAIR-53649\n",
      "------\n",
      "4.000000-AXIAL DIFFUSION-78717 , 290\n",
      "1.000000-SAG LOCAL-41361 , 18\n",
      "7.000000-AXIAL T1 PRE SPECTROSCOPY-76384 , 4\n",
      "5.000000-AXIAL T1 PRE SPECTROSCOPY-35986 , 4\n",
      "11.000000-AXIAL T1 POSTSPECTROSCOPY-21433 , 4\n",
      "2.000000-AXIAL  FSE-67641 , 116\n",
      "3.000000-AXIAL FLAIR-53649 , 58\n",
      "8.000000-AXIAL GRE-68721 , 8\n",
      "6.000000-AXIAL T1 PRE-GAD.-12053 , 58\n",
      "10.000000-AXIAL T1 POST GD-20544 , 58\n",
      "9.000000-NEW AXIAL PERFUSION20S DELAY-03604 , 475\n",
      "1.000000-SAG LOCAL-65092 , 18\n",
      "10.000000-AXIAL T1 POST GD THRU TUMOR-01045 , 4\n",
      "8.000000-NEW AXIAL PERFUSION20S DELAY-13236 , 475\n",
      "7.000000-AXIAL T1 PRE-GAD.-00556 , 60\n",
      "2.000000-AXIAL  FSE-94655 , 120\n",
      "4.000000-AXIAL DIFFUSION-74864 , 300\n",
      "5.000000-AXIAL T1 PRE SPECTROSCOPY-43530 , 4\n",
      "9.000000-AXIAL T1 POST GD-45896 , 60\n",
      "3.000000-AXIAL FLAIR-43812 , 60\n",
      "6.000000-AX GRE POST SPECMODIFY CVS-47162 , 8\n",
      "------\n",
      "AXIAL T1 POSTSPECTROSCOPY 300.000000-AXIAL T1 PRE-GAD. Glioma Segmentation-47442 , 1\n",
      "AXIAL T1 POSTSPECTROSCOPY 300.000000-AXIAL T1 POST GD Glioma Segmentation-61210 , 1\n",
      "AXIAL T1 POSTSPECTROSCOPY 300.000000-AXIAL FLAIR Glioma Segmentation-28426 , 1\n",
      "AXIAL T1 POSTSPECTROSCOPY 300.000000-AXIAL FLAIR Glioma Segmentation Corrected-37191 , 1\n",
      "AXIAL T1 POSTSPECTROSCOPY 300.000000-AXIAL T1 PRE-GAD. Glioma Segmentation Corrected-78357 , 1\n",
      "AXIAL T1 POSTSPECTROSCOPY 300.000000-AXIAL  FSE Glioma Segmentation Corrected-50163 , 1\n",
      "AXIAL T1 POSTSPECTROSCOPY 300.000000-AXIAL T1 POST GD Glioma Segmentation Corrected-69859 , 1\n",
      "AXIAL T1 POSTSPECTROSCOPY 300.000000-AXIAL  FSE Glioma Segmentation-13379 , 1\n",
      "TCGA-DU-5874\n",
      "------\n",
      "Chosen folders T1 3.000000-SAG T1 FLAIR-46872\n",
      "Chosen folders T2 6.000000-AX T2 FR-FSE RF2 150-73321\n",
      "Chosen folders CT1 13.000000-COR  T1 POST GD FLAIR-85867\n",
      "Chosen folders FLAIR 8.000000-AXIAL FLAIR-99641\n",
      "------\n",
      "2.000000-ASSET cal-17739 , 41\n",
      "1.000000-3 PLANE LOC-67487 , 9\n",
      "700.000000-DTI 2.6mm WH-72196 , 70\n",
      "9.000000-AX T1 pre gd-68886 , 38\n",
      "6.000000-AX T2 FR-FSE RF2 150-73321 , 38\n",
      "701.000000-DTI 2.6mm WH-10960 , 70\n",
      "11.000000-3D DCE DYNAMIC PERF-50231 , 1120\n",
      "5.000000-AXIAL DIFFUSION-95509 , 190\n",
      "8.000000-AXIAL FLAIR-99641 , 75\n",
      "7.000000-DTI 2.6mm WH-10639 , 1820\n",
      "3.000000-SAG T1 FLAIR-46872 , 20\n",
      "702.000000-DTI 2.6mm WH-81430 , 70\n",
      "13.000000-COR  T1 POST GD FLAIR-85867 , 42\n",
      "4.000000-AXIAL DIFFUSION-44823 , 19\n",
      "12.000000-AX T1 POST GD FLAIR-28074 , 75\n",
      "10.000000-3D DCE T1 MAPPING X 5-74494 , 96\n",
      "------\n",
      "COR  T1 POST GD FLAIR 300.000000-AXIAL FLAIR Glioma Segmentation-42345 , 1\n",
      "COR  T1 POST GD FLAIR 300.000000-AX T1 POST GD FLAIR Glioma Segmentation Corrected-73158 , 1\n",
      "COR  T1 POST GD FLAIR 300.000000-AXIAL FLAIR Glioma Segmentation Corrected-12617 , 1\n",
      "COR  T1 POST GD FLAIR 300.000000-AX T1 POST GD FLAIR Glioma Segmentation-09862 , 1\n",
      "COR  T1 POST GD FLAIR 300.000000-AX T2 FR-FSE RF2 150 Glioma Segmentation-68125 , 1\n",
      "COR  T1 POST GD FLAIR 300.000000-AX T1 pre gd Glioma Segmentation Corrected-91542 , 1\n",
      "COR  T1 POST GD FLAIR 300.000000-AX T2 FR-FSE RF2 150 Glioma Segmentation Corrected-87557 , 1\n",
      "COR  T1 POST GD FLAIR 300.000000-AX T1 pre gd Glioma Segmentation-36657 , 1\n",
      "TCGA-DU-7309\n",
      "------\n",
      "Chosen folders T1 3.000000-SAG T1 FLAIR-00455\n",
      "Chosen folders T2 4.000000-AX T2 FR-FSE RF2 150-79703\n",
      "Chosen folders CT1 13.000000-COR  T1 POST GD FLAIR-63305\n",
      "Chosen folders FLAIR 6.000000-AXIAL FLAIR-44187\n",
      "------\n",
      "8.000000-AX T1 pre gd-90729 , 40\n",
      "11.000000-3D DCE DYNAMIC PERF-57317 , 1120\n",
      "6.000000-AXIAL FLAIR-44187 , 80\n",
      "500.000000-DTI 2.6mm WH-90540 , 70\n",
      "13.000000-COR  T1 POST GD FLAIR-63305 , 50\n",
      "7.000000-AXIAL DIFFUSION-02078 , 200\n",
      "4.000000-AX T2 FR-FSE RF2 150-79703 , 40\n",
      "10.000000-AX T1 pre gd-82760 , 40\n",
      "501.000000-DTI 2.6mm WH-08666 , 70\n",
      "502.000000-DTI 2.6mm WH-46208 , 70\n",
      "9.000000-3D DCE T1 MAP-28590 , 96\n",
      "3.000000-SAG T1 FLAIR-00455 , 24\n",
      "5.000000-DTI 2.6mm WH-71175 , 1820\n",
      "12.000000-AX T1 POST GD FLAIR-75778 , 80\n",
      "------\n",
      "COR  T1 POST GD FLAIR 300.000000-AX T1 pre gd Glioma Segmentation-45005 , 1\n",
      "COR  T1 POST GD FLAIR 300.000000-AX T2 FR-FSE RF2 150 Glioma Segmentation Corrected-58028 , 1\n",
      "COR  T1 POST GD FLAIR 300.000000-AX T1 pre gd Glioma Segmentation Corrected-61729 , 1\n",
      "COR  T1 POST GD FLAIR 300.000000-AXIAL FLAIR Glioma Segmentation Corrected-02721 , 1\n",
      "COR  T1 POST GD FLAIR 300.000000-AX T1 POST GD FLAIR Glioma Segmentation Corrected-34366 , 1\n",
      "COR  T1 POST GD FLAIR 300.000000-AX T1 POST GD FLAIR Glioma Segmentation-02268 , 1\n",
      "COR  T1 POST GD FLAIR 300.000000-AX T2 FR-FSE RF2 150 Glioma Segmentation-27090 , 1\n",
      "COR  T1 POST GD FLAIR 300.000000-AXIAL FLAIR Glioma Segmentation-17671 , 1\n",
      "TCGA-CS-5394\n",
      "------\n",
      "Chosen folders T1 2.000000-BRAINSTRYKERt1sesag-02828\n",
      "Chosen folders T2 4.000000-RETROORBITT2LATEECHOB-49308\n",
      "Chosen folders CT1 9.000000-BRAINSTRYKERt1mprAX-12442\n",
      "Chosen folders FLAIR 4.000000-RETROORBITT2LATEECHOB-49308\n",
      "------\n",
      "9.000000-BRAINSTRYKERt1mprAX-12442 , 170\n",
      "5.000000-BRAINSTRYKERDIFFUSION-10743 , 80\n",
      "1.000000-BRAINSTRYKERscout-34404 , 3\n",
      "2.000000-BRAINSTRYKERt1sesag-02828 , 16\n",
      "4.000000-RETROORBITT2LATEECHOB-49308 , 20\n",
      "3.000000-BRAINSTRYKERt1setra-51482 , 20\n",
      "7.000000-BRAINSTRYKERt1secor-84128 , 30\n",
      "8.000000-BRAINSTRYKERt1sag-41583 , 16\n",
      "6.000000-BRAINSTRYKERt1AX-91657 , 20\n",
      "------\n",
      "TCGA-DU-5871\n",
      "------\n",
      "Chosen folders T1 3.000000-SAG T1 FLAIR-41276\n",
      "Chosen folders T2 7.000000-AX T2 FR-FSE RF2 150-65483\n",
      "Chosen folders CT1 12.000000-COR  T1 POST GD FLAIR-51059\n",
      "Chosen folders FLAIR 6.000000-AXIAL FLAIR-22910\n",
      "------\n",
      "4.000000-DTI 2.6mm WH-26095 , 1820\n",
      "7.000000-AX T2 FR-FSE RF2 150-65483 , 36\n",
      "1.000000-3 PLANE LOC-22914 , 9\n",
      "8.000000-AX T1 pre gd-75838 , 36\n",
      "402.000000-DTI 2.6mm WH-59663 , 70\n",
      "11.000000-AX T1 POST GD FLAIR-63849 , 72\n",
      "9.000000-3D DCE T1 MAPPING X 5-55274 , 96\n",
      "3.000000-SAG T1 FLAIR-41276 , 19\n",
      "12.000000-COR  T1 POST GD FLAIR-51059 , 41\n",
      "401.000000-DTI 2.6mm WH-77073 , 70\n",
      "10.000000-3D DCE DYNAMIC PERF-96846 , 1120\n",
      "400.000000-DTI 2.6mm WH-62373 , 70\n",
      "6.000000-AXIAL FLAIR-22910 , 72\n",
      "2.000000-ASSET cal-86287 , 35\n",
      "5.000000-AXIAL DIFFUSION-12745 , 185\n",
      "------\n",
      "TCGA-DU-7302\n",
      "------\n",
      "Chosen folders T1 2.000000-AX T1 FLAIR-13609\n",
      "Chosen folders T2 6.000000-AX T2 FR-FSE RF2 150-85470\n",
      "Chosen folders CT1 12.000000-COR  T1 POST GD FLAIR-19937\n",
      "Chosen folders FLAIR 5.000000-AXIAL FLAIR-46378\n",
      "------\n",
      "7.000000-DTI ASSET-56632 , 624\n",
      "701.000000-DTI ASSET-44321 , 24\n",
      "6.000000-AX T2 FR-FSE RF2 150-85470 , 36\n",
      "10.000000-AXIAL PERFUSION-23519 , 475\n",
      "4.000000-AXIAL DIFFUSION-03802 , 72\n",
      "1.000000-3 PLANE LOC-08934 , 15\n",
      "2.000000-ASSET cal-30574 , 80\n",
      "12.000000-COR  T1 POST GD FLAIR-19937 , 42\n",
      "5.000000-AXIAL FLAIR-46378 , 72\n",
      "700.000000-DTI ASSET-46062 , 24\n",
      "702.000000-DTI ASSET-42058 , 24\n",
      "8.000000-AX T1 pre gd-53768 , 36\n",
      "11.000000-AX T1 POST GD FLAIR-45183 , 72\n",
      "3.000000-SAG T1 FLAIR-67322 , 18\n",
      "2.000000-AX T1 FLAIR-13609 , 31\n",
      "4.000000-PROBE 3D CSI-18883 , 18\n",
      "1.000000-3 PLANE-44658 , 15\n",
      "------\n",
      "COR  T1 POST GD FLAIR 300.000000-AXIAL FLAIR Glioma Segmentation Corrected-95461 , 1\n",
      "COR  T1 POST GD FLAIR 300.000000-AXIAL FLAIR Glioma Segmentation-48843 , 1\n",
      "COR  T1 POST GD FLAIR 300.000000-AX T2 FR-FSE RF2 150 Glioma Segmentation-67602 , 1\n",
      "COR  T1 POST GD FLAIR 300.000000-AX T1 POST GD FLAIR Glioma Segmentation Corrected-46118 , 1\n",
      "COR  T1 POST GD FLAIR 300.000000-AX T2 FR-FSE RF2 150 Glioma Segmentation Corrected-36048 , 1\n",
      "COR  T1 POST GD FLAIR 300.000000-AX T1 pre gd Glioma Segmentation-10229 , 1\n",
      "COR  T1 POST GD FLAIR 300.000000-AX T1 POST GD FLAIR Glioma Segmentation-41682 , 1\n",
      "COR  T1 POST GD FLAIR 300.000000-AX T1 pre gd Glioma Segmentation Corrected-10339 , 1\n",
      "TCGA-DU-5849\n",
      "------\n",
      "Chosen folders T1 4.000000-SAG T1 FLAIR-99197\n",
      "Chosen folders T2 7.000000-AX T2 FR-FSE RF2 150-91281\n",
      "Chosen folders CT1 13.000000-COR  T1 POST GD FLAIR-06706\n",
      "Chosen folders FLAIR 8.000000-AXIAL FLAIR-05561\n",
      "------\n",
      "8.000000-AXIAL FLAIR-05561 , 72\n",
      "4.000000-SAG T1 FLAIR-99197 , 19\n",
      "501.000000-DTI 2.6mm WH-33997 , 70\n",
      "500.000000-DTI 2.6mm WH-08128 , 70\n",
      "7.000000-AX T2 FR-FSE RF2 150-91281 , 38\n",
      "11.000000-3D DCE DYNAMIC PERF-58958 , 1120\n"
     ]
    },
    {
     "name": "stdout",
     "output_type": "stream",
     "text": [
      "5.000000-DTI 2.6mm WH-75602 , 1820\n",
      "1.000000-3 PLANE LOC-74330 , 9\n",
      "9.000000-AX T1 pre gd-21019 , 38\n",
      "6.000000-AXIAL DIFFUSION-49261 , 190\n",
      "12.000000-AX T1 POST GD FLAIR-53586 , 72\n",
      "13.000000-COR  T1 POST GD FLAIR-06706 , 48\n",
      "502.000000-DTI 2.6mm WH-25208 , 70\n",
      "10.000000-3D DCE T1 MAPPING X 5-75063 , 96\n",
      "2.000000-3 PLANE LOC-07157 , 9\n",
      "3.000000-ASSET cal-41727 , 43\n",
      "------\n",
      "TCGA-CS-5396\n",
      "------\n",
      "Chosen folders T1 501.000000-T1W  SE-58849\n",
      "Chosen folders T2 701.000000-T2WTSE-70754\n",
      "Chosen folders CT1 1301.000000-T1 SAG SE-45175\n",
      "Chosen folders FLAIR 601.000000-T2 AX FLAIR-98890\n",
      "------\n",
      "403.000000-eBo-48146 , 28\n",
      "901.000000-FFE FOR BLEED-67362 , 30\n",
      "304.000000-LT COW-25699 , 20\n",
      "1101.000000-T1 AX SE-54608 , 24\n",
      "302.000000-3D MOTSA sense-85827 , 3\n",
      "404.000000-eB1000i-30080 , 28\n",
      "303.000000-COW-38870 , 20\n",
      "1301.000000-T1 SAG SE-45175 , 16\n",
      "501.000000-T1W  SE-58849 , 16\n",
      "306.000000-POSTERIOR-47371 , 20\n",
      "801.000000-PDWTSE-64364 , 24\n",
      "301.000000-3D MOTSA sense-80049 , 140\n",
      "1201.000000-T1 COR SE-91770 , 22\n",
      "1001.000000-T1 AX  SE-75237 , 24\n",
      "402.000000-dADC MAP-53538 , 28\n",
      "601.000000-T2 AX FLAIR-98890 , 28\n",
      "305.000000-RT  COW-39894 , 20\n",
      "701.000000-T2WTSE-70754 , 24\n",
      "------\n",
      "T1 SAG SE 300.000000-T1 AX  SE Glioma Segmentation-97885 , 1\n",
      "T1 SAG SE 300.000000-T1 AX SE Glioma Segmentation-77955 , 1\n",
      "T1 SAG SE 300.000000-T2 AX FLAIR Glioma Segmentation Corrected-71628 , 1\n",
      "T1 SAG SE 300.000000-T2WTSE Glioma Segmentation Corrected-04831 , 1\n",
      "T1 SAG SE 300.000000-T2 AX FLAIR Glioma Segmentation-97988 , 1\n",
      "T1 SAG SE 300.000000-T1 AX  SE Glioma Segmentation Corrected-85464 , 1\n",
      "T1 SAG SE 300.000000-T1 AX SE Glioma Segmentation Corrected-88573 , 1\n",
      "T1 SAG SE 300.000000-T2WTSE Glioma Segmentation-33079 , 1\n",
      "TCGA-DU-7294\n",
      "------\n",
      "Chosen folders T1 2.000000-SAG T1 FLAIR-59978\n",
      "Chosen folders T2 219.000000-T2-weighted trace-66552\n",
      "Chosen folders CT1 14.000000-AX T1 LOC  PODT GD-70066\n",
      "Chosen folders FLAIR 7.000000-AXIAL FLAIR RF2  150-07121\n",
      "------\n",
      "7.000000-AXIAL FLAIR RF2  150-07121 , 68\n",
      "222.000000-Dyz diffusion coefficient-62887 , 19\n",
      "228.000000-Minimum eigenvalue-65612 , 19\n",
      "230.000000-Maximum eigenvalue-41621 , 19\n",
      "231.000000-Middle eigenvalue-19875 , 19\n",
      "216.000000-Anisotropy index-08251 , 19\n",
      "12.000000-AXIAL PERFUSION-22665 , 475\n",
      "1.000000-3 PLANE LOC-67756 , 9\n",
      "225.000000-Dzz diffusion coefficient-95384 , 19\n",
      "220.000000-Dxy diffusion coefficient-16632 , 19\n",
      "4.000000-AX T2 FR-FSE RF2 150-08103 , 34\n",
      "3.000000-AX PD FSE-IR RF2 130-85826 , 34\n",
      "224.000000-Surface DC-50108 , 19\n",
      "219.000000-T2-weighted trace-66552 , 19\n",
      "5.000000-AXIAL DIFFUSION-23727 , 114\n",
      "213.000000-Surface  Average Aniso.-30471 , 19\n",
      "208.000000-Average DC-40840 , 19\n",
      "217.000000-Exponential attenuation-21028 , 19\n",
      "229.000000-Middle eigenvalue-92907 , 19\n",
      "226.000000-Magnitude DC-80221 , 19\n",
      "209.000000-Isotropic image-94829 , 19\n",
      "227.000000-Volume DC-68235 , 19\n",
      "2.000000-SAG T1 FLAIR-59978 , 17\n",
      "14.000000-AX T1 LOC  PODT GD-70066 , 3\n",
      "10.000000-AX T1 LOC-24575 , 3\n",
      "6.000000-Diffusion Tensor 25-72058 , 494\n",
      "215.000000-Volume  Surface Aniso.-79136 , 19\n",
      "214.000000-Volume  Average Aniso.-15351 , 19\n",
      "210.000000-Volume ratio Aniso.-58642 , 19\n",
      "218.000000-Dxx diffusion coefficient-93370 , 19\n",
      "221.000000-Dxz diffusion coefficient-39546 , 19\n",
      "8.000000-AX T1 pre gd-73491 , 34\n",
      "13.000000-AX T1 POST GD FLAIR-67377 , 68\n",
      "212.000000-Relative Aniso.-12951 , 19\n",
      "223.000000-Dyy diffusion coefficient-93517 , 19\n",
      "211.000000-Fractional Aniso.-37150 , 19\n",
      "------\n",
      "AX T1 LOC  PODT GD 300.000000-AX T1 pre gd Glioma Segmentation Corrected-20571 , 1\n",
      "AX T1 LOC  PODT GD 300.000000-AX T1 pre gd Glioma Segmentation-56864 , 1\n",
      "AX T1 LOC  PODT GD 300.000000-AX T1 POST GD FLAIR Glioma Segmentation-67163 , 1\n",
      "AX T1 LOC  PODT GD 300.000000-AXIAL FLAIR RF2  150 Glioma Segmentation-10087 , 1\n",
      "AX T1 LOC  PODT GD 300.000000-AX T1 POST GD FLAIR Glioma Segmentation Corrected-97590 , 1\n",
      "AX T1 LOC  PODT GD 300.000000-AXIAL FLAIR RF2  150 Glioma Segmentation Corrected-01248 , 1\n",
      "AX T1 LOC  PODT GD 300.000000-AX T2 FR-FSE RF2 150 Glioma Segmentation Corrected-71860 , 1\n",
      "AX T1 LOC  PODT GD 300.000000-AX T2 FR-FSE RF2 150 Glioma Segmentation-56918 , 1\n",
      "TCGA-DU-8158\n",
      "------\n",
      "Chosen folders T1 2.000000-SAG T1-46248\n",
      "Chosen folders T2 3.000000-AX PDT2-10872\n",
      "Chosen folders CT1 5.000000-AX T1-16580\n",
      "Chosen folders FLAIR 4.000000-DIFF 1000 24 FOV-88158\n",
      "------\n",
      "6.000000-COR C-29432 , 36\n",
      "4.000000-DIFF 1000 24 FOV-88158 , 48\n",
      "3.000000-AX PDT2-10872 , 42\n",
      "2.000000-SAG T1-46248 , 18\n",
      "1.000000-3 PLANE-59252 , 9\n",
      "5.000000-AX T1-16580 , 33\n",
      "------\n",
      "TCGA-DU-7304\n",
      "------\n",
      "Chosen folders T1 2.000000-SAG T1 FLAIR-26959\n",
      "Chosen folders T2 6.000000-AX T2 FR-FSE RF2 150-02554\n",
      "Chosen folders CT1 11.000000-COR  T1 POST GD FLAIR-39719\n",
      "Chosen folders FLAIR 5.000000-AXIAL FLAIR-79801\n",
      "------\n",
      "4.000000-AXIAL DIFFUSION-05020 , 72\n",
      "8.000000-AX T1 pre gd-54697 , 36\n",
      "11.000000-COR  T1 POST GD FLAIR-39719 , 36\n",
      "701.000000-DTI ASSET-22869 , 35\n",
      "1.000000-3 PLANE LOC-15984 , 15\n",
      "2.000000-SAG T1 FLAIR-26959 , 18\n",
      "10.000000-AX T1 POST GD FLAIR-79006 , 71\n",
      "3.000000-ASSET cal-43024 , 40\n",
      "700.000000-DTI ASSET-43806 , 35\n",
      "702.000000-DTI ASSET-20380 , 35\n",
      "9.000000-AXIAL PERFUSION-91399 , 1615\n",
      "6.000000-AX T2 FR-FSE RF2 150-02554 , 36\n",
      "7.000000-DTI ASSET-43628 , 910\n",
      "5.000000-AXIAL FLAIR-79801 , 71\n",
      "------\n",
      "COR  T1 POST GD FLAIR 300.000000-AX T1 pre gd Glioma Segmentation Corrected-22327 , 1\n",
      "COR  T1 POST GD FLAIR 300.000000-AX T2 FR-FSE RF2 150 Glioma Segmentation-35822 , 1\n",
      "COR  T1 POST GD FLAIR 300.000000-AXIAL FLAIR Glioma Segmentation-64495 , 1\n",
      "COR  T1 POST GD FLAIR 300.000000-AX T2 FR-FSE RF2 150 Glioma Segmentation Corrected-60550 , 1\n",
      "COR  T1 POST GD FLAIR 300.000000-AX T1 POST GD FLAIR Glioma Segmentation Corrected-01169 , 1\n",
      "COR  T1 POST GD FLAIR 300.000000-AXIAL FLAIR Glioma Segmentation Corrected-64571 , 1\n",
      "COR  T1 POST GD FLAIR 300.000000-AX T1 POST GD FLAIR Glioma Segmentation-09350 , 1\n",
      "COR  T1 POST GD FLAIR 300.000000-AX T1 pre gd Glioma Segmentation-20329 , 1\n",
      "TCGA-CS-6667\n",
      "------\n",
      "Chosen folders T1 3.000000-SAG T1 LOC-67134\n",
      "Chosen folders T2 6.000000-AX FSE T2-26661\n",
      "Chosen folders CT1 11.000000-SAG T1 POST-28698\n",
      "Chosen folders FLAIR 7.000000-AX FLAIR-14614\n",
      "------\n",
      "11.000000-SAG T1 POST-28698 , 17\n",
      "6.000000-AX FSE T2-26661 , 20\n",
      "1.000000-3 Plane Localizer-97573 , 3\n",
      "10.000000-COR T1 POST GAD-10915 , 20\n",
      "3.000000-SAG T1 LOC-67134 , 17\n",
      "8.000000-AX GRE FOR SUSCEPTIBILITY-17680 , 31\n",
      "7.000000-AX FLAIR-14614 , 26\n",
      "9.000000-Ax T1 FS BRAIN POST-73660 , 20\n",
      "4.000000-AX DIFFUSION-47494 , 60\n",
      "5.000000-Ax T1-31183 , 20\n",
      "400.000000-Apparent Diffusion Coefficient mms-64318 , 30\n",
      "------\n",
      "TCGA-CS-4943\n",
      "------\n",
      "Chosen folders T1 2.000000-BRAINSTRYKERT1SAG-19158\n",
      "Chosen folders T2 4.000000-BRAINSTRYKERT2AXDOUBLE-56512\n",
      "Chosen folders CT1 10.000000-BRAINSTRYKERT1SAG-64487\n",
      "Chosen folders FLAIR 5.000000-BRAINSTRYKERFLAIR-30011\n",
      "------\n",
      "2.000000-BRAINSTRYKERT1SAG-19158 , 18\n",
      "10.000000-BRAINSTRYKERT1SAG-64487 , 18\n",
      "6.000000-BRAINSTRYKERNEWDIFF-76043 , 80\n",
      "3.000000-BRAINSTRYKERT1AXIAL-15294 , 20\n",
      "8.000000-BRAINSTRYKERt1AX-71926 , 20\n",
      "1.000000-BRAINSTRYKERscout-39334 , 3\n",
      "5.000000-BRAINSTRYKERFLAIR-30011 , 20\n",
      "7.000000-BRAINSTRYKERAX-RAGE-STRY-03477 , 120\n",
      "4.000000-BRAINSTRYKERT2AXDOUBLE-56512 , 40\n",
      "9.000000-BRAINSTRYKERT1CORONAL-35507 , 20\n",
      "------\n",
      "TCGA-DU-7014\n",
      "------\n",
      "Chosen folders T1 7.000000-AXIAL T1 PRE SPECTROSCOPY-90412\n",
      "Chosen folders T2 3.000000-AXIAL  FSE-84712\n",
      "Chosen folders CT1 12.000000-AXIAL T1 POST GD THRU TUMOR-15984\n",
      "Chosen folders FLAIR 5.000000-AXIAL FLAIR-06644\n",
      "------\n",
      "11.000000-AXIAL T1 POST GD-99296 , 5\n",
      "7.000000-AXIAL T1 PRE SPECTROSCOPY-90412 , 4\n",
      "8.000000-AX GRE POST SPECMODIFY CVS-08943 , 8\n",
      "9.000000-AXIAL T1 PRE-GAD.-03736 , 60\n",
      "10.000000-NEW AXIAL PERFUSION20S DELAY-51863 , 475\n",
      "1.000000-SAG LOCAL-76105 , 18\n",
      "2.000000-SAG LOCAL-98037 , 18\n",
      "6.000000-AXIAL DIFFUSION-03438 , 300\n",
      "11.000000-AXIAL T1 POST GD-44067 , 60\n",
      "4.000000-AXIAL  FSE-96888 , 120\n",
      "3.000000-AXIAL  FSE-84712 , 60\n",
      "12.000000-AXIAL T1 POST GD THRU TUMOR-15984 , 4\n",
      "5.000000-AXIAL FLAIR-06644 , 60\n",
      "------\n",
      "AXIAL T1 POST GD THRU TUMOR 300.000000-AXIAL T1 PRE-GAD. Glioma Segmentation-87259 , 1\n",
      "AXIAL T1 POST GD THRU TUMOR 300.000000-AXIAL T1 POST GD Glioma Segmentation Corrected-78416 , 1\n",
      "AXIAL T1 POST GD THRU TUMOR 300.000000-AXIAL  FSE Glioma Segmentation-46303 , 1\n",
      "AXIAL T1 POST GD THRU TUMOR 300.000000-AXIAL T1 PRE-GAD. Glioma Segmentation Corrected-48006 , 1\n",
      "AXIAL T1 POST GD THRU TUMOR 300.000000-AXIAL FLAIR Glioma Segmentation Corrected-66766 , 1\n",
      "AXIAL T1 POST GD THRU TUMOR 300.000000-AXIAL T1 POST GD Glioma Segmentation-33211 , 1\n",
      "AXIAL T1 POST GD THRU TUMOR 300.000000-AXIAL  FSE Glioma Segmentation Corrected-5.974 , 1\n",
      "AXIAL T1 POST GD THRU TUMOR 300.000000-AXIAL FLAIR Glioma Segmentation-53269 , 1\n",
      "TCGA-DU-6395\n",
      "------\n",
      "Chosen folders T1 4.000000-ScanningSequence memp-03903\n",
      "Chosen folders T2 2.000000-ScanningSequence fse-66259\n",
      "Chosen folders CT1 5.000000-ScanningSequence memp-22371\n",
      "Chosen folders FLAIR 3.000000-ScanningSequence flair-95070\n",
      "------\n",
      "5.000000-ScanningSequence memp-22371 , 55\n",
      "2.000000-ScanningSequence fse-66259 , 110\n",
      "3.000000-ScanningSequence flair-95070 , 55\n",
      "4.000000-ScanningSequence memp-03903 , 55\n",
      "1.000000-ScanningSequence memp-77455 , 18\n",
      "------\n"
     ]
    }
   ],
   "source": [
    "# I will print choosen files and find out if they are in segmentation folder by equal naming\n",
    "count = 0\n",
    "\n",
    "for i in list_sub:\n",
    "     \n",
    "    print(i)\n",
    "    print('------')\n",
    "    t1_name = paths[paths['ID'] == i]['T1'].values[0].split('/')[-1]\n",
    "    t2_name = paths[paths['ID'] == i]['T2'].values[0].split('/')[-1]\n",
    "    fl_name = paths[paths['ID'] == i]['FLAIR'].values[0].split('/')[-1]\n",
    "    ct1_name = paths[paths['ID'] == i]['T1C'].values[0].split('/')[-1] \n",
    "    \n",
    "    print('Chosen folders', 'T1', paths[paths['ID'] == i]['T1'].values[0].split('/')[-1] )\n",
    "    print('Chosen folders', 'T2', paths[paths['ID'] == i]['T2'].values[0].split('/')[-1] )\n",
    "    print('Chosen folders', 'CT1', paths[paths['ID'] == i]['T1C'].values[0].split('/')[-1] )\n",
    "    print('Chosen folders', 'FLAIR', paths[paths['ID'] == i]['FLAIR'].values[0].split('/')[-1] )\n",
    "    \n",
    "    \n",
    "    print('------')\n",
    "    for j in glob.glob('/anvar/public_datasets/tcia/manifest-25ZdsnMy5264093150469993200/TCGA-LGG/'+ i+ '/*/*/'):\n",
    "        print(j.split('/')[-2], ',', len(os.listdir(j)))\n",
    "    print('------')    \n",
    "    for k in glob.glob('/anvar/public_datasets/tcia/manifest-1588284345182/TCGA-LGG/'+ i+ '/*/*/'):\n",
    "        print(ct1_name.split('000000-')[-1][:-6], k.split('/')[-2], ',', len(os.listdir(k)))\n",
    "        if ct1_name.split('000000-')[-1][:-6] in k and 'Corrected' in k:\n",
    "            print('! hi  !')\n",
    "            count +=1"
   ]
  },
  {
   "cell_type": "code",
   "execution_count": 57,
   "metadata": {},
   "outputs": [
    {
     "data": {
      "text/plain": [
       "8"
      ]
     },
     "execution_count": 57,
     "metadata": {},
     "output_type": "execute_result"
    }
   ],
   "source": [
    "for i in os.listdir('')"
   ]
  },
  {
   "cell_type": "code",
   "execution_count": 63,
   "metadata": {},
   "outputs": [],
   "source": [
    "paths = pd.read_csv('../lgg_paths.csv')\n",
    "basedir = '/anvar/public_datasets/tcia/'\n",
    "savedir = '/anvar/public_datasets/preproc_study/lgg/dicom/'\n",
    "# os.makedirs('/anvar/public_datasets/preproc_study/lgg/dicom/')"
   ]
  },
  {
   "cell_type": "code",
   "execution_count": 22,
   "metadata": {
    "scrolled": true
   },
   "outputs": [
    {
     "name": "stdout",
     "output_type": "stream",
     "text": [
      "TCGA-DU-7019\n",
      "[Errno 17] File exists: '/anvar/public_datasets/tcia/TCGA-DU-7019'\n",
      "TCGA-DU-7302\n",
      "[Errno 17] File exists: '/anvar/public_datasets/tcia/TCGA-DU-7302'\n",
      "TCGA-DU-5852\n",
      "[Errno 17] File exists: '/anvar/public_datasets/tcia/TCGA-DU-5852'\n",
      "TCGA-DU-7014\n",
      "[Errno 17] File exists: '/anvar/public_datasets/tcia/TCGA-DU-7014'\n",
      "TCGA-CS-6669\n",
      "[Errno 17] File exists: '/anvar/public_datasets/tcia/TCGA-CS-6669'\n",
      "TCGA-DU-6405\n",
      "[Errno 17] File exists: '/anvar/public_datasets/tcia/TCGA-DU-6405'\n",
      "TCGA-DU-5851\n",
      "[Errno 17] File exists: '/anvar/public_datasets/tcia/TCGA-DU-5851'\n",
      "TCGA-DU-5854\n",
      "[Errno 17] File exists: '/anvar/public_datasets/tcia/TCGA-DU-5854'\n",
      "TCGA-DU-6408\n",
      "[Errno 17] File exists: '/anvar/public_datasets/tcia/TCGA-DU-6408'\n",
      "TCGA-DU-5874\n",
      "[Errno 17] File exists: '/anvar/public_datasets/tcia/TCGA-DU-5874'\n",
      "TCGA-CS-5396\n",
      "[Errno 17] File exists: '/anvar/public_datasets/tcia/TCGA-CS-5396'\n",
      "TCGA-DU-7306\n",
      "[Errno 17] File exists: '/anvar/public_datasets/tcia/TCGA-DU-7306'\n",
      "TCGA-CS-5393\n",
      "[Errno 17] File exists: '/anvar/public_datasets/tcia/TCGA-CS-5393'\n",
      "TCGA-DU-5849\n",
      "[Errno 17] File exists: '/anvar/public_datasets/tcia/TCGA-DU-5849'\n",
      "TCGA-DU-6402\n",
      "[Errno 17] File exists: '/anvar/public_datasets/tcia/TCGA-DU-6402'\n",
      "TCGA-CS-6670\n",
      "[Errno 17] File exists: '/anvar/public_datasets/tcia/TCGA-CS-6670'\n",
      "TCGA-DU-5855\n",
      "[Errno 17] File exists: '/anvar/public_datasets/tcia/TCGA-DU-5855'\n",
      "TCGA-DU-6407\n",
      "[Errno 17] File exists: '/anvar/public_datasets/tcia/TCGA-DU-6407'\n",
      "TCGA-CS-4938\n",
      "[Errno 17] File exists: '/anvar/public_datasets/tcia/TCGA-CS-4938'\n",
      "TCGA-CS-5390\n",
      "[Errno 17] File exists: '/anvar/public_datasets/tcia/TCGA-CS-5390'\n",
      "TCGA-DU-7309\n",
      "[Errno 17] File exists: '/anvar/public_datasets/tcia/TCGA-DU-7309'\n",
      "TCGA-CS-6186\n",
      "[Errno 17] File exists: '/anvar/public_datasets/tcia/TCGA-CS-6186'\n",
      "TCGA-DU-7013\n",
      "[Errno 17] File exists: '/anvar/public_datasets/tcia/TCGA-DU-7013'\n",
      "TCGA-DU-7015\n",
      "[Errno 17] File exists: '/anvar/public_datasets/tcia/TCGA-DU-7015'\n",
      "TCGA-CS-5395\n",
      "[Errno 17] File exists: '/anvar/public_datasets/tcia/TCGA-CS-5395'\n",
      "TCGA-CS-6666\n",
      "[Errno 17] File exists: '/anvar/public_datasets/tcia/TCGA-CS-6666'\n",
      "TCGA-CS-4943\n",
      "[Errno 17] File exists: '/anvar/public_datasets/tcia/TCGA-CS-4943'\n",
      "TCGA-CS-4941\n",
      "[Errno 17] File exists: '/anvar/public_datasets/tcia/TCGA-CS-4941'\n",
      "TCGA-DU-8165\n",
      "[Errno 17] File exists: '/anvar/public_datasets/tcia/TCGA-DU-8165'\n",
      "TCGA-CS-6667\n",
      "[Errno 17] File exists: '/anvar/public_datasets/tcia/TCGA-CS-6667'\n",
      "TCGA-DU-5871\n",
      "[Errno 17] File exists: '/anvar/public_datasets/tcia/TCGA-DU-5871'\n",
      "TCGA-DU-7010\n",
      "[Errno 17] File exists: '/anvar/public_datasets/tcia/TCGA-DU-7010'\n",
      "TCGA-DU-6400\n",
      "[Errno 17] File exists: '/anvar/public_datasets/tcia/TCGA-DU-6400'\n",
      "TCGA-DU-7300\n",
      "[Errno 17] File exists: '/anvar/public_datasets/tcia/TCGA-DU-7300'\n",
      "TCGA-CS-6290\n",
      "[Errno 17] File exists: '/anvar/public_datasets/tcia/TCGA-CS-6290'\n",
      "TCGA-DU-8164\n",
      "[Errno 17] File exists: '/anvar/public_datasets/tcia/TCGA-DU-8164'\n",
      "TCGA-DU-7304\n",
      "[Errno 17] File exists: '/anvar/public_datasets/tcia/TCGA-DU-7304'\n",
      "TCGA-DU-8166\n",
      "[Errno 17] File exists: '/anvar/public_datasets/tcia/TCGA-DU-8166'\n",
      "TCGA-CS-6665\n",
      "[Errno 17] File exists: '/anvar/public_datasets/tcia/TCGA-CS-6665'\n",
      "TCGA-DU-7301\n",
      "[Errno 17] File exists: '/anvar/public_datasets/tcia/TCGA-DU-7301'\n",
      "TCGA-CS-4942\n",
      "[Errno 17] File exists: '/anvar/public_datasets/tcia/TCGA-CS-4942'\n",
      "TCGA-DU-5872\n",
      "[Errno 17] File exists: '/anvar/public_datasets/tcia/TCGA-DU-5872'\n",
      "TCGA-DU-7298\n",
      "[Errno 17] File exists: '/anvar/public_datasets/tcia/TCGA-DU-7298'\n",
      "TCGA-DU-5853\n",
      "[Errno 17] File exists: '/anvar/public_datasets/tcia/TCGA-DU-5853'\n",
      "TCGA-CS-5397\n",
      "[Errno 17] File exists: '/anvar/public_datasets/tcia/TCGA-CS-5397'\n",
      "TCGA-CS-5394\n",
      "[Errno 17] File exists: '/anvar/public_datasets/tcia/TCGA-CS-5394'\n",
      "TCGA-DU-7299\n",
      "[Errno 17] File exists: '/anvar/public_datasets/tcia/TCGA-DU-7299'\n",
      "TCGA-CS-4944\n",
      "[Errno 17] File exists: '/anvar/public_datasets/tcia/TCGA-CS-4944'\n",
      "TCGA-DU-6410\n",
      "[Errno 17] File exists: '/anvar/public_datasets/tcia/TCGA-DU-6410'\n",
      "TCGA-DU-7294\n",
      "[Errno 17] File exists: '/anvar/public_datasets/tcia/TCGA-DU-7294'\n",
      "TCGA-DU-8162\n",
      "[Errno 17] File exists: '/anvar/public_datasets/tcia/TCGA-DU-8162'\n",
      "TCGA-CS-6668\n",
      "[Errno 17] File exists: '/anvar/public_datasets/tcia/TCGA-CS-6668'\n",
      "TCGA-DU-7008\n",
      "[Errno 17] File exists: '/anvar/public_datasets/tcia/TCGA-DU-7008'\n",
      "TCGA-DU-A5TP\n",
      "[Errno 17] File exists: '/anvar/public_datasets/tcia/TCGA-DU-A5TP'\n",
      "TCGA-DU-6542\n",
      "[Errno 17] File exists: '/anvar/public_datasets/tcia/TCGA-DU-6542'\n",
      "TCGA-DU-8158\n",
      "[Errno 17] File exists: '/anvar/public_datasets/tcia/TCGA-DU-8158'\n",
      "TCGA-DU-8167\n",
      "[Errno 17] File exists: '/anvar/public_datasets/tcia/TCGA-DU-8167'\n",
      "TCGA-CS-6188\n",
      "[Errno 17] File exists: '/anvar/public_datasets/tcia/TCGA-CS-6188'\n",
      "TCGA-DU-8163\n",
      "[Errno 17] File exists: '/anvar/public_datasets/tcia/TCGA-DU-8163'\n",
      "TCGA-DU-6401\n",
      "[Errno 17] File exists: '/anvar/public_datasets/tcia/TCGA-DU-6401'\n",
      "TCGA-DU-6404\n",
      "[Errno 17] File exists: '/anvar/public_datasets/tcia/TCGA-DU-6404'\n",
      "TCGA-DU-6397\n",
      "[Errno 17] File exists: '/anvar/public_datasets/tcia/TCGA-DU-6397'\n",
      "TCGA-DU-6399\n",
      "[Errno 17] File exists: '/anvar/public_datasets/tcia/TCGA-DU-6399'\n",
      "TCGA-DU-7018\n",
      "[Errno 17] File exists: '/anvar/public_datasets/tcia/TCGA-DU-7018'\n",
      "TCGA-DU-8168\n",
      "[Errno 17] File exists: '/anvar/public_datasets/tcia/TCGA-DU-8168'\n",
      "TCGA-DU-6395\n",
      "[Errno 17] File exists: '/anvar/public_datasets/tcia/TCGA-DU-6395'\n"
     ]
    }
   ],
   "source": [
    "import shutil\n",
    "\n",
    "for i in range(0, len(paths)):\n",
    "    print(paths['ID'].iloc[i])\n",
    "    try:\n",
    "        os.mkdir(basedir + paths['ID'].iloc[i])\n",
    "        shutil.copytree(basedir + paths['T1'].iloc[i][1:], savedir + paths['ID'].iloc[i] + '/T1/') \n",
    "        shutil.copytree(basedir + paths['T1C'].iloc[i][1:], savedir + paths['ID'].iloc[i] + '/CT1/') \n",
    "        shutil.copytree(basedir + paths['T2'].iloc[i][1:], savedir + paths['ID'].iloc[i] + '/T2') \n",
    "        shutil.copytree(basedir + paths['FLAIR'].iloc[i][1:], savedir + paths['ID'].iloc[i] + '/FLAIR/')\n",
    "        \n",
    "    except OSError as error:\n",
    "        print(error) \n",
    "        pass  "
   ]
  },
  {
   "cell_type": "code",
   "execution_count": 23,
   "metadata": {},
   "outputs": [
    {
     "data": {
      "text/plain": [
       "['dicom', 'orig', 'meta.csv']"
      ]
     },
     "execution_count": 23,
     "metadata": {},
     "output_type": "execute_result"
    }
   ],
   "source": [
    "os.listdir('/anvar/public_datasets/preproc_study/lgg/')"
   ]
  },
  {
   "cell_type": "markdown",
   "metadata": {},
   "source": [
    "#### Проверяем, что нифти файлы корректно сохранились и считаем, сколько их:"
   ]
  },
  {
   "cell_type": "code",
   "execution_count": 24,
   "metadata": {},
   "outputs": [
    {
     "name": "stdout",
     "output_type": "stream",
     "text": [
      "T1 66\n",
      "T2 40\n",
      "FLAIR 64\n",
      "CT1 66\n"
     ]
    }
   ],
   "source": [
    "print ('T1', len(glob.glob('/anvar/public_datasets/preproc_study/lgg/orig/*/T1.nii.gz')))\n",
    "print ('T2', len(glob.glob('/anvar/public_datasets/preproc_study/lgg/orig/*/T2.nii.gz')))\n",
    "print ('FLAIR', len(glob.glob('/anvar/public_datasets/preproc_study/lgg/orig/*/FLAIR.nii.gz')))\n",
    "print ('CT1', len(glob.glob('/anvar/public_datasets/preproc_study/lgg/orig/*/CT1.nii.gz')))"
   ]
  },
  {
   "cell_type": "markdown",
   "metadata": {},
   "source": [
    "Опять потерялись T2, из за разного нейминга, попробуем сначала собрать ртструктуры, а потом будем чистить папку"
   ]
  },
  {
   "cell_type": "markdown",
   "metadata": {},
   "source": [
    "#### Как найти нужную ртструктуру?\n",
    "\n",
    "- Можно или сделать через поиск похожего нейминга, убрав цифры\n",
    "\n",
    "- Или можно сделать через по series ID, как и было"
   ]
  },
  {
   "cell_type": "code",
   "execution_count": 25,
   "metadata": {},
   "outputs": [
    {
     "data": {
      "text/plain": [
       "['12-03-1991-MRI BRAIN WWO CONTRAST-41440']"
      ]
     },
     "execution_count": 25,
     "metadata": {},
     "output_type": "execute_result"
    }
   ],
   "source": [
    "os.listdir(rtdir + paths['ID'].iloc[1])"
   ]
  },
  {
   "cell_type": "code",
   "execution_count": 26,
   "metadata": {},
   "outputs": [],
   "source": [
    "basedir = '/anvar/public_datasets/tcia/'"
   ]
  },
  {
   "cell_type": "code",
   "execution_count": 27,
   "metadata": {
    "collapsed": true
   },
   "outputs": [
    {
     "data": {
      "text/plain": [
       "['1-38.dcm',\n",
       " '1-51.dcm',\n",
       " '1-36.dcm',\n",
       " '1-01.dcm',\n",
       " '1-16.dcm',\n",
       " '1-20.dcm',\n",
       " '1-03.dcm',\n",
       " '1-35.dcm',\n",
       " '1-34.dcm',\n",
       " '1-09.dcm',\n",
       " '1-44.dcm',\n",
       " '1-14.dcm',\n",
       " '1-04.dcm',\n",
       " '1-49.dcm',\n",
       " '1-54.dcm',\n",
       " '1-12.dcm',\n",
       " '1-52.dcm',\n",
       " '1-47.dcm',\n",
       " '1-22.dcm',\n",
       " '1-06.dcm',\n",
       " '1-28.dcm',\n",
       " '1-17.dcm',\n",
       " '1-33.dcm',\n",
       " '1-05.dcm',\n",
       " '1-50.dcm',\n",
       " '1-24.dcm',\n",
       " '1-39.dcm',\n",
       " '1-15.dcm',\n",
       " '1-31.dcm',\n",
       " '1-30.dcm',\n",
       " '1-32.dcm',\n",
       " '1-10.dcm',\n",
       " '1-41.dcm',\n",
       " '1-45.dcm',\n",
       " '1-25.dcm',\n",
       " '1-18.dcm',\n",
       " '1-07.dcm',\n",
       " '1-29.dcm',\n",
       " '1-48.dcm',\n",
       " '1-11.dcm',\n",
       " '1-08.dcm',\n",
       " '1-13.dcm',\n",
       " '1-43.dcm',\n",
       " '1-27.dcm',\n",
       " '1-53.dcm',\n",
       " '1-40.dcm',\n",
       " '1-21.dcm',\n",
       " '1-02.dcm',\n",
       " '1-19.dcm',\n",
       " '1-42.dcm',\n",
       " '1-26.dcm',\n",
       " '1-23.dcm',\n",
       " '1-37.dcm',\n",
       " '1-46.dcm',\n",
       " '1-55.dcm']"
      ]
     },
     "execution_count": 27,
     "metadata": {},
     "output_type": "execute_result"
    }
   ],
   "source": [
    "os.listdir(basedir + paths['T1C'].iloc[i][1:])"
   ]
  },
  {
   "cell_type": "code",
   "execution_count": 28,
   "metadata": {},
   "outputs": [
    {
     "data": {
      "text/plain": [
       "['300.000000-AXIAL FLAIR Glioma Segmentation Corrected-95461',\n",
       " '300.000000-AXIAL FLAIR Glioma Segmentation-48843',\n",
       " '300.000000-AX T2 FR-FSE RF2 150 Glioma Segmentation-67602',\n",
       " '300.000000-AX T1 POST GD FLAIR Glioma Segmentation Corrected-46118',\n",
       " '300.000000-AX T2 FR-FSE RF2 150 Glioma Segmentation Corrected-36048',\n",
       " '300.000000-AX T1 pre gd Glioma Segmentation-10229',\n",
       " '300.000000-AX T1 POST GD FLAIR Glioma Segmentation-41682',\n",
       " '300.000000-AX T1 pre gd Glioma Segmentation Corrected-10339']"
      ]
     },
     "execution_count": 28,
     "metadata": {},
     "output_type": "execute_result"
    }
   ],
   "source": [
    "os.listdir('/anvar/public_datasets/tcia/manifest-1588284345182/TCGA-LGG/TCGA-DU-7302/12-03-1991-MRI BRAIN WWO CONTRAST-41440/')"
   ]
  },
  {
   "cell_type": "code",
   "execution_count": 29,
   "metadata": {},
   "outputs": [
    {
     "name": "stdout",
     "output_type": "stream",
     "text": [
      "TCGA-DU-7019\n",
      "['/anvar/public_datasets/tcia/manifest-1588284345182/TCGA-LGG/TCGA-DU-7019/09-08-1994-MRI BRAIN WWO CONTRAST-36813/']\n",
      "TCGA-DU-7302\n",
      "['/anvar/public_datasets/tcia/manifest-1588284345182/TCGA-LGG/TCGA-DU-7302/12-03-1991-MRI BRAIN WWO CONTRAST-41440/']\n",
      "TCGA-DU-5852\n",
      "[]\n",
      "list index out of range\n",
      "TCGA-DU-7014\n",
      "['/anvar/public_datasets/tcia/manifest-1588284345182/TCGA-LGG/TCGA-DU-7014/06-18-1986-TUMOR VOL.- WAND-80617/']\n",
      "TCGA-CS-6669\n",
      "['/anvar/public_datasets/tcia/manifest-1588284345182/TCGA-LGG/TCGA-CS-6669/01-02-2002-MRI BRAIN COMBO-45633/']\n",
      "TCGA-DU-6405\n",
      "[]\n",
      "list index out of range\n",
      "TCGA-DU-5851\n",
      "['/anvar/public_datasets/tcia/manifest-1588284345182/TCGA-LGG/TCGA-DU-5851/04-28-1995-MRI BRAIN WWO CONTRAST-02930/']\n",
      "TCGA-DU-5854\n",
      "['/anvar/public_datasets/tcia/manifest-1588284345182/TCGA-LGG/TCGA-DU-5854/11-04-1995-MRI BRAIN WWO CONTRAST-28000/']\n",
      "TCGA-DU-6408\n",
      "[]\n",
      "list index out of range\n",
      "TCGA-DU-5874\n",
      "['/anvar/public_datasets/tcia/manifest-1588284345182/TCGA-LGG/TCGA-DU-5874/05-10-1995-MRI BRAIN WWO CONTRAST-73527/']\n",
      "TCGA-CS-5396\n",
      "['/anvar/public_datasets/tcia/manifest-1588284345182/TCGA-LGG/TCGA-CS-5396/03-02-2001-MRI BRAIN CONTRAST MRA BRAIN-47605/']\n",
      "TCGA-DU-7306\n",
      "['/anvar/public_datasets/tcia/manifest-1588284345182/TCGA-LGG/TCGA-DU-7306/05-12-1993-MRI BRAIN WWO CONTRAST-11323/']\n",
      "TCGA-CS-5393\n",
      "['/anvar/public_datasets/tcia/manifest-1588284345182/TCGA-LGG/TCGA-CS-5393/06-06-1999-JHN MRI BRAINSTRYKER IP-28540/']\n",
      "TCGA-DU-5849\n",
      "[]\n",
      "list index out of range\n",
      "TCGA-DU-6402\n",
      "[]\n",
      "list index out of range\n",
      "TCGA-CS-6670\n",
      "[]\n",
      "list index out of range\n",
      "TCGA-DU-5855\n",
      "['/anvar/public_datasets/tcia/manifest-1588284345182/TCGA-LGG/TCGA-DU-5855/12-17-1995-MRI BRAINLABHEAD WWO-26777/']\n",
      "TCGA-DU-6407\n",
      "[]\n",
      "list index out of range\n",
      "TCGA-CS-4938\n",
      "[]\n",
      "list index out of range\n",
      "TCGA-CS-5390\n",
      "[]\n",
      "list index out of range\n",
      "TCGA-DU-7309\n",
      "['/anvar/public_datasets/tcia/manifest-1588284345182/TCGA-LGG/TCGA-DU-7309/08-31-1996-MRI BRAIN WWO CONTRAST-83234/']\n",
      "TCGA-CS-6186\n",
      "['/anvar/public_datasets/tcia/manifest-1588284345182/TCGA-LGG/TCGA-CS-6186/06-01-2000-MRI BRAIN per R-97608/']\n",
      "TCGA-DU-7013\n",
      "[]\n",
      "list index out of range\n",
      "TCGA-DU-7015\n",
      "['/anvar/public_datasets/tcia/manifest-1588284345182/TCGA-LGG/TCGA-DU-7015/06-18-1989-MRI BRAIN WWO CONTRAS-16160/']\n",
      "TCGA-CS-5395\n",
      "[]\n",
      "list index out of range\n",
      "TCGA-CS-6666\n",
      "['/anvar/public_datasets/tcia/manifest-1588284345182/TCGA-LGG/TCGA-CS-6666/11-09-2001-MRI BRAIN WITH-71602/']\n",
      "TCGA-CS-4943\n",
      "[]\n",
      "list index out of range\n",
      "TCGA-CS-4941\n",
      "[]\n",
      "list index out of range\n",
      "TCGA-DU-8165\n",
      "[]\n",
      "list index out of range\n",
      "TCGA-CS-6667\n",
      "[]\n",
      "list index out of range\n",
      "TCGA-DU-5871\n",
      "[]\n",
      "list index out of range\n",
      "TCGA-DU-7010\n",
      "['/anvar/public_datasets/tcia/manifest-1588284345182/TCGA-LGG/TCGA-DU-7010/03-07-1986-MRI OF BRAIN-22330/']\n",
      "TCGA-DU-6400\n",
      "[]\n",
      "list index out of range\n",
      "TCGA-DU-7300\n",
      "['/anvar/public_datasets/tcia/manifest-1588284345182/TCGA-LGG/TCGA-DU-7300/08-14-1991-MRI BRAIN WWO CONTRAST-33968/']\n",
      "TCGA-CS-6290\n",
      "[]\n",
      "list index out of range\n",
      "TCGA-DU-8164\n",
      "['/anvar/public_datasets/tcia/manifest-1588284345182/TCGA-LGG/TCGA-DU-8164/01-11-1997-MRI BRAIN WWO CONTRAST-98366/']\n",
      "TCGA-DU-7304\n",
      "['/anvar/public_datasets/tcia/manifest-1588284345182/TCGA-LGG/TCGA-DU-7304/03-25-1993-MRI BRAIN WWO CONTRAST-46100/']\n",
      "TCGA-DU-8166\n",
      "['/anvar/public_datasets/tcia/manifest-1588284345182/TCGA-LGG/TCGA-DU-8166/03-22-1997-MRI BRAIN WWO CONTRAST-94974/']\n",
      "TCGA-CS-6665\n",
      "['/anvar/public_datasets/tcia/manifest-1588284345182/TCGA-LGG/TCGA-CS-6665/08-17-2001-MRI BRAIN WITH-50114/']\n",
      "TCGA-DU-7301\n",
      "['/anvar/public_datasets/tcia/manifest-1588284345182/TCGA-LGG/TCGA-DU-7301/11-12-1991-MRI BRAIN WWO CONTRAST-22050/']\n",
      "TCGA-CS-4942\n",
      "['/anvar/public_datasets/tcia/manifest-1588284345182/TCGA-LGG/TCGA-CS-4942/02-22-1997-MRI BRAIN WITHO-04689/']\n",
      "TCGA-DU-5872\n",
      "['/anvar/public_datasets/tcia/manifest-1588284345182/TCGA-LGG/TCGA-DU-5872/02-23-1995-MRI BRAIN WWO CONTRAST-88714/']\n",
      "TCGA-DU-7298\n",
      "['/anvar/public_datasets/tcia/manifest-1588284345182/TCGA-LGG/TCGA-DU-7298/03-24-1991-MRI BRAIN WWO CONTRAST-10889/']\n",
      "TCGA-DU-5853\n",
      "[]\n",
      "list index out of range\n",
      "TCGA-CS-5397\n",
      "['/anvar/public_datasets/tcia/manifest-1588284345182/TCGA-LGG/TCGA-CS-5397/03-15-2001-MRI BRAIN STRYKERFUNCTIONAL MR-71991/']\n",
      "TCGA-CS-5394\n",
      "[]\n",
      "list index out of range\n",
      "TCGA-DU-7299\n",
      "['/anvar/public_datasets/tcia/manifest-1588284345182/TCGA-LGG/TCGA-DU-7299/04-17-1991-MRI BRAIN WWO CONTRAST-84114/']\n",
      "TCGA-CS-4944\n",
      "['/anvar/public_datasets/tcia/manifest-1588284345182/TCGA-LGG/TCGA-CS-4944/02-08-2001-JHN BRAIN-IP-65472/']\n",
      "TCGA-DU-6410\n",
      "[]\n",
      "list index out of range\n",
      "TCGA-DU-7294\n",
      "['/anvar/public_datasets/tcia/manifest-1588284345182/TCGA-LGG/TCGA-DU-7294/01-04-1989-MRI BRAIN WWO CONTRAS-19917/']\n",
      "TCGA-DU-8162\n",
      "['/anvar/public_datasets/tcia/manifest-1588284345182/TCGA-LGG/TCGA-DU-8162/10-29-1996-MRI BRAIN WWO CONTRAST-44912/']\n",
      "TCGA-CS-6668\n",
      "['/anvar/public_datasets/tcia/manifest-1588284345182/TCGA-LGG/TCGA-CS-6668/10-25-2001-MRI BRAIN per R-29896/']\n",
      "TCGA-DU-7008\n",
      "['/anvar/public_datasets/tcia/manifest-1588284345182/TCGA-LGG/TCGA-DU-7008/07-23-1983-60413/']\n",
      "TCGA-DU-A5TP\n",
      "[]\n",
      "list index out of range\n",
      "TCGA-DU-6542\n",
      "['/anvar/public_datasets/tcia/manifest-1588284345182/TCGA-LGG/TCGA-DU-6542/05-08-1996-MRI BRAIN WWO CONTRAST-27308/']\n",
      "TCGA-DU-8158\n",
      "[]\n",
      "list index out of range\n",
      "TCGA-DU-8167\n",
      "['/anvar/public_datasets/tcia/manifest-1588284345182/TCGA-LGG/TCGA-DU-8167/04-02-1997-MRI BRAIN WWO CONTRAST-29125/']\n",
      "TCGA-CS-6188\n",
      "['/anvar/public_datasets/tcia/manifest-1588284345182/TCGA-LGG/TCGA-CS-6188/08-12-2001-MRI BRAIN STRYKER JHN-95530/']\n",
      "TCGA-DU-8163\n",
      "[]\n",
      "list index out of range\n",
      "TCGA-DU-6401\n",
      "[]\n",
      "list index out of range\n",
      "TCGA-DU-6404\n",
      "['/anvar/public_datasets/tcia/manifest-1588284345182/TCGA-LGG/TCGA-DU-6404/06-29-1985-TUMOR VOLUME-62392/']\n",
      "TCGA-DU-6397\n",
      "[]\n",
      "list index out of range\n",
      "TCGA-DU-6399\n",
      "[]\n",
      "list index out of range\n",
      "TCGA-DU-7018\n",
      "['/anvar/public_datasets/tcia/manifest-1588284345182/TCGA-LGG/TCGA-DU-7018/12-20-1991-MRI BRAIN WWO CONTRAST-98852/']\n",
      "TCGA-DU-8168\n",
      "['/anvar/public_datasets/tcia/manifest-1588284345182/TCGA-LGG/TCGA-DU-8168/05-03-1997-MRI BRAIN WWO CONTRAST-55138/']\n",
      "TCGA-DU-6395\n",
      "[]\n",
      "list index out of range\n"
     ]
    }
   ],
   "source": [
    "for i in range(0, len(paths)):\n",
    "    print(paths['ID'].iloc[i])\n",
    "    try:\n",
    "#         os.mkdir(savedir + paths['ID'].iloc[i] + '/')\n",
    "        print(glob.glob(rtdir + paths['ID'].iloc[i] +'/*/'))\n",
    "        shutil.copytree(glob.glob(rtdir + paths['ID'].iloc[i] +'/*/')[0], savedir + paths['ID'].iloc[i] + '/RTSTRUCT/') \n",
    "      \n",
    "    except Exception as error:\n",
    "        print(error) \n",
    "        pass  "
   ]
  },
  {
   "cell_type": "code",
   "execution_count": 30,
   "metadata": {},
   "outputs": [
    {
     "data": {
      "text/plain": [
       "38"
      ]
     },
     "execution_count": 30,
     "metadata": {},
     "output_type": "execute_result"
    }
   ],
   "source": [
    "len(glob.glob('/anvar/public_datasets/preproc_study/lgg/dicom/*/RTSTRUCT/'))"
   ]
  },
  {
   "cell_type": "code",
   "execution_count": 33,
   "metadata": {},
   "outputs": [
    {
     "data": {
      "text/plain": [
       "304"
      ]
     },
     "execution_count": 33,
     "metadata": {},
     "output_type": "execute_result"
    }
   ],
   "source": [
    "len(glob.glob('/anvar/public_datasets/preproc_study/lgg/dicom/*/RTSTRUCT/*/1-1.dcm'))"
   ]
  },
  {
   "cell_type": "markdown",
   "metadata": {},
   "source": [
    "### Running script to compose *.nii images in folders"
   ]
  },
  {
   "cell_type": "code",
   "execution_count": 34,
   "metadata": {},
   "outputs": [
    {
     "name": "stderr",
     "output_type": "stream",
     "text": [
      "\n",
      "0it [00:00, ?it/s]\u001b[A\n",
      "27it [00:00, 260.71it/s]\u001b[A\n",
      "11407it [09:18, 20.42it/s] \n",
      "\n",
      "65it [00:01, 31.90it/s] \u001b[A\n",
      "91it [00:01, 43.23it/s]\u001b[A\n",
      "126it [00:01, 58.65it/s]\u001b[A\n",
      "162it [00:01, 78.31it/s]\u001b[A\n",
      "198it [00:01, 102.26it/s]\u001b[A\n",
      "234it [00:01, 130.19it/s]\u001b[A\n",
      "270it [00:02, 160.74it/s]\u001b[A\n",
      "306it [00:02, 192.64it/s]\u001b[A\n",
      "340it [00:02, 219.58it/s]\u001b[A\n",
      "374it [00:02, 202.00it/s]\u001b[A\n",
      "403it [00:02, 205.71it/s]\u001b[A\n",
      "430it [00:02, 208.55it/s]\u001b[A\n",
      "455it [00:02, 210.41it/s]\u001b[A\n",
      "479it [00:02, 211.73it/s]\u001b[A\n",
      "503it [00:04, 51.86it/s] \u001b[A\n",
      "525it [00:04, 67.18it/s]\u001b[A\n",
      "547it [00:04, 84.69it/s]\u001b[A\n",
      "572it [00:04, 105.53it/s]\u001b[A\n",
      "602it [00:04, 130.41it/s]\u001b[A\n",
      "631it [00:04, 156.18it/s]\u001b[A\n",
      "657it [00:05, 64.49it/s] \u001b[A\n",
      "681it [00:05, 82.31it/s]\u001b[A\n",
      "703it [00:05, 100.83it/s]\u001b[A\n",
      "725it [00:05, 119.66it/s]\u001b[A\n",
      "746it [00:06, 137.38it/s]\u001b[A\n",
      "767it [00:06, 153.01it/s]\u001b[A\n",
      "788it [00:07, 47.96it/s] \u001b[A\n",
      "810it [00:07, 62.42it/s]\u001b[A\n",
      "832it [00:07, 79.13it/s]\u001b[A\n",
      "853it [00:07, 97.26it/s]\u001b[A\n",
      "874it [00:07, 115.91it/s]\u001b[A\n",
      "895it [00:07, 133.83it/s]\u001b[A\n",
      "917it [00:07, 150.34it/s]\u001b[A\n",
      "938it [00:08, 164.25it/s]\u001b[A\n",
      "959it [00:09, 49.60it/s] \u001b[A\n",
      "974it [00:09, 52.38it/s]\u001b[A\n",
      "995it [00:09, 67.55it/s]\u001b[A\n",
      "1017it [00:09, 84.82it/s]\u001b[A\n",
      "1039it [00:09, 103.33it/s]\u001b[A\n",
      "1065it [00:09, 125.51it/s]\u001b[A\n",
      "1092it [00:09, 148.89it/s]\u001b[A\n",
      "1119it [00:10, 171.62it/s]\u001b[A\n",
      "1143it [00:10, 87.20it/s] \u001b[A\n",
      "1170it [00:10, 109.01it/s]\u001b[A\n",
      "1195it [00:10, 131.03it/s]\u001b[A\n",
      "1217it [00:11, 66.39it/s] \u001b[A\n",
      "1234it [00:11, 60.59it/s]\u001b[A\n",
      "1258it [00:11, 78.08it/s]\u001b[A\n",
      "1278it [00:12, 87.81it/s]\u001b[A\n",
      "1299it [00:12, 106.34it/s]\u001b[A\n",
      "1320it [00:12, 124.80it/s]\u001b[A\n",
      "1342it [00:12, 142.22it/s]\u001b[A\n",
      "1361it [00:13, 51.09it/s] \u001b[A\n",
      "1383it [00:13, 66.11it/s]\u001b[A\n",
      "1405it [00:13, 83.23it/s]\u001b[A\n",
      "1427it [00:13, 101.67it/s]\u001b[A\n",
      "1449it [00:13, 120.88it/s]\u001b[A\n",
      "1472it [00:13, 139.86it/s]\u001b[A\n",
      "1495it [00:13, 157.29it/s]\u001b[A\n",
      "1517it [00:14, 171.68it/s]\u001b[A\n",
      "1539it [00:14, 183.71it/s]\u001b[A\n",
      "1562it [00:14, 193.69it/s]\u001b[A\n",
      "1585it [00:14, 200.96it/s]\u001b[A\n",
      "1613it [00:14, 219.14it/s]\u001b[A\n",
      "1648it [00:14, 245.57it/s]\u001b[A\n",
      "1683it [00:14, 268.70it/s]\u001b[A\n",
      "1713it [00:14, 240.25it/s]\u001b[A\n",
      "1748it [00:14, 264.81it/s]\u001b[A\n",
      "1783it [00:15, 284.34it/s]\u001b[A\n",
      "1818it [00:15, 300.95it/s]\u001b[A\n",
      "1853it [00:15, 314.14it/s]\u001b[A\n",
      "1888it [00:15, 323.97it/s]\u001b[A\n",
      "1924it [00:15, 331.85it/s]\u001b[A\n",
      "1959it [00:15, 336.61it/s]\u001b[A\n",
      "1995it [00:15, 340.49it/s]\u001b[A\n",
      "2031it [00:15, 343.44it/s]\u001b[A\n",
      "2066it [00:15, 343.86it/s]\u001b[A\n",
      "2101it [00:15, 326.15it/s]\u001b[A\n",
      "2134it [00:16, 311.14it/s]\u001b[A\n",
      "2166it [00:16, 295.24it/s]\u001b[A\n",
      "2196it [00:16, 263.80it/s]\u001b[A\n",
      "2224it [00:16, 244.78it/s]\u001b[A\n",
      "2250it [00:17, 115.34it/s]\u001b[A\n",
      "2270it [00:17, 56.05it/s] \u001b[A\n",
      "2292it [00:17, 71.96it/s]\u001b[A\n",
      "2314it [00:18, 89.73it/s]\u001b[A\n",
      "2337it [00:18, 109.70it/s]\u001b[A\n",
      "2362it [00:18, 131.80it/s]\u001b[A\n",
      "2388it [00:18, 153.78it/s]\u001b[A\n",
      "2414it [00:18, 174.07it/s]\u001b[A\n",
      "2446it [00:18, 201.20it/s]\u001b[A\n",
      "2476it [00:18, 222.86it/s]\u001b[A\n",
      "2503it [00:18, 222.35it/s]\u001b[A\n",
      "2529it [00:18, 221.63it/s]\u001b[A\n",
      "2554it [00:18, 220.88it/s]\u001b[A\n",
      "2578it [00:19, 221.05it/s]\u001b[A\n",
      "2602it [00:19, 220.93it/s]\u001b[A\n",
      "2625it [00:19, 219.75it/s]\u001b[A\n",
      "2648it [00:19, 216.68it/s]\u001b[A\n",
      "2671it [00:19, 214.80it/s]\u001b[A\n",
      "2693it [00:19, 213.07it/s]\u001b[A\n",
      "2715it [00:19, 168.91it/s]\u001b[A\n",
      "2736it [00:19, 179.34it/s]\u001b[A\n",
      "2758it [00:20, 187.65it/s]\u001b[A\n",
      "2780it [00:20, 193.99it/s]\u001b[A\n",
      "2812it [00:20, 218.89it/s]\u001b[A\n",
      "2847it [00:20, 245.86it/s]\u001b[A\n",
      "2882it [00:20, 269.47it/s]\u001b[A\n",
      "2917it [00:20, 288.51it/s]\u001b[A\n",
      "2952it [00:20, 302.70it/s]\u001b[A\n",
      "2987it [00:20, 314.94it/s]\u001b[A\n",
      "3020it [00:20, 318.81it/s]\u001b[A\n",
      "3053it [00:20, 277.51it/s]\u001b[A\n",
      "3083it [00:21, 252.48it/s]\u001b[A\n",
      "3110it [00:21, 238.30it/s]\u001b[A\n",
      "3136it [00:22, 64.21it/s] \u001b[A\n",
      "3158it [00:22, 81.14it/s]\u001b[A\n",
      "3180it [00:22, 99.47it/s]\u001b[A\n",
      "3202it [00:22, 118.66it/s]\u001b[A\n",
      "3223it [00:22, 116.70it/s]\u001b[A\n",
      "3246it [00:22, 136.32it/s]\u001b[A\n",
      "3269it [00:23, 154.28it/s]\u001b[A\n",
      "3292it [00:23, 169.82it/s]\u001b[A\n",
      "3315it [00:23, 182.73it/s]\u001b[A\n",
      "3338it [00:23, 192.90it/s]\u001b[A\n",
      "3371it [00:23, 220.22it/s]\u001b[A\n",
      "3407it [00:23, 248.35it/s]\u001b[A\n",
      "3443it [00:23, 273.52it/s]\u001b[A\n",
      "3479it [00:23, 294.57it/s]\u001b[A\n",
      "3515it [00:23, 310.99it/s]\u001b[A\n",
      "3551it [00:23, 324.21it/s]\u001b[A\n",
      "3585it [00:25, 73.49it/s] \u001b[A\n",
      "3621it [00:25, 96.49it/s]\u001b[A\n",
      "3649it [00:25, 115.84it/s]\u001b[A\n",
      "3676it [00:25, 134.15it/s]\u001b[A\n",
      "3701it [00:25, 127.75it/s]\u001b[A\n",
      "3722it [00:26, 51.54it/s] \u001b[A\n",
      "3744it [00:26, 66.71it/s]\u001b[A\n",
      "3766it [00:27, 83.99it/s]\u001b[A\n",
      "3788it [00:27, 102.47it/s]\u001b[A\n",
      "3810it [00:27, 121.38it/s]\u001b[A\n",
      "3832it [00:27, 139.20it/s]\u001b[A\n",
      "3853it [00:27, 154.60it/s]\u001b[A\n",
      "3874it [00:27, 167.85it/s]\u001b[A\n",
      "3895it [00:27, 128.49it/s]\u001b[A\n",
      "3912it [00:28, 67.01it/s] \u001b[A\n",
      "3925it [00:28, 69.42it/s]\u001b[A\n",
      "3946it [00:28, 86.76it/s]\u001b[A\n",
      "3968it [00:28, 105.47it/s]\u001b[A\n",
      "3992it [00:28, 126.65it/s]\u001b[A\n",
      "4017it [00:28, 148.41it/s]\u001b[A\n",
      "4042it [00:29, 168.75it/s]\u001b[A\n",
      "4067it [00:29, 186.92it/s]\u001b[A\n",
      "4092it [00:29, 201.82it/s]\u001b[A\n",
      "4117it [00:29, 213.72it/s]\u001b[A\n",
      "4142it [00:29, 222.32it/s]\u001b[A\n",
      "4167it [00:29, 227.45it/s]\u001b[A\n",
      "4192it [00:29, 232.39it/s]\u001b[A\n",
      "4217it [00:29, 236.47it/s]\u001b[A\n",
      "4242it [00:29, 239.71it/s]\u001b[A\n",
      "4267it [00:29, 242.20it/s]\u001b[A\n",
      "4292it [00:30, 243.01it/s]\u001b[A\n",
      "4317it [00:30, 244.44it/s]\u001b[A\n",
      "4342it [00:30, 244.81it/s]\u001b[A\n",
      "4367it [00:32, 36.57it/s] \u001b[A\n",
      "4391it [00:32, 48.95it/s]\u001b[A\n",
      "4413it [00:32, 63.66it/s]\u001b[A\n",
      "4435it [00:32, 80.53it/s]\u001b[A\n",
      "4457it [00:32, 98.86it/s]\u001b[A\n",
      "4478it [00:32, 93.83it/s]\u001b[A\n",
      "4495it [00:33, 41.15it/s]\u001b[A\n",
      "4517it [00:33, 54.29it/s]\u001b[A\n",
      "4539it [00:34, 69.87it/s]\u001b[A\n",
      "4561it [00:34, 87.47it/s]\u001b[A\n",
      "4583it [00:34, 106.38it/s]\u001b[A\n",
      "4605it [00:34, 125.40it/s]\u001b[A\n",
      "4627it [00:34, 143.26it/s]\u001b[A\n",
      "4648it [00:34, 125.09it/s]\u001b[A\n",
      "4670it [00:34, 142.79it/s]\u001b[A\n",
      "4690it [00:35, 120.82it/s]\u001b[A\n",
      "4706it [00:35, 42.41it/s] \u001b[A\n",
      "4728it [00:36, 55.87it/s]\u001b[A\n",
      "4750it [00:36, 71.80it/s]\u001b[A\n",
      "4772it [00:36, 89.92it/s]\u001b[A\n",
      "4797it [00:36, 110.88it/s]\u001b[A\n",
      "4822it [00:36, 132.75it/s]\u001b[A\n",
      "4847it [00:36, 139.10it/s]\u001b[A\n",
      "4867it [00:37, 45.03it/s] \u001b[A\n",
      "4892it [00:37, 59.71it/s]\u001b[A\n",
      "4917it [00:38, 77.26it/s]\u001b[A\n",
      "4943it [00:38, 91.37it/s]\u001b[A\n",
      "4962it [00:39, 47.24it/s]\u001b[A\n",
      "4991it [00:39, 63.05it/s]\u001b[A\n",
      "5028it [00:39, 83.79it/s]\u001b[A\n",
      "5064it [00:39, 108.81it/s]\u001b[A\n",
      "5101it [00:39, 137.69it/s]\u001b[A\n",
      "5138it [00:39, 169.12it/s]\u001b[A\n",
      "5175it [00:39, 201.36it/s]\u001b[A\n",
      "5212it [00:39, 232.19it/s]\u001b[A\n",
      "5247it [00:39, 251.39it/s]\u001b[A\n",
      "5281it [00:39, 261.39it/s]\u001b[A\n",
      "5313it [00:40, 91.16it/s] \u001b[A\n",
      "5345it [00:40, 115.93it/s]\u001b[A\n",
      "5380it [00:41, 144.83it/s]\u001b[A\n",
      "5415it [00:41, 175.54it/s]\u001b[A\n",
      "5450it [00:41, 205.94it/s]\u001b[A\n",
      "5485it [00:41, 234.59it/s]\u001b[A\n",
      "5520it [00:41, 259.91it/s]\u001b[A\n",
      "5555it [00:41, 280.53it/s]\u001b[A\n",
      "5590it [00:41, 297.35it/s]\u001b[A\n",
      "5625it [00:41, 310.03it/s]\u001b[A\n",
      "5660it [00:41, 320.87it/s]\u001b[A\n",
      "5695it [00:41, 328.56it/s]\u001b[A\n",
      "5730it [00:42, 333.96it/s]\u001b[A\n",
      "5766it [00:42, 338.71it/s]\u001b[A\n",
      "5801it [00:42, 292.86it/s]\u001b[A\n",
      "5832it [00:42, 263.82it/s]\u001b[A\n",
      "5861it [00:42, 245.62it/s]\u001b[A\n",
      "5888it [00:43, 62.25it/s] \u001b[A\n",
      "5910it [00:43, 79.00it/s]\u001b[A\n",
      "5932it [00:44, 97.30it/s]\u001b[A\n",
      "5954it [00:44, 116.07it/s]\u001b[A\n",
      "5976it [00:44, 134.37it/s]\u001b[A\n",
      "5998it [00:44, 150.84it/s]\u001b[A\n",
      "6020it [00:44, 165.00it/s]\u001b[A\n",
      "6041it [00:44, 176.32it/s]\u001b[A\n",
      "6062it [00:45, 54.48it/s] \u001b[A\n",
      "6084it [00:45, 70.12it/s]\u001b[A\n",
      "6106it [00:45, 87.74it/s]\u001b[A\n",
      "6128it [00:45, 106.46it/s]\u001b[A\n",
      "6150it [00:45, 125.48it/s]\u001b[A\n",
      "6172it [00:46, 143.47it/s]\u001b[A\n",
      "6194it [00:46, 159.25it/s]\u001b[A\n",
      "6216it [00:46, 172.57it/s]\u001b[A\n",
      "6237it [00:47, 41.43it/s] \u001b[A\n",
      "6259it [00:47, 54.70it/s]\u001b[A\n",
      "6281it [00:47, 70.51it/s]\u001b[A\n",
      "6303it [00:47, 88.45it/s]\u001b[A\n",
      "6324it [00:48, 106.96it/s]\u001b[A\n",
      "6346it [00:48, 125.43it/s]\u001b[A\n",
      "6367it [00:48, 142.28it/s]\u001b[A\n",
      "6388it [00:48, 117.97it/s]\u001b[A\n",
      "6409it [00:48, 135.60it/s]\u001b[A\n",
      "6430it [00:48, 151.09it/s]\u001b[A\n",
      "6452it [00:48, 165.00it/s]\u001b[A\n",
      "6474it [00:48, 176.60it/s]\u001b[A\n",
      "6495it [00:49, 184.87it/s]\u001b[A\n",
      "6516it [00:49, 191.30it/s]\u001b[A\n",
      "6537it [00:49, 195.56it/s]\u001b[A\n",
      "6558it [00:49, 199.55it/s]\u001b[A\n",
      "6579it [00:49, 202.54it/s]\u001b[A\n",
      "6600it [00:49, 204.39it/s]\u001b[A\n",
      "6625it [00:49, 214.65it/s]\u001b[A\n",
      "6650it [00:49, 222.64it/s]\u001b[A\n",
      "6673it [00:50, 114.49it/s]\u001b[A\n",
      "6697it [00:50, 135.13it/s]\u001b[A\n",
      "6718it [00:50, 151.26it/s]\u001b[A\n",
      "6740it [00:50, 165.56it/s]\u001b[A\n",
      "6761it [00:50, 175.98it/s]\u001b[A\n",
      "6782it [00:50, 184.14it/s]\u001b[A\n",
      "6803it [00:51, 52.39it/s] \u001b[A\n",
      "6825it [00:51, 67.68it/s]\u001b[A\n",
      "6847it [00:51, 85.05it/s]\u001b[A\n",
      "6868it [00:52, 103.53it/s]\u001b[A\n",
      "6898it [00:52, 128.55it/s]\u001b[A\n",
      "6933it [00:52, 158.48it/s]\u001b[A\n",
      "6968it [00:52, 189.26it/s]\u001b[A\n",
      "7003it [00:52, 218.80it/s]\u001b[A\n",
      "7037it [00:52, 197.43it/s]\u001b[A\n",
      "7064it [00:53, 67.84it/s] \u001b[A\n",
      "7098it [00:53, 89.14it/s]\u001b[A\n",
      "7122it [00:53, 107.79it/s]\u001b[A\n",
      "7145it [00:54, 126.42it/s]\u001b[A\n",
      "7168it [00:54, 143.66it/s]\u001b[A\n",
      "7190it [00:54, 158.70it/s]\u001b[A\n",
      "7212it [00:54, 171.06it/s]\u001b[A\n",
      "7234it [00:54, 180.79it/s]\u001b[A\n",
      "7256it [00:54, 188.68it/s]\u001b[A\n",
      "7279it [00:54, 199.22it/s]\u001b[A\n",
      "7308it [00:54, 218.83it/s]\u001b[A\n",
      "7337it [00:54, 234.93it/s]\u001b[A\n",
      "7367it [00:54, 250.01it/s]\u001b[A\n",
      "7397it [00:55, 262.05it/s]\u001b[A\n",
      "7426it [00:55, 269.47it/s]\u001b[A\n",
      "7454it [00:55, 252.80it/s]\u001b[A\n",
      "7481it [00:55, 242.44it/s]\u001b[A\n",
      "7506it [00:55, 234.75it/s]\u001b[A\n",
      "7530it [00:55, 229.62it/s]\u001b[A\n",
      "7555it [00:55, 233.26it/s]\u001b[A\n",
      "7580it [00:55, 235.52it/s]\u001b[A\n",
      "7604it [00:56, 117.67it/s]\u001b[A\n",
      "7629it [00:56, 139.19it/s]\u001b[A\n",
      "7651it [00:56, 156.03it/s]\u001b[A\n",
      "7673it [00:56, 121.70it/s]\u001b[A\n",
      "7695it [00:56, 139.99it/s]\u001b[A\n",
      "7717it [00:56, 156.55it/s]\u001b[A\n",
      "7739it [00:57, 170.14it/s]\u001b[A\n",
      "7759it [00:57, 103.93it/s]\u001b[A\n",
      "7775it [00:58, 49.41it/s] \u001b[A\n",
      "7797it [00:58, 64.30it/s]\u001b[A\n",
      "7819it [00:58, 81.44it/s]\u001b[A\n",
      "7848it [00:58, 103.64it/s]\u001b[A\n",
      "7883it [00:58, 131.30it/s]\u001b[A\n",
      "7908it [00:58, 119.42it/s]\u001b[A\n",
      "7943it [00:58, 148.78it/s]\u001b[A\n",
      "7978it [00:58, 179.56it/s]\u001b[A\n",
      "8013it [00:59, 209.94it/s]\u001b[A\n",
      "8048it [00:59, 238.34it/s]\u001b[A\n",
      "8081it [00:59, 259.97it/s]\u001b[A\n",
      "8113it [00:59, 267.06it/s]\u001b[A\n",
      "8144it [00:59, 272.94it/s]\u001b[A\n",
      "8175it [00:59, 279.33it/s]\u001b[A\n",
      "8206it [00:59, 284.34it/s]\u001b[A\n",
      "8236it [00:59, 287.13it/s]\u001b[A\n",
      "8266it [00:59, 287.24it/s]\u001b[A\n",
      "8296it [01:00, 287.87it/s]\u001b[A\n",
      "8326it [01:00, 282.59it/s]\u001b[A\n",
      "8355it [01:00, 256.95it/s]\u001b[A\n",
      "8382it [01:00, 241.36it/s]\u001b[A\n",
      "8407it [01:00, 230.70it/s]\u001b[A\n",
      "8431it [01:01, 54.63it/s] \u001b[A\n",
      "8453it [01:01, 70.25it/s]\u001b[A\n",
      "8475it [01:01, 87.80it/s]\u001b[A\n",
      "8497it [01:02, 106.52it/s]\u001b[A\n",
      "8519it [01:02, 125.48it/s]\u001b[A\n",
      "8541it [01:02, 143.42it/s]\u001b[A\n",
      "8563it [01:02, 159.32it/s]\u001b[A\n",
      "8585it [01:02, 172.51it/s]\u001b[A\n",
      "8607it [01:02, 182.51it/s]\u001b[A\n",
      "8629it [01:02, 190.18it/s]\u001b[A\n",
      "8651it [01:02, 196.47it/s]\u001b[A\n",
      "8673it [01:02, 201.11it/s]\u001b[A\n",
      "8695it [01:02, 204.84it/s]\u001b[A\n",
      "8718it [01:03, 210.37it/s]\u001b[A\n",
      "8742it [01:03, 216.33it/s]\u001b[A\n",
      "8766it [01:03, 220.30it/s]\u001b[A\n",
      "8789it [01:03, 222.08it/s]\u001b[A\n",
      "8812it [01:03, 223.42it/s]\u001b[A\n",
      "8835it [01:03, 224.97it/s]\u001b[A\n",
      "8858it [01:03, 226.43it/s]\u001b[A\n",
      "8882it [01:03, 227.74it/s]\u001b[A\n",
      "8906it [01:03, 228.63it/s]\u001b[A\n",
      "8930it [01:04, 229.23it/s]\u001b[A\n",
      "8954it [01:04, 229.77it/s]\u001b[A\n",
      "8977it [01:04, 229.78it/s]\u001b[A\n",
      "9001it [01:04, 198.10it/s]\u001b[A\n",
      "9022it [01:05, 43.29it/s] \u001b[A\n",
      "9045it [01:05, 57.12it/s]\u001b[A\n",
      "9067it [01:05, 73.27it/s]\u001b[A\n",
      "9089it [01:06, 91.29it/s]\u001b[A\n",
      "9111it [01:06, 110.20it/s]\u001b[A\n",
      "9133it [01:06, 128.96it/s]\u001b[A\n",
      "9155it [01:06, 146.17it/s]\u001b[A\n",
      "9177it [01:06, 161.21it/s]\u001b[A\n",
      "9198it [01:07, 39.66it/s] \u001b[A\n",
      "9220it [01:08, 52.51it/s]\u001b[A\n",
      "9242it [01:08, 67.91it/s]\u001b[A\n",
      "9264it [01:08, 85.34it/s]\u001b[A\n",
      "9292it [01:08, 107.64it/s]\u001b[A\n",
      "9325it [01:08, 134.43it/s]\u001b[A\n",
      "9357it [01:08, 162.59it/s]\u001b[A\n",
      "9389it [01:08, 190.51it/s]\u001b[A\n",
      "9418it [01:10, 53.05it/s] \u001b[A\n",
      "9450it [01:10, 70.75it/s]\u001b[A\n",
      "9476it [01:10, 90.27it/s]\u001b[A\n",
      "9501it [01:10, 109.12it/s]\u001b[A\n",
      "9525it [01:10, 127.64it/s]\u001b[A\n",
      "9548it [01:10, 144.29it/s]\u001b[A\n",
      "9571it [01:11, 51.05it/s] \u001b[A\n",
      "9593it [01:11, 66.09it/s]\u001b[A\n",
      "9615it [01:11, 83.28it/s]\u001b[A\n",
      "9637it [01:12, 101.82it/s]\u001b[A\n",
      "9659it [01:12, 120.46it/s]\u001b[A\n",
      "9680it [01:12, 138.06it/s]\u001b[A\n",
      "9701it [01:12, 153.76it/s]\u001b[A\n",
      "9722it [01:12, 167.04it/s]\u001b[A\n",
      "9744it [01:12, 177.93it/s]\u001b[A\n",
      "9765it [01:13, 72.04it/s] \u001b[A\n",
      "9781it [01:14, 42.85it/s]\u001b[A\n",
      "9803it [01:14, 56.31it/s]\u001b[A\n",
      "9824it [01:14, 72.15it/s]\u001b[A\n",
      "9845it [01:14, 89.80it/s]\u001b[A\n",
      "9874it [01:14, 112.88it/s]\u001b[A\n",
      "9903it [01:14, 137.93it/s]\u001b[A\n",
      "9932it [01:14, 162.87it/s]\u001b[A\n",
      "9961it [01:14, 186.93it/s]\u001b[A\n",
      "9990it [01:14, 208.36it/s]\u001b[A\n",
      "10019it [01:14, 226.11it/s]\u001b[A\n",
      "10048it [01:15, 241.30it/s]\u001b[A\n",
      "10077it [01:15, 251.64it/s]\u001b[A\n",
      "10105it [01:15, 237.90it/s]\u001b[A\n",
      "10131it [01:15, 228.27it/s]\u001b[A\n",
      "10156it [01:15, 219.89it/s]\u001b[A\n",
      "10180it [01:15, 216.75it/s]\u001b[A\n",
      "10203it [01:15, 215.04it/s]\u001b[A\n",
      "10226it [01:15, 213.35it/s]\u001b[A\n",
      "10248it [01:15, 211.56it/s]\u001b[A\n",
      "10270it [01:16, 210.46it/s]\u001b[A\n",
      "10292it [01:16, 209.54it/s]\u001b[A\n",
      "10314it [01:16, 208.90it/s]\u001b[A\n",
      "10335it [01:16, 208.22it/s]\u001b[A\n",
      "10356it [01:17, 59.35it/s] \u001b[A\n",
      "10372it [01:17, 52.68it/s]\u001b[A\n",
      "10393it [01:17, 67.94it/s]\u001b[A\n",
      "10415it [01:17, 85.30it/s]\u001b[A\n",
      "10437it [01:18, 103.92it/s]\u001b[A\n",
      "10459it [01:18, 122.85it/s]\u001b[A\n",
      "10481it [01:18, 140.83it/s]\u001b[A\n",
      "10503it [01:18, 156.52it/s]\u001b[A\n",
      "10525it [01:18, 169.60it/s]\u001b[A\n",
      "10547it [01:18, 180.29it/s]\u001b[A\n",
      "10569it [01:18, 188.63it/s]\u001b[A\n",
      "10591it [01:18, 195.15it/s]\u001b[A\n",
      "10613it [01:18, 201.66it/s]\u001b[A\n",
      "10638it [01:18, 213.32it/s]\u001b[A\n",
      "10663it [01:19, 222.47it/s]\u001b[A\n",
      "10686it [01:19, 101.90it/s]\u001b[A\n",
      "10710it [01:19, 122.75it/s]\u001b[A\n",
      "10738it [01:19, 147.12it/s]\u001b[A\n",
      "10760it [01:20, 47.46it/s] \u001b[A\n",
      "10782it [01:21, 61.97it/s]\u001b[A\n",
      "10803it [01:21, 78.41it/s]\u001b[A\n",
      "10825it [01:21, 97.10it/s]\u001b[A\n",
      "10848it [01:21, 117.02it/s]\u001b[A\n",
      "10871it [01:21, 136.41it/s]\u001b[A\n",
      "10894it [01:21, 154.20it/s]\u001b[A\n",
      "10917it [01:21, 169.46it/s]\u001b[A\n",
      "10940it [01:21, 182.45it/s]\u001b[A\n",
      "10962it [01:21, 191.71it/s]\u001b[A\n",
      "10984it [01:22, 196.97it/s]\u001b[A\n",
      "11006it [01:22, 200.63it/s]\u001b[A\n",
      "11028it [01:22, 203.01it/s]\u001b[A\n",
      "11050it [01:22, 99.13it/s] \u001b[A\n",
      "11067it [01:23, 45.29it/s]\u001b[A\n",
      "11089it [01:23, 59.24it/s]\u001b[A\n",
      "11111it [01:23, 75.54it/s]\u001b[A\n",
      "11133it [01:23, 93.52it/s]\u001b[A\n",
      "11155it [01:23, 112.21it/s]\u001b[A\n",
      "11176it [01:24, 130.08it/s]\u001b[A\n",
      "11197it [01:24, 146.77it/s]\u001b[A\n",
      "11224it [01:24, 169.09it/s]\u001b[A\n",
      "11253it [01:24, 192.72it/s]\u001b[A\n",
      "11283it [01:24, 214.60it/s]\u001b[A\n",
      "11315it [01:24, 236.91it/s]\u001b[A\n",
      "11350it [01:24, 261.82it/s]\u001b[A\n",
      "11380it [01:25, 74.87it/s] \u001b[A\n",
      "11415it [01:25, 97.95it/s]\u001b[A\n",
      "11452it [01:25, 125.40it/s]\u001b[A\n",
      "11492it [01:26, 157.40it/s]\u001b[A\n",
      "11531it [01:26, 191.49it/s]\u001b[A\n",
      "11565it [01:26, 151.96it/s]\u001b[A\n",
      "11605it [01:26, 186.10it/s]\u001b[A\n",
      "11645it [01:26, 220.76it/s]\u001b[A\n",
      "11685it [01:26, 254.04it/s]\u001b[A/home/kate/miniconda3/lib/python3.9/site-packages/IPython/core/interactiveshell.py:3441: DtypeWarning: Columns (109,155,163,169) have mixed types.Specify dtype option on import or set low_memory=False.\n",
      "  exec(code_obj, self.user_global_ns, self.user_ns)\n",
      "\n",
      "11711it [01:42, 254.04it/s]\u001b[A"
     ]
    }
   ],
   "source": [
    "root = Path('/anvar/public_datasets/preproc_study/lgg/dicom')\n",
    "df = join_tree(root, verbose=1)\n",
    "df.to_csv(root.parent / 'meta.csv', index=False)\n",
    "df = pd.read_csv(root.parent / 'meta.csv')"
   ]
  },
  {
   "cell_type": "code",
   "execution_count": 35,
   "metadata": {},
   "outputs": [],
   "source": [
    "paths = pd.read_csv('../lgg_paths.csv')\n",
    "basedir = '/anvar/public_datasets/tcia/'\n",
    "savedir = '/anvar/public_datasets/preproc_study/lgg/dicom/'"
   ]
  },
  {
   "cell_type": "code",
   "execution_count": 36,
   "metadata": {},
   "outputs": [],
   "source": [
    "rtdir = '/anvar/public_datasets/tcia/manifest-1588284345182/TCGA-LGG/'"
   ]
  },
  {
   "cell_type": "code",
   "execution_count": 37,
   "metadata": {},
   "outputs": [
    {
     "data": {
      "text/plain": [
       "['300.000000-MP RAGE AXIAL Glioma Segmentation Corrected-17638',\n",
       " '300.000000-MP RAGE AXIAL Glioma Segmentation-71597',\n",
       " '300.000000-T2 AXIALS Glioma Segmentation Corrected-93218',\n",
       " '300.000000-T2 AXIALS Glioma Segmentation-67348',\n",
       " '300.000000-MP RAGE AXIAL Glioma Segmentation-01663',\n",
       " '300.000000-MP RAGE AXIAL Glioma Segmentation Corrected-59980',\n",
       " '300.000000-FLAIR AXIALS Glioma Segmentation-48998',\n",
       " '300.000000-FLAIR AXIALS Glioma Segmentation Corrected-19647']"
      ]
     },
     "execution_count": 37,
     "metadata": {},
     "output_type": "execute_result"
    }
   ],
   "source": [
    "os.listdir(rtdir+'TCGA-FG-6689/03-26-2002-NR MRI BRAIN WWO-47983') "
   ]
  },
  {
   "cell_type": "markdown",
   "metadata": {},
   "source": [
    "### Check *dcm files"
   ]
  },
  {
   "cell_type": "code",
   "execution_count": 38,
   "metadata": {},
   "outputs": [],
   "source": [
    "def load_series(sub, root=None):\n",
    "    \"\"\"Loads DICOMs in specific order coincided with SegmentationStorage ordering.\"\"\"\n",
    "    if isinstance(root, Path):\n",
    "        return order_series([dcmread(root / file.PathToFolder / file.FileName) for _, file in sub.iterrows()])[::-1]\n",
    "    \n",
    "def get_segmentation_storage_mask(segmentation_storage):\n",
    "    \"\"\"Returns (width, height, 3) mask, with values 1,2,3 corresponding to different BraTS classes.\"\"\"\n",
    "    mask = segmentation_storage.pixel_array\n",
    "    mask = np.transpose(mask, (2,1,0))\n",
    "    mask = np.array(np.split(mask, 3, axis=2))\n",
    "    mask = np.array([1,2,3]).reshape((3, 1, 1, 1)) * mask\n",
    "    return mask.sum(axis=0)\n",
    "\n",
    "def get_reference_uid(segmentation_storage):\n",
    "    \"\"\"Returns reference SeriesInstanceUID of given SegmentationStorage\"\"\"\n",
    "    return str(segmentation_storage.ReferencedSeriesSequence[0][('0020', '000e')].value)\n",
    "\n",
    "def check_if_ct1_ref(df, rref):\n",
    "    \"\"\"Checks if input segmentation storage has CT1 image as reference.\"\"\"\n",
    "    sub = df.query('SeriesInstanceUID==@rref')\n",
    "    return sub.PathToFolder.iloc[0].split('/')[1] == 'CT1'"
   ]
  },
  {
   "cell_type": "code",
   "execution_count": 39,
   "metadata": {},
   "outputs": [
    {
     "data": {
      "text/plain": [
       "['1-4.dcm', '1-1.dcm', '1-2.dcm', '1-3.dcm']"
      ]
     },
     "execution_count": 39,
     "metadata": {},
     "output_type": "execute_result"
    }
   ],
   "source": [
    "os.listdir(str(root) + '/TCGA-DU-7014/CT1')"
   ]
  },
  {
   "cell_type": "code",
   "execution_count": 40,
   "metadata": {},
   "outputs": [
    {
     "ename": "IndexError",
     "evalue": "single positional indexer is out-of-bounds",
     "output_type": "error",
     "traceback": [
      "\u001b[0;31m---------------------------------------------------------------------------\u001b[0m",
      "\u001b[0;31mIndexError\u001b[0m                                Traceback (most recent call last)",
      "\u001b[0;32m/tmp/ipykernel_3037834/2106168740.py\u001b[0m in \u001b[0;36m<module>\u001b[0;34m\u001b[0m\n\u001b[1;32m      2\u001b[0m     print( \n\u001b[1;32m      3\u001b[0m         get_segmentation_storage_mask( \n\u001b[0;32m----> 4\u001b[0;31m             \u001b[0mdcmread\u001b[0m\u001b[0;34m(\u001b[0m\u001b[0mstr\u001b[0m\u001b[0;34m(\u001b[0m\u001b[0mroot\u001b[0m\u001b[0;34m)\u001b[0m \u001b[0;34m+\u001b[0m \u001b[0;34m'/'\u001b[0m\u001b[0;34m+\u001b[0m \u001b[0mlist_seg\u001b[0m\u001b[0;34m[\u001b[0m\u001b[0;34m'PathToFolder'\u001b[0m\u001b[0;34m]\u001b[0m\u001b[0;34m.\u001b[0m\u001b[0miloc\u001b[0m\u001b[0;34m[\u001b[0m\u001b[0mi\u001b[0m\u001b[0;34m]\u001b[0m \u001b[0;34m+\u001b[0m \u001b[0;34m'/1-1.dcm'\u001b[0m\u001b[0;34m)\u001b[0m\u001b[0;34m\u001b[0m\u001b[0;34m\u001b[0m\u001b[0m\n\u001b[0m\u001b[1;32m      5\u001b[0m         ).shape\n\u001b[1;32m      6\u001b[0m     )\n",
      "\u001b[0;32m~/miniconda3/lib/python3.9/site-packages/pandas/core/indexing.py\u001b[0m in \u001b[0;36m__getitem__\u001b[0;34m(self, key)\u001b[0m\n\u001b[1;32m    929\u001b[0m \u001b[0;34m\u001b[0m\u001b[0m\n\u001b[1;32m    930\u001b[0m             \u001b[0mmaybe_callable\u001b[0m \u001b[0;34m=\u001b[0m \u001b[0mcom\u001b[0m\u001b[0;34m.\u001b[0m\u001b[0mapply_if_callable\u001b[0m\u001b[0;34m(\u001b[0m\u001b[0mkey\u001b[0m\u001b[0;34m,\u001b[0m \u001b[0mself\u001b[0m\u001b[0;34m.\u001b[0m\u001b[0mobj\u001b[0m\u001b[0;34m)\u001b[0m\u001b[0;34m\u001b[0m\u001b[0;34m\u001b[0m\u001b[0m\n\u001b[0;32m--> 931\u001b[0;31m             \u001b[0;32mreturn\u001b[0m \u001b[0mself\u001b[0m\u001b[0;34m.\u001b[0m\u001b[0m_getitem_axis\u001b[0m\u001b[0;34m(\u001b[0m\u001b[0mmaybe_callable\u001b[0m\u001b[0;34m,\u001b[0m \u001b[0maxis\u001b[0m\u001b[0;34m=\u001b[0m\u001b[0maxis\u001b[0m\u001b[0;34m)\u001b[0m\u001b[0;34m\u001b[0m\u001b[0;34m\u001b[0m\u001b[0m\n\u001b[0m\u001b[1;32m    932\u001b[0m \u001b[0;34m\u001b[0m\u001b[0m\n\u001b[1;32m    933\u001b[0m     \u001b[0;32mdef\u001b[0m \u001b[0m_is_scalar_access\u001b[0m\u001b[0;34m(\u001b[0m\u001b[0mself\u001b[0m\u001b[0;34m,\u001b[0m \u001b[0mkey\u001b[0m\u001b[0;34m:\u001b[0m \u001b[0mtuple\u001b[0m\u001b[0;34m)\u001b[0m\u001b[0;34m:\u001b[0m\u001b[0;34m\u001b[0m\u001b[0;34m\u001b[0m\u001b[0m\n",
      "\u001b[0;32m~/miniconda3/lib/python3.9/site-packages/pandas/core/indexing.py\u001b[0m in \u001b[0;36m_getitem_axis\u001b[0;34m(self, key, axis)\u001b[0m\n\u001b[1;32m   1564\u001b[0m \u001b[0;34m\u001b[0m\u001b[0m\n\u001b[1;32m   1565\u001b[0m             \u001b[0;31m# validate the location\u001b[0m\u001b[0;34m\u001b[0m\u001b[0;34m\u001b[0m\u001b[0;34m\u001b[0m\u001b[0m\n\u001b[0;32m-> 1566\u001b[0;31m             \u001b[0mself\u001b[0m\u001b[0;34m.\u001b[0m\u001b[0m_validate_integer\u001b[0m\u001b[0;34m(\u001b[0m\u001b[0mkey\u001b[0m\u001b[0;34m,\u001b[0m \u001b[0maxis\u001b[0m\u001b[0;34m)\u001b[0m\u001b[0;34m\u001b[0m\u001b[0;34m\u001b[0m\u001b[0m\n\u001b[0m\u001b[1;32m   1567\u001b[0m \u001b[0;34m\u001b[0m\u001b[0m\n\u001b[1;32m   1568\u001b[0m             \u001b[0;32mreturn\u001b[0m \u001b[0mself\u001b[0m\u001b[0;34m.\u001b[0m\u001b[0mobj\u001b[0m\u001b[0;34m.\u001b[0m\u001b[0m_ixs\u001b[0m\u001b[0;34m(\u001b[0m\u001b[0mkey\u001b[0m\u001b[0;34m,\u001b[0m \u001b[0maxis\u001b[0m\u001b[0;34m=\u001b[0m\u001b[0maxis\u001b[0m\u001b[0;34m)\u001b[0m\u001b[0;34m\u001b[0m\u001b[0;34m\u001b[0m\u001b[0m\n",
      "\u001b[0;32m~/miniconda3/lib/python3.9/site-packages/pandas/core/indexing.py\u001b[0m in \u001b[0;36m_validate_integer\u001b[0;34m(self, key, axis)\u001b[0m\n\u001b[1;32m   1498\u001b[0m         \u001b[0mlen_axis\u001b[0m \u001b[0;34m=\u001b[0m \u001b[0mlen\u001b[0m\u001b[0;34m(\u001b[0m\u001b[0mself\u001b[0m\u001b[0;34m.\u001b[0m\u001b[0mobj\u001b[0m\u001b[0;34m.\u001b[0m\u001b[0m_get_axis\u001b[0m\u001b[0;34m(\u001b[0m\u001b[0maxis\u001b[0m\u001b[0;34m)\u001b[0m\u001b[0;34m)\u001b[0m\u001b[0;34m\u001b[0m\u001b[0;34m\u001b[0m\u001b[0m\n\u001b[1;32m   1499\u001b[0m         \u001b[0;32mif\u001b[0m \u001b[0mkey\u001b[0m \u001b[0;34m>=\u001b[0m \u001b[0mlen_axis\u001b[0m \u001b[0;32mor\u001b[0m \u001b[0mkey\u001b[0m \u001b[0;34m<\u001b[0m \u001b[0;34m-\u001b[0m\u001b[0mlen_axis\u001b[0m\u001b[0;34m:\u001b[0m\u001b[0;34m\u001b[0m\u001b[0;34m\u001b[0m\u001b[0m\n\u001b[0;32m-> 1500\u001b[0;31m             \u001b[0;32mraise\u001b[0m \u001b[0mIndexError\u001b[0m\u001b[0;34m(\u001b[0m\u001b[0;34m\"single positional indexer is out-of-bounds\"\u001b[0m\u001b[0;34m)\u001b[0m\u001b[0;34m\u001b[0m\u001b[0;34m\u001b[0m\u001b[0m\n\u001b[0m\u001b[1;32m   1501\u001b[0m \u001b[0;34m\u001b[0m\u001b[0m\n\u001b[1;32m   1502\u001b[0m     \u001b[0;31m# -------------------------------------------------------------------\u001b[0m\u001b[0;34m\u001b[0m\u001b[0;34m\u001b[0m\u001b[0;34m\u001b[0m\u001b[0m\n",
      "\u001b[0;31mIndexError\u001b[0m: single positional indexer is out-of-bounds"
     ]
    }
   ],
   "source": [
    "for i in range(8):\n",
    "    print( \n",
    "        get_segmentation_storage_mask( \n",
    "            dcmread(str(root) + '/'+ list_seg['PathToFolder'].iloc[i] + '/1-1.dcm')\n",
    "        ).shape\n",
    "    )"
   ]
  },
  {
   "cell_type": "code",
   "execution_count": 41,
   "metadata": {},
   "outputs": [
    {
     "data": {
      "text/plain": [
       "1.3.6.1.4.1.14519.5.2.1.4591.4003.125577399578922720346879420953    325\n",
       "1.3.6.1.4.1.14519.5.2.1.4591.4003.112592252232666023998953315710    180\n",
       "1.3.6.1.4.1.14519.5.2.1.1188.4001.142459179818453226386988487183    170\n",
       "1.3.6.1.4.1.14519.5.2.1.1188.4001.114078538471828186024243211217    170\n",
       "1.3.6.1.4.1.14519.5.2.1.1188.4001.223094313796547802976465712442    170\n",
       "                                                                   ... \n",
       "1.2.276.0.7230010.3.1.3.8323329.408739.1540933534.631625              1\n",
       "1.2.276.0.7230010.3.1.3.8323329.407667.1540933532.431172              1\n",
       "1.2.276.0.7230010.3.1.3.8323329.407669.1540933532.487109              1\n",
       "1.2.276.0.7230010.3.1.3.8323329.408726.1540933534.642854              1\n",
       "1.2.276.0.7230010.3.1.3.8323329.423577.1540933574.890161              1\n",
       "Name: SeriesInstanceUID, Length: 567, dtype: int64"
      ]
     },
     "execution_count": 41,
     "metadata": {},
     "output_type": "execute_result"
    }
   ],
   "source": [
    "df['SeriesInstanceUID'].value_counts()"
   ]
  },
  {
   "cell_type": "code",
   "execution_count": 42,
   "metadata": {
    "scrolled": true
   },
   "outputs": [
    {
     "ename": "NameError",
     "evalue": "name 'segmentation_storage' is not defined",
     "output_type": "error",
     "traceback": [
      "\u001b[0;31m---------------------------------------------------------------------------\u001b[0m",
      "\u001b[0;31mNameError\u001b[0m                                 Traceback (most recent call last)",
      "\u001b[0;32m/tmp/ipykernel_3037834/2945322593.py\u001b[0m in \u001b[0;36m<module>\u001b[0;34m\u001b[0m\n\u001b[1;32m      7\u001b[0m     \u001b[0;32mreturn\u001b[0m \u001b[0mmask\u001b[0m\u001b[0;34m.\u001b[0m\u001b[0msum\u001b[0m\u001b[0;34m(\u001b[0m\u001b[0maxis\u001b[0m\u001b[0;34m=\u001b[0m\u001b[0;36m0\u001b[0m\u001b[0;34m)\u001b[0m\u001b[0;34m\u001b[0m\u001b[0;34m\u001b[0m\u001b[0m\n\u001b[1;32m      8\u001b[0m \u001b[0;34m\u001b[0m\u001b[0m\n\u001b[0;32m----> 9\u001b[0;31m \u001b[0mget_segmentation_storage_mask\u001b[0m\u001b[0;34m(\u001b[0m\u001b[0msegmentation_storage\u001b[0m\u001b[0;34m)\u001b[0m\u001b[0;34m\u001b[0m\u001b[0;34m\u001b[0m\u001b[0m\n\u001b[0m",
      "\u001b[0;31mNameError\u001b[0m: name 'segmentation_storage' is not defined"
     ]
    }
   ],
   "source": [
    "def get_segmentation_storage_mask(segmentation_storage):\n",
    "    \"\"\"Returns (width, height, 3) mask, with values 1,2,3 corresponding to different BraTS classes.\"\"\"\n",
    "    mask = segmentation_storage.pixel_array\n",
    "    mask = np.transpose(mask, (2,1,0))\n",
    "    mask = np.array(np.split(mask, 3, axis=2))\n",
    "    mask = np.array([1,2,3]).reshape((3, 1, 1, 1)) * mask\n",
    "    return mask.sum(axis=0)\n",
    "\n",
    "get_segmentation_storage_mask(segmentation_storage)"
   ]
  },
  {
   "cell_type": "code",
   "execution_count": null,
   "metadata": {},
   "outputs": [],
   "source": [
    "## поменять название рт структур"
   ]
  },
  {
   "cell_type": "code",
   "execution_count": 43,
   "metadata": {},
   "outputs": [
    {
     "ename": "NameError",
     "evalue": "name 'segmentation_storage' is not defined",
     "output_type": "error",
     "traceback": [
      "\u001b[0;31m---------------------------------------------------------------------------\u001b[0m",
      "\u001b[0;31mNameError\u001b[0m                                 Traceback (most recent call last)",
      "\u001b[0;32m/tmp/ipykernel_3037834/2179823705.py\u001b[0m in \u001b[0;36m<module>\u001b[0;34m\u001b[0m\n\u001b[0;32m----> 1\u001b[0;31m \u001b[0msegmentation_storage\u001b[0m\u001b[0;34m\u001b[0m\u001b[0;34m\u001b[0m\u001b[0m\n\u001b[0m",
      "\u001b[0;31mNameError\u001b[0m: name 'segmentation_storage' is not defined"
     ]
    }
   ],
   "source": [
    "segmentation_storage"
   ]
  },
  {
   "cell_type": "code",
   "execution_count": 295,
   "metadata": {},
   "outputs": [],
   "source": [
    "for i in glob.glob('/anvar/public_datasets/preproc_study/lgg/dicom/*/RTSTRUCT_DICOM/'):\n",
    "#     print(len(os.listdir(i)))\n",
    "#     shutil.rmtree(i)"
   ]
  },
  {
   "cell_type": "code",
   "execution_count": 279,
   "metadata": {},
   "outputs": [
    {
     "data": {
      "text/plain": [
       "['T1', 'T2', 'CT1', 'RTSTRUCT', 'FLAIR']"
      ]
     },
     "execution_count": 279,
     "metadata": {},
     "output_type": "execute_result"
    }
   ],
   "source": [
    "os.listdir('/anvar/public_datasets/preproc_study/lgg/dicom/TCGA-CS-5393')"
   ]
  },
  {
   "cell_type": "code",
   "execution_count": 280,
   "metadata": {},
   "outputs": [
    {
     "name": "stderr",
     "output_type": "stream",
     "text": [
      "66it [00:00, 13969.72it/s]\n"
     ]
    }
   ],
   "source": [
    "# # Only save CT1 (=T1c) mask, `Corrected`\n",
    "\n",
    "for patient_folder in tqdm(root.glob('*')): # 1\n",
    "    if any('RTSTRUCT' in subfolders.name for subfolders in patient_folder.glob('*')):\n",
    "        rtstruct_dicom_folder = patient_folder / 'RTSTRUCT_DICOM'\n",
    "        if not rtstruct_dicom_folder.exists(): # 2\n",
    "            rtstruct_dicom_folder.mkdir()\n",
    "        (rtstruct_dicom_folder / 'CT1').mkdir()"
   ]
  },
  {
   "cell_type": "markdown",
   "metadata": {},
   "source": [
    "### В лоб получается только 2 пациента:"
   ]
  },
  {
   "cell_type": "code",
   "execution_count": 44,
   "metadata": {},
   "outputs": [
    {
     "name": "stderr",
     "output_type": "stream",
     "text": [
      "1it [00:00,  9.61it/s]"
     ]
    },
    {
     "name": "stdout",
     "output_type": "stream",
     "text": [
      "[Errno 2] No such file or directory: '/anvar/public_datasets/preproc_study/lgg/dicom/TCGA-CS-6188/RTSTRUCT_DICOM/CT1/1.3.6.1.4.1.14519.5.2.1.1188.4001.197209226708094868373592418268.dcm' TCGA-CS-6188\n"
     ]
    },
    {
     "name": "stderr",
     "output_type": "stream",
     "text": [
      "\r",
      "3it [00:03,  1.88it/s]"
     ]
    },
    {
     "name": "stdout",
     "output_type": "stream",
     "text": [
      "[Errno 2] No such file or directory: '/anvar/public_datasets/preproc_study/lgg/dicom/TCGA-DU-7015/RTSTRUCT_DICOM/CT1/1.3.6.1.4.1.14519.5.2.1.4591.4003.143871386280277404877552456776.dcm' TCGA-DU-7015\n",
      "not enough values to unpack (expected 1, got 0) TCGA-CS-5393\n"
     ]
    },
    {
     "name": "stderr",
     "output_type": "stream",
     "text": [
      "11711it [03:17, 59.27it/s] \n",
      "6it [00:04,  2.60it/s]"
     ]
    },
    {
     "name": "stdout",
     "output_type": "stream",
     "text": [
      "[Errno 2] No such file or directory: '/anvar/public_datasets/preproc_study/lgg/dicom/TCGA-DU-8167/RTSTRUCT_DICOM/CT1/1.3.6.1.4.1.14519.5.2.1.4591.4003.187241221374848102675027746350.dcm' TCGA-DU-8167\n",
      "not enough values to unpack (expected 1, got 0) TCGA-DU-7306\n",
      "not enough values to unpack (expected 1, got 0) TCGA-CS-4942\n"
     ]
    },
    {
     "name": "stderr",
     "output_type": "stream",
     "text": [
      "\r",
      "8it [00:04,  3.17it/s]"
     ]
    },
    {
     "name": "stdout",
     "output_type": "stream",
     "text": [
      "not enough values to unpack (expected 1, got 0) TCGA-CS-6186\n"
     ]
    },
    {
     "name": "stderr",
     "output_type": "stream",
     "text": [
      "\r",
      "9it [00:05,  2.21it/s]"
     ]
    },
    {
     "name": "stdout",
     "output_type": "stream",
     "text": [
      "[Errno 2] No such file or directory: '/anvar/public_datasets/preproc_study/lgg/dicom/TCGA-DU-8164/RTSTRUCT_DICOM/CT1/1.3.6.1.4.1.14519.5.2.1.4591.4003.166535749119509005765958353854.dcm' TCGA-DU-8164\n",
      "not enough values to unpack (expected 1, got 0) TCGA-DU-7300\n"
     ]
    },
    {
     "name": "stderr",
     "output_type": "stream",
     "text": [
      "\r",
      "18it [00:05,  3.07it/s]"
     ]
    },
    {
     "name": "stdout",
     "output_type": "stream",
     "text": [
      "not enough values to unpack (expected 1, got 0) TCGA-DU-7301\n"
     ]
    },
    {
     "name": "stderr",
     "output_type": "stream",
     "text": [
      "\r",
      "20it [00:05,  3.61it/s]"
     ]
    },
    {
     "name": "stdout",
     "output_type": "stream",
     "text": [
      "[Errno 2] No such file or directory: '/anvar/public_datasets/preproc_study/lgg/dicom/TCGA-DU-6404/RTSTRUCT_DICOM/CT1/1.3.6.1.4.1.14519.5.2.1.4591.4003.137096880648957505008635548973.dcm' TCGA-DU-6404\n",
      "not enough values to unpack (expected 1, got 0) TCGA-DU-8162\n"
     ]
    },
    {
     "name": "stderr",
     "output_type": "stream",
     "text": [
      "\r",
      "22it [00:05,  4.38it/s]"
     ]
    },
    {
     "name": "stdout",
     "output_type": "stream",
     "text": [
      "not enough values to unpack (expected 1, got 0) TCGA-DU-7299\n",
      "[Errno 2] No such file or directory: '/anvar/public_datasets/preproc_study/lgg/dicom/TCGA-CS-6668/RTSTRUCT_DICOM/CT1/1.3.6.1.4.1.14519.5.2.1.1188.4001.509561857834004889654707831255.dcm' TCGA-CS-6668\n"
     ]
    },
    {
     "name": "stderr",
     "output_type": "stream",
     "text": [
      "\r",
      "24it [00:07,  2.79it/s]"
     ]
    },
    {
     "name": "stdout",
     "output_type": "stream",
     "text": [
      "[Errno 2] No such file or directory: '/anvar/public_datasets/preproc_study/lgg/dicom/TCGA-DU-8168/RTSTRUCT_DICOM/CT1/1.3.6.1.4.1.14519.5.2.1.4591.4003.116222340630775448264639214172.dcm' TCGA-DU-8168\n"
     ]
    },
    {
     "name": "stderr",
     "output_type": "stream",
     "text": [
      "\r",
      "25it [00:07,  2.39it/s]"
     ]
    },
    {
     "name": "stdout",
     "output_type": "stream",
     "text": [
      "[Errno 2] No such file or directory: '/anvar/public_datasets/preproc_study/lgg/dicom/TCGA-DU-5854/RTSTRUCT_DICOM/CT1/1.3.6.1.4.1.14519.5.2.1.4591.4003.194232179039509028019618459302.dcm' TCGA-DU-5854\n"
     ]
    },
    {
     "name": "stderr",
     "output_type": "stream",
     "text": [
      "\r",
      "26it [00:08,  2.83it/s]"
     ]
    },
    {
     "name": "stdout",
     "output_type": "stream",
     "text": [
      "[Errno 2] No such file or directory: '/anvar/public_datasets/preproc_study/lgg/dicom/TCGA-CS-6666/RTSTRUCT_DICOM/CT1/1.3.6.1.4.1.14519.5.2.1.1188.4001.105534766428793796910469125685.dcm' TCGA-CS-6666\n"
     ]
    },
    {
     "name": "stderr",
     "output_type": "stream",
     "text": [
      "29it [00:08,  3.73it/s]"
     ]
    },
    {
     "name": "stdout",
     "output_type": "stream",
     "text": [
      "[Errno 2] No such file or directory: '/anvar/public_datasets/preproc_study/lgg/dicom/TCGA-CS-5397/RTSTRUCT_DICOM/CT1/1.3.6.1.4.1.14519.5.2.1.1188.4001.286289311732876264951383337107.dcm' TCGA-CS-5397\n",
      "[Errno 2] No such file or directory: '/anvar/public_datasets/preproc_study/lgg/dicom/TCGA-CS-4944/RTSTRUCT_DICOM/CT1/1.3.6.1.4.1.14519.5.2.1.1188.4001.146945640367465726951695455981.dcm' TCGA-CS-4944\n"
     ]
    },
    {
     "name": "stderr",
     "output_type": "stream",
     "text": [
      "\r",
      "32it [00:08,  4.90it/s]"
     ]
    },
    {
     "name": "stdout",
     "output_type": "stream",
     "text": [
      "not enough values to unpack (expected 1, got 0) TCGA-DU-6542\n",
      "not enough values to unpack (expected 1, got 0) TCGA-DU-8166\n"
     ]
    },
    {
     "name": "stderr",
     "output_type": "stream",
     "text": [
      "\r",
      "34it [00:08,  5.49it/s]"
     ]
    },
    {
     "name": "stdout",
     "output_type": "stream",
     "text": [
      "not enough values to unpack (expected 1, got 0) TCGA-DU-5872\n"
     ]
    },
    {
     "name": "stderr",
     "output_type": "stream",
     "text": [
      "\r",
      "37it [00:09,  6.67it/s]"
     ]
    },
    {
     "name": "stdout",
     "output_type": "stream",
     "text": [
      "[Errno 2] No such file or directory: '/anvar/public_datasets/preproc_study/lgg/dicom/TCGA-CS-6665/RTSTRUCT_DICOM/CT1/1.3.6.1.4.1.14519.5.2.1.1188.4001.260666956673574919867559087406.dcm' TCGA-CS-6665\n",
      "not enough values to unpack (expected 1, got 0) TCGA-DU-7019\n"
     ]
    },
    {
     "name": "stderr",
     "output_type": "stream",
     "text": [
      "43it [00:09,  7.76it/s]"
     ]
    },
    {
     "name": "stdout",
     "output_type": "stream",
     "text": [
      "[Errno 2] No such file or directory: '/anvar/public_datasets/preproc_study/lgg/dicom/TCGA-DU-7008/RTSTRUCT_DICOM/CT1/1.3.6.1.4.1.14519.5.2.1.4591.4003.150598211815979833125369936852.dcm' TCGA-DU-7008\n",
      "array split does not result in an equal division TCGA-CS-6669\n"
     ]
    },
    {
     "name": "stderr",
     "output_type": "stream",
     "text": [
      "\r",
      "45it [00:10,  6.33it/s]"
     ]
    },
    {
     "name": "stdout",
     "output_type": "stream",
     "text": [
      "[Errno 2] No such file or directory: '/anvar/public_datasets/preproc_study/lgg/dicom/TCGA-DU-7298/RTSTRUCT_DICOM/CT1/1.3.6.1.4.1.14519.5.2.1.4591.4003.218844837754690253207286393808.dcm' TCGA-DU-7298\n"
     ]
    },
    {
     "name": "stderr",
     "output_type": "stream",
     "text": [
      "\r",
      "48it [00:10,  7.47it/s]"
     ]
    },
    {
     "name": "stdout",
     "output_type": "stream",
     "text": [
      "not enough values to unpack (expected 1, got 0) TCGA-DU-7018\n",
      "not enough values to unpack (expected 1, got 0) TCGA-DU-5855\n"
     ]
    },
    {
     "name": "stderr",
     "output_type": "stream",
     "text": [
      "52it [00:11,  6.54it/s]"
     ]
    },
    {
     "name": "stdout",
     "output_type": "stream",
     "text": [
      "[Errno 2] No such file or directory: '/anvar/public_datasets/preproc_study/lgg/dicom/TCGA-DU-5851/RTSTRUCT_DICOM/CT1/1.3.6.1.4.1.14519.5.2.1.4591.4003.295101837246642136719004253140.dcm' TCGA-DU-5851\n",
      "not enough values to unpack (expected 1, got 0) TCGA-DU-7010\n"
     ]
    },
    {
     "name": "stderr",
     "output_type": "stream",
     "text": [
      "\r",
      "53it [00:12,  2.23it/s]"
     ]
    },
    {
     "name": "stdout",
     "output_type": "stream",
     "text": [
      "[Errno 2] No such file or directory: '/anvar/public_datasets/preproc_study/lgg/dicom/TCGA-DU-5874/RTSTRUCT_DICOM/CT1/1.3.6.1.4.1.14519.5.2.1.4591.4003.311224805733840657743381203266.dcm' TCGA-DU-5874\n",
      "not enough values to unpack (expected 1, got 0) TCGA-DU-7309\n"
     ]
    },
    {
     "name": "stderr",
     "output_type": "stream",
     "text": [
      "60it [00:13,  3.40it/s]"
     ]
    },
    {
     "name": "stdout",
     "output_type": "stream",
     "text": [
      "[Errno 2] No such file or directory: '/anvar/public_datasets/preproc_study/lgg/dicom/TCGA-DU-7302/RTSTRUCT_DICOM/CT1/1.3.6.1.4.1.14519.5.2.1.4591.4003.286718331469680827252756604346.dcm' TCGA-DU-7302\n",
      "not enough values to unpack (expected 1, got 0) TCGA-CS-5396\n",
      "not enough values to unpack (expected 1, got 0) TCGA-DU-7294\n"
     ]
    },
    {
     "name": "stderr",
     "output_type": "stream",
     "text": [
      "66it [00:13,  4.76it/s]"
     ]
    },
    {
     "name": "stdout",
     "output_type": "stream",
     "text": [
      "not enough values to unpack (expected 1, got 0) TCGA-DU-7304\n",
      "not enough values to unpack (expected 1, got 0) TCGA-DU-7014\n"
     ]
    },
    {
     "name": "stderr",
     "output_type": "stream",
     "text": [
      "\n"
     ]
    }
   ],
   "source": [
    "for patient_folder in tqdm(root.glob('*')): \n",
    "    rtstruct_dicom_folder = patient_folder / 'RTSTRUCT_DICOM' / 'CT1'\n",
    "    try:\n",
    "        for rtstruct_subfolder in (patient_folder / 'RTSTRUCT').glob('*'):\n",
    "            segmentation_storage = dcmread(rtstruct_subfolder / '1-1.dcm')\n",
    "            reference_uid = get_reference_uid(segmentation_storage)\n",
    "#             print(patient_folder.name,reference_uid)\n",
    "#             if (check_if_ct1_ref(df, reference_uid) and\n",
    "#                (('Correc' in rtstruct_subfolder.name) or\n",
    "#                  (patient_folder.name in no_corrected))): # Mask is for CT1 and corrected\n",
    "            sub = df.query('SeriesInstanceUID==@reference_uid')\n",
    "            image_series = load_series(sub, root)\n",
    "            mask = get_segmentation_storage_mask(segmentation_storage)\n",
    "            mask_to_dicom(image_series, mask, folder=rtstruct_dicom_folder)  \n",
    "            print(rtstruct_subfolder)\n",
    "    except Exception as e:\n",
    "        print(e, patient_folder.name)"
   ]
  },
  {
   "cell_type": "markdown",
   "metadata": {},
   "source": [
    "#### Проверим, для скольких папок с разметкой не хватает её в дикомах: \n",
    "\n",
    "Оказывается больше, чем для половины"
   ]
  },
  {
   "cell_type": "code",
   "execution_count": 45,
   "metadata": {},
   "outputs": [
    {
     "name": "stderr",
     "output_type": "stream",
     "text": [
      "66it [00:00, 36539.61it/s]\n"
     ]
    }
   ],
   "source": [
    "for patient_folder in tqdm(root.glob('*')): \n",
    "    try:\n",
    "        if len(os.listdir(patient_folder / 'RTSTRUCT_DICOM' / 'CT1')) > 0:\n",
    "            print('hi')\n",
    "    except:\n",
    "        pass"
   ]
  },
  {
   "cell_type": "markdown",
   "metadata": {},
   "source": [
    "#### Сделаем список из нужных 38 дикомов и их стравим:"
   ]
  },
  {
   "cell_type": "code",
   "execution_count": 46,
   "metadata": {},
   "outputs": [
    {
     "data": {
      "text/plain": [
       "['300.000000-AX T1 pre gd Glioma Segmentation-44351',\n",
       " '300.000000-AX T2 FR-FSE RF2 150 Glioma Segmentation Corrected-83452',\n",
       " '300.000000-AX T1 pre gd Glioma Segmentation Corrected-39983',\n",
       " '300.000000-AX T1 POST GD FLAIR Glioma Segmentation Corrected-02719',\n",
       " '300.000000-AXIAL FLAIR Glioma Segmentation-35927',\n",
       " '300.000000-AX T1 POST GD FLAIR Glioma Segmentation-92884',\n",
       " '300.000000-AX T2 FR-FSE RF2 150 Glioma Segmentation-69613',\n",
       " '300.000000-AXIAL FLAIR Glioma Segmentation Corrected-38412']"
      ]
     },
     "execution_count": 46,
     "metadata": {},
     "output_type": "execute_result"
    }
   ],
   "source": [
    "os.listdir(rtdir +'TCGA-DU-7019'+ '/09-08-1994-MRI BRAIN WWO CONTRAST-36813/' )"
   ]
  },
  {
   "cell_type": "code",
   "execution_count": 47,
   "metadata": {},
   "outputs": [
    {
     "data": {
      "text/plain": [
       "['300.000000-AX T1 pre gd Glioma Segmentation-44351',\n",
       " '300.000000-AX T2 FR-FSE RF2 150 Glioma Segmentation Corrected-83452',\n",
       " '300.000000-AX T1 pre gd Glioma Segmentation Corrected-39983',\n",
       " '300.000000-AX T1 POST GD FLAIR Glioma Segmentation Corrected-02719',\n",
       " '300.000000-AXIAL FLAIR Glioma Segmentation-35927',\n",
       " '300.000000-AX T1 POST GD FLAIR Glioma Segmentation-92884',\n",
       " '300.000000-AX T2 FR-FSE RF2 150 Glioma Segmentation-69613',\n",
       " '300.000000-AXIAL FLAIR Glioma Segmentation Corrected-38412']"
      ]
     },
     "execution_count": 47,
     "metadata": {},
     "output_type": "execute_result"
    }
   ],
   "source": [
    "os.listdir(rtdir +'TCGA-DU-7019'+ '/09-08-1994-MRI BRAIN WWO CONTRAST-36813/' )"
   ]
  },
  {
   "cell_type": "code",
   "execution_count": 48,
   "metadata": {},
   "outputs": [
    {
     "data": {
      "text/plain": [
       "' manifest-25ZdsnMy5264093150469993200/TCGA-LGG/TCGA-DU-5874/05-10-1995-MRI BRAIN WWO CONTRAST-73527/13.000000-COR  T1 POST GD FLAIR-85867'"
      ]
     },
     "execution_count": 48,
     "metadata": {},
     "output_type": "execute_result"
    }
   ],
   "source": [
    "paths['T1C'][9]"
   ]
  },
  {
   "cell_type": "code",
   "execution_count": 51,
   "metadata": {},
   "outputs": [
    {
     "name": "stdout",
     "output_type": "stream",
     "text": [
      "TCGA-DU-7019\n",
      "manifest-25ZdsnMy5264093150469993200/TCGA-LGG/TCGA-DU-7019/09-08-1994-MRI BRAIN WWO CONTRAST-36813/12.000000-COR  T1 POST GD FLAIR-11229\n",
      "TCGA-DU-7302\n",
      "manifest-25ZdsnMy5264093150469993200/TCGA-LGG/TCGA-DU-7302/12-03-1991-MRI BRAIN WWO CONTRAST-41440/12.000000-COR  T1 POST GD FLAIR-19937\n",
      "TCGA-DU-5852\n",
      "manifest-25ZdsnMy5264093150469993200/TCGA-LGG/TCGA-DU-5852/07-09-1995-MRI BRAIN WWO CONTRAST-62702/12.000000-COR  T1 POST GD FLAIR-51539\n",
      "TCGA-DU-7014\n",
      "manifest-25ZdsnMy5264093150469993200/TCGA-LGG/TCGA-DU-7014/06-18-1986-TUMOR VOL.- WAND-80617/12.000000-AXIAL T1 POST GD THRU TUMOR-15984\n",
      "TCGA-CS-6669\n",
      "manifest-25ZdsnMy5264093150469993200/TCGA-LGG/TCGA-CS-6669/01-02-2002-MRI BRAIN COMBO-45633/1101.000000-T1 SAG SE-52125\n",
      "TCGA-DU-6405\n",
      "manifest-25ZdsnMy5264093150469993200/TCGA-LGG/TCGA-DU-6405/10-05-1985-TUMOR VOL-13206/10.000000-AXIAL T1 POST GD-52534\n",
      "TCGA-DU-5851\n",
      "manifest-25ZdsnMy5264093150469993200/TCGA-LGG/TCGA-DU-5851/04-28-1995-MRI BRAIN WWO CONTRAST-02930/9.000000-COR T1 POST GD-00032\n",
      "TCGA-DU-5854\n",
      "manifest-25ZdsnMy5264093150469993200/TCGA-LGG/TCGA-DU-5854/11-04-1995-MRI BRAIN WWO CONTRAST-28000/9.000000-COR T1 POST GD-89954\n",
      "TCGA-DU-6408\n",
      "manifest-25ZdsnMy5264093150469993200/TCGA-LGG/TCGA-DU-6408/05-21-1986-TVP WSPEC-40424/9.000000-AXIAL T1 POST GD THRU TUMOR-74670\n",
      "TCGA-DU-5874\n",
      "manifest-25ZdsnMy5264093150469993200/TCGA-LGG/TCGA-DU-5874/05-10-1995-MRI BRAIN WWO CONTRAST-73527/13.000000-COR  T1 POST GD FLAIR-85867\n",
      "TCGA-CS-5396\n",
      "manifest-25ZdsnMy5264093150469993200/TCGA-LGG/TCGA-CS-5396/03-02-2001-MRI BRAIN CONTRAST MRA BRAIN-47605/1301.000000-T1 SAG SE-45175\n",
      "TCGA-DU-7306\n",
      "manifest-25ZdsnMy5264093150469993200/TCGA-LGG/TCGA-DU-7306/05-12-1993-MRI BRAIN WWO CONTRAST-11323/12.000000-COR  T1 POST GD FLAIR-61815\n",
      "TCGA-CS-5393\n",
      "manifest-25ZdsnMy5264093150469993200/TCGA-LGG/TCGA-CS-5393/06-06-1999-JHN MRI BRAINSTRYKER IP-28540/11.000000-BRAINSTRYKERT1SAGGAD-00657\n",
      "TCGA-DU-5849\n",
      "manifest-25ZdsnMy5264093150469993200/TCGA-LGG/TCGA-DU-5849/04-05-1995-MRI BRAIN WWO CONTRAST-20866/13.000000-COR  T1 POST GD FLAIR-06706\n",
      "TCGA-DU-6402\n",
      "manifest-25ZdsnMy5264093150469993200/TCGA-LGG/TCGA-DU-6402/12-31-1983-WAND BRAIN-73244/5.000000-axial t1 post gd-77471\n",
      "TCGA-CS-6670\n",
      "manifest-25ZdsnMy5264093150469993200/TCGA-LGG/TCGA-CS-6670/01-02-2002-MRI BRAIN COMBO MRA-97978/1301.000000-T1 SAG SE-76217\n",
      "TCGA-DU-5855\n",
      "manifest-25ZdsnMy5264093150469993200/TCGA-LGG/TCGA-DU-5855/12-17-1995-MRI BRAINLABHEAD WWO-26777/1201.000000-BrainLab onBL 3DT1axC-15710\n",
      "TCGA-DU-6407\n",
      "manifest-25ZdsnMy5264093150469993200/TCGA-LGG/TCGA-DU-6407/01-09-1994-MRI BRAIN WWO CONTRAST-91345/11.000000-COR  T1 POST GD FLAIR-60414\n",
      "TCGA-CS-4938\n",
      "manifest-25ZdsnMy5264093150469993200/TCGA-LGG/TCGA-CS-4938/04-15-1996-JHN BRAIN MR OP-84760/9.000000-BRAINSTRYKERT1SAGGAD-89944\n",
      "TCGA-CS-5390\n",
      "manifest-25ZdsnMy5264093150469993200/TCGA-LGG/TCGA-CS-5390/03-07-1996-BRAINSTRYKER-97078/9.000000-BRAINSTRYKERT1SAGGAD-92642\n",
      "TCGA-DU-7309\n",
      "manifest-25ZdsnMy5264093150469993200/TCGA-LGG/TCGA-DU-7309/08-31-1996-MRI BRAIN WWO CONTRAST-83234/13.000000-COR  T1 POST GD FLAIR-63305\n",
      "TCGA-CS-6186\n",
      "manifest-25ZdsnMy5264093150469993200/TCGA-LGG/TCGA-CS-6186/06-01-2000-MRI BRAIN per R-97608/1301.000000-T1 SAG POST-08017\n",
      "TCGA-DU-7013\n",
      "manifest-25ZdsnMy5264093150469993200/TCGA-LGG/TCGA-DU-7013/05-23-1986-BRAIN WWO-57995/6.000000-CORONAL T1 POST-09887\n",
      "TCGA-DU-7015\n",
      "manifest-25ZdsnMy5264093150469993200/TCGA-LGG/TCGA-DU-7015/06-18-1989-MRI BRAIN WWO CONTRAS-16160/10.000000-AX T1 POST GD FLAIR-19430\n",
      "TCGA-CS-5395\n",
      "manifest-25ZdsnMy5264093150469993200/TCGA-LGG/TCGA-CS-5395/10-04-1998-JHN STYKER BRAIN IP SPEC-45955/16.000000-BRAINSTRYKERT1SAGGAD-07226\n",
      "TCGA-CS-6666\n",
      "manifest-25ZdsnMy5264093150469993200/TCGA-LGG/TCGA-CS-6666/11-09-2001-MRI BRAIN WITH-71602/1301.000000-T1 SAG SE-08339\n",
      "TCGA-CS-4943\n",
      "manifest-25ZdsnMy5264093150469993200/TCGA-LGG/TCGA-CS-4943/09-02-2000-JHN IP MRI BRAIN STRYKER-52921/10.000000-BRAINSTRYKERT1SAG-64487\n",
      "TCGA-CS-4941\n",
      "manifest-25ZdsnMy5264093150469993200/TCGA-LGG/TCGA-CS-4941/09-09-1996-BRAIN WWO-83863/8.000000-SAG T1 POST GAD-94033\n",
      "TCGA-DU-8165\n",
      "manifest-25ZdsnMy5264093150469993200/TCGA-LGG/TCGA-DU-8165/02-05-1997-MRI BRAIN WWO CONTRAST-94305/13.000000-COR  T1 POST GD FLAIR-37513\n",
      "TCGA-CS-6667\n",
      "manifest-25ZdsnMy5264093150469993200/TCGA-LGG/TCGA-CS-6667/11-05-2001-MRI BRAIN WITH-96919/11.000000-SAG T1 POST-28698\n",
      "TCGA-DU-5871\n",
      "manifest-25ZdsnMy5264093150469993200/TCGA-LGG/TCGA-DU-5871/12-06-1994-MRI BRAIN WWO CONTRAST-77531/12.000000-COR  T1 POST GD FLAIR-51059\n",
      "TCGA-DU-7010\n",
      "manifest-25ZdsnMy5264093150469993200/TCGA-LGG/TCGA-DU-7010/03-07-1986-MRI OF BRAIN-22330/11.000000-AXIAL T1 POSTSPECTROSCOPY-21433\n",
      "TCGA-DU-6400\n",
      "manifest-25ZdsnMy5264093150469993200/TCGA-LGG/TCGA-DU-6400/05-18-1983-TUMOR VOLUME-38359/9.000000-axial t1gd-53598\n",
      "TCGA-DU-7300\n",
      "manifest-25ZdsnMy5264093150469993200/TCGA-LGG/TCGA-DU-7300/08-14-1991-MRI BRAIN WWO CONTRAST-33968/11.000000-COR  T1 POST GD FLAIR-59999\n",
      "TCGA-CS-6290\n",
      "manifest-25ZdsnMy5264093150469993200/TCGA-LGG/TCGA-CS-6290/09-17-2000-JHN IP BRAIN CONTRASTMRA.MRV-26774/16.000000-BRAINCONTRASTT1SAGITTAL-59617\n",
      "TCGA-DU-8164\n",
      "manifest-25ZdsnMy5264093150469993200/TCGA-LGG/TCGA-DU-8164/01-11-1997-MRI BRAIN WWO CONTRAST-98366/11.000000-COR  T1 POST GD FLAIR-90691\n",
      "TCGA-DU-7304\n",
      "manifest-25ZdsnMy5264093150469993200/TCGA-LGG/TCGA-DU-7304/03-25-1993-MRI BRAIN WWO CONTRAST-46100/11.000000-COR  T1 POST GD FLAIR-39719\n",
      "TCGA-DU-8166\n",
      "manifest-25ZdsnMy5264093150469993200/TCGA-LGG/TCGA-DU-8166/03-22-1997-MRI BRAIN WWO CONTRAST-94974/13.000000-COR  T1 POST GD FLAIR-71878\n",
      "TCGA-CS-6665\n",
      "manifest-25ZdsnMy5264093150469993200/TCGA-LGG/TCGA-CS-6665/08-17-2001-MRI BRAIN WITH-50114/1301.000000-T1 SAG SE-18213\n",
      "TCGA-DU-7301\n",
      "manifest-25ZdsnMy5264093150469993200/TCGA-LGG/TCGA-DU-7301/11-12-1991-MRI BRAIN WWO CONTRAST-22050/11.000000-COR  T1 POST GD FLAIR-09795\n",
      "TCGA-CS-4942\n",
      "manifest-25ZdsnMy5264093150469993200/TCGA-LGG/TCGA-CS-4942/02-22-1997-MRI BRAIN WITHO-04689/1001.000000-T1 COR SE-39365\n",
      "TCGA-DU-5872\n",
      "manifest-25ZdsnMy5264093150469993200/TCGA-LGG/TCGA-DU-5872/02-23-1995-MRI BRAIN WWO CONTRAST-88714/14.000000-COR T1 POST GD-35911\n",
      "TCGA-DU-7298\n",
      "manifest-25ZdsnMy5264093150469993200/TCGA-LGG/TCGA-DU-7298/03-24-1991-MRI BRAIN WWO CONTRAST-10889/9.000000-COR T1 POST GD-63027\n",
      "TCGA-DU-5853\n",
      "manifest-25ZdsnMy5264093150469993200/TCGA-LGG/TCGA-DU-5853/08-23-1995-MRI BRAIN WWO CONTRAST-78436/12.000000-COR  T1 POST GD FLAIR-32689\n",
      "TCGA-CS-5397\n",
      "manifest-25ZdsnMy5264093150469993200/TCGA-LGG/TCGA-CS-5397/03-15-2001-MRI BRAIN STRYKERFUNCTIONAL MR-71991/1401.000000-T1 SAG SE-48723\n",
      "TCGA-CS-5394\n",
      "manifest-25ZdsnMy5264093150469993200/TCGA-LGG/TCGA-CS-5394/12-05-1995-JHN BRAIN-97935/9.000000-BRAINSTRYKERt1mprAX-12442\n",
      "TCGA-DU-7299\n",
      "manifest-25ZdsnMy5264093150469993200/TCGA-LGG/TCGA-DU-7299/04-17-1991-MRI BRAIN WWO CONTRAST-84114/11.000000-COR  T1 POST GD FLAIR-28103\n",
      "TCGA-CS-4944\n",
      "manifest-25ZdsnMy5264093150469993200/TCGA-LGG/TCGA-CS-4944/02-08-2001-JHN BRAIN-IP-65472/12.000000-BRAINSTRYKERT1SAGGAD-34730\n",
      "TCGA-DU-6410\n",
      "manifest-25ZdsnMy5264093150469993200/TCGA-LGG/TCGA-DU-6410/12-28-1995-MRI BRAIN WWO CONTRAST-76637/12.000000-COR T1 POST GD-41515\n",
      "TCGA-DU-7294\n",
      "manifest-25ZdsnMy5264093150469993200/TCGA-LGG/TCGA-DU-7294/01-04-1989-MRI BRAIN WWO CONTRAS-19917/14.000000-AX T1 LOC  PODT GD-70066\n",
      "TCGA-DU-8162\n",
      "manifest-25ZdsnMy5264093150469993200/TCGA-LGG/TCGA-DU-8162/10-29-1996-MRI BRAIN WWO CONTRAST-44912/12.000000-COR  T1 POST GD FLAIR-13408\n",
      "TCGA-CS-6668\n",
      "manifest-25ZdsnMy5264093150469993200/TCGA-LGG/TCGA-CS-6668/10-25-2001-MRI BRAIN per R-29896/1101.000000-T1W3DSTRYKER-11217\n",
      "TCGA-DU-7008\n",
      "manifest-25ZdsnMy5264093150469993200/TCGA-LGG/TCGA-DU-7008/07-23-1983-60413/9.000000-AXIAL T1 POST GD-98176\n",
      "TCGA-DU-A5TP\n",
      "manifest-25ZdsnMy5264093150469993200/TCGA-LGG/TCGA-DU-A5TP/06-14-1997-MRI BRAIN WWO CONTRAST-14542/11.000000-COR T1 POST GD FLAIR-70203\n",
      "TCGA-DU-6542\n",
      "manifest-25ZdsnMy5264093150469993200/TCGA-LGG/TCGA-DU-6542/05-08-1996-MRI BRAIN WWO CONTRAST-27308/12.000000-COR  T1 POST GD FLAIR-01253\n",
      "TCGA-DU-8158\n",
      "manifest-25ZdsnMy5264093150469993200/TCGA-LGG/TCGA-DU-8158/09-22-1986-BRAIN WWO-21326/5.000000-AX T1-16580\n",
      "TCGA-DU-8167\n",
      "manifest-25ZdsnMy5264093150469993200/TCGA-LGG/TCGA-DU-8167/04-02-1997-MRI BRAIN WWO CONTRAST-29125/11.000000-COR  T1 POST GD FLAIR-50801\n",
      "TCGA-CS-6188\n",
      "manifest-25ZdsnMy5264093150469993200/TCGA-LGG/TCGA-CS-6188/08-12-2001-MRI BRAIN STRYKER JHN-95530/1301.000000-T1 SAG SE-56552\n",
      "TCGA-DU-8163\n",
      "manifest-25ZdsnMy5264093150469993200/TCGA-LGG/TCGA-DU-8163/11-19-1996-MRI BRAIN WWO CONTRAST-27038/13.000000-COR  T1 POST GD FLAIR-85227\n",
      "TCGA-DU-6401\n",
      "manifest-25ZdsnMy5264093150469993200/TCGA-LGG/TCGA-DU-6401/01-28-1984-BRAINGD-99977/7.000000-AXIAL T1 GD-61724\n",
      "TCGA-DU-6404\n",
      "manifest-25ZdsnMy5264093150469993200/TCGA-LGG/TCGA-DU-6404/06-29-1985-TUMOR VOLUME-62392/10.000000-AXIAL T1 POST GD-43862\n",
      "TCGA-DU-6397\n",
      "manifest-25ZdsnMy5264093150469993200/TCGA-LGG/TCGA-DU-6397/01-30-1985-TUMOR BRAIN-30833/9.000000-AXIAL T1 POST GD-37336\n",
      "TCGA-DU-6399\n",
      "manifest-25ZdsnMy5264093150469993200/TCGA-LGG/TCGA-DU-6399/04-16-1983-BRAINGD-02195/9.000000-AXIAL T1 PREPOST GD-25953\n",
      "TCGA-DU-7018\n",
      "manifest-25ZdsnMy5264093150469993200/TCGA-LGG/TCGA-DU-7018/12-20-1991-MRI BRAIN WWO CONTRAST-98852/14.000000-COR  T1 POST GD FLAIR-46276\n",
      "TCGA-DU-8168\n",
      "manifest-25ZdsnMy5264093150469993200/TCGA-LGG/TCGA-DU-8168/05-03-1997-MRI BRAIN WWO CONTRAST-55138/13.000000-COR  T1 POST GD FLAIR-94304\n",
      "TCGA-DU-6395\n",
      "manifest-25ZdsnMy5264093150469993200/TCGA-LGG/TCGA-DU-6395/02-09-1983-BRAINGD-38915/5.000000-ScanningSequence memp-22371\n"
     ]
    }
   ],
   "source": [
    "for i in range(0, len(paths)):\n",
    "    print(paths['ID'].iloc[i])\n",
    "    print(paths['T1C'].iloc[i][1:])"
   ]
  },
  {
   "cell_type": "code",
   "execution_count": 52,
   "metadata": {},
   "outputs": [
    {
     "name": "stdout",
     "output_type": "stream",
     "text": [
      "TCGA-DU-7019\n",
      "['/anvar/public_datasets/tcia/manifest-1588284345182/TCGA-LGG/TCGA-DU-7019/09-08-1994-MRI BRAIN WWO CONTRAST-36813/']\n",
      "TCGA-DU-7302\n",
      "['/anvar/public_datasets/tcia/manifest-1588284345182/TCGA-LGG/TCGA-DU-7302/12-03-1991-MRI BRAIN WWO CONTRAST-41440/']\n",
      "TCGA-DU-5852\n",
      "[]\n",
      "TCGA-DU-7014\n",
      "['/anvar/public_datasets/tcia/manifest-1588284345182/TCGA-LGG/TCGA-DU-7014/06-18-1986-TUMOR VOL.- WAND-80617/']\n",
      "TCGA-CS-6669\n",
      "['/anvar/public_datasets/tcia/manifest-1588284345182/TCGA-LGG/TCGA-CS-6669/01-02-2002-MRI BRAIN COMBO-45633/']\n",
      "TCGA-DU-6405\n",
      "[]\n",
      "TCGA-DU-5851\n",
      "['/anvar/public_datasets/tcia/manifest-1588284345182/TCGA-LGG/TCGA-DU-5851/04-28-1995-MRI BRAIN WWO CONTRAST-02930/']\n",
      "TCGA-DU-5854\n",
      "['/anvar/public_datasets/tcia/manifest-1588284345182/TCGA-LGG/TCGA-DU-5854/11-04-1995-MRI BRAIN WWO CONTRAST-28000/']\n",
      "TCGA-DU-6408\n",
      "[]\n",
      "TCGA-DU-5874\n",
      "['/anvar/public_datasets/tcia/manifest-1588284345182/TCGA-LGG/TCGA-DU-5874/05-10-1995-MRI BRAIN WWO CONTRAST-73527/']\n",
      "TCGA-CS-5396\n",
      "['/anvar/public_datasets/tcia/manifest-1588284345182/TCGA-LGG/TCGA-CS-5396/03-02-2001-MRI BRAIN CONTRAST MRA BRAIN-47605/']\n",
      "TCGA-DU-7306\n",
      "['/anvar/public_datasets/tcia/manifest-1588284345182/TCGA-LGG/TCGA-DU-7306/05-12-1993-MRI BRAIN WWO CONTRAST-11323/']\n",
      "TCGA-CS-5393\n",
      "['/anvar/public_datasets/tcia/manifest-1588284345182/TCGA-LGG/TCGA-CS-5393/06-06-1999-JHN MRI BRAINSTRYKER IP-28540/']\n",
      "TCGA-DU-5849\n",
      "[]\n",
      "TCGA-DU-6402\n",
      "[]\n",
      "TCGA-CS-6670\n",
      "[]\n",
      "TCGA-DU-5855\n",
      "['/anvar/public_datasets/tcia/manifest-1588284345182/TCGA-LGG/TCGA-DU-5855/12-17-1995-MRI BRAINLABHEAD WWO-26777/']\n",
      "TCGA-DU-6407\n",
      "[]\n",
      "TCGA-CS-4938\n",
      "[]\n",
      "TCGA-CS-5390\n",
      "[]\n",
      "TCGA-DU-7309\n",
      "['/anvar/public_datasets/tcia/manifest-1588284345182/TCGA-LGG/TCGA-DU-7309/08-31-1996-MRI BRAIN WWO CONTRAST-83234/']\n",
      "TCGA-CS-6186\n",
      "['/anvar/public_datasets/tcia/manifest-1588284345182/TCGA-LGG/TCGA-CS-6186/06-01-2000-MRI BRAIN per R-97608/']\n",
      "TCGA-DU-7013\n",
      "[]\n",
      "TCGA-DU-7015\n",
      "['/anvar/public_datasets/tcia/manifest-1588284345182/TCGA-LGG/TCGA-DU-7015/06-18-1989-MRI BRAIN WWO CONTRAS-16160/']\n",
      "TCGA-CS-5395\n",
      "[]\n",
      "TCGA-CS-6666\n",
      "['/anvar/public_datasets/tcia/manifest-1588284345182/TCGA-LGG/TCGA-CS-6666/11-09-2001-MRI BRAIN WITH-71602/']\n",
      "TCGA-CS-4943\n",
      "[]\n",
      "TCGA-CS-4941\n",
      "[]\n",
      "TCGA-DU-8165\n",
      "[]\n",
      "TCGA-CS-6667\n",
      "[]\n",
      "TCGA-DU-5871\n",
      "[]\n",
      "TCGA-DU-7010\n",
      "['/anvar/public_datasets/tcia/manifest-1588284345182/TCGA-LGG/TCGA-DU-7010/03-07-1986-MRI OF BRAIN-22330/']\n",
      "TCGA-DU-6400\n",
      "[]\n",
      "TCGA-DU-7300\n",
      "['/anvar/public_datasets/tcia/manifest-1588284345182/TCGA-LGG/TCGA-DU-7300/08-14-1991-MRI BRAIN WWO CONTRAST-33968/']\n",
      "TCGA-CS-6290\n",
      "[]\n",
      "TCGA-DU-8164\n",
      "['/anvar/public_datasets/tcia/manifest-1588284345182/TCGA-LGG/TCGA-DU-8164/01-11-1997-MRI BRAIN WWO CONTRAST-98366/']\n",
      "TCGA-DU-7304\n",
      "['/anvar/public_datasets/tcia/manifest-1588284345182/TCGA-LGG/TCGA-DU-7304/03-25-1993-MRI BRAIN WWO CONTRAST-46100/']\n",
      "TCGA-DU-8166\n",
      "['/anvar/public_datasets/tcia/manifest-1588284345182/TCGA-LGG/TCGA-DU-8166/03-22-1997-MRI BRAIN WWO CONTRAST-94974/']\n",
      "TCGA-CS-6665\n",
      "['/anvar/public_datasets/tcia/manifest-1588284345182/TCGA-LGG/TCGA-CS-6665/08-17-2001-MRI BRAIN WITH-50114/']\n",
      "TCGA-DU-7301\n",
      "['/anvar/public_datasets/tcia/manifest-1588284345182/TCGA-LGG/TCGA-DU-7301/11-12-1991-MRI BRAIN WWO CONTRAST-22050/']\n",
      "TCGA-CS-4942\n",
      "['/anvar/public_datasets/tcia/manifest-1588284345182/TCGA-LGG/TCGA-CS-4942/02-22-1997-MRI BRAIN WITHO-04689/']\n",
      "TCGA-DU-5872\n",
      "['/anvar/public_datasets/tcia/manifest-1588284345182/TCGA-LGG/TCGA-DU-5872/02-23-1995-MRI BRAIN WWO CONTRAST-88714/']\n",
      "TCGA-DU-7298\n",
      "['/anvar/public_datasets/tcia/manifest-1588284345182/TCGA-LGG/TCGA-DU-7298/03-24-1991-MRI BRAIN WWO CONTRAST-10889/']\n",
      "TCGA-DU-5853\n",
      "[]\n",
      "TCGA-CS-5397\n",
      "['/anvar/public_datasets/tcia/manifest-1588284345182/TCGA-LGG/TCGA-CS-5397/03-15-2001-MRI BRAIN STRYKERFUNCTIONAL MR-71991/']\n",
      "TCGA-CS-5394\n",
      "[]\n",
      "TCGA-DU-7299\n",
      "['/anvar/public_datasets/tcia/manifest-1588284345182/TCGA-LGG/TCGA-DU-7299/04-17-1991-MRI BRAIN WWO CONTRAST-84114/']\n",
      "TCGA-CS-4944\n",
      "['/anvar/public_datasets/tcia/manifest-1588284345182/TCGA-LGG/TCGA-CS-4944/02-08-2001-JHN BRAIN-IP-65472/']\n",
      "TCGA-DU-6410\n",
      "[]\n",
      "TCGA-DU-7294\n",
      "['/anvar/public_datasets/tcia/manifest-1588284345182/TCGA-LGG/TCGA-DU-7294/01-04-1989-MRI BRAIN WWO CONTRAS-19917/']\n",
      "TCGA-DU-8162\n",
      "['/anvar/public_datasets/tcia/manifest-1588284345182/TCGA-LGG/TCGA-DU-8162/10-29-1996-MRI BRAIN WWO CONTRAST-44912/']\n",
      "TCGA-CS-6668\n",
      "['/anvar/public_datasets/tcia/manifest-1588284345182/TCGA-LGG/TCGA-CS-6668/10-25-2001-MRI BRAIN per R-29896/']\n",
      "TCGA-DU-7008\n",
      "['/anvar/public_datasets/tcia/manifest-1588284345182/TCGA-LGG/TCGA-DU-7008/07-23-1983-60413/']\n",
      "TCGA-DU-A5TP\n",
      "[]\n",
      "TCGA-DU-6542\n",
      "['/anvar/public_datasets/tcia/manifest-1588284345182/TCGA-LGG/TCGA-DU-6542/05-08-1996-MRI BRAIN WWO CONTRAST-27308/']\n",
      "TCGA-DU-8158\n",
      "[]\n",
      "TCGA-DU-8167\n",
      "['/anvar/public_datasets/tcia/manifest-1588284345182/TCGA-LGG/TCGA-DU-8167/04-02-1997-MRI BRAIN WWO CONTRAST-29125/']\n",
      "TCGA-CS-6188\n",
      "['/anvar/public_datasets/tcia/manifest-1588284345182/TCGA-LGG/TCGA-CS-6188/08-12-2001-MRI BRAIN STRYKER JHN-95530/']\n",
      "TCGA-DU-8163\n",
      "[]\n",
      "TCGA-DU-6401\n",
      "[]\n",
      "TCGA-DU-6404\n",
      "['/anvar/public_datasets/tcia/manifest-1588284345182/TCGA-LGG/TCGA-DU-6404/06-29-1985-TUMOR VOLUME-62392/']\n",
      "TCGA-DU-6397\n",
      "[]\n",
      "TCGA-DU-6399\n",
      "[]\n",
      "TCGA-DU-7018\n",
      "['/anvar/public_datasets/tcia/manifest-1588284345182/TCGA-LGG/TCGA-DU-7018/12-20-1991-MRI BRAIN WWO CONTRAST-98852/']\n",
      "TCGA-DU-8168\n",
      "['/anvar/public_datasets/tcia/manifest-1588284345182/TCGA-LGG/TCGA-DU-8168/05-03-1997-MRI BRAIN WWO CONTRAST-55138/']\n",
      "TCGA-DU-6395\n",
      "[]\n"
     ]
    }
   ],
   "source": [
    "for i in range(0, len(paths)):\n",
    "    print(paths['ID'].iloc[i])\n",
    "    try:\n",
    "#         os.mkdir(savedir + paths['ID'].iloc[i] + '/')\n",
    "        print(glob.glob(rtdir + paths['ID'].iloc[i] +'/*/'))\n",
    "#         shutil.copytree(glob.glob(rtdir + paths['ID'].iloc[i] +'/*/')[0], savedir + paths['ID'].iloc[i] + '/RTSTRUCT/') \n",
    "      \n",
    "    except Exception as error:\n",
    "        print(error) \n",
    "        pass  "
   ]
  },
  {
   "cell_type": "markdown",
   "metadata": {},
   "source": [
    "## Checking if there are enough folders with RTstruct"
   ]
  },
  {
   "cell_type": "code",
   "execution_count": 53,
   "metadata": {},
   "outputs": [
    {
     "data": {
      "text/plain": [
       "0"
      ]
     },
     "execution_count": 53,
     "metadata": {},
     "output_type": "execute_result"
    }
   ],
   "source": [
    "len(glob.glob('/anvar/public_datasets/preproc_study/lgg/dicom/*/RTSTRUCT_DICOM/CT1/' ))"
   ]
  },
  {
   "cell_type": "code",
   "execution_count": 114,
   "metadata": {},
   "outputs": [
    {
     "data": {
      "text/plain": [
       "PosixPath('/anvar/public_datasets/preproc_study/lgg/dicom/TCGA-DU-6395')"
      ]
     },
     "execution_count": 114,
     "metadata": {},
     "output_type": "execute_result"
    }
   ],
   "source": [
    "patient_folder"
   ]
  },
  {
   "cell_type": "code",
   "execution_count": 285,
   "metadata": {},
   "outputs": [
    {
     "data": {
      "text/plain": [
       "[]"
      ]
     },
     "execution_count": 285,
     "metadata": {},
     "output_type": "execute_result"
    }
   ],
   "source": [
    "os.listdir('/anvar/public_datasets/preproc_study/lgg/dicom/TCGA-DU-7014/RTSTRUCT_DICOM/CT1')"
   ]
  },
  {
   "cell_type": "code",
   "execution_count": 91,
   "metadata": {},
   "outputs": [],
   "source": [
    "from dicom_csv.misc import stack_images\n",
    "\n",
    "def load_series_2(path):\n",
    "    \"\"\"Loads DICOMs in specific order coincided with SegmentationStorage ordering.\"\"\"\n",
    "    return order_series([dcmread(filename) for filename in path.glob('*')])"
   ]
  },
  {
   "cell_type": "code",
   "execution_count": null,
   "metadata": {},
   "outputs": [],
   "source": [
    "# im1 = stack_images(load_series_2(root / 'TCGA-06-0162' / 'CT1'))\n",
    "# mask1 = stack_images(load_series_2(root / 'TCGA-06-0162' / 'RTSTRUCT_DICOM' / 'CT1'))"
   ]
  }
 ],
 "metadata": {
  "kernelspec": {
   "display_name": "Python 3 (ipykernel)",
   "language": "python",
   "name": "python3"
  },
  "language_info": {
   "codemirror_mode": {
    "name": "ipython",
    "version": 3
   },
   "file_extension": ".py",
   "mimetype": "text/x-python",
   "name": "python",
   "nbconvert_exporter": "python",
   "pygments_lexer": "ipython3",
   "version": "3.9.1"
  }
 },
 "nbformat": 4,
 "nbformat_minor": 4
}
