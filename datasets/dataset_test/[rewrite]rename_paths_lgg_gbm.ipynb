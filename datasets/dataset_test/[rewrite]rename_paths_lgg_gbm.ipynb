{
 "cells": [
  {
   "cell_type": "code",
   "execution_count": 51,
   "metadata": {},
   "outputs": [],
   "source": [
    "import pydicom\n",
    "import csv\n",
    "import os"
   ]
  },
  {
   "cell_type": "code",
   "execution_count": 91,
   "metadata": {},
   "outputs": [
    {
     "data": {
      "text/plain": [
       "(67, 136)"
      ]
     },
     "execution_count": 91,
     "metadata": {},
     "output_type": "execute_result"
    }
   ],
   "source": [
    "tcia_lgg_raw = '/anvar/public_datasets/tcia/manifest-25ZdsnMy5264093150469993200/TCGA-LGG/'\n",
    "tcia_gbm_raw = '/anvar/public_datasets/tcia/manifest-21CCx8fx964169794518489879/TCGA-GBM/'\n",
    "len(os.listdir(tcia_lgg_raw)),len(os.listdir(tcia_gbm_raw))"
   ]
  },
  {
   "cell_type": "code",
   "execution_count": 92,
   "metadata": {},
   "outputs": [],
   "source": [
    "import numpy as np\n",
    "\n",
    "sub_ids = next(os.walk(tcia_lgg_raw))[1]\n",
    "\n",
    "## First, find FLAIR, T2, and T1-mprage scans based on expected file names\n",
    "flair_paths=[]\n",
    "t2_paths=[]\n",
    "t1_paths=[]\n",
    "\n",
    "for (root, __, __) in os.walk(tcia_lgg_raw):\n",
    "    ##   FLAIR\n",
    "    if  root.find('FLAIR') >0 and\\\n",
    "        root.find('T1') <0:\n",
    "        flair_paths.append(root)\n",
    "    if  root.find('flair') >0 and\\\n",
    "        root.find('T1') <0:\n",
    "        flair_paths.append(root)\n",
    "    if  root.find('Flair') >0 and\\\n",
    "        root.find('T1') <0:\n",
    "        flair_paths.append(root)\n",
    "    if  root.find('3.000000-58602') >0:\n",
    "        flair_paths.append(root)\n",
    "        \n",
    "\n",
    "    ##   T2\n",
    "    if  root.find('T2') > 0 and\\\n",
    "        root.find('FLAIR')<0:\n",
    "        t2_paths.append(root)\n",
    "    if  root.find('t2') > 0 and\\\n",
    "        root.find('FLAIR')< 0:\n",
    "        t2_paths.append(root)\n",
    "    if  root.find('FSE') > 0 and\\\n",
    "        root.find('T1')< 0:\n",
    "        t2_paths.append(root)   \n",
    "    if  root.find('fse') > 0 and\\\n",
    "        root.find('T1')< 0:\n",
    "        t2_paths.append(root)   \n",
    "    if  root.find('DOUBLEECHO') > 0 and\\\n",
    "        root.find('FLAIR')< 0:\n",
    "        t2_paths.append(root)\n",
    "        \n",
    "    ##   T1 pre\n",
    "    if  root.find('T1') > 0 and\\\n",
    "        root.find('AX') > 0 or\\\n",
    "        root.find('t1') > 0 or\\\n",
    "        root.find('MP RAGE') > 0 or\\\n",
    "        root.find('VOLUMAX') >0 or\\\n",
    "        root.find('VOLUMETRIC') >0 or\\\n",
    "        root.find('SPGR') > 0:\n",
    "        t1_paths.append(root)\n",
    "\n",
    "        \n",
    "flair_paths = np.unique(flair_paths).tolist()\n",
    "t2_paths = np.unique(t2_paths).tolist()\n",
    "t1_paths = np.unique(t1_paths).tolist()"
   ]
  },
  {
   "cell_type": "code",
   "execution_count": 93,
   "metadata": {},
   "outputs": [
    {
     "name": "stdout",
     "output_type": "stream",
     "text": [
      "66 69 90 157\n"
     ]
    }
   ],
   "source": [
    "print(len(sub_ids), len(flair_paths), len(t2_paths), len(t1_paths))"
   ]
  },
  {
   "cell_type": "code",
   "execution_count": 94,
   "metadata": {},
   "outputs": [],
   "source": [
    "# creating a list of subjects with package of four images\n",
    "import pandas as pd\n",
    "df_result = pd.DataFrame(columns = ['ID', 'T1', 'T1C', 'T2', 'FLAIR'])\n",
    "num_tag = pydicom.tag.Tag(int('0020', 16), int('0011', 16)) # series number tag\n",
    "\n",
    "for idx, sub in enumerate(sub_ids):\n",
    "    # flair\n",
    "    df_result.at[idx,'ID'] = sub\n",
    "    fn_paths = list(filter(lambda x: sub in x, flair_paths)) # grab paths for this sub\n",
    "    if len(fn_paths) == 1:\n",
    "        df_result.at[idx,'FLAIR'] = fn_paths[0]\n",
    "    # t2\n",
    "    fn_paths = list(filter(lambda x: sub in x, t2_paths)) # grab paths for this sub\n",
    "    if len(fn_paths) == 1:\n",
    "        df_result.at[idx,'T2'] = fn_paths[0]\n",
    "\n",
    "    # t1: comparing two with num tags\n",
    "    fn_paths = list(filter(lambda x: sub in x, t1_paths)) # grab paths for this sub\n",
    "    num_tag_list = []\n",
    "    for fn_path in fn_paths:\n",
    "        ds = pydicom.dcmread(fn_path+'/'+os.listdir(fn_path)[0])\n",
    "        num_tag_list.append(ds[num_tag].value)\n",
    "    try:\n",
    "        df_result.at[idx,'T1C'] = fn_paths[num_tag_list.index(max(num_tag_list))]\n",
    "        df_result.at[idx,'T1'] = fn_paths[num_tag_list.index(min(num_tag_list))]\n",
    "    except:\n",
    "        pass"
   ]
  },
  {
   "cell_type": "code",
   "execution_count": 95,
   "metadata": {},
   "outputs": [],
   "source": [
    "df_result = pd.DataFrame(columns = ['ID', 'T1', 'T1C', 'T2', 'FLAIR'])\n",
    "num_tag = pydicom.tag.Tag(int('0020', 16), int('0011', 16)) # series number tag\n",
    "\n",
    "for idx, sub in enumerate(sub_ids):\n",
    "    # flair\n",
    "    df_result.at[idx,'ID'] = sub\n",
    "    fn_paths = list(filter(lambda x: sub in x, flair_paths)) # grab paths for this sub\n",
    "    if len(fn_paths) > 0:\n",
    "        df_result.at[idx,'FLAIR'] = fn_paths[0]\n",
    "    # t2\n",
    "    fn_paths = list(filter(lambda x: sub in x, t2_paths)) # grab paths for this sub\n",
    "    if len(fn_paths) > 0:\n",
    "        df_result.at[idx,'T2'] = fn_paths[0]\n",
    "\n",
    "    # t1: comparing two with num tags\n",
    "    fn_paths = list(filter(lambda x: sub in x, t1_paths)) # grab paths for this sub\n",
    "    num_tag_list = []\n",
    "    for fn_path in fn_paths:\n",
    "        ds = pydicom.dcmread(fn_path+'/'+os.listdir(fn_path)[0])\n",
    "        num_tag_list.append(ds[num_tag].value)\n",
    "    try:\n",
    "        df_result.at[idx,'T1C'] = fn_paths[num_tag_list.index(max(num_tag_list))]\n",
    "        df_result.at[idx,'T1'] = fn_paths[num_tag_list.index(min(num_tag_list))]\n",
    "    except:\n",
    "        pass"
   ]
  },
  {
   "cell_type": "code",
   "execution_count": 96,
   "metadata": {},
   "outputs": [
    {
     "name": "stdout",
     "output_type": "stream",
     "text": [
      "<class 'pandas.core.frame.DataFrame'>\n",
      "Int64Index: 66 entries, 0 to 65\n",
      "Data columns (total 5 columns):\n",
      " #   Column  Non-Null Count  Dtype \n",
      "---  ------  --------------  ----- \n",
      " 0   ID      66 non-null     object\n",
      " 1   T1      62 non-null     object\n",
      " 2   T1C     62 non-null     object\n",
      " 3   T2      64 non-null     object\n",
      " 4   FLAIR   61 non-null     object\n",
      "dtypes: object(5)\n",
      "memory usage: 5.1+ KB\n"
     ]
    }
   ],
   "source": [
    "df_result.info()"
   ]
  },
  {
   "cell_type": "code",
   "execution_count": 97,
   "metadata": {},
   "outputs": [
    {
     "name": "stdout",
     "output_type": "stream",
     "text": [
      "/anvar/public_datasets/tcia/manifest-25ZdsnMy5264093150469993200/TCGA-LGG/TCGA-DU-7306/05-12-1993-MRI BRAIN WWO CONTRAST-11323/11.000000-AX T1 POST GD FLAIR-17891\n"
     ]
    }
   ],
   "source": [
    "print(df_result['T1C'][5])"
   ]
  },
  {
   "cell_type": "code",
   "execution_count": 98,
   "metadata": {},
   "outputs": [
    {
     "data": {
      "text/html": [
       "<div>\n",
       "<style scoped>\n",
       "    .dataframe tbody tr th:only-of-type {\n",
       "        vertical-align: middle;\n",
       "    }\n",
       "\n",
       "    .dataframe tbody tr th {\n",
       "        vertical-align: top;\n",
       "    }\n",
       "\n",
       "    .dataframe thead th {\n",
       "        text-align: right;\n",
       "    }\n",
       "</style>\n",
       "<table border=\"1\" class=\"dataframe\">\n",
       "  <thead>\n",
       "    <tr style=\"text-align: right;\">\n",
       "      <th></th>\n",
       "      <th>ID</th>\n",
       "      <th>T1</th>\n",
       "      <th>T1C</th>\n",
       "      <th>T2</th>\n",
       "      <th>FLAIR</th>\n",
       "    </tr>\n",
       "  </thead>\n",
       "  <tbody>\n",
       "    <tr>\n",
       "      <th>6</th>\n",
       "      <td>TCGA-CS-4942</td>\n",
       "      <td>/anvar/public_datasets/tcia/manifest-25ZdsnMy5...</td>\n",
       "      <td>/anvar/public_datasets/tcia/manifest-25ZdsnMy5...</td>\n",
       "      <td>NaN</td>\n",
       "      <td>/anvar/public_datasets/tcia/manifest-25ZdsnMy5...</td>\n",
       "    </tr>\n",
       "    <tr>\n",
       "      <th>7</th>\n",
       "      <td>TCGA-CS-6186</td>\n",
       "      <td>NaN</td>\n",
       "      <td>NaN</td>\n",
       "      <td>/anvar/public_datasets/tcia/manifest-25ZdsnMy5...</td>\n",
       "      <td>/anvar/public_datasets/tcia/manifest-25ZdsnMy5...</td>\n",
       "    </tr>\n",
       "    <tr>\n",
       "      <th>10</th>\n",
       "      <td>TCGA-DU-6402</td>\n",
       "      <td>/anvar/public_datasets/tcia/manifest-25ZdsnMy5...</td>\n",
       "      <td>/anvar/public_datasets/tcia/manifest-25ZdsnMy5...</td>\n",
       "      <td>NaN</td>\n",
       "      <td>NaN</td>\n",
       "    </tr>\n",
       "    <tr>\n",
       "      <th>22</th>\n",
       "      <td>TCGA-CS-6668</td>\n",
       "      <td>NaN</td>\n",
       "      <td>NaN</td>\n",
       "      <td>/anvar/public_datasets/tcia/manifest-25ZdsnMy5...</td>\n",
       "      <td>/anvar/public_datasets/tcia/manifest-25ZdsnMy5...</td>\n",
       "    </tr>\n",
       "    <tr>\n",
       "      <th>40</th>\n",
       "      <td>TCGA-CS-4938</td>\n",
       "      <td>/anvar/public_datasets/tcia/manifest-25ZdsnMy5...</td>\n",
       "      <td>/anvar/public_datasets/tcia/manifest-25ZdsnMy5...</td>\n",
       "      <td>/anvar/public_datasets/tcia/manifest-25ZdsnMy5...</td>\n",
       "      <td>NaN</td>\n",
       "    </tr>\n",
       "    <tr>\n",
       "      <th>45</th>\n",
       "      <td>TCGA-CS-5390</td>\n",
       "      <td>/anvar/public_datasets/tcia/manifest-25ZdsnMy5...</td>\n",
       "      <td>/anvar/public_datasets/tcia/manifest-25ZdsnMy5...</td>\n",
       "      <td>/anvar/public_datasets/tcia/manifest-25ZdsnMy5...</td>\n",
       "      <td>NaN</td>\n",
       "    </tr>\n",
       "    <tr>\n",
       "      <th>54</th>\n",
       "      <td>TCGA-CS-5394</td>\n",
       "      <td>/anvar/public_datasets/tcia/manifest-25ZdsnMy5...</td>\n",
       "      <td>/anvar/public_datasets/tcia/manifest-25ZdsnMy5...</td>\n",
       "      <td>/anvar/public_datasets/tcia/manifest-25ZdsnMy5...</td>\n",
       "      <td>NaN</td>\n",
       "    </tr>\n",
       "    <tr>\n",
       "      <th>60</th>\n",
       "      <td>TCGA-DU-8158</td>\n",
       "      <td>/anvar/public_datasets/tcia/manifest-25ZdsnMy5...</td>\n",
       "      <td>/anvar/public_datasets/tcia/manifest-25ZdsnMy5...</td>\n",
       "      <td>/anvar/public_datasets/tcia/manifest-25ZdsnMy5...</td>\n",
       "      <td>NaN</td>\n",
       "    </tr>\n",
       "    <tr>\n",
       "      <th>62</th>\n",
       "      <td>TCGA-CS-6667</td>\n",
       "      <td>NaN</td>\n",
       "      <td>NaN</td>\n",
       "      <td>/anvar/public_datasets/tcia/manifest-25ZdsnMy5...</td>\n",
       "      <td>/anvar/public_datasets/tcia/manifest-25ZdsnMy5...</td>\n",
       "    </tr>\n",
       "    <tr>\n",
       "      <th>65</th>\n",
       "      <td>TCGA-DU-6395</td>\n",
       "      <td>NaN</td>\n",
       "      <td>NaN</td>\n",
       "      <td>/anvar/public_datasets/tcia/manifest-25ZdsnMy5...</td>\n",
       "      <td>/anvar/public_datasets/tcia/manifest-25ZdsnMy5...</td>\n",
       "    </tr>\n",
       "  </tbody>\n",
       "</table>\n",
       "</div>"
      ],
      "text/plain": [
       "              ID                                                 T1  \\\n",
       "6   TCGA-CS-4942  /anvar/public_datasets/tcia/manifest-25ZdsnMy5...   \n",
       "7   TCGA-CS-6186                                                NaN   \n",
       "10  TCGA-DU-6402  /anvar/public_datasets/tcia/manifest-25ZdsnMy5...   \n",
       "22  TCGA-CS-6668                                                NaN   \n",
       "40  TCGA-CS-4938  /anvar/public_datasets/tcia/manifest-25ZdsnMy5...   \n",
       "45  TCGA-CS-5390  /anvar/public_datasets/tcia/manifest-25ZdsnMy5...   \n",
       "54  TCGA-CS-5394  /anvar/public_datasets/tcia/manifest-25ZdsnMy5...   \n",
       "60  TCGA-DU-8158  /anvar/public_datasets/tcia/manifest-25ZdsnMy5...   \n",
       "62  TCGA-CS-6667                                                NaN   \n",
       "65  TCGA-DU-6395                                                NaN   \n",
       "\n",
       "                                                  T1C  \\\n",
       "6   /anvar/public_datasets/tcia/manifest-25ZdsnMy5...   \n",
       "7                                                 NaN   \n",
       "10  /anvar/public_datasets/tcia/manifest-25ZdsnMy5...   \n",
       "22                                                NaN   \n",
       "40  /anvar/public_datasets/tcia/manifest-25ZdsnMy5...   \n",
       "45  /anvar/public_datasets/tcia/manifest-25ZdsnMy5...   \n",
       "54  /anvar/public_datasets/tcia/manifest-25ZdsnMy5...   \n",
       "60  /anvar/public_datasets/tcia/manifest-25ZdsnMy5...   \n",
       "62                                                NaN   \n",
       "65                                                NaN   \n",
       "\n",
       "                                                   T2  \\\n",
       "6                                                 NaN   \n",
       "7   /anvar/public_datasets/tcia/manifest-25ZdsnMy5...   \n",
       "10                                                NaN   \n",
       "22  /anvar/public_datasets/tcia/manifest-25ZdsnMy5...   \n",
       "40  /anvar/public_datasets/tcia/manifest-25ZdsnMy5...   \n",
       "45  /anvar/public_datasets/tcia/manifest-25ZdsnMy5...   \n",
       "54  /anvar/public_datasets/tcia/manifest-25ZdsnMy5...   \n",
       "60  /anvar/public_datasets/tcia/manifest-25ZdsnMy5...   \n",
       "62  /anvar/public_datasets/tcia/manifest-25ZdsnMy5...   \n",
       "65  /anvar/public_datasets/tcia/manifest-25ZdsnMy5...   \n",
       "\n",
       "                                                FLAIR  \n",
       "6   /anvar/public_datasets/tcia/manifest-25ZdsnMy5...  \n",
       "7   /anvar/public_datasets/tcia/manifest-25ZdsnMy5...  \n",
       "10                                                NaN  \n",
       "22  /anvar/public_datasets/tcia/manifest-25ZdsnMy5...  \n",
       "40                                                NaN  \n",
       "45                                                NaN  \n",
       "54                                                NaN  \n",
       "60                                                NaN  \n",
       "62  /anvar/public_datasets/tcia/manifest-25ZdsnMy5...  \n",
       "65  /anvar/public_datasets/tcia/manifest-25ZdsnMy5...  "
      ]
     },
     "execution_count": 98,
     "metadata": {},
     "output_type": "execute_result"
    }
   ],
   "source": [
    "df_result[df_result.isna().any(axis=1)]"
   ]
  },
  {
   "cell_type": "code",
   "execution_count": 10,
   "metadata": {},
   "outputs": [
    {
     "data": {
      "text/plain": [
       "array([['TCGA-DU-6395', nan, nan,\n",
       "        '/anvar/public_datasets/tcia/manifest-25ZdsnMy5264093150469993200/TCGA-LGG/TCGA-DU-6395/02-09-1983-BRAINGD-38915/2.000000-ScanningSequence fse-66259',\n",
       "        '/anvar/public_datasets/tcia/manifest-25ZdsnMy5264093150469993200/TCGA-LGG/TCGA-DU-6395/02-09-1983-BRAINGD-38915/3.000000-ScanningSequence flair-95070']],\n",
       "      dtype=object)"
      ]
     },
     "execution_count": 10,
     "metadata": {},
     "output_type": "execute_result"
    }
   ],
   "source": [
    "df_result[df_result['ID'] == 'TCGA-DU-6395'].values"
   ]
  },
  {
   "cell_type": "code",
   "execution_count": 99,
   "metadata": {},
   "outputs": [],
   "source": [
    "df_result.at[6, 'T2'] ='/anvar/public_datasets/tcia/manifest-25ZdsnMy5264093150469993200/TCGA-LGG/TCGA-CS-4942/TCGA-CS-4942/02-22-1997-MRI BRAIN WITHO-04689/401.000000-DUAL AX SE-07653'\n",
    "df_result.at[10,'FLAIR'] = '/anvar/public_datasets/tcia/manifest-25ZdsnMy5264093150469993200/TCGA-LGG/TCGA-DU-6402/12-31-1983-WAND BRAIN-73244/1.000000-axial diff.-30337'\n",
    "df_result.at[10, 'T2'] = '/anvar/public_datasets/tcia/manifest-25ZdsnMy5264093150469993200/TCGA-LGG/TCGA-DU-6402/12-31-1983-WAND BRAIN-73244/4.000000-axial perf.-20953'\n",
    "df_result.at[40, 'FLAIR'] = '/anvar/public_datasets/tcia/manifest-25ZdsnMy5264093150469993200/TCGA-LGG/TCGA-CS-4938/04-15-1996-JHN BRAIN MR OP-84760/2.000000-FASTBRAINEPIDIFF-74032'\n",
    "df_result.at[45, 'FLAIR'] ='/anvar/public_datasets/tcia/manifest-21CCx8fx964169794518489879/TCGA-LGG/TCGA-CS-5390/03-07-1996-BRAINSTRYKER-97078/5.000000-BRAINSTRYKERDIFFUSION-72204'\n",
    "df_result.at[54, 'FLAIR'] = '/anvar/public_datasets/tcia/manifest-25ZdsnMy5264093150469993200/TCGA-LGG/TCGA-CS-5394/12-05-1995-JHN BRAIN-97935/4.000000-RETROORBITT2LATEECHOB-49308'\n",
    "df_result.at[60, 'FLAIR'] = '/anvar/public_datasets/tcia/manifest-25ZdsnMy5264093150469993200/TCGA-LGG/TCGA-DU-8158/09-22-1986-BRAIN WWO-21326/4.000000-DIFF 1000 24 FOV-88158'"
   ]
  },
  {
   "cell_type": "code",
   "execution_count": 100,
   "metadata": {},
   "outputs": [
    {
     "data": {
      "text/html": [
       "<div>\n",
       "<style scoped>\n",
       "    .dataframe tbody tr th:only-of-type {\n",
       "        vertical-align: middle;\n",
       "    }\n",
       "\n",
       "    .dataframe tbody tr th {\n",
       "        vertical-align: top;\n",
       "    }\n",
       "\n",
       "    .dataframe thead th {\n",
       "        text-align: right;\n",
       "    }\n",
       "</style>\n",
       "<table border=\"1\" class=\"dataframe\">\n",
       "  <thead>\n",
       "    <tr style=\"text-align: right;\">\n",
       "      <th></th>\n",
       "      <th>ID</th>\n",
       "      <th>T1</th>\n",
       "      <th>T1C</th>\n",
       "      <th>T2</th>\n",
       "      <th>FLAIR</th>\n",
       "    </tr>\n",
       "  </thead>\n",
       "  <tbody>\n",
       "    <tr>\n",
       "      <th>7</th>\n",
       "      <td>TCGA-CS-6186</td>\n",
       "      <td>NaN</td>\n",
       "      <td>NaN</td>\n",
       "      <td>/anvar/public_datasets/tcia/manifest-25ZdsnMy5...</td>\n",
       "      <td>/anvar/public_datasets/tcia/manifest-25ZdsnMy5...</td>\n",
       "    </tr>\n",
       "    <tr>\n",
       "      <th>22</th>\n",
       "      <td>TCGA-CS-6668</td>\n",
       "      <td>NaN</td>\n",
       "      <td>NaN</td>\n",
       "      <td>/anvar/public_datasets/tcia/manifest-25ZdsnMy5...</td>\n",
       "      <td>/anvar/public_datasets/tcia/manifest-25ZdsnMy5...</td>\n",
       "    </tr>\n",
       "    <tr>\n",
       "      <th>62</th>\n",
       "      <td>TCGA-CS-6667</td>\n",
       "      <td>NaN</td>\n",
       "      <td>NaN</td>\n",
       "      <td>/anvar/public_datasets/tcia/manifest-25ZdsnMy5...</td>\n",
       "      <td>/anvar/public_datasets/tcia/manifest-25ZdsnMy5...</td>\n",
       "    </tr>\n",
       "    <tr>\n",
       "      <th>65</th>\n",
       "      <td>TCGA-DU-6395</td>\n",
       "      <td>NaN</td>\n",
       "      <td>NaN</td>\n",
       "      <td>/anvar/public_datasets/tcia/manifest-25ZdsnMy5...</td>\n",
       "      <td>/anvar/public_datasets/tcia/manifest-25ZdsnMy5...</td>\n",
       "    </tr>\n",
       "  </tbody>\n",
       "</table>\n",
       "</div>"
      ],
      "text/plain": [
       "              ID   T1  T1C                                                 T2  \\\n",
       "7   TCGA-CS-6186  NaN  NaN  /anvar/public_datasets/tcia/manifest-25ZdsnMy5...   \n",
       "22  TCGA-CS-6668  NaN  NaN  /anvar/public_datasets/tcia/manifest-25ZdsnMy5...   \n",
       "62  TCGA-CS-6667  NaN  NaN  /anvar/public_datasets/tcia/manifest-25ZdsnMy5...   \n",
       "65  TCGA-DU-6395  NaN  NaN  /anvar/public_datasets/tcia/manifest-25ZdsnMy5...   \n",
       "\n",
       "                                                FLAIR  \n",
       "7   /anvar/public_datasets/tcia/manifest-25ZdsnMy5...  \n",
       "22  /anvar/public_datasets/tcia/manifest-25ZdsnMy5...  \n",
       "62  /anvar/public_datasets/tcia/manifest-25ZdsnMy5...  \n",
       "65  /anvar/public_datasets/tcia/manifest-25ZdsnMy5...  "
      ]
     },
     "execution_count": 100,
     "metadata": {},
     "output_type": "execute_result"
    }
   ],
   "source": [
    "df_result[df_result.isna().any(axis=1)]"
   ]
  },
  {
   "cell_type": "code",
   "execution_count": null,
   "metadata": {},
   "outputs": [],
   "source": []
  },
  {
   "cell_type": "code",
   "execution_count": 103,
   "metadata": {},
   "outputs": [
    {
     "data": {
      "text/plain": [
       "['1101.000000-STRYKER-27064',\n",
       " '203.000000-eB 0-99844',\n",
       " '204.000000-eB1000I-81870',\n",
       " '202.000000-Reg - DIFFUSION SENSE-00561',\n",
       " '1201.000000-T1 COR POST-35170',\n",
       " '205.000000-dadc-52244',\n",
       " '605.000000-MRA-59702',\n",
       " '604.000000-LT   MRA-27206',\n",
       " '701.000000-AX PD-23493',\n",
       " '601.000000-3D MC  MRA-29688',\n",
       " '1301.000000-T1 SAG POST-08017',\n",
       " '801.000000-T2WFFE bleed-67839',\n",
       " '201.000000-DIFFUSION-10198',\n",
       " '1001.000000-T1 SE POST-94212',\n",
       " '901.000000-T1 SE PRE-16483',\n",
       " '301.000000-T1 SAG SE-41348',\n",
       " '401.000000-T2 AX FLAIR-72445',\n",
       " '101.000000-SurveyMST-18717',\n",
       " '602.000000-3D MC  MRA-83030',\n",
       " '603.000000-RT   MRA-44425',\n",
       " '501.000000-T2-WHOLE BRAIN-32557']"
      ]
     },
     "execution_count": 103,
     "metadata": {},
     "output_type": "execute_result"
    }
   ],
   "source": [
    "os.listdir('/anvar/public_datasets/tcia/manifest-25ZdsnMy5264093150469993200/TCGA-LGG/TCGA-CS-6186/06-01-2000-MRI BRAIN per R-97608')"
   ]
  },
  {
   "cell_type": "code",
   "execution_count": 107,
   "metadata": {},
   "outputs": [],
   "source": [
    "import ants"
   ]
  },
  {
   "cell_type": "code",
   "execution_count": 108,
   "metadata": {},
   "outputs": [],
   "source": [
    "FixedIm = ants.dicom_read('/anvar/public_datasets/tcia/manifest-25ZdsnMy5264093150469993200/TCGA-LGG/TCGA-CS-6186/06-01-2000-MRI BRAIN per R-97608/1101.000000-STRYKER-27064')"
   ]
  },
  {
   "cell_type": "code",
   "execution_count": 112,
   "metadata": {},
   "outputs": [
    {
     "ename": "AttributeError",
     "evalue": "module 'ants' has no attribute 'image_plot'",
     "output_type": "error",
     "traceback": [
      "\u001b[0;31m---------------------------------------------------------------------------\u001b[0m",
      "\u001b[0;31mAttributeError\u001b[0m                            Traceback (most recent call last)",
      "\u001b[0;32m/tmp/ipykernel_3922261/3629239483.py\u001b[0m in \u001b[0;36m<module>\u001b[0;34m\u001b[0m\n\u001b[0;32m----> 1\u001b[0;31m \u001b[0mants\u001b[0m\u001b[0;34m.\u001b[0m\u001b[0mimage_plot\u001b[0m\u001b[0;34m(\u001b[0m\u001b[0mFixedIm\u001b[0m\u001b[0;34m)\u001b[0m\u001b[0;34m\u001b[0m\u001b[0;34m\u001b[0m\u001b[0m\n\u001b[0m",
      "\u001b[0;31mAttributeError\u001b[0m: module 'ants' has no attribute 'image_plot'"
     ]
    }
   ],
   "source": [
    "ants.image_plot(FixedIm)"
   ]
  },
  {
   "cell_type": "code",
   "execution_count": 104,
   "metadata": {},
   "outputs": [
    {
     "data": {
      "text/plain": [
       "['300.000000-STRYKER Glioma Segmentation-41290',\n",
       " '300.000000-T2 AX FLAIR Glioma Segmentation-87268',\n",
       " '300.000000-STRYKER Glioma Segmentation Corrected-31145',\n",
       " '300.000000-T1 SE PRE Glioma Segmentation Corrected-42769',\n",
       " '300.000000-T2-WHOLE BRAIN Glioma Segmentation-68869',\n",
       " '300.000000-T2-WHOLE BRAIN Glioma Segmentation Corrected-83177',\n",
       " '300.000000-T1 SE PRE Glioma Segmentation-45631',\n",
       " '300.000000-T2 AX FLAIR Glioma Segmentation Corrected-82026']"
      ]
     },
     "execution_count": 104,
     "metadata": {},
     "output_type": "execute_result"
    }
   ],
   "source": [
    "os.listdir('/anvar/public_datasets/tcia/manifest-1588284345182/TCGA-LGG/TCGA-CS-6186/06-01-2000-MRI BRAIN per R-97608')"
   ]
  },
  {
   "cell_type": "code",
   "execution_count": 105,
   "metadata": {},
   "outputs": [],
   "source": [
    "# df_result.to_csv('lgg_paths.csv')"
   ]
  },
  {
   "cell_type": "code",
   "execution_count": 14,
   "metadata": {},
   "outputs": [],
   "source": [
    "paths = pd.read_csv('../lgg_paths.csv')"
   ]
  },
  {
   "cell_type": "markdown",
   "metadata": {},
   "source": [
    "## Saving folders"
   ]
  },
  {
   "cell_type": "code",
   "execution_count": 17,
   "metadata": {},
   "outputs": [],
   "source": [
    "#!conda install -c conda-forge dcm2niix"
   ]
  },
  {
   "cell_type": "code",
   "execution_count": 42,
   "metadata": {},
   "outputs": [
    {
     "data": {
      "text/plain": [
       "107"
      ]
     },
     "execution_count": 42,
     "metadata": {},
     "output_type": "execute_result"
    }
   ],
   "source": [
    "import glob2\n",
    "len(glob2.glob(savedir +'/**/t1.nii.gz'))"
   ]
  },
  {
   "cell_type": "code",
   "execution_count": 15,
   "metadata": {},
   "outputs": [],
   "source": [
    "paths = pd.read_csv('../lgg_paths.csv')"
   ]
  },
  {
   "cell_type": "code",
   "execution_count": 16,
   "metadata": {},
   "outputs": [
    {
     "data": {
      "text/plain": [
       "['TCGA-02-0086',\n",
       " 'TCGA-02-0048',\n",
       " 'TCGA-02-0102',\n",
       " 'TCGA-02-0059',\n",
       " 'TCGA-02-0069',\n",
       " 'TCGA-19-2624',\n",
       " 'TCGA-06-0182',\n",
       " 'TCGA-08-0360',\n",
       " 'TCGA-06-0168',\n",
       " 'TCGA-02-0006',\n",
       " 'TCGA-19-2631',\n",
       " 'TCGA-06-0133',\n",
       " 'TCGA-12-1094',\n",
       " 'TCGA-12-1602',\n",
       " 'TCGA-06-2570',\n",
       " 'TCGA-06-0119',\n",
       " 'TCGA-06-0145',\n",
       " 'TCGA-08-0509',\n",
       " 'TCGA-06-0649',\n",
       " 'TCGA-06-5408',\n",
       " 'TCGA-02-0116',\n",
       " 'TCGA-06-0188',\n",
       " 'TCGA-76-6661',\n",
       " 'TCGA-02-0047',\n",
       " 'TCGA-12-3650',\n",
       " 'TCGA-08-0354',\n",
       " 'TCGA-02-0064',\n",
       " 'TCGA-08-0529',\n",
       " 'TCGA-14-1825',\n",
       " 'TCGA-06-0162',\n",
       " 'TCGA-06-0213',\n",
       " 'TCGA-02-0033',\n",
       " 'TCGA-08-0359',\n",
       " 'TCGA-06-0241',\n",
       " 'TCGA-08-0357',\n",
       " 'TCGA-02-0054',\n",
       " 'TCGA-06-0184',\n",
       " 'TCGA-08-0358',\n",
       " 'TCGA-12-1601',\n",
       " 'TCGA-06-5413',\n",
       " 'TCGA-14-1829',\n",
       " 'TCGA-76-6191',\n",
       " 'TCGA-02-0060',\n",
       " 'TCGA-02-0075',\n",
       " 'TCGA-06-0177',\n",
       " 'TCGA-06-5412',\n",
       " 'TCGA-06-0154',\n",
       " 'TCGA-08-0350',\n",
       " 'TCGA-08-0521',\n",
       " 'TCGA-06-0179',\n",
       " 'TCGA-19-5951',\n",
       " 'TCGA-12-1598',\n",
       " 'TCGA-14-0789',\n",
       " 'TCGA-12-0616',\n",
       " 'TCGA-02-0070',\n",
       " 'TCGA-06-1084',\n",
       " 'TCGA-12-0829',\n",
       " 'TCGA-76-4932',\n",
       " 'TCGA-02-0068',\n",
       " 'TCGA-76-6282',\n",
       " 'TCGA-27-1838',\n",
       " 'TCGA-08-0385',\n",
       " 'TCGA-08-0510',\n",
       " 'TCGA-12-1098',\n",
       " 'TCGA-08-0524',\n",
       " 'TCGA-08-0512',\n",
       " 'TCGA-08-0389',\n",
       " 'TCGA-14-1794',\n",
       " 'TCGA-19-1789',\n",
       " 'TCGA-02-0009',\n",
       " 'TCGA-06-0122',\n",
       " 'TCGA-08-0355',\n",
       " 'TCGA-06-6389',\n",
       " 'TCGA-06-0128',\n",
       " 'TCGA-06-0166',\n",
       " 'TCGA-06-0190',\n",
       " 'TCGA-27-2526',\n",
       " 'TCGA-06-0132',\n",
       " 'TCGA-06-0192',\n",
       " 'TCGA-02-0027',\n",
       " 'TCGA-06-0137',\n",
       " 'TCGA-12-0776',\n",
       " 'TCGA-76-6657',\n",
       " 'TCGA-06-0176',\n",
       " 'TCGA-08-0356',\n",
       " 'TCGA-76-6662',\n",
       " 'TCGA-08-0522',\n",
       " 'TCGA-06-1802',\n",
       " 'TCGA-19-5960',\n",
       " 'TCGA-08-0390',\n",
       " 'TCGA-14-1456',\n",
       " 'TCGA-06-0158',\n",
       " 'TCGA-CS-6669',\n",
       " 'TCGA-06-0139',\n",
       " 'TCGA-08-0353',\n",
       " 'TCGA-06-0238',\n",
       " 'TCGA-76-4935',\n",
       " 'TCGA-14-3477',\n",
       " 'TCGA-02-0106',\n",
       " 'TCGA-06-0644',\n",
       " 'TCGA-12-1093',\n",
       " 'TCGA-19-0963',\n",
       " 'TCGA-27-1834',\n",
       " 'TCGA-02-0003',\n",
       " 'TCGA-06-0175',\n",
       " 'TCGA-06-0187',\n",
       " 'TCGA-76-6664',\n",
       " 'TCGA-76-6663',\n",
       " 'TCGA-76-6285',\n",
       " 'TCGA-76-4934',\n",
       " 'TCGA-02-0087',\n",
       " 'TCGA-08-0392',\n",
       " 'TCGA-19-1390',\n",
       " 'TCGA-02-0085',\n",
       " 'TCGA-06-0185',\n",
       " 'TCGA-06-0130',\n",
       " 'TCGA-06-0240',\n",
       " 'TCGA-02-0034',\n",
       " 'TCGA-06-0149',\n",
       " 'TCGA-02-0011',\n",
       " 'TCGA-06-0138',\n",
       " 'TCGA-76-6280',\n",
       " 'TCGA-19-5954',\n",
       " 'TCGA-06-0189',\n",
       " 'TCGA-76-6193',\n",
       " 'TCGA-06-0164',\n",
       " 'TCGA-06-5417',\n",
       " 'TCGA-19-5958',\n",
       " 'TCGA-76-6656',\n",
       " 'TCGA-06-0646',\n",
       " 'TCGA-02-0046',\n",
       " 'TCGA-08-0352',\n",
       " 'TCGA-06-0142',\n",
       " 'TCGA-06-0648',\n",
       " 'TCGA-02-0037',\n",
       " 'TCGA-08-0520']"
      ]
     },
     "execution_count": 16,
     "metadata": {},
     "output_type": "execute_result"
    }
   ],
   "source": [
    "os.listdir('/anvar/public_datasets/tcia/training_data')"
   ]
  },
  {
   "cell_type": "code",
   "execution_count": 17,
   "metadata": {},
   "outputs": [],
   "source": [
    "basedir = '/anvar/public_datasets/tcia/'\n",
    "savedir = '/anvar/public_datasets/preproc_study/lgg/orig/'"
   ]
  },
  {
   "cell_type": "code",
   "execution_count": 18,
   "metadata": {},
   "outputs": [
    {
     "ename": "FileExistsError",
     "evalue": "[Errno 17] File exists: '/anvar/public_datasets/preproc_study/lgg/orig/'",
     "output_type": "error",
     "traceback": [
      "\u001b[0;31m---------------------------------------------------------------------------\u001b[0m",
      "\u001b[0;31mFileExistsError\u001b[0m                           Traceback (most recent call last)",
      "\u001b[0;32m/tmp/ipykernel_3922261/2533208496.py\u001b[0m in \u001b[0;36m<module>\u001b[0;34m\u001b[0m\n\u001b[0;32m----> 1\u001b[0;31m \u001b[0mos\u001b[0m\u001b[0;34m.\u001b[0m\u001b[0mmakedirs\u001b[0m\u001b[0;34m(\u001b[0m\u001b[0;34m'/anvar/public_datasets/preproc_study/lgg/orig/'\u001b[0m\u001b[0;34m)\u001b[0m\u001b[0;34m\u001b[0m\u001b[0;34m\u001b[0m\u001b[0m\n\u001b[0m",
      "\u001b[0;32m~/miniconda3/lib/python3.9/os.py\u001b[0m in \u001b[0;36mmakedirs\u001b[0;34m(name, mode, exist_ok)\u001b[0m\n\u001b[1;32m    223\u001b[0m             \u001b[0;32mreturn\u001b[0m\u001b[0;34m\u001b[0m\u001b[0;34m\u001b[0m\u001b[0m\n\u001b[1;32m    224\u001b[0m     \u001b[0;32mtry\u001b[0m\u001b[0;34m:\u001b[0m\u001b[0;34m\u001b[0m\u001b[0;34m\u001b[0m\u001b[0m\n\u001b[0;32m--> 225\u001b[0;31m         \u001b[0mmkdir\u001b[0m\u001b[0;34m(\u001b[0m\u001b[0mname\u001b[0m\u001b[0;34m,\u001b[0m \u001b[0mmode\u001b[0m\u001b[0;34m)\u001b[0m\u001b[0;34m\u001b[0m\u001b[0;34m\u001b[0m\u001b[0m\n\u001b[0m\u001b[1;32m    226\u001b[0m     \u001b[0;32mexcept\u001b[0m \u001b[0mOSError\u001b[0m\u001b[0;34m:\u001b[0m\u001b[0;34m\u001b[0m\u001b[0;34m\u001b[0m\u001b[0m\n\u001b[1;32m    227\u001b[0m         \u001b[0;31m# Cannot rely on checking for EEXIST, since the operating system\u001b[0m\u001b[0;34m\u001b[0m\u001b[0;34m\u001b[0m\u001b[0;34m\u001b[0m\u001b[0m\n",
      "\u001b[0;31mFileExistsError\u001b[0m: [Errno 17] File exists: '/anvar/public_datasets/preproc_study/lgg/orig/'"
     ]
    }
   ],
   "source": [
    "os.makedirs('/anvar/public_datasets/preproc_study/lgg/orig/')"
   ]
  },
  {
   "cell_type": "code",
   "execution_count": null,
   "metadata": {},
   "outputs": [],
   "source": []
  },
  {
   "cell_type": "code",
   "execution_count": 19,
   "metadata": {
    "scrolled": true
   },
   "outputs": [
    {
     "name": "stdout",
     "output_type": "stream",
     "text": [
      "TCGA-DU-7019\n",
      "TCGA-DU-7302\n"
     ]
    },
    {
     "ename": "KeyboardInterrupt",
     "evalue": "",
     "output_type": "error",
     "traceback": [
      "\u001b[0;31m---------------------------------------------------------------------------\u001b[0m",
      "\u001b[0;31mKeyboardInterrupt\u001b[0m                         Traceback (most recent call last)",
      "\u001b[0;32m/tmp/ipykernel_3922261/3605224902.py\u001b[0m in \u001b[0;36m<module>\u001b[0;34m\u001b[0m\n\u001b[1;32m     17\u001b[0m         dicom2nifti.dicom_series_to_nifti(basedir + paths['T2'].iloc[i][1:], \n\u001b[1;32m     18\u001b[0m                                           savedir + paths['ID'].iloc[i] + '/t2.nii.gz')\n\u001b[0;32m---> 19\u001b[0;31m         dicom2nifti.dicom_series_to_nifti(basedir + paths['T1C'].iloc[i][1:], \n\u001b[0m\u001b[1;32m     20\u001b[0m                                           savedir + paths['ID'].iloc[i] + '/t1c.nii.gz')\n\u001b[1;32m     21\u001b[0m         dicom2nifti.dicom_series_to_nifti(basedir + paths['T1'].iloc[i][1:], \n",
      "\u001b[0;32m~/miniconda3/lib/python3.9/site-packages/dicom2nifti/convert_dicom.py\u001b[0m in \u001b[0;36mdicom_series_to_nifti\u001b[0;34m(original_dicom_directory, output_file, reorient_nifti)\u001b[0m\n\u001b[1;32m     76\u001b[0m         \u001b[0mdicom_input\u001b[0m \u001b[0;34m=\u001b[0m \u001b[0mcommon\u001b[0m\u001b[0;34m.\u001b[0m\u001b[0mread_dicom_directory\u001b[0m\u001b[0;34m(\u001b[0m\u001b[0mdicom_directory\u001b[0m\u001b[0;34m)\u001b[0m\u001b[0;34m\u001b[0m\u001b[0;34m\u001b[0m\u001b[0m\n\u001b[1;32m     77\u001b[0m \u001b[0;34m\u001b[0m\u001b[0m\n\u001b[0;32m---> 78\u001b[0;31m         \u001b[0;32mreturn\u001b[0m \u001b[0mdicom_array_to_nifti\u001b[0m\u001b[0;34m(\u001b[0m\u001b[0mdicom_input\u001b[0m\u001b[0;34m,\u001b[0m \u001b[0moutput_file\u001b[0m\u001b[0;34m,\u001b[0m \u001b[0mreorient_nifti\u001b[0m\u001b[0;34m)\u001b[0m\u001b[0;34m\u001b[0m\u001b[0;34m\u001b[0m\u001b[0m\n\u001b[0m\u001b[1;32m     79\u001b[0m \u001b[0;34m\u001b[0m\u001b[0m\n\u001b[1;32m     80\u001b[0m     \u001b[0;32mexcept\u001b[0m \u001b[0mAttributeError\u001b[0m \u001b[0;32mas\u001b[0m \u001b[0mexception\u001b[0m\u001b[0;34m:\u001b[0m\u001b[0;34m\u001b[0m\u001b[0;34m\u001b[0m\u001b[0m\n",
      "\u001b[0;32m~/miniconda3/lib/python3.9/site-packages/dicom2nifti/convert_dicom.py\u001b[0m in \u001b[0;36mdicom_array_to_nifti\u001b[0;34m(dicom_list, output_file, reorient_nifti)\u001b[0m\n\u001b[1;32m    130\u001b[0m     \u001b[0;31m# do image reorientation if needed\u001b[0m\u001b[0;34m\u001b[0m\u001b[0;34m\u001b[0m\u001b[0;34m\u001b[0m\u001b[0m\n\u001b[1;32m    131\u001b[0m     \u001b[0;32mif\u001b[0m \u001b[0mreorient_nifti\u001b[0m \u001b[0;32mor\u001b[0m \u001b[0msettings\u001b[0m\u001b[0;34m.\u001b[0m\u001b[0mresample\u001b[0m\u001b[0;34m:\u001b[0m\u001b[0;34m\u001b[0m\u001b[0;34m\u001b[0m\u001b[0m\n\u001b[0;32m--> 132\u001b[0;31m         \u001b[0mresults\u001b[0m\u001b[0;34m[\u001b[0m\u001b[0;34m'NII'\u001b[0m\u001b[0;34m]\u001b[0m \u001b[0;34m=\u001b[0m \u001b[0mimage_reorientation\u001b[0m\u001b[0;34m.\u001b[0m\u001b[0mreorient_image\u001b[0m\u001b[0;34m(\u001b[0m\u001b[0mresults\u001b[0m\u001b[0;34m[\u001b[0m\u001b[0;34m'NII'\u001b[0m\u001b[0;34m]\u001b[0m\u001b[0;34m,\u001b[0m \u001b[0mresults\u001b[0m\u001b[0;34m[\u001b[0m\u001b[0;34m'NII_FILE'\u001b[0m\u001b[0;34m]\u001b[0m\u001b[0;34m)\u001b[0m\u001b[0;34m\u001b[0m\u001b[0;34m\u001b[0m\u001b[0m\n\u001b[0m\u001b[1;32m    133\u001b[0m \u001b[0;34m\u001b[0m\u001b[0m\n\u001b[1;32m    134\u001b[0m     \u001b[0;31m# resampling needs to be after reorientation\u001b[0m\u001b[0;34m\u001b[0m\u001b[0;34m\u001b[0m\u001b[0;34m\u001b[0m\u001b[0m\n",
      "\u001b[0;32m~/miniconda3/lib/python3.9/site-packages/dicom2nifti/image_reorientation.py\u001b[0m in \u001b[0;36mreorient_image\u001b[0;34m(input_image, output_image)\u001b[0m\n\u001b[1;32m     83\u001b[0m     \u001b[0moutput\u001b[0m\u001b[0;34m.\u001b[0m\u001b[0mheader\u001b[0m\u001b[0;34m.\u001b[0m\u001b[0mset_slope_inter\u001b[0m\u001b[0;34m(\u001b[0m\u001b[0;36m1\u001b[0m\u001b[0;34m,\u001b[0m \u001b[0;36m0\u001b[0m\u001b[0;34m)\u001b[0m\u001b[0;34m\u001b[0m\u001b[0;34m\u001b[0m\u001b[0m\n\u001b[1;32m     84\u001b[0m     \u001b[0moutput\u001b[0m\u001b[0;34m.\u001b[0m\u001b[0mheader\u001b[0m\u001b[0;34m.\u001b[0m\u001b[0mset_xyzt_units\u001b[0m\u001b[0;34m(\u001b[0m\u001b[0;36m2\u001b[0m\u001b[0;34m)\u001b[0m  \u001b[0;31m# set units for xyz (leave t as unknown)\u001b[0m\u001b[0;34m\u001b[0m\u001b[0;34m\u001b[0m\u001b[0m\n\u001b[0;32m---> 85\u001b[0;31m     \u001b[0moutput\u001b[0m\u001b[0;34m.\u001b[0m\u001b[0mto_filename\u001b[0m\u001b[0;34m(\u001b[0m\u001b[0moutput_image\u001b[0m\u001b[0;34m)\u001b[0m\u001b[0;34m\u001b[0m\u001b[0;34m\u001b[0m\u001b[0m\n\u001b[0m\u001b[1;32m     86\u001b[0m     \u001b[0;32mreturn\u001b[0m \u001b[0moutput\u001b[0m\u001b[0;34m\u001b[0m\u001b[0;34m\u001b[0m\u001b[0m\n\u001b[1;32m     87\u001b[0m \u001b[0;34m\u001b[0m\u001b[0m\n",
      "\u001b[0;32m~/miniconda3/lib/python3.9/site-packages/nibabel/filebasedimages.py\u001b[0m in \u001b[0;36mto_filename\u001b[0;34m(self, filename)\u001b[0m\n\u001b[1;32m    331\u001b[0m         \"\"\"\n\u001b[1;32m    332\u001b[0m         \u001b[0mself\u001b[0m\u001b[0;34m.\u001b[0m\u001b[0mfile_map\u001b[0m \u001b[0;34m=\u001b[0m \u001b[0mself\u001b[0m\u001b[0;34m.\u001b[0m\u001b[0mfilespec_to_file_map\u001b[0m\u001b[0;34m(\u001b[0m\u001b[0mfilename\u001b[0m\u001b[0;34m)\u001b[0m\u001b[0;34m\u001b[0m\u001b[0;34m\u001b[0m\u001b[0m\n\u001b[0;32m--> 333\u001b[0;31m         \u001b[0mself\u001b[0m\u001b[0;34m.\u001b[0m\u001b[0mto_file_map\u001b[0m\u001b[0;34m(\u001b[0m\u001b[0;34m)\u001b[0m\u001b[0;34m\u001b[0m\u001b[0;34m\u001b[0m\u001b[0m\n\u001b[0m\u001b[1;32m    334\u001b[0m \u001b[0;34m\u001b[0m\u001b[0m\n\u001b[1;32m    335\u001b[0m     @deprecate_with_version('to_filespec method is deprecated.\\n'\n",
      "\u001b[0;32m~/miniconda3/lib/python3.9/site-packages/nibabel/analyze.py\u001b[0m in \u001b[0;36mto_file_map\u001b[0;34m(self, file_map)\u001b[0m\n\u001b[1;32m   1042\u001b[0m         \u001b[0mseek_tell\u001b[0m\u001b[0;34m(\u001b[0m\u001b[0mimgf\u001b[0m\u001b[0;34m,\u001b[0m \u001b[0mhdr\u001b[0m\u001b[0;34m.\u001b[0m\u001b[0mget_data_offset\u001b[0m\u001b[0;34m(\u001b[0m\u001b[0;34m)\u001b[0m\u001b[0;34m,\u001b[0m \u001b[0mwrite0\u001b[0m\u001b[0;34m=\u001b[0m\u001b[0;32mTrue\u001b[0m\u001b[0;34m)\u001b[0m\u001b[0;34m\u001b[0m\u001b[0;34m\u001b[0m\u001b[0m\n\u001b[1;32m   1043\u001b[0m         \u001b[0;31m# Write array data\u001b[0m\u001b[0;34m\u001b[0m\u001b[0;34m\u001b[0m\u001b[0;34m\u001b[0m\u001b[0m\n\u001b[0;32m-> 1044\u001b[0;31m         \u001b[0marr_writer\u001b[0m\u001b[0;34m.\u001b[0m\u001b[0mto_fileobj\u001b[0m\u001b[0;34m(\u001b[0m\u001b[0mimgf\u001b[0m\u001b[0;34m)\u001b[0m\u001b[0;34m\u001b[0m\u001b[0;34m\u001b[0m\u001b[0m\n\u001b[0m\u001b[1;32m   1045\u001b[0m         \u001b[0mhdrf\u001b[0m\u001b[0;34m.\u001b[0m\u001b[0mclose_if_mine\u001b[0m\u001b[0;34m(\u001b[0m\u001b[0;34m)\u001b[0m\u001b[0;34m\u001b[0m\u001b[0;34m\u001b[0m\u001b[0m\n\u001b[1;32m   1046\u001b[0m         \u001b[0;32mif\u001b[0m \u001b[0;32mnot\u001b[0m \u001b[0mhdr_img_same\u001b[0m\u001b[0;34m:\u001b[0m\u001b[0;34m\u001b[0m\u001b[0;34m\u001b[0m\u001b[0m\n",
      "\u001b[0;32m~/miniconda3/lib/python3.9/site-packages/nibabel/arraywriters.py\u001b[0m in \u001b[0;36mto_fileobj\u001b[0;34m(self, fileobj, order, nan2zero)\u001b[0m\n\u001b[1;32m    218\u001b[0m         \"\"\"\n\u001b[1;32m    219\u001b[0m         \u001b[0mself\u001b[0m\u001b[0;34m.\u001b[0m\u001b[0m_check_nan2zero\u001b[0m\u001b[0;34m(\u001b[0m\u001b[0mnan2zero\u001b[0m\u001b[0;34m)\u001b[0m\u001b[0;34m\u001b[0m\u001b[0;34m\u001b[0m\u001b[0m\n\u001b[0;32m--> 220\u001b[0;31m         array_to_file(self._array,\n\u001b[0m\u001b[1;32m    221\u001b[0m                       \u001b[0mfileobj\u001b[0m\u001b[0;34m,\u001b[0m\u001b[0;34m\u001b[0m\u001b[0;34m\u001b[0m\u001b[0m\n\u001b[1;32m    222\u001b[0m                       \u001b[0mself\u001b[0m\u001b[0;34m.\u001b[0m\u001b[0m_out_dtype\u001b[0m\u001b[0;34m,\u001b[0m\u001b[0;34m\u001b[0m\u001b[0;34m\u001b[0m\u001b[0m\n",
      "\u001b[0;32m~/miniconda3/lib/python3.9/site-packages/nibabel/volumeutils.py\u001b[0m in \u001b[0;36marray_to_file\u001b[0;34m(data, fileobj, out_dtype, offset, intercept, divslope, mn, mx, order, nan2zero)\u001b[0m\n\u001b[1;32m    652\u001b[0m         \u001b[0mpre_clips\u001b[0m \u001b[0;34m=\u001b[0m \u001b[0m_dt_min_max\u001b[0m\u001b[0;34m(\u001b[0m\u001b[0min_dtype\u001b[0m\u001b[0;34m,\u001b[0m \u001b[0;34m*\u001b[0m\u001b[0mpre_clips\u001b[0m\u001b[0;34m)\u001b[0m\u001b[0;34m\u001b[0m\u001b[0;34m\u001b[0m\u001b[0m\n\u001b[1;32m    653\u001b[0m     \u001b[0;32mif\u001b[0m \u001b[0mnull_scaling\u001b[0m \u001b[0;32mand\u001b[0m \u001b[0mnp\u001b[0m\u001b[0;34m.\u001b[0m\u001b[0mcan_cast\u001b[0m\u001b[0;34m(\u001b[0m\u001b[0min_dtype\u001b[0m\u001b[0;34m,\u001b[0m \u001b[0mout_dtype\u001b[0m\u001b[0;34m)\u001b[0m\u001b[0;34m:\u001b[0m\u001b[0;34m\u001b[0m\u001b[0;34m\u001b[0m\u001b[0m\n\u001b[0;32m--> 654\u001b[0;31m         return _write_data(data, fileobj, out_dtype, order,\n\u001b[0m\u001b[1;32m    655\u001b[0m                            pre_clips=pre_clips)\n\u001b[1;32m    656\u001b[0m     \u001b[0;31m# Force upcasting for floats by making atleast_1d.\u001b[0m\u001b[0;34m\u001b[0m\u001b[0;34m\u001b[0m\u001b[0;34m\u001b[0m\u001b[0m\n",
      "\u001b[0;32m~/miniconda3/lib/python3.9/site-packages/nibabel/volumeutils.py\u001b[0m in \u001b[0;36m_write_data\u001b[0;34m(data, fileobj, out_dtype, order, in_cast, pre_clips, inter, slope, post_clips, nan_fill)\u001b[0m\n\u001b[1;32m    825\u001b[0m         \u001b[0;32mif\u001b[0m \u001b[0mdslice\u001b[0m\u001b[0;34m.\u001b[0m\u001b[0mdtype\u001b[0m \u001b[0;34m!=\u001b[0m \u001b[0mout_dtype\u001b[0m\u001b[0;34m:\u001b[0m\u001b[0;34m\u001b[0m\u001b[0;34m\u001b[0m\u001b[0m\n\u001b[1;32m    826\u001b[0m             \u001b[0mdslice\u001b[0m \u001b[0;34m=\u001b[0m \u001b[0mdslice\u001b[0m\u001b[0;34m.\u001b[0m\u001b[0mastype\u001b[0m\u001b[0;34m(\u001b[0m\u001b[0mout_dtype\u001b[0m\u001b[0;34m)\u001b[0m\u001b[0;34m\u001b[0m\u001b[0;34m\u001b[0m\u001b[0m\n\u001b[0;32m--> 827\u001b[0;31m         \u001b[0mfileobj\u001b[0m\u001b[0;34m.\u001b[0m\u001b[0mwrite\u001b[0m\u001b[0;34m(\u001b[0m\u001b[0mdslice\u001b[0m\u001b[0;34m.\u001b[0m\u001b[0mtobytes\u001b[0m\u001b[0;34m(\u001b[0m\u001b[0;34m)\u001b[0m\u001b[0;34m)\u001b[0m\u001b[0;34m\u001b[0m\u001b[0;34m\u001b[0m\u001b[0m\n\u001b[0m\u001b[1;32m    828\u001b[0m \u001b[0;34m\u001b[0m\u001b[0m\n\u001b[1;32m    829\u001b[0m \u001b[0;34m\u001b[0m\u001b[0m\n",
      "\u001b[0;31mKeyboardInterrupt\u001b[0m: "
     ]
    }
   ],
   "source": [
    "import dicom2nifti\n",
    "import dicom2nifti.settings as settings\n",
    "\n",
    "# dicom2nifti.settings.disable_validate_slicecount()\n",
    "\n",
    "for i in range(0, len(paths)):\n",
    "    print(paths['ID'].iloc[i])\n",
    "    try:\n",
    "        os.mkdir(savedir + paths['ID'].iloc[i])\n",
    "    except OSError as error:\n",
    "#         print(error) \n",
    "        pass\n",
    "    \n",
    "    try:\n",
    "        dicom2nifti.dicom_series_to_nifti(basedir + paths['FLAIR'].iloc[i][1:], \n",
    "                                          savedir + paths['ID'].iloc[i] + '/flair.nii.gz')\n",
    "        dicom2nifti.dicom_series_to_nifti(basedir + paths['T2'].iloc[i][1:], \n",
    "                                          savedir + paths['ID'].iloc[i] + '/t2.nii.gz')\n",
    "        dicom2nifti.dicom_series_to_nifti(basedir + paths['T1C'].iloc[i][1:], \n",
    "                                          savedir + paths['ID'].iloc[i] + '/t1c.nii.gz')\n",
    "        dicom2nifti.dicom_series_to_nifti(basedir + paths['T1'].iloc[i][1:], \n",
    "                                          savedir + paths['ID'].iloc[i] + '/t1.nii.gz')\n",
    "    except Exception as e:\n",
    "        print(e)\n",
    "        print('problems', paths['ID'].iloc[i]) \n",
    "        pass"
   ]
  },
  {
   "cell_type": "code",
   "execution_count": 11,
   "metadata": {},
   "outputs": [
    {
     "data": {
      "text/plain": [
       "['T2.nii.gz',\n",
       " 'FLAIR.nii.gz',\n",
       " 'CT1.json',\n",
       " 'FLAIRa.json',\n",
       " 'flair.nii.gz',\n",
       " 'T2a.nii.gz',\n",
       " 'T1.nii.gz',\n",
       " 't1.nii.gz',\n",
       " 'T2b.nii.gz',\n",
       " 'FLAIRb.nii.gz',\n",
       " 'T1a.nii.gz',\n",
       " 'T2.json',\n",
       " 'T1b.nii.gz',\n",
       " 'CT1a.nii.gz',\n",
       " 'T1.json',\n",
       " 'FLAIRa.nii.gz',\n",
       " 'T2c.nii.gz',\n",
       " 'CT1.nii.gz',\n",
       " 't2.nii.gz',\n",
       " 'FLAIR.json',\n",
       " 'T2a.json',\n",
       " 'CT1a.json',\n",
       " 't1c.nii.gz',\n",
       " 'CT1b.nii.gz',\n",
       " 'T1a.json']"
      ]
     },
     "execution_count": 11,
     "metadata": {},
     "output_type": "execute_result"
    }
   ],
   "source": [
    "os.listdir('/anvar/public_datasets/preproc_study/lgg/orig/TCGA-CS-6188')"
   ]
  },
  {
   "cell_type": "markdown",
   "metadata": {},
   "source": [
    "## Save GBM datasets"
   ]
  },
  {
   "cell_type": "code",
   "execution_count": 8,
   "metadata": {},
   "outputs": [],
   "source": [
    "import pandas as pd\n",
    "paths = pd.read_csv('../gbm_paths.csv')\n",
    "basedir = '/anvar/public_datasets/tcia/'\n",
    "savedir = '/anvar/public_datasets/preproc_study/gbm/orig/'\n",
    "# os.makedirs('/anvar/public_datasets/preproc_study/gbm/orig/')"
   ]
  },
  {
   "cell_type": "code",
   "execution_count": 38,
   "metadata": {},
   "outputs": [
    {
     "name": "stdout",
     "output_type": "stream",
     "text": [
      "TCGA-02-0034\n",
      "TCGA-06-0158\n"
     ]
    },
    {
     "name": "stderr",
     "output_type": "stream",
     "text": [
      "Slice increment not consistent through all slices\n",
      "---------------------------------------------------------\n",
      "[-120.  123.  -80.] [0. 0. 0.]\n",
      "[-120.  123.  -77.] [ 0.  0. -3.]\n",
      "Instance Number: 3\n",
      "---------------------------------------------------------\n"
     ]
    },
    {
     "name": "stdout",
     "output_type": "stream",
     "text": [
      "SLICE_INCREMENT_INCONSISTENT\n",
      "problems TCGA-06-0158\n",
      "TCGA-76-4934\n",
      "TCGA-06-0187\n"
     ]
    },
    {
     "name": "stderr",
     "output_type": "stream",
     "text": [
      "Slice increment not consistent through all slices\n",
      "---------------------------------------------------------\n",
      "[-119.0121918 -120.5853653  -98.9268341] [0. 0. 0.]\n",
      "[-119.0121918 -120.5853653  -93.9268341] [ 0.  0. -5.]\n",
      "Instance Number: 4\n",
      "---------------------------------------------------------\n"
     ]
    },
    {
     "name": "stdout",
     "output_type": "stream",
     "text": [
      "SLICE_INCREMENT_INCONSISTENT\n",
      "problems TCGA-06-0187\n",
      "TCGA-14-1829\n",
      "TCGA-08-0356\n",
      "TCGA-06-0137\n"
     ]
    },
    {
     "name": "stderr",
     "output_type": "stream",
     "text": [
      "Slice increment not consistent through all slices\n",
      "---------------------------------------------------------\n",
      "[-120.     -122.927   -73.1707] [0. 0. 0.]\n",
      "[-120.     -122.927   -70.1707] [ 0.  0. -3.]\n",
      "Instance Number: 3\n",
      "---------------------------------------------------------\n"
     ]
    },
    {
     "name": "stdout",
     "output_type": "stream",
     "text": [
      "SLICE_INCREMENT_INCONSISTENT\n",
      "problems TCGA-06-0137\n",
      "TCGA-06-0649\n",
      "TCGA-06-0646\n"
     ]
    },
    {
     "name": "stderr",
     "output_type": "stream",
     "text": [
      "Removing duplicate slice from series\n",
      "Removing duplicate slice from series\n",
      "Removing duplicate slice from series\n",
      "Removing duplicate slice from series\n",
      "Removing duplicate slice from series\n",
      "Removing duplicate slice from series\n",
      "Removing duplicate slice from series\n",
      "Removing duplicate slice from series\n",
      "Removing duplicate slice from series\n",
      "Removing duplicate slice from series\n",
      "Removing duplicate slice from series\n",
      "Removing duplicate slice from series\n",
      "Removing duplicate slice from series\n",
      "Removing duplicate slice from series\n",
      "Removing duplicate slice from series\n",
      "Removing duplicate slice from series\n",
      "Removing duplicate slice from series\n",
      "Removing duplicate slice from series\n",
      "Removing duplicate slice from series\n",
      "Removing duplicate slice from series\n",
      "Removing duplicate slice from series\n",
      "Removing duplicate slice from series\n",
      "Removing duplicate slice from series\n",
      "Removing duplicate slice from series\n",
      "Removing duplicate slice from series\n",
      "Removing duplicate slice from series\n",
      "Removing duplicate slice from series\n",
      "Removing duplicate slice from series\n",
      "Removing duplicate slice from series\n",
      "Removing duplicate slice from series\n",
      "Removing duplicate slice from series\n",
      "Removing duplicate slice from series\n",
      "Removing duplicate slice from series\n",
      "Removing duplicate slice from series\n",
      "Removing duplicate slice from series\n",
      "Removing duplicate slice from series\n",
      "Removing duplicate slice from series\n",
      "Removing duplicate slice from series\n",
      "Removing duplicate slice from series\n",
      "Removing duplicate slice from series\n",
      "Removing duplicate slice from series\n",
      "Removing duplicate slice from series\n",
      "Removing duplicate slice from series\n",
      "Removing duplicate slice from series\n",
      "Removing duplicate slice from series\n",
      "Removing duplicate slice from series\n",
      "Removing duplicate slice from series\n",
      "Removing duplicate slice from series\n",
      "Removing duplicate slice from series\n",
      "Removing duplicate slice from series\n",
      "Removing duplicate slice from series\n",
      "Removing duplicate slice from series\n",
      "Removing duplicate slice from series\n",
      "Removing duplicate slice from series\n",
      "Removing duplicate slice from series\n",
      "Removing duplicate slice from series\n",
      "Removing duplicate slice from series\n",
      "Removing duplicate slice from series\n",
      "Removing duplicate slice from series\n",
      "Removing duplicate slice from series\n",
      "Removing duplicate slice from series\n",
      "Removing duplicate slice from series\n",
      "Removing duplicate slice from series\n",
      "Removing duplicate slice from series\n",
      "Removing duplicate slice from series\n",
      "Removing duplicate slice from series\n",
      "Removing duplicate slice from series\n",
      "Removing duplicate slice from series\n",
      "Removing duplicate slice from series\n",
      "Removing duplicate slice from series\n",
      "Removing duplicate slice from series\n",
      "Removing duplicate slice from series\n"
     ]
    },
    {
     "name": "stdout",
     "output_type": "stream",
     "text": [
      "TCGA-02-0069\n",
      "TCGA-06-0241\n",
      "TCGA-06-0192\n",
      "TCGA-12-1094\n",
      "TCGA-76-4932\n",
      "TCGA-12-0776\n",
      "TCGA-08-0350\n",
      "TCGA-02-0086\n",
      "TCGA-19-1390\n",
      "TCGA-02-0009\n",
      "TCGA-06-5412\n",
      "TCGA-08-0359\n",
      "TCGA-02-0048\n",
      "TCGA-06-5417\n",
      "TCGA-19-2624\n",
      "TCGA-12-0829\n",
      "TCGA-02-0075\n",
      "The length of the pixel data in the dataset (30512 bytes) doesn't match the expected length (131072 bytes). The dataset may be corrupted or there may be an issue with the pixel data handler.\n",
      "problems TCGA-02-0075\n",
      "TCGA-19-2631\n",
      "TCGA-06-0175\n"
     ]
    },
    {
     "name": "stderr",
     "output_type": "stream",
     "text": [
      "Slice increment not consistent through all slices\n",
      "---------------------------------------------------------\n",
      "[-120.     -118.829   -90.7317] [0. 0. 0.]\n",
      "[-120.     -118.829   -87.7317] [ 0.  0. -3.]\n",
      "Instance Number: 3\n",
      "---------------------------------------------------------\n"
     ]
    },
    {
     "name": "stdout",
     "output_type": "stream",
     "text": [
      "SLICE_INCREMENT_INCONSISTENT\n",
      "problems TCGA-06-0175\n",
      "TCGA-02-0011\n",
      "TCGA-76-6657\n",
      "TCGA-12-1093\n",
      "TCGA-08-0512\n",
      "TCGA-12-3650\n",
      "TCGA-06-0240\n"
     ]
    },
    {
     "name": "stderr",
     "output_type": "stream",
     "text": [
      "Slice increment not consistent through all slices\n",
      "---------------------------------------------------------\n",
      "[-123.5609741 -142.2926788  -98.9268341] [0. 0. 0.]\n",
      "[-123.5609741 -142.2926788  -93.9268341] [ 0.  0. -5.]\n",
      "Instance Number: 4\n",
      "---------------------------------------------------------\n"
     ]
    },
    {
     "name": "stdout",
     "output_type": "stream",
     "text": [
      "SLICE_INCREMENT_INCONSISTENT\n",
      "problems TCGA-06-0240\n",
      "TCGA-06-0122\n",
      "TCGA-08-0390\n",
      "TCGA-08-0521\n",
      "TCGA-08-0352\n",
      "TCGA-02-0060\n",
      "TCGA-06-5413\n",
      "TCGA-08-0354\n",
      "TCGA-02-0059\n",
      "TCGA-06-0238\n",
      "TCGA-12-1098\n",
      "TCGA-06-0162\n"
     ]
    },
    {
     "name": "stderr",
     "output_type": "stream",
     "text": [
      "Slice increment not consistent through all slices\n",
      "---------------------------------------------------------\n",
      "[-120.  120.  -64.] [0. 0. 0.]\n",
      "[-120.  120.  -61.] [ 0.  0. -3.]\n",
      "Instance Number: 3\n",
      "---------------------------------------------------------\n"
     ]
    },
    {
     "name": "stdout",
     "output_type": "stream",
     "text": [
      "SLICE_INCREMENT_INCONSISTENT\n",
      "problems TCGA-06-0162\n",
      "TCGA-06-0184\n"
     ]
    },
    {
     "name": "stderr",
     "output_type": "stream",
     "text": [
      "Slice increment not consistent through all slices\n",
      "---------------------------------------------------------\n",
      "[-114.263  -124.799   -93.0734] [0. 0. 0.]\n",
      "[-114.263  -124.799   -88.0734] [ 0.  0. -5.]\n",
      "Instance Number: 4\n",
      "---------------------------------------------------------\n"
     ]
    },
    {
     "name": "stdout",
     "output_type": "stream",
     "text": [
      "SLICE_INCREMENT_INCONSISTENT\n",
      "problems TCGA-06-0184\n",
      "TCGA-14-0789\n",
      "TCGA-08-0358\n",
      "TCGA-06-1084\n"
     ]
    },
    {
     "name": "stderr",
     "output_type": "stream",
     "text": [
      "Slice increment not consistent through all slices\n",
      "---------------------------------------------------------\n",
      "[-119.531  -132.994   -83.1222] [0. 0. 0.]\n",
      "[-119.531  -132.994   -78.1222] [ 0.  0. -5.]\n",
      "Instance Number: 4\n",
      "---------------------------------------------------------\n"
     ]
    },
    {
     "name": "stdout",
     "output_type": "stream",
     "text": [
      "SLICE_INCREMENT_INCONSISTENT\n",
      "problems TCGA-06-1084\n",
      "TCGA-02-0033\n",
      "TCGA-08-0392\n",
      "TCGA-76-6663\n",
      "TCGA-76-4935\n",
      "TCGA-08-0509\n",
      "TCGA-06-0190\n"
     ]
    },
    {
     "name": "stderr",
     "output_type": "stream",
     "text": [
      "Slice increment not consistent through all slices\n",
      "---------------------------------------------------------\n",
      "[-122.3414612 -113.5609741  -94.2439041] [0. 0. 0.]\n",
      "[-122.3414612 -113.5609741  -89.2439041] [ 0.  0. -5.]\n",
      "Instance Number: 4\n",
      "---------------------------------------------------------\n"
     ]
    },
    {
     "name": "stdout",
     "output_type": "stream",
     "text": [
      "SLICE_INCREMENT_INCONSISTENT\n",
      "problems TCGA-06-0190\n",
      "TCGA-06-0176\n"
     ]
    },
    {
     "name": "stderr",
     "output_type": "stream",
     "text": [
      "Slice increment not consistent through all slices\n",
      "---------------------------------------------------------\n",
      "[-120.585  -106.537   -52.6829] [0. 0. 0.]\n",
      "[-120.585  -106.537   -49.6829] [ 0.  0. -3.]\n",
      "Instance Number: 3\n",
      "---------------------------------------------------------\n"
     ]
    },
    {
     "name": "stdout",
     "output_type": "stream",
     "text": [
      "SLICE_INCREMENT_INCONSISTENT\n",
      "problems TCGA-06-0176\n",
      "TCGA-02-0102\n",
      "TCGA-02-0003\n",
      "TCGA-19-5958\n",
      "TCGA-02-0070\n",
      "TCGA-06-0166\n"
     ]
    },
    {
     "name": "stderr",
     "output_type": "stream",
     "text": [
      "Slice increment not consistent through all slices\n",
      "---------------------------------------------------------\n",
      "[-120.  120.  -90.] [0. 0. 0.]\n",
      "[-120.  120.  -87.] [ 0.  0. -3.]\n",
      "Instance Number: 3\n",
      "---------------------------------------------------------\n"
     ]
    },
    {
     "name": "stdout",
     "output_type": "stream",
     "text": [
      "SLICE_INCREMENT_INCONSISTENT\n",
      "problems TCGA-06-0166\n",
      "TCGA-08-0510\n",
      "TCGA-14-1794\n",
      "TCGA-06-1802\n",
      "TCGA-12-1598\n",
      "TCGA-76-6656\n",
      "TCGA-08-0353\n",
      "TCGA-76-6282\n",
      "TCGA-06-0185\n"
     ]
    },
    {
     "name": "stderr",
     "output_type": "stream",
     "text": [
      "Slice increment not consistent through all slices\n",
      "---------------------------------------------------------\n",
      "[-117.3658524 -120.         -76.9024353] [0. 0. 0.]\n",
      "[-117.3658524 -120.         -71.9024353] [ 0.  0. -5.]\n",
      "Instance Number: 4\n",
      "---------------------------------------------------------\n"
     ]
    },
    {
     "name": "stdout",
     "output_type": "stream",
     "text": [
      "SLICE_INCREMENT_INCONSISTENT\n",
      "problems TCGA-06-0185\n",
      "TCGA-06-0648\n"
     ]
    },
    {
     "name": "stderr",
     "output_type": "stream",
     "text": [
      "Slice increment not consistent through all slices\n",
      "---------------------------------------------------------\n",
      "[-116.266 -161.366  -44.1  ] [ 0.   0.  -2.5]\n",
      "[-116.266 -161.366  -39.1  ] [ 0.  0. -5.]\n",
      "Instance Number: 5\n",
      "---------------------------------------------------------\n"
     ]
    },
    {
     "name": "stdout",
     "output_type": "stream",
     "text": [
      "SLICE_INCREMENT_INCONSISTENT\n",
      "problems TCGA-06-0648\n",
      "TCGA-06-0189\n",
      "TCGA-06-0138\n",
      "TCGA-02-0085\n",
      "TCGA-08-0529\n",
      "TCGA-19-1789\n",
      "TCGA-06-0213\n"
     ]
    },
    {
     "name": "stderr",
     "output_type": "stream",
     "text": [
      "Slice increment not consistent through all slices\n",
      "---------------------------------------------------------\n",
      "[-120.  120.  -69.] [0. 0. 0.]\n",
      "[-120.  120.  -66.] [ 0.  0. -3.]\n",
      "Instance Number: 3\n",
      "---------------------------------------------------------\n"
     ]
    },
    {
     "name": "stdout",
     "output_type": "stream",
     "text": [
      "SLICE_INCREMENT_INCONSISTENT\n",
      "problems TCGA-06-0213\n",
      "TCGA-06-0128\n"
     ]
    },
    {
     "name": "stderr",
     "output_type": "stream",
     "text": [
      "Slice increment not consistent through all slices\n",
      "---------------------------------------------------------\n",
      "[-120.  120.  -66.] [0. 0. 0.]\n",
      "[-120.  120.  -63.] [ 0.  0. -3.]\n",
      "Instance Number: 3\n",
      "---------------------------------------------------------\n"
     ]
    },
    {
     "name": "stdout",
     "output_type": "stream",
     "text": [
      "SLICE_INCREMENT_INCONSISTENT\n",
      "problems TCGA-06-0128\n",
      "TCGA-06-6389\n",
      "TCGA-02-0027\n",
      "TCGA-14-1825\n",
      "TCGA-76-6661\n",
      "TCGA-14-1456\n",
      "TCGA-06-0133\n",
      "TCGA-06-2570\n",
      "TCGA-06-0164\n"
     ]
    },
    {
     "name": "stderr",
     "output_type": "stream",
     "text": [
      "Slice increment not consistent through all slices\n",
      "---------------------------------------------------------\n",
      "[-120. -107.  -69.] [0. 0. 0.]\n",
      "[-120. -107.  -66.] [ 0.  0. -3.]\n",
      "Instance Number: 3\n",
      "---------------------------------------------------------\n"
     ]
    },
    {
     "name": "stdout",
     "output_type": "stream",
     "text": [
      "SLICE_INCREMENT_INCONSISTENT\n",
      "problems TCGA-06-0164\n",
      "TCGA-02-0047\n",
      "TCGA-02-0037\n",
      "TCGA-02-0106\n",
      "TCGA-08-0520\n",
      "TCGA-08-0355\n",
      "TCGA-76-6280\n"
     ]
    },
    {
     "name": "stderr",
     "output_type": "stream",
     "text": [
      "Slice increment not consistent through all slices\n",
      "---------------------------------------------------------\n",
      "[-106.845001   -120.1715226   -85.50410461] [0. 0. 0.]\n",
      "[-106.845001   -120.1715226   -78.00410461] [ 0.   0.  -7.5]\n",
      "Instance Number: 4\n",
      "---------------------------------------------------------\n"
     ]
    },
    {
     "name": "stdout",
     "output_type": "stream",
     "text": [
      "SLICE_INCREMENT_INCONSISTENT\n",
      "problems TCGA-76-6280\n",
      "TCGA-19-5960\n",
      "TCGA-76-6285\n",
      "TCGA-76-6664\n",
      "TCGA-02-0087\n",
      "TCGA-76-6193\n",
      "TCGA-19-0963\n",
      "TCGA-08-0389\n",
      "TCGA-12-0616\n",
      "TCGA-02-0054\n",
      "TCGA-14-3477\n",
      "TCGA-08-0385\n",
      "TCGA-06-0119\n"
     ]
    },
    {
     "name": "stderr",
     "output_type": "stream",
     "text": [
      "Slice increment not consistent through all slices\n",
      "---------------------------------------------------------\n",
      "[-120.18293   -120.5853653  -91.31707  ] [0. 0. 0.]\n",
      "[-120.18293   -120.5853653  -86.31707  ] [ 0.  0. -5.]\n",
      "Instance Number: 4\n",
      "---------------------------------------------------------\n"
     ]
    },
    {
     "name": "stdout",
     "output_type": "stream",
     "text": [
      "SLICE_INCREMENT_INCONSISTENT\n",
      "problems TCGA-06-0119\n",
      "TCGA-06-0149\n",
      "TCGA-08-0357\n",
      "TCGA-06-0168\n"
     ]
    },
    {
     "name": "stderr",
     "output_type": "stream",
     "text": [
      "Slice increment not consistent through all slices\n",
      "---------------------------------------------------------\n",
      "[-127.699997 -112.5       -61.299999] [0. 0. 0.]\n",
      "[-127.699997 -112.5       -58.299999] [ 0.  0. -3.]\n",
      "Instance Number: 3\n",
      "---------------------------------------------------------\n"
     ]
    },
    {
     "name": "stdout",
     "output_type": "stream",
     "text": [
      "SLICE_INCREMENT_INCONSISTENT\n",
      "problems TCGA-06-0168\n",
      "TCGA-06-0644\n",
      "TCGA-08-0524\n",
      "TCGA-08-0360\n",
      "TCGA-06-0179\n",
      "TCGA-02-0006\n",
      "TCGA-06-5408\n"
     ]
    },
    {
     "name": "stderr",
     "output_type": "stream",
     "text": [
      "Slice increment not consistent through all slices\n",
      "---------------------------------------------------------\n",
      "[-129.043  -119.534   -77.3609] [0. 0. 0.]\n",
      "[-129.043  -119.534   -72.3609] [ 0.  0. -5.]\n",
      "Instance Number: 4\n",
      "---------------------------------------------------------\n"
     ]
    },
    {
     "name": "stdout",
     "output_type": "stream",
     "text": [
      "SLICE_INCREMENT_INCONSISTENT\n",
      "problems TCGA-06-5408\n",
      "TCGA-06-0142\n"
     ]
    },
    {
     "name": "stderr",
     "output_type": "stream",
     "text": [
      "Slice increment not consistent through all slices\n",
      "---------------------------------------------------------\n",
      "[-125.300003 -129.399994  -92.099998] [0. 0. 0.]\n",
      "[-125.300003 -129.399994  -89.099998] [ 0.  0. -3.]\n",
      "Instance Number: 3\n",
      "---------------------------------------------------------\n"
     ]
    },
    {
     "name": "stdout",
     "output_type": "stream",
     "text": [
      "SLICE_INCREMENT_INCONSISTENT\n",
      "problems TCGA-06-0142\n",
      "TCGA-27-1834\n",
      "TCGA-19-5954\n",
      "TCGA-76-6191\n",
      "TCGA-06-0132\n"
     ]
    },
    {
     "name": "stderr",
     "output_type": "stream",
     "text": [
      "Slice increment not consistent through all slices\n",
      "---------------------------------------------------------\n",
      "[-114.7317047 -121.7560959  -79.0243912] [0. 0. 0.]\n",
      "[-114.7317047 -121.7560959  -74.0243912] [ 0.  0. -5.]\n",
      "Instance Number: 4\n",
      "---------------------------------------------------------\n"
     ]
    },
    {
     "name": "stdout",
     "output_type": "stream",
     "text": [
      "SLICE_INCREMENT_INCONSISTENT\n",
      "problems TCGA-06-0132\n",
      "TCGA-06-0145\n",
      "NOT_A_VOLUME\n",
      "problems TCGA-06-0145\n",
      "TCGA-06-0130\n"
     ]
    },
    {
     "name": "stderr",
     "output_type": "stream",
     "text": [
      "Slice increment not consistent through all slices\n",
      "---------------------------------------------------------\n",
      "[-120.  127.    9.] [ 0.  0. -3.]\n",
      "[-120.  127.   15.] [ 0.  0. -6.]\n",
      "Instance Number: 036\n",
      "---------------------------------------------------------\n"
     ]
    },
    {
     "name": "stdout",
     "output_type": "stream",
     "text": [
      "TCGA-06-0154\n",
      "SLICE_INCREMENT_INCONSISTENT\n",
      "problems TCGA-06-0154\n",
      "TCGA-02-0116\n",
      "TCGA-02-0064\n",
      "TCGA-12-1602\n",
      "TCGA-19-5951\n",
      "TCGA-76-6662\n",
      "TCGA-12-1601\n",
      "TCGA-06-0182\n",
      "NOT_A_VOLUME\n",
      "problems TCGA-06-0182\n",
      "TCGA-02-0046\n",
      "TCGA-08-0522\n",
      "TCGA-06-0139\n",
      "TCGA-27-1838\n",
      "TCGA-06-0188\n"
     ]
    },
    {
     "name": "stderr",
     "output_type": "stream",
     "text": [
      "Slice increment not consistent through all slices\n",
      "---------------------------------------------------------\n",
      "[-126.0365906 -118.8292694  -77.2195129] [0. 0. 0.]\n",
      "[-126.0365906 -118.8292694  -72.2195129] [ 0.  0. -5.]\n",
      "Instance Number: 4\n",
      "---------------------------------------------------------\n"
     ]
    },
    {
     "name": "stdout",
     "output_type": "stream",
     "text": [
      "SLICE_INCREMENT_INCONSISTENT\n",
      "problems TCGA-06-0188\n",
      "TCGA-06-0177\n"
     ]
    },
    {
     "name": "stderr",
     "output_type": "stream",
     "text": [
      "Slice increment not consistent through all slices\n",
      "---------------------------------------------------------\n",
      "[-119.531  -134.165   -86.6344] [0. 0. 0.]\n",
      "[-119.531  -134.165   -81.6344] [ 0.  0. -5.]\n",
      "Instance Number: 4\n",
      "---------------------------------------------------------\n"
     ]
    },
    {
     "name": "stdout",
     "output_type": "stream",
     "text": [
      "SLICE_INCREMENT_INCONSISTENT\n",
      "problems TCGA-06-0177\n",
      "TCGA-27-2526\n",
      "TCGA-02-0068\n"
     ]
    }
   ],
   "source": [
    "dicom2nifti.settings.disable_validate_slicecount()\n",
    "\n",
    "for i in range(0, len(paths)):\n",
    "    print(paths['ID'].iloc[i])\n",
    "    try:\n",
    "        os.mkdir(savedir + paths['ID'].iloc[i])\n",
    "    except OSError as error:\n",
    "#         print(error) \n",
    "        pass\n",
    "    \n",
    "    try:\n",
    "      \n",
    "        dicom2nifti.dicom_series_to_nifti(basedir + paths['T1C'].iloc[i][1:], \n",
    "                                          savedir + paths['ID'].iloc[i] + '/t1c.nii.gz')\n",
    "        dicom2nifti.dicom_series_to_nifti(basedir + paths['T1'].iloc[i][1:], \n",
    "                                          savedir + paths['ID'].iloc[i] + '/t1.nii.gz')\n",
    "        dicom2nifti.dicom_series_to_nifti(basedir + paths['FLAIR'].iloc[i][1:], \n",
    "                                          savedir + paths['ID'].iloc[i] + '/flair.nii.gz')\n",
    "        dicom2nifti.dicom_series_to_nifti(basedir + paths['T2'].iloc[i][1:], \n",
    "                                          savedir + paths['ID'].iloc[i] + '/t2.nii.gz')\n",
    "    except Exception as e:\n",
    "        print(e)\n",
    "        print('problems', paths['ID'].iloc[i]) \n",
    "        pass"
   ]
  },
  {
   "cell_type": "markdown",
   "metadata": {},
   "source": [
    "## Lets see the dimentions"
   ]
  },
  {
   "cell_type": "code",
   "execution_count": null,
   "metadata": {},
   "outputs": [],
   "source": [
    "list_patients = paths['ID']\n",
    "list_patients[0]"
   ]
  },
  {
   "cell_type": "code",
   "execution_count": 55,
   "metadata": {},
   "outputs": [
    {
     "name": "stdout",
     "output_type": "stream",
     "text": [
      "File /anvar/public_datasets/preproc_study/gbm/orig/TCGA-06-0158/t1.nii.gz does not exist!\n",
      "File /anvar/public_datasets/preproc_study/gbm/orig/TCGA-06-0187/t1.nii.gz does not exist!\n",
      "File /anvar/public_datasets/preproc_study/gbm/orig/TCGA-06-0137/t1.nii.gz does not exist!\n",
      "/build100/ANTsPy/itksource/Modules/IO/NIFTI/src/itkNiftiImageIO.cxx:1972:\n",
      "itk::ERROR: ITK only supports orthonormal direction cosines.  No orthonormal definition found!\n",
      "File /anvar/public_datasets/preproc_study/gbm/orig/TCGA-02-0075/t1.nii.gz does not exist!\n",
      "File /anvar/public_datasets/preproc_study/gbm/orig/TCGA-06-0175/t1.nii.gz does not exist!\n",
      "File /anvar/public_datasets/preproc_study/gbm/orig/TCGA-06-0240/t1.nii.gz does not exist!\n",
      "File /anvar/public_datasets/preproc_study/gbm/orig/TCGA-06-0162/t1.nii.gz does not exist!\n",
      "File /anvar/public_datasets/preproc_study/gbm/orig/TCGA-06-0184/t1.nii.gz does not exist!\n",
      "/build100/ANTsPy/itksource/Modules/IO/NIFTI/src/itkNiftiImageIO.cxx:1972:\n",
      "itk::ERROR: ITK only supports orthonormal direction cosines.  No orthonormal definition found!\n",
      "File /anvar/public_datasets/preproc_study/gbm/orig/TCGA-06-1084/t1.nii.gz does not exist!\n",
      "File /anvar/public_datasets/preproc_study/gbm/orig/TCGA-06-0190/t1.nii.gz does not exist!\n",
      "File /anvar/public_datasets/preproc_study/gbm/orig/TCGA-06-0176/t1.nii.gz does not exist!\n",
      "File /anvar/public_datasets/preproc_study/gbm/orig/TCGA-06-0166/t1.nii.gz does not exist!\n",
      "File /anvar/public_datasets/preproc_study/gbm/orig/TCGA-06-0185/t1.nii.gz does not exist!\n",
      "File /anvar/public_datasets/preproc_study/gbm/orig/TCGA-06-0648/t1.nii.gz does not exist!\n",
      "File /anvar/public_datasets/preproc_study/gbm/orig/TCGA-06-0213/t1.nii.gz does not exist!\n",
      "File /anvar/public_datasets/preproc_study/gbm/orig/TCGA-06-0128/t1.nii.gz does not exist!\n",
      "File /anvar/public_datasets/preproc_study/gbm/orig/TCGA-06-0164/t1.nii.gz does not exist!\n",
      "File /anvar/public_datasets/preproc_study/gbm/orig/TCGA-76-6280/t1.nii.gz does not exist!\n",
      "File /anvar/public_datasets/preproc_study/gbm/orig/TCGA-06-0119/t1.nii.gz does not exist!\n",
      "File /anvar/public_datasets/preproc_study/gbm/orig/TCGA-06-0168/t1.nii.gz does not exist!\n",
      "File /anvar/public_datasets/preproc_study/gbm/orig/TCGA-06-5408/t1.nii.gz does not exist!\n",
      "File /anvar/public_datasets/preproc_study/gbm/orig/TCGA-06-0142/t1.nii.gz does not exist!\n",
      "File /anvar/public_datasets/preproc_study/gbm/orig/TCGA-06-0132/t1.nii.gz does not exist!\n",
      "File /anvar/public_datasets/preproc_study/gbm/orig/TCGA-06-0145/t1.nii.gz does not exist!\n",
      "File /anvar/public_datasets/preproc_study/gbm/orig/TCGA-06-0154/t1.nii.gz does not exist!\n",
      "File /anvar/public_datasets/preproc_study/gbm/orig/TCGA-06-0182/t1.nii.gz does not exist!\n",
      "File /anvar/public_datasets/preproc_study/gbm/orig/TCGA-06-0188/t1.nii.gz does not exist!\n",
      "File /anvar/public_datasets/preproc_study/gbm/orig/TCGA-06-0177/t1.nii.gz does not exist!\n"
     ]
    }
   ],
   "source": [
    "import numpy as np\n",
    "import ants\n",
    "\n",
    "sizes_frame = pd.DataFrame(columns = ['id','t1_x', 't1_y', 't1_z', 't1c_x', 't1c_y', 't1c_z'])\n",
    "\n",
    "for i in list_patients:\n",
    "    try:\n",
    "        t1_size = np.shape(ants.image_read(savedir + i + '/t1.nii.gz').numpy())\n",
    "        t1c_size = np.shape(ants.image_read(savedir + i + '/t1c.nii.gz').numpy())\n",
    "        sizes_frame = sizes_frame.append(\n",
    "        {'id': i,\n",
    "        't1_x':t1_size[0],\n",
    "        't1_y':t1_size[1],\n",
    "        't1_z':t1_size[2],\n",
    "        't1c_x':t1c_size[0],\n",
    "        't1c_y':t1c_size[1],\n",
    "        't1c_z':t1c_size[2]}, ignore_index=True\n",
    "        )\n",
    "    except Exception as e:\n",
    "        print(e)\n",
    "        pass"
   ]
  },
  {
   "cell_type": "code",
   "execution_count": 54,
   "metadata": {},
   "outputs": [
    {
     "data": {
      "text/plain": [
       "['flair.nii.gz']"
      ]
     },
     "execution_count": 54,
     "metadata": {},
     "output_type": "execute_result"
    }
   ],
   "source": [
    "os.listdir('/anvar/public_datasets/preproc_study/gbm/orig/TCGA-06-0168/')"
   ]
  },
  {
   "cell_type": "markdown",
   "metadata": {},
   "source": [
    "### Collecting paths"
   ]
  },
  {
   "cell_type": "code",
   "execution_count": 22,
   "metadata": {},
   "outputs": [
    {
     "ename": "FileExistsError",
     "evalue": "[Errno 17] File exists: '/anvar/public_datasets/preproc_study/gbm/dicom/'",
     "output_type": "error",
     "traceback": [
      "\u001b[0;31m---------------------------------------------------------------------------\u001b[0m",
      "\u001b[0;31mFileExistsError\u001b[0m                           Traceback (most recent call last)",
      "\u001b[0;32m/tmp/ipykernel_3922261/1139033030.py\u001b[0m in \u001b[0;36m<module>\u001b[0;34m\u001b[0m\n\u001b[1;32m      2\u001b[0m \u001b[0mbasedir\u001b[0m \u001b[0;34m=\u001b[0m \u001b[0;34m'/anvar/public_datasets/tcia/'\u001b[0m\u001b[0;34m\u001b[0m\u001b[0;34m\u001b[0m\u001b[0m\n\u001b[1;32m      3\u001b[0m \u001b[0msavedir\u001b[0m \u001b[0;34m=\u001b[0m \u001b[0;34m'/anvar/public_datasets/preproc_study/gbm/dicom/'\u001b[0m\u001b[0;34m\u001b[0m\u001b[0;34m\u001b[0m\u001b[0m\n\u001b[0;32m----> 4\u001b[0;31m \u001b[0mos\u001b[0m\u001b[0;34m.\u001b[0m\u001b[0mmakedirs\u001b[0m\u001b[0;34m(\u001b[0m\u001b[0;34m'/anvar/public_datasets/preproc_study/gbm/dicom/'\u001b[0m\u001b[0;34m)\u001b[0m\u001b[0;34m\u001b[0m\u001b[0;34m\u001b[0m\u001b[0m\n\u001b[0m",
      "\u001b[0;32m~/miniconda3/lib/python3.9/os.py\u001b[0m in \u001b[0;36mmakedirs\u001b[0;34m(name, mode, exist_ok)\u001b[0m\n\u001b[1;32m    223\u001b[0m             \u001b[0;32mreturn\u001b[0m\u001b[0;34m\u001b[0m\u001b[0;34m\u001b[0m\u001b[0m\n\u001b[1;32m    224\u001b[0m     \u001b[0;32mtry\u001b[0m\u001b[0;34m:\u001b[0m\u001b[0;34m\u001b[0m\u001b[0;34m\u001b[0m\u001b[0m\n\u001b[0;32m--> 225\u001b[0;31m         \u001b[0mmkdir\u001b[0m\u001b[0;34m(\u001b[0m\u001b[0mname\u001b[0m\u001b[0;34m,\u001b[0m \u001b[0mmode\u001b[0m\u001b[0;34m)\u001b[0m\u001b[0;34m\u001b[0m\u001b[0;34m\u001b[0m\u001b[0m\n\u001b[0m\u001b[1;32m    226\u001b[0m     \u001b[0;32mexcept\u001b[0m \u001b[0mOSError\u001b[0m\u001b[0;34m:\u001b[0m\u001b[0;34m\u001b[0m\u001b[0;34m\u001b[0m\u001b[0m\n\u001b[1;32m    227\u001b[0m         \u001b[0;31m# Cannot rely on checking for EEXIST, since the operating system\u001b[0m\u001b[0;34m\u001b[0m\u001b[0;34m\u001b[0m\u001b[0;34m\u001b[0m\u001b[0m\n",
      "\u001b[0;31mFileExistsError\u001b[0m: [Errno 17] File exists: '/anvar/public_datasets/preproc_study/gbm/dicom/'"
     ]
    }
   ],
   "source": [
    "# paths = pd.read_csv('lgg_paths.csv')\n",
    "basedir = '/anvar/public_datasets/tcia/'\n",
    "savedir = '/anvar/public_datasets/preproc_study/gbm/dicom/'\n",
    "os.makedirs('/anvar/public_datasets/preproc_study/gbm/dicom/')"
   ]
  },
  {
   "cell_type": "code",
   "execution_count": 58,
   "metadata": {},
   "outputs": [
    {
     "name": "stdout",
     "output_type": "stream",
     "text": [
      "TCGA-02-0034\n",
      "[Errno 17] File exists: '/anvar/public_datasets/tcia/CGA-02-0034'\n",
      "TCGA-06-0158\n",
      "[Errno 17] File exists: '/anvar/public_datasets/tcia/CGA-06-0158'\n",
      "TCGA-76-4934\n",
      "[Errno 17] File exists: '/anvar/public_datasets/tcia/CGA-76-4934'\n",
      "TCGA-06-0187\n",
      "[Errno 17] File exists: '/anvar/public_datasets/tcia/CGA-06-0187'\n",
      "TCGA-14-1829\n",
      "[Errno 17] File exists: '/anvar/public_datasets/tcia/CGA-14-1829'\n",
      "TCGA-08-0356\n",
      "[Errno 17] File exists: '/anvar/public_datasets/tcia/CGA-08-0356'\n",
      "TCGA-06-0137\n",
      "[Errno 17] File exists: '/anvar/public_datasets/tcia/CGA-06-0137'\n",
      "TCGA-06-0649\n",
      "[Errno 17] File exists: '/anvar/public_datasets/tcia/CGA-06-0649'\n",
      "TCGA-06-0646\n",
      "[Errno 17] File exists: '/anvar/public_datasets/tcia/CGA-06-0646'\n",
      "TCGA-02-0069\n",
      "[Errno 17] File exists: '/anvar/public_datasets/tcia/CGA-02-0069'\n",
      "TCGA-06-0241\n",
      "[Errno 17] File exists: '/anvar/public_datasets/tcia/CGA-06-0241'\n",
      "TCGA-06-0192\n",
      "[Errno 17] File exists: '/anvar/public_datasets/tcia/CGA-06-0192'\n",
      "TCGA-12-1094\n",
      "[Errno 17] File exists: '/anvar/public_datasets/tcia/CGA-12-1094'\n",
      "TCGA-76-4932\n",
      "[Errno 17] File exists: '/anvar/public_datasets/tcia/CGA-76-4932'\n",
      "TCGA-12-0776\n",
      "[Errno 17] File exists: '/anvar/public_datasets/tcia/CGA-12-0776'\n",
      "TCGA-08-0350\n",
      "[Errno 17] File exists: '/anvar/public_datasets/tcia/CGA-08-0350'\n",
      "TCGA-02-0086\n",
      "[Errno 17] File exists: '/anvar/public_datasets/tcia/CGA-02-0086'\n",
      "TCGA-19-1390\n",
      "[Errno 17] File exists: '/anvar/public_datasets/tcia/CGA-19-1390'\n",
      "TCGA-02-0009\n",
      "[Errno 17] File exists: '/anvar/public_datasets/tcia/CGA-02-0009'\n",
      "TCGA-06-5412\n",
      "[Errno 17] File exists: '/anvar/public_datasets/tcia/CGA-06-5412'\n",
      "TCGA-08-0359\n",
      "[Errno 17] File exists: '/anvar/public_datasets/tcia/CGA-08-0359'\n",
      "TCGA-02-0048\n",
      "[Errno 17] File exists: '/anvar/public_datasets/tcia/CGA-02-0048'\n",
      "TCGA-06-5417\n",
      "[Errno 17] File exists: '/anvar/public_datasets/tcia/CGA-06-5417'\n",
      "TCGA-19-2624\n",
      "[Errno 17] File exists: '/anvar/public_datasets/tcia/CGA-19-2624'\n",
      "TCGA-12-0829\n",
      "[Errno 17] File exists: '/anvar/public_datasets/tcia/CGA-12-0829'\n",
      "TCGA-02-0075\n",
      "[Errno 17] File exists: '/anvar/public_datasets/tcia/CGA-02-0075'\n",
      "TCGA-19-2631\n",
      "[Errno 17] File exists: '/anvar/public_datasets/tcia/CGA-19-2631'\n",
      "TCGA-06-0175\n",
      "[Errno 17] File exists: '/anvar/public_datasets/tcia/CGA-06-0175'\n",
      "TCGA-02-0011\n",
      "[Errno 17] File exists: '/anvar/public_datasets/tcia/CGA-02-0011'\n",
      "TCGA-76-6657\n",
      "[Errno 17] File exists: '/anvar/public_datasets/tcia/CGA-76-6657'\n",
      "TCGA-12-1093\n",
      "[Errno 17] File exists: '/anvar/public_datasets/tcia/CGA-12-1093'\n",
      "TCGA-08-0512\n",
      "[Errno 17] File exists: '/anvar/public_datasets/tcia/CGA-08-0512'\n",
      "TCGA-12-3650\n",
      "TCGA-06-0240\n",
      "TCGA-06-0122\n",
      "TCGA-08-0390\n",
      "TCGA-08-0521\n",
      "TCGA-08-0352\n",
      "TCGA-02-0060\n",
      "TCGA-06-5413\n",
      "TCGA-08-0354\n",
      "TCGA-02-0059\n",
      "TCGA-06-0238\n",
      "TCGA-12-1098\n",
      "TCGA-06-0162\n",
      "TCGA-06-0184\n",
      "TCGA-14-0789\n",
      "TCGA-08-0358\n",
      "TCGA-06-1084\n",
      "TCGA-02-0033\n",
      "TCGA-08-0392\n",
      "TCGA-76-6663\n",
      "TCGA-76-4935\n",
      "TCGA-08-0509\n",
      "TCGA-06-0190\n",
      "TCGA-06-0176\n",
      "TCGA-02-0102\n",
      "TCGA-02-0003\n",
      "TCGA-19-5958\n",
      "TCGA-02-0070\n",
      "TCGA-06-0166\n",
      "TCGA-08-0510\n",
      "TCGA-14-1794\n",
      "TCGA-06-1802\n",
      "TCGA-12-1598\n",
      "TCGA-76-6656\n",
      "TCGA-08-0353\n",
      "TCGA-76-6282\n",
      "TCGA-06-0185\n",
      "TCGA-06-0648\n",
      "TCGA-06-0189\n",
      "TCGA-06-0138\n",
      "TCGA-02-0085\n",
      "TCGA-08-0529\n",
      "TCGA-19-1789\n",
      "TCGA-06-0213\n",
      "TCGA-06-0128\n",
      "TCGA-06-6389\n",
      "TCGA-02-0027\n",
      "TCGA-14-1825\n",
      "TCGA-76-6661\n",
      "TCGA-14-1456\n",
      "TCGA-06-0133\n",
      "TCGA-06-2570\n",
      "TCGA-06-0164\n",
      "TCGA-02-0047\n",
      "TCGA-02-0037\n",
      "TCGA-02-0106\n",
      "TCGA-08-0520\n",
      "TCGA-08-0355\n",
      "TCGA-76-6280\n",
      "TCGA-19-5960\n",
      "TCGA-76-6285\n",
      "TCGA-76-6664\n",
      "TCGA-02-0087\n",
      "TCGA-76-6193\n",
      "TCGA-19-0963\n",
      "TCGA-08-0389\n",
      "TCGA-12-0616\n",
      "TCGA-02-0054\n",
      "TCGA-14-3477\n",
      "TCGA-08-0385\n",
      "TCGA-06-0119\n",
      "TCGA-06-0149\n",
      "TCGA-08-0357\n",
      "TCGA-06-0168\n",
      "TCGA-06-0644\n",
      "TCGA-08-0524\n",
      "TCGA-08-0360\n",
      "TCGA-06-0179\n",
      "TCGA-02-0006\n",
      "TCGA-06-5408\n",
      "TCGA-06-0142\n",
      "TCGA-27-1834\n",
      "TCGA-19-5954\n",
      "TCGA-76-6191\n",
      "TCGA-06-0132\n",
      "TCGA-06-0145\n",
      "TCGA-06-0130\n",
      "TCGA-06-0154\n",
      "TCGA-02-0116\n",
      "TCGA-02-0064\n",
      "TCGA-12-1602\n",
      "TCGA-19-5951\n",
      "TCGA-76-6662\n",
      "TCGA-12-1601\n",
      "TCGA-06-0182\n",
      "TCGA-02-0046\n",
      "TCGA-08-0522\n",
      "TCGA-06-0139\n",
      "TCGA-27-1838\n",
      "TCGA-06-0188\n",
      "TCGA-06-0177\n",
      "TCGA-27-2526\n",
      "TCGA-02-0068\n"
     ]
    }
   ],
   "source": [
    "import shutil\n",
    "\n",
    "for i in range(0, len(paths)):\n",
    "    print(paths['ID'].iloc[i])\n",
    "    try:\n",
    "#         os.mkdir(basedir + paths['ID'].iloc[i])\n",
    "        shutil.copytree(basedir + paths['T1'].iloc[i][1:], savedir + paths['ID'].iloc[i] + '/T1/') \n",
    "        shutil.copytree(basedir + paths['T1C'].iloc[i][1:], savedir + paths['ID'].iloc[i] + '/CT1/') \n",
    "        shutil.copytree(basedir + paths['T2'].iloc[i][1:], savedir + paths['ID'].iloc[i] + '/T2') \n",
    "        shutil.copytree(basedir + paths['FLAIR'].iloc[i][1:], savedir + paths['ID'].iloc[i] + '/FLAIR/')\n",
    "        \n",
    "    except OSError as error:\n",
    "        print(error) \n",
    "        pass  "
   ]
  },
  {
   "cell_type": "markdown",
   "metadata": {},
   "source": [
    "### For LGG"
   ]
  },
  {
   "cell_type": "code",
   "execution_count": 45,
   "metadata": {},
   "outputs": [],
   "source": [
    "paths = pd.read_csv('../lgg_paths.csv')\n",
    "basedir = '/anvar/public_datasets/tcia/'\n",
    "savedir = '/anvar/public_datasets/preproc_study/lgg/dicom/'\n",
    "os.makedirs('/anvar/public_datasets/preproc_study/lgg/dicom/')"
   ]
  },
  {
   "cell_type": "code",
   "execution_count": 25,
   "metadata": {},
   "outputs": [
    {
     "name": "stderr",
     "output_type": "stream",
     "text": [
      "/tmp/ipykernel_3922261/754726219.py:1: SettingWithCopyWarning: \n",
      "A value is trying to be set on a copy of a slice from a DataFrame\n",
      "\n",
      "See the caveats in the documentation: https://pandas.pydata.org/pandas-docs/stable/user_guide/indexing.html#returning-a-view-versus-a-copy\n",
      "  paths['FLAIR'][paths['ID'] == 'TCGA-CS-5390'] = ' manifest-25ZdsnMy5264093150469993200/TCGA-LGG/TCGA-CS-5390/03-07-1996-BRAINSTRYKER-97078/5.000000-BRAINSTRYKERDIFFUSION-72204'\n"
     ]
    }
   ],
   "source": [
    "paths['FLAIR'][paths['ID'] == 'TCGA-CS-5390'] = ' manifest-25ZdsnMy5264093150469993200/TCGA-LGG/TCGA-CS-5390/03-07-1996-BRAINSTRYKER-97078/5.000000-BRAINSTRYKERDIFFUSION-72204'"
   ]
  },
  {
   "cell_type": "code",
   "execution_count": 26,
   "metadata": {},
   "outputs": [
    {
     "name": "stderr",
     "output_type": "stream",
     "text": [
      "/tmp/ipykernel_3922261/4249988287.py:1: SettingWithCopyWarning: \n",
      "A value is trying to be set on a copy of a slice from a DataFrame\n",
      "\n",
      "See the caveats in the documentation: https://pandas.pydata.org/pandas-docs/stable/user_guide/indexing.html#returning-a-view-versus-a-copy\n",
      "  paths['T2'][paths['ID'] == 'TCGA-CS-4942'] = ' manifest-25ZdsnMy5264093150469993200/TCGA-LGG/TCGA-CS-4942/02-22-1997-MRI BRAIN WITHO-04689/401.000000-DUAL AX SE-07653'\n"
     ]
    }
   ],
   "source": [
    "paths['T2'][paths['ID'] == 'TCGA-CS-4942'] = ' manifest-25ZdsnMy5264093150469993200/TCGA-LGG/TCGA-CS-4942/02-22-1997-MRI BRAIN WITHO-04689/401.000000-DUAL AX SE-07653'"
   ]
  },
  {
   "cell_type": "code",
   "execution_count": 27,
   "metadata": {},
   "outputs": [],
   "source": [
    "# paths.to_csv('lgg_paths.csv')"
   ]
  },
  {
   "cell_type": "code",
   "execution_count": 44,
   "metadata": {},
   "outputs": [
    {
     "ename": "FileNotFoundError",
     "evalue": "[Errno 2] No such file or directory: '/anvar/public_datasets/preproc_study/lgg/dicom/TCGA-DU-7015/'",
     "output_type": "error",
     "traceback": [
      "\u001b[0;31m---------------------------------------------------------------------------\u001b[0m",
      "\u001b[0;31mFileNotFoundError\u001b[0m                         Traceback (most recent call last)",
      "\u001b[0;32m/tmp/ipykernel_3922261/1346353996.py\u001b[0m in \u001b[0;36m<module>\u001b[0;34m\u001b[0m\n\u001b[0;32m----> 1\u001b[0;31m \u001b[0mos\u001b[0m\u001b[0;34m.\u001b[0m\u001b[0mlistdir\u001b[0m\u001b[0;34m(\u001b[0m\u001b[0;34m'/anvar/public_datasets/preproc_study/lgg/dicom/TCGA-DU-7015/'\u001b[0m\u001b[0;34m)\u001b[0m\u001b[0;34m\u001b[0m\u001b[0;34m\u001b[0m\u001b[0m\n\u001b[0m",
      "\u001b[0;31mFileNotFoundError\u001b[0m: [Errno 2] No such file or directory: '/anvar/public_datasets/preproc_study/lgg/dicom/TCGA-DU-7015/'"
     ]
    }
   ],
   "source": [
    "os.listdir('/anvar/public_datasets/preproc_study/lgg/dicom/TCGA-DU-7015/')"
   ]
  },
  {
   "cell_type": "code",
   "execution_count": 41,
   "metadata": {},
   "outputs": [
    {
     "data": {
      "text/plain": [
       "['dicom', 'orig', 'meta.csv']"
      ]
     },
     "execution_count": 41,
     "metadata": {},
     "output_type": "execute_result"
    }
   ],
   "source": [
    "os.listdir('/anvar/public_datasets/preproc_study/lgg/')"
   ]
  },
  {
   "cell_type": "code",
   "execution_count": 42,
   "metadata": {},
   "outputs": [
    {
     "name": "stdout",
     "output_type": "stream",
     "text": [
      "TCGA-DU-7019\n",
      "[Errno 17] File exists: '/anvar/public_datasets/tcia/TCGA-DU-7019'\n",
      "TCGA-DU-7302\n",
      "[Errno 17] File exists: '/anvar/public_datasets/tcia/TCGA-DU-7302'\n",
      "TCGA-DU-5852\n",
      "[Errno 17] File exists: '/anvar/public_datasets/tcia/TCGA-DU-5852'\n",
      "TCGA-DU-7014\n",
      "[Errno 17] File exists: '/anvar/public_datasets/tcia/TCGA-DU-7014'\n",
      "TCGA-CS-6669\n",
      "[Errno 17] File exists: '/anvar/public_datasets/tcia/TCGA-CS-6669'\n",
      "TCGA-DU-6405\n",
      "[Errno 17] File exists: '/anvar/public_datasets/tcia/TCGA-DU-6405'\n",
      "TCGA-DU-5851\n",
      "[Errno 17] File exists: '/anvar/public_datasets/tcia/TCGA-DU-5851'\n",
      "TCGA-DU-5854\n",
      "[Errno 17] File exists: '/anvar/public_datasets/tcia/TCGA-DU-5854'\n",
      "TCGA-DU-6408\n",
      "[Errno 17] File exists: '/anvar/public_datasets/tcia/TCGA-DU-6408'\n",
      "TCGA-DU-5874\n",
      "[Errno 17] File exists: '/anvar/public_datasets/tcia/TCGA-DU-5874'\n",
      "TCGA-CS-5396\n",
      "[Errno 17] File exists: '/anvar/public_datasets/tcia/TCGA-CS-5396'\n",
      "TCGA-DU-7306\n",
      "[Errno 17] File exists: '/anvar/public_datasets/tcia/TCGA-DU-7306'\n",
      "TCGA-CS-5393\n",
      "[Errno 17] File exists: '/anvar/public_datasets/tcia/TCGA-CS-5393'\n",
      "TCGA-DU-5849\n",
      "[Errno 17] File exists: '/anvar/public_datasets/tcia/TCGA-DU-5849'\n",
      "TCGA-DU-6402\n",
      "[Errno 17] File exists: '/anvar/public_datasets/tcia/TCGA-DU-6402'\n",
      "TCGA-CS-6670\n",
      "[Errno 17] File exists: '/anvar/public_datasets/tcia/TCGA-CS-6670'\n",
      "TCGA-DU-5855\n",
      "[Errno 17] File exists: '/anvar/public_datasets/tcia/TCGA-DU-5855'\n",
      "TCGA-DU-6407\n",
      "[Errno 17] File exists: '/anvar/public_datasets/tcia/TCGA-DU-6407'\n",
      "TCGA-CS-4938\n",
      "[Errno 17] File exists: '/anvar/public_datasets/tcia/TCGA-CS-4938'\n",
      "TCGA-CS-5390\n",
      "[Errno 17] File exists: '/anvar/public_datasets/tcia/TCGA-CS-5390'\n",
      "TCGA-DU-7309\n",
      "[Errno 17] File exists: '/anvar/public_datasets/tcia/TCGA-DU-7309'\n",
      "TCGA-CS-6186\n",
      "[Errno 17] File exists: '/anvar/public_datasets/tcia/TCGA-CS-6186'\n",
      "TCGA-DU-7013\n",
      "[Errno 17] File exists: '/anvar/public_datasets/tcia/TCGA-DU-7013'\n",
      "TCGA-DU-7015\n",
      "[Errno 17] File exists: '/anvar/public_datasets/tcia/TCGA-DU-7015'\n",
      "TCGA-CS-5395\n",
      "[Errno 17] File exists: '/anvar/public_datasets/tcia/TCGA-CS-5395'\n",
      "TCGA-CS-6666\n",
      "[Errno 17] File exists: '/anvar/public_datasets/tcia/TCGA-CS-6666'\n",
      "TCGA-CS-4943\n",
      "[Errno 17] File exists: '/anvar/public_datasets/tcia/TCGA-CS-4943'\n",
      "TCGA-CS-4941\n",
      "[Errno 17] File exists: '/anvar/public_datasets/tcia/TCGA-CS-4941'\n",
      "TCGA-DU-8165\n",
      "[Errno 17] File exists: '/anvar/public_datasets/tcia/TCGA-DU-8165'\n",
      "TCGA-CS-6667\n",
      "[Errno 17] File exists: '/anvar/public_datasets/tcia/TCGA-CS-6667'\n",
      "TCGA-DU-5871\n",
      "[Errno 17] File exists: '/anvar/public_datasets/tcia/TCGA-DU-5871'\n",
      "TCGA-DU-7010\n",
      "[Errno 17] File exists: '/anvar/public_datasets/tcia/TCGA-DU-7010'\n",
      "TCGA-DU-6400\n",
      "[Errno 17] File exists: '/anvar/public_datasets/tcia/TCGA-DU-6400'\n",
      "TCGA-DU-7300\n",
      "[Errno 17] File exists: '/anvar/public_datasets/tcia/TCGA-DU-7300'\n",
      "TCGA-CS-6290\n",
      "[Errno 17] File exists: '/anvar/public_datasets/tcia/TCGA-CS-6290'\n",
      "TCGA-DU-8164\n",
      "[Errno 17] File exists: '/anvar/public_datasets/tcia/TCGA-DU-8164'\n",
      "TCGA-DU-7304\n",
      "[Errno 17] File exists: '/anvar/public_datasets/tcia/TCGA-DU-7304'\n",
      "TCGA-DU-8166\n",
      "[Errno 17] File exists: '/anvar/public_datasets/tcia/TCGA-DU-8166'\n",
      "TCGA-CS-6665\n",
      "[Errno 17] File exists: '/anvar/public_datasets/tcia/TCGA-CS-6665'\n",
      "TCGA-DU-7301\n",
      "[Errno 17] File exists: '/anvar/public_datasets/tcia/TCGA-DU-7301'\n",
      "TCGA-CS-4942\n",
      "[Errno 17] File exists: '/anvar/public_datasets/tcia/TCGA-CS-4942'\n",
      "TCGA-DU-5872\n",
      "[Errno 17] File exists: '/anvar/public_datasets/tcia/TCGA-DU-5872'\n",
      "TCGA-DU-7298\n",
      "[Errno 17] File exists: '/anvar/public_datasets/tcia/TCGA-DU-7298'\n",
      "TCGA-DU-5853\n",
      "[Errno 17] File exists: '/anvar/public_datasets/tcia/TCGA-DU-5853'\n",
      "TCGA-CS-5397\n",
      "[Errno 17] File exists: '/anvar/public_datasets/tcia/TCGA-CS-5397'\n",
      "TCGA-CS-5394\n",
      "[Errno 17] File exists: '/anvar/public_datasets/tcia/TCGA-CS-5394'\n",
      "TCGA-DU-7299\n",
      "[Errno 17] File exists: '/anvar/public_datasets/tcia/TCGA-DU-7299'\n",
      "TCGA-CS-4944\n",
      "[Errno 17] File exists: '/anvar/public_datasets/tcia/TCGA-CS-4944'\n",
      "TCGA-DU-6410\n",
      "[Errno 17] File exists: '/anvar/public_datasets/tcia/TCGA-DU-6410'\n",
      "TCGA-DU-7294\n",
      "[Errno 17] File exists: '/anvar/public_datasets/tcia/TCGA-DU-7294'\n",
      "TCGA-DU-8162\n",
      "[Errno 17] File exists: '/anvar/public_datasets/tcia/TCGA-DU-8162'\n",
      "TCGA-CS-6668\n",
      "[Errno 17] File exists: '/anvar/public_datasets/tcia/TCGA-CS-6668'\n",
      "TCGA-DU-7008\n",
      "[Errno 17] File exists: '/anvar/public_datasets/tcia/TCGA-DU-7008'\n",
      "TCGA-DU-A5TP\n",
      "[Errno 17] File exists: '/anvar/public_datasets/tcia/TCGA-DU-A5TP'\n",
      "TCGA-DU-6542\n",
      "[Errno 17] File exists: '/anvar/public_datasets/tcia/TCGA-DU-6542'\n",
      "TCGA-DU-8158\n",
      "[Errno 17] File exists: '/anvar/public_datasets/tcia/TCGA-DU-8158'\n",
      "TCGA-DU-8167\n",
      "[Errno 17] File exists: '/anvar/public_datasets/tcia/TCGA-DU-8167'\n",
      "TCGA-CS-6188\n",
      "[Errno 17] File exists: '/anvar/public_datasets/tcia/TCGA-CS-6188'\n",
      "TCGA-DU-8163\n",
      "[Errno 17] File exists: '/anvar/public_datasets/tcia/TCGA-DU-8163'\n",
      "TCGA-DU-6401\n",
      "[Errno 17] File exists: '/anvar/public_datasets/tcia/TCGA-DU-6401'\n",
      "TCGA-DU-6404\n",
      "[Errno 17] File exists: '/anvar/public_datasets/tcia/TCGA-DU-6404'\n",
      "TCGA-DU-6397\n",
      "[Errno 17] File exists: '/anvar/public_datasets/tcia/TCGA-DU-6397'\n",
      "TCGA-DU-6399\n",
      "[Errno 17] File exists: '/anvar/public_datasets/tcia/TCGA-DU-6399'\n",
      "TCGA-DU-7018\n",
      "[Errno 17] File exists: '/anvar/public_datasets/tcia/TCGA-DU-7018'\n",
      "TCGA-DU-8168\n",
      "[Errno 17] File exists: '/anvar/public_datasets/tcia/TCGA-DU-8168'\n",
      "TCGA-DU-6395\n",
      "[Errno 17] File exists: '/anvar/public_datasets/tcia/TCGA-DU-6395'\n"
     ]
    }
   ],
   "source": [
    "import shutil\n",
    "\n",
    "for i in range(0, len(paths)):\n",
    "    print(paths['ID'].iloc[i])\n",
    "    try:\n",
    "        os.mkdir(basedir + paths['ID'].iloc[i])\n",
    "        shutil.copytree(basedir + paths['T1'].iloc[i][1:], savedir + paths['ID'].iloc[i] + '/T1/') \n",
    "        shutil.copytree(basedir + paths['T1C'].iloc[i][1:], savedir + paths['ID'].iloc[i] + '/CT1/') \n",
    "        shutil.copytree(basedir + paths['T2'].iloc[i][1:], savedir + paths['ID'].iloc[i] + '/T2') \n",
    "        shutil.copytree(basedir + paths['FLAIR'].iloc[i][1:], savedir + paths['ID'].iloc[i] + '/FLAIR/')\n",
    "        \n",
    "    except OSError as error:\n",
    "        print(error) \n",
    "        pass  "
   ]
  },
  {
   "cell_type": "code",
   "execution_count": 35,
   "metadata": {},
   "outputs": [],
   "source": [
    "import glob\n",
    "glob.glob('/anvar/public_datasets/tcia/manifest-1588284345182/TCGA-GBM/TCGA-02-0086/*/*')\n",
    "\n",
    "rtdir = '/anvar/public_datasets/tcia/manifest-1588284345182/TCGA-LGG/'"
   ]
  },
  {
   "cell_type": "code",
   "execution_count": 36,
   "metadata": {},
   "outputs": [
    {
     "data": {
      "text/plain": [
       "66"
      ]
     },
     "execution_count": 36,
     "metadata": {},
     "output_type": "execute_result"
    }
   ],
   "source": [
    "len(os.listdir(rtdir))"
   ]
  },
  {
   "cell_type": "code",
   "execution_count": 37,
   "metadata": {},
   "outputs": [
    {
     "data": {
      "text/plain": [
       "38"
      ]
     },
     "execution_count": 37,
     "metadata": {},
     "output_type": "execute_result"
    }
   ],
   "source": [
    "len(glob.glob(savedir + '/*/' + '/RTSTRUCT/'))"
   ]
  },
  {
   "cell_type": "code",
   "execution_count": 38,
   "metadata": {},
   "outputs": [
    {
     "data": {
      "text/plain": [
       "'/anvar/public_datasets/tcia/manifest-1588284345182/TCGA-LGG/'"
      ]
     },
     "execution_count": 38,
     "metadata": {},
     "output_type": "execute_result"
    }
   ],
   "source": [
    "rtdir"
   ]
  },
  {
   "cell_type": "code",
   "execution_count": 39,
   "metadata": {},
   "outputs": [
    {
     "name": "stdout",
     "output_type": "stream",
     "text": [
      "TCGA-DU-7019\n",
      "['/anvar/public_datasets/tcia/manifest-1588284345182/TCGA-LGG/TCGA-DU-7019/09-08-1994-MRI BRAIN WWO CONTRAST-36813/']\n",
      "[Errno 17] File exists: '/anvar/public_datasets/preproc_study/lgg/dicom/TCGA-DU-7019/RTSTRUCT/'\n",
      "TCGA-DU-7302\n",
      "['/anvar/public_datasets/tcia/manifest-1588284345182/TCGA-LGG/TCGA-DU-7302/12-03-1991-MRI BRAIN WWO CONTRAST-41440/']\n",
      "[Errno 17] File exists: '/anvar/public_datasets/preproc_study/lgg/dicom/TCGA-DU-7302/RTSTRUCT/'\n",
      "TCGA-DU-5852\n",
      "[]\n",
      "list index out of range\n",
      "TCGA-DU-7014\n",
      "['/anvar/public_datasets/tcia/manifest-1588284345182/TCGA-LGG/TCGA-DU-7014/06-18-1986-TUMOR VOL.- WAND-80617/']\n",
      "[Errno 17] File exists: '/anvar/public_datasets/preproc_study/lgg/dicom/TCGA-DU-7014/RTSTRUCT/'\n",
      "TCGA-CS-6669\n",
      "['/anvar/public_datasets/tcia/manifest-1588284345182/TCGA-LGG/TCGA-CS-6669/01-02-2002-MRI BRAIN COMBO-45633/']\n",
      "[Errno 17] File exists: '/anvar/public_datasets/preproc_study/lgg/dicom/TCGA-CS-6669/RTSTRUCT/'\n",
      "TCGA-DU-6405\n",
      "[]\n",
      "list index out of range\n",
      "TCGA-DU-5851\n",
      "['/anvar/public_datasets/tcia/manifest-1588284345182/TCGA-LGG/TCGA-DU-5851/04-28-1995-MRI BRAIN WWO CONTRAST-02930/']\n",
      "[Errno 17] File exists: '/anvar/public_datasets/preproc_study/lgg/dicom/TCGA-DU-5851/RTSTRUCT/'\n",
      "TCGA-DU-5854\n",
      "['/anvar/public_datasets/tcia/manifest-1588284345182/TCGA-LGG/TCGA-DU-5854/11-04-1995-MRI BRAIN WWO CONTRAST-28000/']\n",
      "[Errno 17] File exists: '/anvar/public_datasets/preproc_study/lgg/dicom/TCGA-DU-5854/RTSTRUCT/'\n",
      "TCGA-DU-6408\n",
      "[]\n",
      "list index out of range\n",
      "TCGA-DU-5874\n",
      "['/anvar/public_datasets/tcia/manifest-1588284345182/TCGA-LGG/TCGA-DU-5874/05-10-1995-MRI BRAIN WWO CONTRAST-73527/']\n",
      "[Errno 17] File exists: '/anvar/public_datasets/preproc_study/lgg/dicom/TCGA-DU-5874/RTSTRUCT/'\n",
      "TCGA-CS-5396\n",
      "['/anvar/public_datasets/tcia/manifest-1588284345182/TCGA-LGG/TCGA-CS-5396/03-02-2001-MRI BRAIN CONTRAST MRA BRAIN-47605/']\n",
      "[Errno 17] File exists: '/anvar/public_datasets/preproc_study/lgg/dicom/TCGA-CS-5396/RTSTRUCT/'\n",
      "TCGA-DU-7306\n",
      "['/anvar/public_datasets/tcia/manifest-1588284345182/TCGA-LGG/TCGA-DU-7306/05-12-1993-MRI BRAIN WWO CONTRAST-11323/']\n",
      "[Errno 17] File exists: '/anvar/public_datasets/preproc_study/lgg/dicom/TCGA-DU-7306/RTSTRUCT/'\n",
      "TCGA-CS-5393\n",
      "['/anvar/public_datasets/tcia/manifest-1588284345182/TCGA-LGG/TCGA-CS-5393/06-06-1999-JHN MRI BRAINSTRYKER IP-28540/']\n",
      "[Errno 17] File exists: '/anvar/public_datasets/preproc_study/lgg/dicom/TCGA-CS-5393/RTSTRUCT/'\n",
      "TCGA-DU-5849\n",
      "[]\n",
      "list index out of range\n",
      "TCGA-DU-6402\n",
      "[]\n",
      "list index out of range\n",
      "TCGA-CS-6670\n",
      "[]\n",
      "list index out of range\n",
      "TCGA-DU-5855\n",
      "['/anvar/public_datasets/tcia/manifest-1588284345182/TCGA-LGG/TCGA-DU-5855/12-17-1995-MRI BRAINLABHEAD WWO-26777/']\n",
      "[Errno 17] File exists: '/anvar/public_datasets/preproc_study/lgg/dicom/TCGA-DU-5855/RTSTRUCT/'\n",
      "TCGA-DU-6407\n",
      "[]\n",
      "list index out of range\n",
      "TCGA-CS-4938\n",
      "[]\n",
      "list index out of range\n",
      "TCGA-CS-5390\n",
      "[]\n",
      "list index out of range\n",
      "TCGA-DU-7309\n",
      "['/anvar/public_datasets/tcia/manifest-1588284345182/TCGA-LGG/TCGA-DU-7309/08-31-1996-MRI BRAIN WWO CONTRAST-83234/']\n",
      "[Errno 17] File exists: '/anvar/public_datasets/preproc_study/lgg/dicom/TCGA-DU-7309/RTSTRUCT/'\n",
      "TCGA-CS-6186\n",
      "['/anvar/public_datasets/tcia/manifest-1588284345182/TCGA-LGG/TCGA-CS-6186/06-01-2000-MRI BRAIN per R-97608/']\n",
      "[Errno 17] File exists: '/anvar/public_datasets/preproc_study/lgg/dicom/TCGA-CS-6186/RTSTRUCT/'\n",
      "TCGA-DU-7013\n",
      "[]\n",
      "list index out of range\n",
      "TCGA-DU-7015\n",
      "['/anvar/public_datasets/tcia/manifest-1588284345182/TCGA-LGG/TCGA-DU-7015/06-18-1989-MRI BRAIN WWO CONTRAS-16160/']\n",
      "[Errno 17] File exists: '/anvar/public_datasets/preproc_study/lgg/dicom/TCGA-DU-7015/RTSTRUCT/'\n",
      "TCGA-CS-5395\n",
      "[]\n",
      "list index out of range\n",
      "TCGA-CS-6666\n",
      "['/anvar/public_datasets/tcia/manifest-1588284345182/TCGA-LGG/TCGA-CS-6666/11-09-2001-MRI BRAIN WITH-71602/']\n",
      "[Errno 17] File exists: '/anvar/public_datasets/preproc_study/lgg/dicom/TCGA-CS-6666/RTSTRUCT/'\n",
      "TCGA-CS-4943\n",
      "[]\n",
      "list index out of range\n",
      "TCGA-CS-4941\n",
      "[]\n",
      "list index out of range\n",
      "TCGA-DU-8165\n",
      "[]\n",
      "list index out of range\n",
      "TCGA-CS-6667\n",
      "[]\n",
      "list index out of range\n",
      "TCGA-DU-5871\n",
      "[]\n",
      "list index out of range\n",
      "TCGA-DU-7010\n",
      "['/anvar/public_datasets/tcia/manifest-1588284345182/TCGA-LGG/TCGA-DU-7010/03-07-1986-MRI OF BRAIN-22330/']\n",
      "[Errno 17] File exists: '/anvar/public_datasets/preproc_study/lgg/dicom/TCGA-DU-7010/RTSTRUCT/'\n",
      "TCGA-DU-6400\n",
      "[]\n",
      "list index out of range\n",
      "TCGA-DU-7300\n",
      "['/anvar/public_datasets/tcia/manifest-1588284345182/TCGA-LGG/TCGA-DU-7300/08-14-1991-MRI BRAIN WWO CONTRAST-33968/']\n",
      "[Errno 17] File exists: '/anvar/public_datasets/preproc_study/lgg/dicom/TCGA-DU-7300/RTSTRUCT/'\n",
      "TCGA-CS-6290\n",
      "[]\n",
      "list index out of range\n",
      "TCGA-DU-8164\n",
      "['/anvar/public_datasets/tcia/manifest-1588284345182/TCGA-LGG/TCGA-DU-8164/01-11-1997-MRI BRAIN WWO CONTRAST-98366/']\n",
      "[Errno 17] File exists: '/anvar/public_datasets/preproc_study/lgg/dicom/TCGA-DU-8164/RTSTRUCT/'\n",
      "TCGA-DU-7304\n",
      "['/anvar/public_datasets/tcia/manifest-1588284345182/TCGA-LGG/TCGA-DU-7304/03-25-1993-MRI BRAIN WWO CONTRAST-46100/']\n",
      "[Errno 17] File exists: '/anvar/public_datasets/preproc_study/lgg/dicom/TCGA-DU-7304/RTSTRUCT/'\n",
      "TCGA-DU-8166\n",
      "['/anvar/public_datasets/tcia/manifest-1588284345182/TCGA-LGG/TCGA-DU-8166/03-22-1997-MRI BRAIN WWO CONTRAST-94974/']\n",
      "[Errno 17] File exists: '/anvar/public_datasets/preproc_study/lgg/dicom/TCGA-DU-8166/RTSTRUCT/'\n",
      "TCGA-CS-6665\n",
      "['/anvar/public_datasets/tcia/manifest-1588284345182/TCGA-LGG/TCGA-CS-6665/08-17-2001-MRI BRAIN WITH-50114/']\n",
      "[Errno 17] File exists: '/anvar/public_datasets/preproc_study/lgg/dicom/TCGA-CS-6665/RTSTRUCT/'\n",
      "TCGA-DU-7301\n",
      "['/anvar/public_datasets/tcia/manifest-1588284345182/TCGA-LGG/TCGA-DU-7301/11-12-1991-MRI BRAIN WWO CONTRAST-22050/']\n",
      "[Errno 17] File exists: '/anvar/public_datasets/preproc_study/lgg/dicom/TCGA-DU-7301/RTSTRUCT/'\n",
      "TCGA-CS-4942\n",
      "['/anvar/public_datasets/tcia/manifest-1588284345182/TCGA-LGG/TCGA-CS-4942/02-22-1997-MRI BRAIN WITHO-04689/']\n",
      "[Errno 17] File exists: '/anvar/public_datasets/preproc_study/lgg/dicom/TCGA-CS-4942/RTSTRUCT/'\n",
      "TCGA-DU-5872\n",
      "['/anvar/public_datasets/tcia/manifest-1588284345182/TCGA-LGG/TCGA-DU-5872/02-23-1995-MRI BRAIN WWO CONTRAST-88714/']\n",
      "[Errno 17] File exists: '/anvar/public_datasets/preproc_study/lgg/dicom/TCGA-DU-5872/RTSTRUCT/'\n",
      "TCGA-DU-7298\n",
      "['/anvar/public_datasets/tcia/manifest-1588284345182/TCGA-LGG/TCGA-DU-7298/03-24-1991-MRI BRAIN WWO CONTRAST-10889/']\n",
      "[Errno 17] File exists: '/anvar/public_datasets/preproc_study/lgg/dicom/TCGA-DU-7298/RTSTRUCT/'\n",
      "TCGA-DU-5853\n",
      "[]\n",
      "list index out of range\n",
      "TCGA-CS-5397\n",
      "['/anvar/public_datasets/tcia/manifest-1588284345182/TCGA-LGG/TCGA-CS-5397/03-15-2001-MRI BRAIN STRYKERFUNCTIONAL MR-71991/']\n",
      "[Errno 17] File exists: '/anvar/public_datasets/preproc_study/lgg/dicom/TCGA-CS-5397/RTSTRUCT/'\n",
      "TCGA-CS-5394\n",
      "[]\n",
      "list index out of range\n",
      "TCGA-DU-7299\n",
      "['/anvar/public_datasets/tcia/manifest-1588284345182/TCGA-LGG/TCGA-DU-7299/04-17-1991-MRI BRAIN WWO CONTRAST-84114/']\n",
      "[Errno 17] File exists: '/anvar/public_datasets/preproc_study/lgg/dicom/TCGA-DU-7299/RTSTRUCT/'\n",
      "TCGA-CS-4944\n",
      "['/anvar/public_datasets/tcia/manifest-1588284345182/TCGA-LGG/TCGA-CS-4944/02-08-2001-JHN BRAIN-IP-65472/']\n",
      "[Errno 17] File exists: '/anvar/public_datasets/preproc_study/lgg/dicom/TCGA-CS-4944/RTSTRUCT/'\n",
      "TCGA-DU-6410\n",
      "[]\n",
      "list index out of range\n",
      "TCGA-DU-7294\n",
      "['/anvar/public_datasets/tcia/manifest-1588284345182/TCGA-LGG/TCGA-DU-7294/01-04-1989-MRI BRAIN WWO CONTRAS-19917/']\n",
      "[Errno 17] File exists: '/anvar/public_datasets/preproc_study/lgg/dicom/TCGA-DU-7294/RTSTRUCT/'\n",
      "TCGA-DU-8162\n",
      "['/anvar/public_datasets/tcia/manifest-1588284345182/TCGA-LGG/TCGA-DU-8162/10-29-1996-MRI BRAIN WWO CONTRAST-44912/']\n",
      "[Errno 17] File exists: '/anvar/public_datasets/preproc_study/lgg/dicom/TCGA-DU-8162/RTSTRUCT/'\n",
      "TCGA-CS-6668\n",
      "['/anvar/public_datasets/tcia/manifest-1588284345182/TCGA-LGG/TCGA-CS-6668/10-25-2001-MRI BRAIN per R-29896/']\n",
      "[Errno 17] File exists: '/anvar/public_datasets/preproc_study/lgg/dicom/TCGA-CS-6668/RTSTRUCT/'\n",
      "TCGA-DU-7008\n",
      "['/anvar/public_datasets/tcia/manifest-1588284345182/TCGA-LGG/TCGA-DU-7008/07-23-1983-60413/']\n",
      "[Errno 17] File exists: '/anvar/public_datasets/preproc_study/lgg/dicom/TCGA-DU-7008/RTSTRUCT/'\n",
      "TCGA-DU-A5TP\n",
      "[]\n",
      "list index out of range\n",
      "TCGA-DU-6542\n",
      "['/anvar/public_datasets/tcia/manifest-1588284345182/TCGA-LGG/TCGA-DU-6542/05-08-1996-MRI BRAIN WWO CONTRAST-27308/']\n",
      "[Errno 17] File exists: '/anvar/public_datasets/preproc_study/lgg/dicom/TCGA-DU-6542/RTSTRUCT/'\n",
      "TCGA-DU-8158\n",
      "[]\n",
      "list index out of range\n",
      "TCGA-DU-8167\n",
      "['/anvar/public_datasets/tcia/manifest-1588284345182/TCGA-LGG/TCGA-DU-8167/04-02-1997-MRI BRAIN WWO CONTRAST-29125/']\n",
      "[Errno 17] File exists: '/anvar/public_datasets/preproc_study/lgg/dicom/TCGA-DU-8167/RTSTRUCT/'\n",
      "TCGA-CS-6188\n",
      "['/anvar/public_datasets/tcia/manifest-1588284345182/TCGA-LGG/TCGA-CS-6188/08-12-2001-MRI BRAIN STRYKER JHN-95530/']\n",
      "[Errno 17] File exists: '/anvar/public_datasets/preproc_study/lgg/dicom/TCGA-CS-6188/RTSTRUCT/'\n",
      "TCGA-DU-8163\n",
      "[]\n",
      "list index out of range\n",
      "TCGA-DU-6401\n",
      "[]\n",
      "list index out of range\n",
      "TCGA-DU-6404\n",
      "['/anvar/public_datasets/tcia/manifest-1588284345182/TCGA-LGG/TCGA-DU-6404/06-29-1985-TUMOR VOLUME-62392/']\n",
      "[Errno 17] File exists: '/anvar/public_datasets/preproc_study/lgg/dicom/TCGA-DU-6404/RTSTRUCT/'\n",
      "TCGA-DU-6397\n",
      "[]\n",
      "list index out of range\n",
      "TCGA-DU-6399\n",
      "[]\n",
      "list index out of range\n",
      "TCGA-DU-7018\n",
      "['/anvar/public_datasets/tcia/manifest-1588284345182/TCGA-LGG/TCGA-DU-7018/12-20-1991-MRI BRAIN WWO CONTRAST-98852/']\n",
      "[Errno 17] File exists: '/anvar/public_datasets/preproc_study/lgg/dicom/TCGA-DU-7018/RTSTRUCT/'\n",
      "TCGA-DU-8168\n",
      "['/anvar/public_datasets/tcia/manifest-1588284345182/TCGA-LGG/TCGA-DU-8168/05-03-1997-MRI BRAIN WWO CONTRAST-55138/']\n",
      "[Errno 17] File exists: '/anvar/public_datasets/preproc_study/lgg/dicom/TCGA-DU-8168/RTSTRUCT/'\n",
      "TCGA-DU-6395\n",
      "[]\n",
      "list index out of range\n"
     ]
    }
   ],
   "source": [
    "import shutil\n",
    "\n",
    "for i in range(0, len(paths)):\n",
    "    print(paths['ID'].iloc[i])\n",
    "    try:\n",
    "#         os.mkdir(savedir + paths['ID'].iloc[i] + '/')\n",
    "        print(glob.glob(rtdir + paths['ID'].iloc[i] +'/*/'))\n",
    "        shutil.copytree(glob.glob(rtdir + paths['ID'].iloc[i] +'/*/')[0], savedir + paths['ID'].iloc[i] + '/RTSTRUCT/') \n",
    "      \n",
    "    except Exception as error:\n",
    "        print(error) \n",
    "        pass  \n",
    "          "
   ]
  },
  {
   "cell_type": "code",
   "execution_count": 40,
   "metadata": {},
   "outputs": [
    {
     "data": {
      "text/plain": [
       "66"
      ]
     },
     "execution_count": 40,
     "metadata": {},
     "output_type": "execute_result"
    }
   ],
   "source": [
    "len(paths)"
   ]
  }
 ],
 "metadata": {
  "kernelspec": {
   "display_name": "Python 3 (ipykernel)",
   "language": "python",
   "name": "python3"
  },
  "language_info": {
   "codemirror_mode": {
    "name": "ipython",
    "version": 3
   },
   "file_extension": ".py",
   "mimetype": "text/x-python",
   "name": "python",
   "nbconvert_exporter": "python",
   "pygments_lexer": "ipython3",
   "version": "3.9.1"
  }
 },
 "nbformat": 4,
 "nbformat_minor": 4
}
