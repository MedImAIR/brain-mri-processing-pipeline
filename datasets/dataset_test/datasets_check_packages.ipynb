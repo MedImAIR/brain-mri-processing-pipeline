{
 "cells": [
  {
   "cell_type": "code",
   "execution_count": 20,
   "metadata": {},
   "outputs": [],
   "source": [
    "import os, sys\n",
    "import numpy as np\n",
    "import ants\n",
    "import argparse\n",
    "import shutil\n",
    "import logging\n",
    "import subprocess\n",
    "import glob\n",
    "from tqdm import tqdm\n",
    "import matplotlib.pyplot as plt \n",
    "import pandas as pd"
   ]
  },
  {
   "cell_type": "code",
   "execution_count": 24,
   "metadata": {},
   "outputs": [],
   "source": [
    "from glob2 import glob\n",
    "\n",
    "path_gbm = '/anvar/public_datasets/preproc_study/gbm/1_reg'\n",
    "path_bgpd = '/anvar/public_datasets/preproc_study/bgpd/orig'\n",
    "path_schw = '/anvar/public_datasets/preproc_study/schw/orig'\n",
    "\n",
    "list_gbm = glob(path_gbm + '/**/CT1_SEG.nii.gz')\n",
    "list_bgpd = glob(path_bgpd + '/**/mask_GTV_FLAIR.nii.gz')\n",
    "list_schw = glob(path_schw + '/**/T1_SEG.nii.gz')"
   ]
  },
  {
   "cell_type": "code",
   "execution_count": 26,
   "metadata": {},
   "outputs": [
    {
     "name": "stderr",
     "output_type": "stream",
     "text": [
      " 19%|█▊        | 19/102 [00:05<00:14,  5.69it/s]"
     ]
    },
    {
     "name": "stdout",
     "output_type": "stream",
     "text": [
      "/anvar/public_datasets/preproc_study/gbm/1_reg/TCGA-76-6661/CT1_SEG.nii.gz\n",
      "weird channels [1.560928 4.682784 6.243712]\n",
      "[1. 2. 3.]\n"
     ]
    },
    {
     "name": "stderr",
     "output_type": "stream",
     "text": [
      " 46%|████▌     | 47/102 [00:15<00:24,  2.25it/s]"
     ]
    },
    {
     "name": "stdout",
     "output_type": "stream",
     "text": [
      "/anvar/public_datasets/preproc_study/gbm/1_reg/TCGA-14-1794/CT1_SEG.nii.gz\n",
      "weird channels [2.5308914 5.061783  7.5926743]\n"
     ]
    },
    {
     "name": "stderr",
     "output_type": "stream",
     "text": [
      "\r",
      " 47%|████▋     | 48/102 [00:15<00:25,  2.09it/s]"
     ]
    },
    {
     "name": "stdout",
     "output_type": "stream",
     "text": [
      "[1. 2. 3.]\n"
     ]
    },
    {
     "name": "stderr",
     "output_type": "stream",
     "text": [
      " 58%|█████▊    | 59/102 [00:21<00:19,  2.21it/s]"
     ]
    },
    {
     "name": "stdout",
     "output_type": "stream",
     "text": [
      "/anvar/public_datasets/preproc_study/gbm/1_reg/TCGA-76-6657/CT1_SEG.nii.gz\n",
      "weird channels [3.2803419 6.5606837 9.841025 ]\n",
      "[1. 2. 3.]\n"
     ]
    },
    {
     "name": "stderr",
     "output_type": "stream",
     "text": [
      " 61%|██████    | 62/102 [00:22<00:12,  3.29it/s]"
     ]
    },
    {
     "name": "stdout",
     "output_type": "stream",
     "text": [
      "/anvar/public_datasets/preproc_study/gbm/1_reg/TCGA-76-6662/CT1_SEG.nii.gz\n",
      "weird channels [1.8251526 3.6503053 5.475458 ]\n",
      "[1. 2. 3.]\n"
     ]
    },
    {
     "name": "stderr",
     "output_type": "stream",
     "text": [
      " 70%|██████▉   | 71/102 [00:26<00:16,  1.87it/s]"
     ]
    },
    {
     "name": "stdout",
     "output_type": "stream",
     "text": [
      "/anvar/public_datasets/preproc_study/gbm/1_reg/TCGA-76-4935/CT1_SEG.nii.gz\n",
      "weird channels [1.4778999 2.9557998 4.4336996]\n",
      "[1. 2. 3.]\n"
     ]
    },
    {
     "name": "stderr",
     "output_type": "stream",
     "text": [
      " 76%|███████▋  | 78/102 [00:28<00:05,  4.22it/s]"
     ]
    },
    {
     "name": "stdout",
     "output_type": "stream",
     "text": [
      "/anvar/public_datasets/preproc_study/gbm/1_reg/TCGA-76-6664/CT1_SEG.nii.gz\n",
      "weird channels [1.8178266 3.6356533 5.45348  ]\n",
      "[1. 2. 3.]\n",
      "/anvar/public_datasets/preproc_study/gbm/1_reg/TCGA-76-6663/CT1_SEG.nii.gz\n",
      "weird channels [ 3.823199  7.646398 11.469597]\n",
      "[1. 2. 3.]\n"
     ]
    },
    {
     "name": "stderr",
     "output_type": "stream",
     "text": [
      " 78%|███████▊  | 80/102 [00:28<00:04,  4.78it/s]"
     ]
    },
    {
     "name": "stdout",
     "output_type": "stream",
     "text": [
      "/anvar/public_datasets/preproc_study/gbm/1_reg/TCGA-76-4934/CT1_SEG.nii.gz\n",
      "weird channels [1.524298 3.048596 4.572894]\n",
      "[1. 2. 3.]\n"
     ]
    },
    {
     "name": "stderr",
     "output_type": "stream",
     "text": [
      " 95%|█████████▌| 97/102 [00:38<00:02,  1.76it/s]"
     ]
    },
    {
     "name": "stdout",
     "output_type": "stream",
     "text": [
      "/anvar/public_datasets/preproc_study/gbm/1_reg/TCGA-76-6656/CT1_SEG.nii.gz\n",
      "weird channels [1.9323565 3.864713  5.7970695]\n",
      "[1. 2. 3.]\n"
     ]
    },
    {
     "name": "stderr",
     "output_type": "stream",
     "text": [
      "100%|██████████| 102/102 [00:39<00:00,  2.56it/s]\n"
     ]
    }
   ],
   "source": [
    "# checking for right labels\n",
    "import ants\n",
    "\n",
    "for img_path in tqdm(list_gbm):\n",
    "    img_orig = ants.image_read(img_path)\n",
    "    channels = np.unique(img_orig.numpy())[1:]\n",
    "    if channels[0] != 1:\n",
    "        print(img_path)\n",
    "        print('weird channels', channels)\n",
    "        result_arr = img_orig.numpy()\n",
    "        result_arr[result_arr == channels[0]] = int(1)\n",
    "        result_arr[result_arr == channels[1]] = int(2)\n",
    "        result_arr[result_arr == channels[2]] = int(3)\n",
    "        img_new = img_orig.new_image_like(result_arr)\n",
    "        print(np.unique(img_new.numpy())[1:])\n",
    "#         os.remove(img_path)\n",
    "#         ants.image_write(img_new, img_path, ri=False);"
   ]
  },
  {
   "cell_type": "code",
   "execution_count": null,
   "metadata": {},
   "outputs": [],
   "source": []
  }
 ],
 "metadata": {
  "kernelspec": {
   "display_name": "Python 3 (ipykernel)",
   "language": "python",
   "name": "python3"
  },
  "language_info": {
   "codemirror_mode": {
    "name": "ipython",
    "version": 3
   },
   "file_extension": ".py",
   "mimetype": "text/x-python",
   "name": "python",
   "nbconvert_exporter": "python",
   "pygments_lexer": "ipython3",
   "version": "3.9.1"
  }
 },
 "nbformat": 4,
 "nbformat_minor": 4
}
