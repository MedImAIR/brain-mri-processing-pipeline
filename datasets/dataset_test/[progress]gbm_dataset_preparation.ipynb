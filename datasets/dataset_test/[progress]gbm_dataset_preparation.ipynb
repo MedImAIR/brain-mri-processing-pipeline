{
 "cells": [
  {
   "cell_type": "code",
   "execution_count": 7,
   "metadata": {},
   "outputs": [],
   "source": [
    "import os\n",
    "import matplotlib.pyplot as plt\n",
    "import numpy as np\n",
    "from tqdm import tqdm\n",
    "import ants"
   ]
  },
  {
   "cell_type": "code",
   "execution_count": 8,
   "metadata": {},
   "outputs": [],
   "source": [
    "from glob2 import glob\n",
    "\n",
    "path_gbm = '/anvar/public_datasets/preproc_study/gbm/orig'\n",
    "path_bgpd = '/anvar/public_datasets/preproc_study/bgpd/orig'\n",
    "path_schw = '/anvar/public_datasets/preproc_study/schw/orig'\n",
    "\n",
    "list_gbm = glob(path_gbm + '/**/CT1_SEG.nii.gz')\n",
    "list_bgpd = glob(path_bgpd + '/**/mask_GTV_FLAIR.nii.gz')\n",
    "list_schw = glob(path_schw + '/**/T1_SEG.nii.gz')"
   ]
  },
  {
   "cell_type": "code",
   "execution_count": 29,
   "metadata": {},
   "outputs": [
    {
     "name": "stderr",
     "output_type": "stream",
     "text": [
      "100%|██████████| 102/102 [00:38<00:00,  2.67it/s]\n"
     ]
    }
   ],
   "source": [
    "# checking orig for right labels\n",
    "path_gbm = '/anvar/public_datasets/preproc_study/gbm/1_reg'\n",
    "list_gbm = glob(path_gbm + '/**/CT1_SEG.nii.gz')\n",
    "\n",
    "for img_path in tqdm(list_gbm):\n",
    "    img_orig = ants.image_read(img_path)\n",
    "    channels = np.unique(img_orig.numpy())[1:]\n",
    "    if channels[0] != 1:\n",
    "        print(img_path)\n",
    "        print('weird channels', channels)\n",
    "        result_arr = img_orig.numpy()\n",
    "        result_arr[result_arr == channels[0]] = int(1)\n",
    "        result_arr[result_arr == channels[1]] = int(2)\n",
    "        result_arr[result_arr == channels[2]] = int(3)\n",
    "        img_new = img_orig.new_image_like(result_arr)\n",
    "        print(np.unique(img_new.numpy())[1:])\n",
    "#         os.remove(img_path)\n",
    "#         ants.image_write(img_new, img_path, ri=False);"
   ]
  },
  {
   "cell_type": "code",
   "execution_count": 30,
   "metadata": {},
   "outputs": [
    {
     "name": "stderr",
     "output_type": "stream",
     "text": [
      "100%|██████████| 102/102 [00:40<00:00,  2.53it/s]\n"
     ]
    }
   ],
   "source": [
    "# checking orig for right labels\n",
    "path_gbm = '/anvar/public_datasets/preproc_study/gbm/4a_resamp'\n",
    "list_gbm = glob(path_gbm + '/**/CT1_SEG.nii.gz')\n",
    "\n",
    "for img_path in tqdm(list_gbm):\n",
    "    img_orig = ants.image_read(img_path)\n",
    "    channels = np.unique(img_orig.numpy())[1:]\n",
    "    if channels[0] != 1:\n",
    "        print(img_path)\n",
    "        print('weird channels', channels)\n",
    "        result_arr = img_orig.numpy()\n",
    "        result_arr[result_arr == channels[0]] = int(1)\n",
    "        result_arr[result_arr == channels[1]] = int(2)\n",
    "        result_arr[result_arr == channels[2]] = int(3)\n",
    "        img_new = img_orig.new_image_like(result_arr)\n",
    "        print(np.unique(img_new.numpy())[1:])\n",
    "#         os.remove(img_path)\n",
    "#         ants.image_write(img_new, img_path, ri=False);"
   ]
  },
  {
   "cell_type": "markdown",
   "metadata": {},
   "source": [
    "### Check new saved"
   ]
  },
  {
   "cell_type": "code",
   "execution_count": 12,
   "metadata": {},
   "outputs": [
    {
     "data": {
      "text/plain": [
       "['T2.nii.gz', 'FLAIR.nii.gz', 'T1.nii.gz', 'CT1_SEG.nii.gz', 'CT1.nii.gz']"
      ]
     },
     "execution_count": 12,
     "metadata": {},
     "output_type": "execute_result"
    }
   ],
   "source": [
    "os.listdir('/anvar/public_datasets/preproc_study/gbm/1_reg/TCGA-02-0086')"
   ]
  },
  {
   "cell_type": "code",
   "execution_count": 33,
   "metadata": {},
   "outputs": [
    {
     "data": {
      "text/plain": [
       "(320, 320, 30)"
      ]
     },
     "execution_count": 33,
     "metadata": {},
     "output_type": "execute_result"
    }
   ],
   "source": [
    "mask.shape"
   ]
  },
  {
   "cell_type": "code",
   "execution_count": 14,
   "metadata": {},
   "outputs": [
    {
     "name": "stderr",
     "output_type": "stream",
     "text": [
      " 19%|█▊        | 19/102 [00:04<00:14,  5.78it/s]"
     ]
    },
    {
     "name": "stdout",
     "output_type": "stream",
     "text": [
      "/anvar/public_datasets/preproc_study/gbm/orig/TCGA-76-6661/CT1_SEG.nii.gz\n",
      "weird channels [1.560928 4.682784 6.243712]\n",
      "[1. 2. 3.]\n"
     ]
    },
    {
     "name": "stderr",
     "output_type": "stream",
     "text": [
      " 46%|████▌     | 47/102 [00:13<00:20,  2.68it/s]"
     ]
    },
    {
     "name": "stdout",
     "output_type": "stream",
     "text": [
      "/anvar/public_datasets/preproc_study/gbm/orig/TCGA-14-1794/CT1_SEG.nii.gz\n",
      "weird channels [2.5308914 5.061783  7.5926743]\n"
     ]
    },
    {
     "name": "stderr",
     "output_type": "stream",
     "text": [
      "\r",
      " 47%|████▋     | 48/102 [00:13<00:22,  2.36it/s]"
     ]
    },
    {
     "name": "stdout",
     "output_type": "stream",
     "text": [
      "[1. 2. 3.]\n"
     ]
    },
    {
     "name": "stderr",
     "output_type": "stream",
     "text": [
      " 58%|█████▊    | 59/102 [00:19<00:16,  2.58it/s]"
     ]
    },
    {
     "name": "stdout",
     "output_type": "stream",
     "text": [
      "/anvar/public_datasets/preproc_study/gbm/orig/TCGA-76-6657/CT1_SEG.nii.gz\n",
      "weird channels [3.2803419 6.5606837 9.841025 ]\n",
      "[1. 2. 3.]\n"
     ]
    },
    {
     "name": "stderr",
     "output_type": "stream",
     "text": [
      " 61%|██████    | 62/102 [00:19<00:10,  3.72it/s]"
     ]
    },
    {
     "name": "stdout",
     "output_type": "stream",
     "text": [
      "/anvar/public_datasets/preproc_study/gbm/orig/TCGA-76-6662/CT1_SEG.nii.gz\n",
      "weird channels [1.8251526 3.6503053 5.475458 ]\n",
      "[1. 2. 3.]\n"
     ]
    },
    {
     "name": "stderr",
     "output_type": "stream",
     "text": [
      " 70%|██████▉   | 71/102 [00:23<00:14,  2.11it/s]"
     ]
    },
    {
     "name": "stdout",
     "output_type": "stream",
     "text": [
      "/anvar/public_datasets/preproc_study/gbm/orig/TCGA-76-4935/CT1_SEG.nii.gz\n",
      "weird channels [1.4778999 2.9557998 4.4336996]\n",
      "[1. 2. 3.]\n"
     ]
    },
    {
     "name": "stderr",
     "output_type": "stream",
     "text": [
      " 76%|███████▋  | 78/102 [00:24<00:05,  4.69it/s]"
     ]
    },
    {
     "name": "stdout",
     "output_type": "stream",
     "text": [
      "/anvar/public_datasets/preproc_study/gbm/orig/TCGA-76-6664/CT1_SEG.nii.gz\n",
      "weird channels [1.8178266 3.6356533 5.45348  ]\n",
      "[1. 2. 3.]\n",
      "/anvar/public_datasets/preproc_study/gbm/orig/TCGA-76-6663/CT1_SEG.nii.gz\n",
      "weird channels [ 3.823199  7.646398 11.469597]\n",
      "[1. 2. 3.]\n"
     ]
    },
    {
     "name": "stderr",
     "output_type": "stream",
     "text": [
      "\r",
      " 78%|███████▊  | 80/102 [00:25<00:04,  5.29it/s]"
     ]
    },
    {
     "name": "stdout",
     "output_type": "stream",
     "text": [
      "/anvar/public_datasets/preproc_study/gbm/orig/TCGA-76-4934/CT1_SEG.nii.gz\n",
      "weird channels [1.524298 3.048596 4.572894]\n",
      "[1. 2. 3.]\n"
     ]
    },
    {
     "name": "stderr",
     "output_type": "stream",
     "text": [
      " 95%|█████████▌| 97/102 [00:33<00:02,  2.04it/s]"
     ]
    },
    {
     "name": "stdout",
     "output_type": "stream",
     "text": [
      "/anvar/public_datasets/preproc_study/gbm/orig/TCGA-76-6656/CT1_SEG.nii.gz\n",
      "weird channels [1.9323565 3.864713  5.7970695]\n",
      "[1. 2. 3.]\n"
     ]
    },
    {
     "name": "stderr",
     "output_type": "stream",
     "text": [
      "100%|██████████| 102/102 [00:35<00:00,  2.90it/s]\n"
     ]
    }
   ],
   "source": [
    "# checking 1_reg for right labels\n",
    "\n",
    "path_gbm = '/anvar/public_datasets/preproc_study/gbm/4a_reasmp'\n",
    "\n",
    "for img_path in tqdm(list_gbm):\n",
    "    img_orig = ants.image_read(img_path)\n",
    "    channels = np.unique(img_orig.numpy())[1:]\n",
    "    if channels[0] != 1:\n",
    "        print(img_path)\n",
    "        print('weird channels', channels)\n",
    "        result_arr = img_orig.numpy()\n",
    "        result_arr[result_arr == channels[0]] = int(1)\n",
    "        result_arr[result_arr == channels[1]] = int(2)\n",
    "        result_arr[result_arr == channels[2]] = int(3)\n",
    "        img_new = img_orig.new_image_like(result_arr)\n",
    "        print(np.unique(img_new.numpy())[1:])\n",
    "#         os.remove(img_path)"
   ]
  },
  {
   "cell_type": "code",
   "execution_count": 16,
   "metadata": {},
   "outputs": [],
   "source": [
    "def check_multiple_channels(path_to_img):\n",
    "    \"\"\"check that for Untypical channels, like [ 3.823199  7.646398 11.469597].\n",
    "    This happens on GBM or LGG datasets, with multichanel target, after registration.\n",
    "    \"\"\"\n",
    "    img = ants.image_read(path_to_img)\n",
    "\n",
    "    channels = np.unique(img.numpy())[1:]\n",
    "    if np.shape(channels)[0] > 1:\n",
    "        if channels[0] != 1:\n",
    "            print(path_to_img)\n",
    "            print('Untypical channels', channels)\n",
    "            result_arr = img.numpy()\n",
    "            result_arr[result_arr == channels[0]] = int(1)\n",
    "            result_arr[result_arr == channels[1]] = int(2)\n",
    "            result_arr[result_arr == channels[2]] = int(3)\n",
    "            img_new = img.new_image_like(result_arr)\n",
    "            img = img_new\n",
    "            channels = [1,2,3]\n",
    "\n",
    "    return(img , channels)"
   ]
  },
  {
   "cell_type": "code",
   "execution_count": 17,
   "metadata": {},
   "outputs": [],
   "source": [
    "mask = ants.image_read('/anvar/public_datasets/preproc_study/gbm/orig/TCGA-76-6656/CT1_SEG.nii.gz')"
   ]
  },
  {
   "cell_type": "code",
   "execution_count": 18,
   "metadata": {},
   "outputs": [],
   "source": [
    " channels = np.unique(mask.numpy())[1:]"
   ]
  },
  {
   "cell_type": "code",
   "execution_count": 19,
   "metadata": {},
   "outputs": [
    {
     "data": {
      "text/plain": [
       "array([1.9323565, 3.864713 , 5.7970695], dtype=float32)"
      ]
     },
     "execution_count": 19,
     "metadata": {},
     "output_type": "execute_result"
    }
   ],
   "source": [
    " channels"
   ]
  },
  {
   "cell_type": "code",
   "execution_count": 20,
   "metadata": {},
   "outputs": [
    {
     "name": "stdout",
     "output_type": "stream",
     "text": [
      "/anvar/public_datasets/preproc_study/gbm/orig/TCGA-76-6656/CT1_SEG.nii.gz\n",
      "Untypical channels [1.9323565 3.864713  5.7970695]\n"
     ]
    }
   ],
   "source": [
    "mask, ch = check_multiple_channels('/anvar/public_datasets/preproc_study/gbm/orig/TCGA-76-6656/CT1_SEG.nii.gz')"
   ]
  },
  {
   "cell_type": "code",
   "execution_count": 21,
   "metadata": {},
   "outputs": [
    {
     "data": {
      "text/plain": [
       "array([1., 2., 3.], dtype=float32)"
      ]
     },
     "execution_count": 21,
     "metadata": {},
     "output_type": "execute_result"
    }
   ],
   "source": [
    "np.unique(mask.numpy())[1:]"
   ]
  },
  {
   "cell_type": "code",
   "execution_count": null,
   "metadata": {},
   "outputs": [],
   "source": []
  }
 ],
 "metadata": {
  "kernelspec": {
   "display_name": "Python 3 (ipykernel)",
   "language": "python",
   "name": "python3"
  },
  "language_info": {
   "codemirror_mode": {
    "name": "ipython",
    "version": 3
   },
   "file_extension": ".py",
   "mimetype": "text/x-python",
   "name": "python",
   "nbconvert_exporter": "python",
   "pygments_lexer": "ipython3",
   "version": "3.9.1"
  }
 },
 "nbformat": 4,
 "nbformat_minor": 4
}
