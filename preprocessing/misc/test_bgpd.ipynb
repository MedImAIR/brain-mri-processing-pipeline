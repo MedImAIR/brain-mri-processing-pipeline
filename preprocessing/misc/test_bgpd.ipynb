{
 "cells": [
  {
   "cell_type": "code",
   "execution_count": 2,
   "metadata": {},
   "outputs": [],
   "source": [
    "import os, sys\n",
    "import numpy as np\n",
    "import ants\n",
    "import argparse\n",
    "import shutil\n",
    "import logging\n",
    "import subprocess\n",
    "import tqdm\n",
    "import matplotlib.pyplot as plt \n",
    "import pandas as pd"
   ]
  },
  {
   "cell_type": "markdown",
   "metadata": {},
   "source": [
    "### Testing must inclide check on:\n",
    "1. Nan and Infifnite values\n",
    "2. int in labels\n",
    "3. Different to parent folder\n",
    "4. Equal orientation to parent folder\n",
    "5. Visual inspection on one modality"
   ]
  },
  {
   "cell_type": "code",
   "execution_count": 13,
   "metadata": {},
   "outputs": [
    {
     "name": "stderr",
     "output_type": "stream",
     "text": [
      "100%|██████████| 181/181 [04:13<00:00,  1.40s/it]\n"
     ]
    }
   ],
   "source": [
    "## check for nans\n",
    "for patient in tqdm.tqdm(os.listdir('/anvar/public_datasets/preproc_study/bgpd/4a_resamp/')):\n",
    "    if patient != 'logging.txt':\n",
    "        \n",
    "        for modality in ['T1.nii.gz','T2.nii.gz','FLAIR.nii.gz','CT1.nii.gz','mask_GTV_FLAIR.nii.gz']:\n",
    "            img = ants.image_read('/anvar/public_datasets/preproc_study/bgpd/4a_resamp/{}/{}'.format(patient, modality))\n",
    "            if not img.sum() > 0:\n",
    "                print(patient,modality, 'Amount of nans:', np.shape(np.argwhere(np.isnan(img.numpy()))))"
   ]
  },
  {
   "cell_type": "code",
   "execution_count": 26,
   "metadata": {},
   "outputs": [
    {
     "name": "stderr",
     "output_type": "stream",
     "text": [
      "100%|██████████| 181/181 [05:03<00:00,  1.68s/it]\n"
     ]
    }
   ],
   "source": [
    "## nans and wrong labels\n",
    "label = np.asarray([0,1])\n",
    "\n",
    "for patient in tqdm.tqdm(os.listdir('/anvar/public_datasets/preproc_study/bgpd/4a_resamp/')):\n",
    "    if patient != 'logging.txt':\n",
    "        for modality in ['T1.nii.gz','T2.nii.gz','FLAIR.nii.gz','CT1.nii.gz','mask_GTV_FLAIR.nii.gz']:\n",
    "            img = ants.image_read('/anvar/public_datasets/preproc_study/bgpd/4a_resamp/{}/{}'.format(patient, modality))\n",
    "            if not img.sum() > 0:\n",
    "                print(patient,modality, 'Amount of nans:', np.shape(np.argwhere(np.isnan(img.numpy()))))\n",
    "            if modality == 'mask_GTV_FLAIR.nii.gz':\n",
    "                ## very ugly check if there are needed values in mask\n",
    "                if not (np.unique(img.numpy()) == label).sum() == 2:\n",
    "                    print('Assert label', patient, np.unique(img.numpy()) )"
   ]
  },
  {
   "cell_type": "code",
   "execution_count": null,
   "metadata": {},
   "outputs": [],
   "source": []
  },
  {
   "cell_type": "code",
   "execution_count": 5,
   "metadata": {},
   "outputs": [
    {
     "data": {
      "text/plain": [
       "['3a_atlas',\n",
       " 'orig',\n",
       " '3b_n4',\n",
       " '5_ss_shared',\n",
       " '2a_interp',\n",
       " '3d_susan',\n",
       " '4a_resamp',\n",
       " '1_reg',\n",
       " '6_hist']"
      ]
     },
     "execution_count": 5,
     "metadata": {},
     "output_type": "execute_result"
    }
   ],
   "source": [
    "os.listdir('/anvar/public_datasets/preproc_study/bgpd/')"
   ]
  },
  {
   "cell_type": "code",
   "execution_count": 11,
   "metadata": {
    "scrolled": true
   },
   "outputs": [
    {
     "name": "stderr",
     "output_type": "stream",
     "text": [
      "\r",
      "  0%|          | 0/181 [00:00<?, ?it/s]"
     ]
    },
    {
     "name": "stdout",
     "output_type": "stream",
     "text": [
      "/home/kate/projects/qc_preprocessing/4a_resamp_bgpd/\n"
     ]
    },
    {
     "name": "stderr",
     "output_type": "stream",
     "text": [
      " 92%|█████████▏| 166/181 [07:40<00:38,  2.54s/it]"
     ]
    },
    {
     "name": "stdout",
     "output_type": "stream",
     "text": [
      "File /anvar/public_datasets/preproc_study/bgpd/4a_resamp/logging.txt/CT1.nii.gz does not exist! logging.txt\n"
     ]
    },
    {
     "name": "stderr",
     "output_type": "stream",
     "text": [
      "100%|██████████| 181/181 [08:18<00:00,  2.76s/it]\n"
     ]
    }
   ],
   "source": [
    "import tqdm\n",
    "path = '4a_resamp'\n",
    "\n",
    "print('/home/kate/projects/qc_preprocessing/{}_bgpd/'.format(path))\n",
    "os.makedirs('/home/kate/projects/qc_preprocessing/{}_bgpd/'.format(path), exist_ok = True)\n",
    "\n",
    "def plot_qc(image, mask, patient_id):\n",
    "    fig, axs = plt.subplots(3,3,figsize=(12,12))\n",
    "    idx = np.argsort(mask.sum(axis=(0,1)))[-3:]\n",
    "    for i in range(3):\n",
    "        axs[i, 0].imshow(image[..., idx[i]], cmap='gray')\n",
    "        axs[i, 1].imshow(mask[..., idx[i]], cmap='gray')\n",
    "        axs[i, 2].imshow(image[..., idx[i]]+200*mask[..., idx[i]], cmap='gray')\n",
    "    axs[0,0].set_title(patient_id)\n",
    "    plt.tight_layout()\n",
    "    plt.savefig(f'/home/kate/projects/qc_preprocessing/{path}_bgpd/{patient_id}.png', dpi=300)\n",
    "    plt.plot()\n",
    "    plt.close(fig)\n",
    "\n",
    "output = '/anvar/public_datasets/preproc_study/bgpd/{}/'.format(path)\n",
    "\n",
    "for patient in tqdm.tqdm(os.listdir(output)):\n",
    "    try:\n",
    "        im = ants.image_read(output + patient +'/CT1.nii.gz')\n",
    "        mask = ants.image_read(output + patient +'/mask_GTV_FLAIR.nii.gz')\n",
    "        plot_qc(im, mask, patient_id=str(patient))\n",
    "    except Exception as e:\n",
    "        print(e, patient)"
   ]
  },
  {
   "cell_type": "code",
   "execution_count": null,
   "metadata": {},
   "outputs": [],
   "source": []
  }
 ],
 "metadata": {
  "kernelspec": {
   "display_name": "Python 3 (ipykernel)",
   "language": "python",
   "name": "python3"
  },
  "language_info": {
   "codemirror_mode": {
    "name": "ipython",
    "version": 3
   },
   "file_extension": ".py",
   "mimetype": "text/x-python",
   "name": "python",
   "nbconvert_exporter": "python",
   "pygments_lexer": "ipython3",
   "version": "3.9.1"
  }
 },
 "nbformat": 4,
 "nbformat_minor": 4
}
