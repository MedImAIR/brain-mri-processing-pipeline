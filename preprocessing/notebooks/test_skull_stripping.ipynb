{
 "cells": [
  {
   "cell_type": "code",
   "execution_count": 16,
   "id": "b5f4b23f",
   "metadata": {},
   "outputs": [],
   "source": [
    "import matplotlib.pyplot as plt\n",
    "import nibabel\n",
    "import numpy as np\n",
    "import pandas as pd\n",
    "from pathlib import Path\n",
    "from skimage.transform import rescale\n",
    "from tqdm import tqdm\n",
    "import os\n",
    "import researchpy\n",
    "from glob import glob\n",
    "import shutil"
   ]
  },
  {
   "cell_type": "markdown",
   "id": "16aee24b",
   "metadata": {},
   "source": [
    "# LGG"
   ]
  },
  {
   "cell_type": "markdown",
   "id": "82907381",
   "metadata": {},
   "source": [
    "#### In this notebook we compare the true volumes of the tumor label before and after skull-stripping."
   ]
  },
  {
   "cell_type": "code",
   "execution_count": 43,
   "id": "4de9f8c1",
   "metadata": {},
   "outputs": [],
   "source": [
    "list_sub = os.listdir('/mnt/public_data/preproc_study/gbm/1_reg_individual/')"
   ]
  },
  {
   "cell_type": "code",
   "execution_count": 63,
   "id": "239e7c5d",
   "metadata": {},
   "outputs": [
    {
     "name": "stderr",
     "output_type": "stream",
     "text": [
      "100%|██████████| 102/102 [1:06:45<00:00, 39.27s/it]\n"
     ]
    }
   ],
   "source": [
    "gt_volumes = []\n",
    "t1_volumes = []\n",
    "t2_volumes = []\n",
    "flair_volumes = []\n",
    "ct1_volumes = []\n",
    "\n",
    "\n",
    "def get_volume(zooms, mask):\n",
    "    \"\"\"Calculates true volume of binary mask \"\"\"\n",
    "    mask = mask.astype(bool)*1\n",
    "    mask_sum = mask.sum().sum()\n",
    "    volume = mask_sum * zooms[0] * zooms[1] * zooms[2]\n",
    "    return volume\n",
    "\n",
    "\n",
    "def get_volume_gbm(zooms, label):\n",
    "    \"\"\"Calculates true volume of BraTS mask\"\"\"\n",
    "    y_wt, y_tc, y_et = label > 0, ((label == 1) + (label == 3)) > 0, label == 3\n",
    "    mask_sum = np.sum(y_wt)\n",
    "    volume = mask_sum * zooms[0] * zooms[1] * zooms[2]\n",
    "    return volume/1000\n",
    "\n",
    "\n",
    "def get_volume_gbm_masked(zooms, label, mask):\n",
    "    \"\"\"Calculates true volume of BraTS mask\"\"\"\n",
    "    y_wt, y_tc, y_et = label > 0, ((label == 1) + (label == 3)) > 0, label == 3\n",
    "    mask = mask[y_wt]\n",
    "    mask_sum = np.sum(mask)\n",
    "    volume = mask_sum * zooms[0] * zooms[1] * zooms[2]\n",
    "    return volume/1000\n",
    "\n",
    "\n",
    "for patient in tqdm(glob('/mnt/public_data/preproc_study/gbm/1_reg_individual/TCGA*')):\n",
    "    \"\"\" For all directories in the GBM dataset calculating the tumor volumes after skull stripping.\n",
    "    In each modality separately.\"\"\"\n",
    "    if Path(patient).is_dir():\n",
    "\n",
    "        label = nibabel.load(str(patient) + '/CT1_SEG.nii.gz').get_fdata()\n",
    "        label_zooms = nibabel.load(str(patient) + '/CT1_SEG.nii.gz').header.get_zooms()\n",
    "        gt_volumes.append(get_volume_gbm(label_zooms, label))\n",
    "        \n",
    "        t1_mask = nibabel.load(str(patient) + '/T1_mask.nii.gz').get_fdata()\n",
    "        t1_mask_zooms = nibabel.load(str(patient) + '/T1_mask.nii.gz').header.get_zooms()\n",
    "        assert t1_mask_zooms == label_zooms\n",
    "        t1_volumes.append(get_volume_gbm_masked(label_zooms, label, t1_mask))\n",
    "        \n",
    "        ct1_mask = nibabel.load(str(patient) + '/CT1_mask.nii.gz').get_fdata()\n",
    "        ct1_mask_zooms = nibabel.load(str(patient) + '/CT1_mask.nii.gz').header.get_zooms()\n",
    "        assert ct1_mask_zooms == label_zooms\n",
    "        ct1_volumes.append(get_volume_gbm_masked(label_zooms, label, ct1_mask))\n",
    "        \n",
    "        flair_mask = nibabel.load(str(patient) + '/FLAIR_mask.nii.gz').get_fdata()\n",
    "        flair_mask_zooms = nibabel.load(str(patient) + '/FLAIR_mask.nii.gz').header.get_zooms()\n",
    "        assert flair_mask_zooms == label_zooms\n",
    "        flair_volumes.append(get_volume_gbm_masked(label_zooms, label, flair_mask))\n",
    "        \n",
    "        t2_mask = nibabel.load(str(patient) + '/T2_mask.nii.gz').get_fdata()\n",
    "        t2_mask_zooms = nibabel.load(str(patient) + '/T2_mask.nii.gz').header.get_zooms()\n",
    "        assert t2_mask_zooms == label_zooms\n",
    "        t2_volumes.append(get_volume_gbm_masked(label_zooms, label, t2_mask))"
   ]
  },
  {
   "cell_type": "code",
   "execution_count": 76,
   "id": "ef0e2fef",
   "metadata": {},
   "outputs": [],
   "source": [
    "gt_errors = abs(np.array(gt_volumes) - np.array(ct1_volumes))/np.array(gt_volumes)\n",
    "flair_errors = abs(np.array(gt_volumes) - np.array(flair_volumes))/np.array(gt_volumes)\n",
    "t1_errors = abs(np.array(gt_volumes) - np.array(t1_volumes))/np.array(gt_volumes)\n",
    "t2_errors = abs(np.array(gt_volumes) - np.array(t2_volumes))/np.array(gt_volumes)"
   ]
  },
  {
   "cell_type": "code",
   "execution_count": 77,
   "id": "c9bd3d19",
   "metadata": {},
   "outputs": [
    {
     "data": {
      "text/plain": [
       "(0.0035365294817691086,\n",
       " 0.002749536803530542,\n",
       " 0.005887912752872096,\n",
       " 0.002644775665931629)"
      ]
     },
     "execution_count": 77,
     "metadata": {},
     "output_type": "execute_result"
    }
   ],
   "source": [
    "np.mean(gt_errors), np.mean(flair_errors), np.mean(t1_errors), np.mean(t2_errors)"
   ]
  },
  {
   "cell_type": "code",
   "execution_count": 78,
   "id": "daae483a",
   "metadata": {},
   "outputs": [],
   "source": [
    "from researchpy import ttest\n",
    "\n",
    "def ttest_pair(df_1, df_2, name_1 = 'one', name_2 = 'two', correction = None):\n",
    "    return ttest(pd.Series(df_1), pd.Series(df_2), \n",
    "#                  group1_name = name_1,\n",
    "#                  group2_name= name_2, \n",
    "                 equal_variances=False, paired=True,)[1].iloc[4].values[1]"
   ]
  },
  {
   "cell_type": "code",
   "execution_count": 85,
   "id": "a8bc4249",
   "metadata": {
    "scrolled": true
   },
   "outputs": [
    {
     "name": "stderr",
     "output_type": "stream",
     "text": [
      "/home/kate/miniconda3/lib/python3.9/site-packages/researchpy/ttest.py:38: FutureWarning: The series.append method is deprecated and will be removed from pandas in a future version. Use pandas.concat instead.\n",
      "  groups = group1.append(group2, ignore_index= True)\n",
      "/home/kate/miniconda3/lib/python3.9/site-packages/researchpy/ttest.py:38: FutureWarning: The series.append method is deprecated and will be removed from pandas in a future version. Use pandas.concat instead.\n",
      "  groups = group1.append(group2, ignore_index= True)\n",
      "/home/kate/miniconda3/lib/python3.9/site-packages/researchpy/ttest.py:38: FutureWarning: The series.append method is deprecated and will be removed from pandas in a future version. Use pandas.concat instead.\n",
      "  groups = group1.append(group2, ignore_index= True)\n"
     ]
    },
    {
     "data": {
      "text/plain": [
       "(0.114, 0.0007, 0.0)"
      ]
     },
     "execution_count": 85,
     "metadata": {},
     "output_type": "execute_result"
    }
   ],
   "source": [
    "ttest_pair(gt_errors, t1_errors), ttest_pair(gt_errors, t2_errors), ttest_pair(gt_errors, flair_errors)"
   ]
  },
  {
   "cell_type": "markdown",
   "id": "465ad335",
   "metadata": {},
   "source": [
    "##### The cnclusion:\n",
    "\n",
    "There is a statisticall difference on the errors with T1C and T1 and T2 image skull-stripping result, yet the difference is under 1%, so neglectable"
   ]
  },
  {
   "cell_type": "markdown",
   "id": "173c8298",
   "metadata": {},
   "source": [
    "# BGPD"
   ]
  },
  {
   "cell_type": "code",
   "execution_count": 86,
   "id": "79fedac8",
   "metadata": {},
   "outputs": [],
   "source": [
    "list_sub = os.listdir('/mnt/public_data/preproc_study/bgpd/1_reg_individual/')"
   ]
  },
  {
   "cell_type": "code",
   "execution_count": 88,
   "id": "58ab0331",
   "metadata": {},
   "outputs": [
    {
     "data": {
      "text/plain": [
       "['/mnt/public_data/preproc_study/bgpd/1_reg_individual/1043_18_4/T1.nii.gz',\n",
       " '/mnt/public_data/preproc_study/bgpd/1_reg_individual/1043_18_4/T2_mask.nii.gz',\n",
       " '/mnt/public_data/preproc_study/bgpd/1_reg_individual/1043_18_4/CT1_mask.nii.gz',\n",
       " '/mnt/public_data/preproc_study/bgpd/1_reg_individual/1043_18_4/T1_mask.nii.gz',\n",
       " '/mnt/public_data/preproc_study/bgpd/1_reg_individual/1043_18_4/FLAIR_mask.nii.gz',\n",
       " '/mnt/public_data/preproc_study/bgpd/1_reg_individual/1043_18_4/CT1.nii.gz',\n",
       " '/mnt/public_data/preproc_study/bgpd/1_reg_individual/1043_18_4/mask_GTV_FLAIR.nii.gz',\n",
       " '/mnt/public_data/preproc_study/bgpd/1_reg_individual/1043_18_4/T2.nii.gz',\n",
       " '/mnt/public_data/preproc_study/bgpd/1_reg_individual/1043_18_4/FLAIR.nii.gz']"
      ]
     },
     "execution_count": 88,
     "metadata": {},
     "output_type": "execute_result"
    }
   ],
   "source": [
    "list(glob('/mnt/public_data/preproc_study/bgpd/1_reg_individual/1043_18_4/*'))"
   ]
  },
  {
   "cell_type": "code",
   "execution_count": null,
   "id": "430b675b",
   "metadata": {},
   "outputs": [
    {
     "name": "stderr",
     "output_type": "stream",
     "text": [
      " 40%|████      | 72/180 [50:23<09:38,  5.36s/it]   "
     ]
    }
   ],
   "source": [
    "gt_volumes = []\n",
    "t1_volumes = []\n",
    "t2_volumes = []\n",
    "flair_volumes = []\n",
    "ct1_volumes = []\n",
    "\n",
    "\n",
    "def get_volume(zooms, mask):\n",
    "    \"\"\"Calculates true volume of binary mask \"\"\"\n",
    "    mask = mask.astype(bool)*1\n",
    "    mask_sum = mask.sum().sum()\n",
    "    volume = mask_sum * zooms[0] * zooms[1] * zooms[2]\n",
    "    return volume/1000\n",
    "\n",
    "def get_volume_masked(zooms, label, mask):\n",
    "    \"\"\"Calculates true volume of GTV mask\"\"\"\n",
    "    mask = mask[label.astype(bool)]\n",
    "    mask_sum = np.sum(mask)\n",
    "    volume = mask_sum * zooms[0] * zooms[1] * zooms[2]\n",
    "    return volume/1000\n",
    "\n",
    "\n",
    "for patient in tqdm(glob('/mnt/public_data/preproc_study/bgpd/1_reg_individual/*')):\n",
    "    \"\"\" For all directories in the BGPD dataset calculating the tumor volumes after skull stripping.\n",
    "    In each modality separately.\"\"\"\n",
    "    if Path(patient).is_dir():\n",
    "\n",
    "        label = nibabel.load(str(patient) + '/mask_GTV_FLAIR.nii.gz').get_fdata()\n",
    "        label_zooms = nibabel.load(str(patient) + '/mask_GTV_FLAIR.nii.gz').header.get_zooms()\n",
    "        gt_volumes.append(get_volume(label_zooms, label))\n",
    "        \n",
    "        t1_mask = nibabel.load(str(patient) + '/T1_mask.nii.gz').get_fdata()\n",
    "        t1_mask_zooms = nibabel.load(str(patient) + '/T1_mask.nii.gz').header.get_zooms()\n",
    "        assert t1_mask_zooms == label_zooms\n",
    "        t1_volumes.append(get_volume_masked(label_zooms, label, t1_mask))\n",
    "        \n",
    "        ct1_mask = nibabel.load(str(patient) + '/CT1_mask.nii.gz').get_fdata()\n",
    "        ct1_mask_zooms = nibabel.load(str(patient) + '/CT1_mask.nii.gz').header.get_zooms()\n",
    "        assert ct1_mask_zooms == label_zooms\n",
    "        ct1_volumes.append(get_volume_masked(label_zooms, label, ct1_mask))\n",
    "        \n",
    "        flair_mask = nibabel.load(str(patient) + '/FLAIR_mask.nii.gz').get_fdata()\n",
    "        flair_mask_zooms = nibabel.load(str(patient) + '/FLAIR_mask.nii.gz').header.get_zooms()\n",
    "        assert flair_mask_zooms == label_zooms\n",
    "        flair_volumes.append(get_volume_masked(label_zooms, label, flair_mask))\n",
    "        \n",
    "        t2_mask = nibabel.load(str(patient) + '/T2_mask.nii.gz').get_fdata()\n",
    "        t2_mask_zooms = nibabel.load(str(patient) + '/T2_mask.nii.gz').header.get_zooms()\n",
    "        assert t2_mask_zooms == label_zooms\n",
    "        t2_volumes.append(get_volume_masked(label_zooms, label, t2_mask))"
   ]
  },
  {
   "cell_type": "code",
   "execution_count": null,
   "id": "fe20f8e8",
   "metadata": {},
   "outputs": [],
   "source": []
  }
 ],
 "metadata": {
  "kernelspec": {
   "display_name": "Python 3 (ipykernel)",
   "language": "python",
   "name": "python3"
  },
  "language_info": {
   "codemirror_mode": {
    "name": "ipython",
    "version": 3
   },
   "file_extension": ".py",
   "mimetype": "text/x-python",
   "name": "python",
   "nbconvert_exporter": "python",
   "pygments_lexer": "ipython3",
   "version": "3.9.1"
  }
 },
 "nbformat": 4,
 "nbformat_minor": 5
}
