{
 "cells": [
  {
   "cell_type": "code",
   "execution_count": 1,
   "id": "b5f4b23f",
   "metadata": {},
   "outputs": [],
   "source": [
    "import matplotlib.pyplot as plt\n",
    "import nibabel\n",
    "import numpy as np\n",
    "import pandas as pd\n",
    "from pathlib import Path\n",
    "from skimage.transform import rescale\n",
    "from tqdm import tqdm\n",
    "import os\n",
    "import researchpy\n",
    "from glob import glob\n",
    "import shutil"
   ]
  },
  {
   "cell_type": "markdown",
   "id": "312eb2cb",
   "metadata": {},
   "source": [
    "# LGG"
   ]
  },
  {
   "cell_type": "markdown",
   "id": "2bc8e0c4",
   "metadata": {},
   "source": [
    "#### In this notebook we compare the true volumes of the tumor label before and after skull-stripping."
   ]
  },
  {
   "cell_type": "code",
   "execution_count": 2,
   "id": "4de9f8c1",
   "metadata": {},
   "outputs": [],
   "source": [
    "list_sub = os.listdir('/mnt/public_data/preproc_study/gbm/1_reg_individual/')"
   ]
  },
  {
   "cell_type": "code",
   "execution_count": 33,
   "id": "239e7c5d",
   "metadata": {},
   "outputs": [
    {
     "name": "stderr",
     "output_type": "stream",
     "text": [
      "100%|██████████| 102/102 [01:24<00:00,  1.21it/s]\n"
     ]
    }
   ],
   "source": [
    "gt_volumes = []\n",
    "t1_volumes = []\n",
    "t2_volumes = []\n",
    "flair_volumes = []\n",
    "ct1_volumes = []\n",
    "\n",
    "t1_mask_sums = []\n",
    "t2_mask_sums = []\n",
    "flair_mask_sums = []\n",
    "ct1_mask_sums = []\n",
    "\n",
    "\n",
    "\n",
    "def get_volume_gbm(zooms, label):\n",
    "    \"\"\"Calculates true volume of BraTS mask\"\"\"\n",
    "    y_wt, y_tc, y_et = label > 0, ((label == 1) + (label == 3)) > 0, label == 3\n",
    "    mask_sum = np.sum(y_wt)\n",
    "    volume = mask_sum * zooms[0] * zooms[1] * zooms[2]\n",
    "    return volume/1000\n",
    "\n",
    "\n",
    "def get_volume_gbm_masked(zooms, label, mask):\n",
    "    \"\"\"Calculates true volume of BraTS mask\"\"\"\n",
    "    y_wt, y_tc, y_et = label > 0, ((label == 1) + (label == 3)) > 0, label == 3\n",
    "    mask = mask[y_wt]\n",
    "    mask_sum = np.sum(mask)\n",
    "    volume = mask_sum * zooms[0] * zooms[1] * zooms[2]\n",
    "    return volume/1000\n",
    "\n",
    "\n",
    "for patient in tqdm(glob('/mnt/public_data/preproc_study/gbm/1_reg_individual/TCGA*')):\n",
    "    \"\"\" For all directories in the GBM dataset calculating the tumor volumes after skull stripping.\n",
    "    In each modality separately.\"\"\"\n",
    "    if Path(patient).is_dir():\n",
    "\n",
    "        label = nibabel.load(str(patient) + '/CT1_SEG.nii.gz').get_fdata()\n",
    "        label_zooms = nibabel.load(str(patient) + '/CT1_SEG.nii.gz').header.get_zooms()\n",
    "        gt_volumes.append(get_volume_gbm(label_zooms, label))\n",
    "        \n",
    "        t1_mask = nibabel.load(str(patient) + '/T1_mask.nii.gz').get_fdata()\n",
    "        t1_mask_zooms = nibabel.load(str(patient) + '/T1_mask.nii.gz').header.get_zooms()\n",
    "        assert t1_mask_zooms == label_zooms\n",
    "        t1_volumes.append(get_volume_gbm_masked(label_zooms, label, t1_mask))\n",
    "        t1_mask_sums.append(t1_mask.sum().sum())\n",
    "        \n",
    "        ct1_mask = nibabel.load(str(patient) + '/CT1_mask.nii.gz').get_fdata()\n",
    "        ct1_mask_zooms = nibabel.load(str(patient) + '/CT1_mask.nii.gz').header.get_zooms()\n",
    "        assert ct1_mask_zooms == label_zooms\n",
    "        ct1_volumes.append(get_volume_gbm_masked(label_zooms, label, ct1_mask))\n",
    "        ct1_mask_sums.append(ct1_mask.sum().sum())\n",
    "        \n",
    "        flair_mask = nibabel.load(str(patient) + '/FLAIR_mask.nii.gz').get_fdata()\n",
    "        flair_mask_zooms = nibabel.load(str(patient) + '/FLAIR_mask.nii.gz').header.get_zooms()\n",
    "        assert flair_mask_zooms == label_zooms\n",
    "        flair_volumes.append(get_volume_gbm_masked(label_zooms, label, flair_mask))\n",
    "        flair_mask_sums.append(flair_mask.sum().sum())\n",
    "        \n",
    "        t2_mask = nibabel.load(str(patient) + '/T2_mask.nii.gz').get_fdata()\n",
    "        t2_mask_zooms = nibabel.load(str(patient) + '/T2_mask.nii.gz').header.get_zooms()\n",
    "        assert t2_mask_zooms == label_zooms\n",
    "        t2_volumes.append(get_volume_gbm_masked(label_zooms, label, t2_mask))\n",
    "        t2_mask_sums.append(t2_mask.sum().sum())"
   ]
  },
  {
   "cell_type": "code",
   "execution_count": 4,
   "id": "ef0e2fef",
   "metadata": {},
   "outputs": [],
   "source": [
    "gt_errors = abs(np.array(gt_volumes) - np.array(ct1_volumes))/np.array(gt_volumes)\n",
    "flair_errors = abs(np.array(gt_volumes) - np.array(flair_volumes))/np.array(gt_volumes)\n",
    "t1_errors = abs(np.array(gt_volumes) - np.array(t1_volumes))/np.array(gt_volumes)\n",
    "t2_errors = abs(np.array(gt_volumes) - np.array(t2_volumes))/np.array(gt_volumes)"
   ]
  },
  {
   "cell_type": "code",
   "execution_count": 5,
   "id": "c9bd3d19",
   "metadata": {},
   "outputs": [
    {
     "data": {
      "text/plain": [
       "(0.0035365294817691086,\n",
       " 0.002749536803530542,\n",
       " 0.005887912752872096,\n",
       " 0.002644775665931629)"
      ]
     },
     "execution_count": 5,
     "metadata": {},
     "output_type": "execute_result"
    }
   ],
   "source": [
    "np.mean(gt_errors), np.mean(flair_errors), np.mean(t1_errors), np.mean(t2_errors)"
   ]
  },
  {
   "cell_type": "code",
   "execution_count": 6,
   "id": "5f9f05e4",
   "metadata": {},
   "outputs": [],
   "source": [
    "from researchpy import ttest\n",
    "\n",
    "def ttest_pair(df_1, df_2, name_1 = 'one', name_2 = 'two', correction = None):\n",
    "    return ttest(pd.Series(df_1), pd.Series(df_2), \n",
    "#                  group1_name = name_1,\n",
    "#                  group2_name= name_2, \n",
    "                 equal_variances=False, paired=True,)[1].iloc[4].values[1]"
   ]
  },
  {
   "cell_type": "code",
   "execution_count": 7,
   "id": "4e93aaf0",
   "metadata": {
    "scrolled": true
   },
   "outputs": [
    {
     "name": "stderr",
     "output_type": "stream",
     "text": [
      "/home/kate/miniconda3/lib/python3.9/site-packages/researchpy/ttest.py:38: FutureWarning: The series.append method is deprecated and will be removed from pandas in a future version. Use pandas.concat instead.\n",
      "  groups = group1.append(group2, ignore_index= True)\n",
      "/home/kate/miniconda3/lib/python3.9/site-packages/researchpy/ttest.py:38: FutureWarning: The series.append method is deprecated and will be removed from pandas in a future version. Use pandas.concat instead.\n",
      "  groups = group1.append(group2, ignore_index= True)\n",
      "/home/kate/miniconda3/lib/python3.9/site-packages/researchpy/ttest.py:38: FutureWarning: The series.append method is deprecated and will be removed from pandas in a future version. Use pandas.concat instead.\n",
      "  groups = group1.append(group2, ignore_index= True)\n"
     ]
    },
    {
     "data": {
      "text/plain": [
       "(0.114, 0.0007, 0.0)"
      ]
     },
     "execution_count": 7,
     "metadata": {},
     "output_type": "execute_result"
    }
   ],
   "source": [
    "ttest_pair(gt_errors, t1_errors), ttest_pair(gt_errors, t2_errors), ttest_pair(gt_errors, flair_errors)"
   ]
  },
  {
   "cell_type": "code",
   "execution_count": 17,
   "id": "c0951141",
   "metadata": {},
   "outputs": [
    {
     "data": {
      "text/plain": [
       "(array([159.7130227]), 0.15917026083384678)"
      ]
     },
     "execution_count": 17,
     "metadata": {},
     "output_type": "execute_result"
    }
   ],
   "source": [
    "# the maximum difference in the label cutting 1%\n",
    "np.array(ct1_volumes)[t1_errors  == t1_errors.max()], t1_errors.max()"
   ]
  },
  {
   "cell_type": "code",
   "execution_count": 10,
   "id": "93b8f948",
   "metadata": {},
   "outputs": [
    {
     "data": {
      "text/plain": [
       "(107.55459191161943, 52.184958038968254, 107.46187568933186, 52.12487969799859)"
      ]
     },
     "execution_count": 10,
     "metadata": {},
     "output_type": "execute_result"
    }
   ],
   "source": [
    "# means of the label cutting\n",
    "np.array(flair_volumes).mean(), np.array(flair_volumes).std(), np.array(ct1_volumes).mean(), np.array(ct1_volumes).std()"
   ]
  },
  {
   "cell_type": "markdown",
   "id": "cd497eef",
   "metadata": {},
   "source": [
    "##### The conclusion:\n",
    "\n",
    "There is a statisticall difference on the errors with T1C and T1 and T2 image skull-stripping result, yet the difference is under 1%, so neglectable"
   ]
  },
  {
   "cell_type": "code",
   "execution_count": 27,
   "id": "78fdd68d",
   "metadata": {},
   "outputs": [],
   "source": [
    "t1_errors_mask_sums = abs(np.array(ct1_mask_sums) - np.array(t1_mask_sums))/np.array(ct1_mask_sums)*100\n",
    "flair_errors_mask_sums = abs(np.array(ct1_mask_sums) - np.array(flair_mask_sums))/np.array(ct1_mask_sums)*100\n",
    "t2_errors_mask_sums = abs(np.array(ct1_mask_sums) - np.array(t2_mask_sums))/np.array(ct1_mask_sums)*100"
   ]
  },
  {
   "cell_type": "code",
   "execution_count": 29,
   "id": "951969ee",
   "metadata": {},
   "outputs": [
    {
     "name": "stderr",
     "output_type": "stream",
     "text": [
      "/home/kate/miniconda3/lib/python3.9/site-packages/researchpy/ttest.py:38: FutureWarning: The series.append method is deprecated and will be removed from pandas in a future version. Use pandas.concat instead.\n",
      "  groups = group1.append(group2, ignore_index= True)\n",
      "/home/kate/miniconda3/lib/python3.9/site-packages/researchpy/ttest.py:38: FutureWarning: The series.append method is deprecated and will be removed from pandas in a future version. Use pandas.concat instead.\n",
      "  groups = group1.append(group2, ignore_index= True)\n",
      "/home/kate/miniconda3/lib/python3.9/site-packages/researchpy/ttest.py:38: FutureWarning: The series.append method is deprecated and will be removed from pandas in a future version. Use pandas.concat instead.\n",
      "  groups = group1.append(group2, ignore_index= True)\n"
     ]
    },
    {
     "data": {
      "text/plain": [
       "(0.0, 0.0, 0.0755)"
      ]
     },
     "execution_count": 29,
     "metadata": {},
     "output_type": "execute_result"
    }
   ],
   "source": [
    "ttest_pair(ct1_mask_sums, t1_mask_sums), ttest_pair(ct1_mask_sums, t2_mask_sums), ttest_pair(ct1_mask_sums, flair_mask_sums)"
   ]
  },
  {
   "cell_type": "code",
   "execution_count": 30,
   "id": "6a2619f7",
   "metadata": {},
   "outputs": [
    {
     "data": {
      "text/plain": [
       "(2.423496679548106, 2.3841133184755217, 3.248581323500852)"
      ]
     },
     "execution_count": 30,
     "metadata": {},
     "output_type": "execute_result"
    }
   ],
   "source": [
    "t1_errors_mask_sums.mean(), flair_errors_mask_sums.mean(), t2_errors_mask_sums.mean()"
   ]
  },
  {
   "cell_type": "code",
   "execution_count": 34,
   "id": "45e19beb",
   "metadata": {},
   "outputs": [
    {
     "data": {
      "text/plain": [
       "25.987988881348368"
      ]
     },
     "execution_count": 34,
     "metadata": {},
     "output_type": "execute_result"
    }
   ],
   "source": [
    "t1_errors_mask_sums.max()"
   ]
  },
  {
   "cell_type": "code",
   "execution_count": 31,
   "id": "c08892fc",
   "metadata": {},
   "outputs": [
    {
     "data": {
      "text/plain": [
       "(3.3624669881894618, 1.9866390388664343, 2.528345812048424)"
      ]
     },
     "execution_count": 31,
     "metadata": {},
     "output_type": "execute_result"
    }
   ],
   "source": [
    "t1_errors_mask_sums.std(), flair_errors_mask_sums.std(), t2_errors_mask_sums.std()"
   ]
  },
  {
   "cell_type": "markdown",
   "id": "16c0ba0b",
   "metadata": {},
   "source": [
    "#### Conclusion:\n",
    "\n",
    "Masks generated on aligned images differ in 3% in general, and maximum in "
   ]
  },
  {
   "cell_type": "markdown",
   "id": "5bc2697e",
   "metadata": {},
   "source": [
    "# BGPD"
   ]
  },
  {
   "cell_type": "code",
   "execution_count": 86,
   "id": "f95c1bb2",
   "metadata": {},
   "outputs": [],
   "source": [
    "list_sub = os.listdir('/mnt/public_data/preproc_study/bgpd/1_reg_individual/')"
   ]
  },
  {
   "cell_type": "code",
   "execution_count": 88,
   "id": "d56d20b3",
   "metadata": {},
   "outputs": [
    {
     "data": {
      "text/plain": [
       "['/mnt/public_data/preproc_study/bgpd/1_reg_individual/1043_18_4/T1.nii.gz',\n",
       " '/mnt/public_data/preproc_study/bgpd/1_reg_individual/1043_18_4/T2_mask.nii.gz',\n",
       " '/mnt/public_data/preproc_study/bgpd/1_reg_individual/1043_18_4/CT1_mask.nii.gz',\n",
       " '/mnt/public_data/preproc_study/bgpd/1_reg_individual/1043_18_4/T1_mask.nii.gz',\n",
       " '/mnt/public_data/preproc_study/bgpd/1_reg_individual/1043_18_4/FLAIR_mask.nii.gz',\n",
       " '/mnt/public_data/preproc_study/bgpd/1_reg_individual/1043_18_4/CT1.nii.gz',\n",
       " '/mnt/public_data/preproc_study/bgpd/1_reg_individual/1043_18_4/mask_GTV_FLAIR.nii.gz',\n",
       " '/mnt/public_data/preproc_study/bgpd/1_reg_individual/1043_18_4/T2.nii.gz',\n",
       " '/mnt/public_data/preproc_study/bgpd/1_reg_individual/1043_18_4/FLAIR.nii.gz']"
      ]
     },
     "execution_count": 88,
     "metadata": {},
     "output_type": "execute_result"
    }
   ],
   "source": [
    "list(glob('/mnt/public_data/preproc_study/bgpd/1_reg_individual/1043_18_4/*'))"
   ]
  },
  {
   "cell_type": "code",
   "execution_count": 32,
   "id": "f470087a",
   "metadata": {},
   "outputs": [
    {
     "name": "stderr",
     "output_type": "stream",
     "text": [
      "  0%|          | 0/180 [00:02<?, ?it/s]\n"
     ]
    },
    {
     "ename": "KeyboardInterrupt",
     "evalue": "",
     "output_type": "error",
     "traceback": [
      "\u001b[0;31m---------------------------------------------------------------------------\u001b[0m",
      "\u001b[0;31mKeyboardInterrupt\u001b[0m                         Traceback (most recent call last)",
      "Cell \u001b[0;32mIn [32], line 37\u001b[0m\n\u001b[1;32m     34\u001b[0m \u001b[38;5;28;01massert\u001b[39;00m t1_mask_zooms \u001b[38;5;241m==\u001b[39m label_zooms\n\u001b[1;32m     35\u001b[0m t1_volumes\u001b[38;5;241m.\u001b[39mappend(get_volume_masked(label_zooms, label, t1_mask))\n\u001b[0;32m---> 37\u001b[0m ct1_mask \u001b[38;5;241m=\u001b[39m \u001b[43mnibabel\u001b[49m\u001b[38;5;241;43m.\u001b[39;49m\u001b[43mload\u001b[49m\u001b[43m(\u001b[49m\u001b[38;5;28;43mstr\u001b[39;49m\u001b[43m(\u001b[49m\u001b[43mpatient\u001b[49m\u001b[43m)\u001b[49m\u001b[43m \u001b[49m\u001b[38;5;241;43m+\u001b[39;49m\u001b[43m \u001b[49m\u001b[38;5;124;43m'\u001b[39;49m\u001b[38;5;124;43m/CT1_mask.nii.gz\u001b[39;49m\u001b[38;5;124;43m'\u001b[39;49m\u001b[43m)\u001b[49m\u001b[38;5;241;43m.\u001b[39;49m\u001b[43mget_fdata\u001b[49m\u001b[43m(\u001b[49m\u001b[43m)\u001b[49m\n\u001b[1;32m     38\u001b[0m ct1_mask_zooms \u001b[38;5;241m=\u001b[39m nibabel\u001b[38;5;241m.\u001b[39mload(\u001b[38;5;28mstr\u001b[39m(patient) \u001b[38;5;241m+\u001b[39m \u001b[38;5;124m'\u001b[39m\u001b[38;5;124m/CT1_mask.nii.gz\u001b[39m\u001b[38;5;124m'\u001b[39m)\u001b[38;5;241m.\u001b[39mheader\u001b[38;5;241m.\u001b[39mget_zooms()\n\u001b[1;32m     39\u001b[0m \u001b[38;5;28;01massert\u001b[39;00m ct1_mask_zooms \u001b[38;5;241m==\u001b[39m label_zooms\n",
      "File \u001b[0;32m~/miniconda3/lib/python3.9/site-packages/nibabel/dataobj_images.py:355\u001b[0m, in \u001b[0;36mDataobjImage.get_fdata\u001b[0;34m(self, caching, dtype)\u001b[0m\n\u001b[1;32m    351\u001b[0m         \u001b[38;5;28;01mreturn\u001b[39;00m \u001b[38;5;28mself\u001b[39m\u001b[38;5;241m.\u001b[39m_fdata_cache\n\u001b[1;32m    352\u001b[0m \u001b[38;5;66;03m# Always return requested data type\u001b[39;00m\n\u001b[1;32m    353\u001b[0m \u001b[38;5;66;03m# For array proxies, will attempt to confine data array to dtype\u001b[39;00m\n\u001b[1;32m    354\u001b[0m \u001b[38;5;66;03m# during scaling\u001b[39;00m\n\u001b[0;32m--> 355\u001b[0m data \u001b[38;5;241m=\u001b[39m \u001b[43mnp\u001b[49m\u001b[38;5;241;43m.\u001b[39;49m\u001b[43masanyarray\u001b[49m\u001b[43m(\u001b[49m\u001b[38;5;28;43mself\u001b[39;49m\u001b[38;5;241;43m.\u001b[39;49m\u001b[43m_dataobj\u001b[49m\u001b[43m,\u001b[49m\u001b[43m \u001b[49m\u001b[43mdtype\u001b[49m\u001b[38;5;241;43m=\u001b[39;49m\u001b[43mdtype\u001b[49m\u001b[43m)\u001b[49m\n\u001b[1;32m    356\u001b[0m \u001b[38;5;28;01mif\u001b[39;00m caching \u001b[38;5;241m==\u001b[39m \u001b[38;5;124m'\u001b[39m\u001b[38;5;124mfill\u001b[39m\u001b[38;5;124m'\u001b[39m:\n\u001b[1;32m    357\u001b[0m     \u001b[38;5;28mself\u001b[39m\u001b[38;5;241m.\u001b[39m_fdata_cache \u001b[38;5;241m=\u001b[39m data\n",
      "File \u001b[0;32m~/miniconda3/lib/python3.9/site-packages/nibabel/arrayproxy.py:370\u001b[0m, in \u001b[0;36mArrayProxy.__array__\u001b[0;34m(self, dtype)\u001b[0m\n\u001b[1;32m    349\u001b[0m \u001b[38;5;28;01mdef\u001b[39;00m \u001b[38;5;21m__array__\u001b[39m(\u001b[38;5;28mself\u001b[39m, dtype\u001b[38;5;241m=\u001b[39m\u001b[38;5;28;01mNone\u001b[39;00m):\n\u001b[1;32m    350\u001b[0m     \u001b[38;5;124;03m\"\"\" Read data from file and apply scaling, casting to ``dtype``\u001b[39;00m\n\u001b[1;32m    351\u001b[0m \n\u001b[1;32m    352\u001b[0m \u001b[38;5;124;03m    If ``dtype`` is unspecified, the dtype of the returned array is the\u001b[39;00m\n\u001b[0;32m   (...)\u001b[0m\n\u001b[1;32m    368\u001b[0m \u001b[38;5;124;03m        Scaled image data with type `dtype`.\u001b[39;00m\n\u001b[1;32m    369\u001b[0m \u001b[38;5;124;03m    \"\"\"\u001b[39;00m\n\u001b[0;32m--> 370\u001b[0m     arr \u001b[38;5;241m=\u001b[39m \u001b[38;5;28;43mself\u001b[39;49m\u001b[38;5;241;43m.\u001b[39;49m\u001b[43m_get_scaled\u001b[49m\u001b[43m(\u001b[49m\u001b[43mdtype\u001b[49m\u001b[38;5;241;43m=\u001b[39;49m\u001b[43mdtype\u001b[49m\u001b[43m,\u001b[49m\u001b[43m \u001b[49m\u001b[43mslicer\u001b[49m\u001b[38;5;241;43m=\u001b[39;49m\u001b[43m(\u001b[49m\u001b[43m)\u001b[49m\u001b[43m)\u001b[49m\n\u001b[1;32m    371\u001b[0m     \u001b[38;5;28;01mif\u001b[39;00m dtype \u001b[38;5;129;01mis\u001b[39;00m \u001b[38;5;129;01mnot\u001b[39;00m \u001b[38;5;28;01mNone\u001b[39;00m:\n\u001b[1;32m    372\u001b[0m         arr \u001b[38;5;241m=\u001b[39m arr\u001b[38;5;241m.\u001b[39mastype(dtype, copy\u001b[38;5;241m=\u001b[39m\u001b[38;5;28;01mFalse\u001b[39;00m)\n",
      "File \u001b[0;32m~/miniconda3/lib/python3.9/site-packages/nibabel/arrayproxy.py:337\u001b[0m, in \u001b[0;36mArrayProxy._get_scaled\u001b[0;34m(self, dtype, slicer)\u001b[0m\n\u001b[1;32m    335\u001b[0m     scl_inter \u001b[38;5;241m=\u001b[39m scl_inter\u001b[38;5;241m.\u001b[39mastype(use_dtype)\n\u001b[1;32m    336\u001b[0m \u001b[38;5;66;03m# Read array and upcast as necessary for big slopes, intercepts\u001b[39;00m\n\u001b[0;32m--> 337\u001b[0m scaled \u001b[38;5;241m=\u001b[39m apply_read_scaling(\u001b[38;5;28;43mself\u001b[39;49m\u001b[38;5;241;43m.\u001b[39;49m\u001b[43m_get_unscaled\u001b[49m\u001b[43m(\u001b[49m\u001b[43mslicer\u001b[49m\u001b[38;5;241;43m=\u001b[39;49m\u001b[43mslicer\u001b[49m\u001b[43m)\u001b[49m, scl_slope, scl_inter)\n\u001b[1;32m    338\u001b[0m \u001b[38;5;28;01mif\u001b[39;00m dtype \u001b[38;5;129;01mis\u001b[39;00m \u001b[38;5;129;01mnot\u001b[39;00m \u001b[38;5;28;01mNone\u001b[39;00m:\n\u001b[1;32m    339\u001b[0m     scaled \u001b[38;5;241m=\u001b[39m scaled\u001b[38;5;241m.\u001b[39mastype(np\u001b[38;5;241m.\u001b[39mpromote_types(scaled\u001b[38;5;241m.\u001b[39mdtype, dtype), copy\u001b[38;5;241m=\u001b[39m\u001b[38;5;28;01mFalse\u001b[39;00m)\n",
      "File \u001b[0;32m~/miniconda3/lib/python3.9/site-packages/nibabel/arrayproxy.py:311\u001b[0m, in \u001b[0;36mArrayProxy._get_unscaled\u001b[0;34m(self, slicer)\u001b[0m\n\u001b[1;32m    308\u001b[0m \u001b[38;5;28;01mif\u001b[39;00m canonical_slicers(slicer, \u001b[38;5;28mself\u001b[39m\u001b[38;5;241m.\u001b[39m_shape, \u001b[38;5;28;01mFalse\u001b[39;00m) \u001b[38;5;241m==\u001b[39m \\\n\u001b[1;32m    309\u001b[0m         canonical_slicers((), \u001b[38;5;28mself\u001b[39m\u001b[38;5;241m.\u001b[39m_shape, \u001b[38;5;28;01mFalse\u001b[39;00m):\n\u001b[1;32m    310\u001b[0m     \u001b[38;5;28;01mwith\u001b[39;00m \u001b[38;5;28mself\u001b[39m\u001b[38;5;241m.\u001b[39m_get_fileobj() \u001b[38;5;28;01mas\u001b[39;00m fileobj, \u001b[38;5;28mself\u001b[39m\u001b[38;5;241m.\u001b[39m_lock:\n\u001b[0;32m--> 311\u001b[0m         \u001b[38;5;28;01mreturn\u001b[39;00m \u001b[43marray_from_file\u001b[49m\u001b[43m(\u001b[49m\u001b[38;5;28;43mself\u001b[39;49m\u001b[38;5;241;43m.\u001b[39;49m\u001b[43m_shape\u001b[49m\u001b[43m,\u001b[49m\n\u001b[1;32m    312\u001b[0m \u001b[43m                               \u001b[49m\u001b[38;5;28;43mself\u001b[39;49m\u001b[38;5;241;43m.\u001b[39;49m\u001b[43m_dtype\u001b[49m\u001b[43m,\u001b[49m\n\u001b[1;32m    313\u001b[0m \u001b[43m                               \u001b[49m\u001b[43mfileobj\u001b[49m\u001b[43m,\u001b[49m\n\u001b[1;32m    314\u001b[0m \u001b[43m                               \u001b[49m\u001b[43moffset\u001b[49m\u001b[38;5;241;43m=\u001b[39;49m\u001b[38;5;28;43mself\u001b[39;49m\u001b[38;5;241;43m.\u001b[39;49m\u001b[43m_offset\u001b[49m\u001b[43m,\u001b[49m\n\u001b[1;32m    315\u001b[0m \u001b[43m                               \u001b[49m\u001b[43morder\u001b[49m\u001b[38;5;241;43m=\u001b[39;49m\u001b[38;5;28;43mself\u001b[39;49m\u001b[38;5;241;43m.\u001b[39;49m\u001b[43morder\u001b[49m\u001b[43m,\u001b[49m\n\u001b[1;32m    316\u001b[0m \u001b[43m                               \u001b[49m\u001b[43mmmap\u001b[49m\u001b[38;5;241;43m=\u001b[39;49m\u001b[38;5;28;43mself\u001b[39;49m\u001b[38;5;241;43m.\u001b[39;49m\u001b[43m_mmap\u001b[49m\u001b[43m)\u001b[49m\n\u001b[1;32m    317\u001b[0m \u001b[38;5;28;01mwith\u001b[39;00m \u001b[38;5;28mself\u001b[39m\u001b[38;5;241m.\u001b[39m_get_fileobj() \u001b[38;5;28;01mas\u001b[39;00m fileobj:\n\u001b[1;32m    318\u001b[0m     \u001b[38;5;28;01mreturn\u001b[39;00m fileslice(fileobj,\n\u001b[1;32m    319\u001b[0m                      slicer,\n\u001b[1;32m    320\u001b[0m                      \u001b[38;5;28mself\u001b[39m\u001b[38;5;241m.\u001b[39m_shape,\n\u001b[0;32m   (...)\u001b[0m\n\u001b[1;32m    323\u001b[0m                      order\u001b[38;5;241m=\u001b[39m\u001b[38;5;28mself\u001b[39m\u001b[38;5;241m.\u001b[39morder,\n\u001b[1;32m    324\u001b[0m                      lock\u001b[38;5;241m=\u001b[39m\u001b[38;5;28mself\u001b[39m\u001b[38;5;241m.\u001b[39m_lock)\n",
      "File \u001b[0;32m~/miniconda3/lib/python3.9/site-packages/nibabel/volumeutils.py:461\u001b[0m, in \u001b[0;36marray_from_file\u001b[0;34m(shape, in_dtype, infile, offset, order, mmap)\u001b[0m\n\u001b[1;32m    459\u001b[0m \u001b[38;5;28;01mif\u001b[39;00m \u001b[38;5;28mhasattr\u001b[39m(infile, \u001b[38;5;124m'\u001b[39m\u001b[38;5;124mreadinto\u001b[39m\u001b[38;5;124m'\u001b[39m):\n\u001b[1;32m    460\u001b[0m     data_bytes \u001b[38;5;241m=\u001b[39m \u001b[38;5;28mbytearray\u001b[39m(n_bytes)\n\u001b[0;32m--> 461\u001b[0m     n_read \u001b[38;5;241m=\u001b[39m \u001b[43minfile\u001b[49m\u001b[38;5;241;43m.\u001b[39;49m\u001b[43mreadinto\u001b[49m\u001b[43m(\u001b[49m\u001b[43mdata_bytes\u001b[49m\u001b[43m)\u001b[49m\n\u001b[1;32m    462\u001b[0m     needs_copy \u001b[38;5;241m=\u001b[39m \u001b[38;5;28;01mFalse\u001b[39;00m\n\u001b[1;32m    463\u001b[0m \u001b[38;5;28;01melse\u001b[39;00m:\n",
      "File \u001b[0;32m~/miniconda3/lib/python3.9/gzip.py:300\u001b[0m, in \u001b[0;36mGzipFile.read\u001b[0;34m(self, size)\u001b[0m\n\u001b[1;32m    298\u001b[0m     \u001b[38;5;28;01mimport\u001b[39;00m \u001b[38;5;21;01merrno\u001b[39;00m\n\u001b[1;32m    299\u001b[0m     \u001b[38;5;28;01mraise\u001b[39;00m \u001b[38;5;167;01mOSError\u001b[39;00m(errno\u001b[38;5;241m.\u001b[39mEBADF, \u001b[38;5;124m\"\u001b[39m\u001b[38;5;124mread() on write-only GzipFile object\u001b[39m\u001b[38;5;124m\"\u001b[39m)\n\u001b[0;32m--> 300\u001b[0m \u001b[38;5;28;01mreturn\u001b[39;00m \u001b[38;5;28;43mself\u001b[39;49m\u001b[38;5;241;43m.\u001b[39;49m\u001b[43m_buffer\u001b[49m\u001b[38;5;241;43m.\u001b[39;49m\u001b[43mread\u001b[49m\u001b[43m(\u001b[49m\u001b[43msize\u001b[49m\u001b[43m)\u001b[49m\n",
      "File \u001b[0;32m~/miniconda3/lib/python3.9/_compression.py:68\u001b[0m, in \u001b[0;36mDecompressReader.readinto\u001b[0;34m(self, b)\u001b[0m\n\u001b[1;32m     66\u001b[0m \u001b[38;5;28;01mdef\u001b[39;00m \u001b[38;5;21mreadinto\u001b[39m(\u001b[38;5;28mself\u001b[39m, b):\n\u001b[1;32m     67\u001b[0m     \u001b[38;5;28;01mwith\u001b[39;00m \u001b[38;5;28mmemoryview\u001b[39m(b) \u001b[38;5;28;01mas\u001b[39;00m view, view\u001b[38;5;241m.\u001b[39mcast(\u001b[38;5;124m\"\u001b[39m\u001b[38;5;124mB\u001b[39m\u001b[38;5;124m\"\u001b[39m) \u001b[38;5;28;01mas\u001b[39;00m byte_view:\n\u001b[0;32m---> 68\u001b[0m         data \u001b[38;5;241m=\u001b[39m \u001b[38;5;28;43mself\u001b[39;49m\u001b[38;5;241;43m.\u001b[39;49m\u001b[43mread\u001b[49m\u001b[43m(\u001b[49m\u001b[38;5;28;43mlen\u001b[39;49m\u001b[43m(\u001b[49m\u001b[43mbyte_view\u001b[49m\u001b[43m)\u001b[49m\u001b[43m)\u001b[49m\n\u001b[1;32m     69\u001b[0m         byte_view[:\u001b[38;5;28mlen\u001b[39m(data)] \u001b[38;5;241m=\u001b[39m data\n\u001b[1;32m     70\u001b[0m     \u001b[38;5;28;01mreturn\u001b[39;00m \u001b[38;5;28mlen\u001b[39m(data)\n",
      "File \u001b[0;32m~/miniconda3/lib/python3.9/gzip.py:495\u001b[0m, in \u001b[0;36m_GzipReader.read\u001b[0;34m(self, size)\u001b[0m\n\u001b[1;32m    492\u001b[0m \u001b[38;5;66;03m# Read a chunk of data from the file\u001b[39;00m\n\u001b[1;32m    493\u001b[0m buf \u001b[38;5;241m=\u001b[39m \u001b[38;5;28mself\u001b[39m\u001b[38;5;241m.\u001b[39m_fp\u001b[38;5;241m.\u001b[39mread(io\u001b[38;5;241m.\u001b[39mDEFAULT_BUFFER_SIZE)\n\u001b[0;32m--> 495\u001b[0m uncompress \u001b[38;5;241m=\u001b[39m \u001b[38;5;28;43mself\u001b[39;49m\u001b[38;5;241;43m.\u001b[39;49m\u001b[43m_decompressor\u001b[49m\u001b[38;5;241;43m.\u001b[39;49m\u001b[43mdecompress\u001b[49m\u001b[43m(\u001b[49m\u001b[43mbuf\u001b[49m\u001b[43m,\u001b[49m\u001b[43m \u001b[49m\u001b[43msize\u001b[49m\u001b[43m)\u001b[49m\n\u001b[1;32m    496\u001b[0m \u001b[38;5;28;01mif\u001b[39;00m \u001b[38;5;28mself\u001b[39m\u001b[38;5;241m.\u001b[39m_decompressor\u001b[38;5;241m.\u001b[39munconsumed_tail \u001b[38;5;241m!=\u001b[39m \u001b[38;5;124mb\u001b[39m\u001b[38;5;124m\"\u001b[39m\u001b[38;5;124m\"\u001b[39m:\n\u001b[1;32m    497\u001b[0m     \u001b[38;5;28mself\u001b[39m\u001b[38;5;241m.\u001b[39m_fp\u001b[38;5;241m.\u001b[39mprepend(\u001b[38;5;28mself\u001b[39m\u001b[38;5;241m.\u001b[39m_decompressor\u001b[38;5;241m.\u001b[39munconsumed_tail)\n",
      "\u001b[0;31mKeyboardInterrupt\u001b[0m: "
     ]
    }
   ],
   "source": [
    "gt_volumes = []\n",
    "t1_volumes = []\n",
    "t2_volumes = []\n",
    "flair_volumes = []\n",
    "ct1_volumes = []\n",
    "\n",
    "\n",
    "def get_volume(zooms, mask):\n",
    "    \"\"\"Calculates true volume of binary mask \"\"\"\n",
    "    mask = mask.astype(bool)*1\n",
    "    mask_sum = mask.sum().sum()\n",
    "    volume = mask_sum * zooms[0] * zooms[1] * zooms[2]\n",
    "    return volume/1000\n",
    "\n",
    "def get_volume_masked(zooms, label, mask):\n",
    "    \"\"\"Calculates true volume of GTV mask\"\"\"\n",
    "    mask = mask[label.astype(bool)]\n",
    "    mask_sum = np.sum(mask)\n",
    "    volume = mask_sum * zooms[0] * zooms[1] * zooms[2]\n",
    "    return volume/1000\n",
    "\n",
    "\n",
    "for patient in tqdm(glob('/mnt/public_data/preproc_study/bgpd/1_reg_individual/*')):\n",
    "    \"\"\" For all directories in the BGPD dataset calculating the tumor volumes after skull stripping.\n",
    "    In each modality separately.\"\"\"\n",
    "    if Path(patient).is_dir():\n",
    "\n",
    "        label = nibabel.load(str(patient) + '/mask_GTV_FLAIR.nii.gz').get_fdata()\n",
    "        label_zooms = nibabel.load(str(patient) + '/mask_GTV_FLAIR.nii.gz').header.get_zooms()\n",
    "        gt_volumes.append(get_volume(label_zooms, label))\n",
    "        \n",
    "        t1_mask = nibabel.load(str(patient) + '/T1_mask.nii.gz').get_fdata()\n",
    "        t1_mask_zooms = nibabel.load(str(patient) + '/T1_mask.nii.gz').header.get_zooms()\n",
    "        assert t1_mask_zooms == label_zooms\n",
    "        t1_volumes.append(get_volume_masked(label_zooms, label, t1_mask))\n",
    "        \n",
    "        ct1_mask = nibabel.load(str(patient) + '/CT1_mask.nii.gz').get_fdata()\n",
    "        ct1_mask_zooms = nibabel.load(str(patient) + '/CT1_mask.nii.gz').header.get_zooms()\n",
    "        assert ct1_mask_zooms == label_zooms\n",
    "        ct1_volumes.append(get_volume_masked(label_zooms, label, ct1_mask))\n",
    "        \n",
    "        flair_mask = nibabel.load(str(patient) + '/FLAIR_mask.nii.gz').get_fdata()\n",
    "        flair_mask_zooms = nibabel.load(str(patient) + '/FLAIR_mask.nii.gz').header.get_zooms()\n",
    "        assert flair_mask_zooms == label_zooms\n",
    "        flair_volumes.append(get_volume_masked(label_zooms, label, flair_mask))\n",
    "        \n",
    "        t2_mask = nibabel.load(str(patient) + '/T2_mask.nii.gz').get_fdata()\n",
    "        t2_mask_zooms = nibabel.load(str(patient) + '/T2_mask.nii.gz').header.get_zooms()\n",
    "        assert t2_mask_zooms == label_zooms\n",
    "        t2_volumes.append(get_volume_masked(label_zooms, label, t2_mask))"
   ]
  },
  {
   "cell_type": "code",
   "execution_count": 105,
   "id": "af7b0d2c",
   "metadata": {},
   "outputs": [],
   "source": [
    "gt_errors = abs(np.array(gt_volumes[:90])/10 - np.array(ct1_volumes[:90]))/np.array(gt_volumes[:90])/10\n",
    "flair_errors = abs(np.array(gt_volumes[:90])/10 - np.array(flair_volumes[:90]))/np.array(gt_volumes[:90])/10\n",
    "t1_errors = abs(np.array(gt_volumes[:90])/10 - np.array(t1_volumes[:90]))/np.array(gt_volumes[:90])/10\n",
    "t2_errors = abs(np.array(gt_volumes[:90])/10 - np.array(t2_volumes))/np.array(gt_volumes[:90])/10"
   ]
  },
  {
   "cell_type": "code",
   "execution_count": 106,
   "id": "4aab52d8",
   "metadata": {},
   "outputs": [
    {
     "data": {
      "text/plain": [
       "(5.051396260997581e-05,\n",
       " 1.9232903004722573e-05,\n",
       " 3.789241141235157e-05,\n",
       " 2.876650289588212e-05)"
      ]
     },
     "execution_count": 106,
     "metadata": {},
     "output_type": "execute_result"
    }
   ],
   "source": [
    "np.mean(gt_errors), np.mean(flair_errors), np.mean(t1_errors), np.mean(t2_errors)"
   ]
  },
  {
   "cell_type": "code",
   "execution_count": 99,
   "id": "71b69f09",
   "metadata": {},
   "outputs": [
    {
     "name": "stderr",
     "output_type": "stream",
     "text": [
      "/home/kate/miniconda3/lib/python3.9/site-packages/researchpy/ttest.py:38: FutureWarning: The series.append method is deprecated and will be removed from pandas in a future version. Use pandas.concat instead.\n",
      "  groups = group1.append(group2, ignore_index= True)\n",
      "/home/kate/miniconda3/lib/python3.9/site-packages/researchpy/ttest.py:38: FutureWarning: The series.append method is deprecated and will be removed from pandas in a future version. Use pandas.concat instead.\n",
      "  groups = group1.append(group2, ignore_index= True)\n",
      "/home/kate/miniconda3/lib/python3.9/site-packages/researchpy/ttest.py:38: FutureWarning: The series.append method is deprecated and will be removed from pandas in a future version. Use pandas.concat instead.\n",
      "  groups = group1.append(group2, ignore_index= True)\n"
     ]
    },
    {
     "data": {
      "text/plain": [
       "(0.0961, 0.1387, 0.0194)"
      ]
     },
     "execution_count": 99,
     "metadata": {},
     "output_type": "execute_result"
    }
   ],
   "source": [
    "ttest_pair(gt_errors[:90], t1_errors[:90]), ttest_pair(gt_errors[:90], t2_errors), ttest_pair(gt_errors, flair_errors)"
   ]
  },
  {
   "cell_type": "code",
   "execution_count": null,
   "id": "77b9e997",
   "metadata": {},
   "outputs": [],
   "source": []
  }
 ],
 "metadata": {
  "kernelspec": {
   "display_name": "Python 3 (ipykernel)",
   "language": "python",
   "name": "python3"
  },
  "language_info": {
   "codemirror_mode": {
    "name": "ipython",
    "version": 3
   },
   "file_extension": ".py",
   "mimetype": "text/x-python",
   "name": "python",
   "nbconvert_exporter": "python",
   "pygments_lexer": "ipython3",
   "version": "3.9.1"
  }
 },
 "nbformat": 4,
 "nbformat_minor": 5
}
