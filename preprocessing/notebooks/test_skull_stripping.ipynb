{
 "cells": [
  {
   "cell_type": "code",
   "execution_count": 1,
   "id": "b5f4b23f",
   "metadata": {},
   "outputs": [],
   "source": [
    "import matplotlib.pyplot as plt\n",
    "import nibabel\n",
    "import numpy as np\n",
    "import pandas as pd\n",
    "from pathlib import Path\n",
    "from skimage.transform import rescale\n",
    "from tqdm import tqdm\n",
    "import os\n",
    "import researchpy\n",
    "from glob import glob\n",
    "import shutil"
   ]
  },
  {
   "cell_type": "markdown",
   "id": "dcf41821",
   "metadata": {},
   "source": [
    "# LGG"
   ]
  },
  {
   "cell_type": "markdown",
   "id": "41bbd3c1",
   "metadata": {},
   "source": [
    "#### In this notebook we compare the true volumes of the tumor label before and after skull-stripping."
   ]
  },
  {
   "cell_type": "code",
   "execution_count": 2,
   "id": "4de9f8c1",
   "metadata": {},
   "outputs": [],
   "source": [
    "list_sub = os.listdir('/mnt/public_data/preproc_study/gbm/1_reg_individual/')"
   ]
  },
  {
   "cell_type": "code",
   "execution_count": 33,
   "id": "239e7c5d",
   "metadata": {},
   "outputs": [
    {
     "name": "stderr",
     "output_type": "stream",
     "text": [
      "100%|██████████| 102/102 [01:24<00:00,  1.21it/s]\n"
     ]
    }
   ],
   "source": [
    "gt_volumes = []\n",
    "t1_volumes = []\n",
    "t2_volumes = []\n",
    "flair_volumes = []\n",
    "ct1_volumes = []\n",
    "\n",
    "t1_mask_sums = []\n",
    "t2_mask_sums = []\n",
    "flair_mask_sums = []\n",
    "ct1_mask_sums = []\n",
    "\n",
    "\n",
    "\n",
    "def get_volume_gbm(zooms, label):\n",
    "    \"\"\"Calculates true volume of BraTS mask\"\"\"\n",
    "    y_wt, y_tc, y_et = label > 0, ((label == 1) + (label == 3)) > 0, label == 3\n",
    "    mask_sum = np.sum(y_wt)\n",
    "    volume = mask_sum * zooms[0] * zooms[1] * zooms[2]\n",
    "    return volume/1000\n",
    "\n",
    "\n",
    "def get_volume_gbm_masked(zooms, label, mask):\n",
    "    \"\"\"Calculates true volume of BraTS mask\"\"\"\n",
    "    y_wt, y_tc, y_et = label > 0, ((label == 1) + (label == 3)) > 0, label == 3\n",
    "    mask = mask[y_wt]\n",
    "    mask_sum = np.sum(mask)\n",
    "    volume = mask_sum * zooms[0] * zooms[1] * zooms[2]\n",
    "    return volume/1000\n",
    "\n",
    "\n",
    "for patient in tqdm(glob('/mnt/public_data/preproc_study/gbm/1_reg_individual/TCGA*')):\n",
    "    \"\"\" For all directories in the GBM dataset calculating the tumor volumes after skull stripping.\n",
    "    In each modality separately.\"\"\"\n",
    "    if Path(patient).is_dir():\n",
    "\n",
    "        label = nibabel.load(str(patient) + '/CT1_SEG.nii.gz').get_fdata()\n",
    "        label_zooms = nibabel.load(str(patient) + '/CT1_SEG.nii.gz').header.get_zooms()\n",
    "        gt_volumes.append(get_volume_gbm(label_zooms, label))\n",
    "        \n",
    "        t1_mask = nibabel.load(str(patient) + '/T1_mask.nii.gz').get_fdata()\n",
    "        t1_mask_zooms = nibabel.load(str(patient) + '/T1_mask.nii.gz').header.get_zooms()\n",
    "        assert t1_mask_zooms == label_zooms\n",
    "        t1_volumes.append(get_volume_gbm_masked(label_zooms, label, t1_mask))\n",
    "        t1_mask_sums.append(t1_mask.sum().sum())\n",
    "        \n",
    "        ct1_mask = nibabel.load(str(patient) + '/CT1_mask.nii.gz').get_fdata()\n",
    "        ct1_mask_zooms = nibabel.load(str(patient) + '/CT1_mask.nii.gz').header.get_zooms()\n",
    "        assert ct1_mask_zooms == label_zooms\n",
    "        ct1_volumes.append(get_volume_gbm_masked(label_zooms, label, ct1_mask))\n",
    "        ct1_mask_sums.append(ct1_mask.sum().sum())\n",
    "        \n",
    "        flair_mask = nibabel.load(str(patient) + '/FLAIR_mask.nii.gz').get_fdata()\n",
    "        flair_mask_zooms = nibabel.load(str(patient) + '/FLAIR_mask.nii.gz').header.get_zooms()\n",
    "        assert flair_mask_zooms == label_zooms\n",
    "        flair_volumes.append(get_volume_gbm_masked(label_zooms, label, flair_mask))\n",
    "        flair_mask_sums.append(flair_mask.sum().sum())\n",
    "        \n",
    "        t2_mask = nibabel.load(str(patient) + '/T2_mask.nii.gz').get_fdata()\n",
    "        t2_mask_zooms = nibabel.load(str(patient) + '/T2_mask.nii.gz').header.get_zooms()\n",
    "        assert t2_mask_zooms == label_zooms\n",
    "        t2_volumes.append(get_volume_gbm_masked(label_zooms, label, t2_mask))\n",
    "        t2_mask_sums.append(t2_mask.sum().sum())"
   ]
  },
  {
   "cell_type": "code",
   "execution_count": 4,
   "id": "ef0e2fef",
   "metadata": {},
   "outputs": [],
   "source": [
    "gt_errors = abs(np.array(gt_volumes) - np.array(ct1_volumes))/np.array(gt_volumes)\n",
    "flair_errors = abs(np.array(gt_volumes) - np.array(flair_volumes))/np.array(gt_volumes)\n",
    "t1_errors = abs(np.array(gt_volumes) - np.array(t1_volumes))/np.array(gt_volumes)\n",
    "t2_errors = abs(np.array(gt_volumes) - np.array(t2_volumes))/np.array(gt_volumes)"
   ]
  },
  {
   "cell_type": "code",
   "execution_count": 5,
   "id": "c9bd3d19",
   "metadata": {},
   "outputs": [
    {
     "data": {
      "text/plain": [
       "(0.0035365294817691086,\n",
       " 0.002749536803530542,\n",
       " 0.005887912752872096,\n",
       " 0.002644775665931629)"
      ]
     },
     "execution_count": 5,
     "metadata": {},
     "output_type": "execute_result"
    }
   ],
   "source": [
    "np.mean(gt_errors), np.mean(flair_errors), np.mean(t1_errors), np.mean(t2_errors)"
   ]
  },
  {
   "cell_type": "code",
   "execution_count": 6,
   "id": "1ab8e126",
   "metadata": {},
   "outputs": [],
   "source": [
    "from researchpy import ttest\n",
    "\n",
    "def ttest_pair(df_1, df_2, name_1 = 'one', name_2 = 'two', correction = None):\n",
    "    return ttest(pd.Series(df_1), pd.Series(df_2), \n",
    "#                  group1_name = name_1,\n",
    "#                  group2_name= name_2, \n",
    "                 equal_variances=False, paired=True,)[1].iloc[4].values[1]"
   ]
  },
  {
   "cell_type": "code",
   "execution_count": 7,
   "id": "da2b2346",
   "metadata": {
    "scrolled": true
   },
   "outputs": [
    {
     "name": "stderr",
     "output_type": "stream",
     "text": [
      "/home/kate/miniconda3/lib/python3.9/site-packages/researchpy/ttest.py:38: FutureWarning: The series.append method is deprecated and will be removed from pandas in a future version. Use pandas.concat instead.\n",
      "  groups = group1.append(group2, ignore_index= True)\n",
      "/home/kate/miniconda3/lib/python3.9/site-packages/researchpy/ttest.py:38: FutureWarning: The series.append method is deprecated and will be removed from pandas in a future version. Use pandas.concat instead.\n",
      "  groups = group1.append(group2, ignore_index= True)\n",
      "/home/kate/miniconda3/lib/python3.9/site-packages/researchpy/ttest.py:38: FutureWarning: The series.append method is deprecated and will be removed from pandas in a future version. Use pandas.concat instead.\n",
      "  groups = group1.append(group2, ignore_index= True)\n"
     ]
    },
    {
     "data": {
      "text/plain": [
       "(0.114, 0.0007, 0.0)"
      ]
     },
     "execution_count": 7,
     "metadata": {},
     "output_type": "execute_result"
    }
   ],
   "source": [
    "ttest_pair(gt_errors, t1_errors), ttest_pair(gt_errors, t2_errors), ttest_pair(gt_errors, flair_errors)"
   ]
  },
  {
   "cell_type": "code",
   "execution_count": 17,
   "id": "708ddc5b",
   "metadata": {},
   "outputs": [
    {
     "data": {
      "text/plain": [
       "(array([159.7130227]), 0.15917026083384678)"
      ]
     },
     "execution_count": 17,
     "metadata": {},
     "output_type": "execute_result"
    }
   ],
   "source": [
    "# the maximum difference in the label cutting 1%\n",
    "np.array(ct1_volumes)[t1_errors  == t1_errors.max()], t1_errors.max()"
   ]
  },
  {
   "cell_type": "code",
   "execution_count": 10,
   "id": "a2f59020",
   "metadata": {},
   "outputs": [
    {
     "data": {
      "text/plain": [
       "(107.55459191161943, 52.184958038968254, 107.46187568933186, 52.12487969799859)"
      ]
     },
     "execution_count": 10,
     "metadata": {},
     "output_type": "execute_result"
    }
   ],
   "source": [
    "# means of the label cutting\n",
    "np.array(flair_volumes).mean(), np.array(flair_volumes).std(), np.array(ct1_volumes).mean(), np.array(ct1_volumes).std()"
   ]
  },
  {
   "cell_type": "markdown",
   "id": "a1c6eede",
   "metadata": {},
   "source": [
    "##### The conclusion:\n",
    "\n",
    "There is a statisticall difference on the errors with T1C and T1 and T2 image skull-stripping result, yet the difference is under 1%, so neglectable"
   ]
  },
  {
   "cell_type": "code",
   "execution_count": 27,
   "id": "4b27e73d",
   "metadata": {},
   "outputs": [],
   "source": [
    "t1_errors_mask_sums = abs(np.array(ct1_mask_sums) - np.array(t1_mask_sums))/np.array(ct1_mask_sums)*100\n",
    "flair_errors_mask_sums = abs(np.array(ct1_mask_sums) - np.array(flair_mask_sums))/np.array(ct1_mask_sums)*100\n",
    "t2_errors_mask_sums = abs(np.array(ct1_mask_sums) - np.array(t2_mask_sums))/np.array(ct1_mask_sums)*100"
   ]
  },
  {
   "cell_type": "code",
   "execution_count": 29,
   "id": "130321dc",
   "metadata": {},
   "outputs": [
    {
     "name": "stderr",
     "output_type": "stream",
     "text": [
      "/home/kate/miniconda3/lib/python3.9/site-packages/researchpy/ttest.py:38: FutureWarning: The series.append method is deprecated and will be removed from pandas in a future version. Use pandas.concat instead.\n",
      "  groups = group1.append(group2, ignore_index= True)\n",
      "/home/kate/miniconda3/lib/python3.9/site-packages/researchpy/ttest.py:38: FutureWarning: The series.append method is deprecated and will be removed from pandas in a future version. Use pandas.concat instead.\n",
      "  groups = group1.append(group2, ignore_index= True)\n",
      "/home/kate/miniconda3/lib/python3.9/site-packages/researchpy/ttest.py:38: FutureWarning: The series.append method is deprecated and will be removed from pandas in a future version. Use pandas.concat instead.\n",
      "  groups = group1.append(group2, ignore_index= True)\n"
     ]
    },
    {
     "data": {
      "text/plain": [
       "(0.0, 0.0, 0.0755)"
      ]
     },
     "execution_count": 29,
     "metadata": {},
     "output_type": "execute_result"
    }
   ],
   "source": [
    "ttest_pair(ct1_mask_sums, t1_mask_sums), ttest_pair(ct1_mask_sums, t2_mask_sums), ttest_pair(ct1_mask_sums, flair_mask_sums)"
   ]
  },
  {
   "cell_type": "code",
   "execution_count": 30,
   "id": "015ce8f4",
   "metadata": {},
   "outputs": [
    {
     "data": {
      "text/plain": [
       "(2.423496679548106, 2.3841133184755217, 3.248581323500852)"
      ]
     },
     "execution_count": 30,
     "metadata": {},
     "output_type": "execute_result"
    }
   ],
   "source": [
    "t1_errors_mask_sums.mean(), flair_errors_mask_sums.mean(), t2_errors_mask_sums.mean()"
   ]
  },
  {
   "cell_type": "code",
   "execution_count": 34,
   "id": "b895f098",
   "metadata": {},
   "outputs": [
    {
     "data": {
      "text/plain": [
       "25.987988881348368"
      ]
     },
     "execution_count": 34,
     "metadata": {},
     "output_type": "execute_result"
    }
   ],
   "source": [
    "t1_errors_mask_sums.max()"
   ]
  },
  {
   "cell_type": "code",
   "execution_count": 31,
   "id": "c48e4639",
   "metadata": {},
   "outputs": [
    {
     "data": {
      "text/plain": [
       "(3.3624669881894618, 1.9866390388664343, 2.528345812048424)"
      ]
     },
     "execution_count": 31,
     "metadata": {},
     "output_type": "execute_result"
    }
   ],
   "source": [
    "t1_errors_mask_sums.std(), flair_errors_mask_sums.std(), t2_errors_mask_sums.std()"
   ]
  },
  {
   "cell_type": "markdown",
   "id": "66046579",
   "metadata": {},
   "source": [
    "#### Conclusion:\n",
    "\n",
    "Masks generated on aligned images differ in 3% in general, and maximum in "
   ]
  },
  {
   "cell_type": "markdown",
   "id": "abf26564",
   "metadata": {},
   "source": [
    "# BGPD"
   ]
  },
  {
   "cell_type": "code",
   "execution_count": 86,
   "id": "42a008e0",
   "metadata": {},
   "outputs": [],
   "source": [
    "list_sub = os.listdir('/mnt/public_data/preproc_study/bgpd/1_reg_individual/')"
   ]
  },
  {
   "cell_type": "code",
   "execution_count": 88,
   "id": "2232a335",
   "metadata": {},
   "outputs": [
    {
     "data": {
      "text/plain": [
       "['/mnt/public_data/preproc_study/bgpd/1_reg_individual/1043_18_4/T1.nii.gz',\n",
       " '/mnt/public_data/preproc_study/bgpd/1_reg_individual/1043_18_4/T2_mask.nii.gz',\n",
       " '/mnt/public_data/preproc_study/bgpd/1_reg_individual/1043_18_4/CT1_mask.nii.gz',\n",
       " '/mnt/public_data/preproc_study/bgpd/1_reg_individual/1043_18_4/T1_mask.nii.gz',\n",
       " '/mnt/public_data/preproc_study/bgpd/1_reg_individual/1043_18_4/FLAIR_mask.nii.gz',\n",
       " '/mnt/public_data/preproc_study/bgpd/1_reg_individual/1043_18_4/CT1.nii.gz',\n",
       " '/mnt/public_data/preproc_study/bgpd/1_reg_individual/1043_18_4/mask_GTV_FLAIR.nii.gz',\n",
       " '/mnt/public_data/preproc_study/bgpd/1_reg_individual/1043_18_4/T2.nii.gz',\n",
       " '/mnt/public_data/preproc_study/bgpd/1_reg_individual/1043_18_4/FLAIR.nii.gz']"
      ]
     },
     "execution_count": 88,
     "metadata": {},
     "output_type": "execute_result"
    }
   ],
   "source": [
    "list(glob('/mnt/public_data/preproc_study/bgpd/1_reg_individual/1043_18_4/*'))"
   ]
  },
  {
   "cell_type": "code",
   "execution_count": 35,
   "id": "b463077b",
   "metadata": {},
   "outputs": [
    {
     "name": "stderr",
     "output_type": "stream",
     "text": [
      "100%|██████████| 180/180 [05:51<00:00,  1.95s/it]\n"
     ]
    }
   ],
   "source": [
    "gt_volumes = []\n",
    "t1_volumes = []\n",
    "t2_volumes = []\n",
    "flair_volumes = []\n",
    "ct1_volumes = []\n",
    "\n",
    "\n",
    "def get_volume(zooms, mask):\n",
    "    \"\"\"Calculates true volume of binary mask \"\"\"\n",
    "    mask = mask.astype(bool)*1\n",
    "    mask_sum = mask.sum().sum()\n",
    "    volume = mask_sum * zooms[0] * zooms[1] * zooms[2]\n",
    "    return volume/1000\n",
    "\n",
    "def get_volume_masked(zooms, label, mask):\n",
    "    \"\"\"Calculates true volume of GTV mask\"\"\"\n",
    "    mask = mask[label.astype(bool)]\n",
    "    mask_sum = np.sum(mask)\n",
    "    volume = mask_sum * zooms[0] * zooms[1] * zooms[2]\n",
    "    return volume/1000\n",
    "\n",
    "\n",
    "for patient in tqdm(glob('/mnt/public_data/preproc_study/bgpd/1_reg_individual/*')):\n",
    "    \"\"\" For all directories in the BGPD dataset calculating the tumor volumes after skull stripping.\n",
    "    In each modality separately.\"\"\"\n",
    "    if Path(patient).is_dir():\n",
    "\n",
    "        label = nibabel.load(str(patient) + '/mask_GTV_FLAIR.nii.gz').get_fdata()\n",
    "        label_zooms = nibabel.load(str(patient) + '/mask_GTV_FLAIR.nii.gz').header.get_zooms()\n",
    "        gt_volumes.append(get_volume(label_zooms, label))\n",
    "        \n",
    "        t1_mask = nibabel.load(str(patient) + '/T1_mask.nii.gz').get_fdata()\n",
    "        t1_mask_zooms = nibabel.load(str(patient) + '/T1_mask.nii.gz').header.get_zooms()\n",
    "        assert t1_mask_zooms == label_zooms\n",
    "        t1_volumes.append(get_volume_masked(label_zooms, label, t1_mask))\n",
    "        \n",
    "        ct1_mask = nibabel.load(str(patient) + '/CT1_mask.nii.gz').get_fdata()\n",
    "        ct1_mask_zooms = nibabel.load(str(patient) + '/CT1_mask.nii.gz').header.get_zooms()\n",
    "        assert ct1_mask_zooms == label_zooms\n",
    "        ct1_volumes.append(get_volume_masked(label_zooms, label, ct1_mask))\n",
    "        \n",
    "        flair_mask = nibabel.load(str(patient) + '/FLAIR_mask.nii.gz').get_fdata()\n",
    "        flair_mask_zooms = nibabel.load(str(patient) + '/FLAIR_mask.nii.gz').header.get_zooms()\n",
    "        assert flair_mask_zooms == label_zooms\n",
    "        flair_volumes.append(get_volume_masked(label_zooms, label, flair_mask))\n",
    "        \n",
    "        t2_mask = nibabel.load(str(patient) + '/T2_mask.nii.gz').get_fdata()\n",
    "        t2_mask_zooms = nibabel.load(str(patient) + '/T2_mask.nii.gz').header.get_zooms()\n",
    "        assert t2_mask_zooms == label_zooms\n",
    "        t2_volumes.append(get_volume_masked(label_zooms, label, t2_mask))"
   ]
  },
  {
   "cell_type": "code",
   "execution_count": 105,
   "id": "e9940faf",
   "metadata": {},
   "outputs": [],
   "source": [
    "gt_errors = abs(np.array(gt_volumes[:90])/10 - np.array(ct1_volumes[:90]))/np.array(gt_volumes[:90])/10\n",
    "flair_errors = abs(np.array(gt_volumes[:90])/10 - np.array(flair_volumes[:90]))/np.array(gt_volumes[:90])/10\n",
    "t1_errors = abs(np.array(gt_volumes[:90])/10 - np.array(t1_volumes[:90]))/np.array(gt_volumes[:90])/10\n",
    "t2_errors = abs(np.array(gt_volumes[:90])/10 - np.array(t2_volumes))/np.array(gt_volumes[:90])/10"
   ]
  },
  {
   "cell_type": "code",
   "execution_count": 106,
   "id": "cf930e43",
   "metadata": {},
   "outputs": [
    {
     "data": {
      "text/plain": [
       "(5.051396260997581e-05,\n",
       " 1.9232903004722573e-05,\n",
       " 3.789241141235157e-05,\n",
       " 2.876650289588212e-05)"
      ]
     },
     "execution_count": 106,
     "metadata": {},
     "output_type": "execute_result"
    }
   ],
   "source": [
    "np.mean(gt_errors), np.mean(flair_errors), np.mean(t1_errors), np.mean(t2_errors)"
   ]
  },
  {
   "cell_type": "code",
   "execution_count": 99,
   "id": "59502fed",
   "metadata": {},
   "outputs": [
    {
     "name": "stderr",
     "output_type": "stream",
     "text": [
      "/home/kate/miniconda3/lib/python3.9/site-packages/researchpy/ttest.py:38: FutureWarning: The series.append method is deprecated and will be removed from pandas in a future version. Use pandas.concat instead.\n",
      "  groups = group1.append(group2, ignore_index= True)\n",
      "/home/kate/miniconda3/lib/python3.9/site-packages/researchpy/ttest.py:38: FutureWarning: The series.append method is deprecated and will be removed from pandas in a future version. Use pandas.concat instead.\n",
      "  groups = group1.append(group2, ignore_index= True)\n",
      "/home/kate/miniconda3/lib/python3.9/site-packages/researchpy/ttest.py:38: FutureWarning: The series.append method is deprecated and will be removed from pandas in a future version. Use pandas.concat instead.\n",
      "  groups = group1.append(group2, ignore_index= True)\n"
     ]
    },
    {
     "data": {
      "text/plain": [
       "(0.0961, 0.1387, 0.0194)"
      ]
     },
     "execution_count": 99,
     "metadata": {},
     "output_type": "execute_result"
    }
   ],
   "source": [
    "ttest_pair(gt_errors[:90], t1_errors[:90]), ttest_pair(gt_errors[:90], t2_errors), ttest_pair(gt_errors, flair_errors)"
   ]
  },
  {
   "cell_type": "code",
   "execution_count": null,
   "id": "7c94cc53",
   "metadata": {},
   "outputs": [],
   "source": []
  }
 ],
 "metadata": {
  "kernelspec": {
   "display_name": "Python 3 (ipykernel)",
   "language": "python",
   "name": "python3"
  },
  "language_info": {
   "codemirror_mode": {
    "name": "ipython",
    "version": 3
   },
   "file_extension": ".py",
   "mimetype": "text/x-python",
   "name": "python",
   "nbconvert_exporter": "python",
   "pygments_lexer": "ipython3",
   "version": "3.9.1"
  }
 },
 "nbformat": 4,
 "nbformat_minor": 5
}
