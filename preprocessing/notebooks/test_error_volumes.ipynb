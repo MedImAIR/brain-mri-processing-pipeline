{
 "cells": [
  {
   "cell_type": "code",
   "execution_count": 8,
   "id": "3b0375b1",
   "metadata": {},
   "outputs": [],
   "source": [
    "import numpy as np\n",
    "import pandas as pd\n",
    "import matplotlib.pyplot as plt\n",
    "from glob2 import glob \n",
    "import nibabel as nib\n",
    "\n",
    "from tqdm import tqdm \n",
    "import mpu"
   ]
  },
  {
   "cell_type": "markdown",
   "id": "b36af2f0",
   "metadata": {},
   "source": [
    "##  Volumes for GBM"
   ]
  },
  {
   "cell_type": "code",
   "execution_count": 9,
   "id": "b5e6a934",
   "metadata": {},
   "outputs": [],
   "source": [
    "import os\n",
    "import sys\n",
    "import argparse\n",
    "import numpy as np\n",
    "import torch\n",
    "import pandas as pd\n",
    "import nibabel as nib    \n",
    "from pathlib import Path\n",
    "from surface_distance import metrics\n",
    "from tqdm import tqdm\n",
    "import torch.nn as nn\n",
    "import ants\n",
    "import json"
   ]
  },
  {
   "cell_type": "code",
   "execution_count": 65,
   "id": "b2f4bf92",
   "metadata": {},
   "outputs": [],
   "source": [
    "def get_path_to_predict(folder,seed):\n",
    "    all_sub_path = []\n",
    "    folds = ['fold_0', 'fold_1', 'fold_2']\n",
    "    for fold in folds:\n",
    "        for sub in seed[fold]:\n",
    "            sub_path = glob('{}/*_fold={}_tta/{}.npy.npz'.format(folder, fold[-1], sub))\n",
    "            assert(len(sub_path) == 1)\n",
    "            all_sub_path.append(sub_path[0])\n",
    "    return all_sub_path"
   ]
  },
  {
   "cell_type": "code",
   "execution_count": 66,
   "id": "3d00dce9",
   "metadata": {},
   "outputs": [],
   "source": [
    "path_pred = '/mnt/experiments/'\n",
    "path = '/mnt/private_data/'"
   ]
  },
  {
   "cell_type": "code",
   "execution_count": 67,
   "id": "ef9949fa",
   "metadata": {},
   "outputs": [],
   "source": [
    "gt_exp_name = ['gbm_1_reg_train','gbm_2a_interp', 'gbm_3a_atlas', 'gbm_4a_resamp', 'gbm_4b_n4', 'gbm_4d_susan', 'gbm_5_ss_shared']\n",
    "pred_exp_name = ['/mnt/experiments/gbm_infer/gbm_1_reg_train','/mnt/newdata/gbm_infer/gbm_2a_interp_300', '/mnt/newdata/gbm_infer/gbm_3a_atlas_300', '/mnt/experiments/gbm_infer/gbm_4a_resamp',\n",
    "           '/mnt/newdata/gbm_infer/gbm_4b_n4_300', '/mnt/newdata/gbm_infer/gbm_4d_susan_300', '/mnt/experiments/gbm_infer/gbm_5_ss_shared_300' , ]    "
   ]
  },
  {
   "cell_type": "code",
   "execution_count": 62,
   "id": "fd3ad25d",
   "metadata": {
    "collapsed": true
   },
   "outputs": [
    {
     "data": {
      "text/plain": [
       "['lost+found',\n",
       " 'data',\n",
       " 'niir',\n",
       " 'ssl_anatomy',\n",
       " 'schw_results',\n",
       " 'egd_results',\n",
       " 'test',\n",
       " 'gbm_infer',\n",
       " 'bgpd_infer',\n",
       " 'temp',\n",
       " 'chest-xray-14',\n",
       " 'schw',\n",
       " 'schw_infer',\n",
       " 'lgg_results',\n",
       " 'brats_results',\n",
       " 'lgg_infer',\n",
       " 'rsna22',\n",
       " 'ood_tutorial',\n",
       " 'gbm_1_reg_train',\n",
       " 'bgpd_results',\n",
       " 'egd_infer',\n",
       " 'gbm_results']"
      ]
     },
     "execution_count": 62,
     "metadata": {},
     "output_type": "execute_result"
    }
   ],
   "source": [
    "os.listdir('/mnt/newdata')"
   ]
  },
  {
   "cell_type": "code",
   "execution_count": 56,
   "id": "c55593a6",
   "metadata": {
    "collapsed": true
   },
   "outputs": [
    {
     "data": {
      "text/plain": [
       "['gbm_5_ss_shared',\n",
       " '6_histogram_fold_2',\n",
       " '6_histogram_fold_0',\n",
       " 'gbm_4a_resamp_unetr_param',\n",
       " 'gbm_5_ss_shared_unetr_param',\n",
       " 'gbm_4b_n4_unetr_param',\n",
       " 'gbm_4d_susan_unetr_param',\n",
       " 'gbm_4a_resamp_wo_z',\n",
       " 'gbm_4a_resamp',\n",
       " 'gbm_1_reg_train',\n",
       " 'gbm_4b_n4',\n",
       " 'gbm_2a_interp',\n",
       " '6_histogram_fold_1',\n",
       " 'gbm_4d_susan',\n",
       " 'gbm_3a_atlas',\n",
       " 'gbm_4a_resamp_ct1',\n",
       " 'gbm_4a_resamp_100',\n",
       " 'gbm_4a_resamp_flair',\n",
       " 'gbm_4a_resamp_aug',\n",
       " 'gbm_5_ss_shared_300']"
      ]
     },
     "execution_count": 56,
     "metadata": {},
     "output_type": "execute_result"
    }
   ],
   "source": [
    "os.listdir('/mnt/experiments/gbm_infer')"
   ]
  },
  {
   "cell_type": "code",
   "execution_count": 50,
   "id": "bb4b6aff",
   "metadata": {
    "collapsed": true
   },
   "outputs": [
    {
     "data": {
      "text/plain": [
       "['TCGA-06-1802_seg.nii.gz',\n",
       " 'TCGA-02-0011_seg.nii.gz',\n",
       " 'TCGA-02-0034_seg.nii.gz',\n",
       " 'TCGA-08-0509_seg.nii.gz',\n",
       " 'TCGA-08-0360_seg.nii.gz',\n",
       " 'TCGA-19-2624_seg.nii.gz',\n",
       " 'TCGA-02-0116_seg.nii.gz',\n",
       " 'TCGA-06-6389_seg.nii.gz',\n",
       " 'TCGA-14-3477_seg.nii.gz',\n",
       " 'TCGA-06-0119_seg.nii.gz',\n",
       " 'TCGA-76-6657_seg.nii.gz',\n",
       " 'TCGA-06-0190_seg.nii.gz',\n",
       " 'TCGA-08-0392_seg.nii.gz',\n",
       " 'TCGA-02-0087_seg.nii.gz',\n",
       " 'TCGA-02-0068_seg.nii.gz',\n",
       " 'TCGA-76-6282_seg.nii.gz',\n",
       " 'TCGA-12-1598_seg.nii.gz',\n",
       " 'TCGA-02-0102_seg.nii.gz',\n",
       " 'TCGA-02-0027_seg.nii.gz',\n",
       " 'TCGA-19-5951_seg.nii.gz',\n",
       " 'TCGA-06-0122_seg.nii.gz',\n",
       " 'TCGA-12-1601_seg.nii.gz',\n",
       " 'TCGA-06-0182_seg.nii.gz',\n",
       " 'TCGA-14-1825_seg.nii.gz',\n",
       " 'TCGA-08-0355_seg.nii.gz',\n",
       " 'TCGA-02-0106_seg.nii.gz',\n",
       " 'TCGA-02-0059_seg.nii.gz',\n",
       " 'TCGA-06-5408_seg.nii.gz',\n",
       " 'TCGA-06-0154_seg.nii.gz',\n",
       " 'TCGA-08-0385_seg.nii.gz',\n",
       " 'TCGA-12-0616_seg.nii.gz',\n",
       " 'TCGA-14-1794_seg.nii.gz',\n",
       " 'TCGA-76-6662_seg.nii.gz',\n",
       " 'TCGA-14-1456_seg.nii.gz',\n",
       " 'TCGA-02-0009_seg.nii.gz',\n",
       " 'TCGA-02-0046_seg.nii.gz',\n",
       " 'TCGA-06-0646_seg.nii.gz',\n",
       " 'TCGA-76-6285_seg.nii.gz',\n",
       " 'TCGA-76-6664_seg.nii.gz',\n",
       " 'TCGA-06-0164_seg.nii.gz',\n",
       " 'TCGA-76-4934_seg.nii.gz',\n",
       " 'TCGA-06-5413_seg.nii.gz',\n",
       " 'TCGA-76-4935_seg.nii.gz',\n",
       " 'TCGA-08-0390_seg.nii.gz',\n",
       " 'TCGA-06-0188_seg.nii.gz',\n",
       " 'TCGA-06-0184_seg.nii.gz',\n",
       " 'TCGA-19-5960_seg.nii.gz',\n",
       " 'TCGA-06-0130_seg.nii.gz',\n",
       " 'TCGA-06-1084_seg.nii.gz',\n",
       " 'TCGA-12-3650_seg.nii.gz',\n",
       " 'TCGA-06-0187_seg.nii.gz',\n",
       " 'TCGA-12-1098_seg.nii.gz',\n",
       " 'TCGA-12-0829_seg.nii.gz',\n",
       " 'TCGA-06-0137_seg.nii.gz',\n",
       " 'TCGA-19-5954_seg.nii.gz',\n",
       " 'TCGA-76-6280_seg.nii.gz',\n",
       " 'TCGA-76-6191_seg.nii.gz',\n",
       " 'TCGA-02-0006_seg.nii.gz',\n",
       " 'TCGA-02-0033_seg.nii.gz',\n",
       " 'TCGA-12-0776_seg.nii.gz',\n",
       " 'TCGA-06-0179_seg.nii.gz',\n",
       " 'TCGA-06-0139_seg.nii.gz',\n",
       " 'TCGA-06-0192_seg.nii.gz',\n",
       " 'TCGA-76-6661_seg.nii.gz',\n",
       " 'TCGA-19-2631_seg.nii.gz',\n",
       " 'TCGA-02-0054_seg.nii.gz',\n",
       " 'TCGA-76-6193_seg.nii.gz',\n",
       " 'TCGA-08-0356_seg.nii.gz',\n",
       " 'TCGA-02-0037_seg.nii.gz',\n",
       " 'TCGA-06-0240_seg.nii.gz',\n",
       " 'TCGA-06-0185_seg.nii.gz',\n",
       " 'TCGA-19-5958_seg.nii.gz',\n",
       " 'TCGA-19-0963_seg.nii.gz',\n",
       " 'TCGA-06-0138_seg.nii.gz',\n",
       " 'TCGA-08-0359_seg.nii.gz',\n",
       " 'TCGA-06-5417_seg.nii.gz',\n",
       " 'TCGA-02-0047_seg.nii.gz',\n",
       " 'TCGA-06-0145_seg.nii.gz',\n",
       " 'TCGA-08-0389_seg.nii.gz',\n",
       " 'TCGA-08-0520_seg.nii.gz',\n",
       " 'TCGA-06-0176_seg.nii.gz',\n",
       " 'TCGA-76-6656_seg.nii.gz',\n",
       " 'TCGA-06-0142_seg.nii.gz',\n",
       " 'TCGA-06-0238_seg.nii.gz',\n",
       " 'TCGA-02-0086_seg.nii.gz',\n",
       " 'TCGA-06-0177_seg.nii.gz',\n",
       " 'TCGA-06-0162_seg.nii.gz',\n",
       " 'TCGA-02-0069_seg.nii.gz',\n",
       " 'TCGA-76-6663_seg.nii.gz',\n",
       " 'TCGA-02-0085_seg.nii.gz',\n",
       " 'TCGA-19-1789_seg.nii.gz',\n",
       " 'TCGA-06-0158_seg.nii.gz',\n",
       " 'TCGA-06-2570_seg.nii.gz',\n",
       " 'TCGA-02-0070_seg.nii.gz',\n",
       " 'TCGA-08-0522_seg.nii.gz',\n",
       " 'TCGA-12-1094_seg.nii.gz',\n",
       " 'TCGA-06-0149_seg.nii.gz',\n",
       " 'TCGA-06-0644_seg.nii.gz',\n",
       " 'TCGA-02-0075_seg.nii.gz',\n",
       " 'TCGA-02-0064_seg.nii.gz',\n",
       " 'TCGA-76-4932_seg.nii.gz',\n",
       " 'TCGA-08-0512_seg.nii.gz']"
      ]
     },
     "execution_count": 50,
     "metadata": {},
     "output_type": "execute_result"
    }
   ],
   "source": [
    "os.listdir('/mnt/private_data/gbm/gbm_4a_resamp/labels')"
   ]
  },
  {
   "cell_type": "code",
   "execution_count": 68,
   "id": "d6f8b38d",
   "metadata": {},
   "outputs": [
    {
     "name": "stderr",
     "output_type": "stream",
     "text": [
      "100%|██████████| 102/102 [02:12<00:00,  1.30s/it]\n",
      "100%|██████████| 102/102 [03:49<00:00,  2.25s/it]\n",
      "100%|██████████| 102/102 [02:48<00:00,  1.65s/it]\n",
      "100%|██████████| 102/102 [02:58<00:00,  1.75s/it]\n",
      "100%|██████████| 102/102 [02:14<00:00,  1.32s/it]\n",
      "100%|██████████| 102/102 [02:26<00:00,  1.43s/it]\n",
      "100%|██████████| 102/102 [01:50<00:00,  1.09s/it]\n"
     ]
    }
   ],
   "source": [
    "seed = mpu.io.read('/home/polina/DeepLearningExamples/PyTorch/Segmentation/nnUNet/metrics/gbm_seed.json')\n",
    "df_gt_volumes = pd.DataFrame()\n",
    "all_sub = [s.split('/')[-1][:-11] for s in glob(f'{path}gbm/gbm_4a_resamp/labels/*_seg.nii.gz')]\n",
    "df_gt_volumes['SubjectId']=all_sub\n",
    "df_gt_volumes.set_index('SubjectId', inplace=True)\n",
    "\n",
    "df_pred_volumes = pd.DataFrame()\n",
    "df_pred_volumes['SubjectId']=all_sub\n",
    "df_pred_volumes.set_index('SubjectId', inplace=True)\n",
    "\n",
    "for gt_folder, pred_folder  in zip(gt_exp_name, pred_exp_name):\n",
    "    pred_subjects = get_path_to_predict(pred_folder,seed)\n",
    "    for i, pred_sub in enumerate(tqdm(pred_subjects)):\n",
    "        sub = pred_sub.split('/')[-1][:-8]\n",
    "        label = nib.load(f'{path}/gbm/{gt_folder}/labels/{sub}_seg.nii.gz').get_fdata().astype(np.uint8)\n",
    "        predict = np.round(np.load(pred_sub, allow_pickle=True)['arr_0']).transpose((0, 3, 2, 1)).astype(np.uint8)\n",
    "        vox_size = 1\n",
    "        y_wt, y_tc, y_et = label > 0, ((label == 1) + (label == 3)) > 0, label == 3\n",
    "        df_gt_volumes.loc[sub, f'{gt_folder}_volume_WT']=np.sum(y_wt)*(vox_size**3)/1000\n",
    "        df_pred_volumes.loc[sub, f'{gt_folder}_volume_WT'] =np.sum(predict[0,:]==1)*(vox_size**3)/1000\n",
    "        \n",
    "        df_gt_volumes.loc[sub, f'{gt_folder}_volume_TC']=np.sum(y_tc)*(vox_size**3)/1000\n",
    "        df_pred_volumes.loc[sub, f'{gt_folder}_volume_TC'] =np.sum(predict[1,:]==1)*(vox_size**3)/1000\n",
    "        \n",
    "        df_gt_volumes.loc[sub, f'{gt_folder}_volume_ET']=np.sum(y_et)*(vox_size**3)/1000\n",
    "        df_pred_volumes.loc[sub, f'{gt_folder}_volume_ET'] =np.sum(predict[2,:]==1)*(vox_size**3)/1000\n",
    "     "
   ]
  },
  {
   "cell_type": "code",
   "execution_count": 74,
   "id": "18a7d0d8",
   "metadata": {},
   "outputs": [
    {
     "data": {
      "text/html": [
       "<div>\n",
       "<style scoped>\n",
       "    .dataframe tbody tr th:only-of-type {\n",
       "        vertical-align: middle;\n",
       "    }\n",
       "\n",
       "    .dataframe tbody tr th {\n",
       "        vertical-align: top;\n",
       "    }\n",
       "\n",
       "    .dataframe thead th {\n",
       "        text-align: right;\n",
       "    }\n",
       "</style>\n",
       "<table border=\"1\" class=\"dataframe\">\n",
       "  <thead>\n",
       "    <tr style=\"text-align: right;\">\n",
       "      <th></th>\n",
       "      <th>WT (Mean)</th>\n",
       "      <th>TC (Mean)</th>\n",
       "      <th>ET (Mean)</th>\n",
       "      <th>WT (STD)</th>\n",
       "      <th>TC (STD)</th>\n",
       "      <th>ET (STD)</th>\n",
       "    </tr>\n",
       "    <tr>\n",
       "      <th>Experiments</th>\n",
       "      <th></th>\n",
       "      <th></th>\n",
       "      <th></th>\n",
       "      <th></th>\n",
       "      <th></th>\n",
       "      <th></th>\n",
       "    </tr>\n",
       "  </thead>\n",
       "  <tbody>\n",
       "    <tr>\n",
       "      <th>gbm_1_reg_train</th>\n",
       "      <td>34.724088</td>\n",
       "      <td>15.758284</td>\n",
       "      <td>9.376373</td>\n",
       "      <td>33.046039</td>\n",
       "      <td>19.930526</td>\n",
       "      <td>10.706706</td>\n",
       "    </tr>\n",
       "    <tr>\n",
       "      <th>gbm_2a_interp</th>\n",
       "      <td>15.666108</td>\n",
       "      <td>7.621775</td>\n",
       "      <td>5.791794</td>\n",
       "      <td>16.149577</td>\n",
       "      <td>11.398546</td>\n",
       "      <td>9.550164</td>\n",
       "    </tr>\n",
       "    <tr>\n",
       "      <th>gbm_3a_atlas</th>\n",
       "      <td>13.076814</td>\n",
       "      <td>7.436216</td>\n",
       "      <td>5.639176</td>\n",
       "      <td>11.268876</td>\n",
       "      <td>10.050481</td>\n",
       "      <td>9.415561</td>\n",
       "    </tr>\n",
       "    <tr>\n",
       "      <th>gbm_4a_resamp</th>\n",
       "      <td>14.359069</td>\n",
       "      <td>6.984549</td>\n",
       "      <td>5.736961</td>\n",
       "      <td>13.003059</td>\n",
       "      <td>9.045553</td>\n",
       "      <td>8.721547</td>\n",
       "    </tr>\n",
       "    <tr>\n",
       "      <th>gbm_4b_n4</th>\n",
       "      <td>14.965363</td>\n",
       "      <td>7.049500</td>\n",
       "      <td>6.089647</td>\n",
       "      <td>14.786446</td>\n",
       "      <td>8.746443</td>\n",
       "      <td>6.925818</td>\n",
       "    </tr>\n",
       "    <tr>\n",
       "      <th>gbm_4d_susan</th>\n",
       "      <td>12.875049</td>\n",
       "      <td>6.894216</td>\n",
       "      <td>5.407618</td>\n",
       "      <td>12.989846</td>\n",
       "      <td>8.838672</td>\n",
       "      <td>9.011633</td>\n",
       "    </tr>\n",
       "    <tr>\n",
       "      <th>gbm_5_ss_shared</th>\n",
       "      <td>9.637843</td>\n",
       "      <td>5.846255</td>\n",
       "      <td>4.496549</td>\n",
       "      <td>8.982842</td>\n",
       "      <td>10.690795</td>\n",
       "      <td>8.505935</td>\n",
       "    </tr>\n",
       "  </tbody>\n",
       "</table>\n",
       "</div>"
      ],
      "text/plain": [
       "                 WT (Mean)  TC (Mean)  ET (Mean)   WT (STD)   TC (STD)  \\\n",
       "Experiments                                                              \n",
       "gbm_1_reg_train  34.724088  15.758284   9.376373  33.046039  19.930526   \n",
       "gbm_2a_interp    15.666108   7.621775   5.791794  16.149577  11.398546   \n",
       "gbm_3a_atlas     13.076814   7.436216   5.639176  11.268876  10.050481   \n",
       "gbm_4a_resamp    14.359069   6.984549   5.736961  13.003059   9.045553   \n",
       "gbm_4b_n4        14.965363   7.049500   6.089647  14.786446   8.746443   \n",
       "gbm_4d_susan     12.875049   6.894216   5.407618  12.989846   8.838672   \n",
       "gbm_5_ss_shared   9.637843   5.846255   4.496549   8.982842  10.690795   \n",
       "\n",
       "                  ET (STD)  \n",
       "Experiments                 \n",
       "gbm_1_reg_train  10.706706  \n",
       "gbm_2a_interp     9.550164  \n",
       "gbm_3a_atlas      9.415561  \n",
       "gbm_4a_resamp     8.721547  \n",
       "gbm_4b_n4         6.925818  \n",
       "gbm_4d_susan      9.011633  \n",
       "gbm_5_ss_shared   8.505935  "
      ]
     },
     "execution_count": 74,
     "metadata": {},
     "output_type": "execute_result"
    }
   ],
   "source": [
    "df_mae"
   ]
  },
  {
   "cell_type": "code",
   "execution_count": 121,
   "id": "97e1fbbc",
   "metadata": {},
   "outputs": [
    {
     "data": {
      "text/plain": [
       "array([130.138,  89.794, 140.503,  29.983,  37.503, 121.63 ,  51.661,\n",
       "        58.053, 142.885, 156.636, 129.966, 151.151, 140.806,  90.982,\n",
       "        81.364, 199.746, 110.907,  23.449,  49.748,  55.76 ,  69.317,\n",
       "        62.247, 127.133, 147.632, 112.085,  79.175, 121.001, 165.381,\n",
       "        82.621,  93.133,  62.947, 162.044,  76.282, 124.252,  16.527,\n",
       "       125.862,  29.721,  34.421, 111.997,  94.715, 100.784,  66.993,\n",
       "        74.43 ,  81.363,  48.063, 121.16 ,  78.869,  41.093,  39.344,\n",
       "        13.967,  79.503,  84.886,  67.705, 165.329, 131.622,  71.61 ,\n",
       "        38.371,  31.386,  83.362,  34.908,  43.959,  72.096,  91.775,\n",
       "       134.237, 177.358,  67.877,  67.507,  69.921,  72.97 ,  13.536,\n",
       "        98.171, 134.895, 104.193, 102.146,  48.824, 126.636, 163.233,\n",
       "        65.893,  61.408, 133.763, 128.663, 137.276, 114.398,  76.297,\n",
       "       127.505,  88.527, 123.538, 114.935,  98.159,  81.623,  61.752,\n",
       "        41.556,  64.919,  33.757, 195.943,  66.155,  37.284,  34.113,\n",
       "        84.658,  56.02 ,  52.516, 152.1  ])"
      ]
     },
     "execution_count": 121,
     "metadata": {},
     "output_type": "execute_result"
    }
   ],
   "source": [
    "np.abs(df_pred_volumes[f'{gt_folder}_volume_WT'].values)"
   ]
  },
  {
   "cell_type": "code",
   "execution_count": 128,
   "id": "fdfda9d2",
   "metadata": {},
   "outputs": [],
   "source": [
    "df_mae = pd.DataFrame()\n",
    "df_mae['Experiments']=gt_exp_name\n",
    "df_mae.set_index('Experiments', inplace=True)\n",
    "for gt_folder in gt_exp_name:\n",
    "    df_mae.loc[gt_folder, 'WT (MAE)'] = np.mean(np.abs(df_gt_volumes[f'{gt_folder}_volume_WT'].values - df_pred_volumes[f'{gt_folder}_volume_WT'].values), axis=0)\n",
    "    df_mae.loc[gt_folder, 'TC (MAE)'] = np.mean(np.abs(df_gt_volumes[f'{gt_folder}_volume_TC'].values - df_pred_volumes[f'{gt_folder}_volume_TC'].values), axis=0)\n",
    "    df_mae.loc[gt_folder, 'ET (MAE)'] = np.mean(np.abs(df_gt_volumes[f'{gt_folder}_volume_ET'].values - df_pred_volumes[f'{gt_folder}_volume_ET'].values), axis=0)\n",
    "    df_mae.loc[gt_folder, 'WT (STD)'] = np.std(np.abs( df_pred_volumes[f'{gt_folder}_volume_WT'].values), axis=0)\n",
    "    df_mae.loc[gt_folder, 'TC (STD)'] = np.std(np.abs(df_pred_volumes[f'{gt_folder}_volume_TC'].values), axis=0)\n",
    "    df_mae.loc[gt_folder, 'ET (STD)'] = np.std(np.abs( df_pred_volumes[f'{gt_folder}_volume_ET'].values), axis=0)   \n",
    "    df_mae.loc[gt_folder, 'WT (STD)'] = np.mean(np.abs( df_pred_volumes[f'{gt_folder}_volume_WT'].values), axis=0)\n",
    "    df_mae.loc[gt_folder, 'TC (STD)'] = np.mean(np.abs(df_pred_volumes[f'{gt_folder}_volume_TC'].values), axis=0)\n",
    "    df_mae.loc[gt_folder, 'ET (STD)'] = np.mean(np.abs( df_pred_volumes[f'{gt_folder}_volume_ET'].values), axis=0)  "
   ]
  },
  {
   "cell_type": "code",
   "execution_count": 130,
   "id": "a7eb7284",
   "metadata": {},
   "outputs": [
    {
     "data": {
      "text/html": [
       "<div>\n",
       "<style scoped>\n",
       "    .dataframe tbody tr th:only-of-type {\n",
       "        vertical-align: middle;\n",
       "    }\n",
       "\n",
       "    .dataframe tbody tr th {\n",
       "        vertical-align: top;\n",
       "    }\n",
       "\n",
       "    .dataframe thead th {\n",
       "        text-align: right;\n",
       "    }\n",
       "</style>\n",
       "<table border=\"1\" class=\"dataframe\">\n",
       "  <thead>\n",
       "    <tr style=\"text-align: right;\">\n",
       "      <th></th>\n",
       "      <th>WT (Mean)</th>\n",
       "      <th>TC (Mean)</th>\n",
       "      <th>ET (Mean)</th>\n",
       "      <th>WT (STD)</th>\n",
       "      <th>TC (STD)</th>\n",
       "      <th>ET (STD)</th>\n",
       "    </tr>\n",
       "    <tr>\n",
       "      <th>Experiments</th>\n",
       "      <th></th>\n",
       "      <th></th>\n",
       "      <th></th>\n",
       "      <th></th>\n",
       "      <th></th>\n",
       "      <th></th>\n",
       "    </tr>\n",
       "  </thead>\n",
       "  <tbody>\n",
       "    <tr>\n",
       "      <th>gbm_1_reg_train</th>\n",
       "      <td>34.724088</td>\n",
       "      <td>15.758284</td>\n",
       "      <td>9.376373</td>\n",
       "      <td>44.839931</td>\n",
       "      <td>16.156882</td>\n",
       "      <td>9.718667</td>\n",
       "    </tr>\n",
       "    <tr>\n",
       "      <th>gbm_2a_interp</th>\n",
       "      <td>15.666108</td>\n",
       "      <td>7.621775</td>\n",
       "      <td>5.791794</td>\n",
       "      <td>99.857598</td>\n",
       "      <td>41.884657</td>\n",
       "      <td>23.909833</td>\n",
       "    </tr>\n",
       "    <tr>\n",
       "      <th>gbm_3a_atlas</th>\n",
       "      <td>13.076814</td>\n",
       "      <td>7.436216</td>\n",
       "      <td>5.639176</td>\n",
       "      <td>92.456049</td>\n",
       "      <td>38.673412</td>\n",
       "      <td>22.308676</td>\n",
       "    </tr>\n",
       "    <tr>\n",
       "      <th>gbm_4a_resamp</th>\n",
       "      <td>14.359069</td>\n",
       "      <td>6.984549</td>\n",
       "      <td>5.736961</td>\n",
       "      <td>95.209363</td>\n",
       "      <td>37.216804</td>\n",
       "      <td>21.401569</td>\n",
       "    </tr>\n",
       "    <tr>\n",
       "      <th>gbm_4b_n4</th>\n",
       "      <td>14.965363</td>\n",
       "      <td>7.049500</td>\n",
       "      <td>6.089647</td>\n",
       "      <td>88.941363</td>\n",
       "      <td>36.841598</td>\n",
       "      <td>20.854980</td>\n",
       "    </tr>\n",
       "    <tr>\n",
       "      <th>gbm_4d_susan</th>\n",
       "      <td>12.875049</td>\n",
       "      <td>6.894216</td>\n",
       "      <td>5.407618</td>\n",
       "      <td>90.984735</td>\n",
       "      <td>38.310373</td>\n",
       "      <td>22.440833</td>\n",
       "    </tr>\n",
       "    <tr>\n",
       "      <th>gbm_5_ss_shared</th>\n",
       "      <td>9.637843</td>\n",
       "      <td>5.846255</td>\n",
       "      <td>4.496549</td>\n",
       "      <td>89.882333</td>\n",
       "      <td>35.378588</td>\n",
       "      <td>21.888902</td>\n",
       "    </tr>\n",
       "  </tbody>\n",
       "</table>\n",
       "</div>"
      ],
      "text/plain": [
       "                 WT (Mean)  TC (Mean)  ET (Mean)   WT (STD)   TC (STD)  \\\n",
       "Experiments                                                              \n",
       "gbm_1_reg_train  34.724088  15.758284   9.376373  44.839931  16.156882   \n",
       "gbm_2a_interp    15.666108   7.621775   5.791794  99.857598  41.884657   \n",
       "gbm_3a_atlas     13.076814   7.436216   5.639176  92.456049  38.673412   \n",
       "gbm_4a_resamp    14.359069   6.984549   5.736961  95.209363  37.216804   \n",
       "gbm_4b_n4        14.965363   7.049500   6.089647  88.941363  36.841598   \n",
       "gbm_4d_susan     12.875049   6.894216   5.407618  90.984735  38.310373   \n",
       "gbm_5_ss_shared   9.637843   5.846255   4.496549  89.882333  35.378588   \n",
       "\n",
       "                  ET (STD)  \n",
       "Experiments                 \n",
       "gbm_1_reg_train   9.718667  \n",
       "gbm_2a_interp    23.909833  \n",
       "gbm_3a_atlas     22.308676  \n",
       "gbm_4a_resamp    21.401569  \n",
       "gbm_4b_n4        20.854980  \n",
       "gbm_4d_susan     22.440833  \n",
       "gbm_5_ss_shared  21.888902  "
      ]
     },
     "execution_count": 130,
     "metadata": {},
     "output_type": "execute_result"
    }
   ],
   "source": [
    "df_mae"
   ]
  },
  {
   "cell_type": "code",
   "execution_count": 78,
   "id": "dd4b0676",
   "metadata": {},
   "outputs": [],
   "source": [
    "from researchpy import ttest\n",
    "\n",
    "def ttest_pair(df_1, df_2, name_1 = 'one', name_2 = 'two', correction = None):\n",
    "    return ttest(pd.Series(df_1), pd.Series(df_2), \n",
    "#                  group1_name = name_1,\n",
    "#                  group2_name= name_2, \n",
    "                 equal_variances=False, paired=True,)[1].iloc[4].values[1]"
   ]
  },
  {
   "cell_type": "code",
   "execution_count": 89,
   "id": "6c60b12c",
   "metadata": {},
   "outputs": [],
   "source": [
    "df_pred_volumes.to_csv('GBM_pred_volumes_prediction_space.csv')"
   ]
  },
  {
   "cell_type": "code",
   "execution_count": 92,
   "id": "76020e2c",
   "metadata": {},
   "outputs": [
    {
     "data": {
      "text/plain": [
       "SubjectId\n",
       "TCGA-06-1802    135.499\n",
       "TCGA-02-0011     93.555\n",
       "TCGA-02-0034    118.749\n",
       "TCGA-08-0509     24.907\n",
       "TCGA-08-0360     16.943\n",
       "                 ...   \n",
       "TCGA-06-0644     27.436\n",
       "TCGA-02-0075    110.072\n",
       "TCGA-02-0064     49.169\n",
       "TCGA-76-4932     49.851\n",
       "TCGA-08-0512    147.786\n",
       "Name: gbm_4d_susan_volume_WT, Length: 102, dtype: float64"
      ]
     },
     "execution_count": 92,
     "metadata": {},
     "output_type": "execute_result"
    }
   ],
   "source": [
    "df_gt_volumes['gbm_4d_susan_volume_WT']"
   ]
  },
  {
   "cell_type": "code",
   "execution_count": 117,
   "id": "a65297e8",
   "metadata": {},
   "outputs": [
    {
     "data": {
      "text/plain": [
       "[<matplotlib.lines.Line2D at 0x7f6d6ebe3b80>]"
      ]
     },
     "execution_count": 117,
     "metadata": {},
     "output_type": "execute_result"
    },
    {
     "data": {
      "image/png": "[encoded data removed]",
      "text/plain": [
       "<Figure size 640x480 with 1 Axes>"
      ]
     },
     "metadata": {},
     "output_type": "display_data"
    }
   ],
   "source": [
    "z_axis = np.arange(0,len(df_mae))\n",
    "plt.plot(z_axis, df_mae['WT (Mean)'])\n",
    "\n",
    "plt.plot(z_axis, df_mae['ET (Mean)'])\n",
    "plt.plot(z_axis, df_mae['TC (Mean)'])"
   ]
  },
  {
   "cell_type": "code",
   "execution_count": 116,
   "id": "0aee7e7c",
   "metadata": {},
   "outputs": [
    {
     "data": {
      "text/plain": [
       "[<matplotlib.lines.Line2D at 0x7f6d6eb4d250>]"
      ]
     },
     "execution_count": 116,
     "metadata": {},
     "output_type": "execute_result"
    },
    {
     "data": {
      "image/png": "[encoded data removed]",
      "text/plain": [
       "<Figure size 640x480 with 1 Axes>"
      ]
     },
     "metadata": {},
     "output_type": "display_data"
    }
   ],
   "source": [
    "z_axis = np.arange(0,len(df_mae))\n",
    "plt.plot(z_axis, df_mae['WT (Mean)']/np.max(df_mae['WT (Mean)']))\n",
    "\n",
    "plt.plot(z_axis, df_mae['ET (Mean)']/np.max(df_mae['ET (Mean)']))\n",
    "plt.plot(z_axis, df_mae['TC (Mean)']/np.max(df_mae['TC (Mean)']))"
   ]
  },
  {
   "cell_type": "code",
   "execution_count": 126,
   "id": "3cdf7023",
   "metadata": {},
   "outputs": [
    {
     "data": {
      "image/png": "[encoded data removed]",
      "text/plain": [
       "<Figure size 640x480 with 1 Axes>"
      ]
     },
     "metadata": {},
     "output_type": "display_data"
    }
   ],
   "source": [
    "gbm_to_bgpd =  np.array( [0.017,\n",
    "0.025,\n",
    "0.021,\n",
    "-0.002,\n",
    "0.021,\n",
    "0.018,\n",
    "0.016,\n",
    "-0.008])\n",
    "\n",
    "gbm_100 =  np.array( [42.3,\n",
    "83.1,\n",
    "83.6,\n",
    "83.7,\n",
    "82.7,\n",
    "83.8,\n",
    "82.1,\n",
    "86.0])\n",
    "\n",
    "\n",
    "bgpd_to_gbm =  np.array([0.008,\n",
    "0.027,\n",
    "0.022,\n",
    "0.019,\n",
    "0.023,\n",
    "0.025,\n",
    "0.015,\n",
    "0.007])\n",
    "\n",
    "bgpd_100 = np.array(\n",
    "[34.1,\n",
    "70.2,\n",
    "71.6,\n",
    "71.4,\n",
    "70.6,\n",
    "70.9,\n",
    "72.0,\n",
    "75.3])\n",
    "\n",
    "\n",
    "\n",
    "list_tcs = ['1 reg',\n",
    "'2a interp',\n",
    "'3a atlas',\n",
    "'4a resamp',\n",
    "'4 n4',\n",
    "'4 susan',\n",
    "'4 hist',\n",
    "'5 ss']\n",
    "\n",
    "bgpd_300 = np.array( [\n",
    "35.9,\n",
    "72.3,\n",
    "74.9,\n",
    "73.4,\n",
    "74.6,\n",
    "73.6,\n",
    "74.6,\n",
    "75.7,])\n",
    "\n",
    "gbm_300 = np.array( [\n",
    "    \n",
    "43.6,\n",
    "84.8,\n",
    "84.6,\n",
    "85.0,\n",
    "82.4,\n",
    "84.5,\n",
    "83.3,\n",
    "86.6,])\n",
    "\n",
    "# plt.plot(np.arange(1,8),(gbm_to_bgpd*100+gbm_100)[1:] )\n",
    "# plt.plot(np.arange(1,8),(bgpd_to_gbm*100+bgpd_100 )[1:])\n",
    "plt.scatter(np.arange(1,8), (gbm_100)[1:], label = 'GBM 100')\n",
    "plt.scatter(np.arange(1,8), bgpd_100[1:], label = 'BGPD 100')\n",
    "\n",
    "plt.scatter(np.arange(1,8), (gbm_300)[1:], label = 'GBM 300')\n",
    "plt.scatter(np.arange(1,8), bgpd_300[1:], label = 'BGPD 300')\n",
    "# plt.hlines(0,0, 8)\n",
    "plt.xticks(np.arange(1,8),list_tcs[1:],  rotation=20);\n",
    "plt.legend();\n",
    "\n",
    "plt.plot(np.arange(1,8),(gbm_to_bgpd*100+gbm_100)[1:] )\n",
    "plt.plot(np.arange(1,8),(bgpd_to_gbm*100+bgpd_100 )[1:])\n",
    "plt.scatter(np.arange(1,8), (gbm_100)[1:], label = 'GBM 100')\n",
    "plt.scatter(np.arange(1,8), bgpd_100[1:], label = 'BGPD 100')\n",
    "\n",
    "plt.scatter(np.arange(1,8), (gbm_300)[1:], label = 'GBM 300')\n",
    "plt.scatter(np.arange(1,8), bgpd_300[1:], label = 'BGPD 300')\n",
    "plt.scatter(2, 74.4, marker ='*')\n",
    "# plt.hlines(0,0, 8)\n",
    "plt.xticks(np.arange(1,8),list_tcs[1:],  rotation=20);\n",
    "plt.legend();"
   ]
  },
  {
   "cell_type": "code",
   "execution_count": null,
   "id": "5717c200",
   "metadata": {},
   "outputs": [],
   "source": []
  },
  {
   "cell_type": "markdown",
   "id": "727e599a",
   "metadata": {},
   "source": [
    "### Graph"
   ]
  },
  {
   "cell_type": "code",
   "execution_count": 103,
   "id": "ea62c484",
   "metadata": {},
   "outputs": [
    {
     "data": {
      "text/plain": [
       "8.899890196078433"
      ]
     },
     "execution_count": 103,
     "metadata": {},
     "output_type": "execute_result"
    }
   ],
   "source": [
    "np.mean(df_gt_volumes['gbm_4a_resamp_volume_WT'].values)*0.1"
   ]
  },
  {
   "cell_type": "code",
   "execution_count": 109,
   "id": "e348c9a9",
   "metadata": {},
   "outputs": [
    {
     "data": {
      "image/png": "[encoded data removed]",
      "text/plain": [
       "<Figure size 1200x600 with 1 Axes>"
      ]
     },
     "metadata": {},
     "output_type": "display_data"
    }
   ],
   "source": [
    "# Bland-Altman-like\n",
    "\n",
    "# plt.plot([0, 220], [0, 220], ls='--', color='g')\n",
    "\n",
    "plt.figure(figsize=(12,6))\n",
    "plt.scatter(df_gt_volumes['gbm_4a_resamp_volume_WT'].values, \n",
    "            (df_gt_volumes['gbm_4a_resamp_volume_WT'].values - df_pred_volumes['gbm_4a_resamp_volume_WT'].values), s = 20, alpha=0.7, c='tab:blue', label='Resampling to spacing')\n",
    "\n",
    "plt.scatter(df_gt_volumes['gbm_5_ss_shared_volume_WT'].values, \n",
    "            (df_gt_volumes['gbm_5_ss_shared_volume_WT'].values - df_pred_volumes['gbm_5_ss_shared_volume_WT'].values), s = 20, alpha=0.7, c='tab:red', label='Skull stripping')\n",
    "plt.hlines(0, 0, 200, linestyles='--', colors='tab:green')\n",
    "plt.hlines(np.mean(df_gt_volumes['gbm_4a_resamp_volume_WT'].values)*0.1, 0, 200, linestyles='--', colors='tab:green', label =' ± 10% error in mL')\n",
    "plt.hlines(-np.mean(df_gt_volumes['gbm_4a_resamp_volume_WT'].values)*0.1,0, 200, linestyles='--', colors='tab:green', label ='± 10% error in mL')\n",
    "plt.xlim(0, 200)\n",
    "plt.xlabel('True tumor volume, ml')\n",
    "plt.ylabel('Signed error in \\ntumor volume estimation, ml')\n",
    "plt.legend();"
   ]
  },
  {
   "cell_type": "code",
   "execution_count": 131,
   "id": "634b7138",
   "metadata": {},
   "outputs": [
    {
     "data": {
      "image/png": "[encoded data removed]",
      "text/plain": [
       "<Figure size 1200x600 with 1 Axes>"
      ]
     },
     "metadata": {},
     "output_type": "display_data"
    }
   ],
   "source": [
    "gbm_mean = np.mean(np.abs(df_gt_volumes['gbm_4a_resamp_volume_WT'].values))\n",
    "\n",
    "plt.figure(figsize=(12,6))\n",
    "\n",
    "plt.scatter(df_gt_volumes['gbm_4a_resamp_volume_WT'].values, \n",
    "            (df_gt_volumes['gbm_4a_resamp_volume_WT'].values - df_pred_volumes['gbm_4a_resamp_volume_WT'].values)/gbm_mean*100, s = 20, alpha=0.7, c='tab:blue', label='Resampling to spacing')\n",
    "\n",
    "plt.scatter(df_gt_volumes['gbm_5_ss_shared_volume_WT'].values, \n",
    "            (df_gt_volumes['gbm_5_ss_shared_volume_WT'].values - df_pred_volumes['gbm_5_ss_shared_volume_WT'].values)/gbm_mean*100, s = 20, alpha=0.7, c='tab:red', label='Skull stripping')\n",
    "plt.hlines(0, 0, 200, linestyles='--', colors='tab:green')\n",
    "plt.hlines(gbm_mean*0.1, 0, 200, linestyles='--', colors='tab:green', label =' ± 10% error in mL')\n",
    "plt.hlines(-gbm_mean*0.1,0, 200, linestyles='--', colors='tab:green', label ='± 10% error in mL')\n",
    "plt.xlim(0, 200)\n",
    "plt.xlabel('True tumor volume, ml')\n",
    "plt.ylabel('Signed error in \\ntumor volume estimation, percentage')\n",
    "plt.legend();"
   ]
  },
  {
   "cell_type": "code",
   "execution_count": 96,
   "id": "bdc63a42",
   "metadata": {},
   "outputs": [
    {
     "name": "stderr",
     "output_type": "stream",
     "text": [
      "/home/kate/miniconda3/lib/python3.9/site-packages/researchpy/ttest.py:38: FutureWarning:\n",
      "\n",
      "The series.append method is deprecated and will be removed from pandas in a future version. Use pandas.concat instead.\n",
      "\n"
     ]
    },
    {
     "data": {
      "text/plain": [
       "(       sign  obs  sum ranks  expected\n",
       " 0  positive   36     1674.5    2626.5\n",
       " 1  negative   66     3578.5    2626.5\n",
       " 2      zero    0        0.0       0.0\n",
       " 3       all  102     5253.0    5253.0,\n",
       "              Wilcoxon signed-rank test      results\n",
       " 0  Mean for gbm_4a_resamp_volume_TC =     37.216804\n",
       " 1   Mean for gbm_4d_susan_volume_TC =     38.310373\n",
       " 2                           W value =   1674.500000\n",
       " 3                           Z value =     -3.178000\n",
       " 4                           p value =      0.001500\n",
       " 5                   Rank-Biserial r =     -0.362500\n",
       " 6                         Pearson r =     -0.314700)"
      ]
     },
     "execution_count": 96,
     "metadata": {},
     "output_type": "execute_result"
    }
   ],
   "source": [
    "ttest(df_pred_volumes['gbm_4a_resamp_volume_TC'], df_pred_volumes['gbm_4d_susan_volume_TC'], equal_variances=False, paired=True,)"
   ]
  },
  {
   "cell_type": "markdown",
   "id": "38b26d15",
   "metadata": {},
   "source": [
    "Check metrics"
   ]
  },
  {
   "cell_type": "code",
   "execution_count": 257,
   "id": "d9aefff0",
   "metadata": {},
   "outputs": [],
   "source": [
    "y_wt, y_tc, y_et = label > 0, ((label == 1) + (label == 3)) > 0, label == 3\n",
    "lab = np.stack([y_wt, y_tc, y_et], axis=0).astype(int)"
   ]
  },
  {
   "cell_type": "code",
   "execution_count": 259,
   "id": "1f829209",
   "metadata": {},
   "outputs": [],
   "source": [
    "z = np.argsort(predict.sum(axis=(1,2)))"
   ]
  },
  {
   "cell_type": "code",
   "execution_count": 266,
   "id": "df961e53",
   "metadata": {},
   "outputs": [
    {
     "data": {
      "text/plain": [
       "((200, 200, 150), (3, 200, 200, 150))"
      ]
     },
     "execution_count": 266,
     "metadata": {},
     "output_type": "execute_result"
    }
   ],
   "source": [
    "label.shape, predict.shape"
   ]
  },
  {
   "cell_type": "code",
   "execution_count": 264,
   "id": "f5ac0ed9",
   "metadata": {},
   "outputs": [
    {
     "data": {
      "image/png": "[encoded data removed]",
      "text/plain": [
       "<Figure size 432x432 with 1 Axes>"
      ]
     },
     "metadata": {
      "needs_background": "light"
     },
     "output_type": "display_data"
    }
   ],
   "source": [
    "fig, ax = plt.subplots(nrows=1, ncols=1, figsize=(6, 6))\n",
    "for i in range(1):\n",
    "        ax.imshow(predict[1,:,:,91]);\n",
    "        ax.axis('off')  \n",
    "plt.tight_layout()            \n",
    "plt.show()"
   ]
  },
  {
   "cell_type": "code",
   "execution_count": 265,
   "id": "ca4b0f56",
   "metadata": {},
   "outputs": [
    {
     "name": "stdout",
     "output_type": "stream",
     "text": [
      "dice WT\n",
      "0.8247984557738163\n",
      "Dice_2\n",
      "0.7950042050822546\n",
      "Dice_3\n",
      "0.7382802035896062\n"
     ]
    }
   ],
   "source": [
    "from surface_distance import metrics\n",
    "print('dice WT')\n",
    "print(metrics.compute_dice_coefficient((lab[0,:,:,:]==1), (predict[0,:,:,:]==1)))\n",
    "print('Dice_2')\n",
    "print(metrics.compute_dice_coefficient((lab[1,:,:,:]==1), (predict[1,:,:,:]==1)))\n",
    "print('Dice_3')\n",
    "print(metrics.compute_dice_coefficient((lab[2,:,:,:]==1), (predict[2,:,:,:]==1)))"
   ]
  },
  {
   "cell_type": "code",
   "execution_count": 247,
   "id": "a65c0753",
   "metadata": {},
   "outputs": [
    {
     "name": "stderr",
     "output_type": "stream",
     "text": [
      "102it [00:00, 571.65it/s]\n"
     ]
    }
   ],
   "source": [
    "out_json = '/results/metrics/gbm/'\n",
    "dataset = 'gbm'\n",
    "task = 'gbm_4a_resamp_aug'\n",
    "fold = 'fold_2'\n",
    "_columns = ['Ids','Dice_1', 'Dice_2', 'Dice_3',\n",
    "                'Hausdorff95_1', 'Hausdorff95_2', 'Hausdorff95_3',\n",
    "                'Sensitivity_1', 'Sensitivity_2', 'Sensitivity_3',\n",
    "               'Specificity_1', 'Specificity_2', 'Specificity_3',\n",
    "               'Surface_dice_1', 'Surface_dice_2', 'Surface_dice_3',\n",
    "               'Precision_1', 'Precision_2', 'Precision_3']\n",
    "metrics_all = pd.DataFrame(columns = _columns)\n",
    "for i,sub in tqdm((enumerate(os.listdir(out_json)))):\n",
    "    for sub_t in os.listdir(os.path.join(out_json, sub)):\n",
    "        if f'{task}_epoch' in sub_t:\n",
    "            if fold in sub_t:\n",
    "                metrics = json.load(open(os.path.join(out_json, sub, sub_t)))\n",
    "                metrics = metrics[dataset][task][fold.replace('_', '=')]\n",
    "                for each in _columns:\n",
    "                    metrics_all.at[i,'Ids'] = sub\n",
    "                    if each != 'Ids':\n",
    "                        metrics_all.at[i,each] = metrics[each]"
   ]
  },
  {
   "cell_type": "code",
   "execution_count": 250,
   "id": "ac145ed5",
   "metadata": {},
   "outputs": [
    {
     "data": {
      "text/html": [
       "<div>\n",
       "<style scoped>\n",
       "    .dataframe tbody tr th:only-of-type {\n",
       "        vertical-align: middle;\n",
       "    }\n",
       "\n",
       "    .dataframe tbody tr th {\n",
       "        vertical-align: top;\n",
       "    }\n",
       "\n",
       "    .dataframe thead th {\n",
       "        text-align: right;\n",
       "    }\n",
       "</style>\n",
       "<table border=\"1\" class=\"dataframe\">\n",
       "  <thead>\n",
       "    <tr style=\"text-align: right;\">\n",
       "      <th></th>\n",
       "      <th>Ids</th>\n",
       "      <th>Dice_1</th>\n",
       "      <th>Dice_2</th>\n",
       "      <th>Dice_3</th>\n",
       "      <th>Hausdorff95_1</th>\n",
       "      <th>Hausdorff95_2</th>\n",
       "      <th>Hausdorff95_3</th>\n",
       "      <th>Sensitivity_1</th>\n",
       "      <th>Sensitivity_2</th>\n",
       "      <th>Sensitivity_3</th>\n",
       "      <th>Specificity_1</th>\n",
       "      <th>Specificity_2</th>\n",
       "      <th>Specificity_3</th>\n",
       "      <th>Surface_dice_1</th>\n",
       "      <th>Surface_dice_2</th>\n",
       "      <th>Surface_dice_3</th>\n",
       "      <th>Precision_1</th>\n",
       "      <th>Precision_2</th>\n",
       "      <th>Precision_3</th>\n",
       "    </tr>\n",
       "  </thead>\n",
       "  <tbody>\n",
       "    <tr>\n",
       "      <th>101</th>\n",
       "      <td>TCGA-06-5417</td>\n",
       "      <td>0.923928</td>\n",
       "      <td>0.879252</td>\n",
       "      <td>0.691062</td>\n",
       "      <td>44.710707</td>\n",
       "      <td>5.421759</td>\n",
       "      <td>6.406517</td>\n",
       "      <td>0.911336</td>\n",
       "      <td>0.835128</td>\n",
       "      <td>0.646162</td>\n",
       "      <td>0.998946</td>\n",
       "      <td>0.999405</td>\n",
       "      <td>0.999415</td>\n",
       "      <td>0.711407</td>\n",
       "      <td>0.578882</td>\n",
       "      <td>0.815151</td>\n",
       "      <td>0.936873</td>\n",
       "      <td>0.9283</td>\n",
       "      <td>0.742669</td>\n",
       "    </tr>\n",
       "  </tbody>\n",
       "</table>\n",
       "</div>"
      ],
      "text/plain": [
       "              Ids    Dice_1    Dice_2    Dice_3 Hausdorff95_1 Hausdorff95_2  \\\n",
       "101  TCGA-06-5417  0.923928  0.879252  0.691062     44.710707      5.421759   \n",
       "\n",
       "    Hausdorff95_3 Sensitivity_1 Sensitivity_2 Sensitivity_3 Specificity_1  \\\n",
       "101      6.406517      0.911336      0.835128      0.646162      0.998946   \n",
       "\n",
       "    Specificity_2 Specificity_3 Surface_dice_1 Surface_dice_2 Surface_dice_3  \\\n",
       "101      0.999405      0.999415       0.711407       0.578882       0.815151   \n",
       "\n",
       "    Precision_1 Precision_2 Precision_3  \n",
       "101    0.936873      0.9283    0.742669  "
      ]
     },
     "execution_count": 250,
     "metadata": {},
     "output_type": "execute_result"
    }
   ],
   "source": [
    "metrics_all[metrics_all.Ids=='TCGA-06-5417']"
   ]
  },
  {
   "cell_type": "markdown",
   "id": "67fd9934",
   "metadata": {},
   "source": [
    "for Hist"
   ]
  },
  {
   "cell_type": "code",
   "execution_count": 282,
   "id": "53da909c",
   "metadata": {},
   "outputs": [],
   "source": [
    "def get_path_to_predict_hist(folder,seed):\n",
    "    all_sub_path = []\n",
    "    folds = ['fold_0', 'fold_1', 'fold_2']\n",
    "    for fold in folds:\n",
    "        for sub in seed[fold]:\n",
    "            sub_path = glob('{}/gbm_6_hist_fold_{}/labels/{}_seg.nii.gz'.format(folder, fold[-1], sub))\n",
    "            assert(len(sub_path) == 1)\n",
    "            all_sub_path.append(sub_path[0])\n",
    "    return all_sub_path"
   ]
  },
  {
   "cell_type": "code",
   "execution_count": 283,
   "id": "35b7fef9",
   "metadata": {},
   "outputs": [],
   "source": [
    "gt_exp_name = ['gbm_6_hist']\n",
    "pred_exp_name = ['/data/newdata/gbm_infer/gbm_6_histogram_300']"
   ]
  },
  {
   "cell_type": "code",
   "execution_count": 284,
   "id": "922b8a26",
   "metadata": {},
   "outputs": [
    {
     "name": "stderr",
     "output_type": "stream",
     "text": [
      "100%|█████████████████████████████████████████████████████████████| 102/102 [02:36<00:00,  1.53s/it]\n"
     ]
    }
   ],
   "source": [
    "seed = mpu.io.read('/home/polina/DeepLearningExamples/PyTorch/Segmentation/nnUNet/metrics/gbm_seed.json')\n",
    "df_gt_volumes_hist = pd.DataFrame()\n",
    "all_sub = [s.split('/')[-1][:-11] for s in glob(f'/data/private_data/gbm/gbm_4a_resamp/labels/*_seg.nii.gz')]\n",
    "df_gt_volumes_hist['SubjectId']=all_sub\n",
    "df_gt_volumes_hist.set_index('SubjectId', inplace=True)\n",
    "\n",
    "df_pred_volumes_hist = pd.DataFrame()\n",
    "df_pred_volumes_hist['SubjectId']=all_sub\n",
    "df_pred_volumes_hist.set_index('SubjectId', inplace=True)\n",
    "\n",
    "for gt_folder, pred_folder  in zip(gt_exp_name, pred_exp_name):\n",
    "    pred_subjects = get_path_to_predict(pred_folder,seed)\n",
    "    label_subjects = get_path_to_predict_hist(f'/data/private_data/gbm/{gt_folder}',seed)\n",
    "    for i, pred_sub in enumerate(tqdm(pred_subjects)):\n",
    "        sub = pred_sub.split('/')[-1][:-8]\n",
    "        label = nib.load(label_subjects[i]).get_fdata().astype(np.uint8)\n",
    "        predict = np.round(np.load(pred_sub, allow_pickle=True)['arr_0']).transpose((0, 3, 2, 1)).astype(np.uint8)\n",
    "        vox_size = 1\n",
    "        y_wt, y_tc, y_et = label > 0, ((label == 1) + (label == 3)) > 0, label == 3\n",
    "        df_gt_volumes_hist.loc[sub, f'{gt_folder}_volume_WT']=np.sum(y_wt)*(vox_size**3)/1000\n",
    "        df_pred_volumes_hist.loc[sub, f'{gt_folder}_volume_WT'] =np.sum(predict[0,:]==1)*(vox_size**3)/1000\n",
    "        \n",
    "        df_gt_volumes_hist.loc[sub, f'{gt_folder}_volume_TC']=np.sum(y_tc)*(vox_size**3)/1000\n",
    "        df_pred_volumes_hist.loc[sub, f'{gt_folder}_volume_TC'] =np.sum(predict[1,:]==1)*(vox_size**3)/1000\n",
    "        \n",
    "        df_gt_volumes_hist.loc[sub, f'{gt_folder}_volume_ET']=np.sum(y_et)*(vox_size**3)/1000\n",
    "        df_pred_volumes_hist.loc[sub, f'{gt_folder}_volume_ET'] =np.sum(predict[2,:]==1)*(vox_size**3)/1000\n",
    "     "
   ]
  },
  {
   "cell_type": "code",
   "execution_count": 297,
   "id": "c455ed87",
   "metadata": {},
   "outputs": [],
   "source": [
    "gt_vol = pd.concat([df_gt_volumes, df_gt_volumes_hist], axis=1)\n",
    "pred_vol = pd.concat([df_pred_volumes, df_pred_volumes_hist], axis=1)"
   ]
  },
  {
   "cell_type": "code",
   "execution_count": 299,
   "id": "f05a9697",
   "metadata": {},
   "outputs": [],
   "source": [
    "exp_name = ['gbm_1_reg_train','gbm_2a_interp', 'gbm_3a_atlas', 'gbm_4a_resamp', 'gbm_4b_n4', 'gbm_4d_susan', 'gbm_5_ss_shared', 'gbm_6_hist']\n",
    "df_mae = pd.DataFrame()\n",
    "df_mae['Experiments']=exp_name\n",
    "df_mae.set_index('Experiments', inplace=True)\n",
    "for gt_folder in exp_name:\n",
    "    df_mae.loc[gt_folder, 'WT'] = np.average(np.abs(gt_vol[f'{gt_folder}_volume_WT'].values - pred_vol[f'{gt_folder}_volume_WT'].values), axis=0)\n",
    "    df_mae.loc[gt_folder, 'TC'] = np.average(np.abs(gt_vol[f'{gt_folder}_volume_TC'].values - pred_vol[f'{gt_folder}_volume_TC'].values), axis=0)\n",
    "    df_mae.loc[gt_folder, 'ET'] = np.average(np.abs(gt_vol[f'{gt_folder}_volume_ET'].values - pred_vol[f'{gt_folder}_volume_ET'].values), axis=0)"
   ]
  },
  {
   "cell_type": "code",
   "execution_count": 311,
   "id": "671d9acc",
   "metadata": {},
   "outputs": [
    {
     "data": {
      "text/html": [
       "<div>\n",
       "<style scoped>\n",
       "    .dataframe tbody tr th:only-of-type {\n",
       "        vertical-align: middle;\n",
       "    }\n",
       "\n",
       "    .dataframe tbody tr th {\n",
       "        vertical-align: top;\n",
       "    }\n",
       "\n",
       "    .dataframe thead th {\n",
       "        text-align: right;\n",
       "    }\n",
       "</style>\n",
       "<table border=\"1\" class=\"dataframe\">\n",
       "  <thead>\n",
       "    <tr style=\"text-align: right;\">\n",
       "      <th></th>\n",
       "      <th>WT</th>\n",
       "      <th>TC</th>\n",
       "      <th>ET</th>\n",
       "    </tr>\n",
       "    <tr>\n",
       "      <th>Experiments</th>\n",
       "      <th></th>\n",
       "      <th></th>\n",
       "      <th></th>\n",
       "    </tr>\n",
       "  </thead>\n",
       "  <tbody>\n",
       "    <tr>\n",
       "      <th>gbm_1_reg_train</th>\n",
       "      <td>34.724088</td>\n",
       "      <td>15.758284</td>\n",
       "      <td>9.376373</td>\n",
       "    </tr>\n",
       "    <tr>\n",
       "      <th>gbm_2a_interp</th>\n",
       "      <td>15.666108</td>\n",
       "      <td>7.621775</td>\n",
       "      <td>5.791794</td>\n",
       "    </tr>\n",
       "    <tr>\n",
       "      <th>gbm_3a_atlas</th>\n",
       "      <td>13.076814</td>\n",
       "      <td>7.436216</td>\n",
       "      <td>5.639176</td>\n",
       "    </tr>\n",
       "    <tr>\n",
       "      <th>gbm_4a_resamp</th>\n",
       "      <td>14.359069</td>\n",
       "      <td>6.984549</td>\n",
       "      <td>5.736961</td>\n",
       "    </tr>\n",
       "    <tr>\n",
       "      <th>gbm_4b_n4</th>\n",
       "      <td>14.965363</td>\n",
       "      <td>7.049500</td>\n",
       "      <td>6.089647</td>\n",
       "    </tr>\n",
       "    <tr>\n",
       "      <th>gbm_4d_susan</th>\n",
       "      <td>12.875049</td>\n",
       "      <td>6.894216</td>\n",
       "      <td>5.407618</td>\n",
       "    </tr>\n",
       "    <tr>\n",
       "      <th>gbm_5_ss_shared</th>\n",
       "      <td>9.637843</td>\n",
       "      <td>5.846255</td>\n",
       "      <td>4.496549</td>\n",
       "    </tr>\n",
       "    <tr>\n",
       "      <th>gbm_6_hist</th>\n",
       "      <td>13.946941</td>\n",
       "      <td>7.339127</td>\n",
       "      <td>5.826922</td>\n",
       "    </tr>\n",
       "  </tbody>\n",
       "</table>\n",
       "</div>"
      ],
      "text/plain": [
       "                        WT         TC        ET\n",
       "Experiments                                    \n",
       "gbm_1_reg_train  34.724088  15.758284  9.376373\n",
       "gbm_2a_interp    15.666108   7.621775  5.791794\n",
       "gbm_3a_atlas     13.076814   7.436216  5.639176\n",
       "gbm_4a_resamp    14.359069   6.984549  5.736961\n",
       "gbm_4b_n4        14.965363   7.049500  6.089647\n",
       "gbm_4d_susan     12.875049   6.894216  5.407618\n",
       "gbm_5_ss_shared   9.637843   5.846255  4.496549\n",
       "gbm_6_hist       13.946941   7.339127  5.826922"
      ]
     },
     "execution_count": 311,
     "metadata": {},
     "output_type": "execute_result"
    }
   ],
   "source": [
    "df_mae"
   ]
  },
  {
   "cell_type": "markdown",
   "id": "78ac5a1d",
   "metadata": {},
   "source": [
    "BGPD"
   ]
  },
  {
   "cell_type": "code",
   "execution_count": 379,
   "id": "fb737c4e",
   "metadata": {},
   "outputs": [],
   "source": [
    "gt_exp_name = ['bgpd_1_reg', 'bgpd_2a_interp', 'bgpd_3a_atlas', 'bgpd_4a_resamp', 'bgpd_4b_n4', 'bgpd_4d_susan', 'bgpd_5_ss_shared' ]\n",
    "pred_exp_name = ['/data/newdata/bgpd_infer/bgpd_1_reg_300', '/data/newdata/bgpd_infer/bgpd_2a_interp/', '/results/bgpd_infer/bgpd_3a_atlas','/results/bgpd_infer/bgpd_4a_resamp_300',\n",
    "                '/data/newdata/bgpd_infer/bgpd_4b_n4_last_300', '/data/newdata/bgpd_infer/bgpd_4d_susan_300' , '/data/newdata/bgpd_infer/bgpd_5_ss_shared']\n"
   ]
  },
  {
   "cell_type": "code",
   "execution_count": 383,
   "id": "7481be9a",
   "metadata": {},
   "outputs": [
    {
     "name": "stderr",
     "output_type": "stream",
     "text": [
      "100%|█████████████████████████████████████████████████████████████| 180/180 [02:57<00:00,  1.02it/s]\n",
      "100%|█████████████████████████████████████████████████████████████| 180/180 [01:14<00:00,  2.40it/s]\n",
      "100%|█████████████████████████████████████████████████████████████| 180/180 [01:48<00:00,  1.66it/s]\n",
      "100%|█████████████████████████████████████████████████████████████| 180/180 [01:39<00:00,  1.81it/s]\n",
      "100%|█████████████████████████████████████████████████████████████| 180/180 [01:29<00:00,  2.01it/s]\n",
      "100%|█████████████████████████████████████████████████████████████| 180/180 [01:26<00:00,  2.08it/s]\n",
      "100%|█████████████████████████████████████████████████████████████| 180/180 [01:09<00:00,  2.59it/s]\n"
     ]
    }
   ],
   "source": [
    "seed = mpu.io.read('/home/polina/DeepLearningExamples/PyTorch/Segmentation/nnUNet/metrics/bgpd_seed.json')\n",
    "df_gt_volumes = pd.DataFrame()\n",
    "all_sub = [s.split('/')[-1][:-11] for s in glob(f'/data/newdata/data/bgpd_4a_resamp/labels/*_seg.nii.gz')]\n",
    "df_gt_volumes['SubjectId']=all_sub\n",
    "df_gt_volumes.set_index('SubjectId', inplace=True)\n",
    "\n",
    "df_pred_volumes = pd.DataFrame()\n",
    "df_pred_volumes['SubjectId']=all_sub\n",
    "df_pred_volumes.set_index('SubjectId', inplace=True)\n",
    "\n",
    "for gt_folder, pred_folder  in zip(gt_exp_name, pred_exp_name):\n",
    "    pred_subjects = get_path_to_predict(pred_folder,seed)\n",
    "    for i, pred_sub in enumerate(tqdm(pred_subjects)):\n",
    "        sub = pred_sub.split('/')[-1][:-8]\n",
    "        label = nib.load(f'/data/newdata/data/{gt_folder}/labels/{sub}_seg.nii.gz').get_fdata().astype(np.uint8)\n",
    "        predict = np.round(np.load(pred_sub, allow_pickle=True)['arr_0']).transpose((0, 3, 2, 1)).astype(np.uint8)\n",
    "        vox_size = 1\n",
    "        df_gt_volumes.loc[sub, f'{gt_folder}_volume_WT']=np.sum(label > 0)*(vox_size**3)/1000\n",
    "        df_pred_volumes.loc[sub, f'{gt_folder}_volume_WT'] =np.sum(predict[0,:]==1)*(vox_size**3)/1000\n",
    "     "
   ]
  },
  {
   "cell_type": "code",
   "execution_count": 382,
   "id": "bdacb830",
   "metadata": {},
   "outputs": [
    {
     "data": {
      "text/plain": [
       "((132, 256, 256),\n",
       " array([0, 1], dtype=uint8),\n",
       " (1, 132, 256, 256),\n",
       " array([0, 1], dtype=uint8))"
      ]
     },
     "execution_count": 382,
     "metadata": {},
     "output_type": "execute_result"
    }
   ],
   "source": [
    "label.shape, np.unique(label), predict.shape, np.unique(predict)"
   ]
  },
  {
   "cell_type": "code",
   "execution_count": 407,
   "id": "3908baf0",
   "metadata": {},
   "outputs": [],
   "source": [
    "gt_exp_name = ['bgpd_6_hist' ]\n",
    "pred_exp_name = ['/data/newdata/bgpd_infer/bgpd_6_histogram_300']"
   ]
  },
  {
   "cell_type": "code",
   "execution_count": 408,
   "id": "a085781f",
   "metadata": {},
   "outputs": [],
   "source": [
    "def get_path_to_predict_hist(folder,seed):\n",
    "    all_sub_path = []\n",
    "    folds = ['fold_0', 'fold_1', 'fold_2']\n",
    "    for fold in folds:\n",
    "        for sub in seed[fold]:\n",
    "            sub_path = glob('{}/bgpd_6_hist_fold_{}/labels/{}_seg.nii.gz'.format(folder, fold[-1], sub))\n",
    "            assert(len(sub_path) == 1)\n",
    "            all_sub_path.append(sub_path[0])\n",
    "    return all_sub_path"
   ]
  },
  {
   "cell_type": "code",
   "execution_count": 411,
   "id": "03d8fb33",
   "metadata": {},
   "outputs": [
    {
     "name": "stderr",
     "output_type": "stream",
     "text": [
      "100%|█████████████████████████████████████████████████████████████| 180/180 [01:17<00:00,  2.32it/s]\n"
     ]
    }
   ],
   "source": [
    "seed = mpu.io.read('/home/polina/DeepLearningExamples/PyTorch/Segmentation/nnUNet/metrics/bgpd_seed.json')\n",
    "df_gt_volumes_hist = pd.DataFrame()\n",
    "all_sub = [s.split('/')[-1][:-11] for s in glob(f'/data/newdata/data/bgpd_4a_resamp/labels/*_seg.nii.gz')]\n",
    "df_gt_volumes_hist['SubjectId']=all_sub\n",
    "df_gt_volumes_hist.set_index('SubjectId', inplace=True)\n",
    "\n",
    "df_pred_volumes_hist = pd.DataFrame()\n",
    "df_pred_volumes_hist['SubjectId']=all_sub\n",
    "df_pred_volumes_hist.set_index('SubjectId', inplace=True)\n",
    "\n",
    "for gt_folder, pred_folder  in zip(gt_exp_name, pred_exp_name):\n",
    "    pred_subjects = get_path_to_predict(pred_folder,seed)\n",
    "    label_subjects = get_path_to_predict_hist(f'/data/newdata/data/{gt_folder}',seed)\n",
    "    for i, pred_sub in enumerate(tqdm(pred_subjects)):\n",
    "        sub = pred_sub.split('/')[-1][:-8]\n",
    "        label = nib.load(label_subjects[i]).get_fdata().astype(np.uint8)\n",
    "        predict = np.round(np.load(pred_sub, allow_pickle=True)['arr_0']).transpose((0, 3, 2, 1)).astype(np.uint8)\n",
    "        vox_size = 1\n",
    "        df_gt_volumes_hist.loc[sub, f'{gt_folder}_volume_WT']=np.sum(label > 0)*(vox_size**3)/1000\n",
    "        df_pred_volumes_hist.loc[sub, f'{gt_folder}_volume_WT'] =np.sum(predict[0,:]==1)*(vox_size**3)/1000"
   ]
  },
  {
   "cell_type": "code",
   "execution_count": 412,
   "id": "888500cf",
   "metadata": {},
   "outputs": [],
   "source": [
    "gt_vol = pd.concat([df_gt_volumes, df_gt_volumes_hist], axis=1)\n",
    "pred_vol = pd.concat([df_pred_volumes, df_pred_volumes_hist], axis=1)"
   ]
  },
  {
   "cell_type": "code",
   "execution_count": 415,
   "id": "a843280c",
   "metadata": {},
   "outputs": [],
   "source": [
    "exp_name = ['bgpd_1_reg', 'bgpd_2a_interp', 'bgpd_3a_atlas', 'bgpd_4a_resamp', 'bgpd_4b_n4', 'bgpd_4d_susan', 'bgpd_5_ss_shared', 'bgpd_6_hist']\n",
    "\n",
    "df_mae = pd.DataFrame()\n",
    "df_mae['Experiments']=exp_name\n",
    "df_mae.set_index('Experiments', inplace=True)\n",
    "for gt_folder in exp_name:\n",
    "    df_mae.loc[gt_folder, 'WT'] = np.average(np.abs(gt_vol[f'{gt_folder}_volume_WT'].values - pred_vol[f'{gt_folder}_volume_WT'].values), axis=0)"
   ]
  },
  {
   "cell_type": "code",
   "execution_count": 417,
   "id": "ab6d7bca",
   "metadata": {},
   "outputs": [
    {
     "data": {
      "text/plain": [
       "Experiments\n",
       "bgpd_1_reg          70.426961\n",
       "bgpd_2a_interp      31.739667\n",
       "bgpd_3a_atlas       28.457089\n",
       "bgpd_4a_resamp      29.150067\n",
       "bgpd_4b_n4          27.862772\n",
       "bgpd_4d_susan       28.506094\n",
       "bgpd_5_ss_shared    27.212867\n",
       "bgpd_6_hist         27.851833\n",
       "Name: WT, dtype: float64"
      ]
     },
     "execution_count": 417,
     "metadata": {},
     "output_type": "execute_result"
    }
   ],
   "source": [
    "df_mae.WT"
   ]
  },
  {
   "cell_type": "code",
   "execution_count": null,
   "id": "2d5340cf",
   "metadata": {},
   "outputs": [],
   "source": []
  }
 ],
 "metadata": {
  "kernelspec": {
   "display_name": "Python 3 (ipykernel)",
   "language": "python",
   "name": "python3"
  },
  "language_info": {
   "codemirror_mode": {
    "name": "ipython",
    "version": 3
   },
   "file_extension": ".py",
   "mimetype": "text/x-python",
   "name": "python",
   "nbconvert_exporter": "python",
   "pygments_lexer": "ipython3",
   "version": "3.9.1"
  }
 },
 "nbformat": 4,
 "nbformat_minor": 5
}
