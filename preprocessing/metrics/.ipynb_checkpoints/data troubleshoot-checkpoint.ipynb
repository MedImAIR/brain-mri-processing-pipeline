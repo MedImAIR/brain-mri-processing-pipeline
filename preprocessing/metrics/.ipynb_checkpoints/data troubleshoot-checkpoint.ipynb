{
 "cells": [
  {
   "cell_type": "code",
   "execution_count": 1,
   "metadata": {},
   "outputs": [],
   "source": [
    "import pandas as pd\n",
    "import scipy, researchpy\n",
    "from researchpy import ttest\n",
    "import os, glob\n",
    "import numpy as np\n",
    "from pathlib import Path\n",
    "import os, shutil"
   ]
  },
  {
   "cell_type": "code",
   "execution_count": 2,
   "metadata": {},
   "outputs": [],
   "source": [
    "root = fold_1 = Path('/anvar/public_datasets/preproc_study/gbm/inference/6_hist/predictions_best_epoch=84-dice_mean=66_80_task=31.1_fold=1_tta')"
   ]
  },
  {
   "cell_type": "code",
   "execution_count": 3,
   "metadata": {},
   "outputs": [
    {
     "data": {
      "text/plain": [
       "['TCGA-02-0006.npy.npz',\n",
       " 'TCGA-02-0027.npy.npz',\n",
       " 'TCGA-02-0011.npy.npz',\n",
       " 'TCGA-02-0009.npy.npz',\n",
       " 'TCGA-02-0033.npy.npz']"
      ]
     },
     "execution_count": 3,
     "metadata": {},
     "output_type": "execute_result"
    }
   ],
   "source": [
    "os.listdir(fold_1)"
   ]
  },
  {
   "cell_type": "code",
   "execution_count": 4,
   "metadata": {},
   "outputs": [
    {
     "data": {
      "text/plain": [
       "102"
      ]
     },
     "execution_count": 4,
     "metadata": {},
     "output_type": "execute_result"
    }
   ],
   "source": [
    "subjects_paths = [f.path for f in os.scandir('/anvar/public_datasets/preproc_study/gbm/3a_atlas/') if f.is_dir()]\n",
    "subjects = [f.split('/')[-1] for f in subjects_paths]\n",
    "\n",
    "len(subjects)"
   ]
  },
  {
   "cell_type": "code",
   "execution_count": 10,
   "metadata": {},
   "outputs": [
    {
     "data": {
      "text/plain": [
       "['fold=0', 'fold=2', 'fold=1']"
      ]
     },
     "execution_count": 10,
     "metadata": {},
     "output_type": "execute_result"
    }
   ],
   "source": [
    "infer_path = '/anvar/public_datasets/preproc_study/gbm/inference/native_space/'\n",
    "pred_path = '/anvar/public_datasets/preproc_study/gbm/inference/'\n",
    "infer_dir = infer_path +'2a_interp'\n",
    "pred_dir = pred_path +'2a_interp'\n",
    "\n",
    "os.listdir(infer_dir)"
   ]
  },
  {
   "cell_type": "markdown",
   "metadata": {},
   "source": [
    "### TCIA GBM check"
   ]
  },
  {
   "cell_type": "code",
   "execution_count": 7,
   "metadata": {},
   "outputs": [],
   "source": [
    "def check_package_of_files(infer_dir, list_subj = subjects):\n",
    "    for fold in [0,1,2]:\n",
    "        list_fold_0 = os.listdir(infer_dir + '/fold={}'.format(fold))\n",
    "        list_fold_0 = [i[:-4] for i in list_fold_0]\n",
    "        print( 'Fold ', fold, set(subjects) - set(list_fold_0))\n",
    "        print(len(list_fold_0))"
   ]
  },
  {
   "cell_type": "markdown",
   "metadata": {},
   "source": [
    "## 1. 2a interp"
   ]
  },
  {
   "cell_type": "code",
   "execution_count": 85,
   "metadata": {},
   "outputs": [
    {
     "name": "stdout",
     "output_type": "stream",
     "text": [
      "Fold  0 set()\n",
      "102\n",
      "Fold  1 set()\n",
      "102\n",
      "Fold  2 set()\n",
      "102\n"
     ]
    }
   ],
   "source": [
    "infer_path = '/anvar/public_datasets/preproc_study/gbm/inference/native_space/'\n",
    "pred_path = '/anvar/public_datasets/preproc_study/gbm/inference/'\n",
    "infer_dir = infer_path +'2a_interp'\n",
    "pred_dir = pred_path +'2a_interp'\n",
    "\n",
    "os.listdir(infer_dir)\n",
    "check_package_of_files(infer_dir, list_subj = subjects)"
   ]
  },
  {
   "cell_type": "code",
   "execution_count": 28,
   "metadata": {},
   "outputs": [
    {
     "name": "stdout",
     "output_type": "stream",
     "text": [
      "TCGA-76-6656.npy.npz\n",
      "TCGA-12-3650.npy.npz\n",
      "TCGA-02-0116.npy.npz\n",
      "TCGA-02-0087.npy.npz\n"
     ]
    }
   ],
   "source": [
    "for i in os.listdir(pred_dir +'/predictions_best_epoch=76-dice_mean=68_92_task=22_fold=0_tta'):\n",
    "    for j in ['TCGA-02-0116', 'TCGA-02-0087', 'TCGA-76-6656', 'TCGA-12-3650']:\n",
    "        if j in i:\n",
    "            print(i)\n",
    "            os.rmfile(pred_dir +'/predictions_best_epoch=76-dice_mean=68_92_task=22_fold=0_tta/' + i)"
   ]
  },
  {
   "cell_type": "code",
   "execution_count": 33,
   "metadata": {},
   "outputs": [
    {
     "data": {
      "text/plain": [
       "102"
      ]
     },
     "execution_count": 33,
     "metadata": {},
     "output_type": "execute_result"
    }
   ],
   "source": [
    "len(os.listdir(pred_dir +'/predictions_best_epoch=76-dice_mean=68_92_task=22_fold=0_tta'))"
   ]
  },
  {
   "cell_type": "code",
   "execution_count": 21,
   "metadata": {},
   "outputs": [
    {
     "data": {
      "text/plain": [
       "['fold=0', 'fold=2', 'fold=1']"
      ]
     },
     "execution_count": 21,
     "metadata": {},
     "output_type": "execute_result"
    }
   ],
   "source": [
    "os.listdir(infer_dir)"
   ]
  },
  {
   "cell_type": "code",
   "execution_count": 13,
   "metadata": {},
   "outputs": [
    {
     "name": "stdout",
     "output_type": "stream",
     "text": [
      "TCGA-02-0116\n",
      "TCGA-02-0087\n",
      "TCGA-76-6656\n",
      "TCGA-12-3650\n"
     ]
    }
   ],
   "source": [
    "import shlex, time, subprocess\n",
    "base_command = \"\"\"scp gpu_server_kate:/mnt/experiments/gbm_infer/2a_interp/predictions_best_epoch=76-dice_mean=68_92_task=22_fold=0_tta/{subject}.npy.npz /anvar/public_datasets/preproc_study/gbm/inference/2a_interp/predictions_best_epoch=76-dice_mean=68_92_task=22_fold=0_tta/\"\"\"\n",
    "for patient in ['TCGA-02-0116', 'TCGA-02-0087', 'TCGA-76-6656', 'TCGA-12-3650']:\n",
    "    print(patient)\n",
    "    command_to_run = base_command.format(subject = patient)\n",
    "    command_to_run = shlex.split(command_to_run)\n",
    "    process = subprocess.Popen(command_to_run,shell=False)\n",
    "    time.sleep(2)"
   ]
  },
  {
   "cell_type": "markdown",
   "metadata": {},
   "source": [
    "### 2. 3a atlas"
   ]
  },
  {
   "cell_type": "code",
   "execution_count": 88,
   "metadata": {},
   "outputs": [
    {
     "name": "stdout",
     "output_type": "stream",
     "text": [
      "Fold  0 {'TCGA-06-0142', 'TCGA-08-0520', 'TCGA-02-0037'}\n",
      "99\n",
      "Fold  1 set()\n",
      "102\n",
      "Fold  2 set()\n",
      "102\n"
     ]
    }
   ],
   "source": [
    "infer_dir = infer_path +'3a_atlas'\n",
    "pred_dir = pred_path +'3a_atlas'\n",
    "check_package_of_files(infer_dir, list_subj = subjects)"
   ]
  },
  {
   "cell_type": "markdown",
   "metadata": {},
   "source": [
    "## 3. 4a resamp"
   ]
  },
  {
   "cell_type": "code",
   "execution_count": 25,
   "metadata": {},
   "outputs": [
    {
     "name": "stdout",
     "output_type": "stream",
     "text": [
      "Fold  0 set()\n",
      "102\n",
      "Fold  1 set()\n",
      "102\n",
      "Fold  2 set()\n",
      "102\n"
     ]
    }
   ],
   "source": [
    "infer_dir = infer_path +'4a_resamp'\n",
    "pred_dir = pred_path +'7a_resample'\n",
    "check_package_of_files(infer_dir, list_subj = subjects)"
   ]
  },
  {
   "cell_type": "markdown",
   "metadata": {},
   "source": [
    "### 4. 3a_atlas_aug"
   ]
  },
  {
   "cell_type": "code",
   "execution_count": 26,
   "metadata": {},
   "outputs": [
    {
     "name": "stdout",
     "output_type": "stream",
     "text": [
      "Fold  0 set()\n",
      "102\n",
      "Fold  1 set()\n",
      "102\n",
      "Fold  2 set()\n",
      "102\n"
     ]
    }
   ],
   "source": [
    "infer_dir = infer_path +'3a_atlas_aug'\n",
    "pred_dir = pred_path +'3a_atlas_aug_300'\n",
    "check_package_of_files(infer_dir, list_subj = subjects)"
   ]
  },
  {
   "cell_type": "markdown",
   "metadata": {},
   "source": [
    "## 5. 4a resamp aug \n",
    "\n"
   ]
  },
  {
   "cell_type": "code",
   "execution_count": 28,
   "metadata": {},
   "outputs": [
    {
     "name": "stdout",
     "output_type": "stream",
     "text": [
      "Fold  0 set()\n",
      "102\n",
      "Fold  1 set()\n",
      "102\n",
      "Fold  2 set()\n",
      "102\n"
     ]
    }
   ],
   "source": [
    "infer_dir = infer_path +'4a_resamp_aug'\n",
    "pred_dir = pred_path +'7a_resaple_aug_300'\n",
    "check_package_of_files(infer_dir, list_subj = subjects)"
   ]
  },
  {
   "cell_type": "markdown",
   "metadata": {},
   "source": [
    "### 6. 5 ss shared"
   ]
  },
  {
   "cell_type": "code",
   "execution_count": 103,
   "metadata": {},
   "outputs": [
    {
     "name": "stdout",
     "output_type": "stream",
     "text": [
      "Fold  0 set()\n",
      "102\n",
      "Fold  1 {'TCGA-76-6280', 'TCGA-06-0646', 'TCGA-06-0139', 'TCGA-08-0520', 'TCGA-06-0644', 'TCGA-06-0130', 'TCGA-76-6285', 'TCGA-06-0138', 'TCGA-76-4934', 'TCGA-02-0087', 'TCGA-02-0034', 'TCGA-76-4935', 'TCGA-06-0185', 'TCGA-06-0164', 'TCGA-02-0106', 'TCGA-19-0963', 'TCGA-76-6664', 'TCGA-02-0046', 'TCGA-02-0037', 'TCGA-08-0392', 'TCGA-06-0142', 'TCGA-02-0011', 'TCGA-76-6656', 'TCGA-19-5954', 'TCGA-06-0240', 'TCGA-14-3477', 'TCGA-19-5958', 'TCGA-02-0085', 'TCGA-76-6663', 'TCGA-06-5417', 'TCGA-06-0238', 'TCGA-06-0187', 'TCGA-06-0149', 'TCGA-76-6193'}\n",
      "68\n"
     ]
    },
    {
     "ename": "FileNotFoundError",
     "evalue": "[Errno 2] No such file or directory: '/anvar/public_datasets/preproc_study/gbm/inference/native_space/5_ss/fold=2'",
     "output_type": "error",
     "traceback": [
      "\u001b[0;31m---------------------------------------------------------------------------\u001b[0m",
      "\u001b[0;31mFileNotFoundError\u001b[0m                         Traceback (most recent call last)",
      "\u001b[0;32m/tmp/ipykernel_2851333/1096568261.py\u001b[0m in \u001b[0;36m<module>\u001b[0;34m\u001b[0m\n\u001b[1;32m      1\u001b[0m \u001b[0minfer_dir\u001b[0m \u001b[0;34m=\u001b[0m \u001b[0minfer_path\u001b[0m \u001b[0;34m+\u001b[0m\u001b[0;34m'5_ss'\u001b[0m\u001b[0;34m\u001b[0m\u001b[0;34m\u001b[0m\u001b[0m\n\u001b[1;32m      2\u001b[0m \u001b[0mpred_dir\u001b[0m \u001b[0;34m=\u001b[0m \u001b[0mpred_path\u001b[0m \u001b[0;34m+\u001b[0m\u001b[0;34m'5_ss_shared'\u001b[0m\u001b[0;34m\u001b[0m\u001b[0;34m\u001b[0m\u001b[0m\n\u001b[0;32m----> 3\u001b[0;31m \u001b[0mcheck_package_of_files\u001b[0m\u001b[0;34m(\u001b[0m\u001b[0minfer_dir\u001b[0m\u001b[0;34m,\u001b[0m \u001b[0mlist_subj\u001b[0m \u001b[0;34m=\u001b[0m \u001b[0msubjects\u001b[0m\u001b[0;34m)\u001b[0m\u001b[0;34m\u001b[0m\u001b[0;34m\u001b[0m\u001b[0m\n\u001b[0m",
      "\u001b[0;32m/tmp/ipykernel_2851333/3241242620.py\u001b[0m in \u001b[0;36mcheck_package_of_files\u001b[0;34m(infer_dir, list_subj)\u001b[0m\n\u001b[1;32m      1\u001b[0m \u001b[0;32mdef\u001b[0m \u001b[0mcheck_package_of_files\u001b[0m\u001b[0;34m(\u001b[0m\u001b[0minfer_dir\u001b[0m\u001b[0;34m,\u001b[0m \u001b[0mlist_subj\u001b[0m \u001b[0;34m=\u001b[0m \u001b[0msubjects\u001b[0m\u001b[0;34m)\u001b[0m\u001b[0;34m:\u001b[0m\u001b[0;34m\u001b[0m\u001b[0;34m\u001b[0m\u001b[0m\n\u001b[1;32m      2\u001b[0m     \u001b[0;32mfor\u001b[0m \u001b[0mfold\u001b[0m \u001b[0;32min\u001b[0m \u001b[0;34m[\u001b[0m\u001b[0;36m0\u001b[0m\u001b[0;34m,\u001b[0m\u001b[0;36m1\u001b[0m\u001b[0;34m,\u001b[0m\u001b[0;36m2\u001b[0m\u001b[0;34m]\u001b[0m\u001b[0;34m:\u001b[0m\u001b[0;34m\u001b[0m\u001b[0;34m\u001b[0m\u001b[0m\n\u001b[0;32m----> 3\u001b[0;31m         \u001b[0mlist_fold_0\u001b[0m \u001b[0;34m=\u001b[0m \u001b[0mos\u001b[0m\u001b[0;34m.\u001b[0m\u001b[0mlistdir\u001b[0m\u001b[0;34m(\u001b[0m\u001b[0minfer_dir\u001b[0m \u001b[0;34m+\u001b[0m \u001b[0;34m'/fold={}'\u001b[0m\u001b[0;34m.\u001b[0m\u001b[0mformat\u001b[0m\u001b[0;34m(\u001b[0m\u001b[0mfold\u001b[0m\u001b[0;34m)\u001b[0m\u001b[0;34m)\u001b[0m\u001b[0;34m\u001b[0m\u001b[0;34m\u001b[0m\u001b[0m\n\u001b[0m\u001b[1;32m      4\u001b[0m         \u001b[0mlist_fold_0\u001b[0m \u001b[0;34m=\u001b[0m \u001b[0;34m[\u001b[0m\u001b[0mi\u001b[0m\u001b[0;34m[\u001b[0m\u001b[0;34m:\u001b[0m\u001b[0;34m-\u001b[0m\u001b[0;36m4\u001b[0m\u001b[0;34m]\u001b[0m \u001b[0;32mfor\u001b[0m \u001b[0mi\u001b[0m \u001b[0;32min\u001b[0m \u001b[0mlist_fold_0\u001b[0m\u001b[0;34m]\u001b[0m\u001b[0;34m\u001b[0m\u001b[0;34m\u001b[0m\u001b[0m\n\u001b[1;32m      5\u001b[0m         \u001b[0mprint\u001b[0m\u001b[0;34m(\u001b[0m \u001b[0;34m'Fold '\u001b[0m\u001b[0;34m,\u001b[0m \u001b[0mfold\u001b[0m\u001b[0;34m,\u001b[0m \u001b[0mset\u001b[0m\u001b[0;34m(\u001b[0m\u001b[0msubjects\u001b[0m\u001b[0;34m)\u001b[0m \u001b[0;34m-\u001b[0m \u001b[0mset\u001b[0m\u001b[0;34m(\u001b[0m\u001b[0mlist_fold_0\u001b[0m\u001b[0;34m)\u001b[0m\u001b[0;34m)\u001b[0m\u001b[0;34m\u001b[0m\u001b[0;34m\u001b[0m\u001b[0m\n",
      "\u001b[0;31mFileNotFoundError\u001b[0m: [Errno 2] No such file or directory: '/anvar/public_datasets/preproc_study/gbm/inference/native_space/5_ss/fold=2'"
     ]
    }
   ],
   "source": [
    "infer_dir = infer_path +'5_ss'\n",
    "pred_dir = pred_path +'5_ss_shared'\n",
    "check_package_of_files(infer_dir, list_subj = subjects)"
   ]
  },
  {
   "cell_type": "markdown",
   "metadata": {},
   "source": [
    "## 7. 3b n4"
   ]
  },
  {
   "cell_type": "code",
   "execution_count": 35,
   "metadata": {},
   "outputs": [
    {
     "data": {
      "text/plain": [
       "['7a_resample_aug_300',\n",
       " '3b_n4',\n",
       " '5_ss_shared',\n",
       " '2a_interp_aug',\n",
       " '2a_interp',\n",
       " '1_reg_aug',\n",
       " '3c_n4_susan',\n",
       " '3a_atlas_aug_300',\n",
       " 'native_space',\n",
       " '7a_resample',\n",
       " 'labels',\n",
       " '3a_susan',\n",
       " '2b_n4',\n",
       " '2c_n4_susan',\n",
       " 'metrcis',\n",
       " '1_reg',\n",
       " '6_hist',\n",
       " 'gbm_3a_atlas']"
      ]
     },
     "execution_count": 35,
     "metadata": {},
     "output_type": "execute_result"
    }
   ],
   "source": [
    "os.listdir('/anvar/public_datasets/preproc_study/gbm/inference/')"
   ]
  },
  {
   "cell_type": "code",
   "execution_count": 36,
   "metadata": {},
   "outputs": [
    {
     "name": "stdout",
     "output_type": "stream",
     "text": [
      "Fold  0 set()\n",
      "102\n",
      "Fold  1 set()\n",
      "102\n",
      "Fold  2 set()\n",
      "102\n"
     ]
    }
   ],
   "source": [
    "infer_dir = infer_path + '3b_n4'\n",
    "pred_dir = pred_path +'3b_n4'\n",
    "check_package_of_files(infer_dir, list_subj = subjects)"
   ]
  },
  {
   "cell_type": "markdown",
   "metadata": {},
   "source": [
    "###  8. 3d susan"
   ]
  },
  {
   "cell_type": "code",
   "execution_count": 107,
   "metadata": {},
   "outputs": [
    {
     "name": "stdout",
     "output_type": "stream",
     "text": [
      "Fold  0 set()\n",
      "102\n",
      "Fold  1 set()\n",
      "102\n",
      "Fold  2 set()\n",
      "102\n"
     ]
    }
   ],
   "source": [
    "infer_dir = infer_path + '3d_susan'\n",
    "pred_dir = pred_path +'3a_susan'\n",
    "check_package_of_files(infer_dir, list_subj = subjects)"
   ]
  },
  {
   "cell_type": "markdown",
   "metadata": {},
   "source": [
    "### 9. 6 hist "
   ]
  },
  {
   "cell_type": "code",
   "execution_count": 97,
   "metadata": {},
   "outputs": [
    {
     "name": "stdout",
     "output_type": "stream",
     "text": [
      "Fold  0 set()\n",
      "102\n",
      "Fold  1 set()\n",
      "102\n",
      "Fold  2 set()\n",
      "102\n"
     ]
    }
   ],
   "source": [
    "infer_dir = infer_path + '6_hist'\n",
    "pred_dir = pred_path +'6_hist'\n",
    "check_package_of_files(infer_dir, list_subj = subjects)"
   ]
  },
  {
   "cell_type": "code",
   "execution_count": 64,
   "metadata": {
    "scrolled": true
   },
   "outputs": [
    {
     "name": "stdout",
     "output_type": "stream",
     "text": [
      "TCGA-06-0142\n"
     ]
    },
    {
     "name": "stderr",
     "output_type": "stream",
     "text": [
      "scp: /mnt/experiments/gbm_infer/6_histogram_fold_2/predictions_best_epoch=84-dice_mean=64_34_task=31.2_fold=2_tta/TCGA-06-0142.npy: No such file or directory\n"
     ]
    },
    {
     "name": "stdout",
     "output_type": "stream",
     "text": [
      "TCGA-06-0646\n",
      "TCGA-08-0520\n"
     ]
    },
    {
     "name": "stderr",
     "output_type": "stream",
     "text": [
      "scp: /mnt/experiments/gbm_infer/6_histogram_fold_2/predictions_best_epoch=84-dice_mean=64_34_task=31.2_fold=2_tta/TCGA-08-0520.npy: No such file or directory\n"
     ]
    },
    {
     "name": "stdout",
     "output_type": "stream",
     "text": [
      "TCGA-02-0046\n",
      "TCGA-02-0037\n"
     ]
    },
    {
     "name": "stderr",
     "output_type": "stream",
     "text": [
      "scp: /mnt/experiments/gbm_infer/6_histogram_fold_2/predictions_best_epoch=84-dice_mean=64_34_task=31.2_fold=2_tta/TCGA-02-0037.npy: No such file or directory\n"
     ]
    }
   ],
   "source": [
    "base_command = \"\"\"scp gpu_server_kate:/mnt/experiments/gbm_infer/6_histogram_fold_2/predictions_best_epoch=84-dice_mean=64_34_task=31.2_fold=2_tta/{subject}.npy /anvar/public_datasets/preproc_study/gbm/inference/6_hist/predictions_best_epoch=84-dice_mean=64_34_task=31.2_fold=2_tta/\"\"\"\n",
    "for patient in ['TCGA-06-0142', 'TCGA-06-0646', 'TCGA-08-0520', 'TCGA-02-0046', 'TCGA-02-0037']:\n",
    "    print(patient)\n",
    "    command_to_run = base_command.format(subject = patient)\n",
    "    command_to_run = shlex.split(command_to_run)\n",
    "    process = subprocess.Popen(command_to_run,shell=False)\n",
    "    time.sleep(3)"
   ]
  },
  {
   "cell_type": "markdown",
   "metadata": {},
   "source": [
    "### 6. Mask applied as postprocessing in native space"
   ]
  },
  {
   "cell_type": "code",
   "execution_count": 108,
   "metadata": {},
   "outputs": [],
   "source": [
    "infer_path = '/anvar/public_datasets/preproc_study/gbm/inference/native_space/'\n",
    "pred_path = '/anvar/public_datasets/preproc_study/gbm/inference/'"
   ]
  },
  {
   "cell_type": "code",
   "execution_count": 111,
   "metadata": {},
   "outputs": [
    {
     "data": {
      "text/plain": [
       "['TCGA-06-0182.npz',\n",
       " 'TCGA-06-0119.npz',\n",
       " 'TCGA-02-0086.npz',\n",
       " 'TCGA-02-0059.npz',\n",
       " 'TCGA-19-2631.npz',\n",
       " 'TCGA-08-0360.npz',\n",
       " 'TCGA-02-0102.npz',\n",
       " 'TCGA-12-1094.npz',\n",
       " 'TCGA-06-2570.npz',\n",
       " 'TCGA-02-0006.npz',\n",
       " 'TCGA-19-2624.npz',\n",
       " 'TCGA-02-0069.npz']"
      ]
     },
     "execution_count": 111,
     "metadata": {},
     "output_type": "execute_result"
    }
   ],
   "source": [
    "os.listdir(infer_path +'/5_ss_mask_native/fold=0')"
   ]
  },
  {
   "cell_type": "code",
   "execution_count": 112,
   "metadata": {},
   "outputs": [],
   "source": [
    "data_mask = np.load(infer_path +'/5_ss_mask_native/fold=0/TCGA-06-0182.npz')\n",
    "data_ss = np.load(infer_path +'/5_ss/fold=0/TCGA-06-0182.npz')"
   ]
  },
  {
   "cell_type": "code",
   "execution_count": null,
   "metadata": {},
   "outputs": [],
   "source": [
    "def plot_qc(image, mask, patient_id = 'test'):\n",
    "    fig, axs = plt.subplots(3,3,figsize=(12,12))\n",
    "    idx = np.argsort(mask.sum(axis=(0,1)))[-3:]\n",
    "    for i in range(3):\n",
    "        axs[i, 0].imshow(image[..., idx[i]], cmap='gray')\n",
    "        axs[i, 1].imshow(mask[..., idx[i]], cmap='gray')\n",
    "        axs[i, 2].imshow(image[..., idx[i]]+200*mask[..., idx[i]], cmap='gray')\n",
    "    axs[0,0].set_title(patient_id)\n",
    "    plt.tight_layout()\n",
    "#     plt.savefig(f'/home/kate/projects/qc_preprocessing/{path}_gbm/{patient_id}.png', dpi=300)\n",
    "    plt.plot()\n",
    "#     plt.close(fig)\n",
    "plot_qc(data_mask)"
   ]
  }
 ],
 "metadata": {
  "kernelspec": {
   "display_name": "Python 3 (ipykernel)",
   "language": "python",
   "name": "python3"
  },
  "language_info": {
   "codemirror_mode": {
    "name": "ipython",
    "version": 3
   },
   "file_extension": ".py",
   "mimetype": "text/x-python",
   "name": "python",
   "nbconvert_exporter": "python",
   "pygments_lexer": "ipython3",
   "version": "3.9.1"
  }
 },
 "nbformat": 4,
 "nbformat_minor": 4
}
