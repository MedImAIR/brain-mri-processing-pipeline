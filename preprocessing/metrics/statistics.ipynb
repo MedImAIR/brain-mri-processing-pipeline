{
 "cells": [
  {
   "cell_type": "code",
   "execution_count": 1,
   "metadata": {},
   "outputs": [],
   "source": [
    "import pandas as pd\n",
    "import scipy, researchpy\n",
    "from researchpy import ttest\n",
    "import os, glob\n",
    "import numpy as np"
   ]
  },
  {
   "cell_type": "code",
   "execution_count": 2,
   "metadata": {},
   "outputs": [],
   "source": [
    "import json\n",
    "import mpu.io"
   ]
  },
  {
   "cell_type": "code",
   "execution_count": 3,
   "metadata": {},
   "outputs": [],
   "source": [
    "folder = '../log_gbm/results'\n",
    "# '../{}/*{}*'.format(folder, exp)"
   ]
  },
  {
   "cell_type": "code",
   "execution_count": null,
   "metadata": {},
   "outputs": [],
   "source": [
    "# find /mnt/experiments/gbm_infer/ -type f -name '*.csv'\n",
    "\n",
    "data = pd.read_csv('paths_to_csv.txt', header = None)\n",
    "import shlex, subprocess,time\n",
    "base_command = \"\"\"scp gpu_server_kate:{path} /home/kate/projects/brain-mri-processing-pipeline/main_pipeline/log_gbm/results/ \"\"\"\n",
    "for i in range(0,len(data)):\n",
    "    print(data[0].iloc[i])\n",
    "    command_to_run = base_command.format(path = data[0].iloc[i])\n",
    "    command_to_run = shlex.split(command_to_run)\n",
    "    process = subprocess.Popen(command_to_run,shell=False)\n",
    "    time.sleep(1)"
   ]
  },
  {
   "cell_type": "markdown",
   "metadata": {},
   "source": [
    "## Creating the joint table:"
   ]
  },
  {
   "cell_type": "code",
   "execution_count": 12,
   "metadata": {},
   "outputs": [
    {
     "data": {
      "text/plain": [
       "['.ipynb_checkpoints',\n",
       " 'metrics_gbm_2a_interp_fold-0.csv',\n",
       " 'metrics_gbm_2b_n4_fold-2.csv',\n",
       " 'metrics_gbm_3a_atlas_fold-2.csv',\n",
       " 'metrics_gbm_3a_atlas_aug_300_fold-2.csv',\n",
       " 'metrics_gbm_3b_n4_fold-1.csv',\n",
       " 'metrics_gbm_3a_susan_fold-1.csv',\n",
       " 'metrics_gbm_2a_interp_fold-1.csv',\n",
       " 'metrics_gbm_TCGA_GBM_fold-2.csv',\n",
       " 'metrics_gbm_3aatlas_withoutbrain_label_from_3aatlas_fold-1.csv',\n",
       " 'metrics_gbm_5_ss_label_from_3atlas_fold-1.csv',\n",
       " 'metrics_gbm_3a_atlas_aug_300_fold-0.csv',\n",
       " 'metrics_gbm_3a_susan_fold-2.csv',\n",
       " 'metrics_gbm_TCGA_GBM_fold-1.csv',\n",
       " 'metrics_gbm_5_ss_shared_fold-1.csv',\n",
       " 'metrics_gbm_3a_atlas_fold-1.csv',\n",
       " 'metrics_gbm_3c_n4_susan_fold-0.csv',\n",
       " 'metrics_gbm_2b_n4_fold-0.csv',\n",
       " 'metrics_gbm_2c_n4_susan_fold-0.csv',\n",
       " 'metrics_gbm_3aatlas_withoutbrain_label_from_3aatlas_fold-0.csv',\n",
       " 'metrics_gbm_3c_n4_susan_fold-1.csv',\n",
       " 'metrics_gbm_3c_n4_susan_fold-2.csv',\n",
       " 'metrics_gbm_2a_interp_fold-2.csv',\n",
       " 'metrics_gbm_5_ss_shared_fold-2.csv',\n",
       " 'metrics_gbm_7a_resample_fold-1.csv',\n",
       " 'metrics_gbm_7a_resample_fold-0.csv',\n",
       " 'metrics_gbm_3b_n4_fold-0.csv',\n",
       " 'metrics_gbm_5_ss_label_from_3atlas_fold-2.csv',\n",
       " 'metrics_gbm_2c_n4_susan_fold-1.csv',\n",
       " 'metrics_gbm_7a_resample_aug_300_fold-2.csv',\n",
       " 'metrics_gbm_3a_atlas_aug_300_fold-1.csv',\n",
       " 'metrics_gbm_2a_interp_aug_fold-0.csv',\n",
       " 'metrics_gbm_2c_n4_susan_fold-2.csv',\n",
       " 'metrics_gbm_2a_interp_aug_fold-2.csv',\n",
       " 'metrics_gbm_2b_n4_fold-1.csv',\n",
       " 'metrics_gbm_2a_interp_aug_fold-1.csv',\n",
       " 'metrics_gbm_7a_resample_aug_300_fold-0.csv',\n",
       " 'metrics_gbm_3aatlas_withoutbrain_label_from_3aatlas_fold-2.csv',\n",
       " 'metrics_gbm_5_ss_label_from_3atlas_fold-0.csv',\n",
       " 'metrics_gbm_3b_n4_fold-2.csv',\n",
       " 'metrics_gbm_7a_resample_aug_300_fold-1.csv',\n",
       " 'metrics_gbm_7a_resample_fold-2.csv',\n",
       " 'metrics_gbm_3a_atlas_fold-0.csv']"
      ]
     },
     "execution_count": 12,
     "metadata": {},
     "output_type": "execute_result"
    }
   ],
   "source": [
    "os.listdir(folder)"
   ]
  },
  {
   "cell_type": "code",
   "execution_count": 13,
   "metadata": {},
   "outputs": [
    {
     "name": "stdout",
     "output_type": "stream",
     "text": [
      "1_reg.py\t3a_atlas.py\t4a_resamp.py  6_hist.py  log_schw\r\n",
      "2a_interp.py\t3b_n4.sh\t4b_n4.sh      log_bgpd\t metrics\r\n",
      "2b_n4.sh\t3c_n4_susan.sh\t4d_susan.sh   log_gbm\t misc\r\n",
      "2c_n4_susan.sh\t3d_susan.sh\t5_ss.py       log_lgg\t utils\r\n"
     ]
    }
   ],
   "source": [
    "!ls .."
   ]
  },
  {
   "cell_type": "code",
   "execution_count": 15,
   "metadata": {},
   "outputs": [],
   "source": [
    "gbm_seed = mpu.io.read('../utils/gbm_seed.json')\n",
    "folder = '../log_gbm/results_native/'\n",
    "def make_df_fold(folder, exp, list_fold_0 =gbm_seed['fold_0'], list_fold_1=gbm_seed['fold_1'], list_fold_2=gbm_seed['fold_2']):\n",
    "    \"\"\" for most of experiments name of experiment `exp` should include `_f`\n",
    "    \"\"\"\n",
    "    assert(len(glob.glob('{}/*{}*'.format(folder, exp))) == 3)\n",
    "    for fold in glob.glob('{}/*{}*'.format(folder, exp)):\n",
    "        if 'fold-0' in fold:\n",
    "            df_fold_0 = pd.read_csv(fold)\n",
    "            df_fold_0 = df_fold_0[df_fold_0['Ids'].isin(list_fold_0)]\n",
    "        elif 'fold-1' in fold:\n",
    "            df_fold_1 = pd.read_csv(fold)\n",
    "            df_fold_1 = df_fold_1[df_fold_1['Ids'].isin(list_fold_1)]\n",
    "        elif 'fold-2' in fold:                  \n",
    "            df_fold_2 = pd.read_csv(fold)\n",
    "            df_fold_2 = df_fold_2[df_fold_2['Ids'].isin(list_fold_2)]\n",
    "            \n",
    "    result_df = pd.concat([df_fold_0,df_fold_1,df_fold_2])\n",
    "    result_df = result_df.drop(result_df.columns[0], axis = 1).reset_index(drop=True)\n",
    "    return result_df"
   ]
  },
  {
   "cell_type": "code",
   "execution_count": 16,
   "metadata": {},
   "outputs": [],
   "source": [
    "df_1 = make_df_fold(folder,'1_reg_f', gbm_seed['fold_0'],  gbm_seed['fold_1'],  gbm_seed['fold_2'])\n",
    "df_2 = make_df_fold(folder,'1_reg_aug',  gbm_seed['fold_0'],  gbm_seed['fold_1'],  gbm_seed['fold_2'])"
   ]
  },
  {
   "cell_type": "code",
   "execution_count": 17,
   "metadata": {},
   "outputs": [],
   "source": [
    "def ttest_pair(metric, df_1, df_2, name_1, name_2, correction = None):\n",
    "    return ttest(df_1[metric], df_2[metric], group1_name = name_1,\n",
    "                 group2_name= name_2, equal_variances=False, paired=True, correction = 8).iloc[4].values[1]"
   ]
  },
  {
   "cell_type": "code",
   "execution_count": 19,
   "metadata": {
    "scrolled": true
   },
   "outputs": [
    {
     "data": {
      "text/plain": [
       "0.0038"
      ]
     },
     "execution_count": 19,
     "metadata": {},
     "output_type": "execute_result"
    }
   ],
   "source": [
    "ttest_pair('Surface_dice_1', df_1, df_2, '1_reg_f', '1_reg_aug')"
   ]
  },
  {
   "cell_type": "code",
   "execution_count": 20,
   "metadata": {},
   "outputs": [],
   "source": [
    "fixed = '1_reg_f'\n",
    "moving = ['1_reg_aug']\n",
    "metrics = ['Surface_dice_1']\n",
    "result = pd.DataFrame()\n",
    "df_1 = make_df_fold(folder, fixed)\n",
    "for exp in moving:\n",
    "    df_2 = make_df_fold(folder, exp)\n",
    "    for metric in metrics:\n",
    "            \n",
    "        result = result.append({'Experiment': fixed,\n",
    "                                    'Metric' : metric,\n",
    "                                    'Mean': np.round(df_1[metric].mean(),3),\n",
    "                                    'STD': np.round(df_1[metric].std(),3)},  \n",
    "                                   ignore_index = True)\n",
    "        p_value = ttest_pair(metric, df_1, df_2, fixed, exp, correction = len(moving))\n",
    "        result = result.append({'Experiment': exp,\n",
    "                                    'Metric' : metric,\n",
    "                                    'Mean': np.round(df_2[metric].mean(),3),\n",
    "                                    'STD': np.round(df_2[metric].std(),3),\n",
    "                                    'p_value': np.round(p_value,3),\n",
    "                                    'criterion' : (p_value < 0.050),\n",
    "                                    },  \n",
    "                                   ignore_index = True)"
   ]
  },
  {
   "cell_type": "code",
   "execution_count": 22,
   "metadata": {},
   "outputs": [],
   "source": [
    "def make_main_table(folder, fixed, moving, metrics, list_fold_0=gbm_seed['fold_0'], list_fold_1=gbm_seed['fold_1'], list_fold_2=gbm_seed['fold_2']):\n",
    "    result = pd.DataFrame()\n",
    "    df_1 = make_df_fold(folder,fixed, list_fold_0, list_fold_1, list_fold_2)\n",
    "    \n",
    "    for exp in moving:\n",
    "        df_2 = make_df_fold(folder,exp, list_fold_0, list_fold_1, list_fold_2)\n",
    "        for metric in metrics:\n",
    "            \n",
    "            result = result.append({'Experiment': fixed,\n",
    "                                    'Metric' : metric,\n",
    "                                    'Mean': np.round(df_1[metric].mean(),3),\n",
    "                                    'STD': np.round(df_1[metric].std(),3)},  \n",
    "                                   ignore_index = True)\n",
    "            p_value = ttest_pair(metric, df_1, df_2, fixed, exp, correction = len(moving))\n",
    "            result = result.append({'Experiment': exp,\n",
    "                                    'Metric' : metric,\n",
    "                                    'Mean': np.round(df_2[metric].mean(),3),\n",
    "                                    'STD': np.round(df_2[metric].std(),3),\n",
    "                                    'p_value': np.round(p_value,3),\n",
    "                                    'criterion' : (p_value < 0.050),\n",
    "                                    },  \n",
    "                                   ignore_index = True)\n",
    "    return result"
   ]
  },
  {
   "cell_type": "code",
   "execution_count": 23,
   "metadata": {},
   "outputs": [
    {
     "data": {
      "text/html": [
       "<div>\n",
       "<style scoped>\n",
       "    .dataframe tbody tr th:only-of-type {\n",
       "        vertical-align: middle;\n",
       "    }\n",
       "\n",
       "    .dataframe tbody tr th {\n",
       "        vertical-align: top;\n",
       "    }\n",
       "\n",
       "    .dataframe thead th {\n",
       "        text-align: right;\n",
       "    }\n",
       "</style>\n",
       "<table border=\"1\" class=\"dataframe\">\n",
       "  <thead>\n",
       "    <tr style=\"text-align: right;\">\n",
       "      <th></th>\n",
       "      <th>Experiment</th>\n",
       "      <th>Metric</th>\n",
       "      <th>Mean</th>\n",
       "      <th>STD</th>\n",
       "      <th>criterion</th>\n",
       "      <th>p_value</th>\n",
       "    </tr>\n",
       "  </thead>\n",
       "  <tbody>\n",
       "    <tr>\n",
       "      <th>0</th>\n",
       "      <td>1_reg_f</td>\n",
       "      <td>Surface_dice_1</td>\n",
       "      <td>0.251</td>\n",
       "      <td>0.138</td>\n",
       "      <td>NaN</td>\n",
       "      <td>NaN</td>\n",
       "    </tr>\n",
       "    <tr>\n",
       "      <th>1</th>\n",
       "      <td>1_reg_aug</td>\n",
       "      <td>Surface_dice_1</td>\n",
       "      <td>0.259</td>\n",
       "      <td>0.139</td>\n",
       "      <td>1.0</td>\n",
       "      <td>0.004</td>\n",
       "    </tr>\n",
       "  </tbody>\n",
       "</table>\n",
       "</div>"
      ],
      "text/plain": [
       "  Experiment          Metric   Mean    STD  criterion  p_value\n",
       "0    1_reg_f  Surface_dice_1  0.251  0.138        NaN      NaN\n",
       "1  1_reg_aug  Surface_dice_1  0.259  0.139        1.0    0.004"
      ]
     },
     "execution_count": 23,
     "metadata": {},
     "output_type": "execute_result"
    }
   ],
   "source": [
    "make_main_table(folder, '1_reg_f', ['1_reg_aug'],\n",
    "                ['Surface_dice_1']).drop_duplicates(['Experiment','Metric' ]).sort_values(['Mean'])"
   ]
  },
  {
   "cell_type": "code",
   "execution_count": 25,
   "metadata": {},
   "outputs": [
    {
     "data": {
      "text/html": [
       "<div>\n",
       "<style scoped>\n",
       "    .dataframe tbody tr th:only-of-type {\n",
       "        vertical-align: middle;\n",
       "    }\n",
       "\n",
       "    .dataframe tbody tr th {\n",
       "        vertical-align: top;\n",
       "    }\n",
       "\n",
       "    .dataframe thead th {\n",
       "        text-align: right;\n",
       "    }\n",
       "</style>\n",
       "<table border=\"1\" class=\"dataframe\">\n",
       "  <thead>\n",
       "    <tr style=\"text-align: right;\">\n",
       "      <th></th>\n",
       "      <th>Experiment</th>\n",
       "      <th>Metric</th>\n",
       "      <th>Mean</th>\n",
       "      <th>STD</th>\n",
       "      <th>criterion</th>\n",
       "      <th>p_value</th>\n",
       "    </tr>\n",
       "  </thead>\n",
       "  <tbody>\n",
       "    <tr>\n",
       "      <th>1</th>\n",
       "      <td>6_hist</td>\n",
       "      <td>Surface_dice_1</td>\n",
       "      <td>0.667</td>\n",
       "      <td>0.204</td>\n",
       "      <td>0.0</td>\n",
       "      <td>0.714</td>\n",
       "    </tr>\n",
       "    <tr>\n",
       "      <th>0</th>\n",
       "      <td>2a_interp</td>\n",
       "      <td>Surface_dice_1</td>\n",
       "      <td>0.673</td>\n",
       "      <td>0.194</td>\n",
       "      <td>NaN</td>\n",
       "      <td>NaN</td>\n",
       "    </tr>\n",
       "  </tbody>\n",
       "</table>\n",
       "</div>"
      ],
      "text/plain": [
       "  Experiment          Metric   Mean    STD  criterion  p_value\n",
       "1     6_hist  Surface_dice_1  0.667  0.204        0.0    0.714\n",
       "0  2a_interp  Surface_dice_1  0.673  0.194        NaN      NaN"
      ]
     },
     "execution_count": 25,
     "metadata": {},
     "output_type": "execute_result"
    }
   ],
   "source": [
    "make_main_table(folder, '2a_interp', ['6_hist'],\n",
    "                ['Surface_dice_1']).drop_duplicates(['Experiment','Metric' ]).sort_values(['Mean'])"
   ]
  },
  {
   "cell_type": "code",
   "execution_count": 30,
   "metadata": {
    "scrolled": true
   },
   "outputs": [
    {
     "data": {
      "text/html": [
       "<div>\n",
       "<style scoped>\n",
       "    .dataframe tbody tr th:only-of-type {\n",
       "        vertical-align: middle;\n",
       "    }\n",
       "\n",
       "    .dataframe tbody tr th {\n",
       "        vertical-align: top;\n",
       "    }\n",
       "\n",
       "    .dataframe thead th {\n",
       "        text-align: right;\n",
       "    }\n",
       "</style>\n",
       "<table border=\"1\" class=\"dataframe\">\n",
       "  <thead>\n",
       "    <tr style=\"text-align: right;\">\n",
       "      <th></th>\n",
       "      <th>Experiment</th>\n",
       "      <th>Metric</th>\n",
       "      <th>Mean</th>\n",
       "      <th>STD</th>\n",
       "      <th>criterion</th>\n",
       "      <th>p_value</th>\n",
       "    </tr>\n",
       "  </thead>\n",
       "  <tbody>\n",
       "    <tr>\n",
       "      <th>0</th>\n",
       "      <td>1_reg_f</td>\n",
       "      <td>Surface_dice_1</td>\n",
       "      <td>0.251</td>\n",
       "      <td>0.138</td>\n",
       "      <td>NaN</td>\n",
       "      <td>NaN</td>\n",
       "    </tr>\n",
       "    <tr>\n",
       "      <th>5</th>\n",
       "      <td>4a_resamp_f</td>\n",
       "      <td>Surface_dice_1</td>\n",
       "      <td>0.655</td>\n",
       "      <td>0.193</td>\n",
       "      <td>1.0</td>\n",
       "      <td>0.0</td>\n",
       "    </tr>\n",
       "    <tr>\n",
       "      <th>1</th>\n",
       "      <td>2a_interp</td>\n",
       "      <td>Surface_dice_1</td>\n",
       "      <td>0.673</td>\n",
       "      <td>0.194</td>\n",
       "      <td>1.0</td>\n",
       "      <td>0.0</td>\n",
       "    </tr>\n",
       "    <tr>\n",
       "      <th>3</th>\n",
       "      <td>3a_atlas_f</td>\n",
       "      <td>Surface_dice_1</td>\n",
       "      <td>0.683</td>\n",
       "      <td>0.190</td>\n",
       "      <td>1.0</td>\n",
       "      <td>0.0</td>\n",
       "    </tr>\n",
       "  </tbody>\n",
       "</table>\n",
       "</div>"
      ],
      "text/plain": [
       "    Experiment          Metric   Mean    STD  criterion  p_value\n",
       "0      1_reg_f  Surface_dice_1  0.251  0.138        NaN      NaN\n",
       "5  4a_resamp_f  Surface_dice_1  0.655  0.193        1.0      0.0\n",
       "1    2a_interp  Surface_dice_1  0.673  0.194        1.0      0.0\n",
       "3   3a_atlas_f  Surface_dice_1  0.683  0.190        1.0      0.0"
      ]
     },
     "execution_count": 30,
     "metadata": {},
     "output_type": "execute_result"
    }
   ],
   "source": [
    "make_main_table(folder, '1_reg_f', ['2a_interp','3a_atlas_f', '4a_resamp_f'],\n",
    "                ['Surface_dice_1']).drop_duplicates(['Experiment','Metric' ]).sort_values(['Mean'])"
   ]
  },
  {
   "cell_type": "code",
   "execution_count": 32,
   "metadata": {},
   "outputs": [
    {
     "data": {
      "text/html": [
       "<div>\n",
       "<style scoped>\n",
       "    .dataframe tbody tr th:only-of-type {\n",
       "        vertical-align: middle;\n",
       "    }\n",
       "\n",
       "    .dataframe tbody tr th {\n",
       "        vertical-align: top;\n",
       "    }\n",
       "\n",
       "    .dataframe thead th {\n",
       "        text-align: right;\n",
       "    }\n",
       "</style>\n",
       "<table border=\"1\" class=\"dataframe\">\n",
       "  <thead>\n",
       "    <tr style=\"text-align: right;\">\n",
       "      <th></th>\n",
       "      <th>Experiment</th>\n",
       "      <th>Metric</th>\n",
       "      <th>Mean</th>\n",
       "      <th>STD</th>\n",
       "      <th>criterion</th>\n",
       "      <th>p_value</th>\n",
       "    </tr>\n",
       "  </thead>\n",
       "  <tbody>\n",
       "    <tr>\n",
       "      <th>0</th>\n",
       "      <td>4a_resamp_f</td>\n",
       "      <td>Surface_dice_1</td>\n",
       "      <td>0.655</td>\n",
       "      <td>0.193</td>\n",
       "      <td>NaN</td>\n",
       "      <td>NaN</td>\n",
       "    </tr>\n",
       "    <tr>\n",
       "      <th>1</th>\n",
       "      <td>3a_atlas_f</td>\n",
       "      <td>Surface_dice_1</td>\n",
       "      <td>0.683</td>\n",
       "      <td>0.190</td>\n",
       "      <td>1.0</td>\n",
       "      <td>0.00</td>\n",
       "    </tr>\n",
       "    <tr>\n",
       "      <th>3</th>\n",
       "      <td>2a_interp</td>\n",
       "      <td>Surface_dice_1</td>\n",
       "      <td>0.673</td>\n",
       "      <td>0.194</td>\n",
       "      <td>1.0</td>\n",
       "      <td>0.01</td>\n",
       "    </tr>\n",
       "  </tbody>\n",
       "</table>\n",
       "</div>"
      ],
      "text/plain": [
       "    Experiment          Metric   Mean    STD  criterion  p_value\n",
       "0  4a_resamp_f  Surface_dice_1  0.655  0.193        NaN      NaN\n",
       "1   3a_atlas_f  Surface_dice_1  0.683  0.190        1.0     0.00\n",
       "3    2a_interp  Surface_dice_1  0.673  0.194        1.0     0.01"
      ]
     },
     "execution_count": 32,
     "metadata": {},
     "output_type": "execute_result"
    }
   ],
   "source": [
    "make_main_table(folder,'4a_resamp_f', ['3a_atlas_f', '2a_interp' ],\n",
    "                ['Surface_dice_1']).drop_duplicates(['Experiment','Metric' ])"
   ]
  },
  {
   "cell_type": "code",
   "execution_count": 34,
   "metadata": {},
   "outputs": [
    {
     "ename": "AssertionError",
     "evalue": "",
     "output_type": "error",
     "traceback": [
      "\u001b[0;31m---------------------------------------------------------------------------\u001b[0m",
      "\u001b[0;31mAssertionError\u001b[0m                            Traceback (most recent call last)",
      "\u001b[0;32m/tmp/ipykernel_2655907/2978553561.py\u001b[0m in \u001b[0;36m<module>\u001b[0;34m\u001b[0m\n\u001b[0;32m----> 1\u001b[0;31m make_main_table(folder, '3a_atlas_f', ['3b_n4','3d_susan','6_hist', '5_ss','3a_atlas_aug', '4a_resamp_aug'],\n\u001b[0m\u001b[1;32m      2\u001b[0m                 ['Surface_dice_1']).drop_duplicates(['Experiment'])\n",
      "\u001b[0;32m/tmp/ipykernel_2655907/1613578736.py\u001b[0m in \u001b[0;36mmake_main_table\u001b[0;34m(folder, fixed, moving, metrics, list_fold_0, list_fold_1, list_fold_2)\u001b[0m\n\u001b[1;32m      4\u001b[0m \u001b[0;34m\u001b[0m\u001b[0m\n\u001b[1;32m      5\u001b[0m     \u001b[0;32mfor\u001b[0m \u001b[0mexp\u001b[0m \u001b[0;32min\u001b[0m \u001b[0mmoving\u001b[0m\u001b[0;34m:\u001b[0m\u001b[0;34m\u001b[0m\u001b[0;34m\u001b[0m\u001b[0m\n\u001b[0;32m----> 6\u001b[0;31m         \u001b[0mdf_2\u001b[0m \u001b[0;34m=\u001b[0m \u001b[0mmake_df_fold\u001b[0m\u001b[0;34m(\u001b[0m\u001b[0mfolder\u001b[0m\u001b[0;34m,\u001b[0m\u001b[0mexp\u001b[0m\u001b[0;34m,\u001b[0m \u001b[0mlist_fold_0\u001b[0m\u001b[0;34m,\u001b[0m \u001b[0mlist_fold_1\u001b[0m\u001b[0;34m,\u001b[0m \u001b[0mlist_fold_2\u001b[0m\u001b[0;34m)\u001b[0m\u001b[0;34m\u001b[0m\u001b[0;34m\u001b[0m\u001b[0m\n\u001b[0m\u001b[1;32m      7\u001b[0m         \u001b[0;32mfor\u001b[0m \u001b[0mmetric\u001b[0m \u001b[0;32min\u001b[0m \u001b[0mmetrics\u001b[0m\u001b[0;34m:\u001b[0m\u001b[0;34m\u001b[0m\u001b[0;34m\u001b[0m\u001b[0m\n\u001b[1;32m      8\u001b[0m \u001b[0;34m\u001b[0m\u001b[0m\n",
      "\u001b[0;32m/tmp/ipykernel_2655907/3165776958.py\u001b[0m in \u001b[0;36mmake_df_fold\u001b[0;34m(folder, exp, list_fold_0, list_fold_1, list_fold_2)\u001b[0m\n\u001b[1;32m      4\u001b[0m     \"\"\" for most of experiments name of experiment `exp` should include `_f`\n\u001b[1;32m      5\u001b[0m     \"\"\"\n\u001b[0;32m----> 6\u001b[0;31m     \u001b[0;32massert\u001b[0m\u001b[0;34m(\u001b[0m\u001b[0mlen\u001b[0m\u001b[0;34m(\u001b[0m\u001b[0mglob\u001b[0m\u001b[0;34m.\u001b[0m\u001b[0mglob\u001b[0m\u001b[0;34m(\u001b[0m\u001b[0;34m'{}/*{}*'\u001b[0m\u001b[0;34m.\u001b[0m\u001b[0mformat\u001b[0m\u001b[0;34m(\u001b[0m\u001b[0mfolder\u001b[0m\u001b[0;34m,\u001b[0m \u001b[0mexp\u001b[0m\u001b[0;34m)\u001b[0m\u001b[0;34m)\u001b[0m\u001b[0;34m)\u001b[0m \u001b[0;34m==\u001b[0m \u001b[0;36m3\u001b[0m\u001b[0;34m)\u001b[0m\u001b[0;34m\u001b[0m\u001b[0;34m\u001b[0m\u001b[0m\n\u001b[0m\u001b[1;32m      7\u001b[0m     \u001b[0;32mfor\u001b[0m \u001b[0mfold\u001b[0m \u001b[0;32min\u001b[0m \u001b[0mglob\u001b[0m\u001b[0;34m.\u001b[0m\u001b[0mglob\u001b[0m\u001b[0;34m(\u001b[0m\u001b[0;34m'{}/*{}*'\u001b[0m\u001b[0;34m.\u001b[0m\u001b[0mformat\u001b[0m\u001b[0;34m(\u001b[0m\u001b[0mfolder\u001b[0m\u001b[0;34m,\u001b[0m \u001b[0mexp\u001b[0m\u001b[0;34m)\u001b[0m\u001b[0;34m)\u001b[0m\u001b[0;34m:\u001b[0m\u001b[0;34m\u001b[0m\u001b[0;34m\u001b[0m\u001b[0m\n\u001b[1;32m      8\u001b[0m         \u001b[0;32mif\u001b[0m \u001b[0;34m'fold-0'\u001b[0m \u001b[0;32min\u001b[0m \u001b[0mfold\u001b[0m\u001b[0;34m:\u001b[0m\u001b[0;34m\u001b[0m\u001b[0;34m\u001b[0m\u001b[0m\n",
      "\u001b[0;31mAssertionError\u001b[0m: "
     ]
    }
   ],
   "source": [
    "make_main_table(folder, '3a_atlas_f', ['3b_n4','3d_susan','6_hist', '5_ss','3a_atlas_aug', '4a_resamp_aug'],\n",
    "                ['Surface_dice_1']).drop_duplicates(['Experiment'])"
   ]
  },
  {
   "cell_type": "code",
   "execution_count": 153,
   "metadata": {},
   "outputs": [
    {
     "data": {
      "text/html": [
       "<div>\n",
       "<style scoped>\n",
       "    .dataframe tbody tr th:only-of-type {\n",
       "        vertical-align: middle;\n",
       "    }\n",
       "\n",
       "    .dataframe tbody tr th {\n",
       "        vertical-align: top;\n",
       "    }\n",
       "\n",
       "    .dataframe thead th {\n",
       "        text-align: right;\n",
       "    }\n",
       "</style>\n",
       "<table border=\"1\" class=\"dataframe\">\n",
       "  <thead>\n",
       "    <tr style=\"text-align: right;\">\n",
       "      <th></th>\n",
       "      <th>Experiment</th>\n",
       "      <th>Metric</th>\n",
       "      <th>Mean</th>\n",
       "      <th>STD</th>\n",
       "      <th>criterion</th>\n",
       "      <th>p_value</th>\n",
       "    </tr>\n",
       "  </thead>\n",
       "  <tbody>\n",
       "    <tr>\n",
       "      <th>1</th>\n",
       "      <td>4a_resamp_aug</td>\n",
       "      <td>Surface_dice_1</td>\n",
       "      <td>0.696</td>\n",
       "      <td>0.194</td>\n",
       "      <td>0.0</td>\n",
       "      <td>0.473</td>\n",
       "    </tr>\n",
       "    <tr>\n",
       "      <th>0</th>\n",
       "      <td>3a_atlas_aug</td>\n",
       "      <td>Surface_dice_1</td>\n",
       "      <td>0.698</td>\n",
       "      <td>0.193</td>\n",
       "      <td>NaN</td>\n",
       "      <td>NaN</td>\n",
       "    </tr>\n",
       "  </tbody>\n",
       "</table>\n",
       "</div>"
      ],
      "text/plain": [
       "      Experiment          Metric   Mean    STD  criterion  p_value\n",
       "1  4a_resamp_aug  Surface_dice_1  0.696  0.194        0.0    0.473\n",
       "0   3a_atlas_aug  Surface_dice_1  0.698  0.193        NaN      NaN"
      ]
     },
     "execution_count": 153,
     "metadata": {},
     "output_type": "execute_result"
    }
   ],
   "source": [
    "make_main_table(folder, '3a_atlas_aug', ['4a_resamp_aug'],\n",
    "                ['Surface_dice_1']).drop_duplicates(['Experiment','Metric' ]).sort_values(['Mean'])"
   ]
  },
  {
   "cell_type": "code",
   "execution_count": 36,
   "metadata": {},
   "outputs": [],
   "source": [
    "df_3 = make_df_fold(folder,'6_hist', gbm_seed['fold_0'],  gbm_seed['fold_1'],  gbm_seed['fold_2'])"
   ]
  },
  {
   "cell_type": "code",
   "execution_count": 37,
   "metadata": {},
   "outputs": [
    {
     "ename": "NameError",
     "evalue": "name 'df_fold_0' is not defined",
     "output_type": "error",
     "traceback": [
      "\u001b[0;31m---------------------------------------------------------------------------\u001b[0m",
      "\u001b[0;31mNameError\u001b[0m                                 Traceback (most recent call last)",
      "\u001b[0;32m/tmp/ipykernel_2655907/3755118441.py\u001b[0m in \u001b[0;36m<module>\u001b[0;34m\u001b[0m\n\u001b[1;32m      1\u001b[0m make_main_table(folder,'7a_resample' , ['3a_atlas_f','2a_interp_f', ],\n\u001b[1;32m      2\u001b[0m                 \u001b[0;34m[\u001b[0m\u001b[0;34m'Dice_1'\u001b[0m\u001b[0;34m,\u001b[0m\u001b[0;34m'Surface_dice_1'\u001b[0m\u001b[0;34m,\u001b[0m\u001b[0;34m'Sensitivity_1'\u001b[0m\u001b[0;34m,\u001b[0m\u001b[0;34m'Precision_1'\u001b[0m\u001b[0;34m]\u001b[0m\u001b[0;34m,\u001b[0m\u001b[0;34m\u001b[0m\u001b[0;34m\u001b[0m\u001b[0m\n\u001b[0;32m----> 3\u001b[0;31m                 df_fold_0, df_fold_1, df_fold_2).drop_duplicates(['Experiment','Metric' ])\n\u001b[0m",
      "\u001b[0;31mNameError\u001b[0m: name 'df_fold_0' is not defined"
     ]
    }
   ],
   "source": [
    "make_main_table(folder,'7a_resample' , ['3a_atlas_f','2a_interp_f', ],\n",
    "                ['Dice_1','Surface_dice_1','Sensitivity_1','Precision_1'], \n",
    "                df_fold_0, df_fold_1, df_fold_2).drop_duplicates(['Experiment','Metric' ])"
   ]
  },
  {
   "cell_type": "code",
   "execution_count": 193,
   "metadata": {
    "scrolled": true
   },
   "outputs": [
    {
     "data": {
      "text/plain": [
       "['3d_susan_fold-0.csv',\n",
       " '4a_resamp_fold-0.csv',\n",
       " '.ipynb_checkpoints',\n",
       " 'metrics_gbm_1_reg_aug_fold-2.csv',\n",
       " '5_ss_fold-2.csv',\n",
       " 'metrics_gbm_1_reg_aug_fold-0.csv',\n",
       " '3a_atlas_fold-2.csv',\n",
       " '3a_atlas_aug_fold-1.csv',\n",
       " '3d_susanfold-0.csv',\n",
       " '3d_susan_fold-1.csv',\n",
       " '2a_interp_fold-1.csv',\n",
       " '3d_susanfold-2.csv',\n",
       " '3b_n4fold-0.csv',\n",
       " '2a_interpfold-1.csv',\n",
       " '3b_n4fold-2.csv',\n",
       " '3a_atlas_fold-0.csv',\n",
       " '6_hist_fold-0.csv',\n",
       " '5_ss_fold-0.csv',\n",
       " '3d_susan_fold-2.csv',\n",
       " 'metrics_gbm_1_reg_fold-1.csv',\n",
       " '6_hist_fold-1.csv',\n",
       " '6_hist_fold-2.csv',\n",
       " '1_reg_labels.csv',\n",
       " '2a_interp_fold-2.csv',\n",
       " '3a_atlas_fold-1.csv',\n",
       " 'metrics_gbm_1_reg_fold-2.csv',\n",
       " '3d_susanfold-1.csv',\n",
       " '4a_resamp_aug_fold-2.csv',\n",
       " 'metrics_gbm_1_reg_aug_fold-1.csv',\n",
       " '3a_atlas_aug_fold-2.csv',\n",
       " 'metrics_gbm_1_reg_fold-0.csv',\n",
       " '2a_interp_fold-0.csv',\n",
       " '2a_interpfold-2.csv',\n",
       " '4a_resamp_aug_fold-0.csv',\n",
       " '3b_n4fold-1.csv',\n",
       " '4a_resamp_fold-1.csv',\n",
       " '3a_atlas_aug_fold-0.csv',\n",
       " '4a_resamp_fold-2.csv',\n",
       " '2a_interpfold-0.csv',\n",
       " '5_ss_fold-1.csv',\n",
       " '4a_resamp_aug_fold-1.csv']"
      ]
     },
     "execution_count": 193,
     "metadata": {},
     "output_type": "execute_result"
    }
   ],
   "source": [
    "os.listdir('../log_gbm/results_native/')"
   ]
  },
  {
   "cell_type": "markdown",
   "metadata": {},
   "source": [
    "#### 3. Taking only needed subjects for analysis"
   ]
  },
  {
   "cell_type": "code",
   "execution_count": 4,
   "metadata": {
    "collapsed": true
   },
   "outputs": [
    {
     "ename": "IndentationError",
     "evalue": "expected an indented block (1301941392.py, line 3)",
     "output_type": "error",
     "traceback": [
      "\u001b[0;36m  File \u001b[0;32m\"/tmp/ipykernel_3589593/1301941392.py\"\u001b[0;36m, line \u001b[0;32m3\u001b[0m\n\u001b[0;31m    #     shutil.copy('/anvar/public_datasets/preproc_study/gbm/inference/metrcis/6_hist_fold-1.csv','../log_gbm/results_native/')\u001b[0m\n\u001b[0m                                                                                                                                  ^\u001b[0m\n\u001b[0;31mIndentationError\u001b[0m\u001b[0;31m:\u001b[0m expected an indented block\n"
     ]
    }
   ],
   "source": [
    "import shutil\n",
    "for i in os.listdir('/anvar/public_datasets/preproc_study/gbm/inference/metrcis/'):\n",
    "#     shutil.copy('/anvar/public_datasets/preproc_study/gbm/inference/metrcis/6_hist_fold-1.csv','../log_gbm/results_native/')"
   ]
  },
  {
   "cell_type": "code",
   "execution_count": 5,
   "metadata": {},
   "outputs": [
    {
     "data": {
      "text/plain": [
       "['4a_resamp_fold-0.csv',\n",
       " '2a_interp_fold-0.csv',\n",
       " '4a_resamp_aug_fold-1.csv',\n",
       " '3d_susan_fold-0.csv',\n",
       " '5_ss_fold-2.csv',\n",
       " '3a_atlas_fold-2.csv',\n",
       " '5_ss_mask_native_fold-1.csv',\n",
       " '3b_n4fold-0.csv',\n",
       " '3a_atlas_fold-1.csv',\n",
       " '3c_n4_susan_fold-2.csv',\n",
       " '4a_resamp_fold-1.csv',\n",
       " '5_ss_mask_native_fold-0.csv',\n",
       " '3a_atlas_aug_fold-1.csv',\n",
       " '4a_resamp_aug_fold-0.csv',\n",
       " '6_hist_fold-1.csv',\n",
       " '2a_interp_fold-2.csv',\n",
       " '2a_interpfold-2.csv',\n",
       " '6_hist_fold-2.csv',\n",
       " '5_ss_fold-0.csv',\n",
       " '4a_resamp_aug_fold-2.csv',\n",
       " '3d_susan_fold-1.csv',\n",
       " '2a_interp_fold-1.csv',\n",
       " '4a_resamp_fold-2.csv',\n",
       " '5_ss_fold-1.csv',\n",
       " '3d_susan_fold-2.csv',\n",
       " '3b_n4fold-2.csv',\n",
       " '6_hist_fold-0.csv',\n",
       " '3a_atlas_aug_fold-2.csv',\n",
       " '5_ss_mask_native_fold-2.csv',\n",
       " '3d_susanfold-1.csv',\n",
       " '3c_n4_susan_fold-1.csv',\n",
       " '3d_susanfold-2.csv',\n",
       " '2a_interpfold-1.csv',\n",
       " '3b_n4fold-1.csv',\n",
       " '3a_atlas_fold-0.csv',\n",
       " '2a_interpfold-0.csv',\n",
       " '3c_n4_susan_fold-0.csv',\n",
       " '1_reg_labels.csv',\n",
       " '3a_atlas_aug_fold-0.csv']"
      ]
     },
     "execution_count": 5,
     "metadata": {},
     "output_type": "execute_result"
    }
   ],
   "source": [
    "os.listdir('/anvar/public_datasets/preproc_study/gbm/inference/metrcis/')"
   ]
  },
  {
   "cell_type": "code",
   "execution_count": 6,
   "metadata": {
    "scrolled": true
   },
   "outputs": [
    {
     "ename": "NameError",
     "evalue": "name 'df_1' is not defined",
     "output_type": "error",
     "traceback": [
      "\u001b[0;31m---------------------------------------------------------------------------\u001b[0m",
      "\u001b[0;31mNameError\u001b[0m                                 Traceback (most recent call last)",
      "\u001b[0;32m/tmp/ipykernel_3589593/3255716534.py\u001b[0m in \u001b[0;36m<module>\u001b[0;34m\u001b[0m\n\u001b[1;32m      1\u001b[0m \u001b[0mfolder\u001b[0m \u001b[0;34m=\u001b[0m \u001b[0;34m'../log_gbm/results_native/'\u001b[0m\u001b[0;34m\u001b[0m\u001b[0;34m\u001b[0m\u001b[0m\n\u001b[0;32m----> 2\u001b[0;31m \u001b[0mresult_df\u001b[0m \u001b[0;34m=\u001b[0m \u001b[0mpd\u001b[0m\u001b[0;34m.\u001b[0m\u001b[0mDataFrame\u001b[0m\u001b[0;34m(\u001b[0m\u001b[0mcolumns\u001b[0m \u001b[0;34m=\u001b[0m \u001b[0mdf_1\u001b[0m\u001b[0;34m.\u001b[0m\u001b[0mcolumns\u001b[0m\u001b[0;34m)\u001b[0m\u001b[0;34m\u001b[0m\u001b[0;34m\u001b[0m\u001b[0m\n\u001b[0m\u001b[1;32m      3\u001b[0m \u001b[0mresult_df\u001b[0m\u001b[0;34m[\u001b[0m\u001b[0;34m'fold'\u001b[0m\u001b[0;34m]\u001b[0m \u001b[0;34m=\u001b[0m \u001b[0;34m''\u001b[0m\u001b[0;34m\u001b[0m\u001b[0;34m\u001b[0m\u001b[0m\n\u001b[1;32m      4\u001b[0m \u001b[0mresult_df\u001b[0m\u001b[0;34m[\u001b[0m\u001b[0;34m'exp'\u001b[0m\u001b[0;34m]\u001b[0m \u001b[0;34m=\u001b[0m \u001b[0;34m''\u001b[0m\u001b[0;34m\u001b[0m\u001b[0;34m\u001b[0m\u001b[0m\n",
      "\u001b[0;31mNameError\u001b[0m: name 'df_1' is not defined"
     ]
    }
   ],
   "source": [
    "folder = '../log_gbm/results_native/'\n",
    "result_df = pd.DataFrame(columns = df_1.columns)\n",
    "result_df['fold'] = ''\n",
    "result_df['exp'] = ''"
   ]
  },
  {
   "cell_type": "code",
   "execution_count": 538,
   "metadata": {
    "scrolled": true
   },
   "outputs": [
    {
     "name": "stdout",
     "output_type": "stream",
     "text": [
      "3d_susan_ 0\n",
      "4a_resamp_ 0\n",
      "metrics_gbm_1_reg_aug_ 2\n",
      "5_ss_ 2\n",
      "3c_n4_susan_ 2\n",
      "metrics_gbm_1_reg_aug_ 0\n",
      "3a_atlas_ 2\n",
      "3a_atlas_aug_ 1\n",
      "3d_susan_ 1\n",
      "2a_interp_ 1\n",
      "3b_n4 0\n",
      "3b_n4 2\n",
      "3a_atlas_ 0\n",
      "6_hist_ 0\n",
      "5_ss_ 0\n",
      "3d_susan_ 2\n",
      "metrics_gbm_1_reg_ 1\n",
      "6_hist_ 1\n",
      "6_hist_ 2\n",
      "2a_interp_ 2\n",
      "3a_atlas_ 1\n",
      "metrics_gbm_1_reg_ 2\n",
      "4a_resamp_aug_ 2\n",
      "metrics_gbm_1_reg_aug_ 1\n",
      "3c_n4_susan_ 0\n",
      "3a_atlas_aug_ 2\n",
      "metrics_gbm_1_reg_ 0\n",
      "2a_interp_ 0\n",
      "5_ss_mask_native_ 1\n",
      "5_ss_mask_native_ 0\n",
      "4a_resamp_aug_ 0\n",
      "3b_n4 1\n",
      "4a_resamp_ 1\n",
      "3a_atlas_aug_ 0\n",
      "5_ss_mask_native_ 2\n",
      "3c_n4_susan_ 1\n",
      "4a_resamp_ 2\n",
      "5_ss_ 1\n",
      "4a_resamp_aug_ 1\n"
     ]
    }
   ],
   "source": [
    "for i in os.listdir(folder):\n",
    "    try:\n",
    "        temp_df = pd.read_csv(folder + i)\n",
    "        temp_df['fold'] = ''\n",
    "        temp_df['fold'] = int(i.split('-')[1][:-4])\n",
    "#         print(i.split('-')[1][:-4])\n",
    "        temp_df['exp'] = ''\n",
    "        temp_df['exp'] = i.split('fold')[0]\n",
    "        print(i.split('fold')[0], i.split('-')[1][:-4])\n",
    "        if int(i.split('-')[1][:-4]) == 0:\n",
    "                temp_df = temp_df[temp_df['Ids'].isin(gbm_seed['fold_0'])]\n",
    "        elif int(i.split('-')[1][:-4]) == 1:\n",
    "                temp_df = temp_df[temp_df['Ids'].isin(gbm_seed['fold_1'])]\n",
    "        elif int(i.split('-')[1][:-4]) == 2:                 \n",
    "                temp_df = temp_df[temp_df['Ids'].isin(gbm_seed['fold_2'])]\n",
    "        result_df = result_df.append(temp_df, ignore_index = True)\n",
    "    except:\n",
    "        pass\n",
    "    \n",
    "result_df.to_csv('../log_gbm/results_native/pivot_table_native_space.csv')\n",
    "    \n",
    "# result_df.to_csv('../log_gbm/results_native/pivot_table_pred_space.csv')"
   ]
  },
  {
   "cell_type": "code",
   "execution_count": 7,
   "metadata": {},
   "outputs": [],
   "source": [
    "# result_df = pd.read_csv('../log_gbm/results_native/pivot_table.csv')"
   ]
  },
  {
   "cell_type": "code",
   "execution_count": 8,
   "metadata": {},
   "outputs": [],
   "source": [
    "columns_3 = ['Dice_3', 'Hausdorff95_3','Sensitivity_3','Specificity_3','Surface_dice_3','Precision_3']\n",
    "columns_2 = ['Dice_2', 'Hausdorff95_2',  'Sensitivity_2','Specificity_2', 'Surface_dice_2','Precision_2' ]\n",
    "columns_1 = ['Dice_1',  'Hausdorff95_1','Sensitivity_1',  'Specificity_1','Surface_dice_1', 'Precision_1']"
   ]
  },
  {
   "cell_type": "code",
   "execution_count": 9,
   "metadata": {},
   "outputs": [
    {
     "ename": "NameError",
     "evalue": "name 'df_1' is not defined",
     "output_type": "error",
     "traceback": [
      "\u001b[0;31m---------------------------------------------------------------------------\u001b[0m",
      "\u001b[0;31mNameError\u001b[0m                                 Traceback (most recent call last)",
      "\u001b[0;32m/tmp/ipykernel_3589593/994890800.py\u001b[0m in \u001b[0;36m<module>\u001b[0;34m\u001b[0m\n\u001b[1;32m      1\u001b[0m \u001b[0mexp_1\u001b[0m \u001b[0;34m=\u001b[0m \u001b[0;34m'metrics_gbm_1_reg_'\u001b[0m\u001b[0;34m\u001b[0m\u001b[0;34m\u001b[0m\u001b[0m\n\u001b[1;32m      2\u001b[0m \u001b[0mexp_2\u001b[0m \u001b[0;34m=\u001b[0m \u001b[0;34m'metrics_gbm_1_reg_aug_'\u001b[0m\u001b[0;34m\u001b[0m\u001b[0;34m\u001b[0m\u001b[0m\n\u001b[0;32m----> 3\u001b[0;31m \u001b[0;32mfor\u001b[0m \u001b[0mi\u001b[0m \u001b[0;32min\u001b[0m \u001b[0menumerate\u001b[0m\u001b[0;34m(\u001b[0m\u001b[0mzip\u001b[0m\u001b[0;34m(\u001b[0m\u001b[0;34m[\u001b[0m\u001b[0mexp_1\u001b[0m\u001b[0;34m,\u001b[0m \u001b[0mexp_2\u001b[0m\u001b[0;34m]\u001b[0m\u001b[0;34m,\u001b[0m \u001b[0;34m[\u001b[0m\u001b[0mdf_1\u001b[0m\u001b[0;34m,\u001b[0m \u001b[0mdf_2\u001b[0m\u001b[0;34m]\u001b[0m\u001b[0;34m)\u001b[0m\u001b[0;34m)\u001b[0m\u001b[0;34m:\u001b[0m\u001b[0;34m\u001b[0m\u001b[0;34m\u001b[0m\u001b[0m\n\u001b[0m\u001b[1;32m      4\u001b[0m     \u001b[0mprint\u001b[0m\u001b[0;34m(\u001b[0m\u001b[0mi\u001b[0m\u001b[0;34m[\u001b[0m\u001b[0;36m1\u001b[0m\u001b[0;34m]\u001b[0m\u001b[0;34m[\u001b[0m\u001b[0;36m1\u001b[0m\u001b[0;34m]\u001b[0m\u001b[0;34m)\u001b[0m\u001b[0;34m\u001b[0m\u001b[0;34m\u001b[0m\u001b[0m\n",
      "\u001b[0;31mNameError\u001b[0m: name 'df_1' is not defined"
     ]
    }
   ],
   "source": [
    "exp_1 = 'metrics_gbm_1_reg_'\n",
    "exp_2 = 'metrics_gbm_1_reg_aug_'\n",
    "for i in enumerate(zip([exp_1, exp_2], [df_1, df_2])):\n",
    "    print(i[1][1])"
   ]
  },
  {
   "cell_type": "code",
   "execution_count": 10,
   "metadata": {},
   "outputs": [],
   "source": [
    "columns_3 = ['Dice_3', 'Hausdorff95_3','Surface_dice_3','Sensitivity_3','Specificity_3','Precision_3']\n",
    "columns_2 = ['Dice_2', 'Hausdorff95_2',  'Surface_dice_2','Sensitivity_2','Specificity_2', 'Precision_2' ]\n",
    "columns_1 = ['Dice_1',  'Hausdorff95_1','Surface_dice_1','Sensitivity_1',  'Specificity_1', 'Precision_1']"
   ]
  },
  {
   "cell_type": "code",
   "execution_count": 11,
   "metadata": {},
   "outputs": [
    {
     "name": "stderr",
     "output_type": "stream",
     "text": [
      "/home/kate/miniconda3/lib/python3.9/site-packages/scipy/stats/morestats.py:3130: RuntimeWarning: invalid value encountered in subtract\n",
      "  d = x - y\n",
      "/home/kate/miniconda3/lib/python3.9/site-packages/pandas/core/indexing.py:1732: SettingWithCopyWarning: \n",
      "A value is trying to be set on a copy of a slice from a DataFrame\n",
      "\n",
      "See the caveats in the documentation: https://pandas.pydata.org/pandas-docs/stable/user_guide/indexing.html#returning-a-view-versus-a-copy\n",
      "  self._setitem_single_block(indexer, value, name)\n"
     ]
    },
    {
     "data": {
      "text/html": [
       "<div>\n",
       "<style scoped>\n",
       "    .dataframe tbody tr th:only-of-type {\n",
       "        vertical-align: middle;\n",
       "    }\n",
       "\n",
       "    .dataframe tbody tr th {\n",
       "        vertical-align: top;\n",
       "    }\n",
       "\n",
       "    .dataframe thead th {\n",
       "        text-align: right;\n",
       "    }\n",
       "</style>\n",
       "<table border=\"1\" class=\"dataframe\">\n",
       "  <thead>\n",
       "    <tr style=\"text-align: right;\">\n",
       "      <th></th>\n",
       "      <th>exp</th>\n",
       "      <th>Dice_3_mean</th>\n",
       "      <th>Dice_3_pvalue</th>\n",
       "      <th>Hausdorff95_3_mean</th>\n",
       "      <th>Hausdorff95_3_pvalue</th>\n",
       "      <th>Surface_dice_3_mean</th>\n",
       "      <th>Surface_dice_3_pvalue</th>\n",
       "      <th>Sensitivity_3_mean</th>\n",
       "      <th>Sensitivity_3_pvalue</th>\n",
       "      <th>Specificity_3_mean</th>\n",
       "      <th>Specificity_3_pvalue</th>\n",
       "      <th>Precision_3_mean</th>\n",
       "      <th>Precision_3_pvalue</th>\n",
       "    </tr>\n",
       "  </thead>\n",
       "  <tbody>\n",
       "    <tr>\n",
       "      <th>0</th>\n",
       "      <td>metrics_gbm_1_reg_</td>\n",
       "      <td>0.305</td>\n",
       "      <td>0.0</td>\n",
       "      <td>inf</td>\n",
       "      <td>0.0</td>\n",
       "      <td>0.302</td>\n",
       "      <td>0.0</td>\n",
       "      <td>0.273</td>\n",
       "      <td>0.0</td>\n",
       "      <td>0.999</td>\n",
       "      <td>0.0</td>\n",
       "      <td>0.506</td>\n",
       "      <td>0.0</td>\n",
       "    </tr>\n",
       "    <tr>\n",
       "      <th>1</th>\n",
       "      <td>metrics_gbm_1_reg_aug_</td>\n",
       "      <td>0.309</td>\n",
       "      <td>0.0</td>\n",
       "      <td>inf</td>\n",
       "      <td>0.0</td>\n",
       "      <td>0.306</td>\n",
       "      <td>0.0</td>\n",
       "      <td>0.286</td>\n",
       "      <td>0.0</td>\n",
       "      <td>0.999</td>\n",
       "      <td>0.0</td>\n",
       "      <td>0.487</td>\n",
       "      <td>0.0</td>\n",
       "    </tr>\n",
       "  </tbody>\n",
       "</table>\n",
       "</div>"
      ],
      "text/plain": [
       "                      exp  Dice_3_mean  Dice_3_pvalue  Hausdorff95_3_mean  \\\n",
       "0      metrics_gbm_1_reg_        0.305            0.0                 inf   \n",
       "1  metrics_gbm_1_reg_aug_        0.309            0.0                 inf   \n",
       "\n",
       "   Hausdorff95_3_pvalue  Surface_dice_3_mean  Surface_dice_3_pvalue  \\\n",
       "0                   0.0                0.302                    0.0   \n",
       "1                   0.0                0.306                    0.0   \n",
       "\n",
       "   Sensitivity_3_mean  Sensitivity_3_pvalue  Specificity_3_mean  \\\n",
       "0               0.273                   0.0               0.999   \n",
       "1               0.286                   0.0               0.999   \n",
       "\n",
       "   Specificity_3_pvalue  Precision_3_mean  Precision_3_pvalue  \n",
       "0                   0.0             0.506                 0.0  \n",
       "1                   0.0             0.487                 0.0  "
      ]
     },
     "execution_count": 11,
     "metadata": {},
     "output_type": "execute_result"
    }
   ],
   "source": [
    "df = pd.DataFrame()\n",
    "\n",
    "exp_1 = 'metrics_gbm_1_reg_'\n",
    "exp_2 = 'metrics_gbm_1_reg_aug_'\n",
    "fold_isin = [0,1,2]\n",
    "columns = columns_3\n",
    "\n",
    "df_1 = result_df[(result_df['exp'] == exp_1)&(result_df['fold'].isin(fold_isin))].sort_values(['Ids']).drop(['Unnamed: 0'], axis = 1)\n",
    "df_2 = result_df[(result_df['exp'] == exp_2)&(result_df['fold'].isin(fold_isin))].sort_values(['Ids']).drop(['Unnamed: 0'], axis = 1)\n",
    "\n",
    "\n",
    "for metric in columns:\n",
    "    table = pd.DataFrame()\n",
    "    table = table.append({\n",
    "                  f'{metric}_mean': np.round(df_1[metric].astype('float').mean(),3),\n",
    "#                  f'{metric}_std':np.round(df_1[metric].std(),3),\n",
    "                 f'{metric}_pvalue': np.round(scipy.stats.wilcoxon(df_1[metric], df_2[metric], correction= 8)[1],4)},\n",
    "                ignore_index = True)\n",
    "    table = table.append({\n",
    "    \n",
    "                  f'{metric}_mean': np.round(df_2[metric].astype('float').mean(),3),\n",
    "#                  f'{metric}_std': np.round(df_2[metric].std(),3),\n",
    "                 f'{metric}_pvalue': np.round(scipy.stats.wilcoxon(df_1[metric], df_2[metric], correction= 8)[1],4)},\n",
    "                ignore_index = True)\n",
    "    df = pd.concat([df,table],  axis =1)\n",
    "df['exp'] = ''\n",
    "df['exp'].loc[0] = exp_1\n",
    "df['exp'].loc[1] = exp_2\n",
    "\n",
    "cols = df.columns.tolist()\n",
    "cols = cols[-1:] + cols[:-1]\n",
    "df[cols]"
   ]
  },
  {
   "cell_type": "code",
   "execution_count": 12,
   "metadata": {},
   "outputs": [
    {
     "data": {
      "text/plain": [
       "0.505852344319637"
      ]
     },
     "execution_count": 12,
     "metadata": {},
     "output_type": "execute_result"
    }
   ],
   "source": [
    "df_1[metric][df_1[metric].notna()].mean()"
   ]
  },
  {
   "cell_type": "code",
   "execution_count": 13,
   "metadata": {},
   "outputs": [],
   "source": [
    "import scipy\n",
    "def make_pivot(exp_1 = 'metrics_gbm_1_reg_',\n",
    "            exp_2 = 'metrics_gbm_1_reg_aug_',\n",
    "            fold_isin = [0,1,2],\n",
    "            columns = columns_1, result_df = result_df):\n",
    "    \n",
    "    df_1 = result_df[(result_df['exp'] == exp_1)&(result_df['fold'].isin(fold_isin))].sort_values(['Ids']).drop(['Unnamed: 0'], axis = 1)\n",
    "    df_2 = result_df[(result_df['exp'] == exp_2)&(result_df['fold'].isin(fold_isin))].sort_values(['Ids']).drop(['Unnamed: 0'], axis = 1)\n",
    "\n",
    "    df = pd.DataFrame()\n",
    "    for metric in columns:\n",
    "        table = pd.DataFrame()\n",
    "        table = table.append({\n",
    "                      f'{metric}_mean': np.round(df_1[metric][df_1[metric].notna()].mean(),3),\n",
    "#                      f'{metric}_std':np.round(df_1[metric].std(),3),\n",
    "                     f'{metric}_pvalue': np.round(scipy.stats.wilcoxon(df_1[metric], df_2[metric], correction= 8)[1],3)},\n",
    "                    ignore_index = True)\n",
    "        table = table.append({\n",
    "\n",
    "                      f'{metric}_mean': np.round(df_2[metric][df_2[metric].notna()].mean(),3),\n",
    "#                      f'{metric}_std': np.round(df_2[metric].std(),3),\n",
    "                     f'{metric}_pvalue': np.round(scipy.stats.wilcoxon(df_1[metric], df_2[metric], correction= 8)[1],3)},\n",
    "                    ignore_index = True)\n",
    "        df = pd.concat([df,table],  axis =1)\n",
    "    df['exp'] = ''\n",
    "    df['exp'].loc[0] = exp_1\n",
    "    df['exp'].loc[1] = exp_2\n",
    "\n",
    "    cols = df.columns.tolist()\n",
    "    cols = cols[-1:] + cols[:-1]\n",
    "    return df[cols]"
   ]
  },
  {
   "cell_type": "code",
   "execution_count": 14,
   "metadata": {},
   "outputs": [
    {
     "data": {
      "text/plain": [
       "3d_susan_                 204\n",
       "4a_resamp_                204\n",
       "metrics_gbm_1_reg_aug_    204\n",
       "5_ss_                     204\n",
       "3a_atlas_                 204\n",
       "3a_atlas_aug_             204\n",
       "2a_interp_                204\n",
       "3b_n4                     204\n",
       "6_hist_                   204\n",
       "metrics_gbm_1_reg_        204\n",
       "4a_resamp_aug_            204\n",
       "Name: exp, dtype: int64"
      ]
     },
     "execution_count": 14,
     "metadata": {},
     "output_type": "execute_result"
    }
   ],
   "source": [
    "result_df.exp.value_counts()"
   ]
  },
  {
   "cell_type": "code",
   "execution_count": 15,
   "metadata": {},
   "outputs": [
    {
     "data": {
      "text/plain": [
       "3d_susan_                 204\n",
       "4a_resamp_                204\n",
       "metrics_gbm_1_reg_aug_    204\n",
       "5_ss_                     204\n",
       "3a_atlas_                 204\n",
       "3a_atlas_aug_             204\n",
       "2a_interp_                204\n",
       "3b_n4                     204\n",
       "6_hist_                   204\n",
       "metrics_gbm_1_reg_        204\n",
       "4a_resamp_aug_            204\n",
       "Name: exp, dtype: int64"
      ]
     },
     "execution_count": 15,
     "metadata": {},
     "output_type": "execute_result"
    }
   ],
   "source": [
    "result_df_1 = result_df\n",
    "result_df.exp.value_counts()"
   ]
  },
  {
   "cell_type": "code",
   "execution_count": 18,
   "metadata": {},
   "outputs": [
    {
     "name": "stderr",
     "output_type": "stream",
     "text": [
      "/home/kate/miniconda3/lib/python3.9/site-packages/scipy/stats/morestats.py:3130: RuntimeWarning: invalid value encountered in subtract\n",
      "  d = x - y\n",
      "/home/kate/miniconda3/lib/python3.9/site-packages/pandas/core/indexing.py:1732: SettingWithCopyWarning: \n",
      "A value is trying to be set on a copy of a slice from a DataFrame\n",
      "\n",
      "See the caveats in the documentation: https://pandas.pydata.org/pandas-docs/stable/user_guide/indexing.html#returning-a-view-versus-a-copy\n",
      "  self._setitem_single_block(indexer, value, name)\n"
     ]
    },
    {
     "data": {
      "text/html": [
       "<div>\n",
       "<style scoped>\n",
       "    .dataframe tbody tr th:only-of-type {\n",
       "        vertical-align: middle;\n",
       "    }\n",
       "\n",
       "    .dataframe tbody tr th {\n",
       "        vertical-align: top;\n",
       "    }\n",
       "\n",
       "    .dataframe thead th {\n",
       "        text-align: right;\n",
       "    }\n",
       "</style>\n",
       "<table border=\"1\" class=\"dataframe\">\n",
       "  <thead>\n",
       "    <tr style=\"text-align: right;\">\n",
       "      <th></th>\n",
       "      <th>exp</th>\n",
       "      <th>Dice_3_mean</th>\n",
       "      <th>Dice_3_pvalue</th>\n",
       "      <th>Hausdorff95_3_mean</th>\n",
       "      <th>Hausdorff95_3_pvalue</th>\n",
       "      <th>Surface_dice_3_mean</th>\n",
       "      <th>Surface_dice_3_pvalue</th>\n",
       "      <th>Sensitivity_3_mean</th>\n",
       "      <th>Sensitivity_3_pvalue</th>\n",
       "      <th>Specificity_3_mean</th>\n",
       "      <th>Specificity_3_pvalue</th>\n",
       "      <th>Precision_3_mean</th>\n",
       "      <th>Precision_3_pvalue</th>\n",
       "    </tr>\n",
       "  </thead>\n",
       "  <tbody>\n",
       "    <tr>\n",
       "      <th>0</th>\n",
       "      <td>3a_atlas_</td>\n",
       "      <td>0.596</td>\n",
       "      <td>0.0</td>\n",
       "      <td>inf</td>\n",
       "      <td>0.0</td>\n",
       "      <td>0.585</td>\n",
       "      <td>0.0</td>\n",
       "      <td>0.525</td>\n",
       "      <td>0.0</td>\n",
       "      <td>0.999</td>\n",
       "      <td>0.0</td>\n",
       "      <td>0.796</td>\n",
       "      <td>0.025</td>\n",
       "    </tr>\n",
       "    <tr>\n",
       "      <th>1</th>\n",
       "      <td>6_hist_</td>\n",
       "      <td>0.426</td>\n",
       "      <td>0.0</td>\n",
       "      <td>inf</td>\n",
       "      <td>0.0</td>\n",
       "      <td>0.408</td>\n",
       "      <td>0.0</td>\n",
       "      <td>0.370</td>\n",
       "      <td>0.0</td>\n",
       "      <td>1.000</td>\n",
       "      <td>0.0</td>\n",
       "      <td>0.774</td>\n",
       "      <td>0.025</td>\n",
       "    </tr>\n",
       "  </tbody>\n",
       "</table>\n",
       "</div>"
      ],
      "text/plain": [
       "         exp  Dice_3_mean  Dice_3_pvalue  Hausdorff95_3_mean  \\\n",
       "0  3a_atlas_        0.596            0.0                 inf   \n",
       "1    6_hist_        0.426            0.0                 inf   \n",
       "\n",
       "   Hausdorff95_3_pvalue  Surface_dice_3_mean  Surface_dice_3_pvalue  \\\n",
       "0                   0.0                0.585                    0.0   \n",
       "1                   0.0                0.408                    0.0   \n",
       "\n",
       "   Sensitivity_3_mean  Sensitivity_3_pvalue  Specificity_3_mean  \\\n",
       "0               0.525                   0.0               0.999   \n",
       "1               0.370                   0.0               1.000   \n",
       "\n",
       "   Specificity_3_pvalue  Precision_3_mean  Precision_3_pvalue  \n",
       "0                   0.0             0.796               0.025  \n",
       "1                   0.0             0.774               0.025  "
      ]
     },
     "execution_count": 18,
     "metadata": {},
     "output_type": "execute_result"
    }
   ],
   "source": [
    "make_pivot(exp_1 = '3a_atlas_',\n",
    "            exp_2 = '6_hist_',\n",
    "            fold_isin = [0,1,2],\n",
    "            columns = columns_3, result_df = result_df)"
   ]
  },
  {
   "cell_type": "code",
   "execution_count": 21,
   "metadata": {},
   "outputs": [
    {
     "name": "stderr",
     "output_type": "stream",
     "text": [
      "/home/kate/miniconda3/lib/python3.9/site-packages/scipy/stats/morestats.py:3130: RuntimeWarning: invalid value encountered in subtract\n",
      "  d = x - y\n",
      "/home/kate/miniconda3/lib/python3.9/site-packages/pandas/core/indexing.py:1732: SettingWithCopyWarning: \n",
      "A value is trying to be set on a copy of a slice from a DataFrame\n",
      "\n",
      "See the caveats in the documentation: https://pandas.pydata.org/pandas-docs/stable/user_guide/indexing.html#returning-a-view-versus-a-copy\n",
      "  self._setitem_single_block(indexer, value, name)\n"
     ]
    },
    {
     "data": {
      "text/html": [
       "<div>\n",
       "<style scoped>\n",
       "    .dataframe tbody tr th:only-of-type {\n",
       "        vertical-align: middle;\n",
       "    }\n",
       "\n",
       "    .dataframe tbody tr th {\n",
       "        vertical-align: top;\n",
       "    }\n",
       "\n",
       "    .dataframe thead th {\n",
       "        text-align: right;\n",
       "    }\n",
       "</style>\n",
       "<table border=\"1\" class=\"dataframe\">\n",
       "  <thead>\n",
       "    <tr style=\"text-align: right;\">\n",
       "      <th></th>\n",
       "      <th>exp</th>\n",
       "      <th>Dice_3_mean</th>\n",
       "      <th>Dice_3_pvalue</th>\n",
       "      <th>Hausdorff95_3_mean</th>\n",
       "      <th>Hausdorff95_3_pvalue</th>\n",
       "      <th>Surface_dice_3_mean</th>\n",
       "      <th>Surface_dice_3_pvalue</th>\n",
       "      <th>Sensitivity_3_mean</th>\n",
       "      <th>Sensitivity_3_pvalue</th>\n",
       "      <th>Specificity_3_mean</th>\n",
       "      <th>Specificity_3_pvalue</th>\n",
       "      <th>Precision_3_mean</th>\n",
       "      <th>Precision_3_pvalue</th>\n",
       "    </tr>\n",
       "  </thead>\n",
       "  <tbody>\n",
       "    <tr>\n",
       "      <th>0</th>\n",
       "      <td>3a_atlas_</td>\n",
       "      <td>0.596</td>\n",
       "      <td>0.249</td>\n",
       "      <td>inf</td>\n",
       "      <td>0.098</td>\n",
       "      <td>0.585</td>\n",
       "      <td>0.253</td>\n",
       "      <td>0.525</td>\n",
       "      <td>0.011</td>\n",
       "      <td>0.999</td>\n",
       "      <td>0.007</td>\n",
       "      <td>0.796</td>\n",
       "      <td>0.078</td>\n",
       "    </tr>\n",
       "    <tr>\n",
       "      <th>1</th>\n",
       "      <td>5_ss_</td>\n",
       "      <td>0.603</td>\n",
       "      <td>0.249</td>\n",
       "      <td>inf</td>\n",
       "      <td>0.098</td>\n",
       "      <td>0.584</td>\n",
       "      <td>0.253</td>\n",
       "      <td>0.521</td>\n",
       "      <td>0.011</td>\n",
       "      <td>0.999</td>\n",
       "      <td>0.007</td>\n",
       "      <td>0.785</td>\n",
       "      <td>0.078</td>\n",
       "    </tr>\n",
       "  </tbody>\n",
       "</table>\n",
       "</div>"
      ],
      "text/plain": [
       "         exp  Dice_3_mean  Dice_3_pvalue  Hausdorff95_3_mean  \\\n",
       "0  3a_atlas_        0.596          0.249                 inf   \n",
       "1      5_ss_        0.603          0.249                 inf   \n",
       "\n",
       "   Hausdorff95_3_pvalue  Surface_dice_3_mean  Surface_dice_3_pvalue  \\\n",
       "0                 0.098                0.585                  0.253   \n",
       "1                 0.098                0.584                  0.253   \n",
       "\n",
       "   Sensitivity_3_mean  Sensitivity_3_pvalue  Specificity_3_mean  \\\n",
       "0               0.525                 0.011               0.999   \n",
       "1               0.521                 0.011               0.999   \n",
       "\n",
       "   Specificity_3_pvalue  Precision_3_mean  Precision_3_pvalue  \n",
       "0                 0.007             0.796               0.078  \n",
       "1                 0.007             0.785               0.078  "
      ]
     },
     "execution_count": 21,
     "metadata": {},
     "output_type": "execute_result"
    }
   ],
   "source": [
    "make_pivot(exp_1 = '3a_atlas_',\n",
    "            exp_2 = '5_ss_',\n",
    "            fold_isin = [0,1,2],\n",
    "            columns = columns_3, result_df = result_df)"
   ]
  },
  {
   "cell_type": "code",
   "execution_count": 20,
   "metadata": {},
   "outputs": [
    {
     "name": "stderr",
     "output_type": "stream",
     "text": [
      "/home/kate/miniconda3/lib/python3.9/site-packages/scipy/stats/morestats.py:3130: RuntimeWarning: invalid value encountered in subtract\n",
      "  d = x - y\n",
      "/home/kate/miniconda3/lib/python3.9/site-packages/pandas/core/indexing.py:1732: SettingWithCopyWarning: \n",
      "A value is trying to be set on a copy of a slice from a DataFrame\n",
      "\n",
      "See the caveats in the documentation: https://pandas.pydata.org/pandas-docs/stable/user_guide/indexing.html#returning-a-view-versus-a-copy\n",
      "  self._setitem_single_block(indexer, value, name)\n"
     ]
    },
    {
     "data": {
      "text/html": [
       "<div>\n",
       "<style scoped>\n",
       "    .dataframe tbody tr th:only-of-type {\n",
       "        vertical-align: middle;\n",
       "    }\n",
       "\n",
       "    .dataframe tbody tr th {\n",
       "        vertical-align: top;\n",
       "    }\n",
       "\n",
       "    .dataframe thead th {\n",
       "        text-align: right;\n",
       "    }\n",
       "</style>\n",
       "<table border=\"1\" class=\"dataframe\">\n",
       "  <thead>\n",
       "    <tr style=\"text-align: right;\">\n",
       "      <th></th>\n",
       "      <th>exp</th>\n",
       "      <th>Dice_3_mean</th>\n",
       "      <th>Dice_3_pvalue</th>\n",
       "      <th>Hausdorff95_3_mean</th>\n",
       "      <th>Hausdorff95_3_pvalue</th>\n",
       "      <th>Surface_dice_3_mean</th>\n",
       "      <th>Surface_dice_3_pvalue</th>\n",
       "      <th>Sensitivity_3_mean</th>\n",
       "      <th>Sensitivity_3_pvalue</th>\n",
       "      <th>Specificity_3_mean</th>\n",
       "      <th>Specificity_3_pvalue</th>\n",
       "      <th>Precision_3_mean</th>\n",
       "      <th>Precision_3_pvalue</th>\n",
       "    </tr>\n",
       "  </thead>\n",
       "  <tbody>\n",
       "    <tr>\n",
       "      <th>0</th>\n",
       "      <td>3a_atlas_</td>\n",
       "      <td>0.596</td>\n",
       "      <td>0.249</td>\n",
       "      <td>inf</td>\n",
       "      <td>0.098</td>\n",
       "      <td>0.585</td>\n",
       "      <td>0.253</td>\n",
       "      <td>0.525</td>\n",
       "      <td>0.011</td>\n",
       "      <td>0.999</td>\n",
       "      <td>0.007</td>\n",
       "      <td>0.796</td>\n",
       "      <td>0.078</td>\n",
       "    </tr>\n",
       "    <tr>\n",
       "      <th>1</th>\n",
       "      <td>5_ss_</td>\n",
       "      <td>0.603</td>\n",
       "      <td>0.249</td>\n",
       "      <td>inf</td>\n",
       "      <td>0.098</td>\n",
       "      <td>0.584</td>\n",
       "      <td>0.253</td>\n",
       "      <td>0.521</td>\n",
       "      <td>0.011</td>\n",
       "      <td>0.999</td>\n",
       "      <td>0.007</td>\n",
       "      <td>0.785</td>\n",
       "      <td>0.078</td>\n",
       "    </tr>\n",
       "  </tbody>\n",
       "</table>\n",
       "</div>"
      ],
      "text/plain": [
       "         exp  Dice_3_mean  Dice_3_pvalue  Hausdorff95_3_mean  \\\n",
       "0  3a_atlas_        0.596          0.249                 inf   \n",
       "1      5_ss_        0.603          0.249                 inf   \n",
       "\n",
       "   Hausdorff95_3_pvalue  Surface_dice_3_mean  Surface_dice_3_pvalue  \\\n",
       "0                 0.098                0.585                  0.253   \n",
       "1                 0.098                0.584                  0.253   \n",
       "\n",
       "   Sensitivity_3_mean  Sensitivity_3_pvalue  Specificity_3_mean  \\\n",
       "0               0.525                 0.011               0.999   \n",
       "1               0.521                 0.011               0.999   \n",
       "\n",
       "   Specificity_3_pvalue  Precision_3_mean  Precision_3_pvalue  \n",
       "0                 0.007             0.796               0.078  \n",
       "1                 0.007             0.785               0.078  "
      ]
     },
     "execution_count": 20,
     "metadata": {},
     "output_type": "execute_result"
    }
   ],
   "source": [
    "make_pivot(exp_1 = '3a_atlas_',\n",
    "            exp_2 = '5_ss_',\n",
    "            fold_isin = [0,1,2],\n",
    "            columns = columns_3, result_df = result_df)"
   ]
  },
  {
   "cell_type": "code",
   "execution_count": 22,
   "metadata": {},
   "outputs": [
    {
     "ename": "ValueError",
     "evalue": "The exact distribution of the Wilcoxon test statistic is not implemented for n=0",
     "output_type": "error",
     "traceback": [
      "\u001b[0;31m---------------------------------------------------------------------------\u001b[0m",
      "\u001b[0;31mValueError\u001b[0m                                Traceback (most recent call last)",
      "\u001b[0;32m/tmp/ipykernel_3589593/2541904264.py\u001b[0m in \u001b[0;36m<module>\u001b[0;34m\u001b[0m\n\u001b[0;32m----> 1\u001b[0;31m make_pivot(exp_1 = 'metrics_gbm_3a_atlas_',\n\u001b[0m\u001b[1;32m      2\u001b[0m             \u001b[0mexp_2\u001b[0m \u001b[0;34m=\u001b[0m \u001b[0;34m'metrics_gbm_5_ss_shared_'\u001b[0m\u001b[0;34m,\u001b[0m\u001b[0;34m\u001b[0m\u001b[0;34m\u001b[0m\u001b[0m\n\u001b[1;32m      3\u001b[0m             \u001b[0mfold_isin\u001b[0m \u001b[0;34m=\u001b[0m \u001b[0;34m[\u001b[0m\u001b[0;36m1\u001b[0m\u001b[0;34m,\u001b[0m\u001b[0;36m2\u001b[0m\u001b[0;34m]\u001b[0m\u001b[0;34m,\u001b[0m\u001b[0;34m\u001b[0m\u001b[0;34m\u001b[0m\u001b[0m\n\u001b[1;32m      4\u001b[0m             columns = columns_1, result_df = result_df_1)\n",
      "\u001b[0;32m/tmp/ipykernel_3589593/4030789368.py\u001b[0m in \u001b[0;36mmake_pivot\u001b[0;34m(exp_1, exp_2, fold_isin, columns, result_df)\u001b[0m\n\u001b[1;32m     14\u001b[0m                       \u001b[0;34mf'{metric}_mean'\u001b[0m\u001b[0;34m:\u001b[0m \u001b[0mnp\u001b[0m\u001b[0;34m.\u001b[0m\u001b[0mround\u001b[0m\u001b[0;34m(\u001b[0m\u001b[0mdf_1\u001b[0m\u001b[0;34m[\u001b[0m\u001b[0mmetric\u001b[0m\u001b[0;34m]\u001b[0m\u001b[0;34m[\u001b[0m\u001b[0mdf_1\u001b[0m\u001b[0;34m[\u001b[0m\u001b[0mmetric\u001b[0m\u001b[0;34m]\u001b[0m\u001b[0;34m.\u001b[0m\u001b[0mnotna\u001b[0m\u001b[0;34m(\u001b[0m\u001b[0;34m)\u001b[0m\u001b[0;34m]\u001b[0m\u001b[0;34m.\u001b[0m\u001b[0mmean\u001b[0m\u001b[0;34m(\u001b[0m\u001b[0;34m)\u001b[0m\u001b[0;34m,\u001b[0m\u001b[0;36m3\u001b[0m\u001b[0;34m)\u001b[0m\u001b[0;34m,\u001b[0m\u001b[0;34m\u001b[0m\u001b[0;34m\u001b[0m\u001b[0m\n\u001b[1;32m     15\u001b[0m \u001b[0;31m#                      f'{metric}_std':np.round(df_1[metric].std(),3),\u001b[0m\u001b[0;34m\u001b[0m\u001b[0;34m\u001b[0m\u001b[0;34m\u001b[0m\u001b[0m\n\u001b[0;32m---> 16\u001b[0;31m                      f'{metric}_pvalue': np.round(scipy.stats.wilcoxon(df_1[metric], df_2[metric], correction= 8)[1],3)},\n\u001b[0m\u001b[1;32m     17\u001b[0m                     ignore_index = True)\n\u001b[1;32m     18\u001b[0m         table = table.append({\n",
      "\u001b[0;32m~/miniconda3/lib/python3.9/site-packages/scipy/stats/morestats.py\u001b[0m in \u001b[0;36mwilcoxon\u001b[0;34m(x, y, zero_method, correction, alternative, mode)\u001b[0m\n\u001b[1;32m   3215\u001b[0m     \u001b[0;32melif\u001b[0m \u001b[0mmode\u001b[0m \u001b[0;34m==\u001b[0m \u001b[0;34m\"exact\"\u001b[0m\u001b[0;34m:\u001b[0m\u001b[0;34m\u001b[0m\u001b[0;34m\u001b[0m\u001b[0m\n\u001b[1;32m   3216\u001b[0m         \u001b[0;31m# get frequencies cnt of the possible positive ranksums r_plus\u001b[0m\u001b[0;34m\u001b[0m\u001b[0;34m\u001b[0m\u001b[0;34m\u001b[0m\u001b[0m\n\u001b[0;32m-> 3217\u001b[0;31m         \u001b[0mcnt\u001b[0m \u001b[0;34m=\u001b[0m \u001b[0m_get_wilcoxon_distr\u001b[0m\u001b[0;34m(\u001b[0m\u001b[0mcount\u001b[0m\u001b[0;34m)\u001b[0m\u001b[0;34m\u001b[0m\u001b[0;34m\u001b[0m\u001b[0m\n\u001b[0m\u001b[1;32m   3218\u001b[0m         \u001b[0;31m# note: r_plus is int (ties not allowed), need int for slices below\u001b[0m\u001b[0;34m\u001b[0m\u001b[0;34m\u001b[0m\u001b[0;34m\u001b[0m\u001b[0m\n\u001b[1;32m   3219\u001b[0m         \u001b[0mr_plus\u001b[0m \u001b[0;34m=\u001b[0m \u001b[0mint\u001b[0m\u001b[0;34m(\u001b[0m\u001b[0mr_plus\u001b[0m\u001b[0;34m)\u001b[0m\u001b[0;34m\u001b[0m\u001b[0;34m\u001b[0m\u001b[0m\n",
      "\u001b[0;32m~/miniconda3/lib/python3.9/site-packages/scipy/stats/_hypotests.py\u001b[0m in \u001b[0;36m_get_wilcoxon_distr\u001b[0;34m(n)\u001b[0m\n\u001b[1;32m    390\u001b[0m \u001b[0;34m\u001b[0m\u001b[0m\n\u001b[1;32m    391\u001b[0m     \u001b[0;32mif\u001b[0m \u001b[0mcnt\u001b[0m \u001b[0;32mis\u001b[0m \u001b[0;32mNone\u001b[0m\u001b[0;34m:\u001b[0m\u001b[0;34m\u001b[0m\u001b[0;34m\u001b[0m\u001b[0m\n\u001b[0;32m--> 392\u001b[0;31m         raise ValueError(\"The exact distribution of the Wilcoxon test \"\n\u001b[0m\u001b[1;32m    393\u001b[0m                          \"statistic is not implemented for n={}\".format(n))\n\u001b[1;32m    394\u001b[0m \u001b[0;34m\u001b[0m\u001b[0m\n",
      "\u001b[0;31mValueError\u001b[0m: The exact distribution of the Wilcoxon test statistic is not implemented for n=0"
     ]
    }
   ],
   "source": [
    "make_pivot(exp_1 = 'metrics_gbm_3a_atlas_',\n",
    "            exp_2 = 'metrics_gbm_5_ss_shared_',\n",
    "            fold_isin = [1,2],\n",
    "            columns = columns_1, result_df = result_df_1)"
   ]
  },
  {
   "cell_type": "code",
   "execution_count": 23,
   "metadata": {},
   "outputs": [
    {
     "ename": "ValueError",
     "evalue": "The exact distribution of the Wilcoxon test statistic is not implemented for n=0",
     "output_type": "error",
     "traceback": [
      "\u001b[0;31m---------------------------------------------------------------------------\u001b[0m",
      "\u001b[0;31mValueError\u001b[0m                                Traceback (most recent call last)",
      "\u001b[0;32m/tmp/ipykernel_3589593/2404360493.py\u001b[0m in \u001b[0;36m<module>\u001b[0;34m\u001b[0m\n\u001b[0;32m----> 1\u001b[0;31m make_pivot(exp_1 = 'metrics_gbm_3a_atlas_aug_300_',\n\u001b[0m\u001b[1;32m      2\u001b[0m             \u001b[0mexp_2\u001b[0m \u001b[0;34m=\u001b[0m \u001b[0;34m'metrics_gbm_7a_resample_aug_300_'\u001b[0m\u001b[0;34m,\u001b[0m\u001b[0;34m\u001b[0m\u001b[0;34m\u001b[0m\u001b[0m\n\u001b[1;32m      3\u001b[0m             \u001b[0mfold_isin\u001b[0m \u001b[0;34m=\u001b[0m \u001b[0;34m[\u001b[0m\u001b[0;36m0\u001b[0m\u001b[0;34m,\u001b[0m\u001b[0;36m2\u001b[0m\u001b[0;34m,\u001b[0m\u001b[0;36m1\u001b[0m\u001b[0;34m]\u001b[0m\u001b[0;34m,\u001b[0m\u001b[0;34m\u001b[0m\u001b[0;34m\u001b[0m\u001b[0m\n\u001b[1;32m      4\u001b[0m             columns = columns_1, result_df = result_df)\n",
      "\u001b[0;32m/tmp/ipykernel_3589593/4030789368.py\u001b[0m in \u001b[0;36mmake_pivot\u001b[0;34m(exp_1, exp_2, fold_isin, columns, result_df)\u001b[0m\n\u001b[1;32m     14\u001b[0m                       \u001b[0;34mf'{metric}_mean'\u001b[0m\u001b[0;34m:\u001b[0m \u001b[0mnp\u001b[0m\u001b[0;34m.\u001b[0m\u001b[0mround\u001b[0m\u001b[0;34m(\u001b[0m\u001b[0mdf_1\u001b[0m\u001b[0;34m[\u001b[0m\u001b[0mmetric\u001b[0m\u001b[0;34m]\u001b[0m\u001b[0;34m[\u001b[0m\u001b[0mdf_1\u001b[0m\u001b[0;34m[\u001b[0m\u001b[0mmetric\u001b[0m\u001b[0;34m]\u001b[0m\u001b[0;34m.\u001b[0m\u001b[0mnotna\u001b[0m\u001b[0;34m(\u001b[0m\u001b[0;34m)\u001b[0m\u001b[0;34m]\u001b[0m\u001b[0;34m.\u001b[0m\u001b[0mmean\u001b[0m\u001b[0;34m(\u001b[0m\u001b[0;34m)\u001b[0m\u001b[0;34m,\u001b[0m\u001b[0;36m3\u001b[0m\u001b[0;34m)\u001b[0m\u001b[0;34m,\u001b[0m\u001b[0;34m\u001b[0m\u001b[0;34m\u001b[0m\u001b[0m\n\u001b[1;32m     15\u001b[0m \u001b[0;31m#                      f'{metric}_std':np.round(df_1[metric].std(),3),\u001b[0m\u001b[0;34m\u001b[0m\u001b[0;34m\u001b[0m\u001b[0;34m\u001b[0m\u001b[0m\n\u001b[0;32m---> 16\u001b[0;31m                      f'{metric}_pvalue': np.round(scipy.stats.wilcoxon(df_1[metric], df_2[metric], correction= 8)[1],3)},\n\u001b[0m\u001b[1;32m     17\u001b[0m                     ignore_index = True)\n\u001b[1;32m     18\u001b[0m         table = table.append({\n",
      "\u001b[0;32m~/miniconda3/lib/python3.9/site-packages/scipy/stats/morestats.py\u001b[0m in \u001b[0;36mwilcoxon\u001b[0;34m(x, y, zero_method, correction, alternative, mode)\u001b[0m\n\u001b[1;32m   3215\u001b[0m     \u001b[0;32melif\u001b[0m \u001b[0mmode\u001b[0m \u001b[0;34m==\u001b[0m \u001b[0;34m\"exact\"\u001b[0m\u001b[0;34m:\u001b[0m\u001b[0;34m\u001b[0m\u001b[0;34m\u001b[0m\u001b[0m\n\u001b[1;32m   3216\u001b[0m         \u001b[0;31m# get frequencies cnt of the possible positive ranksums r_plus\u001b[0m\u001b[0;34m\u001b[0m\u001b[0;34m\u001b[0m\u001b[0;34m\u001b[0m\u001b[0m\n\u001b[0;32m-> 3217\u001b[0;31m         \u001b[0mcnt\u001b[0m \u001b[0;34m=\u001b[0m \u001b[0m_get_wilcoxon_distr\u001b[0m\u001b[0;34m(\u001b[0m\u001b[0mcount\u001b[0m\u001b[0;34m)\u001b[0m\u001b[0;34m\u001b[0m\u001b[0;34m\u001b[0m\u001b[0m\n\u001b[0m\u001b[1;32m   3218\u001b[0m         \u001b[0;31m# note: r_plus is int (ties not allowed), need int for slices below\u001b[0m\u001b[0;34m\u001b[0m\u001b[0;34m\u001b[0m\u001b[0;34m\u001b[0m\u001b[0m\n\u001b[1;32m   3219\u001b[0m         \u001b[0mr_plus\u001b[0m \u001b[0;34m=\u001b[0m \u001b[0mint\u001b[0m\u001b[0;34m(\u001b[0m\u001b[0mr_plus\u001b[0m\u001b[0;34m)\u001b[0m\u001b[0;34m\u001b[0m\u001b[0;34m\u001b[0m\u001b[0m\n",
      "\u001b[0;32m~/miniconda3/lib/python3.9/site-packages/scipy/stats/_hypotests.py\u001b[0m in \u001b[0;36m_get_wilcoxon_distr\u001b[0;34m(n)\u001b[0m\n\u001b[1;32m    390\u001b[0m \u001b[0;34m\u001b[0m\u001b[0m\n\u001b[1;32m    391\u001b[0m     \u001b[0;32mif\u001b[0m \u001b[0mcnt\u001b[0m \u001b[0;32mis\u001b[0m \u001b[0;32mNone\u001b[0m\u001b[0;34m:\u001b[0m\u001b[0;34m\u001b[0m\u001b[0;34m\u001b[0m\u001b[0m\n\u001b[0;32m--> 392\u001b[0;31m         raise ValueError(\"The exact distribution of the Wilcoxon test \"\n\u001b[0m\u001b[1;32m    393\u001b[0m                          \"statistic is not implemented for n={}\".format(n))\n\u001b[1;32m    394\u001b[0m \u001b[0;34m\u001b[0m\u001b[0m\n",
      "\u001b[0;31mValueError\u001b[0m: The exact distribution of the Wilcoxon test statistic is not implemented for n=0"
     ]
    }
   ],
   "source": [
    "make_pivot(exp_1 = 'metrics_gbm_3a_atlas_aug_300_',\n",
    "            exp_2 = 'metrics_gbm_7a_resample_aug_300_',\n",
    "            fold_isin = [0,2,1],\n",
    "            columns = columns_1, result_df = result_df)"
   ]
  },
  {
   "cell_type": "code",
   "execution_count": 24,
   "metadata": {},
   "outputs": [
    {
     "name": "stderr",
     "output_type": "stream",
     "text": [
      "/home/kate/miniconda3/lib/python3.9/site-packages/scipy/stats/morestats.py:3130: RuntimeWarning: invalid value encountered in subtract\n",
      "  d = x - y\n",
      "/home/kate/miniconda3/lib/python3.9/site-packages/pandas/core/indexing.py:1732: SettingWithCopyWarning: \n",
      "A value is trying to be set on a copy of a slice from a DataFrame\n",
      "\n",
      "See the caveats in the documentation: https://pandas.pydata.org/pandas-docs/stable/user_guide/indexing.html#returning-a-view-versus-a-copy\n",
      "  self._setitem_single_block(indexer, value, name)\n"
     ]
    },
    {
     "data": {
      "text/html": [
       "<div>\n",
       "<style scoped>\n",
       "    .dataframe tbody tr th:only-of-type {\n",
       "        vertical-align: middle;\n",
       "    }\n",
       "\n",
       "    .dataframe tbody tr th {\n",
       "        vertical-align: top;\n",
       "    }\n",
       "\n",
       "    .dataframe thead th {\n",
       "        text-align: right;\n",
       "    }\n",
       "</style>\n",
       "<table border=\"1\" class=\"dataframe\">\n",
       "  <thead>\n",
       "    <tr style=\"text-align: right;\">\n",
       "      <th></th>\n",
       "      <th>exp</th>\n",
       "      <th>Dice_2_mean</th>\n",
       "      <th>Dice_2_pvalue</th>\n",
       "      <th>Hausdorff95_2_mean</th>\n",
       "      <th>Hausdorff95_2_pvalue</th>\n",
       "      <th>Surface_dice_2_mean</th>\n",
       "      <th>Surface_dice_2_pvalue</th>\n",
       "      <th>Sensitivity_2_mean</th>\n",
       "      <th>Sensitivity_2_pvalue</th>\n",
       "      <th>Specificity_2_mean</th>\n",
       "      <th>Specificity_2_pvalue</th>\n",
       "      <th>Precision_2_mean</th>\n",
       "      <th>Precision_2_pvalue</th>\n",
       "    </tr>\n",
       "  </thead>\n",
       "  <tbody>\n",
       "    <tr>\n",
       "      <th>0</th>\n",
       "      <td>3a_atlas_aug_</td>\n",
       "      <td>0.626</td>\n",
       "      <td>0.0</td>\n",
       "      <td>inf</td>\n",
       "      <td>0.0</td>\n",
       "      <td>0.320</td>\n",
       "      <td>0.0</td>\n",
       "      <td>0.839</td>\n",
       "      <td>0.0</td>\n",
       "      <td>0.996</td>\n",
       "      <td>0.0</td>\n",
       "      <td>0.533</td>\n",
       "      <td>0.0</td>\n",
       "    </tr>\n",
       "    <tr>\n",
       "      <th>1</th>\n",
       "      <td>4a_resamp_aug_</td>\n",
       "      <td>0.685</td>\n",
       "      <td>0.0</td>\n",
       "      <td>inf</td>\n",
       "      <td>0.0</td>\n",
       "      <td>0.397</td>\n",
       "      <td>0.0</td>\n",
       "      <td>0.824</td>\n",
       "      <td>0.0</td>\n",
       "      <td>0.998</td>\n",
       "      <td>0.0</td>\n",
       "      <td>0.630</td>\n",
       "      <td>0.0</td>\n",
       "    </tr>\n",
       "  </tbody>\n",
       "</table>\n",
       "</div>"
      ],
      "text/plain": [
       "              exp  Dice_2_mean  Dice_2_pvalue  Hausdorff95_2_mean  \\\n",
       "0   3a_atlas_aug_        0.626            0.0                 inf   \n",
       "1  4a_resamp_aug_        0.685            0.0                 inf   \n",
       "\n",
       "   Hausdorff95_2_pvalue  Surface_dice_2_mean  Surface_dice_2_pvalue  \\\n",
       "0                   0.0                0.320                    0.0   \n",
       "1                   0.0                0.397                    0.0   \n",
       "\n",
       "   Sensitivity_2_mean  Sensitivity_2_pvalue  Specificity_2_mean  \\\n",
       "0               0.839                   0.0               0.996   \n",
       "1               0.824                   0.0               0.998   \n",
       "\n",
       "   Specificity_2_pvalue  Precision_2_mean  Precision_2_pvalue  \n",
       "0                   0.0             0.533                 0.0  \n",
       "1                   0.0             0.630                 0.0  "
      ]
     },
     "execution_count": 24,
     "metadata": {},
     "output_type": "execute_result"
    }
   ],
   "source": [
    "make_pivot(exp_1 = '3a_atlas_aug_',\n",
    "            exp_2 = '4a_resamp_aug_',\n",
    "            fold_isin = [0,1,2],\n",
    "            columns = columns_2, result_df = result_df)"
   ]
  },
  {
   "cell_type": "markdown",
   "metadata": {},
   "source": [
    "### Import statistics"
   ]
  },
  {
   "cell_type": "code",
   "execution_count": 25,
   "metadata": {},
   "outputs": [],
   "source": [
    "meta = pd.read_csv('metadata_gbm.csv')"
   ]
  },
  {
   "cell_type": "code",
   "execution_count": 26,
   "metadata": {},
   "outputs": [
    {
     "data": {
      "text/plain": [
       "GE MEDICAL SYSTEMS         464\n",
       "SIEMENS                    192\n",
       "Philips Medical Systems    112\n",
       "General Electric             8\n",
       "Name: Manufacturer, dtype: int64"
      ]
     },
     "execution_count": 26,
     "metadata": {},
     "output_type": "execute_result"
    }
   ],
   "source": [
    "meta['Manufacturer'].value_counts()"
   ]
  },
  {
   "cell_type": "code",
   "execution_count": 27,
   "metadata": {},
   "outputs": [
    {
     "data": {
      "text/plain": [
       "39"
      ]
     },
     "execution_count": 27,
     "metadata": {},
     "output_type": "execute_result"
    }
   ],
   "source": [
    "len(meta['Study Description'].value_counts())"
   ]
  },
  {
   "cell_type": "code",
   "execution_count": 28,
   "metadata": {},
   "outputs": [
    {
     "data": {
      "text/plain": [
       "0.004709608803051994"
      ]
     },
     "execution_count": 28,
     "metadata": {},
     "output_type": "execute_result"
    }
   ],
   "source": [
    "t_val, p_val = scipy.stats.wilcoxon(df_1['Dice_1'], df_2['Dice_1'], correction= 8)\n",
    "p_val"
   ]
  },
  {
   "cell_type": "markdown",
   "metadata": {},
   "source": [
    "## Surface DICE stats"
   ]
  },
  {
   "cell_type": "code",
   "execution_count": null,
   "metadata": {},
   "outputs": [],
   "source": [
    "'4a_resamp_fold-0.csv',\n",
    " '2a_interp_fold-0.csv',\n",
    " '4a_resamp_aug_fold-1.csv',\n",
    " '3d_susan_fold-0.csv',\n",
    " '5_ss_fold-2.csv',\n",
    " '3a_atlas_fold-2.csv',\n",
    " '5_ss_mask_native_fold-1.csv',\n",
    " '3b_n4fold-0.csv',\n",
    " '3a_atlas_fold-1.csv',\n",
    " '3c_n4_susan_fold-2.csv',\n",
    " '4a_resamp_fold-1.csv',\n",
    " '5_ss_mask_native_fold-0.csv',\n",
    " '3a_atlas_aug_fold-1.csv',\n",
    " '4a_resamp_aug_fold-0.csv',\n",
    " '6_hist_fold-1.csv',\n",
    " '2a_interp_fold-2.csv',\n",
    " '2a_interpfold-2.csv',\n",
    " '6_hist_fold-2.csv',\n",
    " '5_ss_fold-0.csv',\n",
    " '4a_resamp_aug_fold-2.csv',\n",
    " '3d_susan_fold-1.csv',\n",
    " '2a_interp_fold-1.csv',\n",
    " '4a_resamp_fold-2.csv',\n",
    " '5_ss_fold-1.csv',\n",
    " '3d_susan_fold-2.csv',\n",
    " '3b_n4fold-2.csv',\n",
    " '6_hist_fold-0.csv',\n",
    " '3a_atlas_aug_fold-2.csv',\n",
    " '5_ss_mask_native_fold-2.csv',\n",
    " '3d_susanfold-1.csv',\n",
    " '3c_n4_susan_fold-1.csv',\n",
    " '3d_susanfold-2.csv',\n",
    " '2a_interpfold-1.csv',\n",
    " '3b_n4fold-1.csv',\n",
    " '3a_atlas_fold-0.csv',\n",
    " '2a_interpfold-0.csv',\n",
    " '3c_n4_susan_fold-0.csv',\n",
    " '1_reg_labels.csv',\n",
    " '3a_atlas_aug_fold-0.csv'"
   ]
  },
  {
   "cell_type": "code",
   "execution_count": 30,
   "metadata": {},
   "outputs": [
    {
     "name": "stderr",
     "output_type": "stream",
     "text": [
      "/home/kate/miniconda3/lib/python3.9/site-packages/pandas/core/indexing.py:1732: SettingWithCopyWarning: \n",
      "A value is trying to be set on a copy of a slice from a DataFrame\n",
      "\n",
      "See the caveats in the documentation: https://pandas.pydata.org/pandas-docs/stable/user_guide/indexing.html#returning-a-view-versus-a-copy\n",
      "  self._setitem_single_block(indexer, value, name)\n"
     ]
    },
    {
     "data": {
      "text/html": [
       "<div>\n",
       "<style scoped>\n",
       "    .dataframe tbody tr th:only-of-type {\n",
       "        vertical-align: middle;\n",
       "    }\n",
       "\n",
       "    .dataframe tbody tr th {\n",
       "        vertical-align: top;\n",
       "    }\n",
       "\n",
       "    .dataframe thead th {\n",
       "        text-align: right;\n",
       "    }\n",
       "</style>\n",
       "<table border=\"1\" class=\"dataframe\">\n",
       "  <thead>\n",
       "    <tr style=\"text-align: right;\">\n",
       "      <th></th>\n",
       "      <th>exp</th>\n",
       "      <th>Dice_1_mean</th>\n",
       "      <th>Dice_1_pvalue</th>\n",
       "      <th>Hausdorff95_1_mean</th>\n",
       "      <th>Hausdorff95_1_pvalue</th>\n",
       "      <th>Surface_dice_1_mean</th>\n",
       "      <th>Surface_dice_1_pvalue</th>\n",
       "      <th>Sensitivity_1_mean</th>\n",
       "      <th>Sensitivity_1_pvalue</th>\n",
       "      <th>Specificity_1_mean</th>\n",
       "      <th>Specificity_1_pvalue</th>\n",
       "      <th>Precision_1_mean</th>\n",
       "      <th>Precision_1_pvalue</th>\n",
       "    </tr>\n",
       "  </thead>\n",
       "  <tbody>\n",
       "    <tr>\n",
       "      <th>0</th>\n",
       "      <td>4a_resamp_</td>\n",
       "      <td>0.853</td>\n",
       "      <td>0.019</td>\n",
       "      <td>18.764</td>\n",
       "      <td>0.229</td>\n",
       "      <td>0.655</td>\n",
       "      <td>0.0</td>\n",
       "      <td>0.869</td>\n",
       "      <td>0.0</td>\n",
       "      <td>0.998</td>\n",
       "      <td>0.0</td>\n",
       "      <td>0.856</td>\n",
       "      <td>0.0</td>\n",
       "    </tr>\n",
       "    <tr>\n",
       "      <th>1</th>\n",
       "      <td>2a_interp_</td>\n",
       "      <td>0.859</td>\n",
       "      <td>0.019</td>\n",
       "      <td>15.619</td>\n",
       "      <td>0.229</td>\n",
       "      <td>0.673</td>\n",
       "      <td>0.0</td>\n",
       "      <td>0.858</td>\n",
       "      <td>0.0</td>\n",
       "      <td>0.999</td>\n",
       "      <td>0.0</td>\n",
       "      <td>0.877</td>\n",
       "      <td>0.0</td>\n",
       "    </tr>\n",
       "  </tbody>\n",
       "</table>\n",
       "</div>"
      ],
      "text/plain": [
       "          exp  Dice_1_mean  Dice_1_pvalue  Hausdorff95_1_mean  \\\n",
       "0  4a_resamp_        0.853          0.019              18.764   \n",
       "1  2a_interp_        0.859          0.019              15.619   \n",
       "\n",
       "   Hausdorff95_1_pvalue  Surface_dice_1_mean  Surface_dice_1_pvalue  \\\n",
       "0                 0.229                0.655                    0.0   \n",
       "1                 0.229                0.673                    0.0   \n",
       "\n",
       "   Sensitivity_1_mean  Sensitivity_1_pvalue  Specificity_1_mean  \\\n",
       "0               0.869                   0.0               0.998   \n",
       "1               0.858                   0.0               0.999   \n",
       "\n",
       "   Specificity_1_pvalue  Precision_1_mean  Precision_1_pvalue  \n",
       "0                   0.0             0.856                 0.0  \n",
       "1                   0.0             0.877                 0.0  "
      ]
     },
     "execution_count": 30,
     "metadata": {},
     "output_type": "execute_result"
    }
   ],
   "source": [
    "make_pivot(exp_1 = '3a_atlas_',\n",
    "            exp_2 = '2a_interp_',\n",
    "            fold_isin = [0,1,2],\n",
    "            columns = columns_1, result_df = result_df)"
   ]
  },
  {
   "cell_type": "markdown",
   "metadata": {},
   "source": [
    "### Trying to figure out the plot:"
   ]
  },
  {
   "cell_type": "code",
   "execution_count": 53,
   "metadata": {},
   "outputs": [
    {
     "data": {
      "image/png": "[encoded data removed]",
      "text/plain": [
       "<Figure size 1440x360 with 1 Axes>"
      ]
     },
     "metadata": {
      "needs_background": "light"
     },
     "output_type": "display_data"
    }
   ],
   "source": [
    "# Libraries\n",
    "import numpy as np\n",
    "import matplotlib.pyplot as plt\n",
    "\n",
    "# Make a random dataset:\n",
    "height = [\n",
    "0.429,\n",
    "0.430,\n",
    "0.853,\n",
    "0.859,\n",
    "0.864,\n",
    "0.849,\n",
    "0.865,\n",
    "0.843,\n",
    "0.848,\n",
    "0.876,\n",
    "0.868,\n",
    "0.869]\n",
    "\n",
    "bars = [\n",
    "'metrics_gbm_1_reg_',\n",
    "'metrics_gbm_1_reg_aug_',\n",
    "'4a_resamp_',\n",
    "'2a_interp_',\n",
    "'3a_atlas_',\n",
    "'3b_n4',\n",
    "'3d_susan_',\n",
    "'3c_n4_susan_',\n",
    "'6_hist_',\n",
    "'5_ss_',\n",
    "'3a_atlas_aug_',\n",
    "'4a_resamp_aug_']\n",
    "# y_pos = np.arange(len(bars))\n",
    "\n",
    "y_pos = [-2,-1,1,2,3,5,6,7,8, 10, 12,13]\n",
    "\n",
    "plt.figure(figsize = [20,5])\n",
    "\n",
    "# Create bars\n",
    "plt.bar(y_pos, height)\n",
    "\n",
    "# Create names on the x-axis\n",
    "plt.xticks(y_pos, bars)\n",
    "plt.xticks(rotation=40)\n",
    "\n",
    "# Show graphic\n",
    "plt.show();"
   ]
  },
  {
   "cell_type": "code",
   "execution_count": null,
   "metadata": {},
   "outputs": [],
   "source": []
  }
 ],
 "metadata": {
  "kernelspec": {
   "display_name": "Python 3 (ipykernel)",
   "language": "python",
   "name": "python3"
  },
  "language_info": {
   "codemirror_mode": {
    "name": "ipython",
    "version": 3
   },
   "file_extension": ".py",
   "mimetype": "text/x-python",
   "name": "python",
   "nbconvert_exporter": "python",
   "pygments_lexer": "ipython3",
   "version": "3.9.1"
  }
 },
 "nbformat": 4,
 "nbformat_minor": 4
}
