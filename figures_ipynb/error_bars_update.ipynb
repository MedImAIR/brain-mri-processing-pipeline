{
 "cells": [
  {
   "cell_type": "code",
   "execution_count": 1,
   "id": "0f0f76f8",
   "metadata": {},
   "outputs": [],
   "source": [
    "import matplotlib.pyplot as plt\n",
    "%matplotlib inline\n",
    "import numpy as np\n",
    "import pandas as pd"
   ]
  },
  {
   "cell_type": "code",
   "execution_count": 2,
   "id": "810f9478",
   "metadata": {},
   "outputs": [],
   "source": [
    "df_1_3 = pd.read_excel('/home/polina/DeepLearningExamples/PyTorch/Segmentation/nnUNet/metrics/exp.xlsx', sheet_name='1-3')\n",
    "df_4_bgpd_gbm = pd.read_excel('/home/polina/DeepLearningExamples/PyTorch/Segmentation/nnUNet/metrics/exp.xlsx', sheet_name='4 BGPD -> GBM')\n",
    "df_4_gbm_bgpd = pd.read_excel('/home/polina/DeepLearningExamples/PyTorch/Segmentation/nnUNet/metrics/exp.xlsx', sheet_name='4 GBM -> BGPD')"
   ]
  },
  {
   "cell_type": "code",
   "execution_count": 17,
   "id": "dd603102",
   "metadata": {},
   "outputs": [
    {
     "name": "stderr",
     "output_type": "stream",
     "text": [
      "/tmp/ipykernel_10627/3039216364.py:1: UserWarning: Boolean Series key will be reindexed to match DataFrame index.\n",
      "  df_1_3[df_1_3.Dataset=='gbm'][df_1_3.Epoch==100][df_1_3['Label (WT, ET, TC, GTV)']=='WT'][df_1_3['NN-Architecture (nn-Unet, UNETR)']=='nn_unet'].groupby([ 'Preprocessing step']).Dice.mean()\n"
     ]
    },
    {
     "data": {
      "text/plain": [
       "Preprocessing step\n",
       "gbm_1_reg_train      0.423333\n",
       "gbm_2a_interp        0.830931\n",
       "gbm_3a_atlas         0.836020\n",
       "gbm_4a_resamp_100    0.837206\n",
       "gbm_4b_n4            0.827157\n",
       "gbm_4d_susan         0.837922\n",
       "gbm_5_ss_shared      0.860069\n",
       "gbm_6_hist           0.820549\n",
       "Name: Dice, dtype: float64"
      ]
     },
     "execution_count": 17,
     "metadata": {},
     "output_type": "execute_result"
    }
   ],
   "source": [
    "df_1_3[df_1_3.Dataset=='gbm'][df_1_3.Epoch==100][df_1_3['Label (WT, ET, TC, GTV)']=='WT'][df_1_3['NN-Architecture (nn-Unet, UNETR)']=='nn_unet'].groupby([ 'Preprocessing step']).Dice.mean()"
   ]
  },
  {
   "cell_type": "code",
   "execution_count": 19,
   "id": "2f801552",
   "metadata": {},
   "outputs": [
    {
     "data": {
      "text/plain": [
       "Preprocessing step\n",
       "gbm_1_reg_train_from_bgpd_TL        0.431588\n",
       "gbm_2a_interp_from_bgpd_TL          0.857539\n",
       "gbm_3a_atlas_from_bgpd_TL           0.863745\n",
       "gbm_4a_resamp_from_bgpd_TL          0.855892\n",
       "gbm_4b_n4_from_bgpd_TL_last_bgpd    0.849775\n",
       "gbm_4d_susan_from_bgpd_TL           0.862912\n",
       "gbm_5_ss_shared_from_bgpd_TL        0.866824\n",
       "gbm_6_hist_bgpd_TL                  0.835206\n",
       "Name: Dice, dtype: float64"
      ]
     },
     "execution_count": 19,
     "metadata": {},
     "output_type": "execute_result"
    }
   ],
   "source": [
    "df_4_bgpd_gbm.groupby([ 'Preprocessing step']).mean().Dice"
   ]
  },
  {
   "cell_type": "code",
   "execution_count": 3,
   "id": "4354f8e0",
   "metadata": {},
   "outputs": [
    {
     "name": "stderr",
     "output_type": "stream",
     "text": [
      "/tmp/ipykernel_10627/3712079836.py:1: UserWarning: Boolean Series key will be reindexed to match DataFrame index.\n",
      "  gbm_mean_100_raw = np.round(df_1_3[df_1_3.Dataset=='gbm'][df_1_3.Epoch==100][df_1_3['Label (WT, ET, TC, GTV)']=='WT'][df_1_3['NN-Architecture (nn-Unet, UNETR)']=='nn_unet'].groupby([ 'Preprocessing step']).Dice.mean().values, 2)*100\n",
      "/tmp/ipykernel_10627/3712079836.py:3: UserWarning: Boolean Series key will be reindexed to match DataFrame index.\n",
      "  gbm_mean_300_raw = np.round(df_1_3[df_1_3.Dataset=='gbm'][df_1_3.Epoch==300][df_1_3['Label (WT, ET, TC, GTV)']=='WT'][df_1_3['NN-Architecture (nn-Unet, UNETR)']=='nn_unet'].groupby([ 'Preprocessing step']).Dice.mean().values, 2)*100\n",
      "/tmp/ipykernel_10627/3712079836.py:5: UserWarning: Boolean Series key will be reindexed to match DataFrame index.\n",
      "  gbm_std_100_raw = np.round(df_1_3[df_1_3.Dataset=='gbm'][df_1_3.Epoch==100][df_1_3['Label (WT, ET, TC, GTV)']=='WT'][df_1_3['NN-Architecture (nn-Unet, UNETR)']=='nn_unet'].groupby([ 'Preprocessing step']).Dice.std().values, 2)*100\n",
      "/tmp/ipykernel_10627/3712079836.py:7: UserWarning: Boolean Series key will be reindexed to match DataFrame index.\n",
      "  gbm_std_300_raw = np.round(df_1_3[df_1_3.Dataset=='gbm'][df_1_3.Epoch==300][df_1_3['Label (WT, ET, TC, GTV)']=='WT'][df_1_3['NN-Architecture (nn-Unet, UNETR)']=='nn_unet'].groupby([ 'Preprocessing step']).Dice.std().values, 2)*100\n"
     ]
    }
   ],
   "source": [
    "gbm_mean_100_raw = np.round(df_1_3[df_1_3.Dataset=='gbm'][df_1_3.Epoch==100][df_1_3['Label (WT, ET, TC, GTV)']=='WT'][df_1_3['NN-Architecture (nn-Unet, UNETR)']=='nn_unet'].groupby([ 'Preprocessing step']).Dice.mean().values, 2)*100\n",
    "\n",
    "gbm_mean_300_raw = np.round(df_1_3[df_1_3.Dataset=='gbm'][df_1_3.Epoch==300][df_1_3['Label (WT, ET, TC, GTV)']=='WT'][df_1_3['NN-Architecture (nn-Unet, UNETR)']=='nn_unet'].groupby([ 'Preprocessing step']).Dice.mean().values, 2)*100\n",
    "\n",
    "gbm_std_100_raw = np.round(df_1_3[df_1_3.Dataset=='gbm'][df_1_3.Epoch==100][df_1_3['Label (WT, ET, TC, GTV)']=='WT'][df_1_3['NN-Architecture (nn-Unet, UNETR)']=='nn_unet'].groupby([ 'Preprocessing step']).Dice.std().values, 2)*100\n",
    "\n",
    "gbm_std_300_raw = np.round(df_1_3[df_1_3.Dataset=='gbm'][df_1_3.Epoch==300][df_1_3['Label (WT, ET, TC, GTV)']=='WT'][df_1_3['NN-Architecture (nn-Unet, UNETR)']=='nn_unet'].groupby([ 'Preprocessing step']).Dice.std().values, 2)*100\n",
    "\n",
    "bgpd_gbm_mean_raw = np.round(df_4_bgpd_gbm.groupby([ 'Preprocessing step']).mean().Dice.values, 2)*100\n",
    "\n",
    "bgpd_gbm_std_raw = np.round(df_4_bgpd_gbm.groupby([ 'Preprocessing step']).std().Dice.values, 2)*100\n",
    "\n",
    "mean_transfer_raw=  bgpd_gbm_mean_raw - gbm_mean_100_raw\n",
    "\n",
    "std_transfer_raw=  bgpd_gbm_std_raw - gbm_std_100_raw "
   ]
  },
  {
   "cell_type": "code",
   "execution_count": 15,
   "id": "8f30a411",
   "metadata": {},
   "outputs": [
    {
     "data": {
      "text/plain": [
       "array([1., 3., 2., 2., 2., 2., 1., 2.])"
      ]
     },
     "execution_count": 15,
     "metadata": {},
     "output_type": "execute_result"
    }
   ],
   "source": [
    "mean_transfer_raw"
   ]
  },
  {
   "cell_type": "code",
   "execution_count": 16,
   "id": "716d1812",
   "metadata": {},
   "outputs": [
    {
     "data": {
      "text/plain": [
       "array([ 0., -3., -2., -2., -2., -2.,  0.,  0.])"
      ]
     },
     "execution_count": 16,
     "metadata": {},
     "output_type": "execute_result"
    }
   ],
   "source": [
    "std_transfer_raw"
   ]
  },
  {
   "cell_type": "code",
   "execution_count": 20,
   "id": "eed0c02c",
   "metadata": {},
   "outputs": [],
   "source": [
    "mean_100 = np.array([42, 83, 84, 84, 83, 84, 82, 86])\n",
    "std_100 =  np.array([27, 13, 12, 13, 13, 12, 16, 11])\n",
    "\n",
    "mean_transfer = np.array([1, 3, 2, 2, 2, 2, 2, 1])\n",
    "std_transfer = np.array([0,-3, -2, -2, -2, -2, 0, 0])\n",
    "\n",
    "mean_transfer = mean_100 + mean_transfer\n",
    "std_transfer = std_100 + std_transfer\n",
    "\n",
    "mean_300 = np.array([44, 85, 85, 85, 82, 84, 83, 87])\n",
    "std_300 =  np.array([28, 11, 11, 12, 13, 12, 16, 11])\n",
    "\n",
    "y = np.array([1,2,3,4,5,6,7,8])*5\n",
    "\n",
    "ylabel = ['1. Inter-modality\\nregistration', '2. Resampling to \\nimage size',\n",
    "         '3. Atlas \\nregistration', '4. Resampling to \\nspacing', '4.a Bias field \\ncorrection',\n",
    "         '4.b Denoising', '4.c Histogram \\n matching', '4.d Skull \\nstripping',]"
   ]
  },
  {
   "cell_type": "code",
   "execution_count": 21,
   "id": "15d6d8cb",
   "metadata": {},
   "outputs": [],
   "source": [
    "def plot_err_bar(x, y, error, c, label):\n",
    "    plt.scatter(x, y, c=c, s=20, label=label)\n",
    "    for _x, _y, err in zip(x,y,error):\n",
    "        plt.plot([_x-err/2, _x+err/2], [_y, _y], c=c, alpha=0.5)"
   ]
  },
  {
   "cell_type": "code",
   "execution_count": 24,
   "id": "03dee443",
   "metadata": {},
   "outputs": [
    {
     "data": {
      "image/png": "[encoded data removed]",
      "text/plain": [
       "<Figure size 576x720 with 1 Axes>"
      ]
     },
     "metadata": {
      "needs_background": "light"
     },
     "output_type": "display_data"
    }
   ],
   "source": [
    "font = {'size'   : 14}\n",
    "plt.rc('font', **font)\n",
    "\n",
    "\n",
    "plt.figure(figsize=(8,10))\n",
    "plot_err_bar(mean_100, y+0.35, std_100, c='tab:blue', label='100 epochs')\n",
    "plot_err_bar(mean_300, y, std_300, c='tab:green', label='300 epochs')\n",
    "plot_err_bar(mean_transfer, y-0.35, std_transfer, c='tab:red', label='From pretrained')\n",
    "plt.yticks(ticks = y[1:], labels=ylabel[1:])\n",
    "plt.xlim(70, 95)\n",
    "plt.xlabel('Dice score * 100')\n",
    "ax = plt.gca()\n",
    "# Hide the right and top spines\n",
    "ax.spines['right'].set_visible(False)\n",
    "ax.spines['top'].set_visible(False)\n",
    "ax.spines['left'].set_visible(False)\n",
    "\n",
    "ax.tick_params(axis=u'y', which=u'both',length=0)\n",
    "plt.plot([86, 86], [7,42], ls='--', alpha=0.2)\n",
    "\n",
    "plt.legend(loc=3);\n",
    "plt.tight_layout()\n",
    "\n",
    "plt.savefig('/home/polina/DeepLearningExamples/PyTorch/Segmentation/nnUNet/metrics/error_bars.png')\n",
    "# First, traning for 300 epochs until convergence is always better than training for 100 epochs.\n",
    "# Second, training until convergence from pre-trained weights from a larger dataset is always beneficial,\n",
    "# and result both in better mean Dice score and lower standard deviation.\n",
    "# Third, experiment with skull stripping is the only one statistically significantly better than the baseline experiment \n",
    "# (Resampling to spacing 1x1x1 mm), though it benefits from pretraining less than any other setups.\n",
    "# Finally, we observe that with training from a pretrained state the differences between the setup\n",
    "# with and without skull stripping are washed away."
   ]
  },
  {
   "cell_type": "markdown",
   "id": "298d5c24",
   "metadata": {},
   "source": [
    "BGPD"
   ]
  },
  {
   "cell_type": "code",
   "execution_count": 42,
   "id": "120813af",
   "metadata": {},
   "outputs": [
    {
     "name": "stderr",
     "output_type": "stream",
     "text": [
      "/tmp/ipykernel_10627/1095442191.py:1: UserWarning: Boolean Series key will be reindexed to match DataFrame index.\n",
      "  df_1_3[df_1_3.Dataset=='bgpd'][df_1_3.Epoch==100][df_1_3['NN-Architecture (nn-Unet, UNETR)']== 'nn_unet'].groupby([ 'Preprocessing step']).Dice.mean().round(2)*100\n"
     ]
    },
    {
     "data": {
      "text/plain": [
       "Preprocessing step\n",
       "bgpd_1_reg          34.0\n",
       "bgpd_2a_interp      71.0\n",
       "bgpd_3a_atlas       72.0\n",
       "bgpd_4a_resamp      72.0\n",
       "bgpd_4b_n4_last     72.0\n",
       "bgpd_4d_susan       71.0\n",
       "bgpd_5_ss_shared    76.0\n",
       "bgpd_6_hist         72.0\n",
       "Name: Dice, dtype: float64"
      ]
     },
     "execution_count": 42,
     "metadata": {},
     "output_type": "execute_result"
    }
   ],
   "source": [
    "df_1_3[df_1_3.Dataset=='bgpd'][df_1_3.Epoch==100][df_1_3['NN-Architecture (nn-Unet, UNETR)']== 'nn_unet'].groupby([ 'Preprocessing step']).Dice.mean().round(2)*100"
   ]
  },
  {
   "cell_type": "code",
   "execution_count": 43,
   "id": "e5601441",
   "metadata": {},
   "outputs": [
    {
     "name": "stderr",
     "output_type": "stream",
     "text": [
      "/tmp/ipykernel_10627/873381767.py:1: UserWarning: Boolean Series key will be reindexed to match DataFrame index.\n",
      "  df_1_3[df_1_3.Dataset=='bgpd'][df_1_3.Epoch==100][df_1_3['NN-Architecture (nn-Unet, UNETR)']== 'nn_unet'].groupby([ 'Preprocessing step']).Dice.std().round(2)*100\n"
     ]
    },
    {
     "data": {
      "text/plain": [
       "Preprocessing step\n",
       "bgpd_1_reg          28.0\n",
       "bgpd_2a_interp      18.0\n",
       "bgpd_3a_atlas       19.0\n",
       "bgpd_4a_resamp      18.0\n",
       "bgpd_4b_n4_last     17.0\n",
       "bgpd_4d_susan       19.0\n",
       "bgpd_5_ss_shared    15.0\n",
       "bgpd_6_hist         16.0\n",
       "Name: Dice, dtype: float64"
      ]
     },
     "execution_count": 43,
     "metadata": {},
     "output_type": "execute_result"
    }
   ],
   "source": [
    "df_1_3[df_1_3.Dataset=='bgpd'][df_1_3.Epoch==100][df_1_3['NN-Architecture (nn-Unet, UNETR)']== 'nn_unet'].groupby([ 'Preprocessing step']).Dice.std().round(2)*100"
   ]
  },
  {
   "cell_type": "code",
   "execution_count": 48,
   "id": "3f9d8f02",
   "metadata": {},
   "outputs": [
    {
     "name": "stderr",
     "output_type": "stream",
     "text": [
      "/tmp/ipykernel_10627/757254603.py:2: UserWarning: Boolean Series key will be reindexed to match DataFrame index.\n",
      "  bgpd_mean = df_1_3[df_1_3.Dataset=='bgpd'][df_1_3.Epoch==100].groupby([ 'Preprocessing step']).Dice.mean()\n"
     ]
    }
   ],
   "source": [
    "tl_bgpd_mean = df_4_gbm_bgpd.groupby([ 'Preprocessing step']).Dice.mean().values\n",
    "bgpd_mean = df_1_3[df_1_3.Dataset=='bgpd'][df_1_3.Epoch==100].groupby([ 'Preprocessing step']).Dice.mean()"
   ]
  },
  {
   "cell_type": "code",
   "execution_count": 41,
   "id": "7fa630b4",
   "metadata": {},
   "outputs": [
    {
     "data": {
      "text/plain": [
       "array([ 2.,  3.,  2., -0.,  1.,  2., -1.,  2.])"
      ]
     },
     "execution_count": 41,
     "metadata": {},
     "output_type": "execute_result"
    }
   ],
   "source": [
    "(tl_bgpd_mean - bgpd_mean).round(2)*100"
   ]
  },
  {
   "cell_type": "code",
   "execution_count": 38,
   "id": "82f6b3f3",
   "metadata": {},
   "outputs": [],
   "source": [
    "mean_100 = np.array([34, 71, 72, 72, 72, 71, 72, 76])\n",
    "std_100 =  np.array([28, 18, 19, 18, 17, 19, 16, 15])\n",
    "\n",
    "mean_transfer = np.array([2, 3, 2, 0, 1, 2, 2, -1])\n",
    "std_transfer = np.array([1, 1, -2, 1, 1, 0, 0, 1])\n",
    "\n",
    "mean_transfer = mean_100 + mean_transfer\n",
    "std_transfer = std_100 + std_transfer\n",
    "\n",
    "\n",
    "mean_300 = np.array([36, 73, 75, 74, 75, 74, 75, 76])\n",
    "std_300 =  np.array([29, 19, 16, 18, 17, 17, 16, 14])\n",
    "\n",
    "y = np.array([1,2,3,4,5,6,7,8])*5\n",
    "\n",
    "ylabel = ['1. Inter-modality\\nregistration', '2. Resampling to \\nimage size',\n",
    "         '3. Atlas \\nregistration', '4. Resampling to \\nspacing', '4.a Bias field \\ncorrection',\n",
    "         '4.b Denoising', '4.c Histogram \\n matching', '4.d Skull \\nstripping']"
   ]
  },
  {
   "cell_type": "code",
   "execution_count": 50,
   "id": "821100ad",
   "metadata": {},
   "outputs": [
    {
     "data": {
      "image/png": "[encoded data removed]",
      "text/plain": [
       "<Figure size 576x720 with 1 Axes>"
      ]
     },
     "metadata": {
      "needs_background": "light"
     },
     "output_type": "display_data"
    }
   ],
   "source": [
    "font = {'size'   : 14}\n",
    "plt.rc('font', **font)\n",
    "\n",
    "\n",
    "plt.figure(figsize=(8,10))\n",
    "plot_err_bar(mean_100, y+0.35, std_100, c='tab:blue', label='100 epochs')\n",
    "plot_err_bar(mean_300, y, std_300, c='tab:green', label='300 epochs')\n",
    "plot_err_bar(mean_transfer, y-0.35, std_transfer, c='tab:red', label='From pretrained')\n",
    "plt.yticks(ticks = y[1:], labels=ylabel[1:])\n",
    "plt.xlim(60, 85)\n",
    "plt.xlabel('Dice score * 100')\n",
    "ax = plt.gca()\n",
    "# Hide the right and top spines\n",
    "ax.spines['right'].set_visible(False)\n",
    "ax.spines['top'].set_visible(False)\n",
    "ax.spines['left'].set_visible(False)\n",
    "\n",
    "ax.tick_params(axis=u'y', which=u'both',length=0)\n",
    "plt.plot([73, 73], [7,42], ls='--', alpha=0.2)\n",
    "\n",
    "plt.legend(loc=3);\n",
    "plt.tight_layout()\n",
    "\n",
    "plt.savefig('/home/polina/DeepLearningExamples/PyTorch/Segmentation/nnUNet/metrics/error_bars_bgpd.png')\n",
    "\n",
    "# First, traning for 300 epochs until convergence is always better than training for 100 epochs.\n",
    "# Second, training until convergence from pre-trained weights from a smaller dataset, while not necessarily\n",
    "# result in better mean Dice score, always decreses prediction standard deviation.\n",
    "# Third, experiment with skull stripping is the only one statistically significantly better than the baseline experiment \n",
    "# (Resampling to spacing 1x1x1 mm), though it benefits from pretraining less than any other setups.\n",
    "# Finally, we observe that with training from a pretrained state the differences between the setup\n",
    "# with and without skull stripping are washed away."
   ]
  },
  {
   "cell_type": "code",
   "execution_count": null,
   "id": "ddcd9dcb",
   "metadata": {},
   "outputs": [],
   "source": []
  }
 ],
 "metadata": {
  "kernelspec": {
   "display_name": "Python 3 (ipykernel)",
   "language": "python",
   "name": "python3"
  },
  "language_info": {
   "codemirror_mode": {
    "name": "ipython",
    "version": 3
   },
   "file_extension": ".py",
   "mimetype": "text/x-python",
   "name": "python",
   "nbconvert_exporter": "python",
   "pygments_lexer": "ipython3",
   "version": "3.8.12"
  }
 },
 "nbformat": 4,
 "nbformat_minor": 5
}
