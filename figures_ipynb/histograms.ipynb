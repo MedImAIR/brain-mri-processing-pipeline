{
 "cells": [
  {
   "cell_type": "code",
   "execution_count": 1,
   "id": "f91f8ade",
   "metadata": {},
   "outputs": [],
   "source": [
    "import numpy as np\n",
    "import nibabel\n",
    "from pathlib import Path\n",
    "from tqdm import tqdm\n",
    "import matplotlib.pyplot as plt\n",
    "import pickle"
   ]
  },
  {
   "cell_type": "code",
   "execution_count": 2,
   "id": "829d682d",
   "metadata": {},
   "outputs": [],
   "source": [
    "root = Path('/anvar/public_datasets/preproc_study/bgpd/')"
   ]
  },
  {
   "cell_type": "code",
   "execution_count": 35,
   "id": "197c345c",
   "metadata": {},
   "outputs": [],
   "source": [
    "def get_pixel_arrays(root, folder):\n",
    "    img = dict()\n",
    "\n",
    "#     img['BRAIN'] = nibabel.load(root / '5_ss_shared' / folder.name / 'FLAIR_mask.nii.gz').get_fdata() # BGPD\n",
    "#     for modality in ['CT1', 'FLAIR', 'T1', 'T2', 'mask_GTV_FLAIR']: # BGPD\n",
    "    img['BRAIN'] = nibabel.load(root / '5_ss_shared' / folder.name / 'CT1_mask.nii.gz').get_fdata() # GBM\n",
    "    for modality in ['CT1', 'FLAIR', 'T1', 'T2', 'CT1_SEG']: # GBM\n",
    "        img[modality] = nibabel.load(folder / f'{modality}.nii.gz').get_fdata()\n",
    "\n",
    "    img_healthy = dict()\n",
    "    img_tumour = dict()\n",
    "    for modality in ['CT1', 'FLAIR', 'T1', 'T2']:\n",
    "        img_healthy[modality] = img[modality][img['BRAIN'].astype(bool)^img['CT1_SEG'].astype(bool)]\n",
    "        img_tumour[modality] = img[modality][img['CT1_SEG'].astype(bool)]\n",
    "\n",
    "    return img_healthy, img_tumour"
   ]
  },
  {
   "cell_type": "code",
   "execution_count": 82,
   "id": "49b5e462",
   "metadata": {},
   "outputs": [],
   "source": [
    "def get_iqr(x):\n",
    "    return np.percentile(x, 75) - np.percentile(x, 25)\n",
    "\n",
    "def get_n_bins_freedman_diaconis(x):\n",
    "    n = len(x)\n",
    "    iqr = get_iqr(x)\n",
    "    h = 2 * iqr / np.power(n, 1/3)\n",
    "    return int(np.ceil((np.max(x) - np.min(x)) / h))\n",
    "\n",
    "def compute_histograms(x, y, n=100):\n",
    "    size, bins = np.histogram(list(x)+list(y), n)\n",
    "    x_h, _ = np.histogram(x, bins=bins)\n",
    "    y_h, _ = np.histogram(y, bins=bins)\n",
    "    \n",
    "    return {\n",
    "        'bins': bins,\n",
    "        'healthy_h': x_h,\n",
    "        'tumour_h': y_h\n",
    "    }\n",
    "\n",
    "def save_hist(x, y, dst_folder, patient, modality):\n",
    "    dst_root = dst_folder / patient\n",
    "    if not dst_root.exists():\n",
    "        dst_root.mkdir(parents=True)\n",
    "\n",
    "    # 100\n",
    "    histogram_data = compute_histograms(x, y, 100)\n",
    "    with open(dst_root / f'{modality}_bins_100.pkl', 'wb') as f:\n",
    "        pickle.dump(histogram_data, f)\n",
    "    \n",
    "    # Freedman–Diaconis rule\n",
    "    n = get_n_bins_freedman_diaconis(list(x)+list(y))\n",
    "    histogram_data = compute_histograms(x, y, n)\n",
    "    with open(dst_root / f'{modality}_bins_freedman_diaconis.pkl', 'wb') as f:\n",
    "        pickle.dump(histogram_data, f)\n",
    "    \n",
    "    # Sturges' formula\n",
    "    n = int(np.ceil(np.log2(len(list(x)+list(y)))))+1\n",
    "    histogram_data = compute_histograms(x, y, n)\n",
    "    with open(dst_root / f'{modality}_bins_sturges.pkl', 'wb') as f:\n",
    "        pickle.dump(histogram_data, f)\n",
    "    \n",
    "def compute_kl(x_h, y_h):\n",
    "\n",
    "    x = x_h/x_h.sum()\n",
    "    y = y_h/y_h.sum()\n",
    "    \n",
    "    x = np.clip(x, 10e-9, 1)\n",
    "    y = np.clip(y, 10e-9, 1)\n",
    "            \n",
    "    return (x*np.log2(x/y)).sum(), x, y\n",
    "\n",
    "def compute_l2(x_h, y_h):\n",
    "    x = x_h/x_h.sum()\n",
    "    y = y_h/y_h.sum()\n",
    "    \n",
    "    return np.sqrt(((x-y)**2).sum())\n",
    "\n",
    "def compute_hellinger(x_h, y_h):\n",
    "    x = x_h/x_h.sum()\n",
    "    y = y_h/y_h.sum()\n",
    "    return 1 / np.sqrt(2) * np.sqrt(((np.sqrt(x)-np.sqrt(y))**2).sum())"
   ]
  },
  {
   "cell_type": "markdown",
   "id": "bcdb31f8",
   "metadata": {},
   "source": [
    "# Save histograms BGPD"
   ]
  },
  {
   "cell_type": "code",
   "execution_count": 5,
   "id": "47f0c2f3",
   "metadata": {},
   "outputs": [
    {
     "name": "stderr",
     "output_type": "stream",
     "text": [
      "180it [21:44,  7.25s/it]\n",
      "180it [24:14,  8.08s/it]\n",
      "180it [20:30,  6.84s/it]\n",
      "180it [21:17,  7.10s/it]\n"
     ]
    }
   ],
   "source": [
    "for folder in [\n",
    "    root / '4a_resamp',\n",
    "    root / '4b_n4', \n",
    "    root / '4d_susan', \n",
    "    root / '6_hist' / '6_hist_fold_0']:\n",
    "    for patient in tqdm(folder.glob('*')):\n",
    "        healthy, tumour = get_pixel_arrays(root, patient)\n",
    "        for modality in ['CT1', 'FLAIR', 'T1', 'T2']:\n",
    "            save_hist(\n",
    "                healthy[modality],\n",
    "                tumour[modality],\n",
    "                Path('/anvar/public_datasets/preproc_study/histograms/bgpd/') / folder.name,\n",
    "                patient.name,\n",
    "                modality\n",
    "            )"
   ]
  },
  {
   "cell_type": "markdown",
   "id": "ea4dc6b2",
   "metadata": {},
   "source": [
    "# Save histograms GBM"
   ]
  },
  {
   "cell_type": "code",
   "execution_count": 36,
   "id": "e80324c2",
   "metadata": {},
   "outputs": [],
   "source": [
    "root = Path('/anvar/public_datasets/preproc_study/gbm/')"
   ]
  },
  {
   "cell_type": "code",
   "execution_count": 37,
   "id": "eec7e7b4",
   "metadata": {},
   "outputs": [
    {
     "name": "stderr",
     "output_type": "stream",
     "text": [
      "102it [11:43,  6.90s/it]\n",
      "102it [13:30,  7.95s/it]\n",
      "102it [11:21,  6.68s/it]\n",
      "102it [12:49,  7.54s/it]\n"
     ]
    }
   ],
   "source": [
    "for folder in [\n",
    "    root / '4a_resamp',\n",
    "    root / '4b_n4', \n",
    "    root / '4d_susan', \n",
    "    root / '6_hist' / '6_hist_fold_0']:\n",
    "    for patient in tqdm(folder.glob('*')):\n",
    "        healthy, tumour = get_pixel_arrays(root, patient)\n",
    "        for modality in ['CT1', 'FLAIR', 'T1', 'T2']:\n",
    "            save_hist(\n",
    "                healthy[modality],\n",
    "                tumour[modality],\n",
    "                Path('/anvar/public_datasets/preproc_study/histograms/gbm/') / folder.name,\n",
    "                patient.name,\n",
    "                modality\n",
    "            )"
   ]
  },
  {
   "cell_type": "code",
   "execution_count": null,
   "id": "b2c38d3b",
   "metadata": {},
   "outputs": [],
   "source": []
  },
  {
   "cell_type": "markdown",
   "id": "29dd400b",
   "metadata": {},
   "source": [
    "# Save histograms LGG"
   ]
  },
  {
   "cell_type": "code",
   "execution_count": 40,
   "id": "7166ef1d",
   "metadata": {},
   "outputs": [],
   "source": [
    "root = Path('/anvar/public_datasets/preproc_study/lgg/')"
   ]
  },
  {
   "cell_type": "code",
   "execution_count": 41,
   "id": "8f605cfc",
   "metadata": {},
   "outputs": [
    {
     "name": "stderr",
     "output_type": "stream",
     "text": [
      "38it [04:15,  6.71s/it]\n",
      "38it [05:19,  8.41s/it]\n",
      "38it [04:11,  6.62s/it]\n",
      "38it [04:44,  7.50s/it]\n"
     ]
    }
   ],
   "source": [
    "for folder in [\n",
    "    root / '4a_resamp',\n",
    "    root / '4b_n4', \n",
    "    root / '4d_susan', \n",
    "    root / '6_hist' / '6_hist_fold_0']:\n",
    "    for patient in tqdm(folder.glob('*')):\n",
    "        healthy, tumour = get_pixel_arrays(root, patient)\n",
    "        for modality in ['CT1', 'FLAIR', 'T1', 'T2']:\n",
    "            save_hist(\n",
    "                healthy[modality],\n",
    "                tumour[modality],\n",
    "                Path('/anvar/public_datasets/preproc_study/histograms/lgg/') / folder.name,\n",
    "                patient.name,\n",
    "                modality\n",
    "            )"
   ]
  },
  {
   "cell_type": "code",
   "execution_count": null,
   "id": "7f33fc54",
   "metadata": {},
   "outputs": [],
   "source": []
  },
  {
   "cell_type": "markdown",
   "id": "dfc030a0",
   "metadata": {},
   "source": [
    "# Compute distances BGPD, LGG, GBM"
   ]
  },
  {
   "cell_type": "code",
   "execution_count": 57,
   "id": "9feb275e",
   "metadata": {},
   "outputs": [],
   "source": [
    "import pandas as pd"
   ]
  },
  {
   "cell_type": "code",
   "execution_count": 85,
   "id": "4890af3b",
   "metadata": {},
   "outputs": [
    {
     "name": "stderr",
     "output_type": "stream",
     "text": [
      "180it [00:00, 420.80it/s]\n",
      "180it [00:00, 424.30it/s]\n",
      "180it [00:00, 435.61it/s]\n",
      "180it [00:00, 423.55it/s]\n"
     ]
    }
   ],
   "source": [
    "root = Path('/anvar/public_datasets/preproc_study/histograms/bgpd')\n",
    "dfs = []\n",
    "for experiment in root.glob('*'):\n",
    "    df = pd.DataFrame()\n",
    "    exps = []\n",
    "    kl_distances = []\n",
    "    js_distances = []\n",
    "    patients = []\n",
    "    modalities = []\n",
    "    bins_list = []\n",
    "    l2_dist = []\n",
    "    hellinger_dist = []\n",
    "    for patient in tqdm(experiment.glob('*')):\n",
    "        for bins in ['100', 'freedman_diaconis', 'sturges']:\n",
    "            for modality in ['CT1', 'FLAIR', 'T1', 'T2']:\n",
    "                with open(patient / f'{modality}_bins_{bins}.pkl', 'rb') as f:\n",
    "                    histograms = pickle.load(f)\n",
    "                    healthy_h = histograms['healthy_h']\n",
    "                    tumour_h = histograms['tumour_h']\n",
    "                    d, _, _ = compute_kl(healthy_h, tumour_h)\n",
    "                    d2, _, _ = compute_kl(tumour_h, healthy_h)\n",
    "                    l2 = compute_l2(healthy_h, tumour_h)\n",
    "                    hd = compute_hellinger(healthy_h, tumour_h) \n",
    "                    \n",
    "                    exps.append(experiment.name)\n",
    "                    kl_distances.append(d)\n",
    "                    js_distances.append(np.sqrt((d+d2)/2))\n",
    "                    patients.append(patient.name)\n",
    "                    modalities.append(modality)\n",
    "                    bins_list.append(bins)\n",
    "                    l2_dist.append(l2)\n",
    "                    hellinger_dist.append(hd)\n",
    "    df['exp_name'] = exps\n",
    "    df['KL'] = kl_distances\n",
    "    df['JS'] = js_distances\n",
    "    df['L2'] = l2_dist\n",
    "    df['Hellinger'] = hellinger_dist\n",
    "    df['patient_name'] = patients\n",
    "    df['modality'] = modalities\n",
    "    df['bins_choice'] = bins_list\n",
    "    dfs.append(df)\n",
    "df = pd.concat(dfs)\n",
    "df.to_csv('~/hist_stats_bgpd.csv')"
   ]
  },
  {
   "cell_type": "code",
   "execution_count": 86,
   "id": "2913fe45",
   "metadata": {},
   "outputs": [
    {
     "name": "stderr",
     "output_type": "stream",
     "text": [
      "38it [00:00, 424.92it/s]\n",
      "38it [00:00, 426.61it/s]\n",
      "38it [00:00, 433.35it/s]\n",
      "38it [00:00, 422.04it/s]\n"
     ]
    }
   ],
   "source": [
    "root = Path('/anvar/public_datasets/preproc_study/histograms/lgg')\n",
    "dfs = []\n",
    "for experiment in root.glob('*'):\n",
    "    df = pd.DataFrame()\n",
    "    exps = []\n",
    "    kl_distances = []\n",
    "    js_distances = []\n",
    "    patients = []\n",
    "    modalities = []\n",
    "    bins_list = []\n",
    "    l2_dist = []\n",
    "    hellinger_dist = []\n",
    "    for patient in tqdm(experiment.glob('*')):\n",
    "        for bins in ['100', 'freedman_diaconis', 'sturges']:\n",
    "            for modality in ['CT1', 'FLAIR', 'T1', 'T2']:\n",
    "                with open(patient / f'{modality}_bins_{bins}.pkl', 'rb') as f:\n",
    "                    histograms = pickle.load(f)\n",
    "                    healthy_h = histograms['healthy_h']\n",
    "                    tumour_h = histograms['tumour_h']\n",
    "                    d, _, _ = compute_kl(healthy_h, tumour_h)\n",
    "                    d2, _, _ = compute_kl(tumour_h, healthy_h)\n",
    "                    l2 = compute_l2(healthy_h, tumour_h)\n",
    "                    hd = compute_hellinger(healthy_h, tumour_h) \n",
    "                    \n",
    "                    exps.append(experiment.name)\n",
    "                    kl_distances.append(d)\n",
    "                    js_distances.append(np.sqrt((d+d2)/2))\n",
    "                    patients.append(patient.name)\n",
    "                    modalities.append(modality)\n",
    "                    bins_list.append(bins)\n",
    "                    l2_dist.append(l2)\n",
    "                    hellinger_dist.append(hd)\n",
    "    df['exp_name'] = exps\n",
    "    df['KL'] = kl_distances\n",
    "    df['JS'] = js_distances\n",
    "    df['L2'] = l2_dist\n",
    "    df['Hellinger'] = hellinger_dist\n",
    "    df['patient_name'] = patients\n",
    "    df['modality'] = modalities\n",
    "    df['bins_choice'] = bins_list\n",
    "    dfs.append(df)\n",
    "df = pd.concat(dfs)\n",
    "df.to_csv('~/hist_stats_lgg.csv')"
   ]
  },
  {
   "cell_type": "code",
   "execution_count": 87,
   "id": "b3f50f79",
   "metadata": {},
   "outputs": [
    {
     "name": "stderr",
     "output_type": "stream",
     "text": [
      "102it [00:00, 421.18it/s]\n",
      "102it [00:00, 418.01it/s]\n",
      "102it [00:00, 436.48it/s]\n",
      "102it [00:00, 416.30it/s]\n"
     ]
    }
   ],
   "source": [
    "root = Path('/anvar/public_datasets/preproc_study/histograms/gbm')\n",
    "dfs = []\n",
    "for experiment in root.glob('*'):\n",
    "    df = pd.DataFrame()\n",
    "    exps = []\n",
    "    kl_distances = []\n",
    "    js_distances = []\n",
    "    patients = []\n",
    "    modalities = []\n",
    "    bins_list = []\n",
    "    l2_dist = []\n",
    "    hellinger_dist = []\n",
    "    for patient in tqdm(experiment.glob('*')):\n",
    "        for bins in ['100', 'freedman_diaconis', 'sturges']:\n",
    "            for modality in ['CT1', 'FLAIR', 'T1', 'T2']:\n",
    "                with open(patient / f'{modality}_bins_{bins}.pkl', 'rb') as f:\n",
    "                    histograms = pickle.load(f)\n",
    "                    healthy_h = histograms['healthy_h']\n",
    "                    tumour_h = histograms['tumour_h']\n",
    "                    d, _, _ = compute_kl(healthy_h, tumour_h)\n",
    "                    d2, _, _ = compute_kl(tumour_h, healthy_h)\n",
    "                    l2 = compute_l2(healthy_h, tumour_h)\n",
    "                    hd = compute_hellinger(healthy_h, tumour_h) \n",
    "                    \n",
    "                    exps.append(experiment.name)\n",
    "                    kl_distances.append(d)\n",
    "                    js_distances.append(np.sqrt((d+d2)/2))\n",
    "                    patients.append(patient.name)\n",
    "                    modalities.append(modality)\n",
    "                    bins_list.append(bins)\n",
    "                    l2_dist.append(l2)\n",
    "                    hellinger_dist.append(hd)\n",
    "    df['exp_name'] = exps\n",
    "    df['KL'] = kl_distances\n",
    "    df['JS'] = js_distances\n",
    "    df['L2'] = l2_dist\n",
    "    df['Hellinger'] = hellinger_dist\n",
    "    df['patient_name'] = patients\n",
    "    df['modality'] = modalities\n",
    "    df['bins_choice'] = bins_list\n",
    "    dfs.append(df)\n",
    "df = pd.concat(dfs)\n",
    "df.to_csv('~/hist_stats_gbm.csv')"
   ]
  },
  {
   "cell_type": "code",
   "execution_count": null,
   "id": "3cd068b5",
   "metadata": {},
   "outputs": [],
   "source": []
  },
  {
   "cell_type": "code",
   "execution_count": 88,
   "id": "3e9c6fd2",
   "metadata": {},
   "outputs": [],
   "source": [
    "df_gbm = pd.read_csv('~/hist_stats_gbm.csv', index_col=0)\n",
    "df_bgpd = pd.read_csv('~/hist_stats_bgpd.csv', index_col=0)\n",
    "df_lgg = pd.read_csv('~/hist_stats_lgg.csv', index_col=0)"
   ]
  },
  {
   "cell_type": "markdown",
   "id": "d2756b80",
   "metadata": {},
   "source": [
    "## KL"
   ]
  },
  {
   "cell_type": "code",
   "execution_count": 89,
   "id": "1dc853ec",
   "metadata": {},
   "outputs": [],
   "source": [
    "# df_gbm.query('bins_choice==\"100\"').groupby(['exp_name', 'modality'])['KL'].agg(['mean', 'median', 'std']).round(2)"
   ]
  },
  {
   "cell_type": "code",
   "execution_count": 90,
   "id": "a328f189",
   "metadata": {},
   "outputs": [
    {
     "data": {
      "text/html": [
       "<div>\n",
       "<style scoped>\n",
       "    .dataframe tbody tr th:only-of-type {\n",
       "        vertical-align: middle;\n",
       "    }\n",
       "\n",
       "    .dataframe tbody tr th {\n",
       "        vertical-align: top;\n",
       "    }\n",
       "\n",
       "    .dataframe thead th {\n",
       "        text-align: right;\n",
       "    }\n",
       "</style>\n",
       "<table border=\"1\" class=\"dataframe\">\n",
       "  <thead>\n",
       "    <tr style=\"text-align: right;\">\n",
       "      <th></th>\n",
       "      <th>mean</th>\n",
       "      <th>median</th>\n",
       "      <th>std</th>\n",
       "    </tr>\n",
       "    <tr>\n",
       "      <th>exp_name</th>\n",
       "      <th></th>\n",
       "      <th></th>\n",
       "      <th></th>\n",
       "    </tr>\n",
       "  </thead>\n",
       "  <tbody>\n",
       "    <tr>\n",
       "      <th>4a_resamp</th>\n",
       "      <td>3.28</td>\n",
       "      <td>2.22</td>\n",
       "      <td>2.94</td>\n",
       "    </tr>\n",
       "    <tr>\n",
       "      <th>4b_n4</th>\n",
       "      <td>2.25</td>\n",
       "      <td>1.61</td>\n",
       "      <td>2.04</td>\n",
       "    </tr>\n",
       "    <tr>\n",
       "      <th>4d_susan</th>\n",
       "      <td>3.50</td>\n",
       "      <td>2.30</td>\n",
       "      <td>3.19</td>\n",
       "    </tr>\n",
       "    <tr>\n",
       "      <th>6_hist_fold_0</th>\n",
       "      <td>3.21</td>\n",
       "      <td>2.05</td>\n",
       "      <td>2.99</td>\n",
       "    </tr>\n",
       "  </tbody>\n",
       "</table>\n",
       "</div>"
      ],
      "text/plain": [
       "               mean  median   std\n",
       "exp_name                         \n",
       "4a_resamp      3.28    2.22  2.94\n",
       "4b_n4          2.25    1.61  2.04\n",
       "4d_susan       3.50    2.30  3.19\n",
       "6_hist_fold_0  3.21    2.05  2.99"
      ]
     },
     "execution_count": 90,
     "metadata": {},
     "output_type": "execute_result"
    }
   ],
   "source": [
    "df_gbm.query('bins_choice==\"100\"').groupby(['exp_name'])['KL'].agg(['mean', 'median', 'std']).round(2)"
   ]
  },
  {
   "cell_type": "code",
   "execution_count": 91,
   "id": "31c77733",
   "metadata": {},
   "outputs": [
    {
     "data": {
      "text/html": [
       "<div>\n",
       "<style scoped>\n",
       "    .dataframe tbody tr th:only-of-type {\n",
       "        vertical-align: middle;\n",
       "    }\n",
       "\n",
       "    .dataframe tbody tr th {\n",
       "        vertical-align: top;\n",
       "    }\n",
       "\n",
       "    .dataframe thead th {\n",
       "        text-align: right;\n",
       "    }\n",
       "</style>\n",
       "<table border=\"1\" class=\"dataframe\">\n",
       "  <thead>\n",
       "    <tr style=\"text-align: right;\">\n",
       "      <th></th>\n",
       "      <th>mean</th>\n",
       "      <th>median</th>\n",
       "      <th>std</th>\n",
       "    </tr>\n",
       "    <tr>\n",
       "      <th>exp_name</th>\n",
       "      <th></th>\n",
       "      <th></th>\n",
       "      <th></th>\n",
       "    </tr>\n",
       "  </thead>\n",
       "  <tbody>\n",
       "    <tr>\n",
       "      <th>4a_resamp</th>\n",
       "      <td>1.20</td>\n",
       "      <td>0.81</td>\n",
       "      <td>1.11</td>\n",
       "    </tr>\n",
       "    <tr>\n",
       "      <th>4b_n4</th>\n",
       "      <td>0.87</td>\n",
       "      <td>0.66</td>\n",
       "      <td>0.73</td>\n",
       "    </tr>\n",
       "    <tr>\n",
       "      <th>4d_susan</th>\n",
       "      <td>1.26</td>\n",
       "      <td>0.85</td>\n",
       "      <td>1.16</td>\n",
       "    </tr>\n",
       "    <tr>\n",
       "      <th>6_hist_fold_0</th>\n",
       "      <td>1.20</td>\n",
       "      <td>0.80</td>\n",
       "      <td>1.13</td>\n",
       "    </tr>\n",
       "  </tbody>\n",
       "</table>\n",
       "</div>"
      ],
      "text/plain": [
       "               mean  median   std\n",
       "exp_name                         \n",
       "4a_resamp      1.20    0.81  1.11\n",
       "4b_n4          0.87    0.66  0.73\n",
       "4d_susan       1.26    0.85  1.16\n",
       "6_hist_fold_0  1.20    0.80  1.13"
      ]
     },
     "execution_count": 91,
     "metadata": {},
     "output_type": "execute_result"
    }
   ],
   "source": [
    "df_bgpd.query('bins_choice==\"100\"').groupby(['exp_name'])['KL'].agg(['mean', 'median', 'std']).round(2)"
   ]
  },
  {
   "cell_type": "code",
   "execution_count": 92,
   "id": "1bf54a84",
   "metadata": {},
   "outputs": [
    {
     "data": {
      "text/html": [
       "<div>\n",
       "<style scoped>\n",
       "    .dataframe tbody tr th:only-of-type {\n",
       "        vertical-align: middle;\n",
       "    }\n",
       "\n",
       "    .dataframe tbody tr th {\n",
       "        vertical-align: top;\n",
       "    }\n",
       "\n",
       "    .dataframe thead th {\n",
       "        text-align: right;\n",
       "    }\n",
       "</style>\n",
       "<table border=\"1\" class=\"dataframe\">\n",
       "  <thead>\n",
       "    <tr style=\"text-align: right;\">\n",
       "      <th></th>\n",
       "      <th>mean</th>\n",
       "      <th>median</th>\n",
       "      <th>std</th>\n",
       "    </tr>\n",
       "    <tr>\n",
       "      <th>exp_name</th>\n",
       "      <th></th>\n",
       "      <th></th>\n",
       "      <th></th>\n",
       "    </tr>\n",
       "  </thead>\n",
       "  <tbody>\n",
       "    <tr>\n",
       "      <th>4a_resamp</th>\n",
       "      <td>2.52</td>\n",
       "      <td>1.28</td>\n",
       "      <td>2.91</td>\n",
       "    </tr>\n",
       "    <tr>\n",
       "      <th>4b_n4</th>\n",
       "      <td>1.72</td>\n",
       "      <td>0.96</td>\n",
       "      <td>2.14</td>\n",
       "    </tr>\n",
       "    <tr>\n",
       "      <th>4d_susan</th>\n",
       "      <td>2.62</td>\n",
       "      <td>1.32</td>\n",
       "      <td>3.04</td>\n",
       "    </tr>\n",
       "    <tr>\n",
       "      <th>6_hist_fold_0</th>\n",
       "      <td>2.53</td>\n",
       "      <td>1.30</td>\n",
       "      <td>2.94</td>\n",
       "    </tr>\n",
       "  </tbody>\n",
       "</table>\n",
       "</div>"
      ],
      "text/plain": [
       "               mean  median   std\n",
       "exp_name                         \n",
       "4a_resamp      2.52    1.28  2.91\n",
       "4b_n4          1.72    0.96  2.14\n",
       "4d_susan       2.62    1.32  3.04\n",
       "6_hist_fold_0  2.53    1.30  2.94"
      ]
     },
     "execution_count": 92,
     "metadata": {},
     "output_type": "execute_result"
    }
   ],
   "source": [
    "df_lgg.query('bins_choice==\"100\"').groupby(['exp_name'])['KL'].agg(['mean', 'median', 'std']).round(2)"
   ]
  },
  {
   "cell_type": "markdown",
   "id": "1fe58eae",
   "metadata": {},
   "source": [
    "## JS"
   ]
  },
  {
   "cell_type": "code",
   "execution_count": 93,
   "id": "5220278d",
   "metadata": {},
   "outputs": [
    {
     "data": {
      "text/html": [
       "<div>\n",
       "<style scoped>\n",
       "    .dataframe tbody tr th:only-of-type {\n",
       "        vertical-align: middle;\n",
       "    }\n",
       "\n",
       "    .dataframe tbody tr th {\n",
       "        vertical-align: top;\n",
       "    }\n",
       "\n",
       "    .dataframe thead th {\n",
       "        text-align: right;\n",
       "    }\n",
       "</style>\n",
       "<table border=\"1\" class=\"dataframe\">\n",
       "  <thead>\n",
       "    <tr style=\"text-align: right;\">\n",
       "      <th></th>\n",
       "      <th>mean</th>\n",
       "      <th>median</th>\n",
       "      <th>std</th>\n",
       "    </tr>\n",
       "    <tr>\n",
       "      <th>exp_name</th>\n",
       "      <th></th>\n",
       "      <th></th>\n",
       "      <th></th>\n",
       "    </tr>\n",
       "  </thead>\n",
       "  <tbody>\n",
       "    <tr>\n",
       "      <th>4a_resamp</th>\n",
       "      <td>1.48</td>\n",
       "      <td>1.31</td>\n",
       "      <td>0.66</td>\n",
       "    </tr>\n",
       "    <tr>\n",
       "      <th>4b_n4</th>\n",
       "      <td>1.26</td>\n",
       "      <td>1.13</td>\n",
       "      <td>0.54</td>\n",
       "    </tr>\n",
       "    <tr>\n",
       "      <th>4d_susan</th>\n",
       "      <td>1.51</td>\n",
       "      <td>1.32</td>\n",
       "      <td>0.68</td>\n",
       "    </tr>\n",
       "    <tr>\n",
       "      <th>6_hist_fold_0</th>\n",
       "      <td>1.45</td>\n",
       "      <td>1.27</td>\n",
       "      <td>0.67</td>\n",
       "    </tr>\n",
       "  </tbody>\n",
       "</table>\n",
       "</div>"
      ],
      "text/plain": [
       "               mean  median   std\n",
       "exp_name                         \n",
       "4a_resamp      1.48    1.31  0.66\n",
       "4b_n4          1.26    1.13  0.54\n",
       "4d_susan       1.51    1.32  0.68\n",
       "6_hist_fold_0  1.45    1.27  0.67"
      ]
     },
     "execution_count": 93,
     "metadata": {},
     "output_type": "execute_result"
    }
   ],
   "source": [
    "df_gbm.query('bins_choice==\"100\"').groupby(['exp_name'])['JS'].agg(['mean', 'median', 'std']).round(2)"
   ]
  },
  {
   "cell_type": "code",
   "execution_count": 94,
   "id": "73381bbd",
   "metadata": {},
   "outputs": [
    {
     "data": {
      "text/html": [
       "<div>\n",
       "<style scoped>\n",
       "    .dataframe tbody tr th:only-of-type {\n",
       "        vertical-align: middle;\n",
       "    }\n",
       "\n",
       "    .dataframe tbody tr th {\n",
       "        vertical-align: top;\n",
       "    }\n",
       "\n",
       "    .dataframe thead th {\n",
       "        text-align: right;\n",
       "    }\n",
       "</style>\n",
       "<table border=\"1\" class=\"dataframe\">\n",
       "  <thead>\n",
       "    <tr style=\"text-align: right;\">\n",
       "      <th></th>\n",
       "      <th>mean</th>\n",
       "      <th>median</th>\n",
       "      <th>std</th>\n",
       "    </tr>\n",
       "    <tr>\n",
       "      <th>exp_name</th>\n",
       "      <th></th>\n",
       "      <th></th>\n",
       "      <th></th>\n",
       "    </tr>\n",
       "  </thead>\n",
       "  <tbody>\n",
       "    <tr>\n",
       "      <th>4a_resamp</th>\n",
       "      <td>1.05</td>\n",
       "      <td>0.93</td>\n",
       "      <td>0.51</td>\n",
       "    </tr>\n",
       "    <tr>\n",
       "      <th>4b_n4</th>\n",
       "      <td>0.92</td>\n",
       "      <td>0.84</td>\n",
       "      <td>0.43</td>\n",
       "    </tr>\n",
       "    <tr>\n",
       "      <th>4d_susan</th>\n",
       "      <td>1.07</td>\n",
       "      <td>0.95</td>\n",
       "      <td>0.51</td>\n",
       "    </tr>\n",
       "    <tr>\n",
       "      <th>6_hist_fold_0</th>\n",
       "      <td>1.05</td>\n",
       "      <td>0.93</td>\n",
       "      <td>0.51</td>\n",
       "    </tr>\n",
       "  </tbody>\n",
       "</table>\n",
       "</div>"
      ],
      "text/plain": [
       "               mean  median   std\n",
       "exp_name                         \n",
       "4a_resamp      1.05    0.93  0.51\n",
       "4b_n4          0.92    0.84  0.43\n",
       "4d_susan       1.07    0.95  0.51\n",
       "6_hist_fold_0  1.05    0.93  0.51"
      ]
     },
     "execution_count": 94,
     "metadata": {},
     "output_type": "execute_result"
    }
   ],
   "source": [
    "df_bgpd.query('bins_choice==\"100\"').groupby(['exp_name'])['JS'].agg(['mean', 'median', 'std']).round(2)"
   ]
  },
  {
   "cell_type": "code",
   "execution_count": 95,
   "id": "08bf035a",
   "metadata": {},
   "outputs": [
    {
     "data": {
      "text/html": [
       "<div>\n",
       "<style scoped>\n",
       "    .dataframe tbody tr th:only-of-type {\n",
       "        vertical-align: middle;\n",
       "    }\n",
       "\n",
       "    .dataframe tbody tr th {\n",
       "        vertical-align: top;\n",
       "    }\n",
       "\n",
       "    .dataframe thead th {\n",
       "        text-align: right;\n",
       "    }\n",
       "</style>\n",
       "<table border=\"1\" class=\"dataframe\">\n",
       "  <thead>\n",
       "    <tr style=\"text-align: right;\">\n",
       "      <th></th>\n",
       "      <th>mean</th>\n",
       "      <th>median</th>\n",
       "      <th>std</th>\n",
       "    </tr>\n",
       "    <tr>\n",
       "      <th>exp_name</th>\n",
       "      <th></th>\n",
       "      <th></th>\n",
       "      <th></th>\n",
       "    </tr>\n",
       "  </thead>\n",
       "  <tbody>\n",
       "    <tr>\n",
       "      <th>4a_resamp</th>\n",
       "      <td>1.27</td>\n",
       "      <td>1.08</td>\n",
       "      <td>0.67</td>\n",
       "    </tr>\n",
       "    <tr>\n",
       "      <th>4b_n4</th>\n",
       "      <td>1.06</td>\n",
       "      <td>0.91</td>\n",
       "      <td>0.57</td>\n",
       "    </tr>\n",
       "    <tr>\n",
       "      <th>4d_susan</th>\n",
       "      <td>1.29</td>\n",
       "      <td>1.11</td>\n",
       "      <td>0.68</td>\n",
       "    </tr>\n",
       "    <tr>\n",
       "      <th>6_hist_fold_0</th>\n",
       "      <td>1.26</td>\n",
       "      <td>1.09</td>\n",
       "      <td>0.67</td>\n",
       "    </tr>\n",
       "  </tbody>\n",
       "</table>\n",
       "</div>"
      ],
      "text/plain": [
       "               mean  median   std\n",
       "exp_name                         \n",
       "4a_resamp      1.27    1.08  0.67\n",
       "4b_n4          1.06    0.91  0.57\n",
       "4d_susan       1.29    1.11  0.68\n",
       "6_hist_fold_0  1.26    1.09  0.67"
      ]
     },
     "execution_count": 95,
     "metadata": {},
     "output_type": "execute_result"
    }
   ],
   "source": [
    "df_lgg.query('bins_choice==\"100\"').groupby(['exp_name'])['JS'].agg(['mean', 'median', 'std']).round(2)"
   ]
  },
  {
   "cell_type": "markdown",
   "id": "0b1b09e2",
   "metadata": {},
   "source": [
    "# L2"
   ]
  },
  {
   "cell_type": "code",
   "execution_count": 96,
   "id": "58d2656d",
   "metadata": {},
   "outputs": [
    {
     "data": {
      "text/html": [
       "<div>\n",
       "<style scoped>\n",
       "    .dataframe tbody tr th:only-of-type {\n",
       "        vertical-align: middle;\n",
       "    }\n",
       "\n",
       "    .dataframe tbody tr th {\n",
       "        vertical-align: top;\n",
       "    }\n",
       "\n",
       "    .dataframe thead th {\n",
       "        text-align: right;\n",
       "    }\n",
       "</style>\n",
       "<table border=\"1\" class=\"dataframe\">\n",
       "  <thead>\n",
       "    <tr style=\"text-align: right;\">\n",
       "      <th></th>\n",
       "      <th>mean</th>\n",
       "      <th>median</th>\n",
       "      <th>std</th>\n",
       "    </tr>\n",
       "    <tr>\n",
       "      <th>exp_name</th>\n",
       "      <th></th>\n",
       "      <th></th>\n",
       "      <th></th>\n",
       "    </tr>\n",
       "  </thead>\n",
       "  <tbody>\n",
       "    <tr>\n",
       "      <th>4a_resamp</th>\n",
       "      <td>0.184</td>\n",
       "      <td>0.183</td>\n",
       "      <td>0.067</td>\n",
       "    </tr>\n",
       "    <tr>\n",
       "      <th>4b_n4</th>\n",
       "      <td>0.167</td>\n",
       "      <td>0.159</td>\n",
       "      <td>0.065</td>\n",
       "    </tr>\n",
       "    <tr>\n",
       "      <th>4d_susan</th>\n",
       "      <td>0.187</td>\n",
       "      <td>0.185</td>\n",
       "      <td>0.068</td>\n",
       "    </tr>\n",
       "    <tr>\n",
       "      <th>6_hist_fold_0</th>\n",
       "      <td>0.178</td>\n",
       "      <td>0.180</td>\n",
       "      <td>0.069</td>\n",
       "    </tr>\n",
       "  </tbody>\n",
       "</table>\n",
       "</div>"
      ],
      "text/plain": [
       "                mean  median    std\n",
       "exp_name                           \n",
       "4a_resamp      0.184   0.183  0.067\n",
       "4b_n4          0.167   0.159  0.065\n",
       "4d_susan       0.187   0.185  0.068\n",
       "6_hist_fold_0  0.178   0.180  0.069"
      ]
     },
     "execution_count": 96,
     "metadata": {},
     "output_type": "execute_result"
    }
   ],
   "source": [
    "df_gbm.query('bins_choice==\"100\"').groupby(['exp_name'])['L2'].agg(['mean', 'median', 'std']).round(3)"
   ]
  },
  {
   "cell_type": "code",
   "execution_count": 97,
   "id": "6104bbf1",
   "metadata": {},
   "outputs": [
    {
     "data": {
      "text/html": [
       "<div>\n",
       "<style scoped>\n",
       "    .dataframe tbody tr th:only-of-type {\n",
       "        vertical-align: middle;\n",
       "    }\n",
       "\n",
       "    .dataframe tbody tr th {\n",
       "        vertical-align: top;\n",
       "    }\n",
       "\n",
       "    .dataframe thead th {\n",
       "        text-align: right;\n",
       "    }\n",
       "</style>\n",
       "<table border=\"1\" class=\"dataframe\">\n",
       "  <thead>\n",
       "    <tr style=\"text-align: right;\">\n",
       "      <th></th>\n",
       "      <th>mean</th>\n",
       "      <th>median</th>\n",
       "      <th>std</th>\n",
       "    </tr>\n",
       "    <tr>\n",
       "      <th>exp_name</th>\n",
       "      <th></th>\n",
       "      <th></th>\n",
       "      <th></th>\n",
       "    </tr>\n",
       "  </thead>\n",
       "  <tbody>\n",
       "    <tr>\n",
       "      <th>4a_resamp</th>\n",
       "      <td>0.137</td>\n",
       "      <td>0.129</td>\n",
       "      <td>0.065</td>\n",
       "    </tr>\n",
       "    <tr>\n",
       "      <th>4b_n4</th>\n",
       "      <td>0.123</td>\n",
       "      <td>0.114</td>\n",
       "      <td>0.058</td>\n",
       "    </tr>\n",
       "    <tr>\n",
       "      <th>4d_susan</th>\n",
       "      <td>0.140</td>\n",
       "      <td>0.131</td>\n",
       "      <td>0.066</td>\n",
       "    </tr>\n",
       "    <tr>\n",
       "      <th>6_hist_fold_0</th>\n",
       "      <td>0.134</td>\n",
       "      <td>0.124</td>\n",
       "      <td>0.063</td>\n",
       "    </tr>\n",
       "  </tbody>\n",
       "</table>\n",
       "</div>"
      ],
      "text/plain": [
       "                mean  median    std\n",
       "exp_name                           \n",
       "4a_resamp      0.137   0.129  0.065\n",
       "4b_n4          0.123   0.114  0.058\n",
       "4d_susan       0.140   0.131  0.066\n",
       "6_hist_fold_0  0.134   0.124  0.063"
      ]
     },
     "execution_count": 97,
     "metadata": {},
     "output_type": "execute_result"
    }
   ],
   "source": [
    "df_bgpd.query('bins_choice==\"100\"').groupby(['exp_name'])['L2'].agg(['mean', 'median', 'std']).round(3)"
   ]
  },
  {
   "cell_type": "code",
   "execution_count": 98,
   "id": "fa7bed3d",
   "metadata": {},
   "outputs": [
    {
     "data": {
      "text/html": [
       "<div>\n",
       "<style scoped>\n",
       "    .dataframe tbody tr th:only-of-type {\n",
       "        vertical-align: middle;\n",
       "    }\n",
       "\n",
       "    .dataframe tbody tr th {\n",
       "        vertical-align: top;\n",
       "    }\n",
       "\n",
       "    .dataframe thead th {\n",
       "        text-align: right;\n",
       "    }\n",
       "</style>\n",
       "<table border=\"1\" class=\"dataframe\">\n",
       "  <thead>\n",
       "    <tr style=\"text-align: right;\">\n",
       "      <th></th>\n",
       "      <th>mean</th>\n",
       "      <th>median</th>\n",
       "      <th>std</th>\n",
       "    </tr>\n",
       "    <tr>\n",
       "      <th>exp_name</th>\n",
       "      <th></th>\n",
       "      <th></th>\n",
       "      <th></th>\n",
       "    </tr>\n",
       "  </thead>\n",
       "  <tbody>\n",
       "    <tr>\n",
       "      <th>4a_resamp</th>\n",
       "      <td>0.178</td>\n",
       "      <td>0.181</td>\n",
       "      <td>0.08</td>\n",
       "    </tr>\n",
       "    <tr>\n",
       "      <th>4b_n4</th>\n",
       "      <td>0.157</td>\n",
       "      <td>0.147</td>\n",
       "      <td>0.08</td>\n",
       "    </tr>\n",
       "    <tr>\n",
       "      <th>4d_susan</th>\n",
       "      <td>0.180</td>\n",
       "      <td>0.185</td>\n",
       "      <td>0.08</td>\n",
       "    </tr>\n",
       "    <tr>\n",
       "      <th>6_hist_fold_0</th>\n",
       "      <td>0.174</td>\n",
       "      <td>0.173</td>\n",
       "      <td>0.08</td>\n",
       "    </tr>\n",
       "  </tbody>\n",
       "</table>\n",
       "</div>"
      ],
      "text/plain": [
       "                mean  median   std\n",
       "exp_name                          \n",
       "4a_resamp      0.178   0.181  0.08\n",
       "4b_n4          0.157   0.147  0.08\n",
       "4d_susan       0.180   0.185  0.08\n",
       "6_hist_fold_0  0.174   0.173  0.08"
      ]
     },
     "execution_count": 98,
     "metadata": {},
     "output_type": "execute_result"
    }
   ],
   "source": [
    "df_lgg.query('bins_choice==\"100\"').groupby(['exp_name'])['L2'].agg(['mean', 'median', 'std']).round(3)"
   ]
  },
  {
   "cell_type": "markdown",
   "id": "9fd634a4",
   "metadata": {},
   "source": [
    "## Hellinger"
   ]
  },
  {
   "cell_type": "code",
   "execution_count": 99,
   "id": "d7196034",
   "metadata": {},
   "outputs": [
    {
     "data": {
      "text/html": [
       "<div>\n",
       "<style scoped>\n",
       "    .dataframe tbody tr th:only-of-type {\n",
       "        vertical-align: middle;\n",
       "    }\n",
       "\n",
       "    .dataframe tbody tr th {\n",
       "        vertical-align: top;\n",
       "    }\n",
       "\n",
       "    .dataframe thead th {\n",
       "        text-align: right;\n",
       "    }\n",
       "</style>\n",
       "<table border=\"1\" class=\"dataframe\">\n",
       "  <thead>\n",
       "    <tr style=\"text-align: right;\">\n",
       "      <th></th>\n",
       "      <th>mean</th>\n",
       "      <th>median</th>\n",
       "      <th>std</th>\n",
       "    </tr>\n",
       "    <tr>\n",
       "      <th>exp_name</th>\n",
       "      <th></th>\n",
       "      <th></th>\n",
       "      <th></th>\n",
       "    </tr>\n",
       "  </thead>\n",
       "  <tbody>\n",
       "    <tr>\n",
       "      <th>4a_resamp</th>\n",
       "      <td>0.502</td>\n",
       "      <td>0.454</td>\n",
       "      <td>0.200</td>\n",
       "    </tr>\n",
       "    <tr>\n",
       "      <th>4b_n4</th>\n",
       "      <td>0.437</td>\n",
       "      <td>0.394</td>\n",
       "      <td>0.175</td>\n",
       "    </tr>\n",
       "    <tr>\n",
       "      <th>4d_susan</th>\n",
       "      <td>0.509</td>\n",
       "      <td>0.461</td>\n",
       "      <td>0.201</td>\n",
       "    </tr>\n",
       "    <tr>\n",
       "      <th>6_hist_fold_0</th>\n",
       "      <td>0.495</td>\n",
       "      <td>0.448</td>\n",
       "      <td>0.203</td>\n",
       "    </tr>\n",
       "  </tbody>\n",
       "</table>\n",
       "</div>"
      ],
      "text/plain": [
       "                mean  median    std\n",
       "exp_name                           \n",
       "4a_resamp      0.502   0.454  0.200\n",
       "4b_n4          0.437   0.394  0.175\n",
       "4d_susan       0.509   0.461  0.201\n",
       "6_hist_fold_0  0.495   0.448  0.203"
      ]
     },
     "execution_count": 99,
     "metadata": {},
     "output_type": "execute_result"
    }
   ],
   "source": [
    "df_gbm.query('bins_choice==\"100\"').groupby(['exp_name'])['Hellinger'].agg(['mean', 'median', 'std']).round(3)"
   ]
  },
  {
   "cell_type": "code",
   "execution_count": 100,
   "id": "3b9c97e5",
   "metadata": {},
   "outputs": [
    {
     "data": {
      "text/html": [
       "<div>\n",
       "<style scoped>\n",
       "    .dataframe tbody tr th:only-of-type {\n",
       "        vertical-align: middle;\n",
       "    }\n",
       "\n",
       "    .dataframe tbody tr th {\n",
       "        vertical-align: top;\n",
       "    }\n",
       "\n",
       "    .dataframe thead th {\n",
       "        text-align: right;\n",
       "    }\n",
       "</style>\n",
       "<table border=\"1\" class=\"dataframe\">\n",
       "  <thead>\n",
       "    <tr style=\"text-align: right;\">\n",
       "      <th></th>\n",
       "      <th>mean</th>\n",
       "      <th>median</th>\n",
       "      <th>std</th>\n",
       "    </tr>\n",
       "    <tr>\n",
       "      <th>exp_name</th>\n",
       "      <th></th>\n",
       "      <th></th>\n",
       "      <th></th>\n",
       "    </tr>\n",
       "  </thead>\n",
       "  <tbody>\n",
       "    <tr>\n",
       "      <th>4a_resamp</th>\n",
       "      <td>0.381</td>\n",
       "      <td>0.350</td>\n",
       "      <td>0.163</td>\n",
       "    </tr>\n",
       "    <tr>\n",
       "      <th>4b_n4</th>\n",
       "      <td>0.339</td>\n",
       "      <td>0.319</td>\n",
       "      <td>0.140</td>\n",
       "    </tr>\n",
       "    <tr>\n",
       "      <th>4d_susan</th>\n",
       "      <td>0.386</td>\n",
       "      <td>0.353</td>\n",
       "      <td>0.164</td>\n",
       "    </tr>\n",
       "    <tr>\n",
       "      <th>6_hist_fold_0</th>\n",
       "      <td>0.380</td>\n",
       "      <td>0.350</td>\n",
       "      <td>0.163</td>\n",
       "    </tr>\n",
       "  </tbody>\n",
       "</table>\n",
       "</div>"
      ],
      "text/plain": [
       "                mean  median    std\n",
       "exp_name                           \n",
       "4a_resamp      0.381   0.350  0.163\n",
       "4b_n4          0.339   0.319  0.140\n",
       "4d_susan       0.386   0.353  0.164\n",
       "6_hist_fold_0  0.380   0.350  0.163"
      ]
     },
     "execution_count": 100,
     "metadata": {},
     "output_type": "execute_result"
    }
   ],
   "source": [
    "df_bgpd.query('bins_choice==\"100\"').groupby(['exp_name'])['Hellinger'].agg(['mean', 'median', 'std']).round(3)"
   ]
  },
  {
   "cell_type": "code",
   "execution_count": 101,
   "id": "f4243853",
   "metadata": {},
   "outputs": [
    {
     "data": {
      "text/html": [
       "<div>\n",
       "<style scoped>\n",
       "    .dataframe tbody tr th:only-of-type {\n",
       "        vertical-align: middle;\n",
       "    }\n",
       "\n",
       "    .dataframe tbody tr th {\n",
       "        vertical-align: top;\n",
       "    }\n",
       "\n",
       "    .dataframe thead th {\n",
       "        text-align: right;\n",
       "    }\n",
       "</style>\n",
       "<table border=\"1\" class=\"dataframe\">\n",
       "  <thead>\n",
       "    <tr style=\"text-align: right;\">\n",
       "      <th></th>\n",
       "      <th>mean</th>\n",
       "      <th>median</th>\n",
       "      <th>std</th>\n",
       "    </tr>\n",
       "    <tr>\n",
       "      <th>exp_name</th>\n",
       "      <th></th>\n",
       "      <th></th>\n",
       "      <th></th>\n",
       "    </tr>\n",
       "  </thead>\n",
       "  <tbody>\n",
       "    <tr>\n",
       "      <th>4a_resamp</th>\n",
       "      <td>0.444</td>\n",
       "      <td>0.409</td>\n",
       "      <td>0.201</td>\n",
       "    </tr>\n",
       "    <tr>\n",
       "      <th>4b_n4</th>\n",
       "      <td>0.377</td>\n",
       "      <td>0.337</td>\n",
       "      <td>0.181</td>\n",
       "    </tr>\n",
       "    <tr>\n",
       "      <th>4d_susan</th>\n",
       "      <td>0.450</td>\n",
       "      <td>0.411</td>\n",
       "      <td>0.203</td>\n",
       "    </tr>\n",
       "    <tr>\n",
       "      <th>6_hist_fold_0</th>\n",
       "      <td>0.444</td>\n",
       "      <td>0.409</td>\n",
       "      <td>0.201</td>\n",
       "    </tr>\n",
       "  </tbody>\n",
       "</table>\n",
       "</div>"
      ],
      "text/plain": [
       "                mean  median    std\n",
       "exp_name                           \n",
       "4a_resamp      0.444   0.409  0.201\n",
       "4b_n4          0.377   0.337  0.181\n",
       "4d_susan       0.450   0.411  0.203\n",
       "6_hist_fold_0  0.444   0.409  0.201"
      ]
     },
     "execution_count": 101,
     "metadata": {},
     "output_type": "execute_result"
    }
   ],
   "source": [
    "df_lgg.query('bins_choice==\"100\"').groupby(['exp_name'])['Hellinger'].agg(['mean', 'median', 'std']).round(3)"
   ]
  },
  {
   "cell_type": "code",
   "execution_count": null,
   "id": "390aa2d5",
   "metadata": {},
   "outputs": [],
   "source": []
  },
  {
   "cell_type": "code",
   "execution_count": 81,
   "id": "d77db87d",
   "metadata": {},
   "outputs": [
    {
     "data": {
      "text/plain": [
       "0.34652240356149727"
      ]
     },
     "execution_count": 81,
     "metadata": {},
     "output_type": "execute_result"
    }
   ],
   "source": [
    "0.03*np.log2(0.03/10e-6)"
   ]
  },
  {
   "cell_type": "code",
   "execution_count": null,
   "id": "e9868413",
   "metadata": {},
   "outputs": [],
   "source": []
  }
 ],
 "metadata": {
  "kernelspec": {
   "display_name": "Python 3",
   "language": "python",
   "name": "python3"
  },
  "language_info": {
   "codemirror_mode": {
    "name": "ipython",
    "version": 3
   },
   "file_extension": ".py",
   "mimetype": "text/x-python",
   "name": "python",
   "nbconvert_exporter": "python",
   "pygments_lexer": "ipython3",
   "version": "3.8.8"
  }
 },
 "nbformat": 4,
 "nbformat_minor": 5
}
