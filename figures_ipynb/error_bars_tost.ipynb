{
 "cells": [
  {
   "cell_type": "code",
   "execution_count": 170,
   "id": "0f0f76f8",
   "metadata": {},
   "outputs": [],
   "source": [
    "import matplotlib.pyplot as plt\n",
    "%matplotlib inline\n",
    "import numpy as np\n",
    "import pandas as pd"
   ]
  },
  {
   "cell_type": "code",
   "execution_count": 172,
   "id": "f27c56f9",
   "metadata": {},
   "outputs": [
    {
     "data": {
      "text/plain": [
       "'./1-3лист.tsv'"
      ]
     },
     "execution_count": 172,
     "metadata": {},
     "output_type": "execute_result"
    }
   ],
   "source": [
    "import shutil\n",
    "\n",
    "shutil.copy('/home/polina/DeepLearningExamples/PyTorch/Segmentation/nnUNet/metrics/1-3лист.tsv', '.')"
   ]
  },
  {
   "cell_type": "code",
   "execution_count": 255,
   "id": "8e1d2b5f",
   "metadata": {
    "scrolled": true
   },
   "outputs": [],
   "source": [
    "df_1_3 = pd.read_csv('/home/polina/DeepLearningExamples/PyTorch/Segmentation/nnUNet/metrics/1-3лист.tsv',  sep='\\t')"
   ]
  },
  {
   "cell_type": "code",
   "execution_count": 256,
   "id": "ccd4fb44",
   "metadata": {},
   "outputs": [
    {
     "data": {
      "text/html": [
       "<div>\n",
       "<style scoped>\n",
       "    .dataframe tbody tr th:only-of-type {\n",
       "        vertical-align: middle;\n",
       "    }\n",
       "\n",
       "    .dataframe tbody tr th {\n",
       "        vertical-align: top;\n",
       "    }\n",
       "\n",
       "    .dataframe thead th {\n",
       "        text-align: right;\n",
       "    }\n",
       "</style>\n",
       "<table border=\"1\" class=\"dataframe\">\n",
       "  <thead>\n",
       "    <tr style=\"text-align: right;\">\n",
       "      <th></th>\n",
       "      <th>PatientID</th>\n",
       "      <th>Preprocessing step</th>\n",
       "      <th>Dataset</th>\n",
       "      <th>NN-Architecture (nn-Unet, UNETR)</th>\n",
       "      <th>Label (WT, ET, TC, GTV)</th>\n",
       "      <th>Dice</th>\n",
       "      <th>Hausdorff</th>\n",
       "      <th>Surface Dice 1mm</th>\n",
       "      <th>Surface Dice 3mm</th>\n",
       "      <th>Surface Dice 5mm</th>\n",
       "      <th>Epoch</th>\n",
       "      <th>Volume_estimated</th>\n",
       "      <th>Volume_intersection</th>\n",
       "      <th>Volume_true</th>\n",
       "    </tr>\n",
       "  </thead>\n",
       "  <tbody>\n",
       "    <tr>\n",
       "      <th>0</th>\n",
       "      <td>TCGA-02-0011</td>\n",
       "      <td>1_reg</td>\n",
       "      <td>gbm</td>\n",
       "      <td>nn_unet</td>\n",
       "      <td>WT</td>\n",
       "      <td>0.290</td>\n",
       "      <td>39.000</td>\n",
       "      <td>0.264</td>\n",
       "      <td>NaN</td>\n",
       "      <td>NaN</td>\n",
       "      <td>300</td>\n",
       "      <td>25.748</td>\n",
       "      <td>22.114</td>\n",
       "      <td>126.783</td>\n",
       "    </tr>\n",
       "    <tr>\n",
       "      <th>1</th>\n",
       "      <td>TCGA-02-0011</td>\n",
       "      <td>1_reg</td>\n",
       "      <td>gbm</td>\n",
       "      <td>nn_unet</td>\n",
       "      <td>ET</td>\n",
       "      <td>0.138</td>\n",
       "      <td>39.000</td>\n",
       "      <td>0.218</td>\n",
       "      <td>NaN</td>\n",
       "      <td>NaN</td>\n",
       "      <td>300</td>\n",
       "      <td>2.983</td>\n",
       "      <td>22.114</td>\n",
       "      <td>33.488</td>\n",
       "    </tr>\n",
       "    <tr>\n",
       "      <th>2</th>\n",
       "      <td>TCGA-02-0011</td>\n",
       "      <td>1_reg</td>\n",
       "      <td>gbm</td>\n",
       "      <td>nn_unet</td>\n",
       "      <td>TC</td>\n",
       "      <td>0.030</td>\n",
       "      <td>34.300</td>\n",
       "      <td>0.133</td>\n",
       "      <td>NaN</td>\n",
       "      <td>NaN</td>\n",
       "      <td>300</td>\n",
       "      <td>9.525</td>\n",
       "      <td>22.114</td>\n",
       "      <td>81.619</td>\n",
       "    </tr>\n",
       "    <tr>\n",
       "      <th>3</th>\n",
       "      <td>TCGA-02-0033</td>\n",
       "      <td>1_reg</td>\n",
       "      <td>gbm</td>\n",
       "      <td>nn_unet</td>\n",
       "      <td>WT</td>\n",
       "      <td>0.242</td>\n",
       "      <td>39.000</td>\n",
       "      <td>0.261</td>\n",
       "      <td>NaN</td>\n",
       "      <td>NaN</td>\n",
       "      <td>300</td>\n",
       "      <td>19.781</td>\n",
       "      <td>14.996</td>\n",
       "      <td>104.407</td>\n",
       "    </tr>\n",
       "    <tr>\n",
       "      <th>4</th>\n",
       "      <td>TCGA-02-0033</td>\n",
       "      <td>1_reg</td>\n",
       "      <td>gbm</td>\n",
       "      <td>nn_unet</td>\n",
       "      <td>ET</td>\n",
       "      <td>0.265</td>\n",
       "      <td>26.094</td>\n",
       "      <td>0.330</td>\n",
       "      <td>NaN</td>\n",
       "      <td>NaN</td>\n",
       "      <td>300</td>\n",
       "      <td>6.324</td>\n",
       "      <td>14.996</td>\n",
       "      <td>31.703</td>\n",
       "    </tr>\n",
       "    <tr>\n",
       "      <th>...</th>\n",
       "      <td>...</td>\n",
       "      <td>...</td>\n",
       "      <td>...</td>\n",
       "      <td>...</td>\n",
       "      <td>...</td>\n",
       "      <td>...</td>\n",
       "      <td>...</td>\n",
       "      <td>...</td>\n",
       "      <td>...</td>\n",
       "      <td>...</td>\n",
       "      <td>...</td>\n",
       "      <td>...</td>\n",
       "      <td>...</td>\n",
       "      <td>...</td>\n",
       "    </tr>\n",
       "    <tr>\n",
       "      <th>14347</th>\n",
       "      <td>TCGA-DU-8167</td>\n",
       "      <td>6_hist</td>\n",
       "      <td>lgg</td>\n",
       "      <td>UNETR</td>\n",
       "      <td>ET</td>\n",
       "      <td>0.739</td>\n",
       "      <td>9.593</td>\n",
       "      <td>0.237</td>\n",
       "      <td>NaN</td>\n",
       "      <td>NaN</td>\n",
       "      <td>300</td>\n",
       "      <td>NaN</td>\n",
       "      <td>NaN</td>\n",
       "      <td>NaN</td>\n",
       "    </tr>\n",
       "    <tr>\n",
       "      <th>14348</th>\n",
       "      <td>TCGA-DU-8167</td>\n",
       "      <td>6_hist</td>\n",
       "      <td>lgg</td>\n",
       "      <td>UNETR</td>\n",
       "      <td>TC</td>\n",
       "      <td>0.000</td>\n",
       "      <td>inf</td>\n",
       "      <td>0.000</td>\n",
       "      <td>NaN</td>\n",
       "      <td>NaN</td>\n",
       "      <td>300</td>\n",
       "      <td>NaN</td>\n",
       "      <td>NaN</td>\n",
       "      <td>NaN</td>\n",
       "    </tr>\n",
       "    <tr>\n",
       "      <th>14349</th>\n",
       "      <td>TCGA-DU-8168</td>\n",
       "      <td>6_hist</td>\n",
       "      <td>lgg</td>\n",
       "      <td>UNETR</td>\n",
       "      <td>WT</td>\n",
       "      <td>0.162</td>\n",
       "      <td>39.552</td>\n",
       "      <td>0.068</td>\n",
       "      <td>NaN</td>\n",
       "      <td>NaN</td>\n",
       "      <td>300</td>\n",
       "      <td>NaN</td>\n",
       "      <td>NaN</td>\n",
       "      <td>NaN</td>\n",
       "    </tr>\n",
       "    <tr>\n",
       "      <th>14350</th>\n",
       "      <td>TCGA-DU-8168</td>\n",
       "      <td>6_hist</td>\n",
       "      <td>lgg</td>\n",
       "      <td>UNETR</td>\n",
       "      <td>ET</td>\n",
       "      <td>0.049</td>\n",
       "      <td>42.500</td>\n",
       "      <td>0.034</td>\n",
       "      <td>NaN</td>\n",
       "      <td>NaN</td>\n",
       "      <td>300</td>\n",
       "      <td>NaN</td>\n",
       "      <td>NaN</td>\n",
       "      <td>NaN</td>\n",
       "    </tr>\n",
       "    <tr>\n",
       "      <th>14351</th>\n",
       "      <td>TCGA-DU-8168</td>\n",
       "      <td>6_hist</td>\n",
       "      <td>lgg</td>\n",
       "      <td>UNETR</td>\n",
       "      <td>TC</td>\n",
       "      <td>0.000</td>\n",
       "      <td>inf</td>\n",
       "      <td>0.000</td>\n",
       "      <td>NaN</td>\n",
       "      <td>NaN</td>\n",
       "      <td>300</td>\n",
       "      <td>NaN</td>\n",
       "      <td>NaN</td>\n",
       "      <td>NaN</td>\n",
       "    </tr>\n",
       "  </tbody>\n",
       "</table>\n",
       "<p>14352 rows × 14 columns</p>\n",
       "</div>"
      ],
      "text/plain": [
       "          PatientID Preprocessing step Dataset  \\\n",
       "0      TCGA-02-0011              1_reg     gbm   \n",
       "1      TCGA-02-0011              1_reg     gbm   \n",
       "2      TCGA-02-0011              1_reg     gbm   \n",
       "3      TCGA-02-0033              1_reg     gbm   \n",
       "4      TCGA-02-0033              1_reg     gbm   \n",
       "...             ...                ...     ...   \n",
       "14347  TCGA-DU-8167             6_hist     lgg   \n",
       "14348  TCGA-DU-8167             6_hist     lgg   \n",
       "14349  TCGA-DU-8168             6_hist     lgg   \n",
       "14350  TCGA-DU-8168             6_hist     lgg   \n",
       "14351  TCGA-DU-8168             6_hist     lgg   \n",
       "\n",
       "      NN-Architecture (nn-Unet, UNETR) Label (WT, ET, TC, GTV)   Dice  \\\n",
       "0                              nn_unet                      WT  0.290   \n",
       "1                              nn_unet                      ET  0.138   \n",
       "2                              nn_unet                      TC  0.030   \n",
       "3                              nn_unet                      WT  0.242   \n",
       "4                              nn_unet                      ET  0.265   \n",
       "...                                ...                     ...    ...   \n",
       "14347                            UNETR                      ET  0.739   \n",
       "14348                            UNETR                      TC  0.000   \n",
       "14349                            UNETR                      WT  0.162   \n",
       "14350                            UNETR                      ET  0.049   \n",
       "14351                            UNETR                      TC  0.000   \n",
       "\n",
       "       Hausdorff  Surface Dice 1mm  Surface Dice 3mm  Surface Dice 5mm  Epoch  \\\n",
       "0         39.000             0.264               NaN               NaN    300   \n",
       "1         39.000             0.218               NaN               NaN    300   \n",
       "2         34.300             0.133               NaN               NaN    300   \n",
       "3         39.000             0.261               NaN               NaN    300   \n",
       "4         26.094             0.330               NaN               NaN    300   \n",
       "...          ...               ...               ...               ...    ...   \n",
       "14347      9.593             0.237               NaN               NaN    300   \n",
       "14348        inf             0.000               NaN               NaN    300   \n",
       "14349     39.552             0.068               NaN               NaN    300   \n",
       "14350     42.500             0.034               NaN               NaN    300   \n",
       "14351        inf             0.000               NaN               NaN    300   \n",
       "\n",
       "       Volume_estimated  Volume_intersection  Volume_true  \n",
       "0                25.748               22.114      126.783  \n",
       "1                 2.983               22.114       33.488  \n",
       "2                 9.525               22.114       81.619  \n",
       "3                19.781               14.996      104.407  \n",
       "4                 6.324               14.996       31.703  \n",
       "...                 ...                  ...          ...  \n",
       "14347               NaN                  NaN          NaN  \n",
       "14348               NaN                  NaN          NaN  \n",
       "14349               NaN                  NaN          NaN  \n",
       "14350               NaN                  NaN          NaN  \n",
       "14351               NaN                  NaN          NaN  \n",
       "\n",
       "[14352 rows x 14 columns]"
      ]
     },
     "execution_count": 256,
     "metadata": {},
     "output_type": "execute_result"
    }
   ],
   "source": [
    "df_1_3Volume_true"
   ]
  },
  {
   "cell_type": "code",
   "execution_count": 174,
   "id": "810f9478",
   "metadata": {},
   "outputs": [],
   "source": [
    "df_1_3 = pd.read_excel('/home/polina/DeepLearningExamples/PyTorch/Segmentation/nnUNet/metrics/exp.xlsx', sheet_name='1-3')\n",
    "df_4_bgpd_gbm = pd.read_excel('/home/polina/DeepLearningExamples/PyTorch/Segmentation/nnUNet/metrics/exp.xlsx', sheet_name='4 BGPD -> GBM')\n",
    "df_4_gbm_bgpd = pd.read_excel('/home/polina/DeepLearningExamples/PyTorch/Segmentation/nnUNet/metrics/exp.xlsx', sheet_name='4 GBM -> BGPD')"
   ]
  },
  {
   "cell_type": "code",
   "execution_count": 175,
   "id": "dd603102",
   "metadata": {},
   "outputs": [
    {
     "name": "stderr",
     "output_type": "stream",
     "text": [
      "/tmp/ipykernel_23420/3039216364.py:1: UserWarning: Boolean Series key will be reindexed to match DataFrame index.\n",
      "  df_1_3[df_1_3.Dataset=='gbm'][df_1_3.Epoch==100][df_1_3['Label (WT, ET, TC, GTV)']=='WT'][df_1_3['NN-Architecture (nn-Unet, UNETR)']=='nn_unet'].groupby([ 'Preprocessing step']).Dice.mean()\n"
     ]
    },
    {
     "data": {
      "text/plain": [
       "Preprocessing step\n",
       "gbm_1_reg_train      0.423333\n",
       "gbm_2a_interp        0.830931\n",
       "gbm_3a_atlas         0.836020\n",
       "gbm_4a_resamp_100    0.837206\n",
       "gbm_4b_n4            0.827157\n",
       "gbm_4d_susan         0.837922\n",
       "gbm_5_ss_shared      0.860069\n",
       "gbm_6_hist           0.820549\n",
       "Name: Dice, dtype: float64"
      ]
     },
     "execution_count": 175,
     "metadata": {},
     "output_type": "execute_result"
    }
   ],
   "source": [
    "df_1_3[df_1_3.Dataset=='gbm'][df_1_3.Epoch==100][df_1_3['Label (WT, ET, TC, GTV)']=='WT'][df_1_3['NN-Architecture (nn-Unet, UNETR)']=='nn_unet'].groupby([ 'Preprocessing step']).Dice.mean()"
   ]
  },
  {
   "cell_type": "code",
   "execution_count": 176,
   "id": "2f801552",
   "metadata": {},
   "outputs": [
    {
     "name": "stderr",
     "output_type": "stream",
     "text": [
      "/tmp/ipykernel_23420/191290440.py:1: FutureWarning: The default value of numeric_only in DataFrameGroupBy.mean is deprecated. In a future version, numeric_only will default to False. Either specify numeric_only or select only columns which should be valid for the function.\n",
      "  df_4_bgpd_gbm.groupby([ 'Preprocessing step']).mean().Dice\n"
     ]
    },
    {
     "data": {
      "text/plain": [
       "Preprocessing step\n",
       "gbm_1_reg_train_from_bgpd_TL        0.431588\n",
       "gbm_2a_interp_from_bgpd_TL          0.857539\n",
       "gbm_3a_atlas_from_bgpd_TL           0.863745\n",
       "gbm_4a_resamp_from_bgpd_TL          0.855892\n",
       "gbm_4b_n4_from_bgpd_TL_last_bgpd    0.849775\n",
       "gbm_4d_susan_from_bgpd_TL           0.862912\n",
       "gbm_5_ss_shared_from_bgpd_TL        0.866824\n",
       "gbm_6_hist_bgpd_TL                  0.835206\n",
       "Name: Dice, dtype: float64"
      ]
     },
     "execution_count": 176,
     "metadata": {},
     "output_type": "execute_result"
    }
   ],
   "source": [
    "df_4_bgpd_gbm.groupby([ 'Preprocessing step']).mean().Dice"
   ]
  },
  {
   "cell_type": "code",
   "execution_count": 136,
   "id": "4354f8e0",
   "metadata": {},
   "outputs": [
    {
     "name": "stderr",
     "output_type": "stream",
     "text": [
      "/tmp/ipykernel_23420/3712079836.py:1: UserWarning: Boolean Series key will be reindexed to match DataFrame index.\n",
      "  gbm_mean_100_raw = np.round(df_1_3[df_1_3.Dataset=='gbm'][df_1_3.Epoch==100][df_1_3['Label (WT, ET, TC, GTV)']=='WT'][df_1_3['NN-Architecture (nn-Unet, UNETR)']=='nn_unet'].groupby([ 'Preprocessing step']).Dice.mean().values, 2)*100\n",
      "/tmp/ipykernel_23420/3712079836.py:3: UserWarning: Boolean Series key will be reindexed to match DataFrame index.\n",
      "  gbm_mean_300_raw = np.round(df_1_3[df_1_3.Dataset=='gbm'][df_1_3.Epoch==300][df_1_3['Label (WT, ET, TC, GTV)']=='WT'][df_1_3['NN-Architecture (nn-Unet, UNETR)']=='nn_unet'].groupby([ 'Preprocessing step']).Dice.mean().values, 2)*100\n",
      "/tmp/ipykernel_23420/3712079836.py:5: UserWarning: Boolean Series key will be reindexed to match DataFrame index.\n",
      "  gbm_std_100_raw = np.round(df_1_3[df_1_3.Dataset=='gbm'][df_1_3.Epoch==100][df_1_3['Label (WT, ET, TC, GTV)']=='WT'][df_1_3['NN-Architecture (nn-Unet, UNETR)']=='nn_unet'].groupby([ 'Preprocessing step']).Dice.std().values, 2)*100\n",
      "/tmp/ipykernel_23420/3712079836.py:7: UserWarning: Boolean Series key will be reindexed to match DataFrame index.\n",
      "  gbm_std_300_raw = np.round(df_1_3[df_1_3.Dataset=='gbm'][df_1_3.Epoch==300][df_1_3['Label (WT, ET, TC, GTV)']=='WT'][df_1_3['NN-Architecture (nn-Unet, UNETR)']=='nn_unet'].groupby([ 'Preprocessing step']).Dice.std().values, 2)*100\n",
      "/tmp/ipykernel_23420/3712079836.py:9: FutureWarning: The default value of numeric_only in DataFrameGroupBy.mean is deprecated. In a future version, numeric_only will default to False. Either specify numeric_only or select only columns which should be valid for the function.\n",
      "  bgpd_gbm_mean_raw = np.round(df_4_bgpd_gbm.groupby([ 'Preprocessing step']).mean().Dice.values, 2)*100\n",
      "/tmp/ipykernel_23420/3712079836.py:11: FutureWarning: The default value of numeric_only in DataFrameGroupBy.std is deprecated. In a future version, numeric_only will default to False. Either specify numeric_only or select only columns which should be valid for the function.\n",
      "  bgpd_gbm_std_raw = np.round(df_4_bgpd_gbm.groupby([ 'Preprocessing step']).std().Dice.values, 2)*100\n"
     ]
    }
   ],
   "source": [
    "gbm_mean_100_raw = np.round(df_1_3[df_1_3.Dataset=='gbm'][df_1_3.Epoch==100][df_1_3['Label (WT, ET, TC, GTV)']=='WT'][df_1_3['NN-Architecture (nn-Unet, UNETR)']=='nn_unet'].groupby([ 'Preprocessing step']).Dice.mean().values, 2)*100\n",
    "\n",
    "gbm_mean_300_raw = np.round(df_1_3[df_1_3.Dataset=='gbm'][df_1_3.Epoch==300][df_1_3['Label (WT, ET, TC, GTV)']=='WT'][df_1_3['NN-Architecture (nn-Unet, UNETR)']=='nn_unet'].groupby([ 'Preprocessing step']).Dice.mean().values, 2)*100\n",
    "\n",
    "gbm_std_100_raw = np.round(df_1_3[df_1_3.Dataset=='gbm'][df_1_3.Epoch==100][df_1_3['Label (WT, ET, TC, GTV)']=='WT'][df_1_3['NN-Architecture (nn-Unet, UNETR)']=='nn_unet'].groupby([ 'Preprocessing step']).Dice.std().values, 2)*100\n",
    "\n",
    "gbm_std_300_raw = np.round(df_1_3[df_1_3.Dataset=='gbm'][df_1_3.Epoch==300][df_1_3['Label (WT, ET, TC, GTV)']=='WT'][df_1_3['NN-Architecture (nn-Unet, UNETR)']=='nn_unet'].groupby([ 'Preprocessing step']).Dice.std().values, 2)*100\n",
    "\n",
    "bgpd_gbm_mean_raw = np.round(df_4_bgpd_gbm.groupby([ 'Preprocessing step']).mean().Dice.values, 2)*100\n",
    "\n",
    "bgpd_gbm_std_raw = np.round(df_4_bgpd_gbm.groupby([ 'Preprocessing step']).std().Dice.values, 2)*100\n",
    "\n",
    "mean_transfer_raw=  bgpd_gbm_mean_raw - gbm_mean_100_raw\n",
    "\n",
    "std_transfer_raw=  bgpd_gbm_std_raw - gbm_std_100_raw "
   ]
  },
  {
   "cell_type": "code",
   "execution_count": 132,
   "id": "3ff00eb6",
   "metadata": {},
   "outputs": [
    {
     "data": {
      "text/plain": [
       "array([83., 44., 85., 85., 85., 82., 84., 87.])"
      ]
     },
     "execution_count": 132,
     "metadata": {},
     "output_type": "execute_result"
    }
   ],
   "source": [
    "gbm_mean_300_raw"
   ]
  },
  {
   "cell_type": "code",
   "execution_count": 125,
   "id": "0181fc7f",
   "metadata": {},
   "outputs": [
    {
     "data": {
      "text/plain": [
       "gbm_1_reg_train_from_bgpd_TL        102\n",
       "gbm_2a_interp_from_bgpd_TL          102\n",
       "gbm_3a_atlas_from_bgpd_TL           102\n",
       "gbm_4a_resamp_from_bgpd_TL          102\n",
       "gbm_4b_n4_from_bgpd_TL_last_bgpd    102\n",
       "gbm_4d_susan_from_bgpd_TL           102\n",
       "gbm_5_ss_shared_from_bgpd_TL        102\n",
       "gbm_6_hist_bgpd_TL                  102\n",
       "Name: Preprocessing step, dtype: int64"
      ]
     },
     "execution_count": 125,
     "metadata": {},
     "output_type": "execute_result"
    }
   ],
   "source": [
    "df_4_bgpd_gbm['Preprocessing step'].value_counts()"
   ]
  },
  {
   "cell_type": "code",
   "execution_count": 138,
   "id": "b0a148cc",
   "metadata": {},
   "outputs": [
    {
     "data": {
      "text/plain": [
       "0.11578983049030027"
      ]
     },
     "execution_count": 138,
     "metadata": {},
     "output_type": "execute_result"
    }
   ],
   "source": [
    "data_1.std()"
   ]
  },
  {
   "cell_type": "code",
   "execution_count": 159,
   "id": "df57eba3",
   "metadata": {},
   "outputs": [
    {
     "data": {
      "text/plain": [
       "1_reg          1794\n",
       "2a_interp      1794\n",
       "3a_atlas       1794\n",
       "4a_resamp      1794\n",
       "4b_n4          1794\n",
       "4d_susan       1794\n",
       "5_ss_shared    1794\n",
       "6_hist         1794\n",
       "Name: Preprocessing step, dtype: int64"
      ]
     },
     "execution_count": 159,
     "metadata": {},
     "output_type": "execute_result"
    }
   ],
   "source": [
    "df_1_3['Preprocessing step'].value_counts()"
   ]
  },
  {
   "cell_type": "code",
   "execution_count": 268,
   "id": "74b77587",
   "metadata": {},
   "outputs": [
    {
     "data": {
      "text/html": [
       "<div>\n",
       "<style scoped>\n",
       "    .dataframe tbody tr th:only-of-type {\n",
       "        vertical-align: middle;\n",
       "    }\n",
       "\n",
       "    .dataframe tbody tr th {\n",
       "        vertical-align: top;\n",
       "    }\n",
       "\n",
       "    .dataframe thead th {\n",
       "        text-align: right;\n",
       "    }\n",
       "</style>\n",
       "<table border=\"1\" class=\"dataframe\">\n",
       "  <thead>\n",
       "    <tr style=\"text-align: right;\">\n",
       "      <th></th>\n",
       "      <th>PatientID</th>\n",
       "      <th>Preprocessing step</th>\n",
       "      <th>Dataset</th>\n",
       "      <th>NN-Architecture (nn-Unet, UNETR)</th>\n",
       "      <th>Label (WT, ET, TC, GTV)</th>\n",
       "      <th>Dice</th>\n",
       "      <th>Hausdorff</th>\n",
       "      <th>Surface Dice 1mm</th>\n",
       "      <th>Surface Dice 3mm</th>\n",
       "      <th>Surface Dice 5mm</th>\n",
       "      <th>Epoch</th>\n",
       "      <th>Volume_estimated</th>\n",
       "      <th>Volume_intersection</th>\n",
       "      <th>Volume_true</th>\n",
       "    </tr>\n",
       "  </thead>\n",
       "  <tbody>\n",
       "    <tr>\n",
       "      <th>0</th>\n",
       "      <td>TCGA-02-0011</td>\n",
       "      <td>1_reg</td>\n",
       "      <td>gbm</td>\n",
       "      <td>nn_unet</td>\n",
       "      <td>WT</td>\n",
       "      <td>0.290</td>\n",
       "      <td>39.000</td>\n",
       "      <td>0.264</td>\n",
       "      <td>NaN</td>\n",
       "      <td>NaN</td>\n",
       "      <td>300</td>\n",
       "      <td>25.748</td>\n",
       "      <td>22.114</td>\n",
       "      <td>126.783</td>\n",
       "    </tr>\n",
       "    <tr>\n",
       "      <th>3</th>\n",
       "      <td>TCGA-02-0033</td>\n",
       "      <td>1_reg</td>\n",
       "      <td>gbm</td>\n",
       "      <td>nn_unet</td>\n",
       "      <td>WT</td>\n",
       "      <td>0.242</td>\n",
       "      <td>39.000</td>\n",
       "      <td>0.261</td>\n",
       "      <td>NaN</td>\n",
       "      <td>NaN</td>\n",
       "      <td>300</td>\n",
       "      <td>19.781</td>\n",
       "      <td>14.996</td>\n",
       "      <td>104.407</td>\n",
       "    </tr>\n",
       "    <tr>\n",
       "      <th>6</th>\n",
       "      <td>TCGA-02-0037</td>\n",
       "      <td>1_reg</td>\n",
       "      <td>gbm</td>\n",
       "      <td>nn_unet</td>\n",
       "      <td>WT</td>\n",
       "      <td>0.170</td>\n",
       "      <td>45.500</td>\n",
       "      <td>0.192</td>\n",
       "      <td>NaN</td>\n",
       "      <td>NaN</td>\n",
       "      <td>300</td>\n",
       "      <td>16.548</td>\n",
       "      <td>12.045</td>\n",
       "      <td>124.997</td>\n",
       "    </tr>\n",
       "    <tr>\n",
       "      <th>9</th>\n",
       "      <td>TCGA-02-0047</td>\n",
       "      <td>1_reg</td>\n",
       "      <td>gbm</td>\n",
       "      <td>nn_unet</td>\n",
       "      <td>WT</td>\n",
       "      <td>0.298</td>\n",
       "      <td>32.500</td>\n",
       "      <td>0.216</td>\n",
       "      <td>NaN</td>\n",
       "      <td>NaN</td>\n",
       "      <td>300</td>\n",
       "      <td>45.310</td>\n",
       "      <td>39.320</td>\n",
       "      <td>218.566</td>\n",
       "    </tr>\n",
       "    <tr>\n",
       "      <th>12</th>\n",
       "      <td>TCGA-02-0054</td>\n",
       "      <td>1_reg</td>\n",
       "      <td>gbm</td>\n",
       "      <td>nn_unet</td>\n",
       "      <td>WT</td>\n",
       "      <td>0.364</td>\n",
       "      <td>26.000</td>\n",
       "      <td>0.312</td>\n",
       "      <td>NaN</td>\n",
       "      <td>NaN</td>\n",
       "      <td>300</td>\n",
       "      <td>20.443</td>\n",
       "      <td>18.511</td>\n",
       "      <td>81.175</td>\n",
       "    </tr>\n",
       "    <tr>\n",
       "      <th>...</th>\n",
       "      <td>...</td>\n",
       "      <td>...</td>\n",
       "      <td>...</td>\n",
       "      <td>...</td>\n",
       "      <td>...</td>\n",
       "      <td>...</td>\n",
       "      <td>...</td>\n",
       "      <td>...</td>\n",
       "      <td>...</td>\n",
       "      <td>...</td>\n",
       "      <td>...</td>\n",
       "      <td>...</td>\n",
       "      <td>...</td>\n",
       "      <td>...</td>\n",
       "    </tr>\n",
       "    <tr>\n",
       "      <th>291</th>\n",
       "      <td>TCGA-76-6285</td>\n",
       "      <td>1_reg</td>\n",
       "      <td>gbm</td>\n",
       "      <td>nn_unet</td>\n",
       "      <td>WT</td>\n",
       "      <td>0.087</td>\n",
       "      <td>23.112</td>\n",
       "      <td>0.021</td>\n",
       "      <td>NaN</td>\n",
       "      <td>NaN</td>\n",
       "      <td>300</td>\n",
       "      <td>2.018</td>\n",
       "      <td>2.000</td>\n",
       "      <td>43.743</td>\n",
       "    </tr>\n",
       "    <tr>\n",
       "      <th>294</th>\n",
       "      <td>TCGA-76-6661</td>\n",
       "      <td>1_reg</td>\n",
       "      <td>gbm</td>\n",
       "      <td>nn_unet</td>\n",
       "      <td>WT</td>\n",
       "      <td>0.107</td>\n",
       "      <td>45.000</td>\n",
       "      <td>0.145</td>\n",
       "      <td>NaN</td>\n",
       "      <td>NaN</td>\n",
       "      <td>300</td>\n",
       "      <td>11.028</td>\n",
       "      <td>9.940</td>\n",
       "      <td>174.940</td>\n",
       "    </tr>\n",
       "    <tr>\n",
       "      <th>297</th>\n",
       "      <td>TCGA-76-6662</td>\n",
       "      <td>1_reg</td>\n",
       "      <td>gbm</td>\n",
       "      <td>nn_unet</td>\n",
       "      <td>WT</td>\n",
       "      <td>0.122</td>\n",
       "      <td>42.000</td>\n",
       "      <td>0.235</td>\n",
       "      <td>NaN</td>\n",
       "      <td>NaN</td>\n",
       "      <td>300</td>\n",
       "      <td>17.022</td>\n",
       "      <td>6.032</td>\n",
       "      <td>81.746</td>\n",
       "    </tr>\n",
       "    <tr>\n",
       "      <th>300</th>\n",
       "      <td>TCGA-76-6663</td>\n",
       "      <td>1_reg</td>\n",
       "      <td>gbm</td>\n",
       "      <td>nn_unet</td>\n",
       "      <td>WT</td>\n",
       "      <td>0.268</td>\n",
       "      <td>37.500</td>\n",
       "      <td>0.205</td>\n",
       "      <td>NaN</td>\n",
       "      <td>NaN</td>\n",
       "      <td>300</td>\n",
       "      <td>21.033</td>\n",
       "      <td>19.388</td>\n",
       "      <td>123.740</td>\n",
       "    </tr>\n",
       "    <tr>\n",
       "      <th>303</th>\n",
       "      <td>TCGA-76-6664</td>\n",
       "      <td>1_reg</td>\n",
       "      <td>gbm</td>\n",
       "      <td>nn_unet</td>\n",
       "      <td>WT</td>\n",
       "      <td>0.210</td>\n",
       "      <td>35.000</td>\n",
       "      <td>0.044</td>\n",
       "      <td>NaN</td>\n",
       "      <td>NaN</td>\n",
       "      <td>300</td>\n",
       "      <td>14.155</td>\n",
       "      <td>14.149</td>\n",
       "      <td>120.738</td>\n",
       "    </tr>\n",
       "  </tbody>\n",
       "</table>\n",
       "<p>102 rows × 14 columns</p>\n",
       "</div>"
      ],
      "text/plain": [
       "        PatientID Preprocessing step Dataset NN-Architecture (nn-Unet, UNETR)  \\\n",
       "0    TCGA-02-0011              1_reg     gbm                          nn_unet   \n",
       "3    TCGA-02-0033              1_reg     gbm                          nn_unet   \n",
       "6    TCGA-02-0037              1_reg     gbm                          nn_unet   \n",
       "9    TCGA-02-0047              1_reg     gbm                          nn_unet   \n",
       "12   TCGA-02-0054              1_reg     gbm                          nn_unet   \n",
       "..            ...                ...     ...                              ...   \n",
       "291  TCGA-76-6285              1_reg     gbm                          nn_unet   \n",
       "294  TCGA-76-6661              1_reg     gbm                          nn_unet   \n",
       "297  TCGA-76-6662              1_reg     gbm                          nn_unet   \n",
       "300  TCGA-76-6663              1_reg     gbm                          nn_unet   \n",
       "303  TCGA-76-6664              1_reg     gbm                          nn_unet   \n",
       "\n",
       "    Label (WT, ET, TC, GTV)   Dice  Hausdorff  Surface Dice 1mm  \\\n",
       "0                        WT  0.290     39.000             0.264   \n",
       "3                        WT  0.242     39.000             0.261   \n",
       "6                        WT  0.170     45.500             0.192   \n",
       "9                        WT  0.298     32.500             0.216   \n",
       "12                       WT  0.364     26.000             0.312   \n",
       "..                      ...    ...        ...               ...   \n",
       "291                      WT  0.087     23.112             0.021   \n",
       "294                      WT  0.107     45.000             0.145   \n",
       "297                      WT  0.122     42.000             0.235   \n",
       "300                      WT  0.268     37.500             0.205   \n",
       "303                      WT  0.210     35.000             0.044   \n",
       "\n",
       "     Surface Dice 3mm  Surface Dice 5mm  Epoch  Volume_estimated  \\\n",
       "0                 NaN               NaN    300            25.748   \n",
       "3                 NaN               NaN    300            19.781   \n",
       "6                 NaN               NaN    300            16.548   \n",
       "9                 NaN               NaN    300            45.310   \n",
       "12                NaN               NaN    300            20.443   \n",
       "..                ...               ...    ...               ...   \n",
       "291               NaN               NaN    300             2.018   \n",
       "294               NaN               NaN    300            11.028   \n",
       "297               NaN               NaN    300            17.022   \n",
       "300               NaN               NaN    300            21.033   \n",
       "303               NaN               NaN    300            14.155   \n",
       "\n",
       "     Volume_intersection  Volume_true  \n",
       "0                 22.114      126.783  \n",
       "3                 14.996      104.407  \n",
       "6                 12.045      124.997  \n",
       "9                 39.320      218.566  \n",
       "12                18.511       81.175  \n",
       "..                   ...          ...  \n",
       "291                2.000       43.743  \n",
       "294                9.940      174.940  \n",
       "297                6.032       81.746  \n",
       "300               19.388      123.740  \n",
       "303               14.149      120.738  \n",
       "\n",
       "[102 rows x 14 columns]"
      ]
     },
     "execution_count": 268,
     "metadata": {},
     "output_type": "execute_result"
    }
   ],
   "source": [
    "df_1_3[df_1_3.Dataset=='gbm'][df_1_3['Label (WT, ET, TC, GTV)']=='WT'][df_1_3['Epoch']==300][df_1_3['Preprocessing step']=='1_reg'][df_1_3['NN-Architecture (nn-Unet, UNETR)']== 'nn_unet']"
   ]
  },
  {
   "cell_type": "code",
   "execution_count": 269,
   "id": "4539531c",
   "metadata": {},
   "outputs": [
    {
     "data": {
      "text/plain": [
       "91.26608455882354"
      ]
     },
     "execution_count": 269,
     "metadata": {},
     "output_type": "execute_result"
    }
   ],
   "source": [
    "df_1_3[df_1_3.Dataset=='gbm'][df_1_3['Label (WT, ET, TC, GTV)']=='WT'][df_1_3['Epoch']==300][df_1_3['NN-Architecture (nn-Unet, UNETR)']== 'nn_unet'].Volume_true.mean()"
   ]
  },
  {
   "cell_type": "code",
   "execution_count": 270,
   "id": "4e41dc6a",
   "metadata": {},
   "outputs": [
    {
     "data": {
      "text/plain": [
       "69.30123651960785"
      ]
     },
     "execution_count": 270,
     "metadata": {},
     "output_type": "execute_result"
    }
   ],
   "source": [
    "df_1_3[df_1_3.Dataset=='gbm'][df_1_3['Label (WT, ET, TC, GTV)']=='WT'][df_1_3['Epoch']==300][df_1_3['NN-Architecture (nn-Unet, UNETR)']== 'nn_unet'].Volume_intersection.mean()"
   ]
  },
  {
   "cell_type": "code",
   "execution_count": 275,
   "id": "8ff33718",
   "metadata": {},
   "outputs": [
    {
     "data": {
      "text/plain": [
       "75.13541176470588"
      ]
     },
     "execution_count": 275,
     "metadata": {},
     "output_type": "execute_result"
    }
   ],
   "source": [
    "df_1_3[df_1_3.Dataset=='gbm'][df_1_3['Label (WT, ET, TC, GTV)']=='WT'][df_1_3['Epoch']==300][df_1_3['Preprocessing step']=='4a_resamp'][df_1_3['NN-Architecture (nn-Unet, UNETR)']== 'nn_unet'].Volume_intersection.mean()"
   ]
  },
  {
   "cell_type": "code",
   "execution_count": null,
   "id": "e5a37bd0",
   "metadata": {},
   "outputs": [],
   "source": [
    "91"
   ]
  },
  {
   "cell_type": "code",
   "execution_count": 266,
   "id": "a07b5010",
   "metadata": {},
   "outputs": [
    {
     "data": {
      "text/plain": [
       "88.99890196078432"
      ]
     },
     "execution_count": 266,
     "metadata": {},
     "output_type": "execute_result"
    }
   ],
   "source": [
    "df_1_3[df_1_3.Dataset=='gbm'][df_1_3['Label (WT, ET, TC, GTV)']=='WT'][df_1_3['Epoch']==300][df_1_3['Preprocessing step']=='4a_resamp'][df_1_3['NN-Architecture (nn-Unet, UNETR)']== 'nn_unet'].Volume_true.mean()"
   ]
  },
  {
   "cell_type": "code",
   "execution_count": 182,
   "id": "77325988",
   "metadata": {},
   "outputs": [
    {
     "name": "stderr",
     "output_type": "stream",
     "text": [
      "/tmp/ipykernel_23420/2899323078.py:1: UserWarning: Boolean Series key will be reindexed to match DataFrame index.\n",
      "  df_1_3[df_1_3.Dataset=='gbm'][df_1_3['NN-Architecture (nn-Unet, UNETR)']== 'nn_unet'][df_1_3['Label (WT, ET, TC, GTV)']=='WT'][df_1_3['Preprocessing step']=='gbm_4d_susan']\n"
     ]
    },
    {
     "data": {
      "text/html": [
       "<div>\n",
       "<style scoped>\n",
       "    .dataframe tbody tr th:only-of-type {\n",
       "        vertical-align: middle;\n",
       "    }\n",
       "\n",
       "    .dataframe tbody tr th {\n",
       "        vertical-align: top;\n",
       "    }\n",
       "\n",
       "    .dataframe thead th {\n",
       "        text-align: right;\n",
       "    }\n",
       "</style>\n",
       "<table border=\"1\" class=\"dataframe\">\n",
       "  <thead>\n",
       "    <tr style=\"text-align: right;\">\n",
       "      <th></th>\n",
       "      <th>PatientID</th>\n",
       "      <th>Preprocessing step</th>\n",
       "      <th>Dataset</th>\n",
       "      <th>NN-Architecture (nn-Unet, UNETR)</th>\n",
       "      <th>Label (WT, ET, TC, GTV)</th>\n",
       "      <th>Dice</th>\n",
       "      <th>Hausdorff</th>\n",
       "      <th>Surface Dice 1mm</th>\n",
       "      <th>Surface Dice 3mm</th>\n",
       "      <th>Surface Dice 5mm</th>\n",
       "      <th>Epoch</th>\n",
       "    </tr>\n",
       "  </thead>\n",
       "  <tbody>\n",
       "    <tr>\n",
       "      <th>5430</th>\n",
       "      <td>TCGA-02-0011</td>\n",
       "      <td>gbm_4d_susan</td>\n",
       "      <td>gbm</td>\n",
       "      <td>nn_unet</td>\n",
       "      <td>WT</td>\n",
       "      <td>0.920</td>\n",
       "      <td>16.503</td>\n",
       "      <td>0.754</td>\n",
       "      <td>NaN</td>\n",
       "      <td>NaN</td>\n",
       "      <td>100</td>\n",
       "    </tr>\n",
       "    <tr>\n",
       "      <th>5433</th>\n",
       "      <td>TCGA-02-0033</td>\n",
       "      <td>gbm_4d_susan</td>\n",
       "      <td>gbm</td>\n",
       "      <td>nn_unet</td>\n",
       "      <td>WT</td>\n",
       "      <td>0.939</td>\n",
       "      <td>4.207</td>\n",
       "      <td>0.873</td>\n",
       "      <td>NaN</td>\n",
       "      <td>NaN</td>\n",
       "      <td>100</td>\n",
       "    </tr>\n",
       "    <tr>\n",
       "      <th>5436</th>\n",
       "      <td>TCGA-02-0037</td>\n",
       "      <td>gbm_4d_susan</td>\n",
       "      <td>gbm</td>\n",
       "      <td>nn_unet</td>\n",
       "      <td>WT</td>\n",
       "      <td>0.676</td>\n",
       "      <td>16.701</td>\n",
       "      <td>0.279</td>\n",
       "      <td>NaN</td>\n",
       "      <td>NaN</td>\n",
       "      <td>100</td>\n",
       "    </tr>\n",
       "    <tr>\n",
       "      <th>5439</th>\n",
       "      <td>TCGA-02-0047</td>\n",
       "      <td>gbm_4d_susan</td>\n",
       "      <td>gbm</td>\n",
       "      <td>nn_unet</td>\n",
       "      <td>WT</td>\n",
       "      <td>0.917</td>\n",
       "      <td>6.500</td>\n",
       "      <td>0.784</td>\n",
       "      <td>NaN</td>\n",
       "      <td>NaN</td>\n",
       "      <td>100</td>\n",
       "    </tr>\n",
       "    <tr>\n",
       "      <th>5442</th>\n",
       "      <td>TCGA-02-0054</td>\n",
       "      <td>gbm_4d_susan</td>\n",
       "      <td>gbm</td>\n",
       "      <td>nn_unet</td>\n",
       "      <td>WT</td>\n",
       "      <td>0.916</td>\n",
       "      <td>3.906</td>\n",
       "      <td>0.848</td>\n",
       "      <td>NaN</td>\n",
       "      <td>NaN</td>\n",
       "      <td>100</td>\n",
       "    </tr>\n",
       "    <tr>\n",
       "      <th>...</th>\n",
       "      <td>...</td>\n",
       "      <td>...</td>\n",
       "      <td>...</td>\n",
       "      <td>...</td>\n",
       "      <td>...</td>\n",
       "      <td>...</td>\n",
       "      <td>...</td>\n",
       "      <td>...</td>\n",
       "      <td>...</td>\n",
       "      <td>...</td>\n",
       "      <td>...</td>\n",
       "    </tr>\n",
       "    <tr>\n",
       "      <th>17451</th>\n",
       "      <td>TCGA-76-6285</td>\n",
       "      <td>gbm_4d_susan</td>\n",
       "      <td>gbm</td>\n",
       "      <td>nn_unet</td>\n",
       "      <td>WT</td>\n",
       "      <td>0.768</td>\n",
       "      <td>7.140</td>\n",
       "      <td>0.601</td>\n",
       "      <td>NaN</td>\n",
       "      <td>NaN</td>\n",
       "      <td>100</td>\n",
       "    </tr>\n",
       "    <tr>\n",
       "      <th>17454</th>\n",
       "      <td>TCGA-76-6661</td>\n",
       "      <td>gbm_4d_susan</td>\n",
       "      <td>gbm</td>\n",
       "      <td>nn_unet</td>\n",
       "      <td>WT</td>\n",
       "      <td>0.797</td>\n",
       "      <td>30.580</td>\n",
       "      <td>0.503</td>\n",
       "      <td>NaN</td>\n",
       "      <td>NaN</td>\n",
       "      <td>100</td>\n",
       "    </tr>\n",
       "    <tr>\n",
       "      <th>17457</th>\n",
       "      <td>TCGA-76-6662</td>\n",
       "      <td>gbm_4d_susan</td>\n",
       "      <td>gbm</td>\n",
       "      <td>nn_unet</td>\n",
       "      <td>WT</td>\n",
       "      <td>0.912</td>\n",
       "      <td>5.031</td>\n",
       "      <td>0.803</td>\n",
       "      <td>NaN</td>\n",
       "      <td>NaN</td>\n",
       "      <td>100</td>\n",
       "    </tr>\n",
       "    <tr>\n",
       "      <th>17460</th>\n",
       "      <td>TCGA-76-6663</td>\n",
       "      <td>gbm_4d_susan</td>\n",
       "      <td>gbm</td>\n",
       "      <td>nn_unet</td>\n",
       "      <td>WT</td>\n",
       "      <td>0.891</td>\n",
       "      <td>73.006</td>\n",
       "      <td>0.689</td>\n",
       "      <td>NaN</td>\n",
       "      <td>NaN</td>\n",
       "      <td>100</td>\n",
       "    </tr>\n",
       "    <tr>\n",
       "      <th>17463</th>\n",
       "      <td>TCGA-76-6664</td>\n",
       "      <td>gbm_4d_susan</td>\n",
       "      <td>gbm</td>\n",
       "      <td>nn_unet</td>\n",
       "      <td>WT</td>\n",
       "      <td>0.885</td>\n",
       "      <td>36.322</td>\n",
       "      <td>0.702</td>\n",
       "      <td>NaN</td>\n",
       "      <td>NaN</td>\n",
       "      <td>100</td>\n",
       "    </tr>\n",
       "  </tbody>\n",
       "</table>\n",
       "<p>204 rows × 11 columns</p>\n",
       "</div>"
      ],
      "text/plain": [
       "          PatientID Preprocessing step Dataset  \\\n",
       "5430   TCGA-02-0011       gbm_4d_susan     gbm   \n",
       "5433   TCGA-02-0033       gbm_4d_susan     gbm   \n",
       "5436   TCGA-02-0037       gbm_4d_susan     gbm   \n",
       "5439   TCGA-02-0047       gbm_4d_susan     gbm   \n",
       "5442   TCGA-02-0054       gbm_4d_susan     gbm   \n",
       "...             ...                ...     ...   \n",
       "17451  TCGA-76-6285       gbm_4d_susan     gbm   \n",
       "17454  TCGA-76-6661       gbm_4d_susan     gbm   \n",
       "17457  TCGA-76-6662       gbm_4d_susan     gbm   \n",
       "17460  TCGA-76-6663       gbm_4d_susan     gbm   \n",
       "17463  TCGA-76-6664       gbm_4d_susan     gbm   \n",
       "\n",
       "      NN-Architecture (nn-Unet, UNETR) Label (WT, ET, TC, GTV)   Dice  \\\n",
       "5430                           nn_unet                      WT  0.920   \n",
       "5433                           nn_unet                      WT  0.939   \n",
       "5436                           nn_unet                      WT  0.676   \n",
       "5439                           nn_unet                      WT  0.917   \n",
       "5442                           nn_unet                      WT  0.916   \n",
       "...                                ...                     ...    ...   \n",
       "17451                          nn_unet                      WT  0.768   \n",
       "17454                          nn_unet                      WT  0.797   \n",
       "17457                          nn_unet                      WT  0.912   \n",
       "17460                          nn_unet                      WT  0.891   \n",
       "17463                          nn_unet                      WT  0.885   \n",
       "\n",
       "       Hausdorff  Surface Dice 1mm  Surface Dice 3mm  Surface Dice 5mm  Epoch  \n",
       "5430      16.503             0.754               NaN               NaN    100  \n",
       "5433       4.207             0.873               NaN               NaN    100  \n",
       "5436      16.701             0.279               NaN               NaN    100  \n",
       "5439       6.500             0.784               NaN               NaN    100  \n",
       "5442       3.906             0.848               NaN               NaN    100  \n",
       "...          ...               ...               ...               ...    ...  \n",
       "17451      7.140             0.601               NaN               NaN    100  \n",
       "17454     30.580             0.503               NaN               NaN    100  \n",
       "17457      5.031             0.803               NaN               NaN    100  \n",
       "17460     73.006             0.689               NaN               NaN    100  \n",
       "17463     36.322             0.702               NaN               NaN    100  \n",
       "\n",
       "[204 rows x 11 columns]"
      ]
     },
     "execution_count": 182,
     "metadata": {},
     "output_type": "execute_result"
    }
   ],
   "source": [
    "df_1_3[df_1_3.Dataset=='gbm'][df_1_3['NN-Architecture (nn-Unet, UNETR)']== 'nn_unet'][df_1_3['Label (WT, ET, TC, GTV)']=='WT'][df_1_3['Preprocessing step']=='gbm_4d_susan']"
   ]
  },
  {
   "cell_type": "markdown",
   "id": "5a68abe2",
   "metadata": {},
   "source": [
    "If the pvalue is smaller than a threshold, say 0.05, then we reject the hypothesis that the difference between the two samples is larger than the the thresholds given by low and upp.\n",
    "\n",
    "pvalue 0.07, we dont reject the hipothesis that the difference is larger that 0.25 and 0.25. we dont reject the hipothesis that the difference is within 0.25 and 0.25. difference is within 0.25 and 0.25"
   ]
  },
  {
   "cell_type": "code",
   "execution_count": 206,
   "id": "42499117",
   "metadata": {},
   "outputs": [
    {
     "data": {
      "text/plain": [
       "'1_reg'"
      ]
     },
     "execution_count": 206,
     "metadata": {},
     "output_type": "execute_result"
    }
   ],
   "source": []
  },
  {
   "cell_type": "markdown",
   "id": "92047f3d",
   "metadata": {},
   "source": [
    "If the pvalue is smaller than a threshold, say 0.05, then we reject the hypothesis that the difference between the two samples is larger than the the thresholds given by low and upp."
   ]
  },
  {
   "cell_type": "markdown",
   "id": "6945f383",
   "metadata": {},
   "source": [
    "small - reject the hypothesis that there is difference\n",
    "big - accept the hypothesis the there is a difference"
   ]
  },
  {
   "cell_type": "code",
   "execution_count": 222,
   "id": "deb7bbb7",
   "metadata": {},
   "outputs": [],
   "source": [
    "import warnings\n",
    "warnings.filterwarnings('ignore')"
   ]
  },
  {
   "cell_type": "code",
   "execution_count": 254,
   "id": "792ea591",
   "metadata": {},
   "outputs": [
    {
     "name": "stdout",
     "output_type": "stream",
     "text": [
      "1_reg\n",
      "0.85 0.116 0.436 0.277\n",
      "If more than 0.05 True 0.143\n",
      "If less than 0.05 True 0.0\n",
      "2a_interp\n",
      "0.85 0.116 0.848 0.114\n",
      "If more than 0.05 False 0.007\n",
      "If less than 0.05 False 1.215\n",
      "3a_atlas\n",
      "0.85 0.116 0.846 0.113\n",
      "If more than 0.05 False 0.009\n",
      "If less than 0.05 False 0.186\n",
      "4b_n4\n",
      "0.85 0.116 0.824 0.131\n",
      "If more than 0.05 False 0.049\n",
      "If less than 0.05 True 0.001\n",
      "4d_susan\n",
      "0.85 0.116 0.845 0.116\n",
      "If more than 0.05 False 0.01\n",
      "If less than 0.05 True 0.027\n",
      "5_ss_shared\n",
      "0.85 0.116 0.866 0.107\n",
      "If more than 0.05 False 0.036\n",
      "If less than 0.05 True 0.019\n",
      "6_hist\n",
      "0.85 0.116 0.833 0.161\n",
      "If more than 0.05 False 0.017\n",
      "If less than 0.05 False 0.629\n"
     ]
    }
   ],
   "source": [
    "import statsmodels\n",
    "from statsmodels.stats.weightstats import ttost_ind\n",
    "from researchpy import ttest\n",
    "\n",
    "preproc_1 = \"4a_resamp\"\n",
    "for key in df_1_3['Preprocessing step'].value_counts().keys():\n",
    "    preproc_2 = key\n",
    "    \n",
    "    if key != \"4a_resamp\":\n",
    "        print(preproc_2)\n",
    "\n",
    "        df_1_3 = pd.read_csv('/home/polina/DeepLearningExamples/PyTorch/Segmentation/nnUNet/metrics/1-3лист.tsv',  sep='\\t')\n",
    "\n",
    "        data_1 = df_1_3[df_1_3.Dataset=='gbm'][df_1_3['NN-Architecture (nn-Unet, UNETR)']== 'nn_unet'][df_1_3.Epoch==300][df_1_3['Label (WT, ET, TC, GTV)']=='WT'][df_1_3['Preprocessing step']==preproc_1]['Dice']\n",
    "        data_2 = df_1_3[df_1_3.Dataset=='gbm'][df_1_3['NN-Architecture (nn-Unet, UNETR)']== 'nn_unet'][df_1_3.Epoch==300][df_1_3['Label (WT, ET, TC, GTV)']=='WT'][df_1_3['Preprocessing step']==preproc_2]['Dice']\n",
    "\n",
    "        print(np.round(data_1.mean(),3), np.round(data_1.std(),3), np.round(data_2.mean(),3), np.round(data_2.std(),3),)\n",
    "        ttost = ttost_ind(data_1, data_2, -data_2.std()/4, data_2.std()/4)[0]/7\n",
    "        ttest_ = ttest(data_1, data_2,  equal_variances = False, paired=True)[1].values[4][1]*7\n",
    "        print(\"If more than 0.05\", ttost > 0.05, np.round(ttost,3))\n",
    "        print( \"If less than 0.05\", ttest_ < 0.05, np.round(ttest_,3))"
   ]
  },
  {
   "cell_type": "code",
   "execution_count": 247,
   "id": "feb8b6b5",
   "metadata": {},
   "outputs": [],
   "source": [
    "data_transfer = pd.read_csv('/home/polina/DeepLearningExamples/PyTorch/Segmentation/nnUNet/metrics/bgpd-gbm.tsv',  sep='\\t')"
   ]
  },
  {
   "cell_type": "code",
   "execution_count": 252,
   "id": "a0fdee70",
   "metadata": {},
   "outputs": [
    {
     "name": "stdout",
     "output_type": "stream",
     "text": [
      "1_reg\n",
      "0.436 0.277 0.432 0.27\n",
      "If more than 0.05 False 0.025\n",
      "If less than 0.05 False 0.842\n",
      "2a_interp\n",
      "0.848 0.114 0.858 0.103\n",
      "If more than 0.05 True 0.075\n",
      "If less than 0.05 False 0.683\n",
      "3a_atlas\n",
      "0.846 0.113 0.864 0.102\n",
      "If more than 0.05 True 0.154\n",
      "If less than 0.05 True 0.0\n",
      "4b_n4\n",
      "0.824 0.131 0.85 0.113\n",
      "If more than 0.05 True 0.222\n",
      "If less than 0.05 True 0.0\n",
      "4d_susan\n",
      "0.845 0.116 0.863 0.102\n",
      "If more than 0.05 True 0.16\n",
      "If less than 0.05 True 0.001\n",
      "5_ss_shared\n",
      "0.866 0.107 0.867 0.112\n",
      "If more than 0.05 False 0.02\n",
      "If less than 0.05 False 0.274\n",
      "6_hist\n",
      "0.833 0.161 0.835 0.158\n",
      "If more than 0.05 False 0.024\n",
      "If less than 0.05 False 0.806\n"
     ]
    }
   ],
   "source": [
    "corr = 2\n",
    "for key in df_1_3['Preprocessing step'].value_counts().keys():\n",
    "    preproc_2 = key\n",
    "    \n",
    "    if key != \"4a_resamp\":\n",
    "        print(preproc_2)\n",
    "\n",
    "        df_1_3 = pd.read_csv('/home/polina/DeepLearningExamples/PyTorch/Segmentation/nnUNet/metrics/1-3лист.tsv',  sep='\\t')\n",
    "\n",
    "        data_1 = df_1_3[df_1_3.Dataset=='gbm'][df_1_3['NN-Architecture (nn-Unet, UNETR)']== 'nn_unet'][df_1_3.Epoch==300][df_1_3['Label (WT, ET, TC, GTV)']=='WT'][df_1_3['Preprocessing step']==preproc_2]['Dice']\n",
    "        \n",
    "        df_1_3 = pd.read_csv('/home/polina/DeepLearningExamples/PyTorch/Segmentation/nnUNet/metrics/bgpd-gbm.tsv',  sep='\\t')\n",
    "        \n",
    "        data_2 = df_1_3[df_1_3.Dataset=='gbm'][df_1_3['NN-Architecture (nn-Unet, UNETR)']== 'nn_unet'][df_1_3.Epoch==100][df_1_3['Label (WT, ET, TC, GTV)']=='WT'][df_1_3['Preprocessing step']==preproc_2]['Dice']\n",
    "\n",
    "        \n",
    "        \n",
    "        print(np.round(data_1.mean(),3), np.round(data_1.std(),3), np.round(data_2.mean(),3), np.round(data_2.std(),3),)\n",
    "        ttost = ttost_ind(data_1, data_2, -data_2.std()/4, data_2.std()/4)[0]/corr\n",
    "        ttest_ = ttest(data_1, data_2,  equal_variances = False, paired=True)[1].values[4][1]*corr\n",
    "        print(\"If more than 0.05\", ttost > 0.05, np.round(ttost,3))\n",
    "        print( \"If less than 0.05\", ttest_ < 0.05, np.round(ttest_,3))"
   ]
  },
  {
   "cell_type": "code",
   "execution_count": 70,
   "id": "7ec7832a",
   "metadata": {},
   "outputs": [
    {
     "data": {
      "text/plain": [
       "(0.3740686274509804,\n",
       " 0.29611262202453437,\n",
       " 0.3672941176470589,\n",
       " 0.2857555394731862)"
      ]
     },
     "execution_count": 70,
     "metadata": {},
     "output_type": "execute_result"
    }
   ],
   "source": [
    "data_1.mean(), data_1.std(), data_2.mean(), data_2.std()"
   ]
  },
  {
   "cell_type": "code",
   "execution_count": 72,
   "id": "ef34cdd1",
   "metadata": {},
   "outputs": [
    {
     "data": {
      "text/plain": [
       "gbm_1_reg_train_from_bgpd_TL        102\n",
       "gbm_2a_interp_from_bgpd_TL          102\n",
       "gbm_3a_atlas_from_bgpd_TL           102\n",
       "gbm_4a_resamp_from_bgpd_TL          102\n",
       "gbm_4b_n4_from_bgpd_TL_last_bgpd    102\n",
       "gbm_4d_susan_from_bgpd_TL           102\n",
       "gbm_5_ss_shared_from_bgpd_TL        102\n",
       "gbm_6_hist_bgpd_TL                  102\n",
       "Name: Preprocessing step, dtype: int64"
      ]
     },
     "execution_count": 72,
     "metadata": {},
     "output_type": "execute_result"
    }
   ],
   "source": [
    "df_4_bgpd_gbm['Preprocessing step'].value_counts()"
   ]
  },
  {
   "cell_type": "code",
   "execution_count": 54,
   "id": "309b005a",
   "metadata": {},
   "outputs": [
    {
     "data": {
      "text/plain": [
       "0      0.279\n",
       "1      0.235\n",
       "2      0.146\n",
       "3      0.299\n",
       "4      0.328\n",
       "       ...  \n",
       "97     0.082\n",
       "98     0.000\n",
       "99     0.123\n",
       "100    0.264\n",
       "101    0.221\n",
       "Name: Dice, Length: 102, dtype: float64"
      ]
     },
     "execution_count": 54,
     "metadata": {},
     "output_type": "execute_result"
    }
   ],
   "source": [
    "df_4_bgpd_gbm[df_4_bgpd_gbm['Preprocessing step'] =='gbm_1_reg_train_from_bgpd_TL']['Dice']"
   ]
  },
  {
   "cell_type": "code",
   "execution_count": 41,
   "id": "008db360",
   "metadata": {},
   "outputs": [
    {
     "name": "stderr",
     "output_type": "stream",
     "text": [
      "/tmp/ipykernel_23420/4158688124.py:1: UserWarning: Boolean Series key will be reindexed to match DataFrame index.\n",
      "  df_1_3[df_1_3.Dataset=='gbm'][df_1_3['NN-Architecture (nn-Unet, UNETR)']== 'nn_unet'][df_1_3.Epoch==300][df_1_3['Label (WT, ET, TC, GTV)']=='ET'][df_1_3['Preprocessing step']=='gbm_1_reg_train']['Dice']\n"
     ]
    },
    {
     "data": {
      "text/plain": [
       "1453     0.138\n",
       "1456     0.265\n",
       "1459     0.179\n",
       "1462     0.349\n",
       "1465     0.055\n",
       "         ...  \n",
       "13474    0.000\n",
       "13477    0.031\n",
       "13480    0.004\n",
       "13483    0.319\n",
       "13486    0.012\n",
       "Name: Dice, Length: 204, dtype: float64"
      ]
     },
     "execution_count": 41,
     "metadata": {},
     "output_type": "execute_result"
    }
   ],
   "source": [
    "df_1_3[df_1_3.Dataset=='gbm'][df_1_3['NN-Architecture (nn-Unet, UNETR)']== 'nn_unet'][df_1_3.Epoch==300][df_1_3['Label (WT, ET, TC, GTV)']=='ET'][df_1_3['Preprocessing step']=='gbm_1_reg_train']['Dice']"
   ]
  },
  {
   "cell_type": "code",
   "execution_count": null,
   "id": "d489aaf4",
   "metadata": {},
   "outputs": [],
   "source": [
    "df_1_3[df_1_3.Dataset=='gbm'][df_1_3.Epoch==100][df_1_3['Label (WT, ET, TC, GTV)']=='WT'][df_1_3['NN-Architecture (nn-Unet, UNETR)']=='nn_unet'].g([ 'Preprocessing step']).Dice.mean().values"
   ]
  },
  {
   "cell_type": "code",
   "execution_count": 14,
   "id": "1eeda771",
   "metadata": {},
   "outputs": [
    {
     "data": {
      "text/plain": [
       "(array([42., 83., 84., 84., 83., 84., 86., 82.]),\n",
       " array([27., 13., 12., 13., 13., 12., 11., 16.]))"
      ]
     },
     "execution_count": 14,
     "metadata": {},
     "output_type": "execute_result"
    }
   ],
   "source": [
    "gbm_mean_100_raw, gbm_std_100_raw"
   ]
  },
  {
   "cell_type": "code",
   "execution_count": 15,
   "id": "8f30a411",
   "metadata": {},
   "outputs": [
    {
     "data": {
      "text/plain": [
       "array([1., 3., 2., 2., 2., 2., 1., 2.])"
      ]
     },
     "execution_count": 15,
     "metadata": {},
     "output_type": "execute_result"
    }
   ],
   "source": [
    "mean_transfer_raw"
   ]
  },
  {
   "cell_type": "code",
   "execution_count": 16,
   "id": "716d1812",
   "metadata": {},
   "outputs": [
    {
     "data": {
      "text/plain": [
       "array([ 0., -3., -2., -2., -2., -2.,  0.,  0.])"
      ]
     },
     "execution_count": 16,
     "metadata": {},
     "output_type": "execute_result"
    }
   ],
   "source": [
    "std_transfer_raw"
   ]
  },
  {
   "cell_type": "code",
   "execution_count": 96,
   "id": "eed0c02c",
   "metadata": {},
   "outputs": [],
   "source": [
    "mean_100 = np.array([42, 83, 84, 84, 83, 84, 82, 86])\n",
    "std_100 =  np.array([27, 13, 12, 13, 13, 12, 16, 11])\n",
    "\n",
    "mean_transfer = np.array([1, 3, 2, 2, 2, 2, 2, 1])\n",
    "std_transfer = np.array([0,-3, -2, -2, -2, -2, 0, 0])\n",
    "\n",
    "mean_transfer = mean_100 + mean_transfer\n",
    "std_transfer = std_100 + std_transfer\n",
    "\n",
    "mean_300 = np.array([44, 85, 85, 85, 82, 84, 83, 87])\n",
    "std_300 =  np.array([28, 11, 11, 12, 13, 12, 16, 11])\n",
    "\n",
    "y = np.array([1,2,3,4,5,6,7,8])*3\n",
    "\n",
    "ylabel = ['1. Inter-modality\\nregistration', '2. Resampling to \\nimage size',\n",
    "         '3. Atlas \\nregistration', '4. Resampling to \\nspacing', '4.a Bias field \\ncorrection',\n",
    "         '4.b Denoising', '4.c Histogram \\n matching', '4.d Skull \\nstripping',]"
   ]
  },
  {
   "cell_type": "code",
   "execution_count": 100,
   "id": "2210d763",
   "metadata": {},
   "outputs": [
    {
     "name": "stdout",
     "output_type": "stream",
     "text": [
      "4.b Denoising\n",
      "84 12\n",
      "84 12\n",
      "86 10\n"
     ]
    }
   ],
   "source": [
    "i = 5\n",
    "print( ylabel[i])\n",
    "print( mean_100[i], std_100[i])\n",
    "print( mean_300[i], std_300[i])\n",
    "print( mean_transfer[i], std_transfer[i])"
   ]
  },
  {
   "cell_type": "code",
   "execution_count": 3,
   "id": "15d6d8cb",
   "metadata": {},
   "outputs": [],
   "source": [
    "def plot_err_bar(x, y, error, c, label, marker=\"o\"):\n",
    "    plt.scatter(x, y, c=c, s=40, marker = marker, label=label)\n",
    "    for _x, _y, err in zip(x,y,error):\n",
    "        plt.plot([_x-err/2, _x+err/2], [_y, _y], c=c, alpha=0.5, lw=3)"
   ]
  },
  {
   "cell_type": "code",
   "execution_count": 5,
   "id": "03dee443",
   "metadata": {},
   "outputs": [
    {
     "data": {
      "image/png": "[encoded data removed]",
      "text/plain": [
       "<Figure size 576x720 with 1 Axes>"
      ]
     },
     "metadata": {
      "needs_background": "light"
     },
     "output_type": "display_data"
    }
   ],
   "source": [
    "font = {'size'   : 18, }\n",
    "plt.rc('font', **font)\n",
    "# plt.rcParams[\"mathtext.fontset\"] = 'dejavusans'\n",
    "\n",
    "\n",
    "plt.figure(figsize=(8,10))\n",
    "plot_err_bar(mean_100, y+0.35, std_100, c='tab:blue', label='100 epochs' ,marker='o')\n",
    "plot_err_bar(mean_300, y, std_300, c='tab:green', label='300 epochs', marker='^')\n",
    "plot_err_bar(mean_transfer, y-0.35, std_transfer, c='tab:red', label='From pretrained', marker='s')\n",
    "plt.yticks(ticks = y, labels=ylabel)\n",
    "\n",
    "plt.xlim(20, 100)\n",
    "plt.xlabel('Dice score ' + r'$ \\times \\ 100$')\n",
    "\n",
    "\n",
    "# Hide the right and top spines\n",
    "ax = plt.gca()\n",
    "ax.yaxis.set_label_position(\"right\")\n",
    "ax.yaxis.tick_right()\n",
    "ax.spines['right'].set_visible(False)\n",
    "ax.spines['top'].set_visible(False)\n",
    "ax.spines['left'].set_visible(False)\n",
    "\n",
    "ax.tick_params(axis=u'y', which=u'both',length=0)\n",
    "plt.plot([87, 87], [5,25], ls='--', alpha=0.2)\n",
    "\n",
    "plt.legend(loc='best');\n",
    "plt.tight_layout()\n",
    "\n",
    "plt.savefig('/home/anvar/GBM_error_bars.png', dpi=300)\n",
    "\n",
    "# plt.savefig('/home/polina/DeepLearningExamples/PyTorch/Segmentation/nnUNet/metrics/error_bars.png')\n",
    "# First, traning for 300 epochs until convergence is always better than training for 100 epochs.\n",
    "# Second, training until convergence from pre-trained weights from a larger dataset is always beneficial,\n",
    "# and result both in better mean Dice score and lower standard deviation.\n",
    "# Third, experiment with skull stripping is the only one statistically significantly better than the baseline experiment \n",
    "# (Resampling to spacing 1x1x1 mm), though it benefits from pretraining less than any other setups.\n",
    "# Finally, we observe that with training from a pretrained state the differences between the setup\n",
    "# with and without skull stripping are washed away."
   ]
  },
  {
   "cell_type": "markdown",
   "id": "298d5c24",
   "metadata": {},
   "source": [
    "BGPD"
   ]
  },
  {
   "cell_type": "code",
   "execution_count": 42,
   "id": "120813af",
   "metadata": {},
   "outputs": [
    {
     "name": "stderr",
     "output_type": "stream",
     "text": [
      "/tmp/ipykernel_10627/1095442191.py:1: UserWarning: Boolean Series key will be reindexed to match DataFrame index.\n",
      "  df_1_3[df_1_3.Dataset=='bgpd'][df_1_3.Epoch==100][df_1_3['NN-Architecture (nn-Unet, UNETR)']== 'nn_unet'].groupby([ 'Preprocessing step']).Dice.mean().round(2)*100\n"
     ]
    },
    {
     "data": {
      "text/plain": [
       "Preprocessing step\n",
       "bgpd_1_reg          34.0\n",
       "bgpd_2a_interp      71.0\n",
       "bgpd_3a_atlas       72.0\n",
       "bgpd_4a_resamp      72.0\n",
       "bgpd_4b_n4_last     72.0\n",
       "bgpd_4d_susan       71.0\n",
       "bgpd_5_ss_shared    76.0\n",
       "bgpd_6_hist         72.0\n",
       "Name: Dice, dtype: float64"
      ]
     },
     "execution_count": 42,
     "metadata": {},
     "output_type": "execute_result"
    }
   ],
   "source": [
    "df_1_3[df_1_3.Dataset=='bgpd'][df_1_3.Epoch==100][df_1_3['NN-Architecture (nn-Unet, UNETR)']== 'nn_unet'].groupby([ 'Preprocessing step']).Dice.mean().round(2)*100"
   ]
  },
  {
   "cell_type": "code",
   "execution_count": 43,
   "id": "e5601441",
   "metadata": {},
   "outputs": [
    {
     "name": "stderr",
     "output_type": "stream",
     "text": [
      "/tmp/ipykernel_10627/873381767.py:1: UserWarning: Boolean Series key will be reindexed to match DataFrame index.\n",
      "  df_1_3[df_1_3.Dataset=='bgpd'][df_1_3.Epoch==100][df_1_3['NN-Architecture (nn-Unet, UNETR)']== 'nn_unet'].groupby([ 'Preprocessing step']).Dice.std().round(2)*100\n"
     ]
    },
    {
     "data": {
      "text/plain": [
       "Preprocessing step\n",
       "bgpd_1_reg          28.0\n",
       "bgpd_2a_interp      18.0\n",
       "bgpd_3a_atlas       19.0\n",
       "bgpd_4a_resamp      18.0\n",
       "bgpd_4b_n4_last     17.0\n",
       "bgpd_4d_susan       19.0\n",
       "bgpd_5_ss_shared    15.0\n",
       "bgpd_6_hist         16.0\n",
       "Name: Dice, dtype: float64"
      ]
     },
     "execution_count": 43,
     "metadata": {},
     "output_type": "execute_result"
    }
   ],
   "source": [
    "df_1_3[df_1_3.Dataset=='bgpd'][df_1_3.Epoch==100][df_1_3['NN-Architecture (nn-Unet, UNETR)']== 'nn_unet'].groupby([ 'Preprocessing step']).Dice.std().round(2)*100"
   ]
  },
  {
   "cell_type": "code",
   "execution_count": 48,
   "id": "3f9d8f02",
   "metadata": {},
   "outputs": [
    {
     "name": "stderr",
     "output_type": "stream",
     "text": [
      "/tmp/ipykernel_10627/757254603.py:2: UserWarning: Boolean Series key will be reindexed to match DataFrame index.\n",
      "  bgpd_mean = df_1_3[df_1_3.Dataset=='bgpd'][df_1_3.Epoch==100].groupby([ 'Preprocessing step']).Dice.mean()\n"
     ]
    }
   ],
   "source": [
    "tl_bgpd_mean = df_4_gbm_bgpd.groupby([ 'Preprocessing step']).Dice.mean().values\n",
    "bgpd_mean = df_1_3[df_1_3.Dataset=='bgpd'][df_1_3.Epoch==100].groupby([ 'Preprocessing step']).Dice.mean()"
   ]
  },
  {
   "cell_type": "code",
   "execution_count": 41,
   "id": "7fa630b4",
   "metadata": {},
   "outputs": [
    {
     "data": {
      "text/plain": [
       "array([ 2.,  3.,  2., -0.,  1.,  2., -1.,  2.])"
      ]
     },
     "execution_count": 41,
     "metadata": {},
     "output_type": "execute_result"
    }
   ],
   "source": [
    "(tl_bgpd_mean - bgpd_mean).round(2)*100"
   ]
  },
  {
   "cell_type": "code",
   "execution_count": 101,
   "id": "82f6b3f3",
   "metadata": {},
   "outputs": [],
   "source": [
    "mean_100 = np.array([34, 71, 72, 72, 72, 71, 72, 76])\n",
    "std_100 =  np.array([28, 18, 19, 18, 17, 19, 16, 15])\n",
    "\n",
    "mean_transfer = np.array([2, 3, 2, 0, 1, 2, 2, -1])\n",
    "std_transfer = np.array([1, 1, -2, 1, 1, 0, 0, 1])\n",
    "\n",
    "mean_transfer = mean_100 + mean_transfer\n",
    "std_transfer = std_100 + std_transfer\n",
    "\n",
    "\n",
    "mean_300 = np.array([36, 73, 75, 74, 75, 74, 75, 76])\n",
    "std_300 =  np.array([29, 19, 16, 18, 17, 17, 16, 14])\n",
    "\n",
    "y = np.array([1,2,3,4,5,6,7,8])*3\n",
    "\n",
    "ylabel = ['1. Inter-modality\\nregistration', '2. Resampling to \\nimage size',\n",
    "         '3. Atlas \\nregistration', '4. Resampling to \\nspacing', '4.a Bias field \\ncorrection',\n",
    "         '4.b Denoising', '4.c Histogram \\n matching', '4.d Skull \\nstripping']"
   ]
  },
  {
   "cell_type": "code",
   "execution_count": 108,
   "id": "dfdb9926",
   "metadata": {},
   "outputs": [
    {
     "name": "stdout",
     "output_type": "stream",
     "text": [
      "1. Inter-modality\n",
      "registration\n",
      "34 28\n",
      "36 29\n",
      "36 29\n"
     ]
    }
   ],
   "source": [
    "i = 0\n",
    "print( ylabel[i])\n",
    "print( mean_100[i], std_100[i])\n",
    "print( mean_300[i], std_300[i])\n",
    "print( mean_transfer[i], std_transfer[i])"
   ]
  },
  {
   "cell_type": "code",
   "execution_count": 8,
   "id": "821100ad",
   "metadata": {},
   "outputs": [
    {
     "data": {
      "image/png": "[encoded data removed]",
      "text/plain": [
       "<Figure size 576x720 with 1 Axes>"
      ]
     },
     "metadata": {
      "needs_background": "light"
     },
     "output_type": "display_data"
    }
   ],
   "source": [
    "font = {'size'   : 18, }\n",
    "plt.rc('font', **font)\n",
    "# plt.rcParams[\"mathtext.fontset\"] = 'dejavusans'\n",
    "\n",
    "\n",
    "plt.figure(figsize=(8,10))\n",
    "plot_err_bar(mean_100, y+0.35, std_100, c='tab:blue', label='100 epochs' ,marker='o')\n",
    "plot_err_bar(mean_300, y, std_300, c='tab:green', label='300 epochs', marker='^')\n",
    "plot_err_bar(mean_transfer, y-0.35, std_transfer, c='tab:red', label='From pretrained', marker='s')\n",
    "plt.yticks(ticks = y, labels=ylabel)\n",
    "\n",
    "plt.xlim(20, 90)\n",
    "plt.xlabel('Dice score ' + r'$ \\times \\ 100$')\n",
    "\n",
    "\n",
    "# Hide the right and top spines\n",
    "ax = plt.gca()\n",
    "ax.yaxis.set_label_position(\"right\")\n",
    "ax.yaxis.tick_right()\n",
    "ax.spines['right'].set_visible(False)\n",
    "ax.spines['top'].set_visible(False)\n",
    "ax.spines['left'].set_visible(False)\n",
    "\n",
    "ax.tick_params(axis=u'y', which=u'both',length=0)\n",
    "plt.plot([76, 76], [5,25], ls='--', alpha=0.2)\n",
    "\n",
    "# plt.legend(loc='best');\n",
    "plt.tight_layout()\n",
    "\n",
    "\n",
    "plt.savefig('/home/anvar/BGPD_error_bars.png', dpi=300)\n",
    "\n",
    "# plt.savefig('/home/polina/DeepLearningExamples/PyTorch/Segmentation/nnUNet/metrics/error_bars_bgpd.png')\n",
    "\n",
    "# First, traning for 300 epochs until convergence is always better than training for 100 epochs.\n",
    "# Second, training until convergence from pre-trained weights from a smaller dataset, while not necessarily\n",
    "# result in better mean Dice score, always decreses prediction standard deviation.\n",
    "# Third, experiment with skull stripping is the only one statistically significantly better than the baseline experiment \n",
    "# (Resampling to spacing 1x1x1 mm), though it benefits from pretraining less than any other setups.\n",
    "# Finally, we observe that with training from a pretrained state the differences between the setup\n",
    "# with and without skull stripping are washed away."
   ]
  },
  {
   "cell_type": "code",
   "execution_count": null,
   "id": "ddcd9dcb",
   "metadata": {},
   "outputs": [],
   "source": []
  }
 ],
 "metadata": {
  "kernelspec": {
   "display_name": "Python 3 (ipykernel)",
   "language": "python",
   "name": "python3"
  },
  "language_info": {
   "codemirror_mode": {
    "name": "ipython",
    "version": 3
   },
   "file_extension": ".py",
   "mimetype": "text/x-python",
   "name": "python",
   "nbconvert_exporter": "python",
   "pygments_lexer": "ipython3",
   "version": "3.9.1"
  }
 },
 "nbformat": 4,
 "nbformat_minor": 5
}
