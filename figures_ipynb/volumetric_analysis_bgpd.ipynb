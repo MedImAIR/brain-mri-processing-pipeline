{
 "cells": [
  {
   "cell_type": "code",
   "execution_count": 1,
   "id": "e55e2230",
   "metadata": {},
   "outputs": [],
   "source": [
    "import matplotlib.pyplot as plt\n",
    "import nibabel\n",
    "import numpy as np\n",
    "import pandas as pd\n",
    "from pathlib import Path\n",
    "from skimage.transform import rescale"
   ]
  },
  {
   "cell_type": "code",
   "execution_count": 2,
   "id": "d1eb29a3",
   "metadata": {},
   "outputs": [],
   "source": [
    "folds = {\n",
    "    \"fold_0\": [\n",
    "        \"1029_18_4\",\n",
    "        \"1036_18\",\n",
    "        \"1159_18_4\",\n",
    "        \"1184_18\",\n",
    "        \"1216_18\",\n",
    "        \"1254_18\",\n",
    "        \"1257_18\",\n",
    "        \"1258_18\",\n",
    "        \"1326_18\",\n",
    "        \"1360_18\",\n",
    "        \"1484_18_4\",\n",
    "        \"1515_18_4\",\n",
    "        \"1566_18\",\n",
    "        \"1573_18_4\",\n",
    "        \"1646_18\",\n",
    "        \"1744_18\",\n",
    "        \"1765_18_4\",\n",
    "        \"1769_18\",\n",
    "        \"1781_18\",\n",
    "        \"1788_18_4\",\n",
    "        \"1795_18_\",\n",
    "        \"423_18\",\n",
    "        \"607_18\",\n",
    "        \"608_18_4\",\n",
    "        \"660_18_4\",\n",
    "        \"672_18_4\",\n",
    "        \"788_18\",\n",
    "        \"Patient_1000314\",\n",
    "        \"Patient_102117\",\n",
    "        \"Patient_103717\",\n",
    "        \"Patient_104514\",\n",
    "        \"Patient_109414\",\n",
    "        \"Patient_110014\",\n",
    "        \"Patient_110816\",\n",
    "        \"Patient_120115\",\n",
    "        \"Patient_12214\",\n",
    "        \"Patient_123816\",\n",
    "        \"Patient_129816\",\n",
    "        \"Patient_135915\",\n",
    "        \"Patient_137315\",\n",
    "        \"Patient_138316\",\n",
    "        \"Patient_138516\",\n",
    "        \"Patient_15215\",\n",
    "        \"Patient_20717\",\n",
    "        \"Patient_28514\",\n",
    "        \"Patient_2914\",\n",
    "        \"Patient_33217\",\n",
    "        \"Patient_51815\",\n",
    "        \"Patient_54317\",\n",
    "        \"Patient_59817\",\n",
    "        \"Patient_62315\",\n",
    "        \"Patient_62817\",\n",
    "        \"Patient_65516\",\n",
    "        \"Patient_74417\",\n",
    "        \"Patient_75116\",\n",
    "        \"Patient_89117\",\n",
    "        \"Patient_92114\",\n",
    "        \"Patient_9315\",\n",
    "        \"Patient_95717\",\n",
    "        \"Patient_98817\"\n",
    "    ],\n",
    "    \"fold_1\": [\n",
    "        \"1019_18\",\n",
    "        \"1034_18_4\",\n",
    "        \"1056_18_4\",\n",
    "        \"1096_18\",\n",
    "        \"1112_19_4\",\n",
    "        \"1214_18\",\n",
    "        \"1255_18\",\n",
    "        \"1267_18_4\",\n",
    "        \"1275_19_4\",\n",
    "        \"1333_18\",\n",
    "        \"1354_18_4\",\n",
    "        \"1421_18\",\n",
    "        \"1470_18_4\",\n",
    "        \"1541_18_4\",\n",
    "        \"1635_18\",\n",
    "        \"1702_18\",\n",
    "        \"1733_18\",\n",
    "        \"1734_18\",\n",
    "        \"1743_18_4\",\n",
    "        \"1746_18_4\",\n",
    "        \"1764_18_4\",\n",
    "        \"255_18\",\n",
    "        \"322_18_4\",\n",
    "        \"351_18\",\n",
    "        \"541_18\",\n",
    "        \"558_18_4\",\n",
    "        \"575_18_4\",\n",
    "        \"593_18\",\n",
    "        \"644_19_4\",\n",
    "        \"664_18_4\",\n",
    "        \"688_18\",\n",
    "        \"745_18_4\",\n",
    "        \"770_18\",\n",
    "        \"875_18_4\",\n",
    "        \"925_18_4\",\n",
    "        \"946_18\",\n",
    "        \"971_18_4\",\n",
    "        \"Patient_1000815\",\n",
    "        \"Patient_105215\",\n",
    "        \"Patient_12115\",\n",
    "        \"Patient_129316\",\n",
    "        \"Patient_129415\",\n",
    "        \"Patient_130514\",\n",
    "        \"Patient_136415\",\n",
    "        \"Patient_158716\",\n",
    "        \"Patient_161316\",\n",
    "        \"Patient_24117\",\n",
    "        \"Patient_24815\",\n",
    "        \"Patient_45217\",\n",
    "        \"Patient_5117\",\n",
    "        \"Patient_56717\",\n",
    "        \"Patient_59315\",\n",
    "        \"Patient_61715\",\n",
    "        \"Patient_61916\",\n",
    "        \"Patient_66615\",\n",
    "        \"Patient_69515\",\n",
    "        \"Patient_70614\",\n",
    "        \"Patient_76516\",\n",
    "        \"Patient_83714\",\n",
    "        \"Patient_98814\"\n",
    "    ],\n",
    "    \"fold_2\": [\n",
    "        \"1028_18_4\",\n",
    "        \"1043_18_4\",\n",
    "        \"1072_19\",\n",
    "        \"1164_18\",\n",
    "        \"1170_18_4\",\n",
    "        \"1185_18_4\",\n",
    "        \"1302_18_4\",\n",
    "        \"1357_19_4\",\n",
    "        \"1362_18_4\",\n",
    "        \"1463_18_4\",\n",
    "        \"1501_18_4\",\n",
    "        \"1539_18\",\n",
    "        \"1546_18\",\n",
    "        \"1685_18_4\",\n",
    "        \"1770_18_4\",\n",
    "        \"349_18_4\",\n",
    "        \"573_18_4\",\n",
    "        \"668_18_4\",\n",
    "        \"705_18_4\",\n",
    "        \"746_19_4\",\n",
    "        \"826_18_4\",\n",
    "        \"856_19_4\",\n",
    "        \"923_18\",\n",
    "        \"979_18_4\",\n",
    "        \"990_18_4\",\n",
    "        \"Patient_1001316\",\n",
    "        \"Patient_107017\",\n",
    "        \"Patient_109017\",\n",
    "        \"Patient_111016\",\n",
    "        \"Patient_122315\",\n",
    "        \"Patient_12417\",\n",
    "        \"Patient_127916\",\n",
    "        \"Patient_131416\",\n",
    "        \"Patient_132216\",\n",
    "        \"Patient_133916\",\n",
    "        \"Patient_136715\",\n",
    "        \"Patient_136915\",\n",
    "        \"Patient_140316\",\n",
    "        \"Patient_146716\",\n",
    "        \"Patient_15817\",\n",
    "        \"Patient_1815\",\n",
    "        \"Patient_22117\",\n",
    "        \"Patient_24717\",\n",
    "        \"Patient_43316\",\n",
    "        \"Patient_43515\",\n",
    "        \"Patient_48417\",\n",
    "        \"Patient_48517\",\n",
    "        \"Patient_49617\",\n",
    "        \"Patient_52315\",\n",
    "        \"Patient_716\",\n",
    "        \"Patient_72715\",\n",
    "        \"Patient_8017\",\n",
    "        \"Patient_83217\",\n",
    "        \"Patient_84116\",\n",
    "        \"Patient_87114\",\n",
    "        \"Patient_88817\",\n",
    "        \"Patient_88917\",\n",
    "        \"Patient_90517\",\n",
    "        \"Patient_90616\",\n",
    "        \"Patient_99715\"\n",
    "    ]\n",
    "}"
   ]
  },
  {
   "cell_type": "code",
   "execution_count": 5,
   "id": "6426d97f",
   "metadata": {},
   "outputs": [],
   "source": [
    "def get_volumes(fold0, fold1, fold2):\n",
    "    volumes = dict()\n",
    "    for patient in fold0.glob('*'):\n",
    "        if patient.name.split('.')[0] in folds['fold_0']:\n",
    "            prediction = np.load(patient)\n",
    "            volume = (prediction['arr_0'][0] > 0.5).sum() / 1000\n",
    "            volumes[patient.name.split('.')[0]]  = volume\n",
    "\n",
    "    for patient in fold1.glob('*'):\n",
    "        if patient.name.split('.')[0] in folds['fold_1']:\n",
    "            prediction = np.load(patient)\n",
    "            volume = (prediction['arr_0'][0] > 0.5).sum() / 1000\n",
    "            volumes[patient.name.split('.')[0]]  = volume\n",
    "\n",
    "    for patient in fold2.glob('*'):\n",
    "        if patient.name.split('.')[0] in folds['fold_2']:\n",
    "            prediction = np.load(patient)\n",
    "            volume = (prediction['arr_0'][0] > 0.5).sum() / 1000\n",
    "            volumes[patient.name.split('.')[0]]  = volume\n",
    "    \n",
    "    return volumes    \n",
    "\n",
    "def get_predictions(fold0, fold1, fold2):\n",
    "    predictions = dict()\n",
    "    for patient in fold0.glob('*'):\n",
    "        if patient.name.split('.')[0] in folds['fold_0']:\n",
    "            prediction = np.load(patient)\n",
    "            prediction = prediction['arr_0'][0] > 0.5\n",
    "            predictions[patient.name.split('.')[0]]  = prediction\n",
    "\n",
    "    for patient in fold1.glob('*'):\n",
    "        if patient.name.split('.')[0] in folds['fold_1']:\n",
    "            prediction = np.load(patient)\n",
    "            prediction = prediction['arr_0'][0] > 0.5\n",
    "            predictions[patient.name.split('.')[0]]  = prediction\n",
    "\n",
    "    for patient in fold2.glob('*'):\n",
    "        if patient.name.split('.')[0] in folds['fold_2']:\n",
    "            prediction = np.load(patient)\n",
    "            prediction = prediction['arr_0'][0] > 0.5\n",
    "            predictions[patient.name.split('.')[0]]  = prediction\n",
    "    \n",
    "    return predictions    "
   ]
  },
  {
   "cell_type": "code",
   "execution_count": 6,
   "id": "5e043506",
   "metadata": {},
   "outputs": [],
   "source": [
    "root = Path('/anvar/results/bgpd_4a_resamp_300')\n",
    "fold0_4_resamp = root / 'predictions_best_epoch=226-dice_mean=73_37_task=40_fold=0_tta'\n",
    "fold1_4_resamp = root / 'predictions_best_epoch=234-dice_mean=73_79_task=40_fold=1_tta'\n",
    "fold2_4_resamp = root / 'predictions_best_epoch=194-dice_mean=72_52_task=40_fold=2_tta'\n",
    "\n",
    "root = Path('/anvar/results/bgpd_5_ss_shared')\n",
    "fold0_4_ss = root / 'predictions_best_epoch=185-dice_mean=75_45_task=51_fold=0_tta'\n",
    "fold1_4_ss = root / 'predictions_best_epoch=228-dice_mean=75_79_task=51_fold=1_tta'\n",
    "fold2_4_ss = root / 'predictions_best_epoch=205-dice_mean=72_80_task=51_fold=2_tta'\n",
    "\n",
    "volumes_4_resamp = get_volumes(fold0_4_resamp, fold1_4_resamp, fold2_4_resamp)\n",
    "volumes_4_ss = get_volumes(fold0_4_ss, fold1_4_ss, fold2_4_ss)\n",
    "\n",
    "predictions_4_resamp = get_predictions(fold0_4_resamp, fold1_4_resamp, fold2_4_resamp)\n",
    "predictions_4_ss = get_predictions(fold0_4_ss, fold1_4_ss, fold2_4_ss)\n",
    "\n",
    "predictions_4_resamp['1795_18'] = predictions_4_resamp['1795_18_']\n",
    "predictions_4_ss['1795_18'] = predictions_4_ss['1795_18_']\n",
    "del predictions_4_resamp['1795_18_']\n",
    "del predictions_4_ss['1795_18_']\n",
    "\n",
    "\n",
    "# ground truth masks\n",
    "\n",
    "volumes_ground_truth = dict()\n",
    "ground_truth = dict()\n",
    "root = Path('/anvar/results/labels')\n",
    "for patient in root.glob('*'):\n",
    "    mask = nibabel.load(patient).get_fdata()\n",
    "    ground_truth[patient.name.split('.')[0].strip('_seg')] = mask\n",
    "    volume = mask.sum() / 1000\n",
    "    volumes_ground_truth[patient.name.split('.')[0].strip('_seg')] = volume"
   ]
  },
  {
   "cell_type": "code",
   "execution_count": 8,
   "id": "ca5c002b",
   "metadata": {},
   "outputs": [],
   "source": [
    "# /data/anvar/public_datasets/preproc_study/bgpd\n",
    "\n",
    "# mask_1 = nibabel.load('/anvar/results/labels/607_18_seg.nii.gz').get_fdata()\n",
    "# mask_2 = nibabel.load('/anvar/public_datasets/preproc_study/bgpd/4a_resamp/607_18/mask_GTV_FLAIR.nii.gz').get_fdata()"
   ]
  },
  {
   "cell_type": "code",
   "execution_count": 7,
   "id": "90513f1c",
   "metadata": {},
   "outputs": [],
   "source": [
    "df = pd.DataFrame()\n",
    "df['4_resample'] = [v for p,v in sorted(volumes_4_resamp.items(), key=lambda x: x[0])]\n",
    "df['4_skull'] = [v for p,v in sorted(volumes_4_ss.items(), key=lambda x: x[0])]\n",
    "df['ground_truth'] = [v for p,v in sorted(volumes_ground_truth.items(), key=lambda x: x[0])]\n",
    "df['4_skull_erorr'] = df['ground_truth'] - df['4_skull']\n",
    "df['4_skull_erorr,%'] = df['4_skull_erorr'] / df['ground_truth']*100\n",
    "\n",
    "df['4_resample_erorr'] = df['ground_truth'] - df['4_resample']\n",
    "df['4_resample_erorr,%'] = df['4_resample_erorr'] / df['ground_truth']*100"
   ]
  },
  {
   "cell_type": "code",
   "execution_count": 9,
   "id": "ff2e04ae",
   "metadata": {},
   "outputs": [],
   "source": [
    "from dpipe.im.metrics import dice_score\n",
    "\n",
    "scores_predictions_4_resamp = dict()\n",
    "for key, volume in sorted(predictions_4_resamp.items(), key=lambda x: x[0]):\n",
    "    gt_volume = ground_truth[key] > 0\n",
    "    scores_predictions_4_resamp[key] = dice_score(volume.T, gt_volume)\n",
    "    \n",
    "scores_predictions_4_ss = dict()\n",
    "for key, volume in sorted(predictions_4_ss.items(), key=lambda x: x[0]):\n",
    "    gt_volume = ground_truth[key] > 0\n",
    "    scores_predictions_4_ss[key] = dice_score(volume.T, gt_volume)\n",
    "    \n",
    "df['PatientID'] = scores_predictions_4_ss.keys()\n",
    "df['Dice_resample'] = scores_predictions_4_resamp.values()\n",
    "df['Dice_skull'] = scores_predictions_4_ss.values()"
   ]
  },
  {
   "cell_type": "code",
   "execution_count": 14,
   "id": "077eb53e",
   "metadata": {},
   "outputs": [],
   "source": [
    "# df = df.drop(29, 0) # Remove 1362_18_4  who have a wrong GT mask"
   ]
  },
  {
   "cell_type": "code",
   "execution_count": 15,
   "id": "c68b095f",
   "metadata": {},
   "outputs": [
    {
     "data": {
      "text/html": [
       "<div>\n",
       "<style scoped>\n",
       "    .dataframe tbody tr th:only-of-type {\n",
       "        vertical-align: middle;\n",
       "    }\n",
       "\n",
       "    .dataframe tbody tr th {\n",
       "        vertical-align: top;\n",
       "    }\n",
       "\n",
       "    .dataframe thead th {\n",
       "        text-align: right;\n",
       "    }\n",
       "</style>\n",
       "<table border=\"1\" class=\"dataframe\">\n",
       "  <thead>\n",
       "    <tr style=\"text-align: right;\">\n",
       "      <th></th>\n",
       "      <th>4_resample</th>\n",
       "      <th>4_skull</th>\n",
       "      <th>ground_truth</th>\n",
       "      <th>4_skull_erorr</th>\n",
       "      <th>4_skull_erorr,%</th>\n",
       "      <th>4_resample_erorr</th>\n",
       "      <th>4_resample_erorr,%</th>\n",
       "      <th>PatientID</th>\n",
       "      <th>Dice_resample</th>\n",
       "      <th>Dice_skull</th>\n",
       "    </tr>\n",
       "  </thead>\n",
       "  <tbody>\n",
       "    <tr>\n",
       "      <th>0</th>\n",
       "      <td>18.030</td>\n",
       "      <td>21.628</td>\n",
       "      <td>52.028</td>\n",
       "      <td>30.400</td>\n",
       "      <td>58.430076</td>\n",
       "      <td>33.998</td>\n",
       "      <td>65.345583</td>\n",
       "      <td>1019_18</td>\n",
       "      <td>0.510891</td>\n",
       "      <td>0.579125</td>\n",
       "    </tr>\n",
       "    <tr>\n",
       "      <th>1</th>\n",
       "      <td>85.615</td>\n",
       "      <td>78.336</td>\n",
       "      <td>85.891</td>\n",
       "      <td>7.555</td>\n",
       "      <td>8.796032</td>\n",
       "      <td>0.276</td>\n",
       "      <td>0.321338</td>\n",
       "      <td>1028_18_4</td>\n",
       "      <td>0.897286</td>\n",
       "      <td>0.892618</td>\n",
       "    </tr>\n",
       "    <tr>\n",
       "      <th>2</th>\n",
       "      <td>28.780</td>\n",
       "      <td>37.932</td>\n",
       "      <td>26.823</td>\n",
       "      <td>-11.109</td>\n",
       "      <td>-41.415949</td>\n",
       "      <td>-1.957</td>\n",
       "      <td>-7.295977</td>\n",
       "      <td>1029_18_4</td>\n",
       "      <td>0.680539</td>\n",
       "      <td>0.772481</td>\n",
       "    </tr>\n",
       "    <tr>\n",
       "      <th>3</th>\n",
       "      <td>104.080</td>\n",
       "      <td>106.520</td>\n",
       "      <td>99.404</td>\n",
       "      <td>-7.116</td>\n",
       "      <td>-7.158666</td>\n",
       "      <td>-4.676</td>\n",
       "      <td>-4.704036</td>\n",
       "      <td>1034_18_4</td>\n",
       "      <td>0.890222</td>\n",
       "      <td>0.898429</td>\n",
       "    </tr>\n",
       "    <tr>\n",
       "      <th>4</th>\n",
       "      <td>71.316</td>\n",
       "      <td>74.338</td>\n",
       "      <td>90.707</td>\n",
       "      <td>16.369</td>\n",
       "      <td>18.046016</td>\n",
       "      <td>19.391</td>\n",
       "      <td>21.377622</td>\n",
       "      <td>1036_18</td>\n",
       "      <td>0.867667</td>\n",
       "      <td>0.872974</td>\n",
       "    </tr>\n",
       "    <tr>\n",
       "      <th>...</th>\n",
       "      <td>...</td>\n",
       "      <td>...</td>\n",
       "      <td>...</td>\n",
       "      <td>...</td>\n",
       "      <td>...</td>\n",
       "      <td>...</td>\n",
       "      <td>...</td>\n",
       "      <td>...</td>\n",
       "      <td>...</td>\n",
       "      <td>...</td>\n",
       "    </tr>\n",
       "    <tr>\n",
       "      <th>175</th>\n",
       "      <td>25.125</td>\n",
       "      <td>46.834</td>\n",
       "      <td>39.493</td>\n",
       "      <td>-7.341</td>\n",
       "      <td>-18.588104</td>\n",
       "      <td>14.368</td>\n",
       "      <td>36.381131</td>\n",
       "      <td>Patient_9315</td>\n",
       "      <td>0.697824</td>\n",
       "      <td>0.617234</td>\n",
       "    </tr>\n",
       "    <tr>\n",
       "      <th>176</th>\n",
       "      <td>124.791</td>\n",
       "      <td>134.783</td>\n",
       "      <td>130.821</td>\n",
       "      <td>-3.962</td>\n",
       "      <td>-3.028566</td>\n",
       "      <td>6.030</td>\n",
       "      <td>4.609352</td>\n",
       "      <td>Patient_95717</td>\n",
       "      <td>0.861579</td>\n",
       "      <td>0.876290</td>\n",
       "    </tr>\n",
       "    <tr>\n",
       "      <th>177</th>\n",
       "      <td>122.405</td>\n",
       "      <td>98.982</td>\n",
       "      <td>195.536</td>\n",
       "      <td>96.554</td>\n",
       "      <td>49.379142</td>\n",
       "      <td>73.131</td>\n",
       "      <td>37.400274</td>\n",
       "      <td>Patient_98814</td>\n",
       "      <td>0.758789</td>\n",
       "      <td>0.672129</td>\n",
       "    </tr>\n",
       "    <tr>\n",
       "      <th>178</th>\n",
       "      <td>134.670</td>\n",
       "      <td>156.189</td>\n",
       "      <td>263.320</td>\n",
       "      <td>107.131</td>\n",
       "      <td>40.684718</td>\n",
       "      <td>128.650</td>\n",
       "      <td>48.856904</td>\n",
       "      <td>Patient_98817</td>\n",
       "      <td>0.623991</td>\n",
       "      <td>0.687485</td>\n",
       "    </tr>\n",
       "    <tr>\n",
       "      <th>179</th>\n",
       "      <td>86.284</td>\n",
       "      <td>70.915</td>\n",
       "      <td>94.862</td>\n",
       "      <td>23.947</td>\n",
       "      <td>25.244039</td>\n",
       "      <td>8.578</td>\n",
       "      <td>9.042609</td>\n",
       "      <td>Patient_99715</td>\n",
       "      <td>0.850640</td>\n",
       "      <td>0.819221</td>\n",
       "    </tr>\n",
       "  </tbody>\n",
       "</table>\n",
       "<p>179 rows × 10 columns</p>\n",
       "</div>"
      ],
      "text/plain": [
       "     4_resample  4_skull  ground_truth  4_skull_erorr  4_skull_erorr,%  \\\n",
       "0        18.030   21.628        52.028         30.400        58.430076   \n",
       "1        85.615   78.336        85.891          7.555         8.796032   \n",
       "2        28.780   37.932        26.823        -11.109       -41.415949   \n",
       "3       104.080  106.520        99.404         -7.116        -7.158666   \n",
       "4        71.316   74.338        90.707         16.369        18.046016   \n",
       "..          ...      ...           ...            ...              ...   \n",
       "175      25.125   46.834        39.493         -7.341       -18.588104   \n",
       "176     124.791  134.783       130.821         -3.962        -3.028566   \n",
       "177     122.405   98.982       195.536         96.554        49.379142   \n",
       "178     134.670  156.189       263.320        107.131        40.684718   \n",
       "179      86.284   70.915        94.862         23.947        25.244039   \n",
       "\n",
       "     4_resample_erorr  4_resample_erorr,%      PatientID  Dice_resample  \\\n",
       "0              33.998           65.345583        1019_18       0.510891   \n",
       "1               0.276            0.321338      1028_18_4       0.897286   \n",
       "2              -1.957           -7.295977      1029_18_4       0.680539   \n",
       "3              -4.676           -4.704036      1034_18_4       0.890222   \n",
       "4              19.391           21.377622        1036_18       0.867667   \n",
       "..                ...                 ...            ...            ...   \n",
       "175            14.368           36.381131   Patient_9315       0.697824   \n",
       "176             6.030            4.609352  Patient_95717       0.861579   \n",
       "177            73.131           37.400274  Patient_98814       0.758789   \n",
       "178           128.650           48.856904  Patient_98817       0.623991   \n",
       "179             8.578            9.042609  Patient_99715       0.850640   \n",
       "\n",
       "     Dice_skull  \n",
       "0      0.579125  \n",
       "1      0.892618  \n",
       "2      0.772481  \n",
       "3      0.898429  \n",
       "4      0.872974  \n",
       "..          ...  \n",
       "175    0.617234  \n",
       "176    0.876290  \n",
       "177    0.672129  \n",
       "178    0.687485  \n",
       "179    0.819221  \n",
       "\n",
       "[179 rows x 10 columns]"
      ]
     },
     "execution_count": 15,
     "metadata": {},
     "output_type": "execute_result"
    }
   ],
   "source": [
    "df"
   ]
  },
  {
   "cell_type": "markdown",
   "id": "0cecdc64",
   "metadata": {},
   "source": [
    "# Plots"
   ]
  },
  {
   "cell_type": "code",
   "execution_count": 27,
   "id": "2deb89ed",
   "metadata": {},
   "outputs": [
    {
     "data": {
      "text/plain": [
       "(28.029888268156423, 48.52733652837345)"
      ]
     },
     "execution_count": 27,
     "metadata": {},
     "output_type": "execute_result"
    }
   ],
   "source": [
    "np.abs(df['4_resample_erorr']).mean(), np.abs(df['4_resample_erorr']).std()"
   ]
  },
  {
   "cell_type": "code",
   "execution_count": 28,
   "id": "4d4df035",
   "metadata": {},
   "outputs": [
    {
     "data": {
      "text/plain": [
       "(26.01610055865922, 41.98591770216774)"
      ]
     },
     "execution_count": 28,
     "metadata": {},
     "output_type": "execute_result"
    }
   ],
   "source": [
    "np.abs(df['4_skull_erorr']).mean(), np.abs(df['4_skull_erorr']).std()"
   ]
  },
  {
   "cell_type": "code",
   "execution_count": null,
   "id": "bc2a4a4c",
   "metadata": {},
   "outputs": [],
   "source": [
    "plt.bar()"
   ]
  },
  {
   "cell_type": "code",
   "execution_count": 113,
   "id": "fe36b246",
   "metadata": {},
   "outputs": [],
   "source": [
    "h, w = np.histogram(df['4_resample_erorr'], 30)\n",
    "h_2, w_2 = np.histogram(df['4_skull_erorr'], bins=w)"
   ]
  },
  {
   "cell_type": "code",
   "execution_count": 105,
   "id": "eeeb4b51",
   "metadata": {},
   "outputs": [
    {
     "data": {
      "text/plain": [
       "11"
      ]
     },
     "execution_count": 105,
     "metadata": {},
     "output_type": "execute_result"
    }
   ],
   "source": [
    "len(h[4:15])"
   ]
  },
  {
   "cell_type": "code",
   "execution_count": 106,
   "id": "b9db7b32",
   "metadata": {},
   "outputs": [
    {
     "data": {
      "text/plain": [
       "12"
      ]
     },
     "execution_count": 106,
     "metadata": {},
     "output_type": "execute_result"
    }
   ],
   "source": [
    "len(w[4:16])"
   ]
  },
  {
   "cell_type": "code",
   "execution_count": 107,
   "id": "63b14c1b",
   "metadata": {},
   "outputs": [
    {
     "data": {
      "text/plain": [
       "11"
      ]
     },
     "execution_count": 107,
     "metadata": {},
     "output_type": "execute_result"
    }
   ],
   "source": [
    "len(xx)"
   ]
  },
  {
   "cell_type": "code",
   "execution_count": 92,
   "id": "dd616495",
   "metadata": {},
   "outputs": [
    {
     "data": {
      "text/plain": [
       "array([-103.29166667,  -83.88783333,  -64.484     ,  -45.08016667,\n",
       "        -25.67633333,   -6.2725    ,   13.13133333,   32.53516667,\n",
       "         51.939     ,   71.34283333,   90.74666667,  110.1505    ])"
      ]
     },
     "execution_count": 92,
     "metadata": {},
     "output_type": "execute_result"
    }
   ],
   "source": [
    "w[4:16]"
   ]
  },
  {
   "cell_type": "code",
   "execution_count": 101,
   "id": "e6db570d",
   "metadata": {},
   "outputs": [],
   "source": [
    "def neigh_mean(v):\n",
    "    return (v[1:] + v[:-1]) / 2"
   ]
  },
  {
   "cell_type": "code",
   "execution_count": 103,
   "id": "1eddb453",
   "metadata": {},
   "outputs": [],
   "source": [
    "xx = neigh_mean(w[4:16])"
   ]
  },
  {
   "cell_type": "code",
   "execution_count": 98,
   "id": "372e4ca6",
   "metadata": {},
   "outputs": [],
   "source": [
    "x = w[4:16]"
   ]
  },
  {
   "cell_type": "code",
   "execution_count": 99,
   "id": "25dd6e53",
   "metadata": {},
   "outputs": [
    {
     "data": {
      "text/plain": [
       "11"
      ]
     },
     "execution_count": 99,
     "metadata": {},
     "output_type": "execute_result"
    }
   ],
   "source": [
    "len(x[1:])"
   ]
  },
  {
   "cell_type": "code",
   "execution_count": 100,
   "id": "e9bbe216",
   "metadata": {},
   "outputs": [
    {
     "data": {
      "text/plain": [
       "11"
      ]
     },
     "execution_count": 100,
     "metadata": {},
     "output_type": "execute_result"
    }
   ],
   "source": [
    "len(x[:-1])"
   ]
  },
  {
   "cell_type": "code",
   "execution_count": 121,
   "id": "a9fae708",
   "metadata": {},
   "outputs": [
    {
     "data": {
      "text/plain": [
       "<BarContainer object of 11 artists>"
      ]
     },
     "execution_count": 121,
     "metadata": {},
     "output_type": "execute_result"
    },
    {
     "data": {
      "image/png": "[encoded data removed]",
      "text/plain": [
       "<Figure size 432x288 with 1 Axes>"
      ]
     },
     "metadata": {
      "needs_background": "light"
     },
     "output_type": "display_data"
    }
   ],
   "source": [
    "plt.bar(xx, h[4:15], width=17, color='tab:blue', alpha=0.4)\n",
    "plt.bar(xx, h_2[4:15], width=10, color='tab:red', alpha=0.4)"
   ]
  },
  {
   "cell_type": "code",
   "execution_count": 34,
   "id": "ca1c6ca9",
   "metadata": {},
   "outputs": [
    {
     "data": {
      "text/plain": [
       "(array([ 1.,  1.,  0.,  2.,  4., 45., 89., 17.,  7.,  7.,  3.,  2.,  0.,\n",
       "         0.,  0.,  0.,  0.,  0.,  0.,  1.]),\n",
       " array([-180.907  , -151.80125, -122.6955 ,  -93.58975,  -64.484  ,\n",
       "         -35.37825,   -6.2725 ,   22.83325,   51.939  ,   81.04475,\n",
       "         110.1505 ,  139.25625,  168.362  ,  197.46775,  226.5735 ,\n",
       "         255.67925,  284.785  ,  313.89075,  342.9965 ,  372.10225,\n",
       "         401.208  ]),\n",
       " <BarContainer object of 20 artists>)"
      ]
     },
     "execution_count": 34,
     "metadata": {},
     "output_type": "execute_result"
    },
    {
     "data": {
      "image/png": "[encoded data removed]",
      "text/plain": [
       "<Figure size 432x288 with 1 Axes>"
      ]
     },
     "metadata": {
      "needs_background": "light"
     },
     "output_type": "display_data"
    }
   ],
   "source": [
    "bins = plt.hist(df['4_resample_erorr'], bins=20)\n",
    "plt.hist(df['4_skull_erorr'], bins=bins[1], alpha=0.3)"
   ]
  },
  {
   "cell_type": "code",
   "execution_count": 37,
   "id": "96d682cf",
   "metadata": {},
   "outputs": [
    {
     "data": {
      "text/plain": [
       "[<matplotlib.lines.Line2D at 0x7f633460d8e0>]"
      ]
     },
     "execution_count": 37,
     "metadata": {},
     "output_type": "execute_result"
    },
    {
     "data": {
      "image/png": "[encoded data removed]",
      "text/plain": [
       "<Figure size 432x288 with 1 Axes>"
      ]
     },
     "metadata": {
      "needs_background": "light"
     },
     "output_type": "display_data"
    }
   ],
   "source": [
    "plt.scatter(df['4_resample_erorr'],df['4_skull_erorr'] )\n",
    "plt.plot([-200, 200], [-200, 200])"
   ]
  },
  {
   "cell_type": "code",
   "execution_count": 163,
   "id": "41dea380",
   "metadata": {},
   "outputs": [
    {
     "data": {
      "text/plain": [
       "array([-93.58975   , -74.18591667, -54.78208333, -35.37825   ,\n",
       "       -15.97441667,   3.42941667,  22.83325   ,  42.23708333,\n",
       "        61.64091667,  81.04475   , 100.44858333])"
      ]
     },
     "execution_count": 163,
     "metadata": {},
     "output_type": "execute_result"
    }
   ],
   "source": [
    "xx"
   ]
  },
  {
   "cell_type": "code",
   "execution_count": null,
   "id": "a1f8bc07",
   "metadata": {},
   "outputs": [],
   "source": [
    "plt.bar()"
   ]
  },
  {
   "cell_type": "code",
   "execution_count": 189,
   "id": "306d2eb3",
   "metadata": {},
   "outputs": [
    {
     "data": {
      "text/plain": [
       "<matplotlib.legend.Legend at 0x7f6189a641c0>"
      ]
     },
     "execution_count": 189,
     "metadata": {},
     "output_type": "execute_result"
    },
    {
     "data": {
      "image/png": "[encoded data removed]",
      "text/plain": [
       "<Figure size 432x288 with 1 Axes>"
      ]
     },
     "metadata": {
      "needs_background": "light"
     },
     "output_type": "display_data"
    }
   ],
   "source": [
    "plt.bar(xx-5, h[4:15], width=9, color='tab:blue', alpha=a, label='4. Resample to spacing', edgecolor='tab:blue', linewidth =2)\n",
    "plt.bar(xx+5, h_2[4:15], width=9, color='tab:red', alpha=a, label='4.d Skull stripping', edgecolor='tab:red', linewidth =2)\n",
    "plt.legend()"
   ]
  },
  {
   "cell_type": "code",
   "execution_count": 178,
   "id": "5baf4647",
   "metadata": {},
   "outputs": [
    {
     "data": {
      "image/png": "[encoded data removed]",
      "text/plain": [
       "<Figure size 432x1008 with 2 Axes>"
      ]
     },
     "metadata": {
      "needs_background": "light"
     },
     "output_type": "display_data"
    }
   ],
   "source": [
    "fig, ax = plt.subplots(2, 1, figsize=(6, 14), sharex=True)\n",
    "\n",
    "a = 0.5\n",
    "\n",
    "ax[0].bar(xx-2, h[4:15], width=15, color='tab:blue', alpha=a, label='4. Resample to spacing', edgecolor='tab:blue')\n",
    "ax[0].bar(xx+2, h_2[4:15], width=15, color='tab:red', alpha=a, label='4.d Skull stripping', edgecolor='tab:red')\n",
    "ax[0].legend()\n",
    "\n",
    "ax[1].scatter(df['ground_truth']-df['4_resample'], df['ground_truth'], s = 20, alpha=a, c='tab:blue', label='4. Resample to spacing')\n",
    "ax[1].scatter(df['ground_truth']-df['4_skull'], df['ground_truth'], s=20, alpha=a, c='tab:red', label='4.d Skull stripping')\n",
    "ax[1].vlines(0, 0, 220, linestyles='--', colors='tab:gray', alpha=0.3)\n",
    "ax[1].set_xlim(-100, 100)\n",
    "ax[1].set_ylim(0, 150)\n",
    "ax[1].set_ylabel('True tumor volume, ml')\n",
    "# ax[1].set_xlabel('Signed error in \\ntumor volume estimation, ml')\n",
    "ax[1].xaxis.set_ticks_position('top')\n",
    "# ax[1].set_title('Signed error in tumor\\n volume estimation, ml')\n",
    "# ax[1].legend();\n",
    "plt.tight_layout()"
   ]
  },
  {
   "cell_type": "code",
   "execution_count": 180,
   "id": "45bbb0c8",
   "metadata": {},
   "outputs": [],
   "source": [
    "from scipy.stats import ttest_ind, ttest_rel"
   ]
  },
  {
   "cell_type": "code",
   "execution_count": null,
   "id": "49dc7dd6",
   "metadata": {},
   "outputs": [],
   "source": []
  },
  {
   "cell_type": "code",
   "execution_count": 181,
   "id": "4c261d01",
   "metadata": {},
   "outputs": [
    {
     "data": {
      "text/plain": [
       "Ttest_indResult(statistic=0.32473589837581884, pvalue=0.7455717002148512)"
      ]
     },
     "execution_count": 181,
     "metadata": {},
     "output_type": "execute_result"
    }
   ],
   "source": [
    "ttest_ind(df['4_resample_erorr'], df['4_skull_erorr'])"
   ]
  },
  {
   "cell_type": "code",
   "execution_count": 182,
   "id": "80d89b49",
   "metadata": {},
   "outputs": [
    {
     "data": {
      "text/plain": [
       "Ttest_relResult(statistic=1.0216760291929048, pvalue=0.30832080458411937)"
      ]
     },
     "execution_count": 182,
     "metadata": {},
     "output_type": "execute_result"
    }
   ],
   "source": [
    "ttest_rel(df['4_resample_erorr'], df['4_skull_erorr'])"
   ]
  },
  {
   "cell_type": "code",
   "execution_count": null,
   "id": "a34c6056",
   "metadata": {},
   "outputs": [],
   "source": []
  },
  {
   "cell_type": "code",
   "execution_count": null,
   "id": "02322216",
   "metadata": {},
   "outputs": [],
   "source": []
  },
  {
   "cell_type": "code",
   "execution_count": null,
   "id": "a3bdf894",
   "metadata": {},
   "outputs": [],
   "source": []
  },
  {
   "cell_type": "code",
   "execution_count": null,
   "id": "b2e6651f",
   "metadata": {},
   "outputs": [],
   "source": []
  },
  {
   "cell_type": "code",
   "execution_count": 198,
   "id": "a17738e6",
   "metadata": {},
   "outputs": [
    {
     "data": {
      "image/png": "[encoded data removed]",
      "text/plain": [
       "<Figure size 864x432 with 2 Axes>"
      ]
     },
     "metadata": {
      "needs_background": "light"
     },
     "output_type": "display_data"
    }
   ],
   "source": [
    "from matplotlib import gridspec\n",
    "\n",
    "fig = plt.figure(figsize=(12, 6)) \n",
    "gs = gridspec.GridSpec(1, 2, width_ratios=[3, 1]) \n",
    "ax0 = plt.subplot(gs[0])\n",
    "ax1 = plt.subplot(gs[1])\n",
    "\n",
    "a = 0.5\n",
    "\n",
    "ax0.scatter(df['ground_truth'], df['ground_truth']-df['4_resample'],  s = 20,\n",
    "            alpha=a, c='tab:blue', label='4. Resample to spacing')\n",
    "\n",
    "ax0.scatter(df['ground_truth'], df['ground_truth']-df['4_skull'], s=20,\n",
    "            alpha=a, c='tab:red', label='4.d Skull stripping')\n",
    "\n",
    "ax0.hlines(0, 0, 220, linestyles='--', colors='tab:gray', alpha=0.3)\n",
    "ax0.set_xlim(0, 150)\n",
    "ax0.set_ylim(-100, 100)\n",
    "ax0.set_xlabel(r'$V_{true}$'+', ml', fontsize=15, )\n",
    "ax0.set_ylabel(r'$V_{true} - V_{estimated}$'+', ml', rotation=90,  fontsize=15, labelpad=0)\n",
    "\n",
    "ax1.barh(xx-5, width=h[4:15], height=9, color='tab:blue', alpha=a,\n",
    "         label='4. Resample to spacing', edgecolor='tab:blue',linewidth=2)\n",
    "ax1.barh(xx+5, width=h_2[4:15], height=9, color='tab:red', alpha=a,\n",
    "         label='4.d Skull stripping', edgecolor='tab:red',linewidth=2)\n",
    "ax1.set_ylim(-100, 100)\n",
    "ax1.hlines(0, 0, 80, linestyles='--', colors='tab:gray', alpha=0.3)\n",
    "ax1.text(15, 50, 'Paired T-test pvalue='+r'$0.308$')\n",
    "ax1.set_yticks([])\n",
    "ax1.legend()\n",
    "\n",
    "plt.tight_layout()\n",
    "\n",
    "plt.savefig('/home/anvar/volumes.png', dpi=300)"
   ]
  },
  {
   "cell_type": "code",
   "execution_count": 57,
   "id": "20dffa1d",
   "metadata": {},
   "outputs": [
    {
     "data": {
      "image/png": "[encoded data removed]",
      "text/plain": [
       "<Figure size 432x576 with 1 Axes>"
      ]
     },
     "metadata": {
      "needs_background": "light"
     },
     "output_type": "display_data"
    }
   ],
   "source": [
    "plt.figure(figsize=(6, 8))\n",
    "plt.scatter(df['ground_truth']-df['4_resample'], df['ground_truth'], s = 20, alpha=0.4, c='tab:blue', label='4. Resample to spacing')\n",
    "plt.scatter(df['ground_truth']-df['4_skull'], df['ground_truth'], s=20, alpha=0.4, c='tab:red', label='4.d Skull stripping')\n",
    "plt.vlines(0, 0, 220, linestyles='--', colors='tab:gray', alpha=0.3)\n",
    "plt.xlim(-100, 100)\n",
    "plt.ylim(0, 150)\n",
    "plt.ylabel('True tumor volume, ml')\n",
    "plt.xlabel('Signed error in \\ntumor volume estimation, ml')\n",
    "plt.legend();"
   ]
  },
  {
   "cell_type": "code",
   "execution_count": 44,
   "id": "a00cea41",
   "metadata": {},
   "outputs": [
    {
     "data": {
      "text/html": [
       "<div>\n",
       "<style scoped>\n",
       "    .dataframe tbody tr th:only-of-type {\n",
       "        vertical-align: middle;\n",
       "    }\n",
       "\n",
       "    .dataframe tbody tr th {\n",
       "        vertical-align: top;\n",
       "    }\n",
       "\n",
       "    .dataframe thead th {\n",
       "        text-align: right;\n",
       "    }\n",
       "</style>\n",
       "<table border=\"1\" class=\"dataframe\">\n",
       "  <thead>\n",
       "    <tr style=\"text-align: right;\">\n",
       "      <th></th>\n",
       "      <th>4_resample</th>\n",
       "      <th>4_skull</th>\n",
       "      <th>ground_truth</th>\n",
       "      <th>4_skull_erorr</th>\n",
       "      <th>4_skull_erorr,%</th>\n",
       "      <th>4_resample_erorr</th>\n",
       "      <th>4_resample_erorr,%</th>\n",
       "      <th>PatientID</th>\n",
       "      <th>Dice_resample</th>\n",
       "      <th>Dice_skull</th>\n",
       "    </tr>\n",
       "  </thead>\n",
       "  <tbody>\n",
       "    <tr>\n",
       "      <th>0</th>\n",
       "      <td>18.030</td>\n",
       "      <td>21.628</td>\n",
       "      <td>52.028</td>\n",
       "      <td>30.400</td>\n",
       "      <td>58.430076</td>\n",
       "      <td>33.998</td>\n",
       "      <td>65.345583</td>\n",
       "      <td>1019_18</td>\n",
       "      <td>0.510891</td>\n",
       "      <td>0.579125</td>\n",
       "    </tr>\n",
       "    <tr>\n",
       "      <th>1</th>\n",
       "      <td>85.615</td>\n",
       "      <td>78.336</td>\n",
       "      <td>85.891</td>\n",
       "      <td>7.555</td>\n",
       "      <td>8.796032</td>\n",
       "      <td>0.276</td>\n",
       "      <td>0.321338</td>\n",
       "      <td>1028_18_4</td>\n",
       "      <td>0.897286</td>\n",
       "      <td>0.892618</td>\n",
       "    </tr>\n",
       "    <tr>\n",
       "      <th>2</th>\n",
       "      <td>28.780</td>\n",
       "      <td>37.932</td>\n",
       "      <td>26.823</td>\n",
       "      <td>-11.109</td>\n",
       "      <td>-41.415949</td>\n",
       "      <td>-1.957</td>\n",
       "      <td>-7.295977</td>\n",
       "      <td>1029_18_4</td>\n",
       "      <td>0.680539</td>\n",
       "      <td>0.772481</td>\n",
       "    </tr>\n",
       "    <tr>\n",
       "      <th>3</th>\n",
       "      <td>104.080</td>\n",
       "      <td>106.520</td>\n",
       "      <td>99.404</td>\n",
       "      <td>-7.116</td>\n",
       "      <td>-7.158666</td>\n",
       "      <td>-4.676</td>\n",
       "      <td>-4.704036</td>\n",
       "      <td>1034_18_4</td>\n",
       "      <td>0.890222</td>\n",
       "      <td>0.898429</td>\n",
       "    </tr>\n",
       "    <tr>\n",
       "      <th>4</th>\n",
       "      <td>71.316</td>\n",
       "      <td>74.338</td>\n",
       "      <td>90.707</td>\n",
       "      <td>16.369</td>\n",
       "      <td>18.046016</td>\n",
       "      <td>19.391</td>\n",
       "      <td>21.377622</td>\n",
       "      <td>1036_18</td>\n",
       "      <td>0.867667</td>\n",
       "      <td>0.872974</td>\n",
       "    </tr>\n",
       "    <tr>\n",
       "      <th>...</th>\n",
       "      <td>...</td>\n",
       "      <td>...</td>\n",
       "      <td>...</td>\n",
       "      <td>...</td>\n",
       "      <td>...</td>\n",
       "      <td>...</td>\n",
       "      <td>...</td>\n",
       "      <td>...</td>\n",
       "      <td>...</td>\n",
       "      <td>...</td>\n",
       "    </tr>\n",
       "    <tr>\n",
       "      <th>175</th>\n",
       "      <td>25.125</td>\n",
       "      <td>46.834</td>\n",
       "      <td>39.493</td>\n",
       "      <td>-7.341</td>\n",
       "      <td>-18.588104</td>\n",
       "      <td>14.368</td>\n",
       "      <td>36.381131</td>\n",
       "      <td>Patient_9315</td>\n",
       "      <td>0.697824</td>\n",
       "      <td>0.617234</td>\n",
       "    </tr>\n",
       "    <tr>\n",
       "      <th>176</th>\n",
       "      <td>124.791</td>\n",
       "      <td>134.783</td>\n",
       "      <td>130.821</td>\n",
       "      <td>-3.962</td>\n",
       "      <td>-3.028566</td>\n",
       "      <td>6.030</td>\n",
       "      <td>4.609352</td>\n",
       "      <td>Patient_95717</td>\n",
       "      <td>0.861579</td>\n",
       "      <td>0.876290</td>\n",
       "    </tr>\n",
       "    <tr>\n",
       "      <th>177</th>\n",
       "      <td>122.405</td>\n",
       "      <td>98.982</td>\n",
       "      <td>195.536</td>\n",
       "      <td>96.554</td>\n",
       "      <td>49.379142</td>\n",
       "      <td>73.131</td>\n",
       "      <td>37.400274</td>\n",
       "      <td>Patient_98814</td>\n",
       "      <td>0.758789</td>\n",
       "      <td>0.672129</td>\n",
       "    </tr>\n",
       "    <tr>\n",
       "      <th>178</th>\n",
       "      <td>134.670</td>\n",
       "      <td>156.189</td>\n",
       "      <td>263.320</td>\n",
       "      <td>107.131</td>\n",
       "      <td>40.684718</td>\n",
       "      <td>128.650</td>\n",
       "      <td>48.856904</td>\n",
       "      <td>Patient_98817</td>\n",
       "      <td>0.623991</td>\n",
       "      <td>0.687485</td>\n",
       "    </tr>\n",
       "    <tr>\n",
       "      <th>179</th>\n",
       "      <td>86.284</td>\n",
       "      <td>70.915</td>\n",
       "      <td>94.862</td>\n",
       "      <td>23.947</td>\n",
       "      <td>25.244039</td>\n",
       "      <td>8.578</td>\n",
       "      <td>9.042609</td>\n",
       "      <td>Patient_99715</td>\n",
       "      <td>0.850640</td>\n",
       "      <td>0.819221</td>\n",
       "    </tr>\n",
       "  </tbody>\n",
       "</table>\n",
       "<p>179 rows × 10 columns</p>\n",
       "</div>"
      ],
      "text/plain": [
       "     4_resample  4_skull  ground_truth  4_skull_erorr  4_skull_erorr,%  \\\n",
       "0        18.030   21.628        52.028         30.400        58.430076   \n",
       "1        85.615   78.336        85.891          7.555         8.796032   \n",
       "2        28.780   37.932        26.823        -11.109       -41.415949   \n",
       "3       104.080  106.520        99.404         -7.116        -7.158666   \n",
       "4        71.316   74.338        90.707         16.369        18.046016   \n",
       "..          ...      ...           ...            ...              ...   \n",
       "175      25.125   46.834        39.493         -7.341       -18.588104   \n",
       "176     124.791  134.783       130.821         -3.962        -3.028566   \n",
       "177     122.405   98.982       195.536         96.554        49.379142   \n",
       "178     134.670  156.189       263.320        107.131        40.684718   \n",
       "179      86.284   70.915        94.862         23.947        25.244039   \n",
       "\n",
       "     4_resample_erorr  4_resample_erorr,%      PatientID  Dice_resample  \\\n",
       "0              33.998           65.345583        1019_18       0.510891   \n",
       "1               0.276            0.321338      1028_18_4       0.897286   \n",
       "2              -1.957           -7.295977      1029_18_4       0.680539   \n",
       "3              -4.676           -4.704036      1034_18_4       0.890222   \n",
       "4              19.391           21.377622        1036_18       0.867667   \n",
       "..                ...                 ...            ...            ...   \n",
       "175            14.368           36.381131   Patient_9315       0.697824   \n",
       "176             6.030            4.609352  Patient_95717       0.861579   \n",
       "177            73.131           37.400274  Patient_98814       0.758789   \n",
       "178           128.650           48.856904  Patient_98817       0.623991   \n",
       "179             8.578            9.042609  Patient_99715       0.850640   \n",
       "\n",
       "     Dice_skull  \n",
       "0      0.579125  \n",
       "1      0.892618  \n",
       "2      0.772481  \n",
       "3      0.898429  \n",
       "4      0.872974  \n",
       "..          ...  \n",
       "175    0.617234  \n",
       "176    0.876290  \n",
       "177    0.672129  \n",
       "178    0.687485  \n",
       "179    0.819221  \n",
       "\n",
       "[179 rows x 10 columns]"
      ]
     },
     "execution_count": 44,
     "metadata": {},
     "output_type": "execute_result"
    }
   ],
   "source": [
    "df"
   ]
  },
  {
   "cell_type": "code",
   "execution_count": 18,
   "id": "1d0c7363",
   "metadata": {},
   "outputs": [
    {
     "data": {
      "image/png": "[encoded data removed]",
      "text/plain": [
       "<Figure size 864x432 with 1 Axes>"
      ]
     },
     "metadata": {
      "needs_background": "light"
     },
     "output_type": "display_data"
    }
   ],
   "source": [
    "# Absolute difference\n",
    "\n",
    "plt.figure(figsize=(12,6))\n",
    "plt.scatter(df['ground_truth'], df['ground_truth']-df['4_resample'], s = 20, alpha=0.4, c='tab:blue', label='4. Resample to spacing')\n",
    "plt.scatter(df['ground_truth'], df['ground_truth']-df['4_skull'], s=20, alpha=0.4, c='tab:red', label='4.d Skull stripping')\n",
    "plt.hlines(0, 0, 220, linestyles='--', colors='tab:green', alpha=0.3)\n",
    "plt.xlim(0, 230)\n",
    "plt.ylim(-200, 200)\n",
    "plt.xlabel('True tumor volume, ml')\n",
    "plt.ylabel('Signed error in \\ntumor volume estimation, ml')\n",
    "plt.legend();"
   ]
  },
  {
   "cell_type": "code",
   "execution_count": 215,
   "id": "1720c66f",
   "metadata": {},
   "outputs": [
    {
     "data": {
      "image/png": "[encoded data removed]",
      "text/plain": [
       "<Figure size 864x432 with 1 Axes>"
      ]
     },
     "metadata": {
      "needs_background": "light"
     },
     "output_type": "display_data"
    }
   ],
   "source": [
    "# Percentage difference\n",
    "font = {'size'   : 14}\n",
    "plt.rc('font', **font)\n",
    "plt.figure(figsize=(12,6))\n",
    "plt.scatter(df['ground_truth'], (df['ground_truth']-df['4_resample'])/df['ground_truth']*100, s = 20, alpha=0.4, c='tab:blue', label='4. Resample to spacing')\n",
    "plt.scatter(df['ground_truth'], (df['ground_truth']-df['4_skull'])/df['ground_truth']*100, s=20, alpha=0.4, c='tab:red', label='4.d Skull stripping')\n",
    "plt.hlines(0, 0, 220, linestyles='--', alpha=0.2, colors='tab:blue')\n",
    "plt.xlim(0, 230)\n",
    "plt.xlabel('True tumor volume, ml')\n",
    "plt.ylabel('Signed error in \\ntumor volume estimation, %')\n",
    "plt.legend();\n",
    "plt.tight_layout()\n",
    "plt.savefig('/home/anvar/volume_errors_percentage.png')"
   ]
  },
  {
   "cell_type": "code",
   "execution_count": 216,
   "id": "2c7a63d9",
   "metadata": {},
   "outputs": [],
   "source": [
    "from sklearn.metrics import mean_absolute_error, mean_absolute_percentage_error"
   ]
  },
  {
   "cell_type": "code",
   "execution_count": 217,
   "id": "121f1a93",
   "metadata": {},
   "outputs": [
    {
     "data": {
      "text/plain": [
       "28.029888268156427"
      ]
     },
     "execution_count": 217,
     "metadata": {},
     "output_type": "execute_result"
    }
   ],
   "source": [
    "mean_absolute_error(df['4_resample'], df['ground_truth'])"
   ]
  },
  {
   "cell_type": "code",
   "execution_count": 228,
   "id": "7f86cbdb",
   "metadata": {},
   "outputs": [
    {
     "data": {
      "text/plain": [
       "3.03964310118791"
      ]
     },
     "execution_count": 228,
     "metadata": {},
     "output_type": "execute_result"
    }
   ],
   "source": [
    "mean_absolute_percentage_error(df['4_resample'], df['ground_truth'])"
   ]
  },
  {
   "cell_type": "code",
   "execution_count": 219,
   "id": "0dac98fc",
   "metadata": {},
   "outputs": [
    {
     "data": {
      "text/plain": [
       "26.016100558659215"
      ]
     },
     "execution_count": 219,
     "metadata": {},
     "output_type": "execute_result"
    }
   ],
   "source": [
    "mean_absolute_error(df['4_skull'], df['ground_truth'])"
   ]
  },
  {
   "cell_type": "code",
   "execution_count": 229,
   "id": "8f7bda8c",
   "metadata": {},
   "outputs": [
    {
     "data": {
      "text/plain": [
       "0.36463643818277863"
      ]
     },
     "execution_count": 229,
     "metadata": {},
     "output_type": "execute_result"
    }
   ],
   "source": [
    "mean_absolute_percentage_error(df['4_skull'], df['ground_truth'])"
   ]
  },
  {
   "cell_type": "code",
   "execution_count": 232,
   "id": "62bd968a",
   "metadata": {},
   "outputs": [
    {
     "data": {
      "text/plain": [
       "2.4665730167597757"
      ]
     },
     "execution_count": 232,
     "metadata": {},
     "output_type": "execute_result"
    }
   ],
   "source": [
    "df['ground_truth'].mean() * 0.03"
   ]
  },
  {
   "cell_type": "code",
   "execution_count": 221,
   "id": "8627e0bb",
   "metadata": {},
   "outputs": [
    {
     "data": {
      "text/plain": [
       "[<matplotlib.lines.Line2D at 0x7fcce149f130>]"
      ]
     },
     "execution_count": 221,
     "metadata": {},
     "output_type": "execute_result"
    },
    {
     "data": {
      "image/png": "[encoded data removed]",
      "text/plain": [
       "<Figure size 432x288 with 1 Axes>"
      ]
     },
     "metadata": {
      "needs_background": "light"
     },
     "output_type": "display_data"
    }
   ],
   "source": [
    "plt.scatter(df['4_skull'], df['ground_truth'])\n",
    "plt.plot([0,200], [0,200])"
   ]
  },
  {
   "cell_type": "code",
   "execution_count": 49,
   "id": "fbad7d7b",
   "metadata": {},
   "outputs": [
    {
     "data": {
      "text/plain": [
       "(-50.0, 50.0)"
      ]
     },
     "execution_count": 49,
     "metadata": {},
     "output_type": "execute_result"
    },
    {
     "data": {
      "image/png": "[encoded data removed]",
      "text/plain": [
       "<Figure size 432x288 with 1 Axes>"
      ]
     },
     "metadata": {
      "needs_background": "light"
     },
     "output_type": "display_data"
    }
   ],
   "source": [
    "plt.scatter(df['Dice_resample']*100, df['4_resample_erorr'],s=1);\n",
    "plt.ylim([-50, 50])"
   ]
  },
  {
   "cell_type": "code",
   "execution_count": 243,
   "id": "e40f7ae6",
   "metadata": {},
   "outputs": [],
   "source": [
    "df['diff'] = df['Dice_skull'] - df['Dice_resample']"
   ]
  },
  {
   "cell_type": "code",
   "execution_count": 244,
   "id": "13fd8b81",
   "metadata": {},
   "outputs": [
    {
     "data": {
      "text/html": [
       "<div>\n",
       "<style scoped>\n",
       "    .dataframe tbody tr th:only-of-type {\n",
       "        vertical-align: middle;\n",
       "    }\n",
       "\n",
       "    .dataframe tbody tr th {\n",
       "        vertical-align: top;\n",
       "    }\n",
       "\n",
       "    .dataframe thead th {\n",
       "        text-align: right;\n",
       "    }\n",
       "</style>\n",
       "<table border=\"1\" class=\"dataframe\">\n",
       "  <thead>\n",
       "    <tr style=\"text-align: right;\">\n",
       "      <th></th>\n",
       "      <th>4_resample</th>\n",
       "      <th>4_skull</th>\n",
       "      <th>ground_truth</th>\n",
       "      <th>4_skull_erorr</th>\n",
       "      <th>4_resample_erorr</th>\n",
       "      <th>4_skull_erorr,%</th>\n",
       "      <th>4_resample_erorr,%</th>\n",
       "      <th>PatientID</th>\n",
       "      <th>Dice_resample</th>\n",
       "      <th>Dice_skull</th>\n",
       "      <th>diff</th>\n",
       "    </tr>\n",
       "  </thead>\n",
       "  <tbody>\n",
       "    <tr>\n",
       "      <th>172</th>\n",
       "      <td>46.363</td>\n",
       "      <td>131.266</td>\n",
       "      <td>49.862</td>\n",
       "      <td>-81.404</td>\n",
       "      <td>3.499</td>\n",
       "      <td>-163.258594</td>\n",
       "      <td>7.017368</td>\n",
       "      <td>Patient_90517</td>\n",
       "      <td>0.834773</td>\n",
       "      <td>0.525507</td>\n",
       "      <td>-0.309266</td>\n",
       "    </tr>\n",
       "    <tr>\n",
       "      <th>57</th>\n",
       "      <td>18.919</td>\n",
       "      <td>11.218</td>\n",
       "      <td>21.293</td>\n",
       "      <td>10.075</td>\n",
       "      <td>2.374</td>\n",
       "      <td>47.316019</td>\n",
       "      <td>11.149204</td>\n",
       "      <td>255_18</td>\n",
       "      <td>0.877748</td>\n",
       "      <td>0.670973</td>\n",
       "      <td>-0.206775</td>\n",
       "    </tr>\n",
       "    <tr>\n",
       "      <th>92</th>\n",
       "      <td>103.447</td>\n",
       "      <td>51.264</td>\n",
       "      <td>131.334</td>\n",
       "      <td>80.070</td>\n",
       "      <td>27.887</td>\n",
       "      <td>60.966696</td>\n",
       "      <td>21.233649</td>\n",
       "      <td>Patient_102117</td>\n",
       "      <td>0.696249</td>\n",
       "      <td>0.506030</td>\n",
       "      <td>-0.190219</td>\n",
       "    </tr>\n",
       "    <tr>\n",
       "      <th>170</th>\n",
       "      <td>13.752</td>\n",
       "      <td>23.110</td>\n",
       "      <td>5.189</td>\n",
       "      <td>-17.921</td>\n",
       "      <td>-8.563</td>\n",
       "      <td>-345.365196</td>\n",
       "      <td>-165.022162</td>\n",
       "      <td>Patient_88917</td>\n",
       "      <td>0.527955</td>\n",
       "      <td>0.348634</td>\n",
       "      <td>-0.179321</td>\n",
       "    </tr>\n",
       "    <tr>\n",
       "      <th>94</th>\n",
       "      <td>110.725</td>\n",
       "      <td>74.424</td>\n",
       "      <td>171.229</td>\n",
       "      <td>96.805</td>\n",
       "      <td>60.504</td>\n",
       "      <td>56.535400</td>\n",
       "      <td>35.335136</td>\n",
       "      <td>Patient_104514</td>\n",
       "      <td>0.767239</td>\n",
       "      <td>0.604088</td>\n",
       "      <td>-0.163151</td>\n",
       "    </tr>\n",
       "    <tr>\n",
       "      <th>...</th>\n",
       "      <td>...</td>\n",
       "      <td>...</td>\n",
       "      <td>...</td>\n",
       "      <td>...</td>\n",
       "      <td>...</td>\n",
       "      <td>...</td>\n",
       "      <td>...</td>\n",
       "      <td>...</td>\n",
       "      <td>...</td>\n",
       "      <td>...</td>\n",
       "      <td>...</td>\n",
       "    </tr>\n",
       "    <tr>\n",
       "      <th>38</th>\n",
       "      <td>63.101</td>\n",
       "      <td>29.959</td>\n",
       "      <td>29.610</td>\n",
       "      <td>-0.349</td>\n",
       "      <td>-33.491</td>\n",
       "      <td>-1.178656</td>\n",
       "      <td>-113.107058</td>\n",
       "      <td>1546_18</td>\n",
       "      <td>0.599519</td>\n",
       "      <td>0.885192</td>\n",
       "      <td>0.285673</td>\n",
       "    </tr>\n",
       "    <tr>\n",
       "      <th>133</th>\n",
       "      <td>0.815</td>\n",
       "      <td>13.188</td>\n",
       "      <td>9.316</td>\n",
       "      <td>-3.872</td>\n",
       "      <td>8.501</td>\n",
       "      <td>-41.562903</td>\n",
       "      <td>91.251610</td>\n",
       "      <td>Patient_24717</td>\n",
       "      <td>0.119830</td>\n",
       "      <td>0.452009</td>\n",
       "      <td>0.332178</td>\n",
       "    </tr>\n",
       "    <tr>\n",
       "      <th>65</th>\n",
       "      <td>0.237</td>\n",
       "      <td>39.118</td>\n",
       "      <td>10.027</td>\n",
       "      <td>-29.091</td>\n",
       "      <td>9.790</td>\n",
       "      <td>-290.126658</td>\n",
       "      <td>97.636382</td>\n",
       "      <td>575_18_4</td>\n",
       "      <td>0.020655</td>\n",
       "      <td>0.364310</td>\n",
       "      <td>0.343655</td>\n",
       "    </tr>\n",
       "    <tr>\n",
       "      <th>22</th>\n",
       "      <td>6.969</td>\n",
       "      <td>17.666</td>\n",
       "      <td>21.698</td>\n",
       "      <td>4.032</td>\n",
       "      <td>14.729</td>\n",
       "      <td>18.582358</td>\n",
       "      <td>67.881832</td>\n",
       "      <td>1275_19_4</td>\n",
       "      <td>0.403181</td>\n",
       "      <td>0.765522</td>\n",
       "      <td>0.362340</td>\n",
       "    </tr>\n",
       "    <tr>\n",
       "      <th>111</th>\n",
       "      <td>0.775</td>\n",
       "      <td>154.603</td>\n",
       "      <td>319.711</td>\n",
       "      <td>165.108</td>\n",
       "      <td>318.936</td>\n",
       "      <td>51.642890</td>\n",
       "      <td>99.757594</td>\n",
       "      <td>Patient_129816</td>\n",
       "      <td>0.004762</td>\n",
       "      <td>0.597575</td>\n",
       "      <td>0.592813</td>\n",
       "    </tr>\n",
       "  </tbody>\n",
       "</table>\n",
       "<p>179 rows × 11 columns</p>\n",
       "</div>"
      ],
      "text/plain": [
       "     4_resample  4_skull  ground_truth  4_skull_erorr  4_resample_erorr  \\\n",
       "172      46.363  131.266        49.862        -81.404             3.499   \n",
       "57       18.919   11.218        21.293         10.075             2.374   \n",
       "92      103.447   51.264       131.334         80.070            27.887   \n",
       "170      13.752   23.110         5.189        -17.921            -8.563   \n",
       "94      110.725   74.424       171.229         96.805            60.504   \n",
       "..          ...      ...           ...            ...               ...   \n",
       "38       63.101   29.959        29.610         -0.349           -33.491   \n",
       "133       0.815   13.188         9.316         -3.872             8.501   \n",
       "65        0.237   39.118        10.027        -29.091             9.790   \n",
       "22        6.969   17.666        21.698          4.032            14.729   \n",
       "111       0.775  154.603       319.711        165.108           318.936   \n",
       "\n",
       "     4_skull_erorr,%  4_resample_erorr,%       PatientID  Dice_resample  \\\n",
       "172      -163.258594            7.017368   Patient_90517       0.834773   \n",
       "57         47.316019           11.149204          255_18       0.877748   \n",
       "92         60.966696           21.233649  Patient_102117       0.696249   \n",
       "170      -345.365196         -165.022162   Patient_88917       0.527955   \n",
       "94         56.535400           35.335136  Patient_104514       0.767239   \n",
       "..               ...                 ...             ...            ...   \n",
       "38         -1.178656         -113.107058         1546_18       0.599519   \n",
       "133       -41.562903           91.251610   Patient_24717       0.119830   \n",
       "65       -290.126658           97.636382        575_18_4       0.020655   \n",
       "22         18.582358           67.881832       1275_19_4       0.403181   \n",
       "111        51.642890           99.757594  Patient_129816       0.004762   \n",
       "\n",
       "     Dice_skull      diff  \n",
       "172    0.525507 -0.309266  \n",
       "57     0.670973 -0.206775  \n",
       "92     0.506030 -0.190219  \n",
       "170    0.348634 -0.179321  \n",
       "94     0.604088 -0.163151  \n",
       "..          ...       ...  \n",
       "38     0.885192  0.285673  \n",
       "133    0.452009  0.332178  \n",
       "65     0.364310  0.343655  \n",
       "22     0.765522  0.362340  \n",
       "111    0.597575  0.592813  \n",
       "\n",
       "[179 rows x 11 columns]"
      ]
     },
     "execution_count": 244,
     "metadata": {},
     "output_type": "execute_result"
    }
   ],
   "source": [
    "df.sort_values('diff')"
   ]
  },
  {
   "cell_type": "code",
   "execution_count": null,
   "id": "4d9ef045",
   "metadata": {},
   "outputs": [],
   "source": []
  },
  {
   "cell_type": "code",
   "execution_count": null,
   "id": "e87c240f",
   "metadata": {},
   "outputs": [],
   "source": []
  },
  {
   "cell_type": "code",
   "execution_count": 254,
   "id": "f593db33",
   "metadata": {},
   "outputs": [],
   "source": [
    "x = predictions_4_resamp['1275_19_4']\n",
    "y = predictions_4_ss['1275_19_4']\n",
    "z = ground_truth['1275_19_4']\n",
    "\n",
    "image = nibabel.load('/anvar/public_datasets/preproc_study/bgpd/4a_resamp/1275_19_4/FLAIR.nii.gz').get_fdata()"
   ]
  },
  {
   "cell_type": "code",
   "execution_count": 251,
   "id": "0f61b06f",
   "metadata": {},
   "outputs": [
    {
     "data": {
      "text/plain": [
       "(240, 240, 180)"
      ]
     },
     "execution_count": 251,
     "metadata": {},
     "output_type": "execute_result"
    }
   ],
   "source": [
    "x.shape"
   ]
  },
  {
   "cell_type": "code",
   "execution_count": 255,
   "id": "8a36f570",
   "metadata": {},
   "outputs": [
    {
     "data": {
      "text/plain": [
       "(180, 240, 240)"
      ]
     },
     "execution_count": 255,
     "metadata": {},
     "output_type": "execute_result"
    }
   ],
   "source": [
    "z.shape"
   ]
  },
  {
   "cell_type": "code",
   "execution_count": 252,
   "id": "20c945f7",
   "metadata": {},
   "outputs": [
    {
     "data": {
      "text/plain": [
       "(180, 240, 240)"
      ]
     },
     "execution_count": 252,
     "metadata": {},
     "output_type": "execute_result"
    }
   ],
   "source": [
    "image.shape"
   ]
  },
  {
   "cell_type": "code",
   "execution_count": 256,
   "id": "88d86580",
   "metadata": {},
   "outputs": [
    {
     "data": {
      "application/vnd.jupyter.widget-view+json": {
       "model_id": "eb894d5c832b451a9b051c31ccc6923d",
       "version_major": 2,
       "version_minor": 0
      },
      "text/plain": [
       "interactive(children=(IntSlider(value=0, continuous_update=False, description='idx', max=239), Output()), _dom…"
      ]
     },
     "metadata": {},
     "output_type": "display_data"
    }
   ],
   "source": [
    "slice3d(image, x.T, y.T, z)"
   ]
  },
  {
   "cell_type": "code",
   "execution_count": null,
   "id": "af19a336",
   "metadata": {},
   "outputs": [],
   "source": []
  },
  {
   "cell_type": "code",
   "execution_count": null,
   "id": "245ef550",
   "metadata": {},
   "outputs": [],
   "source": []
  },
  {
   "cell_type": "code",
   "execution_count": null,
   "id": "0530bc2a",
   "metadata": {},
   "outputs": [],
   "source": []
  },
  {
   "cell_type": "code",
   "execution_count": 179,
   "id": "e02ce350",
   "metadata": {},
   "outputs": [],
   "source": [
    "image = nibabel.load('/anvar/public_datasets/preproc_study/bgpd/4a_resamp/1362_18_4/FLAIR.nii.gz').get_fdata()\n",
    "# image = nibabel.load('/anvar/public_datasets/preproc_study/bgpd/4a_resamp/Patient_129816/FLAIR.nii.gz').get_fdata()\n",
    "\n",
    "# image = nibabel.load('/anvar/public_datasets/preproc_study/bgpd/4a_resamp/Patient_24717/FLAIR.nii.gz').get_fdata()"
   ]
  },
  {
   "cell_type": "code",
   "execution_count": 195,
   "id": "10630c12",
   "metadata": {},
   "outputs": [],
   "source": [
    "# root = Path('/anvar/public_datasets/preproc_study/bgpd/orig/Patient_129816')\n",
    "# img = nibabel.load(root / 'FLAIR.nii.gz').get_fdata()\n",
    "# m = nibabel.load(root / 'mask_GTV_FLAIR.nii.gz').get_fdata()"
   ]
  },
  {
   "cell_type": "code",
   "execution_count": 196,
   "id": "2aed1c51",
   "metadata": {},
   "outputs": [],
   "source": [
    "# slice3d(img, m, img+m*400)"
   ]
  },
  {
   "cell_type": "markdown",
   "id": "91c546c9",
   "metadata": {},
   "source": [
    "# check raw data"
   ]
  },
  {
   "cell_type": "code",
   "execution_count": 197,
   "id": "a8275f89",
   "metadata": {},
   "outputs": [],
   "source": [
    "# root = Path('/anvar/private_datasets/glioma_burdenko/dcm2nii_training_set_GOST/1362_18_4')"
   ]
  },
  {
   "cell_type": "code",
   "execution_count": 198,
   "id": "6b3e2348",
   "metadata": {},
   "outputs": [],
   "source": [
    "# from pydicom import dcmread\n",
    "# from dicom_csv import join_tree, order_series, stack_images"
   ]
  },
  {
   "cell_type": "code",
   "execution_count": 199,
   "id": "b9b3142f",
   "metadata": {},
   "outputs": [],
   "source": [
    "# images2d[0]"
   ]
  },
  {
   "cell_type": "code",
   "execution_count": 200,
   "id": "1f4a0b31",
   "metadata": {},
   "outputs": [],
   "source": [
    "# images2d = [dcmread(filename) for filename in (root / 'REF').glob('*')]\n",
    "# image3d = stack_images(order_series(images2d))\n",
    "# image3d = np.clip(image3d, 0, 80)\n",
    "\n",
    "# mask2d = [dcmread(filename) for filename in (root / 'MASK_DICOM_CT').glob('*')]\n",
    "# mask3d = stack_images(order_series(mask2d))"
   ]
  },
  {
   "cell_type": "code",
   "execution_count": 201,
   "id": "656d488e",
   "metadata": {},
   "outputs": [],
   "source": [
    "# images2d = [dcmread(filename) for filename in (root / 'CT1').glob('*')]\n",
    "# image3d_ct = stack_images(order_series(images2d))"
   ]
  },
  {
   "cell_type": "code",
   "execution_count": null,
   "id": "c57ff9d7",
   "metadata": {},
   "outputs": [],
   "source": []
  }
 ],
 "metadata": {
  "kernelspec": {
   "display_name": "Python 3",
   "language": "python",
   "name": "python3"
  },
  "language_info": {
   "codemirror_mode": {
    "name": "ipython",
    "version": 3
   },
   "file_extension": ".py",
   "mimetype": "text/x-python",
   "name": "python",
   "nbconvert_exporter": "python",
   "pygments_lexer": "ipython3",
   "version": "3.8.8"
  }
 },
 "nbformat": 4,
 "nbformat_minor": 5
}
