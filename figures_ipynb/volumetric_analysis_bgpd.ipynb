{
 "cells": [
  {
   "cell_type": "code",
   "execution_count": 3,
   "id": "e55e2230",
   "metadata": {},
   "outputs": [],
   "source": [
    "import matplotlib.pyplot as plt\n",
    "import nibabel\n",
    "import numpy as np\n",
    "import pandas as pd\n",
    "from pathlib import Path\n",
    "from skimage.transform import rescale"
   ]
  },
  {
   "cell_type": "code",
   "execution_count": 9,
   "id": "ed43800d",
   "metadata": {},
   "outputs": [],
   "source": []
  },
  {
   "cell_type": "code",
   "execution_count": 5,
   "id": "d1eb29a3",
   "metadata": {},
   "outputs": [],
   "source": [
    "folds = {\n",
    "    \"fold_0\": [\n",
    "        \"1029_18_4\",\n",
    "        \"1036_18\",\n",
    "        \"1159_18_4\",\n",
    "        \"1184_18\",\n",
    "        \"1216_18\",\n",
    "        \"1254_18\",\n",
    "        \"1257_18\",\n",
    "        \"1258_18\",\n",
    "        \"1326_18\",\n",
    "        \"1360_18\",\n",
    "        \"1484_18_4\",\n",
    "        \"1515_18_4\",\n",
    "        \"1566_18\",\n",
    "        \"1573_18_4\",\n",
    "        \"1646_18\",\n",
    "        \"1744_18\",\n",
    "        \"1765_18_4\",\n",
    "        \"1769_18\",\n",
    "        \"1781_18\",\n",
    "        \"1788_18_4\",\n",
    "        \"1795_18_\",\n",
    "        \"423_18\",\n",
    "        \"607_18\",\n",
    "        \"608_18_4\",\n",
    "        \"660_18_4\",\n",
    "        \"672_18_4\",\n",
    "        \"788_18\",\n",
    "        \"Patient_1000314\",\n",
    "        \"Patient_102117\",\n",
    "        \"Patient_103717\",\n",
    "        \"Patient_104514\",\n",
    "        \"Patient_109414\",\n",
    "        \"Patient_110014\",\n",
    "        \"Patient_110816\",\n",
    "        \"Patient_120115\",\n",
    "        \"Patient_12214\",\n",
    "        \"Patient_123816\",\n",
    "        \"Patient_129816\",\n",
    "        \"Patient_135915\",\n",
    "        \"Patient_137315\",\n",
    "        \"Patient_138316\",\n",
    "        \"Patient_138516\",\n",
    "        \"Patient_15215\",\n",
    "        \"Patient_20717\",\n",
    "        \"Patient_28514\",\n",
    "        \"Patient_2914\",\n",
    "        \"Patient_33217\",\n",
    "        \"Patient_51815\",\n",
    "        \"Patient_54317\",\n",
    "        \"Patient_59817\",\n",
    "        \"Patient_62315\",\n",
    "        \"Patient_62817\",\n",
    "        \"Patient_65516\",\n",
    "        \"Patient_74417\",\n",
    "        \"Patient_75116\",\n",
    "        \"Patient_89117\",\n",
    "        \"Patient_92114\",\n",
    "        \"Patient_9315\",\n",
    "        \"Patient_95717\",\n",
    "        \"Patient_98817\"\n",
    "    ],\n",
    "    \"fold_1\": [\n",
    "        \"1019_18\",\n",
    "        \"1034_18_4\",\n",
    "        \"1056_18_4\",\n",
    "        \"1096_18\",\n",
    "        \"1112_19_4\",\n",
    "        \"1214_18\",\n",
    "        \"1255_18\",\n",
    "        \"1267_18_4\",\n",
    "        \"1275_19_4\",\n",
    "        \"1333_18\",\n",
    "        \"1354_18_4\",\n",
    "        \"1421_18\",\n",
    "        \"1470_18_4\",\n",
    "        \"1541_18_4\",\n",
    "        \"1635_18\",\n",
    "        \"1702_18\",\n",
    "        \"1733_18\",\n",
    "        \"1734_18\",\n",
    "        \"1743_18_4\",\n",
    "        \"1746_18_4\",\n",
    "        \"1764_18_4\",\n",
    "        \"255_18\",\n",
    "        \"322_18_4\",\n",
    "        \"351_18\",\n",
    "        \"541_18\",\n",
    "        \"558_18_4\",\n",
    "        \"575_18_4\",\n",
    "        \"593_18\",\n",
    "        \"644_19_4\",\n",
    "        \"664_18_4\",\n",
    "        \"688_18\",\n",
    "        \"745_18_4\",\n",
    "        \"770_18\",\n",
    "        \"875_18_4\",\n",
    "        \"925_18_4\",\n",
    "        \"946_18\",\n",
    "        \"971_18_4\",\n",
    "        \"Patient_1000815\",\n",
    "        \"Patient_105215\",\n",
    "        \"Patient_12115\",\n",
    "        \"Patient_129316\",\n",
    "        \"Patient_129415\",\n",
    "        \"Patient_130514\",\n",
    "        \"Patient_136415\",\n",
    "        \"Patient_158716\",\n",
    "        \"Patient_161316\",\n",
    "        \"Patient_24117\",\n",
    "        \"Patient_24815\",\n",
    "        \"Patient_45217\",\n",
    "        \"Patient_5117\",\n",
    "        \"Patient_56717\",\n",
    "        \"Patient_59315\",\n",
    "        \"Patient_61715\",\n",
    "        \"Patient_61916\",\n",
    "        \"Patient_66615\",\n",
    "        \"Patient_69515\",\n",
    "        \"Patient_70614\",\n",
    "        \"Patient_76516\",\n",
    "        \"Patient_83714\",\n",
    "        \"Patient_98814\"\n",
    "    ],\n",
    "    \"fold_2\": [\n",
    "        \"1028_18_4\",\n",
    "        \"1043_18_4\",\n",
    "        \"1072_19\",\n",
    "        \"1164_18\",\n",
    "        \"1170_18_4\",\n",
    "        \"1185_18_4\",\n",
    "        \"1302_18_4\",\n",
    "        \"1357_19_4\",\n",
    "        \"1362_18_4\",\n",
    "        \"1463_18_4\",\n",
    "        \"1501_18_4\",\n",
    "        \"1539_18\",\n",
    "        \"1546_18\",\n",
    "        \"1685_18_4\",\n",
    "        \"1770_18_4\",\n",
    "        \"349_18_4\",\n",
    "        \"573_18_4\",\n",
    "        \"668_18_4\",\n",
    "        \"705_18_4\",\n",
    "        \"746_19_4\",\n",
    "        \"826_18_4\",\n",
    "        \"856_19_4\",\n",
    "        \"923_18\",\n",
    "        \"979_18_4\",\n",
    "        \"990_18_4\",\n",
    "        \"Patient_1001316\",\n",
    "        \"Patient_107017\",\n",
    "        \"Patient_109017\",\n",
    "        \"Patient_111016\",\n",
    "        \"Patient_122315\",\n",
    "        \"Patient_12417\",\n",
    "        \"Patient_127916\",\n",
    "        \"Patient_131416\",\n",
    "        \"Patient_132216\",\n",
    "        \"Patient_133916\",\n",
    "        \"Patient_136715\",\n",
    "        \"Patient_136915\",\n",
    "        \"Patient_140316\",\n",
    "        \"Patient_146716\",\n",
    "        \"Patient_15817\",\n",
    "        \"Patient_1815\",\n",
    "        \"Patient_22117\",\n",
    "        \"Patient_24717\",\n",
    "        \"Patient_43316\",\n",
    "        \"Patient_43515\",\n",
    "        \"Patient_48417\",\n",
    "        \"Patient_48517\",\n",
    "        \"Patient_49617\",\n",
    "        \"Patient_52315\",\n",
    "        \"Patient_716\",\n",
    "        \"Patient_72715\",\n",
    "        \"Patient_8017\",\n",
    "        \"Patient_83217\",\n",
    "        \"Patient_84116\",\n",
    "        \"Patient_87114\",\n",
    "        \"Patient_88817\",\n",
    "        \"Patient_88917\",\n",
    "        \"Patient_90517\",\n",
    "        \"Patient_90616\",\n",
    "        \"Patient_99715\"\n",
    "    ]\n",
    "}"
   ]
  },
  {
   "cell_type": "code",
   "execution_count": 10,
   "id": "71909483",
   "metadata": {},
   "outputs": [
    {
     "data": {
      "text/plain": [
       "[PosixPath('/anvar/results/bgpd_4a_resamp_300/predictions_best_epoch=234-dice_mean=73_79_task=40_fold=1_tta'),\n",
       " PosixPath('/anvar/results/bgpd_4a_resamp_300/predictions_best_epoch=226-dice_mean=73_37_task=40_fold=0_tta'),\n",
       " PosixPath('/anvar/results/bgpd_4a_resamp_300/predictions_best_epoch=194-dice_mean=72_52_task=40_fold=2_tta')]"
      ]
     },
     "execution_count": 10,
     "metadata": {},
     "output_type": "execute_result"
    }
   ],
   "source": [
    "list(root.glob('*'))"
   ]
  },
  {
   "cell_type": "code",
   "execution_count": 118,
   "id": "6426d97f",
   "metadata": {},
   "outputs": [],
   "source": [
    "def get_volumes(fold0, fold1, fold2):\n",
    "    volumes = dict()\n",
    "    for patient in fold0.glob('*'):\n",
    "        if patient.name.split('.')[0] in folds['fold_0']:\n",
    "            prediction = np.load(patient)\n",
    "            volume = (prediction['arr_0'][0] > 0.5).sum() / 1000\n",
    "            volumes[patient.name.split('.')[0]]  = volume\n",
    "\n",
    "    for patient in fold1.glob('*'):\n",
    "        if patient.name.split('.')[0] in folds['fold_1']:\n",
    "            prediction = np.load(patient)\n",
    "            volume = (prediction['arr_0'][0] > 0.5).sum() / 1000\n",
    "            volumes[patient.name.split('.')[0]]  = volume\n",
    "\n",
    "    for patient in fold2.glob('*'):\n",
    "        if patient.name.split('.')[0] in folds['fold_2']:\n",
    "            prediction = np.load(patient)\n",
    "            volume = (prediction['arr_0'][0] > 0.5).sum() / 1000\n",
    "            volumes[patient.name.split('.')[0]]  = volume\n",
    "    \n",
    "    return volumes    \n",
    "\n",
    "def get_predictions(fold0, fold1, fold2):\n",
    "    predictions = dict()\n",
    "    for patient in fold0.glob('*'):\n",
    "        if patient.name.split('.')[0] in folds['fold_0']:\n",
    "            prediction = np.load(patient)\n",
    "            prediction = prediction['arr_0'][0] > 0.5\n",
    "            predictions[patient.name.split('.')[0]]  = prediction\n",
    "\n",
    "    for patient in fold1.glob('*'):\n",
    "        if patient.name.split('.')[0] in folds['fold_1']:\n",
    "            prediction = np.load(patient)\n",
    "            prediction = prediction['arr_0'][0] > 0.5\n",
    "            predictions[patient.name.split('.')[0]]  = prediction\n",
    "\n",
    "    for patient in fold2.glob('*'):\n",
    "        if patient.name.split('.')[0] in folds['fold_2']:\n",
    "            prediction = np.load(patient)\n",
    "            prediction = prediction['arr_0'][0] > 0.5\n",
    "            predictions[patient.name.split('.')[0]]  = prediction\n",
    "    \n",
    "    return predictions    "
   ]
  },
  {
   "cell_type": "code",
   "execution_count": null,
   "id": "f693cc2c",
   "metadata": {},
   "outputs": [],
   "source": []
  },
  {
   "cell_type": "code",
   "execution_count": 119,
   "id": "5e043506",
   "metadata": {},
   "outputs": [],
   "source": [
    "root = Path('/anvar/results/bgpd_4a_resamp_300')\n",
    "fold0_4_resamp = root / 'predictions_best_epoch=226-dice_mean=73_37_task=40_fold=0_tta'\n",
    "fold1_4_resamp = root / 'predictions_best_epoch=234-dice_mean=73_79_task=40_fold=1_tta'\n",
    "fold2_4_resamp = root / 'predictions_best_epoch=194-dice_mean=72_52_task=40_fold=2_tta'\n",
    "\n",
    "root = Path('/anvar/results/bgpd_5_ss_shared')\n",
    "fold0_4_ss = root / 'predictions_best_epoch=185-dice_mean=75_45_task=51_fold=0_tta'\n",
    "fold1_4_ss = root / 'predictions_best_epoch=228-dice_mean=75_79_task=51_fold=1_tta'\n",
    "fold2_4_ss = root / 'predictions_best_epoch=205-dice_mean=72_80_task=51_fold=2_tta'\n",
    "\n",
    "volumes_4_resamp = get_volumes(fold0_4_resamp, fold1_4_resamp, fold2_4_resamp)\n",
    "volumes_4_ss = get_volumes(fold0_4_ss, fold1_4_ss, fold2_4_ss)\n",
    "\n",
    "predictions_4_resamp = get_predictions(fold0_4_resamp, fold1_4_resamp, fold2_4_resamp)\n",
    "predictions_4_ss = get_predictions(fold0_4_ss, fold1_4_ss, fold2_4_ss)\n",
    "\n",
    "predictions_4_resamp['1795_18'] = predictions_4_resamp['1795_18_']\n",
    "predictions_4_ss['1795_18'] = predictions_4_ss['1795_18_']\n",
    "del predictions_4_resamp['1795_18_']\n",
    "del predictions_4_ss['1795_18_']\n",
    "\n",
    "\n",
    "# ground truth masks\n",
    "\n",
    "volumes_ground_truth = dict()\n",
    "ground_truth = dict()\n",
    "root = Path('/anvar/results/labels')\n",
    "for patient in root.glob('*'):\n",
    "    mask = nibabel.load(patient).get_fdata()\n",
    "    ground_truth[patient.name.split('.')[0].strip('_seg')] = mask\n",
    "    volume = mask.sum() / 1000\n",
    "    volumes_ground_truth[patient.name.split('.')[0].strip('_seg')] = volume"
   ]
  },
  {
   "cell_type": "code",
   "execution_count": 54,
   "id": "ca5c002b",
   "metadata": {},
   "outputs": [],
   "source": [
    "# /data/anvar/public_datasets/preproc_study/bgpd\n",
    "\n",
    "# mask_1 = nibabel.load('/anvar/results/labels/607_18_seg.nii.gz').get_fdata()\n",
    "# mask_2 = nibabel.load('/anvar/public_datasets/preproc_study/bgpd/4a_resamp/607_18/mask_GTV_FLAIR.nii.gz').get_fdata()"
   ]
  },
  {
   "cell_type": "code",
   "execution_count": 61,
   "id": "90513f1c",
   "metadata": {},
   "outputs": [],
   "source": [
    "df = pd.DataFrame()\n",
    "df['4_resample'] = [v for p,v in sorted(volumes_4_resamp.items(), key=lambda x: x[0])]\n",
    "df['4_skull'] = [v for p,v in sorted(volumes_4_ss.items(), key=lambda x: x[0])]\n",
    "df['ground_truth'] = [v for p,v in sorted(volumes_ground_truth.items(), key=lambda x: x[0])]\n",
    "df['4_skull_erorr'] = df['ground_truth'] - df['4_skull']\n",
    "df['4_skull_erorr,%'] = df['4_skull_erorr'] / df['ground_truth']*100\n",
    "\n",
    "df['4_resample_erorr'] = df['ground_truth'] - df['4_resample']\n",
    "df['4_resample_erorr,%'] = df['4_resample_erorr'] / df['ground_truth']*100"
   ]
  },
  {
   "cell_type": "code",
   "execution_count": 206,
   "id": "ff2e04ae",
   "metadata": {},
   "outputs": [],
   "source": [
    "from dpipe.im.metrics import dice_score\n",
    "\n",
    "scores_predictions_4_resamp = dict()\n",
    "for key, volume in sorted(predictions_4_resamp.items(), key=lambda x: x[0]):\n",
    "    gt_volume = ground_truth[key] > 0\n",
    "    scores_predictions_4_resamp[key] = dice_score(volume.T, gt_volume)\n",
    "    \n",
    "scores_predictions_4_ss = dict()\n",
    "for key, volume in sorted(predictions_4_ss.items(), key=lambda x: x[0]):\n",
    "    gt_volume = ground_truth[key] > 0\n",
    "    scores_predictions_4_ss[key] = dice_score(volume.T, gt_volume)\n",
    "    \n",
    "df['PatientID'] = scores_predictions_4_ss.keys()\n",
    "df['Dice_resample'] = scores_predictions_4_resamp.values()\n",
    "df['Dice_skull'] = scores_predictions_4_ss.values()"
   ]
  },
  {
   "cell_type": "code",
   "execution_count": 213,
   "id": "077eb53e",
   "metadata": {},
   "outputs": [],
   "source": [
    "# df = df.drop(29, 0) # Remove 1362_18_4  who have a wrong GT mask"
   ]
  },
  {
   "cell_type": "markdown",
   "id": "0cecdc64",
   "metadata": {},
   "source": [
    "# Plots"
   ]
  },
  {
   "cell_type": "code",
   "execution_count": 214,
   "id": "1d0c7363",
   "metadata": {},
   "outputs": [
    {
     "data": {
      "image/png": "[encoded data removed]",
      "text/plain": [
       "<Figure size 864x432 with 1 Axes>"
      ]
     },
     "metadata": {
      "needs_background": "light"
     },
     "output_type": "display_data"
    }
   ],
   "source": [
    "# Absolute difference\n",
    "\n",
    "plt.figure(figsize=(12,6))\n",
    "plt.scatter(df['ground_truth'], df['ground_truth']-df['4_resample'], s = 20, alpha=0.4, c='tab:blue', label='4. Resample to spacing')\n",
    "plt.scatter(df['ground_truth'], df['ground_truth']-df['4_skull'], s=20, alpha=0.4, c='tab:red', label='4.d Skull stripping')\n",
    "plt.hlines(0, 0, 220, linestyles='--', colors='tab:green')\n",
    "plt.xlim(0, 230)\n",
    "plt.xlabel('True tumor volume, ml')\n",
    "plt.ylabel('Signed error in \\ntumor volume estimation, ml')\n",
    "plt.legend();"
   ]
  },
  {
   "cell_type": "code",
   "execution_count": 215,
   "id": "1720c66f",
   "metadata": {},
   "outputs": [
    {
     "data": {
      "image/png": "[encoded data removed]",
      "text/plain": [
       "<Figure size 864x432 with 1 Axes>"
      ]
     },
     "metadata": {
      "needs_background": "light"
     },
     "output_type": "display_data"
    }
   ],
   "source": [
    "# Percentage difference\n",
    "font = {'size'   : 14}\n",
    "plt.rc('font', **font)\n",
    "plt.figure(figsize=(12,6))\n",
    "plt.scatter(df['ground_truth'], (df['ground_truth']-df['4_resample'])/df['ground_truth']*100, s = 20, alpha=0.4, c='tab:blue', label='4. Resample to spacing')\n",
    "plt.scatter(df['ground_truth'], (df['ground_truth']-df['4_skull'])/df['ground_truth']*100, s=20, alpha=0.4, c='tab:red', label='4.d Skull stripping')\n",
    "plt.hlines(0, 0, 220, linestyles='--', alpha=0.2, colors='tab:blue')\n",
    "plt.xlim(0, 230)\n",
    "plt.xlabel('True tumor volume, ml')\n",
    "plt.ylabel('Signed error in \\ntumor volume estimation, %')\n",
    "plt.legend();\n",
    "plt.tight_layout()\n",
    "plt.savefig('/home/anvar/volume_errors_percentage.png')"
   ]
  },
  {
   "cell_type": "code",
   "execution_count": 216,
   "id": "2c7a63d9",
   "metadata": {},
   "outputs": [],
   "source": [
    "from sklearn.metrics import mean_absolute_error, mean_absolute_percentage_error"
   ]
  },
  {
   "cell_type": "code",
   "execution_count": 217,
   "id": "121f1a93",
   "metadata": {},
   "outputs": [
    {
     "data": {
      "text/plain": [
       "28.029888268156427"
      ]
     },
     "execution_count": 217,
     "metadata": {},
     "output_type": "execute_result"
    }
   ],
   "source": [
    "mean_absolute_error(df['4_resample'], df['ground_truth'])"
   ]
  },
  {
   "cell_type": "code",
   "execution_count": 228,
   "id": "7f86cbdb",
   "metadata": {},
   "outputs": [
    {
     "data": {
      "text/plain": [
       "3.03964310118791"
      ]
     },
     "execution_count": 228,
     "metadata": {},
     "output_type": "execute_result"
    }
   ],
   "source": [
    "mean_absolute_percentage_error(df['4_resample'], df['ground_truth'])"
   ]
  },
  {
   "cell_type": "code",
   "execution_count": 219,
   "id": "0dac98fc",
   "metadata": {},
   "outputs": [
    {
     "data": {
      "text/plain": [
       "26.016100558659215"
      ]
     },
     "execution_count": 219,
     "metadata": {},
     "output_type": "execute_result"
    }
   ],
   "source": [
    "mean_absolute_error(df['4_skull'], df['ground_truth'])"
   ]
  },
  {
   "cell_type": "code",
   "execution_count": 229,
   "id": "8f7bda8c",
   "metadata": {},
   "outputs": [
    {
     "data": {
      "text/plain": [
       "0.36463643818277863"
      ]
     },
     "execution_count": 229,
     "metadata": {},
     "output_type": "execute_result"
    }
   ],
   "source": [
    "mean_absolute_percentage_error(df['4_skull'], df['ground_truth'])"
   ]
  },
  {
   "cell_type": "code",
   "execution_count": 232,
   "id": "62bd968a",
   "metadata": {},
   "outputs": [
    {
     "data": {
      "text/plain": [
       "2.4665730167597757"
      ]
     },
     "execution_count": 232,
     "metadata": {},
     "output_type": "execute_result"
    }
   ],
   "source": [
    "df['ground_truth'].mean() * 0.03"
   ]
  },
  {
   "cell_type": "code",
   "execution_count": 221,
   "id": "8627e0bb",
   "metadata": {},
   "outputs": [
    {
     "data": {
      "text/plain": [
       "[<matplotlib.lines.Line2D at 0x7fcce149f130>]"
      ]
     },
     "execution_count": 221,
     "metadata": {},
     "output_type": "execute_result"
    },
    {
     "data": {
      "image/png": "[encoded data removed]",
      "text/plain": [
       "<Figure size 432x288 with 1 Axes>"
      ]
     },
     "metadata": {
      "needs_background": "light"
     },
     "output_type": "display_data"
    }
   ],
   "source": [
    "plt.scatter(df['4_skull'], df['ground_truth'])\n",
    "plt.plot([0,200], [0,200])"
   ]
  },
  {
   "cell_type": "code",
   "execution_count": 226,
   "id": "fbad7d7b",
   "metadata": {},
   "outputs": [
    {
     "data": {
      "image/png": "[encoded data removed]",
      "text/plain": [
       "<Figure size 432x288 with 1 Axes>"
      ]
     },
     "metadata": {
      "needs_background": "light"
     },
     "output_type": "display_data"
    }
   ],
   "source": [
    "plt.scatter(df['Dice_resample']*100, df['4_resample_erorr,%']);"
   ]
  },
  {
   "cell_type": "code",
   "execution_count": 243,
   "id": "e40f7ae6",
   "metadata": {},
   "outputs": [],
   "source": [
    "df['diff'] = df['Dice_skull'] - df['Dice_resample']"
   ]
  },
  {
   "cell_type": "code",
   "execution_count": 244,
   "id": "13fd8b81",
   "metadata": {},
   "outputs": [
    {
     "data": {
      "text/html": [
       "<div>\n",
       "<style scoped>\n",
       "    .dataframe tbody tr th:only-of-type {\n",
       "        vertical-align: middle;\n",
       "    }\n",
       "\n",
       "    .dataframe tbody tr th {\n",
       "        vertical-align: top;\n",
       "    }\n",
       "\n",
       "    .dataframe thead th {\n",
       "        text-align: right;\n",
       "    }\n",
       "</style>\n",
       "<table border=\"1\" class=\"dataframe\">\n",
       "  <thead>\n",
       "    <tr style=\"text-align: right;\">\n",
       "      <th></th>\n",
       "      <th>4_resample</th>\n",
       "      <th>4_skull</th>\n",
       "      <th>ground_truth</th>\n",
       "      <th>4_skull_erorr</th>\n",
       "      <th>4_resample_erorr</th>\n",
       "      <th>4_skull_erorr,%</th>\n",
       "      <th>4_resample_erorr,%</th>\n",
       "      <th>PatientID</th>\n",
       "      <th>Dice_resample</th>\n",
       "      <th>Dice_skull</th>\n",
       "      <th>diff</th>\n",
       "    </tr>\n",
       "  </thead>\n",
       "  <tbody>\n",
       "    <tr>\n",
       "      <th>172</th>\n",
       "      <td>46.363</td>\n",
       "      <td>131.266</td>\n",
       "      <td>49.862</td>\n",
       "      <td>-81.404</td>\n",
       "      <td>3.499</td>\n",
       "      <td>-163.258594</td>\n",
       "      <td>7.017368</td>\n",
       "      <td>Patient_90517</td>\n",
       "      <td>0.834773</td>\n",
       "      <td>0.525507</td>\n",
       "      <td>-0.309266</td>\n",
       "    </tr>\n",
       "    <tr>\n",
       "      <th>57</th>\n",
       "      <td>18.919</td>\n",
       "      <td>11.218</td>\n",
       "      <td>21.293</td>\n",
       "      <td>10.075</td>\n",
       "      <td>2.374</td>\n",
       "      <td>47.316019</td>\n",
       "      <td>11.149204</td>\n",
       "      <td>255_18</td>\n",
       "      <td>0.877748</td>\n",
       "      <td>0.670973</td>\n",
       "      <td>-0.206775</td>\n",
       "    </tr>\n",
       "    <tr>\n",
       "      <th>92</th>\n",
       "      <td>103.447</td>\n",
       "      <td>51.264</td>\n",
       "      <td>131.334</td>\n",
       "      <td>80.070</td>\n",
       "      <td>27.887</td>\n",
       "      <td>60.966696</td>\n",
       "      <td>21.233649</td>\n",
       "      <td>Patient_102117</td>\n",
       "      <td>0.696249</td>\n",
       "      <td>0.506030</td>\n",
       "      <td>-0.190219</td>\n",
       "    </tr>\n",
       "    <tr>\n",
       "      <th>170</th>\n",
       "      <td>13.752</td>\n",
       "      <td>23.110</td>\n",
       "      <td>5.189</td>\n",
       "      <td>-17.921</td>\n",
       "      <td>-8.563</td>\n",
       "      <td>-345.365196</td>\n",
       "      <td>-165.022162</td>\n",
       "      <td>Patient_88917</td>\n",
       "      <td>0.527955</td>\n",
       "      <td>0.348634</td>\n",
       "      <td>-0.179321</td>\n",
       "    </tr>\n",
       "    <tr>\n",
       "      <th>94</th>\n",
       "      <td>110.725</td>\n",
       "      <td>74.424</td>\n",
       "      <td>171.229</td>\n",
       "      <td>96.805</td>\n",
       "      <td>60.504</td>\n",
       "      <td>56.535400</td>\n",
       "      <td>35.335136</td>\n",
       "      <td>Patient_104514</td>\n",
       "      <td>0.767239</td>\n",
       "      <td>0.604088</td>\n",
       "      <td>-0.163151</td>\n",
       "    </tr>\n",
       "    <tr>\n",
       "      <th>...</th>\n",
       "      <td>...</td>\n",
       "      <td>...</td>\n",
       "      <td>...</td>\n",
       "      <td>...</td>\n",
       "      <td>...</td>\n",
       "      <td>...</td>\n",
       "      <td>...</td>\n",
       "      <td>...</td>\n",
       "      <td>...</td>\n",
       "      <td>...</td>\n",
       "      <td>...</td>\n",
       "    </tr>\n",
       "    <tr>\n",
       "      <th>38</th>\n",
       "      <td>63.101</td>\n",
       "      <td>29.959</td>\n",
       "      <td>29.610</td>\n",
       "      <td>-0.349</td>\n",
       "      <td>-33.491</td>\n",
       "      <td>-1.178656</td>\n",
       "      <td>-113.107058</td>\n",
       "      <td>1546_18</td>\n",
       "      <td>0.599519</td>\n",
       "      <td>0.885192</td>\n",
       "      <td>0.285673</td>\n",
       "    </tr>\n",
       "    <tr>\n",
       "      <th>133</th>\n",
       "      <td>0.815</td>\n",
       "      <td>13.188</td>\n",
       "      <td>9.316</td>\n",
       "      <td>-3.872</td>\n",
       "      <td>8.501</td>\n",
       "      <td>-41.562903</td>\n",
       "      <td>91.251610</td>\n",
       "      <td>Patient_24717</td>\n",
       "      <td>0.119830</td>\n",
       "      <td>0.452009</td>\n",
       "      <td>0.332178</td>\n",
       "    </tr>\n",
       "    <tr>\n",
       "      <th>65</th>\n",
       "      <td>0.237</td>\n",
       "      <td>39.118</td>\n",
       "      <td>10.027</td>\n",
       "      <td>-29.091</td>\n",
       "      <td>9.790</td>\n",
       "      <td>-290.126658</td>\n",
       "      <td>97.636382</td>\n",
       "      <td>575_18_4</td>\n",
       "      <td>0.020655</td>\n",
       "      <td>0.364310</td>\n",
       "      <td>0.343655</td>\n",
       "    </tr>\n",
       "    <tr>\n",
       "      <th>22</th>\n",
       "      <td>6.969</td>\n",
       "      <td>17.666</td>\n",
       "      <td>21.698</td>\n",
       "      <td>4.032</td>\n",
       "      <td>14.729</td>\n",
       "      <td>18.582358</td>\n",
       "      <td>67.881832</td>\n",
       "      <td>1275_19_4</td>\n",
       "      <td>0.403181</td>\n",
       "      <td>0.765522</td>\n",
       "      <td>0.362340</td>\n",
       "    </tr>\n",
       "    <tr>\n",
       "      <th>111</th>\n",
       "      <td>0.775</td>\n",
       "      <td>154.603</td>\n",
       "      <td>319.711</td>\n",
       "      <td>165.108</td>\n",
       "      <td>318.936</td>\n",
       "      <td>51.642890</td>\n",
       "      <td>99.757594</td>\n",
       "      <td>Patient_129816</td>\n",
       "      <td>0.004762</td>\n",
       "      <td>0.597575</td>\n",
       "      <td>0.592813</td>\n",
       "    </tr>\n",
       "  </tbody>\n",
       "</table>\n",
       "<p>179 rows × 11 columns</p>\n",
       "</div>"
      ],
      "text/plain": [
       "     4_resample  4_skull  ground_truth  4_skull_erorr  4_resample_erorr  \\\n",
       "172      46.363  131.266        49.862        -81.404             3.499   \n",
       "57       18.919   11.218        21.293         10.075             2.374   \n",
       "92      103.447   51.264       131.334         80.070            27.887   \n",
       "170      13.752   23.110         5.189        -17.921            -8.563   \n",
       "94      110.725   74.424       171.229         96.805            60.504   \n",
       "..          ...      ...           ...            ...               ...   \n",
       "38       63.101   29.959        29.610         -0.349           -33.491   \n",
       "133       0.815   13.188         9.316         -3.872             8.501   \n",
       "65        0.237   39.118        10.027        -29.091             9.790   \n",
       "22        6.969   17.666        21.698          4.032            14.729   \n",
       "111       0.775  154.603       319.711        165.108           318.936   \n",
       "\n",
       "     4_skull_erorr,%  4_resample_erorr,%       PatientID  Dice_resample  \\\n",
       "172      -163.258594            7.017368   Patient_90517       0.834773   \n",
       "57         47.316019           11.149204          255_18       0.877748   \n",
       "92         60.966696           21.233649  Patient_102117       0.696249   \n",
       "170      -345.365196         -165.022162   Patient_88917       0.527955   \n",
       "94         56.535400           35.335136  Patient_104514       0.767239   \n",
       "..               ...                 ...             ...            ...   \n",
       "38         -1.178656         -113.107058         1546_18       0.599519   \n",
       "133       -41.562903           91.251610   Patient_24717       0.119830   \n",
       "65       -290.126658           97.636382        575_18_4       0.020655   \n",
       "22         18.582358           67.881832       1275_19_4       0.403181   \n",
       "111        51.642890           99.757594  Patient_129816       0.004762   \n",
       "\n",
       "     Dice_skull      diff  \n",
       "172    0.525507 -0.309266  \n",
       "57     0.670973 -0.206775  \n",
       "92     0.506030 -0.190219  \n",
       "170    0.348634 -0.179321  \n",
       "94     0.604088 -0.163151  \n",
       "..          ...       ...  \n",
       "38     0.885192  0.285673  \n",
       "133    0.452009  0.332178  \n",
       "65     0.364310  0.343655  \n",
       "22     0.765522  0.362340  \n",
       "111    0.597575  0.592813  \n",
       "\n",
       "[179 rows x 11 columns]"
      ]
     },
     "execution_count": 244,
     "metadata": {},
     "output_type": "execute_result"
    }
   ],
   "source": [
    "df.sort_values('diff')"
   ]
  },
  {
   "cell_type": "code",
   "execution_count": null,
   "id": "4d9ef045",
   "metadata": {},
   "outputs": [],
   "source": []
  },
  {
   "cell_type": "code",
   "execution_count": null,
   "id": "e87c240f",
   "metadata": {},
   "outputs": [],
   "source": []
  },
  {
   "cell_type": "code",
   "execution_count": 254,
   "id": "f593db33",
   "metadata": {},
   "outputs": [],
   "source": [
    "x = predictions_4_resamp['1275_19_4']\n",
    "y = predictions_4_ss['1275_19_4']\n",
    "z = ground_truth['1275_19_4']\n",
    "\n",
    "image = nibabel.load('/anvar/public_datasets/preproc_study/bgpd/4a_resamp/1275_19_4/FLAIR.nii.gz').get_fdata()"
   ]
  },
  {
   "cell_type": "code",
   "execution_count": 251,
   "id": "0f61b06f",
   "metadata": {},
   "outputs": [
    {
     "data": {
      "text/plain": [
       "(240, 240, 180)"
      ]
     },
     "execution_count": 251,
     "metadata": {},
     "output_type": "execute_result"
    }
   ],
   "source": [
    "x.shape"
   ]
  },
  {
   "cell_type": "code",
   "execution_count": 255,
   "id": "8a36f570",
   "metadata": {},
   "outputs": [
    {
     "data": {
      "text/plain": [
       "(180, 240, 240)"
      ]
     },
     "execution_count": 255,
     "metadata": {},
     "output_type": "execute_result"
    }
   ],
   "source": [
    "z.shape"
   ]
  },
  {
   "cell_type": "code",
   "execution_count": 252,
   "id": "20c945f7",
   "metadata": {},
   "outputs": [
    {
     "data": {
      "text/plain": [
       "(180, 240, 240)"
      ]
     },
     "execution_count": 252,
     "metadata": {},
     "output_type": "execute_result"
    }
   ],
   "source": [
    "image.shape"
   ]
  },
  {
   "cell_type": "code",
   "execution_count": 256,
   "id": "88d86580",
   "metadata": {},
   "outputs": [
    {
     "data": {
      "application/vnd.jupyter.widget-view+json": {
       "model_id": "eb894d5c832b451a9b051c31ccc6923d",
       "version_major": 2,
       "version_minor": 0
      },
      "text/plain": [
       "interactive(children=(IntSlider(value=0, continuous_update=False, description='idx', max=239), Output()), _dom…"
      ]
     },
     "metadata": {},
     "output_type": "display_data"
    }
   ],
   "source": [
    "slice3d(image, x.T, y.T, z)"
   ]
  },
  {
   "cell_type": "code",
   "execution_count": null,
   "id": "af19a336",
   "metadata": {},
   "outputs": [],
   "source": []
  },
  {
   "cell_type": "code",
   "execution_count": null,
   "id": "245ef550",
   "metadata": {},
   "outputs": [],
   "source": []
  },
  {
   "cell_type": "code",
   "execution_count": null,
   "id": "0530bc2a",
   "metadata": {},
   "outputs": [],
   "source": []
  },
  {
   "cell_type": "code",
   "execution_count": 179,
   "id": "e02ce350",
   "metadata": {},
   "outputs": [],
   "source": [
    "image = nibabel.load('/anvar/public_datasets/preproc_study/bgpd/4a_resamp/1362_18_4/FLAIR.nii.gz').get_fdata()\n",
    "# image = nibabel.load('/anvar/public_datasets/preproc_study/bgpd/4a_resamp/Patient_129816/FLAIR.nii.gz').get_fdata()\n",
    "\n",
    "# image = nibabel.load('/anvar/public_datasets/preproc_study/bgpd/4a_resamp/Patient_24717/FLAIR.nii.gz').get_fdata()"
   ]
  },
  {
   "cell_type": "code",
   "execution_count": 195,
   "id": "10630c12",
   "metadata": {},
   "outputs": [],
   "source": [
    "# root = Path('/anvar/public_datasets/preproc_study/bgpd/orig/Patient_129816')\n",
    "# img = nibabel.load(root / 'FLAIR.nii.gz').get_fdata()\n",
    "# m = nibabel.load(root / 'mask_GTV_FLAIR.nii.gz').get_fdata()"
   ]
  },
  {
   "cell_type": "code",
   "execution_count": 196,
   "id": "2aed1c51",
   "metadata": {},
   "outputs": [],
   "source": [
    "# slice3d(img, m, img+m*400)"
   ]
  },
  {
   "cell_type": "markdown",
   "id": "91c546c9",
   "metadata": {},
   "source": [
    "# check raw data"
   ]
  },
  {
   "cell_type": "code",
   "execution_count": 197,
   "id": "a8275f89",
   "metadata": {},
   "outputs": [],
   "source": [
    "# root = Path('/anvar/private_datasets/glioma_burdenko/dcm2nii_training_set_GOST/1362_18_4')"
   ]
  },
  {
   "cell_type": "code",
   "execution_count": 198,
   "id": "6b3e2348",
   "metadata": {},
   "outputs": [],
   "source": [
    "# from pydicom import dcmread\n",
    "# from dicom_csv import join_tree, order_series, stack_images"
   ]
  },
  {
   "cell_type": "code",
   "execution_count": 199,
   "id": "b9b3142f",
   "metadata": {},
   "outputs": [],
   "source": [
    "# images2d[0]"
   ]
  },
  {
   "cell_type": "code",
   "execution_count": 200,
   "id": "1f4a0b31",
   "metadata": {},
   "outputs": [],
   "source": [
    "# images2d = [dcmread(filename) for filename in (root / 'REF').glob('*')]\n",
    "# image3d = stack_images(order_series(images2d))\n",
    "# image3d = np.clip(image3d, 0, 80)\n",
    "\n",
    "# mask2d = [dcmread(filename) for filename in (root / 'MASK_DICOM_CT').glob('*')]\n",
    "# mask3d = stack_images(order_series(mask2d))"
   ]
  },
  {
   "cell_type": "code",
   "execution_count": 201,
   "id": "656d488e",
   "metadata": {},
   "outputs": [],
   "source": [
    "# images2d = [dcmread(filename) for filename in (root / 'CT1').glob('*')]\n",
    "# image3d_ct = stack_images(order_series(images2d))"
   ]
  },
  {
   "cell_type": "code",
   "execution_count": null,
   "id": "c57ff9d7",
   "metadata": {},
   "outputs": [],
   "source": []
  }
 ],
 "metadata": {
  "kernelspec": {
   "display_name": "Python 3",
   "language": "python",
   "name": "python3"
  },
  "language_info": {
   "codemirror_mode": {
    "name": "ipython",
    "version": 3
   },
   "file_extension": ".py",
   "mimetype": "text/x-python",
   "name": "python",
   "nbconvert_exporter": "python",
   "pygments_lexer": "ipython3",
   "version": "3.8.8"
  }
 },
 "nbformat": 4,
 "nbformat_minor": 5
}
