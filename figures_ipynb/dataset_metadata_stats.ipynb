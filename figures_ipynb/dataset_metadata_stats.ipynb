{
 "cells": [
  {
   "cell_type": "markdown",
   "id": "c799893f",
   "metadata": {},
   "source": [
    "\n",
    "- EchoTime\n",
    "- RepetitionTime\n",
    "- Voxel Volume (SliceThickness)\n",
    "- 3 x 3 x 3 Voxel Volume (DistanceBetweenSlices)\n",
    "- PixelSpacing"
   ]
  },
  {
   "cell_type": "code",
   "execution_count": 37,
   "id": "2c9926f6",
   "metadata": {},
   "outputs": [],
   "source": [
    "import pandas as pd\n",
    "from dicom_csv.spatial import get_slice_spacing, order_series\n",
    "from tqdm import tqdm\n",
    "import numpy as np"
   ]
  },
  {
   "cell_type": "code",
   "execution_count": 38,
   "id": "5a5c68be",
   "metadata": {},
   "outputs": [],
   "source": [
    "df_gbm = pd.read_csv('/anvar/public_datasets/preproc_study/gbm/meta.csv').drop_duplicates('SOPInstanceUID')\n",
    "df_lgg = pd.read_csv('/anvar/public_datasets/preproc_study/lgg/meta.csv').drop_duplicates('SOPInstanceUID')\n",
    "df_bgpd = pd.read_csv('/anvar/private_datasets/anvar_work/BURDENKO_TCIA_SUBMIT/baseline/meta.csv')"
   ]
  },
  {
   "cell_type": "code",
   "execution_count": 43,
   "id": "d65e3e77",
   "metadata": {},
   "outputs": [
    {
     "data": {
      "text/plain": [
       "GE MEDICAL SYSTEMS         8308\n",
       "SIEMENS                    3794\n",
       "Philips Medical Systems    1316\n",
       "QIICR                       796\n",
       "Name: Manufacturer, dtype: int64"
      ]
     },
     "execution_count": 43,
     "metadata": {},
     "output_type": "execute_result"
    }
   ],
   "source": [
    "df_gbm.Manufacturer.value_counts()"
   ]
  },
  {
   "cell_type": "code",
   "execution_count": 44,
   "id": "72a39566",
   "metadata": {},
   "outputs": [
    {
     "data": {
      "text/plain": [
       "GE MEDICAL SYSTEMS         6108\n",
       "General Electric           2755\n",
       "Philips Medical Systems    1530\n",
       "SIEMENS                     994\n",
       "QIICR                       304\n",
       "Name: Manufacturer, dtype: int64"
      ]
     },
     "execution_count": 44,
     "metadata": {},
     "output_type": "execute_result"
    }
   ],
   "source": [
    "df_lgg.Manufacturer.value_counts()"
   ]
  },
  {
   "cell_type": "code",
   "execution_count": 45,
   "id": "ef4a4583",
   "metadata": {},
   "outputs": [
    {
     "data": {
      "text/plain": [
       "GE MEDICAL SYSTEMS         80354\n",
       "SIEMENS                    12678\n",
       "Philips Medical Systems     6643\n",
       "TOSHIBA_MEC                 2578\n",
       "TOSHIBA                      578\n",
       "Varian Medical Systems       386\n",
       "Medical Physics Center       273\n",
       "ЗАО НПФ 'АЗ'                  80\n",
       "Name: Manufacturer, dtype: int64"
      ]
     },
     "execution_count": 45,
     "metadata": {},
     "output_type": "execute_result"
    }
   ],
   "source": [
    "df_bgpd.Manufacturer.value_counts()"
   ]
  },
  {
   "cell_type": "code",
   "execution_count": 19,
   "id": "9b36f634",
   "metadata": {},
   "outputs": [],
   "source": [
    "df_gbm['MR_sequence'] = df_gbm.PathToFolder.apply(lambda x: x.split('/')[-1])\n",
    "df_lgg['MR_sequence'] = df_lgg.PathToFolder.apply(lambda x: x.split('/')[-1])\n",
    "df_bgpd['MR_sequence'] = df_bgpd.PathToFolder.apply(lambda x: x.split('/')[-1])"
   ]
  },
  {
   "cell_type": "code",
   "execution_count": 20,
   "id": "67d9cf34",
   "metadata": {},
   "outputs": [],
   "source": [
    "gp = df_gbm.groupby('SeriesInstanceUID')['FileName'].count()\n",
    "df_gbm['slices_number'] = df_gbm.SeriesInstanceUID.map(gp)\n",
    "\n",
    "gp = df_lgg.groupby('SeriesInstanceUID')['FileName'].count()\n",
    "df_lgg['slices_number'] = df_lgg.SeriesInstanceUID.map(gp)\n",
    "\n",
    "gp = df_bgpd.groupby('SeriesInstanceUID')['FileName'].count()\n",
    "df_bgpd['slices_number'] = df_bgpd.SeriesInstanceUID.map(gp)"
   ]
  },
  {
   "cell_type": "code",
   "execution_count": 21,
   "id": "d1f1a1fe",
   "metadata": {},
   "outputs": [
    {
     "name": "stderr",
     "output_type": "stream",
     "text": [
      "100%|██████████| 408/408 [00:25<00:00, 16.32it/s]\n",
      "100%|██████████| 263/263 [00:13<00:00, 19.18it/s]\n",
      "100%|██████████| 901/901 [02:27<00:00,  6.10it/s]\n"
     ]
    }
   ],
   "source": [
    "spacing = dict()\n",
    "for uid in tqdm(df_gbm.query('slices_number>1').SeriesInstanceUID.unique()):\n",
    "    sub = df_gbm.query('SeriesInstanceUID==@uid')\n",
    "    try:\n",
    "        dz = get_slice_spacing(order_series(sub), max_delta=0.2)\n",
    "        spacing[uid] = dz\n",
    "    except Exception as e:\n",
    "        pass\n",
    "df_gbm['PixelSpacing2'] = df_gbm.SeriesInstanceUID.map(spacing)\n",
    "\n",
    "\n",
    "spacing = dict()\n",
    "for uid in tqdm(df_lgg.query('slices_number>1').SeriesInstanceUID.unique()):\n",
    "    sub = df_lgg.query('SeriesInstanceUID==@uid')\n",
    "    try:\n",
    "        dz = get_slice_spacing(order_series(sub), max_delta=0.2)\n",
    "        spacing[uid] = dz\n",
    "    except Exception as e:\n",
    "        pass\n",
    "df_lgg['PixelSpacing2'] = df_lgg.SeriesInstanceUID.map(spacing)\n",
    "\n",
    "\n",
    "spacing = dict()\n",
    "for uid in tqdm(df_bgpd.query('slices_number>1').SeriesInstanceUID.unique()):\n",
    "    sub = df_bgpd.query('SeriesInstanceUID==@uid')\n",
    "    try:\n",
    "        dz = get_slice_spacing(order_series(sub), max_delta=0.2)\n",
    "        spacing[uid] = dz\n",
    "    except Exception as e:\n",
    "        pass\n",
    "df_bgpd['PixelSpacing2'] = df_bgpd.SeriesInstanceUID.map(spacing)\n",
    "\n",
    "# get_slice_spacing(df_gbm.query('SeriesInstanceUID==\"1.3.6.1.4.1.14519.5.2.1.1706.4001.300182168244910270765145894367\"'))"
   ]
  },
  {
   "cell_type": "code",
   "execution_count": 23,
   "id": "52f5cb21",
   "metadata": {},
   "outputs": [],
   "source": [
    "# sorted(df_gbm.columns)"
   ]
  },
  {
   "cell_type": "code",
   "execution_count": 24,
   "id": "690bec15",
   "metadata": {},
   "outputs": [],
   "source": [
    "columns = ['PatientID','SeriesInstanceUID','slices_number','EchoTime','RepetitionTime', 'InversionTime',\n",
    "            'PixelSpacing0', 'PixelSpacing1', 'PixelSpacing2', 'MR_sequence', 'SliceThickness']\n",
    "\n",
    "df_gbm = df_gbm.drop_duplicates(['SeriesInstanceUID'])[columns].query('slices_number>1')\\\n",
    "                .sort_values('MR_sequence').reset_index(drop=True)\n",
    "df_lgg = df_lgg.drop_duplicates(['SeriesInstanceUID'])[columns].query('slices_number>1')\\\n",
    "                .sort_values('MR_sequence').reset_index(drop=True)\n",
    "df_bgpd = df_bgpd.drop_duplicates(['SeriesInstanceUID'])[columns]\\\n",
    "                .query('slices_number>1').sort_values('MR_sequence')\\\n",
    "                .query('MR_sequence!=\"CT\"').query('MR_sequence!=\"RTSTRUCT\"').reset_index(drop=True)"
   ]
  },
  {
   "cell_type": "code",
   "execution_count": 25,
   "id": "eda87a6c",
   "metadata": {},
   "outputs": [],
   "source": [
    "df_bgpd['VoxelVolume'] = df_bgpd['PixelSpacing0'] * df_bgpd['PixelSpacing1'] * df_bgpd['SliceThickness']\n",
    "df_bgpd['3VoxelVolume_1'] = 9*df_bgpd['PixelSpacing0'] * df_bgpd['PixelSpacing1'] * df_bgpd['SliceThickness']\n",
    "df_bgpd['3VoxelVolume_2'] = 9*df_bgpd['PixelSpacing0'] * df_bgpd['PixelSpacing1'] * df_bgpd['PixelSpacing2']\n",
    "df_bgpd['3VoxelVolume'] = df_bgpd[['3VoxelVolume_1', '3VoxelVolume_2']].max(axis=1)\n",
    "\n",
    "\n",
    "df_gbm['VoxelVolume'] = df_gbm['PixelSpacing0'] * df_gbm['PixelSpacing1'] * df_gbm['SliceThickness']\n",
    "df_gbm['3VoxelVolume_1'] = 9*df_gbm['PixelSpacing0'] * df_gbm['PixelSpacing1'] * df_gbm['SliceThickness']\n",
    "df_gbm['3VoxelVolume_2'] = 9*df_gbm['PixelSpacing0'] * df_gbm['PixelSpacing1'] * df_gbm['PixelSpacing2']\n",
    "df_gbm['3VoxelVolume'] = df_gbm[['3VoxelVolume_1', '3VoxelVolume_2']].max(axis=1)\n",
    "\n",
    "\n",
    "df_lgg['VoxelVolume'] = df_lgg['PixelSpacing0'] * df_lgg['PixelSpacing1'] * df_lgg['SliceThickness']\n",
    "df_lgg['3VoxelVolume_1'] = 9*df_lgg['PixelSpacing0'] * df_lgg['PixelSpacing1'] * df_lgg['SliceThickness']\n",
    "df_lgg['3VoxelVolume_2'] = 9*df_lgg['PixelSpacing0'] * df_lgg['PixelSpacing1'] * df_lgg['PixelSpacing2']\n",
    "df_lgg['3VoxelVolume'] = df_lgg[['3VoxelVolume_1', '3VoxelVolume_2']].max(axis=1)"
   ]
  },
  {
   "cell_type": "code",
   "execution_count": 26,
   "id": "66f8114e",
   "metadata": {},
   "outputs": [],
   "source": [
    "# df_bgpd.to_csv('~/df_bgpd_stats_mri.csv')\n",
    "# df_gbm.to_csv('~/df_gbm_stats_mri.csv')\n",
    "# df_lgg.to_csv('~/df_lgg_stats_mri.csv')"
   ]
  },
  {
   "cell_type": "code",
   "execution_count": 27,
   "id": "0fd728c1",
   "metadata": {},
   "outputs": [],
   "source": [
    "df_bgpd = pd.read_csv('~/df_bgpd_stats_mri.csv')\n",
    "df_gbm= pd.read_csv('~/df_gbm_stats_mri.csv')\n",
    "df_lgg= pd.read_csv('~/df_lgg_stats_mri.csv')"
   ]
  },
  {
   "cell_type": "markdown",
   "id": "31d7726b",
   "metadata": {},
   "source": [
    "\n",
    "- EchoTime\n",
    "- RepetitionTime\n",
    "- Voxel Volume (SliceThickness)\n",
    "- 3 x 3 x 3 Voxel Volume (DistanceBetweenSlices)\n",
    "- PixelSpacing\n",
    "\n",
    "\n",
    "### todo:\n",
    "> Дисперсия между T1 разных пациентов по сравнению с дисперсией T1-T2 для одного пациента (гистограммы)"
   ]
  },
  {
   "cell_type": "markdown",
   "id": "008de58e",
   "metadata": {},
   "source": [
    "### EchoTime"
   ]
  },
  {
   "cell_type": "code",
   "execution_count": 28,
   "id": "5490972e",
   "metadata": {},
   "outputs": [],
   "source": [
    "def get_min_max_nunique(df, col, modality):\n",
    "    return (np.round(df.query('MR_sequence==@modality')[col].min(), 1),\n",
    "            np.round(df.query('MR_sequence==@modality')[col].median(), 1),\n",
    "            np.round(df.query('MR_sequence==@modality')[col].max(), 1),\n",
    "            np.round(df.query('MR_sequence==@modality')[col].nunique(), 1))"
   ]
  },
  {
   "cell_type": "code",
   "execution_count": 36,
   "id": "f28eff2e",
   "metadata": {},
   "outputs": [
    {
     "name": "stdout",
     "output_type": "stream",
     "text": [
      "GBM\n",
      "T1 EchoTime (2.1, 8.3, 19.0, 28)\n",
      "T1 RepetitionTime (5.0, 500.0, 3379.6, 56)\n",
      "T1 VoxelVolume (0.5, 3.1, 5.2, 32)\n",
      "---\n",
      "T2 EchoTime (20.0, 99.3, 120.0, 38)\n",
      "T2 RepetitionTime (2020.0, 3500.0, 6650.0, 36)\n",
      "T2 VoxelVolume (0.2, 1.5, 5.2, 32)\n",
      "---\n",
      "====\n",
      "LGG\n",
      "T1 EchoTime (3.7, 10.0, 15.0, 11)\n",
      "T1 RepetitionTime (8.0, 550.0, 3232.0, 38)\n",
      "T1 VoxelVolume (0.6, 3.4, 13.2, 17)\n",
      "---\n",
      "T2 EchoTime (16.1, 103.5, 120.0, 17)\n",
      "T2 RepetitionTime (897.0, 3500.0, 10000.0, 18)\n",
      "T2 VoxelVolume (0.5, 1.1, 35.2, 19)\n",
      "---\n",
      "====\n",
      "BGPD\n",
      "T1 EchoTime (1.8, 9.7, 23.0, 51)\n",
      "T1 RepetitionTime (7.4, 500.0, 3119.2, 50)\n",
      "T1 VoxelVolume (0.1, 1.1, 5.3, 53)\n",
      "---\n",
      "T2 EchoTime (18.4, 99.6, 120.0, 67)\n",
      "T2 RepetitionTime (567.0, 4420.0, 8200.0, 57)\n",
      "T2 VoxelVolume (0.1, 1.1, 4.8, 60)\n",
      "---\n",
      "====\n"
     ]
    }
   ],
   "source": [
    "for dataset, name in zip([df_gbm, df_lgg, df_bgpd], ['GBM', 'LGG', 'BGPD']): \n",
    "    print(name)\n",
    "    for modality in ['T1', 'T2']:#, 'CT1', 'FLAIR']:\n",
    "        for col in ['EchoTime', 'RepetitionTime', 'VoxelVolume']:\n",
    "            print(modality, col, get_min_max_nunique(dataset, col, modality))\n",
    "        print('---')\n",
    "    print('====')"
   ]
  },
  {
   "cell_type": "raw",
   "id": "fefd5e5a",
   "metadata": {},
   "source": [
    "GBM\n",
    "T1 EchoTime (2.1, 19.0, 28)\n",
    "T1 RepetitionTime (5.0, 3379.6, 56)\n",
    "T1 VoxelVolume (0.5, 5.2, 32)\n",
    "T1 3VoxelVolume (4.3, 70.8, 56)\n",
    "---\n",
    "T2 EchoTime (20.0, 120.0, 38)\n",
    "T2 RepetitionTime (2020.0, 6650.0, 36)\n",
    "T2 VoxelVolume (0.2, 5.2, 32)\n",
    "T2 3VoxelVolume (2.6, 57.7, 53)\n",
    "---\n",
    "CT1 EchoTime (2.1, 20.0, 26)\n",
    "CT1 RepetitionTime (5.9, 3285.6, 56)\n",
    "CT1 VoxelVolume (0.3, 4.8, 33)\n",
    "CT1 3VoxelVolume (3.0, 98.9, 59)\n",
    "---\n",
    "FLAIR EchoTime (74.0, 155.0, 36)\n",
    "FLAIR RepetitionTime (1000.0, 11000.0, 15)\n",
    "FLAIR VoxelVolume (0.5, 4.8, 32)\n",
    "FLAIR 3VoxelVolume (4.9, 118.7, 60)\n",
    "---\n",
    "====\n",
    "LGG\n",
    "T1 EchoTime (3.7, 15.0, 11)\n",
    "T1 RepetitionTime (8.0, 3232.0, 38)\n",
    "T1 VoxelVolume (0.6, 13.2, 17)\n",
    "T1 3VoxelVolume (5.1, 138.6, 33)\n",
    "---\n",
    "T2 EchoTime (16.1, 120.0, 17)\n",
    "T2 RepetitionTime (897.0, 10000.0, 18)\n",
    "T2 VoxelVolume (0.5, 35.2, 19)\n",
    "T2 3VoxelVolume (4.9, 316.4, 31)\n",
    "---\n",
    "CT1 EchoTime (3.8, 15.0, 11)\n",
    "CT1 RepetitionTime (8.1, 3271.4, 35)\n",
    "CT1 VoxelVolume (0.3, 13.2, 19)\n",
    "CT1 3VoxelVolume (2.7, 130.7, 39)\n",
    "---\n",
    "FLAIR EchoTime (71.7, 157.5, 16)\n",
    "FLAIR RepetitionTime (1000.0, 11000.0, 8)\n",
    "FLAIR VoxelVolume (0.5, 10.5, 18)\n",
    "FLAIR 3VoxelVolume (4.9, 94.9, 34)\n",
    "---\n",
    "====\n",
    "BGPD\n",
    "T1 EchoTime (1.8, 23.0, 51)\n",
    "T1 RepetitionTime (7.4, 3119.2, 50)\n",
    "T1 VoxelVolume (0.1, 5.3, 53)\n",
    "T1 3VoxelVolume (1.1, 55.4, 128)\n",
    "---\n",
    "T2 EchoTime (18.4, 120.0, 67)\n",
    "T2 RepetitionTime (567.0, 8200.0, 57)\n",
    "T2 VoxelVolume (0.1, 4.8, 60)\n",
    "T2 3VoxelVolume (1.0, 51.4, 140)\n",
    "---\n",
    "CT1 EchoTime (1.8, 21.0, 52)\n",
    "CT1 RepetitionTime (5.9, 2200.0, 50)\n",
    "CT1 VoxelVolume (0.1, 5.3, 55)\n",
    "CT1 3VoxelVolume (1.1, 55.4, 114)\n",
    "---\n",
    "FLAIR EchoTime (81.0, 295.8, 70)\n",
    "FLAIR RepetitionTime (4800.0, 12000.0, 28)\n",
    "FLAIR VoxelVolume (0.2, 4.8, 57)\n",
    "FLAIR 3VoxelVolume (1.5, 51.4, 139)\n",
    "---\n",
    "===="
   ]
  },
  {
   "cell_type": "code",
   "execution_count": null,
   "id": "ba095dbd",
   "metadata": {},
   "outputs": [],
   "source": []
  },
  {
   "cell_type": "code",
   "execution_count": null,
   "id": "62d81665",
   "metadata": {},
   "outputs": [],
   "source": []
  },
  {
   "cell_type": "code",
   "execution_count": null,
   "id": "dcb57f66",
   "metadata": {},
   "outputs": [],
   "source": []
  },
  {
   "cell_type": "code",
   "execution_count": null,
   "id": "924349c8",
   "metadata": {},
   "outputs": [],
   "source": []
  },
  {
   "cell_type": "code",
   "execution_count": null,
   "id": "08f1bfbd",
   "metadata": {},
   "outputs": [],
   "source": []
  }
 ],
 "metadata": {
  "kernelspec": {
   "display_name": "Python 3",
   "language": "python",
   "name": "python3"
  },
  "language_info": {
   "codemirror_mode": {
    "name": "ipython",
    "version": 3
   },
   "file_extension": ".py",
   "mimetype": "text/x-python",
   "name": "python",
   "nbconvert_exporter": "python",
   "pygments_lexer": "ipython3",
   "version": "3.8.8"
  }
 },
 "nbformat": 4,
 "nbformat_minor": 5
}
