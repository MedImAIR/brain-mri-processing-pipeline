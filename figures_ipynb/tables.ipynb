{
 "cells": [
  {
   "cell_type": "code",
   "execution_count": 1,
   "metadata": {},
   "outputs": [],
   "source": [
    "import pandas as pd\n",
    "import warnings\n",
    "warnings.filterwarnings('ignore')\n",
    "\n",
    "df_list_1_3 = pd.read_csv('results/1-3лист.tsv',  sep='\\t')\n",
    "df_1_3 = pd.read_csv('results/main_table.tsv',  sep='\\t')\n",
    "df_4_bgpd_gbm = pd.read_csv('results/transfer_bgpd_gbm.tsv',  sep='\\t')\n",
    "df_4_gbm_bgpd = pd.read_csv('results/transfer_gbm_bgpd.tsv',  sep='\\t')"
   ]
  },
  {
   "cell_type": "code",
   "execution_count": 2,
   "metadata": {},
   "outputs": [
    {
     "data": {
      "text/html": [
       "<div>\n",
       "<style scoped>\n",
       "    .dataframe tbody tr th:only-of-type {\n",
       "        vertical-align: middle;\n",
       "    }\n",
       "\n",
       "    .dataframe tbody tr th {\n",
       "        vertical-align: top;\n",
       "    }\n",
       "\n",
       "    .dataframe thead th {\n",
       "        text-align: right;\n",
       "    }\n",
       "</style>\n",
       "<table border=\"1\" class=\"dataframe\">\n",
       "  <thead>\n",
       "    <tr style=\"text-align: right;\">\n",
       "      <th></th>\n",
       "      <th>PatientID</th>\n",
       "      <th>Preprocessing step</th>\n",
       "      <th>Dataset</th>\n",
       "      <th>NN-Architecture (nn-Unet, UNETR)</th>\n",
       "      <th>Label (WT, ET, TC, GTV)</th>\n",
       "      <th>Dice</th>\n",
       "      <th>Hausdorff</th>\n",
       "      <th>Surface Dice 1mm</th>\n",
       "      <th>Surface Dice 3mm</th>\n",
       "      <th>Surface Dice 5mm</th>\n",
       "      <th>Epoch</th>\n",
       "      <th>Volume_estimated</th>\n",
       "      <th>Volume_intersection</th>\n",
       "      <th>Volume_true</th>\n",
       "    </tr>\n",
       "  </thead>\n",
       "  <tbody>\n",
       "    <tr>\n",
       "      <th>0</th>\n",
       "      <td>TCGA-02-0011</td>\n",
       "      <td>1_reg</td>\n",
       "      <td>gbm</td>\n",
       "      <td>nn_unet</td>\n",
       "      <td>WT</td>\n",
       "      <td>0.290</td>\n",
       "      <td>39.000</td>\n",
       "      <td>0.264</td>\n",
       "      <td>NaN</td>\n",
       "      <td>NaN</td>\n",
       "      <td>300</td>\n",
       "      <td>25.748</td>\n",
       "      <td>22.114</td>\n",
       "      <td>126.783</td>\n",
       "    </tr>\n",
       "    <tr>\n",
       "      <th>1</th>\n",
       "      <td>TCGA-02-0011</td>\n",
       "      <td>1_reg</td>\n",
       "      <td>gbm</td>\n",
       "      <td>nn_unet</td>\n",
       "      <td>ET</td>\n",
       "      <td>0.138</td>\n",
       "      <td>39.000</td>\n",
       "      <td>0.218</td>\n",
       "      <td>NaN</td>\n",
       "      <td>NaN</td>\n",
       "      <td>300</td>\n",
       "      <td>2.983</td>\n",
       "      <td>22.114</td>\n",
       "      <td>33.488</td>\n",
       "    </tr>\n",
       "    <tr>\n",
       "      <th>2</th>\n",
       "      <td>TCGA-02-0011</td>\n",
       "      <td>1_reg</td>\n",
       "      <td>gbm</td>\n",
       "      <td>nn_unet</td>\n",
       "      <td>TC</td>\n",
       "      <td>0.030</td>\n",
       "      <td>34.300</td>\n",
       "      <td>0.133</td>\n",
       "      <td>NaN</td>\n",
       "      <td>NaN</td>\n",
       "      <td>300</td>\n",
       "      <td>9.525</td>\n",
       "      <td>22.114</td>\n",
       "      <td>81.619</td>\n",
       "    </tr>\n",
       "    <tr>\n",
       "      <th>3</th>\n",
       "      <td>TCGA-02-0033</td>\n",
       "      <td>1_reg</td>\n",
       "      <td>gbm</td>\n",
       "      <td>nn_unet</td>\n",
       "      <td>WT</td>\n",
       "      <td>0.242</td>\n",
       "      <td>39.000</td>\n",
       "      <td>0.261</td>\n",
       "      <td>NaN</td>\n",
       "      <td>NaN</td>\n",
       "      <td>300</td>\n",
       "      <td>19.781</td>\n",
       "      <td>14.996</td>\n",
       "      <td>104.407</td>\n",
       "    </tr>\n",
       "    <tr>\n",
       "      <th>4</th>\n",
       "      <td>TCGA-02-0033</td>\n",
       "      <td>1_reg</td>\n",
       "      <td>gbm</td>\n",
       "      <td>nn_unet</td>\n",
       "      <td>ET</td>\n",
       "      <td>0.265</td>\n",
       "      <td>26.094</td>\n",
       "      <td>0.330</td>\n",
       "      <td>NaN</td>\n",
       "      <td>NaN</td>\n",
       "      <td>300</td>\n",
       "      <td>6.324</td>\n",
       "      <td>14.996</td>\n",
       "      <td>31.703</td>\n",
       "    </tr>\n",
       "  </tbody>\n",
       "</table>\n",
       "</div>"
      ],
      "text/plain": [
       "      PatientID Preprocessing step Dataset NN-Architecture (nn-Unet, UNETR)  \\\n",
       "0  TCGA-02-0011              1_reg     gbm                          nn_unet   \n",
       "1  TCGA-02-0011              1_reg     gbm                          nn_unet   \n",
       "2  TCGA-02-0011              1_reg     gbm                          nn_unet   \n",
       "3  TCGA-02-0033              1_reg     gbm                          nn_unet   \n",
       "4  TCGA-02-0033              1_reg     gbm                          nn_unet   \n",
       "\n",
       "  Label (WT, ET, TC, GTV)   Dice  Hausdorff  Surface Dice 1mm  \\\n",
       "0                      WT  0.290     39.000             0.264   \n",
       "1                      ET  0.138     39.000             0.218   \n",
       "2                      TC  0.030     34.300             0.133   \n",
       "3                      WT  0.242     39.000             0.261   \n",
       "4                      ET  0.265     26.094             0.330   \n",
       "\n",
       "   Surface Dice 3mm  Surface Dice 5mm  Epoch  Volume_estimated  \\\n",
       "0               NaN               NaN    300            25.748   \n",
       "1               NaN               NaN    300             2.983   \n",
       "2               NaN               NaN    300             9.525   \n",
       "3               NaN               NaN    300            19.781   \n",
       "4               NaN               NaN    300             6.324   \n",
       "\n",
       "   Volume_intersection  Volume_true  \n",
       "0               22.114      126.783  \n",
       "1               22.114       33.488  \n",
       "2               22.114       81.619  \n",
       "3               14.996      104.407  \n",
       "4               14.996       31.703  "
      ]
     },
     "execution_count": 2,
     "metadata": {},
     "output_type": "execute_result"
    }
   ],
   "source": [
    "df_1_3.head()"
   ]
  },
  {
   "cell_type": "code",
   "execution_count": 9,
   "metadata": {},
   "outputs": [],
   "source": [
    "## Table 4: \n",
    "\n",
    "reindex_list = ['1_reg', '2a_interp', '3a_atlas', '4a_resamp', '4b_n4', '4d_susan','6_hist','5_ss_shared']\n",
    "rename_list = ['1. Inter modality', '2. Resampling', '3. Atlas', '4. Resampling to spacing', '4.a Bias', '4.b Denoising', '4.c Histogram', '4.d Skull']\n"
   ]
  },
  {
   "cell_type": "code",
   "execution_count": 14,
   "metadata": {},
   "outputs": [
    {
     "data": {
      "text/plain": [
       "1. Inter modality           44.0 (28.0)\n",
       "2. Resampling               85.0 (11.0)\n",
       "3. Atlas                    85.0 (11.0)\n",
       "4. Resampling to spacing    85.0 (12.0)\n",
       "4.a Bias                    82.0 (13.0)\n",
       "4.b Denoising               84.0 (12.0)\n",
       "4.c Histogram               83.0 (16.0)\n",
       "4.d Skull                   87.0 (11.0)\n",
       "Name: Mean (STD), dtype: object"
      ]
     },
     "execution_count": 14,
     "metadata": {},
     "output_type": "execute_result"
    }
   ],
   "source": [
    "#Table 4 DICE WT\n",
    "import numpy as np\n",
    "metric = 'Dice'\n",
    "data = 'gbm'\n",
    "label = 'WT'\n",
    "model = 'nn_unet'\n",
    "epoch = 300\n",
    "# to save space in the paper and not write 0.44 and write 44 instead (only for Dice and Surface Dice)\n",
    "multiplier = 100\n",
    "\n",
    "\n",
    "def get_column_from_pivot_table(df_1_3, metric, data, label, model, epoch, multiplier):\n",
    "    \n",
    "    # mean\n",
    "    temp_series = (np.round(df_1_3[df_1_3.Dataset==data][df_1_3.Epoch==epoch][df_1_3['Label (WT, ET, TC, GTV)']==label][df_1_3['NN-Architecture (nn-Unet, UNETR)']==model ].groupby([ 'Preprocessing step'])[metric].mean(),3)*multiplier).round(0)\n",
    "    temp_series = temp_series.reindex(reindex_list)\n",
    "    temp_series.index = rename_list\n",
    "    temp_series_mean = temp_series\n",
    "\n",
    "    #std\n",
    "    temp_series = (np.round(df_1_3[df_1_3.Dataset==data][df_1_3.Epoch==epoch][df_1_3['Label (WT, ET, TC, GTV)']==label][df_1_3['NN-Architecture (nn-Unet, UNETR)']==model].groupby([ 'Preprocessing step'])[metric].std(),3)*multiplier).round(0)\n",
    "\n",
    "    temp_series = temp_series.reindex(reindex_list)\n",
    "    temp_series.index = rename_list\n",
    "    temp_series_std = temp_series\n",
    "\n",
    "    temp_mean_std = pd.concat([temp_series_mean, temp_series_std], axis=1)\n",
    "    temp_mean_std.columns = ['Mean', 'Std']\n",
    "    temp_mean_std['Mean (STD)'] = temp_mean_std.apply(lambda x: str(x['Mean']) + ' (' + str(x['Std']) + ')', axis=1)\n",
    "    return temp_mean_std['Mean (STD)'] \n",
    "\n",
    "get_column_from_pivot_table(df_1_3, metric, data, label, model, epoch, multiplier)\n"
   ]
  },
  {
   "cell_type": "code",
   "execution_count": 11,
   "metadata": {},
   "outputs": [
    {
     "data": {
      "text/plain": [
       "1. Inter modality           31.0 (21.0)\n",
       "2. Resampling               15.0 (21.0)\n",
       "3. Atlas                    10.0 (11.0)\n",
       "4. Resampling to spacing    13.0 (20.0)\n",
       "4.a Bias                    14.0 (22.0)\n",
       "4.b Denoising               11.0 (16.0)\n",
       "4.c Histogram               13.0 (18.0)\n",
       "4.d Skull                   10.0 (14.0)\n",
       "Name: Mean (STD), dtype: object"
      ]
     },
     "execution_count": 11,
     "metadata": {},
     "output_type": "execute_result"
    }
   ],
   "source": [
    "# Appending Table  Hausdorff WT\n",
    "metric = 'Hausdorff'\n",
    "data = 'gbm'\n",
    "label = 'WT'\n",
    "model = 'nn_unet'\n",
    "\n",
    "get_column_from_pivot_table(df_1_3, metric, data, label, model, epoch, multiplier=1)\n"
   ]
  },
  {
   "cell_type": "code",
   "execution_count": 12,
   "metadata": {},
   "outputs": [
    {
     "data": {
      "text/plain": [
       "1. Inter modality           27.0 (15.0)\n",
       "2. Resampling               65.0 (20.0)\n",
       "3. Atlas                    63.0 (20.0)\n",
       "4. Resampling to spacing    65.0 (20.0)\n",
       "4.a Bias                    60.0 (22.0)\n",
       "4.b Denoising               64.0 (21.0)\n",
       "4.c Histogram               63.0 (22.0)\n",
       "4.d Skull                   69.0 (20.0)\n",
       "Name: Mean (STD), dtype: object"
      ]
     },
     "execution_count": 12,
     "metadata": {},
     "output_type": "execute_result"
    }
   ],
   "source": [
    "# Appending Table  Surface Dice WT\n",
    "metric = 'Surface Dice 1mm'\n",
    "data = 'gbm'\n",
    "label = 'WT'\n",
    "model = 'nn_unet'\n",
    "\n",
    "get_column_from_pivot_table(df_1_3, metric, data, label, model, epoch, multiplier=100)"
   ]
  },
  {
   "cell_type": "code",
   "execution_count": 7,
   "metadata": {},
   "outputs": [],
   "source": [
    "## How to check where to put rows on the statistical significance:"
   ]
  },
  {
   "cell_type": "code",
   "execution_count": 22,
   "metadata": {},
   "outputs": [
    {
     "name": "stdout",
     "output_type": "stream",
     "text": [
      "85.0 12.0 44.0 28.0\n"
     ]
    }
   ],
   "source": [
    "import numpy as np\n",
    "preproc_1 = \"4a_resamp\"\n",
    "preproc_2 = \"1_reg\"\n",
    "\n",
    "data_1 = df_1_3[df_1_3.Dataset=='gbm'][df_1_3['NN-Architecture (nn-Unet, UNETR)']== 'nn_unet'][df_1_3.Epoch==300][df_1_3['Label (WT, ET, TC, GTV)']=='WT'][df_1_3['Preprocessing step']==preproc_1]['Dice']\n",
    "data_2 = df_1_3[df_1_3.Dataset=='gbm'][df_1_3['NN-Architecture (nn-Unet, UNETR)']== 'nn_unet'][df_1_3.Epoch==300][df_1_3['Label (WT, ET, TC, GTV)']=='WT'][df_1_3['Preprocessing step']==preproc_2]['Dice']\n",
    "\n",
    "print((np.round(data_1.mean(),3)*100).round(0), (np.round(data_1.std(),3)*100).round(0), (np.round(data_2.mean(),3)*100).round(0), (np.round(data_2.std(),3)*100).round(0),)"
   ]
  },
  {
   "cell_type": "code",
   "execution_count": 15,
   "metadata": {},
   "outputs": [
    {
     "name": "stdout",
     "output_type": "stream",
     "text": [
      "\u001b[33mWARNING: Ignoring invalid distribution -chor (/opt/conda/lib/python3.10/site-packages)\u001b[0m\u001b[33m\n",
      "\u001b[0m\u001b[33mWARNING: Ignoring invalid distribution -orch (/opt/conda/lib/python3.10/site-packages)\u001b[0m\u001b[33m\n",
      "\u001b[0m\u001b[33mWARNING: Ignoring invalid distribution -orchaudio (/opt/conda/lib/python3.10/site-packages)\u001b[0m\u001b[33m\n",
      "\u001b[0m\u001b[33mWARNING: Ignoring invalid distribution -riton (/opt/conda/lib/python3.10/site-packages)\u001b[0m\u001b[33m\n",
      "\u001b[0mCollecting researchpy\n",
      "  Downloading researchpy-0.3.5-py3-none-any.whl (33 kB)\n",
      "Requirement already satisfied: scipy in /opt/conda/lib/python3.10/site-packages (from researchpy) (1.11.2)\n",
      "Requirement already satisfied: numpy in /opt/conda/lib/python3.10/site-packages (from researchpy) (1.23.5)\n",
      "Requirement already satisfied: pandas in /opt/conda/lib/python3.10/site-packages (from researchpy) (2.0.3)\n",
      "Requirement already satisfied: statsmodels in /opt/conda/lib/python3.10/site-packages (from researchpy) (0.14.0)\n",
      "Requirement already satisfied: patsy in /opt/conda/lib/python3.10/site-packages (from researchpy) (0.5.3)\n",
      "Requirement already satisfied: python-dateutil>=2.8.2 in /opt/conda/lib/python3.10/site-packages (from pandas->researchpy) (2.8.2)\n",
      "Requirement already satisfied: pytz>=2020.1 in /opt/conda/lib/python3.10/site-packages (from pandas->researchpy) (2023.3)\n",
      "Requirement already satisfied: tzdata>=2022.1 in /opt/conda/lib/python3.10/site-packages (from pandas->researchpy) (2023.3)\n",
      "Requirement already satisfied: six in /opt/conda/lib/python3.10/site-packages (from patsy->researchpy) (1.16.0)\n",
      "Requirement already satisfied: packaging>=21.3 in /opt/conda/lib/python3.10/site-packages (from statsmodels->researchpy) (23.1)\n",
      "\u001b[33mWARNING: Error parsing requirements for google-auth: [Errno 2] No such file or directory: '/opt/conda/lib/python3.10/site-packages/google_auth-2.22.0.dist-info/METADATA'\u001b[0m\u001b[33m\n",
      "\u001b[0m\u001b[33mWARNING: Ignoring invalid distribution -chor (/opt/conda/lib/python3.10/site-packages)\u001b[0m\u001b[33m\n",
      "\u001b[0m\u001b[33mWARNING: Ignoring invalid distribution -orch (/opt/conda/lib/python3.10/site-packages)\u001b[0m\u001b[33m\n",
      "\u001b[0m\u001b[33mWARNING: Ignoring invalid distribution -orchaudio (/opt/conda/lib/python3.10/site-packages)\u001b[0m\u001b[33m\n",
      "\u001b[0m\u001b[33mWARNING: Ignoring invalid distribution -riton (/opt/conda/lib/python3.10/site-packages)\u001b[0m\u001b[33m\n",
      "\u001b[0mInstalling collected packages: researchpy\n",
      "Successfully installed researchpy-0.3.5\n"
     ]
    }
   ],
   "source": [
    "!pip install researchpy"
   ]
  },
  {
   "cell_type": "code",
   "execution_count": 51,
   "metadata": {},
   "outputs": [
    {
     "name": "stdout",
     "output_type": "stream",
     "text": [
      "1_reg 85 ( 12 )  vs  44 ( 28 )\n",
      "Difference is significant, p-value  0.0\n",
      "4b_n4 85 ( 12 )  vs  82 ( 13 )\n",
      "Difference is significant, p-value  0.0\n",
      "4d_susan 85 ( 12 )  vs  84 ( 12 )\n",
      "Difference is significant, p-value  0.025\n",
      "5_ss_shared 85 ( 12 )  vs  87 ( 11 )\n",
      "Difference is significant, p-value  0.019\n"
     ]
    }
   ],
   "source": [
    "import scipy\n",
    "from statsmodels.stats.weightstats import ttost_ind\n",
    "from researchpy import ttest\n",
    "\n",
    "metric = 'Dice'\n",
    "data = 'gbm'\n",
    "label = 'WT'\n",
    "model = 'nn_unet'\n",
    "epoch = 300\n",
    "\n",
    "\n",
    "preproc_1 = \"4a_resamp\"\n",
    "for key in reindex_list:\n",
    "    preproc_2 = key\n",
    "    \n",
    "    if key != \"4a_resamp\":\n",
    "\n",
    "        data_1 = df_1_3[df_1_3.Dataset==data][df_1_3.Epoch==epoch][df_1_3['Label (WT, ET, TC, GTV)']==label][df_1_3['NN-Architecture (nn-Unet, UNETR)']==model][df_1_3['Preprocessing step']==preproc_1][metric]\n",
    "        data_2 = df_1_3[df_1_3.Dataset==data][df_1_3.Epoch==epoch][df_1_3['Label (WT, ET, TC, GTV)']==label][df_1_3['NN-Architecture (nn-Unet, UNETR)']==model][df_1_3['Preprocessing step']==preproc_2][metric]\n",
    "\n",
    "        \n",
    "        ttost = ttost_ind(data_1, data_2, -data_2.std()/4, data_2.std()/4)[0]/7\n",
    "        ttest_ = scipy.stats.wilcoxon(data_1, data_2,  alternative='two-sided')[1]*7\n",
    "\n",
    "        # print(\"If more than 0.05\", ttost > 0.05, np.round(ttost,3))\n",
    "        if ttest_ < 0.05:\n",
    "            print(preproc_2, (np.round(data_1.mean(),3)*100).round(0).astype(int), '(',\n",
    "              (np.round(data_1.std(),3)*100).round(0).astype(int), ')',\n",
    "              ' vs ',\\\n",
    "              (np.round(data_2.mean(),3)*100).round(0).astype(int), '(' ,\n",
    "              (np.round(data_2.std(),3)*100).round(0).astype(int),')')\n",
    "            print( \"Difference is significant, p-value \", np.round(ttest_,3))"
   ]
  },
  {
   "cell_type": "code",
   "execution_count": null,
   "metadata": {},
   "outputs": [],
   "source": []
  }
 ],
 "metadata": {
  "kernelspec": {
   "display_name": "base",
   "language": "python",
   "name": "python3"
  },
  "language_info": {
   "codemirror_mode": {
    "name": "ipython",
    "version": 3
   },
   "file_extension": ".py",
   "mimetype": "text/x-python",
   "name": "python",
   "nbconvert_exporter": "python",
   "pygments_lexer": "ipython3",
   "version": "3.10.12"
  }
 },
 "nbformat": 4,
 "nbformat_minor": 2
}
