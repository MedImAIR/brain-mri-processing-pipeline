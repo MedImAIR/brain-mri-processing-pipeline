{
 "cells": [
  {
   "cell_type": "code",
   "execution_count": 1,
   "metadata": {},
   "outputs": [],
   "source": [
    "import pydicom\n",
    "import csv\n",
    "import os"
   ]
  },
  {
   "cell_type": "code",
   "execution_count": 8,
   "metadata": {},
   "outputs": [
    {
     "data": {
      "text/plain": [
       "(67, 136)"
      ]
     },
     "execution_count": 8,
     "metadata": {},
     "output_type": "execute_result"
    }
   ],
   "source": [
    "tcia_lgg_raw = '/home/datasets/@Uranus/tcia/manifest-25ZdsnMy5264093150469993200/TCGA-LGG/'\n",
    "tcia_gbm_raw = '/home/datasets/@Uranus/tcia/manifest-21CCx8fx964169794518489879/TCGA-GBM/'\n",
    "len(os.listdir(tcia_lgg_raw)),len(os.listdir(tcia_gbm_raw))"
   ]
  },
  {
   "cell_type": "code",
   "execution_count": 3,
   "metadata": {},
   "outputs": [],
   "source": [
    "import numpy as np\n",
    "\n",
    "sub_ids = next(os.walk(tcia_lgg_raw))[1]\n",
    "\n",
    "## First, find FLAIR, T2, and T1-mprage scans based on expected file names\n",
    "flair_paths=[]\n",
    "t2_paths=[]\n",
    "t1_paths=[]\n",
    "\n",
    "for (root, __, __) in os.walk(tcia_lgg_raw):\n",
    "    ##   FLAIR\n",
    "    if  root.find('FLAIR') >0 and\\\n",
    "        root.find('T1') <0:\n",
    "        flair_paths.append(root)\n",
    "    if  root.find('flair') >0 and\\\n",
    "        root.find('T1') <0:\n",
    "        flair_paths.append(root)\n",
    "    if  root.find('Flair') >0 and\\\n",
    "        root.find('T1') <0:\n",
    "        flair_paths.append(root)\n",
    "    if  root.find('3.000000-58602') >0:\n",
    "        flair_paths.append(root)\n",
    "        \n",
    "\n",
    "    ##   T2\n",
    "    if  root.find('T2') > 0 and\\\n",
    "        root.find('FLAIR')<0:\n",
    "        t2_paths.append(root)\n",
    "    if  root.find('t2') > 0 and\\\n",
    "        root.find('FLAIR')< 0:\n",
    "        t2_paths.append(root)\n",
    "    if  root.find('FSE') > 0 and\\\n",
    "        root.find('T1')< 0:\n",
    "        t2_paths.append(root)   \n",
    "    if  root.find('fse') > 0 and\\\n",
    "        root.find('T1')< 0:\n",
    "        t2_paths.append(root)   \n",
    "        \n",
    "    ##   T1 pre\n",
    "    if  root.find('T1') > 0 or\\\n",
    "        root.find('t1') > 0 or\\\n",
    "        root.find('MP RAGE') > 0 or\\\n",
    "        root.find('VOLUMAX') >0 or\\\n",
    "        root.find('VOLUMETRIC') >0 or\\\n",
    "        root.find('SPGR') > 0:\n",
    "        t1_paths.append(root)\n",
    "\n",
    "        \n",
    "flair_paths = np.unique(flair_paths).tolist()\n",
    "t2_paths = np.unique(t2_paths).tolist()\n",
    "t1_paths = np.unique(t1_paths).tolist()"
   ]
  },
  {
   "cell_type": "code",
   "execution_count": 4,
   "metadata": {},
   "outputs": [
    {
     "name": "stdout",
     "output_type": "stream",
     "text": [
      "66 69 88 312\n"
     ]
    }
   ],
   "source": [
    "print(len(sub_ids), len(flair_paths), len(t2_paths), len(t1_paths))"
   ]
  },
  {
   "cell_type": "code",
   "execution_count": 6,
   "metadata": {},
   "outputs": [],
   "source": [
    "# creating a list of subjects with package of four images\n",
    "import pandas as pd\n",
    "df_result = pd.DataFrame(columns = ['ID', 'T1', 'T1C', 'T2', 'FLAIR'])\n",
    "num_tag = pydicom.tag.Tag(int('0020', 16), int('0011', 16)) # series number tag\n",
    "\n",
    "for idx, sub in enumerate(sub_ids):\n",
    "    # flair\n",
    "    df_result.at[idx,'ID'] = sub\n",
    "    fn_paths = list(filter(lambda x: sub in x, flair_paths)) # grab paths for this sub\n",
    "    if len(fn_paths) == 1:\n",
    "        df_result.at[idx,'FLAIR'] = fn_paths[0]\n",
    "    # t2\n",
    "    fn_paths = list(filter(lambda x: sub in x, t2_paths)) # grab paths for this sub\n",
    "    if len(fn_paths) == 1:\n",
    "        df_result.at[idx,'T2'] = fn_paths[0]\n",
    "\n",
    "    # t1: comparing two with num tags\n",
    "    fn_paths = list(filter(lambda x: sub in x, t1_paths)) # grab paths for this sub\n",
    "    num_tag_list = []\n",
    "    for fn_path in fn_paths:\n",
    "        ds = pydicom.dcmread(fn_path+'/'+os.listdir(fn_path)[0])\n",
    "        num_tag_list.append(ds[num_tag].value)\n",
    "    try:\n",
    "        df_result.at[idx,'T1C'] = fn_paths[num_tag_list.index(max(num_tag_list))]\n",
    "        df_result.at[idx,'T1'] = fn_paths[num_tag_list.index(min(num_tag_list))]\n",
    "    except:\n",
    "        pass"
   ]
  },
  {
   "cell_type": "code",
   "execution_count": 12,
   "metadata": {},
   "outputs": [],
   "source": [
    "df_result = pd.DataFrame(columns = ['ID', 'T1', 'T1C', 'T2', 'FLAIR'])\n",
    "num_tag = pydicom.tag.Tag(int('0020', 16), int('0011', 16)) # series number tag\n",
    "\n",
    "for idx, sub in enumerate(sub_ids):\n",
    "    # flair\n",
    "    df_result.at[idx,'ID'] = sub\n",
    "    fn_paths = list(filter(lambda x: sub in x, flair_paths)) # grab paths for this sub\n",
    "    if len(fn_paths) > 0:\n",
    "        df_result.at[idx,'FLAIR'] = fn_paths[0]\n",
    "    # t2\n",
    "    fn_paths = list(filter(lambda x: sub in x, t2_paths)) # grab paths for this sub\n",
    "    if len(fn_paths) > 0:\n",
    "        df_result.at[idx,'T2'] = fn_paths[0]\n",
    "\n",
    "    # t1: comparing two with num tags\n",
    "    fn_paths = list(filter(lambda x: sub in x, t1_paths)) # grab paths for this sub\n",
    "    num_tag_list = []\n",
    "    for fn_path in fn_paths:\n",
    "        ds = pydicom.dcmread(fn_path+'/'+os.listdir(fn_path)[0])\n",
    "        num_tag_list.append(ds[num_tag].value)\n",
    "    try:\n",
    "        df_result.at[idx,'T1C'] = fn_paths[num_tag_list.index(max(num_tag_list))]\n",
    "        df_result.at[idx,'T1'] = fn_paths[num_tag_list.index(min(num_tag_list))]\n",
    "    except:\n",
    "        pass"
   ]
  },
  {
   "cell_type": "code",
   "execution_count": 15,
   "metadata": {},
   "outputs": [
    {
     "name": "stdout",
     "output_type": "stream",
     "text": [
      "<class 'pandas.core.frame.DataFrame'>\n",
      "Int64Index: 66 entries, 0 to 65\n",
      "Data columns (total 5 columns):\n",
      " #   Column  Non-Null Count  Dtype \n",
      "---  ------  --------------  ----- \n",
      " 0   ID      66 non-null     object\n",
      " 1   T1      65 non-null     object\n",
      " 2   T1C     65 non-null     object\n",
      " 3   T2      62 non-null     object\n",
      " 4   FLAIR   61 non-null     object\n",
      "dtypes: object(5)\n",
      "memory usage: 5.6+ KB\n"
     ]
    }
   ],
   "source": [
    "df_result.info()"
   ]
  },
  {
   "cell_type": "code",
   "execution_count": 18,
   "metadata": {},
   "outputs": [
    {
     "data": {
      "text/html": [
       "<div>\n",
       "<style scoped>\n",
       "    .dataframe tbody tr th:only-of-type {\n",
       "        vertical-align: middle;\n",
       "    }\n",
       "\n",
       "    .dataframe tbody tr th {\n",
       "        vertical-align: top;\n",
       "    }\n",
       "\n",
       "    .dataframe thead th {\n",
       "        text-align: right;\n",
       "    }\n",
       "</style>\n",
       "<table border=\"1\" class=\"dataframe\">\n",
       "  <thead>\n",
       "    <tr style=\"text-align: right;\">\n",
       "      <th></th>\n",
       "      <th>ID</th>\n",
       "      <th>T1</th>\n",
       "      <th>T1C</th>\n",
       "      <th>T2</th>\n",
       "      <th>FLAIR</th>\n",
       "    </tr>\n",
       "  </thead>\n",
       "  <tbody>\n",
       "    <tr>\n",
       "      <th>12</th>\n",
       "      <td>TCGA-CS-5393</td>\n",
       "      <td>/home/datasets/@Uranus/tcia/manifest-25ZdsnMy5...</td>\n",
       "      <td>/home/datasets/@Uranus/tcia/manifest-25ZdsnMy5...</td>\n",
       "      <td>NaN</td>\n",
       "      <td>/home/datasets/@Uranus/tcia/manifest-25ZdsnMy5...</td>\n",
       "    </tr>\n",
       "    <tr>\n",
       "      <th>14</th>\n",
       "      <td>TCGA-DU-6402</td>\n",
       "      <td>/home/datasets/@Uranus/tcia/manifest-25ZdsnMy5...</td>\n",
       "      <td>/home/datasets/@Uranus/tcia/manifest-25ZdsnMy5...</td>\n",
       "      <td>NaN</td>\n",
       "      <td>NaN</td>\n",
       "    </tr>\n",
       "    <tr>\n",
       "      <th>18</th>\n",
       "      <td>TCGA-CS-4938</td>\n",
       "      <td>/home/datasets/@Uranus/tcia/manifest-25ZdsnMy5...</td>\n",
       "      <td>/home/datasets/@Uranus/tcia/manifest-25ZdsnMy5...</td>\n",
       "      <td>/home/datasets/@Uranus/tcia/manifest-25ZdsnMy5...</td>\n",
       "      <td>NaN</td>\n",
       "    </tr>\n",
       "    <tr>\n",
       "      <th>19</th>\n",
       "      <td>TCGA-CS-5390</td>\n",
       "      <td>/home/datasets/@Uranus/tcia/manifest-25ZdsnMy5...</td>\n",
       "      <td>/home/datasets/@Uranus/tcia/manifest-25ZdsnMy5...</td>\n",
       "      <td>/home/datasets/@Uranus/tcia/manifest-25ZdsnMy5...</td>\n",
       "      <td>NaN</td>\n",
       "    </tr>\n",
       "    <tr>\n",
       "      <th>34</th>\n",
       "      <td>TCGA-CS-6290</td>\n",
       "      <td>/home/datasets/@Uranus/tcia/manifest-25ZdsnMy5...</td>\n",
       "      <td>/home/datasets/@Uranus/tcia/manifest-25ZdsnMy5...</td>\n",
       "      <td>NaN</td>\n",
       "      <td>/home/datasets/@Uranus/tcia/manifest-25ZdsnMy5...</td>\n",
       "    </tr>\n",
       "    <tr>\n",
       "      <th>40</th>\n",
       "      <td>TCGA-CS-4942</td>\n",
       "      <td>/home/datasets/@Uranus/tcia/manifest-25ZdsnMy5...</td>\n",
       "      <td>/home/datasets/@Uranus/tcia/manifest-25ZdsnMy5...</td>\n",
       "      <td>NaN</td>\n",
       "      <td>/home/datasets/@Uranus/tcia/manifest-25ZdsnMy5...</td>\n",
       "    </tr>\n",
       "    <tr>\n",
       "      <th>45</th>\n",
       "      <td>TCGA-CS-5394</td>\n",
       "      <td>/home/datasets/@Uranus/tcia/manifest-25ZdsnMy5...</td>\n",
       "      <td>/home/datasets/@Uranus/tcia/manifest-25ZdsnMy5...</td>\n",
       "      <td>/home/datasets/@Uranus/tcia/manifest-25ZdsnMy5...</td>\n",
       "      <td>NaN</td>\n",
       "    </tr>\n",
       "    <tr>\n",
       "      <th>55</th>\n",
       "      <td>TCGA-DU-8158</td>\n",
       "      <td>/home/datasets/@Uranus/tcia/manifest-25ZdsnMy5...</td>\n",
       "      <td>/home/datasets/@Uranus/tcia/manifest-25ZdsnMy5...</td>\n",
       "      <td>/home/datasets/@Uranus/tcia/manifest-25ZdsnMy5...</td>\n",
       "      <td>NaN</td>\n",
       "    </tr>\n",
       "    <tr>\n",
       "      <th>65</th>\n",
       "      <td>TCGA-DU-6395</td>\n",
       "      <td>NaN</td>\n",
       "      <td>NaN</td>\n",
       "      <td>/home/datasets/@Uranus/tcia/manifest-25ZdsnMy5...</td>\n",
       "      <td>/home/datasets/@Uranus/tcia/manifest-25ZdsnMy5...</td>\n",
       "    </tr>\n",
       "  </tbody>\n",
       "</table>\n",
       "</div>"
      ],
      "text/plain": [
       "              ID                                                 T1  \\\n",
       "12  TCGA-CS-5393  /home/datasets/@Uranus/tcia/manifest-25ZdsnMy5...   \n",
       "14  TCGA-DU-6402  /home/datasets/@Uranus/tcia/manifest-25ZdsnMy5...   \n",
       "18  TCGA-CS-4938  /home/datasets/@Uranus/tcia/manifest-25ZdsnMy5...   \n",
       "19  TCGA-CS-5390  /home/datasets/@Uranus/tcia/manifest-25ZdsnMy5...   \n",
       "34  TCGA-CS-6290  /home/datasets/@Uranus/tcia/manifest-25ZdsnMy5...   \n",
       "40  TCGA-CS-4942  /home/datasets/@Uranus/tcia/manifest-25ZdsnMy5...   \n",
       "45  TCGA-CS-5394  /home/datasets/@Uranus/tcia/manifest-25ZdsnMy5...   \n",
       "55  TCGA-DU-8158  /home/datasets/@Uranus/tcia/manifest-25ZdsnMy5...   \n",
       "65  TCGA-DU-6395                                                NaN   \n",
       "\n",
       "                                                  T1C  \\\n",
       "12  /home/datasets/@Uranus/tcia/manifest-25ZdsnMy5...   \n",
       "14  /home/datasets/@Uranus/tcia/manifest-25ZdsnMy5...   \n",
       "18  /home/datasets/@Uranus/tcia/manifest-25ZdsnMy5...   \n",
       "19  /home/datasets/@Uranus/tcia/manifest-25ZdsnMy5...   \n",
       "34  /home/datasets/@Uranus/tcia/manifest-25ZdsnMy5...   \n",
       "40  /home/datasets/@Uranus/tcia/manifest-25ZdsnMy5...   \n",
       "45  /home/datasets/@Uranus/tcia/manifest-25ZdsnMy5...   \n",
       "55  /home/datasets/@Uranus/tcia/manifest-25ZdsnMy5...   \n",
       "65                                                NaN   \n",
       "\n",
       "                                                   T2  \\\n",
       "12                                                NaN   \n",
       "14                                                NaN   \n",
       "18  /home/datasets/@Uranus/tcia/manifest-25ZdsnMy5...   \n",
       "19  /home/datasets/@Uranus/tcia/manifest-25ZdsnMy5...   \n",
       "34                                                NaN   \n",
       "40                                                NaN   \n",
       "45  /home/datasets/@Uranus/tcia/manifest-25ZdsnMy5...   \n",
       "55  /home/datasets/@Uranus/tcia/manifest-25ZdsnMy5...   \n",
       "65  /home/datasets/@Uranus/tcia/manifest-25ZdsnMy5...   \n",
       "\n",
       "                                                FLAIR  \n",
       "12  /home/datasets/@Uranus/tcia/manifest-25ZdsnMy5...  \n",
       "14                                                NaN  \n",
       "18                                                NaN  \n",
       "19                                                NaN  \n",
       "34  /home/datasets/@Uranus/tcia/manifest-25ZdsnMy5...  \n",
       "40  /home/datasets/@Uranus/tcia/manifest-25ZdsnMy5...  \n",
       "45                                                NaN  \n",
       "55                                                NaN  \n",
       "65  /home/datasets/@Uranus/tcia/manifest-25ZdsnMy5...  "
      ]
     },
     "execution_count": 18,
     "metadata": {},
     "output_type": "execute_result"
    }
   ],
   "source": [
    "df_result[df_result.isna().any(axis=1)]"
   ]
  },
  {
   "cell_type": "code",
   "execution_count": 45,
   "metadata": {},
   "outputs": [
    {
     "data": {
      "text/plain": [
       "array([['TCGA-CS-6290',\n",
       "        '/home/datasets/@Uranus/tcia/manifest-25ZdsnMy5264093150469993200/TCGA-LGG/TCGA-CS-6290/09-17-2000-JHN IP BRAIN CONTRASTMRA.MRV-26774/5.000000-BRAINCONTRASTT1SAGITTAL-94308',\n",
       "        '/home/datasets/@Uranus/tcia/manifest-25ZdsnMy5264093150469993200/TCGA-LGG/TCGA-CS-6290/09-17-2000-JHN IP BRAIN CONTRASTMRA.MRV-26774/16.000000-BRAINCONTRASTT1SAGITTAL-59617',\n",
       "        nan,\n",
       "        '/home/datasets/@Uranus/tcia/manifest-25ZdsnMy5264093150469993200/TCGA-LGG/TCGA-CS-6290/09-17-2000-JHN IP BRAIN CONTRASTMRA.MRV-26774/11.000000-BRAINCONTRASTFLAIR-78370']],\n",
       "      dtype=object)"
      ]
     },
     "execution_count": 45,
     "metadata": {},
     "output_type": "execute_result"
    }
   ],
   "source": [
    "df_result[df_result['ID'] == 'TCGA-CS-6290'].values"
   ]
  },
  {
   "cell_type": "code",
   "execution_count": 48,
   "metadata": {},
   "outputs": [
    {
     "data": {
      "text/plain": [
       "'/home/datasets/@Uranus/tcia/manifest-25ZdsnMy5264093150469993200/TCGA-LGG/'"
      ]
     },
     "execution_count": 48,
     "metadata": {},
     "output_type": "execute_result"
    }
   ],
   "source": [
    "tcia_lgg_raw"
   ]
  },
  {
   "cell_type": "code",
   "execution_count": 47,
   "metadata": {},
   "outputs": [
    {
     "data": {
      "text/plain": [
       "['3.000000-BRAINMRAMRVMOTSA-3-SLAB-80850',\n",
       " '13.000000-BRAINCONTRASThemosiderin-66837',\n",
       " '2.000000-BRAINCONTRASTNEWDIFF-00653',\n",
       " '8.000000-MIPSeries0003-50496',\n",
       " '14.000000-BRAINCONTRASTT1AXIALC-88990',\n",
       " '15.000000-BRAINCONTRASTT1CORONAL-34457',\n",
       " '12.000000-BRAINCONTRASTDOUBLEECHO-14310',\n",
       " '9.000000-MIPSeries0004-59333',\n",
       " '7.000000-BRAINCONTRASTT1AXIAL-09319',\n",
       " '11.000000-BRAINCONTRASTFLAIR-78370',\n",
       " '1.000000-BRAINCONTRASTSCOUT-47920',\n",
       " '16.000000-BRAINCONTRASTT1SAGITTAL-59617',\n",
       " '6.000000-MIPSeries0003-45786',\n",
       " '5.000000-BRAINCONTRASTT1SAGITTAL-94308',\n",
       " '10.000000-MIPSeries0004-45430',\n",
       " '4.000000-BRAINMRAMRV2DTOFCORON-78565']"
      ]
     },
     "execution_count": 47,
     "metadata": {},
     "output_type": "execute_result"
    }
   ],
   "source": [
    "os.listdir(tcia_lgg_raw + 'TCGA-CS-6290/09-17-2000-JHN IP BRAIN CONTRASTMRA.MRV-26774/12.000000-BRAINCONTRASTDOUBLEECHO-14310')"
   ]
  },
  {
   "cell_type": "code",
   "execution_count": 461,
   "metadata": {},
   "outputs": [],
   "source": [
    "df_result.at[12,'T2'] = '/home/datasets/@Uranus/tcia/manifest-25ZdsnMy5264093150469993200/TCGA-LGG/TCGA-CS-5393/06-06-1999-JHN MRI BRAINSTRYKER IP-28540/5.000000-BRAINCONTRASTDOUBLEECHO-62620/'\n",
    "df_result.at[14,'FLAIR'] = '/home/datasets/@Uranus/tcia/manifest-25ZdsnMy5264093150469993200/TCGA-LGG/TCGA-DU-6402/12-31-1983-WAND BRAIN-73244/1.000000-axial diff.-30337'\n",
    "df_result.at[14, 'T2'] = '/home/datasets/@Uranus/tcia/manifest-25ZdsnMy5264093150469993200/TCGA-LGG/TCGA-DU-6402/12-31-1983-WAND BRAIN-73244/4.000000-axial perf.-20953'\n",
    "df_result.at[18, 'FLAIR'] = '/home/datasets/@Uranus/tcia/manifest-25ZdsnMy5264093150469993200/TCGA-LGG/TCGA-CS-4938/04-15-1996-JHN BRAIN MR OP-84760/2.000000-FASTBRAINEPIDIFF-74032''\n",
    "df_result.at[19, 'FLAIR'] ='/home/datasets/@Megatron/druzhinina/tcia/manifest-21CCx8fx964169794518489879/TCGA-LGG/TCGA-CS-5390/03-07-1996-BRAINSTRYKER-97078/5.000000-BRAINSTRYKERDIFFUSION-72204'\n",
    "df_result.at[34, 'T2'] ='/home/datasets/@Uranus/tcia/manifest-25ZdsnMy5264093150469993200/TCGA-LGG/TCGA-CS-6290/09-17-2000-JHN IP BRAIN CONTRASTMRA.MRV-26774/12.000000-BRAINCONTRASTDOUBLEECHO-14310'\n",
    "df_result.at[100, 'T2'] = '/home/datasets/@Uranus/tcia/manifest-25ZdsnMy5264093150469993200/TCGA-LGG/TCGA-12-3650/07-29-2001-BRAIN-95330/5.000000-Ax T2-79876/'\n",
    "df_result.at[127, 'T2'] = '/home/datasets/@Uranus/tcia/manifest-25ZdsnMy5264093150469993200/TCGA-LGG/TCGA-14-1825/02-10-2000-HeadRoutine-89271/8.000000-T2AXFS post-53394/'"
   ]
  },
  {
   "cell_type": "code",
   "execution_count": 466,
   "metadata": {},
   "outputs": [],
   "source": [
    "# df_result.to_csv('glb_paths.csv')"
   ]
  },
  {
   "cell_type": "markdown",
   "metadata": {},
   "source": [
    "## Saving folders"
   ]
  },
  {
   "cell_type": "code",
   "execution_count": 499,
   "metadata": {
    "collapsed": true,
    "jupyter": {
     "outputs_hidden": true
    }
   },
   "outputs": [
    {
     "data": {
      "text/plain": [
       "['1-41.dcm',\n",
       " '1-49.dcm',\n",
       " '1-17.dcm',\n",
       " '1-60.dcm',\n",
       " '1-20.dcm',\n",
       " '1-31.dcm',\n",
       " '1-35.dcm',\n",
       " '1-11.dcm',\n",
       " '1-27.dcm',\n",
       " '1-19.dcm',\n",
       " '1-53.dcm',\n",
       " '1-08.dcm',\n",
       " '1-54.dcm',\n",
       " '1-66.dcm',\n",
       " '1-03.dcm',\n",
       " '1-42.dcm',\n",
       " '1-39.dcm',\n",
       " '1-58.dcm',\n",
       " '1-55.dcm',\n",
       " '1-68.dcm',\n",
       " '1-16.dcm',\n",
       " '1-15.dcm',\n",
       " '1-40.dcm',\n",
       " '1-43.dcm',\n",
       " '1-04.dcm',\n",
       " '1-13.dcm',\n",
       " '1-47.dcm',\n",
       " '1-59.dcm',\n",
       " '1-23.dcm',\n",
       " '1-48.dcm',\n",
       " '1-30.dcm',\n",
       " '1-07.dcm',\n",
       " '1-61.dcm',\n",
       " '1-26.dcm',\n",
       " '1-57.dcm',\n",
       " '1-01.dcm',\n",
       " '1-45.dcm',\n",
       " '1-52.dcm',\n",
       " '1-38.dcm',\n",
       " '1-02.dcm',\n",
       " '1-46.dcm',\n",
       " '1-65.dcm',\n",
       " '1-22.dcm',\n",
       " '1-10.dcm',\n",
       " '1-37.dcm',\n",
       " '1-18.dcm',\n",
       " '1-21.dcm',\n",
       " '1-56.dcm',\n",
       " '1-25.dcm',\n",
       " '1-05.dcm',\n",
       " '1-44.dcm',\n",
       " '1-62.dcm',\n",
       " '1-06.dcm',\n",
       " '1-67.dcm',\n",
       " '1-09.dcm',\n",
       " '1-28.dcm',\n",
       " '1-63.dcm',\n",
       " '1-12.dcm',\n",
       " '1-64.dcm',\n",
       " '1-34.dcm',\n",
       " '1-24.dcm',\n",
       " '1-29.dcm',\n",
       " '1-36.dcm',\n",
       " '1-51.dcm',\n",
       " '1-32.dcm',\n",
       " '1-50.dcm',\n",
       " '1-33.dcm',\n",
       " '1-14.dcm']"
      ]
     },
     "execution_count": 499,
     "metadata": {},
     "output_type": "execute_result"
    }
   ],
   "source": [
    "os.listdir('/home/datasets/@Megatron/druzhinina/tcia/manifest-21CCx8fx964169794518489879/TCGA-GBM/TCGA-06-1084/01-15-2007-24760/3.000000-AXIAL FSE-19440')"
   ]
  },
  {
   "cell_type": "code",
   "execution_count": 493,
   "metadata": {},
   "outputs": [
    {
     "data": {
      "text/plain": [
       "'/home/datasets/@Megatron/druzhinina/tcia/manifest-21CCx8fx964169794518489879/TCGA-GBM/TCGA-06-1084/01-15-2007-24760/3.000000-AXIAL FSE-19440'"
      ]
     },
     "execution_count": 493,
     "metadata": {},
     "output_type": "execute_result"
    }
   ],
   "source": [
    "df_result['T2'].iloc[i]"
   ]
  },
  {
   "cell_type": "code",
   "execution_count": 506,
   "metadata": {},
   "outputs": [
    {
     "name": "stdout",
     "output_type": "stream",
     "text": [
      "/bin/sh: 1: conda: not found\n"
     ]
    }
   ],
   "source": [
    "!conda install -c conda-forge dcm2niix"
   ]
  },
  {
   "cell_type": "code",
   "execution_count": null,
   "metadata": {},
   "outputs": [
    {
     "name": "stdout",
     "output_type": "stream",
     "text": [
      "TCGA-06-0644\n"
     ]
    }
   ],
   "source": [
    "import dicom2nifti\n",
    "import dicom2nifti.settings as settings\n",
    "\n",
    "dicom2nifti.settings.disable_validate_slicecount()\n",
    "\n",
    "for i in range(0, len(df_result)):\n",
    "    print(df_result['ID'].iloc[i])\n",
    "    try:\n",
    "        os.mkdir('/home/datasets/@Megatron/druzhinina/tcia/training_data/'+ df_result['ID'].iloc[i])\n",
    "    except OSError as error:\n",
    "#         print(error) \n",
    "        pass\n",
    "    \n",
    "    try:\n",
    "        dicom2nifti.dicom_series_to_nifti(df_result['FLAIR'].iloc[i], \n",
    "                                          '/home/datasets/@Megatron/druzhinina/tcia/training_data/'+ df_result['ID'].iloc[i] + '/flair.nii.gz',\n",
    "                                          reorient_nifti=False)\n",
    "        dicom2nifti.dicom_series_to_nifti(df_result['T2'].iloc[i], \n",
    "                                          '/home/datasets/@Megatron/druzhinina/tcia/training_data/'+ df_result['ID'].iloc[i] + '/t2.nii.gz',\n",
    "                                          reorient_nifti=False)\n",
    "        dicom2nifti.dicom_series_to_nifti(df_result['T1C'].iloc[i], \n",
    "                                          '/home/datasets/@Megatron/druzhinina/tcia/training_data/'+ df_result['ID'].iloc[i] + '/t1c.nii.gz',\n",
    "                                          reorient_nifti=False)\n",
    "        dicom2nifti.dicom_series_to_nifti(df_result['T1'].iloc[i], \n",
    "                                          '/home/datasets/@Megatron/druzhinina/tcia/training_data/'+ df_result['ID'].iloc[i] + '/t1.nii.gz',\n",
    "                                          reorient_nifti=False)\n",
    "    except:\n",
    "        print('problems', df_result['ID'].iloc[i]) \n",
    "        pass"
   ]
  },
  {
   "cell_type": "code",
   "execution_count": 214,
   "metadata": {},
   "outputs": [
    {
     "name": "stdout",
     "output_type": "stream",
     "text": [
      "TCGA-06-0139\n",
      "num:  6 512 512 AX T2 FR-FSE RF2 150 , pix:  524288 , spacing:  [0.46875, 0.46875]\n",
      "num:  10 512 512 AX T1 POST GD FLAIR , pix:  524288 , spacing:  [0.46875, 0.46875]\n",
      "contrast:  25    GADOLINIUM\n",
      "TCGA-19-5958\n",
      "num:  4 256 256 T2 AX , pix:  131072 , spacing:  [1, 1]\n",
      "TCGA-12-0776\n",
      "num:  2 512 512 Ax T2 FSE H , pix:  524288 , spacing:  [0.4296875, 0.4296875]\n",
      "num:  5 512 512 AX T1 FSE H+C , pix:  524288 , spacing:  [0.4296875, 0.4296875]\n",
      "contrast:  20CC  MAGNEVIST\n",
      "num:  1 512 512 Sag T1 FSE S , pix:  524288 , spacing:  [0.46875, 0.46875]\n",
      "TCGA-76-4932\n",
      "num:  4 512 512 BRAIN_STRYKER/T2_AX_DOUBLE , pix:  524288 , spacing:  [004.296875E-01, 04.296875E-01]\n",
      "num:  3 256 256 BRAIN_STRYKER/T1_AXIAL , pix:  131072 , spacing:  [008.593750E-01, 08.593750E-01]\n",
      "TCGA-06-0149\n",
      "num:  5 512 512 AXIAL T2 FLAIR , pix:  524288 , spacing:  [0.46875, 0.46875]\n",
      "num:  4 512 512 AX T2 FR-FSE RF2 150 , pix:  524288 , spacing:  [0.46875, 0.46875]\n",
      "num:  9 512 512 AX T1 POST GD FLAIR , pix:  524288 , spacing:  [0.46875, 0.46875]\n",
      "contrast:  25\n",
      "TCGA-27-1838\n",
      "num:  302 256 256 ET2W/FLAIR_ , pix:  131072 , spacing:  [0.8984375, 0.8984375]\n",
      "num:  202 256 256 Edp+t2_se_t , pix:  131072 , spacing:  [0.9375, 0.9375]\n",
      "TCGA-76-6657\n",
      "num:  501 336 336 T2 AX FLAIR , pix:  225792 , spacing:  [0.68452382087707, 0.68452382087707]\n",
      "num:  701 560 560 T2W_TSE , pix:  627200 , spacing:  [0.41071429848670, 0.41071429848670]\n",
      "num:  1301 320 320 T1 AX SE , pix:  204800 , spacing:  [0.71875, 0.71875]\n",
      "num:  901 336 336 T1 AX  SE , pix:  225792 , spacing:  [0.68452382087707, 0.68452382087707]\n",
      "TCGA-08-0390\n",
      "TCGA-76-6191\n",
      "num:  4 256 256 BRAIN_CONTRAST/T1_AXIAL , pix:  131072 , spacing:  [009.765625E-01, 09.765625E-01]\n",
      "TCGA-02-0046\n",
      "num:  3 256 256 AX T2 FSE , pix:  131072 , spacing:  [0.78125, 0.78125]\n",
      "num:  5 256 256 AX T1 , pix:  131072 , spacing:  [0.78125, 0.78125]\n",
      "num:  6 256 256 AX T1 POST , pix:  131072 , spacing:  [0.78125, 0.78125]\n",
      "contrast:  Yes   MAG\n",
      "TCGA-12-3650\n",
      "num:  5 512 512 Ax T2 , pix:  524288 , spacing:  [0.468750, 0.468750]\n",
      "contrast:  \n",
      "num:  4 512 512 Ax T2Flair , pix:  524288 , spacing:  [0.468750, 0.468750]\n",
      "contrast:  \n",
      "num:  9 512 512 AX T1 POST , pix:  524288 , spacing:  [0.4688, 0.4688]\n",
      "contrast:  20ML  MAG\n",
      "num:  6 512 512 AX T1 , pix:  524288 , spacing:  [0.4688, 0.4688]\n",
      "TCGA-06-0175\n",
      "num:  8 256 256 AXIAL T1 , pix:  131072 , spacing:  [0.9375, 0.9375]\n",
      "num:  10 256 256 AXIAL T1 GD , pix:  131072 , spacing:  [0.9375, 0.9375]\n",
      "contrast:  Yes   GD\n",
      "TCGA-76-6282\n",
      "num:  5 512 512 BRAIN_STRYKER/T2_AX_DOUBLE , pix:  524288 , spacing:  [004.296875E-01, 04.296875E-01]\n",
      "num:  4 256 256 BRAIN_STRYKER/T1_AXIAL , pix:  131072 , spacing:  [008.593750E-01, 08.593750E-01]\n",
      "TCGA-14-1794\n",
      "num:  401 512 512 BRAIN      T2 GRASE , pix:  524288 , spacing:  [004.492188e-01, 004.492188e-01]\n",
      "num:  1101 512 512 BRAIN      T1 AX POST , pix:  524288 , spacing:  [004.492188e-01, 004.492188e-01]\n",
      "TCGA-02-0064\n",
      "num:  12 512 512 T2 FLAIR , pix:  524288 , spacing:  [0.46875, 0.46875]\n",
      "num:  11 512 512 FSE T2 , pix:  524288 , spacing:  [0.46875, 0.46875]\n",
      "TCGA-02-0037\n",
      "num:  3 256 256 AX T2 FSE , pix:  131072 , spacing:  [0.781250, 0.781250]\n",
      "num:  5 256 256 AX T1 , pix:  131072 , spacing:  [0.781250, 0.781250]\n",
      "num:  6 256 256 AX T1 POST , pix:  131072 , spacing:  [0.781250, 0.781250]\n",
      "contrast:  No    MAG\n",
      "TCGA-08-0521\n",
      "TCGA-12-1598\n",
      "num:  3 512 384 T2_AX , pix:  393216 , spacing:  [0.44921875, 0.44921875]\n",
      "num:  5 256 192 T1_AX , pix:  98304 , spacing:  [0.8984375, 0.8984375]\n",
      "num:  9 256 192 T1_AX_gado , pix:  98304 , spacing:  [0.8984375, 0.8984375]\n",
      "contrast:  with contrast\n",
      "TCGA-08-0357\n",
      "TCGA-06-0176\n",
      "num:  9 256 256 AXIAL T1 GD , pix:  131072 , spacing:  [0.9375, 0.9375]\n",
      "contrast:  25CC  GAD\n",
      "num:  7 256 256 AXIAL T1 , pix:  131072 , spacing:  [0.9375, 0.9375]\n",
      "TCGA-02-0006\n",
      "num:  3 256 256 AX T2 FSE , pix:  131072 , spacing:  [0.781250, 0.781250]\n",
      "num:  5 256 256 AX T1 , pix:  131072 , spacing:  [0.781250, 0.781250]\n",
      "num:  6 256 256 AX T1 POST , pix:  131072 , spacing:  [0.781250, 0.781250]\n",
      "contrast:  Yes   MAG\n",
      "TCGA-06-0128\n",
      "num:  9 256 256 AXIAL T1 POST GD , pix:  131072 , spacing:  [0.938, 0.938]\n",
      "contrast:  CC    MAGNEVIST\n",
      "TCGA-08-0389\n",
      "num:  5 512 512 Ax T2 FLAIR , pix:  524288 , spacing:  [0.429688, 0.429688]\n",
      "num:  10 256 256 3d T1 FSPGR  CONT , pix:  131072 , spacing:  [1.01562, 1.01562]\n",
      "contrast:  20CC  OMNISCAN\n",
      "TCGA-19-0963\n",
      "num:  2 256 224 MRHG T2 AXIALS , pix:  114688 , spacing:  [0.8984375, 0.8984375]\n",
      "num:  6 256 224 MRHG T1 AX , pix:  114688 , spacing:  [0.8984375, 0.8984375]\n",
      "num:  7 256 224 MRHG T1 AX POST GAD , pix:  114688 , spacing:  [0.8984375, 0.8984375]\n",
      "contrast:  with contrast\n",
      "TCGA-06-5408\n",
      "num:  10 256 256 Ax T1 2.5mm for surgery , pix:  131072 , spacing:  [0.9375, 0.9375]\n",
      "contrast:  Yes   MAG\n",
      "num:  7 256 256 AXIAL T1 , pix:  131072 , spacing:  [0.9375, 0.9375]\n",
      "TCGA-02-0069\n",
      "num:  3 512 512 FSE T2 , pix:  524288 , spacing:  [0.429688, 0.429688]\n",
      "num:  4 256 256 T2 FLAIR , pix:  131072 , spacing:  [0.859375, 0.859375]\n",
      "num:  5 256 256 SE T1 , pix:  131072 , spacing:  [0.859375, 0.859375]\n",
      "TCGA-08-0359\n",
      "TCGA-76-6280\n",
      "num:  501 256 256 DUAL AX T2 , pix:  131072 , spacing:  [0.859375, 0.859375]\n",
      "num:  401 256 256 T2 AX FLAIR , pix:  131072 , spacing:  [0.859375, 0.859375]\n",
      "num:  701 256 256 T1 SE POST , pix:  131072 , spacing:  [0.859375, 0.859375]\n",
      "TCGA-06-0648\n",
      "num:  7 512 512 AX T2 FR-FSE RF2 150 , pix:  524288 , spacing:  [0.4688, 0.4688]\n",
      "num:  11 512 512 AX T1 POST GD FLAIR , pix:  524288 , spacing:  [0.4688, 0.4688]\n",
      "contrast:  25    MAGNEVIST\n",
      "TCGA-06-5417\n",
      "num:  6 512 512 AX T2 FR-FSE RF2 150 , pix:  524288 , spacing:  [0.4688, 0.4688]\n",
      "num:  13 512 512 AX T1 POST GD FLAIR , pix:  524288 , spacing:  [0.4688, 0.4688]\n",
      "contrast:  25\n",
      "TCGA-19-1390\n",
      "num:  2 256 224 MRHG T2 AXIALS , pix:  114688 , spacing:  [0.8984375, 0.8984375]\n",
      "num:  4 256 224 MRHG T1 AX , pix:  114688 , spacing:  [0.8984375, 0.8984375]\n",
      "TCGA-02-0106\n",
      "num:  3 256 256 AX T2 FSE , pix:  131072 , spacing:  [0.78125, 0.78125]\n",
      "num:  6 256 256 AX T1 POST , pix:  131072 , spacing:  [0.78125, 0.78125]\n",
      "contrast:  14ml  MAG\n",
      "num:  5 256 256 AX T1 , pix:  131072 , spacing:  [0.78125, 0.78125]\n",
      "TCGA-19-2631\n",
      "num:  3 256 192 MRHR T2 AX , pix:  98304 , spacing:  [0.8984375, 0.8984375]\n",
      "num:  7 256 192 MRHR T1 AX , pix:  98304 , spacing:  [0.8984375, 0.8984375]\n",
      "num:  8 256 192 MRHR T1 AX POST GAD , pix:  98304 , spacing:  [0.8984375, 0.8984375]\n",
      "contrast:  OPTIMARK\n",
      "TCGA-76-6656\n",
      "num:  601 336 336 T2 AX FLAIR , pix:  225792 , spacing:  [0.68452382087707, 0.68452382087707]\n",
      "num:  701 512 512 AXIAL  T2 , pix:  524288 , spacing:  [0.44921875, 0.44921875]\n",
      "num:  901 336 336 T1 AX  SE , pix:  225792 , spacing:  [0.68452382087707, 0.68452382087707]\n",
      "num:  1101 320 320 T1 AX SE FS POST , pix:  204800 , spacing:  [0.71875, 0.71875]\n",
      "TCGA-76-6663\n",
      "num:  701 512 512 T2W_TSE , pix:  524288 , spacing:  [0.4296875, 0.4296875]\n",
      "num:  501 320 320 T2 AX FLAIR , pix:  204800 , spacing:  [0.6875, 0.6875]\n",
      "num:  801 320 320 T1 AX  SE , pix:  204800 , spacing:  [0.6875, 0.6875]\n",
      "num:  1001 288 288 T1 AX SE , pix:  165888 , spacing:  [0.76388889551162, 0.76388889551162]\n",
      "TCGA-76-6661\n",
      "num:  901 512 512 T2W_TSE , pix:  524288 , spacing:  [0.4296875, 0.4296875]\n",
      "num:  701 320 320 T2 AX FLAIR , pix:  204800 , spacing:  [0.6875, 0.6875]\n",
      "num:  1501 256 256 T1 SAG SE , pix:  131072 , spacing:  [0.9375, 0.9375]\n",
      "num:  1101 320 320 T1 AX  SE , pix:  204800 , spacing:  [0.6875, 0.6875]\n",
      "TCGA-02-0033\n",
      "num:  3 256 256 AX T2 FSE , pix:  131072 , spacing:  [0.781250, 0.781250]\n",
      "num:  5 256 256 AX T1 , pix:  131072 , spacing:  [0.781250, 0.781250]\n",
      "num:  6 256 256 AX T1 POST , pix:  131072 , spacing:  [0.781250, 0.781250]\n",
      "contrast:  Yes   MAG\n",
      "TCGA-14-1825\n",
      "num:  3 512 512 t2_flair ax , pix:  524288 , spacing:  [0.44921875, 0.44921875]\n",
      "num:  8 512 424 T2_AX_FS post , pix:  434176 , spacing:  [0.44921875, 0.44921875]\n",
      "contrast:  with contrast\n",
      "TCGA-08-0522\n",
      "TCGA-76-4934\n",
      "num:  701 512 512 AXIAL  T2 , pix:  524288 , spacing:  [0.44921875, 0.44921875]\n",
      "num:  601 336 336 T2 AX FLAIR , pix:  225792 , spacing:  [0.68452382087707, 0.68452382087707]\n",
      "num:  1401 320 320 T1 AX SE FS POST , pix:  204800 , spacing:  [0.71875, 0.71875]\n",
      "num:  901 336 336 T1 AX  SE , pix:  225792 , spacing:  [0.68452382087707, 0.68452382087707]\n",
      "TCGA-06-0122\n",
      "num:  6 512 512 AX T2 FR-FSE RF2 150 , pix:  524288 , spacing:  [0.4688, 0.4688]\n",
      "num:  10 512 512 AX T1 POST GD FLAIR , pix:  524288 , spacing:  [0.4688, 0.4688]\n",
      "contrast:  25\n",
      "TCGA-08-0356\n",
      "TCGA-08-0512\n",
      "TCGA-08-0392\n",
      "TCGA-08-0360\n"
     ]
    }
   ],
   "source": [
    "# checking a package: Flair, T2, T1, T1c for each patient\n",
    "\n",
    "# checking the first T1 and it's size\n",
    "num_tag = pydicom.tag.Tag(int('0020', 16), int('0011', 16)) # series number tag\n",
    "contrast_tag = pydicom.tag.Tag(int('0018',16),int('0010', 16)) # contrast tag\n",
    "thick_tag = pydicom.tag.Tag(int('0018',16),int('0050', 16)) # thickness tag\n",
    "spacing_tag = pydicom.tag.Tag(int('0028',16),int('0030', 16)) # spacing tag\n",
    "pixel_tag = pydicom.tag.Tag(0x7fe0, 0x0010)# pixel data\n",
    "\n",
    "\n",
    "for sub in sub_ids[90:]:\n",
    "    print(sub)\n",
    "    series_nums = []\n",
    "    fn_paths = list(filter(lambda x: sub in x, t2_paths)) # grab paths for this sub\n",
    "    for fn_path in fn_paths:\n",
    "        ds = pydicom.dcmread(fn_path+'/'+os.listdir(fn_path)[0]) # grab first DICOM file in the folder\n",
    "        print('num: ', ds[num_tag].value, ds[\"Rows\"].value, ds[\"Columns\"].value,ds[\"SeriesDescription\"].value, ', pix: ',  len(ds[\"PixelData\"].value),', spacing: ', ds[spacing_tag].value, ) # grab series number from DICOM tag\n",
    "        try:\n",
    "            print('contrast: ', ds[contrast_tag].value)\n",
    "        except:\n",
    "            pass\n",
    "        \n",
    "    fn_paths = list(filter(lambda x: sub in x, t1_post_paths)) # grab paths for this sub\n",
    "    for fn_path in fn_paths:\n",
    "        ds = pydicom.dcmread(fn_path+'/'+os.listdir(fn_path)[0]) # grab first DICOM file in the folder\n",
    "        print('num: ', ds[num_tag].value, ds[\"Rows\"].value, ds[\"Columns\"].value,ds[\"SeriesDescription\"].value, ', pix: ',  len(ds[\"PixelData\"].value),', spacing: ', ds[spacing_tag].value, ) # grab series number from DICOM tag\n",
    "        \n",
    "        try:\n",
    "            print('contrast: ', ds[contrast_tag].value)\n",
    "            print('contrast: ', ds[(0x0018,0x0012)].value)\n",
    "        except:\n",
    "            pass"
   ]
  }
 ],
 "metadata": {
  "kernelspec": {
   "display_name": "Python 3",
   "language": "python",
   "name": "python3"
  },
  "language_info": {
   "codemirror_mode": {
    "name": "ipython",
    "version": 3
   },
   "file_extension": ".py",
   "mimetype": "text/x-python",
   "name": "python",
   "nbconvert_exporter": "python",
   "pygments_lexer": "ipython3",
   "version": "3.6.9"
  }
 },
 "nbformat": 4,
 "nbformat_minor": 4
}
