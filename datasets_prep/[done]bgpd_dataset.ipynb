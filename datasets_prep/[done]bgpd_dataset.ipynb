{
 "cells": [
  {
   "cell_type": "code",
   "execution_count": 1,
   "metadata": {},
   "outputs": [],
   "source": [
    "import os, sys\n",
    "import numpy as np\n",
    "import ants\n",
    "import argparse\n",
    "import shutil\n",
    "import logging\n",
    "import subprocess\n",
    "import tqdm\n",
    "import matplotlib.pyplot as plt \n",
    "import pandas as pd"
   ]
  },
  {
   "cell_type": "code",
   "execution_count": 3,
   "metadata": {},
   "outputs": [
    {
     "data": {
      "text/plain": [
       "180"
      ]
     },
     "execution_count": 3,
     "metadata": {},
     "output_type": "execute_result"
    }
   ],
   "source": [
    "len(os.listdir('/anvar/private_datasets/glioma_burdenko/dcm2nii_BURDENKO_BASELINE_PUBLISH'))"
   ]
  },
  {
   "cell_type": "code",
   "execution_count": 8,
   "metadata": {},
   "outputs": [],
   "source": [
    "# os.mkdir('/anvar/public_datasets/preproc_study/bgpd/orig/')"
   ]
  },
  {
   "cell_type": "code",
   "execution_count": 7,
   "metadata": {},
   "outputs": [
    {
     "data": {
      "text/plain": [
       "['T2.nii.gz',\n",
       " 'FLAIR.nii.gz',\n",
       " 'T1.nii.gz',\n",
       " 'MASK_DICOM',\n",
       " 'REF.json',\n",
       " 'T1',\n",
       " 'T2',\n",
       " 'CT1',\n",
       " 'T2.json',\n",
       " 'T1.json',\n",
       " 'mask_GTV_FLAIR.nii.gz',\n",
       " 'RTSTRUCT',\n",
       " 'REF',\n",
       " 'CT1.nii.gz',\n",
       " 'mask_GTV_FLAIR.json',\n",
       " 'REF.nii.gz',\n",
       " 'FLAIR']"
      ]
     },
     "execution_count": 7,
     "metadata": {},
     "output_type": "execute_result"
    }
   ],
   "source": [
    "os.listdir('/anvar/private_datasets/glioma_burdenko/dcm2nii_BURDENKO_BASELINE_PUBLISH/1360_18')"
   ]
  },
  {
   "cell_type": "code",
   "execution_count": 13,
   "metadata": {},
   "outputs": [
    {
     "data": {
      "text/plain": [
       "['FLAIR.nii.gz',\n",
       " 'FLAIR_real.json',\n",
       " 'CT1.json',\n",
       " 'T2_real.json',\n",
       " 'MASK_DICOM_CT',\n",
       " 'mask_GTV_CT.nii.gz',\n",
       " 'T1.nii.gz',\n",
       " 'REF.json',\n",
       " 'T1',\n",
       " 'T2',\n",
       " 'mask_GTV_CT.json',\n",
       " 'CT1',\n",
       " 'T1.json',\n",
       " 'T2_real.nii.gz',\n",
       " 'mask_GTV_FLAIR.nii.gz',\n",
       " 'RTSTRUCT',\n",
       " 'REF',\n",
       " 'CT1.nii.gz',\n",
       " 'CT',\n",
       " 'REF.nii.gz',\n",
       " 'FLAIR']"
      ]
     },
     "execution_count": 13,
     "metadata": {},
     "output_type": "execute_result"
    }
   ],
   "source": [
    "os.listdir('/anvar/private_datasets/glioma_burdenko/dcm2nii_BURDENKO_BASELINE_PUBLISH/Patient_54317/')"
   ]
  },
  {
   "cell_type": "code",
   "execution_count": 24,
   "metadata": {},
   "outputs": [
    {
     "data": {
      "text/plain": [
       "['FLAIR.nii.gz',\n",
       " 'CT1.json',\n",
       " 'MASK_DICOM_CT',\n",
       " 'mask_GTV_CT.nii.gz',\n",
       " 'FLAIR_e6.json',\n",
       " 'T1.nii.gz',\n",
       " 'REF.json',\n",
       " 'T1',\n",
       " 'T2',\n",
       " 'T1a.nii.gz',\n",
       " 'mask_GTV_CT.json',\n",
       " 'CT1',\n",
       " 'CT1a.nii.gz',\n",
       " 'T1.json',\n",
       " 'mask_GTV_FLAIR.nii.gz',\n",
       " 'RTSTRUCT',\n",
       " 'REF',\n",
       " 'CT1.nii.gz',\n",
       " 'CT',\n",
       " 'CT1a.json',\n",
       " 'T2_e7.nii.gz',\n",
       " 'REF.nii.gz',\n",
       " 'FLAIR_e6.nii.gz',\n",
       " 'FLAIR',\n",
       " 'T2_e7.json',\n",
       " 'T1a.json']"
      ]
     },
     "execution_count": 24,
     "metadata": {},
     "output_type": "execute_result"
    }
   ],
   "source": [
    "os.listdir('/anvar/private_datasets/glioma_burdenko/dcm2nii_BURDENKO_BASELINE_PUBLISH/Patient_56717/')"
   ]
  },
  {
   "cell_type": "code",
   "execution_count": null,
   "metadata": {},
   "outputs": [],
   "source": [
    "ants.read_image('/anvar/private_datasets/glioma_burdenko/dcm2nii_BURDENKO_BASELINE_PUBLISH/Patient_56717/')"
   ]
  },
  {
   "cell_type": "code",
   "execution_count": 17,
   "metadata": {},
   "outputs": [],
   "source": [
    "# shutil.rmtree('/anvar/public_datasets/preproc_study/bgpd/orig/Patient_54317')"
   ]
  },
  {
   "cell_type": "code",
   "execution_count": 33,
   "metadata": {},
   "outputs": [],
   "source": [
    "source_dir = '/anvar/private_datasets/glioma_burdenko/dcm2nii_BURDENKO_BASELINE_PUBLISH/'\n",
    "save_dir = '/anvar/public_datasets/preproc_study/bgpd/orig/'\n",
    "for patient in os.listdir(source_dir):\n",
    "    \n",
    "    try:\n",
    "#         os.mkdir(save_dir  + patient)\n",
    "        shutil.copyfile(source_dir   + patient + '/T1.nii.gz', save_dir  + patient + '/T1.nii.gz')\n",
    "        shutil.copyfile(source_dir   + patient + '/CT1.nii.gz', save_dir  + patient + '/CT1.nii.gz')\n",
    "        shutil.copyfile(source_dir   + patient + '/FLAIR.nii.gz', save_dir  + patient + '/FLAIR.nii.gz')\n",
    "        shutil.copyfile(source_dir   + patient + '/T2.nii.gz', save_dir  + patient + '/T2.nii.gz')\n",
    "        shutil.copyfile(source_dir   + patient + '/mask_GTV_FLAIR.nii.gz', save_dir  + patient + '/mask_GTV_FLAIR.nii.gz')\n",
    "        assert (len(os.listdir(save_dir  + patient)) == 5)\n",
    "    except Exception as e:\n",
    "        print(e)"
   ]
  },
  {
   "cell_type": "markdown",
   "metadata": {},
   "source": [
    "### Check sizes"
   ]
  },
  {
   "cell_type": "code",
   "execution_count": 26,
   "metadata": {},
   "outputs": [],
   "source": [
    "import ants\n",
    "import pandas as pd\n",
    "sizes_frame = pd.DataFrame(columns = ['id','fl_x', 'fl_y', 'fl_z', 't1c_x', 't1c_y', 't1c_z'])\n",
    "import numpy as np\n",
    "for i in os.listdir(source_dir):\n",
    "    try:\n",
    "        fl_size = np.shape(ants.image_read(save_dir + i + '/FLAIR.nii.gz').numpy())\n",
    "        t1c_size = np.shape(ants.image_read(save_dir + i + '/CT1.nii.gz').numpy())\n",
    "        sizes_frame = sizes_frame.append(\n",
    "        {'id': i,\n",
    "        'fl_x':fl_size[0],\n",
    "        'fl_y':fl_size[1],\n",
    "        'fl_z':fl_size[2],\n",
    "        't1c_x':t1c_size[0],\n",
    "        't1c_y':t1c_size[1],\n",
    "        't1c_z':t1c_size[2]}, ignore_index=True\n",
    "        )\n",
    "    except:\n",
    "        pass"
   ]
  },
  {
   "cell_type": "code",
   "execution_count": 27,
   "metadata": {},
   "outputs": [
    {
     "data": {
      "text/plain": [
       "<AxesSubplot:>"
      ]
     },
     "execution_count": 27,
     "metadata": {},
     "output_type": "execute_result"
    },
    {
     "data": {
      "image/png": "[encoded data removed]",
      "text/plain": [
       "<Figure size 432x288 with 1 Axes>"
      ]
     },
     "metadata": {
      "needs_background": "light"
     },
     "output_type": "display_data"
    }
   ],
   "source": [
    "sizes_frame['t1c_z'].hist()"
   ]
  },
  {
   "cell_type": "code",
   "execution_count": 29,
   "metadata": {},
   "outputs": [
    {
     "data": {
      "text/plain": [
       "90"
      ]
     },
     "execution_count": 29,
     "metadata": {},
     "output_type": "execute_result"
    }
   ],
   "source": [
    "len(sizes_frame[(sizes_frame['fl_z'] >= sizes_frame['t1c_z'])])"
   ]
  },
  {
   "cell_type": "code",
   "execution_count": 30,
   "metadata": {},
   "outputs": [
    {
     "data": {
      "text/plain": [
       "138"
      ]
     },
     "execution_count": 30,
     "metadata": {},
     "output_type": "execute_result"
    }
   ],
   "source": [
    "len(sizes_frame[(sizes_frame['fl_z'] <= sizes_frame['t1c_z'])])"
   ]
  },
  {
   "cell_type": "code",
   "execution_count": 31,
   "metadata": {},
   "outputs": [],
   "source": [
    "sizes_frame_t1 = pd.DataFrame(columns = ['id','t1_x', 't1_y', 't1_z', 't1c_x', 't1c_y', 't1c_z'])\n",
    "import numpy as np\n",
    "for i in os.listdir(source_dir):\n",
    "    try:\n",
    "        t1_size = np.shape(ants.image_read(save_dir + i + '/T1.nii.gz').numpy())\n",
    "        t1c_size = np.shape(ants.image_read(save_dir + i + '/CT1.nii.gz').numpy())\n",
    "        sizes_frame_t1 = sizes_frame_t1.append(\n",
    "        {'id': i,\n",
    "        't1_x':t1_size[0],\n",
    "        't1_y':t1_size[1],\n",
    "        't1_z':t1_size[2],\n",
    "        't1c_x':t1c_size[0],\n",
    "        't1c_y':t1c_size[1],\n",
    "        't1c_z':t1c_size[2]}, ignore_index=True\n",
    "        )\n",
    "    except:\n",
    "        pass"
   ]
  },
  {
   "cell_type": "code",
   "execution_count": 32,
   "metadata": {},
   "outputs": [
    {
     "ename": "SyntaxError",
     "evalue": "unexpected EOF while parsing (2176504054.py, line 1)",
     "output_type": "error",
     "traceback": [
      "\u001b[0;36m  File \u001b[0;32m\"/tmp/ipykernel_539596/2176504054.py\"\u001b[0;36m, line \u001b[0;32m1\u001b[0m\n\u001b[0;31m    len(sizes_frame[(sizes_frame['t1_z'] >= sizes_frame['t1c_z'])], len(sizes_frame[(sizes_frame['t1_z'] <= sizes_frame['t1c_z'])])\u001b[0m\n\u001b[0m                                                                                                                                   ^\u001b[0m\n\u001b[0;31mSyntaxError\u001b[0m\u001b[0;31m:\u001b[0m unexpected EOF while parsing\n"
     ]
    }
   ],
   "source": [
    "len(sizes_frame[(sizes_frame['t1_z'] >= sizes_frame['t1c_z'])], len(sizes_frame[(sizes_frame['t1_z'] <= sizes_frame['t1c_z'])])"
   ]
  },
  {
   "cell_type": "code",
   "execution_count": null,
   "metadata": {},
   "outputs": [],
   "source": []
  }
 ],
 "metadata": {
  "kernelspec": {
   "display_name": "Python 3 (ipykernel)",
   "language": "python",
   "name": "python3"
  },
  "language_info": {
   "codemirror_mode": {
    "name": "ipython",
    "version": 3
   },
   "file_extension": ".py",
   "mimetype": "text/x-python",
   "name": "python",
   "nbconvert_exporter": "python",
   "pygments_lexer": "ipython3",
   "version": "3.9.1"
  }
 },
 "nbformat": 4,
 "nbformat_minor": 4
}
