{
 "cells": [
  {
   "cell_type": "code",
   "execution_count": 2,
   "metadata": {},
   "outputs": [],
   "source": [
    "import os, sys\n",
    "import numpy as np\n",
    "import ants\n",
    "import argparse\n",
    "import shutil\n",
    "import logging\n",
    "import subprocess\n",
    "import tqdm\n",
    "import matplotlib.pyplot as plt \n",
    "import pandas as pd"
   ]
  },
  {
   "cell_type": "code",
   "execution_count": 3,
   "metadata": {},
   "outputs": [
    {
     "data": {
      "text/plain": [
       "['DirectoryNamesMappingModality.csv',\n",
       " 'metadata.csv',\n",
       " 'Vestibular-Schwannoma-SEG']"
      ]
     },
     "execution_count": 3,
     "metadata": {},
     "output_type": "execute_result"
    }
   ],
   "source": [
    "os.listdir('/anvar/public_datasets/tcia/manifest-1614264588831/')"
   ]
  },
  {
   "cell_type": "code",
   "execution_count": 5,
   "metadata": {},
   "outputs": [],
   "source": [
    "# os.mkdir('/anvar/public_datasets/preproc_study/schw/dicom/')"
   ]
  },
  {
   "cell_type": "code",
   "execution_count": 6,
   "metadata": {},
   "outputs": [],
   "source": [
    "schw_paths = pd.read_csv('/anvar/public_datasets/tcia/manifest-1614264588831/DirectoryNamesMappingModality.csv')"
   ]
  },
  {
   "cell_type": "code",
   "execution_count": 7,
   "metadata": {},
   "outputs": [
    {
     "data": {
      "text/plain": [
       "T1 image       242\n",
       "T2 image       242\n",
       "T1 RTSTRUCT    242\n",
       "T2 RTSTRUCT    242\n",
       "T1 RTPLAN      242\n",
       "T2 RTPLAN      242\n",
       "T1 RTDOSE      242\n",
       "T2 RTDOSE      242\n",
       "Name: Modality, dtype: int64"
      ]
     },
     "execution_count": 7,
     "metadata": {},
     "output_type": "execute_result"
    }
   ],
   "source": [
    "schw_paths['Modality'].value_counts()"
   ]
  },
  {
   "cell_type": "code",
   "execution_count": 11,
   "metadata": {},
   "outputs": [
    {
     "data": {
      "text/plain": [
       "'VS-SEG-001'"
      ]
     },
     "execution_count": 11,
     "metadata": {},
     "output_type": "execute_result"
    }
   ],
   "source": [
    "schw_paths['Descriptive Directory Name'].iloc[0].split('/')[0]"
   ]
  },
  {
   "cell_type": "code",
   "execution_count": 29,
   "metadata": {},
   "outputs": [],
   "source": [
    "basedir  = '/anvar/public_datasets/tcia/manifest-1614264588831/Vestibular-Schwannoma-SEG/'\n",
    "savedir  = '/anvar/public_datasets/preproc_study/schw/dicom/'"
   ]
  },
  {
   "cell_type": "code",
   "execution_count": 66,
   "metadata": {},
   "outputs": [
    {
     "name": "stdout",
     "output_type": "stream",
     "text": [
      "VS-SEG-001\n",
      "[Errno 17] File exists: '/anvar/public_datasets/preproc_study/schw/dicom/VS-SEG-001/T1/'\n",
      "[Errno 17] File exists: '/anvar/public_datasets/preproc_study/schw/dicom/VS-SEG-001/T2/'\n",
      "[Errno 17] File exists: '/anvar/public_datasets/preproc_study/schw/dicom/VS-SEG-001/RTSTRUCT/'\n",
      "VS-SEG-002\n",
      "[Errno 17] File exists: '/anvar/public_datasets/preproc_study/schw/dicom/VS-SEG-002/T1/'\n",
      "[Errno 17] File exists: '/anvar/public_datasets/preproc_study/schw/dicom/VS-SEG-002/T2/'\n",
      "[Errno 17] File exists: '/anvar/public_datasets/preproc_study/schw/dicom/VS-SEG-002/RTSTRUCT/'\n",
      "VS-SEG-003\n",
      "[Errno 17] File exists: '/anvar/public_datasets/preproc_study/schw/dicom/VS-SEG-003/T1/'\n",
      "[Errno 17] File exists: '/anvar/public_datasets/preproc_study/schw/dicom/VS-SEG-003/T2/'\n",
      "[Errno 17] File exists: '/anvar/public_datasets/preproc_study/schw/dicom/VS-SEG-003/RTSTRUCT/'\n",
      "VS-SEG-004\n",
      "[Errno 17] File exists: '/anvar/public_datasets/preproc_study/schw/dicom/VS-SEG-004/T1/'\n",
      "[Errno 17] File exists: '/anvar/public_datasets/preproc_study/schw/dicom/VS-SEG-004/T2/'\n",
      "[Errno 17] File exists: '/anvar/public_datasets/preproc_study/schw/dicom/VS-SEG-004/RTSTRUCT/'\n",
      "VS-SEG-005\n",
      "[Errno 17] File exists: '/anvar/public_datasets/preproc_study/schw/dicom/VS-SEG-005/T1/'\n",
      "[Errno 17] File exists: '/anvar/public_datasets/preproc_study/schw/dicom/VS-SEG-005/T2/'\n",
      "[Errno 17] File exists: '/anvar/public_datasets/preproc_study/schw/dicom/VS-SEG-005/RTSTRUCT/'\n",
      "VS-SEG-006\n",
      "[Errno 17] File exists: '/anvar/public_datasets/preproc_study/schw/dicom/VS-SEG-006/T1/'\n",
      "[Errno 17] File exists: '/anvar/public_datasets/preproc_study/schw/dicom/VS-SEG-006/T2/'\n",
      "[Errno 17] File exists: '/anvar/public_datasets/preproc_study/schw/dicom/VS-SEG-006/RTSTRUCT/'\n",
      "VS-SEG-007\n",
      "[Errno 17] File exists: '/anvar/public_datasets/preproc_study/schw/dicom/VS-SEG-007/T1/'\n",
      "[Errno 17] File exists: '/anvar/public_datasets/preproc_study/schw/dicom/VS-SEG-007/T2/'\n",
      "[Errno 17] File exists: '/anvar/public_datasets/preproc_study/schw/dicom/VS-SEG-007/RTSTRUCT/'\n",
      "VS-SEG-008\n",
      "[Errno 17] File exists: '/anvar/public_datasets/preproc_study/schw/dicom/VS-SEG-008/T1/'\n",
      "[Errno 17] File exists: '/anvar/public_datasets/preproc_study/schw/dicom/VS-SEG-008/T2/'\n",
      "[Errno 17] File exists: '/anvar/public_datasets/preproc_study/schw/dicom/VS-SEG-008/RTSTRUCT/'\n",
      "VS-SEG-009\n",
      "[Errno 17] File exists: '/anvar/public_datasets/preproc_study/schw/dicom/VS-SEG-009/T1/'\n",
      "[Errno 17] File exists: '/anvar/public_datasets/preproc_study/schw/dicom/VS-SEG-009/T2/'\n",
      "[Errno 17] File exists: '/anvar/public_datasets/preproc_study/schw/dicom/VS-SEG-009/RTSTRUCT/'\n",
      "VS-SEG-010\n",
      "[Errno 17] File exists: '/anvar/public_datasets/preproc_study/schw/dicom/VS-SEG-010/T1/'\n",
      "[Errno 17] File exists: '/anvar/public_datasets/preproc_study/schw/dicom/VS-SEG-010/T2/'\n",
      "[Errno 17] File exists: '/anvar/public_datasets/preproc_study/schw/dicom/VS-SEG-010/RTSTRUCT/'\n",
      "VS-SEG-011\n",
      "[Errno 17] File exists: '/anvar/public_datasets/preproc_study/schw/dicom/VS-SEG-011/T1/'\n",
      "[Errno 17] File exists: '/anvar/public_datasets/preproc_study/schw/dicom/VS-SEG-011/T2/'\n",
      "[Errno 17] File exists: '/anvar/public_datasets/preproc_study/schw/dicom/VS-SEG-011/RTSTRUCT/'\n",
      "VS-SEG-012\n",
      "[Errno 17] File exists: '/anvar/public_datasets/preproc_study/schw/dicom/VS-SEG-012/T1/'\n",
      "[Errno 17] File exists: '/anvar/public_datasets/preproc_study/schw/dicom/VS-SEG-012/T2/'\n",
      "[Errno 17] File exists: '/anvar/public_datasets/preproc_study/schw/dicom/VS-SEG-012/RTSTRUCT/'\n",
      "VS-SEG-013\n",
      "[Errno 17] File exists: '/anvar/public_datasets/preproc_study/schw/dicom/VS-SEG-013/T1/'\n",
      "[Errno 17] File exists: '/anvar/public_datasets/preproc_study/schw/dicom/VS-SEG-013/T2/'\n",
      "[Errno 17] File exists: '/anvar/public_datasets/preproc_study/schw/dicom/VS-SEG-013/RTSTRUCT/'\n",
      "VS-SEG-014\n",
      "[Errno 17] File exists: '/anvar/public_datasets/preproc_study/schw/dicom/VS-SEG-014/T1/'\n",
      "[Errno 17] File exists: '/anvar/public_datasets/preproc_study/schw/dicom/VS-SEG-014/T2/'\n",
      "[Errno 17] File exists: '/anvar/public_datasets/preproc_study/schw/dicom/VS-SEG-014/RTSTRUCT/'\n",
      "VS-SEG-015\n",
      "[Errno 17] File exists: '/anvar/public_datasets/preproc_study/schw/dicom/VS-SEG-015/T1/'\n",
      "[Errno 17] File exists: '/anvar/public_datasets/preproc_study/schw/dicom/VS-SEG-015/T2/'\n",
      "[Errno 17] File exists: '/anvar/public_datasets/preproc_study/schw/dicom/VS-SEG-015/RTSTRUCT/'\n",
      "VS-SEG-016\n",
      "[Errno 17] File exists: '/anvar/public_datasets/preproc_study/schw/dicom/VS-SEG-016/T1/'\n",
      "[Errno 17] File exists: '/anvar/public_datasets/preproc_study/schw/dicom/VS-SEG-016/T2/'\n",
      "[Errno 17] File exists: '/anvar/public_datasets/preproc_study/schw/dicom/VS-SEG-016/RTSTRUCT/'\n",
      "VS-SEG-017\n",
      "[Errno 17] File exists: '/anvar/public_datasets/preproc_study/schw/dicom/VS-SEG-017/T1/'\n",
      "[Errno 17] File exists: '/anvar/public_datasets/preproc_study/schw/dicom/VS-SEG-017/T2/'\n",
      "[Errno 17] File exists: '/anvar/public_datasets/preproc_study/schw/dicom/VS-SEG-017/RTSTRUCT/'\n",
      "VS-SEG-018\n",
      "[Errno 17] File exists: '/anvar/public_datasets/preproc_study/schw/dicom/VS-SEG-018/T1/'\n",
      "[Errno 17] File exists: '/anvar/public_datasets/preproc_study/schw/dicom/VS-SEG-018/T2/'\n",
      "[Errno 17] File exists: '/anvar/public_datasets/preproc_study/schw/dicom/VS-SEG-018/RTSTRUCT/'\n",
      "VS-SEG-019\n",
      "[Errno 17] File exists: '/anvar/public_datasets/preproc_study/schw/dicom/VS-SEG-019/T1/'\n",
      "[Errno 17] File exists: '/anvar/public_datasets/preproc_study/schw/dicom/VS-SEG-019/T2/'\n",
      "[Errno 17] File exists: '/anvar/public_datasets/preproc_study/schw/dicom/VS-SEG-019/RTSTRUCT/'\n",
      "VS-SEG-020\n",
      "[Errno 17] File exists: '/anvar/public_datasets/preproc_study/schw/dicom/VS-SEG-020/T1/'\n",
      "[Errno 17] File exists: '/anvar/public_datasets/preproc_study/schw/dicom/VS-SEG-020/T2/'\n",
      "[Errno 17] File exists: '/anvar/public_datasets/preproc_study/schw/dicom/VS-SEG-020/RTSTRUCT/'\n",
      "VS-SEG-021\n",
      "[Errno 17] File exists: '/anvar/public_datasets/preproc_study/schw/dicom/VS-SEG-021/T1/'\n",
      "[Errno 17] File exists: '/anvar/public_datasets/preproc_study/schw/dicom/VS-SEG-021/T2/'\n",
      "[Errno 17] File exists: '/anvar/public_datasets/preproc_study/schw/dicom/VS-SEG-021/RTSTRUCT/'\n",
      "VS-SEG-022\n",
      "[Errno 17] File exists: '/anvar/public_datasets/preproc_study/schw/dicom/VS-SEG-022/T1/'\n",
      "[Errno 17] File exists: '/anvar/public_datasets/preproc_study/schw/dicom/VS-SEG-022/T2/'\n",
      "[Errno 17] File exists: '/anvar/public_datasets/preproc_study/schw/dicom/VS-SEG-022/RTSTRUCT/'\n",
      "VS-SEG-023\n",
      "[Errno 17] File exists: '/anvar/public_datasets/preproc_study/schw/dicom/VS-SEG-023/T1/'\n",
      "[Errno 17] File exists: '/anvar/public_datasets/preproc_study/schw/dicom/VS-SEG-023/T2/'\n",
      "[Errno 17] File exists: '/anvar/public_datasets/preproc_study/schw/dicom/VS-SEG-023/RTSTRUCT/'\n",
      "VS-SEG-024\n",
      "[Errno 17] File exists: '/anvar/public_datasets/preproc_study/schw/dicom/VS-SEG-024/T1/'\n",
      "[Errno 17] File exists: '/anvar/public_datasets/preproc_study/schw/dicom/VS-SEG-024/T2/'\n",
      "[Errno 17] File exists: '/anvar/public_datasets/preproc_study/schw/dicom/VS-SEG-024/RTSTRUCT/'\n",
      "VS-SEG-025\n",
      "[Errno 17] File exists: '/anvar/public_datasets/preproc_study/schw/dicom/VS-SEG-025/T1/'\n",
      "[Errno 17] File exists: '/anvar/public_datasets/preproc_study/schw/dicom/VS-SEG-025/T2/'\n",
      "[Errno 17] File exists: '/anvar/public_datasets/preproc_study/schw/dicom/VS-SEG-025/RTSTRUCT/'\n",
      "VS-SEG-026\n",
      "[Errno 17] File exists: '/anvar/public_datasets/preproc_study/schw/dicom/VS-SEG-026/T1/'\n",
      "[Errno 17] File exists: '/anvar/public_datasets/preproc_study/schw/dicom/VS-SEG-026/T2/'\n",
      "[Errno 17] File exists: '/anvar/public_datasets/preproc_study/schw/dicom/VS-SEG-026/RTSTRUCT/'\n",
      "VS-SEG-027\n",
      "[Errno 17] File exists: '/anvar/public_datasets/preproc_study/schw/dicom/VS-SEG-027/T1/'\n",
      "[Errno 17] File exists: '/anvar/public_datasets/preproc_study/schw/dicom/VS-SEG-027/T2/'\n",
      "[Errno 17] File exists: '/anvar/public_datasets/preproc_study/schw/dicom/VS-SEG-027/RTSTRUCT/'\n",
      "VS-SEG-028\n",
      "[Errno 17] File exists: '/anvar/public_datasets/preproc_study/schw/dicom/VS-SEG-028/T1/'\n",
      "[Errno 17] File exists: '/anvar/public_datasets/preproc_study/schw/dicom/VS-SEG-028/T2/'\n",
      "[Errno 17] File exists: '/anvar/public_datasets/preproc_study/schw/dicom/VS-SEG-028/RTSTRUCT/'\n",
      "VS-SEG-029\n",
      "[Errno 17] File exists: '/anvar/public_datasets/preproc_study/schw/dicom/VS-SEG-029/T1/'\n",
      "[Errno 17] File exists: '/anvar/public_datasets/preproc_study/schw/dicom/VS-SEG-029/T2/'\n",
      "[Errno 17] File exists: '/anvar/public_datasets/preproc_study/schw/dicom/VS-SEG-029/RTSTRUCT/'\n",
      "VS-SEG-030\n",
      "[Errno 17] File exists: '/anvar/public_datasets/preproc_study/schw/dicom/VS-SEG-030/T1/'\n",
      "[Errno 17] File exists: '/anvar/public_datasets/preproc_study/schw/dicom/VS-SEG-030/T2/'\n",
      "[Errno 17] File exists: '/anvar/public_datasets/preproc_study/schw/dicom/VS-SEG-030/RTSTRUCT/'\n",
      "VS-SEG-031\n",
      "[Errno 17] File exists: '/anvar/public_datasets/preproc_study/schw/dicom/VS-SEG-031/T1/'\n",
      "[Errno 17] File exists: '/anvar/public_datasets/preproc_study/schw/dicom/VS-SEG-031/T2/'\n",
      "[Errno 17] File exists: '/anvar/public_datasets/preproc_study/schw/dicom/VS-SEG-031/RTSTRUCT/'\n",
      "VS-SEG-032\n",
      "[Errno 17] File exists: '/anvar/public_datasets/preproc_study/schw/dicom/VS-SEG-032/T1/'\n"
     ]
    },
    {
     "name": "stdout",
     "output_type": "stream",
     "text": [
      "[Errno 17] File exists: '/anvar/public_datasets/preproc_study/schw/dicom/VS-SEG-032/T2/'\n",
      "[Errno 17] File exists: '/anvar/public_datasets/preproc_study/schw/dicom/VS-SEG-032/RTSTRUCT/'\n",
      "VS-SEG-033\n",
      "[Errno 17] File exists: '/anvar/public_datasets/preproc_study/schw/dicom/VS-SEG-033/T1/'\n",
      "[Errno 17] File exists: '/anvar/public_datasets/preproc_study/schw/dicom/VS-SEG-033/T2/'\n",
      "[Errno 17] File exists: '/anvar/public_datasets/preproc_study/schw/dicom/VS-SEG-033/RTSTRUCT/'\n",
      "VS-SEG-034\n",
      "[Errno 17] File exists: '/anvar/public_datasets/preproc_study/schw/dicom/VS-SEG-034/T1/'\n",
      "[Errno 17] File exists: '/anvar/public_datasets/preproc_study/schw/dicom/VS-SEG-034/T2/'\n",
      "[Errno 17] File exists: '/anvar/public_datasets/preproc_study/schw/dicom/VS-SEG-034/RTSTRUCT/'\n",
      "VS-SEG-035\n",
      "[Errno 17] File exists: '/anvar/public_datasets/preproc_study/schw/dicom/VS-SEG-035/T1/'\n",
      "[Errno 17] File exists: '/anvar/public_datasets/preproc_study/schw/dicom/VS-SEG-035/T2/'\n",
      "[Errno 17] File exists: '/anvar/public_datasets/preproc_study/schw/dicom/VS-SEG-035/RTSTRUCT/'\n",
      "VS-SEG-036\n",
      "[Errno 17] File exists: '/anvar/public_datasets/preproc_study/schw/dicom/VS-SEG-036/T1/'\n",
      "[Errno 17] File exists: '/anvar/public_datasets/preproc_study/schw/dicom/VS-SEG-036/T2/'\n",
      "[Errno 17] File exists: '/anvar/public_datasets/preproc_study/schw/dicom/VS-SEG-036/RTSTRUCT/'\n",
      "VS-SEG-037\n",
      "[Errno 17] File exists: '/anvar/public_datasets/preproc_study/schw/dicom/VS-SEG-037/T1/'\n",
      "[Errno 17] File exists: '/anvar/public_datasets/preproc_study/schw/dicom/VS-SEG-037/T2/'\n",
      "[Errno 17] File exists: '/anvar/public_datasets/preproc_study/schw/dicom/VS-SEG-037/RTSTRUCT/'\n",
      "VS-SEG-038\n",
      "[Errno 17] File exists: '/anvar/public_datasets/preproc_study/schw/dicom/VS-SEG-038/T1/'\n",
      "[Errno 17] File exists: '/anvar/public_datasets/preproc_study/schw/dicom/VS-SEG-038/T2/'\n",
      "[Errno 17] File exists: '/anvar/public_datasets/preproc_study/schw/dicom/VS-SEG-038/RTSTRUCT/'\n",
      "VS-SEG-040\n",
      "[Errno 17] File exists: '/anvar/public_datasets/preproc_study/schw/dicom/VS-SEG-040/T1/'\n",
      "[Errno 17] File exists: '/anvar/public_datasets/preproc_study/schw/dicom/VS-SEG-040/T2/'\n",
      "[Errno 17] File exists: '/anvar/public_datasets/preproc_study/schw/dicom/VS-SEG-040/RTSTRUCT/'\n",
      "VS-SEG-041\n",
      "[Errno 17] File exists: '/anvar/public_datasets/preproc_study/schw/dicom/VS-SEG-041/T1/'\n",
      "[Errno 17] File exists: '/anvar/public_datasets/preproc_study/schw/dicom/VS-SEG-041/T2/'\n",
      "[Errno 17] File exists: '/anvar/public_datasets/preproc_study/schw/dicom/VS-SEG-041/RTSTRUCT/'\n",
      "VS-SEG-042\n",
      "[Errno 17] File exists: '/anvar/public_datasets/preproc_study/schw/dicom/VS-SEG-042/T1/'\n",
      "[Errno 17] File exists: '/anvar/public_datasets/preproc_study/schw/dicom/VS-SEG-042/T2/'\n",
      "[Errno 17] File exists: '/anvar/public_datasets/preproc_study/schw/dicom/VS-SEG-042/RTSTRUCT/'\n",
      "VS-SEG-043\n",
      "[Errno 17] File exists: '/anvar/public_datasets/preproc_study/schw/dicom/VS-SEG-043/T1/'\n",
      "[Errno 17] File exists: '/anvar/public_datasets/preproc_study/schw/dicom/VS-SEG-043/T2/'\n",
      "[Errno 17] File exists: '/anvar/public_datasets/preproc_study/schw/dicom/VS-SEG-043/RTSTRUCT/'\n",
      "VS-SEG-044\n",
      "[Errno 17] File exists: '/anvar/public_datasets/preproc_study/schw/dicom/VS-SEG-044/T1/'\n",
      "[Errno 17] File exists: '/anvar/public_datasets/preproc_study/schw/dicom/VS-SEG-044/T2/'\n",
      "[Errno 17] File exists: '/anvar/public_datasets/preproc_study/schw/dicom/VS-SEG-044/RTSTRUCT/'\n",
      "VS-SEG-045\n",
      "[Errno 17] File exists: '/anvar/public_datasets/preproc_study/schw/dicom/VS-SEG-045/T1/'\n",
      "[Errno 17] File exists: '/anvar/public_datasets/preproc_study/schw/dicom/VS-SEG-045/T2/'\n",
      "[Errno 17] File exists: '/anvar/public_datasets/preproc_study/schw/dicom/VS-SEG-045/RTSTRUCT/'\n",
      "VS-SEG-046\n",
      "[Errno 17] File exists: '/anvar/public_datasets/preproc_study/schw/dicom/VS-SEG-046/T1/'\n",
      "[Errno 17] File exists: '/anvar/public_datasets/preproc_study/schw/dicom/VS-SEG-046/T2/'\n",
      "[Errno 17] File exists: '/anvar/public_datasets/preproc_study/schw/dicom/VS-SEG-046/RTSTRUCT/'\n",
      "VS-SEG-047\n",
      "[Errno 17] File exists: '/anvar/public_datasets/preproc_study/schw/dicom/VS-SEG-047/T1/'\n",
      "[Errno 17] File exists: '/anvar/public_datasets/preproc_study/schw/dicom/VS-SEG-047/T2/'\n",
      "[Errno 17] File exists: '/anvar/public_datasets/preproc_study/schw/dicom/VS-SEG-047/RTSTRUCT/'\n",
      "VS-SEG-048\n",
      "[Errno 17] File exists: '/anvar/public_datasets/preproc_study/schw/dicom/VS-SEG-048/T1/'\n",
      "[Errno 17] File exists: '/anvar/public_datasets/preproc_study/schw/dicom/VS-SEG-048/T2/'\n",
      "[Errno 17] File exists: '/anvar/public_datasets/preproc_study/schw/dicom/VS-SEG-048/RTSTRUCT/'\n",
      "VS-SEG-049\n",
      "[Errno 17] File exists: '/anvar/public_datasets/preproc_study/schw/dicom/VS-SEG-049/T1/'\n",
      "[Errno 17] File exists: '/anvar/public_datasets/preproc_study/schw/dicom/VS-SEG-049/T2/'\n",
      "[Errno 17] File exists: '/anvar/public_datasets/preproc_study/schw/dicom/VS-SEG-049/RTSTRUCT/'\n",
      "VS-SEG-050\n",
      "[Errno 17] File exists: '/anvar/public_datasets/preproc_study/schw/dicom/VS-SEG-050/T1/'\n",
      "[Errno 17] File exists: '/anvar/public_datasets/preproc_study/schw/dicom/VS-SEG-050/T2/'\n",
      "[Errno 17] File exists: '/anvar/public_datasets/preproc_study/schw/dicom/VS-SEG-050/RTSTRUCT/'\n",
      "VS-SEG-051\n",
      "[Errno 17] File exists: '/anvar/public_datasets/preproc_study/schw/dicom/VS-SEG-051/T1/'\n",
      "[Errno 17] File exists: '/anvar/public_datasets/preproc_study/schw/dicom/VS-SEG-051/T2/'\n",
      "[Errno 17] File exists: '/anvar/public_datasets/preproc_study/schw/dicom/VS-SEG-051/RTSTRUCT/'\n",
      "VS-SEG-052\n",
      "[Errno 17] File exists: '/anvar/public_datasets/preproc_study/schw/dicom/VS-SEG-052/T1/'\n",
      "[Errno 17] File exists: '/anvar/public_datasets/preproc_study/schw/dicom/VS-SEG-052/T2/'\n",
      "[Errno 17] File exists: '/anvar/public_datasets/preproc_study/schw/dicom/VS-SEG-052/RTSTRUCT/'\n",
      "VS-SEG-053\n",
      "[Errno 17] File exists: '/anvar/public_datasets/preproc_study/schw/dicom/VS-SEG-053/T1/'\n",
      "[Errno 17] File exists: '/anvar/public_datasets/preproc_study/schw/dicom/VS-SEG-053/T2/'\n",
      "[Errno 17] File exists: '/anvar/public_datasets/preproc_study/schw/dicom/VS-SEG-053/RTSTRUCT/'\n",
      "VS-SEG-054\n",
      "[Errno 17] File exists: '/anvar/public_datasets/preproc_study/schw/dicom/VS-SEG-054/T1/'\n",
      "[Errno 17] File exists: '/anvar/public_datasets/preproc_study/schw/dicom/VS-SEG-054/T2/'\n",
      "[Errno 17] File exists: '/anvar/public_datasets/preproc_study/schw/dicom/VS-SEG-054/RTSTRUCT/'\n",
      "VS-SEG-055\n",
      "[Errno 17] File exists: '/anvar/public_datasets/preproc_study/schw/dicom/VS-SEG-055/T1/'\n",
      "[Errno 17] File exists: '/anvar/public_datasets/preproc_study/schw/dicom/VS-SEG-055/T2/'\n",
      "[Errno 17] File exists: '/anvar/public_datasets/preproc_study/schw/dicom/VS-SEG-055/RTSTRUCT/'\n",
      "VS-SEG-056\n",
      "[Errno 17] File exists: '/anvar/public_datasets/preproc_study/schw/dicom/VS-SEG-056/T1/'\n",
      "[Errno 17] File exists: '/anvar/public_datasets/preproc_study/schw/dicom/VS-SEG-056/T2/'\n",
      "[Errno 17] File exists: '/anvar/public_datasets/preproc_study/schw/dicom/VS-SEG-056/RTSTRUCT/'\n",
      "VS-SEG-057\n",
      "[Errno 17] File exists: '/anvar/public_datasets/preproc_study/schw/dicom/VS-SEG-057/T1/'\n",
      "[Errno 17] File exists: '/anvar/public_datasets/preproc_study/schw/dicom/VS-SEG-057/T2/'\n",
      "[Errno 17] File exists: '/anvar/public_datasets/preproc_study/schw/dicom/VS-SEG-057/RTSTRUCT/'\n",
      "VS-SEG-058\n",
      "[Errno 17] File exists: '/anvar/public_datasets/preproc_study/schw/dicom/VS-SEG-058/T1/'\n",
      "[Errno 17] File exists: '/anvar/public_datasets/preproc_study/schw/dicom/VS-SEG-058/T2/'\n",
      "[Errno 17] File exists: '/anvar/public_datasets/preproc_study/schw/dicom/VS-SEG-058/RTSTRUCT/'\n",
      "VS-SEG-059\n",
      "[Errno 17] File exists: '/anvar/public_datasets/preproc_study/schw/dicom/VS-SEG-059/T1/'\n",
      "[Errno 17] File exists: '/anvar/public_datasets/preproc_study/schw/dicom/VS-SEG-059/T2/'\n",
      "[Errno 17] File exists: '/anvar/public_datasets/preproc_study/schw/dicom/VS-SEG-059/RTSTRUCT/'\n",
      "VS-SEG-060\n",
      "[Errno 17] File exists: '/anvar/public_datasets/preproc_study/schw/dicom/VS-SEG-060/T1/'\n",
      "[Errno 17] File exists: '/anvar/public_datasets/preproc_study/schw/dicom/VS-SEG-060/T2/'\n",
      "[Errno 17] File exists: '/anvar/public_datasets/preproc_study/schw/dicom/VS-SEG-060/RTSTRUCT/'\n",
      "VS-SEG-061\n",
      "[Errno 17] File exists: '/anvar/public_datasets/preproc_study/schw/dicom/VS-SEG-061/T1/'\n",
      "[Errno 17] File exists: '/anvar/public_datasets/preproc_study/schw/dicom/VS-SEG-061/T2/'\n",
      "[Errno 17] File exists: '/anvar/public_datasets/preproc_study/schw/dicom/VS-SEG-061/RTSTRUCT/'\n",
      "VS-SEG-062\n",
      "[Errno 17] File exists: '/anvar/public_datasets/preproc_study/schw/dicom/VS-SEG-062/T1/'\n",
      "[Errno 17] File exists: '/anvar/public_datasets/preproc_study/schw/dicom/VS-SEG-062/T2/'\n",
      "[Errno 17] File exists: '/anvar/public_datasets/preproc_study/schw/dicom/VS-SEG-062/RTSTRUCT/'\n",
      "VS-SEG-063\n",
      "[Errno 17] File exists: '/anvar/public_datasets/preproc_study/schw/dicom/VS-SEG-063/T1/'\n",
      "[Errno 17] File exists: '/anvar/public_datasets/preproc_study/schw/dicom/VS-SEG-063/T2/'\n",
      "[Errno 17] File exists: '/anvar/public_datasets/preproc_study/schw/dicom/VS-SEG-063/RTSTRUCT/'\n",
      "VS-SEG-064\n",
      "[Errno 17] File exists: '/anvar/public_datasets/preproc_study/schw/dicom/VS-SEG-064/T1/'\n",
      "[Errno 17] File exists: '/anvar/public_datasets/preproc_study/schw/dicom/VS-SEG-064/T2/'\n",
      "[Errno 17] File exists: '/anvar/public_datasets/preproc_study/schw/dicom/VS-SEG-064/RTSTRUCT/'\n",
      "VS-SEG-065\n",
      "[Errno 17] File exists: '/anvar/public_datasets/preproc_study/schw/dicom/VS-SEG-065/T1/'\n",
      "[Errno 17] File exists: '/anvar/public_datasets/preproc_study/schw/dicom/VS-SEG-065/T2/'\n"
     ]
    },
    {
     "name": "stdout",
     "output_type": "stream",
     "text": [
      "[Errno 17] File exists: '/anvar/public_datasets/preproc_study/schw/dicom/VS-SEG-065/RTSTRUCT/'\n",
      "VS-SEG-066\n",
      "[Errno 17] File exists: '/anvar/public_datasets/preproc_study/schw/dicom/VS-SEG-066/T1/'\n",
      "[Errno 17] File exists: '/anvar/public_datasets/preproc_study/schw/dicom/VS-SEG-066/T2/'\n",
      "[Errno 17] File exists: '/anvar/public_datasets/preproc_study/schw/dicom/VS-SEG-066/RTSTRUCT/'\n",
      "VS-SEG-067\n",
      "[Errno 17] File exists: '/anvar/public_datasets/preproc_study/schw/dicom/VS-SEG-067/T1/'\n",
      "[Errno 17] File exists: '/anvar/public_datasets/preproc_study/schw/dicom/VS-SEG-067/T2/'\n",
      "[Errno 17] File exists: '/anvar/public_datasets/preproc_study/schw/dicom/VS-SEG-067/RTSTRUCT/'\n",
      "VS-SEG-068\n",
      "[Errno 17] File exists: '/anvar/public_datasets/preproc_study/schw/dicom/VS-SEG-068/T1/'\n",
      "[Errno 17] File exists: '/anvar/public_datasets/preproc_study/schw/dicom/VS-SEG-068/T2/'\n",
      "[Errno 17] File exists: '/anvar/public_datasets/preproc_study/schw/dicom/VS-SEG-068/RTSTRUCT/'\n",
      "VS-SEG-069\n",
      "[Errno 17] File exists: '/anvar/public_datasets/preproc_study/schw/dicom/VS-SEG-069/T1/'\n",
      "[Errno 17] File exists: '/anvar/public_datasets/preproc_study/schw/dicom/VS-SEG-069/T2/'\n",
      "[Errno 17] File exists: '/anvar/public_datasets/preproc_study/schw/dicom/VS-SEG-069/RTSTRUCT/'\n",
      "VS-SEG-070\n",
      "[Errno 17] File exists: '/anvar/public_datasets/preproc_study/schw/dicom/VS-SEG-070/T1/'\n",
      "[Errno 17] File exists: '/anvar/public_datasets/preproc_study/schw/dicom/VS-SEG-070/T2/'\n",
      "[Errno 17] File exists: '/anvar/public_datasets/preproc_study/schw/dicom/VS-SEG-070/RTSTRUCT/'\n",
      "VS-SEG-071\n",
      "[Errno 17] File exists: '/anvar/public_datasets/preproc_study/schw/dicom/VS-SEG-071/T1/'\n",
      "[Errno 17] File exists: '/anvar/public_datasets/preproc_study/schw/dicom/VS-SEG-071/T2/'\n",
      "[Errno 17] File exists: '/anvar/public_datasets/preproc_study/schw/dicom/VS-SEG-071/RTSTRUCT/'\n",
      "VS-SEG-072\n",
      "[Errno 17] File exists: '/anvar/public_datasets/preproc_study/schw/dicom/VS-SEG-072/T1/'\n",
      "[Errno 17] File exists: '/anvar/public_datasets/preproc_study/schw/dicom/VS-SEG-072/T2/'\n",
      "[Errno 17] File exists: '/anvar/public_datasets/preproc_study/schw/dicom/VS-SEG-072/RTSTRUCT/'\n",
      "VS-SEG-073\n",
      "[Errno 17] File exists: '/anvar/public_datasets/preproc_study/schw/dicom/VS-SEG-073/T1/'\n",
      "[Errno 17] File exists: '/anvar/public_datasets/preproc_study/schw/dicom/VS-SEG-073/T2/'\n",
      "[Errno 17] File exists: '/anvar/public_datasets/preproc_study/schw/dicom/VS-SEG-073/RTSTRUCT/'\n",
      "VS-SEG-074\n",
      "[Errno 17] File exists: '/anvar/public_datasets/preproc_study/schw/dicom/VS-SEG-074/T1/'\n",
      "[Errno 17] File exists: '/anvar/public_datasets/preproc_study/schw/dicom/VS-SEG-074/T2/'\n",
      "[Errno 17] File exists: '/anvar/public_datasets/preproc_study/schw/dicom/VS-SEG-074/RTSTRUCT/'\n",
      "VS-SEG-075\n",
      "[Errno 17] File exists: '/anvar/public_datasets/preproc_study/schw/dicom/VS-SEG-075/T1/'\n",
      "[Errno 17] File exists: '/anvar/public_datasets/preproc_study/schw/dicom/VS-SEG-075/T2/'\n",
      "[Errno 17] File exists: '/anvar/public_datasets/preproc_study/schw/dicom/VS-SEG-075/RTSTRUCT/'\n",
      "VS-SEG-076\n",
      "[Errno 17] File exists: '/anvar/public_datasets/preproc_study/schw/dicom/VS-SEG-076/T1/'\n",
      "[Errno 17] File exists: '/anvar/public_datasets/preproc_study/schw/dicom/VS-SEG-076/T2/'\n",
      "[Errno 17] File exists: '/anvar/public_datasets/preproc_study/schw/dicom/VS-SEG-076/RTSTRUCT/'\n",
      "VS-SEG-077\n",
      "[Errno 17] File exists: '/anvar/public_datasets/preproc_study/schw/dicom/VS-SEG-077/T1/'\n",
      "[Errno 17] File exists: '/anvar/public_datasets/preproc_study/schw/dicom/VS-SEG-077/T2/'\n",
      "[Errno 17] File exists: '/anvar/public_datasets/preproc_study/schw/dicom/VS-SEG-077/RTSTRUCT/'\n",
      "VS-SEG-078\n",
      "[Errno 17] File exists: '/anvar/public_datasets/preproc_study/schw/dicom/VS-SEG-078/T1/'\n",
      "[Errno 17] File exists: '/anvar/public_datasets/preproc_study/schw/dicom/VS-SEG-078/T2/'\n",
      "VS-SEG-079\n",
      "VS-SEG-080\n",
      "VS-SEG-081\n",
      "VS-SEG-082\n",
      "VS-SEG-083\n",
      "VS-SEG-084\n",
      "VS-SEG-085\n",
      "VS-SEG-086\n",
      "VS-SEG-087\n",
      "VS-SEG-088\n",
      "VS-SEG-089\n",
      "VS-SEG-090\n",
      "VS-SEG-091\n",
      "VS-SEG-092\n",
      "VS-SEG-093\n",
      "VS-SEG-094\n",
      "VS-SEG-095\n",
      "VS-SEG-096\n",
      "VS-SEG-098\n",
      "VS-SEG-099\n",
      "VS-SEG-100\n",
      "VS-SEG-101\n",
      "VS-SEG-102\n",
      "VS-SEG-103\n",
      "VS-SEG-104\n",
      "VS-SEG-105\n",
      "VS-SEG-106\n",
      "VS-SEG-107\n",
      "VS-SEG-108\n",
      "VS-SEG-109\n",
      "VS-SEG-110\n",
      "VS-SEG-111\n",
      "VS-SEG-112\n",
      "VS-SEG-113\n",
      "VS-SEG-114\n",
      "VS-SEG-115\n",
      "VS-SEG-116\n",
      "VS-SEG-117\n",
      "VS-SEG-118\n",
      "VS-SEG-119\n",
      "VS-SEG-120\n",
      "VS-SEG-121\n",
      "VS-SEG-122\n",
      "VS-SEG-123\n",
      "VS-SEG-124\n",
      "VS-SEG-125\n",
      "VS-SEG-126\n",
      "VS-SEG-127\n",
      "VS-SEG-128\n",
      "VS-SEG-129\n",
      "VS-SEG-131\n",
      "VS-SEG-132\n",
      "VS-SEG-133\n",
      "VS-SEG-134\n",
      "VS-SEG-135\n",
      "VS-SEG-136\n",
      "VS-SEG-137\n",
      "VS-SEG-138\n",
      "VS-SEG-139\n",
      "VS-SEG-140\n",
      "VS-SEG-141\n",
      "VS-SEG-142\n",
      "VS-SEG-143\n",
      "VS-SEG-144\n",
      "VS-SEG-145\n",
      "VS-SEG-146\n",
      "VS-SEG-147\n",
      "VS-SEG-148\n",
      "VS-SEG-149\n",
      "VS-SEG-150\n",
      "VS-SEG-151\n",
      "VS-SEG-152\n",
      "VS-SEG-153\n",
      "VS-SEG-154\n",
      "VS-SEG-155\n",
      "VS-SEG-156\n",
      "VS-SEG-157\n",
      "VS-SEG-158\n",
      "VS-SEG-159\n",
      "VS-SEG-161\n",
      "VS-SEG-162\n",
      "VS-SEG-163\n",
      "VS-SEG-164\n",
      "VS-SEG-165\n",
      "VS-SEG-166\n",
      "VS-SEG-167\n",
      "VS-SEG-169\n",
      "VS-SEG-170\n",
      "VS-SEG-171\n",
      "VS-SEG-172\n",
      "VS-SEG-173\n",
      "VS-SEG-174\n",
      "VS-SEG-175\n",
      "VS-SEG-176\n",
      "VS-SEG-177\n",
      "VS-SEG-178\n",
      "VS-SEG-179\n",
      "VS-SEG-180\n",
      "VS-SEG-181\n",
      "VS-SEG-182\n",
      "VS-SEG-183\n",
      "VS-SEG-184\n",
      "VS-SEG-185\n",
      "VS-SEG-186\n",
      "VS-SEG-187\n",
      "VS-SEG-188\n",
      "VS-SEG-189\n",
      "VS-SEG-190\n",
      "VS-SEG-191\n",
      "VS-SEG-192\n",
      "VS-SEG-193\n",
      "VS-SEG-194\n",
      "VS-SEG-195\n",
      "VS-SEG-196\n",
      "VS-SEG-197\n",
      "VS-SEG-198\n",
      "VS-SEG-199\n",
      "VS-SEG-200\n",
      "VS-SEG-201\n",
      "VS-SEG-202\n",
      "VS-SEG-203\n",
      "VS-SEG-204\n",
      "VS-SEG-205\n",
      "VS-SEG-206\n",
      "VS-SEG-207\n",
      "VS-SEG-209\n",
      "VS-SEG-210\n",
      "VS-SEG-211\n",
      "VS-SEG-212\n",
      "VS-SEG-213\n",
      "VS-SEG-214\n",
      "VS-SEG-215\n",
      "VS-SEG-216\n",
      "VS-SEG-217\n",
      "VS-SEG-218\n",
      "VS-SEG-220\n",
      "VS-SEG-221\n",
      "VS-SEG-222\n",
      "VS-SEG-223\n",
      "VS-SEG-224\n",
      "VS-SEG-225\n",
      "VS-SEG-226\n",
      "VS-SEG-228\n",
      "VS-SEG-229\n",
      "VS-SEG-230\n",
      "VS-SEG-231\n",
      "VS-SEG-232\n",
      "VS-SEG-233\n",
      "VS-SEG-234\n",
      "VS-SEG-235\n",
      "VS-SEG-236\n",
      "VS-SEG-237\n",
      "VS-SEG-238\n",
      "VS-SEG-239\n",
      "VS-SEG-240\n",
      "VS-SEG-241\n",
      "VS-SEG-242\n",
      "VS-SEG-243\n",
      "VS-SEG-244\n",
      "VS-SEG-245\n",
      "VS-SEG-246\n",
      "VS-SEG-247\n",
      "VS-SEG-248\n",
      "VS-SEG-249\n",
      "VS-SEG-250\n"
     ]
    }
   ],
   "source": [
    "# create folder\n",
    "# if Modality, save folder\n",
    "\n",
    "for i in range(0, len(schw_paths)):\n",
    "    patient = schw_paths['Descriptive Directory Name'].iloc[i].split('/')[0]\n",
    "    try:\n",
    "#         os.mkdir(savedir + patient)\n",
    "        if schw_paths['Modality'].iloc[i] == 'T1 image':\n",
    "            print(patient)\n",
    "            folder_to_copy = glob(basedir + patient + '/**/*' + schw_paths['Descriptive Directory Name'].iloc[i].split('/')[-1])\n",
    "            assert(len(folder_to_copy) == 1)\n",
    "            shutil.copytree(folder_to_copy[0], savedir + patient + '/T1/') \n",
    "            \n",
    "        if schw_paths['Modality'].iloc[i] == 'T2 image':\n",
    "            folder_to_copy = glob(basedir + patient + '/**/*' + schw_paths['Descriptive Directory Name'].iloc[i].split('/')[-1])\n",
    "            assert(len(folder_to_copy) == 1)\n",
    "            shutil.copytree(folder_to_copy[0], savedir + patient + '/T2/') \n",
    "            \n",
    "        if schw_paths['Modality'].iloc[i] == 'T1 RTSTRUCT':\n",
    "            folder_to_copy = glob(basedir + patient + '/**/*' + schw_paths['Descriptive Directory Name'].iloc[i].split('/')[-1])\n",
    "            assert(len(folder_to_copy) == 1)\n",
    "            shutil.copytree(folder_to_copy[0], savedir + patient + '/RTSTRUCT/')\n",
    "        \n",
    "    except OSError as error:\n",
    "        print(error) \n",
    "        pass  "
   ]
  },
  {
   "cell_type": "code",
   "execution_count": 65,
   "metadata": {},
   "outputs": [
    {
     "data": {
      "text/plain": [
       "['1-1.dcm']"
      ]
     },
     "execution_count": 65,
     "metadata": {},
     "output_type": "execute_result"
    }
   ],
   "source": [
    "os.listdir(savedir + '/VS-SEG-006/RTSTRUCT')"
   ]
  },
  {
   "cell_type": "code",
   "execution_count": 63,
   "metadata": {},
   "outputs": [
    {
     "data": {
      "text/plain": [
       "242"
      ]
     },
     "execution_count": 63,
     "metadata": {},
     "output_type": "execute_result"
    }
   ],
   "source": [
    "len(os.listdir(savedir))"
   ]
  },
  {
   "cell_type": "markdown",
   "metadata": {},
   "source": [
    "### Check orientation in folders:"
   ]
  },
  {
   "cell_type": "code",
   "execution_count": 4,
   "metadata": {},
   "outputs": [],
   "source": [
    "import os\n",
    "import ants"
   ]
  },
  {
   "cell_type": "code",
   "execution_count": 14,
   "metadata": {},
   "outputs": [],
   "source": [
    "path1 = '/anvar/public_datasets/preproc_study/schw/orig/'"
   ]
  },
  {
   "cell_type": "code",
   "execution_count": 67,
   "metadata": {},
   "outputs": [],
   "source": [
    "path = '/anvar/public_datasets/preproc_study/schw/1_reg/'\n",
    "# os.listdir(path +'VS-SEG-157')\n",
    "reg = ants.image_read(path +'VS-SEG-157/T1_SEG.nii.gz')"
   ]
  },
  {
   "cell_type": "code",
   "execution_count": 54,
   "metadata": {},
   "outputs": [],
   "source": [
    "path = '/anvar/public_datasets/preproc_study/schw/orig/'\n",
    "# os.listdir(path +'VS-SEG-157')\n",
    "orig = ants.image_read(path +'VS-SEG-157/T1_SEG.nii.gz').reorient_image2('RPI')"
   ]
  },
  {
   "cell_type": "code",
   "execution_count": 61,
   "metadata": {},
   "outputs": [
    {
     "data": {
      "text/plain": [
       "['dicom',\n",
       " '4a_resamp.json',\n",
       " '3a_atlas',\n",
       " 'orig',\n",
       " '3b_n4',\n",
       " '5_ss_shared',\n",
       " '2a_interp',\n",
       " '3d_susan',\n",
       " '4d_susan',\n",
       " '4a_resamp',\n",
       " '1_reg_check',\n",
       " '1_reg',\n",
       " '4b_n4']"
      ]
     },
     "execution_count": 61,
     "metadata": {},
     "output_type": "execute_result"
    }
   ],
   "source": [
    "os.listdir('/anvar/public_datasets/preproc_study/schw/')"
   ]
  },
  {
   "cell_type": "code",
   "execution_count": 69,
   "metadata": {},
   "outputs": [],
   "source": [
    "path = '/anvar/public_datasets/preproc_study/schw/4a_resamp/'\n",
    "resamp = ants.image_read(path +'VS-SEG-157/T1_SEG.nii.gz')\n",
    "\n",
    "path = '/anvar/public_datasets/preproc_study/schw/1_reg_check/'\n",
    "reg_check = ants.image_read(path +'VS-SEG-157/T1_SEG.nii.gz')"
   ]
  },
  {
   "cell_type": "code",
   "execution_count": 70,
   "metadata": {},
   "outputs": [
    {
     "data": {
      "text/plain": [
       "ANTsImage (LAI)\n",
       "\t Pixel Type : float (float32)\n",
       "\t Components : 1\n",
       "\t Dimensions : (210, 210, 180)\n",
       "\t Spacing    : (1.0, 1.0, 1.0)\n",
       "\t Origin     : (99.0554, -126.5958, -79.1036)\n",
       "\t Direction  : [-1.  0.  0.  0.  1.  0.  0.  0.  1.]"
      ]
     },
     "execution_count": 70,
     "metadata": {},
     "output_type": "execute_result"
    }
   ],
   "source": [
    "resamp"
   ]
  },
  {
   "cell_type": "code",
   "execution_count": 56,
   "metadata": {},
   "outputs": [
    {
     "data": {
      "image/png": "[encoded data removed]",
      "text/plain": [
       "<Figure size 504x540 with 12 Axes>"
      ]
     },
     "metadata": {
      "needs_background": "light"
     },
     "output_type": "display_data"
    }
   ],
   "source": [
    "ants.plot(orig, reg)"
   ]
  },
  {
   "cell_type": "code",
   "execution_count": 57,
   "metadata": {},
   "outputs": [
    {
     "data": {
      "image/png": "[encoded data removed]",
      "text/plain": [
       "<Figure size 504x540 with 12 Axes>"
      ]
     },
     "metadata": {
      "needs_background": "light"
     },
     "output_type": "display_data"
    }
   ],
   "source": [
    "ants.plot(orig, resamp)"
   ]
  },
  {
   "cell_type": "code",
   "execution_count": 58,
   "metadata": {},
   "outputs": [],
   "source": [
    "import matplotlib.pyplot as plt\n",
    "import numpy as np\n",
    "def plot_qc(image, mask, patient_id= 'lol'):\n",
    "    fig, axs = plt.subplots(3,3,figsize=(12,12))\n",
    "    idx = np.argsort(mask.sum(axis=(0,1)))[-3:]\n",
    "    for i in range(3):\n",
    "        axs[i, 0].imshow(image[..., idx[i]], cmap='gray')\n",
    "        axs[i, 1].imshow(mask[..., idx[i]], cmap='gray')\n",
    "        axs[i, 2].imshow(image[..., idx[i]]+200*mask[..., idx[i]], cmap='gray')\n",
    "    axs[0,0].set_title(patient_id)\n",
    "    plt.tight_layout()\n",
    "    plt.plot()"
   ]
  },
  {
   "cell_type": "code",
   "execution_count": 59,
   "metadata": {
    "scrolled": true
   },
   "outputs": [
    {
     "data": {
      "image/png": "[encoded data removed]",
      "text/plain": [
       "<Figure size 864x864 with 9 Axes>"
      ]
     },
     "metadata": {
      "needs_background": "light"
     },
     "output_type": "display_data"
    }
   ],
   "source": [
    "plot_qc(reg.numpy(), orig.numpy())"
   ]
  },
  {
   "cell_type": "code",
   "execution_count": 60,
   "metadata": {},
   "outputs": [
    {
     "data": {
      "image/png": "[encoded data removed]",
      "text/plain": [
       "<Figure size 864x864 with 9 Axes>"
      ]
     },
     "metadata": {
      "needs_background": "light"
     },
     "output_type": "display_data"
    }
   ],
   "source": [
    "plot_qc(resamp.numpy(), resamp.numpy())"
   ]
  },
  {
   "cell_type": "code",
   "execution_count": null,
   "metadata": {},
   "outputs": [],
   "source": []
  }
 ],
 "metadata": {
  "kernelspec": {
   "display_name": "Python 3 (ipykernel)",
   "language": "python",
   "name": "python3"
  },
  "language_info": {
   "codemirror_mode": {
    "name": "ipython",
    "version": 3
   },
   "file_extension": ".py",
   "mimetype": "text/x-python",
   "name": "python",
   "nbconvert_exporter": "python",
   "pygments_lexer": "ipython3",
   "version": "3.9.1"
  }
 },
 "nbformat": 4,
 "nbformat_minor": 4
}
