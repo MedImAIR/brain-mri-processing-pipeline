{
 "cells": [
  {
   "cell_type": "code",
   "execution_count": 1,
   "metadata": {},
   "outputs": [],
   "source": [
    "import os, sys\n",
    "import numpy as np\n",
    "import ants\n",
    "import argparse\n",
    "import shutil\n",
    "import logging\n",
    "import subprocess\n",
    "import tqdm\n",
    "import matplotlib.pyplot as plt \n",
    "import pandas as pd"
   ]
  },
  {
   "cell_type": "code",
   "execution_count": 3,
   "metadata": {},
   "outputs": [
    {
     "data": {
      "text/plain": [
       "180"
      ]
     },
     "execution_count": 3,
     "metadata": {},
     "output_type": "execute_result"
    }
   ],
   "source": [
    "len(os.listdir('/anvar/private_datasets/glioma_burdenko/dcm2nii_BURDENKO_BASELINE_PUBLISH'))"
   ]
  },
  {
   "cell_type": "code",
   "execution_count": 8,
   "metadata": {},
   "outputs": [],
   "source": [
    "# os.mkdir('/anvar/public_datasets/preproc_study/bgpd/orig/')"
   ]
  },
  {
   "cell_type": "code",
   "execution_count": 7,
   "metadata": {},
   "outputs": [
    {
     "data": {
      "text/plain": [
       "['T2.nii.gz',\n",
       " 'FLAIR.nii.gz',\n",
       " 'T1.nii.gz',\n",
       " 'MASK_DICOM',\n",
       " 'REF.json',\n",
       " 'T1',\n",
       " 'T2',\n",
       " 'CT1',\n",
       " 'T2.json',\n",
       " 'T1.json',\n",
       " 'mask_GTV_FLAIR.nii.gz',\n",
       " 'RTSTRUCT',\n",
       " 'REF',\n",
       " 'CT1.nii.gz',\n",
       " 'mask_GTV_FLAIR.json',\n",
       " 'REF.nii.gz',\n",
       " 'FLAIR']"
      ]
     },
     "execution_count": 7,
     "metadata": {},
     "output_type": "execute_result"
    }
   ],
   "source": [
    "os.listdir('/anvar/private_datasets/glioma_burdenko/dcm2nii_BURDENKO_BASELINE_PUBLISH/1360_18')"
   ]
  },
  {
   "cell_type": "code",
   "execution_count": 13,
   "metadata": {},
   "outputs": [
    {
     "data": {
      "text/plain": [
       "['FLAIR.nii.gz',\n",
       " 'FLAIR_real.json',\n",
       " 'CT1.json',\n",
       " 'T2_real.json',\n",
       " 'MASK_DICOM_CT',\n",
       " 'mask_GTV_CT.nii.gz',\n",
       " 'T1.nii.gz',\n",
       " 'REF.json',\n",
       " 'T1',\n",
       " 'T2',\n",
       " 'mask_GTV_CT.json',\n",
       " 'CT1',\n",
       " 'T1.json',\n",
       " 'T2_real.nii.gz',\n",
       " 'mask_GTV_FLAIR.nii.gz',\n",
       " 'RTSTRUCT',\n",
       " 'REF',\n",
       " 'CT1.nii.gz',\n",
       " 'CT',\n",
       " 'REF.nii.gz',\n",
       " 'FLAIR']"
      ]
     },
     "execution_count": 13,
     "metadata": {},
     "output_type": "execute_result"
    }
   ],
   "source": [
    "os.listdir('/anvar/private_datasets/glioma_burdenko/dcm2nii_BURDENKO_BASELINE_PUBLISH/Patient_54317/')"
   ]
  },
  {
   "cell_type": "code",
   "execution_count": 21,
   "metadata": {},
   "outputs": [
    {
     "data": {
      "text/plain": [
       "['CT1.json',\n",
       " 'MASK_DICOM_CT',\n",
       " 'mask_GTV_CT.nii.gz',\n",
       " 'FLAIR_e6.json',\n",
       " 'T1.nii.gz',\n",
       " 'REF.json',\n",
       " 'T1',\n",
       " 'T2',\n",
       " 'T1a.nii.gz',\n",
       " 'mask_GTV_CT.json',\n",
       " 'CT1',\n",
       " 'CT1a.nii.gz',\n",
       " 'T1.json',\n",
       " 'mask_GTV_FLAIR.nii.gz',\n",
       " 'RTSTRUCT',\n",
       " 'REF',\n",
       " 'CT1.nii.gz',\n",
       " 'CT',\n",
       " 'CT1a.json',\n",
       " 'T2_e7.nii.gz',\n",
       " 'REF.nii.gz',\n",
       " 'FLAIR_e6.nii.gz',\n",
       " 'FLAIR',\n",
       " 'T2_e7.json',\n",
       " 'T1a.json']"
      ]
     },
     "execution_count": 21,
     "metadata": {},
     "output_type": "execute_result"
    }
   ],
   "source": [
    "os.listdir('/anvar/private_datasets/glioma_burdenko/dcm2nii_BURDENKO_BASELINE_PUBLISH/Patient_56717/')"
   ]
  },
  {
   "cell_type": "code",
   "execution_count": 15,
   "metadata": {},
   "outputs": [
    {
     "ename": "PermissionError",
     "evalue": "[Errno 13] Permission denied: '/anvar/private_datasets/glioma_burdenko/dcm2nii_BURDENKO_BASELINE_PUBLISH/Patient_54317/T2_real.nii.gz' -> '/anvar/private_datasets/glioma_burdenko/dcm2nii_BURDENKO_BASELINE_PUBLISH/Patient_54317/T2.nii.gz'",
     "output_type": "error",
     "traceback": [
      "\u001b[0;31m---------------------------------------------------------------------------\u001b[0m",
      "\u001b[0;31mPermissionError\u001b[0m                           Traceback (most recent call last)",
      "\u001b[0;32m/tmp/ipykernel_539596/594578483.py\u001b[0m in \u001b[0;36m<module>\u001b[0;34m\u001b[0m\n\u001b[0;32m----> 1\u001b[0;31m os.rename('/anvar/private_datasets/glioma_burdenko/dcm2nii_BURDENKO_BASELINE_PUBLISH/Patient_54317/T2_real.nii.gz',\n\u001b[0m\u001b[1;32m      2\u001b[0m            '/anvar/private_datasets/glioma_burdenko/dcm2nii_BURDENKO_BASELINE_PUBLISH/Patient_54317/T2.nii.gz')\n",
      "\u001b[0;31mPermissionError\u001b[0m: [Errno 13] Permission denied: '/anvar/private_datasets/glioma_burdenko/dcm2nii_BURDENKO_BASELINE_PUBLISH/Patient_54317/T2_real.nii.gz' -> '/anvar/private_datasets/glioma_burdenko/dcm2nii_BURDENKO_BASELINE_PUBLISH/Patient_54317/T2.nii.gz'"
     ]
    }
   ],
   "source": [
    " /anvar/private_datasets/glioma_burdenko/dcm2nii_BURDENKO_BASELINE_PUBLISH/Patient_137315/T2_real.nii.gz /anvar/private_datasets/glioma_burdenko/dcm2nii_BURDENKO_BASELINE_PUBLISH/Patient_137315/T2.nii.gz"
   ]
  },
  {
   "cell_type": "code",
   "execution_count": 17,
   "metadata": {},
   "outputs": [],
   "source": [
    "\n",
    "# shutil.rmtree('/anvar/public_datasets/preproc_study/bgpd/orig/Patient_54317')"
   ]
  },
  {
   "cell_type": "code",
   "execution_count": 18,
   "metadata": {},
   "outputs": [
    {
     "name": "stdout",
     "output_type": "stream",
     "text": [
      "[Errno 17] File exists: '/anvar/public_datasets/preproc_study/bgpd/orig/1360_18'\n",
      "[Errno 17] File exists: '/anvar/public_datasets/preproc_study/bgpd/orig/Patient_98817'\n",
      "[Errno 17] File exists: '/anvar/public_datasets/preproc_study/bgpd/orig/Patient_110816'\n",
      "[Errno 17] File exists: '/anvar/public_datasets/preproc_study/bgpd/orig/1421_18'\n",
      "[Errno 17] File exists: '/anvar/public_datasets/preproc_study/bgpd/orig/1357_19_4'\n",
      "[Errno 17] File exists: '/anvar/public_datasets/preproc_study/bgpd/orig/Patient_49617'\n",
      "[Errno 17] File exists: '/anvar/public_datasets/preproc_study/bgpd/orig/Patient_2914'\n",
      "[Errno 17] File exists: '/anvar/public_datasets/preproc_study/bgpd/orig/Patient_102117'\n",
      "[Errno 17] File exists: '/anvar/public_datasets/preproc_study/bgpd/orig/Patient_24117'\n",
      "[Errno 17] File exists: '/anvar/public_datasets/preproc_study/bgpd/orig/1470_18_4'\n",
      "[Errno 17] File exists: '/anvar/public_datasets/preproc_study/bgpd/orig/Patient_92114'\n",
      "[Errno 2] No such file or directory: '/anvar/private_datasets/glioma_burdenko/dcm2nii_BURDENKO_BASELINE_PUBLISH/Patient_52315/T2.nii.gz'\n",
      "[Errno 2] No such file or directory: '/anvar/private_datasets/glioma_burdenko/dcm2nii_BURDENKO_BASELINE_PUBLISH/Patient_137315/T2.nii.gz'\n",
      "[Errno 2] No such file or directory: '/anvar/private_datasets/glioma_burdenko/dcm2nii_BURDENKO_BASELINE_PUBLISH/Patient_56717/FLAIR.nii.gz'\n"
     ]
    }
   ],
   "source": [
    "source_dir = '/anvar/private_datasets/glioma_burdenko/dcm2nii_BURDENKO_BASELINE_PUBLISH/'\n",
    "save_dir = '/anvar/public_datasets/preproc_study/bgpd/orig/'\n",
    "for patient in os.listdir(source_dir):\n",
    "    \n",
    "    try:\n",
    "        os.mkdir(save_dir  + patient)\n",
    "        shutil.copyfile(source_dir   + patient + '/T1.nii.gz', save_dir  + patient + '/T1.nii.gz')\n",
    "        shutil.copyfile(source_dir   + patient + '/CT1.nii.gz', save_dir  + patient + '/CT1.nii.gz')\n",
    "        shutil.copyfile(source_dir   + patient + '/FLAIR.nii.gz', save_dir  + patient + '/FLAIR.nii.gz')\n",
    "        shutil.copyfile(source_dir   + patient + '/T2.nii.gz', save_dir  + patient + '/T2.nii.gz')\n",
    "        shutil.copyfile(source_dir   + patient + '/mask_GTV_FLAIR.nii.gz', save_dir  + patient + '/mask_GTV_FLAIR.nii.gz')\n",
    "    except Exception as e:\n",
    "        print(e)"
   ]
  },
  {
   "cell_type": "code",
   "execution_count": null,
   "metadata": {},
   "outputs": [],
   "source": []
  }
 ],
 "metadata": {
  "kernelspec": {
   "display_name": "Python 3 (ipykernel)",
   "language": "python",
   "name": "python3"
  },
  "language_info": {
   "codemirror_mode": {
    "name": "ipython",
    "version": 3
   },
   "file_extension": ".py",
   "mimetype": "text/x-python",
   "name": "python",
   "nbconvert_exporter": "python",
   "pygments_lexer": "ipython3",
   "version": "3.9.1"
  }
 },
 "nbformat": 4,
 "nbformat_minor": 4
}
