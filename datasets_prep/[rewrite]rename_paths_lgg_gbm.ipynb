{
 "cells": [
  {
   "cell_type": "code",
   "execution_count": 1,
   "metadata": {},
   "outputs": [],
   "source": [
    "import pydicom\n",
    "import csv\n",
    "import os"
   ]
  },
  {
   "cell_type": "code",
   "execution_count": 2,
   "metadata": {},
   "outputs": [
    {
     "data": {
      "text/plain": [
       "(67, 136)"
      ]
     },
     "execution_count": 2,
     "metadata": {},
     "output_type": "execute_result"
    }
   ],
   "source": [
    "tcia_lgg_raw = '/anvar/public_datasets/tcia/manifest-25ZdsnMy5264093150469993200/TCGA-LGG/'\n",
    "tcia_gbm_raw = '/anvar/public_datasets/tcia/manifest-21CCx8fx964169794518489879/TCGA-GBM/'\n",
    "len(os.listdir(tcia_lgg_raw)),len(os.listdir(tcia_gbm_raw))"
   ]
  },
  {
   "cell_type": "code",
   "execution_count": 3,
   "metadata": {},
   "outputs": [],
   "source": [
    "import numpy as np\n",
    "\n",
    "sub_ids = next(os.walk(tcia_lgg_raw))[1]\n",
    "\n",
    "## First, find FLAIR, T2, and T1-mprage scans based on expected file names\n",
    "flair_paths=[]\n",
    "t2_paths=[]\n",
    "t1_paths=[]\n",
    "\n",
    "for (root, __, __) in os.walk(tcia_lgg_raw):\n",
    "    ##   FLAIR\n",
    "    if  root.find('FLAIR') >0 and\\\n",
    "        root.find('T1') <0:\n",
    "        flair_paths.append(root)\n",
    "    if  root.find('flair') >0 and\\\n",
    "        root.find('T1') <0:\n",
    "        flair_paths.append(root)\n",
    "    if  root.find('Flair') >0 and\\\n",
    "        root.find('T1') <0:\n",
    "        flair_paths.append(root)\n",
    "    if  root.find('3.000000-58602') >0:\n",
    "        flair_paths.append(root)\n",
    "        \n",
    "\n",
    "    ##   T2\n",
    "    if  root.find('T2') > 0 and\\\n",
    "        root.find('FLAIR')<0:\n",
    "        t2_paths.append(root)\n",
    "    if  root.find('t2') > 0 and\\\n",
    "        root.find('FLAIR')< 0:\n",
    "        t2_paths.append(root)\n",
    "    if  root.find('FSE') > 0 and\\\n",
    "        root.find('T1')< 0:\n",
    "        t2_paths.append(root)   \n",
    "    if  root.find('fse') > 0 and\\\n",
    "        root.find('T1')< 0:\n",
    "        t2_paths.append(root)   \n",
    "    if  root.find('DOUBLEECHO') > 0 and\\\n",
    "        root.find('FLAIR')< 0:\n",
    "        t2_paths.append(root)\n",
    "        \n",
    "    ##   T1 pre\n",
    "    if  root.find('T1') > 0 or\\\n",
    "        root.find('t1') > 0 or\\\n",
    "        root.find('MP RAGE') > 0 or\\\n",
    "        root.find('VOLUMAX') >0 or\\\n",
    "        root.find('VOLUMETRIC') >0 or\\\n",
    "        root.find('SPGR') > 0:\n",
    "        t1_paths.append(root)\n",
    "\n",
    "        \n",
    "flair_paths = np.unique(flair_paths).tolist()\n",
    "t2_paths = np.unique(t2_paths).tolist()\n",
    "t1_paths = np.unique(t1_paths).tolist()"
   ]
  },
  {
   "cell_type": "code",
   "execution_count": 4,
   "metadata": {},
   "outputs": [
    {
     "name": "stdout",
     "output_type": "stream",
     "text": [
      "66 69 90 312\n"
     ]
    }
   ],
   "source": [
    "print(len(sub_ids), len(flair_paths), len(t2_paths), len(t1_paths))"
   ]
  },
  {
   "cell_type": "code",
   "execution_count": 5,
   "metadata": {},
   "outputs": [],
   "source": [
    "# creating a list of subjects with package of four images\n",
    "import pandas as pd\n",
    "df_result = pd.DataFrame(columns = ['ID', 'T1', 'T1C', 'T2', 'FLAIR'])\n",
    "num_tag = pydicom.tag.Tag(int('0020', 16), int('0011', 16)) # series number tag\n",
    "\n",
    "for idx, sub in enumerate(sub_ids):\n",
    "    # flair\n",
    "    df_result.at[idx,'ID'] = sub\n",
    "    fn_paths = list(filter(lambda x: sub in x, flair_paths)) # grab paths for this sub\n",
    "    if len(fn_paths) == 1:\n",
    "        df_result.at[idx,'FLAIR'] = fn_paths[0]\n",
    "    # t2\n",
    "    fn_paths = list(filter(lambda x: sub in x, t2_paths)) # grab paths for this sub\n",
    "    if len(fn_paths) == 1:\n",
    "        df_result.at[idx,'T2'] = fn_paths[0]\n",
    "\n",
    "    # t1: comparing two with num tags\n",
    "    fn_paths = list(filter(lambda x: sub in x, t1_paths)) # grab paths for this sub\n",
    "    num_tag_list = []\n",
    "    for fn_path in fn_paths:\n",
    "        ds = pydicom.dcmread(fn_path+'/'+os.listdir(fn_path)[0])\n",
    "        num_tag_list.append(ds[num_tag].value)\n",
    "    try:\n",
    "        df_result.at[idx,'T1C'] = fn_paths[num_tag_list.index(max(num_tag_list))]\n",
    "        df_result.at[idx,'T1'] = fn_paths[num_tag_list.index(min(num_tag_list))]\n",
    "    except:\n",
    "        pass"
   ]
  },
  {
   "cell_type": "code",
   "execution_count": 6,
   "metadata": {},
   "outputs": [],
   "source": [
    "df_result = pd.DataFrame(columns = ['ID', 'T1', 'T1C', 'T2', 'FLAIR'])\n",
    "num_tag = pydicom.tag.Tag(int('0020', 16), int('0011', 16)) # series number tag\n",
    "\n",
    "for idx, sub in enumerate(sub_ids):\n",
    "    # flair\n",
    "    df_result.at[idx,'ID'] = sub\n",
    "    fn_paths = list(filter(lambda x: sub in x, flair_paths)) # grab paths for this sub\n",
    "    if len(fn_paths) > 0:\n",
    "        df_result.at[idx,'FLAIR'] = fn_paths[0]\n",
    "    # t2\n",
    "    fn_paths = list(filter(lambda x: sub in x, t2_paths)) # grab paths for this sub\n",
    "    if len(fn_paths) > 0:\n",
    "        df_result.at[idx,'T2'] = fn_paths[0]\n",
    "\n",
    "    # t1: comparing two with num tags\n",
    "    fn_paths = list(filter(lambda x: sub in x, t1_paths)) # grab paths for this sub\n",
    "    num_tag_list = []\n",
    "    for fn_path in fn_paths:\n",
    "        ds = pydicom.dcmread(fn_path+'/'+os.listdir(fn_path)[0])\n",
    "        num_tag_list.append(ds[num_tag].value)\n",
    "    try:\n",
    "        df_result.at[idx,'T1C'] = fn_paths[num_tag_list.index(max(num_tag_list))]\n",
    "        df_result.at[idx,'T1'] = fn_paths[num_tag_list.index(min(num_tag_list))]\n",
    "    except:\n",
    "        pass"
   ]
  },
  {
   "cell_type": "code",
   "execution_count": 8,
   "metadata": {},
   "outputs": [
    {
     "name": "stdout",
     "output_type": "stream",
     "text": [
      "<class 'pandas.core.frame.DataFrame'>\n",
      "Int64Index: 66 entries, 0 to 65\n",
      "Data columns (total 5 columns):\n",
      " #   Column  Non-Null Count  Dtype \n",
      "---  ------  --------------  ----- \n",
      " 0   ID      66 non-null     object\n",
      " 1   T1      65 non-null     object\n",
      " 2   T1C     65 non-null     object\n",
      " 3   T2      64 non-null     object\n",
      " 4   FLAIR   61 non-null     object\n",
      "dtypes: object(5)\n",
      "memory usage: 5.1+ KB\n"
     ]
    }
   ],
   "source": [
    "df_result.info()"
   ]
  },
  {
   "cell_type": "code",
   "execution_count": 9,
   "metadata": {},
   "outputs": [
    {
     "data": {
      "text/html": [
       "<div>\n",
       "<style scoped>\n",
       "    .dataframe tbody tr th:only-of-type {\n",
       "        vertical-align: middle;\n",
       "    }\n",
       "\n",
       "    .dataframe tbody tr th {\n",
       "        vertical-align: top;\n",
       "    }\n",
       "\n",
       "    .dataframe thead th {\n",
       "        text-align: right;\n",
       "    }\n",
       "</style>\n",
       "<table border=\"1\" class=\"dataframe\">\n",
       "  <thead>\n",
       "    <tr style=\"text-align: right;\">\n",
       "      <th></th>\n",
       "      <th>ID</th>\n",
       "      <th>T1</th>\n",
       "      <th>T1C</th>\n",
       "      <th>T2</th>\n",
       "      <th>FLAIR</th>\n",
       "    </tr>\n",
       "  </thead>\n",
       "  <tbody>\n",
       "    <tr>\n",
       "      <th>6</th>\n",
       "      <td>TCGA-CS-4942</td>\n",
       "      <td>/anvar/public_datasets/tcia/manifest-25ZdsnMy5...</td>\n",
       "      <td>/anvar/public_datasets/tcia/manifest-25ZdsnMy5...</td>\n",
       "      <td>NaN</td>\n",
       "      <td>/anvar/public_datasets/tcia/manifest-25ZdsnMy5...</td>\n",
       "    </tr>\n",
       "    <tr>\n",
       "      <th>10</th>\n",
       "      <td>TCGA-DU-6402</td>\n",
       "      <td>/anvar/public_datasets/tcia/manifest-25ZdsnMy5...</td>\n",
       "      <td>/anvar/public_datasets/tcia/manifest-25ZdsnMy5...</td>\n",
       "      <td>NaN</td>\n",
       "      <td>NaN</td>\n",
       "    </tr>\n",
       "    <tr>\n",
       "      <th>40</th>\n",
       "      <td>TCGA-CS-4938</td>\n",
       "      <td>/anvar/public_datasets/tcia/manifest-25ZdsnMy5...</td>\n",
       "      <td>/anvar/public_datasets/tcia/manifest-25ZdsnMy5...</td>\n",
       "      <td>/anvar/public_datasets/tcia/manifest-25ZdsnMy5...</td>\n",
       "      <td>NaN</td>\n",
       "    </tr>\n",
       "    <tr>\n",
       "      <th>45</th>\n",
       "      <td>TCGA-CS-5390</td>\n",
       "      <td>/anvar/public_datasets/tcia/manifest-25ZdsnMy5...</td>\n",
       "      <td>/anvar/public_datasets/tcia/manifest-25ZdsnMy5...</td>\n",
       "      <td>/anvar/public_datasets/tcia/manifest-25ZdsnMy5...</td>\n",
       "      <td>NaN</td>\n",
       "    </tr>\n",
       "    <tr>\n",
       "      <th>54</th>\n",
       "      <td>TCGA-CS-5394</td>\n",
       "      <td>/anvar/public_datasets/tcia/manifest-25ZdsnMy5...</td>\n",
       "      <td>/anvar/public_datasets/tcia/manifest-25ZdsnMy5...</td>\n",
       "      <td>/anvar/public_datasets/tcia/manifest-25ZdsnMy5...</td>\n",
       "      <td>NaN</td>\n",
       "    </tr>\n",
       "    <tr>\n",
       "      <th>60</th>\n",
       "      <td>TCGA-DU-8158</td>\n",
       "      <td>/anvar/public_datasets/tcia/manifest-25ZdsnMy5...</td>\n",
       "      <td>/anvar/public_datasets/tcia/manifest-25ZdsnMy5...</td>\n",
       "      <td>/anvar/public_datasets/tcia/manifest-25ZdsnMy5...</td>\n",
       "      <td>NaN</td>\n",
       "    </tr>\n",
       "    <tr>\n",
       "      <th>65</th>\n",
       "      <td>TCGA-DU-6395</td>\n",
       "      <td>NaN</td>\n",
       "      <td>NaN</td>\n",
       "      <td>/anvar/public_datasets/tcia/manifest-25ZdsnMy5...</td>\n",
       "      <td>/anvar/public_datasets/tcia/manifest-25ZdsnMy5...</td>\n",
       "    </tr>\n",
       "  </tbody>\n",
       "</table>\n",
       "</div>"
      ],
      "text/plain": [
       "              ID                                                 T1  \\\n",
       "6   TCGA-CS-4942  /anvar/public_datasets/tcia/manifest-25ZdsnMy5...   \n",
       "10  TCGA-DU-6402  /anvar/public_datasets/tcia/manifest-25ZdsnMy5...   \n",
       "40  TCGA-CS-4938  /anvar/public_datasets/tcia/manifest-25ZdsnMy5...   \n",
       "45  TCGA-CS-5390  /anvar/public_datasets/tcia/manifest-25ZdsnMy5...   \n",
       "54  TCGA-CS-5394  /anvar/public_datasets/tcia/manifest-25ZdsnMy5...   \n",
       "60  TCGA-DU-8158  /anvar/public_datasets/tcia/manifest-25ZdsnMy5...   \n",
       "65  TCGA-DU-6395                                                NaN   \n",
       "\n",
       "                                                  T1C  \\\n",
       "6   /anvar/public_datasets/tcia/manifest-25ZdsnMy5...   \n",
       "10  /anvar/public_datasets/tcia/manifest-25ZdsnMy5...   \n",
       "40  /anvar/public_datasets/tcia/manifest-25ZdsnMy5...   \n",
       "45  /anvar/public_datasets/tcia/manifest-25ZdsnMy5...   \n",
       "54  /anvar/public_datasets/tcia/manifest-25ZdsnMy5...   \n",
       "60  /anvar/public_datasets/tcia/manifest-25ZdsnMy5...   \n",
       "65                                                NaN   \n",
       "\n",
       "                                                   T2  \\\n",
       "6                                                 NaN   \n",
       "10                                                NaN   \n",
       "40  /anvar/public_datasets/tcia/manifest-25ZdsnMy5...   \n",
       "45  /anvar/public_datasets/tcia/manifest-25ZdsnMy5...   \n",
       "54  /anvar/public_datasets/tcia/manifest-25ZdsnMy5...   \n",
       "60  /anvar/public_datasets/tcia/manifest-25ZdsnMy5...   \n",
       "65  /anvar/public_datasets/tcia/manifest-25ZdsnMy5...   \n",
       "\n",
       "                                                FLAIR  \n",
       "6   /anvar/public_datasets/tcia/manifest-25ZdsnMy5...  \n",
       "10                                                NaN  \n",
       "40                                                NaN  \n",
       "45                                                NaN  \n",
       "54                                                NaN  \n",
       "60                                                NaN  \n",
       "65  /anvar/public_datasets/tcia/manifest-25ZdsnMy5...  "
      ]
     },
     "execution_count": 9,
     "metadata": {},
     "output_type": "execute_result"
    }
   ],
   "source": [
    "df_result[df_result.isna().any(axis=1)]"
   ]
  },
  {
   "cell_type": "code",
   "execution_count": 10,
   "metadata": {},
   "outputs": [
    {
     "data": {
      "text/plain": [
       "array([['TCGA-DU-6395', nan, nan,\n",
       "        '/anvar/public_datasets/tcia/manifest-25ZdsnMy5264093150469993200/TCGA-LGG/TCGA-DU-6395/02-09-1983-BRAINGD-38915/2.000000-ScanningSequence fse-66259',\n",
       "        '/anvar/public_datasets/tcia/manifest-25ZdsnMy5264093150469993200/TCGA-LGG/TCGA-DU-6395/02-09-1983-BRAINGD-38915/3.000000-ScanningSequence flair-95070']],\n",
       "      dtype=object)"
      ]
     },
     "execution_count": 10,
     "metadata": {},
     "output_type": "execute_result"
    }
   ],
   "source": [
    "df_result[df_result['ID'] == 'TCGA-DU-6395'].values"
   ]
  },
  {
   "cell_type": "code",
   "execution_count": 12,
   "metadata": {},
   "outputs": [],
   "source": [
    "df_result.at[12,'T2'] = '/home/datasets/@Uranus/tcia/manifest-25ZdsnMy5264093150469993200/TCGA-LGG/TCGA-CS-5393/06-06-1999-JHN MRI BRAINSTRYKER IP-28540/5.000000-BRAINCONTRASTDOUBLEECHO-62620/'\n",
    "df_result.at[14,'FLAIR'] = '/home/datasets/@Uranus/tcia/manifest-25ZdsnMy5264093150469993200/TCGA-LGG/TCGA-DU-6402/12-31-1983-WAND BRAIN-73244/1.000000-axial diff.-30337'\n",
    "df_result.at[14, 'T2'] = '/home/datasets/@Uranus/tcia/manifest-25ZdsnMy5264093150469993200/TCGA-LGG/TCGA-DU-6402/12-31-1983-WAND BRAIN-73244/4.000000-axial perf.-20953'\n",
    "df_result.at[18, 'FLAIR'] = '/home/datasets/@Uranus/tcia/manifest-25ZdsnMy5264093150469993200/TCGA-LGG/TCGA-CS-4938/04-15-1996-JHN BRAIN MR OP-84760/2.000000-FASTBRAINEPIDIFF-74032'\n",
    "df_result.at[19, 'FLAIR'] ='/home/datasets/@Megatron/druzhinina/tcia/manifest-21CCx8fx964169794518489879/TCGA-LGG/TCGA-CS-5390/03-07-1996-BRAINSTRYKER-97078/5.000000-BRAINSTRYKERDIFFUSION-72204'\n",
    "df_result.at[40, 'T2'] ='/home/datasets/@Uranus/tcia/manifest-25ZdsnMy5264093150469993200/TCGA-LGG/TCGA-CS-4942/TCGA-CS-4942/02-22-1997-MRI BRAIN WITHO-04689/401.000000-DUAL AX SE-07653'\n",
    "df_result.at[45, 'FLAIR'] = '/home/datasets/@Uranus/tcia/manifest-25ZdsnMy5264093150469993200/TCGA-LGG/TCGA-CS-5394/12-05-1995-JHN BRAIN-97935/4.000000-RETROORBITT2LATEECHOB-49308'\n",
    "df_result.at[55, 'FLAIR'] = '/home/datasets/@Uranus/tcia/manifest-25ZdsnMy5264093150469993200/TCGA-LGG/TCGA-DU-8158/09-22-1986-BRAIN WWO-21326/4.000000-DIFF 1000 24 FOV-88158'\n",
    "df_result.at[65, 'T1'] = '/home/datasets/@Uranus/tcia/manifest-25ZdsnMy5264093150469993200/TCGA-LGG/TCGA-DU-6395/02-09-1983-BRAINGD-38915/4.000000-ScanningSequence memp-03903'\n",
    "df_result.at[65, 'T1C'] = '/home/datasets/@Uranus/tcia/manifest-25ZdsnMy5264093150469993200/TCGA-LGG/TCGA-DU-6395/02-09-1983-BRAINGD-38915/5.000000-ScanningSequence memp-22371'"
   ]
  },
  {
   "cell_type": "code",
   "execution_count": 79,
   "metadata": {},
   "outputs": [],
   "source": [
    "# df_result.to_csv('lgg_paths.csv')"
   ]
  },
  {
   "cell_type": "code",
   "execution_count": 7,
   "metadata": {},
   "outputs": [],
   "source": [
    "paths = pd.read_csv('lgg_paths.csv')"
   ]
  },
  {
   "cell_type": "markdown",
   "metadata": {},
   "source": [
    "## Saving folders"
   ]
  },
  {
   "cell_type": "code",
   "execution_count": 17,
   "metadata": {},
   "outputs": [],
   "source": [
    "#!conda install -c conda-forge dcm2niix"
   ]
  },
  {
   "cell_type": "code",
   "execution_count": 42,
   "metadata": {},
   "outputs": [
    {
     "data": {
      "text/plain": [
       "107"
      ]
     },
     "execution_count": 42,
     "metadata": {},
     "output_type": "execute_result"
    }
   ],
   "source": [
    "import glob2\n",
    "len(glob2.glob(savedir +'/**/t1.nii.gz'))"
   ]
  },
  {
   "cell_type": "code",
   "execution_count": 20,
   "metadata": {},
   "outputs": [],
   "source": [
    "paths = pd.read_csv('lgg_paths.csv')"
   ]
  },
  {
   "cell_type": "code",
   "execution_count": 88,
   "metadata": {},
   "outputs": [
    {
     "data": {
      "text/plain": [
       "['TCGA-02-0086',\n",
       " 'TCGA-02-0048',\n",
       " 'TCGA-02-0102',\n",
       " 'TCGA-02-0059',\n",
       " 'TCGA-02-0069',\n",
       " 'TCGA-19-2624',\n",
       " 'TCGA-06-0182',\n",
       " 'TCGA-08-0360',\n",
       " 'TCGA-06-0168',\n",
       " 'TCGA-02-0006',\n",
       " 'TCGA-19-2631',\n",
       " 'TCGA-06-0133',\n",
       " 'TCGA-12-1094',\n",
       " 'TCGA-12-1602',\n",
       " 'TCGA-06-2570',\n",
       " 'TCGA-06-0119',\n",
       " 'TCGA-06-0145',\n",
       " 'TCGA-08-0509',\n",
       " 'TCGA-06-0649',\n",
       " 'TCGA-06-5408',\n",
       " 'TCGA-02-0116',\n",
       " 'TCGA-06-0188',\n",
       " 'TCGA-76-6661',\n",
       " 'TCGA-02-0047',\n",
       " 'TCGA-12-3650',\n",
       " 'TCGA-08-0354',\n",
       " 'TCGA-02-0064',\n",
       " 'TCGA-08-0529',\n",
       " 'TCGA-14-1825',\n",
       " 'TCGA-06-0162',\n",
       " 'TCGA-06-0213',\n",
       " 'TCGA-02-0033',\n",
       " 'TCGA-08-0359',\n",
       " 'TCGA-06-0241',\n",
       " 'TCGA-08-0357',\n",
       " 'TCGA-02-0054',\n",
       " 'TCGA-06-0184',\n",
       " 'TCGA-08-0358',\n",
       " 'TCGA-12-1601',\n",
       " 'TCGA-06-5413',\n",
       " 'TCGA-14-1829',\n",
       " 'TCGA-76-6191',\n",
       " 'TCGA-02-0060',\n",
       " 'TCGA-02-0075',\n",
       " 'TCGA-06-0177',\n",
       " 'TCGA-06-5412',\n",
       " 'TCGA-06-0154',\n",
       " 'TCGA-08-0350',\n",
       " 'TCGA-08-0521',\n",
       " 'TCGA-06-0179',\n",
       " 'TCGA-19-5951',\n",
       " 'TCGA-12-1598',\n",
       " 'TCGA-14-0789',\n",
       " 'TCGA-12-0616',\n",
       " 'TCGA-02-0070',\n",
       " 'TCGA-06-1084',\n",
       " 'TCGA-12-0829',\n",
       " 'TCGA-76-4932',\n",
       " 'TCGA-02-0068',\n",
       " 'TCGA-76-6282',\n",
       " 'TCGA-27-1838',\n",
       " 'TCGA-08-0385',\n",
       " 'TCGA-08-0510',\n",
       " 'TCGA-12-1098',\n",
       " 'TCGA-08-0524',\n",
       " 'TCGA-08-0512',\n",
       " 'TCGA-08-0389',\n",
       " 'TCGA-14-1794',\n",
       " 'TCGA-19-1789',\n",
       " 'TCGA-02-0009',\n",
       " 'TCGA-06-0122',\n",
       " 'TCGA-08-0355',\n",
       " 'TCGA-06-6389',\n",
       " 'TCGA-06-0128',\n",
       " 'TCGA-06-0166',\n",
       " 'TCGA-06-0190',\n",
       " 'TCGA-27-2526',\n",
       " 'TCGA-06-0132',\n",
       " 'TCGA-06-0192',\n",
       " 'TCGA-02-0027',\n",
       " 'TCGA-06-0137',\n",
       " 'TCGA-12-0776',\n",
       " 'TCGA-76-6657',\n",
       " 'TCGA-06-0176',\n",
       " 'TCGA-08-0356',\n",
       " 'TCGA-76-6662',\n",
       " 'TCGA-08-0522',\n",
       " 'TCGA-06-1802',\n",
       " 'TCGA-19-5960',\n",
       " 'TCGA-08-0390',\n",
       " 'TCGA-14-1456',\n",
       " 'TCGA-06-0158',\n",
       " 'TCGA-CS-6669',\n",
       " 'TCGA-06-0139',\n",
       " 'TCGA-08-0353',\n",
       " 'TCGA-06-0238',\n",
       " 'TCGA-76-4935',\n",
       " 'TCGA-14-3477',\n",
       " 'TCGA-02-0106',\n",
       " 'TCGA-06-0644',\n",
       " 'TCGA-12-1093',\n",
       " 'TCGA-19-0963',\n",
       " 'TCGA-27-1834',\n",
       " 'TCGA-02-0003',\n",
       " 'TCGA-06-0175',\n",
       " 'TCGA-06-0187',\n",
       " 'TCGA-76-6664',\n",
       " 'TCGA-76-6663',\n",
       " 'TCGA-76-6285',\n",
       " 'TCGA-76-4934',\n",
       " 'TCGA-02-0087',\n",
       " 'TCGA-08-0392',\n",
       " 'TCGA-19-1390',\n",
       " 'TCGA-02-0085',\n",
       " 'TCGA-06-0185',\n",
       " 'TCGA-06-0130',\n",
       " 'TCGA-06-0240',\n",
       " 'TCGA-02-0034',\n",
       " 'TCGA-06-0149',\n",
       " 'TCGA-02-0011',\n",
       " 'TCGA-06-0138',\n",
       " 'TCGA-76-6280',\n",
       " 'TCGA-19-5954',\n",
       " 'TCGA-06-0189',\n",
       " 'TCGA-76-6193',\n",
       " 'TCGA-06-0164',\n",
       " 'TCGA-06-5417',\n",
       " 'TCGA-19-5958',\n",
       " 'TCGA-76-6656',\n",
       " 'TCGA-06-0646',\n",
       " 'TCGA-02-0046',\n",
       " 'TCGA-08-0352',\n",
       " 'TCGA-06-0142',\n",
       " 'TCGA-06-0648',\n",
       " 'TCGA-02-0037',\n",
       " 'TCGA-08-0520']"
      ]
     },
     "execution_count": 88,
     "metadata": {},
     "output_type": "execute_result"
    }
   ],
   "source": [
    "os.listdir('/anvar/public_datasets/tcia/training_data')"
   ]
  },
  {
   "cell_type": "code",
   "execution_count": 31,
   "metadata": {},
   "outputs": [],
   "source": [
    "basedir = '/anvar/public_datasets/tcia/'\n",
    "savedir = '/anvar/public_datasets/preproc_study/lgg/orig/'"
   ]
  },
  {
   "cell_type": "code",
   "execution_count": 25,
   "metadata": {},
   "outputs": [],
   "source": [
    "os.makedirs('/anvar/public_datasets/preproc_study/lgg/orig/')"
   ]
  },
  {
   "cell_type": "code",
   "execution_count": 33,
   "metadata": {
    "scrolled": true
   },
   "outputs": [
    {
     "name": "stdout",
     "output_type": "stream",
     "text": [
      "TCGA-DU-7019\n",
      "TCGA-DU-7302\n",
      "TCGA-DU-5852\n",
      "TCGA-DU-7014\n"
     ]
    },
    {
     "name": "stderr",
     "output_type": "stream",
     "text": [
      "Slice increment not consistent through all slices\n",
      "---------------------------------------------------------\n",
      "[-120.  105. -110.] [0. 0. 0.]\n",
      "[-120.  105. -104.] [ 0.  0. -6.]\n",
      "Instance Number: 6\n",
      "---------------------------------------------------------\n"
     ]
    },
    {
     "name": "stdout",
     "output_type": "stream",
     "text": [
      "SLICE_INCREMENT_INCONSISTENT\n",
      "problems TCGA-DU-7014\n",
      "TCGA-CS-6669\n",
      "TCGA-DU-6405\n"
     ]
    },
    {
     "name": "stderr",
     "output_type": "stream",
     "text": [
      "Slice increment not consistent through all slices\n",
      "---------------------------------------------------------\n",
      "[-120.  117.  -60.] [0. 0. 0.]\n",
      "[-120.  117.  -57.] [ 0.  0. -3.]\n",
      "Instance Number: 3\n",
      "---------------------------------------------------------\n"
     ]
    },
    {
     "name": "stdout",
     "output_type": "stream",
     "text": [
      "SLICE_INCREMENT_INCONSISTENT\n",
      "problems TCGA-DU-6405\n",
      "TCGA-DU-5851\n"
     ]
    },
    {
     "name": "stderr",
     "output_type": "stream",
     "text": [
      "/home/kate/miniconda3/lib/python3.9/site-packages/dicom2nifti/convert_ge.py:203: RuntimeWarning: invalid value encountered in true_divide\n",
      "  current_direction = current_direction / numpy.linalg.norm(current_direction)\n"
     ]
    },
    {
     "name": "stdout",
     "output_type": "stream",
     "text": [
      "NOT_A_VOLUME\n",
      "problems TCGA-DU-5851\n",
      "TCGA-DU-5854\n",
      "NOT_A_VOLUME\n",
      "problems TCGA-DU-5854\n",
      "TCGA-DU-6408\n"
     ]
    },
    {
     "name": "stderr",
     "output_type": "stream",
     "text": [
      "Slice increment not consistent through all slices\n",
      "---------------------------------------------------------\n",
      "[-120.  120.  -54.] [0. 0. 0.]\n",
      "[-120.  120.  -51.] [ 0.  0. -3.]\n",
      "Instance Number: 3\n",
      "---------------------------------------------------------\n"
     ]
    },
    {
     "name": "stdout",
     "output_type": "stream",
     "text": [
      "SLICE_INCREMENT_INCONSISTENT\n",
      "problems TCGA-DU-6408\n",
      "TCGA-DU-5874\n",
      "TCGA-CS-5396\n",
      "TCGA-DU-7306\n",
      "TCGA-CS-5393\n",
      "TCGA-DU-5849\n",
      "TCGA-DU-6402\n"
     ]
    },
    {
     "name": "stderr",
     "output_type": "stream",
     "text": [
      "Slice increment not consistent through all slices\n",
      "---------------------------------------------------------\n",
      "[-120.  126.  -47.] [0. 0. 0.]\n",
      "[-120.  126.  -44.] [ 0.  0. -3.]\n",
      "Instance Number: 2\n",
      "---------------------------------------------------------\n"
     ]
    },
    {
     "name": "stdout",
     "output_type": "stream",
     "text": [
      "SLICE_INCREMENT_INCONSISTENT\n",
      "problems TCGA-DU-6402\n",
      "TCGA-CS-6670\n",
      "TCGA-DU-5855\n",
      "TCGA-DU-6407\n",
      "TCGA-CS-4938\n"
     ]
    },
    {
     "name": "stderr",
     "output_type": "stream",
     "text": [
      "/home/kate/miniconda3/lib/python3.9/site-packages/dicom2nifti/convert_siemens.py:276: RuntimeWarning: invalid value encountered in true_divide\n",
      "  current_direction = current_direction / numpy.linalg.norm(current_direction)\n"
     ]
    },
    {
     "name": "stdout",
     "output_type": "stream",
     "text": [
      "NOT_A_VOLUME\n",
      "problems TCGA-CS-4938\n",
      "TCGA-CS-5390\n",
      "[Errno 2] No such file or directory: '/anvar/public_datasets/tcia/manifest-21CCx8fx964169794518489879/TCGA-LGG/TCGA-CS-5390/03-07-1996-BRAINSTRYKER-97078/5.000000-BRAINSTRYKERDIFFUSION-72204'\n",
      "problems TCGA-CS-5390\n",
      "TCGA-DU-7309\n",
      "TCGA-CS-6186\n",
      "TCGA-DU-7013\n",
      "NOT_A_VOLUME\n",
      "problems TCGA-DU-7013\n",
      "TCGA-DU-7015\n",
      "TCGA-CS-5395\n",
      "TCGA-CS-6666\n",
      "TCGA-CS-4943\n",
      "TCGA-CS-4941\n",
      "NOT_A_VOLUME\n",
      "problems TCGA-CS-4941\n",
      "TCGA-DU-8165\n",
      "TCGA-CS-6667\n",
      "TCGA-DU-5871\n",
      "TCGA-DU-7010\n",
      "NOT_A_VOLUME\n",
      "problems TCGA-DU-7010\n",
      "TCGA-DU-6400\n"
     ]
    },
    {
     "name": "stderr",
     "output_type": "stream",
     "text": [
      "Slice increment not consistent through all slices\n",
      "---------------------------------------------------------\n",
      "[-120.  120.  -84.] [0. 0. 0.]\n",
      "[-120.  120.  -81.] [ 0.  0. -3.]\n",
      "Instance Number: 3\n",
      "---------------------------------------------------------\n"
     ]
    },
    {
     "name": "stdout",
     "output_type": "stream",
     "text": [
      "SLICE_INCREMENT_INCONSISTENT\n",
      "problems TCGA-DU-6400\n",
      "TCGA-DU-7300\n",
      "TCGA-CS-6290\n",
      "TCGA-DU-8164\n",
      "TCGA-DU-7304\n",
      "TCGA-DU-8166\n",
      "TCGA-CS-6665\n",
      "TCGA-DU-7301\n",
      "TCGA-CS-4942\n",
      "[Errno 2] No such file or directory: '/anvar/public_datasets/tcia/manifest-25ZdsnMy5264093150469993200/TCGA-LGG/TCGA-CS-4942/TCGA-CS-4942/02-22-1997-MRI BRAIN WITHO-04689/401.000000-DUAL AX SE-07653'\n",
      "problems TCGA-CS-4942\n",
      "TCGA-DU-5872\n",
      "TCGA-DU-7298\n",
      "NOT_A_VOLUME\n",
      "problems TCGA-DU-7298\n",
      "TCGA-DU-5853\n",
      "TCGA-CS-5397\n",
      "TCGA-CS-5394\n",
      "TCGA-DU-7299\n",
      "TCGA-CS-4944\n",
      "TCGA-DU-6410\n",
      "NOT_A_VOLUME\n",
      "problems TCGA-DU-6410\n",
      "TCGA-DU-7294\n",
      "TCGA-DU-8162\n",
      "TCGA-CS-6668\n",
      "TCGA-DU-7008\n"
     ]
    },
    {
     "name": "stderr",
     "output_type": "stream",
     "text": [
      "Slice increment not consistent through all slices\n",
      "---------------------------------------------------------\n",
      "[-100.  100.  -63.] [0. 0. 0.]\n",
      "[-100.  100.  -60.] [ 0.  0. -3.]\n",
      "Instance Number: 3\n",
      "---------------------------------------------------------\n"
     ]
    },
    {
     "name": "stdout",
     "output_type": "stream",
     "text": [
      "SLICE_INCREMENT_INCONSISTENT\n",
      "problems TCGA-DU-7008\n",
      "TCGA-DU-A5TP\n",
      "TCGA-DU-6542\n",
      "TCGA-DU-8158\n",
      "NOT_A_VOLUME\n",
      "problems TCGA-DU-8158\n",
      "TCGA-DU-8167\n",
      "TCGA-CS-6188\n",
      "TCGA-DU-8163\n",
      "TCGA-DU-6401\n"
     ]
    },
    {
     "name": "stderr",
     "output_type": "stream",
     "text": [
      "Slice increment not consistent through all slices\n",
      "---------------------------------------------------------\n",
      "[-120.  130.  -70.] [0. 0. 0.]\n",
      "[-120.  130.  -67.] [ 0.  0. -3.]\n",
      "Instance Number: 3\n",
      "---------------------------------------------------------\n"
     ]
    },
    {
     "name": "stdout",
     "output_type": "stream",
     "text": [
      "SLICE_INCREMENT_INCONSISTENT\n",
      "problems TCGA-DU-6401\n",
      "TCGA-DU-6404\n"
     ]
    },
    {
     "name": "stderr",
     "output_type": "stream",
     "text": [
      "Slice increment not consistent through all slices\n",
      "---------------------------------------------------------\n",
      "[-120.  120.  -55.] [0. 0. 0.]\n",
      "[-120.  120.  -52.] [ 0.  0. -3.]\n",
      "Instance Number: 3\n",
      "---------------------------------------------------------\n"
     ]
    },
    {
     "name": "stdout",
     "output_type": "stream",
     "text": [
      "SLICE_INCREMENT_INCONSISTENT\n",
      "problems TCGA-DU-6404\n",
      "TCGA-DU-6397\n"
     ]
    },
    {
     "name": "stderr",
     "output_type": "stream",
     "text": [
      "Slice increment not consistent through all slices\n",
      "---------------------------------------------------------\n",
      "[-120.  127.  -82.] [0. 0. 0.]\n",
      "[-120.  127.  -79.] [ 0.  0. -3.]\n",
      "Instance Number: 3\n",
      "---------------------------------------------------------\n"
     ]
    },
    {
     "name": "stdout",
     "output_type": "stream",
     "text": [
      "SLICE_INCREMENT_INCONSISTENT\n",
      "problems TCGA-DU-6397\n",
      "TCGA-DU-6399\n"
     ]
    },
    {
     "name": "stderr",
     "output_type": "stream",
     "text": [
      "Slice increment not consistent through all slices\n",
      "---------------------------------------------------------\n",
      "[-120.  120.  -62.] [0. 0. 0.]\n",
      "[-120.  120.  -59.] [ 0.  0. -3.]\n",
      "Instance Number: 3\n",
      "---------------------------------------------------------\n"
     ]
    },
    {
     "name": "stdout",
     "output_type": "stream",
     "text": [
      "SLICE_INCREMENT_INCONSISTENT\n",
      "problems TCGA-DU-6399\n",
      "TCGA-DU-7018\n",
      "TCGA-DU-8168\n",
      "TCGA-DU-6395\n"
     ]
    },
    {
     "name": "stderr",
     "output_type": "stream",
     "text": [
      "Slice increment not consistent through all slices\n",
      "---------------------------------------------------------\n",
      "[-120.        120.        -72.300003] [0. 0. 0.]\n",
      "[-120.        120.        -69.300003] [ 0.  0. -3.]\n",
      "Instance Number: 003\n",
      "---------------------------------------------------------\n"
     ]
    },
    {
     "name": "stdout",
     "output_type": "stream",
     "text": [
      "SLICE_INCREMENT_INCONSISTENT\n",
      "problems TCGA-DU-6395\n"
     ]
    }
   ],
   "source": [
    "import dicom2nifti\n",
    "import dicom2nifti.settings as settings\n",
    "\n",
    "# dicom2nifti.settings.disable_validate_slicecount()\n",
    "\n",
    "for i in range(0, len(paths)):\n",
    "    print(paths['ID'].iloc[i])\n",
    "    try:\n",
    "        os.mkdir(savedir + paths['ID'].iloc[i])\n",
    "    except OSError as error:\n",
    "#         print(error) \n",
    "        pass\n",
    "    \n",
    "    try:\n",
    "        dicom2nifti.dicom_series_to_nifti(basedir + paths['FLAIR'].iloc[i][1:], \n",
    "                                          savedir + paths['ID'].iloc[i] + '/flair.nii.gz')\n",
    "        dicom2nifti.dicom_series_to_nifti(basedir + paths['T2'].iloc[i][1:], \n",
    "                                          savedir + paths['ID'].iloc[i] + '/t2.nii.gz')\n",
    "        dicom2nifti.dicom_series_to_nifti(basedir + paths['T1C'].iloc[i][1:], \n",
    "                                          savedir + paths['ID'].iloc[i] + '/t1c.nii.gz')\n",
    "        dicom2nifti.dicom_series_to_nifti(basedir + paths['T1'].iloc[i][1:], \n",
    "                                          savedir + paths['ID'].iloc[i] + '/t1.nii.gz')\n",
    "    except Exception as e:\n",
    "        print(e)\n",
    "        print('problems', paths['ID'].iloc[i]) \n",
    "        pass"
   ]
  },
  {
   "cell_type": "code",
   "execution_count": 11,
   "metadata": {},
   "outputs": [
    {
     "data": {
      "text/plain": [
       "['T2.nii.gz',\n",
       " 'FLAIR.nii.gz',\n",
       " 'CT1.json',\n",
       " 'FLAIRa.json',\n",
       " 'flair.nii.gz',\n",
       " 'T2a.nii.gz',\n",
       " 'T1.nii.gz',\n",
       " 't1.nii.gz',\n",
       " 'T2b.nii.gz',\n",
       " 'FLAIRb.nii.gz',\n",
       " 'T1a.nii.gz',\n",
       " 'T2.json',\n",
       " 'T1b.nii.gz',\n",
       " 'CT1a.nii.gz',\n",
       " 'T1.json',\n",
       " 'FLAIRa.nii.gz',\n",
       " 'T2c.nii.gz',\n",
       " 'CT1.nii.gz',\n",
       " 't2.nii.gz',\n",
       " 'FLAIR.json',\n",
       " 'T2a.json',\n",
       " 'CT1a.json',\n",
       " 't1c.nii.gz',\n",
       " 'CT1b.nii.gz',\n",
       " 'T1a.json']"
      ]
     },
     "execution_count": 11,
     "metadata": {},
     "output_type": "execute_result"
    }
   ],
   "source": [
    "os.listdir('/anvar/public_datasets/preproc_study/lgg/orig/TCGA-CS-6188')"
   ]
  },
  {
   "cell_type": "markdown",
   "metadata": {},
   "source": [
    "## Save GBM datasets"
   ]
  },
  {
   "cell_type": "code",
   "execution_count": 89,
   "metadata": {},
   "outputs": [],
   "source": [
    "paths = pd.read_csv('gbm_paths.csv')\n",
    "basedir = '/anvar/public_datasets/tcia/'\n",
    "savedir = '/anvar/public_datasets/preproc_study/gbm/orig/'\n",
    "# os.makedirs('/anvar/public_datasets/preproc_study/gbm/orig/')"
   ]
  },
  {
   "cell_type": "code",
   "execution_count": 38,
   "metadata": {},
   "outputs": [
    {
     "name": "stdout",
     "output_type": "stream",
     "text": [
      "TCGA-02-0034\n",
      "TCGA-06-0158\n"
     ]
    },
    {
     "name": "stderr",
     "output_type": "stream",
     "text": [
      "Slice increment not consistent through all slices\n",
      "---------------------------------------------------------\n",
      "[-120.  123.  -80.] [0. 0. 0.]\n",
      "[-120.  123.  -77.] [ 0.  0. -3.]\n",
      "Instance Number: 3\n",
      "---------------------------------------------------------\n"
     ]
    },
    {
     "name": "stdout",
     "output_type": "stream",
     "text": [
      "SLICE_INCREMENT_INCONSISTENT\n",
      "problems TCGA-06-0158\n",
      "TCGA-76-4934\n",
      "TCGA-06-0187\n"
     ]
    },
    {
     "name": "stderr",
     "output_type": "stream",
     "text": [
      "Slice increment not consistent through all slices\n",
      "---------------------------------------------------------\n",
      "[-119.0121918 -120.5853653  -98.9268341] [0. 0. 0.]\n",
      "[-119.0121918 -120.5853653  -93.9268341] [ 0.  0. -5.]\n",
      "Instance Number: 4\n",
      "---------------------------------------------------------\n"
     ]
    },
    {
     "name": "stdout",
     "output_type": "stream",
     "text": [
      "SLICE_INCREMENT_INCONSISTENT\n",
      "problems TCGA-06-0187\n",
      "TCGA-14-1829\n",
      "TCGA-08-0356\n",
      "TCGA-06-0137\n"
     ]
    },
    {
     "name": "stderr",
     "output_type": "stream",
     "text": [
      "Slice increment not consistent through all slices\n",
      "---------------------------------------------------------\n",
      "[-120.     -122.927   -73.1707] [0. 0. 0.]\n",
      "[-120.     -122.927   -70.1707] [ 0.  0. -3.]\n",
      "Instance Number: 3\n",
      "---------------------------------------------------------\n"
     ]
    },
    {
     "name": "stdout",
     "output_type": "stream",
     "text": [
      "SLICE_INCREMENT_INCONSISTENT\n",
      "problems TCGA-06-0137\n",
      "TCGA-06-0649\n",
      "TCGA-06-0646\n"
     ]
    },
    {
     "name": "stderr",
     "output_type": "stream",
     "text": [
      "Removing duplicate slice from series\n",
      "Removing duplicate slice from series\n",
      "Removing duplicate slice from series\n",
      "Removing duplicate slice from series\n",
      "Removing duplicate slice from series\n",
      "Removing duplicate slice from series\n",
      "Removing duplicate slice from series\n",
      "Removing duplicate slice from series\n",
      "Removing duplicate slice from series\n",
      "Removing duplicate slice from series\n",
      "Removing duplicate slice from series\n",
      "Removing duplicate slice from series\n",
      "Removing duplicate slice from series\n",
      "Removing duplicate slice from series\n",
      "Removing duplicate slice from series\n",
      "Removing duplicate slice from series\n",
      "Removing duplicate slice from series\n",
      "Removing duplicate slice from series\n",
      "Removing duplicate slice from series\n",
      "Removing duplicate slice from series\n",
      "Removing duplicate slice from series\n",
      "Removing duplicate slice from series\n",
      "Removing duplicate slice from series\n",
      "Removing duplicate slice from series\n",
      "Removing duplicate slice from series\n",
      "Removing duplicate slice from series\n",
      "Removing duplicate slice from series\n",
      "Removing duplicate slice from series\n",
      "Removing duplicate slice from series\n",
      "Removing duplicate slice from series\n",
      "Removing duplicate slice from series\n",
      "Removing duplicate slice from series\n",
      "Removing duplicate slice from series\n",
      "Removing duplicate slice from series\n",
      "Removing duplicate slice from series\n",
      "Removing duplicate slice from series\n",
      "Removing duplicate slice from series\n",
      "Removing duplicate slice from series\n",
      "Removing duplicate slice from series\n",
      "Removing duplicate slice from series\n",
      "Removing duplicate slice from series\n",
      "Removing duplicate slice from series\n",
      "Removing duplicate slice from series\n",
      "Removing duplicate slice from series\n",
      "Removing duplicate slice from series\n",
      "Removing duplicate slice from series\n",
      "Removing duplicate slice from series\n",
      "Removing duplicate slice from series\n",
      "Removing duplicate slice from series\n",
      "Removing duplicate slice from series\n",
      "Removing duplicate slice from series\n",
      "Removing duplicate slice from series\n",
      "Removing duplicate slice from series\n",
      "Removing duplicate slice from series\n",
      "Removing duplicate slice from series\n",
      "Removing duplicate slice from series\n",
      "Removing duplicate slice from series\n",
      "Removing duplicate slice from series\n",
      "Removing duplicate slice from series\n",
      "Removing duplicate slice from series\n",
      "Removing duplicate slice from series\n",
      "Removing duplicate slice from series\n",
      "Removing duplicate slice from series\n",
      "Removing duplicate slice from series\n",
      "Removing duplicate slice from series\n",
      "Removing duplicate slice from series\n",
      "Removing duplicate slice from series\n",
      "Removing duplicate slice from series\n",
      "Removing duplicate slice from series\n",
      "Removing duplicate slice from series\n",
      "Removing duplicate slice from series\n",
      "Removing duplicate slice from series\n"
     ]
    },
    {
     "name": "stdout",
     "output_type": "stream",
     "text": [
      "TCGA-02-0069\n",
      "TCGA-06-0241\n",
      "TCGA-06-0192\n",
      "TCGA-12-1094\n",
      "TCGA-76-4932\n",
      "TCGA-12-0776\n",
      "TCGA-08-0350\n",
      "TCGA-02-0086\n",
      "TCGA-19-1390\n",
      "TCGA-02-0009\n",
      "TCGA-06-5412\n",
      "TCGA-08-0359\n",
      "TCGA-02-0048\n",
      "TCGA-06-5417\n",
      "TCGA-19-2624\n",
      "TCGA-12-0829\n",
      "TCGA-02-0075\n",
      "The length of the pixel data in the dataset (30512 bytes) doesn't match the expected length (131072 bytes). The dataset may be corrupted or there may be an issue with the pixel data handler.\n",
      "problems TCGA-02-0075\n",
      "TCGA-19-2631\n",
      "TCGA-06-0175\n"
     ]
    },
    {
     "name": "stderr",
     "output_type": "stream",
     "text": [
      "Slice increment not consistent through all slices\n",
      "---------------------------------------------------------\n",
      "[-120.     -118.829   -90.7317] [0. 0. 0.]\n",
      "[-120.     -118.829   -87.7317] [ 0.  0. -3.]\n",
      "Instance Number: 3\n",
      "---------------------------------------------------------\n"
     ]
    },
    {
     "name": "stdout",
     "output_type": "stream",
     "text": [
      "SLICE_INCREMENT_INCONSISTENT\n",
      "problems TCGA-06-0175\n",
      "TCGA-02-0011\n",
      "TCGA-76-6657\n",
      "TCGA-12-1093\n",
      "TCGA-08-0512\n",
      "TCGA-12-3650\n",
      "TCGA-06-0240\n"
     ]
    },
    {
     "name": "stderr",
     "output_type": "stream",
     "text": [
      "Slice increment not consistent through all slices\n",
      "---------------------------------------------------------\n",
      "[-123.5609741 -142.2926788  -98.9268341] [0. 0. 0.]\n",
      "[-123.5609741 -142.2926788  -93.9268341] [ 0.  0. -5.]\n",
      "Instance Number: 4\n",
      "---------------------------------------------------------\n"
     ]
    },
    {
     "name": "stdout",
     "output_type": "stream",
     "text": [
      "SLICE_INCREMENT_INCONSISTENT\n",
      "problems TCGA-06-0240\n",
      "TCGA-06-0122\n",
      "TCGA-08-0390\n",
      "TCGA-08-0521\n",
      "TCGA-08-0352\n",
      "TCGA-02-0060\n",
      "TCGA-06-5413\n",
      "TCGA-08-0354\n",
      "TCGA-02-0059\n",
      "TCGA-06-0238\n",
      "TCGA-12-1098\n",
      "TCGA-06-0162\n"
     ]
    },
    {
     "name": "stderr",
     "output_type": "stream",
     "text": [
      "Slice increment not consistent through all slices\n",
      "---------------------------------------------------------\n",
      "[-120.  120.  -64.] [0. 0. 0.]\n",
      "[-120.  120.  -61.] [ 0.  0. -3.]\n",
      "Instance Number: 3\n",
      "---------------------------------------------------------\n"
     ]
    },
    {
     "name": "stdout",
     "output_type": "stream",
     "text": [
      "SLICE_INCREMENT_INCONSISTENT\n",
      "problems TCGA-06-0162\n",
      "TCGA-06-0184\n"
     ]
    },
    {
     "name": "stderr",
     "output_type": "stream",
     "text": [
      "Slice increment not consistent through all slices\n",
      "---------------------------------------------------------\n",
      "[-114.263  -124.799   -93.0734] [0. 0. 0.]\n",
      "[-114.263  -124.799   -88.0734] [ 0.  0. -5.]\n",
      "Instance Number: 4\n",
      "---------------------------------------------------------\n"
     ]
    },
    {
     "name": "stdout",
     "output_type": "stream",
     "text": [
      "SLICE_INCREMENT_INCONSISTENT\n",
      "problems TCGA-06-0184\n",
      "TCGA-14-0789\n",
      "TCGA-08-0358\n",
      "TCGA-06-1084\n"
     ]
    },
    {
     "name": "stderr",
     "output_type": "stream",
     "text": [
      "Slice increment not consistent through all slices\n",
      "---------------------------------------------------------\n",
      "[-119.531  -132.994   -83.1222] [0. 0. 0.]\n",
      "[-119.531  -132.994   -78.1222] [ 0.  0. -5.]\n",
      "Instance Number: 4\n",
      "---------------------------------------------------------\n"
     ]
    },
    {
     "name": "stdout",
     "output_type": "stream",
     "text": [
      "SLICE_INCREMENT_INCONSISTENT\n",
      "problems TCGA-06-1084\n",
      "TCGA-02-0033\n",
      "TCGA-08-0392\n",
      "TCGA-76-6663\n",
      "TCGA-76-4935\n",
      "TCGA-08-0509\n",
      "TCGA-06-0190\n"
     ]
    },
    {
     "name": "stderr",
     "output_type": "stream",
     "text": [
      "Slice increment not consistent through all slices\n",
      "---------------------------------------------------------\n",
      "[-122.3414612 -113.5609741  -94.2439041] [0. 0. 0.]\n",
      "[-122.3414612 -113.5609741  -89.2439041] [ 0.  0. -5.]\n",
      "Instance Number: 4\n",
      "---------------------------------------------------------\n"
     ]
    },
    {
     "name": "stdout",
     "output_type": "stream",
     "text": [
      "SLICE_INCREMENT_INCONSISTENT\n",
      "problems TCGA-06-0190\n",
      "TCGA-06-0176\n"
     ]
    },
    {
     "name": "stderr",
     "output_type": "stream",
     "text": [
      "Slice increment not consistent through all slices\n",
      "---------------------------------------------------------\n",
      "[-120.585  -106.537   -52.6829] [0. 0. 0.]\n",
      "[-120.585  -106.537   -49.6829] [ 0.  0. -3.]\n",
      "Instance Number: 3\n",
      "---------------------------------------------------------\n"
     ]
    },
    {
     "name": "stdout",
     "output_type": "stream",
     "text": [
      "SLICE_INCREMENT_INCONSISTENT\n",
      "problems TCGA-06-0176\n",
      "TCGA-02-0102\n",
      "TCGA-02-0003\n",
      "TCGA-19-5958\n",
      "TCGA-02-0070\n",
      "TCGA-06-0166\n"
     ]
    },
    {
     "name": "stderr",
     "output_type": "stream",
     "text": [
      "Slice increment not consistent through all slices\n",
      "---------------------------------------------------------\n",
      "[-120.  120.  -90.] [0. 0. 0.]\n",
      "[-120.  120.  -87.] [ 0.  0. -3.]\n",
      "Instance Number: 3\n",
      "---------------------------------------------------------\n"
     ]
    },
    {
     "name": "stdout",
     "output_type": "stream",
     "text": [
      "SLICE_INCREMENT_INCONSISTENT\n",
      "problems TCGA-06-0166\n",
      "TCGA-08-0510\n",
      "TCGA-14-1794\n",
      "TCGA-06-1802\n",
      "TCGA-12-1598\n",
      "TCGA-76-6656\n",
      "TCGA-08-0353\n",
      "TCGA-76-6282\n",
      "TCGA-06-0185\n"
     ]
    },
    {
     "name": "stderr",
     "output_type": "stream",
     "text": [
      "Slice increment not consistent through all slices\n",
      "---------------------------------------------------------\n",
      "[-117.3658524 -120.         -76.9024353] [0. 0. 0.]\n",
      "[-117.3658524 -120.         -71.9024353] [ 0.  0. -5.]\n",
      "Instance Number: 4\n",
      "---------------------------------------------------------\n"
     ]
    },
    {
     "name": "stdout",
     "output_type": "stream",
     "text": [
      "SLICE_INCREMENT_INCONSISTENT\n",
      "problems TCGA-06-0185\n",
      "TCGA-06-0648\n"
     ]
    },
    {
     "name": "stderr",
     "output_type": "stream",
     "text": [
      "Slice increment not consistent through all slices\n",
      "---------------------------------------------------------\n",
      "[-116.266 -161.366  -44.1  ] [ 0.   0.  -2.5]\n",
      "[-116.266 -161.366  -39.1  ] [ 0.  0. -5.]\n",
      "Instance Number: 5\n",
      "---------------------------------------------------------\n"
     ]
    },
    {
     "name": "stdout",
     "output_type": "stream",
     "text": [
      "SLICE_INCREMENT_INCONSISTENT\n",
      "problems TCGA-06-0648\n",
      "TCGA-06-0189\n",
      "TCGA-06-0138\n",
      "TCGA-02-0085\n",
      "TCGA-08-0529\n",
      "TCGA-19-1789\n",
      "TCGA-06-0213\n"
     ]
    },
    {
     "name": "stderr",
     "output_type": "stream",
     "text": [
      "Slice increment not consistent through all slices\n",
      "---------------------------------------------------------\n",
      "[-120.  120.  -69.] [0. 0. 0.]\n",
      "[-120.  120.  -66.] [ 0.  0. -3.]\n",
      "Instance Number: 3\n",
      "---------------------------------------------------------\n"
     ]
    },
    {
     "name": "stdout",
     "output_type": "stream",
     "text": [
      "SLICE_INCREMENT_INCONSISTENT\n",
      "problems TCGA-06-0213\n",
      "TCGA-06-0128\n"
     ]
    },
    {
     "name": "stderr",
     "output_type": "stream",
     "text": [
      "Slice increment not consistent through all slices\n",
      "---------------------------------------------------------\n",
      "[-120.  120.  -66.] [0. 0. 0.]\n",
      "[-120.  120.  -63.] [ 0.  0. -3.]\n",
      "Instance Number: 3\n",
      "---------------------------------------------------------\n"
     ]
    },
    {
     "name": "stdout",
     "output_type": "stream",
     "text": [
      "SLICE_INCREMENT_INCONSISTENT\n",
      "problems TCGA-06-0128\n",
      "TCGA-06-6389\n",
      "TCGA-02-0027\n",
      "TCGA-14-1825\n",
      "TCGA-76-6661\n",
      "TCGA-14-1456\n",
      "TCGA-06-0133\n",
      "TCGA-06-2570\n",
      "TCGA-06-0164\n"
     ]
    },
    {
     "name": "stderr",
     "output_type": "stream",
     "text": [
      "Slice increment not consistent through all slices\n",
      "---------------------------------------------------------\n",
      "[-120. -107.  -69.] [0. 0. 0.]\n",
      "[-120. -107.  -66.] [ 0.  0. -3.]\n",
      "Instance Number: 3\n",
      "---------------------------------------------------------\n"
     ]
    },
    {
     "name": "stdout",
     "output_type": "stream",
     "text": [
      "SLICE_INCREMENT_INCONSISTENT\n",
      "problems TCGA-06-0164\n",
      "TCGA-02-0047\n",
      "TCGA-02-0037\n",
      "TCGA-02-0106\n",
      "TCGA-08-0520\n",
      "TCGA-08-0355\n",
      "TCGA-76-6280\n"
     ]
    },
    {
     "name": "stderr",
     "output_type": "stream",
     "text": [
      "Slice increment not consistent through all slices\n",
      "---------------------------------------------------------\n",
      "[-106.845001   -120.1715226   -85.50410461] [0. 0. 0.]\n",
      "[-106.845001   -120.1715226   -78.00410461] [ 0.   0.  -7.5]\n",
      "Instance Number: 4\n",
      "---------------------------------------------------------\n"
     ]
    },
    {
     "name": "stdout",
     "output_type": "stream",
     "text": [
      "SLICE_INCREMENT_INCONSISTENT\n",
      "problems TCGA-76-6280\n",
      "TCGA-19-5960\n",
      "TCGA-76-6285\n",
      "TCGA-76-6664\n",
      "TCGA-02-0087\n",
      "TCGA-76-6193\n",
      "TCGA-19-0963\n",
      "TCGA-08-0389\n",
      "TCGA-12-0616\n",
      "TCGA-02-0054\n",
      "TCGA-14-3477\n",
      "TCGA-08-0385\n",
      "TCGA-06-0119\n"
     ]
    },
    {
     "name": "stderr",
     "output_type": "stream",
     "text": [
      "Slice increment not consistent through all slices\n",
      "---------------------------------------------------------\n",
      "[-120.18293   -120.5853653  -91.31707  ] [0. 0. 0.]\n",
      "[-120.18293   -120.5853653  -86.31707  ] [ 0.  0. -5.]\n",
      "Instance Number: 4\n",
      "---------------------------------------------------------\n"
     ]
    },
    {
     "name": "stdout",
     "output_type": "stream",
     "text": [
      "SLICE_INCREMENT_INCONSISTENT\n",
      "problems TCGA-06-0119\n",
      "TCGA-06-0149\n",
      "TCGA-08-0357\n",
      "TCGA-06-0168\n"
     ]
    },
    {
     "name": "stderr",
     "output_type": "stream",
     "text": [
      "Slice increment not consistent through all slices\n",
      "---------------------------------------------------------\n",
      "[-127.699997 -112.5       -61.299999] [0. 0. 0.]\n",
      "[-127.699997 -112.5       -58.299999] [ 0.  0. -3.]\n",
      "Instance Number: 3\n",
      "---------------------------------------------------------\n"
     ]
    },
    {
     "name": "stdout",
     "output_type": "stream",
     "text": [
      "SLICE_INCREMENT_INCONSISTENT\n",
      "problems TCGA-06-0168\n",
      "TCGA-06-0644\n",
      "TCGA-08-0524\n",
      "TCGA-08-0360\n",
      "TCGA-06-0179\n",
      "TCGA-02-0006\n",
      "TCGA-06-5408\n"
     ]
    },
    {
     "name": "stderr",
     "output_type": "stream",
     "text": [
      "Slice increment not consistent through all slices\n",
      "---------------------------------------------------------\n",
      "[-129.043  -119.534   -77.3609] [0. 0. 0.]\n",
      "[-129.043  -119.534   -72.3609] [ 0.  0. -5.]\n",
      "Instance Number: 4\n",
      "---------------------------------------------------------\n"
     ]
    },
    {
     "name": "stdout",
     "output_type": "stream",
     "text": [
      "SLICE_INCREMENT_INCONSISTENT\n",
      "problems TCGA-06-5408\n",
      "TCGA-06-0142\n"
     ]
    },
    {
     "name": "stderr",
     "output_type": "stream",
     "text": [
      "Slice increment not consistent through all slices\n",
      "---------------------------------------------------------\n",
      "[-125.300003 -129.399994  -92.099998] [0. 0. 0.]\n",
      "[-125.300003 -129.399994  -89.099998] [ 0.  0. -3.]\n",
      "Instance Number: 3\n",
      "---------------------------------------------------------\n"
     ]
    },
    {
     "name": "stdout",
     "output_type": "stream",
     "text": [
      "SLICE_INCREMENT_INCONSISTENT\n",
      "problems TCGA-06-0142\n",
      "TCGA-27-1834\n",
      "TCGA-19-5954\n",
      "TCGA-76-6191\n",
      "TCGA-06-0132\n"
     ]
    },
    {
     "name": "stderr",
     "output_type": "stream",
     "text": [
      "Slice increment not consistent through all slices\n",
      "---------------------------------------------------------\n",
      "[-114.7317047 -121.7560959  -79.0243912] [0. 0. 0.]\n",
      "[-114.7317047 -121.7560959  -74.0243912] [ 0.  0. -5.]\n",
      "Instance Number: 4\n",
      "---------------------------------------------------------\n"
     ]
    },
    {
     "name": "stdout",
     "output_type": "stream",
     "text": [
      "SLICE_INCREMENT_INCONSISTENT\n",
      "problems TCGA-06-0132\n",
      "TCGA-06-0145\n",
      "NOT_A_VOLUME\n",
      "problems TCGA-06-0145\n",
      "TCGA-06-0130\n"
     ]
    },
    {
     "name": "stderr",
     "output_type": "stream",
     "text": [
      "Slice increment not consistent through all slices\n",
      "---------------------------------------------------------\n",
      "[-120.  127.    9.] [ 0.  0. -3.]\n",
      "[-120.  127.   15.] [ 0.  0. -6.]\n",
      "Instance Number: 036\n",
      "---------------------------------------------------------\n"
     ]
    },
    {
     "name": "stdout",
     "output_type": "stream",
     "text": [
      "TCGA-06-0154\n",
      "SLICE_INCREMENT_INCONSISTENT\n",
      "problems TCGA-06-0154\n",
      "TCGA-02-0116\n",
      "TCGA-02-0064\n",
      "TCGA-12-1602\n",
      "TCGA-19-5951\n",
      "TCGA-76-6662\n",
      "TCGA-12-1601\n",
      "TCGA-06-0182\n",
      "NOT_A_VOLUME\n",
      "problems TCGA-06-0182\n",
      "TCGA-02-0046\n",
      "TCGA-08-0522\n",
      "TCGA-06-0139\n",
      "TCGA-27-1838\n",
      "TCGA-06-0188\n"
     ]
    },
    {
     "name": "stderr",
     "output_type": "stream",
     "text": [
      "Slice increment not consistent through all slices\n",
      "---------------------------------------------------------\n",
      "[-126.0365906 -118.8292694  -77.2195129] [0. 0. 0.]\n",
      "[-126.0365906 -118.8292694  -72.2195129] [ 0.  0. -5.]\n",
      "Instance Number: 4\n",
      "---------------------------------------------------------\n"
     ]
    },
    {
     "name": "stdout",
     "output_type": "stream",
     "text": [
      "SLICE_INCREMENT_INCONSISTENT\n",
      "problems TCGA-06-0188\n",
      "TCGA-06-0177\n"
     ]
    },
    {
     "name": "stderr",
     "output_type": "stream",
     "text": [
      "Slice increment not consistent through all slices\n",
      "---------------------------------------------------------\n",
      "[-119.531  -134.165   -86.6344] [0. 0. 0.]\n",
      "[-119.531  -134.165   -81.6344] [ 0.  0. -5.]\n",
      "Instance Number: 4\n",
      "---------------------------------------------------------\n"
     ]
    },
    {
     "name": "stdout",
     "output_type": "stream",
     "text": [
      "SLICE_INCREMENT_INCONSISTENT\n",
      "problems TCGA-06-0177\n",
      "TCGA-27-2526\n",
      "TCGA-02-0068\n"
     ]
    }
   ],
   "source": [
    "dicom2nifti.settings.disable_validate_slicecount()\n",
    "\n",
    "for i in range(0, len(paths)):\n",
    "    print(paths['ID'].iloc[i])\n",
    "    try:\n",
    "        os.mkdir(savedir + paths['ID'].iloc[i])\n",
    "    except OSError as error:\n",
    "#         print(error) \n",
    "        pass\n",
    "    \n",
    "    try:\n",
    "      \n",
    "        dicom2nifti.dicom_series_to_nifti(basedir + paths['T1C'].iloc[i][1:], \n",
    "                                          savedir + paths['ID'].iloc[i] + '/t1c.nii.gz')\n",
    "        dicom2nifti.dicom_series_to_nifti(basedir + paths['T1'].iloc[i][1:], \n",
    "                                          savedir + paths['ID'].iloc[i] + '/t1.nii.gz')\n",
    "        dicom2nifti.dicom_series_to_nifti(basedir + paths['FLAIR'].iloc[i][1:], \n",
    "                                          savedir + paths['ID'].iloc[i] + '/flair.nii.gz')\n",
    "        dicom2nifti.dicom_series_to_nifti(basedir + paths['T2'].iloc[i][1:], \n",
    "                                          savedir + paths['ID'].iloc[i] + '/t2.nii.gz')\n",
    "    except Exception as e:\n",
    "        print(e)\n",
    "        print('problems', paths['ID'].iloc[i]) \n",
    "        pass"
   ]
  },
  {
   "cell_type": "markdown",
   "metadata": {},
   "source": [
    "## Lets see the dimentions"
   ]
  },
  {
   "cell_type": "code",
   "execution_count": null,
   "metadata": {},
   "outputs": [],
   "source": [
    "list_patients = paths['ID']\n",
    "list_patients[0]"
   ]
  },
  {
   "cell_type": "code",
   "execution_count": 55,
   "metadata": {},
   "outputs": [
    {
     "name": "stdout",
     "output_type": "stream",
     "text": [
      "File /anvar/public_datasets/preproc_study/gbm/orig/TCGA-06-0158/t1.nii.gz does not exist!\n",
      "File /anvar/public_datasets/preproc_study/gbm/orig/TCGA-06-0187/t1.nii.gz does not exist!\n",
      "File /anvar/public_datasets/preproc_study/gbm/orig/TCGA-06-0137/t1.nii.gz does not exist!\n",
      "/build100/ANTsPy/itksource/Modules/IO/NIFTI/src/itkNiftiImageIO.cxx:1972:\n",
      "itk::ERROR: ITK only supports orthonormal direction cosines.  No orthonormal definition found!\n",
      "File /anvar/public_datasets/preproc_study/gbm/orig/TCGA-02-0075/t1.nii.gz does not exist!\n",
      "File /anvar/public_datasets/preproc_study/gbm/orig/TCGA-06-0175/t1.nii.gz does not exist!\n",
      "File /anvar/public_datasets/preproc_study/gbm/orig/TCGA-06-0240/t1.nii.gz does not exist!\n",
      "File /anvar/public_datasets/preproc_study/gbm/orig/TCGA-06-0162/t1.nii.gz does not exist!\n",
      "File /anvar/public_datasets/preproc_study/gbm/orig/TCGA-06-0184/t1.nii.gz does not exist!\n",
      "/build100/ANTsPy/itksource/Modules/IO/NIFTI/src/itkNiftiImageIO.cxx:1972:\n",
      "itk::ERROR: ITK only supports orthonormal direction cosines.  No orthonormal definition found!\n",
      "File /anvar/public_datasets/preproc_study/gbm/orig/TCGA-06-1084/t1.nii.gz does not exist!\n",
      "File /anvar/public_datasets/preproc_study/gbm/orig/TCGA-06-0190/t1.nii.gz does not exist!\n",
      "File /anvar/public_datasets/preproc_study/gbm/orig/TCGA-06-0176/t1.nii.gz does not exist!\n",
      "File /anvar/public_datasets/preproc_study/gbm/orig/TCGA-06-0166/t1.nii.gz does not exist!\n",
      "File /anvar/public_datasets/preproc_study/gbm/orig/TCGA-06-0185/t1.nii.gz does not exist!\n",
      "File /anvar/public_datasets/preproc_study/gbm/orig/TCGA-06-0648/t1.nii.gz does not exist!\n",
      "File /anvar/public_datasets/preproc_study/gbm/orig/TCGA-06-0213/t1.nii.gz does not exist!\n",
      "File /anvar/public_datasets/preproc_study/gbm/orig/TCGA-06-0128/t1.nii.gz does not exist!\n",
      "File /anvar/public_datasets/preproc_study/gbm/orig/TCGA-06-0164/t1.nii.gz does not exist!\n",
      "File /anvar/public_datasets/preproc_study/gbm/orig/TCGA-76-6280/t1.nii.gz does not exist!\n",
      "File /anvar/public_datasets/preproc_study/gbm/orig/TCGA-06-0119/t1.nii.gz does not exist!\n",
      "File /anvar/public_datasets/preproc_study/gbm/orig/TCGA-06-0168/t1.nii.gz does not exist!\n",
      "File /anvar/public_datasets/preproc_study/gbm/orig/TCGA-06-5408/t1.nii.gz does not exist!\n",
      "File /anvar/public_datasets/preproc_study/gbm/orig/TCGA-06-0142/t1.nii.gz does not exist!\n",
      "File /anvar/public_datasets/preproc_study/gbm/orig/TCGA-06-0132/t1.nii.gz does not exist!\n",
      "File /anvar/public_datasets/preproc_study/gbm/orig/TCGA-06-0145/t1.nii.gz does not exist!\n",
      "File /anvar/public_datasets/preproc_study/gbm/orig/TCGA-06-0154/t1.nii.gz does not exist!\n",
      "File /anvar/public_datasets/preproc_study/gbm/orig/TCGA-06-0182/t1.nii.gz does not exist!\n",
      "File /anvar/public_datasets/preproc_study/gbm/orig/TCGA-06-0188/t1.nii.gz does not exist!\n",
      "File /anvar/public_datasets/preproc_study/gbm/orig/TCGA-06-0177/t1.nii.gz does not exist!\n"
     ]
    }
   ],
   "source": [
    "import numpy as np\n",
    "import ants\n",
    "\n",
    "sizes_frame = pd.DataFrame(columns = ['id','t1_x', 't1_y', 't1_z', 't1c_x', 't1c_y', 't1c_z'])\n",
    "\n",
    "for i in list_patients:\n",
    "    try:\n",
    "        t1_size = np.shape(ants.image_read(savedir + i + '/t1.nii.gz').numpy())\n",
    "        t1c_size = np.shape(ants.image_read(savedir + i + '/t1c.nii.gz').numpy())\n",
    "        sizes_frame = sizes_frame.append(\n",
    "        {'id': i,\n",
    "        't1_x':t1_size[0],\n",
    "        't1_y':t1_size[1],\n",
    "        't1_z':t1_size[2],\n",
    "        't1c_x':t1c_size[0],\n",
    "        't1c_y':t1c_size[1],\n",
    "        't1c_z':t1c_size[2]}, ignore_index=True\n",
    "        )\n",
    "    except Exception as e:\n",
    "        print(e)\n",
    "        pass"
   ]
  },
  {
   "cell_type": "code",
   "execution_count": 54,
   "metadata": {},
   "outputs": [
    {
     "data": {
      "text/plain": [
       "['flair.nii.gz']"
      ]
     },
     "execution_count": 54,
     "metadata": {},
     "output_type": "execute_result"
    }
   ],
   "source": [
    "os.listdir('/anvar/public_datasets/preproc_study/gbm/orig/TCGA-06-0168/')"
   ]
  },
  {
   "cell_type": "markdown",
   "metadata": {},
   "source": [
    "### Collecting paths"
   ]
  },
  {
   "cell_type": "code",
   "execution_count": 56,
   "metadata": {},
   "outputs": [],
   "source": [
    "paths = pd.read_csv('gbm_paths.csv')\n",
    "basedir = '/anvar/public_datasets/tcia/'\n",
    "savedir = '/anvar/public_datasets/preproc_study/gbm/dicom/'\n",
    "os.makedirs('/anvar/public_datasets/preproc_study/gbm/dicom/')"
   ]
  },
  {
   "cell_type": "code",
   "execution_count": 58,
   "metadata": {},
   "outputs": [
    {
     "name": "stdout",
     "output_type": "stream",
     "text": [
      "TCGA-02-0034\n",
      "[Errno 17] File exists: '/anvar/public_datasets/tcia/CGA-02-0034'\n",
      "TCGA-06-0158\n",
      "[Errno 17] File exists: '/anvar/public_datasets/tcia/CGA-06-0158'\n",
      "TCGA-76-4934\n",
      "[Errno 17] File exists: '/anvar/public_datasets/tcia/CGA-76-4934'\n",
      "TCGA-06-0187\n",
      "[Errno 17] File exists: '/anvar/public_datasets/tcia/CGA-06-0187'\n",
      "TCGA-14-1829\n",
      "[Errno 17] File exists: '/anvar/public_datasets/tcia/CGA-14-1829'\n",
      "TCGA-08-0356\n",
      "[Errno 17] File exists: '/anvar/public_datasets/tcia/CGA-08-0356'\n",
      "TCGA-06-0137\n",
      "[Errno 17] File exists: '/anvar/public_datasets/tcia/CGA-06-0137'\n",
      "TCGA-06-0649\n",
      "[Errno 17] File exists: '/anvar/public_datasets/tcia/CGA-06-0649'\n",
      "TCGA-06-0646\n",
      "[Errno 17] File exists: '/anvar/public_datasets/tcia/CGA-06-0646'\n",
      "TCGA-02-0069\n",
      "[Errno 17] File exists: '/anvar/public_datasets/tcia/CGA-02-0069'\n",
      "TCGA-06-0241\n",
      "[Errno 17] File exists: '/anvar/public_datasets/tcia/CGA-06-0241'\n",
      "TCGA-06-0192\n",
      "[Errno 17] File exists: '/anvar/public_datasets/tcia/CGA-06-0192'\n",
      "TCGA-12-1094\n",
      "[Errno 17] File exists: '/anvar/public_datasets/tcia/CGA-12-1094'\n",
      "TCGA-76-4932\n",
      "[Errno 17] File exists: '/anvar/public_datasets/tcia/CGA-76-4932'\n",
      "TCGA-12-0776\n",
      "[Errno 17] File exists: '/anvar/public_datasets/tcia/CGA-12-0776'\n",
      "TCGA-08-0350\n",
      "[Errno 17] File exists: '/anvar/public_datasets/tcia/CGA-08-0350'\n",
      "TCGA-02-0086\n",
      "[Errno 17] File exists: '/anvar/public_datasets/tcia/CGA-02-0086'\n",
      "TCGA-19-1390\n",
      "[Errno 17] File exists: '/anvar/public_datasets/tcia/CGA-19-1390'\n",
      "TCGA-02-0009\n",
      "[Errno 17] File exists: '/anvar/public_datasets/tcia/CGA-02-0009'\n",
      "TCGA-06-5412\n",
      "[Errno 17] File exists: '/anvar/public_datasets/tcia/CGA-06-5412'\n",
      "TCGA-08-0359\n",
      "[Errno 17] File exists: '/anvar/public_datasets/tcia/CGA-08-0359'\n",
      "TCGA-02-0048\n",
      "[Errno 17] File exists: '/anvar/public_datasets/tcia/CGA-02-0048'\n",
      "TCGA-06-5417\n",
      "[Errno 17] File exists: '/anvar/public_datasets/tcia/CGA-06-5417'\n",
      "TCGA-19-2624\n",
      "[Errno 17] File exists: '/anvar/public_datasets/tcia/CGA-19-2624'\n",
      "TCGA-12-0829\n",
      "[Errno 17] File exists: '/anvar/public_datasets/tcia/CGA-12-0829'\n",
      "TCGA-02-0075\n",
      "[Errno 17] File exists: '/anvar/public_datasets/tcia/CGA-02-0075'\n",
      "TCGA-19-2631\n",
      "[Errno 17] File exists: '/anvar/public_datasets/tcia/CGA-19-2631'\n",
      "TCGA-06-0175\n",
      "[Errno 17] File exists: '/anvar/public_datasets/tcia/CGA-06-0175'\n",
      "TCGA-02-0011\n",
      "[Errno 17] File exists: '/anvar/public_datasets/tcia/CGA-02-0011'\n",
      "TCGA-76-6657\n",
      "[Errno 17] File exists: '/anvar/public_datasets/tcia/CGA-76-6657'\n",
      "TCGA-12-1093\n",
      "[Errno 17] File exists: '/anvar/public_datasets/tcia/CGA-12-1093'\n",
      "TCGA-08-0512\n",
      "[Errno 17] File exists: '/anvar/public_datasets/tcia/CGA-08-0512'\n",
      "TCGA-12-3650\n",
      "TCGA-06-0240\n",
      "TCGA-06-0122\n",
      "TCGA-08-0390\n",
      "TCGA-08-0521\n",
      "TCGA-08-0352\n",
      "TCGA-02-0060\n",
      "TCGA-06-5413\n",
      "TCGA-08-0354\n",
      "TCGA-02-0059\n",
      "TCGA-06-0238\n",
      "TCGA-12-1098\n",
      "TCGA-06-0162\n",
      "TCGA-06-0184\n",
      "TCGA-14-0789\n",
      "TCGA-08-0358\n",
      "TCGA-06-1084\n",
      "TCGA-02-0033\n",
      "TCGA-08-0392\n",
      "TCGA-76-6663\n",
      "TCGA-76-4935\n",
      "TCGA-08-0509\n",
      "TCGA-06-0190\n",
      "TCGA-06-0176\n",
      "TCGA-02-0102\n",
      "TCGA-02-0003\n",
      "TCGA-19-5958\n",
      "TCGA-02-0070\n",
      "TCGA-06-0166\n",
      "TCGA-08-0510\n",
      "TCGA-14-1794\n",
      "TCGA-06-1802\n",
      "TCGA-12-1598\n",
      "TCGA-76-6656\n",
      "TCGA-08-0353\n",
      "TCGA-76-6282\n",
      "TCGA-06-0185\n",
      "TCGA-06-0648\n",
      "TCGA-06-0189\n",
      "TCGA-06-0138\n",
      "TCGA-02-0085\n",
      "TCGA-08-0529\n",
      "TCGA-19-1789\n",
      "TCGA-06-0213\n",
      "TCGA-06-0128\n",
      "TCGA-06-6389\n",
      "TCGA-02-0027\n",
      "TCGA-14-1825\n",
      "TCGA-76-6661\n",
      "TCGA-14-1456\n",
      "TCGA-06-0133\n",
      "TCGA-06-2570\n",
      "TCGA-06-0164\n",
      "TCGA-02-0047\n",
      "TCGA-02-0037\n",
      "TCGA-02-0106\n",
      "TCGA-08-0520\n",
      "TCGA-08-0355\n",
      "TCGA-76-6280\n",
      "TCGA-19-5960\n",
      "TCGA-76-6285\n",
      "TCGA-76-6664\n",
      "TCGA-02-0087\n",
      "TCGA-76-6193\n",
      "TCGA-19-0963\n",
      "TCGA-08-0389\n",
      "TCGA-12-0616\n",
      "TCGA-02-0054\n",
      "TCGA-14-3477\n",
      "TCGA-08-0385\n",
      "TCGA-06-0119\n",
      "TCGA-06-0149\n",
      "TCGA-08-0357\n",
      "TCGA-06-0168\n",
      "TCGA-06-0644\n",
      "TCGA-08-0524\n",
      "TCGA-08-0360\n",
      "TCGA-06-0179\n",
      "TCGA-02-0006\n",
      "TCGA-06-5408\n",
      "TCGA-06-0142\n",
      "TCGA-27-1834\n",
      "TCGA-19-5954\n",
      "TCGA-76-6191\n",
      "TCGA-06-0132\n",
      "TCGA-06-0145\n",
      "TCGA-06-0130\n",
      "TCGA-06-0154\n",
      "TCGA-02-0116\n",
      "TCGA-02-0064\n",
      "TCGA-12-1602\n",
      "TCGA-19-5951\n",
      "TCGA-76-6662\n",
      "TCGA-12-1601\n",
      "TCGA-06-0182\n",
      "TCGA-02-0046\n",
      "TCGA-08-0522\n",
      "TCGA-06-0139\n",
      "TCGA-27-1838\n",
      "TCGA-06-0188\n",
      "TCGA-06-0177\n",
      "TCGA-27-2526\n",
      "TCGA-02-0068\n"
     ]
    }
   ],
   "source": [
    "import shutil\n",
    "\n",
    "for i in range(0, len(paths)):\n",
    "    print(paths['ID'].iloc[i])\n",
    "    try:\n",
    "#         os.mkdir(basedir + paths['ID'].iloc[i])\n",
    "        shutil.copytree(basedir + paths['T1'].iloc[i][1:], savedir + paths['ID'].iloc[i] + '/T1/') \n",
    "        shutil.copytree(basedir + paths['T1C'].iloc[i][1:], savedir + paths['ID'].iloc[i] + '/CT1/') \n",
    "        shutil.copytree(basedir + paths['T2'].iloc[i][1:], savedir + paths['ID'].iloc[i] + '/T2') \n",
    "        shutil.copytree(basedir + paths['FLAIR'].iloc[i][1:], savedir + paths['ID'].iloc[i] + '/FLAIR/')\n",
    "        \n",
    "    except OSError as error:\n",
    "        print(error) \n",
    "        pass  "
   ]
  },
  {
   "cell_type": "code",
   "execution_count": 102,
   "metadata": {},
   "outputs": [],
   "source": [
    "paths = pd.read_csv('lgg_paths.csv')\n",
    "basedir = '/anvar/public_datasets/tcia/'\n",
    "savedir = '/anvar/public_datasets/preproc_study/lgg/dicom/'\n",
    "# os.makedirs('/anvar/public_datasets/preproc_study/lgg/dicom/')"
   ]
  },
  {
   "cell_type": "code",
   "execution_count": 103,
   "metadata": {},
   "outputs": [],
   "source": [
    "paths['FLAIR'][paths['ID'] == 'TCGA-CS-5390'] = ' manifest-25ZdsnMy5264093150469993200/TCGA-LGG/TCGA-CS-5390/03-07-1996-BRAINSTRYKER-97078/5.000000-BRAINSTRYKERDIFFUSION-72204'"
   ]
  },
  {
   "cell_type": "code",
   "execution_count": 104,
   "metadata": {},
   "outputs": [],
   "source": [
    "paths['T2'][paths['ID'] == 'TCGA-CS-4942'] = ' manifest-25ZdsnMy5264093150469993200/TCGA-LGG/TCGA-CS-4942/02-22-1997-MRI BRAIN WITHO-04689/401.000000-DUAL AX SE-07653'"
   ]
  },
  {
   "cell_type": "code",
   "execution_count": 106,
   "metadata": {},
   "outputs": [],
   "source": [
    "# paths.to_csv('lgg_paths.csv')"
   ]
  },
  {
   "cell_type": "code",
   "execution_count": 15,
   "metadata": {},
   "outputs": [
    {
     "data": {
      "text/plain": [
       "['T1', 'T2', 'CT1', 'FLAIR']"
      ]
     },
     "execution_count": 15,
     "metadata": {},
     "output_type": "execute_result"
    }
   ],
   "source": [
    "os.listdir('/anvar/public_datasets/preproc_study/lgg/dicom/TCGA-DU-7015/')"
   ]
  },
  {
   "cell_type": "code",
   "execution_count": 105,
   "metadata": {},
   "outputs": [
    {
     "name": "stdout",
     "output_type": "stream",
     "text": [
      "TCGA-DU-7019\n",
      "[Errno 17] File exists: '/anvar/public_datasets/preproc_study/lgg/dicom/TCGA-DU-7019/T2'\n",
      "TCGA-DU-7302\n",
      "[Errno 17] File exists: '/anvar/public_datasets/preproc_study/lgg/dicom/TCGA-DU-7302/T2'\n",
      "TCGA-DU-5852\n",
      "[Errno 17] File exists: '/anvar/public_datasets/preproc_study/lgg/dicom/TCGA-DU-5852/T2'\n",
      "TCGA-DU-7014\n",
      "[Errno 17] File exists: '/anvar/public_datasets/preproc_study/lgg/dicom/TCGA-DU-7014/T2'\n",
      "TCGA-CS-6669\n",
      "[Errno 17] File exists: '/anvar/public_datasets/preproc_study/lgg/dicom/TCGA-CS-6669/T2'\n",
      "TCGA-DU-6405\n",
      "[Errno 17] File exists: '/anvar/public_datasets/preproc_study/lgg/dicom/TCGA-DU-6405/T2'\n",
      "TCGA-DU-5851\n",
      "[Errno 17] File exists: '/anvar/public_datasets/preproc_study/lgg/dicom/TCGA-DU-5851/T2'\n",
      "TCGA-DU-5854\n",
      "[Errno 17] File exists: '/anvar/public_datasets/preproc_study/lgg/dicom/TCGA-DU-5854/T2'\n",
      "TCGA-DU-6408\n",
      "[Errno 17] File exists: '/anvar/public_datasets/preproc_study/lgg/dicom/TCGA-DU-6408/T2'\n",
      "TCGA-DU-5874\n",
      "[Errno 17] File exists: '/anvar/public_datasets/preproc_study/lgg/dicom/TCGA-DU-5874/T2'\n",
      "TCGA-CS-5396\n",
      "[Errno 17] File exists: '/anvar/public_datasets/preproc_study/lgg/dicom/TCGA-CS-5396/T2'\n",
      "TCGA-DU-7306\n",
      "[Errno 17] File exists: '/anvar/public_datasets/preproc_study/lgg/dicom/TCGA-DU-7306/T2'\n",
      "TCGA-CS-5393\n",
      "[Errno 17] File exists: '/anvar/public_datasets/preproc_study/lgg/dicom/TCGA-CS-5393/T2'\n",
      "TCGA-DU-5849\n",
      "[Errno 17] File exists: '/anvar/public_datasets/preproc_study/lgg/dicom/TCGA-DU-5849/T2'\n",
      "TCGA-DU-6402\n",
      "[Errno 17] File exists: '/anvar/public_datasets/preproc_study/lgg/dicom/TCGA-DU-6402/T2'\n",
      "TCGA-CS-6670\n",
      "[Errno 17] File exists: '/anvar/public_datasets/preproc_study/lgg/dicom/TCGA-CS-6670/T2'\n",
      "TCGA-DU-5855\n",
      "[Errno 17] File exists: '/anvar/public_datasets/preproc_study/lgg/dicom/TCGA-DU-5855/T2'\n",
      "TCGA-DU-6407\n",
      "[Errno 17] File exists: '/anvar/public_datasets/preproc_study/lgg/dicom/TCGA-DU-6407/T2'\n",
      "TCGA-CS-4938\n",
      "[Errno 17] File exists: '/anvar/public_datasets/preproc_study/lgg/dicom/TCGA-CS-4938/T2'\n",
      "TCGA-CS-5390\n",
      "[Errno 17] File exists: '/anvar/public_datasets/preproc_study/lgg/dicom/TCGA-CS-5390/T2'\n",
      "TCGA-DU-7309\n",
      "[Errno 17] File exists: '/anvar/public_datasets/preproc_study/lgg/dicom/TCGA-DU-7309/T2'\n",
      "TCGA-CS-6186\n",
      "[Errno 17] File exists: '/anvar/public_datasets/preproc_study/lgg/dicom/TCGA-CS-6186/T2'\n",
      "TCGA-DU-7013\n",
      "[Errno 17] File exists: '/anvar/public_datasets/preproc_study/lgg/dicom/TCGA-DU-7013/T2'\n",
      "TCGA-DU-7015\n",
      "[Errno 17] File exists: '/anvar/public_datasets/preproc_study/lgg/dicom/TCGA-DU-7015/T2'\n",
      "TCGA-CS-5395\n",
      "[Errno 17] File exists: '/anvar/public_datasets/preproc_study/lgg/dicom/TCGA-CS-5395/T2'\n",
      "TCGA-CS-6666\n",
      "[Errno 17] File exists: '/anvar/public_datasets/preproc_study/lgg/dicom/TCGA-CS-6666/T2'\n",
      "TCGA-CS-4943\n",
      "[Errno 17] File exists: '/anvar/public_datasets/preproc_study/lgg/dicom/TCGA-CS-4943/T2'\n",
      "TCGA-CS-4941\n",
      "[Errno 17] File exists: '/anvar/public_datasets/preproc_study/lgg/dicom/TCGA-CS-4941/T2'\n",
      "TCGA-DU-8165\n",
      "[Errno 17] File exists: '/anvar/public_datasets/preproc_study/lgg/dicom/TCGA-DU-8165/T2'\n",
      "TCGA-CS-6667\n",
      "[Errno 17] File exists: '/anvar/public_datasets/preproc_study/lgg/dicom/TCGA-CS-6667/T2'\n",
      "TCGA-DU-5871\n",
      "[Errno 17] File exists: '/anvar/public_datasets/preproc_study/lgg/dicom/TCGA-DU-5871/T2'\n",
      "TCGA-DU-7010\n",
      "[Errno 17] File exists: '/anvar/public_datasets/preproc_study/lgg/dicom/TCGA-DU-7010/T2'\n",
      "TCGA-DU-6400\n",
      "[Errno 17] File exists: '/anvar/public_datasets/preproc_study/lgg/dicom/TCGA-DU-6400/T2'\n",
      "TCGA-DU-7300\n",
      "[Errno 17] File exists: '/anvar/public_datasets/preproc_study/lgg/dicom/TCGA-DU-7300/T2'\n",
      "TCGA-CS-6290\n",
      "[Errno 17] File exists: '/anvar/public_datasets/preproc_study/lgg/dicom/TCGA-CS-6290/T2'\n",
      "TCGA-DU-8164\n",
      "[Errno 17] File exists: '/anvar/public_datasets/preproc_study/lgg/dicom/TCGA-DU-8164/T2'\n",
      "TCGA-DU-7304\n",
      "[Errno 17] File exists: '/anvar/public_datasets/preproc_study/lgg/dicom/TCGA-DU-7304/T2'\n",
      "TCGA-DU-8166\n",
      "[Errno 17] File exists: '/anvar/public_datasets/preproc_study/lgg/dicom/TCGA-DU-8166/T2'\n",
      "TCGA-CS-6665\n",
      "[Errno 17] File exists: '/anvar/public_datasets/preproc_study/lgg/dicom/TCGA-CS-6665/T2'\n",
      "TCGA-DU-7301\n",
      "[Errno 17] File exists: '/anvar/public_datasets/preproc_study/lgg/dicom/TCGA-DU-7301/T2'\n",
      "TCGA-CS-4942\n",
      "TCGA-DU-5872\n",
      "[Errno 17] File exists: '/anvar/public_datasets/preproc_study/lgg/dicom/TCGA-DU-5872/T2'\n",
      "TCGA-DU-7298\n",
      "[Errno 17] File exists: '/anvar/public_datasets/preproc_study/lgg/dicom/TCGA-DU-7298/T2'\n",
      "TCGA-DU-5853\n",
      "[Errno 17] File exists: '/anvar/public_datasets/preproc_study/lgg/dicom/TCGA-DU-5853/T2'\n",
      "TCGA-CS-5397\n",
      "[Errno 17] File exists: '/anvar/public_datasets/preproc_study/lgg/dicom/TCGA-CS-5397/T2'\n",
      "TCGA-CS-5394\n",
      "[Errno 17] File exists: '/anvar/public_datasets/preproc_study/lgg/dicom/TCGA-CS-5394/T2'\n",
      "TCGA-DU-7299\n",
      "[Errno 17] File exists: '/anvar/public_datasets/preproc_study/lgg/dicom/TCGA-DU-7299/T2'\n",
      "TCGA-CS-4944\n",
      "[Errno 17] File exists: '/anvar/public_datasets/preproc_study/lgg/dicom/TCGA-CS-4944/T2'\n",
      "TCGA-DU-6410\n",
      "[Errno 17] File exists: '/anvar/public_datasets/preproc_study/lgg/dicom/TCGA-DU-6410/T2'\n",
      "TCGA-DU-7294\n",
      "[Errno 17] File exists: '/anvar/public_datasets/preproc_study/lgg/dicom/TCGA-DU-7294/T2'\n",
      "TCGA-DU-8162\n",
      "[Errno 17] File exists: '/anvar/public_datasets/preproc_study/lgg/dicom/TCGA-DU-8162/T2'\n",
      "TCGA-CS-6668\n",
      "[Errno 17] File exists: '/anvar/public_datasets/preproc_study/lgg/dicom/TCGA-CS-6668/T2'\n",
      "TCGA-DU-7008\n",
      "[Errno 17] File exists: '/anvar/public_datasets/preproc_study/lgg/dicom/TCGA-DU-7008/T2'\n",
      "TCGA-DU-A5TP\n",
      "[Errno 17] File exists: '/anvar/public_datasets/preproc_study/lgg/dicom/TCGA-DU-A5TP/T2'\n",
      "TCGA-DU-6542\n",
      "[Errno 17] File exists: '/anvar/public_datasets/preproc_study/lgg/dicom/TCGA-DU-6542/T2'\n",
      "TCGA-DU-8158\n",
      "[Errno 17] File exists: '/anvar/public_datasets/preproc_study/lgg/dicom/TCGA-DU-8158/T2'\n",
      "TCGA-DU-8167\n",
      "[Errno 17] File exists: '/anvar/public_datasets/preproc_study/lgg/dicom/TCGA-DU-8167/T2'\n",
      "TCGA-CS-6188\n",
      "[Errno 17] File exists: '/anvar/public_datasets/preproc_study/lgg/dicom/TCGA-CS-6188/T2'\n",
      "TCGA-DU-8163\n",
      "[Errno 17] File exists: '/anvar/public_datasets/preproc_study/lgg/dicom/TCGA-DU-8163/T2'\n",
      "TCGA-DU-6401\n",
      "[Errno 17] File exists: '/anvar/public_datasets/preproc_study/lgg/dicom/TCGA-DU-6401/T2'\n",
      "TCGA-DU-6404\n",
      "[Errno 17] File exists: '/anvar/public_datasets/preproc_study/lgg/dicom/TCGA-DU-6404/T2'\n",
      "TCGA-DU-6397\n",
      "[Errno 17] File exists: '/anvar/public_datasets/preproc_study/lgg/dicom/TCGA-DU-6397/T2'\n",
      "TCGA-DU-6399\n",
      "[Errno 17] File exists: '/anvar/public_datasets/preproc_study/lgg/dicom/TCGA-DU-6399/T2'\n",
      "TCGA-DU-7018\n",
      "[Errno 17] File exists: '/anvar/public_datasets/preproc_study/lgg/dicom/TCGA-DU-7018/T2'\n",
      "TCGA-DU-8168\n",
      "[Errno 17] File exists: '/anvar/public_datasets/preproc_study/lgg/dicom/TCGA-DU-8168/T2'\n",
      "TCGA-DU-6395\n",
      "[Errno 17] File exists: '/anvar/public_datasets/preproc_study/lgg/dicom/TCGA-DU-6395/T2'\n"
     ]
    }
   ],
   "source": [
    "import shutil\n",
    "\n",
    "for i in range(0, len(paths)):\n",
    "    print(paths['ID'].iloc[i])\n",
    "    try:\n",
    "        os.mkdir(basedir + paths['ID'].iloc[i])\n",
    "        shutil.copytree(basedir + paths['T1'].iloc[i][1:], savedir + paths['ID'].iloc[i] + '/T1/') \n",
    "        shutil.copytree(basedir + paths['T1C'].iloc[i][1:], savedir + paths['ID'].iloc[i] + '/CT1/') \n",
    "        shutil.copytree(basedir + paths['T2'].iloc[i][1:], savedir + paths['ID'].iloc[i] + '/T2') \n",
    "        shutil.copytree(basedir + paths['FLAIR'].iloc[i][1:], savedir + paths['ID'].iloc[i] + '/FLAIR/')\n",
    "        \n",
    "    except OSError as error:\n",
    "        print(error) \n",
    "        pass  "
   ]
  },
  {
   "cell_type": "code",
   "execution_count": 80,
   "metadata": {},
   "outputs": [],
   "source": [
    "import glob\n",
    "glob.glob('/anvar/public_datasets/tcia/manifest-1588284345182/TCGA-GBM/TCGA-02-0086/*/*')\n",
    "\n",
    "rtdir = '/anvar/public_datasets/tcia/manifest-1588284345182/TCGA-GBM/'"
   ]
  },
  {
   "cell_type": "code",
   "execution_count": 81,
   "metadata": {},
   "outputs": [
    {
     "data": {
      "text/plain": [
       "103"
      ]
     },
     "execution_count": 81,
     "metadata": {},
     "output_type": "execute_result"
    }
   ],
   "source": [
    "len(os.listdir(rtdir))"
   ]
  },
  {
   "cell_type": "code",
   "execution_count": 84,
   "metadata": {},
   "outputs": [
    {
     "data": {
      "text/plain": [
       "102"
      ]
     },
     "execution_count": 84,
     "metadata": {},
     "output_type": "execute_result"
    }
   ],
   "source": [
    "len(glob.glob(savedir + '/*/' + '/RTSTRUCT/'))"
   ]
  },
  {
   "cell_type": "code",
   "execution_count": 75,
   "metadata": {},
   "outputs": [
    {
     "name": "stdout",
     "output_type": "stream",
     "text": [
      "TCGA-02-0034\n",
      "['/anvar/public_datasets/tcia/manifest-1588284345182/TCGA-GBM/TCGA-02-0034/07-27-1997-MRI BRAIN WWO CONTRAMR-39956/']\n",
      "[Errno 17] File exists: '/anvar/public_datasets/preproc_study/gbm/dicom/TCGA-02-0034/RTSTRUCT/'\n",
      "TCGA-06-0158\n",
      "['/anvar/public_datasets/tcia/manifest-1588284345182/TCGA-GBM/TCGA-06-0158/09-05-1996-30968/']\n",
      "[Errno 17] File exists: '/anvar/public_datasets/preproc_study/gbm/dicom/TCGA-06-0158/RTSTRUCT/'\n",
      "TCGA-76-4934\n",
      "['/anvar/public_datasets/tcia/manifest-1588284345182/TCGA-GBM/TCGA-76-4934/10-08-2000-MRI BRAINSTRYKER IP-29203/']\n",
      "[Errno 17] File exists: '/anvar/public_datasets/preproc_study/gbm/dicom/TCGA-76-4934/RTSTRUCT/'\n",
      "TCGA-06-0187\n",
      "['/anvar/public_datasets/tcia/manifest-1588284345182/TCGA-GBM/TCGA-06-0187/07-07-2004-41002/']\n",
      "[Errno 17] File exists: '/anvar/public_datasets/preproc_study/gbm/dicom/TCGA-06-0187/RTSTRUCT/'\n",
      "TCGA-14-1829\n",
      "[]\n",
      "list index out of range\n",
      "TCGA-08-0356\n",
      "['/anvar/public_datasets/tcia/manifest-1588284345182/TCGA-GBM/TCGA-08-0356/03-26-2002-MSTEALTH-31923/']\n",
      "[Errno 17] File exists: '/anvar/public_datasets/preproc_study/gbm/dicom/TCGA-08-0356/RTSTRUCT/'\n",
      "TCGA-06-0137\n",
      "['/anvar/public_datasets/tcia/manifest-1588284345182/TCGA-GBM/TCGA-06-0137/12-24-2001-96078/']\n",
      "[Errno 17] File exists: '/anvar/public_datasets/preproc_study/gbm/dicom/TCGA-06-0137/RTSTRUCT/'\n",
      "TCGA-06-0649\n",
      "[]\n",
      "list index out of range\n",
      "TCGA-06-0646\n",
      "['/anvar/public_datasets/tcia/manifest-1588284345182/TCGA-GBM/TCGA-06-0646/12-09-2005-56216/']\n",
      "[Errno 17] File exists: '/anvar/public_datasets/preproc_study/gbm/dicom/TCGA-06-0646/RTSTRUCT/'\n",
      "TCGA-02-0069\n",
      "['/anvar/public_datasets/tcia/manifest-1588284345182/TCGA-GBM/TCGA-02-0069/05-28-2000-MRI BRAIN WWO CONTRAST-43557/']\n",
      "[Errno 17] File exists: '/anvar/public_datasets/preproc_study/gbm/dicom/TCGA-02-0069/RTSTRUCT/'\n",
      "TCGA-06-0241\n",
      "[]\n",
      "list index out of range\n",
      "TCGA-06-0192\n",
      "['/anvar/public_datasets/tcia/manifest-1588284345182/TCGA-GBM/TCGA-06-0192/04-08-2005-20947/', '/anvar/public_datasets/tcia/manifest-1588284345182/TCGA-GBM/TCGA-06-0192/04-08-2005-16721/']\n",
      "[Errno 17] File exists: '/anvar/public_datasets/preproc_study/gbm/dicom/TCGA-06-0192/RTSTRUCT/'\n",
      "TCGA-12-1094\n",
      "['/anvar/public_datasets/tcia/manifest-1588284345182/TCGA-GBM/TCGA-12-1094/11-15-1999-BRAIN-48421/']\n",
      "[Errno 17] File exists: '/anvar/public_datasets/preproc_study/gbm/dicom/TCGA-12-1094/RTSTRUCT/'\n",
      "TCGA-76-4932\n",
      "['/anvar/public_datasets/tcia/manifest-1588284345182/TCGA-GBM/TCGA-76-4932/03-16-1997-MRI BRAIN STRYKER-44803/']\n",
      "[Errno 17] File exists: '/anvar/public_datasets/preproc_study/gbm/dicom/TCGA-76-4932/RTSTRUCT/'\n",
      "TCGA-12-0776\n",
      "['/anvar/public_datasets/tcia/manifest-1588284345182/TCGA-GBM/TCGA-12-0776/05-12-1998-BRAIN W AND WO CONTR-22391/']\n",
      "[Errno 17] File exists: '/anvar/public_datasets/preproc_study/gbm/dicom/TCGA-12-0776/RTSTRUCT/'\n",
      "TCGA-08-0350\n",
      "[]\n",
      "list index out of range\n",
      "TCGA-02-0086\n",
      "['/anvar/public_datasets/tcia/manifest-1588284345182/TCGA-GBM/TCGA-02-0086/07-25-1999-MRI BRAIN WWO CONTR-49848/']\n",
      "[Errno 17] File exists: '/anvar/public_datasets/preproc_study/gbm/dicom/TCGA-02-0086/RTSTRUCT/'\n",
      "TCGA-19-1390\n",
      "[]\n",
      "list index out of range\n",
      "TCGA-02-0009\n",
      "['/anvar/public_datasets/tcia/manifest-1588284345182/TCGA-GBM/TCGA-02-0009/06-14-1997-MRI BRAIN WWO CONTRAMR-13452/']\n",
      "[Errno 17] File exists: '/anvar/public_datasets/preproc_study/gbm/dicom/TCGA-02-0009/RTSTRUCT/'\n",
      "TCGA-06-5412\n",
      "[]\n",
      "list index out of range\n",
      "TCGA-08-0359\n",
      "['/anvar/public_datasets/tcia/manifest-1588284345182/TCGA-GBM/TCGA-08-0359/01-19-2003-MSTEALTH-62951/']\n",
      "[Errno 17] File exists: '/anvar/public_datasets/preproc_study/gbm/dicom/TCGA-08-0359/RTSTRUCT/'\n",
      "TCGA-02-0048\n",
      "[]\n",
      "list index out of range\n",
      "TCGA-06-5417\n",
      "['/anvar/public_datasets/tcia/manifest-1588284345182/TCGA-GBM/TCGA-06-5417/09-03-2008-MRI BRAIN WWO CONTRAST-20551/']\n",
      "[Errno 17] File exists: '/anvar/public_datasets/preproc_study/gbm/dicom/TCGA-06-5417/RTSTRUCT/'\n",
      "TCGA-19-2624\n",
      "['/anvar/public_datasets/tcia/manifest-1588284345182/TCGA-GBM/TCGA-19-2624/12-10-2002-NR MRI BRAIN WWO-21815/']\n",
      "[Errno 17] File exists: '/anvar/public_datasets/preproc_study/gbm/dicom/TCGA-19-2624/RTSTRUCT/'\n",
      "TCGA-12-0829\n",
      "['/anvar/public_datasets/tcia/manifest-1588284345182/TCGA-GBM/TCGA-12-0829/06-02-1999-BRAIN-09460/']\n",
      "[Errno 17] File exists: '/anvar/public_datasets/preproc_study/gbm/dicom/TCGA-12-0829/RTSTRUCT/'\n",
      "TCGA-02-0075\n",
      "['/anvar/public_datasets/tcia/manifest-1588284345182/TCGA-GBM/TCGA-02-0075/09-24-1999-MRI BRAIN WWO CONTRAST-32875/']\n",
      "[Errno 17] File exists: '/anvar/public_datasets/preproc_study/gbm/dicom/TCGA-02-0075/RTSTRUCT/'\n",
      "TCGA-19-2631\n",
      "['/anvar/public_datasets/tcia/manifest-1588284345182/TCGA-GBM/TCGA-19-2631/03-02-2003-NR MRI BRAIN WWO-07216/']\n",
      "[Errno 17] File exists: '/anvar/public_datasets/preproc_study/gbm/dicom/TCGA-19-2631/RTSTRUCT/'\n",
      "TCGA-06-0175\n",
      "[]\n",
      "list index out of range\n",
      "TCGA-02-0011\n",
      "['/anvar/public_datasets/tcia/manifest-1588284345182/TCGA-GBM/TCGA-02-0011/02-01-1998-MRI BRAIN WWO CONTRAMR-31709/']\n",
      "[Errno 17] File exists: '/anvar/public_datasets/preproc_study/gbm/dicom/TCGA-02-0011/RTSTRUCT/'\n",
      "TCGA-76-6657\n",
      "['/anvar/public_datasets/tcia/manifest-1588284345182/TCGA-GBM/TCGA-76-6657/06-11-2001-MRI BRAIN WITH STRYKER-72697/']\n",
      "[Errno 17] File exists: '/anvar/public_datasets/preproc_study/gbm/dicom/TCGA-76-6657/RTSTRUCT/'\n",
      "TCGA-12-1093\n",
      "[]\n",
      "list index out of range\n",
      "TCGA-08-0512\n",
      "['/anvar/public_datasets/tcia/manifest-1588284345182/TCGA-GBM/TCGA-08-0512/05-25-1998-MR SPECTROSCOPY-71335/']\n",
      "[Errno 17] File exists: '/anvar/public_datasets/preproc_study/gbm/dicom/TCGA-08-0512/RTSTRUCT/'\n",
      "TCGA-12-3650\n",
      "['/anvar/public_datasets/tcia/manifest-1588284345182/TCGA-GBM/TCGA-12-3650/07-29-2001-BRAIN-95330/']\n",
      "[Errno 17] File exists: '/anvar/public_datasets/preproc_study/gbm/dicom/TCGA-12-3650/RTSTRUCT/'\n",
      "TCGA-06-0240\n",
      "['/anvar/public_datasets/tcia/manifest-1588284345182/TCGA-GBM/TCGA-06-0240/07-02-2005-04728/']\n",
      "[Errno 17] File exists: '/anvar/public_datasets/preproc_study/gbm/dicom/TCGA-06-0240/RTSTRUCT/'\n",
      "TCGA-06-0122\n",
      "['/anvar/public_datasets/tcia/manifest-1588284345182/TCGA-GBM/TCGA-06-0122/09-14-2004-55494/']\n",
      "[Errno 17] File exists: '/anvar/public_datasets/preproc_study/gbm/dicom/TCGA-06-0122/RTSTRUCT/'\n",
      "TCGA-08-0390\n",
      "['/anvar/public_datasets/tcia/manifest-1588284345182/TCGA-GBM/TCGA-08-0390/08-05-2003-MSTEALTH-70636/']\n",
      "[Errno 17] File exists: '/anvar/public_datasets/preproc_study/gbm/dicom/TCGA-08-0390/RTSTRUCT/'\n",
      "TCGA-08-0521\n",
      "[]\n",
      "list index out of range\n",
      "TCGA-08-0352\n",
      "[]\n",
      "list index out of range\n",
      "TCGA-02-0060\n",
      "[]\n",
      "list index out of range\n",
      "TCGA-06-5413\n",
      "['/anvar/public_datasets/tcia/manifest-1588284345182/TCGA-GBM/TCGA-06-5413/06-17-2008-18002/']\n",
      "[Errno 17] File exists: '/anvar/public_datasets/preproc_study/gbm/dicom/TCGA-06-5413/RTSTRUCT/'\n",
      "TCGA-08-0354\n",
      "[]\n",
      "list index out of range\n",
      "TCGA-02-0059\n",
      "['/anvar/public_datasets/tcia/manifest-1588284345182/TCGA-GBM/TCGA-02-0059/08-29-1999-MRI BRAIN WWO CONTR-16610/']\n",
      "[Errno 17] File exists: '/anvar/public_datasets/preproc_study/gbm/dicom/TCGA-02-0059/RTSTRUCT/'\n",
      "TCGA-06-0238\n",
      "['/anvar/public_datasets/tcia/manifest-1588284345182/TCGA-GBM/TCGA-06-0238/04-12-2005-MRI BRAIN WWO CONTRAST-24302/']\n",
      "[Errno 17] File exists: '/anvar/public_datasets/preproc_study/gbm/dicom/TCGA-06-0238/RTSTRUCT/'\n",
      "TCGA-12-1098\n",
      "['/anvar/public_datasets/tcia/manifest-1588284345182/TCGA-GBM/TCGA-12-1098/07-23-2000-MRI BRAIN-99313/']\n",
      "[Errno 17] File exists: '/anvar/public_datasets/preproc_study/gbm/dicom/TCGA-12-1098/RTSTRUCT/'\n",
      "TCGA-06-0162\n",
      "['/anvar/public_datasets/tcia/manifest-1588284345182/TCGA-GBM/TCGA-06-0162/12-07-1998-49032/']\n",
      "[Errno 17] File exists: '/anvar/public_datasets/preproc_study/gbm/dicom/TCGA-06-0162/RTSTRUCT/'\n",
      "TCGA-06-0184\n",
      "['/anvar/public_datasets/tcia/manifest-1588284345182/TCGA-GBM/TCGA-06-0184/07-13-2003-52545/']\n",
      "[Errno 17] File exists: '/anvar/public_datasets/preproc_study/gbm/dicom/TCGA-06-0184/RTSTRUCT/'\n",
      "TCGA-14-0789\n",
      "[]\n",
      "list index out of range\n",
      "TCGA-08-0358\n",
      "[]\n",
      "list index out of range\n",
      "TCGA-06-1084\n",
      "['/anvar/public_datasets/tcia/manifest-1588284345182/TCGA-GBM/TCGA-06-1084/01-15-2007-24760/']\n",
      "[Errno 17] File exists: '/anvar/public_datasets/preproc_study/gbm/dicom/TCGA-06-1084/RTSTRUCT/'\n",
      "TCGA-02-0033\n",
      "['/anvar/public_datasets/tcia/manifest-1588284345182/TCGA-GBM/TCGA-02-0033/05-26-1997-MRI BRAIN WWO CONTR-89744/']\n",
      "[Errno 17] File exists: '/anvar/public_datasets/preproc_study/gbm/dicom/TCGA-02-0033/RTSTRUCT/'\n",
      "TCGA-08-0392\n",
      "['/anvar/public_datasets/tcia/manifest-1588284345182/TCGA-GBM/TCGA-08-0392/11-03-2003-MSTEALTH-79112/']\n",
      "[Errno 17] File exists: '/anvar/public_datasets/preproc_study/gbm/dicom/TCGA-08-0392/RTSTRUCT/'\n",
      "TCGA-76-6663\n",
      "['/anvar/public_datasets/tcia/manifest-1588284345182/TCGA-GBM/TCGA-76-6663/12-27-2001-MRI BRAIN WITH STRYKER-65499/']\n",
      "[Errno 17] File exists: '/anvar/public_datasets/preproc_study/gbm/dicom/TCGA-76-6663/RTSTRUCT/'\n",
      "TCGA-76-4935\n",
      "['/anvar/public_datasets/tcia/manifest-1588284345182/TCGA-GBM/TCGA-76-4935/01-22-2001-MRI BRAIN COMBO-10861/']\n",
      "[Errno 17] File exists: '/anvar/public_datasets/preproc_study/gbm/dicom/TCGA-76-4935/RTSTRUCT/'\n",
      "TCGA-08-0509\n",
      "['/anvar/public_datasets/tcia/manifest-1588284345182/TCGA-GBM/TCGA-08-0509/11-13-1997-MSTEALTH-79103/']\n",
      "[Errno 17] File exists: '/anvar/public_datasets/preproc_study/gbm/dicom/TCGA-08-0509/RTSTRUCT/'\n",
      "TCGA-06-0190\n",
      "['/anvar/public_datasets/tcia/manifest-1588284345182/TCGA-GBM/TCGA-06-0190/12-10-2004-41856/']\n",
      "[Errno 17] File exists: '/anvar/public_datasets/preproc_study/gbm/dicom/TCGA-06-0190/RTSTRUCT/'\n",
      "TCGA-06-0176\n",
      "['/anvar/public_datasets/tcia/manifest-1588284345182/TCGA-GBM/TCGA-06-0176/04-09-2002-86055/']\n",
      "[Errno 17] File exists: '/anvar/public_datasets/preproc_study/gbm/dicom/TCGA-06-0176/RTSTRUCT/'\n",
      "TCGA-02-0102\n",
      "['/anvar/public_datasets/tcia/manifest-1588284345182/TCGA-GBM/TCGA-02-0102/12-15-1997-MRI BRAIN WWO CONTR-46432/']\n",
      "[Errno 17] File exists: '/anvar/public_datasets/preproc_study/gbm/dicom/TCGA-02-0102/RTSTRUCT/'\n",
      "TCGA-02-0003\n",
      "[]\n",
      "list index out of range\n",
      "TCGA-19-5958\n",
      "['/anvar/public_datasets/tcia/manifest-1588284345182/TCGA-GBM/TCGA-19-5958/03-09-2004-NR MRI BRAIN WWO-00727/']\n",
      "[Errno 17] File exists: '/anvar/public_datasets/preproc_study/gbm/dicom/TCGA-19-5958/RTSTRUCT/'\n",
      "TCGA-02-0070\n",
      "['/anvar/public_datasets/tcia/manifest-1588284345182/TCGA-GBM/TCGA-02-0070/07-10-2000-MRI BRAIN WWO CONTRAST-48290/']\n",
      "[Errno 17] File exists: '/anvar/public_datasets/preproc_study/gbm/dicom/TCGA-02-0070/RTSTRUCT/'\n",
      "TCGA-06-0166\n",
      "[]\n",
      "list index out of range\n",
      "TCGA-08-0510\n",
      "[]\n",
      "list index out of range\n",
      "TCGA-14-1794\n",
      "['/anvar/public_datasets/tcia/manifest-1588284345182/TCGA-GBM/TCGA-14-1794/04-11-1998-MRI BRAIN WWO CONT-42545/']\n",
      "[Errno 17] File exists: '/anvar/public_datasets/preproc_study/gbm/dicom/TCGA-14-1794/RTSTRUCT/'\n",
      "TCGA-06-1802\n",
      "['/anvar/public_datasets/tcia/manifest-1588284345182/TCGA-GBM/TCGA-06-1802/04-03-2007-28642/']\n",
      "[Errno 17] File exists: '/anvar/public_datasets/preproc_study/gbm/dicom/TCGA-06-1802/RTSTRUCT/'\n",
      "TCGA-12-1598\n",
      "['/anvar/public_datasets/tcia/manifest-1588284345182/TCGA-GBM/TCGA-12-1598/08-23-1999-MRI BRAIN-61414/']\n",
      "[Errno 17] File exists: '/anvar/public_datasets/preproc_study/gbm/dicom/TCGA-12-1598/RTSTRUCT/'\n",
      "TCGA-76-6656\n",
      "['/anvar/public_datasets/tcia/manifest-1588284345182/TCGA-GBM/TCGA-76-6656/06-02-2001-MRI BRAIN IP-02901/']\n",
      "[Errno 17] File exists: '/anvar/public_datasets/preproc_study/gbm/dicom/TCGA-76-6656/RTSTRUCT/'\n",
      "TCGA-08-0353\n",
      "[]\n",
      "list index out of range\n",
      "TCGA-76-6282\n",
      "['/anvar/public_datasets/tcia/manifest-1588284345182/TCGA-GBM/TCGA-76-6282/08-24-1998-JHN BRAIN COMBO IP-22866/']\n",
      "[Errno 17] File exists: '/anvar/public_datasets/preproc_study/gbm/dicom/TCGA-76-6282/RTSTRUCT/'\n",
      "TCGA-06-0185\n",
      "['/anvar/public_datasets/tcia/manifest-1588284345182/TCGA-GBM/TCGA-06-0185/11-07-2003-26945/']\n",
      "[Errno 17] File exists: '/anvar/public_datasets/preproc_study/gbm/dicom/TCGA-06-0185/RTSTRUCT/'\n",
      "TCGA-06-0648\n",
      "[]\n",
      "list index out of range\n",
      "TCGA-06-0189\n",
      "[]\n",
      "list index out of range\n",
      "TCGA-06-0138\n",
      "['/anvar/public_datasets/tcia/manifest-1588284345182/TCGA-GBM/TCGA-06-0138/11-25-2002-91840/']\n",
      "[Errno 17] File exists: '/anvar/public_datasets/preproc_study/gbm/dicom/TCGA-06-0138/RTSTRUCT/'\n",
      "TCGA-02-0085\n",
      "['/anvar/public_datasets/tcia/manifest-1588284345182/TCGA-GBM/TCGA-02-0085/01-30-1999-MRI BRAIN WWO CONTR-29853/']\n",
      "[Errno 17] File exists: '/anvar/public_datasets/preproc_study/gbm/dicom/TCGA-02-0085/RTSTRUCT/'\n",
      "TCGA-08-0529\n",
      "[]\n",
      "list index out of range\n",
      "TCGA-19-1789\n",
      "['/anvar/public_datasets/tcia/manifest-1588284345182/TCGA-GBM/TCGA-19-1789/08-10-2002-NR MRI BRAIN WWO-21407/']\n",
      "[Errno 17] File exists: '/anvar/public_datasets/preproc_study/gbm/dicom/TCGA-19-1789/RTSTRUCT/'\n",
      "TCGA-06-0213\n",
      "[]\n",
      "list index out of range\n",
      "TCGA-06-0128\n",
      "[]\n",
      "list index out of range\n",
      "TCGA-06-6389\n",
      "['/anvar/public_datasets/tcia/manifest-1588284345182/TCGA-GBM/TCGA-06-6389/04-04-2009-MRI BRAIN WWO CONTRAST-34431/']\n",
      "[Errno 17] File exists: '/anvar/public_datasets/preproc_study/gbm/dicom/TCGA-06-6389/RTSTRUCT/'\n",
      "TCGA-02-0027\n",
      "['/anvar/public_datasets/tcia/manifest-1588284345182/TCGA-GBM/TCGA-02-0027/03-28-1999-MRI BRAIN WWO CONTR-72782/']\n",
      "[Errno 17] File exists: '/anvar/public_datasets/preproc_study/gbm/dicom/TCGA-02-0027/RTSTRUCT/'\n",
      "TCGA-14-1825\n",
      "['/anvar/public_datasets/tcia/manifest-1588284345182/TCGA-GBM/TCGA-14-1825/02-10-2000-HeadRoutine-89271/']\n",
      "[Errno 17] File exists: '/anvar/public_datasets/preproc_study/gbm/dicom/TCGA-14-1825/RTSTRUCT/'\n",
      "TCGA-76-6661\n",
      "['/anvar/public_datasets/tcia/manifest-1588284345182/TCGA-GBM/TCGA-76-6661/12-08-2001-MRIA  BRAIN CONTRAST JHN-34840/']\n",
      "[Errno 17] File exists: '/anvar/public_datasets/preproc_study/gbm/dicom/TCGA-76-6661/RTSTRUCT/'\n",
      "TCGA-14-1456\n",
      "['/anvar/public_datasets/tcia/manifest-1588284345182/TCGA-GBM/TCGA-14-1456/04-22-1999-FMRI BRAIN WRECON IMAGES-71076/']\n",
      "[Errno 17] File exists: '/anvar/public_datasets/preproc_study/gbm/dicom/TCGA-14-1456/RTSTRUCT/'\n",
      "TCGA-06-0133\n",
      "[]\n",
      "list index out of range\n",
      "TCGA-06-2570\n",
      "['/anvar/public_datasets/tcia/manifest-1588284345182/TCGA-GBM/TCGA-06-2570/07-26-2007-MRI BRAIN WWO CONTRAST-42847/']\n",
      "[Errno 17] File exists: '/anvar/public_datasets/preproc_study/gbm/dicom/TCGA-06-2570/RTSTRUCT/'\n",
      "TCGA-06-0164\n",
      "['/anvar/public_datasets/tcia/manifest-1588284345182/TCGA-GBM/TCGA-06-0164/02-17-1999-70122/']\n",
      "[Errno 17] File exists: '/anvar/public_datasets/preproc_study/gbm/dicom/TCGA-06-0164/RTSTRUCT/'\n",
      "TCGA-02-0047\n",
      "['/anvar/public_datasets/tcia/manifest-1588284345182/TCGA-GBM/TCGA-02-0047/12-15-1998-MRI BRAIN WWO CONTR-70492/']\n",
      "[Errno 17] File exists: '/anvar/public_datasets/preproc_study/gbm/dicom/TCGA-02-0047/RTSTRUCT/'\n",
      "TCGA-02-0037\n",
      "['/anvar/public_datasets/tcia/manifest-1588284345182/TCGA-GBM/TCGA-02-0037/01-13-1998-MRI BRAIN WWO CONTRAMR-61567/']\n",
      "[Errno 17] File exists: '/anvar/public_datasets/preproc_study/gbm/dicom/TCGA-02-0037/RTSTRUCT/'\n",
      "TCGA-02-0106\n",
      "['/anvar/public_datasets/tcia/manifest-1588284345182/TCGA-GBM/TCGA-02-0106/10-30-1998-MRI BRAIN WWO CONTR-44146/']\n",
      "[Errno 17] File exists: '/anvar/public_datasets/preproc_study/gbm/dicom/TCGA-02-0106/RTSTRUCT/'\n",
      "TCGA-08-0520\n",
      "['/anvar/public_datasets/tcia/manifest-1588284345182/TCGA-GBM/TCGA-08-0520/10-13-1999-MSTEALTH-10536/']\n",
      "[Errno 17] File exists: '/anvar/public_datasets/preproc_study/gbm/dicom/TCGA-08-0520/RTSTRUCT/'\n",
      "TCGA-08-0355\n",
      "['/anvar/public_datasets/tcia/manifest-1588284345182/TCGA-GBM/TCGA-08-0355/06-06-2001-MSTEALTH-13589/']\n",
      "[Errno 17] File exists: '/anvar/public_datasets/preproc_study/gbm/dicom/TCGA-08-0355/RTSTRUCT/'\n",
      "TCGA-76-6280\n",
      "['/anvar/public_datasets/tcia/manifest-1588284345182/TCGA-GBM/TCGA-76-6280/07-21-1998-MRI BRAIN WITHO-51400/']\n",
      "[Errno 17] File exists: '/anvar/public_datasets/preproc_study/gbm/dicom/TCGA-76-6280/RTSTRUCT/'\n",
      "TCGA-19-5960\n",
      "['/anvar/public_datasets/tcia/manifest-1588284345182/TCGA-GBM/TCGA-19-5960/03-15-2004-NR MRI BRAIN WWO-30388/']\n",
      "[Errno 17] File exists: '/anvar/public_datasets/preproc_study/gbm/dicom/TCGA-19-5960/RTSTRUCT/'\n",
      "TCGA-76-6285\n",
      "['/anvar/public_datasets/tcia/manifest-1588284345182/TCGA-GBM/TCGA-76-6285/12-19-1998-MRI STRYKER W  JHN-32999/']\n",
      "[Errno 17] File exists: '/anvar/public_datasets/preproc_study/gbm/dicom/TCGA-76-6285/RTSTRUCT/'\n",
      "TCGA-76-6664\n",
      "['/anvar/public_datasets/tcia/manifest-1588284345182/TCGA-GBM/TCGA-76-6664/01-10-2002-MRI BRAIN per R-81790/']\n",
      "[Errno 17] File exists: '/anvar/public_datasets/preproc_study/gbm/dicom/TCGA-76-6664/RTSTRUCT/'\n",
      "TCGA-02-0087\n",
      "['/anvar/public_datasets/tcia/manifest-1588284345182/TCGA-GBM/TCGA-02-0087/12-13-1999-MRI BRAIN WWO CONTRAST-62702/']\n",
      "[Errno 17] File exists: '/anvar/public_datasets/preproc_study/gbm/dicom/TCGA-02-0087/RTSTRUCT/'\n",
      "TCGA-76-6193\n",
      "['/anvar/public_datasets/tcia/manifest-1588284345182/TCGA-GBM/TCGA-76-6193/06-02-2001-MRI BRAIN STRYKER JHN IP-60175/']\n",
      "[Errno 17] File exists: '/anvar/public_datasets/preproc_study/gbm/dicom/TCGA-76-6193/RTSTRUCT/'\n",
      "TCGA-19-0963\n",
      "['/anvar/public_datasets/tcia/manifest-1588284345182/TCGA-GBM/TCGA-19-0963/10-12-2001-NR MRI BRAIN WWO-55607/']\n",
      "[Errno 17] File exists: '/anvar/public_datasets/preproc_study/gbm/dicom/TCGA-19-0963/RTSTRUCT/'\n",
      "TCGA-08-0389\n",
      "['/anvar/public_datasets/tcia/manifest-1588284345182/TCGA-GBM/TCGA-08-0389/07-25-2003-MSTEALTH-53431/']\n",
      "[Errno 17] File exists: '/anvar/public_datasets/preproc_study/gbm/dicom/TCGA-08-0389/RTSTRUCT/'\n",
      "TCGA-12-0616\n",
      "['/anvar/public_datasets/tcia/manifest-1588284345182/TCGA-GBM/TCGA-12-0616/04-12-1999-Routine Brain-03138/']\n",
      "[Errno 17] File exists: '/anvar/public_datasets/preproc_study/gbm/dicom/TCGA-12-0616/RTSTRUCT/'\n",
      "TCGA-02-0054\n",
      "['/anvar/public_datasets/tcia/manifest-1588284345182/TCGA-GBM/TCGA-02-0054/05-16-1999-MRI BRAIN WWO CONTR-68633/']\n",
      "[Errno 17] File exists: '/anvar/public_datasets/preproc_study/gbm/dicom/TCGA-02-0054/RTSTRUCT/'\n",
      "TCGA-14-3477\n",
      "['/anvar/public_datasets/tcia/manifest-1588284345182/TCGA-GBM/TCGA-14-3477/05-01-2002-HeadRoutine-00618/']\n",
      "[Errno 17] File exists: '/anvar/public_datasets/preproc_study/gbm/dicom/TCGA-14-3477/RTSTRUCT/'\n",
      "TCGA-08-0385\n",
      "['/anvar/public_datasets/tcia/manifest-1588284345182/TCGA-GBM/TCGA-08-0385/08-27-2001-MSTEALTH-72375/']\n",
      "[Errno 17] File exists: '/anvar/public_datasets/preproc_study/gbm/dicom/TCGA-08-0385/RTSTRUCT/'\n",
      "TCGA-06-0119\n",
      "['/anvar/public_datasets/tcia/manifest-1588284345182/TCGA-GBM/TCGA-06-0119/12-26-2003-90543/']\n",
      "[Errno 17] File exists: '/anvar/public_datasets/preproc_study/gbm/dicom/TCGA-06-0119/RTSTRUCT/'\n",
      "TCGA-06-0149\n",
      "['/anvar/public_datasets/tcia/manifest-1588284345182/TCGA-GBM/TCGA-06-0149/03-25-2003-87536/']\n",
      "[Errno 17] File exists: '/anvar/public_datasets/preproc_study/gbm/dicom/TCGA-06-0149/RTSTRUCT/'\n",
      "TCGA-08-0357\n",
      "[]\n",
      "list index out of range\n",
      "TCGA-06-0168\n",
      "[]\n",
      "list index out of range\n",
      "TCGA-06-0644\n",
      "['/anvar/public_datasets/tcia/manifest-1588284345182/TCGA-GBM/TCGA-06-0644/11-28-2005-78030/']\n",
      "[Errno 17] File exists: '/anvar/public_datasets/preproc_study/gbm/dicom/TCGA-06-0644/RTSTRUCT/'\n",
      "TCGA-08-0524\n",
      "[]\n",
      "list index out of range\n",
      "TCGA-08-0360\n",
      "['/anvar/public_datasets/tcia/manifest-1588284345182/TCGA-GBM/TCGA-08-0360/02-23-2003-MSTEALTH-DTI-31064/']\n",
      "[Errno 17] File exists: '/anvar/public_datasets/preproc_study/gbm/dicom/TCGA-08-0360/RTSTRUCT/'\n",
      "TCGA-06-0179\n",
      "['/anvar/public_datasets/tcia/manifest-1588284345182/TCGA-GBM/TCGA-06-0179/07-27-2002-73217/']\n",
      "[Errno 17] File exists: '/anvar/public_datasets/preproc_study/gbm/dicom/TCGA-06-0179/RTSTRUCT/'\n",
      "TCGA-02-0006\n",
      "['/anvar/public_datasets/tcia/manifest-1588284345182/TCGA-GBM/TCGA-02-0006/08-23-1996-MRI BRAIN W WO CONTRAMR-42545/']\n",
      "[Errno 17] File exists: '/anvar/public_datasets/preproc_study/gbm/dicom/TCGA-02-0006/RTSTRUCT/'\n",
      "TCGA-06-5408\n",
      "['/anvar/public_datasets/tcia/manifest-1588284345182/TCGA-GBM/TCGA-06-5408/01-11-2008-34135/']\n",
      "[Errno 17] File exists: '/anvar/public_datasets/preproc_study/gbm/dicom/TCGA-06-5408/RTSTRUCT/'\n",
      "TCGA-06-0142\n",
      "['/anvar/public_datasets/tcia/manifest-1588284345182/TCGA-GBM/TCGA-06-0142/03-11-2000-15813/']\n",
      "[Errno 17] File exists: '/anvar/public_datasets/preproc_study/gbm/dicom/TCGA-06-0142/RTSTRUCT/'\n",
      "TCGA-27-1834\n",
      "[]\n",
      "list index out of range\n",
      "TCGA-19-5954\n",
      "['/anvar/public_datasets/tcia/manifest-1588284345182/TCGA-GBM/TCGA-19-5954/12-30-2003-NR MRI BRAIN WWO-20971/']\n",
      "[Errno 17] File exists: '/anvar/public_datasets/preproc_study/gbm/dicom/TCGA-19-5954/RTSTRUCT/'\n",
      "TCGA-76-6191\n",
      "['/anvar/public_datasets/tcia/manifest-1588284345182/TCGA-GBM/TCGA-76-6191/10-20-2000-MRI STRYKER BRAIN W  JHN-83114/']\n",
      "[Errno 17] File exists: '/anvar/public_datasets/preproc_study/gbm/dicom/TCGA-76-6191/RTSTRUCT/'\n",
      "TCGA-06-0132\n",
      "[]\n",
      "list index out of range\n",
      "TCGA-06-0145\n",
      "['/anvar/public_datasets/tcia/manifest-1588284345182/TCGA-GBM/TCGA-06-0145/11-06-2000-TVPSPECTOSCOPTIC-46751/']\n",
      "[Errno 17] File exists: '/anvar/public_datasets/preproc_study/gbm/dicom/TCGA-06-0145/RTSTRUCT/'\n",
      "TCGA-06-0130\n",
      "['/anvar/public_datasets/tcia/manifest-1588284345182/TCGA-GBM/TCGA-06-0130/09-11-2001-93062/']\n",
      "[Errno 17] File exists: '/anvar/public_datasets/preproc_study/gbm/dicom/TCGA-06-0130/RTSTRUCT/'\n",
      "TCGA-06-0154\n",
      "['/anvar/public_datasets/tcia/manifest-1588284345182/TCGA-GBM/TCGA-06-0154/04-05-1996-29573/']\n",
      "[Errno 17] File exists: '/anvar/public_datasets/preproc_study/gbm/dicom/TCGA-06-0154/RTSTRUCT/'\n",
      "TCGA-02-0116\n",
      "['/anvar/public_datasets/tcia/manifest-1588284345182/TCGA-GBM/TCGA-02-0116/03-22-1997-MRI BRAIN WWO CONTRAMR-70515/']\n",
      "[Errno 17] File exists: '/anvar/public_datasets/preproc_study/gbm/dicom/TCGA-02-0116/RTSTRUCT/'\n",
      "TCGA-02-0064\n",
      "['/anvar/public_datasets/tcia/manifest-1588284345182/TCGA-GBM/TCGA-02-0064/08-08-1999-MRI BRAIN WWO CONTRAST-72116/']\n",
      "[Errno 17] File exists: '/anvar/public_datasets/preproc_study/gbm/dicom/TCGA-02-0064/RTSTRUCT/'\n",
      "TCGA-12-1602\n",
      "[]\n",
      "list index out of range\n",
      "TCGA-19-5951\n",
      "['/anvar/public_datasets/tcia/manifest-1588284345182/TCGA-GBM/TCGA-19-5951/09-14-2003-NR MRI BRAIN WWO-33278/']\n",
      "[Errno 17] File exists: '/anvar/public_datasets/preproc_study/gbm/dicom/TCGA-19-5951/RTSTRUCT/'\n",
      "TCGA-76-6662\n",
      "['/anvar/public_datasets/tcia/manifest-1588284345182/TCGA-GBM/TCGA-76-6662/12-13-2001-MRI BRAIN WITH-86043/']\n",
      "[Errno 17] File exists: '/anvar/public_datasets/preproc_study/gbm/dicom/TCGA-76-6662/RTSTRUCT/'\n",
      "TCGA-12-1601\n",
      "['/anvar/public_datasets/tcia/manifest-1588284345182/TCGA-GBM/TCGA-12-1601/06-19-2000-MRI BRAIN WWO ENHANCEMENT-83859/']\n",
      "[Errno 17] File exists: '/anvar/public_datasets/preproc_study/gbm/dicom/TCGA-12-1601/RTSTRUCT/'\n",
      "TCGA-06-0182\n",
      "['/anvar/public_datasets/tcia/manifest-1588284345182/TCGA-GBM/TCGA-06-0182/09-01-2002-MRI BRAIN WWO CONTRAS-96990/']\n",
      "[Errno 17] File exists: '/anvar/public_datasets/preproc_study/gbm/dicom/TCGA-06-0182/RTSTRUCT/'\n",
      "TCGA-02-0046\n",
      "['/anvar/public_datasets/tcia/manifest-1588284345182/TCGA-GBM/TCGA-02-0046/11-28-1998-MRI BRAIN WWO CONTR-34177/']\n",
      "[Errno 17] File exists: '/anvar/public_datasets/preproc_study/gbm/dicom/TCGA-02-0046/RTSTRUCT/'\n",
      "TCGA-08-0522\n",
      "['/anvar/public_datasets/tcia/manifest-1588284345182/TCGA-GBM/TCGA-08-0522/04-24-2000-MSTEALTH-54446/']\n",
      "[Errno 17] File exists: '/anvar/public_datasets/preproc_study/gbm/dicom/TCGA-08-0522/RTSTRUCT/'\n",
      "TCGA-06-0139\n",
      "['/anvar/public_datasets/tcia/manifest-1588284345182/TCGA-GBM/TCGA-06-0139/06-10-2004-06150/']\n",
      "[Errno 17] File exists: '/anvar/public_datasets/preproc_study/gbm/dicom/TCGA-06-0139/RTSTRUCT/'\n",
      "TCGA-27-1838\n",
      "[]\n",
      "list index out of range\n",
      "TCGA-06-0188\n",
      "['/anvar/public_datasets/tcia/manifest-1588284345182/TCGA-GBM/TCGA-06-0188/07-17-2004-63675/']\n",
      "[Errno 17] File exists: '/anvar/public_datasets/preproc_study/gbm/dicom/TCGA-06-0188/RTSTRUCT/'\n",
      "TCGA-06-0177\n",
      "['/anvar/public_datasets/tcia/manifest-1588284345182/TCGA-GBM/TCGA-06-0177/05-25-2002-52708/']\n",
      "[Errno 17] File exists: '/anvar/public_datasets/preproc_study/gbm/dicom/TCGA-06-0177/RTSTRUCT/'\n",
      "TCGA-27-2526\n",
      "[]\n",
      "list index out of range\n",
      "TCGA-02-0068\n",
      "['/anvar/public_datasets/tcia/manifest-1588284345182/TCGA-GBM/TCGA-02-0068/05-16-2000-MRI BRAIN WWO CONTRAST-14061/']\n",
      "[Errno 17] File exists: '/anvar/public_datasets/preproc_study/gbm/dicom/TCGA-02-0068/RTSTRUCT/'\n"
     ]
    }
   ],
   "source": [
    "import shutil\n",
    "\n",
    "for i in range(0, len(paths)):\n",
    "    print(paths['ID'].iloc[i])\n",
    "    try:\n",
    "#         os.mkdir(savedir + paths['ID'].iloc[i] + '/')\n",
    "        print(glob.glob(rtdir + paths['ID'].iloc[i] +'/*/'))\n",
    "        shutil.copytree(glob.glob(rtdir + paths['ID'].iloc[i] +'/*/')[0], savedir + paths['ID'].iloc[i] + '/RTSTRUCT/') \n",
    "      \n",
    "    except Exception as error:\n",
    "        print(error) \n",
    "        pass  \n",
    "          "
   ]
  },
  {
   "cell_type": "code",
   "execution_count": null,
   "metadata": {},
   "outputs": [],
   "source": []
  }
 ],
 "metadata": {
  "kernelspec": {
   "display_name": "Python 3 (ipykernel)",
   "language": "python",
   "name": "python3"
  },
  "language_info": {
   "codemirror_mode": {
    "name": "ipython",
    "version": 3
   },
   "file_extension": ".py",
   "mimetype": "text/x-python",
   "name": "python",
   "nbconvert_exporter": "python",
   "pygments_lexer": "ipython3",
   "version": "3.9.1"
  }
 },
 "nbformat": 4,
 "nbformat_minor": 4
}
