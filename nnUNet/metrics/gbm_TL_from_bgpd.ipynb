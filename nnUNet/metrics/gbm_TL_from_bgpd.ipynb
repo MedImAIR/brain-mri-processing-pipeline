{
 "cells": [
  {
   "cell_type": "code",
   "execution_count": 1,
   "id": "fba86a2f",
   "metadata": {},
   "outputs": [],
   "source": [
    "import os\n",
    "import sys\n",
    "import argparse\n",
    "import numpy as np\n",
    "import torch\n",
    "import pandas as pd\n",
    "import nibabel as nib    \n",
    "from pathlib import Path\n",
    "from surface_distance import metrics\n",
    "from tqdm import tqdm\n",
    "import torch.nn as nn\n",
    "import ants\n",
    "import json"
   ]
  },
  {
   "cell_type": "code",
   "execution_count": 14,
   "id": "5bcf6c63",
   "metadata": {},
   "outputs": [],
   "source": [
    "def pred_invert_resample(path_to_pred, path_to_orig, path_to_resampled):\n",
    "    # path_to_pred = *npz, path_to_orig = *1_reg, path_to_resampled = *4a_resample\n",
    "    # *.npz archives sometimes can be recognised wrong, if extracted and saved back at the same time\n",
    "#     data = np.load(path_to_pred, allow_pickle=True)['arr_0']\n",
    "    # schw\n",
    "    if np.shape(data)[0] == 1:\n",
    "        data = data.transpose(0,3,2,1).astype('float32')\n",
    "        old_orig = ants.image_read(path_to_resampled)\n",
    "        new_orig = ants.image_read(path_to_orig)\n",
    "        old_like = old_orig.new_image_like(data[0])\n",
    "        new_img = ants.resample_image(old_like, new_orig.spacing, False, 0)\n",
    "        output_file = new_img.numpy().astype('float16')\n",
    "    \n",
    "    # gbm and lgg\n",
    "    elif np.shape(data)[0] > 1:\n",
    "        data = data.transpose(0,3,2,1).astype('float32')\n",
    "\n",
    "        old_orig_ct1 = ants.image_read(path_to_resampled)\n",
    "        new_orig_ct1 = ants.image_read(path_to_orig)\n",
    "\n",
    "        old_like_ch_0 = old_orig_ct1.new_image_like(data[0])\n",
    "        old_like_ch_1 = old_orig_ct1.new_image_like(data[1])\n",
    "        old_like_ch_2 = old_orig_ct1.new_image_like(data[2])\n",
    "\n",
    "        new_img_0 = ants.resample_image(old_like_ch_0, new_orig_ct1, False, 0)\n",
    "        new_img_1 = ants.resample_image(old_like_ch_1, new_orig_ct1, False, 0)\n",
    "        new_img_2 = ants.resample_image(old_like_ch_2, new_orig_ct1, False, 0)\n",
    "\n",
    "        new_img_shape =  new_img_2.numpy().shape\n",
    "\n",
    "        new_array = np.zeros(tuple([3] + list(new_img_shape)), dtype='float16')\n",
    "        new_array[0] = new_img_0.numpy()\n",
    "        new_array[1] = new_img_1.numpy()\n",
    "        new_array[2] = new_img_2.numpy()\n",
    "        output_file = new_array.transpose(0,3,2,1).astype('float16')\n",
    "    return (output_file)\n",
    "\n",
    "def pred_invert_resample_1cl(data,mat_fie_sub, path_to_orig, path_to_resampled, mod = None):\n",
    "    # path_to_pred = *npz, path_to_orig = *1_reg, path_to_resampled = *4a_resample\n",
    "    # *.npz archives sometimes can be recognised wrong, if extracted and saved back at the same time\n",
    "#     data = np.load(path_to_pred, allow_pickle=True)['arr_0']\n",
    "    # schw\n",
    "        data = data.transpose(0,3,2,1).astype('float32')\n",
    "#         print('data')\n",
    "#         print(data.shape)\n",
    "        old_orig = ants.image_read(path_to_resampled)\n",
    "#         print('old_orig')\n",
    "#         print(old_orig.shape)\n",
    "        \n",
    "        new_orig = ants.image_read(path_to_orig)\n",
    "        old_like = old_orig.new_image_like(data[0])\n",
    "        if mod == '3a_atlas':\n",
    "#             print('a')\n",
    "            new_img = ants.apply_transforms(new_orig, old_like, whichtoinvert=[True],\n",
    "                                      transformlist = mat_fie_sub)\n",
    "        elif mod == '2a_interp':\n",
    "#             print('cehck')\n",
    "            new_img = ants.resample_image(old_like, new_orig.shape, True, 0)\n",
    "        else:\n",
    "            new_img = ants.resample_image(old_like, new_orig.spacing, False, 0)\n",
    "#         print('new_img')\n",
    "#         print(new_img.shape)\n",
    "        output_file = new_img.numpy().astype('float16')\n",
    "#         print(new_orig.shape)\n",
    "#         print(output_file.shape)\n",
    "#         print(new_orig.shape)\n",
    "        if (new_orig.shape[0]-output_file.shape[0] < 0 ) or (new_orig.shape[1]-output_file.shape[1] < 0) or (new_orig.shape[2]-output_file.shape[2] < 0):\n",
    "            print('1')\n",
    "            output_file = output_file[:new_orig.shape[0], :new_orig.shape[1],:new_orig.shape[2] ]\n",
    "        if (new_orig.shape[0]-output_file.shape[0] > 0) or (new_orig.shape[1]-output_file.shape[1] > 0) or (new_orig.shape[2]-output_file.shape[2] > 0):\n",
    "            print('2')\n",
    "            output_file = np.pad(output_file, ((0, new_orig.shape[0]-output_file.shape[0]), (0, new_orig.shape[1]-output_file.shape[1]), (0, new_orig.shape[2]-output_file.shape[2])), 'constant', constant_values=0)\n",
    "\n",
    "#         output_file = output_file[:new_orig.shape[0], :new_orig.shape[1],:new_orig.shape[2] ]\n",
    "#         print(output_file.shape)\n",
    "#         print(output_file.shape)\n",
    "        return (output_file)\n",
    "    \n",
    "def pred_invert_resample_classes(data, mat_file_path, path_to_orig, path_to_resampled, mod):\n",
    "\n",
    "    # gbm and lgg\n",
    "        data = data.transpose(0,3,2,1).astype('float32')\n",
    "#         print(data.shape)\n",
    "        old_orig_ct1 = ants.image_read(path_to_resampled)\n",
    "        new_orig_ct1 = ants.image_read(path_to_orig)\n",
    "    \n",
    "#         print(old_orig_ct1.shape)\n",
    "#         print(new_orig_ct1.shape)\n",
    "        old_like_ch_0 = old_orig_ct1.new_image_like(data[0])\n",
    "        old_like_ch_1 = old_orig_ct1.new_image_like(data[1])\n",
    "        old_like_ch_2 = old_orig_ct1.new_image_like(data[2])\n",
    "#         print('old_like')\n",
    "# #         print(old_like_ch_2.shape)\n",
    "        if mod == '2a_interp':\n",
    "            new_img_0 = ants.resample_image(old_like_ch_0, new_orig_ct1.shape, True, 0)\n",
    "            new_img_1 = ants.resample_image(old_like_ch_1, new_orig_ct1.shape, True, 0)\n",
    "            new_img_2 = ants.resample_image(old_like_ch_2, new_orig_ct1.shape, True, 0)\n",
    "        if mod == '3a_atlas':\n",
    "            new_img_0 = ants.apply_transforms(new_orig_ct1, old_like_ch_0, whichtoinvert=[True],\n",
    "                                          transformlist = mat_file_path)\n",
    "            new_img_1 = ants.apply_transforms(new_orig_ct1, old_like_ch_1, whichtoinvert=[True],\n",
    "                                          transformlist = mat_file_path)\n",
    "            new_img_2 = ants.apply_transforms(new_orig_ct1, old_like_ch_2, whichtoinvert=[True],\n",
    "                                          transformlist = mat_file_path)\n",
    "        else:\n",
    "            new_img_0 = ants.resample_image(old_like_ch_0, new_orig_ct1.spacing, False, 0)\n",
    "            new_img_1 = ants.resample_image(old_like_ch_1, new_orig_ct1.spacing, False, 0)\n",
    "            new_img_2 = ants.resample_image(old_like_ch_2, new_orig_ct1.spacing, False, 0)\n",
    "       \n",
    "        new_img_shape =  new_img_2.numpy().shape\n",
    "\n",
    "        new_array = np.zeros(tuple([3] + list(new_img_shape)), dtype='float16')\n",
    "        new_array[0] = new_img_0.numpy()\n",
    "        new_array[1] = new_img_1.numpy()\n",
    "        new_array[2] = new_img_2.numpy()\n",
    "        output_file = new_array.astype('float16')\n",
    "#         print(output_file.shape)\n",
    "#         print('check_shape')\n",
    "#         print(new_orig_ct1.shape)\n",
    "#         print(new_orig_ct1.shape[2]-output_file.shape[3])\n",
    "#         print((new_orig_ct1.shape[1]-output_file.shape[2]))\n",
    "#         print((new_orig_ct1.shape[0]-output_file.shape[1]))\n",
    "        if (new_orig_ct1.shape[2]-output_file.shape[3] < 0 ) or (new_orig_ct1.shape[1]-output_file.shape[2] < 0) or (new_orig_ct1.shape[0]-output_file.shape[1] < 0):\n",
    "            print(1)\n",
    "            output_file = output_file[:, :new_orig_ct1.shape[0], :new_orig_ct1.shape[1],:new_orig_ct1.shape[2] ]\n",
    "            \n",
    "        if (new_orig_ct1.shape[2]-output_file.shape[3] > 0) or (new_orig_ct1.shape[1]-output_file.shape[2] > 0 ) or (new_orig_ct1.shape[0]-output_file.shape[1] > 0):\n",
    "            print(2)\n",
    "            output_file = np.pad(output_file, ((0,0), (0, new_orig_ct1.shape[0]-output_file.shape[1]), (0, new_orig_ct1.shape[1]-output_file.shape[2]), (0, new_orig_ct1.shape[2]-output_file.shape[3])), 'constant', constant_values=0)\n",
    "\n",
    "        output_file = output_file[:,:new_orig_ct1.shape[0], :new_orig_ct1.shape[1],:new_orig_ct1.shape[2] ]\n",
    "#         print(output_file.shape)\n",
    "        \n",
    "        return (output_file)"
   ]
  },
  {
   "cell_type": "code",
   "execution_count": 3,
   "id": "866859cb",
   "metadata": {},
   "outputs": [],
   "source": [
    "def sensitivity_and_specificity(mask_gt, mask_pred):\n",
    "    \"\"\" Computes sensitivity and specificity\n",
    "     sensitivity  = TP/(TP+FN)\n",
    "     specificity  = TN/(TN+FP) \"\"\"\n",
    "    volume_sum = mask_gt.sum() + mask_pred.sum()\n",
    "    tp = (mask_gt & mask_pred).sum()\n",
    "    tn = (~mask_gt & ~mask_pred).sum()\n",
    "    fp = (~mask_gt & mask_pred).sum()\n",
    "    fn = (mask_gt & ~mask_pred).sum()\n",
    "#     TP/(TP+FP) - precision; TP/(TP+FN) - recall\n",
    "    return tp/(tp+fn), tp/(tp+fp), tn/(tn+fp)"
   ]
  },
  {
   "cell_type": "code",
   "execution_count": 4,
   "id": "fcf5887c",
   "metadata": {},
   "outputs": [],
   "source": [
    "def calculate_metrics_brats_1cl(true_mask, pred_mask, ids, spaces):\n",
    "    \"\"\" Takes two file locations as input and validates surface distances.\n",
    "    Be careful with dimensions of saved `pred` it should be 3D.\n",
    "    \n",
    "    \"\"\"\n",
    "    \n",
    "    _columns = ['Ids','Dice_1',\n",
    "                'Hausdorff95_1',\n",
    "                'Sensitivity_1',\n",
    "               'Specificity_1',\n",
    "               'Surface_dice_1',\n",
    "               'Precision_1']\n",
    "    \n",
    "    df = pd.DataFrame(columns = _columns)\n",
    "    df.at[0,'Ids'] = ids\n",
    "    #class 1\n",
    "    distances = metrics.compute_surface_distances((true_mask==1), (pred_mask==1), spaces)\n",
    "    df.at[0,'Dice_1'] = metrics.compute_dice_coefficient((true_mask==1), (pred_mask==1))\n",
    "    df.at[0,'Surface_dice_1'] = metrics.compute_surface_dice_at_tolerance(distances,1)\n",
    "    df.at[0,'Hausdorff95_1'] = metrics.compute_robust_hausdorff(distances, 95)\n",
    "    sens, precision, spec = sensitivity_and_specificity((true_mask==1), (pred_mask==1))\n",
    "    df.at[0,'Sensitivity_1'] = sens\n",
    "    df.at[0,'Precision_1'] = precision\n",
    "    df.at[0,'Specificity_1'] = spec\n",
    "    return df\n",
    "\n",
    "def calculate_metrics_brats(true_mask, pred_mask, ids, spaces):\n",
    "    \"\"\" Takes two file locations as input and validates surface distances.\n",
    "    Be careful with dimensions of saved `pred` it should be 3D.\n",
    "    \n",
    "    \"\"\"\n",
    "    \n",
    "    _columns = ['Ids','Dice_1', 'Dice_2', 'Dice_3',\n",
    "                'Hausdorff95_1', 'Hausdorff95_2', 'Hausdorff95_3',\n",
    "                'Sensitivity_1', 'Sensitivity_2', 'Sensitivity_3',\n",
    "               'Specificity_1', 'Specificity_2', 'Specificity_3',\n",
    "               'Surface_dice_1', 'Surface_dice_2', 'Surface_dice_3',\n",
    "               'Precision_1', 'Precision_2', 'Precision_3']\n",
    "    \n",
    "    \n",
    "    df = pd.DataFrame(columns = _columns)\n",
    "    df.at[0,'Ids'] = ids\n",
    "    #class 1\n",
    "    distances = metrics.compute_surface_distances((true_mask[0,:,:,:]==1), (pred_mask[0,:,:,:]==1), spaces)\n",
    "    df.at[0,'Dice_1'] = metrics.compute_dice_coefficient((true_mask[0,:,:,:]==1), (pred_mask[0,:,:,:]==1))\n",
    "    df.at[0,'Surface_dice_1'] = metrics.compute_surface_dice_at_tolerance(distances,1)\n",
    "    df.at[0,'Hausdorff95_1'] = metrics.compute_robust_hausdorff(distances, 95)\n",
    "    sens, precision, spec = sensitivity_and_specificity((true_mask[0,:,:,:]==1), (pred_mask[0,:,:,:]==1))\n",
    "    df.at[0,'Sensitivity_1'] = sens\n",
    "    df.at[0,'Precision_1'] = precision\n",
    "    df.at[0,'Specificity_1'] = spec\n",
    "    #class 2\n",
    "    distances = metrics.compute_surface_distances((true_mask[1,:,:,:]==1), (pred_mask[1,:,:,:]==1), spaces)\n",
    "    df.at[0,'Dice_2'] = metrics.compute_dice_coefficient((true_mask[1,:,:,:]==1), (pred_mask[1,:,:,:]==1))\n",
    "    df.at[0,'Surface_dice_2'] = metrics.compute_surface_dice_at_tolerance(distances,1)\n",
    "    df.at[0,'Hausdorff95_2'] = metrics.compute_robust_hausdorff(distances, 95)\n",
    "    sens,precision, spec= sensitivity_and_specificity((true_mask[1,:,:,:]==1), (pred_mask[1,:,:,:]==1))\n",
    "    df.at[0,'Sensitivity_2'] = sens\n",
    "    df.at[0,'Precision_2'] = precision\n",
    "    df.at[0,'Specificity_2'] = spec\n",
    "    #class 3\n",
    "    distances = metrics.compute_surface_distances((true_mask[2,:,:,:]==1), (pred_mask[2,:,:,:]==1), spaces)\n",
    "    df.at[0,'Dice_3'] = metrics.compute_dice_coefficient((true_mask[2,:,:,:]==1), (pred_mask[2,:,:,:]==1))\n",
    "    df.at[0,'Surface_dice_3'] = metrics.compute_surface_dice_at_tolerance(distances,1)\n",
    "    df.at[0,'Hausdorff95_3'] = metrics.compute_robust_hausdorff(distances, 95)\n",
    "    sens, precision, spec= sensitivity_and_specificity((true_mask[2,:,:,:]==1), (pred_mask[2,:,:,:]==1))\n",
    "    df.at[0,'Sensitivity_3'] = sens\n",
    "    df.at[0,'Precision_3'] = precision\n",
    "    df.at[0,'Specificity_3'] = spec\n",
    "    return df"
   ]
  },
  {
   "cell_type": "code",
   "execution_count": 184,
   "id": "403a89c4",
   "metadata": {},
   "outputs": [],
   "source": [
    "    \n",
    "def calculate_metrics(subjects, path_to_file, path_to_orig, path_to_pred, path_to_resamp, path_to_target, dataset, out = '/home/polina/glioma/all_dice_metrics.csv', mod=None  ):\n",
    "    \n",
    "    \"\"\" \n",
    "    - path_to_pred - path to folder with predict subjects\n",
    "    - path_to_target - path to folder with target subjects\n",
    "    - name_pred - name for prediction, ex -brainTumorMask_SRI.nii.gz\n",
    "    - name_target - name for targets, ex -GTV_to_SRI.nii.gz\n",
    "    - spaces - if false - [1,1,1]\n",
    "    - name_csv - name files for each subjects\n",
    "    - path_csv_all - path to the main file with metrics for each subjects\n",
    "    \"\"\"\n",
    "#     _columns = ['Ids','Dice_1', 'Dice_2', 'Dice_3',\n",
    "#                 'Hausdorff95_1', 'Hausdorff95_2', 'Hausdorff95_3',\n",
    "#                 'Sensitivity_1', 'Sensitivity_2', 'Sensitivity_3',\n",
    "#                'Specificity_1', 'Specificity_2', 'Specificity_3',\n",
    "#                'Surface_dice_1', 'Surface_dice_2', 'Surface_dice_3',\n",
    "#                'Precision_1', 'Precision_2', 'Precision_3']\n",
    "    _columns = ['Ids','Dice_1',\n",
    "                'Hausdorff95_1',\n",
    "                'Sensitivity_1',\n",
    "               'Specificity_1',\n",
    "               'Surface_dice_1',\n",
    "               'Precision_1']\n",
    "    \n",
    "    af_all = pd.DataFrame(columns = _columns)\n",
    "    pred_folder = Path(path_to_pred)\n",
    "    orig_folder = Path(path_to_orig)\n",
    "    resamp_folder = Path(path_to_resamp)\n",
    "    target_folder = Path(path_to_target)\n",
    "    file_folder = Path(path_to_file)\n",
    "    for ids in tqdm(subjects):\n",
    "        print(ids)\n",
    "        pred_sub = os.path.join(pred_folder, ids + '.npy.npz')\n",
    "        orig_sub = os.path.join(orig_folder, ids,'CT1_SEG.nii.gz')\n",
    "#         orig_sub = os.path.join(orig_folder, ids,'T1_SEG.nii.gz')\n",
    "        resamp_sub = os.path.join(resamp_folder, ids,'CT1_SEG.nii.gz')\n",
    "#         resamp_sub = os.path.join(resamp_folder, ids,'T1_SEG.nii.gz')\n",
    "        mat_fie_sub = os.path.join(file_folder, ids,'T1C_to_SRI_inv.mat')\n",
    "#         targets = nib.load(os.path.join(target_folder, ids + '_seg.nii.gz'))\n",
    "#         targets = ants.image_read(orig_sub)\n",
    "#         targets = ants.reorient_image2(label_orig, orientation = 'LAI')\n",
    "#         targets = nib.load(orig_sub)\n",
    "#         spaces = targets.header.get_zooms()\n",
    "#         spaces = targets.spacing\n",
    "#         targets = targets.numpy().astype('int')\n",
    "        targets = ants.image_read(f'{target_folder}/{ids}/CT1_SEG.nii.gz')\n",
    "#         targets = ants.image_read(f'{target_folder}/{ids}/T1_SEG.nii.gz')\n",
    "        spaces = targets.spacing\n",
    "#         targets = ants.reorient_image2(targets, orientation = 'LAI').numpy()\n",
    "        targets = targets.numpy()\n",
    "#         print(targets.shape)\n",
    "#         print(np.unique(targets))\n",
    "        data = np.load(pred_sub, allow_pickle=True)['arr_0']\n",
    "#         print(data.shape)\n",
    "        if np.shape(data)[0] == 1: \n",
    "#             print('check')\n",
    "#             print(ants.image_read(orig_sub).shape)\n",
    "#             print(targets.shape)\n",
    "            prediction = pred_invert_resample_1cl(data, mat_fie_sub, orig_sub, resamp_sub, mod)\n",
    "            prediction = np.round(prediction, 0)\n",
    "#         pred = np.transpose(pred, (0, 3, 2, 1))\n",
    "#             print(prediction.shape)\n",
    "#             print(np.unique(prediction))\n",
    "#             print(targets.shape)\n",
    "#             print(prediction.shape)\n",
    "            y_wt = targets > 0\n",
    "            df = calculate_metrics_brats_1cl(y_wt.astype('int'), prediction.astype('int'), ids, spaces)\n",
    "            print(df)\n",
    "        elif np.shape(data)[0] > 1: \n",
    "            prediction = pred_invert_resample_classes(data, mat_fie_sub, orig_sub, resamp_sub, mod)\n",
    "#             prediction = data.transpose(0,3,2,1).astype('float32')\n",
    "            prediction = np.round(prediction, 0)\n",
    "            y_wt, y_tc, y_et = targets > 0, ((targets == 1) + (targets == 3)) > 0, targets == 3\n",
    "            targets = np.stack([y_wt, y_tc, y_et], axis=0).astype(int)\n",
    "#             print(targets.shape)\n",
    "#             print(prediction.shape)\n",
    "            df=calculate_metrics_brats(targets.astype('int'), prediction.astype('int'), ids, spaces)\n",
    "#             print(df)\n",
    "#             except:\n",
    "#                 continue\n",
    "        os.makedirs(os.path.join(out, dataset,ids), exist_ok = True)\n",
    "#         print(path_to_pred)\n",
    "#         out_path = os.path.join(out, dataset,ids, path_to_pred.split('/')[-2] + '_'+ path_to_pred.split('best_')[-1].replace('=', '_') + '.json')\n",
    "        out_path = os.path.join(out, dataset,ids, path_to_pred.split('/')[-2] + '_'+ path_to_pred.split('predictions_')[-1].replace('=', '_') + '.json')\n",
    "       #         df.to_json(out_path, orient='records')\n",
    "        sub_dict = {dataset : {path_to_pred.split('/')[-2]: {path_to_pred.split('_')[-2]: {}}}}\n",
    "        sub_dict[dataset][path_to_pred.split('/')[-2]][path_to_pred.split('_')[-2]] = df.to_dict('records')[0]\n",
    "#         print(sub_dict)\n",
    "        with open(out_path, 'w') as fp:\n",
    "            json.dump(sub_dict, fp)\n",
    "#         print(df)\n",
    "        af_all = af_all.append(df)\n",
    "#     af_all.to_csv(out)  \n",
    "    print(af_all.mean())\n",
    "    print(len(af_all))\n",
    "    return af_all"
   ]
  },
  {
   "cell_type": "code",
   "execution_count": 201,
   "id": "84c9b896",
   "metadata": {},
   "outputs": [
    {
     "name": "stdout",
     "output_type": "stream",
     "text": [
      "/bin/bash: line 0: cd: /data/newdata/gbm_results/gbm_5_ss_shared_from_egd_TL/fold-1/checkpoints/: No such file or directory\n"
     ]
    }
   ],
   "source": [
    "!cd /data/newdata/gbm_results/gbm_5_ss_shared_from_egd_TL/fold-1/checkpoints/ && ls -l"
   ]
  },
  {
   "cell_type": "code",
   "execution_count": 202,
   "id": "a89d7592",
   "metadata": {},
   "outputs": [
    {
     "name": "stdout",
     "output_type": "stream",
     "text": [
      "total 12\n",
      "drwxr-xr-x 2 root root 4096 Nov 24 18:58 'predictions_best_epoch=26-dice_mean=76_08_task=28_fold=2_tta'\n",
      "drwxr-xr-x 2 root root 4096 Nov 24 16:08 'predictions_best_epoch=29-dice_mean=77_09_task=28_fold=0_tta'\n",
      "drwxr-xr-x 2 root root 4096 Nov 24 17:34 'predictions_best_epoch=40-dice_mean=73_99_task=28_fold=1_tta'\n"
     ]
    }
   ],
   "source": [
    "!cd /data/newdata/gbm_infer/gbm_5_ss_shared_from_egd_TL && ls -l"
   ]
  },
  {
   "cell_type": "code",
   "execution_count": 70,
   "id": "0424c60e",
   "metadata": {},
   "outputs": [
    {
     "data": {
      "text/plain": [
       "102"
      ]
     },
     "execution_count": 70,
     "metadata": {},
     "output_type": "execute_result"
    }
   ],
   "source": [
    "len(os.listdir('/data_anvar/public_datasets/preproc_study/gbm/4a_resamp'))"
   ]
  },
  {
   "cell_type": "code",
   "execution_count": 164,
   "id": "74b69a61",
   "metadata": {},
   "outputs": [
    {
     "data": {
      "text/plain": [
       "22"
      ]
     },
     "execution_count": 164,
     "metadata": {},
     "output_type": "execute_result"
    }
   ],
   "source": [
    "len(os.listdir('/data/newdata/gbm_infer/gbm_1_reg_train_from_bgpd_TL/predictions_best_epoch=73-dice_mean=82_71_task=21_fold=2_tta'))"
   ]
  },
  {
   "cell_type": "code",
   "execution_count": 205,
   "id": "8ed4b033",
   "metadata": {},
   "outputs": [
    {
     "name": "stderr",
     "output_type": "stream",
     "text": [
      "  0%|                                                                       | 0/102 [00:00<?, ?it/s]"
     ]
    },
    {
     "name": "stdout",
     "output_type": "stream",
     "text": [
      "TCGA-02-0054\n"
     ]
    },
    {
     "name": "stderr",
     "output_type": "stream",
     "text": [
      "  1%|▌                                                              | 1/102 [00:02<03:28,  2.07s/it]"
     ]
    },
    {
     "name": "stdout",
     "output_type": "stream",
     "text": [
      "TCGA-06-0164\n"
     ]
    },
    {
     "name": "stderr",
     "output_type": "stream",
     "text": [
      "  2%|█▏                                                             | 2/102 [00:05<05:07,  3.07s/it]"
     ]
    },
    {
     "name": "stdout",
     "output_type": "stream",
     "text": [
      "TCGA-19-0963\n"
     ]
    },
    {
     "name": "stderr",
     "output_type": "stream",
     "text": [
      "  3%|█▊                                                             | 3/102 [00:07<04:19,  2.62s/it]"
     ]
    },
    {
     "name": "stdout",
     "output_type": "stream",
     "text": [
      "TCGA-02-0075\n"
     ]
    },
    {
     "name": "stderr",
     "output_type": "stream",
     "text": [
      "  4%|██▍                                                            | 4/102 [00:10<04:02,  2.47s/it]"
     ]
    },
    {
     "name": "stdout",
     "output_type": "stream",
     "text": [
      "TCGA-02-0046\n"
     ]
    },
    {
     "name": "stderr",
     "output_type": "stream",
     "text": [
      "  5%|███                                                            | 5/102 [00:12<03:45,  2.33s/it]"
     ]
    },
    {
     "name": "stdout",
     "output_type": "stream",
     "text": [
      "TCGA-08-0356\n"
     ]
    },
    {
     "name": "stderr",
     "output_type": "stream",
     "text": [
      "  6%|███▋                                                           | 6/102 [00:18<06:07,  3.83s/it]"
     ]
    },
    {
     "name": "stdout",
     "output_type": "stream",
     "text": [
      "TCGA-06-0145\n"
     ]
    },
    {
     "name": "stderr",
     "output_type": "stream",
     "text": [
      "  7%|████▎                                                          | 7/102 [00:22<06:06,  3.86s/it]"
     ]
    },
    {
     "name": "stdout",
     "output_type": "stream",
     "text": [
      "TCGA-02-0087\n"
     ]
    },
    {
     "name": "stderr",
     "output_type": "stream",
     "text": [
      "  8%|████▉                                                          | 8/102 [00:44<15:01,  9.59s/it]"
     ]
    },
    {
     "name": "stdout",
     "output_type": "stream",
     "text": [
      "TCGA-02-0027\n"
     ]
    },
    {
     "name": "stderr",
     "output_type": "stream",
     "text": [
      "  9%|█████▌                                                         | 9/102 [01:06<20:51, 13.46s/it]"
     ]
    },
    {
     "name": "stdout",
     "output_type": "stream",
     "text": [
      "TCGA-76-4934\n"
     ]
    },
    {
     "name": "stderr",
     "output_type": "stream",
     "text": [
      " 10%|██████                                                        | 10/102 [01:10<15:49, 10.32s/it]"
     ]
    },
    {
     "name": "stdout",
     "output_type": "stream",
     "text": [
      "TCGA-12-1098\n",
      "1\n"
     ]
    },
    {
     "name": "stderr",
     "output_type": "stream",
     "text": [
      " 11%|██████▋                                                       | 11/102 [01:21<16:12, 10.68s/it]"
     ]
    },
    {
     "name": "stdout",
     "output_type": "stream",
     "text": [
      "TCGA-19-1789\n"
     ]
    },
    {
     "name": "stderr",
     "output_type": "stream",
     "text": [
      " 12%|███████▎                                                      | 12/102 [01:31<15:41, 10.46s/it]"
     ]
    },
    {
     "name": "stdout",
     "output_type": "stream",
     "text": [
      "TCGA-14-1456\n"
     ]
    },
    {
     "name": "stderr",
     "output_type": "stream",
     "text": [
      " 13%|███████▉                                                      | 13/102 [01:36<13:12,  8.91s/it]"
     ]
    },
    {
     "name": "stdout",
     "output_type": "stream",
     "text": [
      "TCGA-76-6662\n"
     ]
    },
    {
     "name": "stderr",
     "output_type": "stream",
     "text": [
      " 14%|████████▌                                                     | 14/102 [01:39<10:29,  7.16s/it]"
     ]
    },
    {
     "name": "stdout",
     "output_type": "stream",
     "text": [
      "TCGA-06-1084\n"
     ]
    },
    {
     "name": "stderr",
     "output_type": "stream",
     "text": [
      " 15%|█████████                                                     | 15/102 [01:43<08:39,  5.98s/it]"
     ]
    },
    {
     "name": "stdout",
     "output_type": "stream",
     "text": [
      "TCGA-19-2631\n",
      "1\n"
     ]
    },
    {
     "name": "stderr",
     "output_type": "stream",
     "text": [
      " 16%|█████████▋                                                    | 16/102 [01:45<06:51,  4.79s/it]"
     ]
    },
    {
     "name": "stdout",
     "output_type": "stream",
     "text": [
      "TCGA-06-0177\n"
     ]
    },
    {
     "name": "stderr",
     "output_type": "stream",
     "text": [
      " 17%|██████████▎                                                   | 17/102 [01:49<06:39,  4.70s/it]"
     ]
    },
    {
     "name": "stdout",
     "output_type": "stream",
     "text": [
      "TCGA-06-0187\n"
     ]
    },
    {
     "name": "stderr",
     "output_type": "stream",
     "text": [
      " 18%|██████████▉                                                   | 18/102 [01:54<06:29,  4.64s/it]"
     ]
    },
    {
     "name": "stdout",
     "output_type": "stream",
     "text": [
      "TCGA-08-0522\n"
     ]
    },
    {
     "name": "stderr",
     "output_type": "stream",
     "text": [
      " 19%|███████████▌                                                  | 19/102 [02:01<07:29,  5.41s/it]"
     ]
    },
    {
     "name": "stdout",
     "output_type": "stream",
     "text": [
      "TCGA-06-0185\n"
     ]
    },
    {
     "name": "stderr",
     "output_type": "stream",
     "text": [
      " 20%|████████████▏                                                 | 20/102 [02:04<06:19,  4.62s/it]"
     ]
    },
    {
     "name": "stdout",
     "output_type": "stream",
     "text": [
      "TCGA-19-5954\n"
     ]
    },
    {
     "name": "stderr",
     "output_type": "stream",
     "text": [
      " 21%|████████████▊                                                 | 21/102 [02:14<08:28,  6.28s/it]"
     ]
    },
    {
     "name": "stdout",
     "output_type": "stream",
     "text": [
      "TCGA-76-6285\n"
     ]
    },
    {
     "name": "stderr",
     "output_type": "stream",
     "text": [
      " 22%|█████████████▎                                                | 22/102 [02:16<06:49,  5.12s/it]"
     ]
    },
    {
     "name": "stdout",
     "output_type": "stream",
     "text": [
      "TCGA-12-3650\n"
     ]
    },
    {
     "name": "stderr",
     "output_type": "stream",
     "text": [
      " 23%|█████████████▉                                                | 23/102 [02:21<06:41,  5.09s/it]"
     ]
    },
    {
     "name": "stdout",
     "output_type": "stream",
     "text": [
      "TCGA-08-0359\n"
     ]
    },
    {
     "name": "stderr",
     "output_type": "stream",
     "text": [
      " 24%|██████████████▌                                               | 24/102 [02:27<06:49,  5.25s/it]"
     ]
    },
    {
     "name": "stdout",
     "output_type": "stream",
     "text": [
      "TCGA-02-0059\n"
     ]
    },
    {
     "name": "stderr",
     "output_type": "stream",
     "text": [
      " 25%|███████████████▏                                              | 25/102 [02:32<06:49,  5.31s/it]"
     ]
    },
    {
     "name": "stdout",
     "output_type": "stream",
     "text": [
      "TCGA-06-0139\n"
     ]
    },
    {
     "name": "stderr",
     "output_type": "stream",
     "text": [
      " 25%|███████████████▊                                              | 26/102 [02:47<10:09,  8.02s/it]"
     ]
    },
    {
     "name": "stdout",
     "output_type": "stream",
     "text": [
      "TCGA-12-1601\n",
      "1\n"
     ]
    },
    {
     "name": "stderr",
     "output_type": "stream",
     "text": [
      " 26%|████████████████▍                                             | 27/102 [02:50<08:05,  6.48s/it]"
     ]
    },
    {
     "name": "stdout",
     "output_type": "stream",
     "text": [
      "TCGA-08-0355\n"
     ]
    },
    {
     "name": "stderr",
     "output_type": "stream",
     "text": [
      " 27%|█████████████████                                             | 28/102 [02:56<07:50,  6.36s/it]"
     ]
    },
    {
     "name": "stdout",
     "output_type": "stream",
     "text": [
      "TCGA-06-0179\n"
     ]
    },
    {
     "name": "stderr",
     "output_type": "stream",
     "text": [
      " 28%|█████████████████▋                                            | 29/102 [03:09<10:26,  8.58s/it]"
     ]
    },
    {
     "name": "stdout",
     "output_type": "stream",
     "text": [
      "TCGA-19-5951\n",
      "1\n"
     ]
    },
    {
     "name": "stderr",
     "output_type": "stream",
     "text": [
      " 29%|██████████████████▏                                           | 30/102 [03:12<08:00,  6.67s/it]"
     ]
    },
    {
     "name": "stdout",
     "output_type": "stream",
     "text": [
      "TCGA-19-2624\n"
     ]
    },
    {
     "name": "stderr",
     "output_type": "stream",
     "text": [
      " 30%|██████████████████▊                                           | 31/102 [03:22<09:08,  7.73s/it]"
     ]
    },
    {
     "name": "stdout",
     "output_type": "stream",
     "text": [
      "TCGA-76-6663\n"
     ]
    },
    {
     "name": "stderr",
     "output_type": "stream",
     "text": [
      " 31%|███████████████████▍                                          | 32/102 [03:24<07:09,  6.13s/it]"
     ]
    },
    {
     "name": "stdout",
     "output_type": "stream",
     "text": [
      "TCGA-12-1598\n",
      "1\n"
     ]
    },
    {
     "name": "stderr",
     "output_type": "stream",
     "text": [
      " 32%|████████████████████                                          | 33/102 [03:26<05:29,  4.77s/it]"
     ]
    },
    {
     "name": "stdout",
     "output_type": "stream",
     "text": [
      "TCGA-14-1825\n",
      "1\n"
     ]
    },
    {
     "name": "stderr",
     "output_type": "stream",
     "text": [
      " 33%|████████████████████▋                                         | 34/102 [03:28<04:35,  4.05s/it]"
     ]
    },
    {
     "name": "stdout",
     "output_type": "stream",
     "text": [
      "TCGA-06-0142\n"
     ]
    },
    {
     "name": "stderr",
     "output_type": "stream",
     "text": [
      " 34%|█████████████████████▎                                        | 35/102 [03:32<04:33,  4.08s/it]"
     ]
    },
    {
     "name": "stdout",
     "output_type": "stream",
     "text": [
      "TCGA-12-0776\n"
     ]
    },
    {
     "name": "stderr",
     "output_type": "stream",
     "text": [
      " 35%|█████████████████████▉                                        | 36/102 [03:37<04:41,  4.26s/it]"
     ]
    },
    {
     "name": "stdout",
     "output_type": "stream",
     "text": [
      "TCGA-06-0238\n"
     ]
    },
    {
     "name": "stderr",
     "output_type": "stream",
     "text": [
      " 36%|██████████████████████▍                                       | 37/102 [03:53<08:18,  7.67s/it]"
     ]
    },
    {
     "name": "stdout",
     "output_type": "stream",
     "text": [
      "TCGA-12-0616\n"
     ]
    },
    {
     "name": "stderr",
     "output_type": "stream",
     "text": [
      " 37%|███████████████████████                                       | 38/102 [03:58<07:28,  7.01s/it]"
     ]
    },
    {
     "name": "stdout",
     "output_type": "stream",
     "text": [
      "TCGA-06-0184\n"
     ]
    },
    {
     "name": "stderr",
     "output_type": "stream",
     "text": [
      " 38%|███████████████████████▋                                      | 39/102 [04:03<06:38,  6.32s/it]"
     ]
    },
    {
     "name": "stdout",
     "output_type": "stream",
     "text": [
      "TCGA-06-0190\n"
     ]
    },
    {
     "name": "stderr",
     "output_type": "stream",
     "text": [
      " 39%|████████████████████████▎                                     | 40/102 [04:08<06:04,  5.88s/it]"
     ]
    },
    {
     "name": "stdout",
     "output_type": "stream",
     "text": [
      "TCGA-19-5958\n"
     ]
    },
    {
     "name": "stderr",
     "output_type": "stream",
     "text": [
      " 40%|████████████████████████▉                                     | 41/102 [04:18<07:18,  7.19s/it]"
     ]
    },
    {
     "name": "stdout",
     "output_type": "stream",
     "text": [
      "TCGA-06-0154\n"
     ]
    },
    {
     "name": "stderr",
     "output_type": "stream",
     "text": [
      " 41%|█████████████████████████▌                                    | 42/102 [04:22<06:15,  6.26s/it]"
     ]
    },
    {
     "name": "stdout",
     "output_type": "stream",
     "text": [
      "TCGA-02-0070\n"
     ]
    },
    {
     "name": "stderr",
     "output_type": "stream",
     "text": [
      " 42%|██████████████████████████▏                                   | 43/102 [04:24<05:00,  5.09s/it]"
     ]
    },
    {
     "name": "stdout",
     "output_type": "stream",
     "text": [
      "TCGA-08-0520\n"
     ]
    },
    {
     "name": "stderr",
     "output_type": "stream",
     "text": [
      " 43%|██████████████████████████▋                                   | 44/102 [04:31<05:27,  5.65s/it]"
     ]
    },
    {
     "name": "stdout",
     "output_type": "stream",
     "text": [
      "TCGA-76-4932\n"
     ]
    },
    {
     "name": "stderr",
     "output_type": "stream",
     "text": [
      " 44%|███████████████████████████▎                                  | 45/102 [04:33<04:22,  4.61s/it]"
     ]
    },
    {
     "name": "stdout",
     "output_type": "stream",
     "text": [
      "TCGA-14-3477\n",
      "1\n"
     ]
    },
    {
     "name": "stderr",
     "output_type": "stream",
     "text": [
      " 45%|███████████████████████████▉                                  | 46/102 [04:37<04:07,  4.43s/it]"
     ]
    },
    {
     "name": "stdout",
     "output_type": "stream",
     "text": [
      "TCGA-02-0034\n"
     ]
    },
    {
     "name": "stderr",
     "output_type": "stream",
     "text": [
      " 46%|████████████████████████████▌                                 | 47/102 [04:40<03:26,  3.75s/it]"
     ]
    },
    {
     "name": "stdout",
     "output_type": "stream",
     "text": [
      "TCGA-06-0122\n"
     ]
    },
    {
     "name": "stderr",
     "output_type": "stream",
     "text": [
      " 47%|█████████████████████████████▏                                | 48/102 [04:52<05:41,  6.33s/it]"
     ]
    },
    {
     "name": "stdout",
     "output_type": "stream",
     "text": [
      "TCGA-76-6656\n"
     ]
    },
    {
     "name": "stderr",
     "output_type": "stream",
     "text": [
      " 48%|█████████████████████████████▊                                | 49/102 [04:55<04:42,  5.32s/it]"
     ]
    },
    {
     "name": "stdout",
     "output_type": "stream",
     "text": [
      "TCGA-76-6280\n"
     ]
    },
    {
     "name": "stderr",
     "output_type": "stream",
     "text": [
      " 49%|██████████████████████████████▍                               | 50/102 [04:58<03:54,  4.50s/it]"
     ]
    },
    {
     "name": "stdout",
     "output_type": "stream",
     "text": [
      "TCGA-02-0033\n"
     ]
    },
    {
     "name": "stderr",
     "output_type": "stream",
     "text": [
      " 50%|███████████████████████████████                               | 51/102 [05:00<03:10,  3.74s/it]"
     ]
    },
    {
     "name": "stdout",
     "output_type": "stream",
     "text": [
      "TCGA-02-0006\n"
     ]
    },
    {
     "name": "stderr",
     "output_type": "stream",
     "text": [
      " 51%|███████████████████████████████▌                              | 52/102 [05:02<02:42,  3.24s/it]"
     ]
    },
    {
     "name": "stdout",
     "output_type": "stream",
     "text": [
      "TCGA-06-5413\n"
     ]
    },
    {
     "name": "stderr",
     "output_type": "stream",
     "text": [
      " 52%|████████████████████████████████▏                             | 53/102 [05:16<05:18,  6.50s/it]"
     ]
    },
    {
     "name": "stdout",
     "output_type": "stream",
     "text": [
      "TCGA-76-6661\n"
     ]
    },
    {
     "name": "stderr",
     "output_type": "stream",
     "text": [
      " 53%|████████████████████████████████▊                             | 54/102 [05:18<04:07,  5.15s/it]"
     ]
    },
    {
     "name": "stdout",
     "output_type": "stream",
     "text": [
      "TCGA-08-0509\n"
     ]
    },
    {
     "name": "stderr",
     "output_type": "stream",
     "text": [
      " 54%|█████████████████████████████████▍                            | 55/102 [05:24<04:23,  5.61s/it]"
     ]
    },
    {
     "name": "stdout",
     "output_type": "stream",
     "text": [
      "TCGA-06-0176\n"
     ]
    },
    {
     "name": "stderr",
     "output_type": "stream",
     "text": [
      " 55%|██████████████████████████████████                            | 56/102 [05:29<04:00,  5.23s/it]"
     ]
    },
    {
     "name": "stdout",
     "output_type": "stream",
     "text": [
      "TCGA-06-0138\n"
     ]
    },
    {
     "name": "stderr",
     "output_type": "stream",
     "text": [
      " 56%|██████████████████████████████████▋                           | 57/102 [05:42<05:41,  7.59s/it]"
     ]
    },
    {
     "name": "stdout",
     "output_type": "stream",
     "text": [
      "TCGA-02-0037\n"
     ]
    },
    {
     "name": "stderr",
     "output_type": "stream",
     "text": [
      " 57%|███████████████████████████████████▎                          | 58/102 [05:44<04:20,  5.93s/it]"
     ]
    },
    {
     "name": "stdout",
     "output_type": "stream",
     "text": [
      "TCGA-02-0106\n"
     ]
    },
    {
     "name": "stderr",
     "output_type": "stream",
     "text": [
      " 58%|███████████████████████████████████▊                          | 59/102 [05:46<03:24,  4.76s/it]"
     ]
    },
    {
     "name": "stdout",
     "output_type": "stream",
     "text": [
      "TCGA-06-0240\n"
     ]
    },
    {
     "name": "stderr",
     "output_type": "stream",
     "text": [
      " 59%|████████████████████████████████████▍                         | 60/102 [05:51<03:23,  4.84s/it]"
     ]
    },
    {
     "name": "stdout",
     "output_type": "stream",
     "text": [
      "TCGA-06-0158\n"
     ]
    },
    {
     "name": "stderr",
     "output_type": "stream",
     "text": [
      " 60%|█████████████████████████████████████                         | 61/102 [05:55<03:06,  4.55s/it]"
     ]
    },
    {
     "name": "stdout",
     "output_type": "stream",
     "text": [
      "TCGA-02-0086\n"
     ]
    },
    {
     "name": "stderr",
     "output_type": "stream",
     "text": [
      " 61%|█████████████████████████████████████▋                        | 62/102 [05:57<02:33,  3.83s/it]"
     ]
    },
    {
     "name": "stdout",
     "output_type": "stream",
     "text": [
      "TCGA-06-6389\n"
     ]
    },
    {
     "name": "stderr",
     "output_type": "stream",
     "text": [
      " 62%|██████████████████████████████████████▎                       | 63/102 [06:05<03:21,  5.16s/it]"
     ]
    },
    {
     "name": "stdout",
     "output_type": "stream",
     "text": [
      "TCGA-08-0512\n"
     ]
    },
    {
     "name": "stderr",
     "output_type": "stream",
     "text": [
      " 63%|██████████████████████████████████████▉                       | 64/102 [06:12<03:37,  5.72s/it]"
     ]
    },
    {
     "name": "stdout",
     "output_type": "stream",
     "text": [
      "TCGA-06-0130\n"
     ]
    },
    {
     "name": "stderr",
     "output_type": "stream",
     "text": [
      " 64%|███████████████████████████████████████▌                      | 65/102 [06:27<05:08,  8.33s/it]"
     ]
    },
    {
     "name": "stdout",
     "output_type": "stream",
     "text": [
      "TCGA-08-0360\n"
     ]
    },
    {
     "name": "stderr",
     "output_type": "stream",
     "text": [
      " 65%|████████████████████████████████████████                      | 66/102 [06:33<04:41,  7.82s/it]"
     ]
    },
    {
     "name": "stdout",
     "output_type": "stream",
     "text": [
      "TCGA-02-0116\n"
     ]
    },
    {
     "name": "stderr",
     "output_type": "stream",
     "text": [
      " 66%|████████████████████████████████████████▋                     | 67/102 [06:35<03:33,  6.09s/it]"
     ]
    },
    {
     "name": "stdout",
     "output_type": "stream",
     "text": [
      "TCGA-06-0644\n"
     ]
    },
    {
     "name": "stderr",
     "output_type": "stream",
     "text": [
      " 67%|█████████████████████████████████████████▎                    | 68/102 [06:49<04:39,  8.23s/it]"
     ]
    },
    {
     "name": "stdout",
     "output_type": "stream",
     "text": [
      "TCGA-08-0390\n"
     ]
    },
    {
     "name": "stderr",
     "output_type": "stream",
     "text": [
      " 68%|█████████████████████████████████████████▉                    | 69/102 [06:56<04:21,  7.92s/it]"
     ]
    },
    {
     "name": "stdout",
     "output_type": "stream",
     "text": [
      "TCGA-06-5408\n"
     ]
    },
    {
     "name": "stderr",
     "output_type": "stream",
     "text": [
      " 69%|██████████████████████████████████████████▌                   | 70/102 [07:00<03:41,  6.92s/it]"
     ]
    },
    {
     "name": "stdout",
     "output_type": "stream",
     "text": [
      "TCGA-14-1794\n"
     ]
    },
    {
     "name": "stderr",
     "output_type": "stream",
     "text": [
      " 70%|███████████████████████████████████████████▏                  | 71/102 [07:06<03:22,  6.53s/it]"
     ]
    },
    {
     "name": "stdout",
     "output_type": "stream",
     "text": [
      "TCGA-06-5417\n"
     ]
    },
    {
     "name": "stderr",
     "output_type": "stream",
     "text": [
      " 71%|███████████████████████████████████████████▊                  | 72/102 [07:20<04:24,  8.83s/it]"
     ]
    },
    {
     "name": "stdout",
     "output_type": "stream",
     "text": [
      "TCGA-08-0385\n"
     ]
    },
    {
     "name": "stderr",
     "output_type": "stream",
     "text": [
      " 72%|████████████████████████████████████████████▎                 | 73/102 [07:27<03:58,  8.24s/it]"
     ]
    },
    {
     "name": "stdout",
     "output_type": "stream",
     "text": [
      "TCGA-12-0829\n",
      "1\n"
     ]
    },
    {
     "name": "stderr",
     "output_type": "stream",
     "text": [
      " 73%|████████████████████████████████████████████▉                 | 74/102 [07:31<03:11,  6.84s/it]"
     ]
    },
    {
     "name": "stdout",
     "output_type": "stream",
     "text": [
      "TCGA-06-0646\n"
     ]
    },
    {
     "name": "stderr",
     "output_type": "stream",
     "text": [
      " 74%|█████████████████████████████████████████████▌                | 75/102 [07:44<03:55,  8.70s/it]"
     ]
    },
    {
     "name": "stdout",
     "output_type": "stream",
     "text": [
      "TCGA-76-4935\n"
     ]
    },
    {
     "name": "stderr",
     "output_type": "stream",
     "text": [
      " 75%|██████████████████████████████████████████████▏               | 76/102 [07:47<03:02,  7.03s/it]"
     ]
    },
    {
     "name": "stdout",
     "output_type": "stream",
     "text": [
      "TCGA-06-1802\n"
     ]
    },
    {
     "name": "stderr",
     "output_type": "stream",
     "text": [
      " 75%|██████████████████████████████████████████████▊               | 77/102 [07:53<02:50,  6.81s/it]"
     ]
    },
    {
     "name": "stdout",
     "output_type": "stream",
     "text": [
      "TCGA-76-6664\n"
     ]
    },
    {
     "name": "stderr",
     "output_type": "stream",
     "text": [
      " 76%|███████████████████████████████████████████████▍              | 78/102 [07:55<02:10,  5.44s/it]"
     ]
    },
    {
     "name": "stdout",
     "output_type": "stream",
     "text": [
      "TCGA-02-0068\n"
     ]
    },
    {
     "name": "stderr",
     "output_type": "stream",
     "text": [
      " 77%|████████████████████████████████████████████████              | 79/102 [07:58<01:42,  4.47s/it]"
     ]
    },
    {
     "name": "stdout",
     "output_type": "stream",
     "text": [
      "TCGA-06-0149\n"
     ]
    },
    {
     "name": "stderr",
     "output_type": "stream",
     "text": [
      " 78%|████████████████████████████████████████████████▋             | 80/102 [08:10<02:34,  7.01s/it]"
     ]
    },
    {
     "name": "stdout",
     "output_type": "stream",
     "text": [
      "TCGA-76-6191\n"
     ]
    },
    {
     "name": "stderr",
     "output_type": "stream",
     "text": [
      " 79%|█████████████████████████████████████████████████▏            | 81/102 [08:13<02:00,  5.73s/it]"
     ]
    },
    {
     "name": "stdout",
     "output_type": "stream",
     "text": [
      "TCGA-06-0137\n"
     ]
    },
    {
     "name": "stderr",
     "output_type": "stream",
     "text": [
      " 80%|█████████████████████████████████████████████████▊            | 82/102 [08:17<01:42,  5.12s/it]"
     ]
    },
    {
     "name": "stdout",
     "output_type": "stream",
     "text": [
      "TCGA-02-0011\n"
     ]
    },
    {
     "name": "stderr",
     "output_type": "stream",
     "text": [
      " 81%|██████████████████████████████████████████████████▍           | 83/102 [08:19<01:20,  4.21s/it]"
     ]
    },
    {
     "name": "stdout",
     "output_type": "stream",
     "text": [
      "TCGA-06-0182\n"
     ]
    },
    {
     "name": "stderr",
     "output_type": "stream",
     "text": [
      " 82%|███████████████████████████████████████████████████           | 84/102 [08:24<01:20,  4.48s/it]"
     ]
    },
    {
     "name": "stdout",
     "output_type": "stream",
     "text": [
      "TCGA-06-0162\n"
     ]
    },
    {
     "name": "stderr",
     "output_type": "stream",
     "text": [
      " 83%|███████████████████████████████████████████████████▋          | 85/102 [08:28<01:13,  4.33s/it]"
     ]
    },
    {
     "name": "stdout",
     "output_type": "stream",
     "text": [
      "TCGA-08-0392\n"
     ]
    },
    {
     "name": "stderr",
     "output_type": "stream",
     "text": [
      " 84%|████████████████████████████████████████████████████▎         | 86/102 [08:35<01:22,  5.13s/it]"
     ]
    },
    {
     "name": "stdout",
     "output_type": "stream",
     "text": [
      "TCGA-02-0064\n"
     ]
    },
    {
     "name": "stderr",
     "output_type": "stream",
     "text": [
      " 85%|████████████████████████████████████████████████████▉         | 87/102 [08:57<02:34, 10.31s/it]"
     ]
    },
    {
     "name": "stdout",
     "output_type": "stream",
     "text": [
      "TCGA-02-0102\n"
     ]
    },
    {
     "name": "stderr",
     "output_type": "stream",
     "text": [
      " 86%|█████████████████████████████████████████████████████▍        | 88/102 [08:59<01:49,  7.81s/it]"
     ]
    },
    {
     "name": "stdout",
     "output_type": "stream",
     "text": [
      "TCGA-02-0047\n"
     ]
    },
    {
     "name": "stderr",
     "output_type": "stream",
     "text": [
      " 87%|██████████████████████████████████████████████████████        | 89/102 [09:02<01:19,  6.10s/it]"
     ]
    },
    {
     "name": "stdout",
     "output_type": "stream",
     "text": [
      "TCGA-76-6657\n"
     ]
    },
    {
     "name": "stderr",
     "output_type": "stream",
     "text": [
      " 88%|██████████████████████████████████████████████████████▋       | 90/102 [09:04<01:01,  5.14s/it]"
     ]
    },
    {
     "name": "stdout",
     "output_type": "stream",
     "text": [
      "TCGA-76-6193\n"
     ]
    },
    {
     "name": "stderr",
     "output_type": "stream",
     "text": [
      " 89%|███████████████████████████████████████████████████████▎      | 91/102 [09:26<01:50, 10.02s/it]"
     ]
    },
    {
     "name": "stdout",
     "output_type": "stream",
     "text": [
      "TCGA-06-0119\n"
     ]
    },
    {
     "name": "stderr",
     "output_type": "stream",
     "text": [
      " 90%|███████████████████████████████████████████████████████▉      | 92/102 [09:29<01:20,  8.05s/it]"
     ]
    },
    {
     "name": "stdout",
     "output_type": "stream",
     "text": [
      "TCGA-02-0069\n"
     ]
    },
    {
     "name": "stderr",
     "output_type": "stream",
     "text": [
      " 91%|████████████████████████████████████████████████████████▌     | 93/102 [09:52<01:50, 12.30s/it]"
     ]
    },
    {
     "name": "stdout",
     "output_type": "stream",
     "text": [
      "TCGA-12-1094\n"
     ]
    },
    {
     "name": "stderr",
     "output_type": "stream",
     "text": [
      " 92%|█████████████████████████████████████████████████████████▏    | 94/102 [09:54<01:14,  9.34s/it]"
     ]
    },
    {
     "name": "stdout",
     "output_type": "stream",
     "text": [
      "TCGA-19-5960\n"
     ]
    },
    {
     "name": "stderr",
     "output_type": "stream",
     "text": [
      " 93%|█████████████████████████████████████████████████████████▋    | 95/102 [09:56<00:50,  7.23s/it]"
     ]
    },
    {
     "name": "stdout",
     "output_type": "stream",
     "text": [
      "TCGA-08-0389\n"
     ]
    },
    {
     "name": "stderr",
     "output_type": "stream",
     "text": [
      " 94%|██████████████████████████████████████████████████████████▎   | 96/102 [10:03<00:42,  7.05s/it]"
     ]
    },
    {
     "name": "stdout",
     "output_type": "stream",
     "text": [
      "TCGA-02-0009\n"
     ]
    },
    {
     "name": "stderr",
     "output_type": "stream",
     "text": [
      " 95%|██████████████████████████████████████████████████████████▉   | 97/102 [10:05<00:27,  5.51s/it]"
     ]
    },
    {
     "name": "stdout",
     "output_type": "stream",
     "text": [
      "TCGA-06-2570\n"
     ]
    },
    {
     "name": "stderr",
     "output_type": "stream",
     "text": [
      " 96%|███████████████████████████████████████████████████████████▌  | 98/102 [10:17<00:30,  7.66s/it]"
     ]
    },
    {
     "name": "stdout",
     "output_type": "stream",
     "text": [
      "TCGA-06-0188\n"
     ]
    },
    {
     "name": "stderr",
     "output_type": "stream",
     "text": [
      " 97%|████████████████████████████████████████████████████████████▏ | 99/102 [10:22<00:20,  6.67s/it]"
     ]
    },
    {
     "name": "stdout",
     "output_type": "stream",
     "text": [
      "TCGA-76-6282\n"
     ]
    },
    {
     "name": "stderr",
     "output_type": "stream",
     "text": [
      " 98%|███████████████████████████████████████████████████████████▊ | 100/102 [10:45<00:23, 11.58s/it]"
     ]
    },
    {
     "name": "stdout",
     "output_type": "stream",
     "text": [
      "TCGA-02-0085\n"
     ]
    },
    {
     "name": "stderr",
     "output_type": "stream",
     "text": [
      " 99%|████████████████████████████████████████████████████████████▍| 101/102 [10:47<00:08,  8.68s/it]"
     ]
    },
    {
     "name": "stdout",
     "output_type": "stream",
     "text": [
      "TCGA-06-0192\n"
     ]
    },
    {
     "name": "stderr",
     "output_type": "stream",
     "text": [
      "100%|█████████████████████████████████████████████████████████████| 102/102 [11:00<00:00,  6.48s/it]"
     ]
    },
    {
     "name": "stdout",
     "output_type": "stream",
     "text": [
      "Dice_1            0.865342\n",
      "Hausdorff95_1     8.866530\n",
      "Sensitivity_1     0.809278\n",
      "Specificity_1     0.999395\n",
      "Surface_dice_1    0.664439\n",
      "Precision_1       0.938384\n",
      "Dice_2            0.823251\n",
      "Dice_3            0.763117\n",
      "Hausdorff95_2     6.641067\n",
      "Hausdorff95_3     6.447890\n",
      "Sensitivity_2     0.771183\n",
      "Sensitivity_3     0.705646\n",
      "Specificity_2     0.999620\n",
      "Specificity_3     0.999563\n",
      "Surface_dice_2    0.641281\n",
      "Surface_dice_3    0.743513\n",
      "Precision_2       0.907459\n",
      "Precision_3       0.851181\n",
      "dtype: float64\n",
      "102\n"
     ]
    },
    {
     "name": "stderr",
     "output_type": "stream",
     "text": [
      "\n"
     ]
    },
    {
     "data": {
      "text/html": [
       "<div>\n",
       "<style scoped>\n",
       "    .dataframe tbody tr th:only-of-type {\n",
       "        vertical-align: middle;\n",
       "    }\n",
       "\n",
       "    .dataframe tbody tr th {\n",
       "        vertical-align: top;\n",
       "    }\n",
       "\n",
       "    .dataframe thead th {\n",
       "        text-align: right;\n",
       "    }\n",
       "</style>\n",
       "<table border=\"1\" class=\"dataframe\">\n",
       "  <thead>\n",
       "    <tr style=\"text-align: right;\">\n",
       "      <th></th>\n",
       "      <th>Ids</th>\n",
       "      <th>Dice_1</th>\n",
       "      <th>Hausdorff95_1</th>\n",
       "      <th>Sensitivity_1</th>\n",
       "      <th>Specificity_1</th>\n",
       "      <th>Surface_dice_1</th>\n",
       "      <th>Precision_1</th>\n",
       "      <th>Dice_2</th>\n",
       "      <th>Dice_3</th>\n",
       "      <th>Hausdorff95_2</th>\n",
       "      <th>Hausdorff95_3</th>\n",
       "      <th>Sensitivity_2</th>\n",
       "      <th>Sensitivity_3</th>\n",
       "      <th>Specificity_2</th>\n",
       "      <th>Specificity_3</th>\n",
       "      <th>Surface_dice_2</th>\n",
       "      <th>Surface_dice_3</th>\n",
       "      <th>Precision_2</th>\n",
       "      <th>Precision_3</th>\n",
       "    </tr>\n",
       "  </thead>\n",
       "  <tbody>\n",
       "    <tr>\n",
       "      <th>0</th>\n",
       "      <td>TCGA-02-0054</td>\n",
       "      <td>0.894623</td>\n",
       "      <td>6.101758</td>\n",
       "      <td>0.828601</td>\n",
       "      <td>0.999672</td>\n",
       "      <td>0.789113</td>\n",
       "      <td>0.972077</td>\n",
       "      <td>0.750141</td>\n",
       "      <td>0.856866</td>\n",
       "      <td>8.013904</td>\n",
       "      <td>6.5</td>\n",
       "      <td>0.604176</td>\n",
       "      <td>0.809982</td>\n",
       "      <td>0.999971</td>\n",
       "      <td>0.999766</td>\n",
       "      <td>0.557034</td>\n",
       "      <td>0.822721</td>\n",
       "      <td>0.989101</td>\n",
       "      <td>0.909512</td>\n",
       "    </tr>\n",
       "    <tr>\n",
       "      <th>0</th>\n",
       "      <td>TCGA-06-0164</td>\n",
       "      <td>0.913287</td>\n",
       "      <td>2.8125</td>\n",
       "      <td>0.87054</td>\n",
       "      <td>0.99958</td>\n",
       "      <td>0.834275</td>\n",
       "      <td>0.96045</td>\n",
       "      <td>0.927116</td>\n",
       "      <td>0.814848</td>\n",
       "      <td>3.0</td>\n",
       "      <td>3.75</td>\n",
       "      <td>0.929205</td>\n",
       "      <td>0.859882</td>\n",
       "      <td>0.999707</td>\n",
       "      <td>0.999491</td>\n",
       "      <td>0.821308</td>\n",
       "      <td>0.879084</td>\n",
       "      <td>0.925037</td>\n",
       "      <td>0.774297</td>\n",
       "    </tr>\n",
       "    <tr>\n",
       "      <th>0</th>\n",
       "      <td>TCGA-19-0963</td>\n",
       "      <td>0.662502</td>\n",
       "      <td>22.5</td>\n",
       "      <td>0.553546</td>\n",
       "      <td>0.99699</td>\n",
       "      <td>0.278378</td>\n",
       "      <td>0.824861</td>\n",
       "      <td>0.698469</td>\n",
       "      <td>0.281256</td>\n",
       "      <td>16.657351</td>\n",
       "      <td>22.58951</td>\n",
       "      <td>0.680741</td>\n",
       "      <td>0.512751</td>\n",
       "      <td>0.995541</td>\n",
       "      <td>0.987601</td>\n",
       "      <td>0.424448</td>\n",
       "      <td>0.436194</td>\n",
       "      <td>0.717146</td>\n",
       "      <td>0.193773</td>\n",
       "    </tr>\n",
       "    <tr>\n",
       "      <th>0</th>\n",
       "      <td>TCGA-02-0075</td>\n",
       "      <td>0.758506</td>\n",
       "      <td>8.207305</td>\n",
       "      <td>0.6146</td>\n",
       "      <td>0.999889</td>\n",
       "      <td>0.585417</td>\n",
       "      <td>0.990407</td>\n",
       "      <td>0.420459</td>\n",
       "      <td>0.672605</td>\n",
       "      <td>15.208961</td>\n",
       "      <td>13.587912</td>\n",
       "      <td>0.26696</td>\n",
       "      <td>0.523327</td>\n",
       "      <td>0.999985</td>\n",
       "      <td>0.999936</td>\n",
       "      <td>0.214786</td>\n",
       "      <td>0.560802</td>\n",
       "      <td>0.989292</td>\n",
       "      <td>0.941033</td>\n",
       "    </tr>\n",
       "    <tr>\n",
       "      <th>0</th>\n",
       "      <td>TCGA-02-0046</td>\n",
       "      <td>0.780944</td>\n",
       "      <td>10.282342</td>\n",
       "      <td>0.709258</td>\n",
       "      <td>0.997012</td>\n",
       "      <td>0.537376</td>\n",
       "      <td>0.86875</td>\n",
       "      <td>0.796803</td>\n",
       "      <td>0.688981</td>\n",
       "      <td>6.546782</td>\n",
       "      <td>6.546782</td>\n",
       "      <td>0.6811</td>\n",
       "      <td>0.570421</td>\n",
       "      <td>0.999785</td>\n",
       "      <td>0.999426</td>\n",
       "      <td>0.538383</td>\n",
       "      <td>0.605072</td>\n",
       "      <td>0.95986</td>\n",
       "      <td>0.869756</td>\n",
       "    </tr>\n",
       "    <tr>\n",
       "      <th>...</th>\n",
       "      <td>...</td>\n",
       "      <td>...</td>\n",
       "      <td>...</td>\n",
       "      <td>...</td>\n",
       "      <td>...</td>\n",
       "      <td>...</td>\n",
       "      <td>...</td>\n",
       "      <td>...</td>\n",
       "      <td>...</td>\n",
       "      <td>...</td>\n",
       "      <td>...</td>\n",
       "      <td>...</td>\n",
       "      <td>...</td>\n",
       "      <td>...</td>\n",
       "      <td>...</td>\n",
       "      <td>...</td>\n",
       "      <td>...</td>\n",
       "      <td>...</td>\n",
       "      <td>...</td>\n",
       "    </tr>\n",
       "    <tr>\n",
       "      <th>0</th>\n",
       "      <td>TCGA-06-2570</td>\n",
       "      <td>0.913553</td>\n",
       "      <td>3.12512</td>\n",
       "      <td>0.882895</td>\n",
       "      <td>0.999664</td>\n",
       "      <td>0.765638</td>\n",
       "      <td>0.946417</td>\n",
       "      <td>0.941358</td>\n",
       "      <td>0.82641</td>\n",
       "      <td>2.5</td>\n",
       "      <td>2.5</td>\n",
       "      <td>0.950036</td>\n",
       "      <td>0.797831</td>\n",
       "      <td>0.999687</td>\n",
       "      <td>0.999738</td>\n",
       "      <td>0.852086</td>\n",
       "      <td>0.922407</td>\n",
       "      <td>0.932837</td>\n",
       "      <td>0.857112</td>\n",
       "    </tr>\n",
       "    <tr>\n",
       "      <th>0</th>\n",
       "      <td>TCGA-06-0188</td>\n",
       "      <td>0.924717</td>\n",
       "      <td>2.8125</td>\n",
       "      <td>0.967568</td>\n",
       "      <td>0.999426</td>\n",
       "      <td>0.870672</td>\n",
       "      <td>0.885501</td>\n",
       "      <td>0.879922</td>\n",
       "      <td>0.873718</td>\n",
       "      <td>1.875</td>\n",
       "      <td>6.825103</td>\n",
       "      <td>0.866988</td>\n",
       "      <td>0.866998</td>\n",
       "      <td>0.999952</td>\n",
       "      <td>0.999947</td>\n",
       "      <td>0.917587</td>\n",
       "      <td>0.918254</td>\n",
       "      <td>0.893247</td>\n",
       "      <td>0.880544</td>\n",
       "    </tr>\n",
       "    <tr>\n",
       "      <th>0</th>\n",
       "      <td>TCGA-76-6282</td>\n",
       "      <td>0.944403</td>\n",
       "      <td>3.072369</td>\n",
       "      <td>0.927944</td>\n",
       "      <td>0.999249</td>\n",
       "      <td>0.685474</td>\n",
       "      <td>0.961457</td>\n",
       "      <td>0.921499</td>\n",
       "      <td>0.790089</td>\n",
       "      <td>3.322508</td>\n",
       "      <td>4.875</td>\n",
       "      <td>0.941394</td>\n",
       "      <td>0.686634</td>\n",
       "      <td>0.999268</td>\n",
       "      <td>0.999776</td>\n",
       "      <td>0.640819</td>\n",
       "      <td>0.72786</td>\n",
       "      <td>0.902427</td>\n",
       "      <td>0.930249</td>\n",
       "    </tr>\n",
       "    <tr>\n",
       "      <th>0</th>\n",
       "      <td>TCGA-02-0085</td>\n",
       "      <td>0.959637</td>\n",
       "      <td>1.104854</td>\n",
       "      <td>0.931257</td>\n",
       "      <td>0.999836</td>\n",
       "      <td>0.953549</td>\n",
       "      <td>0.989801</td>\n",
       "      <td>0.915193</td>\n",
       "      <td>0.888306</td>\n",
       "      <td>6.5</td>\n",
       "      <td>4.555431</td>\n",
       "      <td>0.855296</td>\n",
       "      <td>0.837372</td>\n",
       "      <td>0.999934</td>\n",
       "      <td>0.999804</td>\n",
       "      <td>0.860944</td>\n",
       "      <td>0.898509</td>\n",
       "      <td>0.984111</td>\n",
       "      <td>0.945837</td>\n",
       "    </tr>\n",
       "    <tr>\n",
       "      <th>0</th>\n",
       "      <td>TCGA-06-0192</td>\n",
       "      <td>0.942109</td>\n",
       "      <td>2.5</td>\n",
       "      <td>0.907653</td>\n",
       "      <td>0.999816</td>\n",
       "      <td>0.865921</td>\n",
       "      <td>0.979283</td>\n",
       "      <td>0.917172</td>\n",
       "      <td>0.82714</td>\n",
       "      <td>9.44319</td>\n",
       "      <td>2.5</td>\n",
       "      <td>0.887375</td>\n",
       "      <td>0.711745</td>\n",
       "      <td>0.999789</td>\n",
       "      <td>0.999975</td>\n",
       "      <td>0.738812</td>\n",
       "      <td>0.857413</td>\n",
       "      <td>0.94904</td>\n",
       "      <td>0.987194</td>\n",
       "    </tr>\n",
       "  </tbody>\n",
       "</table>\n",
       "<p>102 rows × 19 columns</p>\n",
       "</div>"
      ],
      "text/plain": [
       "             Ids    Dice_1 Hausdorff95_1 Sensitivity_1 Specificity_1  \\\n",
       "0   TCGA-02-0054  0.894623      6.101758      0.828601      0.999672   \n",
       "0   TCGA-06-0164  0.913287        2.8125       0.87054       0.99958   \n",
       "0   TCGA-19-0963  0.662502          22.5      0.553546       0.99699   \n",
       "0   TCGA-02-0075  0.758506      8.207305        0.6146      0.999889   \n",
       "0   TCGA-02-0046  0.780944     10.282342      0.709258      0.997012   \n",
       "..           ...       ...           ...           ...           ...   \n",
       "0   TCGA-06-2570  0.913553       3.12512      0.882895      0.999664   \n",
       "0   TCGA-06-0188  0.924717        2.8125      0.967568      0.999426   \n",
       "0   TCGA-76-6282  0.944403      3.072369      0.927944      0.999249   \n",
       "0   TCGA-02-0085  0.959637      1.104854      0.931257      0.999836   \n",
       "0   TCGA-06-0192  0.942109           2.5      0.907653      0.999816   \n",
       "\n",
       "   Surface_dice_1 Precision_1    Dice_2    Dice_3 Hausdorff95_2 Hausdorff95_3  \\\n",
       "0        0.789113    0.972077  0.750141  0.856866      8.013904           6.5   \n",
       "0        0.834275     0.96045  0.927116  0.814848           3.0          3.75   \n",
       "0        0.278378    0.824861  0.698469  0.281256     16.657351      22.58951   \n",
       "0        0.585417    0.990407  0.420459  0.672605     15.208961     13.587912   \n",
       "0        0.537376     0.86875  0.796803  0.688981      6.546782      6.546782   \n",
       "..            ...         ...       ...       ...           ...           ...   \n",
       "0        0.765638    0.946417  0.941358   0.82641           2.5           2.5   \n",
       "0        0.870672    0.885501  0.879922  0.873718         1.875      6.825103   \n",
       "0        0.685474    0.961457  0.921499  0.790089      3.322508         4.875   \n",
       "0        0.953549    0.989801  0.915193  0.888306           6.5      4.555431   \n",
       "0        0.865921    0.979283  0.917172   0.82714       9.44319           2.5   \n",
       "\n",
       "   Sensitivity_2 Sensitivity_3 Specificity_2 Specificity_3 Surface_dice_2  \\\n",
       "0       0.604176      0.809982      0.999971      0.999766       0.557034   \n",
       "0       0.929205      0.859882      0.999707      0.999491       0.821308   \n",
       "0       0.680741      0.512751      0.995541      0.987601       0.424448   \n",
       "0        0.26696      0.523327      0.999985      0.999936       0.214786   \n",
       "0         0.6811      0.570421      0.999785      0.999426       0.538383   \n",
       "..           ...           ...           ...           ...            ...   \n",
       "0       0.950036      0.797831      0.999687      0.999738       0.852086   \n",
       "0       0.866988      0.866998      0.999952      0.999947       0.917587   \n",
       "0       0.941394      0.686634      0.999268      0.999776       0.640819   \n",
       "0       0.855296      0.837372      0.999934      0.999804       0.860944   \n",
       "0       0.887375      0.711745      0.999789      0.999975       0.738812   \n",
       "\n",
       "   Surface_dice_3 Precision_2 Precision_3  \n",
       "0        0.822721    0.989101    0.909512  \n",
       "0        0.879084    0.925037    0.774297  \n",
       "0        0.436194    0.717146    0.193773  \n",
       "0        0.560802    0.989292    0.941033  \n",
       "0        0.605072     0.95986    0.869756  \n",
       "..            ...         ...         ...  \n",
       "0        0.922407    0.932837    0.857112  \n",
       "0        0.918254    0.893247    0.880544  \n",
       "0         0.72786    0.902427    0.930249  \n",
       "0        0.898509    0.984111    0.945837  \n",
       "0        0.857413     0.94904    0.987194  \n",
       "\n",
       "[102 rows x 19 columns]"
      ]
     },
     "execution_count": 205,
     "metadata": {},
     "output_type": "execute_result"
    }
   ],
   "source": [
    "orig_folder = '/data_anvar/public_datasets/preproc_study/gbm/orig'\n",
    "resample_folder = '/data_anvar/public_datasets/preproc_study/gbm/4a_resamp'\n",
    "file = '/data_anvar/public_datasets/preproc_study/gbm/3a_atlas'\n",
    "pred_folder = '/data/newdata/gbm_infer/gbm_5_ss_shared_from_egd_TL/predictions_best_epoch=26-dice_mean=76_08_task=28_fold=2_tta'\n",
    "target_folder = '/data_anvar/public_datasets/preproc_study/gbm/1_reg'\n",
    "reg_1 = '/data_anvar/public_datasets/preproc_study/gbm/1_reg'\n",
    "out_json = '/results/metrics'\n",
    "dataset = 'gbm'\n",
    "# TCGA-76-4932\n",
    "subjects = [each[:-8] for each in os.listdir(pred_folder)]\n",
    "assert(len(subjects) == 102)\n",
    "# subjects = ['TCGA-02-0027']\n",
    "calculate_metrics(subjects, file, reg_1, pred_folder, resample_folder, target_folder, dataset, out = out_json)"
   ]
  },
  {
   "cell_type": "code",
   "execution_count": 167,
   "id": "2b79862a",
   "metadata": {},
   "outputs": [
    {
     "name": "stdout",
     "output_type": "stream",
     "text": [
      "'predictions_best_epoch=54-dice_mean=85_84_task=37_fold=2_tta'\n",
      "'predictions_best_epoch=87-dice_mean=87_01_task=37_fold=0_tta'\n",
      "'predictions_best_epoch=96-dice_mean=85_73_task=37_fold=1_tta'\n"
     ]
    }
   ],
   "source": [
    "!cd /data/newdata/schw_infer/schw_3a_atlas_from_brats_TL && ls"
   ]
  },
  {
   "cell_type": "code",
   "execution_count": 169,
   "id": "23c1c330",
   "metadata": {},
   "outputs": [
    {
     "data": {
      "text/plain": [
       "242"
      ]
     },
     "execution_count": 169,
     "metadata": {},
     "output_type": "execute_result"
    }
   ],
   "source": [
    "len(os.listdir('/data/newdata/schw_infer/schw_3a_atlas_from_brats_TL/predictions_best_epoch=87-dice_mean=87_01_task=37_fold=0_tta'))"
   ]
  },
  {
   "cell_type": "code",
   "execution_count": 177,
   "id": "326ab16b",
   "metadata": {},
   "outputs": [
    {
     "name": "stderr",
     "output_type": "stream",
     "text": [
      "  0%|                                                                       | 0/242 [00:00<?, ?it/s]"
     ]
    },
    {
     "name": "stdout",
     "output_type": "stream",
     "text": [
      "VS-SEG-146\n"
     ]
    },
    {
     "name": "stderr",
     "output_type": "stream",
     "text": [
      "  0%|                                                                       | 0/242 [00:02<?, ?it/s]\n"
     ]
    },
    {
     "ename": "Exception",
     "evalue": "Transform /data_anvar/public_datasets/preproc_study/schw/3a_atlas/VS-SEG-146/T1C_to_SRI_inv.mat does not exist",
     "output_type": "error",
     "traceback": [
      "\u001b[0;31m---------------------------------------------------------------------------\u001b[0m",
      "\u001b[0;31mException\u001b[0m                                 Traceback (most recent call last)",
      "\u001b[0;32m/tmp/ipykernel_14508/1334860316.py\u001b[0m in \u001b[0;36m<module>\u001b[0;34m\u001b[0m\n\u001b[1;32m     11\u001b[0m \u001b[0;32massert\u001b[0m\u001b[0;34m(\u001b[0m\u001b[0mlen\u001b[0m\u001b[0;34m(\u001b[0m\u001b[0msubjects\u001b[0m\u001b[0;34m)\u001b[0m \u001b[0;34m==\u001b[0m \u001b[0;36m242\u001b[0m\u001b[0;34m)\u001b[0m\u001b[0;34m\u001b[0m\u001b[0;34m\u001b[0m\u001b[0m\n\u001b[1;32m     12\u001b[0m \u001b[0;31m# subjects = ['TCGA-02-0027']\u001b[0m\u001b[0;34m\u001b[0m\u001b[0;34m\u001b[0m\u001b[0;34m\u001b[0m\u001b[0m\n\u001b[0;32m---> 13\u001b[0;31m \u001b[0mcalculate_metrics\u001b[0m\u001b[0;34m(\u001b[0m\u001b[0msubjects\u001b[0m\u001b[0;34m,\u001b[0m \u001b[0mfile\u001b[0m\u001b[0;34m,\u001b[0m \u001b[0mreg_1\u001b[0m\u001b[0;34m,\u001b[0m \u001b[0mpred_folder\u001b[0m\u001b[0;34m,\u001b[0m \u001b[0mresample_folder\u001b[0m\u001b[0;34m,\u001b[0m \u001b[0mtarget_folder\u001b[0m\u001b[0;34m,\u001b[0m \u001b[0mdataset\u001b[0m\u001b[0;34m,\u001b[0m \u001b[0mout\u001b[0m \u001b[0;34m=\u001b[0m \u001b[0mout_json\u001b[0m\u001b[0;34m,\u001b[0m \u001b[0mmod\u001b[0m\u001b[0;34m=\u001b[0m\u001b[0;34m'3a_atlas'\u001b[0m\u001b[0;34m)\u001b[0m\u001b[0;34m\u001b[0m\u001b[0;34m\u001b[0m\u001b[0m\n\u001b[0m",
      "\u001b[0;32m/tmp/ipykernel_14508/3632860685.py\u001b[0m in \u001b[0;36mcalculate_metrics\u001b[0;34m(subjects, path_to_file, path_to_orig, path_to_pred, path_to_resamp, path_to_target, dataset, out, mod)\u001b[0m\n\u001b[1;32m     57\u001b[0m \u001b[0;31m#             print(ants.image_read(orig_sub).shape)\u001b[0m\u001b[0;34m\u001b[0m\u001b[0;34m\u001b[0m\u001b[0;34m\u001b[0m\u001b[0m\n\u001b[1;32m     58\u001b[0m \u001b[0;31m#             print(targets.shape)\u001b[0m\u001b[0;34m\u001b[0m\u001b[0;34m\u001b[0m\u001b[0;34m\u001b[0m\u001b[0m\n\u001b[0;32m---> 59\u001b[0;31m             \u001b[0mprediction\u001b[0m \u001b[0;34m=\u001b[0m \u001b[0mpred_invert_resample_1cl\u001b[0m\u001b[0;34m(\u001b[0m\u001b[0mdata\u001b[0m\u001b[0;34m,\u001b[0m \u001b[0mmat_fie_sub\u001b[0m\u001b[0;34m,\u001b[0m \u001b[0morig_sub\u001b[0m\u001b[0;34m,\u001b[0m \u001b[0mresamp_sub\u001b[0m\u001b[0;34m,\u001b[0m \u001b[0mmod\u001b[0m\u001b[0;34m)\u001b[0m\u001b[0;34m\u001b[0m\u001b[0;34m\u001b[0m\u001b[0m\n\u001b[0m\u001b[1;32m     60\u001b[0m             \u001b[0mprediction\u001b[0m \u001b[0;34m=\u001b[0m \u001b[0mnp\u001b[0m\u001b[0;34m.\u001b[0m\u001b[0mround\u001b[0m\u001b[0;34m(\u001b[0m\u001b[0mprediction\u001b[0m\u001b[0;34m,\u001b[0m \u001b[0;36m0\u001b[0m\u001b[0;34m)\u001b[0m\u001b[0;34m\u001b[0m\u001b[0;34m\u001b[0m\u001b[0m\n\u001b[1;32m     61\u001b[0m \u001b[0;31m#         pred = np.transpose(pred, (0, 3, 2, 1))\u001b[0m\u001b[0;34m\u001b[0m\u001b[0;34m\u001b[0m\u001b[0;34m\u001b[0m\u001b[0m\n",
      "\u001b[0;32m/tmp/ipykernel_14508/2543957459.py\u001b[0m in \u001b[0;36mpred_invert_resample_1cl\u001b[0;34m(data, mat_fie_sub, path_to_orig, path_to_resampled, mod)\u001b[0m\n\u001b[1;32m     52\u001b[0m         \u001b[0;32mif\u001b[0m \u001b[0mmod\u001b[0m \u001b[0;34m==\u001b[0m \u001b[0;34m'3a_atlas'\u001b[0m\u001b[0;34m:\u001b[0m\u001b[0;34m\u001b[0m\u001b[0;34m\u001b[0m\u001b[0m\n\u001b[1;32m     53\u001b[0m \u001b[0;31m#             print('a')\u001b[0m\u001b[0;34m\u001b[0m\u001b[0;34m\u001b[0m\u001b[0;34m\u001b[0m\u001b[0m\n\u001b[0;32m---> 54\u001b[0;31m             new_img = ants.apply_transforms(new_orig, old_like, whichtoinvert=[True],\n\u001b[0m\u001b[1;32m     55\u001b[0m                                       transformlist = mat_fie_sub)\n\u001b[1;32m     56\u001b[0m         \u001b[0;32melif\u001b[0m \u001b[0mmod\u001b[0m \u001b[0;34m==\u001b[0m \u001b[0;34m'2a_interp'\u001b[0m\u001b[0;34m:\u001b[0m\u001b[0;34m\u001b[0m\u001b[0;34m\u001b[0m\u001b[0m\n",
      "\u001b[0;32m/opt/conda/lib/python3.8/site-packages/ants/registration/apply_transforms.py\u001b[0m in \u001b[0;36mapply_transforms\u001b[0;34m(fixed, moving, transformlist, interpolator, imagetype, whichtoinvert, compose, defaultvalue, verbose, **kwargs)\u001b[0m\n\u001b[1;32m    107\u001b[0m             \u001b[0;32mfor\u001b[0m \u001b[0mtl_path\u001b[0m \u001b[0;32min\u001b[0m \u001b[0mtransformlist\u001b[0m\u001b[0;34m:\u001b[0m\u001b[0;34m\u001b[0m\u001b[0;34m\u001b[0m\u001b[0m\n\u001b[1;32m    108\u001b[0m                 \u001b[0;32mif\u001b[0m \u001b[0;32mnot\u001b[0m \u001b[0mos\u001b[0m\u001b[0;34m.\u001b[0m\u001b[0mpath\u001b[0m\u001b[0;34m.\u001b[0m\u001b[0mexists\u001b[0m\u001b[0;34m(\u001b[0m\u001b[0mtl_path\u001b[0m\u001b[0;34m)\u001b[0m\u001b[0;34m:\u001b[0m\u001b[0;34m\u001b[0m\u001b[0;34m\u001b[0m\u001b[0m\n\u001b[0;32m--> 109\u001b[0;31m                     \u001b[0;32mraise\u001b[0m \u001b[0mException\u001b[0m\u001b[0;34m(\u001b[0m\u001b[0;34m'Transform %s does not exist'\u001b[0m \u001b[0;34m%\u001b[0m \u001b[0mtl_path\u001b[0m\u001b[0;34m)\u001b[0m\u001b[0;34m\u001b[0m\u001b[0;34m\u001b[0m\u001b[0m\n\u001b[0m\u001b[1;32m    110\u001b[0m \u001b[0;34m\u001b[0m\u001b[0m\n\u001b[1;32m    111\u001b[0m             \u001b[0minpixeltype\u001b[0m \u001b[0;34m=\u001b[0m \u001b[0mfixed\u001b[0m\u001b[0;34m.\u001b[0m\u001b[0mpixeltype\u001b[0m\u001b[0;34m\u001b[0m\u001b[0;34m\u001b[0m\u001b[0m\n",
      "\u001b[0;31mException\u001b[0m: Transform /data_anvar/public_datasets/preproc_study/schw/3a_atlas/VS-SEG-146/T1C_to_SRI_inv.mat does not exist"
     ]
    }
   ],
   "source": [
    "orig_folder = '/data_anvar/public_datasets/preproc_study/schw/orig'\n",
    "resample_folder = '/data_anvar/public_datasets/preproc_study/schw/3a_atlas'\n",
    "file = '/data_anvar/public_datasets/preproc_study/schw/3a_atlas'\n",
    "pred_folder = '/data/newdata/schw_infer/schw_3a_atlas_from_brats_TL/predictions_best_epoch=87-dice_mean=87_01_task=37_fold=0_tta'\n",
    "target_folder = '/data_anvar/public_datasets/preproc_study/schw/1_reg'\n",
    "reg_1 = '/data_anvar/public_datasets/preproc_study/schw/1_reg'\n",
    "out_json = '/results/metrics'\n",
    "dataset = 'schw'\n",
    "# TCGA-76-4932\n",
    "subjects = [each[:-8] for each in os.listdir(pred_folder)]\n",
    "assert(len(subjects) == 242)\n",
    "# subjects = ['TCGA-02-0027']\n",
    "calculate_metrics(subjects, file, reg_1, pred_folder, resample_folder, target_folder, dataset, out = out_json, mod='3a_atlas')"
   ]
  },
  {
   "cell_type": "code",
   "execution_count": 181,
   "id": "1bcbce2e",
   "metadata": {},
   "outputs": [
    {
     "name": "stdout",
     "output_type": "stream",
     "text": [
      "T1.nii.gz  T1_SEG.nii.gz  T2.nii.gz\n"
     ]
    }
   ],
   "source": [
    "!cd /data_anvar/public_datasets/preproc_study/schw/orig/VS-SEG-001  && ls"
   ]
  },
  {
   "cell_type": "code",
   "execution_count": 33,
   "id": "c14c2b37",
   "metadata": {},
   "outputs": [
    {
     "name": "stdout",
     "output_type": "stream",
     "text": [
      "(256, 256, 23)\n",
      "[10]\n",
      "(1, 150, 200, 200)\n",
      "(256, 256, 23, 3)\n",
      "(256, 256, 23, 1)\n",
      "[0 1]\n",
      "(256, 256, 23)\n",
      "[0 1]\n"
     ]
    },
    {
     "data": {
      "image/png": "[encoded data removed]",
      "text/plain": [
       "<Figure size 864x864 with 3 Axes>"
      ]
     },
     "metadata": {
      "needs_background": "light"
     },
     "output_type": "display_data"
    },
    {
     "name": "stdout",
     "output_type": "stream",
     "text": [
      "TCGA-02-0054\n",
      "dice WT\n",
      "0.8945247068676717\n"
     ]
    }
   ],
   "source": [
    "import ants\n",
    "import nibabel as nib\n",
    "import numpy as np\n",
    "import matplotlib.pyplot as plt\n",
    "from glob import glob\n",
    "fname = 'TCGA-02-0054'\n",
    "\n",
    "orig_sub = os.path.join(Path('/data_anvar/public_datasets/preproc_study/gbm/1_reg'), fname,'CT1_SEG.nii.gz')\n",
    "resamp_sub = os.path.join(Path('/data_anvar/public_datasets/preproc_study/gbm/4a_resamp'), fname,'CT1_SEG.nii.gz')\n",
    "\n",
    "targets = ants.image_read(orig_sub)\n",
    "targets = targets.numpy()\n",
    "print(targets.shape)\n",
    "l = np.argsort(targets.sum(axis=(0,1)))[-1:]\n",
    "print(l)\n",
    "y_wt, y_tc, y_et = targets > 0, ((targets == 1) + (targets == 3)) > 0, targets == 3\n",
    "label_orig = np.stack([y_wt, y_tc, y_et], axis=0).astype(int).transpose(1,2,3,0)\n",
    "\n",
    "\n",
    "\n",
    "img_orig = ants.image_read(os.path.join(Path('/data_anvar/public_datasets/preproc_study/gbm/1_reg'), fname,'FLAIR.nii.gz'))\n",
    "img_orig = img_orig.numpy()[:,:,:,np.newaxis]\n",
    "\n",
    "\n",
    "pred = np.load(f'/data/newdata/gbm_infer/gbm_4a_resamp_from_bgpd_TL/predictions_best_epoch=56-dice_mean=81_56_task=38_fold=0_tta/{fname}.npy.npz',allow_pickle=True)['arr_0']\n",
    "print(pred.shape)\n",
    "prediction = pred_invert_resample_1cl(pred, 'notnow', orig_sub, resamp_sub, mod=None)\n",
    "p = np.round(prediction, 0).astype(np.uint8)\n",
    "# p = np.round(pred, 0).transpose(3,2,1,0).astype(np.uint8)\n",
    "print(label_orig.shape), print(img_orig.shape)\n",
    "print(np.unique(label_orig))\n",
    "print(p.shape), print(np.unique(p))\n",
    "# print(mask.shape), print(np.unique(mask))\n",
    "# print((p[:,:,:,0]* mask).shape)\n",
    "# check = np.concatenate(((p[:,:,:,0]* mask)[:,:,:,np.newaxis], (p[:,:,:,1]* mask)[:,:,:,np.newaxis], (p[:,:,:,2]* mask)[:,:,:,np.newaxis]), axis=3)\n",
    "# print(check.shape), print(np.unique(check))\n",
    "imgs = [img_orig[:,:,l,0]] + [label_orig[:,:,l,0]]  +[p[:,:,l]] \n",
    " \n",
    "fig, ax = plt.subplots(nrows=1, ncols=3, figsize=(12, 12))\n",
    "for i in range(3):\n",
    "        if i < 1:\n",
    "            ax[i].imshow(imgs[i], cmap='gray')\n",
    "        else:\n",
    "            ax[i].imshow(imgs[i]);\n",
    "        ax[i].axis('off')  \n",
    "plt.tight_layout()            \n",
    "plt.show()\n",
    "\n",
    "print(fname)\n",
    "print('dice WT')\n",
    "print(metrics.compute_dice_coefficient((label_orig[:,:,:]==1), (p[:,:,:]==1)))\n",
    "# print(metrics.compute_dice_coefficient((label_orig[:,:,:,0]==1), (check[:,:,:,0]==1)))"
   ]
  },
  {
   "cell_type": "code",
   "execution_count": null,
   "id": "4adae942",
   "metadata": {},
   "outputs": [],
   "source": []
  }
 ],
 "metadata": {
  "kernelspec": {
   "display_name": "Python 3 (ipykernel)",
   "language": "python",
   "name": "python3"
  },
  "language_info": {
   "codemirror_mode": {
    "name": "ipython",
    "version": 3
   },
   "file_extension": ".py",
   "mimetype": "text/x-python",
   "name": "python",
   "nbconvert_exporter": "python",
   "pygments_lexer": "ipython3",
   "version": "3.8.12"
  }
 },
 "nbformat": 4,
 "nbformat_minor": 5
}
