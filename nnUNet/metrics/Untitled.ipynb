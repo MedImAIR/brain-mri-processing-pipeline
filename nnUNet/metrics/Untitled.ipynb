{
 "cells": [
  {
   "cell_type": "code",
   "execution_count": 73,
   "id": "fbe9d0c5",
   "metadata": {},
   "outputs": [],
   "source": [
    "import os\n",
    "import sys\n",
    "import argparse\n",
    "import numpy as np\n",
    "import torch\n",
    "import pandas as pd\n",
    "import nibabel as nib    \n",
    "from pathlib import Path\n",
    "from surface_distance import metrics\n",
    "from tqdm import tqdm\n",
    "import torch.nn as nn\n",
    "import ants\n",
    "import json"
   ]
  },
  {
   "cell_type": "code",
   "execution_count": 15,
   "id": "13afb070",
   "metadata": {},
   "outputs": [],
   "source": [
    "def pred_invert_resample(path_to_pred, path_to_orig, path_to_resampled):\n",
    "    # path_to_pred = *npz, path_to_orig = *1_reg, path_to_resampled = *4a_resample\n",
    "    # *.npz archives sometimes can be recognised wrong, if extracted and saved back at the same time\n",
    "#     data = np.load(path_to_pred, allow_pickle=True)['arr_0']\n",
    "    # schw\n",
    "    if np.shape(data)[0] == 1:\n",
    "        data = data.transpose(0,3,2,1).astype('float32')\n",
    "        old_orig = ants.image_read(path_to_resampled)\n",
    "        new_orig = ants.image_read(path_to_orig)\n",
    "        old_like = old_orig.new_image_like(data[0])\n",
    "        new_img = ants.resample_image(old_like, new_orig.spacing, False, 0)\n",
    "        output_file = new_img.numpy().astype('float16')\n",
    "    \n",
    "    # gbm and lgg\n",
    "    elif np.shape(data)[0] > 1:\n",
    "        data = data.transpose(0,3,2,1).astype('float32')\n",
    "\n",
    "        old_orig_ct1 = ants.image_read(path_to_resampled)\n",
    "        new_orig_ct1 = ants.image_read(path_to_orig)\n",
    "\n",
    "        old_like_ch_0 = old_orig_ct1.new_image_like(data[0])\n",
    "        old_like_ch_1 = old_orig_ct1.new_image_like(data[1])\n",
    "        old_like_ch_2 = old_orig_ct1.new_image_like(data[2])\n",
    "\n",
    "        new_img_0 = ants.resample_image(old_like_ch_0, new_orig_ct1, False, 0)\n",
    "        new_img_1 = ants.resample_image(old_like_ch_1, new_orig_ct1, False, 0)\n",
    "        new_img_2 = ants.resample_image(old_like_ch_2, new_orig_ct1, False, 0)\n",
    "\n",
    "        new_img_shape =  new_img_2.numpy().shape\n",
    "\n",
    "        new_array = np.zeros(tuple([3] + list(new_img_shape)), dtype='float16')\n",
    "        new_array[0] = new_img_0.numpy()\n",
    "        new_array[1] = new_img_1.numpy()\n",
    "        new_array[2] = new_img_2.numpy()\n",
    "        output_file = new_array.transpose(0,3,2,1).astype('float16')\n",
    "    return (output_file)\n",
    "\n",
    "def pred_invert_resample_1cl(data, path_to_orig, path_to_resampled):\n",
    "    # path_to_pred = *npz, path_to_orig = *1_reg, path_to_resampled = *4a_resample\n",
    "    # *.npz archives sometimes can be recognised wrong, if extracted and saved back at the same time\n",
    "#     data = np.load(path_to_pred, allow_pickle=True)['arr_0']\n",
    "    # schw\n",
    "        data = data.transpose(0,3,2,1).astype('float32')\n",
    "        old_orig = ants.image_read(path_to_resampled)\n",
    "        new_orig = ants.image_read(path_to_orig)\n",
    "        old_like = old_orig.new_image_like(data[0])\n",
    "        new_img = ants.resample_image(old_like, new_orig.spacing, False, 0)\n",
    "        output_file = new_img.numpy().astype('float16')\n",
    "        return (output_file)\n",
    "    \n",
    "def pred_invert_resample_classes(data, path_to_orig, path_to_resampled):\n",
    "\n",
    "    # gbm and lgg\n",
    "        data = data.transpose(0,3,2,1).astype('float32')\n",
    "\n",
    "        old_orig_ct1 = ants.image_read(path_to_resampled)\n",
    "        new_orig_ct1 = ants.image_read(path_to_orig)\n",
    "\n",
    "        old_like_ch_0 = old_orig_ct1.new_image_like(data[0])\n",
    "        old_like_ch_1 = old_orig_ct1.new_image_like(data[1])\n",
    "        old_like_ch_2 = old_orig_ct1.new_image_like(data[2])\n",
    "\n",
    "        new_img_0 = ants.resample_image(old_like_ch_0, new_orig_ct1, False, 0)\n",
    "        new_img_1 = ants.resample_image(old_like_ch_1, new_orig_ct1, False, 0)\n",
    "        new_img_2 = ants.resample_image(old_like_ch_2, new_orig_ct1, False, 0)\n",
    "\n",
    "        new_img_shape =  new_img_2.numpy().shape\n",
    "\n",
    "        new_array = np.zeros(tuple([3] + list(new_img_shape)), dtype='float16')\n",
    "        new_array[0] = new_img_0.numpy()\n",
    "        new_array[1] = new_img_1.numpy()\n",
    "        new_array[2] = new_img_2.numpy()\n",
    "        output_file = new_array.transpose(0,3,2,1).astype('float16')\n",
    "        return (output_file)"
   ]
  },
  {
   "cell_type": "code",
   "execution_count": 37,
   "id": "61c6f59b",
   "metadata": {},
   "outputs": [],
   "source": [
    "pred_sub = '/results/schw_infer/schw_4a_resamp/predictions_best_epoch=88-dice_mean=89_45_task=39_fold=0_tta/VS-SEG-001.npy.npz'\n",
    "orig_sub = '/data_anvar/public_datasets/preproc_study/schw/orig/VS-SEG-001/T1_SEG.nii.gz'\n",
    "resamp_sub = '/data_anvar/public_datasets/preproc_study/schw/4a_resamp/VS-SEG-001/T1_SEG.nii.gz'\n",
    "out_file = pred_invert_resample(pred_sub, orig_sub, resamp_sub)"
   ]
  },
  {
   "cell_type": "code",
   "execution_count": 38,
   "id": "601d5e54",
   "metadata": {},
   "outputs": [
    {
     "data": {
      "text/plain": [
       "(512, 512, 120)"
      ]
     },
     "execution_count": 38,
     "metadata": {},
     "output_type": "execute_result"
    }
   ],
   "source": [
    "out_file.shape"
   ]
  },
  {
   "cell_type": "code",
   "execution_count": 21,
   "id": "b2348a5b",
   "metadata": {},
   "outputs": [
    {
     "name": "stdout",
     "output_type": "stream",
     "text": [
      "T1.nii.gz  T1_SEG.nii.gz  T2.nii.gz\n"
     ]
    }
   ],
   "source": [
    "! cd /data_anvar/public_datasets/preproc_study/schw/4a_resamp/VS-SEG-001/ && ls"
   ]
  },
  {
   "cell_type": "code",
   "execution_count": null,
   "id": "fc5017db",
   "metadata": {},
   "outputs": [],
   "source": [
    "i_t = nib.load('/data/private_data/schw/schw_4a_resamp/labels/VS-SEG-001_seg.nii.gz')"
   ]
  },
  {
   "cell_type": "code",
   "execution_count": 20,
   "id": "0bcfb96b",
   "metadata": {},
   "outputs": [],
   "source": [
    "def sensitivity_and_specificity(mask_gt, mask_pred):\n",
    "    \"\"\" Computes sensitivity and specificity\n",
    "     sensitivity  = TP/(TP+FN)\n",
    "     specificity  = TN/(TN+FP) \"\"\"\n",
    "    volume_sum = mask_gt.sum() + mask_pred.sum()\n",
    "    tp = (mask_gt & mask_pred).sum()\n",
    "    tn = (~mask_gt & ~mask_pred).sum()\n",
    "    fp = (~mask_gt & mask_pred).sum()\n",
    "    fn = (mask_gt & ~mask_pred).sum()\n",
    "#     TP/(TP+FP) - precision; TP/(TP+FN) - recall\n",
    "    return tp/(tp+fn), tp/(tp+fp), tn/(tn+fp)"
   ]
  },
  {
   "cell_type": "code",
   "execution_count": 26,
   "id": "193f0121",
   "metadata": {},
   "outputs": [],
   "source": [
    "def calculate_metrics_brats_1cl(true_mask, pred_mask, ids, spaces):\n",
    "    \"\"\" Takes two file locations as input and validates surface distances.\n",
    "    Be careful with dimensions of saved `pred` it should be 3D.\n",
    "    \n",
    "    \"\"\"\n",
    "    \n",
    "    _columns = ['Ids','Dice_1'\n",
    "                'Hausdorff95_1',\n",
    "                'Sensitivity_1',\n",
    "               'Specificity_1',\n",
    "               'Surface_dice_1',\n",
    "               'Precision_1']\n",
    "    \n",
    "    df = pd.DataFrame(columns = _columns)\n",
    "    df.at[0,'Ids'] = ids\n",
    "    #class 1\n",
    "    distances = metrics.compute_surface_distances((true_mask==1), (pred_mask==1), spaces)\n",
    "    df.at[0,'Dice_1'] = metrics.compute_dice_coefficient((true_mask==1), (pred_mask==1))\n",
    "    df.at[0,'Surface_dice_1'] = metrics.compute_surface_dice_at_tolerance(distances,1)\n",
    "    df.at[0,'Hausdorff95_1'] = metrics.compute_robust_hausdorff(distances, 95)\n",
    "    sens, precision, spec = sensitivity_and_specificity((true_mask==1), (pred_mask==1))\n",
    "    df.at[0,'Sensitivity_1'] = sens\n",
    "    df.at[0,'Precision_1'] = precision\n",
    "    df.at[0,'Specificity_1'] = spec\n",
    "    return df\n",
    "\n",
    "def calculate_metrics_brats(true_mask, pred_mask, ids, spaces):\n",
    "    \"\"\" Takes two file locations as input and validates surface distances.\n",
    "    Be careful with dimensions of saved `pred` it should be 3D.\n",
    "    \n",
    "    \"\"\"\n",
    "    \n",
    "    _columns = ['Ids','Dice_1', 'Dice_2', 'Dice_3',\n",
    "                'Hausdorff95_1', 'Hausdorff95_2', 'Hausdorff95_3',\n",
    "                'Sensitivity_1', 'Sensitivity_2', 'Sensitivity_3',\n",
    "               'Specificity_1', 'Specificity_2', 'Specificity_3',\n",
    "               'Surface_dice_1', 'Surface_dice_2', 'Surface_dice_3',\n",
    "               'Precision_1', 'Precision_2', 'Precision_3']\n",
    "    \n",
    "    df = pd.DataFrame(columns = _columns)\n",
    "    df.at[0,'Ids'] = ids\n",
    "    #class 1\n",
    "    distances = metrics.compute_surface_distances((true_mask[0,:,:,:]==1), (pred_mask[0,:,:,:]==1), spaces)\n",
    "    df.at[0,'Dice_1'] = metrics.compute_dice_coefficient((true_mask[0,:,:,:]==1), (pred_mask[0,:,:,:]==1))\n",
    "    df.at[0,'Surface_dice_1'] = metrics.compute_surface_dice_at_tolerance(distances,1)\n",
    "    df.at[0,'Hausdorff95_1'] = metrics.compute_robust_hausdorff(distances, 95)\n",
    "    sens, precision, spec = sensitivity_and_specificity((true_mask[0,:,:,:]==1), (pred_mask[0,:,:,:]==1))\n",
    "    df.at[0,'Sensitivity_1'] = sens\n",
    "    df.at[0,'Precision_1'] = precision\n",
    "    df.at[0,'Specificity_1'] = spec\n",
    "    #class 2\n",
    "    distances = metrics.compute_surface_distances((true_mask[1,:,:,:]==1), (pred_mask[1,:,:,:]==1), spaces)\n",
    "    df.at[0,'Dice_2'] = metrics.compute_dice_coefficient((true_mask[1,:,:,:]==1), (pred_mask[1,:,:,:]==1))\n",
    "    df.at[0,'Surface_dice_2'] = metrics.compute_surface_dice_at_tolerance(distances,1)\n",
    "    df.at[0,'Hausdorff95_2'] = metrics.compute_robust_hausdorff(distances, 95)\n",
    "    sens,precision, spec= sensitivity_and_specificity((true_mask[1,:,:,:]==1), (pred_mask[1,:,:,:]==1))\n",
    "    df.at[0,'Sensitivity_2'] = sens\n",
    "    df.at[0,'Precision_2'] = precision\n",
    "    df.at[0,'Specificity_2'] = spec\n",
    "    #class 3\n",
    "    distances = metrics.compute_surface_distances((true_mask[2,:,:,:]==1), (pred_mask[2,:,:,:]==1), spaces)\n",
    "    df.at[0,'Dice_3'] = metrics.compute_dice_coefficient((true_mask[2,:,:,:]==1), (pred_mask[2,:,:,:]==1))\n",
    "    df.at[0,'Surface_dice_3'] = metrics.compute_surface_dice_at_tolerance(distances,1)\n",
    "    df.at[0,'Hausdorff95_3'] = metrics.compute_robust_hausdorff(distances, 95)\n",
    "    sens, precision, spec= sensitivity_and_specificity((true_mask[2,:,:,:]==1), (pred_mask[2,:,:,:]==1))\n",
    "    df.at[0,'Sensitivity_3'] = sens\n",
    "    df.at[0,'Precision_3'] = precision\n",
    "    df.at[0,'Specificity_3'] = spec\n",
    "    return df"
   ]
  },
  {
   "cell_type": "code",
   "execution_count": 188,
   "id": "51ef21d4",
   "metadata": {},
   "outputs": [],
   "source": [
    "    \n",
    "def calculate_metrics(subjects, path_to_orig, path_to_pred, path_to_resamp, path_to_target, dataset, out = '/home/polina/glioma/all_dice_metrics.csv'  ):\n",
    "    \n",
    "    \"\"\" \n",
    "    - path_to_pred - path to folder with predict subjects\n",
    "    - path_to_target - path to folder with target subjects\n",
    "    - name_pred - name for prediction, ex -brainTumorMask_SRI.nii.gz\n",
    "    - name_target - name for targets, ex -GTV_to_SRI.nii.gz\n",
    "    - spaces - if false - [1,1,1]\n",
    "    - name_csv - name files for each subjects\n",
    "    - path_csv_all - path to the main file with metrics for each subjects\n",
    "    \"\"\"\n",
    "#     _columns = ['Ids','Dice_1', 'Dice_2', 'Dice_3',\n",
    "#                 'Hausdorff95_1', 'Hausdorff95_2', 'Hausdorff95_3',\n",
    "#                 'Sensitivity_1', 'Sensitivity_2', 'Sensitivity_3',\n",
    "#                'Specificity_1', 'Specificity_2', 'Specificity_3',\n",
    "#                'Surface_dice_1', 'Surface_dice_2', 'Surface_dice_3',\n",
    "#                'Precision_1', 'Precision_2', 'Precision_3']\n",
    "    _columns = ['Ids','Dice_1'\n",
    "                'Hausdorff95_1',\n",
    "                'Sensitivity_1',\n",
    "               'Specificity_1',\n",
    "               'Surface_dice_1',\n",
    "               'Precision_1']\n",
    "    \n",
    "    af_all = pd.DataFrame(columns = _columns)\n",
    "    pred_folder = Path(path_to_pred)\n",
    "    orig_folder = Path(path_to_orig)\n",
    "    resamp_folder = Path(path_to_resamp)\n",
    "    target_folder = Path(path_to_target)\n",
    "    for ids in tqdm(subjects):\n",
    "#         print(ids)\n",
    "        pred_sub = os.path.join(pred_folder, ids + '.npy.npz')\n",
    "        orig_sub = os.path.join(orig_folder, ids,'T1_SEG.nii.gz')\n",
    "        resamp_sub = os.path.join(resamp_folder, ids,'T1_SEG.nii.gz')\n",
    "#         targets = nib.load(os.path.join(target_folder, ids + '_seg.nii.gz'))\n",
    "#         targets = ants.image_read(orig_sub)\n",
    "#         targets = ants.reorient_image2(label_orig, orientation = 'LAI')\n",
    "#         targets = nib.load(orig_sub)\n",
    "#         spaces = targets.header.get_zooms()\n",
    "#         spaces = targets.spacing\n",
    "#         targets = targets.numpy().astype('int')\n",
    "        targets = ants.image_read(f'{target_folder}/{ids}_seg.nii.gz')\n",
    "        spaces = targets.spacing\n",
    "        targets = ants.reorient_image2(targets, orientation = 'LAI').numpy()\n",
    "#         print(targets.shape)\n",
    "#         print(np.unique(targets))\n",
    "        data = np.load(pred_sub, allow_pickle=True)['arr_0']\n",
    "#         print(data.shape)\n",
    "        if np.shape(data)[0] == 1: \n",
    "            prediction = pred_invert_resample_1cl(data, orig_sub, resamp_sub)\n",
    "            prediction = np.round(prediction, 0)\n",
    "#         pred = np.transpose(pred, (0, 3, 2, 1))\n",
    "#             print(prediction.shape)\n",
    "#             print(np.unique(prediction))\n",
    "            df = calculate_metrics_brats_1cl(targets.astype('int'), prediction.astype('int'), ids, spaces)\n",
    "#             print(df)\n",
    "        elif np.shape(data)[0] > 1: \n",
    "            prediction = pred_invert_resample_classes(data, orig_sub, resamp_sub)[np.newaxis, :,:,:]\n",
    "            y_wt, y_tc, y_et = targets > 0, ((targets == 1) + (targets == 3)) > 0, targets == 3\n",
    "            targets = np.stack([y_wt, y_tc, y_et], axis=0).astype(int)\n",
    "            df=calculate_metrics_brats(targets.astype('int'), prediction.astype('int'), sub, spaces)\n",
    "        os.makedirs(os.path.join(out, dataset,ids), exist_ok = True)\n",
    "        out_path = os.path.join(out, dataset,ids, path_to_pred.split('/')[-2] + '_'+ path_to_pred.split('best_')[-1].replace('=', '_') + '.json')\n",
    "       #         df.to_json(out_path, orient='records')\n",
    "        sub_dict = {dataset : {path_to_pred.split('/')[-2]: {path_to_pred.split('_')[-2]: {}}}}\n",
    "        sub_dict[dataset][path_to_pred.split('/')[-2]][path_to_pred.split('_')[-2]] = df.to_dict('records')[0]\n",
    "#         print(sub_dict)\n",
    "        with open(out_path, 'w') as fp:\n",
    "            json.dump(sub_dict, fp)\n",
    "#         print(df)\n",
    "        af_all = af_all.append(df)\n",
    "#     af_all.to_csv(out)  \n",
    "    print(af_all.mean())\n",
    "    "
   ]
  },
  {
   "cell_type": "code",
   "execution_count": 189,
   "id": "29401ab3",
   "metadata": {},
   "outputs": [],
   "source": [
    "subjects = [each[:-8] for each in os.listdir(pred_folder)]"
   ]
  },
  {
   "cell_type": "code",
   "execution_count": 190,
   "id": "f8fcefcb",
   "metadata": {},
   "outputs": [
    {
     "name": "stderr",
     "output_type": "stream",
     "text": [
      " 14%|██████████████████████▊                                                                                                                                       | 35/242 [03:12<18:44,  5.43s/it]/tmp/ipykernel_28215/252092393.py:11: RuntimeWarning:\n",
      "\n",
      "invalid value encountered in long_scalars\n",
      "\n",
      "100%|█████████████████████████████████████████████████████████████████████████████████████████████████████████████████████████████████████████████████████████████| 242/242 [22:37<00:00,  5.61s/it]"
     ]
    },
    {
     "name": "stdout",
     "output_type": "stream",
     "text": [
      "Dice_1Hausdorff95_1         NaN\n",
      "Sensitivity_1          0.183198\n",
      "Specificity_1          0.999995\n",
      "Surface_dice_1         0.113845\n",
      "Precision_1            0.892078\n",
      "Dice_1                 0.277241\n",
      "Hausdorff95_1               inf\n",
      "dtype: float64\n"
     ]
    },
    {
     "name": "stderr",
     "output_type": "stream",
     "text": [
      "\n"
     ]
    }
   ],
   "source": [
    "orig_folder = '/data_anvar/public_datasets/preproc_study/schw/orig'\n",
    "resample_folder = '/data_anvar/public_datasets/preproc_study/schw/4a_resamp'\n",
    "pred_folder = '/results/schw_infer/schw_4d_susan/predictions_best_epoch=92-dice_mean=89_37_task=42_fold=0_tta'\n",
    "target_folder = '/data/private_data/schw/schw_1_reg/labels'\n",
    "reg_1 = '/data_anvar/public_datasets/preproc_study/schw/1_reg'\n",
    "out_json = '/results/metrics'\n",
    "dataset = 'schw'\n",
    "subjects = [each[:-8] for each in os.listdir(pred_folder)]\n",
    "calculate_metrics(subjects, orig_folder, pred_folder, resample_folder, target_folder, dataset, out = out_json)"
   ]
  },
  {
   "cell_type": "code",
   "execution_count": 196,
   "id": "0ee7ba85",
   "metadata": {},
   "outputs": [
    {
     "name": "stderr",
     "output_type": "stream",
     "text": [
      "  2%|██▋                                                                                                                                                            | 4/242 [00:21<21:11,  5.34s/it]/tmp/ipykernel_28215/252092393.py:11: RuntimeWarning:\n",
      "\n",
      "invalid value encountered in long_scalars\n",
      "\n",
      "100%|█████████████████████████████████████████████████████████████████████████████████████████████████████████████████████████████████████████████████████████████| 242/242 [22:50<00:00,  5.66s/it]"
     ]
    },
    {
     "name": "stdout",
     "output_type": "stream",
     "text": [
      "Dice_1Hausdorff95_1         NaN\n",
      "Sensitivity_1          0.317411\n",
      "Specificity_1          1.000000\n",
      "Surface_dice_1         0.304043\n",
      "Precision_1            0.999804\n",
      "Dice_1                 0.440201\n",
      "Hausdorff95_1               inf\n",
      "dtype: float64\n"
     ]
    },
    {
     "name": "stderr",
     "output_type": "stream",
     "text": [
      "\n"
     ]
    }
   ],
   "source": [
    "orig_folder = '/data_anvar/public_datasets/preproc_study/schw/orig'\n",
    "resample_folder = '/data_anvar/public_datasets/preproc_study/schw/4a_resamp'\n",
    "pred_folder = '/results/schw_infer/schw_4d_susan/predictions_best_epoch=92-dice_mean=91_10_task=42_fold=1_tta'\n",
    "target_folder = '/data/private_data/schw/schw_1_reg/labels'\n",
    "reg_1 = '/data_anvar/public_datasets/preproc_study/schw/1_reg'\n",
    "out_json = '/results/metrics'\n",
    "dataset = 'schw'\n",
    "subjects = [each[:-8] for each in os.listdir(pred_folder)]\n",
    "calculate_metrics(subjects, orig_folder, pred_folder, resample_folder, target_folder, dataset, out = out_json)"
   ]
  },
  {
   "cell_type": "code",
   "execution_count": null,
   "id": "cbec6994",
   "metadata": {},
   "outputs": [],
   "source": [
    "orig_folder = '/data_anvar/public_datasets/preproc_study/schw/orig'\n",
    "resample_folder = '/data_anvar/public_datasets/preproc_study/schw/4a_resamp'\n",
    "pred_folder = '/results/schw_infer/schw_4d_susan/predictions_best_epoch=86-dice_mean=88_69_task=42_fold=2_tta'\n",
    "target_folder = '/data/private_data/schw/schw_1_reg/labels'\n",
    "reg_1 = '/data_anvar/public_datasets/preproc_study/schw/1_reg'\n",
    "out_json = '/results/metrics'\n",
    "dataset = 'schw'\n",
    "subjects = [each[:-8] for each in os.listdir(pred_folder)]\n",
    "calculate_metrics(subjects, orig_folder, pred_folder, resample_folder, target_folder, dataset, out = out_json)"
   ]
  },
  {
   "cell_type": "code",
   "execution_count": 195,
   "id": "8ce492a5",
   "metadata": {},
   "outputs": [
    {
     "name": "stderr",
     "output_type": "stream",
     "text": [
      " 40%|███████████████████████████████████████████████████████████████▉                                                                                              | 98/242 [09:15<13:34,  5.66s/it]/tmp/ipykernel_28215/252092393.py:11: RuntimeWarning:\n",
      "\n",
      "invalid value encountered in long_scalars\n",
      "\n",
      "100%|█████████████████████████████████████████████████████████████████████████████████████████████████████████████████████████████████████████████████████████████| 242/242 [22:31<00:00,  5.58s/it]"
     ]
    },
    {
     "name": "stdout",
     "output_type": "stream",
     "text": [
      "Dice_1Hausdorff95_1         NaN\n",
      "Sensitivity_1          0.348096\n",
      "Specificity_1          0.999999\n",
      "Surface_dice_1         0.336086\n",
      "Precision_1            0.978247\n",
      "Dice_1                 0.483173\n",
      "Hausdorff95_1               inf\n",
      "dtype: float64\n"
     ]
    },
    {
     "name": "stderr",
     "output_type": "stream",
     "text": [
      "\n"
     ]
    }
   ],
   "source": [
    "orig_folder = '/data_anvar/public_datasets/preproc_study/schw/orig'\n",
    "resample_folder = '/data_anvar/public_datasets/preproc_study/schw/4a_resamp'\n",
    "pred_folder = '/results/schw_infer/schw_4b_n4/predictions_best_epoch=87-dice_mean=89_45_task=41_fold=0_tta'\n",
    "target_folder = '/data/private_data/schw/schw_1_reg/labels'\n",
    "reg_1 = '/data_anvar/public_datasets/preproc_study/schw/1_reg'\n",
    "out_json = '/results/metrics'\n",
    "dataset = 'schw'\n",
    "subjects = [each[:-8] for each in os.listdir(pred_folder)]\n",
    "calculate_metrics(subjects, orig_folder, pred_folder, resample_folder, target_folder, dataset, out = out_json)"
   ]
  },
  {
   "cell_type": "code",
   "execution_count": null,
   "id": "3e7fa4cb",
   "metadata": {},
   "outputs": [],
   "source": [
    "orig_folder = '/data_anvar/public_datasets/preproc_study/schw/orig'\n",
    "resample_folder = '/data_anvar/public_datasets/preproc_study/schw/4a_resamp'\n",
    "pred_folder = '/results/schw_infer/schw_4b_n4/predictions_best_epoch=97-dice_mean=91_28_task=41_fold=1_tta'\n",
    "target_folder = '/data/private_data/schw/schw_1_reg/labels'\n",
    "reg_1 = '/data_anvar/public_datasets/preproc_study/schw/1_reg'\n",
    "out_json = '/results/metrics'\n",
    "dataset = 'schw'\n",
    "subjects = [each[:-8] for each in os.listdir(pred_folder)]\n",
    "calculate_metrics(subjects, orig_folder, pred_folder, resample_folder, target_folder, dataset, out = out_json)"
   ]
  },
  {
   "cell_type": "code",
   "execution_count": null,
   "id": "1c61fc88",
   "metadata": {},
   "outputs": [],
   "source": [
    "orig_folder = '/data_anvar/public_datasets/preproc_study/schw/orig'\n",
    "resample_folder = '/data_anvar/public_datasets/preproc_study/schw/4a_resamp'\n",
    "pred_folder = '/results/schw_infer/schw_4b_n4/predictions_best_epoch=95-dice_mean=89_05_task=41_fold=2_tta'\n",
    "target_folder = '/data/private_data/schw/schw_1_reg/labels'\n",
    "reg_1 = '/data_anvar/public_datasets/preproc_study/schw/1_reg'\n",
    "out_json = '/results/metrics'\n",
    "dataset = 'schw'\n",
    "subjects = [each[:-8] for each in os.listdir(pred_folder)]\n",
    "calculate_metrics(subjects, orig_folder, pred_folder, resample_folder, target_folder, dataset, out = out_json)"
   ]
  },
  {
   "cell_type": "code",
   "execution_count": null,
   "id": "7a43ac3c",
   "metadata": {},
   "outputs": [],
   "source": [
    "out_json = '/results/metrics/schw/'\n",
    "task = 'schw_4a_resamp'\n",
    "fold = 'fold_0'\n",
    "dice = []\n",
    "hausdorff = []\n",
    "sensitivity = []\n",
    "specificity = []\n",
    "surface_dice = []\n",
    "precision = []\n",
    "columns = ['Ids','Dice_1'\n",
    "                'Hausdorff95_1',\n",
    "                'Sensitivity_1',\n",
    "               'Specificity_1',\n",
    "               'Surface_dice_1',\n",
    "               'Precision_1']\n",
    "    \n",
    "metrics_all = pd.DataFrame(columns = _columns)\n",
    "for sub in out_json:\n",
    "    for sub_t in os.listdir(os.path.join(out_json, sub)):\n",
    "        if task in sub_t:\n",
    "            if fold in sub_t:\n",
    "                metrics = json.load(open(os.path.join(out_json, sub, sub_t)))[task][fold]\n",
    "                for each in metrics:\n",
    "                    metrics_all[each]\n",
    "#                 af_all = af_all.append(df)\n",
    "#                 dice.append(metrics['Dice_1'])\n",
    "#                 hausdorff.append(metrics['Hausdorff95_1'])\n",
    "#                 sensitivity.append(metrics['Sensitivity_1'])\n",
    "#                 specificity.append(metrics['Specificity_1'])\n",
    "#                 surface_dice.append(metrics['Surface_dice_1'])\n",
    "#                 precision.append(metrics['Precision_1'])\n"
   ]
  },
  {
   "cell_type": "code",
   "execution_count": 152,
   "id": "44aab831",
   "metadata": {},
   "outputs": [],
   "source": []
  },
  {
   "cell_type": "code",
   "execution_count": null,
   "id": "cdc1e0ca",
   "metadata": {},
   "outputs": [],
   "source": [
    "data = data.transpose(0,3,2,1).astype('float32')\n",
    "old_orig = ants.image_read(path_to_resampled)\n",
    "new_orig = ants.image_read(path_to_orig)\n",
    "old_like = old_orig.new_image_like(data[0])\n",
    "new_img = ants.resample_image(old_like, new_orig.spacing, False, 0)\n",
    "output_file = new_img.numpy().astype('float16')"
   ]
  },
  {
   "cell_type": "code",
   "execution_count": 197,
   "id": "1a4b70bd",
   "metadata": {},
   "outputs": [
    {
     "name": "stdout",
     "output_type": "stream",
     "text": [
      "(512, 512, 120)\n",
      "(512, 512, 120)\n",
      "[0 1]\n"
     ]
    },
    {
     "data": {
      "image/png": "[encoded data removed]",
      "text/plain": [
       "<Figure size 864x864 with 4 Axes>"
      ]
     },
     "metadata": {
      "needs_background": "light"
     },
     "output_type": "display_data"
    },
    {
     "name": "stdout",
     "output_type": "stream",
     "text": [
      "0.6825253953966826\n",
      "0.4757752226909137\n"
     ]
    }
   ],
   "source": [
    "import numpy as np\n",
    "import matplotlib.pyplot as plt\n",
    "import nibabel as nib\n",
    "from glob import glob\n",
    "#  VS-SEG-002_seg.nii.gz\n",
    "sub = 'VS-SEG-003'\n",
    "n, z = 1, 80\n",
    "for i in range(n):\n",
    "    pred_sub = f'/results/schw_infer/schw_4d_susan/predictions_best_epoch=92-dice_mean=89_37_task=42_fold=0_tta/{sub}.npy.npz'\n",
    "    orig_folder = f'/data_anvar/public_datasets/preproc_study/schw/orig/{sub}/T1_SEG.nii.gz'\n",
    "    resample_folder = f'/data_anvar/public_datasets/preproc_study/schw/4a_resamp/{sub}/T1_SEG.nii.gz'\n",
    "    reg_1 = f'/data_anvar/public_datasets/preproc_study/schw/1_reg/{sub}/T1_SEG.nii.gz'\n",
    "    targets = ants.image_read(f'/data/private_data/schw/schw_1_reg/labels/{sub}_seg.nii.gz')\n",
    "    targets = ants.reorient_image2(targets, orientation = 'LAI').numpy().astype('int')\n",
    "    print(targets.shape)\n",
    "    data = np.load(pred_sub, allow_pickle=True)['arr_0']\n",
    "    prediction = pred_invert_resample_1cl(data, reg_1, resample_folder)\n",
    "    prediction = np.round(prediction, 0).astype('int')\n",
    "    print(prediction.shape), print(np.unique(prediction))\n",
    "    label_k = ants.image_read(f'/data_anvar/public_datasets/preproc_study/schw/1_reg_check/{sub}/T1_SEG.nii.gz')\n",
    "    label_k = ants.reorient_image2(label_k, orientation = 'LAI').numpy().astype('int')\n",
    "#     label_k = nib.load('/data_anvar/public_datasets/preproc_study/schw/1_reg_check/VS-SEG-157/T1_SEG.nii.gz').get_fdata().astype('int')\n",
    "#     label_p = nib.load('/data/private_data/schw/schw_1_reg/labels/VS-SEG-157_seg.nii.gz').get_fdata().astype('int')\n",
    "    label_orig = ants.image_read(orig_folder)\n",
    "    label_orig = ants.reorient_image2(label_orig, orientation = 'LAI').numpy().astype('int')\n",
    "#     label_orig = nib.load(orig_folder).get_fdata().astype('int')\n",
    "    z = np.argsort(label_k.sum(axis=(0,1)))[-1:]\n",
    "    \n",
    "    imgs = [prediction[:, :, z]]  + [label_k[:, :, z]] + [label_orig[:,:,z]] + [targets[:,:,z]] \n",
    "    fig, ax = plt.subplots(nrows=1, ncols=4, figsize=(12, 12))\n",
    "    for i in range(4):\n",
    "        ax[i].imshow(imgs[i]);\n",
    "        ax[i].axis('off')  \n",
    "    plt.tight_layout()            \n",
    "    plt.show()\n",
    "    \n",
    "print(metrics.compute_dice_coefficient((targets==1), (prediction==1)))\n",
    "distances = metrics.compute_surface_distances((targets==1), (prediction==1), [1,1,1])\n",
    "print(metrics.compute_surface_dice_at_tolerance(distances,1))"
   ]
  },
  {
   "cell_type": "code",
   "execution_count": null,
   "id": "2112bae6",
   "metadata": {},
   "outputs": [],
   "source": []
  },
  {
   "cell_type": "code",
   "execution_count": 53,
   "id": "bddcfdb6",
   "metadata": {},
   "outputs": [
    {
     "name": "stdout",
     "output_type": "stream",
     "text": [
      "(1, 210, 210, 180)\n",
      "[0 1]\n"
     ]
    },
    {
     "data": {
      "image/png": "[encoded data removed]",
      "text/plain": [
       "<Figure size 360x360 with 1 Axes>"
      ]
     },
     "metadata": {
      "needs_background": "light"
     },
     "output_type": "display_data"
    }
   ],
   "source": [
    "pred_sub = f'/results/schw_infer/schw_4a_resamp/predictions_best_epoch=88-dice_mean=89_45_task=39_fold=0_tta/{sub}.npy.npz'\n",
    "data = np.load(pred_sub, allow_pickle=True)['arr_0']\n",
    "data = data.transpose(0,3,2,1).astype('float32')\n",
    "data = np.round(data, 0).astype('int')\n",
    "# z = np.argsort(data.sum(axis=(0,1)))[-1:]\n",
    "print(data.shape), print(np.unique(data))\n",
    "imgs = [data[0,:,:,z][0]]\n",
    "fig, ax = plt.subplots(nrows=1, ncols=1, figsize=(5, 5))\n",
    "ax.imshow(imgs[0]);\n",
    "ax.axis('off')  \n",
    "plt.tight_layout()            \n",
    "plt.show()  "
   ]
  },
  {
   "cell_type": "code",
   "execution_count": 52,
   "id": "319d7afa",
   "metadata": {},
   "outputs": [
    {
     "name": "stdout",
     "output_type": "stream",
     "text": [
      "(210, 210, 180)\n"
     ]
    },
    {
     "data": {
      "image/png": "[encoded data removed]",
      "text/plain": [
       "<Figure size 360x360 with 1 Axes>"
      ]
     },
     "metadata": {
      "needs_background": "light"
     },
     "output_type": "display_data"
    }
   ],
   "source": [
    "resamp = ants.image_read('/data_anvar/public_datasets/preproc_study/schw/4a_resamp/VS-SEG-157/T1_SEG.nii.gz').numpy().astype('int')\n",
    "z = np.argsort(resamp.sum(axis=(0,1)))[-1:]\n",
    "print(resamp.shape)\n",
    "imgs = [resamp[:,:,z]]\n",
    "fig, ax = plt.subplots(nrows=1, ncols=1, figsize=(5, 5))\n",
    "ax.imshow(imgs[0]);\n",
    "ax.axis('off')  \n",
    "plt.tight_layout()            \n",
    "plt.show()    "
   ]
  },
  {
   "cell_type": "code",
   "execution_count": 15,
   "id": "5326ffa7",
   "metadata": {},
   "outputs": [
    {
     "name": "stdout",
     "output_type": "stream",
     "text": [
      "(512, 512, 120)\n"
     ]
    },
    {
     "data": {
      "image/png": "[encoded data removed]",
      "text/plain": [
       "<Figure size 360x360 with 1 Axes>"
      ]
     },
     "metadata": {
      "needs_background": "light"
     },
     "output_type": "display_data"
    }
   ],
   "source": [
    "resamp = ants.image_read('/data_anvar/public_datasets/preproc_study/schw/1_reg/VS-SEG-157/T1_SEG.nii.gz').numpy().astype('int')\n",
    "z = np.argsort(resamp.sum(axis=(0,1)))[-1:]\n",
    "print(resamp.shape)\n",
    "imgs = [resamp[:,:,z]]\n",
    "fig, ax = plt.subplots(nrows=1, ncols=1, figsize=(5, 5))\n",
    "ax.imshow(imgs[0]);\n",
    "ax.axis('off')  \n",
    "plt.tight_layout()            \n",
    "plt.show()  "
   ]
  },
  {
   "cell_type": "code",
   "execution_count": 16,
   "id": "62a68f5c",
   "metadata": {},
   "outputs": [
    {
     "name": "stdout",
     "output_type": "stream",
     "text": [
      "(512, 512, 120)\n"
     ]
    },
    {
     "data": {
      "image/png": "[encoded data removed]",
      "text/plain": [
       "<Figure size 360x360 with 1 Axes>"
      ]
     },
     "metadata": {
      "needs_background": "light"
     },
     "output_type": "display_data"
    }
   ],
   "source": [
    "resamp = ants.image_read('/data_anvar/public_datasets/preproc_study/schw/orig/VS-SEG-157/T1_SEG.nii.gz').numpy().astype('int')\n",
    "z = np.argsort(resamp.sum(axis=(0,1)))[-1:]\n",
    "print(resamp.shape)\n",
    "imgs = [resamp[:,:,z]]\n",
    "fig, ax = plt.subplots(nrows=1, ncols=1, figsize=(5, 5))\n",
    "ax.imshow(imgs[0]);\n",
    "ax.axis('off')  \n",
    "plt.tight_layout()            \n",
    "plt.show() "
   ]
  },
  {
   "cell_type": "code",
   "execution_count": 19,
   "id": "df08d998",
   "metadata": {},
   "outputs": [
    {
     "data": {
      "text/plain": [
       "ANTsImage (RPI)\n",
       "\t Pixel Type : float (float32)\n",
       "\t Components : 1\n",
       "\t Dimensions : (512, 512, 120)\n",
       "\t Spacing    : (0.4102, 0.4102, 1.5)\n",
       "\t Origin     : (-110.5344, 82.9941, -79.1036)\n",
       "\t Direction  : [ 1. -0.  0. -0. -1.  0.  0.  0.  1.]"
      ]
     },
     "execution_count": 19,
     "metadata": {},
     "output_type": "execute_result"
    }
   ],
   "source": [
    "resamp = ants.image_read('/data_anvar/public_datasets/preproc_study/schw/1_reg/VS-SEG-157/T1_SEG.nii.gz')\n",
    "resamp"
   ]
  },
  {
   "cell_type": "code",
   "execution_count": 17,
   "id": "c39b5b1c",
   "metadata": {},
   "outputs": [
    {
     "data": {
      "text/plain": [
       "ANTsImage (LPI)\n",
       "\t Pixel Type : float (float32)\n",
       "\t Components : 1\n",
       "\t Dimensions : (512, 512, 120)\n",
       "\t Spacing    : (0.4102, 0.4102, 1.5)\n",
       "\t Origin     : (99.0554, 82.9941, -79.1036)\n",
       "\t Direction  : [-1. -0.  0.  0. -1.  0.  0.  0.  1.]"
      ]
     },
     "execution_count": 17,
     "metadata": {},
     "output_type": "execute_result"
    }
   ],
   "source": [
    "resamp = ants.image_read('/data_anvar/public_datasets/preproc_study/schw/orig/VS-SEG-157/T1_SEG.nii.gz')\n",
    "resamp"
   ]
  },
  {
   "cell_type": "code",
   "execution_count": 10,
   "id": "1353c6a0",
   "metadata": {},
   "outputs": [
    {
     "data": {
      "text/plain": [
       "ANTsImage (LAI)\n",
       "\t Pixel Type : float (float32)\n",
       "\t Components : 1\n",
       "\t Dimensions : (210, 210, 180)\n",
       "\t Spacing    : (1.0, 1.0, 1.0)\n",
       "\t Origin     : (99.0554, -126.5958, -79.1036)\n",
       "\t Direction  : [-1.  0.  0.  0.  1.  0.  0.  0.  1.]"
      ]
     },
     "execution_count": 10,
     "metadata": {},
     "output_type": "execute_result"
    }
   ],
   "source": [
    "resamp = ants.image_read('/data_anvar/public_datasets/preproc_study/schw/4a_resamp/VS-SEG-157/T1_SEG.nii.gz')\n",
    "resamp"
   ]
  },
  {
   "cell_type": "code",
   "execution_count": 1,
   "id": "cde94ac0",
   "metadata": {},
   "outputs": [
    {
     "name": "stdout",
     "output_type": "stream",
     "text": [
      "VS-SEG-157  VS-SEG-239\tlogging.txt\n"
     ]
    }
   ],
   "source": [
    "! cd /data_anvar/public_datasets/preproc_study/schw/1_reg_check/VS-SEG-157 && ls "
   ]
  },
  {
   "cell_type": "code",
   "execution_count": 76,
   "id": "b6a415da",
   "metadata": {},
   "outputs": [],
   "source": [
    "#     subjects = ['VS-SEG-001']\n",
    "#     orig_folder = '/data_anvar/public_datasets/preproc_study/schw/orig'\n",
    "#     resample_folder = '/data_anvar/public_datasets/preproc_study/schw/4a_resamp'\n",
    "#     pred_folder = '/results/schw_infer/schw_4a_resamp/predictions_best_epoch=88-dice_mean=89_45_task=39_fold=0_tta'\n",
    "#     target_folder = '/data/private_data/schw/schw_1_reg/labels'\n",
    "#     reg_1 = '/data_anvar/public_datasets/preproc_study/schw/1_reg'\n",
    "#     out_json = '/results/metrics'\n",
    "#     dataset = 'schw'\n",
    "#     calculate_metrics(subjects, reg_1, pred_folder, resample_folder, target_folder, dataset, out = out_json)"
   ]
  },
  {
   "cell_type": "code",
   "execution_count": 77,
   "id": "1ae8f7a3",
   "metadata": {},
   "outputs": [
    {
     "name": "stdout",
     "output_type": "stream",
     "text": [
      "Untitled.ipynb\tmetrics.py\n"
     ]
    }
   ],
   "source": [
    "!python metrics.py --path_to_pred /results/schw_infer/schw_4a_resamp/predictions_best_epoch=88-dice_mean=89_45_task=39_fold=0_tta --path_to_1_reg  /data_anvar/public_datasets/preproc_study/schw/1_reg --path_to_target /data/private_data/schw/schw_1_reg/labels --path_to_resamp /data_anvar/public_datasets/preproc_study/schw/4a_resamp --dataset schw "
   ]
  },
  {
   "cell_type": "code",
   "execution_count": null,
   "id": "5fbefc09",
   "metadata": {},
   "outputs": [],
   "source": []
  }
 ],
 "metadata": {
  "kernelspec": {
   "display_name": "Python 3 (ipykernel)",
   "language": "python",
   "name": "python3"
  },
  "language_info": {
   "codemirror_mode": {
    "name": "ipython",
    "version": 3
   },
   "file_extension": ".py",
   "mimetype": "text/x-python",
   "name": "python",
   "nbconvert_exporter": "python",
   "pygments_lexer": "ipython3",
   "version": "3.8.12"
  }
 },
 "nbformat": 4,
 "nbformat_minor": 5
}
