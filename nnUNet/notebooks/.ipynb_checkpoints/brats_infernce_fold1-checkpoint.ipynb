{
 "cells": [
  {
   "cell_type": "code",
   "execution_count": 1,
   "id": "f71a0c4f",
   "metadata": {},
   "outputs": [
    {
     "name": "stdout",
     "output_type": "stream",
     "text": [
      "'epoch=118-dice_mean=91.05.ckpt'  'epoch=74-dice_mean=90.68.ckpt'\n",
      "'epoch=146-dice_mean=90.84.ckpt'  'epoch=8-dice_mean=85.63.ckpt'\n",
      "'epoch=21-dice_mean=87.99.ckpt'   'epoch=83-dice_mean=90.88.ckpt'\n",
      "'epoch=31-dice_mean=89.29.ckpt'    last.ckpt\n",
      "'epoch=38-dice_mean=89.48.ckpt'\n"
     ]
    }
   ],
   "source": [
    "!cd /home/polina/DeepLearningExamples/PyTorch/Segmentation/nnUNet/results/3_fold_brats_2021/fold-1/checkpoints/ && ls"
   ]
  },
  {
   "cell_type": "code",
   "execution_count": 3,
   "id": "e3eda3aa",
   "metadata": {},
   "outputs": [],
   "source": [
    "! cd /results/brats_infer && mkdir fold-1"
   ]
  },
  {
   "cell_type": "code",
   "execution_count": 4,
   "id": "64fa2d9d",
   "metadata": {},
   "outputs": [
    {
     "name": "stdout",
     "output_type": "stream",
     "text": [
      "Mon Jan 10 11:17:33 2022       \n",
      "+-----------------------------------------------------------------------------+\n",
      "| NVIDIA-SMI 450.80.02    Driver Version: 450.80.02    CUDA Version: 11.5     |\n",
      "|-------------------------------+----------------------+----------------------+\n",
      "| GPU  Name        Persistence-M| Bus-Id        Disp.A | Volatile Uncorr. ECC |\n",
      "| Fan  Temp  Perf  Pwr:Usage/Cap|         Memory-Usage | GPU-Util  Compute M. |\n",
      "|                               |                      |               MIG M. |\n",
      "|===============================+======================+======================|\n",
      "|   0  Tesla V100-PCIE...  On   | 00000000:21:01.0 Off |                    0 |\n",
      "| N/A   30C    P0    34W / 250W |  17833MiB / 32510MiB |      0%      Default |\n",
      "|                               |                      |                  N/A |\n",
      "+-------------------------------+----------------------+----------------------+\n",
      "|   1  Tesla V100-PCIE...  On   | 00000000:21:02.0 Off |                    0 |\n",
      "| N/A   65C    P0   229W / 250W |  30698MiB / 32510MiB |    100%      Default |\n",
      "|                               |                      |                  N/A |\n",
      "+-------------------------------+----------------------+----------------------+\n",
      "                                                                               \n",
      "+-----------------------------------------------------------------------------+\n",
      "| Processes:                                                                  |\n",
      "|  GPU   GI   CI        PID   Type   Process name                  GPU Memory |\n",
      "|        ID   ID                                                   Usage      |\n",
      "|=============================================================================|\n",
      "+-----------------------------------------------------------------------------+\n"
     ]
    }
   ],
   "source": [
    "!nvidia-smi"
   ]
  },
  {
   "cell_type": "code",
   "execution_count": 1,
   "id": "ca0e7484",
   "metadata": {},
   "outputs": [
    {
     "name": "stdout",
     "output_type": "stream",
     "text": [
      "Global seed set to 1\n",
      "0 training, 0 validation, 1251 test examples\n",
      "Filters: [64, 96, 128, 192, 256, 384, 512],\n",
      "Kernels: [[3, 3, 3], [3, 3, 3], [3, 3, 3], [3, 3, 3], [3, 3, 3], [3, 3, 3], [3, 3, 3]]\n",
      "Strides: [[1, 1, 1], [2, 2, 2], [2, 2, 2], [2, 2, 2], [2, 2, 2], [2, 2, 2], [2, 2, 2]]\n",
      "GPU available: True, used: True\n",
      "TPU available: False, using: 0 TPU cores\n",
      "Using native 16bit precision.\n",
      "LOCAL_RANK: 0 - CUDA_VISIBLE_DEVICES: [0]\n",
      "Testing: 100%|████████████████████████████| 1251/1251 [3:58:17<00:00, 11.43s/it]\n",
      "--------------------------------------------------------------------------------\n",
      "DATALOADER:0 TEST RESULTS\n",
      "{}\n",
      "--------------------------------------------------------------------------------\n"
     ]
    }
   ],
   "source": [
    "!cd ../ && export CUDA_VISIBLE_DEVICES=0 && python main.py --exec_mode predict --task 11 --data /data/11_3d --brats --dim 3 --fold 1 --nfolds 3 --ckpt_path /home/polina/DeepLearningExamples/PyTorch/Segmentation/nnUNet/results/3_fold_brats_2021/fold-1/checkpoints/epoch=118-dice_mean=91.05.ckpt --results /results/brats_infer/fold-1 --amp --tta --save_preds"
   ]
  },
  {
   "cell_type": "code",
   "execution_count": 2,
   "id": "6396d108",
   "metadata": {},
   "outputs": [],
   "source": [
    "import os\n",
    "import sys\n",
    "import argparse\n",
    "import numpy as np\n",
    "import pandas as pd\n",
    "import nibabel as nib    \n",
    "from pathlib import Path\n",
    "from surface_distance import metrics\n",
    "from tqdm import tqdm\n",
    "\n",
    "\n",
    "\n",
    "def sensitivity_and_specificity(mask_gt, mask_pred):\n",
    "    \"\"\" Computes sensitivity and specificity\n",
    "     sensitivity  = TP/(TP+FN)\n",
    "     specificity  = TN/(TN+FP) \"\"\"\n",
    "    volume_sum = mask_gt.sum() + mask_pred.sum()\n",
    "    tp = (mask_gt & mask_pred).sum()\n",
    "    tn = (~mask_gt & ~mask_pred).sum()\n",
    "    fp = (~mask_gt & mask_pred).sum()\n",
    "    fn = (mask_gt & ~mask_pred).sum()\n",
    "#     TP/(TP+FP) - precision; TP/(TP+FN) - recall\n",
    "    return tp/(tp+fn), tp/(tp+fp), tn/(tn+fp)\n",
    "\n",
    "\n",
    "def calculate_metrics_brats(true_mask, pred_mask, ids, spaces):\n",
    "    \"\"\" Takes two file locations as input and validates surface distances.\n",
    "    Be careful with dimensions of saved `pred` it should be 3D.\n",
    "    \n",
    "    \"\"\"\n",
    "    \n",
    "    _columns = ['Ids', 'Dice_all','Dice_0', 'Dice_1', 'Dice_2', 'Dice_3',\n",
    "               'Hausdorff95_all', 'Hausdorff95_0', 'Hausdorff95_1', 'Hausdorff95_2', 'Hausdorff95_4',\n",
    "               'Sensitivity_all','Sensitivity_0', 'Sensitivity_1', 'Sensitivity_2', 'Sensitivity_4',\n",
    "               'Specificity_all','Specificity_0', 'Specificity_1', 'Specificity_2', 'Specificity_4',\n",
    "               'Surface_dice_all','Surface_dice_0', 'Surface_dice_1', 'Surface_dice_2', 'Surface_dice_4',\n",
    "               'Precision_all', 'Precision_0', 'Precision_1', 'Precision_2', 'Precision_4']\n",
    "    \n",
    "    df = pd.DataFrame(columns = _columns)\n",
    "    df.at[0,'Ids'] = ids\n",
    "    #class 1\n",
    "    distances = metrics.compute_surface_distances((true_mask[0,:,:,:]==1), (pred_mask[0,:,:,:]==1), spaces)\n",
    "    df.at[0,'Dice_1'] = metrics.compute_dice_coefficient((true_mask[0,:,:,:]==1), (pred_mask[0,:,:,:]==1))\n",
    "    df.at[0,'Surface_dice_1'] = metrics.compute_surface_dice_at_tolerance(distances,1)\n",
    "    df.at[0,'Hausdorff95_1'] = metrics.compute_robust_hausdorff(distances, 95)\n",
    "    sens, precision, spec = sensitivity_and_specificity((true_mask[0,:,:,:]==1), (pred_mask[0,:,:,:]==1))\n",
    "    df.at[0,'Sensitivity_1'] = sens\n",
    "    df.at[0,'Precision_1'] = precision\n",
    "    df.at[0,'Specificity_1'] = spec\n",
    "    #class 2\n",
    "    distances = metrics.compute_surface_distances((true_mask[1,:,:,:]==1), (pred_mask[1,:,:,:]==1), spaces)\n",
    "    df.at[0,'Dice_2'] = metrics.compute_dice_coefficient((true_mask[1,:,:,:]==1), (pred_mask[1,:,:,:]==1))\n",
    "    df.at[0,'Surface_dice_2'] = metrics.compute_surface_dice_at_tolerance(distances,1)\n",
    "    df.at[0,'Hausdorff95_2'] = metrics.compute_robust_hausdorff(distances, 95)\n",
    "    sens,precision, spec= sensitivity_and_specificity((true_mask[1,:,:,:]==1), (pred_mask[1,:,:,:]==1))\n",
    "    df.at[0,'Sensitivity_2'] = sens\n",
    "    df.at[0,'Precision_2'] = precision\n",
    "    df.at[0,'Specificity_2'] = spec\n",
    "    #class 3\n",
    "    distances = metrics.compute_surface_distances((true_mask[2,:,:,:]==1), (pred_mask[2,:,:,:]==1), spaces)\n",
    "    df.at[0,'Dice_4'] = metrics.compute_dice_coefficient((true_mask[2,:,:,:]==1), (pred_mask[2,:,:,:]==1))\n",
    "    df.at[0,'Surface_dice_4'] = metrics.compute_surface_dice_at_tolerance(distances,1)\n",
    "    df.at[0,'Hausdorff95_4'] = metrics.compute_robust_hausdorff(distances, 95)\n",
    "    sens, precision, spec= sensitivity_and_specificity((true_mask[2,:,:,:]==1), (pred_mask[2,:,:,:]==1))\n",
    "    df.at[0,'Sensitivity_4'] = sens\n",
    "    df.at[0,'Precision_4'] = precision\n",
    "    df.at[0,'Specificity_4'] = spec\n",
    "    return df\n",
    "\n",
    "def get_stats(preds, target, class_idx):\n",
    "        tp = torch.logical_and(preds == class_idx, target == class_idx).sum()\n",
    "        fn = torch.logical_and(preds != class_idx, target == class_idx).sum()\n",
    "        fp = torch.logical_and(preds == class_idx, target != class_idx).sum()\n",
    "        return tp, fn, fp\n",
    "\n",
    "    \n",
    "def compute_stats_brats( p, y):\n",
    "        scores = torch.zeros(3, device=p.device, dtype=torch.float32)\n",
    "        p = (torch.sigmoid(p) > 0.5).int()\n",
    "        y_wt, y_tc, y_et = y > 0, ((y == 1) + (y == 3)) > 0, y == 3\n",
    "        y = torch.stack([y_wt, y_tc, y_et], dim=1)\n",
    "\n",
    "        for i in range(3):\n",
    "            p_i, y_i = p[:, i], y[:, i]\n",
    "            if (y_i != 1).all():\n",
    "                # no foreground class\n",
    "                scores[i - 1] += 1 if (p_i != 1).all() else 0\n",
    "                continue\n",
    "            tp, fn, fp = get_stats(p_i, y_i, 1)\n",
    "            denom = (2 * tp + fp + fn).to(torch.float)\n",
    "            score_cls = (2 * tp).to(torch.float) / denom if torch.is_nonzero(denom) else 0.0\n",
    "            scores[i - 1] += score_cls\n",
    "        return scores\n",
    "    \n",
    "def calculate_metrics(path_to_pred, path_to_target, spaces = True, name_csv='dice_metrics.csv', path_csv_all = '/home/polina/glioma/all_dice_metrics.csv'  ):\n",
    "    \n",
    "    \"\"\" \n",
    "    - path_to_pred - path to folder with predict subjects\n",
    "    - path_to_target - path to folder with target subjects\n",
    "    - name_pred - name for prediction, ex -brainTumorMask_SRI.nii.gz\n",
    "    - name_target - name for targets, ex -GTV_to_SRI.nii.gz\n",
    "    - spaces - if false - [1,1,1]\n",
    "    - name_csv - name files for each subjects\n",
    "    - path_csv_all - path to the main file with metrics for each subjects\n",
    "    \"\"\"\n",
    "    _columns = ['Ids', 'Dice_all','Dice_0', 'Dice_1', 'Dice_2', 'Dice_3',\n",
    "               'Hausdorff95_all', 'Hausdorff95_0', 'Hausdorff95_1', 'Hausdorff95_2', 'Hausdorff95_4',\n",
    "               'Sensitivity_all','Sensitivity_0', 'Sensitivity_1', 'Sensitivity_2', 'Sensitivity_4',\n",
    "               'Specificity_all','Specificity_0', 'Specificity_1', 'Specificity_2', 'Specificity_4',\n",
    "               'Surface_dice_all','Surface_dice_0', 'Surface_dice_1', 'Surface_dice_2', 'Surface_dice_4',\n",
    "               'Precision_all', 'Precision_0', 'Precision_1', 'Precision_2', 'Precision_4']\n",
    "    af_all = pd.DataFrame(columns = _columns)\n",
    "    pred_folder = Path(path_to_pred)\n",
    "    target_folder = Path(path_to_target)\n",
    "    for ids in tqdm(os.listdir(pred_folder)):\n",
    "        sub = ids[:-4]\n",
    "        targets = nib.load(target_folder /  f'{sub}_seg.nii.gz').get_fdata()\n",
    "        y_wt, y_tc, y_et = targets > 0, ((targets == 1) + (targets == 3)) > 0, targets == 3\n",
    "        targets = np.stack([y_wt, y_tc, y_et], axis=0).astype(int)\n",
    "        predictions = np.load((os.path.join(path_pred, ids)))\n",
    "        spaces = [1,1,1]\n",
    "        pred = np.round(predictions, 0)\n",
    "        pred = np.transpose(pred, (0, 3, 2, 1))\n",
    "        df=calculate_metrics_brats(targets.astype('int'), pred.astype('int'), sub, spaces)\n",
    "#         score = compute_stats_brats(predictions, )\n",
    "#         compute_stats_brats( p, y)\n",
    "        af_all = af_all.append(df)\n",
    "    af_all.to_csv('all_metrics_brats3fold_1.csv')  \n",
    "    print(af_all.mean())"
   ]
  },
  {
   "cell_type": "code",
   "execution_count": null,
   "id": "d9450b97",
   "metadata": {},
   "outputs": [
    {
     "name": "stderr",
     "output_type": "stream",
     "text": [
      "  0%|                                        | 2/1251 [00:13<2:20:01,  6.73s/it]/tmp/ipykernel_511/3786630959.py:23: RuntimeWarning: invalid value encountered in long_scalars\n",
      "  return tp/(tp+fn), tp/(tp+fp), tn/(tn+fp)\n",
      "  1%|▎                                      | 10/1251 [01:25<3:18:35,  9.60s/it]"
     ]
    }
   ],
   "source": [
    "path_pred= '/results/brats_infer/fold-1/predictions_epoch=118-dice_mean=91_05_task=11_fold=1_tta'\n",
    "path_target='/data/BraTS2021_train/labels/'\n",
    "calculate_metrics(path_pred, path_target)"
   ]
  },
  {
   "cell_type": "code",
   "execution_count": 3,
   "id": "d947289b",
   "metadata": {},
   "outputs": [
    {
     "name": "stdout",
     "output_type": "stream",
     "text": [
      "'predictions_epoch=118-dice_mean=91_05_task=11_fold=1_tta'\n"
     ]
    }
   ],
   "source": [
    "!cd /results/brats_infer/fold-1/ && ls"
   ]
  },
  {
   "cell_type": "code",
   "execution_count": null,
   "id": "2d74d35c",
   "metadata": {},
   "outputs": [],
   "source": [
    "ls"
   ]
  }
 ],
 "metadata": {
  "kernelspec": {
   "display_name": "Python 3 (ipykernel)",
   "language": "python",
   "name": "python3"
  },
  "language_info": {
   "codemirror_mode": {
    "name": "ipython",
    "version": 3
   },
   "file_extension": ".py",
   "mimetype": "text/x-python",
   "name": "python",
   "nbconvert_exporter": "python",
   "pygments_lexer": "ipython3",
   "version": "3.8.12"
  }
 },
 "nbformat": 4,
 "nbformat_minor": 5
}
