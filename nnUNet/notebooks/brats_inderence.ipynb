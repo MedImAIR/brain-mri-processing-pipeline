{
 "cells": [
  {
   "cell_type": "code",
   "execution_count": 2,
   "id": "4454d694",
   "metadata": {},
   "outputs": [],
   "source": [
    "import os\n",
    "import sys\n",
    "import argparse\n",
    "import numpy as np\n",
    "import pandas as pd\n",
    "import nibabel as nib    \n",
    "from pathlib import Path\n",
    "from surface_distance import metrics\n",
    "from tqdm import tqdm\n",
    "\n",
    "\n",
    "\n",
    "def sensitivity_and_specificity(mask_gt, mask_pred):\n",
    "    \"\"\" Computes sensitivity and specificity\n",
    "     sensitivity  = TP/(TP+FN)\n",
    "     specificity  = TN/(TN+FP) \"\"\"\n",
    "    volume_sum = mask_gt.sum() + mask_pred.sum()\n",
    "    tp = (mask_gt & mask_pred).sum()\n",
    "    tn = (~mask_gt & ~mask_pred).sum()\n",
    "    fp = (~mask_gt & mask_pred).sum()\n",
    "    fn = (mask_gt & ~mask_pred).sum()\n",
    "#     TP/(TP+FP) - precision; TP/(TP+FN) - recall\n",
    "    return tp/(tp+fn), tp/(tp+fp), tn/(tn+fp)\n",
    "\n",
    "\n",
    "def calculate_metrics_brats(true_mask, pred_mask, ids, spaces):\n",
    "    \"\"\" Takes two file locations as input and validates surface distances.\n",
    "    Be careful with dimensions of saved `pred` it should be 3D.\n",
    "    \n",
    "    \"\"\"\n",
    "    \n",
    "    _columns = ['Ids', 'Dice_all','Dice_0', 'Dice_1', 'Dice_2', 'Dice_3',\n",
    "               'Hausdorff95_all', 'Hausdorff95_0', 'Hausdorff95_1', 'Hausdorff95_2', 'Hausdorff95_4',\n",
    "               'Sensitivity_all','Sensitivity_0', 'Sensitivity_1', 'Sensitivity_2', 'Sensitivity_4',\n",
    "               'Specificity_all','Specificity_0', 'Specificity_1', 'Specificity_2', 'Specificity_4',\n",
    "               'Surface_dice_all','Surface_dice_0', 'Surface_dice_1', 'Surface_dice_2', 'Surface_dice_4',\n",
    "               'Precision_all', 'Precision_0', 'Precision_1', 'Precision_2', 'Precision_4']\n",
    "    \n",
    "    df = pd.DataFrame(columns = _columns)\n",
    "    df.at[0,'Ids'] = ids\n",
    "    #class 1\n",
    "    distances = metrics.compute_surface_distances((true_mask[0,:,:,:]==1), (pred_mask[0,:,:,:]==1), spaces)\n",
    "    df.at[0,'Dice_1'] = metrics.compute_dice_coefficient((true_mask[0,:,:,:]==1), (pred_mask[0,:,:,:]==1))\n",
    "    df.at[0,'Surface_dice_1'] = metrics.compute_surface_dice_at_tolerance(distances,1)\n",
    "    df.at[0,'Hausdorff95_1'] = metrics.compute_robust_hausdorff(distances, 95)\n",
    "    sens, precision, spec = sensitivity_and_specificity((true_mask[0,:,:,:]==1), (pred_mask[0,:,:,:]==1))\n",
    "    df.at[0,'Sensitivity_1'] = sens\n",
    "    df.at[0,'Precision_1'] = precision\n",
    "    df.at[0,'Specificity_1'] = spec\n",
    "    #class 2\n",
    "    distances = metrics.compute_surface_distances((true_mask[1,:,:,:]==1), (pred_mask[1,:,:,:]==1), spaces)\n",
    "    df.at[0,'Dice_2'] = metrics.compute_dice_coefficient((true_mask[1,:,:,:]==1), (pred_mask[1,:,:,:]==1))\n",
    "    df.at[0,'Surface_dice_2'] = metrics.compute_surface_dice_at_tolerance(distances,1)\n",
    "    df.at[0,'Hausdorff95_2'] = metrics.compute_robust_hausdorff(distances, 95)\n",
    "    sens,precision, spec= sensitivity_and_specificity((true_mask[1,:,:,:]==1), (pred_mask[1,:,:,:]==1))\n",
    "    df.at[0,'Sensitivity_2'] = sens\n",
    "    df.at[0,'Precision_2'] = precision\n",
    "    df.at[0,'Specificity_2'] = spec\n",
    "    #class 3\n",
    "    distances = metrics.compute_surface_distances((true_mask[2,:,:,:]==1), (pred_mask[2,:,:,:]==1), spaces)\n",
    "    df.at[0,'Dice_4'] = metrics.compute_dice_coefficient((true_mask[2,:,:,:]==1), (pred_mask[2,:,:,:]==1))\n",
    "    df.at[0,'Surface_dice_4'] = metrics.compute_surface_dice_at_tolerance(distances,1)\n",
    "    df.at[0,'Hausdorff95_4'] = metrics.compute_robust_hausdorff(distances, 95)\n",
    "    sens, precision, spec= sensitivity_and_specificity((true_mask[2,:,:,:]==1), (pred_mask[2,:,:,:]==1))\n",
    "    df.at[0,'Sensitivity_4'] = sens\n",
    "    df.at[0,'Precision_4'] = precision\n",
    "    df.at[0,'Specificity_4'] = spec\n",
    "    return df\n",
    "\n",
    "def get_stats(preds, target, class_idx):\n",
    "        tp = torch.logical_and(preds == class_idx, target == class_idx).sum()\n",
    "        fn = torch.logical_and(preds != class_idx, target == class_idx).sum()\n",
    "        fp = torch.logical_and(preds == class_idx, target != class_idx).sum()\n",
    "        return tp, fn, fp\n",
    "\n",
    "    \n",
    "def compute_stats_brats( p, y):\n",
    "        scores = torch.zeros(3, device=p.device, dtype=torch.float32)\n",
    "        p = (torch.sigmoid(p) > 0.5).int()\n",
    "        y_wt, y_tc, y_et = y > 0, ((y == 1) + (y == 3)) > 0, y == 3\n",
    "        y = torch.stack([y_wt, y_tc, y_et], dim=1)\n",
    "\n",
    "        for i in range(3):\n",
    "            p_i, y_i = p[:, i], y[:, i]\n",
    "            if (y_i != 1).all():\n",
    "                # no foreground class\n",
    "                scores[i - 1] += 1 if (p_i != 1).all() else 0\n",
    "                continue\n",
    "            tp, fn, fp = get_stats(p_i, y_i, 1)\n",
    "            denom = (2 * tp + fp + fn).to(torch.float)\n",
    "            score_cls = (2 * tp).to(torch.float) / denom if torch.is_nonzero(denom) else 0.0\n",
    "            scores[i - 1] += score_cls\n",
    "        return scores\n",
    "    \n",
    "def calculate_metrics(path_to_pred, path_to_target, spaces = True, name_csv='dice_metrics.csv', path_csv_all = '/home/polina/glioma/all_dice_metrics.csv'  ):\n",
    "    \n",
    "    \"\"\" \n",
    "    - path_to_pred - path to folder with predict subjects\n",
    "    - path_to_target - path to folder with target subjects\n",
    "    - name_pred - name for prediction, ex -brainTumorMask_SRI.nii.gz\n",
    "    - name_target - name for targets, ex -GTV_to_SRI.nii.gz\n",
    "    - spaces - if false - [1,1,1]\n",
    "    - name_csv - name files for each subjects\n",
    "    - path_csv_all - path to the main file with metrics for each subjects\n",
    "    \"\"\"\n",
    "    _columns = ['Ids', 'Dice_all','Dice_0', 'Dice_1', 'Dice_2', 'Dice_3',\n",
    "               'Hausdorff95_all', 'Hausdorff95_0', 'Hausdorff95_1', 'Hausdorff95_2', 'Hausdorff95_4',\n",
    "               'Sensitivity_all','Sensitivity_0', 'Sensitivity_1', 'Sensitivity_2', 'Sensitivity_4',\n",
    "               'Specificity_all','Specificity_0', 'Specificity_1', 'Specificity_2', 'Specificity_4',\n",
    "               'Surface_dice_all','Surface_dice_0', 'Surface_dice_1', 'Surface_dice_2', 'Surface_dice_4',\n",
    "               'Precision_all', 'Precision_0', 'Precision_1', 'Precision_2', 'Precision_4']\n",
    "    af_all = pd.DataFrame(columns = _columns)\n",
    "    pred_folder = Path(path_to_pred)\n",
    "    target_folder = Path(path_to_target)\n",
    "    for ids in tqdm(os.listdir(pred_folder)):\n",
    "        sub = ids[:-4]\n",
    "        targets = nib.load(target_folder /  f'{sub}_seg.nii.gz').get_fdata()\n",
    "        y_wt, y_tc, y_et = targets > 0, ((targets == 1) + (targets == 3)) > 0, targets == 3\n",
    "        targets = np.stack([y_wt, y_tc, y_et], axis=0).astype(int)\n",
    "        predictions = np.load((os.path.join(path_pred, ids)))\n",
    "        spaces = [1,1,1]\n",
    "        pred = np.round(predictions, 0)\n",
    "        pred = np.transpose(pred, (0, 3, 2, 1))\n",
    "        df=calculate_metrics_brats(targets.astype('int'), pred.astype('int'), sub, spaces)\n",
    "#         score = compute_stats_brats(predictions, )\n",
    "#         compute_stats_brats( p, y)\n",
    "        af_all = af_all.append(df)\n",
    "    af_all.to_csv('all_metrics_brats3fold_2.csv')  \n",
    "    print(af_all.mean())"
   ]
  },
  {
   "cell_type": "code",
   "execution_count": 11,
   "id": "f287d053",
   "metadata": {},
   "outputs": [
    {
     "name": "stderr",
     "output_type": "stream",
     "text": [
      " 15%|███████████████████▏                                                                                                             | 62/417 [02:34<13:21,  2.26s/it]/opt/conda/lib/python3.8/site-packages/surface_distance/metrics.py:421: RuntimeWarning: invalid value encountered in double_scalars\n",
      "  surface_dice = (overlap_gt + overlap_pred) / (\n",
      "/tmp/ipykernel_814/2778257941.py:23: RuntimeWarning: invalid value encountered in long_scalars\n",
      "  return tp/(tp+fn), tp/(tp+fp), tn/(tn+fp)\n",
      "100%|████████████████████████████████████████████████████████████████████████████████████████████████████████████████████████████████| 417/417 [16:27<00:00,  2.37s/it]"
     ]
    },
    {
     "name": "stdout",
     "output_type": "stream",
     "text": [
      "Dice_all                 NaN\n",
      "Dice_0                   NaN\n",
      "Dice_1              0.945925\n",
      "Dice_2              0.946004\n",
      "Dice_3                   NaN\n",
      "Hausdorff95_all          NaN\n",
      "Hausdorff95_0            NaN\n",
      "Hausdorff95_1       3.719388\n",
      "Hausdorff95_2            inf\n",
      "Hausdorff95_4            inf\n",
      "Sensitivity_all          NaN\n",
      "Sensitivity_0            NaN\n",
      "Sensitivity_1       0.939036\n",
      "Sensitivity_2       0.941432\n",
      "Sensitivity_4       0.901269\n",
      "Specificity_all          NaN\n",
      "Specificity_0            NaN\n",
      "Specificity_1       0.999674\n",
      "Specificity_2       0.999861\n",
      "Specificity_4       0.999856\n",
      "Surface_dice_all         NaN\n",
      "Surface_dice_0           NaN\n",
      "Surface_dice_1      0.916308\n",
      "Surface_dice_2      0.932039\n",
      "Surface_dice_4      0.935278\n",
      "Precision_all            NaN\n",
      "Precision_0              NaN\n",
      "Precision_1         0.956469\n",
      "Precision_2         0.957439\n",
      "Precision_4         0.914343\n",
      "Dice_4              0.893686\n",
      "dtype: float64\n"
     ]
    },
    {
     "name": "stderr",
     "output_type": "stream",
     "text": [
      "\n"
     ]
    }
   ],
   "source": [
    "path_pred= '/results/brats_infer/predictions_epoch=117-dice_mean=92_10_task=11_fold=3_tta'\n",
    "path_target='/data/BraTS2021_val/labels/'\n",
    "calculate_metrics(path_pred, path_target)"
   ]
  },
  {
   "cell_type": "code",
   "execution_count": 2,
   "id": "0b227fe5",
   "metadata": {},
   "outputs": [],
   "source": [
    "from scipy.ndimage import measurements\n",
    "def to_lbl(pred):\n",
    "    enh = pred[2]\n",
    "    c1, c2, c3 = pred[0] > 0.5, pred[1] > 0.5, pred[2] > 0.5\n",
    "    pred = (c1 > 0).astype(np.uint8)\n",
    "    pred[(c2 == False) * (c1 == True)] = 2\n",
    "    pred[(c3 == True) * (c1 == True)] = 4\n",
    "\n",
    "    components, n = measurements.label(pred == 4)\n",
    "    for et_idx in range(1, n + 1):\n",
    "        _, counts = np.unique(pred[components == et_idx], return_counts=True)\n",
    "        if 1 < counts[0] and counts[0] < 8 and np.mean(enh[components == et_idx]) < 0.9:\n",
    "            pred[components == et_idx] = 1\n",
    "\n",
    "    et = pred == 4\n",
    "    if 0 < et.sum() and et.sum() < 73 and np.mean(enh[et]) < 0.9:\n",
    "        pred[et] = 1\n",
    "    pred = np.transpose(pred, (2, 1, 0)).astype(np.uint8)\n",
    "    return pred\n",
    "\n",
    "\n",
    "def prepare_preditions(e):\n",
    "    fname = e[0].split(\"/\")[-1].split(\".\")[0]\n",
    "    preds = [np.load(f) for f in e]\n",
    "    p = to_lbl(np.mean(preds, 0))"
   ]
  },
  {
   "cell_type": "code",
   "execution_count": null,
   "id": "1bc98289",
   "metadata": {},
   "outputs": [],
   "source": [
    "!cd /data/"
   ]
  },
  {
   "cell_type": "code",
   "execution_count": 1,
   "id": "6e875c33",
   "metadata": {},
   "outputs": [
    {
     "ename": "IndexError",
     "evalue": "list index out of range",
     "output_type": "error",
     "traceback": [
      "\u001b[0;31m---------------------------------------------------------------------------\u001b[0m",
      "\u001b[0;31mIndexError\u001b[0m                                Traceback (most recent call last)",
      "\u001b[0;32m/tmp/ipykernel_8336/3782238097.py\u001b[0m in \u001b[0;36m<module>\u001b[0;34m\u001b[0m\n\u001b[1;32m      7\u001b[0m \u001b[0mdata\u001b[0m \u001b[0;34m=\u001b[0m \u001b[0msorted\u001b[0m\u001b[0;34m(\u001b[0m\u001b[0mglob\u001b[0m\u001b[0;34m(\u001b[0m\u001b[0;34m\"/results/brats_infer/predictions_epoch=117-dice_mean=92_10_task=11_fold=3_tta/*.npy\"\u001b[0m\u001b[0;34m)\u001b[0m\u001b[0;34m)\u001b[0m\u001b[0;34m\u001b[0m\u001b[0;34m\u001b[0m\u001b[0m\n\u001b[1;32m      8\u001b[0m \u001b[0;32mfor\u001b[0m \u001b[0mi\u001b[0m \u001b[0;32min\u001b[0m \u001b[0mrange\u001b[0m\u001b[0;34m(\u001b[0m\u001b[0mn\u001b[0m\u001b[0;34m)\u001b[0m\u001b[0;34m:\u001b[0m\u001b[0;34m\u001b[0m\u001b[0;34m\u001b[0m\u001b[0m\n\u001b[0;32m----> 9\u001b[0;31m     \u001b[0mfname\u001b[0m \u001b[0;34m=\u001b[0m \u001b[0mdata\u001b[0m\u001b[0;34m[\u001b[0m\u001b[0mi\u001b[0m\u001b[0;34m]\u001b[0m\u001b[0;34m.\u001b[0m\u001b[0msplit\u001b[0m\u001b[0;34m(\u001b[0m\u001b[0;34m\"/\"\u001b[0m\u001b[0;34m)\u001b[0m\u001b[0;34m[\u001b[0m\u001b[0;34m-\u001b[0m\u001b[0;36m1\u001b[0m\u001b[0;34m]\u001b[0m\u001b[0;34m.\u001b[0m\u001b[0msplit\u001b[0m\u001b[0;34m(\u001b[0m\u001b[0;34m\".\"\u001b[0m\u001b[0;34m)\u001b[0m\u001b[0;34m[\u001b[0m\u001b[0;36m0\u001b[0m\u001b[0;34m]\u001b[0m\u001b[0;34m\u001b[0m\u001b[0;34m\u001b[0m\u001b[0m\n\u001b[0m\u001b[1;32m     10\u001b[0m     \u001b[0mprint\u001b[0m\u001b[0;34m(\u001b[0m\u001b[0mfname\u001b[0m\u001b[0;34m)\u001b[0m\u001b[0;34m\u001b[0m\u001b[0;34m\u001b[0m\u001b[0m\n\u001b[1;32m     11\u001b[0m     \u001b[0mimg\u001b[0m \u001b[0;34m=\u001b[0m \u001b[0mnib\u001b[0m\u001b[0;34m.\u001b[0m\u001b[0mload\u001b[0m\u001b[0;34m(\u001b[0m\u001b[0;34mf\"/data/BraTS2021_val/images/{fname}.nii.gz\"\u001b[0m\u001b[0;34m)\u001b[0m\u001b[0;34m.\u001b[0m\u001b[0mget_fdata\u001b[0m\u001b[0;34m(\u001b[0m\u001b[0;34m)\u001b[0m\u001b[0;34m.\u001b[0m\u001b[0mastype\u001b[0m\u001b[0;34m(\u001b[0m\u001b[0mnp\u001b[0m\u001b[0;34m.\u001b[0m\u001b[0mfloat32\u001b[0m\u001b[0;34m)\u001b[0m\u001b[0;34m\u001b[0m\u001b[0;34m\u001b[0m\u001b[0m\n",
      "\u001b[0;31mIndexError\u001b[0m: list index out of range"
     ]
    }
   ],
   "source": [
    "import numpy as np\n",
    "import matplotlib.pyplot as plt\n",
    "import nibabel as nib\n",
    "from glob import glob\n",
    "\n",
    "n, z = 5, 75\n",
    "data = sorted(glob(\"/results/brats_infer/predictions_epoch=117-dice_mean=92_10_task=11_fold=3_tta/*.npy\"))\n",
    "for i in range(n):\n",
    "    fname = data[i].split(\"/\")[-1].split(\".\")[0]\n",
    "    print(fname)\n",
    "    img = nib.load(f\"/data/BraTS2021_val/images/{fname}.nii.gz\").get_fdata().astype(np.float32)\n",
    "    label = nib.load(f\"/data/BraTS2021_val/labels/{fname}_seg.nii.gz\").get_fdata().astype(np.uint8)[:, :, z]\n",
    "    pred = np.load(data[i])\n",
    "    p = to_lbl(np.round(pred, 0))[:, :, z]\n",
    "    imgs = [img[:, :, z, i] for i in [0, 3]] + [p] + [label] +  [label==1] +  [label==2] +  [label==4] \n",
    "    \n",
    "    fig, ax = plt.subplots(nrows=1, ncols=7, figsize=(12, 12))\n",
    "    for i in range(7):\n",
    "        if i < 2:\n",
    "            ax[i].imshow(imgs[i], cmap='gray')\n",
    "        else:\n",
    "            ax[i].imshow(imgs[i]);\n",
    "        ax[i].axis('off')  \n",
    "    plt.tight_layout()            \n",
    "    plt.show()"
   ]
  },
  {
   "cell_type": "code",
   "execution_count": null,
   "id": "59cd02b4",
   "metadata": {},
   "outputs": [],
   "source": []
  },
  {
   "cell_type": "markdown",
   "id": "fb513833",
   "metadata": {},
   "source": [
    "# All data "
   ]
  },
  {
   "cell_type": "code",
   "execution_count": 14,
   "id": "668e9eb5",
   "metadata": {},
   "outputs": [
    {
     "name": "stdout",
     "output_type": "stream",
     "text": [
      "'epoch=111-dice_mean=90.69.ckpt'  'epoch=34-dice_mean=89.24.ckpt'\n",
      "'epoch=113-dice_mean=90.69.ckpt'  'epoch=39-dice_mean=89.47.ckpt'\n",
      "'epoch=116-dice_mean=90.62.ckpt'  'epoch=40-dice_mean=89.69.ckpt'\n",
      "'epoch=120-dice_mean=90.63.ckpt'  'epoch=43-dice_mean=87.94.ckpt'\n",
      "'epoch=121-dice_mean=90.77.ckpt'  'epoch=98-dice_mean=90.80.ckpt'\n",
      "'epoch=136-dice_mean=90.66.ckpt'   last.ckpt\n",
      "'epoch=30-dice_mean=89.44.ckpt'\n"
     ]
    }
   ],
   "source": [
    "!cd  /home/polina/DeepLearningExamples/PyTorch/Segmentation/nnUNet/results/3_fold_brats_2021/fold-2/checkpoints && ls"
   ]
  },
  {
   "cell_type": "code",
   "execution_count": 13,
   "id": "f796e563",
   "metadata": {},
   "outputs": [
    {
     "name": "stdout",
     "output_type": "stream",
     "text": [
      " fold-0   fold-2\n",
      " fold-1  'predictions_epoch=117-dice_mean=92_10_task=11_fold=3_tta'\n"
     ]
    }
   ],
   "source": [
    "! cd /results/brats_infer && ls"
   ]
  },
  {
   "cell_type": "code",
   "execution_count": null,
   "id": "1f9d0dea",
   "metadata": {},
   "outputs": [],
   "source": [
    "!cd /data/ && ls"
   ]
  },
  {
   "cell_type": "code",
   "execution_count": 1,
   "id": "cc5ddb04",
   "metadata": {},
   "outputs": [
    {
     "name": "stdout",
     "output_type": "stream",
     "text": [
      "Global seed set to 1\n",
      "0 training, 0 validation, 1251 test examples\n",
      "Filters: [64, 96, 128, 192, 256, 384, 512],\n",
      "Kernels: [[3, 3, 3], [3, 3, 3], [3, 3, 3], [3, 3, 3], [3, 3, 3], [3, 3, 3], [3, 3, 3]]\n",
      "Strides: [[1, 1, 1], [2, 2, 2], [2, 2, 2], [2, 2, 2], [2, 2, 2], [2, 2, 2], [2, 2, 2]]\n",
      "GPU available: True, used: True\n",
      "TPU available: False, using: 0 TPU cores\n",
      "Using native 16bit precision.\n",
      "LOCAL_RANK: 0 - CUDA_VISIBLE_DEVICES: [1]\n",
      "Testing: 100%|████████████████████████████| 1251/1251 [2:03:45<00:00,  5.94s/it]\n",
      "--------------------------------------------------------------------------------\n",
      "DATALOADER:0 TEST RESULTS\n",
      "{}\n",
      "--------------------------------------------------------------------------------\n"
     ]
    }
   ],
   "source": [
    "!cd ../ && export CUDA_VISIBLE_DEVICES=1 && python main.py --exec_mode predict --task 11 --data /data/11_3d --brats --dim 3 --fold 2 --nfolds 3 --ckpt_path /home/polina/DeepLearningExamples/PyTorch/Segmentation/nnUNet/results/3_fold_brats_2021/fold-2/checkpoints/epoch=98-dice_mean=90.80.ckpt --results /results/brats_infer/fold-2 --amp --tta --save_preds"
   ]
  },
  {
   "cell_type": "code",
   "execution_count": 11,
   "id": "e1856a75",
   "metadata": {},
   "outputs": [
    {
     "name": "stderr",
     "output_type": "stream",
     "text": [
      "  3%|█▏                                       | 36/1251 [01:15<43:22,  2.14s/it]/opt/conda/lib/python3.8/site-packages/surface_distance/metrics.py:421: RuntimeWarning: invalid value encountered in double_scalars\n",
      "  surface_dice = (overlap_gt + overlap_pred) / (\n",
      "/tmp/ipykernel_527/415984070.py:23: RuntimeWarning: invalid value encountered in long_scalars\n",
      "  return tp/(tp+fn), tp/(tp+fp), tn/(tn+fp)\n",
      "100%|█████████████████████████████████████| 1251/1251 [1:32:26<00:00,  4.43s/it]"
     ]
    },
    {
     "name": "stdout",
     "output_type": "stream",
     "text": [
      "Dice_all                 NaN\n",
      "Dice_0                   NaN\n",
      "Dice_1              0.940985\n",
      "Dice_2              0.932818\n",
      "Dice_3                   NaN\n",
      "Hausdorff95_all          NaN\n",
      "Hausdorff95_0            NaN\n",
      "Hausdorff95_1       4.073485\n",
      "Hausdorff95_2            inf\n",
      "Hausdorff95_4            inf\n",
      "Sensitivity_all          NaN\n",
      "Sensitivity_0            NaN\n",
      "Sensitivity_1       0.935805\n",
      "Sensitivity_2       0.931208\n",
      "Sensitivity_4       0.895279\n",
      "Specificity_all          NaN\n",
      "Specificity_0            NaN\n",
      "Specificity_1       0.999584\n",
      "Specificity_2       0.999830\n",
      "Specificity_4       0.999835\n",
      "Surface_dice_all         NaN\n",
      "Surface_dice_0           NaN\n",
      "Surface_dice_1      0.902042\n",
      "Surface_dice_2      0.912690\n",
      "Surface_dice_4      0.927982\n",
      "Precision_all            NaN\n",
      "Precision_0              NaN\n",
      "Precision_1         0.951919\n",
      "Precision_2         0.946570\n",
      "Precision_4         0.905185\n",
      "Dice_4              0.886609\n",
      "dtype: float64\n"
     ]
    },
    {
     "name": "stderr",
     "output_type": "stream",
     "text": [
      "\n"
     ]
    }
   ],
   "source": [
    "path_pred= '/results/brats_infer/fold-0/predictions_epoch=135-dice_mean=90_62_task=11_fold=0_tta'\n",
    "path_target='/data/BraTS2021_train/labels/'\n",
    "calculate_metrics(path_pred, path_target)"
   ]
  },
  {
   "cell_type": "code",
   "execution_count": 6,
   "id": "961511f7",
   "metadata": {},
   "outputs": [
    {
     "name": "stderr",
     "output_type": "stream",
     "text": [
      "  0%|▏                                                                                                   | 2/1251 [00:07<1:13:03,  3.51s/it]/tmp/ipykernel_462/2657038760.py:23: RuntimeWarning: invalid value encountered in long_scalars\n",
      "  return tp/(tp+fn), tp/(tp+fp), tn/(tn+fp)\n",
      "  3%|██▉                                                                                                  | 36/1251 [01:15<39:49,  1.97s/it]/opt/conda/lib/python3.8/site-packages/surface_distance/metrics.py:421: RuntimeWarning: invalid value encountered in double_scalars\n",
      "  surface_dice = (overlap_gt + overlap_pred) / (\n",
      "100%|███████████████████████████████████████████████████████████████████████████████████████████████████| 1251/1251 [47:34<00:00,  2.28s/it]"
     ]
    },
    {
     "name": "stdout",
     "output_type": "stream",
     "text": [
      "Dice_all                 NaN\n",
      "Dice_0                   NaN\n",
      "Dice_1              0.937800\n",
      "Dice_2              0.929824\n",
      "Dice_3                   NaN\n",
      "Hausdorff95_all          NaN\n",
      "Hausdorff95_0            NaN\n",
      "Hausdorff95_1       4.876526\n",
      "Hausdorff95_2            inf\n",
      "Hausdorff95_4            inf\n",
      "Sensitivity_all          NaN\n",
      "Sensitivity_0            NaN\n",
      "Sensitivity_1       0.924076\n",
      "Sensitivity_2       0.933571\n",
      "Sensitivity_4       0.902262\n",
      "Specificity_all          NaN\n",
      "Specificity_0            NaN\n",
      "Specificity_1       0.999655\n",
      "Specificity_2       0.999804\n",
      "Specificity_4       0.999792\n",
      "Surface_dice_all         NaN\n",
      "Surface_dice_0           NaN\n",
      "Surface_dice_1      0.897337\n",
      "Surface_dice_2      0.907932\n",
      "Surface_dice_4      0.924831\n",
      "Precision_all            NaN\n",
      "Precision_0              NaN\n",
      "Precision_1         0.957598\n",
      "Precision_2         0.939883\n",
      "Precision_4         0.893179\n",
      "Dice_4              0.882655\n",
      "dtype: float64\n"
     ]
    },
    {
     "name": "stderr",
     "output_type": "stream",
     "text": [
      "\n"
     ]
    }
   ],
   "source": [
    "path_pred= '/results/brats_infer/fold-2/predictions_epoch=98-dice_mean=90_80_task=11_fold=2_tta'\n",
    "path_target='/data/BraTS2021_train/labels/'\n",
    "calculate_metrics(path_pred, path_target)"
   ]
  },
  {
   "cell_type": "code",
   "execution_count": 18,
   "id": "0ee23016",
   "metadata": {},
   "outputs": [
    {
     "name": "stdout",
     "output_type": "stream",
     "text": [
      "BraTS2021_00000\n",
      "(3, 155, 240, 240)\n",
      "(240, 240, 1)\n",
      "(240, 240, 1)\n"
     ]
    },
    {
     "data": {
      "image/png": "[encoded data removed]",
      "text/plain": [
       "<Figure size 864x864 with 10 Axes>"
      ]
     },
     "metadata": {
      "needs_background": "light"
     },
     "output_type": "display_data"
    },
    {
     "name": "stdout",
     "output_type": "stream",
     "text": [
      "BraTS2021_00002\n",
      "(3, 155, 240, 240)\n",
      "(240, 240, 1)\n",
      "(240, 240, 1)\n"
     ]
    },
    {
     "data": {
      "image/png": "[encoded data removed]",
      "text/plain": [
       "<Figure size 864x864 with 10 Axes>"
      ]
     },
     "metadata": {
      "needs_background": "light"
     },
     "output_type": "display_data"
    },
    {
     "name": "stdout",
     "output_type": "stream",
     "text": [
      "BraTS2021_00003\n",
      "(3, 155, 240, 240)\n",
      "(240, 240, 1)\n",
      "(240, 240, 1)\n"
     ]
    },
    {
     "data": {
      "image/png": "[encoded data removed]",
      "text/plain": [
       "<Figure size 864x864 with 10 Axes>"
      ]
     },
     "metadata": {
      "needs_background": "light"
     },
     "output_type": "display_data"
    },
    {
     "name": "stdout",
     "output_type": "stream",
     "text": [
      "BraTS2021_00005\n",
      "(3, 155, 240, 240)\n",
      "(240, 240, 1)\n",
      "(240, 240, 1)\n"
     ]
    },
    {
     "data": {
      "image/png": "[encoded data removed]",
      "text/plain": [
       "<Figure size 864x864 with 10 Axes>"
      ]
     },
     "metadata": {
      "needs_background": "light"
     },
     "output_type": "display_data"
    },
    {
     "name": "stdout",
     "output_type": "stream",
     "text": [
      "BraTS2021_00006\n",
      "(3, 155, 240, 240)\n",
      "(240, 240, 1)\n",
      "(240, 240, 1)\n"
     ]
    },
    {
     "data": {
      "image/png": "[encoded data removed]",
      "text/plain": [
       "<Figure size 864x864 with 10 Axes>"
      ]
     },
     "metadata": {
      "needs_background": "light"
     },
     "output_type": "display_data"
    }
   ],
   "source": [
    "import numpy as np\n",
    "import matplotlib.pyplot as plt\n",
    "import nibabel as nib\n",
    "from glob import glob\n",
    "\n",
    "n, z = 5, 75\n",
    "data = sorted(glob(\"/results/brats_infer/fold-0/predictions_epoch=135-dice_mean=90_62_task=11_fold=0_tta/*.npz\"))\n",
    "for i in range(n):\n",
    "    fname = data[i].split(\"/\")[-1].split(\".\")[0]\n",
    "    print(fname)\n",
    "    img = nib.load(f\"/data/BraTS2021_train/images/{fname}.nii.gz\").get_fdata().astype(np.float32)\n",
    "    label = nib.load(f\"/data/BraTS2021_train/labels/{fname}_seg.nii.gz\").get_fdata().astype(np.uint8)\n",
    "    z = np.argsort(label.sum(axis=(0,1)))[-1:]\n",
    "    label = label[:, :, z]\n",
    "    pred = np.load(data[i])['arr_0']\n",
    "    print(pred.shape), print(label.shape)\n",
    "    p = to_lbl(np.round(pred, 0))[:, :, z]\n",
    "    print(p.shape)\n",
    "    imgs = [img[:, :, z, i] for i in [0, 3]] + [p] + [label]+  [p==1] +  [label==1] +  [p==2] +  [label==2] +  [p==3] +  [label==3] \n",
    "   \n",
    "    fig, ax = plt.subplots(nrows=1, ncols=10, figsize=(12, 12))\n",
    "    for i in range(10):\n",
    "        if i < 2:\n",
    "            ax[i].imshow(imgs[i], cmap='gray')\n",
    "        else:\n",
    "            ax[i].imshow(imgs[i]);\n",
    "        ax[i].axis('off')  \n",
    "    plt.tight_layout()            \n",
    "    plt.show()"
   ]
  },
  {
   "cell_type": "code",
   "execution_count": 15,
   "id": "7cc4ed3c",
   "metadata": {},
   "outputs": [
    {
     "name": "stdout",
     "output_type": "stream",
     "text": [
      "FL_rai.nii.gz\t\t  T1_to_SRI_brain.nii.gz\n",
      "FL_rai_n4.nii.gz\t  T1_to_T1CE.mat\n",
      "FL_raw.nii.gz\t\t  T2_rai.nii.gz\n",
      "FL_to_SRI.nii.gz\t  T2_rai_n4.nii.gz\n",
      "FL_to_SRI_brain.nii.gz\t  T2_raw.nii.gz\n",
      "FL_to_T1CE.mat\t\t  T2_to_SRI.nii.gz\n",
      "T1CE_rai.nii.gz\t\t  T2_to_SRI_brain.nii.gz\n",
      "T1CE_rai_n4.nii.gz\t  T2_to_T1CE.mat\n",
      "T1CE_raw.nii.gz\t\t  brainMask_SRI.nii.gz\n",
      "T1CE_to_SRI.mat\t\t  brainTumorMask_SRI.nii.gz\n",
      "T1CE_to_SRI.nii.gz\t  check_gost_gtv_to_ref.nii.gz\n",
      "T1CE_to_SRI_brain.nii.gz  dice_hausdorff_metrics_captk.csv\n",
      "T1_rai.nii.gz\t\t  dmOut_skull\n",
      "T1_rai_n4.nii.gz\t  dmOut_tumor\n",
      "T1_raw.nii.gz\t\t  seg_to_ref.nii.gz\n",
      "T1_to_SRI.nii.gz\n"
     ]
    }
   ],
   "source": [
    "!cd /data/private_data/brats_pipeline_out/1019_18/check_gost_gtv_to_ref.nii.gz && ls"
   ]
  },
  {
   "cell_type": "code",
   "execution_count": 7,
   "id": "f683a6d0",
   "metadata": {},
   "outputs": [],
   "source": [
    "label = nib.load(\"/data/brats/BraTS2021_00000/BraTS2021_00000_seg.nii.gz\").get_fdata().astype(np.uint8)"
   ]
  },
  {
   "cell_type": "code",
   "execution_count": 8,
   "id": "8d2d190b",
   "metadata": {},
   "outputs": [
    {
     "data": {
      "text/plain": [
       "(240, 240, 155)"
      ]
     },
     "execution_count": 8,
     "metadata": {},
     "output_type": "execute_result"
    }
   ],
   "source": [
    "label.shape"
   ]
  },
  {
   "cell_type": "code",
   "execution_count": 16,
   "id": "3956b7f4",
   "metadata": {},
   "outputs": [],
   "source": [
    "l = nib.load(\"/data/private_data/brats_pipeline_out/1019_18/check_gost_gtv_to_ref.nii.gz\").get_fdata().astype(np.uint8)"
   ]
  },
  {
   "cell_type": "code",
   "execution_count": 18,
   "id": "2b0ac347",
   "metadata": {},
   "outputs": [
    {
     "data": {
      "text/plain": [
       "(240, 240, 155)"
      ]
     },
     "execution_count": 18,
     "metadata": {},
     "output_type": "execute_result"
    }
   ],
   "source": [
    "l.shape"
   ]
  },
  {
   "cell_type": "code",
   "execution_count": 6,
   "id": "17b40880",
   "metadata": {},
   "outputs": [
    {
     "name": "stdout",
     "output_type": "stream",
     "text": [
      "11_3d\t\t EGD\t    brats_hd_glio  rsna-pneumonia-detection-challenge\n",
      "14_3d\t\t EGD_train  candid-ptx\t   tomsk_xray\n",
      "BraTS2021_train  brats\t    private_data\n"
     ]
    }
   ],
   "source": [
    "!cd /data&& ls"
   ]
  },
  {
   "cell_type": "code",
   "execution_count": 7,
   "id": "217d642a",
   "metadata": {},
   "outputs": [],
   "source": [
    "img = np.load(f\"/data/11_3d/{fname}_x.npy\").astype(np.float32)\n",
    "label = np.load(f\"/data/11_3d/{fname}_y.npy\").astype(np.uint8)\n",
    "meta =  np.load(f\"/data/11_3d/{fname}_meta.npy\").astype(np.uint8)\n",
    "orig_lbl =  np.load(f\"/data/11_3d/{fname}_orig_lbl.npy\").astype(np.uint8)"
   ]
  },
  {
   "cell_type": "code",
   "execution_count": 8,
   "id": "4bd5584a",
   "metadata": {},
   "outputs": [
    {
     "data": {
      "text/plain": [
       "((5, 136, 177, 134), (1, 136, 177, 134), (4, 3), (1, 136, 177, 134))"
      ]
     },
     "execution_count": 8,
     "metadata": {},
     "output_type": "execute_result"
    }
   ],
   "source": [
    "img.shape, label.shape, meta.shape, orig_lbl.shape"
   ]
  },
  {
   "cell_type": "code",
   "execution_count": 9,
   "id": "714e8a4c",
   "metadata": {},
   "outputs": [
    {
     "data": {
      "text/plain": [
       "array([[  0,  36,  49],\n",
       "       [136, 213, 183],\n",
       "       [155, 240, 240],\n",
       "       [136, 177, 134]], dtype=uint8)"
      ]
     },
     "execution_count": 9,
     "metadata": {},
     "output_type": "execute_result"
    }
   ],
   "source": [
    "meta"
   ]
  },
  {
   "cell_type": "code",
   "execution_count": 11,
   "id": "88939116",
   "metadata": {},
   "outputs": [],
   "source": [
    "img = nib.load(f\"/data/BraTS2021_train/images/{fname}.nii.gz\").get_fdata().astype(np.float32)\n",
    "label = nib.load(f\"/data/BraTS2021_train/labels/{fname}_seg.nii.gz\").get_fdata().astype(np.uint8)"
   ]
  },
  {
   "cell_type": "code",
   "execution_count": 12,
   "id": "00af9d13",
   "metadata": {},
   "outputs": [
    {
     "data": {
      "text/plain": [
       "((240, 240, 155, 4), (240, 240, 155))"
      ]
     },
     "execution_count": 12,
     "metadata": {},
     "output_type": "execute_result"
    }
   ],
   "source": [
    "img.shape, label.shape,"
   ]
  },
  {
   "cell_type": "code",
   "execution_count": 14,
   "id": "7a4b00ea",
   "metadata": {},
   "outputs": [
    {
     "data": {
      "text/plain": [
       "(21, 63, 104)"
      ]
     },
     "execution_count": 14,
     "metadata": {},
     "output_type": "execute_result"
    }
   ],
   "source": [
    "155-134, 240 - 177, 240 -136"
   ]
  },
  {
   "cell_type": "code",
   "execution_count": null,
   "id": "93dc041d",
   "metadata": {},
   "outputs": [],
   "source": []
  }
 ],
 "metadata": {
  "kernelspec": {
   "display_name": "Python 3 (ipykernel)",
   "language": "python",
   "name": "python3"
  },
  "language_info": {
   "codemirror_mode": {
    "name": "ipython",
    "version": 3
   },
   "file_extension": ".py",
   "mimetype": "text/x-python",
   "name": "python",
   "nbconvert_exporter": "python",
   "pygments_lexer": "ipython3",
   "version": "3.8.12"
  }
 },
 "nbformat": 4,
 "nbformat_minor": 5
}
