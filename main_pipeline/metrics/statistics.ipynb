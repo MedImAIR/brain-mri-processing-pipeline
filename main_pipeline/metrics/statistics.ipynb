{
 "cells": [
  {
   "cell_type": "code",
   "execution_count": 1,
   "metadata": {},
   "outputs": [],
   "source": [
    "import pandas as pd\n",
    "import scipy, researchpy\n",
    "from researchpy import ttest\n",
    "import os, glob\n",
    "import numpy as np"
   ]
  },
  {
   "cell_type": "code",
   "execution_count": 2,
   "metadata": {},
   "outputs": [],
   "source": [
    "import json\n",
    "import mpu.io"
   ]
  },
  {
   "cell_type": "code",
   "execution_count": 11,
   "metadata": {},
   "outputs": [],
   "source": [
    "folder = '../log_gbm/results'\n",
    "# '../{}/*{}*'.format(folder, exp)"
   ]
  },
  {
   "cell_type": "code",
   "execution_count": null,
   "metadata": {},
   "outputs": [],
   "source": [
    "# find /mnt/experiments/gbm_infer/ -type f -name '*.csv'\n",
    "\n",
    "data = pd.read_csv('paths_to_csv.txt', header = None)\n",
    "import shlex, subprocess,time\n",
    "base_command = \"\"\"scp gpu_server_kate:{path} /home/kate/projects/brain-mri-processing-pipeline/main_pipeline/log_gbm/results/ \"\"\"\n",
    "for i in range(0,len(data)):\n",
    "    print(data[0].iloc[i])\n",
    "    command_to_run = base_command.format(path = data[0].iloc[i])\n",
    "    command_to_run = shlex.split(command_to_run)\n",
    "    process = subprocess.Popen(command_to_run,shell=False)\n",
    "    time.sleep(1)"
   ]
  },
  {
   "cell_type": "markdown",
   "metadata": {},
   "source": [
    "## Creating the joint table:"
   ]
  },
  {
   "cell_type": "code",
   "execution_count": 12,
   "metadata": {},
   "outputs": [
    {
     "data": {
      "text/plain": [
       "['.ipynb_checkpoints',\n",
       " 'metrics_gbm_2a_interp_fold-0.csv',\n",
       " 'metrics_gbm_2b_n4_fold-2.csv',\n",
       " 'metrics_gbm_3a_atlas_fold-2.csv',\n",
       " 'metrics_gbm_3a_atlas_aug_300_fold-2.csv',\n",
       " 'metrics_gbm_3b_n4_fold-1.csv',\n",
       " 'metrics_gbm_3a_susan_fold-1.csv',\n",
       " 'metrics_gbm_2a_interp_fold-1.csv',\n",
       " 'metrics_gbm_TCGA_GBM_fold-2.csv',\n",
       " 'metrics_gbm_3aatlas_withoutbrain_label_from_3aatlas_fold-1.csv',\n",
       " 'metrics_gbm_5_ss_label_from_3atlas_fold-1.csv',\n",
       " 'metrics_gbm_3a_atlas_aug_300_fold-0.csv',\n",
       " 'metrics_gbm_3a_susan_fold-2.csv',\n",
       " 'metrics_gbm_TCGA_GBM_fold-1.csv',\n",
       " 'metrics_gbm_5_ss_shared_fold-1.csv',\n",
       " 'metrics_gbm_3a_atlas_fold-1.csv',\n",
       " 'metrics_gbm_3c_n4_susan_fold-0.csv',\n",
       " 'metrics_gbm_2b_n4_fold-0.csv',\n",
       " 'metrics_gbm_2c_n4_susan_fold-0.csv',\n",
       " 'metrics_gbm_3aatlas_withoutbrain_label_from_3aatlas_fold-0.csv',\n",
       " 'metrics_gbm_3c_n4_susan_fold-1.csv',\n",
       " 'metrics_gbm_3c_n4_susan_fold-2.csv',\n",
       " 'metrics_gbm_2a_interp_fold-2.csv',\n",
       " 'metrics_gbm_5_ss_shared_fold-2.csv',\n",
       " 'metrics_gbm_7a_resample_fold-1.csv',\n",
       " 'metrics_gbm_7a_resample_fold-0.csv',\n",
       " 'metrics_gbm_3b_n4_fold-0.csv',\n",
       " 'metrics_gbm_5_ss_label_from_3atlas_fold-2.csv',\n",
       " 'metrics_gbm_2c_n4_susan_fold-1.csv',\n",
       " 'metrics_gbm_7a_resample_aug_300_fold-2.csv',\n",
       " 'metrics_gbm_3a_atlas_aug_300_fold-1.csv',\n",
       " 'metrics_gbm_2a_interp_aug_fold-0.csv',\n",
       " 'metrics_gbm_2c_n4_susan_fold-2.csv',\n",
       " 'metrics_gbm_2a_interp_aug_fold-2.csv',\n",
       " 'metrics_gbm_2b_n4_fold-1.csv',\n",
       " 'metrics_gbm_2a_interp_aug_fold-1.csv',\n",
       " 'metrics_gbm_7a_resample_aug_300_fold-0.csv',\n",
       " 'metrics_gbm_3aatlas_withoutbrain_label_from_3aatlas_fold-2.csv',\n",
       " 'metrics_gbm_5_ss_label_from_3atlas_fold-0.csv',\n",
       " 'metrics_gbm_3b_n4_fold-2.csv',\n",
       " 'metrics_gbm_7a_resample_aug_300_fold-1.csv',\n",
       " 'metrics_gbm_7a_resample_fold-2.csv',\n",
       " 'metrics_gbm_3a_atlas_fold-0.csv']"
      ]
     },
     "execution_count": 12,
     "metadata": {},
     "output_type": "execute_result"
    }
   ],
   "source": [
    "os.listdir(folder)"
   ]
  },
  {
   "cell_type": "code",
   "execution_count": 13,
   "metadata": {},
   "outputs": [
    {
     "name": "stdout",
     "output_type": "stream",
     "text": [
      "1_reg.py\t3a_atlas.py\t4a_resamp.py  6_hist.py  log_schw\r\n",
      "2a_interp.py\t3b_n4.sh\t4b_n4.sh      log_bgpd\t metrics\r\n",
      "2b_n4.sh\t3c_n4_susan.sh\t4d_susan.sh   log_gbm\t misc\r\n",
      "2c_n4_susan.sh\t3d_susan.sh\t5_ss.py       log_lgg\t utils\r\n"
     ]
    }
   ],
   "source": [
    "!ls .."
   ]
  },
  {
   "cell_type": "code",
   "execution_count": 15,
   "metadata": {},
   "outputs": [],
   "source": [
    "gbm_seed = mpu.io.read('../utils/gbm_seed.json')\n",
    "folder = '../log_gbm/results_native/'\n",
    "def make_df_fold(folder, exp, list_fold_0 =gbm_seed['fold_0'], list_fold_1=gbm_seed['fold_1'], list_fold_2=gbm_seed['fold_2']):\n",
    "    \"\"\" for most of experiments name of experiment `exp` should include `_f`\n",
    "    \"\"\"\n",
    "    assert(len(glob.glob('{}/*{}*'.format(folder, exp))) == 3)\n",
    "    for fold in glob.glob('{}/*{}*'.format(folder, exp)):\n",
    "        if 'fold-0' in fold:\n",
    "            df_fold_0 = pd.read_csv(fold)\n",
    "            df_fold_0 = df_fold_0[df_fold_0['Ids'].isin(list_fold_0)]\n",
    "        elif 'fold-1' in fold:\n",
    "            df_fold_1 = pd.read_csv(fold)\n",
    "            df_fold_1 = df_fold_1[df_fold_1['Ids'].isin(list_fold_1)]\n",
    "        elif 'fold-2' in fold:                  \n",
    "            df_fold_2 = pd.read_csv(fold)\n",
    "            df_fold_2 = df_fold_2[df_fold_2['Ids'].isin(list_fold_2)]\n",
    "            \n",
    "    result_df = pd.concat([df_fold_0,df_fold_1,df_fold_2])\n",
    "    result_df = result_df.drop(result_df.columns[0], axis = 1).reset_index(drop=True)\n",
    "    return result_df"
   ]
  },
  {
   "cell_type": "code",
   "execution_count": 16,
   "metadata": {},
   "outputs": [],
   "source": [
    "df_1 = make_df_fold(folder,'1_reg_f', gbm_seed['fold_0'],  gbm_seed['fold_1'],  gbm_seed['fold_2'])\n",
    "df_2 = make_df_fold(folder,'1_reg_aug',  gbm_seed['fold_0'],  gbm_seed['fold_1'],  gbm_seed['fold_2'])"
   ]
  },
  {
   "cell_type": "code",
   "execution_count": 17,
   "metadata": {},
   "outputs": [],
   "source": [
    "def ttest_pair(metric, df_1, df_2, name_1, name_2, correction = None):\n",
    "    return ttest(df_1[metric], df_2[metric], group1_name = name_1,\n",
    "                 group2_name= name_2, equal_variances=False, paired=True, correction = 8).iloc[4].values[1]"
   ]
  },
  {
   "cell_type": "code",
   "execution_count": 19,
   "metadata": {
    "scrolled": true
   },
   "outputs": [
    {
     "data": {
      "text/plain": [
       "0.0038"
      ]
     },
     "execution_count": 19,
     "metadata": {},
     "output_type": "execute_result"
    }
   ],
   "source": [
    "ttest_pair('Surface_dice_1', df_1, df_2, '1_reg_f', '1_reg_aug')"
   ]
  },
  {
   "cell_type": "code",
   "execution_count": 20,
   "metadata": {},
   "outputs": [],
   "source": [
    "fixed = '1_reg_f'\n",
    "moving = ['1_reg_aug']\n",
    "metrics = ['Surface_dice_1']\n",
    "result = pd.DataFrame()\n",
    "df_1 = make_df_fold(folder, fixed)\n",
    "for exp in moving:\n",
    "    df_2 = make_df_fold(folder, exp)\n",
    "    for metric in metrics:\n",
    "            \n",
    "        result = result.append({'Experiment': fixed,\n",
    "                                    'Metric' : metric,\n",
    "                                    'Mean': np.round(df_1[metric].mean(),3),\n",
    "                                    'STD': np.round(df_1[metric].std(),3)},  \n",
    "                                   ignore_index = True)\n",
    "        p_value = ttest_pair(metric, df_1, df_2, fixed, exp, correction = len(moving))\n",
    "        result = result.append({'Experiment': exp,\n",
    "                                    'Metric' : metric,\n",
    "                                    'Mean': np.round(df_2[metric].mean(),3),\n",
    "                                    'STD': np.round(df_2[metric].std(),3),\n",
    "                                    'p_value': np.round(p_value,3),\n",
    "                                    'criterion' : (p_value < 0.050),\n",
    "                                    },  \n",
    "                                   ignore_index = True)"
   ]
  },
  {
   "cell_type": "code",
   "execution_count": 22,
   "metadata": {},
   "outputs": [],
   "source": [
    "def make_main_table(folder, fixed, moving, metrics, list_fold_0=gbm_seed['fold_0'], list_fold_1=gbm_seed['fold_1'], list_fold_2=gbm_seed['fold_2']):\n",
    "    result = pd.DataFrame()\n",
    "    df_1 = make_df_fold(folder,fixed, list_fold_0, list_fold_1, list_fold_2)\n",
    "    \n",
    "    for exp in moving:\n",
    "        df_2 = make_df_fold(folder,exp, list_fold_0, list_fold_1, list_fold_2)\n",
    "        for metric in metrics:\n",
    "            \n",
    "            result = result.append({'Experiment': fixed,\n",
    "                                    'Metric' : metric,\n",
    "                                    'Mean': np.round(df_1[metric].mean(),3),\n",
    "                                    'STD': np.round(df_1[metric].std(),3)},  \n",
    "                                   ignore_index = True)\n",
    "            p_value = ttest_pair(metric, df_1, df_2, fixed, exp, correction = len(moving))\n",
    "            result = result.append({'Experiment': exp,\n",
    "                                    'Metric' : metric,\n",
    "                                    'Mean': np.round(df_2[metric].mean(),3),\n",
    "                                    'STD': np.round(df_2[metric].std(),3),\n",
    "                                    'p_value': np.round(p_value,3),\n",
    "                                    'criterion' : (p_value < 0.050),\n",
    "                                    },  \n",
    "                                   ignore_index = True)\n",
    "    return result"
   ]
  },
  {
   "cell_type": "code",
   "execution_count": 23,
   "metadata": {},
   "outputs": [
    {
     "data": {
      "text/html": [
       "<div>\n",
       "<style scoped>\n",
       "    .dataframe tbody tr th:only-of-type {\n",
       "        vertical-align: middle;\n",
       "    }\n",
       "\n",
       "    .dataframe tbody tr th {\n",
       "        vertical-align: top;\n",
       "    }\n",
       "\n",
       "    .dataframe thead th {\n",
       "        text-align: right;\n",
       "    }\n",
       "</style>\n",
       "<table border=\"1\" class=\"dataframe\">\n",
       "  <thead>\n",
       "    <tr style=\"text-align: right;\">\n",
       "      <th></th>\n",
       "      <th>Experiment</th>\n",
       "      <th>Metric</th>\n",
       "      <th>Mean</th>\n",
       "      <th>STD</th>\n",
       "      <th>criterion</th>\n",
       "      <th>p_value</th>\n",
       "    </tr>\n",
       "  </thead>\n",
       "  <tbody>\n",
       "    <tr>\n",
       "      <th>0</th>\n",
       "      <td>1_reg_f</td>\n",
       "      <td>Surface_dice_1</td>\n",
       "      <td>0.251</td>\n",
       "      <td>0.138</td>\n",
       "      <td>NaN</td>\n",
       "      <td>NaN</td>\n",
       "    </tr>\n",
       "    <tr>\n",
       "      <th>1</th>\n",
       "      <td>1_reg_aug</td>\n",
       "      <td>Surface_dice_1</td>\n",
       "      <td>0.259</td>\n",
       "      <td>0.139</td>\n",
       "      <td>1.0</td>\n",
       "      <td>0.004</td>\n",
       "    </tr>\n",
       "  </tbody>\n",
       "</table>\n",
       "</div>"
      ],
      "text/plain": [
       "  Experiment          Metric   Mean    STD  criterion  p_value\n",
       "0    1_reg_f  Surface_dice_1  0.251  0.138        NaN      NaN\n",
       "1  1_reg_aug  Surface_dice_1  0.259  0.139        1.0    0.004"
      ]
     },
     "execution_count": 23,
     "metadata": {},
     "output_type": "execute_result"
    }
   ],
   "source": [
    "make_main_table(folder, '1_reg_f', ['1_reg_aug'],\n",
    "                ['Surface_dice_1']).drop_duplicates(['Experiment','Metric' ]).sort_values(['Mean'])"
   ]
  },
  {
   "cell_type": "code",
   "execution_count": 25,
   "metadata": {},
   "outputs": [
    {
     "data": {
      "text/html": [
       "<div>\n",
       "<style scoped>\n",
       "    .dataframe tbody tr th:only-of-type {\n",
       "        vertical-align: middle;\n",
       "    }\n",
       "\n",
       "    .dataframe tbody tr th {\n",
       "        vertical-align: top;\n",
       "    }\n",
       "\n",
       "    .dataframe thead th {\n",
       "        text-align: right;\n",
       "    }\n",
       "</style>\n",
       "<table border=\"1\" class=\"dataframe\">\n",
       "  <thead>\n",
       "    <tr style=\"text-align: right;\">\n",
       "      <th></th>\n",
       "      <th>Experiment</th>\n",
       "      <th>Metric</th>\n",
       "      <th>Mean</th>\n",
       "      <th>STD</th>\n",
       "      <th>criterion</th>\n",
       "      <th>p_value</th>\n",
       "    </tr>\n",
       "  </thead>\n",
       "  <tbody>\n",
       "    <tr>\n",
       "      <th>1</th>\n",
       "      <td>6_hist</td>\n",
       "      <td>Surface_dice_1</td>\n",
       "      <td>0.667</td>\n",
       "      <td>0.204</td>\n",
       "      <td>0.0</td>\n",
       "      <td>0.714</td>\n",
       "    </tr>\n",
       "    <tr>\n",
       "      <th>0</th>\n",
       "      <td>2a_interp</td>\n",
       "      <td>Surface_dice_1</td>\n",
       "      <td>0.673</td>\n",
       "      <td>0.194</td>\n",
       "      <td>NaN</td>\n",
       "      <td>NaN</td>\n",
       "    </tr>\n",
       "  </tbody>\n",
       "</table>\n",
       "</div>"
      ],
      "text/plain": [
       "  Experiment          Metric   Mean    STD  criterion  p_value\n",
       "1     6_hist  Surface_dice_1  0.667  0.204        0.0    0.714\n",
       "0  2a_interp  Surface_dice_1  0.673  0.194        NaN      NaN"
      ]
     },
     "execution_count": 25,
     "metadata": {},
     "output_type": "execute_result"
    }
   ],
   "source": [
    "make_main_table(folder, '2a_interp', ['6_hist'],\n",
    "                ['Surface_dice_1']).drop_duplicates(['Experiment','Metric' ]).sort_values(['Mean'])"
   ]
  },
  {
   "cell_type": "code",
   "execution_count": 30,
   "metadata": {
    "scrolled": true
   },
   "outputs": [
    {
     "data": {
      "text/html": [
       "<div>\n",
       "<style scoped>\n",
       "    .dataframe tbody tr th:only-of-type {\n",
       "        vertical-align: middle;\n",
       "    }\n",
       "\n",
       "    .dataframe tbody tr th {\n",
       "        vertical-align: top;\n",
       "    }\n",
       "\n",
       "    .dataframe thead th {\n",
       "        text-align: right;\n",
       "    }\n",
       "</style>\n",
       "<table border=\"1\" class=\"dataframe\">\n",
       "  <thead>\n",
       "    <tr style=\"text-align: right;\">\n",
       "      <th></th>\n",
       "      <th>Experiment</th>\n",
       "      <th>Metric</th>\n",
       "      <th>Mean</th>\n",
       "      <th>STD</th>\n",
       "      <th>criterion</th>\n",
       "      <th>p_value</th>\n",
       "    </tr>\n",
       "  </thead>\n",
       "  <tbody>\n",
       "    <tr>\n",
       "      <th>0</th>\n",
       "      <td>1_reg_f</td>\n",
       "      <td>Surface_dice_1</td>\n",
       "      <td>0.251</td>\n",
       "      <td>0.138</td>\n",
       "      <td>NaN</td>\n",
       "      <td>NaN</td>\n",
       "    </tr>\n",
       "    <tr>\n",
       "      <th>5</th>\n",
       "      <td>4a_resamp_f</td>\n",
       "      <td>Surface_dice_1</td>\n",
       "      <td>0.655</td>\n",
       "      <td>0.193</td>\n",
       "      <td>1.0</td>\n",
       "      <td>0.0</td>\n",
       "    </tr>\n",
       "    <tr>\n",
       "      <th>1</th>\n",
       "      <td>2a_interp</td>\n",
       "      <td>Surface_dice_1</td>\n",
       "      <td>0.673</td>\n",
       "      <td>0.194</td>\n",
       "      <td>1.0</td>\n",
       "      <td>0.0</td>\n",
       "    </tr>\n",
       "    <tr>\n",
       "      <th>3</th>\n",
       "      <td>3a_atlas_f</td>\n",
       "      <td>Surface_dice_1</td>\n",
       "      <td>0.683</td>\n",
       "      <td>0.190</td>\n",
       "      <td>1.0</td>\n",
       "      <td>0.0</td>\n",
       "    </tr>\n",
       "  </tbody>\n",
       "</table>\n",
       "</div>"
      ],
      "text/plain": [
       "    Experiment          Metric   Mean    STD  criterion  p_value\n",
       "0      1_reg_f  Surface_dice_1  0.251  0.138        NaN      NaN\n",
       "5  4a_resamp_f  Surface_dice_1  0.655  0.193        1.0      0.0\n",
       "1    2a_interp  Surface_dice_1  0.673  0.194        1.0      0.0\n",
       "3   3a_atlas_f  Surface_dice_1  0.683  0.190        1.0      0.0"
      ]
     },
     "execution_count": 30,
     "metadata": {},
     "output_type": "execute_result"
    }
   ],
   "source": [
    "make_main_table(folder, '1_reg_f', ['2a_interp','3a_atlas_f', '4a_resamp_f'],\n",
    "                ['Surface_dice_1']).drop_duplicates(['Experiment','Metric' ]).sort_values(['Mean'])"
   ]
  },
  {
   "cell_type": "code",
   "execution_count": 32,
   "metadata": {},
   "outputs": [
    {
     "data": {
      "text/html": [
       "<div>\n",
       "<style scoped>\n",
       "    .dataframe tbody tr th:only-of-type {\n",
       "        vertical-align: middle;\n",
       "    }\n",
       "\n",
       "    .dataframe tbody tr th {\n",
       "        vertical-align: top;\n",
       "    }\n",
       "\n",
       "    .dataframe thead th {\n",
       "        text-align: right;\n",
       "    }\n",
       "</style>\n",
       "<table border=\"1\" class=\"dataframe\">\n",
       "  <thead>\n",
       "    <tr style=\"text-align: right;\">\n",
       "      <th></th>\n",
       "      <th>Experiment</th>\n",
       "      <th>Metric</th>\n",
       "      <th>Mean</th>\n",
       "      <th>STD</th>\n",
       "      <th>criterion</th>\n",
       "      <th>p_value</th>\n",
       "    </tr>\n",
       "  </thead>\n",
       "  <tbody>\n",
       "    <tr>\n",
       "      <th>0</th>\n",
       "      <td>4a_resamp_f</td>\n",
       "      <td>Surface_dice_1</td>\n",
       "      <td>0.655</td>\n",
       "      <td>0.193</td>\n",
       "      <td>NaN</td>\n",
       "      <td>NaN</td>\n",
       "    </tr>\n",
       "    <tr>\n",
       "      <th>1</th>\n",
       "      <td>3a_atlas_f</td>\n",
       "      <td>Surface_dice_1</td>\n",
       "      <td>0.683</td>\n",
       "      <td>0.190</td>\n",
       "      <td>1.0</td>\n",
       "      <td>0.00</td>\n",
       "    </tr>\n",
       "    <tr>\n",
       "      <th>3</th>\n",
       "      <td>2a_interp</td>\n",
       "      <td>Surface_dice_1</td>\n",
       "      <td>0.673</td>\n",
       "      <td>0.194</td>\n",
       "      <td>1.0</td>\n",
       "      <td>0.01</td>\n",
       "    </tr>\n",
       "  </tbody>\n",
       "</table>\n",
       "</div>"
      ],
      "text/plain": [
       "    Experiment          Metric   Mean    STD  criterion  p_value\n",
       "0  4a_resamp_f  Surface_dice_1  0.655  0.193        NaN      NaN\n",
       "1   3a_atlas_f  Surface_dice_1  0.683  0.190        1.0     0.00\n",
       "3    2a_interp  Surface_dice_1  0.673  0.194        1.0     0.01"
      ]
     },
     "execution_count": 32,
     "metadata": {},
     "output_type": "execute_result"
    }
   ],
   "source": [
    "make_main_table(folder,'4a_resamp_f', ['3a_atlas_f', '2a_interp' ],\n",
    "                ['Surface_dice_1']).drop_duplicates(['Experiment','Metric' ])"
   ]
  },
  {
   "cell_type": "code",
   "execution_count": 34,
   "metadata": {},
   "outputs": [
    {
     "ename": "AssertionError",
     "evalue": "",
     "output_type": "error",
     "traceback": [
      "\u001b[0;31m---------------------------------------------------------------------------\u001b[0m",
      "\u001b[0;31mAssertionError\u001b[0m                            Traceback (most recent call last)",
      "\u001b[0;32m/tmp/ipykernel_2655907/2978553561.py\u001b[0m in \u001b[0;36m<module>\u001b[0;34m\u001b[0m\n\u001b[0;32m----> 1\u001b[0;31m make_main_table(folder, '3a_atlas_f', ['3b_n4','3d_susan','6_hist', '5_ss','3a_atlas_aug', '4a_resamp_aug'],\n\u001b[0m\u001b[1;32m      2\u001b[0m                 ['Surface_dice_1']).drop_duplicates(['Experiment'])\n",
      "\u001b[0;32m/tmp/ipykernel_2655907/1613578736.py\u001b[0m in \u001b[0;36mmake_main_table\u001b[0;34m(folder, fixed, moving, metrics, list_fold_0, list_fold_1, list_fold_2)\u001b[0m\n\u001b[1;32m      4\u001b[0m \u001b[0;34m\u001b[0m\u001b[0m\n\u001b[1;32m      5\u001b[0m     \u001b[0;32mfor\u001b[0m \u001b[0mexp\u001b[0m \u001b[0;32min\u001b[0m \u001b[0mmoving\u001b[0m\u001b[0;34m:\u001b[0m\u001b[0;34m\u001b[0m\u001b[0;34m\u001b[0m\u001b[0m\n\u001b[0;32m----> 6\u001b[0;31m         \u001b[0mdf_2\u001b[0m \u001b[0;34m=\u001b[0m \u001b[0mmake_df_fold\u001b[0m\u001b[0;34m(\u001b[0m\u001b[0mfolder\u001b[0m\u001b[0;34m,\u001b[0m\u001b[0mexp\u001b[0m\u001b[0;34m,\u001b[0m \u001b[0mlist_fold_0\u001b[0m\u001b[0;34m,\u001b[0m \u001b[0mlist_fold_1\u001b[0m\u001b[0;34m,\u001b[0m \u001b[0mlist_fold_2\u001b[0m\u001b[0;34m)\u001b[0m\u001b[0;34m\u001b[0m\u001b[0;34m\u001b[0m\u001b[0m\n\u001b[0m\u001b[1;32m      7\u001b[0m         \u001b[0;32mfor\u001b[0m \u001b[0mmetric\u001b[0m \u001b[0;32min\u001b[0m \u001b[0mmetrics\u001b[0m\u001b[0;34m:\u001b[0m\u001b[0;34m\u001b[0m\u001b[0;34m\u001b[0m\u001b[0m\n\u001b[1;32m      8\u001b[0m \u001b[0;34m\u001b[0m\u001b[0m\n",
      "\u001b[0;32m/tmp/ipykernel_2655907/3165776958.py\u001b[0m in \u001b[0;36mmake_df_fold\u001b[0;34m(folder, exp, list_fold_0, list_fold_1, list_fold_2)\u001b[0m\n\u001b[1;32m      4\u001b[0m     \"\"\" for most of experiments name of experiment `exp` should include `_f`\n\u001b[1;32m      5\u001b[0m     \"\"\"\n\u001b[0;32m----> 6\u001b[0;31m     \u001b[0;32massert\u001b[0m\u001b[0;34m(\u001b[0m\u001b[0mlen\u001b[0m\u001b[0;34m(\u001b[0m\u001b[0mglob\u001b[0m\u001b[0;34m.\u001b[0m\u001b[0mglob\u001b[0m\u001b[0;34m(\u001b[0m\u001b[0;34m'{}/*{}*'\u001b[0m\u001b[0;34m.\u001b[0m\u001b[0mformat\u001b[0m\u001b[0;34m(\u001b[0m\u001b[0mfolder\u001b[0m\u001b[0;34m,\u001b[0m \u001b[0mexp\u001b[0m\u001b[0;34m)\u001b[0m\u001b[0;34m)\u001b[0m\u001b[0;34m)\u001b[0m \u001b[0;34m==\u001b[0m \u001b[0;36m3\u001b[0m\u001b[0;34m)\u001b[0m\u001b[0;34m\u001b[0m\u001b[0;34m\u001b[0m\u001b[0m\n\u001b[0m\u001b[1;32m      7\u001b[0m     \u001b[0;32mfor\u001b[0m \u001b[0mfold\u001b[0m \u001b[0;32min\u001b[0m \u001b[0mglob\u001b[0m\u001b[0;34m.\u001b[0m\u001b[0mglob\u001b[0m\u001b[0;34m(\u001b[0m\u001b[0;34m'{}/*{}*'\u001b[0m\u001b[0;34m.\u001b[0m\u001b[0mformat\u001b[0m\u001b[0;34m(\u001b[0m\u001b[0mfolder\u001b[0m\u001b[0;34m,\u001b[0m \u001b[0mexp\u001b[0m\u001b[0;34m)\u001b[0m\u001b[0;34m)\u001b[0m\u001b[0;34m:\u001b[0m\u001b[0;34m\u001b[0m\u001b[0;34m\u001b[0m\u001b[0m\n\u001b[1;32m      8\u001b[0m         \u001b[0;32mif\u001b[0m \u001b[0;34m'fold-0'\u001b[0m \u001b[0;32min\u001b[0m \u001b[0mfold\u001b[0m\u001b[0;34m:\u001b[0m\u001b[0;34m\u001b[0m\u001b[0;34m\u001b[0m\u001b[0m\n",
      "\u001b[0;31mAssertionError\u001b[0m: "
     ]
    }
   ],
   "source": [
    "make_main_table(folder, '3a_atlas_f', ['3b_n4','3d_susan','6_hist', '5_ss','3a_atlas_aug', '4a_resamp_aug'],\n",
    "                ['Surface_dice_1']).drop_duplicates(['Experiment'])"
   ]
  },
  {
   "cell_type": "code",
   "execution_count": 153,
   "metadata": {},
   "outputs": [
    {
     "data": {
      "text/html": [
       "<div>\n",
       "<style scoped>\n",
       "    .dataframe tbody tr th:only-of-type {\n",
       "        vertical-align: middle;\n",
       "    }\n",
       "\n",
       "    .dataframe tbody tr th {\n",
       "        vertical-align: top;\n",
       "    }\n",
       "\n",
       "    .dataframe thead th {\n",
       "        text-align: right;\n",
       "    }\n",
       "</style>\n",
       "<table border=\"1\" class=\"dataframe\">\n",
       "  <thead>\n",
       "    <tr style=\"text-align: right;\">\n",
       "      <th></th>\n",
       "      <th>Experiment</th>\n",
       "      <th>Metric</th>\n",
       "      <th>Mean</th>\n",
       "      <th>STD</th>\n",
       "      <th>criterion</th>\n",
       "      <th>p_value</th>\n",
       "    </tr>\n",
       "  </thead>\n",
       "  <tbody>\n",
       "    <tr>\n",
       "      <th>1</th>\n",
       "      <td>4a_resamp_aug</td>\n",
       "      <td>Surface_dice_1</td>\n",
       "      <td>0.696</td>\n",
       "      <td>0.194</td>\n",
       "      <td>0.0</td>\n",
       "      <td>0.473</td>\n",
       "    </tr>\n",
       "    <tr>\n",
       "      <th>0</th>\n",
       "      <td>3a_atlas_aug</td>\n",
       "      <td>Surface_dice_1</td>\n",
       "      <td>0.698</td>\n",
       "      <td>0.193</td>\n",
       "      <td>NaN</td>\n",
       "      <td>NaN</td>\n",
       "    </tr>\n",
       "  </tbody>\n",
       "</table>\n",
       "</div>"
      ],
      "text/plain": [
       "      Experiment          Metric   Mean    STD  criterion  p_value\n",
       "1  4a_resamp_aug  Surface_dice_1  0.696  0.194        0.0    0.473\n",
       "0   3a_atlas_aug  Surface_dice_1  0.698  0.193        NaN      NaN"
      ]
     },
     "execution_count": 153,
     "metadata": {},
     "output_type": "execute_result"
    }
   ],
   "source": [
    "make_main_table(folder, '3a_atlas_aug', ['4a_resamp_aug'],\n",
    "                ['Surface_dice_1']).drop_duplicates(['Experiment','Metric' ]).sort_values(['Mean'])"
   ]
  },
  {
   "cell_type": "code",
   "execution_count": 36,
   "metadata": {},
   "outputs": [],
   "source": [
    "df_3 = make_df_fold(folder,'6_hist', gbm_seed['fold_0'],  gbm_seed['fold_1'],  gbm_seed['fold_2'])"
   ]
  },
  {
   "cell_type": "code",
   "execution_count": 37,
   "metadata": {},
   "outputs": [
    {
     "ename": "NameError",
     "evalue": "name 'df_fold_0' is not defined",
     "output_type": "error",
     "traceback": [
      "\u001b[0;31m---------------------------------------------------------------------------\u001b[0m",
      "\u001b[0;31mNameError\u001b[0m                                 Traceback (most recent call last)",
      "\u001b[0;32m/tmp/ipykernel_2655907/3755118441.py\u001b[0m in \u001b[0;36m<module>\u001b[0;34m\u001b[0m\n\u001b[1;32m      1\u001b[0m make_main_table(folder,'7a_resample' , ['3a_atlas_f','2a_interp_f', ],\n\u001b[1;32m      2\u001b[0m                 \u001b[0;34m[\u001b[0m\u001b[0;34m'Dice_1'\u001b[0m\u001b[0;34m,\u001b[0m\u001b[0;34m'Surface_dice_1'\u001b[0m\u001b[0;34m,\u001b[0m\u001b[0;34m'Sensitivity_1'\u001b[0m\u001b[0;34m,\u001b[0m\u001b[0;34m'Precision_1'\u001b[0m\u001b[0;34m]\u001b[0m\u001b[0;34m,\u001b[0m\u001b[0;34m\u001b[0m\u001b[0;34m\u001b[0m\u001b[0m\n\u001b[0;32m----> 3\u001b[0;31m                 df_fold_0, df_fold_1, df_fold_2).drop_duplicates(['Experiment','Metric' ])\n\u001b[0m",
      "\u001b[0;31mNameError\u001b[0m: name 'df_fold_0' is not defined"
     ]
    }
   ],
   "source": [
    "make_main_table(folder,'7a_resample' , ['3a_atlas_f','2a_interp_f', ],\n",
    "                ['Dice_1','Surface_dice_1','Sensitivity_1','Precision_1'], \n",
    "                df_fold_0, df_fold_1, df_fold_2).drop_duplicates(['Experiment','Metric' ])"
   ]
  },
  {
   "cell_type": "code",
   "execution_count": 193,
   "metadata": {
    "scrolled": true
   },
   "outputs": [
    {
     "data": {
      "text/plain": [
       "['3d_susan_fold-0.csv',\n",
       " '4a_resamp_fold-0.csv',\n",
       " '.ipynb_checkpoints',\n",
       " 'metrics_gbm_1_reg_aug_fold-2.csv',\n",
       " '5_ss_fold-2.csv',\n",
       " 'metrics_gbm_1_reg_aug_fold-0.csv',\n",
       " '3a_atlas_fold-2.csv',\n",
       " '3a_atlas_aug_fold-1.csv',\n",
       " '3d_susanfold-0.csv',\n",
       " '3d_susan_fold-1.csv',\n",
       " '2a_interp_fold-1.csv',\n",
       " '3d_susanfold-2.csv',\n",
       " '3b_n4fold-0.csv',\n",
       " '2a_interpfold-1.csv',\n",
       " '3b_n4fold-2.csv',\n",
       " '3a_atlas_fold-0.csv',\n",
       " '6_hist_fold-0.csv',\n",
       " '5_ss_fold-0.csv',\n",
       " '3d_susan_fold-2.csv',\n",
       " 'metrics_gbm_1_reg_fold-1.csv',\n",
       " '6_hist_fold-1.csv',\n",
       " '6_hist_fold-2.csv',\n",
       " '1_reg_labels.csv',\n",
       " '2a_interp_fold-2.csv',\n",
       " '3a_atlas_fold-1.csv',\n",
       " 'metrics_gbm_1_reg_fold-2.csv',\n",
       " '3d_susanfold-1.csv',\n",
       " '4a_resamp_aug_fold-2.csv',\n",
       " 'metrics_gbm_1_reg_aug_fold-1.csv',\n",
       " '3a_atlas_aug_fold-2.csv',\n",
       " 'metrics_gbm_1_reg_fold-0.csv',\n",
       " '2a_interp_fold-0.csv',\n",
       " '2a_interpfold-2.csv',\n",
       " '4a_resamp_aug_fold-0.csv',\n",
       " '3b_n4fold-1.csv',\n",
       " '4a_resamp_fold-1.csv',\n",
       " '3a_atlas_aug_fold-0.csv',\n",
       " '4a_resamp_fold-2.csv',\n",
       " '2a_interpfold-0.csv',\n",
       " '5_ss_fold-1.csv',\n",
       " '4a_resamp_aug_fold-1.csv']"
      ]
     },
     "execution_count": 193,
     "metadata": {},
     "output_type": "execute_result"
    }
   ],
   "source": [
    "os.listdir('../log_gbm/results_native/')"
   ]
  },
  {
   "cell_type": "markdown",
   "metadata": {},
   "source": [
    "#### 3. Taking only needed subjects for analysis"
   ]
  },
  {
   "cell_type": "code",
   "execution_count": 535,
   "metadata": {},
   "outputs": [],
   "source": [
    "import shutil\n",
    "for i in os.listdir('/anvar/public_datasets/preproc_study/gbm/inference/metrcis/'):\n",
    "#     shutil.copy('/anvar/public_datasets/preproc_study/gbm/inference/metrcis/6_hist_fold-1.csv','../log_gbm/results_native/')"
   ]
  },
  {
   "cell_type": "code",
   "execution_count": 536,
   "metadata": {},
   "outputs": [
    {
     "data": {
      "text/plain": [
       "['4a_resamp_fold-0.csv',\n",
       " '2a_interp_fold-0.csv',\n",
       " '4a_resamp_aug_fold-1.csv',\n",
       " '3d_susan_fold-0.csv',\n",
       " '5_ss_fold-2.csv',\n",
       " '3a_atlas_fold-2.csv',\n",
       " '5_ss_mask_native_fold-1.csv',\n",
       " '3b_n4fold-0.csv',\n",
       " '3a_atlas_fold-1.csv',\n",
       " '3c_n4_susan_fold-2.csv',\n",
       " '4a_resamp_fold-1.csv',\n",
       " '5_ss_mask_native_fold-0.csv',\n",
       " '3a_atlas_aug_fold-1.csv',\n",
       " '4a_resamp_aug_fold-0.csv',\n",
       " '6_hist_fold-1.csv',\n",
       " '2a_interp_fold-2.csv',\n",
       " '2a_interpfold-2.csv',\n",
       " '6_hist_fold-2.csv',\n",
       " '5_ss_fold-0.csv',\n",
       " '4a_resamp_aug_fold-2.csv',\n",
       " '3d_susan_fold-1.csv',\n",
       " '2a_interp_fold-1.csv',\n",
       " '4a_resamp_fold-2.csv',\n",
       " '5_ss_fold-1.csv',\n",
       " '3d_susan_fold-2.csv',\n",
       " '3b_n4fold-2.csv',\n",
       " '6_hist_fold-0.csv',\n",
       " '3a_atlas_aug_fold-2.csv',\n",
       " '5_ss_mask_native_fold-2.csv',\n",
       " '3d_susanfold-1.csv',\n",
       " '3c_n4_susan_fold-1.csv',\n",
       " '3d_susanfold-2.csv',\n",
       " '2a_interpfold-1.csv',\n",
       " '3b_n4fold-1.csv',\n",
       " '3a_atlas_fold-0.csv',\n",
       " '2a_interpfold-0.csv',\n",
       " '3c_n4_susan_fold-0.csv',\n",
       " '1_reg_labels.csv',\n",
       " '3a_atlas_aug_fold-0.csv']"
      ]
     },
     "execution_count": 536,
     "metadata": {},
     "output_type": "execute_result"
    }
   ],
   "source": [
    "os.listdir('/anvar/public_datasets/preproc_study/gbm/inference/metrcis/')"
   ]
  },
  {
   "cell_type": "code",
   "execution_count": 537,
   "metadata": {},
   "outputs": [],
   "source": [
    "folder = '../log_gbm/results_native/'\n",
    "result_df = pd.DataFrame(columns = df_1.columns)\n",
    "result_df['fold'] = ''\n",
    "result_df['exp'] = ''"
   ]
  },
  {
   "cell_type": "code",
   "execution_count": 538,
   "metadata": {
    "scrolled": true
   },
   "outputs": [
    {
     "name": "stdout",
     "output_type": "stream",
     "text": [
      "3d_susan_ 0\n",
      "4a_resamp_ 0\n",
      "metrics_gbm_1_reg_aug_ 2\n",
      "5_ss_ 2\n",
      "3c_n4_susan_ 2\n",
      "metrics_gbm_1_reg_aug_ 0\n",
      "3a_atlas_ 2\n",
      "3a_atlas_aug_ 1\n",
      "3d_susan_ 1\n",
      "2a_interp_ 1\n",
      "3b_n4 0\n",
      "3b_n4 2\n",
      "3a_atlas_ 0\n",
      "6_hist_ 0\n",
      "5_ss_ 0\n",
      "3d_susan_ 2\n",
      "metrics_gbm_1_reg_ 1\n",
      "6_hist_ 1\n",
      "6_hist_ 2\n",
      "2a_interp_ 2\n",
      "3a_atlas_ 1\n",
      "metrics_gbm_1_reg_ 2\n",
      "4a_resamp_aug_ 2\n",
      "metrics_gbm_1_reg_aug_ 1\n",
      "3c_n4_susan_ 0\n",
      "3a_atlas_aug_ 2\n",
      "metrics_gbm_1_reg_ 0\n",
      "2a_interp_ 0\n",
      "5_ss_mask_native_ 1\n",
      "5_ss_mask_native_ 0\n",
      "4a_resamp_aug_ 0\n",
      "3b_n4 1\n",
      "4a_resamp_ 1\n",
      "3a_atlas_aug_ 0\n",
      "5_ss_mask_native_ 2\n",
      "3c_n4_susan_ 1\n",
      "4a_resamp_ 2\n",
      "5_ss_ 1\n",
      "4a_resamp_aug_ 1\n"
     ]
    }
   ],
   "source": [
    "for i in os.listdir(folder):\n",
    "    try:\n",
    "        temp_df = pd.read_csv(folder + i)\n",
    "        temp_df['fold'] = ''\n",
    "        temp_df['fold'] = int(i.split('-')[1][:-4])\n",
    "#         print(i.split('-')[1][:-4])\n",
    "        temp_df['exp'] = ''\n",
    "        temp_df['exp'] = i.split('fold')[0]\n",
    "        print(i.split('fold')[0], i.split('-')[1][:-4])\n",
    "        if int(i.split('-')[1][:-4]) == 0:\n",
    "                temp_df = temp_df[temp_df['Ids'].isin(gbm_seed['fold_0'])]\n",
    "        elif int(i.split('-')[1][:-4]) == 1:\n",
    "                temp_df = temp_df[temp_df['Ids'].isin(gbm_seed['fold_1'])]\n",
    "        elif int(i.split('-')[1][:-4]) == 2:                 \n",
    "                temp_df = temp_df[temp_df['Ids'].isin(gbm_seed['fold_2'])]\n",
    "        result_df = result_df.append(temp_df, ignore_index = True)\n",
    "    except:\n",
    "        pass\n",
    "    \n",
    "result_df.to_csv('../log_gbm/results_native/pivot_table_native_space.csv')\n",
    "    \n",
    "# result_df.to_csv('../log_gbm/results_native/pivot_table_pred_space.csv')"
   ]
  },
  {
   "cell_type": "code",
   "execution_count": 298,
   "metadata": {},
   "outputs": [],
   "source": [
    "# result_df = pd.read_csv('../log_gbm/results_native/pivot_table.csv')"
   ]
  },
  {
   "cell_type": "code",
   "execution_count": 309,
   "metadata": {},
   "outputs": [],
   "source": [
    "columns_3 = ['Dice_3', 'Hausdorff95_3','Sensitivity_3','Specificity_3','Surface_dice_3','Precision_3']\n",
    "columns_2 = ['Dice_2', 'Hausdorff95_2',  'Sensitivity_2','Specificity_2', 'Surface_dice_2','Precision_2' ]\n",
    "columns_1 = ['Dice_1',  'Hausdorff95_1','Sensitivity_1',  'Specificity_1','Surface_dice_1', 'Precision_1']"
   ]
  },
  {
   "cell_type": "code",
   "execution_count": 326,
   "metadata": {},
   "outputs": [
    {
     "name": "stdout",
     "output_type": "stream",
     "text": [
      "              Ids    Dice_1    Dice_2    Dice_3  Hausdorff95_1  Hausdorff95_2  \\\n",
      "654  TCGA-02-0009  0.829760  0.682357  0.221579      21.564334      11.191864   \n",
      "500  TCGA-02-0011  0.925693  0.718884  0.399740      13.301675       7.623591   \n",
      "672  TCGA-02-0027  0.946294  0.667062  0.755524       2.183659      10.494461   \n",
      "487  TCGA-02-0033  0.951868  0.697205  0.748575       2.343750      18.782524   \n",
      "661  TCGA-02-0034  0.868025  0.719543  0.579760       7.379501      12.937236   \n",
      "..            ...       ...       ...       ...            ...            ...   \n",
      "675  TCGA-76-6285  0.775912  0.652594  0.446861       6.999996       9.221448   \n",
      "664  TCGA-76-6661  0.878043  0.424694  0.000000       7.500000      13.422957   \n",
      "671  TCGA-76-6662  0.888266  0.483125  0.014586       6.708204       8.750000   \n",
      "668  TCGA-76-6663  0.805984  0.406258  0.012725      75.507574      91.265643   \n",
      "679  TCGA-76-6664  0.910354  0.794900  0.054255       6.076699       6.928503   \n",
      "\n",
      "     Hausdorff95_3  Sensitivity_1  Sensitivity_2  Sensitivity_3  ...  \\\n",
      "654      11.899645       0.727317       0.875115       0.125102  ...   \n",
      "500      13.240341       0.899333       0.765323       0.255302  ...   \n",
      "672       2.441405       0.957522       0.988679       0.665526  ...   \n",
      "487       5.240784       0.946080       0.973808       0.599675  ...   \n",
      "661       6.250000       0.919018       0.928698       0.446633  ...   \n",
      "..             ...            ...            ...            ...  ...   \n",
      "675       6.999996       0.799156       0.809590       0.436998  ...   \n",
      "664            inf       0.911376       0.831855            NaN  ...   \n",
      "671      22.349497       0.991378       0.431747       0.008539  ...   \n",
      "668       7.500000       0.933720       0.707598       0.009385  ...   \n",
      "679      20.524382       0.897452       0.700715       0.028842  ...   \n",
      "\n",
      "     Specificity_3  Surface_dice_1  Surface_dice_2  Surface_dice_3  \\\n",
      "654       0.999997        0.733544        0.552875        0.295364   \n",
      "500       0.999876        0.782206        0.557198        0.475322   \n",
      "672       0.999900        0.863466        0.205168        0.792958   \n",
      "487       0.999987        0.918859        0.366483        0.732005   \n",
      "661       0.999336        0.655535        0.337479        0.670821   \n",
      "..             ...             ...             ...             ...   \n",
      "675       0.999012        0.592225        0.456509        0.711021   \n",
      "664       0.993596        0.660452        0.351289        0.000000   \n",
      "671       0.998816        0.738850        0.642608        0.349815   \n",
      "668       0.997732        0.603593        0.317305        0.702689   \n",
      "679       0.999498        0.802883        0.627784        0.253826   \n",
      "\n",
      "     Precision_1  Precision_2  Precision_3  fold      exp Unnamed: 0  \n",
      "654     0.965792     0.559187     0.968354     2  6_hist_          0  \n",
      "500     0.953645     0.677758     0.920547     0  6_hist_          0  \n",
      "672     0.935327     0.503329     0.873668     2  6_hist_          0  \n",
      "487     0.957726     0.542977     0.995844     0  6_hist_          0  \n",
      "661     0.822393     0.587280     0.825948     2  6_hist_          0  \n",
      "..           ...          ...          ...   ...      ...        ...  \n",
      "675     0.753981     0.546598     0.457179     2  6_hist_          0  \n",
      "664     0.847062     0.285133     0.000000     2  6_hist_          0  \n",
      "671     0.804582     0.548383     0.049984     2  6_hist_          0  \n",
      "668     0.708991     0.284921     0.019757     2  6_hist_          0  \n",
      "679     0.923633     0.918336     0.456207     2  6_hist_          0  \n",
      "\n",
      "[68 rows x 22 columns]\n",
      "              Ids    Dice_1    Dice_2    Dice_3  Hausdorff95_1  Hausdorff95_2  \\\n",
      "178  TCGA-02-0009  0.849182  0.502407  0.155237      19.982634      11.191864   \n",
      "466  TCGA-02-0011  0.920997  0.803550  0.361936      16.279690       6.685163   \n",
      "196  TCGA-02-0027  0.948698  0.686969  0.659944       2.096608      10.862851   \n",
      "453  TCGA-02-0033  0.951181  0.748726  0.816810       2.209709      18.441843   \n",
      "185  TCGA-02-0034  0.854551  0.694451  0.573566       7.937377      13.958434   \n",
      "..            ...       ...       ...       ...            ...            ...   \n",
      "199  TCGA-76-6285  0.774237  0.645851  0.425384       6.999996       9.375000   \n",
      "188  TCGA-76-6661  0.873296  0.411159  0.000000       7.500000      13.553280   \n",
      "195  TCGA-76-6662  0.897659  0.550032  0.012051       6.408003       8.877640   \n",
      "192  TCGA-76-6663  0.862937  0.495521  0.035890      75.319280      90.746274   \n",
      "203  TCGA-76-6664  0.898028  0.791137  0.076265      50.217031       7.000000   \n",
      "\n",
      "     Hausdorff95_3  Sensitivity_1  Sensitivity_2  Sensitivity_3  ...  \\\n",
      "178      12.352647       0.765392       0.552995       0.084219  ...   \n",
      "466      14.360761       0.905967       0.844894       0.224618  ...   \n",
      "196       3.764428       0.946241       0.935333       0.506020  ...   \n",
      "453       3.493856       0.950982       0.969309       0.694406  ...   \n",
      "185       6.546782       0.902908       0.924768       0.452351  ...   \n",
      "..             ...            ...            ...            ...  ...   \n",
      "199       7.246763       0.803094       0.787244       0.394061  ...   \n",
      "188            inf       0.863145       0.770937            NaN  ...   \n",
      "195      22.273864       0.989259       0.511993       0.007022  ...   \n",
      "192       7.500000       0.965516       0.903890       0.027250  ...   \n",
      "203      21.983775       0.888204       0.701044       0.041843  ...   \n",
      "\n",
      "     Specificity_3  Surface_dice_1  Surface_dice_2  Surface_dice_3  \\\n",
      "178       0.999999        0.756162        0.504208        0.226520   \n",
      "466       0.999907        0.768085        0.592483        0.396679   \n",
      "196       0.999971        0.880626        0.302872        0.708610   \n",
      "453       0.999969        0.920222        0.387545        0.819873   \n",
      "185       0.999118        0.621741        0.316379        0.642070   \n",
      "..             ...             ...             ...             ...   \n",
      "199       0.999126        0.587739        0.472817        0.701916   \n",
      "188       0.992557        0.658351        0.351148        0.000000   \n",
      "195       0.998845        0.765693        0.663291        0.334841   \n",
      "192       0.997607        0.662885        0.286491        0.738937   \n",
      "203       0.999189        0.740593        0.598238        0.239484   \n",
      "\n",
      "     Precision_1  Precision_2  Precision_3  fold        exp Unnamed: 0  \n",
      "178     0.953573     0.460299     0.990385     2  3a_atlas_          0  \n",
      "466     0.936534     0.766064     0.931238     0  3a_atlas_          0  \n",
      "196     0.951167     0.542828     0.948448     2  3a_atlas_          0  \n",
      "453     0.951380     0.609926     0.991601     0  3a_atlas_          0  \n",
      "185     0.811111     0.555982     0.783525     2  3a_atlas_          0  \n",
      "..           ...          ...          ...   ...        ...        ...  \n",
      "199     0.747382     0.547515     0.462118     2  3a_atlas_          0  \n",
      "188     0.883690     0.280334     0.000000     2  3a_atlas_          0  \n",
      "195     0.821586     0.594178     0.042459     2  3a_atlas_          0  \n",
      "192     0.780061     0.341318     0.052551     2  3a_atlas_          0  \n",
      "203     0.908072     0.907801     0.429985     2  3a_atlas_          0  \n",
      "\n",
      "[68 rows x 22 columns]\n"
     ]
    }
   ],
   "source": [
    "exp_1 = 'metrics_gbm_1_reg_'\n",
    "exp_2 = 'metrics_gbm_1_reg_aug_'\n",
    "for i in enumerate(zip([exp_1, exp_2], [df_1, df_2])):\n",
    "    print(i[1][1])"
   ]
  },
  {
   "cell_type": "code",
   "execution_count": 42,
   "metadata": {},
   "outputs": [],
   "source": [
    "columns_3 = ['Dice_3', 'Hausdorff95_3','Surface_dice_3','Sensitivity_3','Specificity_3','Precision_3']\n",
    "columns_2 = ['Dice_2', 'Hausdorff95_2',  'Surface_dice_2','Sensitivity_2','Specificity_2', 'Precision_2' ]\n",
    "columns_1 = ['Dice_1',  'Hausdorff95_1','Surface_dice_1','Sensitivity_1',  'Specificity_1', 'Precision_1']"
   ]
  },
  {
   "cell_type": "code",
   "execution_count": 453,
   "metadata": {},
   "outputs": [
    {
     "name": "stderr",
     "output_type": "stream",
     "text": [
      "/home/kate/miniconda3/lib/python3.9/site-packages/scipy/stats/morestats.py:3130: RuntimeWarning: invalid value encountered in subtract\n",
      "  d = x - y\n",
      "/home/kate/miniconda3/lib/python3.9/site-packages/pandas/core/indexing.py:1732: SettingWithCopyWarning: \n",
      "A value is trying to be set on a copy of a slice from a DataFrame\n",
      "\n",
      "See the caveats in the documentation: https://pandas.pydata.org/pandas-docs/stable/user_guide/indexing.html#returning-a-view-versus-a-copy\n",
      "  self._setitem_single_block(indexer, value, name)\n"
     ]
    },
    {
     "data": {
      "text/html": [
       "<div>\n",
       "<style scoped>\n",
       "    .dataframe tbody tr th:only-of-type {\n",
       "        vertical-align: middle;\n",
       "    }\n",
       "\n",
       "    .dataframe tbody tr th {\n",
       "        vertical-align: top;\n",
       "    }\n",
       "\n",
       "    .dataframe thead th {\n",
       "        text-align: right;\n",
       "    }\n",
       "</style>\n",
       "<table border=\"1\" class=\"dataframe\">\n",
       "  <thead>\n",
       "    <tr style=\"text-align: right;\">\n",
       "      <th></th>\n",
       "      <th>exp</th>\n",
       "      <th>Dice_3_mean</th>\n",
       "      <th>Dice_3_pvalue</th>\n",
       "      <th>Hausdorff95_3_mean</th>\n",
       "      <th>Hausdorff95_3_pvalue</th>\n",
       "      <th>Surface_dice_3_mean</th>\n",
       "      <th>Surface_dice_3_pvalue</th>\n",
       "      <th>Sensitivity_3_mean</th>\n",
       "      <th>Sensitivity_3_pvalue</th>\n",
       "      <th>Specificity_3_mean</th>\n",
       "      <th>Specificity_3_pvalue</th>\n",
       "      <th>Precision_3_mean</th>\n",
       "      <th>Precision_3_pvalue</th>\n",
       "    </tr>\n",
       "  </thead>\n",
       "  <tbody>\n",
       "    <tr>\n",
       "      <th>0</th>\n",
       "      <td>metrics_gbm_1_reg_</td>\n",
       "      <td>0.305</td>\n",
       "      <td>0.0</td>\n",
       "      <td>inf</td>\n",
       "      <td>0.0</td>\n",
       "      <td>0.302</td>\n",
       "      <td>0.0</td>\n",
       "      <td>0.273</td>\n",
       "      <td>0.0</td>\n",
       "      <td>0.999</td>\n",
       "      <td>0.0</td>\n",
       "      <td>0.506</td>\n",
       "      <td>0.0</td>\n",
       "    </tr>\n",
       "    <tr>\n",
       "      <th>1</th>\n",
       "      <td>metrics_gbm_1_reg_aug_</td>\n",
       "      <td>0.309</td>\n",
       "      <td>0.0</td>\n",
       "      <td>inf</td>\n",
       "      <td>0.0</td>\n",
       "      <td>0.306</td>\n",
       "      <td>0.0</td>\n",
       "      <td>0.286</td>\n",
       "      <td>0.0</td>\n",
       "      <td>0.999</td>\n",
       "      <td>0.0</td>\n",
       "      <td>0.487</td>\n",
       "      <td>0.0</td>\n",
       "    </tr>\n",
       "  </tbody>\n",
       "</table>\n",
       "</div>"
      ],
      "text/plain": [
       "                      exp  Dice_3_mean  Dice_3_pvalue  Hausdorff95_3_mean  \\\n",
       "0      metrics_gbm_1_reg_        0.305            0.0                 inf   \n",
       "1  metrics_gbm_1_reg_aug_        0.309            0.0                 inf   \n",
       "\n",
       "   Hausdorff95_3_pvalue  Surface_dice_3_mean  Surface_dice_3_pvalue  \\\n",
       "0                   0.0                0.302                    0.0   \n",
       "1                   0.0                0.306                    0.0   \n",
       "\n",
       "   Sensitivity_3_mean  Sensitivity_3_pvalue  Specificity_3_mean  \\\n",
       "0               0.273                   0.0               0.999   \n",
       "1               0.286                   0.0               0.999   \n",
       "\n",
       "   Specificity_3_pvalue  Precision_3_mean  Precision_3_pvalue  \n",
       "0                   0.0             0.506                 0.0  \n",
       "1                   0.0             0.487                 0.0  "
      ]
     },
     "execution_count": 453,
     "metadata": {},
     "output_type": "execute_result"
    }
   ],
   "source": [
    "df = pd.DataFrame()\n",
    "\n",
    "exp_1 = 'metrics_gbm_1_reg_'\n",
    "exp_2 = 'metrics_gbm_1_reg_aug_'\n",
    "fold_isin = [0,1,2]\n",
    "columns = columns_3\n",
    "\n",
    "df_1 = result_df[(result_df['exp'] == exp_1)&(result_df['fold'].isin(fold_isin))].sort_values(['Ids']).drop(['Unnamed: 0'], axis = 1)\n",
    "df_2 = result_df[(result_df['exp'] == exp_2)&(result_df['fold'].isin(fold_isin))].sort_values(['Ids']).drop(['Unnamed: 0'], axis = 1)\n",
    "\n",
    "\n",
    "for metric in columns:\n",
    "    table = pd.DataFrame()\n",
    "    table = table.append({\n",
    "                  f'{metric}_mean': np.round(df_1[metric].astype('float').mean(),3),\n",
    "#                  f'{metric}_std':np.round(df_1[metric].std(),3),\n",
    "                 f'{metric}_pvalue': np.round(scipy.stats.wilcoxon(df_1[metric], df_2[metric], correction= 8)[1],4)},\n",
    "                ignore_index = True)\n",
    "    table = table.append({\n",
    "    \n",
    "                  f'{metric}_mean': np.round(df_2[metric].astype('float').mean(),3),\n",
    "#                  f'{metric}_std': np.round(df_2[metric].std(),3),\n",
    "                 f'{metric}_pvalue': np.round(scipy.stats.wilcoxon(df_1[metric], df_2[metric], correction= 8)[1],4)},\n",
    "                ignore_index = True)\n",
    "    df = pd.concat([df,table],  axis =1)\n",
    "df['exp'] = ''\n",
    "df['exp'].loc[0] = exp_1\n",
    "df['exp'].loc[1] = exp_2\n",
    "\n",
    "cols = df.columns.tolist()\n",
    "cols = cols[-1:] + cols[:-1]\n",
    "df[cols]"
   ]
  },
  {
   "cell_type": "code",
   "execution_count": 504,
   "metadata": {},
   "outputs": [
    {
     "data": {
      "text/plain": [
       "0.505852344319637"
      ]
     },
     "execution_count": 504,
     "metadata": {},
     "output_type": "execute_result"
    }
   ],
   "source": [
    "df_1[metric][df_1[metric].notna()].mean()"
   ]
  },
  {
   "cell_type": "code",
   "execution_count": 41,
   "metadata": {},
   "outputs": [
    {
     "ename": "NameError",
     "evalue": "name 'columns_1' is not defined",
     "output_type": "error",
     "traceback": [
      "\u001b[0;31m---------------------------------------------------------------------------\u001b[0m",
      "\u001b[0;31mNameError\u001b[0m                                 Traceback (most recent call last)",
      "\u001b[0;32m/tmp/ipykernel_2655907/4030789368.py\u001b[0m in \u001b[0;36m<module>\u001b[0;34m\u001b[0m\n\u001b[1;32m      3\u001b[0m             \u001b[0mexp_2\u001b[0m \u001b[0;34m=\u001b[0m \u001b[0;34m'metrics_gbm_1_reg_aug_'\u001b[0m\u001b[0;34m,\u001b[0m\u001b[0;34m\u001b[0m\u001b[0;34m\u001b[0m\u001b[0m\n\u001b[1;32m      4\u001b[0m             \u001b[0mfold_isin\u001b[0m \u001b[0;34m=\u001b[0m \u001b[0;34m[\u001b[0m\u001b[0;36m0\u001b[0m\u001b[0;34m,\u001b[0m\u001b[0;36m1\u001b[0m\u001b[0;34m,\u001b[0m\u001b[0;36m2\u001b[0m\u001b[0;34m]\u001b[0m\u001b[0;34m,\u001b[0m\u001b[0;34m\u001b[0m\u001b[0;34m\u001b[0m\u001b[0m\n\u001b[0;32m----> 5\u001b[0;31m             columns = columns_1, result_df = result_df):\n\u001b[0m\u001b[1;32m      6\u001b[0m \u001b[0;34m\u001b[0m\u001b[0m\n\u001b[1;32m      7\u001b[0m     \u001b[0mdf_1\u001b[0m \u001b[0;34m=\u001b[0m \u001b[0mresult_df\u001b[0m\u001b[0;34m[\u001b[0m\u001b[0;34m(\u001b[0m\u001b[0mresult_df\u001b[0m\u001b[0;34m[\u001b[0m\u001b[0;34m'exp'\u001b[0m\u001b[0;34m]\u001b[0m \u001b[0;34m==\u001b[0m \u001b[0mexp_1\u001b[0m\u001b[0;34m)\u001b[0m\u001b[0;34m&\u001b[0m\u001b[0;34m(\u001b[0m\u001b[0mresult_df\u001b[0m\u001b[0;34m[\u001b[0m\u001b[0;34m'fold'\u001b[0m\u001b[0;34m]\u001b[0m\u001b[0;34m.\u001b[0m\u001b[0misin\u001b[0m\u001b[0;34m(\u001b[0m\u001b[0mfold_isin\u001b[0m\u001b[0;34m)\u001b[0m\u001b[0;34m)\u001b[0m\u001b[0;34m]\u001b[0m\u001b[0;34m.\u001b[0m\u001b[0msort_values\u001b[0m\u001b[0;34m(\u001b[0m\u001b[0;34m[\u001b[0m\u001b[0;34m'Ids'\u001b[0m\u001b[0;34m]\u001b[0m\u001b[0;34m)\u001b[0m\u001b[0;34m.\u001b[0m\u001b[0mdrop\u001b[0m\u001b[0;34m(\u001b[0m\u001b[0;34m[\u001b[0m\u001b[0;34m'Unnamed: 0'\u001b[0m\u001b[0;34m]\u001b[0m\u001b[0;34m,\u001b[0m \u001b[0maxis\u001b[0m \u001b[0;34m=\u001b[0m \u001b[0;36m1\u001b[0m\u001b[0;34m)\u001b[0m\u001b[0;34m\u001b[0m\u001b[0;34m\u001b[0m\u001b[0m\n",
      "\u001b[0;31mNameError\u001b[0m: name 'columns_1' is not defined"
     ]
    }
   ],
   "source": [
    "import scipy\n",
    "def make_pivot(exp_1 = 'metrics_gbm_1_reg_',\n",
    "            exp_2 = 'metrics_gbm_1_reg_aug_',\n",
    "            fold_isin = [0,1,2],\n",
    "            columns = columns_1, result_df = result_df):\n",
    "    \n",
    "    df_1 = result_df[(result_df['exp'] == exp_1)&(result_df['fold'].isin(fold_isin))].sort_values(['Ids']).drop(['Unnamed: 0'], axis = 1)\n",
    "    df_2 = result_df[(result_df['exp'] == exp_2)&(result_df['fold'].isin(fold_isin))].sort_values(['Ids']).drop(['Unnamed: 0'], axis = 1)\n",
    "\n",
    "    df = pd.DataFrame()\n",
    "    for metric in columns:\n",
    "        table = pd.DataFrame()\n",
    "        table = table.append({\n",
    "                      f'{metric}_mean': np.round(df_1[metric][df_1[metric].notna()].mean(),3),\n",
    "#                      f'{metric}_std':np.round(df_1[metric].std(),3),\n",
    "                     f'{metric}_pvalue': np.round(scipy.stats.wilcoxon(df_1[metric], df_2[metric], correction= 8)[1],3)},\n",
    "                    ignore_index = True)\n",
    "        table = table.append({\n",
    "\n",
    "                      f'{metric}_mean': np.round(df_2[metric][df_2[metric].notna()].mean(),3),\n",
    "#                      f'{metric}_std': np.round(df_2[metric].std(),3),\n",
    "                     f'{metric}_pvalue': np.round(scipy.stats.wilcoxon(df_1[metric], df_2[metric], correction= 8)[1],3)},\n",
    "                    ignore_index = True)\n",
    "        df = pd.concat([df,table],  axis =1)\n",
    "    df['exp'] = ''\n",
    "    df['exp'].loc[0] = exp_1\n",
    "    df['exp'].loc[1] = exp_2\n",
    "\n",
    "    cols = df.columns.tolist()\n",
    "    cols = cols[-1:] + cols[:-1]\n",
    "    return df[cols]"
   ]
  },
  {
   "cell_type": "code",
   "execution_count": 38,
   "metadata": {},
   "outputs": [
    {
     "ename": "NameError",
     "evalue": "name 'result_df' is not defined",
     "output_type": "error",
     "traceback": [
      "\u001b[0;31m---------------------------------------------------------------------------\u001b[0m",
      "\u001b[0;31mNameError\u001b[0m                                 Traceback (most recent call last)",
      "\u001b[0;32m/tmp/ipykernel_2655907/3662165867.py\u001b[0m in \u001b[0;36m<module>\u001b[0;34m\u001b[0m\n\u001b[0;32m----> 1\u001b[0;31m \u001b[0mresult_df\u001b[0m\u001b[0;34m.\u001b[0m\u001b[0mexp\u001b[0m\u001b[0;34m.\u001b[0m\u001b[0mvalue_counts\u001b[0m\u001b[0;34m(\u001b[0m\u001b[0;34m)\u001b[0m\u001b[0;34m\u001b[0m\u001b[0;34m\u001b[0m\u001b[0m\n\u001b[0m",
      "\u001b[0;31mNameError\u001b[0m: name 'result_df' is not defined"
     ]
    }
   ],
   "source": [
    "result_df.exp.value_counts()"
   ]
  },
  {
   "cell_type": "code",
   "execution_count": 39,
   "metadata": {},
   "outputs": [
    {
     "ename": "NameError",
     "evalue": "name 'result_df' is not defined",
     "output_type": "error",
     "traceback": [
      "\u001b[0;31m---------------------------------------------------------------------------\u001b[0m",
      "\u001b[0;31mNameError\u001b[0m                                 Traceback (most recent call last)",
      "\u001b[0;32m/tmp/ipykernel_2655907/1903007571.py\u001b[0m in \u001b[0;36m<module>\u001b[0;34m\u001b[0m\n\u001b[0;32m----> 1\u001b[0;31m \u001b[0mresult_df_1\u001b[0m \u001b[0;34m=\u001b[0m \u001b[0mresult_df\u001b[0m\u001b[0;34m\u001b[0m\u001b[0;34m\u001b[0m\u001b[0m\n\u001b[0m\u001b[1;32m      2\u001b[0m \u001b[0mresult_df\u001b[0m\u001b[0;34m.\u001b[0m\u001b[0mexp\u001b[0m\u001b[0;34m.\u001b[0m\u001b[0mvalue_counts\u001b[0m\u001b[0;34m(\u001b[0m\u001b[0;34m)\u001b[0m\u001b[0;34m\u001b[0m\u001b[0;34m\u001b[0m\u001b[0m\n",
      "\u001b[0;31mNameError\u001b[0m: name 'result_df' is not defined"
     ]
    }
   ],
   "source": [
    "result_df_1 = result_df\n",
    "result_df.exp.value_counts()"
   ]
  },
  {
   "cell_type": "code",
   "execution_count": 40,
   "metadata": {},
   "outputs": [
    {
     "ename": "NameError",
     "evalue": "name 'make_pivot' is not defined",
     "output_type": "error",
     "traceback": [
      "\u001b[0;31m---------------------------------------------------------------------------\u001b[0m",
      "\u001b[0;31mNameError\u001b[0m                                 Traceback (most recent call last)",
      "\u001b[0;32m/tmp/ipykernel_2655907/957790215.py\u001b[0m in \u001b[0;36m<module>\u001b[0;34m\u001b[0m\n\u001b[0;32m----> 1\u001b[0;31m make_pivot(exp_1 = '3a_atlas_',\n\u001b[0m\u001b[1;32m      2\u001b[0m             \u001b[0mexp_2\u001b[0m \u001b[0;34m=\u001b[0m \u001b[0;34m'6_hist_'\u001b[0m\u001b[0;34m,\u001b[0m\u001b[0;34m\u001b[0m\u001b[0;34m\u001b[0m\u001b[0m\n\u001b[1;32m      3\u001b[0m             \u001b[0mfold_isin\u001b[0m \u001b[0;34m=\u001b[0m \u001b[0;34m[\u001b[0m\u001b[0;36m0\u001b[0m\u001b[0;34m,\u001b[0m\u001b[0;36m1\u001b[0m\u001b[0;34m,\u001b[0m\u001b[0;36m2\u001b[0m\u001b[0;34m]\u001b[0m\u001b[0;34m,\u001b[0m\u001b[0;34m\u001b[0m\u001b[0;34m\u001b[0m\u001b[0m\n\u001b[1;32m      4\u001b[0m             columns = columns_3, result_df = result_df)\n",
      "\u001b[0;31mNameError\u001b[0m: name 'make_pivot' is not defined"
     ]
    }
   ],
   "source": [
    "make_pivot(exp_1 = '3a_atlas_',\n",
    "            exp_2 = '6_hist_',\n",
    "            fold_isin = [0,1,2],\n",
    "            columns = columns_3, result_df = result_df)"
   ]
  },
  {
   "cell_type": "code",
   "execution_count": 545,
   "metadata": {},
   "outputs": [
    {
     "name": "stderr",
     "output_type": "stream",
     "text": [
      "/home/kate/miniconda3/lib/python3.9/site-packages/scipy/stats/morestats.py:3130: RuntimeWarning: invalid value encountered in subtract\n",
      "  d = x - y\n",
      "/home/kate/miniconda3/lib/python3.9/site-packages/pandas/core/indexing.py:1732: SettingWithCopyWarning: \n",
      "A value is trying to be set on a copy of a slice from a DataFrame\n",
      "\n",
      "See the caveats in the documentation: https://pandas.pydata.org/pandas-docs/stable/user_guide/indexing.html#returning-a-view-versus-a-copy\n",
      "  self._setitem_single_block(indexer, value, name)\n"
     ]
    },
    {
     "data": {
      "text/html": [
       "<div>\n",
       "<style scoped>\n",
       "    .dataframe tbody tr th:only-of-type {\n",
       "        vertical-align: middle;\n",
       "    }\n",
       "\n",
       "    .dataframe tbody tr th {\n",
       "        vertical-align: top;\n",
       "    }\n",
       "\n",
       "    .dataframe thead th {\n",
       "        text-align: right;\n",
       "    }\n",
       "</style>\n",
       "<table border=\"1\" class=\"dataframe\">\n",
       "  <thead>\n",
       "    <tr style=\"text-align: right;\">\n",
       "      <th></th>\n",
       "      <th>exp</th>\n",
       "      <th>Dice_3_mean</th>\n",
       "      <th>Dice_3_pvalue</th>\n",
       "      <th>Hausdorff95_3_mean</th>\n",
       "      <th>Hausdorff95_3_pvalue</th>\n",
       "      <th>Surface_dice_3_mean</th>\n",
       "      <th>Surface_dice_3_pvalue</th>\n",
       "      <th>Sensitivity_3_mean</th>\n",
       "      <th>Sensitivity_3_pvalue</th>\n",
       "      <th>Specificity_3_mean</th>\n",
       "      <th>Specificity_3_pvalue</th>\n",
       "      <th>Precision_3_mean</th>\n",
       "      <th>Precision_3_pvalue</th>\n",
       "    </tr>\n",
       "  </thead>\n",
       "  <tbody>\n",
       "    <tr>\n",
       "      <th>0</th>\n",
       "      <td>3a_atlas_</td>\n",
       "      <td>0.596</td>\n",
       "      <td>0.477</td>\n",
       "      <td>inf</td>\n",
       "      <td>0.13</td>\n",
       "      <td>0.585</td>\n",
       "      <td>0.957</td>\n",
       "      <td>0.525</td>\n",
       "      <td>0.099</td>\n",
       "      <td>0.999</td>\n",
       "      <td>0.42</td>\n",
       "      <td>0.796</td>\n",
       "      <td>0.779</td>\n",
       "    </tr>\n",
       "    <tr>\n",
       "      <th>1</th>\n",
       "      <td>5_ss_mask_native_</td>\n",
       "      <td>0.597</td>\n",
       "      <td>0.477</td>\n",
       "      <td>inf</td>\n",
       "      <td>0.13</td>\n",
       "      <td>0.585</td>\n",
       "      <td>0.957</td>\n",
       "      <td>0.525</td>\n",
       "      <td>0.099</td>\n",
       "      <td>0.999</td>\n",
       "      <td>0.42</td>\n",
       "      <td>0.796</td>\n",
       "      <td>0.779</td>\n",
       "    </tr>\n",
       "  </tbody>\n",
       "</table>\n",
       "</div>"
      ],
      "text/plain": [
       "                 exp  Dice_3_mean  Dice_3_pvalue  Hausdorff95_3_mean  \\\n",
       "0          3a_atlas_        0.596          0.477                 inf   \n",
       "1  5_ss_mask_native_        0.597          0.477                 inf   \n",
       "\n",
       "   Hausdorff95_3_pvalue  Surface_dice_3_mean  Surface_dice_3_pvalue  \\\n",
       "0                  0.13                0.585                  0.957   \n",
       "1                  0.13                0.585                  0.957   \n",
       "\n",
       "   Sensitivity_3_mean  Sensitivity_3_pvalue  Specificity_3_mean  \\\n",
       "0               0.525                 0.099               0.999   \n",
       "1               0.525                 0.099               0.999   \n",
       "\n",
       "   Specificity_3_pvalue  Precision_3_mean  Precision_3_pvalue  \n",
       "0                  0.42             0.796               0.779  \n",
       "1                  0.42             0.796               0.779  "
      ]
     },
     "execution_count": 545,
     "metadata": {},
     "output_type": "execute_result"
    }
   ],
   "source": [
    "make_pivot(exp_1 = '3a_atlas_',\n",
    "            exp_2 = '5_ss_mask_native_',\n",
    "            fold_isin = [0,1,2],\n",
    "            columns = columns_3, result_df = result_df)"
   ]
  },
  {
   "cell_type": "code",
   "execution_count": 550,
   "metadata": {},
   "outputs": [
    {
     "name": "stderr",
     "output_type": "stream",
     "text": [
      "/home/kate/miniconda3/lib/python3.9/site-packages/scipy/stats/morestats.py:3130: RuntimeWarning: invalid value encountered in subtract\n",
      "  d = x - y\n",
      "/home/kate/miniconda3/lib/python3.9/site-packages/pandas/core/indexing.py:1732: SettingWithCopyWarning: \n",
      "A value is trying to be set on a copy of a slice from a DataFrame\n",
      "\n",
      "See the caveats in the documentation: https://pandas.pydata.org/pandas-docs/stable/user_guide/indexing.html#returning-a-view-versus-a-copy\n",
      "  self._setitem_single_block(indexer, value, name)\n"
     ]
    },
    {
     "data": {
      "text/html": [
       "<div>\n",
       "<style scoped>\n",
       "    .dataframe tbody tr th:only-of-type {\n",
       "        vertical-align: middle;\n",
       "    }\n",
       "\n",
       "    .dataframe tbody tr th {\n",
       "        vertical-align: top;\n",
       "    }\n",
       "\n",
       "    .dataframe thead th {\n",
       "        text-align: right;\n",
       "    }\n",
       "</style>\n",
       "<table border=\"1\" class=\"dataframe\">\n",
       "  <thead>\n",
       "    <tr style=\"text-align: right;\">\n",
       "      <th></th>\n",
       "      <th>exp</th>\n",
       "      <th>Dice_3_mean</th>\n",
       "      <th>Dice_3_pvalue</th>\n",
       "      <th>Hausdorff95_3_mean</th>\n",
       "      <th>Hausdorff95_3_pvalue</th>\n",
       "      <th>Surface_dice_3_mean</th>\n",
       "      <th>Surface_dice_3_pvalue</th>\n",
       "      <th>Sensitivity_3_mean</th>\n",
       "      <th>Sensitivity_3_pvalue</th>\n",
       "      <th>Specificity_3_mean</th>\n",
       "      <th>Specificity_3_pvalue</th>\n",
       "      <th>Precision_3_mean</th>\n",
       "      <th>Precision_3_pvalue</th>\n",
       "    </tr>\n",
       "  </thead>\n",
       "  <tbody>\n",
       "    <tr>\n",
       "      <th>0</th>\n",
       "      <td>3a_atlas_</td>\n",
       "      <td>0.596</td>\n",
       "      <td>0.413</td>\n",
       "      <td>inf</td>\n",
       "      <td>0.245</td>\n",
       "      <td>0.585</td>\n",
       "      <td>0.419</td>\n",
       "      <td>0.525</td>\n",
       "      <td>0.071</td>\n",
       "      <td>0.999</td>\n",
       "      <td>0.058</td>\n",
       "      <td>0.796</td>\n",
       "      <td>0.214</td>\n",
       "    </tr>\n",
       "    <tr>\n",
       "      <th>1</th>\n",
       "      <td>5_ss_</td>\n",
       "      <td>0.603</td>\n",
       "      <td>0.413</td>\n",
       "      <td>inf</td>\n",
       "      <td>0.245</td>\n",
       "      <td>0.584</td>\n",
       "      <td>0.419</td>\n",
       "      <td>0.521</td>\n",
       "      <td>0.071</td>\n",
       "      <td>0.999</td>\n",
       "      <td>0.058</td>\n",
       "      <td>0.785</td>\n",
       "      <td>0.214</td>\n",
       "    </tr>\n",
       "  </tbody>\n",
       "</table>\n",
       "</div>"
      ],
      "text/plain": [
       "         exp  Dice_3_mean  Dice_3_pvalue  Hausdorff95_3_mean  \\\n",
       "0  3a_atlas_        0.596          0.413                 inf   \n",
       "1      5_ss_        0.603          0.413                 inf   \n",
       "\n",
       "   Hausdorff95_3_pvalue  Surface_dice_3_mean  Surface_dice_3_pvalue  \\\n",
       "0                 0.245                0.585                  0.419   \n",
       "1                 0.245                0.584                  0.419   \n",
       "\n",
       "   Sensitivity_3_mean  Sensitivity_3_pvalue  Specificity_3_mean  \\\n",
       "0               0.525                 0.071               0.999   \n",
       "1               0.521                 0.071               0.999   \n",
       "\n",
       "   Specificity_3_pvalue  Precision_3_mean  Precision_3_pvalue  \n",
       "0                 0.058             0.796               0.214  \n",
       "1                 0.058             0.785               0.214  "
      ]
     },
     "execution_count": 550,
     "metadata": {},
     "output_type": "execute_result"
    }
   ],
   "source": [
    "make_pivot(exp_1 = '3a_atlas_',\n",
    "            exp_2 = '5_ss_',\n",
    "            fold_isin = [0,1,2],\n",
    "            columns = columns_3, result_df = result_df)"
   ]
  },
  {
   "cell_type": "code",
   "execution_count": 516,
   "metadata": {},
   "outputs": [
    {
     "name": "stderr",
     "output_type": "stream",
     "text": [
      "/home/kate/miniconda3/lib/python3.9/site-packages/pandas/core/indexing.py:1732: SettingWithCopyWarning: \n",
      "A value is trying to be set on a copy of a slice from a DataFrame\n",
      "\n",
      "See the caveats in the documentation: https://pandas.pydata.org/pandas-docs/stable/user_guide/indexing.html#returning-a-view-versus-a-copy\n",
      "  self._setitem_single_block(indexer, value, name)\n"
     ]
    },
    {
     "data": {
      "text/html": [
       "<div>\n",
       "<style scoped>\n",
       "    .dataframe tbody tr th:only-of-type {\n",
       "        vertical-align: middle;\n",
       "    }\n",
       "\n",
       "    .dataframe tbody tr th {\n",
       "        vertical-align: top;\n",
       "    }\n",
       "\n",
       "    .dataframe thead th {\n",
       "        text-align: right;\n",
       "    }\n",
       "</style>\n",
       "<table border=\"1\" class=\"dataframe\">\n",
       "  <thead>\n",
       "    <tr style=\"text-align: right;\">\n",
       "      <th></th>\n",
       "      <th>exp</th>\n",
       "      <th>Dice_1_mean</th>\n",
       "      <th>Dice_1_pvalue</th>\n",
       "      <th>Hausdorff95_1_mean</th>\n",
       "      <th>Hausdorff95_1_pvalue</th>\n",
       "      <th>Surface_dice_1_mean</th>\n",
       "      <th>Surface_dice_1_pvalue</th>\n",
       "      <th>Sensitivity_1_mean</th>\n",
       "      <th>Sensitivity_1_pvalue</th>\n",
       "      <th>Specificity_1_mean</th>\n",
       "      <th>Specificity_1_pvalue</th>\n",
       "      <th>Precision_1_mean</th>\n",
       "      <th>Precision_1_pvalue</th>\n",
       "    </tr>\n",
       "  </thead>\n",
       "  <tbody>\n",
       "    <tr>\n",
       "      <th>0</th>\n",
       "      <td>metrics_gbm_3a_atlas_</td>\n",
       "      <td>0.848</td>\n",
       "      <td>0.009</td>\n",
       "      <td>17.186</td>\n",
       "      <td>0.012</td>\n",
       "      <td>0.654</td>\n",
       "      <td>0.003</td>\n",
       "      <td>0.867</td>\n",
       "      <td>0.142</td>\n",
       "      <td>0.998</td>\n",
       "      <td>0.087</td>\n",
       "      <td>0.847</td>\n",
       "      <td>0.147</td>\n",
       "    </tr>\n",
       "    <tr>\n",
       "      <th>1</th>\n",
       "      <td>metrics_gbm_5_ss_shared_</td>\n",
       "      <td>0.860</td>\n",
       "      <td>0.009</td>\n",
       "      <td>11.767</td>\n",
       "      <td>0.012</td>\n",
       "      <td>0.689</td>\n",
       "      <td>0.003</td>\n",
       "      <td>0.875</td>\n",
       "      <td>0.142</td>\n",
       "      <td>0.998</td>\n",
       "      <td>0.087</td>\n",
       "      <td>0.857</td>\n",
       "      <td>0.147</td>\n",
       "    </tr>\n",
       "  </tbody>\n",
       "</table>\n",
       "</div>"
      ],
      "text/plain": [
       "                        exp  Dice_1_mean  Dice_1_pvalue  Hausdorff95_1_mean  \\\n",
       "0     metrics_gbm_3a_atlas_        0.848          0.009              17.186   \n",
       "1  metrics_gbm_5_ss_shared_        0.860          0.009              11.767   \n",
       "\n",
       "   Hausdorff95_1_pvalue  Surface_dice_1_mean  Surface_dice_1_pvalue  \\\n",
       "0                 0.012                0.654                  0.003   \n",
       "1                 0.012                0.689                  0.003   \n",
       "\n",
       "   Sensitivity_1_mean  Sensitivity_1_pvalue  Specificity_1_mean  \\\n",
       "0               0.867                 0.142               0.998   \n",
       "1               0.875                 0.142               0.998   \n",
       "\n",
       "   Specificity_1_pvalue  Precision_1_mean  Precision_1_pvalue  \n",
       "0                 0.087             0.847               0.147  \n",
       "1                 0.087             0.857               0.147  "
      ]
     },
     "execution_count": 516,
     "metadata": {},
     "output_type": "execute_result"
    }
   ],
   "source": [
    "make_pivot(exp_1 = 'metrics_gbm_3a_atlas_',\n",
    "            exp_2 = 'metrics_gbm_5_ss_shared_',\n",
    "            fold_isin = [1,2],\n",
    "            columns = columns_1, result_df = result_df_1)"
   ]
  },
  {
   "cell_type": "code",
   "execution_count": 494,
   "metadata": {},
   "outputs": [
    {
     "name": "stderr",
     "output_type": "stream",
     "text": [
      "/home/kate/miniconda3/lib/python3.9/site-packages/pandas/core/indexing.py:1732: SettingWithCopyWarning: \n",
      "A value is trying to be set on a copy of a slice from a DataFrame\n",
      "\n",
      "See the caveats in the documentation: https://pandas.pydata.org/pandas-docs/stable/user_guide/indexing.html#returning-a-view-versus-a-copy\n",
      "  self._setitem_single_block(indexer, value, name)\n"
     ]
    },
    {
     "data": {
      "text/html": [
       "<div>\n",
       "<style scoped>\n",
       "    .dataframe tbody tr th:only-of-type {\n",
       "        vertical-align: middle;\n",
       "    }\n",
       "\n",
       "    .dataframe tbody tr th {\n",
       "        vertical-align: top;\n",
       "    }\n",
       "\n",
       "    .dataframe thead th {\n",
       "        text-align: right;\n",
       "    }\n",
       "</style>\n",
       "<table border=\"1\" class=\"dataframe\">\n",
       "  <thead>\n",
       "    <tr style=\"text-align: right;\">\n",
       "      <th></th>\n",
       "      <th>exp</th>\n",
       "      <th>Dice_1_mean</th>\n",
       "      <th>Dice_1_pvalue</th>\n",
       "      <th>Hausdorff95_1_mean</th>\n",
       "      <th>Hausdorff95_1_pvalue</th>\n",
       "      <th>Surface_dice_1_mean</th>\n",
       "      <th>Surface_dice_1_pvalue</th>\n",
       "      <th>Sensitivity_1_mean</th>\n",
       "      <th>Sensitivity_1_pvalue</th>\n",
       "      <th>Specificity_1_mean</th>\n",
       "      <th>Specificity_1_pvalue</th>\n",
       "      <th>Precision_1_mean</th>\n",
       "      <th>Precision_1_pvalue</th>\n",
       "    </tr>\n",
       "  </thead>\n",
       "  <tbody>\n",
       "    <tr>\n",
       "      <th>0</th>\n",
       "      <td>metrics_gbm_3a_atlas_aug_300_</td>\n",
       "      <td>0.862</td>\n",
       "      <td>0.53</td>\n",
       "      <td>10.339</td>\n",
       "      <td>0.595</td>\n",
       "      <td>0.686</td>\n",
       "      <td>0.207</td>\n",
       "      <td>0.861</td>\n",
       "      <td>0.0</td>\n",
       "      <td>0.999</td>\n",
       "      <td>0.142</td>\n",
       "      <td>0.879</td>\n",
       "      <td>0.001</td>\n",
       "    </tr>\n",
       "    <tr>\n",
       "      <th>1</th>\n",
       "      <td>metrics_gbm_7a_resample_aug_300_</td>\n",
       "      <td>0.863</td>\n",
       "      <td>0.53</td>\n",
       "      <td>11.160</td>\n",
       "      <td>0.595</td>\n",
       "      <td>0.681</td>\n",
       "      <td>0.207</td>\n",
       "      <td>0.854</td>\n",
       "      <td>0.0</td>\n",
       "      <td>0.999</td>\n",
       "      <td>0.142</td>\n",
       "      <td>0.886</td>\n",
       "      <td>0.001</td>\n",
       "    </tr>\n",
       "  </tbody>\n",
       "</table>\n",
       "</div>"
      ],
      "text/plain": [
       "                                exp  Dice_1_mean  Dice_1_pvalue  \\\n",
       "0     metrics_gbm_3a_atlas_aug_300_        0.862           0.53   \n",
       "1  metrics_gbm_7a_resample_aug_300_        0.863           0.53   \n",
       "\n",
       "   Hausdorff95_1_mean  Hausdorff95_1_pvalue  Surface_dice_1_mean  \\\n",
       "0              10.339                 0.595                0.686   \n",
       "1              11.160                 0.595                0.681   \n",
       "\n",
       "   Surface_dice_1_pvalue  Sensitivity_1_mean  Sensitivity_1_pvalue  \\\n",
       "0                  0.207               0.861                   0.0   \n",
       "1                  0.207               0.854                   0.0   \n",
       "\n",
       "   Specificity_1_mean  Specificity_1_pvalue  Precision_1_mean  \\\n",
       "0               0.999                 0.142             0.879   \n",
       "1               0.999                 0.142             0.886   \n",
       "\n",
       "   Precision_1_pvalue  \n",
       "0               0.001  \n",
       "1               0.001  "
      ]
     },
     "execution_count": 494,
     "metadata": {},
     "output_type": "execute_result"
    }
   ],
   "source": [
    "make_pivot(exp_1 = 'metrics_gbm_3a_atlas_aug_300_',\n",
    "            exp_2 = 'metrics_gbm_7a_resample_aug_300_',\n",
    "            fold_isin = [0,2,1],\n",
    "            columns = columns_1, result_df = result_df)"
   ]
  },
  {
   "cell_type": "code",
   "execution_count": 437,
   "metadata": {},
   "outputs": [
    {
     "name": "stderr",
     "output_type": "stream",
     "text": [
      "/home/kate/miniconda3/lib/python3.9/site-packages/scipy/stats/morestats.py:3130: RuntimeWarning: invalid value encountered in subtract\n",
      "  d = x - y\n",
      "/home/kate/miniconda3/lib/python3.9/site-packages/pandas/core/indexing.py:1732: SettingWithCopyWarning: \n",
      "A value is trying to be set on a copy of a slice from a DataFrame\n",
      "\n",
      "See the caveats in the documentation: https://pandas.pydata.org/pandas-docs/stable/user_guide/indexing.html#returning-a-view-versus-a-copy\n",
      "  self._setitem_single_block(indexer, value, name)\n"
     ]
    },
    {
     "data": {
      "text/html": [
       "<div>\n",
       "<style scoped>\n",
       "    .dataframe tbody tr th:only-of-type {\n",
       "        vertical-align: middle;\n",
       "    }\n",
       "\n",
       "    .dataframe tbody tr th {\n",
       "        vertical-align: top;\n",
       "    }\n",
       "\n",
       "    .dataframe thead th {\n",
       "        text-align: right;\n",
       "    }\n",
       "</style>\n",
       "<table border=\"1\" class=\"dataframe\">\n",
       "  <thead>\n",
       "    <tr style=\"text-align: right;\">\n",
       "      <th></th>\n",
       "      <th>exp</th>\n",
       "      <th>Dice_2_mean</th>\n",
       "      <th>Dice_2_pvalue</th>\n",
       "      <th>Hausdorff95_2_mean</th>\n",
       "      <th>Hausdorff95_2_pvalue</th>\n",
       "      <th>Surface_dice_2_mean</th>\n",
       "      <th>Surface_dice_2_pvalue</th>\n",
       "      <th>Sensitivity_2_mean</th>\n",
       "      <th>Sensitivity_2_pvalue</th>\n",
       "      <th>Specificity_2_mean</th>\n",
       "      <th>Specificity_2_pvalue</th>\n",
       "      <th>Precision_2_mean</th>\n",
       "      <th>Precision_2_pvalue</th>\n",
       "    </tr>\n",
       "  </thead>\n",
       "  <tbody>\n",
       "    <tr>\n",
       "      <th>0</th>\n",
       "      <td>3a_atlas_aug_</td>\n",
       "      <td>0.626</td>\n",
       "      <td>0.0</td>\n",
       "      <td>inf</td>\n",
       "      <td>0.0</td>\n",
       "      <td>0.320</td>\n",
       "      <td>0.0</td>\n",
       "      <td>0.839</td>\n",
       "      <td>0.0</td>\n",
       "      <td>0.996</td>\n",
       "      <td>0.0</td>\n",
       "      <td>0.533</td>\n",
       "      <td>0.0</td>\n",
       "    </tr>\n",
       "    <tr>\n",
       "      <th>1</th>\n",
       "      <td>4a_resamp_aug_</td>\n",
       "      <td>0.685</td>\n",
       "      <td>0.0</td>\n",
       "      <td>inf</td>\n",
       "      <td>0.0</td>\n",
       "      <td>0.397</td>\n",
       "      <td>0.0</td>\n",
       "      <td>0.824</td>\n",
       "      <td>0.0</td>\n",
       "      <td>0.998</td>\n",
       "      <td>0.0</td>\n",
       "      <td>0.630</td>\n",
       "      <td>0.0</td>\n",
       "    </tr>\n",
       "  </tbody>\n",
       "</table>\n",
       "</div>"
      ],
      "text/plain": [
       "              exp  Dice_2_mean  Dice_2_pvalue  Hausdorff95_2_mean  \\\n",
       "0   3a_atlas_aug_        0.626            0.0                 inf   \n",
       "1  4a_resamp_aug_        0.685            0.0                 inf   \n",
       "\n",
       "   Hausdorff95_2_pvalue  Surface_dice_2_mean  Surface_dice_2_pvalue  \\\n",
       "0                   0.0                0.320                    0.0   \n",
       "1                   0.0                0.397                    0.0   \n",
       "\n",
       "   Sensitivity_2_mean  Sensitivity_2_pvalue  Specificity_2_mean  \\\n",
       "0               0.839                   0.0               0.996   \n",
       "1               0.824                   0.0               0.998   \n",
       "\n",
       "   Specificity_2_pvalue  Precision_2_mean  Precision_2_pvalue  \n",
       "0                   0.0             0.533                 0.0  \n",
       "1                   0.0             0.630                 0.0  "
      ]
     },
     "execution_count": 437,
     "metadata": {},
     "output_type": "execute_result"
    }
   ],
   "source": [
    "make_pivot(exp_1 = '3a_atlas_aug_',\n",
    "            exp_2 = '4a_resamp_aug_',\n",
    "            fold_isin = [0,1,2],\n",
    "            columns = columns_2, result_df = result_df)"
   ]
  },
  {
   "cell_type": "markdown",
   "metadata": {},
   "source": [
    "### Import statistics"
   ]
  },
  {
   "cell_type": "code",
   "execution_count": 517,
   "metadata": {},
   "outputs": [],
   "source": [
    "meta = pd.read_csv('metadata_gbm.csv')"
   ]
  },
  {
   "cell_type": "code",
   "execution_count": 519,
   "metadata": {},
   "outputs": [
    {
     "data": {
      "text/plain": [
       "GE MEDICAL SYSTEMS         464\n",
       "SIEMENS                    192\n",
       "Philips Medical Systems    112\n",
       "General Electric             8\n",
       "Name: Manufacturer, dtype: int64"
      ]
     },
     "execution_count": 519,
     "metadata": {},
     "output_type": "execute_result"
    }
   ],
   "source": [
    "meta['Manufacturer'].value_counts()"
   ]
  },
  {
   "cell_type": "code",
   "execution_count": 523,
   "metadata": {},
   "outputs": [
    {
     "data": {
      "text/plain": [
       "39"
      ]
     },
     "execution_count": 523,
     "metadata": {},
     "output_type": "execute_result"
    }
   ],
   "source": [
    "len(meta['Study Description'].value_counts())"
   ]
  },
  {
   "cell_type": "code",
   "execution_count": 284,
   "metadata": {},
   "outputs": [
    {
     "data": {
      "text/plain": [
       "0.3772654051652681"
      ]
     },
     "execution_count": 284,
     "metadata": {},
     "output_type": "execute_result"
    }
   ],
   "source": [
    "t_val, p_val = scipy.stats.wilcoxon(df_1['Dice_1'], df_2['Dice_1'], correction= 8)\n",
    "p_val"
   ]
  },
  {
   "cell_type": "code",
   "execution_count": null,
   "metadata": {},
   "outputs": [],
   "source": []
  }
 ],
 "metadata": {
  "kernelspec": {
   "display_name": "Python 3 (ipykernel)",
   "language": "python",
   "name": "python3"
  },
  "language_info": {
   "codemirror_mode": {
    "name": "ipython",
    "version": 3
   },
   "file_extension": ".py",
   "mimetype": "text/x-python",
   "name": "python",
   "nbconvert_exporter": "python",
   "pygments_lexer": "ipython3",
   "version": "3.9.1"
  }
 },
 "nbformat": 4,
 "nbformat_minor": 4
}
