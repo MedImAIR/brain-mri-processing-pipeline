{
 "cells": [
  {
   "cell_type": "code",
   "execution_count": 1,
   "metadata": {},
   "outputs": [],
   "source": [
    "import os, sys\n",
    "import numpy as np\n",
    "import ants\n",
    "import argparse\n",
    "import shutil\n",
    "import logging\n",
    "import subprocess\n",
    "import tqdm\n",
    "import matplotlib.pyplot as plt \n",
    "import pandas as pd"
   ]
  },
  {
   "cell_type": "code",
   "execution_count": 3,
   "metadata": {},
   "outputs": [
    {
     "data": {
      "text/plain": [
       "['TCGA-CS-6188',\n",
       " 'TCGA-DU-6401',\n",
       " 'TCGA-DU-7015',\n",
       " 'TCGA-CS-5393',\n",
       " 'TCGA-DU-8167',\n",
       " 'TCGA-DU-7306',\n",
       " 'TCGA-CS-4942',\n",
       " 'TCGA-CS-6186',\n",
       " 'TCGA-DU-8164',\n",
       " 'TCGA-DU-A5TP',\n",
       " 'TCGA-DU-6402',\n",
       " 'TCGA-CS-5395',\n",
       " 'TCGA-DU-7300',\n",
       " 'TCGA-CS-6670',\n",
       " 'TCGA-DU-6407',\n",
       " 'TCGA-DU-5852',\n",
       " 'TCGA-DU-6400',\n",
       " 'TCGA-DU-7301',\n",
       " 'TCGA-DU-7013',\n",
       " 'TCGA-DU-6404',\n",
       " 'TCGA-DU-8162',\n",
       " 'TCGA-DU-7299',\n",
       " 'TCGA-CS-6668',\n",
       " 'TCGA-DU-8168',\n",
       " 'TCGA-DU-5854',\n",
       " 'TCGA-CS-6666',\n",
       " 'TCGA-CS-5397',\n",
       " 'TCGA-DU-6397',\n",
       " 'TCGA-CS-4944',\n",
       " 'TCGA-DU-6399',\n",
       " 'TCGA-DU-6408',\n",
       " 'TCGA-DU-6542',\n",
       " 'TCGA-DU-8166',\n",
       " 'TCGA-DU-5872',\n",
       " 'TCGA-DU-8165',\n",
       " 'TCGA-DU-5853',\n",
       " 'TCGA-CS-6665',\n",
       " 'TCGA-DU-7019',\n",
       " 'TCGA-DU-7008',\n",
       " 'TCGA-DU-8163',\n",
       " 'TCGA-CS-4938',\n",
       " 'TCGA-CS-4941',\n",
       " 'TCGA-CS-6669',\n",
       " 'TCGA-DU-7298',\n",
       " 'TCGA-DU-6405',\n",
       " 'TCGA-CS-5390',\n",
       " 'TCGA-CS-6290',\n",
       " 'TCGA-DU-7018',\n",
       " 'TCGA-DU-6410',\n",
       " 'TCGA-DU-5855',\n",
       " 'TCGA-DU-5851',\n",
       " 'TCGA-DU-7010',\n",
       " 'TCGA-DU-5874',\n",
       " 'TCGA-DU-7309',\n",
       " 'TCGA-CS-5394',\n",
       " 'TCGA-DU-5871',\n",
       " 'TCGA-DU-7302',\n",
       " 'TCGA-DU-5849',\n",
       " 'TCGA-CS-5396',\n",
       " 'TCGA-DU-7294',\n",
       " 'TCGA-DU-8158',\n",
       " 'TCGA-DU-7304',\n",
       " 'TCGA-CS-6667',\n",
       " 'TCGA-CS-4943',\n",
       " 'TCGA-DU-7014',\n",
       " 'TCGA-DU-6395']"
      ]
     },
     "execution_count": 3,
     "metadata": {},
     "output_type": "execute_result"
    }
   ],
   "source": [
    "os.listdir('/anvar/public_datasets/preproc_study/lgg/orig')"
   ]
  },
  {
   "cell_type": "markdown",
   "metadata": {},
   "source": [
    "### I should think about tests\n",
    "1. We check that the datasets are not the dame after preproc\n",
    "2. We also check that labels are the same\n",
    "3. We check that the package is full, the mask is full"
   ]
  },
  {
   "cell_type": "code",
   "execution_count": 11,
   "metadata": {},
   "outputs": [
    {
     "data": {
      "text/plain": [
       "['VS-SEG-001', 'VS-SEG-002', 'logging.txt']"
      ]
     },
     "execution_count": 11,
     "metadata": {},
     "output_type": "execute_result"
    }
   ],
   "source": [
    "os.listdir('/anvar/public_datasets/preproc_study/schw/4b_n4')"
   ]
  },
  {
   "cell_type": "code",
   "execution_count": 7,
   "metadata": {},
   "outputs": [
    {
     "ename": "NotADirectoryError",
     "evalue": "[Errno 20] Not a directory: '/anvar/public_datasets/preproc_study/bgpd/orig/1360_18/T1.nii.gz'",
     "output_type": "error",
     "traceback": [
      "\u001b[0;31m---------------------------------------------------------------------------\u001b[0m",
      "\u001b[0;31mNotADirectoryError\u001b[0m                        Traceback (most recent call last)",
      "\u001b[0;32m/tmp/ipykernel_1949252/2226856916.py\u001b[0m in \u001b[0;36m<module>\u001b[0;34m\u001b[0m\n\u001b[0;32m----> 1\u001b[0;31m \u001b[0mos\u001b[0m\u001b[0;34m.\u001b[0m\u001b[0mlistdir\u001b[0m\u001b[0;34m(\u001b[0m\u001b[0;34m'/anvar/public_datasets/preproc_study/bgpd/orig/1360_18/T1.nii.gz'\u001b[0m\u001b[0;34m)\u001b[0m\u001b[0;34m\u001b[0m\u001b[0;34m\u001b[0m\u001b[0m\n\u001b[0m",
      "\u001b[0;31mNotADirectoryError\u001b[0m: [Errno 20] Not a directory: '/anvar/public_datasets/preproc_study/bgpd/orig/1360_18/T1.nii.gz'"
     ]
    }
   ],
   "source": [
    "os.listdir('/anvar/public_datasets/preproc_study/bgpd/1_reg/1360_18/T1.nii.gz')"
   ]
  },
  {
   "cell_type": "code",
   "execution_count": null,
   "metadata": {},
   "outputs": [],
   "source": [
    "pydeface /anvar/public_datasets/preproc_study/bgpd/orig/1360_18/T1.nii.gz --outfile path /home/kate/projects/pydeface/T1.nii.gz"
   ]
  },
  {
   "cell_type": "code",
   "execution_count": 25,
   "metadata": {},
   "outputs": [
    {
     "name": "stderr",
     "output_type": "stream",
     "text": [
      "\r",
      "  0%|          | 0/181 [00:00<?, ?it/s]"
     ]
    },
    {
     "name": "stdout",
     "output_type": "stream",
     "text": [
      "/home/kate/projects/qc_preprocessing/3b_n4_bgpd/\n"
     ]
    },
    {
     "name": "stderr",
     "output_type": "stream",
     "text": [
      " 92%|█████████▏| 166/181 [07:26<00:43,  2.93s/it]"
     ]
    },
    {
     "name": "stdout",
     "output_type": "stream",
     "text": [
      "File /anvar/public_datasets/preproc_study/bgpd/3b_n4/logging.txt/FLAIR.nii.gz does not exist! logging.txt\n"
     ]
    },
    {
     "name": "stderr",
     "output_type": "stream",
     "text": [
      "100%|██████████| 181/181 [08:03<00:00,  2.67s/it]\n"
     ]
    }
   ],
   "source": [
    "import tqdm\n",
    "path = '3b_n4'\n",
    "\n",
    "print('/home/kate/projects/qc_preprocessing/{}_bgpd/'.format(path))\n",
    "os.makedirs('/home/kate/projects/qc_preprocessing/{}_bgpd/'.format(path), exist_ok = True)\n",
    "\n",
    "def plot_qc(image, mask, patient_id):\n",
    "    fig, axs = plt.subplots(3,3,figsize=(12,12))\n",
    "    idx = np.argsort(mask.sum(axis=(0,1)))[-3:]\n",
    "    for i in range(3):\n",
    "        axs[i, 0].imshow(image[..., idx[i]], cmap='gray')\n",
    "        axs[i, 1].imshow(mask[..., idx[i]], cmap='gray')\n",
    "        axs[i, 2].imshow(image[..., idx[i]]+200*mask[..., idx[i]], cmap='gray')\n",
    "    axs[0,0].set_title(patient_id)\n",
    "    plt.tight_layout()\n",
    "    plt.savefig(f'/home/kate/projects/qc_preprocessing/{path}_bgpd/{patient_id}.png', dpi=300)\n",
    "    plt.plot()\n",
    "    plt.close(fig)\n",
    "\n",
    "output = '/anvar/public_datasets/preproc_study/bgpd/{}/'.format(path)\n",
    "\n",
    "for patient in tqdm.tqdm(os.listdir(output)):\n",
    "    try:\n",
    "        im = ants.image_read(output + patient +'/FLAIR.nii.gz')\n",
    "        mask = ants.image_read(output + patient +'/mask_GTV_FLAIR.nii.gz')\n",
    "        plot_qc(im, mask, patient_id=str(patient))\n",
    "    except Exception as e:\n",
    "        print(e, patient)"
   ]
  },
  {
   "cell_type": "code",
   "execution_count": 18,
   "metadata": {},
   "outputs": [
    {
     "ename": "SyntaxError",
     "evalue": "invalid syntax (3631221682.py, line 1)",
     "output_type": "error",
     "traceback": [
      "\u001b[0;36m  File \u001b[0;32m\"/tmp/ipykernel_588101/3631221682.py\"\u001b[0;36m, line \u001b[0;32m1\u001b[0m\n\u001b[0;31m    scp -r notebook_airi:/home/kate/projects/qc_preprocessing/5_ss_shared/ /mnt/d/\u001b[0m\n\u001b[0m           ^\u001b[0m\n\u001b[0;31mSyntaxError\u001b[0m\u001b[0;31m:\u001b[0m invalid syntax\n"
     ]
    }
   ],
   "source": [
    "scp -r notebook_airi:/home/kate/projects/qc_preprocessing/3d_susan_bgpd/ /mnt/d/"
   ]
  },
  {
   "cell_type": "code",
   "execution_count": 24,
   "metadata": {},
   "outputs": [
    {
     "ename": "ValueError",
     "evalue": "Cannot load file containing pickled data when allow_pickle=False",
     "output_type": "error",
     "traceback": [
      "\u001b[0;31m---------------------------------------------------------------------------\u001b[0m",
      "\u001b[0;31mValueError\u001b[0m                                Traceback (most recent call last)",
      "\u001b[0;32m/tmp/ipykernel_588101/138524987.py\u001b[0m in \u001b[0;36m<module>\u001b[0;34m\u001b[0m\n\u001b[0;32m----> 1\u001b[0;31m \u001b[0mnp\u001b[0m\u001b[0;34m.\u001b[0m\u001b[0mload\u001b[0m\u001b[0;34m(\u001b[0m\u001b[0;34m'/anvar/public_datasets/preproc_study/gbm/inference/2a_interp/predictions_best_epoch=76-dice_mean=68_92_task=22_fold=0_tta/TCGA-02-0116.npy.npz'\u001b[0m\u001b[0;34m)\u001b[0m\u001b[0;34m\u001b[0m\u001b[0;34m\u001b[0m\u001b[0m\n\u001b[0m",
      "\u001b[0;32m~/miniconda3/lib/python3.9/site-packages/numpy/lib/npyio.py\u001b[0m in \u001b[0;36mload\u001b[0;34m(file, mmap_mode, allow_pickle, fix_imports, encoding)\u001b[0m\n\u001b[1;32m    443\u001b[0m             \u001b[0;31m# Try a pickle\u001b[0m\u001b[0;34m\u001b[0m\u001b[0;34m\u001b[0m\u001b[0;34m\u001b[0m\u001b[0m\n\u001b[1;32m    444\u001b[0m             \u001b[0;32mif\u001b[0m \u001b[0;32mnot\u001b[0m \u001b[0mallow_pickle\u001b[0m\u001b[0;34m:\u001b[0m\u001b[0;34m\u001b[0m\u001b[0;34m\u001b[0m\u001b[0m\n\u001b[0;32m--> 445\u001b[0;31m                 raise ValueError(\"Cannot load file containing pickled data \"\n\u001b[0m\u001b[1;32m    446\u001b[0m                                  \"when allow_pickle=False\")\n\u001b[1;32m    447\u001b[0m             \u001b[0;32mtry\u001b[0m\u001b[0;34m:\u001b[0m\u001b[0;34m\u001b[0m\u001b[0;34m\u001b[0m\u001b[0m\n",
      "\u001b[0;31mValueError\u001b[0m: Cannot load file containing pickled data when allow_pickle=False"
     ]
    }
   ],
   "source": [
    "np.load('/anvar/public_datasets/preproc_study/gbm/inference/2a_interp/predictions_best_epoch=76-dice_mean=68_92_task=22_fold=0_tta/TCGA-02-0116.npy.npz')"
   ]
  },
  {
   "cell_type": "code",
   "execution_count": null,
   "metadata": {},
   "outputs": [],
   "source": []
  }
 ],
 "metadata": {
  "kernelspec": {
   "display_name": "Python 3 (ipykernel)",
   "language": "python",
   "name": "python3"
  },
  "language_info": {
   "codemirror_mode": {
    "name": "ipython",
    "version": 3
   },
   "file_extension": ".py",
   "mimetype": "text/x-python",
   "name": "python",
   "nbconvert_exporter": "python",
   "pygments_lexer": "ipython3",
   "version": "3.9.1"
  }
 },
 "nbformat": 4,
 "nbformat_minor": 4
}
