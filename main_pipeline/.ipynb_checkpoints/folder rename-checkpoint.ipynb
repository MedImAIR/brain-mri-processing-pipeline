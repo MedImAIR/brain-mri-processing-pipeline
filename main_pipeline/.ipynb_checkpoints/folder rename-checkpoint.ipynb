{
 "cells": [
  {
   "cell_type": "code",
   "execution_count": 1,
   "metadata": {},
   "outputs": [],
   "source": [
    "import os, glob, shutil"
   ]
  },
  {
   "cell_type": "code",
   "execution_count": 3,
   "metadata": {},
   "outputs": [
    {
     "data": {
      "text/plain": [
       "102"
      ]
     },
     "execution_count": 3,
     "metadata": {},
     "output_type": "execute_result"
    }
   ],
   "source": [
    "base_folder = '/anvar/public_datasets/tcia/Pre-operative_TCGA_GBM_NIfTI_and_Segmentations/'\n",
    "\n",
    "len(glob.glob(base_folder +'/*/*t1Gd*'))"
   ]
  },
  {
   "cell_type": "code",
   "execution_count": 27,
   "metadata": {},
   "outputs": [],
   "source": [
    "for i in os.listdir(base_folder):\n",
    "    if len(glob.glob(base_folder + i + '/CT1_SEG.nii.gz'))== 0:\n",
    "        print(i)\n",
    "        print(os.listdir(base_folder+ i))\n",
    "#         os.rename(glob.glob(base_folder + i + '/*GlistrBoost.nii.gz')[0], base_folder + i + '/CT1_SEG.nii.gz')"
   ]
  },
  {
   "cell_type": "code",
   "execution_count": 21,
   "metadata": {},
   "outputs": [
    {
     "name": "stdout",
     "output_type": "stream",
     "text": [
      "[]\n",
      "[]\n",
      "[]\n",
      "[]\n",
      "[]\n",
      "[]\n",
      "[]\n",
      "[]\n",
      "[]\n",
      "[]\n",
      "[]\n",
      "[]\n",
      "[]\n",
      "[]\n",
      "['/anvar/public_datasets/tcia/Pre-operative_TCGA_GBM_NIfTI_and_Segmentations/TCGA-06-5408/TCGA-06-5408_2008.01.11_GlistrBoost_ManuallyCorrected.nii.gz']\n",
      "['/anvar/public_datasets/tcia/Pre-operative_TCGA_GBM_NIfTI_and_Segmentations/TCGA-02-0116/TCGA-02-0116_1997.03.22_GlistrBoost_ManuallyCorrected.nii.gz']\n",
      "['/anvar/public_datasets/tcia/Pre-operative_TCGA_GBM_NIfTI_and_Segmentations/TCGA-06-0188/TCGA-06-0188_2004.07.17_GlistrBoost_ManuallyCorrected.nii.gz']\n",
      "['/anvar/public_datasets/tcia/Pre-operative_TCGA_GBM_NIfTI_and_Segmentations/TCGA-76-6661/TCGA-76-6661_2001.12.08_GlistrBoost_ManuallyCorrected.nii.gz']\n",
      "['/anvar/public_datasets/tcia/Pre-operative_TCGA_GBM_NIfTI_and_Segmentations/TCGA-02-0047/TCGA-02-0047_1998.12.15_GlistrBoost_ManuallyCorrected.nii.gz']\n",
      "[]\n",
      "['/anvar/public_datasets/tcia/Pre-operative_TCGA_GBM_NIfTI_and_Segmentations/TCGA-02-0064/TCGA-02-0064_1999.08.08_GlistrBoost_ManuallyCorrected.nii.gz']\n",
      "['/anvar/public_datasets/tcia/Pre-operative_TCGA_GBM_NIfTI_and_Segmentations/TCGA-14-1825/TCGA-14-1825_2000.02.10_GlistrBoost_ManuallyCorrected.nii.gz']\n",
      "['/anvar/public_datasets/tcia/Pre-operative_TCGA_GBM_NIfTI_and_Segmentations/TCGA-06-0162/TCGA-06-0162_1998.12.07_GlistrBoost_ManuallyCorrected.nii.gz']\n",
      "['/anvar/public_datasets/tcia/Pre-operative_TCGA_GBM_NIfTI_and_Segmentations/TCGA-02-0033/TCGA-02-0033_1997.05.26_GlistrBoost_ManuallyCorrected.nii.gz']\n",
      "['/anvar/public_datasets/tcia/Pre-operative_TCGA_GBM_NIfTI_and_Segmentations/TCGA-08-0359/TCGA-08-0359_2003.01.19_GlistrBoost_ManuallyCorrected.nii.gz']\n",
      "['/anvar/public_datasets/tcia/Pre-operative_TCGA_GBM_NIfTI_and_Segmentations/TCGA-02-0054/TCGA-02-0054_1999.05.16_GlistrBoost_ManuallyCorrected.nii.gz']\n",
      "['/anvar/public_datasets/tcia/Pre-operative_TCGA_GBM_NIfTI_and_Segmentations/TCGA-06-0184/TCGA-06-0184_2003.07.13_GlistrBoost_ManuallyCorrected.nii.gz']\n",
      "['/anvar/public_datasets/tcia/Pre-operative_TCGA_GBM_NIfTI_and_Segmentations/TCGA-12-1601/TCGA-12-1601_2000.06.19_GlistrBoost_ManuallyCorrected.nii.gz']\n",
      "['/anvar/public_datasets/tcia/Pre-operative_TCGA_GBM_NIfTI_and_Segmentations/TCGA-06-5413/TCGA-06-5413_2008.06.17_GlistrBoost_ManuallyCorrected.nii.gz']\n",
      "['/anvar/public_datasets/tcia/Pre-operative_TCGA_GBM_NIfTI_and_Segmentations/TCGA-76-6191/TCGA-76-6191_2000.10.20_GlistrBoost_ManuallyCorrected.nii.gz']\n",
      "['/anvar/public_datasets/tcia/Pre-operative_TCGA_GBM_NIfTI_and_Segmentations/TCGA-02-0075/TCGA-02-0075_1999.09.24_GlistrBoost_ManuallyCorrected.nii.gz']\n",
      "['/anvar/public_datasets/tcia/Pre-operative_TCGA_GBM_NIfTI_and_Segmentations/TCGA-06-0177/TCGA-06-0177_2002.05.25_GlistrBoost_ManuallyCorrected.nii.gz']\n",
      "['/anvar/public_datasets/tcia/Pre-operative_TCGA_GBM_NIfTI_and_Segmentations/TCGA-06-0154/TCGA-06-0154_1996.04.05_GlistrBoost_ManuallyCorrected.nii.gz']\n",
      "['/anvar/public_datasets/tcia/Pre-operative_TCGA_GBM_NIfTI_and_Segmentations/TCGA-06-0179/TCGA-06-0179_2002.07.27_GlistrBoost_ManuallyCorrected.nii.gz']\n",
      "['/anvar/public_datasets/tcia/Pre-operative_TCGA_GBM_NIfTI_and_Segmentations/TCGA-19-5951/TCGA-19-5951_2003.09.14_GlistrBoost_ManuallyCorrected.nii.gz']\n",
      "['/anvar/public_datasets/tcia/Pre-operative_TCGA_GBM_NIfTI_and_Segmentations/TCGA-12-1598/TCGA-12-1598_1999.08.23_GlistrBoost_ManuallyCorrected.nii.gz']\n",
      "['/anvar/public_datasets/tcia/Pre-operative_TCGA_GBM_NIfTI_and_Segmentations/TCGA-12-0616/TCGA-12-0616_1999.04.12_GlistrBoost_ManuallyCorrected.nii.gz']\n",
      "[]\n",
      "['/anvar/public_datasets/tcia/Pre-operative_TCGA_GBM_NIfTI_and_Segmentations/TCGA-06-1084/TCGA-06-1084_2007.01.15_GlistrBoost_ManuallyCorrected.nii.gz']\n",
      "['/anvar/public_datasets/tcia/Pre-operative_TCGA_GBM_NIfTI_and_Segmentations/TCGA-12-0829/TCGA-12-0829_1999.06.02_GlistrBoost_ManuallyCorrected.nii.gz']\n",
      "['/anvar/public_datasets/tcia/Pre-operative_TCGA_GBM_NIfTI_and_Segmentations/TCGA-76-4932/TCGA-76-4932_1997.03.16_GlistrBoost_ManuallyCorrected.nii.gz']\n",
      "['/anvar/public_datasets/tcia/Pre-operative_TCGA_GBM_NIfTI_and_Segmentations/TCGA-02-0068/TCGA-02-0068_2000.05.16_GlistrBoost_ManuallyCorrected.nii.gz']\n",
      "['/anvar/public_datasets/tcia/Pre-operative_TCGA_GBM_NIfTI_and_Segmentations/TCGA-76-6282/TCGA-76-6282_1998.08.24_GlistrBoost_ManuallyCorrected.nii.gz']\n",
      "['/anvar/public_datasets/tcia/Pre-operative_TCGA_GBM_NIfTI_and_Segmentations/TCGA-08-0385/TCGA-08-0385_2001.08.27_GlistrBoost_ManuallyCorrected.nii.gz']\n",
      "['/anvar/public_datasets/tcia/Pre-operative_TCGA_GBM_NIfTI_and_Segmentations/TCGA-12-1098/TCGA-12-1098_2000.07.23_GlistrBoost_ManuallyCorrected.nii.gz']\n",
      "['/anvar/public_datasets/tcia/Pre-operative_TCGA_GBM_NIfTI_and_Segmentations/TCGA-08-0512/TCGA-08-0512_1998.05.25_GlistrBoost_ManuallyCorrected.nii.gz']\n",
      "['/anvar/public_datasets/tcia/Pre-operative_TCGA_GBM_NIfTI_and_Segmentations/TCGA-08-0389/TCGA-08-0389_2003.07.25_GlistrBoost_ManuallyCorrected.nii.gz']\n",
      "['/anvar/public_datasets/tcia/Pre-operative_TCGA_GBM_NIfTI_and_Segmentations/TCGA-14-1794/TCGA-14-1794_1998.04.11_GlistrBoost_ManuallyCorrected.nii.gz']\n",
      "['/anvar/public_datasets/tcia/Pre-operative_TCGA_GBM_NIfTI_and_Segmentations/TCGA-19-1789/TCGA-19-1789_2002.08.10_GlistrBoost_ManuallyCorrected.nii.gz']\n",
      "['/anvar/public_datasets/tcia/Pre-operative_TCGA_GBM_NIfTI_and_Segmentations/TCGA-02-0009/TCGA-02-0009_1997.06.14_GlistrBoost_ManuallyCorrected.nii.gz']\n",
      "['/anvar/public_datasets/tcia/Pre-operative_TCGA_GBM_NIfTI_and_Segmentations/TCGA-06-0122/TCGA-06-0122_2004.09.14_GlistrBoost_ManuallyCorrected.nii.gz']\n",
      "['/anvar/public_datasets/tcia/Pre-operative_TCGA_GBM_NIfTI_and_Segmentations/TCGA-08-0355/TCGA-08-0355_2001.06.06_GlistrBoost_ManuallyCorrected.nii.gz']\n",
      "['/anvar/public_datasets/tcia/Pre-operative_TCGA_GBM_NIfTI_and_Segmentations/TCGA-06-6389/TCGA-06-6389_2009.04.04_GlistrBoost_ManuallyCorrected.nii.gz']\n",
      "['/anvar/public_datasets/tcia/Pre-operative_TCGA_GBM_NIfTI_and_Segmentations/TCGA-06-0190/TCGA-06-0190_2004.12.10_GlistrBoost_ManuallyCorrected.nii.gz']\n",
      "['/anvar/public_datasets/tcia/Pre-operative_TCGA_GBM_NIfTI_and_Segmentations/TCGA-06-0192/TCGA-06-0192_2005.04.08_GlistrBoost_ManuallyCorrected.nii.gz']\n",
      "['/anvar/public_datasets/tcia/Pre-operative_TCGA_GBM_NIfTI_and_Segmentations/TCGA-02-0027/TCGA-02-0027_1999.03.28_GlistrBoost_ManuallyCorrected.nii.gz']\n",
      "['/anvar/public_datasets/tcia/Pre-operative_TCGA_GBM_NIfTI_and_Segmentations/TCGA-06-0137/TCGA-06-0137_2001.12.24_GlistrBoost_ManuallyCorrected.nii.gz']\n",
      "['/anvar/public_datasets/tcia/Pre-operative_TCGA_GBM_NIfTI_and_Segmentations/TCGA-12-0776/TCGA-12-0776_1998.05.12_GlistrBoost_ManuallyCorrected.nii.gz']\n",
      "['/anvar/public_datasets/tcia/Pre-operative_TCGA_GBM_NIfTI_and_Segmentations/TCGA-76-6657/TCGA-76-6657_2001.06.11_GlistrBoost_ManuallyCorrected.nii.gz']\n",
      "['/anvar/public_datasets/tcia/Pre-operative_TCGA_GBM_NIfTI_and_Segmentations/TCGA-06-0176/TCGA-06-0176_2002.04.09_GlistrBoost_ManuallyCorrected.nii.gz']\n",
      "['/anvar/public_datasets/tcia/Pre-operative_TCGA_GBM_NIfTI_and_Segmentations/TCGA-08-0356/TCGA-08-0356_2002.03.26_GlistrBoost_ManuallyCorrected.nii.gz']\n",
      "['/anvar/public_datasets/tcia/Pre-operative_TCGA_GBM_NIfTI_and_Segmentations/TCGA-76-6662/TCGA-76-6662_2001.12.13_GlistrBoost_ManuallyCorrected.nii.gz']\n",
      "['/anvar/public_datasets/tcia/Pre-operative_TCGA_GBM_NIfTI_and_Segmentations/TCGA-08-0522/TCGA-08-0522_2000.04.24_GlistrBoost_ManuallyCorrected.nii.gz']\n",
      "['/anvar/public_datasets/tcia/Pre-operative_TCGA_GBM_NIfTI_and_Segmentations/TCGA-06-1802/TCGA-06-1802_2007.04.03_GlistrBoost_ManuallyCorrected.nii.gz']\n",
      "['/anvar/public_datasets/tcia/Pre-operative_TCGA_GBM_NIfTI_and_Segmentations/TCGA-19-5960/TCGA-19-5960_2004.03.15_GlistrBoost_ManuallyCorrected.nii.gz']\n",
      "['/anvar/public_datasets/tcia/Pre-operative_TCGA_GBM_NIfTI_and_Segmentations/TCGA-08-0390/TCGA-08-0390_2003.08.05_GlistrBoost_ManuallyCorrected.nii.gz']\n",
      "['/anvar/public_datasets/tcia/Pre-operative_TCGA_GBM_NIfTI_and_Segmentations/TCGA-14-1456/TCGA-14-1456_1999.04.22_GlistrBoost_ManuallyCorrected.nii.gz']\n",
      "['/anvar/public_datasets/tcia/Pre-operative_TCGA_GBM_NIfTI_and_Segmentations/TCGA-06-0158/TCGA-06-0158_1996.09.05_GlistrBoost_ManuallyCorrected.nii.gz']\n",
      "['/anvar/public_datasets/tcia/Pre-operative_TCGA_GBM_NIfTI_and_Segmentations/TCGA-06-0139/TCGA-06-0139_2004.06.10_GlistrBoost_ManuallyCorrected.nii.gz']\n",
      "[]\n",
      "['/anvar/public_datasets/tcia/Pre-operative_TCGA_GBM_NIfTI_and_Segmentations/TCGA-76-4935/TCGA-76-4935_2001.01.22_GlistrBoost_ManuallyCorrected.nii.gz']\n",
      "['/anvar/public_datasets/tcia/Pre-operative_TCGA_GBM_NIfTI_and_Segmentations/TCGA-14-3477/TCGA-14-3477_2002.05.01_GlistrBoost_ManuallyCorrected.nii.gz']\n",
      "['/anvar/public_datasets/tcia/Pre-operative_TCGA_GBM_NIfTI_and_Segmentations/TCGA-02-0106/TCGA-02-0106_1998.10.30_GlistrBoost_ManuallyCorrected.nii.gz']\n",
      "['/anvar/public_datasets/tcia/Pre-operative_TCGA_GBM_NIfTI_and_Segmentations/TCGA-06-0644/TCGA-06-0644_2005.11.28_GlistrBoost_ManuallyCorrected.nii.gz']\n",
      "['/anvar/public_datasets/tcia/Pre-operative_TCGA_GBM_NIfTI_and_Segmentations/TCGA-19-0963/TCGA-19-0963_2001.10.12_GlistrBoost_ManuallyCorrected.nii.gz']\n",
      "['/anvar/public_datasets/tcia/Pre-operative_TCGA_GBM_NIfTI_and_Segmentations/TCGA-06-0187/TCGA-06-0187_2004.07.07_GlistrBoost_ManuallyCorrected.nii.gz']\n",
      "['/anvar/public_datasets/tcia/Pre-operative_TCGA_GBM_NIfTI_and_Segmentations/TCGA-76-6664/TCGA-76-6664_2002.01.10_GlistrBoost_ManuallyCorrected.nii.gz']\n",
      "['/anvar/public_datasets/tcia/Pre-operative_TCGA_GBM_NIfTI_and_Segmentations/TCGA-76-6663/TCGA-76-6663_2001.12.27_GlistrBoost_ManuallyCorrected.nii.gz']\n",
      "['/anvar/public_datasets/tcia/Pre-operative_TCGA_GBM_NIfTI_and_Segmentations/TCGA-76-6285/TCGA-76-6285_1998.12.19_GlistrBoost_ManuallyCorrected.nii.gz']\n",
      "['/anvar/public_datasets/tcia/Pre-operative_TCGA_GBM_NIfTI_and_Segmentations/TCGA-76-4934/TCGA-76-4934_2000.10.08_GlistrBoost_ManuallyCorrected.nii.gz']\n",
      "['/anvar/public_datasets/tcia/Pre-operative_TCGA_GBM_NIfTI_and_Segmentations/TCGA-02-0087/TCGA-02-0087_1999.12.13_GlistrBoost_ManuallyCorrected.nii.gz']\n",
      "['/anvar/public_datasets/tcia/Pre-operative_TCGA_GBM_NIfTI_and_Segmentations/TCGA-08-0392/TCGA-08-0392_2003.11.03_GlistrBoost_ManuallyCorrected.nii.gz']\n",
      "['/anvar/public_datasets/tcia/Pre-operative_TCGA_GBM_NIfTI_and_Segmentations/TCGA-02-0085/TCGA-02-0085_1999.01.30_GlistrBoost_ManuallyCorrected.nii.gz']\n",
      "['/anvar/public_datasets/tcia/Pre-operative_TCGA_GBM_NIfTI_and_Segmentations/TCGA-06-0185/TCGA-06-0185_2003.11.07_GlistrBoost_ManuallyCorrected.nii.gz']\n",
      "['/anvar/public_datasets/tcia/Pre-operative_TCGA_GBM_NIfTI_and_Segmentations/TCGA-06-0130/TCGA-06-0130_2001.09.11_GlistrBoost_ManuallyCorrected.nii.gz']\n",
      "['/anvar/public_datasets/tcia/Pre-operative_TCGA_GBM_NIfTI_and_Segmentations/TCGA-06-0240/TCGA-06-0240_2005.07.02_GlistrBoost_ManuallyCorrected.nii.gz']\n",
      "['/anvar/public_datasets/tcia/Pre-operative_TCGA_GBM_NIfTI_and_Segmentations/TCGA-02-0034/TCGA-02-0034_1997.07.27_GlistrBoost_ManuallyCorrected.nii.gz']\n",
      "['/anvar/public_datasets/tcia/Pre-operative_TCGA_GBM_NIfTI_and_Segmentations/TCGA-06-0149/TCGA-06-0149_2003.03.25_GlistrBoost_ManuallyCorrected.nii.gz']\n",
      "['/anvar/public_datasets/tcia/Pre-operative_TCGA_GBM_NIfTI_and_Segmentations/TCGA-02-0011/TCGA-02-0011_1998.02.01_GlistrBoost_ManuallyCorrected.nii.gz']\n",
      "['/anvar/public_datasets/tcia/Pre-operative_TCGA_GBM_NIfTI_and_Segmentations/TCGA-06-0138/TCGA-06-0138_2002.11.25_GlistrBoost_ManuallyCorrected.nii.gz']\n",
      "['/anvar/public_datasets/tcia/Pre-operative_TCGA_GBM_NIfTI_and_Segmentations/TCGA-76-6280/TCGA-76-6280_1998.07.21_GlistrBoost_ManuallyCorrected.nii.gz']\n",
      "['/anvar/public_datasets/tcia/Pre-operative_TCGA_GBM_NIfTI_and_Segmentations/TCGA-19-5954/TCGA-19-5954_2003.12.30_GlistrBoost_ManuallyCorrected.nii.gz']\n",
      "['/anvar/public_datasets/tcia/Pre-operative_TCGA_GBM_NIfTI_and_Segmentations/TCGA-76-6193/TCGA-76-6193_2001.06.02_GlistrBoost_ManuallyCorrected.nii.gz']\n",
      "['/anvar/public_datasets/tcia/Pre-operative_TCGA_GBM_NIfTI_and_Segmentations/TCGA-06-0164/TCGA-06-0164_1999.02.17_GlistrBoost_ManuallyCorrected.nii.gz']\n",
      "['/anvar/public_datasets/tcia/Pre-operative_TCGA_GBM_NIfTI_and_Segmentations/TCGA-06-5417/TCGA-06-5417_2008.09.03_GlistrBoost_ManuallyCorrected.nii.gz']\n",
      "['/anvar/public_datasets/tcia/Pre-operative_TCGA_GBM_NIfTI_and_Segmentations/TCGA-19-5958/TCGA-19-5958_2004.03.09_GlistrBoost_ManuallyCorrected.nii.gz']\n",
      "['/anvar/public_datasets/tcia/Pre-operative_TCGA_GBM_NIfTI_and_Segmentations/TCGA-76-6656/TCGA-76-6656_2001.06.02_GlistrBoost_ManuallyCorrected.nii.gz']\n",
      "['/anvar/public_datasets/tcia/Pre-operative_TCGA_GBM_NIfTI_and_Segmentations/TCGA-06-0646/TCGA-06-0646_2005.12.09_GlistrBoost_ManuallyCorrected.nii.gz']\n",
      "['/anvar/public_datasets/tcia/Pre-operative_TCGA_GBM_NIfTI_and_Segmentations/TCGA-02-0046/TCGA-02-0046_1998.11.28_GlistrBoost_ManuallyCorrected.nii.gz']\n",
      "['/anvar/public_datasets/tcia/Pre-operative_TCGA_GBM_NIfTI_and_Segmentations/TCGA-06-0142/TCGA-06-0142_2000.03.11_GlistrBoost_ManuallyCorrected.nii.gz']\n",
      "['/anvar/public_datasets/tcia/Pre-operative_TCGA_GBM_NIfTI_and_Segmentations/TCGA-02-0037/TCGA-02-0037_1998.01.13_GlistrBoost_ManuallyCorrected.nii.gz']\n",
      "[]\n"
     ]
    }
   ],
   "source": [
    "for i in os.listdir(base_folder):\n",
    "    print(glob.glob(base_folder + i + '/*_ManuallyCorrected.nii.gz'))\n",
    "    try:\n",
    "        os.rename(glob.glob(base_folder + i + '/*_ManuallyCorrected.nii.gz')[0], base_folder + i + '/CT1_SEG.nii.gz')\n",
    "    except:\n",
    "        pass"
   ]
  },
  {
   "cell_type": "code",
   "execution_count": 24,
   "metadata": {},
   "outputs": [
    {
     "data": {
      "text/plain": [
       "97"
      ]
     },
     "execution_count": 24,
     "metadata": {},
     "output_type": "execute_result"
    }
   ],
   "source": [
    "len(glob.glob(base_folder +'/*/CT1_SEG.nii.gz'))"
   ]
  },
  {
   "cell_type": "code",
   "execution_count": 28,
   "metadata": {},
   "outputs": [],
   "source": [
    "from glob2 import glob"
   ]
  },
  {
   "cell_type": "code",
   "execution_count": 31,
   "metadata": {
    "scrolled": true
   },
   "outputs": [
    {
     "data": {
      "text/plain": [
       "['TCGA-02-0086',\n",
       " 'TCGA-02-0102',\n",
       " 'TCGA-02-0059',\n",
       " 'TCGA-02-0069',\n",
       " 'TCGA-19-2624',\n",
       " 'TCGA-06-0182',\n",
       " 'TCGA-08-0360',\n",
       " 'TCGA-02-0006',\n",
       " 'TCGA-19-2631',\n",
       " 'TCGA-12-1094',\n",
       " 'TCGA-06-2570',\n",
       " 'TCGA-06-0119',\n",
       " 'TCGA-06-0145',\n",
       " 'TCGA-08-0509',\n",
       " 'TCGA-06-5408',\n",
       " 'TCGA-02-0116',\n",
       " 'TCGA-06-0188',\n",
       " 'TCGA-76-6661',\n",
       " 'TCGA-02-0047',\n",
       " 'TCGA-12-3650',\n",
       " 'TCGA-02-0064',\n",
       " 'TCGA-14-1825',\n",
       " 'TCGA-06-0162',\n",
       " 'TCGA-02-0033',\n",
       " 'TCGA-08-0359',\n",
       " 'TCGA-02-0054',\n",
       " 'TCGA-06-0184',\n",
       " 'TCGA-12-1601',\n",
       " 'TCGA-06-5413',\n",
       " 'TCGA-76-6191',\n",
       " 'TCGA-02-0075',\n",
       " 'TCGA-06-0177',\n",
       " 'TCGA-06-0154',\n",
       " 'TCGA-06-0179',\n",
       " 'TCGA-19-5951',\n",
       " 'TCGA-12-1598',\n",
       " 'TCGA-12-0616',\n",
       " 'TCGA-02-0070',\n",
       " 'TCGA-06-1084',\n",
       " 'TCGA-12-0829',\n",
       " 'TCGA-76-4932',\n",
       " 'TCGA-02-0068',\n",
       " 'TCGA-76-6282',\n",
       " 'TCGA-08-0385',\n",
       " 'TCGA-12-1098',\n",
       " 'TCGA-08-0512',\n",
       " 'TCGA-08-0389',\n",
       " 'TCGA-14-1794',\n",
       " 'TCGA-19-1789',\n",
       " 'TCGA-02-0009',\n",
       " 'TCGA-06-0122',\n",
       " 'TCGA-08-0355',\n",
       " 'TCGA-06-6389',\n",
       " 'TCGA-06-0190',\n",
       " 'TCGA-06-0192',\n",
       " 'TCGA-02-0027',\n",
       " 'TCGA-06-0137',\n",
       " 'TCGA-12-0776',\n",
       " 'TCGA-76-6657',\n",
       " 'TCGA-06-0176',\n",
       " 'TCGA-08-0356',\n",
       " 'TCGA-76-6662',\n",
       " 'TCGA-08-0522',\n",
       " 'TCGA-06-1802',\n",
       " 'TCGA-19-5960',\n",
       " 'TCGA-08-0390',\n",
       " 'TCGA-14-1456',\n",
       " 'TCGA-06-0158',\n",
       " 'TCGA-06-0139',\n",
       " 'TCGA-06-0238',\n",
       " 'TCGA-76-4935',\n",
       " 'TCGA-14-3477',\n",
       " 'TCGA-02-0106',\n",
       " 'TCGA-06-0644',\n",
       " 'TCGA-19-0963',\n",
       " 'TCGA-06-0187',\n",
       " 'TCGA-76-6664',\n",
       " 'TCGA-76-6663',\n",
       " 'TCGA-76-6285',\n",
       " 'TCGA-76-4934',\n",
       " 'TCGA-02-0087',\n",
       " 'TCGA-08-0392',\n",
       " 'TCGA-02-0085',\n",
       " 'TCGA-06-0185',\n",
       " 'TCGA-06-0130',\n",
       " 'TCGA-06-0240',\n",
       " 'TCGA-02-0034',\n",
       " 'TCGA-06-0149',\n",
       " 'TCGA-02-0011',\n",
       " 'TCGA-06-0138',\n",
       " 'TCGA-76-6280',\n",
       " 'TCGA-19-5954',\n",
       " 'TCGA-76-6193',\n",
       " 'TCGA-06-0164',\n",
       " 'TCGA-06-5417',\n",
       " 'TCGA-19-5958',\n",
       " 'TCGA-76-6656',\n",
       " 'TCGA-06-0646',\n",
       " 'TCGA-02-0046',\n",
       " 'logging.txt',\n",
       " 'TCGA-06-0142',\n",
       " 'TCGA-02-0037',\n",
       " 'TCGA-08-0520']"
      ]
     },
     "execution_count": 31,
     "metadata": {},
     "output_type": "execute_result"
    }
   ],
   "source": [
    "os.listdir('/anvar/public_datasets/preproc_study/gbm/1_reg/')"
   ]
  },
  {
   "cell_type": "code",
   "execution_count": 37,
   "metadata": {},
   "outputs": [],
   "source": [
    "for i in glob('/anvar/public_datasets/preproc_study/**/logging.txt/'):\n",
    "    print(i)"
   ]
  },
  {
   "cell_type": "code",
   "execution_count": 38,
   "metadata": {},
   "outputs": [],
   "source": [
    "import pandas as pd\n",
    "\n",
    "data = pd.read_csv('utils/paths_to_csv.txt', header = None)"
   ]
  },
  {
   "cell_type": "code",
   "execution_count": 40,
   "metadata": {},
   "outputs": [
    {
     "data": {
      "text/plain": [
       "'/mnt/experiments/gbm_infer/6_histogram_fold_2/metrics_gbm_6_histogram_fold_2_fold-2.csv'"
      ]
     },
     "execution_count": 40,
     "metadata": {},
     "output_type": "execute_result"
    }
   ],
   "source": [
    "data[0].iloc[0] "
   ]
  },
  {
   "cell_type": "code",
   "execution_count": null,
   "metadata": {},
   "outputs": [],
   "source": []
  },
  {
   "cell_type": "code",
   "execution_count": null,
   "metadata": {},
   "outputs": [],
   "source": [
    "base_command = \"\"\"scp -r gpu_server_kate:{path} ./log_gbm/results/ \"\"\"\n",
    "for i in tqdm(range(0,len(data)):\n",
    "    print(data[0].iloc[i])\n",
    "    command_to_run = base_command.format(subject = patient)\n",
    "    command_to_run = shlex.split(command_to_run)\n",
    "    process = subprocess.Popen(command_to_run,shell=False)\n",
    "    time.sleep(1)"
   ]
  }
 ],
 "metadata": {
  "kernelspec": {
   "display_name": "Python 3 (ipykernel)",
   "language": "python",
   "name": "python3"
  },
  "language_info": {
   "codemirror_mode": {
    "name": "ipython",
    "version": 3
   },
   "file_extension": ".py",
   "mimetype": "text/x-python",
   "name": "python",
   "nbconvert_exporter": "python",
   "pygments_lexer": "ipython3",
   "version": "3.9.1"
  }
 },
 "nbformat": 4,
 "nbformat_minor": 4
}
