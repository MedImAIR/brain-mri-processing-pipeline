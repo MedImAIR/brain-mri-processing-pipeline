{
 "cells": [
  {
   "cell_type": "code",
   "execution_count": 2,
   "metadata": {},
   "outputs": [],
   "source": [
    "import os, sys\n",
    "import numpy as np\n",
    "import ants\n",
    "import argparse\n",
    "import shutil\n",
    "import logging\n",
    "import subprocess\n",
    "import tqdm\n",
    "import matplotlib.pyplot as plt \n",
    "import pandas as pd"
   ]
  },
  {
   "cell_type": "code",
   "execution_count": 10,
   "metadata": {},
   "outputs": [
    {
     "name": "stderr",
     "output_type": "stream",
     "text": [
      "\r",
      "  0%|          | 0/181 [00:00<?, ?it/s]"
     ]
    },
    {
     "name": "stdout",
     "output_type": "stream",
     "text": [
      "/home/kate/projects/qc_preprocessing/2a_interp_bgpd/\n"
     ]
    },
    {
     "name": "stderr",
     "output_type": "stream",
     "text": [
      " 92%|█████████▏| 166/181 [08:21<00:49,  3.31s/it]"
     ]
    },
    {
     "name": "stdout",
     "output_type": "stream",
     "text": [
      "File /anvar/public_datasets/preproc_study/bgpd/2a_interp/logging.txt/FLAIR.nii.gz does not exist! logging.txt\n"
     ]
    },
    {
     "name": "stderr",
     "output_type": "stream",
     "text": [
      "100%|██████████| 181/181 [09:08<00:00,  3.03s/it]\n"
     ]
    }
   ],
   "source": [
    "import tqdm\n",
    "path = '2a_interp'\n",
    "\n",
    "print('/home/kate/projects/qc_preprocessing/{}_bgpd/'.format(path))\n",
    "os.makedirs('/home/kate/projects/qc_preprocessing/{}_bgpd/'.format(path), exist_ok = True)\n",
    "\n",
    "def plot_qc(image, mask, patient_id):\n",
    "    fig, axs = plt.subplots(3,3,figsize=(12,12))\n",
    "    idx = np.argsort(mask.sum(axis=(0,1)))[-3:]\n",
    "    for i in range(3):\n",
    "        axs[i, 0].imshow(image[..., idx[i]], cmap='gray')\n",
    "        axs[i, 1].imshow(mask[..., idx[i]], cmap='gray')\n",
    "        axs[i, 2].imshow(image[..., idx[i]]+200*mask[..., idx[i]], cmap='gray')\n",
    "    axs[0,0].set_title(patient_id)\n",
    "    plt.tight_layout()\n",
    "    plt.savefig(f'/home/kate/projects/qc_preprocessing/{path}_bgpd/{patient_id}.png', dpi=300)\n",
    "    plt.plot()\n",
    "    plt.close(fig)\n",
    "\n",
    "output = '/anvar/public_datasets/preproc_study/bgpd/{}/'.format(path)\n",
    "\n",
    "for patient in tqdm.tqdm(os.listdir(output)):\n",
    "    try:\n",
    "        im = ants.image_read(output + patient +'/CT1.nii.gz')\n",
    "        mask = ants.image_read(output + patient +'/mask_GTV_FLAIR.nii.gz')\n",
    "        plot_qc(im, mask, patient_id=str(patient))\n",
    "    except Exception as e:\n",
    "        print(e, patient)"
   ]
  },
  {
   "cell_type": "code",
   "execution_count": null,
   "metadata": {},
   "outputs": [],
   "source": [
    "scp -r notebook_airi:/home/kate/projects/qc_preprocessing/2a_interp_bgpd/ /mnt/d/"
   ]
  },
  {
   "cell_type": "code",
   "execution_count": null,
   "metadata": {},
   "outputs": [],
   "source": []
  }
 ],
 "metadata": {
  "kernelspec": {
   "display_name": "Python 3 (ipykernel)",
   "language": "python",
   "name": "python3"
  },
  "language_info": {
   "codemirror_mode": {
    "name": "ipython",
    "version": 3
   },
   "file_extension": ".py",
   "mimetype": "text/x-python",
   "name": "python",
   "nbconvert_exporter": "python",
   "pygments_lexer": "ipython3",
   "version": "3.9.1"
  }
 },
 "nbformat": 4,
 "nbformat_minor": 4
}
